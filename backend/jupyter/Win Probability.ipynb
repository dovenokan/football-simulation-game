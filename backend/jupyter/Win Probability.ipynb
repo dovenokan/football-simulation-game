{
 "cells": [
  {
   "cell_type": "code",
   "execution_count": 326,
   "id": "6e5b86b8-6c5e-459f-9c59-8283f407df37",
   "metadata": {},
   "outputs": [],
   "source": [
    "import pandas as pd\n",
    "import numpy as np"
   ]
  },
  {
   "cell_type": "code",
   "execution_count": 327,
   "id": "96705a2f-5590-4b5b-82de-1181d8d4e648",
   "metadata": {},
   "outputs": [],
   "source": [
    "import warnings\n",
    "from sklearn.exceptions import UndefinedMetricWarning\n",
    "from pandas.errors import SettingWithCopyWarning\n",
    "warnings.filterwarnings(\"ignore\", category=UndefinedMetricWarning)\n",
    "warnings.simplefilter(action='ignore', category=(SettingWithCopyWarning))\n",
    "warnings.simplefilter(action='ignore', category=(FutureWarning))"
   ]
  },
  {
   "cell_type": "markdown",
   "id": "bb3bdcac-8486-45cc-bb6b-5111f8d1110d",
   "metadata": {},
   "source": [
    "<br><br><br><br>\n",
    "<h3 style=\"color:red;\">  Data</h3>"
   ]
  },
  {
   "cell_type": "code",
   "execution_count": 328,
   "id": "b7979ed2-3d5b-4daf-92e4-e06961a5b0fd",
   "metadata": {},
   "outputs": [],
   "source": [
    "team_ratings = pd.read_csv(\"players_db/fm23/team_ratings.csv\")\n",
    "matches = pd.read_csv(\"match_logs/Big5@22-23@misc.csv\")"
   ]
  },
  {
   "cell_type": "code",
   "execution_count": 329,
   "id": "4240faba-cc3e-4371-ab62-6733625c7fa8",
   "metadata": {},
   "outputs": [],
   "source": [
    "tpr = pd.merge(team_ratings, matches, how=\"inner\", left_on=\"fbref_name\", right_on=\"Opponent\").dropna()"
   ]
  },
  {
   "cell_type": "code",
   "execution_count": 330,
   "id": "002bf56a-cd4f-482b-b0c9-5f7cbed10cdb",
   "metadata": {},
   "outputs": [],
   "source": [
    "tpr2 = pd.merge(team_ratings, tpr, how=\"inner\", left_on=\"fbref_name\", right_on=\"Club_y\")\n",
    "tpr2 = tpr2.dropna()"
   ]
  },
  {
   "cell_type": "code",
   "execution_count": 331,
   "id": "715e0c02-2384-4332-8151-1d12f1adf8db",
   "metadata": {},
   "outputs": [],
   "source": [
    "def Match_Result(gf, ga):\n",
    "    if gf > ga:\n",
    "        return 1 # y\n",
    "    elif gf < ga:\n",
    "        return 2 # x\n",
    "    return 0"
   ]
  },
  {
   "cell_type": "code",
   "execution_count": 332,
   "id": "3d98c88a-9b17-4446-a536-7ad775f9dca7",
   "metadata": {},
   "outputs": [],
   "source": [
    "# tpr_data = tpr2[[\"tpr_x\",\"Club_x\",\"GA\",\"GF\",\"Club_y\",\"tpr_y\",\"match_result\",\"total_power\"]].sort_values(\"total_power\",ascending=False)"
   ]
  },
  {
   "cell_type": "code",
   "execution_count": 333,
   "id": "b401baed-e99d-40ee-9140-53ba84ce572e",
   "metadata": {},
   "outputs": [],
   "source": [
    "tpr2['match_result'] = tpr2.apply(lambda row: Match_Result(row['GF'], row['GA']), axis=1)\n",
    "tpr2[\"total_power\"] = tpr2[\"tpr_x\"] + tpr2[\"tpr_y\"]\n",
    "tpr2[\"tpr_diff\"] = abs(tpr2[\"tpr_x\"] - tpr2[\"tpr_y\"])"
   ]
  },
  {
   "cell_type": "code",
   "execution_count": 334,
   "id": "49e4dec6-ad36-4b76-a1d8-673576f7d05e",
   "metadata": {},
   "outputs": [
    {
     "data": {
      "text/html": [
       "<div>\n",
       "<style scoped>\n",
       "    .dataframe tbody tr th:only-of-type {\n",
       "        vertical-align: middle;\n",
       "    }\n",
       "\n",
       "    .dataframe tbody tr th {\n",
       "        vertical-align: top;\n",
       "    }\n",
       "\n",
       "    .dataframe thead th {\n",
       "        text-align: right;\n",
       "    }\n",
       "</style>\n",
       "<table border=\"1\" class=\"dataframe\">\n",
       "  <thead>\n",
       "    <tr style=\"text-align: right;\">\n",
       "      <th></th>\n",
       "      <th>Club</th>\n",
       "      <th>GK_x</th>\n",
       "      <th>Based_x</th>\n",
       "      <th>Division_x</th>\n",
       "      <th>Club_id_x</th>\n",
       "      <th>League_id_x</th>\n",
       "      <th>tpr_x</th>\n",
       "      <th>Anticipation_x</th>\n",
       "      <th>Teamwork_x</th>\n",
       "      <th>Concentration_x</th>\n",
       "      <th>...</th>\n",
       "      <th>Lost</th>\n",
       "      <th>Won%</th>\n",
       "      <th>Match Report</th>\n",
       "      <th>Club_y</th>\n",
       "      <th>AerAtt</th>\n",
       "      <th>unique_id</th>\n",
       "      <th>versus_id</th>\n",
       "      <th>match_result</th>\n",
       "      <th>total_power</th>\n",
       "      <th>tpr_diff</th>\n",
       "    </tr>\n",
       "  </thead>\n",
       "  <tbody>\n",
       "    <tr>\n",
       "      <th>38</th>\n",
       "      <td>Manchester City</td>\n",
       "      <td>72</td>\n",
       "      <td>England (Premier Division)</td>\n",
       "      <td>English Premier Division</td>\n",
       "      <td>6827</td>\n",
       "      <td>354</td>\n",
       "      <td>92</td>\n",
       "      <td>88</td>\n",
       "      <td>72</td>\n",
       "      <td>87</td>\n",
       "      <td>...</td>\n",
       "      <td>10.0</td>\n",
       "      <td>60.0</td>\n",
       "      <td>Match Report</td>\n",
       "      <td>Manchester City</td>\n",
       "      <td>25.0</td>\n",
       "      <td>-5319309333987468040</td>\n",
       "      <td>-7916786697725174214</td>\n",
       "      <td>2</td>\n",
       "      <td>180</td>\n",
       "      <td>4</td>\n",
       "    </tr>\n",
       "    <tr>\n",
       "      <th>39</th>\n",
       "      <td>Manchester City</td>\n",
       "      <td>72</td>\n",
       "      <td>England (Premier Division)</td>\n",
       "      <td>English Premier Division</td>\n",
       "      <td>6827</td>\n",
       "      <td>354</td>\n",
       "      <td>92</td>\n",
       "      <td>88</td>\n",
       "      <td>72</td>\n",
       "      <td>87</td>\n",
       "      <td>...</td>\n",
       "      <td>7.0</td>\n",
       "      <td>12.5</td>\n",
       "      <td>Match Report</td>\n",
       "      <td>Manchester City</td>\n",
       "      <td>8.0</td>\n",
       "      <td>-82253867363982334</td>\n",
       "      <td>-7916786697725174214</td>\n",
       "      <td>1</td>\n",
       "      <td>180</td>\n",
       "      <td>4</td>\n",
       "    </tr>\n",
       "    <tr>\n",
       "      <th>228</th>\n",
       "      <td>Arsenal</td>\n",
       "      <td>67</td>\n",
       "      <td>England (Premier Division)</td>\n",
       "      <td>English Premier Division</td>\n",
       "      <td>974</td>\n",
       "      <td>354</td>\n",
       "      <td>79</td>\n",
       "      <td>76</td>\n",
       "      <td>86</td>\n",
       "      <td>69</td>\n",
       "      <td>...</td>\n",
       "      <td>10.0</td>\n",
       "      <td>56.5</td>\n",
       "      <td>Match Report</td>\n",
       "      <td>Arsenal</td>\n",
       "      <td>23.0</td>\n",
       "      <td>751379412810615396</td>\n",
       "      <td>-8677165107972403016</td>\n",
       "      <td>1</td>\n",
       "      <td>167</td>\n",
       "      <td>9</td>\n",
       "    </tr>\n",
       "    <tr>\n",
       "      <th>229</th>\n",
       "      <td>Arsenal</td>\n",
       "      <td>67</td>\n",
       "      <td>England (Premier Division)</td>\n",
       "      <td>English Premier Division</td>\n",
       "      <td>974</td>\n",
       "      <td>354</td>\n",
       "      <td>79</td>\n",
       "      <td>76</td>\n",
       "      <td>86</td>\n",
       "      <td>69</td>\n",
       "      <td>...</td>\n",
       "      <td>14.0</td>\n",
       "      <td>48.1</td>\n",
       "      <td>Match Report</td>\n",
       "      <td>Arsenal</td>\n",
       "      <td>27.0</td>\n",
       "      <td>-7546657919555719831</td>\n",
       "      <td>-8677165107972403016</td>\n",
       "      <td>0</td>\n",
       "      <td>167</td>\n",
       "      <td>9</td>\n",
       "    </tr>\n",
       "    <tr>\n",
       "      <th>266</th>\n",
       "      <td>Chelsea</td>\n",
       "      <td>67</td>\n",
       "      <td>England (Premier Division)</td>\n",
       "      <td>English Premier Division</td>\n",
       "      <td>2432</td>\n",
       "      <td>354</td>\n",
       "      <td>85</td>\n",
       "      <td>88</td>\n",
       "      <td>88</td>\n",
       "      <td>87</td>\n",
       "      <td>...</td>\n",
       "      <td>12.0</td>\n",
       "      <td>60.0</td>\n",
       "      <td>Match Report</td>\n",
       "      <td>Chelsea</td>\n",
       "      <td>30.0</td>\n",
       "      <td>5006086856189794680</td>\n",
       "      <td>8309748706328016917</td>\n",
       "      <td>0</td>\n",
       "      <td>173</td>\n",
       "      <td>3</td>\n",
       "    </tr>\n",
       "  </tbody>\n",
       "</table>\n",
       "<p>5 rows × 121 columns</p>\n",
       "</div>"
      ],
      "text/plain": [
       "                Club  GK_x                     Based_x  \\\n",
       "38   Manchester City    72  England (Premier Division)   \n",
       "39   Manchester City    72  England (Premier Division)   \n",
       "228          Arsenal    67  England (Premier Division)   \n",
       "229          Arsenal    67  England (Premier Division)   \n",
       "266          Chelsea    67  England (Premier Division)   \n",
       "\n",
       "                   Division_x  Club_id_x  League_id_x  tpr_x  Anticipation_x  \\\n",
       "38   English Premier Division       6827          354     92              88   \n",
       "39   English Premier Division       6827          354     92              88   \n",
       "228  English Premier Division        974          354     79              76   \n",
       "229  English Premier Division        974          354     79              76   \n",
       "266  English Premier Division       2432          354     85              88   \n",
       "\n",
       "     Teamwork_x  Concentration_x  ...  Lost  Won%  Match Report  \\\n",
       "38           72               87  ...  10.0  60.0  Match Report   \n",
       "39           72               87  ...   7.0  12.5  Match Report   \n",
       "228          86               69  ...  10.0  56.5  Match Report   \n",
       "229          86               69  ...  14.0  48.1  Match Report   \n",
       "266          88               87  ...  12.0  60.0  Match Report   \n",
       "\n",
       "              Club_y  AerAtt            unique_id            versus_id  \\\n",
       "38   Manchester City    25.0 -5319309333987468040 -7916786697725174214   \n",
       "39   Manchester City     8.0   -82253867363982334 -7916786697725174214   \n",
       "228          Arsenal    23.0   751379412810615396 -8677165107972403016   \n",
       "229          Arsenal    27.0 -7546657919555719831 -8677165107972403016   \n",
       "266          Chelsea    30.0  5006086856189794680  8309748706328016917   \n",
       "\n",
       "     match_result  total_power  tpr_diff  \n",
       "38              2          180         4  \n",
       "39              1          180         4  \n",
       "228             1          167         9  \n",
       "229             0          167         9  \n",
       "266             0          173         3  \n",
       "\n",
       "[5 rows x 121 columns]"
      ]
     },
     "execution_count": 334,
     "metadata": {},
     "output_type": "execute_result"
    }
   ],
   "source": [
    "tpr2.query(\"Club_x == 'Liverpool'\").head(n=5)"
   ]
  },
  {
   "cell_type": "code",
   "execution_count": 335,
   "id": "ca874c7b-95ab-41a3-9e63-80d145da6f7c",
   "metadata": {},
   "outputs": [
    {
     "data": {
      "text/plain": [
       "<Axes: xlabel='total_score', ylabel='Count'>"
      ]
     },
     "execution_count": 335,
     "metadata": {},
     "output_type": "execute_result"
    },
    {
     "data": {
      "image/png": "[encoded data removed]",
      "text/plain": [
       "<Figure size 1000x600 with 1 Axes>"
      ]
     },
     "metadata": {},
     "output_type": "display_data"
    }
   ],
   "source": [
    "tpr2[\"total_score\"] = tpr2[\"GF\"] + tpr2[\"GA\"]\n",
    "\n",
    "import seaborn as sns\n",
    "import matplotlib.pyplot as plt\n",
    "plt.figure(figsize=(10, 6))\n",
    "sns.histplot(tpr2[\"total_score\"], bins=10, kde=True, edgecolor='black')"
   ]
  },
  {
   "cell_type": "markdown",
   "id": "98e4e5af-0186-4fb4-a41b-423c0d119162",
   "metadata": {},
   "source": [
    "<br><br><br><br>\n",
    "<h3 style=\"color:red;\">  Regression</h3>"
   ]
  },
  {
   "cell_type": "code",
   "execution_count": 336,
   "id": "24c00a62-74e3-4930-92c1-2db5b9772510",
   "metadata": {},
   "outputs": [
    {
     "data": {
      "text/plain": [
       "match_result\n",
       "2    935\n",
       "1    852\n",
       "0    585\n",
       "Name: count, dtype: int64"
      ]
     },
     "execution_count": 336,
     "metadata": {},
     "output_type": "execute_result"
    }
   ],
   "source": [
    "tpr2.match_result.value_counts()"
   ]
  },
  {
   "cell_type": "code",
   "execution_count": 337,
   "id": "55eea28b-a66d-48ec-82a6-9b0331badab6",
   "metadata": {},
   "outputs": [
    {
     "name": "stdout",
     "output_type": "stream",
     "text": [
      "Accuracy: 0.44842105263157894\n"
     ]
    }
   ],
   "source": [
    "from sklearn.model_selection import train_test_split\n",
    "from sklearn.linear_model import LogisticRegression\n",
    "from sklearn.metrics import classification_report, accuracy_score\n",
    "\n",
    "X = tpr2[['tpr_x', 'tpr_y']]\n",
    "y = tpr2['match_result']\n",
    "\n",
    "# Step 4: Split the data into training and testing sets\n",
    "X_train, X_test, y_train, y_test = train_test_split(X, y, test_size=0.2, random_state=42)\n",
    "\n",
    "# Step 5: Train the model\n",
    "model = LogisticRegression(random_state=42, multi_class='multinomial', solver='lbfgs', class_weight='balanced')\n",
    "model.fit(X_train, y_train)\n",
    "\n",
    "# Step 6: Predict probabilities\n",
    "y_pred_prob = model.predict_proba(X_test)\n",
    "y_pred = model.predict(X_test)\n",
    "\n",
    "# Display results\n",
    "# print(\"Classification Report:\\n\", classification_report(y_test, y_pred))\n",
    "print(f\"Accuracy: {accuracy_score(y_test, y_pred)}\")\n",
    "\n",
    "results = X_test.copy()\n",
    "results['actual'] = y_test\n",
    "results['predicted'] = y_pred\n",
    "results['probabilities'] = list(y_pred_prob)\n",
    "\n",
    "# for i, row in results.iterrows():\n",
    "#     print(f\"Sample {i}: Actual={row['actual']}, Predicted={row['predicted']}, Probabilities={row['probabilities']}\")"
   ]
  },
  {
   "cell_type": "markdown",
   "id": "1d7bf6af-798f-4e30-9a48-c5e4c368db97",
   "metadata": {},
   "source": [
    "<br><br><br><br>\n",
    "<h3 style=\"color:red;\">  Using Model with Custom Input</h3>"
   ]
  },
  {
   "cell_type": "code",
   "execution_count": 338,
   "id": "9472f6fd-3c88-4e16-906a-51385d2a34e1",
   "metadata": {},
   "outputs": [],
   "source": [
    "input_data = pd.DataFrame({'tpr_x': [95], 'tpr_y': [85]})  # Adjust values if necessary\n",
    "predicted_class = model.predict(input_data)\n",
    "predicted_probabilities = model.predict_proba(input_data)"
   ]
  },
  {
   "cell_type": "code",
   "execution_count": 339,
   "id": "20b963a1-dd0c-4bbf-9255-fae0c052880d",
   "metadata": {},
   "outputs": [
    {
     "name": "stdout",
     "output_type": "stream",
     "text": [
      "1 0.18\n",
      "0 0.21\n",
      "2 0.61\n"
     ]
    }
   ],
   "source": [
    "results = {\n",
    "    'predicted_class': predicted_class[0],\n",
    "    'predicted_probabilities': {\n",
    "        'win_Y': predicted_probabilities[0][1],\n",
    "        'draw': predicted_probabilities[0][0],\n",
    "        'win_X': predicted_probabilities[0][2]\n",
    "    }\n",
    "}\n",
    "\n",
    "print(1, round(results[\"predicted_probabilities\"][\"win_X\"], 2))\n",
    "print(0, round(results[\"predicted_probabilities\"][\"draw\"], 2))\n",
    "print(2, round(results[\"predicted_probabilities\"][\"win_Y\"], 2))"
   ]
  },
  {
   "cell_type": "markdown",
   "id": "844757d3-b3b1-4250-b701-a91be0e16507",
   "metadata": {},
   "source": [
    "<br><br><br><br>\n",
    "<h3 style=\"color:green;\">  Saving Model Parameters to Reuse</h3>"
   ]
  },
  {
   "cell_type": "code",
   "execution_count": 340,
   "id": "27749b00-0593-493b-96a8-7e66d027ceba",
   "metadata": {},
   "outputs": [],
   "source": [
    "coefficients = model.coef_\n",
    "intercepts = model.intercept_\n",
    "class_labels = model.classes_\n",
    "\n",
    "model_params = {}\n",
    "\n",
    "for idx, label in enumerate(class_labels):\n",
    "    model_params[label] = {\n",
    "        'tpr_x': coefficients[idx][0],\n",
    "        'tpr_y': coefficients[idx][1],\n",
    "        'intercept': intercepts[idx]\n",
    "    }"
   ]
  },
  {
   "cell_type": "code",
   "execution_count": 341,
   "id": "32140087-979b-41b3-a939-5b17110feb4c",
   "metadata": {},
   "outputs": [
    {
     "name": "stdout",
     "output_type": "stream",
     "text": [
      "Logits: {0: -0.0474230396421188, 1: 0.9419805223339419, 2: -0.8945574826815599}\n",
      "Probabilities: {0: 0.24282033291318772, 1: 0.653096802568053, 2: 0.10408286451875923}\n"
     ]
    }
   ],
   "source": [
    "powerX = 88\n",
    "powerY = 69\n",
    "powerDiff = abs(powerX-powerY)\n",
    "\n",
    "logits = {}\n",
    "for label in model_params:\n",
    "    intercept = model_params[label][\"intercept\"]\n",
    "    tpr_x_coef = model_params[label][\"tpr_x\"]\n",
    "    tpr_y_coef = model_params[label][\"tpr_y\"]\n",
    "    logit = intercept + tpr_x_coef * powerX + tpr_y_coef * powerY\n",
    "    logits[label] = logit\n",
    "\n",
    "logits_list = np.array(list(logits.values()))\n",
    "exp_logits = np.exp(logits_list)\n",
    "probabilities = exp_logits / np.sum(exp_logits)\n",
    "probabilities_dict = dict(zip(logits.keys(), probabilities))\n",
    "\n",
    "print(\"Logits:\", logits)\n",
    "print(\"Probabilities:\", probabilities_dict)"
   ]
  },
  {
   "cell_type": "code",
   "execution_count": 342,
   "id": "c631b779-380a-482e-8087-eef14d18dc88",
   "metadata": {},
   "outputs": [],
   "source": [
    "win_df = pd.DataFrame(model_params)"
   ]
  },
  {
   "cell_type": "code",
   "execution_count": 343,
   "id": "78f121dc-d7b3-4aac-a704-64edb7eff588",
   "metadata": {},
   "outputs": [
    {
     "data": {
      "text/html": [
       "<div>\n",
       "<style scoped>\n",
       "    .dataframe tbody tr th:only-of-type {\n",
       "        vertical-align: middle;\n",
       "    }\n",
       "\n",
       "    .dataframe tbody tr th {\n",
       "        vertical-align: top;\n",
       "    }\n",
       "\n",
       "    .dataframe thead th {\n",
       "        text-align: right;\n",
       "    }\n",
       "</style>\n",
       "<table border=\"1\" class=\"dataframe\">\n",
       "  <thead>\n",
       "    <tr style=\"text-align: right;\">\n",
       "      <th></th>\n",
       "      <th>0</th>\n",
       "      <th>1</th>\n",
       "      <th>2</th>\n",
       "    </tr>\n",
       "  </thead>\n",
       "  <tbody>\n",
       "    <tr>\n",
       "      <th>tpr_x</th>\n",
       "      <td>-0.008426</td>\n",
       "      <td>0.050757</td>\n",
       "      <td>-0.042332</td>\n",
       "    </tr>\n",
       "    <tr>\n",
       "      <th>tpr_y</th>\n",
       "      <td>-0.011465</td>\n",
       "      <td>-0.033360</td>\n",
       "      <td>0.044826</td>\n",
       "    </tr>\n",
       "    <tr>\n",
       "      <th>intercept</th>\n",
       "      <td>1.485149</td>\n",
       "      <td>-1.222804</td>\n",
       "      <td>-0.262345</td>\n",
       "    </tr>\n",
       "  </tbody>\n",
       "</table>\n",
       "</div>"
      ],
      "text/plain": [
       "                  0         1         2\n",
       "tpr_x     -0.008426  0.050757 -0.042332\n",
       "tpr_y     -0.011465 -0.033360  0.044826\n",
       "intercept  1.485149 -1.222804 -0.262345"
      ]
     },
     "execution_count": 343,
     "metadata": {},
     "output_type": "execute_result"
    }
   ],
   "source": [
    "win_df"
   ]
  },
  {
   "cell_type": "code",
   "execution_count": 344,
   "id": "f02b60c9-9a2d-43ee-9b9f-c96f56b02797",
   "metadata": {},
   "outputs": [
    {
     "data": {
      "text/plain": [
       "1.4851488755897884"
      ]
     },
     "execution_count": 344,
     "metadata": {},
     "output_type": "execute_result"
    }
   ],
   "source": [
    "win_df.loc[\"tpr_x\", 0]\n",
    "win_df.loc[\"tpr_y\", 0]\n",
    "win_df.loc[\"intercept\", 0]"
   ]
  },
  {
   "cell_type": "markdown",
   "id": "56a8574f-f86e-432d-aad7-be9f270ec886",
   "metadata": {},
   "source": [
    "<br><br><br><br>\n",
    "<h3 style=\"color:green;\">  Exporting CSV</h3>"
   ]
  },
  {
   "cell_type": "code",
   "execution_count": 345,
   "id": "e5311968-8586-4a68-82e4-047c20fe7eee",
   "metadata": {},
   "outputs": [],
   "source": [
    "win_df.to_csv(\"players_db/fm23/win_probability.csv\") # EXPORT"
   ]
  },
  {
   "cell_type": "code",
   "execution_count": 346,
   "id": "c4409ade-e4cf-4a35-b785-e08ce53c19c9",
   "metadata": {},
   "outputs": [
    {
     "data": {
      "text/html": [
       "<div>\n",
       "<style scoped>\n",
       "    .dataframe tbody tr th:only-of-type {\n",
       "        vertical-align: middle;\n",
       "    }\n",
       "\n",
       "    .dataframe tbody tr th {\n",
       "        vertical-align: top;\n",
       "    }\n",
       "\n",
       "    .dataframe thead th {\n",
       "        text-align: right;\n",
       "    }\n",
       "</style>\n",
       "<table border=\"1\" class=\"dataframe\">\n",
       "  <thead>\n",
       "    <tr style=\"text-align: right;\">\n",
       "      <th></th>\n",
       "      <th>0</th>\n",
       "      <th>1</th>\n",
       "      <th>2</th>\n",
       "    </tr>\n",
       "  </thead>\n",
       "  <tbody>\n",
       "    <tr>\n",
       "      <th>tpr_x</th>\n",
       "      <td>-0.008426</td>\n",
       "      <td>0.050757</td>\n",
       "      <td>-0.042332</td>\n",
       "    </tr>\n",
       "    <tr>\n",
       "      <th>tpr_y</th>\n",
       "      <td>-0.011465</td>\n",
       "      <td>-0.033360</td>\n",
       "      <td>0.044826</td>\n",
       "    </tr>\n",
       "    <tr>\n",
       "      <th>intercept</th>\n",
       "      <td>1.485149</td>\n",
       "      <td>-1.222804</td>\n",
       "      <td>-0.262345</td>\n",
       "    </tr>\n",
       "  </tbody>\n",
       "</table>\n",
       "</div>"
      ],
      "text/plain": [
       "                  0         1         2\n",
       "tpr_x     -0.008426  0.050757 -0.042332\n",
       "tpr_y     -0.011465 -0.033360  0.044826\n",
       "intercept  1.485149 -1.222804 -0.262345"
      ]
     },
     "execution_count": 346,
     "metadata": {},
     "output_type": "execute_result"
    }
   ],
   "source": [
    "pd.read_csv(\"players_db/fm23/win_probability.csv\", index_col=0) # IMPORT"
   ]
  },
  {
   "cell_type": "code",
   "execution_count": null,
   "id": "ec6c1b6b-d4f7-40b2-9b8f-c4f1f22a255a",
   "metadata": {},
   "outputs": [],
   "source": []
  },
  {
   "cell_type": "code",
   "execution_count": null,
   "id": "1283934a-f692-47c3-97c0-6d63513a10a3",
   "metadata": {},
   "outputs": [],
   "source": []
  },
  {
   "cell_type": "code",
   "execution_count": null,
   "id": "db99b26e-1425-43d1-b410-68521b8572b9",
   "metadata": {},
   "outputs": [],
   "source": []
  }
 ],
 "metadata": {
  "kernelspec": {
   "display_name": "Python 3 (ipykernel)",
   "language": "python",
   "name": "python3"
  },
  "language_info": {
   "codemirror_mode": {
    "name": "ipython",
    "version": 3
   },
   "file_extension": ".py",
   "mimetype": "text/x-python",
   "name": "python",
   "nbconvert_exporter": "python",
   "pygments_lexer": "ipython3",
   "version": "3.11.7"
  }
 },
 "nbformat": 4,
 "nbformat_minor": 5
}
