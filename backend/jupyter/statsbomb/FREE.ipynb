{
 "cells": [
  {
   "cell_type": "code",
   "execution_count": 27,
   "id": "bce749a3-e66c-482b-a267-527b1457e8c8",
   "metadata": {},
   "outputs": [],
   "source": [
    "# !pip install mplsoccer\n",
    "# !pip install statsbombpy"
   ]
  },
  {
   "cell_type": "code",
   "execution_count": 28,
   "id": "eff88f0c-1623-4ab2-958a-5cc2028a01c7",
   "metadata": {},
   "outputs": [],
   "source": [
    "from mplsoccer.pitch import Pitch\n",
    "import matplotlib.patches as patches\n",
    "import matplotlib.pyplot as plt\n",
    "from statsbombpy import sb\n",
    "import pandas as pd\n",
    "import warnings\n",
    "from pandas.errors import SettingWithCopyWarning\n",
    "from statsbombpy.api_client import NoAuthWarning\n",
    "\n",
    "warnings.simplefilter(action='ignore', category=SettingWithCopyWarning)\n",
    "warnings.simplefilter(action='ignore', category=FutureWarning)\n",
    "warnings.simplefilter(action='ignore', category=NoAuthWarning)"
   ]
  },
  {
   "cell_type": "markdown",
   "id": "3a5a7258-edc0-471b-a8f4-116c54a0884e",
   "metadata": {},
   "source": [
    "<br><br><br><br><br><br>"
   ]
  },
  {
   "cell_type": "code",
   "execution_count": 35,
   "id": "fba0fe77-c5e1-47f2-b9a1-64c1423e4b40",
   "metadata": {},
   "outputs": [],
   "source": [
    "competition_id = 9\n",
    "season_id = 281\n",
    "all_events = []\n",
    "matches = sb.matches(competition_id=competition_id, season_id=season_id)\n",
    "matches_ids = matches[\"match_id\"][:5]\n",
    "\n",
    "for match_id in matches_ids:\n",
    "    events = sb.events(match_id=match_id)\n",
    "    all_events.append(events) \n",
    "events_df = pd.concat(all_events, ignore_index=True)"
   ]
  },
  {
   "cell_type": "code",
   "execution_count": 36,
   "id": "17bf69f7-0af9-4eaa-9c9e-bd8290fbefd1",
   "metadata": {},
   "outputs": [
    {
     "data": {
      "text/plain": [
       "['50_50',\n",
       " 'bad_behaviour_card',\n",
       " 'ball_receipt_outcome',\n",
       " 'ball_recovery_recovery_failure',\n",
       " 'block_deflection',\n",
       " 'block_save_block',\n",
       " 'carry_end_location',\n",
       " 'clearance_aerial_won',\n",
       " 'clearance_body_part',\n",
       " 'clearance_head',\n",
       " 'clearance_left_foot',\n",
       " 'clearance_right_foot',\n",
       " 'counterpress',\n",
       " 'dribble_nutmeg',\n",
       " 'dribble_outcome',\n",
       " 'duel_outcome',\n",
       " 'duel_type',\n",
       " 'duration',\n",
       " 'foul_committed_advantage',\n",
       " 'foul_committed_card',\n",
       " 'foul_committed_penalty',\n",
       " 'foul_won_advantage',\n",
       " 'foul_won_defensive',\n",
       " 'foul_won_penalty',\n",
       " 'goalkeeper_body_part',\n",
       " 'goalkeeper_end_location',\n",
       " 'goalkeeper_outcome',\n",
       " 'goalkeeper_position',\n",
       " 'goalkeeper_technique',\n",
       " 'goalkeeper_type',\n",
       " 'id',\n",
       " 'index',\n",
       " 'injury_stoppage_in_chain',\n",
       " 'interception_outcome',\n",
       " 'location',\n",
       " 'match_id',\n",
       " 'minute',\n",
       " 'off_camera',\n",
       " 'out',\n",
       " 'pass_aerial_won',\n",
       " 'pass_angle',\n",
       " 'pass_assisted_shot_id',\n",
       " 'pass_body_part',\n",
       " 'pass_cross',\n",
       " 'pass_cut_back',\n",
       " 'pass_deflected',\n",
       " 'pass_end_location',\n",
       " 'pass_goal_assist',\n",
       " 'pass_height',\n",
       " 'pass_inswinging',\n",
       " 'pass_length',\n",
       " 'pass_outcome',\n",
       " 'pass_outswinging',\n",
       " 'pass_recipient',\n",
       " 'pass_recipient_id',\n",
       " 'pass_shot_assist',\n",
       " 'pass_switch',\n",
       " 'pass_technique',\n",
       " 'pass_through_ball',\n",
       " 'pass_type',\n",
       " 'period',\n",
       " 'play_pattern',\n",
       " 'player',\n",
       " 'player_id',\n",
       " 'position',\n",
       " 'possession',\n",
       " 'possession_team',\n",
       " 'possession_team_id',\n",
       " 'related_events',\n",
       " 'second',\n",
       " 'shot_aerial_won',\n",
       " 'shot_body_part',\n",
       " 'shot_end_location',\n",
       " 'shot_first_time',\n",
       " 'shot_freeze_frame',\n",
       " 'shot_key_pass_id',\n",
       " 'shot_one_on_one',\n",
       " 'shot_outcome',\n",
       " 'shot_statsbomb_xg',\n",
       " 'shot_technique',\n",
       " 'shot_type',\n",
       " 'substitution_outcome',\n",
       " 'substitution_outcome_id',\n",
       " 'substitution_replacement',\n",
       " 'substitution_replacement_id',\n",
       " 'tactics',\n",
       " 'team',\n",
       " 'team_id',\n",
       " 'timestamp',\n",
       " 'type',\n",
       " 'under_pressure',\n",
       " 'ball_recovery_offensive',\n",
       " 'block_offensive',\n",
       " 'dribble_overrun',\n",
       " 'foul_committed_type',\n",
       " 'miscontrol_aerial_won',\n",
       " 'foul_committed_offensive',\n",
       " 'shot_deflected',\n",
       " 'pass_miscommunication',\n",
       " 'pass_no_touch']"
      ]
     },
     "execution_count": 36,
     "metadata": {},
     "output_type": "execute_result"
    }
   ],
   "source": [
    "list(events_df.columns)"
   ]
  },
  {
   "cell_type": "code",
   "execution_count": null,
   "id": "09d1934e-dad5-40b3-901b-a98a15825dfa",
   "metadata": {},
   "outputs": [],
   "source": []
  }
 ],
 "metadata": {
  "kernelspec": {
   "display_name": "Python 3 (ipykernel)",
   "language": "python",
   "name": "python3"
  },
  "language_info": {
   "codemirror_mode": {
    "name": "ipython",
    "version": 3
   },
   "file_extension": ".py",
   "mimetype": "text/x-python",
   "name": "python",
   "nbconvert_exporter": "python",
   "pygments_lexer": "ipython3",
   "version": "3.11.7"
  }
 },
 "nbformat": 4,
 "nbformat_minor": 5
}
