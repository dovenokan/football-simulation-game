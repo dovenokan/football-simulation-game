{
 "cells": [
  {
   "cell_type": "code",
   "execution_count": 49,
   "id": "bce749a3-e66c-482b-a267-527b1457e8c8",
   "metadata": {},
   "outputs": [],
   "source": [
    "# !pip install mplsoccer\n",
    "# !pip install statsbombpy"
   ]
  },
  {
   "cell_type": "code",
   "execution_count": 50,
   "id": "eff88f0c-1623-4ab2-958a-5cc2028a01c7",
   "metadata": {},
   "outputs": [],
   "source": [
    "from mplsoccer.pitch import Pitch\n",
    "import matplotlib.patches as patches\n",
    "import matplotlib.pyplot as plt\n",
    "from statsbombpy import sb\n",
    "import pandas as pd\n",
    "import numpy as np\n",
    "import warnings\n",
    "import ast\n",
    "import os\n",
    "import sys\n",
    "from pandas.errors import SettingWithCopyWarning\n",
    "from statsbombpy.api_client import NoAuthWarning\n",
    "\n",
    "warnings.simplefilter(action='ignore', category=SettingWithCopyWarning)\n",
    "warnings.simplefilter(action='ignore', category=FutureWarning)\n",
    "warnings.simplefilter(action='ignore', category=NoAuthWarning)"
   ]
  },
  {
   "cell_type": "code",
   "execution_count": 51,
   "id": "50ad26b5-5c9c-496d-bdfa-1ab3d16dfae3",
   "metadata": {},
   "outputs": [],
   "source": [
    "parent_dir = os.path.abspath(os.path.join(os.path.dirname(\"./\"), '..'))\n",
    "sys.path.append(parent_dir)\n",
    "from tools.draw_pitch_plot import Draw_Pitch_Actions"
   ]
  },
  {
   "cell_type": "markdown",
   "id": "201a2bc8-2b8f-4e20-b494-07733f22a76b",
   "metadata": {
    "jp-MarkdownHeadingCollapsed": true
   },
   "source": [
    "<br><br><br><br>\n",
    "### Jupyter - loading_bar_html"
   ]
  },
  {
   "cell_type": "code",
   "execution_count": 52,
   "id": "85187191-572f-4b8e-ae6d-eea1bef7905c",
   "metadata": {},
   "outputs": [],
   "source": [
    "from IPython.display import display, HTML\n",
    "loading_bar_html = \"\"\"\n",
    "<div id=\"progress-container\" style=\"width: 50%; border: 1px solid #ccc; margin: 20px 0;\">\n",
    "  <div id=\"progress-bar\" style=\"width: 0%; height: 20px; background-color: #4CAF50; text-align: center; line-height: 20px; color: white;\"></div>\n",
    "</div>\n",
    "<script>\n",
    "function updateProgressBar(progress) {\n",
    "  var progressBar = document.getElementById('progress-bar');\n",
    "  progressBar.style.width = progress + '%';\n",
    "  progressBar.innerHTML = progress + '%';\n",
    "}\n",
    "</script>\n",
    "\"\"\""
   ]
  },
  {
   "cell_type": "markdown",
   "id": "6b8edbea-0565-4026-bb26-f970e4de9db3",
   "metadata": {
    "jp-MarkdownHeadingCollapsed": true
   },
   "source": [
    "<br><br><br><br>\n",
    "# sb.matches"
   ]
  },
  {
   "cell_type": "code",
   "execution_count": 53,
   "id": "fc887d60-522e-4ed1-890b-4bc133b8a28d",
   "metadata": {},
   "outputs": [],
   "source": [
    "# competition_id = 9\n",
    "# season_id = 281\n",
    "# all_events = []\n",
    "# matches = sb.matches(competition_id=competition_id, season_id=season_id)\n",
    "# matches_ids = matches[\"match_id\"] #[3895074] #matches[\"match_id\"]\n",
    "# match_number = len(matches_ids)\n",
    "\n",
    "# display(HTML(loading_bar_html)) # loading_bar_html\n",
    "# for process, match_id in enumerate(matches_ids):\n",
    "#     events = sb.events(match_id=match_id)\n",
    "#     all_events.append(events) \n",
    "#     progress = int((process + 1) / match_number * 100) # loading_bar_html\n",
    "#     display(HTML(\"<script>updateProgressBar({})</script>\".format(progress))) # loading_bar_html\n",
    "# print(\"__completed__!\")\n",
    "# master_events_df = pd.concat(all_events, ignore_index=True)"
   ]
  },
  {
   "cell_type": "code",
   "execution_count": 54,
   "id": "016ce23a-b71f-466b-9e88-4ec9a9a00a3a",
   "metadata": {},
   "outputs": [],
   "source": [
    "# competition_id = 7\n",
    "# season_id = 235\n",
    "# all_events = []\n",
    "# matches = sb.matches(competition_id=competition_id, season_id=season_id)\n",
    "# matches_ids = matches[\"match_id\"] #[3895074] #matches[\"match_id\"]\n",
    "# match_number = len(matches_ids)\n",
    "\n",
    "# display(HTML(loading_bar_html)) # loading_bar_html\n",
    "# for process, match_id in enumerate(matches_ids):\n",
    "#     events = sb.events(match_id=match_id)\n",
    "#     all_events.append(events) \n",
    "#     progress = int((process + 1) / match_number * 100) # loading_bar_html\n",
    "#     display(HTML(\"<script>updateProgressBar({})</script>\".format(progress))) # loading_bar_html\n",
    "# print(\"__completed__!\")\n",
    "# master_events_df = pd.concat(all_events, ignore_index=True)"
   ]
  },
  {
   "cell_type": "markdown",
   "id": "63b3ed37-b9c1-4347-9613-5489fc270c75",
   "metadata": {
    "jp-MarkdownHeadingCollapsed": true
   },
   "source": [
    "<br><br><br><br>\n",
    "# ast.literal_eval(master_events_df)"
   ]
  },
  {
   "cell_type": "code",
   "execution_count": 55,
   "id": "d4710c4e-e30d-43ab-91f9-6993ff1cd6b9",
   "metadata": {},
   "outputs": [],
   "source": [
    "# master_events_df = pd.read_csv(\"data/Bayer Leverkusen Bundesliga 23-24 Statsbomb Events Data.csv\", low_memory=False)\n",
    "# master_events_df = pd.read_csv(\"./data/master_events_processed.csv\", low_memory=False)\n",
    "master_events_df = pd.read_csv(\"./data/Ligue1 22-23 Statsbomb Events Data.csv\", low_memory=False)"
   ]
  },
  {
   "cell_type": "code",
   "execution_count": 56,
   "id": "22f042dd-a4f5-4871-8af2-fc73e355b924",
   "metadata": {},
   "outputs": [],
   "source": [
    "# position_mapping = {\n",
    "#     'Right Center Forward': 'ST',\n",
    "#     'Left Center Forward': 'ST',\n",
    "#     'Center Back': 'DC',\n",
    "#     'Right Center Back': 'DC',\n",
    "#     'Right Wing Back': 'WBR',\n",
    "#     'Goalkeeper': 'GK',\n",
    "#     'Left Center Back': 'DC',\n",
    "#     'Left Defensive Midfield': 'DM',\n",
    "#     'Right Defensive Midfield': 'DM',\n",
    "#     'Center Forward': 'ST',\n",
    "#     'Left Wing Back': 'WBL',\n",
    "#     'Right Center Midfield': 'MC',\n",
    "#     'Right Attacking Midfield': 'AMR',\n",
    "#     'Left Center Midfield': 'MC',\n",
    "#     'Left Attacking Midfield': 'AML',\n",
    "#     'Center Defensive Midfield': 'DM',\n",
    "#     'Center Attacking Midfield': 'AMC',\n",
    "#     'Right Back': 'DR',\n",
    "#     'Left Back': 'DL',\n",
    "#     'Right Wing': 'AMR',\n",
    "#     'Left Wing': 'AML',\n",
    "#     'Right Midfield': 'MR',\n",
    "#     'Left Midfield': 'ML'\n",
    "# }\n",
    "\n",
    "# master_events_df['Pos'] = master_events_df['position'].map(position_mapping)\n",
    "# master_events_df.to_csv(\"./data/Ligue1 22-23 Statsbomb Events Data.csv\", index=False)"
   ]
  },
  {
   "cell_type": "markdown",
   "id": "eeeb63bc-50cb-4afe-ba04-47750559fb36",
   "metadata": {},
   "source": [
    "<!-- <img src=\"https://i.ibb.co/54hgbWX/image.png\">\n",
    "<!-- events_df[events_df['type'] == \"Shot\"][[\"player\",\"location\",\"shot_statsbomb_xg\",\"timestamp\"]] --> -->"
   ]
  },
  {
   "cell_type": "code",
   "execution_count": 57,
   "id": "73536e3f-7f00-454c-a1ad-3cd55aa7dbd5",
   "metadata": {},
   "outputs": [
    {
     "data": {
      "text/plain": [
       "array(['Starting XI', 'Half Start', 'Pass', 'Ball Receipt*', 'Carry',\n",
       "       'Pressure', 'Dribble', 'Duel', 'Dribbled Past', 'Dispossessed',\n",
       "       'Block', 'Shot', 'Goal Keeper', 'Clearance', 'Ball Recovery',\n",
       "       'Foul Committed', 'Foul Won', 'Interception', 'Miscontrol',\n",
       "       'Error', '50/50', 'Half End', 'Substitution', 'Shield',\n",
       "       'Tactical Shift', 'Referee Ball-Drop', 'Injury Stoppage',\n",
       "       'Player Off', 'Player On', 'Own Goal For', 'Own Goal Against',\n",
       "       'Bad Behaviour', 'Offside'], dtype=object)"
      ]
     },
     "execution_count": 57,
     "metadata": {},
     "output_type": "execute_result"
    }
   ],
   "source": [
    "master_events_df.type.unique()"
   ]
  },
  {
   "cell_type": "code",
   "execution_count": 58,
   "id": "4c90b832-d46b-472d-8aeb-88d8d0222269",
   "metadata": {},
   "outputs": [],
   "source": [
    "tactics = pd.read_excel(\"tactical_index_fm23.xlsx\")"
   ]
  },
  {
   "cell_type": "code",
   "execution_count": 59,
   "id": "73237434-2b60-4da6-846f-4b7167dd7d5b",
   "metadata": {},
   "outputs": [],
   "source": [
    "fils = tactics.Philosophy.dropna().unique()"
   ]
  },
  {
   "cell_type": "code",
   "execution_count": 60,
   "id": "41c0ea2c-a618-4cb5-a3e1-df8afd644534",
   "metadata": {},
   "outputs": [],
   "source": [
    "styles = tactics.Style.dropna().unique()"
   ]
  },
  {
   "cell_type": "code",
   "execution_count": 61,
   "id": "0aa6dd0f-b579-4de0-b4bb-b0e6ea9ee7df",
   "metadata": {},
   "outputs": [],
   "source": [
    "combs = []\n",
    "for f in fils:\n",
    "    for s in styles:\n",
    "        combs.append(f\"{f} - {s}\")"
   ]
  },
  {
   "cell_type": "markdown",
   "id": "bb1a0e06-2c01-4c2e-bb7f-f6d20bf199c0",
   "metadata": {
    "jp-MarkdownHeadingCollapsed": true
   },
   "source": [
    "<br><br><br><br><br><br><br><br>\n",
    "# Pitch_Number Column"
   ]
  },
  {
   "cell_type": "code",
   "execution_count": 62,
   "id": "069f7f62-2008-480c-aa04-5be43b42c298",
   "metadata": {},
   "outputs": [],
   "source": [
    "master_events_df['location'] = master_events_df['location'].fillna('[]')\n",
    "master_events_df['location'] = master_events_df['location'].apply(ast.literal_eval)\n",
    "master_events_df['y'] = master_events_df['location'].apply(lambda loc: loc[0] if loc else None)\n",
    "master_events_df['x'] = master_events_df['location'].apply(lambda loc: loc[1] if loc else None)\n",
    "\n",
    "master_events_df['pass_end_location'] = master_events_df['pass_end_location'].fillna('[]')\n",
    "master_events_df['pass_end_location'] = master_events_df['pass_end_location'].apply(ast.literal_eval)\n",
    "master_events_df['pass_end_y'] = master_events_df['pass_end_location'].apply(lambda loc: loc[0] if loc else None)\n",
    "master_events_df['pass_end_x'] = master_events_df['pass_end_location'].apply(lambda loc: loc[1] if loc else None)"
   ]
  },
  {
   "cell_type": "code",
   "execution_count": 63,
   "id": "03120de3-13f2-489b-bd85-f02a721e47de",
   "metadata": {},
   "outputs": [],
   "source": [
    "def PitchLocater(row, row_x, row_y, xy_map, x_intervals, y_intervals):\n",
    "    x = row[row_x]\n",
    "    y = row[row_y]\n",
    "    for x_interval in x_intervals:\n",
    "        if x_interval[0] <= x <= x_interval[1]:\n",
    "            for y_interval in y_intervals:\n",
    "                if y_interval[0] <= y <= y_interval[1]:\n",
    "                    return xy_map[(x_interval, y_interval)]\n",
    "    return None"
   ]
  },
  {
   "cell_type": "code",
   "execution_count": 64,
   "id": "f604be8b-f500-4ae1-b4ca-f625a7dd80e7",
   "metadata": {},
   "outputs": [],
   "source": [
    "pitch_yard_y = 120\n",
    "pitch_yard_x = 80\n",
    "yard_y_squares = 24\n",
    "yard_x_squares = 16\n",
    "y_intervals = [(i*pitch_yard_y/yard_y_squares, (i+1)*pitch_yard_y/yard_y_squares) for i in range(yard_y_squares)]\n",
    "x_intervals = [(i*pitch_yard_x/yard_x_squares, (i+1)*pitch_yard_x/yard_x_squares) for i in range(yard_x_squares)]\n",
    "xy_intervals = [(x,y) for x in x_intervals for y in y_intervals]\n",
    "xy_map = {xy_intervals[i]: i+1 for i in range(0, len(xy_intervals))}\n",
    "pitch_map = {i+1: xy_intervals[i] for i in range(0, len(xy_intervals))}\n",
    "\n",
    "master_events_df[\"Pitch_Number\"] = master_events_df.apply(lambda row: PitchLocater(row, \"x\", \"y\", xy_map, x_intervals, y_intervals), axis=1)\n",
    "master_events_df[\"pass_end_Pitch_Number\"] = master_events_df.apply(lambda row: PitchLocater(row, \"pass_end_x\", \"pass_end_y\", xy_map, x_intervals, y_intervals), axis=1)\n",
    "master_events_df[\"Pass_Stream\"] = master_events_df.apply(lambda row: [row[\"Pitch_Number\"], row[\"pass_end_Pitch_Number\"]], axis=1)"
   ]
  },
  {
   "cell_type": "code",
   "execution_count": 65,
   "id": "b6dcc1f7-f066-4cee-b095-d6db047aaca7",
   "metadata": {},
   "outputs": [],
   "source": [
    "# master_events_df.to_csv(\"data/Bayer Leverkusen Bundesliga 23-24 Statsbomb Events Data.csv\", index=False)\n",
    "# master_events_df.to_csv(\"data/Ligue1 22-23 Statsbomb Events Data.csv\", index=False)"
   ]
  },
  {
   "cell_type": "code",
   "execution_count": 66,
   "id": "6e4c8098-2444-48ad-9b40-8c4f336e1b70",
   "metadata": {},
   "outputs": [
    {
     "data": {
      "text/plain": [
       "(129490, 122)"
      ]
     },
     "execution_count": 66,
     "metadata": {},
     "output_type": "execute_result"
    }
   ],
   "source": [
    "master_events_df.shape"
   ]
  },
  {
   "cell_type": "markdown",
   "id": "94a0f450-dbf4-486e-871e-c705d1176671",
   "metadata": {
    "jp-MarkdownHeadingCollapsed": true
   },
   "source": [
    "<br><br><br><br><br><br><br><br>\n",
    "# Bayern Münich v. Bayer Leverkusen - Events"
   ]
  },
  {
   "cell_type": "code",
   "execution_count": 67,
   "id": "fe4d57fd-7292-47d2-b6d6-058acbe99f89",
   "metadata": {},
   "outputs": [],
   "source": [
    "all_events = []\n",
    "matches_ids = [3895074]\n",
    "the_id = 3895074\n",
    "\n",
    "for process, match_id in enumerate(matches_ids):\n",
    "    events = master_events_df[(master_events_df.match_id == match_id) & (master_events_df.period == 2)]\n",
    "    all_events.append(events) \n",
    "    \n",
    "events_df = pd.concat(all_events, ignore_index=True)"
   ]
  },
  {
   "cell_type": "code",
   "execution_count": 68,
   "id": "32753fbd-8ab9-411c-911c-8758969fdce0",
   "metadata": {},
   "outputs": [
    {
     "data": {
      "text/plain": [
       "Series([], Name: pass_outcome, dtype: int64)"
      ]
     },
     "execution_count": 68,
     "metadata": {},
     "output_type": "execute_result"
    }
   ],
   "source": [
    "events_df[(events_df['type'] == \"Pass\")].pass_outcome.fillna(\"Successful\", inplace=True)\n",
    "events_df[(events_df['type'] == \"Pass\")].pass_outcome.value_counts(dropna=False)"
   ]
  },
  {
   "cell_type": "code",
   "execution_count": 69,
   "id": "c5ff5a16-4219-4cb4-a7c0-5049d59504cf",
   "metadata": {},
   "outputs": [
    {
     "data": {
      "text/plain": [
       "Index(['duel_type', 'foul_committed_type', 'goalkeeper_type', 'pass_type',\n",
       "       'shot_type'],\n",
       "      dtype='object')"
      ]
     },
     "execution_count": 69,
     "metadata": {},
     "output_type": "execute_result"
    }
   ],
   "source": [
    "outcome_columns_df = events_df[events_df.columns[events_df.columns.str.contains(\"_outcome\")]].columns\n",
    "type_columns_df = events_df[events_df.columns[events_df.columns.str.contains(\"_type\")]].columns\n",
    "type_columns_df"
   ]
  },
  {
   "cell_type": "markdown",
   "id": "4e21071f-3424-4320-badd-5635be40a6ef",
   "metadata": {
    "jp-MarkdownHeadingCollapsed": true
   },
   "source": [
    "<br><br><br><br><br><br><br><br>\n",
    "# Pitch Number Counter"
   ]
  },
  {
   "cell_type": "code",
   "execution_count": 70,
   "id": "9463e2db-ddf6-4c2b-bd93-28152fda4dca",
   "metadata": {},
   "outputs": [],
   "source": [
    "pitch_yard_y = 120\n",
    "pitch_yard_x = 80\n",
    "yard_y_squares = 24\n",
    "yard_x_squares = 16\n",
    "y_intervals = [(i*pitch_yard_y/yard_y_squares, (i+1)*pitch_yard_y/yard_y_squares) for i in range(yard_y_squares)]\n",
    "x_intervals = [(i*pitch_yard_x/yard_x_squares, (i+1)*pitch_yard_x/yard_x_squares) for i in range(yard_x_squares)]\n",
    "xy_intervals = [(x,y) for x in x_intervals for y in y_intervals]\n",
    "xy_map = {xy_intervals[i]: i+1 for i in range(0, len(xy_intervals))}\n",
    "pitch_map = {i+1: xy_intervals[i] for i in range(0, len(xy_intervals))}"
   ]
  },
  {
   "cell_type": "code",
   "execution_count": 71,
   "id": "833770c5-b471-4ade-ae69-58f83188653a",
   "metadata": {},
   "outputs": [],
   "source": [
    "df = master_events_df.copy()\n",
    "\n",
    "def Generate_counts_df(df, action):\n",
    "    df2 = pd.DataFrame()\n",
    "    action_locations = df.query(f\"type == '{action}'\").Pitch_Number.value_counts().sort_index().to_dict()\n",
    "    df2[\"Pitch_Number\"] = list(range(1, yard_y_squares*yard_x_squares+1))\n",
    "    action_dict = pd.Series(action_locations).sort_index()\n",
    "    df2['count'] = df2['Pitch_Number'].map(action_dict)\n",
    "    df2[\"count\"].fillna(0, inplace=True)\n",
    "    df2[\"x_interval\"] = df2[\"Pitch_Number\"].apply(lambda i: pitch_map[i][0])\n",
    "    df2[\"y_interval\"] = df2[\"Pitch_Number\"].apply(lambda i: pitch_map[i][1])\n",
    "    df2[\"percentage\"] = df2[\"count\"]/df2[\"count\"].sum()\n",
    "    return df2"
   ]
  },
  {
   "cell_type": "code",
   "execution_count": 72,
   "id": "a18aac2c-93c5-4115-8de2-2a4a4984d423",
   "metadata": {},
   "outputs": [
    {
     "data": {
      "text/html": [
       "<div>\n",
       "<style scoped>\n",
       "    .dataframe tbody tr th:only-of-type {\n",
       "        vertical-align: middle;\n",
       "    }\n",
       "\n",
       "    .dataframe tbody tr th {\n",
       "        vertical-align: top;\n",
       "    }\n",
       "\n",
       "    .dataframe thead th {\n",
       "        text-align: right;\n",
       "    }\n",
       "</style>\n",
       "<table border=\"1\" class=\"dataframe\">\n",
       "  <thead>\n",
       "    <tr style=\"text-align: right;\">\n",
       "      <th></th>\n",
       "      <th>Pitch_Number</th>\n",
       "      <th>count</th>\n",
       "      <th>x_interval</th>\n",
       "      <th>y_interval</th>\n",
       "      <th>percentage</th>\n",
       "    </tr>\n",
       "  </thead>\n",
       "  <tbody>\n",
       "    <tr>\n",
       "      <th>0</th>\n",
       "      <td>1</td>\n",
       "      <td>7.0</td>\n",
       "      <td>(0.0, 5.0)</td>\n",
       "      <td>(0.0, 5.0)</td>\n",
       "      <td>0.000190</td>\n",
       "    </tr>\n",
       "    <tr>\n",
       "      <th>1</th>\n",
       "      <td>2</td>\n",
       "      <td>19.0</td>\n",
       "      <td>(0.0, 5.0)</td>\n",
       "      <td>(5.0, 10.0)</td>\n",
       "      <td>0.000515</td>\n",
       "    </tr>\n",
       "    <tr>\n",
       "      <th>2</th>\n",
       "      <td>3</td>\n",
       "      <td>30.0</td>\n",
       "      <td>(0.0, 5.0)</td>\n",
       "      <td>(10.0, 15.0)</td>\n",
       "      <td>0.000813</td>\n",
       "    </tr>\n",
       "    <tr>\n",
       "      <th>3</th>\n",
       "      <td>4</td>\n",
       "      <td>44.0</td>\n",
       "      <td>(0.0, 5.0)</td>\n",
       "      <td>(15.0, 20.0)</td>\n",
       "      <td>0.001193</td>\n",
       "    </tr>\n",
       "    <tr>\n",
       "      <th>4</th>\n",
       "      <td>5</td>\n",
       "      <td>45.0</td>\n",
       "      <td>(0.0, 5.0)</td>\n",
       "      <td>(20.0, 25.0)</td>\n",
       "      <td>0.001220</td>\n",
       "    </tr>\n",
       "    <tr>\n",
       "      <th>...</th>\n",
       "      <td>...</td>\n",
       "      <td>...</td>\n",
       "      <td>...</td>\n",
       "      <td>...</td>\n",
       "      <td>...</td>\n",
       "    </tr>\n",
       "    <tr>\n",
       "      <th>379</th>\n",
       "      <td>380</td>\n",
       "      <td>86.0</td>\n",
       "      <td>(75.0, 80.0)</td>\n",
       "      <td>(95.0, 100.0)</td>\n",
       "      <td>0.002332</td>\n",
       "    </tr>\n",
       "    <tr>\n",
       "      <th>380</th>\n",
       "      <td>381</td>\n",
       "      <td>46.0</td>\n",
       "      <td>(75.0, 80.0)</td>\n",
       "      <td>(100.0, 105.0)</td>\n",
       "      <td>0.001247</td>\n",
       "    </tr>\n",
       "    <tr>\n",
       "      <th>381</th>\n",
       "      <td>382</td>\n",
       "      <td>58.0</td>\n",
       "      <td>(75.0, 80.0)</td>\n",
       "      <td>(105.0, 110.0)</td>\n",
       "      <td>0.001573</td>\n",
       "    </tr>\n",
       "    <tr>\n",
       "      <th>382</th>\n",
       "      <td>383</td>\n",
       "      <td>34.0</td>\n",
       "      <td>(75.0, 80.0)</td>\n",
       "      <td>(110.0, 115.0)</td>\n",
       "      <td>0.000922</td>\n",
       "    </tr>\n",
       "    <tr>\n",
       "      <th>383</th>\n",
       "      <td>384</td>\n",
       "      <td>139.0</td>\n",
       "      <td>(75.0, 80.0)</td>\n",
       "      <td>(115.0, 120.0)</td>\n",
       "      <td>0.003769</td>\n",
       "    </tr>\n",
       "  </tbody>\n",
       "</table>\n",
       "<p>384 rows × 5 columns</p>\n",
       "</div>"
      ],
      "text/plain": [
       "     Pitch_Number  count    x_interval      y_interval  percentage\n",
       "0               1    7.0    (0.0, 5.0)      (0.0, 5.0)    0.000190\n",
       "1               2   19.0    (0.0, 5.0)     (5.0, 10.0)    0.000515\n",
       "2               3   30.0    (0.0, 5.0)    (10.0, 15.0)    0.000813\n",
       "3               4   44.0    (0.0, 5.0)    (15.0, 20.0)    0.001193\n",
       "4               5   45.0    (0.0, 5.0)    (20.0, 25.0)    0.001220\n",
       "..            ...    ...           ...             ...         ...\n",
       "379           380   86.0  (75.0, 80.0)   (95.0, 100.0)    0.002332\n",
       "380           381   46.0  (75.0, 80.0)  (100.0, 105.0)    0.001247\n",
       "381           382   58.0  (75.0, 80.0)  (105.0, 110.0)    0.001573\n",
       "382           383   34.0  (75.0, 80.0)  (110.0, 115.0)    0.000922\n",
       "383           384  139.0  (75.0, 80.0)  (115.0, 120.0)    0.003769\n",
       "\n",
       "[384 rows x 5 columns]"
      ]
     },
     "execution_count": 72,
     "metadata": {},
     "output_type": "execute_result"
    }
   ],
   "source": [
    "Generate_counts_df(df, \"Pass\")"
   ]
  },
  {
   "cell_type": "code",
   "execution_count": 73,
   "id": "ce452420-6a2a-484c-9791-7686d74eb4f0",
   "metadata": {},
   "outputs": [],
   "source": [
    "file_title = \"TEST_TEST_TEST_384_squared_ligue1\"\n",
    "pitch_color = \"beige\"\n",
    "ATTRIBUTES_LIST = [\"Pass\",\"Shot\",\"Dribble\"]"
   ]
  },
  {
   "cell_type": "code",
   "execution_count": 81,
   "id": "9c3e77d5-74f1-424e-b1f1-0feb75ec3cb7",
   "metadata": {
    "scrolled": true
   },
   "outputs": [],
   "source": [
    "# for ATTRIBUTE_TITLE in ATTRIBUTES_LIST:\n",
    "#     counts_df = Generate_counts_df(df, ATTRIBUTE_TITLE)\n",
    "#     def MinMaxNormalization(X):\n",
    "#         min_X = X.min()\n",
    "#         max_X = X.max()\n",
    "#         return (X-min_X) / (max_X-min_X)\n",
    "#     counts_df[\"alpha\"] = MinMaxNormalization(counts_df[\"count\"])\n",
    "#     #counts_df.to_csv(f\"data/{file_title}_{ATTRIBUTE_TITLE}_locations.csv\", index=False) # EXPORT CSV\n",
    "    \n",
    "#     pitch = Pitch(pitch_type='statsbomb', pitch_color=pitch_color, line_color='black')\n",
    "#     fig, ax = plt.subplots(figsize=(8, 12))\n",
    "#     pitch.draw(ax=ax)\n",
    "#     def draw_intervals(df, ax):\n",
    "#         for _, row in df.iterrows():\n",
    "#             x_start, x_end = row['x_interval']\n",
    "#             y_start, y_end = row['y_interval']\n",
    "#             count = row['count']\n",
    "#             percentage = row['percentage']\n",
    "#             pitch_number = row['Pitch_Number']\n",
    "#             alphaValue = row['alpha']\n",
    "            \n",
    "#             rect = patches.Rectangle(\n",
    "#                 (y_start, x_start), \n",
    "#                 y_end - y_start,\n",
    "#                 x_end - x_start, \n",
    "#                 linewidth=1,\n",
    "#                 edgecolor='white',\n",
    "#                 facecolor='blue',\n",
    "#                 alpha=max(0.2, alphaValue)\n",
    "#             )\n",
    "            \n",
    "#             ax.add_patch(rect)\n",
    "#             if count:\n",
    "#                 ax.text(\n",
    "#                     (y_start + y_end) / 2,\n",
    "#                     (x_start + x_end) / 2, \n",
    "#                     f'\\n\\n{count}',\n",
    "#                     ha='center',\n",
    "#                     fontsize=4.9, color='white'\n",
    "#                 )\n",
    "#                 ax.text(\n",
    "#                     (y_start + y_end) / 2,\n",
    "#                     (x_start + x_end + 2) / 2, \n",
    "#                     f'\\n@{pitch_number}',\n",
    "#                     ha='center',\n",
    "#                     fontsize=2.5, color=\"beige\",\n",
    "#                     alpha=0.3\n",
    "#                 )\n",
    "    \n",
    "#     draw_intervals(counts_df, ax)\n",
    "#     plt.title(f'{ATTRIBUTE_TITLE} Locations ➡️')\n",
    "#     saved_fig = fig.savefig(f\"IMG/{file_title}_{ATTRIBUTE_TITLE}_Locations.png\", dpi=300, bbox_inches='tight')\n",
    "#     TESTsaved_fig = fig.savefig(f\"IMG/statsbomb.png\", dpi=300, bbox_inches='tight')\n",
    "#     print(f'{ATTRIBUTE_TITLE} is completed!')"
   ]
  },
  {
   "cell_type": "markdown",
   "id": "befbe11f-650b-4f57-8fff-4821448fb545",
   "metadata": {},
   "source": [
    "<br><br><br><br><br><br><br><br>\n",
    "# Location by Position"
   ]
  },
  {
   "cell_type": "code",
   "execution_count": 136,
   "id": "a23f8bb8-9cf7-48cf-b8f0-9a69c78b8413",
   "metadata": {},
   "outputs": [],
   "source": [
    "best_pos_df = master_events_df.copy().dropna(subset=[\"Pos\",\"type\"])"
   ]
  },
  {
   "cell_type": "code",
   "execution_count": 137,
   "id": "512d950b-63a5-4adb-8629-1388d51b9a49",
   "metadata": {},
   "outputs": [],
   "source": [
    "def Generate_Positional_Location(event_type):\n",
    "    pitch_df = best_pos_df.copy()\n",
    "    gf_parent = Generate_counts_df(pitch_df, event_type)\n",
    "    gf_parent[\"position\"] = \"ALL\"\n",
    "    gf_parent[\"action\"] = event_type\n",
    "    positional_location_df = gf_parent.copy()\n",
    "    for Pos in best_pos_df[\"Pos\"].unique():\n",
    "        pitch_df = best_pos_df[(best_pos_df['type'] == event_type) & \\\n",
    "                                (best_pos_df['Pos'] == Pos)]\n",
    "        gf = Generate_counts_df(pitch_df, event_type)\n",
    "        gf[\"position\"] = Pos\n",
    "        gf[\"action\"] = event_type\n",
    "        gf[\"prob\"] = gf[\"percentage\"] / gf[\"percentage\"].sum()\n",
    "        positional_location_df = pd.concat([positional_location_df, gf])\n",
    "    return positional_location_df"
   ]
  },
  {
   "cell_type": "code",
   "execution_count": 138,
   "id": "6bac3cbd-4ef1-4d4e-90e3-8f36bd160239",
   "metadata": {},
   "outputs": [
    {
     "data": {
      "text/plain": [
       "<tools.draw_pitch_plot.Draw_Pitch_Actions at 0x1a83dabb6d0>"
      ]
     },
     "execution_count": 138,
     "metadata": {},
     "output_type": "execute_result"
    },
    {
     "data": {
      "image/png": "[encoded data removed]",
      "text/plain": [
       "<Figure size 800x1200 with 1 Axes>"
      ]
     },
     "metadata": {},
     "output_type": "display_data"
    }
   ],
   "source": [
    "out_posloc_df = Generate_Positional_Location(\"Pass\").query(\"position == 'ST'\")\n",
    "Draw_Pitch_Actions(out_posloc_df[\"count\"], True, \"../action_volume/data/location_df.csv\").plot()"
   ]
  },
  {
   "cell_type": "code",
   "execution_count": 139,
   "id": "fa7238e9-1293-4650-a8e6-edfd67ef52ff",
   "metadata": {},
   "outputs": [],
   "source": [
    "file_title = \"384_squared_ligue1\"\n",
    "ATTRIBUTES_LIST = [\"Pass\",\"Shot\",\"Dribble\"]\n",
    "\n",
    "for attribute in ATTRIBUTES_LIST:\n",
    "    out_posloc_df = Generate_Positional_Location(attribute)\n",
    "    #out_posloc_df.to_csv(f\"data/position_included_location_{file_title}_{attribute}.csv\", index=False)"
   ]
  }
 ],
 "metadata": {
  "kernelspec": {
   "display_name": "Python 3 (ipykernel)",
   "language": "python",
   "name": "python3"
  },
  "language_info": {
   "codemirror_mode": {
    "name": "ipython",
    "version": 3
   },
   "file_extension": ".py",
   "mimetype": "text/x-python",
   "name": "python",
   "nbconvert_exporter": "python",
   "pygments_lexer": "ipython3",
   "version": "3.11.7"
  }
 },
 "nbformat": 4,
 "nbformat_minor": 5
}
