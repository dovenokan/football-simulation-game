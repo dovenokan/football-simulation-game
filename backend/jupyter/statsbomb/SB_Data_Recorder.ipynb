{
 "cells": [
  {
   "cell_type": "code",
   "execution_count": 1,
   "id": "9e10ef4f-6674-42b9-a789-050574603c2d",
   "metadata": {},
   "outputs": [],
   "source": [
    "from mplsoccer.pitch import Pitch\n",
    "import matplotlib.patches as patches\n",
    "import matplotlib.pyplot as plt\n",
    "from statsbombpy import sb\n",
    "import pandas as pd\n",
    "import numpy as np\n",
    "import warnings\n",
    "import ast\n",
    "import os\n",
    "import sys\n",
    "from pandas.errors import SettingWithCopyWarning\n",
    "from statsbombpy.api_client import NoAuthWarning\n",
    "\n",
    "warnings.simplefilter(action='ignore', category=SettingWithCopyWarning)\n",
    "warnings.simplefilter(action='ignore', category=FutureWarning)\n",
    "warnings.simplefilter(action='ignore', category=NoAuthWarning)"
   ]
  },
  {
   "cell_type": "code",
   "execution_count": 3,
   "id": "6b618491-6326-4403-96cb-198479af23b3",
   "metadata": {},
   "outputs": [],
   "source": [
    "# # 2015-2016 premier league\n",
    "# competition_id = 2\n",
    "# season_id = 27\n",
    "# all_events = []\n",
    "# matches = sb.matches(competition_id=competition_id, season_id=season_id)\n",
    "# matches_ids = matches[\"match_id\"] #[3895074] #matches[\"match_id\"]\n",
    "# match_number = len(matches_ids)\n",
    "\n",
    "# display(HTML(loading_bar_html)) # loading_bar_html\n",
    "# for process, match_id in enumerate(matches_ids):\n",
    "#     events = sb.events(match_id=match_id)\n",
    "#     all_events.append(events) \n",
    "#     progress = int((process + 1) / match_number * 100) # loading_bar_html\n",
    "#     display(HTML(\"<script>updateProgressBar({})</script>\".format(progress))) # loading_bar_html\n",
    "# print(\"__completed__!\")\n",
    "# master_events_df = pd.concat(all_events, ignore_index=True)"
   ]
  },
  {
   "cell_type": "code",
   "execution_count": null,
   "id": "7f990d94-3ca7-4c1d-a5b7-bcdb0069a1ac",
   "metadata": {},
   "outputs": [],
   "source": []
  }
 ],
 "metadata": {
  "kernelspec": {
   "display_name": "Python 3 (ipykernel)",
   "language": "python",
   "name": "python3"
  },
  "language_info": {
   "codemirror_mode": {
    "name": "ipython",
    "version": 3
   },
   "file_extension": ".py",
   "mimetype": "text/x-python",
   "name": "python",
   "nbconvert_exporter": "python",
   "pygments_lexer": "ipython3",
   "version": "3.11.7"
  }
 },
 "nbformat": 4,
 "nbformat_minor": 5
}
