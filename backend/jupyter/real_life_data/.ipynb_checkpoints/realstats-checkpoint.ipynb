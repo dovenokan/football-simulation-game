{
 "cells": [
  {
   "cell_type": "code",
   "execution_count": 371,
   "id": "a8ab3059",
   "metadata": {},
   "outputs": [],
   "source": [
    "import pandas as pd\n",
    "import numpy as np\n",
    "import seaborn as sns\n",
    "import re"
   ]
  },
  {
   "cell_type": "markdown",
   "id": "ee9272a3",
   "metadata": {},
   "source": [
    "<br>"
   ]
  },
  {
   "cell_type": "markdown",
   "id": "d470e074",
   "metadata": {},
   "source": [
    "# Goal Count Per Match"
   ]
  },
  {
   "cell_type": "code",
   "execution_count": 372,
   "id": "5c8d95aa",
   "metadata": {},
   "outputs": [],
   "source": [
    "data_eng = {\n",
    "    'Goals': [2, 3, 1, 4, 5, 0, 6, 7, 8, 9],\n",
    "    'Percentage': [22.9, 20.8, 18.4, 15.0, 8.2, 6.1, 4.7, 2.6, 0.8, 0.5],\n",
    "    'Count': [87, 79, 70, 57, 31, 23, 18, 10, 3, 2],\n",
    "    'League': ['eng'] * 10  # All rows have the same league 'eng'\n",
    "}\n",
    "\n",
    "df_eng = pd.DataFrame(data_eng)"
   ]
  },
  {
   "cell_type": "code",
   "execution_count": 373,
   "id": "3b515a29",
   "metadata": {},
   "outputs": [],
   "source": [
    "data_ita = {\n",
    "    'Goals': [2, 3, 1, 4, 5, 0, 6, 7],\n",
    "    'Percentage': [24.9, 22.5, 18.7, 14.5, 7.3, 7.3, 3.5, 1.4],\n",
    "    'Count': [72, 65, 54, 42, 21, 21, 10, 4],\n",
    "    'League': ['ita'] * 8  # All rows have the same league 'ita'\n",
    "}\n",
    "\n",
    "df_ita = pd.DataFrame(data_ita)"
   ]
  },
  {
   "cell_type": "code",
   "execution_count": 374,
   "id": "7f5c2535",
   "metadata": {},
   "outputs": [],
   "source": [
    "data_esp = {\n",
    "    'Goals': [2, 1, 3, 4, 0, 5, 6, 7, 8],\n",
    "    'Percentage': [26.3, 19.7, 18.3, 11.1, 8.7, 7.6, 4.8, 2.4, 1.0],\n",
    "    'Count': [76, 57, 53, 32, 25, 22, 14, 7, 3],\n",
    "    'League': ['esp'] * 9  # All rows have the same league 'esp'\n",
    "}\n",
    "\n",
    "df_esp = pd.DataFrame(data_esp)"
   ]
  },
  {
   "cell_type": "code",
   "execution_count": 375,
   "id": "88b62833",
   "metadata": {},
   "outputs": [],
   "source": [
    "data_ger = {\n",
    "    'Goals': [2, 3, 4, 1, 5, 6, 0, 7, 8, 9],\n",
    "    'Percentage': [22.6, 21.4, 20.5, 11.1, 9.4, 7.7, 3.8, 2.1, 0.9, 0.4],\n",
    "    'Count': [53, 50, 48, 26, 22, 18, 9, 5, 2, 1],\n",
    "    'League': ['ger'] * 10  # All rows have the same league 'ger'\n",
    "}\n",
    "\n",
    "df_ger = pd.DataFrame(data_ger)"
   ]
  },
  {
   "cell_type": "code",
   "execution_count": 376,
   "id": "6eaed3a3",
   "metadata": {},
   "outputs": [],
   "source": [
    "data_fra = {\n",
    "    'Goals': [3, 2, 4, 1, 0, 5, 6, 8, 7],\n",
    "    'Percentage': [23.5, 23.1, 16.2, 16.2, 10.3, 6.4, 3.0, 0.9, 0.4],\n",
    "    'Count': [55, 54, 38, 38, 24, 15, 7, 2, 1],\n",
    "    'League': ['fra'] * 9  # All rows have the same league 'fra'\n",
    "}\n",
    "\n",
    "df_fra = pd.DataFrame(data_fra)"
   ]
  },
  {
   "cell_type": "code",
   "execution_count": 377,
   "id": "a4e08092",
   "metadata": {},
   "outputs": [],
   "source": [
    "# List of DataFrames for each league\n",
    "dfs = [df_eng, df_ita, df_esp, df_ger, df_fra]\n",
    "\n",
    "# Concatenate DataFrames\n",
    "df_merged = pd.concat(dfs)\n",
    "df_merged.drop(columns=[\"Percentage\"], inplace=True)\n",
    "\n",
    "# Group by 'Goals' and sum up the 'Count' for each goal\n",
    "df_merged = df_merged.groupby('Goals').agg({'Count': 'sum'}).reset_index()\n",
    "\n",
    "total_count = df_merged['Count'].sum()"
   ]
  },
  {
   "cell_type": "code",
   "execution_count": 378,
   "id": "f36106b4",
   "metadata": {},
   "outputs": [],
   "source": [
    "df_merged['Percentage'] = df_merged['Count'] / total_count * 100"
   ]
  },
  {
   "cell_type": "code",
   "execution_count": 379,
   "id": "5452e889",
   "metadata": {},
   "outputs": [],
   "source": [
    "goals_per_match = df_merged.copy()"
   ]
  },
  {
   "cell_type": "code",
   "execution_count": 380,
   "id": "8bb3da3c",
   "metadata": {},
   "outputs": [
    {
     "data": {
      "text/html": [
       "<div>\n",
       "<style scoped>\n",
       "    .dataframe tbody tr th:only-of-type {\n",
       "        vertical-align: middle;\n",
       "    }\n",
       "\n",
       "    .dataframe tbody tr th {\n",
       "        vertical-align: top;\n",
       "    }\n",
       "\n",
       "    .dataframe thead th {\n",
       "        text-align: right;\n",
       "    }\n",
       "</style>\n",
       "<table border=\"1\" class=\"dataframe\">\n",
       "  <thead>\n",
       "    <tr style=\"text-align: right;\">\n",
       "      <th></th>\n",
       "      <th>Goals</th>\n",
       "      <th>Count</th>\n",
       "      <th>Percentage</th>\n",
       "    </tr>\n",
       "  </thead>\n",
       "  <tbody>\n",
       "    <tr>\n",
       "      <th>0</th>\n",
       "      <td>0</td>\n",
       "      <td>102</td>\n",
       "      <td>7.152875</td>\n",
       "    </tr>\n",
       "    <tr>\n",
       "      <th>1</th>\n",
       "      <td>1</td>\n",
       "      <td>245</td>\n",
       "      <td>17.180926</td>\n",
       "    </tr>\n",
       "    <tr>\n",
       "      <th>2</th>\n",
       "      <td>2</td>\n",
       "      <td>342</td>\n",
       "      <td>23.983170</td>\n",
       "    </tr>\n",
       "    <tr>\n",
       "      <th>3</th>\n",
       "      <td>3</td>\n",
       "      <td>302</td>\n",
       "      <td>21.178121</td>\n",
       "    </tr>\n",
       "    <tr>\n",
       "      <th>4</th>\n",
       "      <td>4</td>\n",
       "      <td>217</td>\n",
       "      <td>15.217391</td>\n",
       "    </tr>\n",
       "    <tr>\n",
       "      <th>5</th>\n",
       "      <td>5</td>\n",
       "      <td>111</td>\n",
       "      <td>7.784011</td>\n",
       "    </tr>\n",
       "    <tr>\n",
       "      <th>6</th>\n",
       "      <td>6</td>\n",
       "      <td>67</td>\n",
       "      <td>4.698457</td>\n",
       "    </tr>\n",
       "    <tr>\n",
       "      <th>7</th>\n",
       "      <td>7</td>\n",
       "      <td>27</td>\n",
       "      <td>1.893408</td>\n",
       "    </tr>\n",
       "    <tr>\n",
       "      <th>8</th>\n",
       "      <td>8</td>\n",
       "      <td>10</td>\n",
       "      <td>0.701262</td>\n",
       "    </tr>\n",
       "    <tr>\n",
       "      <th>9</th>\n",
       "      <td>9</td>\n",
       "      <td>3</td>\n",
       "      <td>0.210379</td>\n",
       "    </tr>\n",
       "  </tbody>\n",
       "</table>\n",
       "</div>"
      ],
      "text/plain": [
       "   Goals  Count  Percentage\n",
       "0      0    102    7.152875\n",
       "1      1    245   17.180926\n",
       "2      2    342   23.983170\n",
       "3      3    302   21.178121\n",
       "4      4    217   15.217391\n",
       "5      5    111    7.784011\n",
       "6      6     67    4.698457\n",
       "7      7     27    1.893408\n",
       "8      8     10    0.701262\n",
       "9      9      3    0.210379"
      ]
     },
     "execution_count": 380,
     "metadata": {},
     "output_type": "execute_result"
    }
   ],
   "source": [
    "goals_per_match"
   ]
  },
  {
   "cell_type": "code",
   "execution_count": 381,
   "id": "d8bb9c85",
   "metadata": {},
   "outputs": [
    {
     "name": "stdout",
     "output_type": "stream",
     "text": [
      "----- 1 -----\n"
     ]
    }
   ],
   "source": [
    "goals = goals_per_match['Goals'].tolist()\n",
    "probabilities = goals_per_match['Percentage'].div(100).tolist()  # Convert percentage to probability\n",
    "\n",
    "random_goal = np.random.choice(goals, p=probabilities)\n",
    "print(\"-----\",random_goal,\"-----\")"
   ]
  },
  {
   "cell_type": "markdown",
   "id": "264d88ad",
   "metadata": {},
   "source": [
    "<br>"
   ]
  },
  {
   "cell_type": "markdown",
   "id": "0dc2bf78",
   "metadata": {},
   "source": [
    "# Next Goal Probability"
   ]
  },
  {
   "cell_type": "code",
   "execution_count": null,
   "id": "0db8b80f",
   "metadata": {},
   "outputs": [],
   "source": []
  },
  {
   "cell_type": "code",
   "execution_count": null,
   "id": "ba854425",
   "metadata": {},
   "outputs": [],
   "source": []
  },
  {
   "cell_type": "code",
   "execution_count": null,
   "id": "24828ab2",
   "metadata": {},
   "outputs": [],
   "source": []
  }
 ],
 "metadata": {
  "kernelspec": {
   "display_name": "Python 3 (ipykernel)",
   "language": "python",
   "name": "python3"
  },
  "language_info": {
   "codemirror_mode": {
    "name": "ipython",
    "version": 3
   },
   "file_extension": ".py",
   "mimetype": "text/x-python",
   "name": "python",
   "nbconvert_exporter": "python",
   "pygments_lexer": "ipython3",
   "version": "3.10.9"
  }
 },
 "nbformat": 4,
 "nbformat_minor": 5
}
