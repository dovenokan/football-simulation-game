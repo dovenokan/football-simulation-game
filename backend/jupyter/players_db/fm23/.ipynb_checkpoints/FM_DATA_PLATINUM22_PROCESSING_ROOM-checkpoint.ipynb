{
 "cells": [
  {
   "cell_type": "code",
   "execution_count": 96,
   "id": "a2bbe25e-f4a0-46c2-83d6-b9d7d5460388",
   "metadata": {},
   "outputs": [],
   "source": [
    "import pandas as pd\n",
    "import numpy as np\n",
    "import seaborn as sns\n",
    "import re\n",
    "from bs4 import BeautifulSoup\n",
    "import lxml\n",
    "import requests\n",
    "import unicodedata"
   ]
  },
  {
   "cell_type": "code",
   "execution_count": 97,
   "id": "010eea71-d9f8-43ab-8c24-c2156611ed9b",
   "metadata": {},
   "outputs": [],
   "source": [
    "fm_df = pd.read_csv(\"uluta_fm23data.csv\")"
   ]
  },
  {
   "cell_type": "code",
   "execution_count": 98,
   "id": "d66fb9db-83a4-4f2b-bd41-1b6d823a47dd",
   "metadata": {},
   "outputs": [],
   "source": [
    "fm_df.columns = [col.strip() for col in fm_df.columns]\n",
    "\n",
    "for col in fm_df.select_dtypes(\"object\").columns:\n",
    "   fm_df[col] = fm_df[col].apply(lambda x: x.strip())"
   ]
  },
  {
   "cell_type": "code",
   "execution_count": 99,
   "id": "ec0da419-dea5-4891-a392-70ee6d21fec1",
   "metadata": {},
   "outputs": [],
   "source": [
    "# Assume df is your DataFrame\n",
    "new_column_names = {\n",
    "    'Acc': 'Acceleration',\n",
    "    'Aer': 'Aerial Reach',\n",
    "    'Agg': 'Aggression',\n",
    "    'Agi': 'Agility',\n",
    "    'Ant': 'Anticipation',\n",
    "    'Bal': 'Balance',\n",
    "    'Bra': 'Bravery',\n",
    "    'Cmd': 'Command of Area',\n",
    "    'Com': 'Communication',\n",
    "    'Cmp': 'Composure',\n",
    "    'Cnt': 'Concentration',\n",
    "    'Cor': 'Corners',\n",
    "    'Cro': 'Crossing',\n",
    "    'Dec': 'Decisions',\n",
    "    'Det': 'Determination',\n",
    "    'Dri': 'Dribbling',\n",
    "    'Ecc': 'Eccentricity',\n",
    "    'Fin': 'Finishing',\n",
    "    'Fir': 'First Touch',\n",
    "    'Fla': 'Flair',\n",
    "    'Fre': 'Free Kick Taking',\n",
    "    'Han': 'Handling',\n",
    "    'Hea': 'Heading',\n",
    "    'Jum': 'Jumping Reach',\n",
    "    'Kic': 'Kicking',\n",
    "    'Ldr': 'Leadership',\n",
    "    'Lon': 'Long Shots',\n",
    "    'L Th': 'Long Throws',\n",
    "    'Mar': 'Marking',\n",
    "    'Nat .1': 'Fitness',\n",
    "    'OtB': 'Off the Ball',\n",
    "    '1v1': 'One vs One',\n",
    "    'Pac': 'Pace',\n",
    "    'Pas': 'Passing',\n",
    "    'Pen': 'Penalty Taking',\n",
    "    'Pos': 'Positioning',\n",
    "    'Pun': 'Punching',\n",
    "    'Ref': 'Reflexes',\n",
    "    'TRO': 'Rushing Out',\n",
    "    'Sta': 'Stamina',\n",
    "    'Str': 'Strength',\n",
    "    'Tck': 'Tackling',\n",
    "    'Tea': 'Teamwork',\n",
    "    'Tec': 'Technique',\n",
    "    'Thr': 'Throwing',\n",
    "    'Vis': 'Vision',\n",
    "    'Wor': 'Work Rate'\n",
    "}\n",
    "\n",
    "# new_column_names = {key: value.lower() for key, value in new_column_names.items()}\n",
    "fm_df.rename(columns=new_column_names, inplace=True)"
   ]
  },
  {
   "cell_type": "code",
   "execution_count": 100,
   "id": "1098f0d1-a4b5-459d-bfed-8ff0f0e7e1ba",
   "metadata": {},
   "outputs": [],
   "source": [
    "fm_attributes = list(new_column_names.values())\n",
    "gk_attributes = [ \"Command of Area\", \"Communication\", \"First Touch\", \"Handling\", \"Kicking\", \"One vs One\", \"Punching\", \"Reflexes\", \"Rushing Out\", \"Throwing\" ]\n",
    "gk_technical_attributes = [ \"Technique\" ] # \"Free Kick Taking\", \"Penalty Taking\", \n",
    "mental_attributes = [ \"Aggression\", \"Anticipation\", \"Bravery\", \"Composure\", \"Concentration\", \"Decisions\", \"Determination\", \"Flair\", \"Leadership\", \"Off the Ball\", \"Positioning\", \"Teamwork\", \"Vision\", \"Work Rate\" ]\n",
    "physical_attributes = [ \"Acceleration\", \"Agility\", \"Balance\", \"Jumping Reach\", \"Fitness\", \"Pace\", \"Stamina\", \"Strength\" ]\n",
    "technical_attributes = [ \"Corners\", \"Crossing\", \"Dribbling\", \"Finishing\", \"First Touch\", \"Free Kick Taking\", \"Heading\", \"Long Shots\", \"Long Throws\", \"Marking\", \"Passing\", \"Penalty Taking\", \"Tackling\", \"Technique\" ]\n",
    "\n",
    "fm_df[fm_attributes] = fm_df[fm_attributes] * 5"
   ]
  },
  {
   "cell_type": "code",
   "execution_count": 101,
   "id": "d8b77fee-c210-4e5a-89c1-923f20ad003b",
   "metadata": {},
   "outputs": [
    {
     "data": {
      "text/plain": [
       "'14/8/1984 (37 years old)'"
      ]
     },
     "execution_count": 101,
     "metadata": {},
     "output_type": "execute_result"
    }
   ],
   "source": [
    "fm_df['DoB'][0]"
   ]
  },
  {
   "cell_type": "code",
   "execution_count": 102,
   "id": "17509ffb-c8e9-43c7-8f23-61339b783dd3",
   "metadata": {},
   "outputs": [],
   "source": [
    "convert_date_format = lambda x: pd.to_datetime(x, format='%d/%m/%Y').strftime('%Y-%m-%d')\n",
    "fm_df['DoB'] = fm_df['DoB'].apply(lambda x: x.split(\" \")[0])\n",
    "fm_df['DoB'] = fm_df['DoB'].apply(convert_date_format)"
   ]
  },
  {
   "cell_type": "code",
   "execution_count": 103,
   "id": "6bc7b14f-9e61-48d1-89f1-8ff4ce444edc",
   "metadata": {},
   "outputs": [
    {
     "data": {
      "text/plain": [
       "'1984-08-14'"
      ]
     },
     "execution_count": 103,
     "metadata": {},
     "output_type": "execute_result"
    }
   ],
   "source": [
    "fm_df['DoB'][0]"
   ]
  },
  {
   "cell_type": "code",
   "execution_count": 104,
   "id": "9c9e2683-1297-43ee-8e6f-711af55a32d5",
   "metadata": {},
   "outputs": [],
   "source": [
    "fm_df['Height'] = fm_df['Height'].apply(lambda x: x.split(\" \")[0])"
   ]
  },
  {
   "cell_type": "code",
   "execution_count": 105,
   "id": "7fffd576-cd53-4057-879c-81581a61893c",
   "metadata": {},
   "outputs": [
    {
     "data": {
      "text/plain": [
       "Index(['UID', 'Inf', 'Name', 'DoB', 'Nat', 'Division', 'Club', 'Based',\n",
       "       'Preferred Foot', 'Right Foot', 'Left Foot', 'Position', 'Height',\n",
       "       'Weight', 'Age', 'Transfer Value', 'Wage', 'AT Apps', 'AT Gls', 'Team',\n",
       "       'Caps', 'Yth Apps', 'Style', 'Rc Injury', 'Best Role', 'Best Duty',\n",
       "       'Best Pos', 'Acceleration', 'Aerial Reach', 'Aggression', 'Agility',\n",
       "       'Anticipation', 'Balance', 'Bravery', 'Command of Area',\n",
       "       'Communication', 'Composure', 'Concentration', 'Corners', 'Crossing',\n",
       "       'Decisions', 'Determination', 'Dribbling', 'Eccentricity', 'Finishing',\n",
       "       'First Touch', 'Flair', 'Free Kick Taking', 'Handling', 'Heading',\n",
       "       'Jumping Reach', 'Kicking', 'Leadership', 'Long Shots', 'Long Throws',\n",
       "       'Marking', 'Fitness', 'Off the Ball', 'One vs One', 'Pace', 'Passing',\n",
       "       'Penalty Taking', 'Positioning', 'Punching', 'Reflexes', 'Rushing Out',\n",
       "       'Stamina', 'Strength', 'Tackling', 'Teamwork', 'Technique', 'Throwing',\n",
       "       'Vision', 'Work Rate'],\n",
       "      dtype='object')"
      ]
     },
     "execution_count": 105,
     "metadata": {},
     "output_type": "execute_result"
    }
   ],
   "source": [
    "fm_df.columns"
   ]
  },
  {
   "cell_type": "markdown",
   "id": "90558b33-670a-4533-ae16-b333e2de0803",
   "metadata": {},
   "source": [
    "<br><br><br><br>\n",
    "# Merged_DF"
   ]
  },
  {
   "cell_type": "code",
   "execution_count": 106,
   "id": "147c272d-50a6-4336-b34a-038d3231736b",
   "metadata": {},
   "outputs": [],
   "source": [
    "selected_leagues = ['English Premier Division',\n",
    " 'Ligue 1 Uber Eats',\n",
    " 'Spanish First Division',\n",
    " 'Bundesliga',\n",
    " 'Italian Serie A',\n",
    " 'Eredivisie',\n",
    " 'Portuguese Premier League',\n",
    " 'Turkish Super League']"
   ]
  },
  {
   "cell_type": "code",
   "execution_count": 107,
   "id": "c30c88f8-7cc0-4985-be9f-82332d0148c4",
   "metadata": {
    "scrolled": true
   },
   "outputs": [],
   "source": [
    "fm_df = fm_df[fm_df.Division.isin(selected_leagues)]"
   ]
  },
  {
   "cell_type": "code",
   "execution_count": 108,
   "id": "89566db5-d2b9-47fc-a223-51b64194a834",
   "metadata": {},
   "outputs": [
    {
     "name": "stdout",
     "output_type": "stream",
     "text": [
      "English Premier Division ------ 20\n",
      "Ligue 1 Uber Eats ------ 20\n",
      "Spanish First Division ------ 20\n",
      "Bundesliga ------ 18\n",
      "Italian Serie A ------ 20\n",
      "Eredivisie ------ 18\n",
      "Portuguese Premier League ------ 18\n",
      "Turkish Super League ------ 19\n"
     ]
    }
   ],
   "source": [
    "for leg in selected_leagues:\n",
    "    q = fm_df.query(f\"Division == '{leg}'\")[\"Club\"].value_counts()\n",
    "    print(leg , \"------\", len(q.to_list()))"
   ]
  },
  {
   "cell_type": "code",
   "execution_count": 109,
   "id": "5a9f6d02-0fed-4066-b4e3-7416d6a16784",
   "metadata": {},
   "outputs": [
    {
     "data": {
      "text/plain": [
       "Club\n",
       "Beşiktaş            41\n",
       "Kayserispor         41\n",
       "Trabzonspor         40\n",
       "Adana D.S.          39\n",
       "Fenerbahçe          37\n",
       "Ankaragücü          37\n",
       "Galatasaray         36\n",
       "Hatayspor           36\n",
       "İstanbulspor        36\n",
       "Alanyaspor          35\n",
       "Kasımpaşa           35\n",
       "Antalyaspor         34\n",
       "Başakşehir FK       34\n",
       "Sivasspor           33\n",
       "Giresunspor         33\n",
       "Gaziantep FK        32\n",
       "Fatih Karagümrük    32\n",
       "Ümraniyespor        32\n",
       "Konyaspor           31\n",
       "Name: count, dtype: int64"
      ]
     },
     "execution_count": 109,
     "metadata": {},
     "output_type": "execute_result"
    }
   ],
   "source": [
    "fm_df.query(f\"Division == 'Turkish Super League'\")[\"Club\"].value_counts()"
   ]
  },
  {
   "cell_type": "code",
   "execution_count": 110,
   "id": "573fb841-51e8-410c-aecb-6468ee533441",
   "metadata": {},
   "outputs": [
    {
     "data": {
      "text/html": [
       "<div>\n",
       "<style scoped>\n",
       "    .dataframe tbody tr th:only-of-type {\n",
       "        vertical-align: middle;\n",
       "    }\n",
       "\n",
       "    .dataframe tbody tr th {\n",
       "        vertical-align: top;\n",
       "    }\n",
       "\n",
       "    .dataframe thead th {\n",
       "        text-align: right;\n",
       "    }\n",
       "</style>\n",
       "<table border=\"1\" class=\"dataframe\">\n",
       "  <thead>\n",
       "    <tr style=\"text-align: right;\">\n",
       "      <th></th>\n",
       "      <th>UID</th>\n",
       "      <th>Inf</th>\n",
       "      <th>Name</th>\n",
       "      <th>DoB</th>\n",
       "      <th>Nat</th>\n",
       "      <th>Division</th>\n",
       "      <th>Club</th>\n",
       "      <th>Based</th>\n",
       "      <th>Preferred Foot</th>\n",
       "      <th>Right Foot</th>\n",
       "      <th>...</th>\n",
       "      <th>Reflexes</th>\n",
       "      <th>Rushing Out</th>\n",
       "      <th>Stamina</th>\n",
       "      <th>Strength</th>\n",
       "      <th>Tackling</th>\n",
       "      <th>Teamwork</th>\n",
       "      <th>Technique</th>\n",
       "      <th>Throwing</th>\n",
       "      <th>Vision</th>\n",
       "      <th>Work Rate</th>\n",
       "    </tr>\n",
       "  </thead>\n",
       "  <tbody>\n",
       "    <tr>\n",
       "      <th>105407</th>\n",
       "      <td>34008684</td>\n",
       "      <td></td>\n",
       "      <td>Benjamin Stambouli</td>\n",
       "      <td>1990-08-13</td>\n",
       "      <td>FRA</td>\n",
       "      <td>Turkish Super League</td>\n",
       "      <td>Adana D.S.</td>\n",
       "      <td>Turkey (Super League)</td>\n",
       "      <td>Right</td>\n",
       "      <td>Very Strong</td>\n",
       "      <td>...</td>\n",
       "      <td>5</td>\n",
       "      <td>5</td>\n",
       "      <td>65</td>\n",
       "      <td>70</td>\n",
       "      <td>75</td>\n",
       "      <td>80</td>\n",
       "      <td>65</td>\n",
       "      <td>10</td>\n",
       "      <td>65</td>\n",
       "      <td>75</td>\n",
       "    </tr>\n",
       "    <tr>\n",
       "      <th>105451</th>\n",
       "      <td>53075287</td>\n",
       "      <td></td>\n",
       "      <td>Badou Ndiaye</td>\n",
       "      <td>1990-10-27</td>\n",
       "      <td>SEN</td>\n",
       "      <td>Turkish Super League</td>\n",
       "      <td>Adana D.S.</td>\n",
       "      <td>Turkey (Super League)</td>\n",
       "      <td>Right</td>\n",
       "      <td>Very Strong</td>\n",
       "      <td>...</td>\n",
       "      <td>15</td>\n",
       "      <td>5</td>\n",
       "      <td>75</td>\n",
       "      <td>70</td>\n",
       "      <td>65</td>\n",
       "      <td>75</td>\n",
       "      <td>65</td>\n",
       "      <td>10</td>\n",
       "      <td>60</td>\n",
       "      <td>85</td>\n",
       "    </tr>\n",
       "    <tr>\n",
       "      <th>105487</th>\n",
       "      <td>18093594</td>\n",
       "      <td></td>\n",
       "      <td>Henry Onyekuru</td>\n",
       "      <td>1997-06-05</td>\n",
       "      <td>NGA</td>\n",
       "      <td>Turkish Super League</td>\n",
       "      <td>Adana D.S.</td>\n",
       "      <td>Turkey (Super League)</td>\n",
       "      <td>Right</td>\n",
       "      <td>Very Strong</td>\n",
       "      <td>...</td>\n",
       "      <td>15</td>\n",
       "      <td>15</td>\n",
       "      <td>70</td>\n",
       "      <td>45</td>\n",
       "      <td>35</td>\n",
       "      <td>60</td>\n",
       "      <td>65</td>\n",
       "      <td>15</td>\n",
       "      <td>60</td>\n",
       "      <td>70</td>\n",
       "    </tr>\n",
       "    <tr>\n",
       "      <th>105516</th>\n",
       "      <td>71002993</td>\n",
       "      <td></td>\n",
       "      <td>Yaroslav Rakitskyi</td>\n",
       "      <td>1989-08-03</td>\n",
       "      <td>UKR</td>\n",
       "      <td>Turkish Super League</td>\n",
       "      <td>Adana D.S.</td>\n",
       "      <td>Turkey (Super League)</td>\n",
       "      <td>Left</td>\n",
       "      <td>Reasonable</td>\n",
       "      <td>...</td>\n",
       "      <td>10</td>\n",
       "      <td>5</td>\n",
       "      <td>65</td>\n",
       "      <td>75</td>\n",
       "      <td>70</td>\n",
       "      <td>70</td>\n",
       "      <td>65</td>\n",
       "      <td>10</td>\n",
       "      <td>70</td>\n",
       "      <td>75</td>\n",
       "    </tr>\n",
       "    <tr>\n",
       "      <th>105521</th>\n",
       "      <td>70085757</td>\n",
       "      <td></td>\n",
       "      <td>Emre Akbaba</td>\n",
       "      <td>1992-10-04</td>\n",
       "      <td>TUR</td>\n",
       "      <td>Turkish Super League</td>\n",
       "      <td>Adana D.S.</td>\n",
       "      <td>Turkey (Super League)</td>\n",
       "      <td>Left</td>\n",
       "      <td>Weak</td>\n",
       "      <td>...</td>\n",
       "      <td>5</td>\n",
       "      <td>5</td>\n",
       "      <td>55</td>\n",
       "      <td>55</td>\n",
       "      <td>20</td>\n",
       "      <td>70</td>\n",
       "      <td>80</td>\n",
       "      <td>10</td>\n",
       "      <td>70</td>\n",
       "      <td>65</td>\n",
       "    </tr>\n",
       "  </tbody>\n",
       "</table>\n",
       "<p>5 rows × 74 columns</p>\n",
       "</div>"
      ],
      "text/plain": [
       "             UID Inf                Name         DoB  Nat  \\\n",
       "105407  34008684      Benjamin Stambouli  1990-08-13  FRA   \n",
       "105451  53075287            Badou Ndiaye  1990-10-27  SEN   \n",
       "105487  18093594          Henry Onyekuru  1997-06-05  NGA   \n",
       "105516  71002993      Yaroslav Rakitskyi  1989-08-03  UKR   \n",
       "105521  70085757             Emre Akbaba  1992-10-04  TUR   \n",
       "\n",
       "                    Division        Club                  Based  \\\n",
       "105407  Turkish Super League  Adana D.S.  Turkey (Super League)   \n",
       "105451  Turkish Super League  Adana D.S.  Turkey (Super League)   \n",
       "105487  Turkish Super League  Adana D.S.  Turkey (Super League)   \n",
       "105516  Turkish Super League  Adana D.S.  Turkey (Super League)   \n",
       "105521  Turkish Super League  Adana D.S.  Turkey (Super League)   \n",
       "\n",
       "       Preferred Foot   Right Foot  ... Reflexes Rushing Out Stamina Strength  \\\n",
       "105407          Right  Very Strong  ...        5           5      65       70   \n",
       "105451          Right  Very Strong  ...       15           5      75       70   \n",
       "105487          Right  Very Strong  ...       15          15      70       45   \n",
       "105516           Left   Reasonable  ...       10           5      65       75   \n",
       "105521           Left         Weak  ...        5           5      55       55   \n",
       "\n",
       "        Tackling Teamwork Technique Throwing Vision Work Rate  \n",
       "105407        75       80        65       10     65        75  \n",
       "105451        65       75        65       10     60        85  \n",
       "105487        35       60        65       15     60        70  \n",
       "105516        70       70        65       10     70        75  \n",
       "105521        20       70        80       10     70        65  \n",
       "\n",
       "[5 rows x 74 columns]"
      ]
     },
     "execution_count": 110,
     "metadata": {},
     "output_type": "execute_result"
    }
   ],
   "source": [
    "fm_df.query(f\"Club == 'Adana D.S.'\").head()"
   ]
  },
  {
   "cell_type": "markdown",
   "id": "10227078-13b9-4654-8286-59190778b9c4",
   "metadata": {},
   "source": [
    "<br><br><br><br>\n",
    "# Team Names Converter from fminside.com"
   ]
  },
  {
   "cell_type": "code",
   "execution_count": 111,
   "id": "4868ea6d-3c28-4be0-8b7c-d2b0fc8fc7e1",
   "metadata": {},
   "outputs": [],
   "source": [
    "url_df = fm_df.drop_duplicates(subset=[\"Club\"], keep=\"first\")\n",
    "url_df.loc[:, 'UID'] = url_df['UID'].apply(lambda text: str(text))\n",
    "url_df = url_df[[\"Club\", \"UID\"]]"
   ]
  },
  {
   "cell_type": "code",
   "execution_count": 112,
   "id": "70aa000c-2b3b-4f51-8a55-92031c9f0d46",
   "metadata": {},
   "outputs": [],
   "source": [
    "def Player_to_URL(player_id):\n",
    "    slug = player_id + \"-x-x\"\n",
    "    return f\"https://fminside.net/players/3-fm-23/{slug}\""
   ]
  },
  {
   "cell_type": "code",
   "execution_count": 113,
   "id": "f238ccb6-e02f-4954-8641-612e82532ed4",
   "metadata": {},
   "outputs": [],
   "source": [
    "def Convert_Team_Name_From_URL(player_id, club):\n",
    "    url = Player_to_URL(player_id)\n",
    "    req = requests.get(url)\n",
    "    html = req.content\n",
    "    soup = BeautifulSoup(html, \"lxml\")\n",
    "    club_name_element = soup.find('div', class_='meta').find('ul').find_all('li')[0].text\n",
    "    club_name = club_name_element.strip()\n",
    "    return {\"fm\":club,\"normal\":club_name}"
   ]
  },
  {
   "cell_type": "code",
   "execution_count": 114,
   "id": "7754a241-968a-484d-b516-ab0f05dfe7f7",
   "metadata": {},
   "outputs": [],
   "source": [
    "team_mapping_array = []\n",
    "raw_names = url_df.to_dict()\n",
    "uids = url_df[\"UID\"]\n",
    "clubs = url_df[\"Club\"]\n",
    "clubs_array = clubs.to_list()"
   ]
  },
  {
   "cell_type": "code",
   "execution_count": 115,
   "id": "db05b9c5-e7b1-4da3-ba84-a3b58257a10d",
   "metadata": {
    "scrolled": true
   },
   "outputs": [],
   "source": [
    "# for uid,club in zip(uids,clubs):\n",
    "#     new_entry = Convert_Team_Name_From_URL(uid, club)\n",
    "#     print(new_entry)\n",
    "#     team_mapping_array.append(new_entry)"
   ]
  },
  {
   "cell_type": "code",
   "execution_count": 116,
   "id": "aba18a00-4882-4ee8-b852-51e0b6462ac9",
   "metadata": {},
   "outputs": [],
   "source": [
    "fminside_normal_names = pd.read_csv(\"fminside_team_names.csv\")\n",
    "merged_df = pd.merge(fm_df, fminside_normal_names, how='inner', left_on='Club', right_on='fm')\n",
    "merged_df['Club'] = merged_df['normal'].where(merged_df['Club'] == merged_df['fm'], merged_df['Club'])\n",
    "# merged_df.drop(['fm', 'normal'], axis=1, inplace=True)\n",
    "merged_df = merged_df[merged_df.fm.isin(clubs_array)]"
   ]
  },
  {
   "cell_type": "code",
   "execution_count": 117,
   "id": "cd28e502-84f8-4b0b-82e6-cae079ab2912",
   "metadata": {},
   "outputs": [
    {
     "data": {
      "text/plain": [
       "{'UID': 43012402,\n",
       " 'Inf': '',\n",
       " 'Name': 'Gökhan Inler',\n",
       " 'DoB': '1984-06-27',\n",
       " 'Nat': 'SUI',\n",
       " 'Division': 'Turkish Super League',\n",
       " 'Club': 'Adana D.S.',\n",
       " 'Based': 'Turkey (Super League)',\n",
       " 'Preferred Foot': 'Right',\n",
       " 'Right Foot': 'Very Strong',\n",
       " 'Left Foot': 'Fairly Strong',\n",
       " 'Position': 'DM, M (C)',\n",
       " 'Height': '183',\n",
       " 'Weight': '80 kg',\n",
       " 'Age': 38,\n",
       " 'Transfer Value': '€110K - €1.1M',\n",
       " 'Wage': '€36,000 p/m',\n",
       " 'AT Apps': '458',\n",
       " 'AT Gls': '24',\n",
       " 'Team': '',\n",
       " 'Caps': 89,\n",
       " 'Yth Apps': '3',\n",
       " 'Style': 'Leader',\n",
       " 'Rc Injury': '-',\n",
       " 'Best Role': 'Deep Lying Playmaker',\n",
       " 'Best Duty': 'Defend',\n",
       " 'Best Pos': 'M (C)',\n",
       " 'Acceleration': 45,\n",
       " 'Aerial Reach': 15,\n",
       " 'Aggression': 70,\n",
       " 'Agility': 45,\n",
       " 'Anticipation': 70,\n",
       " 'Balance': 70,\n",
       " 'Bravery': 75,\n",
       " 'Command of Area': 5,\n",
       " 'Communication': 10,\n",
       " 'Composure': 70,\n",
       " 'Concentration': 60,\n",
       " 'Corners': 35,\n",
       " 'Crossing': 50,\n",
       " 'Decisions': 75,\n",
       " 'Determination': 90,\n",
       " 'Dribbling': 35,\n",
       " 'Eccentricity': 10,\n",
       " 'Finishing': 45,\n",
       " 'First Touch': 70,\n",
       " 'Flair': 45,\n",
       " 'Free Kick Taking': 40,\n",
       " 'Handling': 10,\n",
       " 'Heading': 60,\n",
       " 'Jumping Reach': 55,\n",
       " 'Kicking': 5,\n",
       " 'Leadership': 90,\n",
       " 'Long Shots': 70,\n",
       " 'Long Throws': 25,\n",
       " 'Marking': 40,\n",
       " 'Fitness': 100,\n",
       " 'Off the Ball': 40,\n",
       " 'One vs One': 10,\n",
       " 'Pace': 45,\n",
       " 'Passing': 75,\n",
       " 'Penalty Taking': 60,\n",
       " 'Positioning': 65,\n",
       " 'Punching': 15,\n",
       " 'Reflexes': 5,\n",
       " 'Rushing Out': 5,\n",
       " 'Stamina': 55,\n",
       " 'Strength': 65,\n",
       " 'Tackling': 55,\n",
       " 'Teamwork': 80,\n",
       " 'Technique': 65,\n",
       " 'Throwing': 5,\n",
       " 'Vision': 70,\n",
       " 'Work Rate': 80,\n",
       " 'Unnamed: 0': 72,\n",
       " 'fm': 'Adana D.S.',\n",
       " 'normal': 'Adana D.S.'}"
      ]
     },
     "execution_count": 117,
     "metadata": {},
     "output_type": "execute_result"
    }
   ],
   "source": [
    "merged_df.query(\"Name in 'Gökhan Inler'\").iloc[0].to_dict()"
   ]
  },
  {
   "cell_type": "markdown",
   "id": "040246f4-f50f-4a63-a364-85bb3b514bb1",
   "metadata": {},
   "source": [
    "<br><br><br><br>\n",
    "# Position Styling"
   ]
  },
  {
   "cell_type": "code",
   "execution_count": 118,
   "id": "ca2e89e8-20e2-4f4e-a4eb-b78b203a16fa",
   "metadata": {},
   "outputs": [],
   "source": [
    "position_mapping = {\n",
    "    'M (C)': 'MC',\n",
    "    'D (C)': 'DC',\n",
    "    'GK': 'GK',\n",
    "    'ST (C)': 'ST',\n",
    "    'AM (L)': 'AML',\n",
    "    'AM (R)': 'AMR',\n",
    "    'D (R)': 'DR',\n",
    "    'D (L)': 'DL',\n",
    "    'DM': 'DM',\n",
    "    'AM (C)': 'AMC',\n",
    "    'M (L)': 'ML',\n",
    "    'M (R)': 'MR',\n",
    "    'WB (L)': 'WBL',\n",
    "    'WB (R)': 'WBR'\n",
    "}\n",
    "\n",
    "merged_df['Best Pos'] = merged_df['Best Pos'].replace(position_mapping)"
   ]
  },
  {
   "cell_type": "code",
   "execution_count": 119,
   "id": "3fc5f547-604a-4b71-8993-e9083cb677b6",
   "metadata": {},
   "outputs": [],
   "source": [
    "def remove_parentheses(text):\n",
    "    return text.replace(\"(\", \"\").replace(\")\", \"\")"
   ]
  },
  {
   "cell_type": "code",
   "execution_count": 120,
   "id": "96f4ddaa-08c8-4aba-8c09-5be5b2245690",
   "metadata": {},
   "outputs": [],
   "source": [
    "def pos_map(position):\n",
    "    return position_mapping[position]"
   ]
  },
  {
   "cell_type": "code",
   "execution_count": 121,
   "id": "a41e240c-49c9-427f-b7f5-73b4ada10fb2",
   "metadata": {},
   "outputs": [
    {
     "data": {
      "text/plain": [
       "Best Pos\n",
       "MC     1421\n",
       "DC     1282\n",
       "GK      971\n",
       "ST      915\n",
       "AML     895\n",
       "AMR     750\n",
       "DR      700\n",
       "DL      630\n",
       "DM      460\n",
       "AMC     254\n",
       "ML      174\n",
       "MR      161\n",
       "WBL      37\n",
       "WBR      30\n",
       "Name: count, dtype: int64"
      ]
     },
     "execution_count": 121,
     "metadata": {},
     "output_type": "execute_result"
    }
   ],
   "source": [
    "merged_df['Best Pos'].value_counts()"
   ]
  },
  {
   "cell_type": "code",
   "execution_count": 122,
   "id": "f2334538-ffc9-48bf-95b7-9ae0bea5fcb6",
   "metadata": {},
   "outputs": [
    {
     "data": {
      "text/plain": [
       "Position\n",
       "D (C)                        1042\n",
       "GK                            971\n",
       "DM, M (C)                     777\n",
       "ST (C)                        753\n",
       "M/AM (C)                      398\n",
       "                             ... \n",
       "WB (L), M (LC), AM (L)          1\n",
       "D/WB (R), M (RLC)               1\n",
       "WB/M (R), AM (RC), ST (C)       1\n",
       "D (R), WB/M (RL)                1\n",
       "D (R), M/AM (RL)                1\n",
       "Name: count, Length: 238, dtype: int64"
      ]
     },
     "execution_count": 122,
     "metadata": {},
     "output_type": "execute_result"
    }
   ],
   "source": [
    "merged_df['Position'].value_counts()"
   ]
  },
  {
   "cell_type": "code",
   "execution_count": 123,
   "id": "b5f99125-4959-47f9-a7fb-26089419a929",
   "metadata": {},
   "outputs": [],
   "source": [
    "def Multiple_Position_Beautifier(position_value):\n",
    "    x = \"\"\n",
    "    positions = position_value.split(\",\")\n",
    "    for p in positions:\n",
    "        p = p.strip()\n",
    "        if p in position_mapping.keys():\n",
    "            x += f\"{position_mapping[p]},\"\n",
    "        elif \"/\" in p:\n",
    "            slashed = p.split(\" \")\n",
    "            locations = slashed[0].split(\"/\")\n",
    "            sides = list(remove_parentheses(slashed[1]))\n",
    "            for loc in locations:\n",
    "                for side in sides:\n",
    "                    splitted_pos = loc+side\n",
    "                    x += f\"{splitted_pos},\"\n",
    "        else:\n",
    "            slashed = p.split(\" \")\n",
    "            loc = slashed[0]\n",
    "            sides = list(remove_parentheses(slashed[1]))\n",
    "            for side in sides:\n",
    "                splitted_pos = loc+side\n",
    "                x += f\"{splitted_pos},\"\n",
    "    return x[:-1]"
   ]
  },
  {
   "cell_type": "code",
   "execution_count": 124,
   "id": "aca27f45-bbb1-439d-a6d6-3aa4f91c072c",
   "metadata": {},
   "outputs": [],
   "source": [
    "merged_df['Position'] = merged_df['Position'].apply(lambda row: Multiple_Position_Beautifier(row))"
   ]
  },
  {
   "cell_type": "code",
   "execution_count": 125,
   "id": "ef9ab463-ffb4-4fa3-a7e8-7076761d27c5",
   "metadata": {},
   "outputs": [
    {
     "data": {
      "text/plain": [
       "Position\n",
       "DC                   1042\n",
       "GK                    971\n",
       "DM,MC                 777\n",
       "ST                    753\n",
       "MC,AMC                398\n",
       "                     ... \n",
       "WBL,ML,MC,AML           1\n",
       "DR,WBR,MR,ML,MC         1\n",
       "WBR,MR,AMR,AMC,ST       1\n",
       "DR,WBR,WBL,MR,ML        1\n",
       "DR,MR,ML,AMR,AML        1\n",
       "Name: count, Length: 238, dtype: int64"
      ]
     },
     "execution_count": 125,
     "metadata": {},
     "output_type": "execute_result"
    }
   ],
   "source": [
    "merged_df['Position'].value_counts()"
   ]
  },
  {
   "cell_type": "markdown",
   "id": "d131b8b4-48a3-437b-ae14-dfa1b3f3893a",
   "metadata": {},
   "source": [
    "<br><br><br><br>\n",
    "# Players' Overall"
   ]
  },
  {
   "cell_type": "markdown",
   "id": "60dad6ed-b65b-4f4b-97f6-a904d31e143c",
   "metadata": {},
   "source": [
    "- Keeper -> gk\n",
    "- Defending -> def \n",
    "- Passing -> pas\n",
    "- Dribbling -> dri\n",
    "- Finishing -> fin\n",
    "- Stamina -> sta\n",
    "- Strength -> str\n",
    "- Heading -> hed\n",
    "- Mental -> men"
   ]
  },
  {
   "cell_type": "code",
   "execution_count": 126,
   "id": "2d85f52f-0603-41ed-afc1-9e02cd9db554",
   "metadata": {},
   "outputs": [],
   "source": [
    "rating_attrs = [\"gk\",\"def\",\"pas\",\"dri\",\"fin\",\"sta\",\"str\",\"head\"]"
   ]
  },
  {
   "cell_type": "code",
   "execution_count": 127,
   "id": "833e814b-8559-4485-8b8d-f5d6495c5ea1",
   "metadata": {},
   "outputs": [],
   "source": [
    "def Dict_Generator(attrs):\n",
    "    weights = (len(attrs)*\"0.1,\").split(\",\")[:-1]\n",
    "    print(weights)\n",
    "    return {key: float(weights[i]) for i, key in enumerate(attrs)}"
   ]
  },
  {
   "cell_type": "markdown",
   "id": "deae1ba9-ee19-4b3b-99d9-aacfee6098a7",
   "metadata": {},
   "source": [
    "<h3 style=\"color:orange;\">  Keeper</h3>"
   ]
  },
  {
   "cell_type": "code",
   "execution_count": 128,
   "id": "99457f3f-42f2-4352-8164-ef6b2b26b6f8",
   "metadata": {},
   "outputs": [
    {
     "data": {
      "text/html": [
       "<div>\n",
       "<style scoped>\n",
       "    .dataframe tbody tr th:only-of-type {\n",
       "        vertical-align: middle;\n",
       "    }\n",
       "\n",
       "    .dataframe tbody tr th {\n",
       "        vertical-align: top;\n",
       "    }\n",
       "\n",
       "    .dataframe thead th {\n",
       "        text-align: right;\n",
       "    }\n",
       "</style>\n",
       "<table border=\"1\" class=\"dataframe\">\n",
       "  <thead>\n",
       "    <tr style=\"text-align: right;\">\n",
       "      <th></th>\n",
       "      <th>Name</th>\n",
       "      <th>gk</th>\n",
       "    </tr>\n",
       "  </thead>\n",
       "  <tbody>\n",
       "    <tr>\n",
       "      <th>151647</th>\n",
       "      <td>Alisson</td>\n",
       "      <td>75</td>\n",
       "    </tr>\n",
       "    <tr>\n",
       "      <th>167966</th>\n",
       "      <td>Marc-André ter Stegen</td>\n",
       "      <td>75</td>\n",
       "    </tr>\n",
       "    <tr>\n",
       "      <th>42335</th>\n",
       "      <td>Manuel Neuer</td>\n",
       "      <td>74</td>\n",
       "    </tr>\n",
       "    <tr>\n",
       "      <th>151645</th>\n",
       "      <td>Ederson</td>\n",
       "      <td>74</td>\n",
       "    </tr>\n",
       "    <tr>\n",
       "      <th>167963</th>\n",
       "      <td>Jan Oblak</td>\n",
       "      <td>72</td>\n",
       "    </tr>\n",
       "  </tbody>\n",
       "</table>\n",
       "</div>"
      ],
      "text/plain": [
       "                         Name  gk\n",
       "151647                Alisson  75\n",
       "167966  Marc-André ter Stegen  75\n",
       "42335            Manuel Neuer  74\n",
       "151645                Ederson  74\n",
       "167963              Jan Oblak  72"
      ]
     },
     "execution_count": 128,
     "metadata": {},
     "output_type": "execute_result"
    }
   ],
   "source": [
    "current_ability = \"gk\"\n",
    "fm_df[current_ability] = fm_df[gk_attributes + gk_technical_attributes].mean(axis=1).astype(int)\n",
    "fm_df[[\"Name\", current_ability]].sort_values(current_ability, ascending=False).head()"
   ]
  },
  {
   "cell_type": "markdown",
   "id": "01fcb5ae-0876-411e-812f-902ef25af14f",
   "metadata": {},
   "source": [
    "<h3 style=\"color:orange;\">  Defending</h3>"
   ]
  },
  {
   "cell_type": "code",
   "execution_count": 129,
   "id": "efb1a2bb-c641-4470-94c2-eda50f7e002c",
   "metadata": {},
   "outputs": [],
   "source": [
    "mental_attributes = [ \"Aggression\", \"Anticipation\", \"Bravery\", \"Composure\", \"Concentration\", \"Decisions\", \"Determination\", \"Flair\", \"Leadership\", \"Off the Ball\", \"Positioning\", \"Teamwork\", \"Vision\", \"Work Rate\" ]\n",
    "physical_attributes = [ \"Acceleration\", \"Agility\", \"Balance\", \"Jumping Reach\", \"Fitness\", \"Pace\", \"Stamina\", \"Strength\" ]\n",
    "technical_attributes = [ \"Corners\", \"Crossing\", \"Dribbling\", \"Finishing\", \"First Touch\", \"Free Kick Taking\", \"Heading\", \"Long Shots\", \"Long Throws\", \"Marking\", \"Passing\", \"Penalty Taking\", \"Tackling\", \"Technique\" ]"
   ]
  },
  {
   "cell_type": "code",
   "execution_count": 130,
   "id": "fe8cda42-4f5e-41a4-947d-47febd76ef3c",
   "metadata": {},
   "outputs": [
    {
     "data": {
      "text/html": [
       "<div>\n",
       "<style scoped>\n",
       "    .dataframe tbody tr th:only-of-type {\n",
       "        vertical-align: middle;\n",
       "    }\n",
       "\n",
       "    .dataframe tbody tr th {\n",
       "        vertical-align: top;\n",
       "    }\n",
       "\n",
       "    .dataframe thead th {\n",
       "        text-align: right;\n",
       "    }\n",
       "</style>\n",
       "<table border=\"1\" class=\"dataframe\">\n",
       "  <thead>\n",
       "    <tr style=\"text-align: right;\">\n",
       "      <th></th>\n",
       "      <th>Name</th>\n",
       "      <th>def</th>\n",
       "    </tr>\n",
       "  </thead>\n",
       "  <tbody>\n",
       "    <tr>\n",
       "      <th>151644</th>\n",
       "      <td>Virgil van Dijk</td>\n",
       "      <td>84</td>\n",
       "    </tr>\n",
       "    <tr>\n",
       "      <th>73546</th>\n",
       "      <td>Milan Škriniar</td>\n",
       "      <td>82</td>\n",
       "    </tr>\n",
       "    <tr>\n",
       "      <th>151642</th>\n",
       "      <td>Rúben Dias</td>\n",
       "      <td>81</td>\n",
       "    </tr>\n",
       "    <tr>\n",
       "      <th>73586</th>\n",
       "      <td>Francesco Acerbi</td>\n",
       "      <td>79</td>\n",
       "    </tr>\n",
       "    <tr>\n",
       "      <th>151815</th>\n",
       "      <td>Tomáš Souček</td>\n",
       "      <td>79</td>\n",
       "    </tr>\n",
       "  </tbody>\n",
       "</table>\n",
       "</div>"
      ],
      "text/plain": [
       "                    Name  def\n",
       "151644   Virgil van Dijk   84\n",
       "73546     Milan Škriniar   82\n",
       "151642        Rúben Dias   81\n",
       "73586   Francesco Acerbi   79\n",
       "151815      Tomáš Souček   79"
      ]
     },
     "execution_count": 130,
     "metadata": {},
     "output_type": "execute_result"
    }
   ],
   "source": [
    "expert_attributes = [\"Anticipation\", \"Bravery\", \"Acceleration\", \"Concentration\", \"Decisions\", \"Positioning\", \"Jumping Reach\", \"Fitness\", \"Pace\", \"Strength\", \"Heading\", \"Marking\", \"Tackling\" ]\n",
    "\n",
    "weights =   {'Anticipation': 0.05,\n",
    "             'Bravery': 0.05,\n",
    "             \"Acceleration\": 0.05,\n",
    "             'Concentration': 0.05,\n",
    "             'Decisions': 0.05,\n",
    "             'Positioning': 0.05,\n",
    "             'Jumping Reach': 0.05,\n",
    "             'Fitness': 0.1,\n",
    "             'Pace': 0.05,\n",
    "             'Strength': 0.15,\n",
    "             'Heading': 0.15,\n",
    "             'Marking': 0.1,\n",
    "             'Tackling': 0.1}.values()\n",
    "\n",
    "current_ability = \"def\"\n",
    "fm_df[current_ability] = (fm_df[expert_attributes] * weights).sum(axis=1).astype(int)\n",
    "fm_df[[\"Name\", current_ability]].sort_values(current_ability, ascending=False).head()"
   ]
  },
  {
   "cell_type": "markdown",
   "id": "1c687947-0302-45ff-a9fc-371526bb65fc",
   "metadata": {},
   "source": [
    "<h3 style=\"color:red;\">  Passing</h3>"
   ]
  },
  {
   "cell_type": "code",
   "execution_count": 131,
   "id": "598cb029-720c-4022-9e88-8efe9422e8dd",
   "metadata": {},
   "outputs": [
    {
     "data": {
      "text/html": [
       "<div>\n",
       "<style scoped>\n",
       "    .dataframe tbody tr th:only-of-type {\n",
       "        vertical-align: middle;\n",
       "    }\n",
       "\n",
       "    .dataframe tbody tr th {\n",
       "        vertical-align: top;\n",
       "    }\n",
       "\n",
       "    .dataframe thead th {\n",
       "        text-align: right;\n",
       "    }\n",
       "</style>\n",
       "<table border=\"1\" class=\"dataframe\">\n",
       "  <thead>\n",
       "    <tr style=\"text-align: right;\">\n",
       "      <th></th>\n",
       "      <th>Name</th>\n",
       "      <th>pas</th>\n",
       "    </tr>\n",
       "  </thead>\n",
       "  <tbody>\n",
       "    <tr>\n",
       "      <th>167956</th>\n",
       "      <td>Lionel Messi</td>\n",
       "      <td>94</td>\n",
       "    </tr>\n",
       "    <tr>\n",
       "      <th>167959</th>\n",
       "      <td>Luka Modrić</td>\n",
       "      <td>93</td>\n",
       "    </tr>\n",
       "    <tr>\n",
       "      <th>151638</th>\n",
       "      <td>Kevin De Bruyne</td>\n",
       "      <td>90</td>\n",
       "    </tr>\n",
       "    <tr>\n",
       "      <th>167960</th>\n",
       "      <td>Karim Benzema</td>\n",
       "      <td>90</td>\n",
       "    </tr>\n",
       "    <tr>\n",
       "      <th>167970</th>\n",
       "      <td>Toni Kroos</td>\n",
       "      <td>89</td>\n",
       "    </tr>\n",
       "  </tbody>\n",
       "</table>\n",
       "</div>"
      ],
      "text/plain": [
       "                   Name  pas\n",
       "167956     Lionel Messi   94\n",
       "167959      Luka Modrić   93\n",
       "151638  Kevin De Bruyne   90\n",
       "167960    Karim Benzema   90\n",
       "167970       Toni Kroos   89"
      ]
     },
     "execution_count": 131,
     "metadata": {},
     "output_type": "execute_result"
    }
   ],
   "source": [
    "expert_attributes = [\"Crossing\", \"First Touch\", \"Passing\", \"Technique\", \"Decisions\", \"Determination\", \"Vision\"]\n",
    "weights =   {'Crossing': 0.10,\n",
    "             'First Touch': 0.10,\n",
    "             'Passing': 0.35,\n",
    "             'Technique': 0.20,\n",
    "             'Decisions': 0.05,\n",
    "             'Determination': 0.05,\n",
    "             'Vision': 0.15}\n",
    "\n",
    "current_ability = \"pas\"\n",
    "fm_df[current_ability] = (fm_df[expert_attributes] * weights).sum(axis=1).astype(int)\n",
    "fm_df[[\"Name\", current_ability]].sort_values(current_ability, ascending=False).head()"
   ]
  },
  {
   "cell_type": "markdown",
   "id": "d57cc8c4-2942-4f81-b1b2-eddfa3b43278",
   "metadata": {},
   "source": [
    "<h3 style=\"color:red;\">  Dribbling</h3>"
   ]
  },
  {
   "cell_type": "code",
   "execution_count": 132,
   "id": "1e752cc5-1ad3-4024-88fb-311c9209e178",
   "metadata": {},
   "outputs": [
    {
     "data": {
      "text/html": [
       "<div>\n",
       "<style scoped>\n",
       "    .dataframe tbody tr th:only-of-type {\n",
       "        vertical-align: middle;\n",
       "    }\n",
       "\n",
       "    .dataframe tbody tr th {\n",
       "        vertical-align: top;\n",
       "    }\n",
       "\n",
       "    .dataframe thead th {\n",
       "        text-align: right;\n",
       "    }\n",
       "</style>\n",
       "<table border=\"1\" class=\"dataframe\">\n",
       "  <thead>\n",
       "    <tr style=\"text-align: right;\">\n",
       "      <th></th>\n",
       "      <th>Name</th>\n",
       "      <th>dri</th>\n",
       "    </tr>\n",
       "  </thead>\n",
       "  <tbody>\n",
       "    <tr>\n",
       "      <th>167957</th>\n",
       "      <td>Kylian Mbappé</td>\n",
       "      <td>90</td>\n",
       "    </tr>\n",
       "    <tr>\n",
       "      <th>151738</th>\n",
       "      <td>Adama Traoré</td>\n",
       "      <td>87</td>\n",
       "    </tr>\n",
       "    <tr>\n",
       "      <th>151640</th>\n",
       "      <td>Mohamed Salah</td>\n",
       "      <td>86</td>\n",
       "    </tr>\n",
       "    <tr>\n",
       "      <th>167956</th>\n",
       "      <td>Lionel Messi</td>\n",
       "      <td>86</td>\n",
       "    </tr>\n",
       "    <tr>\n",
       "      <th>167964</th>\n",
       "      <td>Vinícius Júnior</td>\n",
       "      <td>85</td>\n",
       "    </tr>\n",
       "  </tbody>\n",
       "</table>\n",
       "</div>"
      ],
      "text/plain": [
       "                   Name  dri\n",
       "167957    Kylian Mbappé   90\n",
       "151738     Adama Traoré   87\n",
       "151640    Mohamed Salah   86\n",
       "167956     Lionel Messi   86\n",
       "167964  Vinícius Júnior   85"
      ]
     },
     "execution_count": 132,
     "metadata": {},
     "output_type": "execute_result"
    }
   ],
   "source": [
    "expert_attributes = [\"Dribbling\",\"First Touch\",\"Acceleration\",\"Agility\",\"Balance\",\"Fitness\",\"Pace\"]\n",
    "\n",
    "weights =   {'Dribbling': 0.35,\n",
    "             'First Touch': 0.05,\n",
    "             'Acceleration': 0.20,\n",
    "             'Agility': 0.10,\n",
    "             'Balance': 0.10,\n",
    "             'Fitness': 0.05,\n",
    "             'Pace': 0.15}\n",
    "\n",
    "current_ability = \"dri\"\n",
    "fm_df[current_ability] = (fm_df[expert_attributes] * weights).sum(axis=1).astype(int)\n",
    "fm_df[[\"Name\", current_ability]].sort_values(current_ability, ascending=False).head()"
   ]
  },
  {
   "cell_type": "markdown",
   "id": "e43c22c7-ea5d-49a0-ad79-b6629de99881",
   "metadata": {},
   "source": [
    "<h3 style=\"color:red;\">  Shooting</h3>"
   ]
  },
  {
   "cell_type": "code",
   "execution_count": 133,
   "id": "cdb3efe4-6359-4a3a-af42-f6d5ed811e49",
   "metadata": {},
   "outputs": [
    {
     "data": {
      "text/html": [
       "<div>\n",
       "<style scoped>\n",
       "    .dataframe tbody tr th:only-of-type {\n",
       "        vertical-align: middle;\n",
       "    }\n",
       "\n",
       "    .dataframe tbody tr th {\n",
       "        vertical-align: top;\n",
       "    }\n",
       "\n",
       "    .dataframe thead th {\n",
       "        text-align: right;\n",
       "    }\n",
       "</style>\n",
       "<table border=\"1\" class=\"dataframe\">\n",
       "  <thead>\n",
       "    <tr style=\"text-align: right;\">\n",
       "      <th></th>\n",
       "      <th>Name</th>\n",
       "      <th>fin</th>\n",
       "    </tr>\n",
       "  </thead>\n",
       "  <tbody>\n",
       "    <tr>\n",
       "      <th>167958</th>\n",
       "      <td>Robert Lewandowski</td>\n",
       "      <td>95</td>\n",
       "    </tr>\n",
       "    <tr>\n",
       "      <th>73550</th>\n",
       "      <td>Zlatan Ibrahimović</td>\n",
       "      <td>95</td>\n",
       "    </tr>\n",
       "    <tr>\n",
       "      <th>151641</th>\n",
       "      <td>Harry Kane</td>\n",
       "      <td>95</td>\n",
       "    </tr>\n",
       "    <tr>\n",
       "      <th>151646</th>\n",
       "      <td>Cristiano Ronaldo</td>\n",
       "      <td>95</td>\n",
       "    </tr>\n",
       "    <tr>\n",
       "      <th>73547</th>\n",
       "      <td>Ciro Immobile</td>\n",
       "      <td>90</td>\n",
       "    </tr>\n",
       "  </tbody>\n",
       "</table>\n",
       "</div>"
      ],
      "text/plain": [
       "                      Name  fin\n",
       "167958  Robert Lewandowski   95\n",
       "73550   Zlatan Ibrahimović   95\n",
       "151641          Harry Kane   95\n",
       "151646   Cristiano Ronaldo   95\n",
       "73547        Ciro Immobile   90"
      ]
     },
     "execution_count": 133,
     "metadata": {},
     "output_type": "execute_result"
    }
   ],
   "source": [
    "expert_attributes = [\"Finishing\"]\n",
    "weights =   {'Finishing': 1}.values()\n",
    "\n",
    "current_ability = \"fin\"\n",
    "fm_df[current_ability] = (fm_df[expert_attributes] * weights).sum(axis=1).astype(int)\n",
    "fm_df[[\"Name\", current_ability]].sort_values(current_ability, ascending=False).head()"
   ]
  },
  {
   "cell_type": "markdown",
   "id": "56710f10-dcc6-4398-8201-2d32ddd22053",
   "metadata": {},
   "source": [
    "<h3 style=\"color:green;\">  Stamina</h3>"
   ]
  },
  {
   "cell_type": "code",
   "execution_count": 134,
   "id": "a558ed95-94c0-491d-a051-1c75f29ee09e",
   "metadata": {},
   "outputs": [
    {
     "data": {
      "text/html": [
       "<div>\n",
       "<style scoped>\n",
       "    .dataframe tbody tr th:only-of-type {\n",
       "        vertical-align: middle;\n",
       "    }\n",
       "\n",
       "    .dataframe tbody tr th {\n",
       "        vertical-align: top;\n",
       "    }\n",
       "\n",
       "    .dataframe thead th {\n",
       "        text-align: right;\n",
       "    }\n",
       "</style>\n",
       "<table border=\"1\" class=\"dataframe\">\n",
       "  <thead>\n",
       "    <tr style=\"text-align: right;\">\n",
       "      <th></th>\n",
       "      <th>Name</th>\n",
       "      <th>sta</th>\n",
       "    </tr>\n",
       "  </thead>\n",
       "  <tbody>\n",
       "    <tr>\n",
       "      <th>42332</th>\n",
       "      <td>Joshua Kimmich</td>\n",
       "      <td>100</td>\n",
       "    </tr>\n",
       "    <tr>\n",
       "      <th>151691</th>\n",
       "      <td>Mason Mount</td>\n",
       "      <td>100</td>\n",
       "    </tr>\n",
       "    <tr>\n",
       "      <th>151758</th>\n",
       "      <td>Pierre-Emile Højbjerg</td>\n",
       "      <td>100</td>\n",
       "    </tr>\n",
       "    <tr>\n",
       "      <th>73553</th>\n",
       "      <td>Marcelo Brozović</td>\n",
       "      <td>100</td>\n",
       "    </tr>\n",
       "    <tr>\n",
       "      <th>151729</th>\n",
       "      <td>James Ward-Prowse</td>\n",
       "      <td>100</td>\n",
       "    </tr>\n",
       "  </tbody>\n",
       "</table>\n",
       "</div>"
      ],
      "text/plain": [
       "                         Name  sta\n",
       "42332          Joshua Kimmich  100\n",
       "151691            Mason Mount  100\n",
       "151758  Pierre-Emile Højbjerg  100\n",
       "73553        Marcelo Brozović  100\n",
       "151729      James Ward-Prowse  100"
      ]
     },
     "execution_count": 134,
     "metadata": {},
     "output_type": "execute_result"
    }
   ],
   "source": [
    "expert_attributes = [\"Stamina\"]\n",
    "weights =   {'Stamina': 1}.values()\n",
    "\n",
    "current_ability = \"sta\"\n",
    "fm_df[current_ability] = (fm_df[expert_attributes] * weights).sum(axis=1).astype(int)\n",
    "fm_df[[\"Name\", current_ability]].sort_values(current_ability, ascending=False).head()"
   ]
  },
  {
   "cell_type": "markdown",
   "id": "07ed3df6-6615-4bb1-905f-11e92fb4a08b",
   "metadata": {},
   "source": [
    "<h3 style=\"color:green;\">  Strength</h3>"
   ]
  },
  {
   "cell_type": "code",
   "execution_count": 135,
   "id": "8fa1ac41-4292-4495-8bb1-3273b7eef043",
   "metadata": {},
   "outputs": [
    {
     "data": {
      "text/html": [
       "<div>\n",
       "<style scoped>\n",
       "    .dataframe tbody tr th:only-of-type {\n",
       "        vertical-align: middle;\n",
       "    }\n",
       "\n",
       "    .dataframe tbody tr th {\n",
       "        vertical-align: top;\n",
       "    }\n",
       "\n",
       "    .dataframe thead th {\n",
       "        text-align: right;\n",
       "    }\n",
       "</style>\n",
       "<table border=\"1\" class=\"dataframe\">\n",
       "  <thead>\n",
       "    <tr style=\"text-align: right;\">\n",
       "      <th></th>\n",
       "      <th>Name</th>\n",
       "      <th>sta</th>\n",
       "    </tr>\n",
       "  </thead>\n",
       "  <tbody>\n",
       "    <tr>\n",
       "      <th>73542</th>\n",
       "      <td>Romelu Lukaku</td>\n",
       "      <td>100</td>\n",
       "    </tr>\n",
       "    <tr>\n",
       "      <th>151713</th>\n",
       "      <td>Kurt Zouma</td>\n",
       "      <td>100</td>\n",
       "    </tr>\n",
       "    <tr>\n",
       "      <th>73580</th>\n",
       "      <td>Duván Zapata</td>\n",
       "      <td>95</td>\n",
       "    </tr>\n",
       "    <tr>\n",
       "      <th>168032</th>\n",
       "      <td>Franck Kessié</td>\n",
       "      <td>95</td>\n",
       "    </tr>\n",
       "    <tr>\n",
       "      <th>151684</th>\n",
       "      <td>Kalidou Koulibaly</td>\n",
       "      <td>95</td>\n",
       "    </tr>\n",
       "  </tbody>\n",
       "</table>\n",
       "</div>"
      ],
      "text/plain": [
       "                     Name  sta\n",
       "73542       Romelu Lukaku  100\n",
       "151713         Kurt Zouma  100\n",
       "73580        Duván Zapata   95\n",
       "168032      Franck Kessié   95\n",
       "151684  Kalidou Koulibaly   95"
      ]
     },
     "execution_count": 135,
     "metadata": {},
     "output_type": "execute_result"
    }
   ],
   "source": [
    "expert_attributes = [\"Strength\"]\n",
    "weights =   {'Strength': 1}.values()\n",
    "\n",
    "current_ability = \"sta\"\n",
    "fm_df[current_ability] = (fm_df[expert_attributes] * weights).sum(axis=1).astype(int)\n",
    "fm_df[[\"Name\", current_ability]].sort_values(current_ability, ascending=False).head()"
   ]
  },
  {
   "cell_type": "markdown",
   "id": "c2da837c-a9c9-4797-bc01-5dbc1f1ca0b3",
   "metadata": {},
   "source": [
    "<h3 style=\"color:green;\">  Heading</h3>"
   ]
  },
  {
   "cell_type": "code",
   "execution_count": 136,
   "id": "6f75664c-6b31-47ad-9b80-2d89f0738138",
   "metadata": {},
   "outputs": [
    {
     "data": {
      "text/html": [
       "<div>\n",
       "<style scoped>\n",
       "    .dataframe tbody tr th:only-of-type {\n",
       "        vertical-align: middle;\n",
       "    }\n",
       "\n",
       "    .dataframe tbody tr th {\n",
       "        vertical-align: top;\n",
       "    }\n",
       "\n",
       "    .dataframe thead th {\n",
       "        text-align: right;\n",
       "    }\n",
       "</style>\n",
       "<table border=\"1\" class=\"dataframe\">\n",
       "  <thead>\n",
       "    <tr style=\"text-align: right;\">\n",
       "      <th></th>\n",
       "      <th>Name</th>\n",
       "      <th>hed</th>\n",
       "    </tr>\n",
       "  </thead>\n",
       "  <tbody>\n",
       "    <tr>\n",
       "      <th>167965</th>\n",
       "      <td>Sergio Ramos</td>\n",
       "      <td>100</td>\n",
       "    </tr>\n",
       "    <tr>\n",
       "      <th>151646</th>\n",
       "      <td>Cristiano Ronaldo</td>\n",
       "      <td>95</td>\n",
       "    </tr>\n",
       "    <tr>\n",
       "      <th>75806</th>\n",
       "      <td>Milan Đurić</td>\n",
       "      <td>95</td>\n",
       "    </tr>\n",
       "    <tr>\n",
       "      <th>73561</th>\n",
       "      <td>Olivier Giroud</td>\n",
       "      <td>95</td>\n",
       "    </tr>\n",
       "    <tr>\n",
       "      <th>152194</th>\n",
       "      <td>Craig Dawson</td>\n",
       "      <td>90</td>\n",
       "    </tr>\n",
       "  </tbody>\n",
       "</table>\n",
       "</div>"
      ],
      "text/plain": [
       "                     Name  hed\n",
       "167965       Sergio Ramos  100\n",
       "151646  Cristiano Ronaldo   95\n",
       "75806         Milan Đurić   95\n",
       "73561      Olivier Giroud   95\n",
       "152194       Craig Dawson   90"
      ]
     },
     "execution_count": 136,
     "metadata": {},
     "output_type": "execute_result"
    }
   ],
   "source": [
    "expert_attributes = [\"Heading\"]\n",
    "weights =   {'Heading': 1}.values()\n",
    "\n",
    "current_ability = \"hed\"\n",
    "fm_df[current_ability] = (fm_df[expert_attributes] * weights).sum(axis=1).astype(int)\n",
    "fm_df[[\"Name\", current_ability]].sort_values(current_ability, ascending=False).head()"
   ]
  },
  {
   "cell_type": "markdown",
   "id": "be689a3d-f565-4e46-85da-3eae4d754d16",
   "metadata": {},
   "source": [
    "<h3 style=\"color:purple;\">  Mental</h3>"
   ]
  },
  {
   "cell_type": "code",
   "execution_count": 137,
   "id": "2b27b2cb-c74b-4904-b636-3ac2f98f88bc",
   "metadata": {},
   "outputs": [
    {
     "data": {
      "text/html": [
       "<div>\n",
       "<style scoped>\n",
       "    .dataframe tbody tr th:only-of-type {\n",
       "        vertical-align: middle;\n",
       "    }\n",
       "\n",
       "    .dataframe tbody tr th {\n",
       "        vertical-align: top;\n",
       "    }\n",
       "\n",
       "    .dataframe thead th {\n",
       "        text-align: right;\n",
       "    }\n",
       "</style>\n",
       "<table border=\"1\" class=\"dataframe\">\n",
       "  <thead>\n",
       "    <tr style=\"text-align: right;\">\n",
       "      <th></th>\n",
       "      <th>Name</th>\n",
       "      <th>men</th>\n",
       "    </tr>\n",
       "  </thead>\n",
       "  <tbody>\n",
       "    <tr>\n",
       "      <th>151660</th>\n",
       "      <td>Thiago Silva</td>\n",
       "      <td>91</td>\n",
       "    </tr>\n",
       "    <tr>\n",
       "      <th>167993</th>\n",
       "      <td>Axel Witsel</td>\n",
       "      <td>87</td>\n",
       "    </tr>\n",
       "    <tr>\n",
       "      <th>167959</th>\n",
       "      <td>Luka Modrić</td>\n",
       "      <td>85</td>\n",
       "    </tr>\n",
       "    <tr>\n",
       "      <th>151645</th>\n",
       "      <td>Ederson</td>\n",
       "      <td>85</td>\n",
       "    </tr>\n",
       "    <tr>\n",
       "      <th>167980</th>\n",
       "      <td>Sergio Busquets</td>\n",
       "      <td>85</td>\n",
       "    </tr>\n",
       "  </tbody>\n",
       "</table>\n",
       "</div>"
      ],
      "text/plain": [
       "                   Name  men\n",
       "151660     Thiago Silva   91\n",
       "167993      Axel Witsel   87\n",
       "167959      Luka Modrić   85\n",
       "151645          Ederson   85\n",
       "167980  Sergio Busquets   85"
      ]
     },
     "execution_count": 137,
     "metadata": {},
     "output_type": "execute_result"
    }
   ],
   "source": [
    "expert_attributes = [\"Aggression\", \"Composure\", \"Concentration\"]\n",
    "weights =   {'Aggression': 0.15,\n",
    "             'Composure': 0.40,\n",
    "             'Concentration': 0.45}\n",
    "\n",
    "current_ability = \"men\"\n",
    "fm_df[current_ability] = (fm_df[expert_attributes] * weights).sum(axis=1).astype(int)\n",
    "fm_df[[\"Name\", current_ability]].sort_values(current_ability, ascending=False).head()"
   ]
  },
  {
   "cell_type": "code",
   "execution_count": null,
   "id": "4e5b7c7a-afb5-4edb-b00e-c40c00c2432d",
   "metadata": {},
   "outputs": [],
   "source": []
  },
  {
   "cell_type": "code",
   "execution_count": null,
   "id": "22e33cb0-a32b-490b-adb0-ee541c66df6a",
   "metadata": {},
   "outputs": [],
   "source": []
  },
  {
   "cell_type": "code",
   "execution_count": null,
   "id": "313994ea-c5bb-4591-b4c8-61691d67ee78",
   "metadata": {},
   "outputs": [],
   "source": []
  },
  {
   "cell_type": "markdown",
   "id": "6a4d2439-63c3-4f83-804f-6aefe4f89b6c",
   "metadata": {},
   "source": [
    "# CSV EXPORT"
   ]
  },
  {
   "cell_type": "code",
   "execution_count": 138,
   "id": "a23d6578-54c8-405b-9ea8-8de40220a239",
   "metadata": {},
   "outputs": [],
   "source": [
    "merged_df.to_csv(\"fm23db_v1.csv\")"
   ]
  },
  {
   "cell_type": "code",
   "execution_count": null,
   "id": "6446322a-61c0-4e73-9193-a1c60ad06b15",
   "metadata": {},
   "outputs": [],
   "source": []
  },
  {
   "cell_type": "code",
   "execution_count": null,
   "id": "32754015-2265-4fda-a41a-00fa73d5b297",
   "metadata": {},
   "outputs": [],
   "source": []
  }
 ],
 "metadata": {
  "kernelspec": {
   "display_name": "Python 3 (ipykernel)",
   "language": "python",
   "name": "python3"
  },
  "language_info": {
   "codemirror_mode": {
    "name": "ipython",
    "version": 3
   },
   "file_extension": ".py",
   "mimetype": "text/x-python",
   "name": "python",
   "nbconvert_exporter": "python",
   "pygments_lexer": "ipython3",
   "version": "3.11.7"
  }
 },
 "nbformat": 4,
 "nbformat_minor": 5
}
