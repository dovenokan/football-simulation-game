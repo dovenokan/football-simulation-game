{
 "cells": [
  {
   "cell_type": "code",
   "execution_count": 28,
   "metadata": {},
   "outputs": [],
   "source": [
    "import pandas as pd\n",
    "import numpy as np\n",
    "import seaborn as sns\n",
    "import re"
   ]
  },
  {
   "cell_type": "code",
   "execution_count": 29,
   "metadata": {},
   "outputs": [],
   "source": [
    "# Suppress SettingWithCopyWarning\n",
    "pd.set_option('mode.chained_assignment', None)"
   ]
  },
  {
   "cell_type": "markdown",
   "metadata": {},
   "source": [
    "# 🧰Misc Functions"
   ]
  },
  {
   "cell_type": "code",
   "execution_count": 75,
   "metadata": {},
   "outputs": [],
   "source": [
    "from fuzzywuzzy import process\n",
    "import pandas as pd\n",
    "\n",
    "def find_best_match(name, choices):\n",
    "    return process.extractOne(name, choices)\n",
    "\n",
    "def merge_fifa_fm(fifa_df, fm_df):\n",
    "    # Create a mapping of FIFA club names to the best match in FM club names\n",
    "    fifa_to_fm_mapping = {}\n",
    "    counter=0\n",
    "    for fifa_name in fifa_df['fifa_fuzzy_name']:\n",
    "        best_match, _1, _2 = find_best_match(fifa_name, fm_df['fm_fuzzy_name'])\n",
    "        fifa_to_fm_mapping[fifa_name] = best_match\n",
    "        print(best_match,\"/\",fifa_name)\n",
    "        counter+=1\n",
    "        print(counter)\n",
    "\n",
    "    # Add a new column in the FIFA DataFrame with the mapped FM club names\n",
    "    fifa_df['mapped_fifa_name'] = fifa_df['fifa_fuzzy_name'].map(fifa_to_fm_mapping)\n",
    "\n",
    "    # Merge FIFA and FM DataFrames based on the mapped FM club names\n",
    "    merged_df = pd.merge(fifa_df, fm_df, how='inner', left_on='mapped_fifa_name', right_on='fm_fuzzy_name')\n",
    "\n",
    "    return merged_df"
   ]
  },
  {
   "cell_type": "code",
   "execution_count": null,
   "metadata": {},
   "outputs": [],
   "source": []
  },
  {
   "cell_type": "markdown",
   "metadata": {},
   "source": [
    "<br>"
   ]
  },
  {
   "cell_type": "markdown",
   "metadata": {},
   "source": [
    "# Data Cleaning & Preprocessing"
   ]
  },
  {
   "cell_type": "code",
   "execution_count": 76,
   "metadata": {
    "scrolled": true
   },
   "outputs": [],
   "source": [
    "fifa_df = pd.read_csv(\"../fifa/pdb_23.csv\") \n",
    "fm_df = pd.read_csv(\"FM 2023.csv\")"
   ]
  },
  {
   "cell_type": "code",
   "execution_count": 81,
   "metadata": {},
   "outputs": [],
   "source": [
    "fifa_df[\"fifa_fuzzy_name\"] = fifa_df[\"club_name\"] + \" \" + fifa_df[\"long_name\"] + \" \" + fifa_df[\"nationality_name\"] + \" \" + fifa_df[\"dob\"]\n",
    "fm_df[\"fm_fuzzy_name\"] = fm_df[\"Club\"] + \" \" + fm_df[\"Name\"] + \" \" + fm_df[\"Nationality\"] + \" \" + fm_df[\"Date of birth\"]"
   ]
  },
  {
   "cell_type": "code",
   "execution_count": 82,
   "metadata": {},
   "outputs": [
    {
     "data": {
      "text/html": [
       "<div>\n",
       "<style scoped>\n",
       "    .dataframe tbody tr th:only-of-type {\n",
       "        vertical-align: middle;\n",
       "    }\n",
       "\n",
       "    .dataframe tbody tr th {\n",
       "        vertical-align: top;\n",
       "    }\n",
       "\n",
       "    .dataframe thead th {\n",
       "        text-align: right;\n",
       "    }\n",
       "</style>\n",
       "<table border=\"1\" class=\"dataframe\">\n",
       "  <thead>\n",
       "    <tr style=\"text-align: right;\">\n",
       "      <th></th>\n",
       "      <th>player_id</th>\n",
       "      <th>short_name</th>\n",
       "      <th>long_name</th>\n",
       "      <th>player_positions</th>\n",
       "      <th>overall</th>\n",
       "      <th>potential</th>\n",
       "      <th>value_eur</th>\n",
       "      <th>wage_eur</th>\n",
       "      <th>dob</th>\n",
       "      <th>height_cm</th>\n",
       "      <th>...</th>\n",
       "      <th>cdm</th>\n",
       "      <th>rdm</th>\n",
       "      <th>rwb</th>\n",
       "      <th>lb</th>\n",
       "      <th>lcb</th>\n",
       "      <th>cb</th>\n",
       "      <th>rcb</th>\n",
       "      <th>rb</th>\n",
       "      <th>gk</th>\n",
       "      <th>fifa_fuzzy_name</th>\n",
       "    </tr>\n",
       "  </thead>\n",
       "  <tbody>\n",
       "    <tr>\n",
       "      <th>0</th>\n",
       "      <td>231747</td>\n",
       "      <td>K. Mbappé</td>\n",
       "      <td>Kylian Mbappé Lottin</td>\n",
       "      <td>ST</td>\n",
       "      <td>91</td>\n",
       "      <td>95</td>\n",
       "      <td>190500000.0</td>\n",
       "      <td>230000.0</td>\n",
       "      <td>1998-12-20</td>\n",
       "      <td>182</td>\n",
       "      <td>...</td>\n",
       "      <td>63</td>\n",
       "      <td>63</td>\n",
       "      <td>67</td>\n",
       "      <td>63</td>\n",
       "      <td>54</td>\n",
       "      <td>54</td>\n",
       "      <td>54</td>\n",
       "      <td>63</td>\n",
       "      <td>18</td>\n",
       "      <td>Paris Saint Germain Kylian Mbappé Lottin Franc...</td>\n",
       "    </tr>\n",
       "    <tr>\n",
       "      <th>1</th>\n",
       "      <td>158023</td>\n",
       "      <td>L. Messi</td>\n",
       "      <td>Lionel Andrés Messi Cuccittini</td>\n",
       "      <td>RW</td>\n",
       "      <td>91</td>\n",
       "      <td>91</td>\n",
       "      <td>54000000.0</td>\n",
       "      <td>195000.0</td>\n",
       "      <td>1987-06-24</td>\n",
       "      <td>169</td>\n",
       "      <td>...</td>\n",
       "      <td>63</td>\n",
       "      <td>63</td>\n",
       "      <td>64</td>\n",
       "      <td>59</td>\n",
       "      <td>50</td>\n",
       "      <td>50</td>\n",
       "      <td>50</td>\n",
       "      <td>59</td>\n",
       "      <td>19</td>\n",
       "      <td>Paris Saint Germain Lionel Andrés Messi Cuccit...</td>\n",
       "    </tr>\n",
       "    <tr>\n",
       "      <th>2</th>\n",
       "      <td>165153</td>\n",
       "      <td>K. Benzema</td>\n",
       "      <td>Karim Benzema</td>\n",
       "      <td>CF</td>\n",
       "      <td>91</td>\n",
       "      <td>91</td>\n",
       "      <td>64000000.0</td>\n",
       "      <td>450000.0</td>\n",
       "      <td>1987-12-19</td>\n",
       "      <td>185</td>\n",
       "      <td>...</td>\n",
       "      <td>64</td>\n",
       "      <td>64</td>\n",
       "      <td>64</td>\n",
       "      <td>60</td>\n",
       "      <td>55</td>\n",
       "      <td>55</td>\n",
       "      <td>55</td>\n",
       "      <td>60</td>\n",
       "      <td>18</td>\n",
       "      <td>Real Madrid Karim Benzema France 1987-12-19</td>\n",
       "    </tr>\n",
       "  </tbody>\n",
       "</table>\n",
       "<p>3 rows × 81 columns</p>\n",
       "</div>"
      ],
      "text/plain": [
       "   player_id  short_name                       long_name player_positions  \\\n",
       "0     231747   K. Mbappé            Kylian Mbappé Lottin               ST   \n",
       "1     158023    L. Messi  Lionel Andrés Messi Cuccittini               RW   \n",
       "2     165153  K. Benzema                   Karim Benzema               CF   \n",
       "\n",
       "   overall  potential    value_eur  wage_eur         dob  height_cm  ...  cdm  \\\n",
       "0       91         95  190500000.0  230000.0  1998-12-20        182  ...   63   \n",
       "1       91         91   54000000.0  195000.0  1987-06-24        169  ...   63   \n",
       "2       91         91   64000000.0  450000.0  1987-12-19        185  ...   64   \n",
       "\n",
       "  rdm  rwb  lb lcb  cb  rcb  rb  gk  \\\n",
       "0  63   67  63  54  54   54  63  18   \n",
       "1  63   64  59  50  50   50  59  19   \n",
       "2  64   64  60  55  55   55  60  18   \n",
       "\n",
       "                                     fifa_fuzzy_name  \n",
       "0  Paris Saint Germain Kylian Mbappé Lottin Franc...  \n",
       "1  Paris Saint Germain Lionel Andrés Messi Cuccit...  \n",
       "2        Real Madrid Karim Benzema France 1987-12-19  \n",
       "\n",
       "[3 rows x 81 columns]"
      ]
     },
     "execution_count": 82,
     "metadata": {},
     "output_type": "execute_result"
    }
   ],
   "source": [
    "fifa_df.head(n=3)"
   ]
  },
  {
   "cell_type": "code",
   "execution_count": 84,
   "metadata": {
    "scrolled": true
   },
   "outputs": [],
   "source": [
    "# merged_data = merge_fifa_fm(fifa_df, fm_df)"
   ]
  },
  {
   "cell_type": "code",
   "execution_count": null,
   "metadata": {},
   "outputs": [],
   "source": []
  },
  {
   "cell_type": "code",
   "execution_count": 90,
   "metadata": {},
   "outputs": [
    {
     "data": {
      "text/plain": [
       "{'Name': {1980: 'Mario Balotelli'},\n",
       " 'Position': {1980: 'S'},\n",
       " 'Age': {1980: 31},\n",
       " 'ca': {1980: 130},\n",
       " 'pa': {1980: 150},\n",
       " 'Nationality': {1980: 'Italy,Ghana'},\n",
       " 'Club': {1980: 'FC Sion'},\n",
       " 'Corners': {1980: 9},\n",
       " 'Crossing': {1980: 12},\n",
       " 'Dribbling': {1980: 10},\n",
       " 'Finishing': {1980: 14},\n",
       " 'First Touch': {1980: 14},\n",
       " 'Free Kick Taking': {1980: 15},\n",
       " 'Heading': {1980: 14},\n",
       " 'Long Shots': {1980: 16},\n",
       " 'Long Throws': {1980: 5},\n",
       " 'Marking': {1980: 3},\n",
       " 'Passing': {1980: 13},\n",
       " 'Penalty Taking': {1980: 18},\n",
       " 'Tackling': {1980: 5},\n",
       " 'Technique': {1980: 16},\n",
       " 'Aggressiion': {1980: 11},\n",
       " 'Anticipation': {1980: 11},\n",
       " 'Bravery': {1980: 10},\n",
       " 'Composure': {1980: 15},\n",
       " 'Concentration': {1980: 8},\n",
       " 'Vision': {1980: 14},\n",
       " 'Decision': {1980: 13},\n",
       " 'Determination': {1980: 14},\n",
       " 'Flair': {1980: 17},\n",
       " 'Leadership': {1980: 10},\n",
       " 'Off The Ball': {1980: 12},\n",
       " 'Position.1': {1980: 4},\n",
       " 'Teamwork': {1980: 9},\n",
       " 'Work Rate': {1980: 8},\n",
       " 'Acceleration': {1980: 13},\n",
       " 'Agility': {1980: 12},\n",
       " 'Balance': {1980: 16},\n",
       " 'Jumping Reach': {1980: 14},\n",
       " 'Natural Fitness': {1980: 13},\n",
       " 'Pace': {1980: 12},\n",
       " 'Stamina': {1980: 12},\n",
       " 'Strength': {1980: 16},\n",
       " 'Stability': {1980: 12},\n",
       " 'Foul': {1980: 16},\n",
       " 'Contest performance': {1980: 14},\n",
       " 'Injury': {1980: 11},\n",
       " 'diversity': {1980: 8},\n",
       " 'Aerial Reach': {1980: 2},\n",
       " 'Command Of Area': {1980: 3},\n",
       " 'Communication': {1980: 2},\n",
       " 'Eccentricity': {1980: 1},\n",
       " 'Handling': {1980: 3},\n",
       " 'Kicking': {1980: 3},\n",
       " 'One On Ones': {1980: 2},\n",
       " 'Reflexes': {1980: 2},\n",
       " 'Rushing Out': {1980: 4},\n",
       " 'Punching': {1980: 3},\n",
       " 'Throwing': {1980: 4},\n",
       " 'Adaptation': {1980: 12},\n",
       " 'Ambition': {1980: 13},\n",
       " 'Argue': {1980: 20},\n",
       " 'Loyal': {1980: 6},\n",
       " 'Resistant to stress': {1980: 13},\n",
       " 'Professional': {1980: 9},\n",
       " 'Sportsmanship': {1980: 10},\n",
       " 'Emotional control': {1980: 12},\n",
       " 'GK': {1980: 1},\n",
       " 'DL': {1980: 1},\n",
       " 'DC': {1980: 1},\n",
       " 'DR': {1980: 1},\n",
       " 'WBL': {1980: 1},\n",
       " 'WBR': {1980: 1},\n",
       " 'DM': {1980: 1},\n",
       " 'ML': {1980: 1},\n",
       " 'MC': {1980: 1},\n",
       " 'MR': {1980: 1},\n",
       " 'AML': {1980: 6},\n",
       " 'AMC': {1980: 1},\n",
       " 'AMR': {1980: 6},\n",
       " 'ST': {1980: 20},\n",
       " 'Height': {1980: 189},\n",
       " 'Weight': {1980: 100},\n",
       " 'Left Foot': {1980: 12},\n",
       " 'Right Foot': {1980: 20},\n",
       " 'Values': {1980: 5200024},\n",
       " 'Current reputation': {1980: 6300},\n",
       " 'Domestic reputation': {1980: 6500},\n",
       " 'World reputation': {1980: 5600},\n",
       " 'Race': {1980: 'African_Caribbean'},\n",
       " 'RCA': {1980: 131},\n",
       " 'Colour of skin': {1980: 17},\n",
       " 'Date of birth': {1980: '1990/8/12'},\n",
       " 'Number of national team appearances': {1980: 36},\n",
       " 'Goals scored for the national team': {1980: 14},\n",
       " 'Salary': {1980: 29538.0},\n",
       " 'Rental club': {1980: nan},\n",
       " 'UID': {1980: 43001238},\n",
       " 'fm_fuzzy_name': {1980: 'FC Sion Mario Balotelli Italy,Ghana 1990/8/12'}}"
      ]
     },
     "execution_count": 90,
     "metadata": {},
     "output_type": "execute_result"
    }
   ],
   "source": [
    "fm_df.query(\"Name == 'Mario Balotelli'\").to_dict()"
   ]
  },
  {
   "cell_type": "code",
   "execution_count": null,
   "metadata": {},
   "outputs": [],
   "source": []
  },
  {
   "cell_type": "code",
   "execution_count": null,
   "metadata": {},
   "outputs": [],
   "source": []
  },
  {
   "cell_type": "code",
   "execution_count": null,
   "metadata": {},
   "outputs": [],
   "source": []
  }
 ],
 "metadata": {
  "kernelspec": {
   "display_name": "Python 3 (ipykernel)",
   "language": "python",
   "name": "python3"
  },
  "language_info": {
   "codemirror_mode": {
    "name": "ipython",
    "version": 3
   },
   "file_extension": ".py",
   "mimetype": "text/x-python",
   "name": "python",
   "nbconvert_exporter": "python",
   "pygments_lexer": "ipython3",
   "version": "3.11.7"
  }
 },
 "nbformat": 4,
 "nbformat_minor": 4
}
