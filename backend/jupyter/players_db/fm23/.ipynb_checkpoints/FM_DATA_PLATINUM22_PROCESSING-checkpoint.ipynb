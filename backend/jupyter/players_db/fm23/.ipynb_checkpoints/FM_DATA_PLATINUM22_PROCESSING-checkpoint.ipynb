{
 "cells": [
  {
   "cell_type": "code",
   "execution_count": 260,
   "id": "a2bbe25e-f4a0-46c2-83d6-b9d7d5460388",
   "metadata": {},
   "outputs": [],
   "source": [
    "import pandas as pd\n",
    "import numpy as np\n",
    "import seaborn as sns\n",
    "import re\n",
    "from bs4 import BeautifulSoup\n",
    "import lxml\n",
    "import requests\n",
    "import unicodedata"
   ]
  },
  {
   "cell_type": "code",
   "execution_count": null,
   "id": "010eea71-d9f8-43ab-8c24-c2156611ed9b",
   "metadata": {},
   "outputs": [],
   "source": [
    "fm_df = pd.read_csv(\"uluta_fm23data.csv\")\n",
    "# platinum_df = pd.read_csv(\"platinum22_fm23data.csv\")"
   ]
  },
  {
   "cell_type": "code",
   "execution_count": null,
   "id": "d66fb9db-83a4-4f2b-bd41-1b6d823a47dd",
   "metadata": {},
   "outputs": [],
   "source": [
    "fm_df.columns = [col.strip() for col in fm_df.columns]\n",
    "\n",
    "for col in fm_df.select_dtypes(\"object\").columns:\n",
    "   fm_df[col] = fm_df[col].apply(lambda x: x.strip())"
   ]
  },
  {
   "cell_type": "code",
   "execution_count": null,
   "id": "17509ffb-c8e9-43c7-8f23-61339b783dd3",
   "metadata": {},
   "outputs": [],
   "source": [
    "convert_date_format = lambda x: pd.to_datetime(x, format='%d/%m/%Y').strftime('%Y-%m-%d')\n",
    "fm_df['DoB'] = fm_df['DoB'].apply(lambda x: x.split(\" \")[0])\n",
    "fm_df['DoB'] = fm_df['DoB'].apply(convert_date_format)"
   ]
  },
  {
   "cell_type": "code",
   "execution_count": null,
   "id": "9c9e2683-1297-43ee-8e6f-711af55a32d5",
   "metadata": {},
   "outputs": [],
   "source": [
    "fm_df['Height'] = fm_df['Height'].apply(lambda x: x.split(\" \")[0])"
   ]
  },
  {
   "cell_type": "code",
   "execution_count": null,
   "id": "7fffd576-cd53-4057-879c-81581a61893c",
   "metadata": {},
   "outputs": [],
   "source": [
    "fm_df.columns"
   ]
  },
  {
   "cell_type": "code",
   "execution_count": null,
   "id": "6bc7b14f-9e61-48d1-89f1-8ff4ce444edc",
   "metadata": {
    "scrolled": true
   },
   "outputs": [],
   "source": [
    "fm_df.loc[323].to_dict()"
   ]
  },
  {
   "cell_type": "markdown",
   "id": "90558b33-670a-4533-ae16-b333e2de0803",
   "metadata": {},
   "source": [
    "<br><br><br><br>\n",
    "# Merged_DF"
   ]
  },
  {
   "cell_type": "code",
   "execution_count": null,
   "id": "147c272d-50a6-4336-b34a-038d3231736b",
   "metadata": {},
   "outputs": [],
   "source": [
    "selected_leagues = ['English Premier Division',\n",
    " 'Ligue 1 Uber Eats',\n",
    " 'Spanish First Division',\n",
    " 'Bundesliga',\n",
    " 'Italian Serie A',\n",
    " 'Eredivisie',\n",
    " 'Portuguese Premier League',\n",
    " 'Turkish Super League']"
   ]
  },
  {
   "cell_type": "code",
   "execution_count": null,
   "id": "c30c88f8-7cc0-4985-be9f-82332d0148c4",
   "metadata": {
    "scrolled": true
   },
   "outputs": [],
   "source": [
    "fm_df = fm_df[fm_df.Division.isin(selected_leagues)]"
   ]
  },
  {
   "cell_type": "code",
   "execution_count": null,
   "id": "89566db5-d2b9-47fc-a223-51b64194a834",
   "metadata": {},
   "outputs": [],
   "source": [
    "for leg in selected_leagues:\n",
    "    q = fm_df.query(f\"Division == '{leg}'\")[\"Club\"].value_counts()\n",
    "    print(leg , \"------\", len(q.to_list()))"
   ]
  },
  {
   "cell_type": "code",
   "execution_count": null,
   "id": "5a9f6d02-0fed-4066-b4e3-7416d6a16784",
   "metadata": {},
   "outputs": [],
   "source": [
    "fm_df.query(f\"Division == 'Turkish Super League'\")[\"Club\",\"\"].value_counts()"
   ]
  },
  {
   "cell_type": "code",
   "execution_count": null,
   "id": "573fb841-51e8-410c-aecb-6468ee533441",
   "metadata": {},
   "outputs": [],
   "source": [
    "fm_df.query(f\"Club == 'Adana D.S.'\")"
   ]
  },
  {
   "cell_type": "markdown",
   "id": "10227078-13b9-4654-8286-59190778b9c4",
   "metadata": {},
   "source": [
    "<br><br><br><br>\n",
    "# Team Names Converter from fminside.com"
   ]
  },
  {
   "cell_type": "code",
   "execution_count": null,
   "id": "4868ea6d-3c28-4be0-8b7c-d2b0fc8fc7e1",
   "metadata": {},
   "outputs": [],
   "source": [
    "url_df = fm_df.drop_duplicates(subset=[\"Club\"], keep=\"first\")\n",
    "url_df.loc[:, 'UID'] = url_df['UID'].apply(lambda text: str(text))\n",
    "url_df = url_df[[\"Club\", \"UID\"]]"
   ]
  },
  {
   "cell_type": "code",
   "execution_count": null,
   "id": "70aa000c-2b3b-4f51-8a55-92031c9f0d46",
   "metadata": {},
   "outputs": [],
   "source": [
    "def Player_to_URL(player_id):\n",
    "    slug = player_id + \"-x-x\"\n",
    "    return f\"https://fminside.net/players/3-fm-23/{slug}\""
   ]
  },
  {
   "cell_type": "code",
   "execution_count": null,
   "id": "f238ccb6-e02f-4954-8641-612e82532ed4",
   "metadata": {},
   "outputs": [],
   "source": [
    "def Convert_Team_Name_From_URL(player_id, club):\n",
    "    url = Player_to_URL(player_id)\n",
    "    req = requests.get(url)\n",
    "    html = req.content\n",
    "    soup = BeautifulSoup(html, \"lxml\")\n",
    "    club_name_element = soup.find('div', class_='meta').find('ul').find_all('li')[0].text\n",
    "    club_name = club_name_element.strip()\n",
    "    return {\"fm\":club,\"normal\":club_name}"
   ]
  },
  {
   "cell_type": "code",
   "execution_count": null,
   "id": "7754a241-968a-484d-b516-ab0f05dfe7f7",
   "metadata": {},
   "outputs": [],
   "source": [
    "team_mapping_array = []\n",
    "raw_names = url_df.to_dict()\n",
    "uids = url_df[\"UID\"]\n",
    "clubs = url_df[\"Club\"]\n",
    "clubs_array = clubs.to_list()"
   ]
  },
  {
   "cell_type": "code",
   "execution_count": null,
   "id": "db05b9c5-e7b1-4da3-ba84-a3b58257a10d",
   "metadata": {
    "scrolled": true
   },
   "outputs": [],
   "source": [
    "# for uid,club in zip(uids,clubs):\n",
    "#     new_entry = Convert_Team_Name_From_URL(uid, club)\n",
    "#     print(new_entry)\n",
    "#     team_mapping_array.append(new_entry)"
   ]
  },
  {
   "cell_type": "code",
   "execution_count": null,
   "id": "aba18a00-4882-4ee8-b852-51e0b6462ac9",
   "metadata": {},
   "outputs": [],
   "source": [
    "fminside_normal_names = pd.read_csv(\"fminside_team_names.csv\")\n",
    "merged_df = pd.merge(fm_df, fminside_normal_names, how='inner', left_on='Club', right_on='fm')\n",
    "merged_df['Club'] = merged_df['normal'].where(merged_df['Club'] == merged_df['fm'], merged_df['Club'])\n",
    "# merged_df.drop(['fm', 'normal'], axis=1, inplace=True)\n",
    "merged_df = merged_df[merged_df.fm.isin(clubs_array)]"
   ]
  },
  {
   "cell_type": "code",
   "execution_count": null,
   "id": "cd28e502-84f8-4b0b-82e6-cae079ab2912",
   "metadata": {},
   "outputs": [],
   "source": [
    "merged_df.query(\"Name in 'Gökhan Inler'\").to_dict()"
   ]
  },
  {
   "cell_type": "code",
   "execution_count": null,
   "id": "a23d6578-54c8-405b-9ea8-8de40220a239",
   "metadata": {},
   "outputs": [],
   "source": []
  }
 ],
 "metadata": {
  "kernelspec": {
   "display_name": "Python 3 (ipykernel)",
   "language": "python",
   "name": "python3"
  },
  "language_info": {
   "codemirror_mode": {
    "name": "ipython",
    "version": 3
   },
   "file_extension": ".py",
   "mimetype": "text/x-python",
   "name": "python",
   "nbconvert_exporter": "python",
   "pygments_lexer": "ipython3",
   "version": "3.11.7"
  }
 },
 "nbformat": 4,
 "nbformat_minor": 5
}
