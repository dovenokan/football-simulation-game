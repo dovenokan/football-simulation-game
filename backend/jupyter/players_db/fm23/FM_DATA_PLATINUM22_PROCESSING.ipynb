{
 "cells": [
  {
   "cell_type": "code",
   "execution_count": 260,
   "id": "a2bbe25e-f4a0-46c2-83d6-b9d7d5460388",
   "metadata": {},
   "outputs": [],
   "source": [
    "import pandas as pd\n",
    "import numpy as np\n",
    "import seaborn as sns\n",
    "import re\n",
    "from bs4 import BeautifulSoup\n",
    "import lxml\n",
    "import requests\n",
    "import unicodedata"
   ]
  },
  {
   "cell_type": "code",
   "execution_count": 261,
   "id": "010eea71-d9f8-43ab-8c24-c2156611ed9b",
   "metadata": {},
   "outputs": [],
   "source": [
    "fm_df = pd.read_csv(\"uluta_fm23data.csv\")\n",
    "# platinum_df = pd.read_csv(\"platinum22_fm23data.csv\")"
   ]
  },
  {
   "cell_type": "code",
   "execution_count": 262,
   "id": "d66fb9db-83a4-4f2b-bd41-1b6d823a47dd",
   "metadata": {},
   "outputs": [],
   "source": [
    "fm_df.columns = [col.strip() for col in fm_df.columns]\n",
    "\n",
    "for col in fm_df.select_dtypes(\"object\").columns:\n",
    "   fm_df[col] = fm_df[col].apply(lambda x: x.strip())"
   ]
  },
  {
   "cell_type": "code",
   "execution_count": 263,
   "id": "17509ffb-c8e9-43c7-8f23-61339b783dd3",
   "metadata": {},
   "outputs": [],
   "source": [
    "convert_date_format = lambda x: pd.to_datetime(x, format='%d/%m/%Y').strftime('%Y-%m-%d')\n",
    "fm_df['DoB'] = fm_df['DoB'].apply(lambda x: x.split(\" \")[0])\n",
    "fm_df['DoB'] = fm_df['DoB'].apply(convert_date_format)"
   ]
  },
  {
   "cell_type": "code",
   "execution_count": 264,
   "id": "9c9e2683-1297-43ee-8e6f-711af55a32d5",
   "metadata": {},
   "outputs": [],
   "source": [
    "fm_df['Height'] = fm_df['Height'].apply(lambda x: x.split(\" \")[0])"
   ]
  },
  {
   "cell_type": "code",
   "execution_count": 265,
   "id": "7fffd576-cd53-4057-879c-81581a61893c",
   "metadata": {},
   "outputs": [
    {
     "data": {
      "text/plain": [
       "Index(['UID', 'Inf', 'Name', 'DoB', 'Nat', 'Division', 'Club', 'Based',\n",
       "       'Preferred Foot', 'Right Foot', 'Left Foot', 'Position', 'Height',\n",
       "       'Weight', 'Age', 'Transfer Value', 'Wage', 'AT Apps', 'AT Gls', 'Team',\n",
       "       'Caps', 'Yth Apps', 'Style', 'Rc Injury', 'Best Role', 'Best Duty',\n",
       "       'Best Pos', 'Acc', 'Aer', 'Agg', 'Agi', 'Ant', 'Bal', 'Bra', 'Cmd',\n",
       "       'Com', 'Cmp', 'Cnt', 'Cor', 'Cro', 'Dec', 'Det', 'Dri', 'Ecc', 'Fin',\n",
       "       'Fir', 'Fla', 'Fre', 'Han', 'Hea', 'Jum', 'Kic', 'Ldr', 'Lon', 'L Th',\n",
       "       'Mar', 'Nat .1', 'OtB', '1v1', 'Pac', 'Pas', 'Pen', 'Pos', 'Pun', 'Ref',\n",
       "       'TRO', 'Sta', 'Str', 'Tck', 'Tea', 'Tec', 'Thr', 'Vis', 'Wor'],\n",
       "      dtype='object')"
      ]
     },
     "execution_count": 265,
     "metadata": {},
     "output_type": "execute_result"
    }
   ],
   "source": [
    "fm_df.columns"
   ]
  },
  {
   "cell_type": "code",
   "execution_count": 266,
   "id": "6bc7b14f-9e61-48d1-89f1-8ff4ce444edc",
   "metadata": {
    "scrolled": true
   },
   "outputs": [
    {
     "data": {
      "text/plain": [
       "{'UID': 14023219,\n",
       " 'Inf': '',\n",
       " 'Name': 'Guillermo Fernández',\n",
       " 'DoB': '1991-10-11',\n",
       " 'Nat': 'ARG',\n",
       " 'Division': 'Argentine Premier Division',\n",
       " 'Club': 'Boca',\n",
       " 'Based': 'Argentina (Premier Division)',\n",
       " 'Preferred Foot': 'Right',\n",
       " 'Right Foot': 'Very Strong',\n",
       " 'Left Foot': 'Reasonable',\n",
       " 'Position': 'DM, M/AM (C)',\n",
       " 'Height': '178',\n",
       " 'Weight': '75 kg',\n",
       " 'Age': 30,\n",
       " 'Transfer Value': '€950K - €5.4M',\n",
       " 'Wage': '€68,500 p/m',\n",
       " 'AT Apps': '240',\n",
       " 'AT Gls': '22',\n",
       " 'Team': '',\n",
       " 'Caps': 0,\n",
       " 'Yth Apps': '-',\n",
       " 'Style': 'Intelligent',\n",
       " 'Rc Injury': '-',\n",
       " 'Best Role': 'Deep Lying Playmaker',\n",
       " 'Best Duty': 'Support',\n",
       " 'Best Pos': 'M (C)',\n",
       " 'Acc': 12,\n",
       " 'Aer': 2,\n",
       " 'Agg': 9,\n",
       " 'Agi': 13,\n",
       " 'Ant': 14,\n",
       " 'Bal': 12,\n",
       " 'Bra': 9,\n",
       " 'Cmd': 2,\n",
       " 'Com': 3,\n",
       " 'Cmp': 12,\n",
       " 'Cnt': 14,\n",
       " 'Cor': 13,\n",
       " 'Cro': 13,\n",
       " 'Dec': 14,\n",
       " 'Det': 13,\n",
       " 'Dri': 13,\n",
       " 'Ecc': 4,\n",
       " 'Fin': 12,\n",
       " 'Fir': 14,\n",
       " 'Fla': 13,\n",
       " 'Fre': 12,\n",
       " 'Han': 3,\n",
       " 'Hea': 7,\n",
       " 'Jum': 9,\n",
       " 'Kic': 1,\n",
       " 'Ldr': 6,\n",
       " 'Lon': 12,\n",
       " 'L Th': 5,\n",
       " 'Mar': 9,\n",
       " 'Nat .1': 15,\n",
       " 'OtB': 11,\n",
       " '1v1': 1,\n",
       " 'Pac': 12,\n",
       " 'Pas': 14,\n",
       " 'Pen': 10,\n",
       " 'Pos': 12,\n",
       " 'Pun': 4,\n",
       " 'Ref': 1,\n",
       " 'TRO': 3,\n",
       " 'Sta': 14,\n",
       " 'Str': 12,\n",
       " 'Tck': 10,\n",
       " 'Tea': 14,\n",
       " 'Tec': 13,\n",
       " 'Thr': 2,\n",
       " 'Vis': 15,\n",
       " 'Wor': 14}"
      ]
     },
     "execution_count": 266,
     "metadata": {},
     "output_type": "execute_result"
    }
   ],
   "source": [
    "fm_df.loc[323].to_dict()"
   ]
  },
  {
   "cell_type": "markdown",
   "id": "90558b33-670a-4533-ae16-b333e2de0803",
   "metadata": {},
   "source": [
    "<br><br><br><br>\n",
    "# Merged_DF"
   ]
  },
  {
   "cell_type": "code",
   "execution_count": 267,
   "id": "147c272d-50a6-4336-b34a-038d3231736b",
   "metadata": {},
   "outputs": [],
   "source": [
    "selected_leagues = ['English Premier Division',\n",
    " 'Ligue 1 Uber Eats',\n",
    " 'Spanish First Division',\n",
    " 'Bundesliga',\n",
    " 'Italian Serie A',\n",
    " 'Eredivisie',\n",
    " 'Portuguese Premier League',\n",
    " 'Turkish Super League']"
   ]
  },
  {
   "cell_type": "code",
   "execution_count": 268,
   "id": "c30c88f8-7cc0-4985-be9f-82332d0148c4",
   "metadata": {
    "scrolled": true
   },
   "outputs": [],
   "source": [
    "fm_df = fm_df[fm_df.Division.isin(selected_leagues)]"
   ]
  },
  {
   "cell_type": "code",
   "execution_count": 269,
   "id": "89566db5-d2b9-47fc-a223-51b64194a834",
   "metadata": {},
   "outputs": [
    {
     "name": "stdout",
     "output_type": "stream",
     "text": [
      "English Premier Division ------ 20\n",
      "Ligue 1 Uber Eats ------ 20\n",
      "Spanish First Division ------ 20\n",
      "Bundesliga ------ 18\n",
      "Italian Serie A ------ 20\n",
      "Eredivisie ------ 18\n",
      "Portuguese Premier League ------ 18\n",
      "Turkish Super League ------ 19\n"
     ]
    }
   ],
   "source": [
    "for leg in selected_leagues:\n",
    "    q = fm_df.query(f\"Division == '{leg}'\")[\"Club\"].value_counts()\n",
    "    print(leg , \"------\", len(q.to_list()))"
   ]
  },
  {
   "cell_type": "code",
   "execution_count": 270,
   "id": "5a9f6d02-0fed-4066-b4e3-7416d6a16784",
   "metadata": {},
   "outputs": [
    {
     "ename": "KeyError",
     "evalue": "('Club', '')",
     "output_type": "error",
     "traceback": [
      "\u001b[1;31m---------------------------------------------------------------------------\u001b[0m",
      "\u001b[1;31mKeyError\u001b[0m                                  Traceback (most recent call last)",
      "File \u001b[1;32m~\\anaconda3\\Lib\\site-packages\\pandas\\core\\indexes\\base.py:3791\u001b[0m, in \u001b[0;36mIndex.get_loc\u001b[1;34m(self, key)\u001b[0m\n\u001b[0;32m   3790\u001b[0m \u001b[38;5;28;01mtry\u001b[39;00m:\n\u001b[1;32m-> 3791\u001b[0m     \u001b[38;5;28;01mreturn\u001b[39;00m \u001b[38;5;28mself\u001b[39m\u001b[38;5;241m.\u001b[39m_engine\u001b[38;5;241m.\u001b[39mget_loc(casted_key)\n\u001b[0;32m   3792\u001b[0m \u001b[38;5;28;01mexcept\u001b[39;00m \u001b[38;5;167;01mKeyError\u001b[39;00m \u001b[38;5;28;01mas\u001b[39;00m err:\n",
      "File \u001b[1;32mindex.pyx:152\u001b[0m, in \u001b[0;36mpandas._libs.index.IndexEngine.get_loc\u001b[1;34m()\u001b[0m\n",
      "File \u001b[1;32mindex.pyx:181\u001b[0m, in \u001b[0;36mpandas._libs.index.IndexEngine.get_loc\u001b[1;34m()\u001b[0m\n",
      "File \u001b[1;32mpandas\\_libs\\hashtable_class_helper.pxi:7080\u001b[0m, in \u001b[0;36mpandas._libs.hashtable.PyObjectHashTable.get_item\u001b[1;34m()\u001b[0m\n",
      "File \u001b[1;32mpandas\\_libs\\hashtable_class_helper.pxi:7088\u001b[0m, in \u001b[0;36mpandas._libs.hashtable.PyObjectHashTable.get_item\u001b[1;34m()\u001b[0m\n",
      "\u001b[1;31mKeyError\u001b[0m: ('Club', '')",
      "\nThe above exception was the direct cause of the following exception:\n",
      "\u001b[1;31mKeyError\u001b[0m                                  Traceback (most recent call last)",
      "Cell \u001b[1;32mIn[270], line 1\u001b[0m\n\u001b[1;32m----> 1\u001b[0m fm_df\u001b[38;5;241m.\u001b[39mquery(\u001b[38;5;124mf\u001b[39m\u001b[38;5;124m\"\u001b[39m\u001b[38;5;124mDivision == \u001b[39m\u001b[38;5;124m'\u001b[39m\u001b[38;5;124mTurkish Super League\u001b[39m\u001b[38;5;124m'\u001b[39m\u001b[38;5;124m\"\u001b[39m)[\u001b[38;5;124m\"\u001b[39m\u001b[38;5;124mClub\u001b[39m\u001b[38;5;124m\"\u001b[39m,\u001b[38;5;124m\"\u001b[39m\u001b[38;5;124m\"\u001b[39m]\u001b[38;5;241m.\u001b[39mvalue_counts()\n",
      "File \u001b[1;32m~\\anaconda3\\Lib\\site-packages\\pandas\\core\\frame.py:3893\u001b[0m, in \u001b[0;36mDataFrame.__getitem__\u001b[1;34m(self, key)\u001b[0m\n\u001b[0;32m   3891\u001b[0m \u001b[38;5;28;01mif\u001b[39;00m \u001b[38;5;28mself\u001b[39m\u001b[38;5;241m.\u001b[39mcolumns\u001b[38;5;241m.\u001b[39mnlevels \u001b[38;5;241m>\u001b[39m \u001b[38;5;241m1\u001b[39m:\n\u001b[0;32m   3892\u001b[0m     \u001b[38;5;28;01mreturn\u001b[39;00m \u001b[38;5;28mself\u001b[39m\u001b[38;5;241m.\u001b[39m_getitem_multilevel(key)\n\u001b[1;32m-> 3893\u001b[0m indexer \u001b[38;5;241m=\u001b[39m \u001b[38;5;28mself\u001b[39m\u001b[38;5;241m.\u001b[39mcolumns\u001b[38;5;241m.\u001b[39mget_loc(key)\n\u001b[0;32m   3894\u001b[0m \u001b[38;5;28;01mif\u001b[39;00m is_integer(indexer):\n\u001b[0;32m   3895\u001b[0m     indexer \u001b[38;5;241m=\u001b[39m [indexer]\n",
      "File \u001b[1;32m~\\anaconda3\\Lib\\site-packages\\pandas\\core\\indexes\\base.py:3798\u001b[0m, in \u001b[0;36mIndex.get_loc\u001b[1;34m(self, key)\u001b[0m\n\u001b[0;32m   3793\u001b[0m     \u001b[38;5;28;01mif\u001b[39;00m \u001b[38;5;28misinstance\u001b[39m(casted_key, \u001b[38;5;28mslice\u001b[39m) \u001b[38;5;129;01mor\u001b[39;00m (\n\u001b[0;32m   3794\u001b[0m         \u001b[38;5;28misinstance\u001b[39m(casted_key, abc\u001b[38;5;241m.\u001b[39mIterable)\n\u001b[0;32m   3795\u001b[0m         \u001b[38;5;129;01mand\u001b[39;00m \u001b[38;5;28many\u001b[39m(\u001b[38;5;28misinstance\u001b[39m(x, \u001b[38;5;28mslice\u001b[39m) \u001b[38;5;28;01mfor\u001b[39;00m x \u001b[38;5;129;01min\u001b[39;00m casted_key)\n\u001b[0;32m   3796\u001b[0m     ):\n\u001b[0;32m   3797\u001b[0m         \u001b[38;5;28;01mraise\u001b[39;00m InvalidIndexError(key)\n\u001b[1;32m-> 3798\u001b[0m     \u001b[38;5;28;01mraise\u001b[39;00m \u001b[38;5;167;01mKeyError\u001b[39;00m(key) \u001b[38;5;28;01mfrom\u001b[39;00m \u001b[38;5;21;01merr\u001b[39;00m\n\u001b[0;32m   3799\u001b[0m \u001b[38;5;28;01mexcept\u001b[39;00m \u001b[38;5;167;01mTypeError\u001b[39;00m:\n\u001b[0;32m   3800\u001b[0m     \u001b[38;5;66;03m# If we have a listlike key, _check_indexing_error will raise\u001b[39;00m\n\u001b[0;32m   3801\u001b[0m     \u001b[38;5;66;03m#  InvalidIndexError. Otherwise we fall through and re-raise\u001b[39;00m\n\u001b[0;32m   3802\u001b[0m     \u001b[38;5;66;03m#  the TypeError.\u001b[39;00m\n\u001b[0;32m   3803\u001b[0m     \u001b[38;5;28mself\u001b[39m\u001b[38;5;241m.\u001b[39m_check_indexing_error(key)\n",
      "\u001b[1;31mKeyError\u001b[0m: ('Club', '')"
     ]
    }
   ],
   "source": [
    "fm_df.query(f\"Division == 'Turkish Super League'\")[\"Club\",\"\"].value_counts()"
   ]
  },
  {
   "cell_type": "code",
   "execution_count": null,
   "id": "573fb841-51e8-410c-aecb-6468ee533441",
   "metadata": {},
   "outputs": [],
   "source": [
    "fm_df.query(f\"Club == 'Adana D.S.'\")"
   ]
  },
  {
   "cell_type": "markdown",
   "id": "10227078-13b9-4654-8286-59190778b9c4",
   "metadata": {},
   "source": [
    "<br><br><br><br>\n",
    "# Team Names Converter from fminside.com"
   ]
  },
  {
   "cell_type": "code",
   "execution_count": null,
   "id": "4868ea6d-3c28-4be0-8b7c-d2b0fc8fc7e1",
   "metadata": {},
   "outputs": [],
   "source": [
    "url_df = fm_df.drop_duplicates(subset=[\"Club\"], keep=\"first\")\n",
    "url_df.loc[:, 'UID'] = url_df['UID'].apply(lambda text: str(text))\n",
    "url_df = url_df[[\"Club\", \"UID\"]]"
   ]
  },
  {
   "cell_type": "code",
   "execution_count": null,
   "id": "70aa000c-2b3b-4f51-8a55-92031c9f0d46",
   "metadata": {},
   "outputs": [],
   "source": [
    "def Player_to_URL(player_id):\n",
    "    slug = player_id + \"-x-x\"\n",
    "    return f\"https://fminside.net/players/3-fm-23/{slug}\""
   ]
  },
  {
   "cell_type": "code",
   "execution_count": null,
   "id": "f238ccb6-e02f-4954-8641-612e82532ed4",
   "metadata": {},
   "outputs": [],
   "source": [
    "def Convert_Team_Name_From_URL(player_id, club):\n",
    "    url = Player_to_URL(player_id)\n",
    "    req = requests.get(url)\n",
    "    html = req.content\n",
    "    soup = BeautifulSoup(html, \"lxml\")\n",
    "    club_name_element = soup.find('div', class_='meta').find('ul').find_all('li')[0].text\n",
    "    club_name = club_name_element.strip()\n",
    "    return {\"fm\":club,\"normal\":club_name}"
   ]
  },
  {
   "cell_type": "code",
   "execution_count": null,
   "id": "7754a241-968a-484d-b516-ab0f05dfe7f7",
   "metadata": {},
   "outputs": [],
   "source": [
    "team_mapping_array = []\n",
    "raw_names = url_df.to_dict()\n",
    "uids = url_df[\"UID\"]\n",
    "clubs = url_df[\"Club\"]\n",
    "clubs_array = clubs.to_list()"
   ]
  },
  {
   "cell_type": "code",
   "execution_count": null,
   "id": "db05b9c5-e7b1-4da3-ba84-a3b58257a10d",
   "metadata": {
    "scrolled": true
   },
   "outputs": [],
   "source": [
    "# for uid,club in zip(uids,clubs):\n",
    "#     new_entry = Convert_Team_Name_From_URL(uid, club)\n",
    "#     print(new_entry)\n",
    "#     team_mapping_array.append(new_entry)"
   ]
  },
  {
   "cell_type": "code",
   "execution_count": null,
   "id": "aba18a00-4882-4ee8-b852-51e0b6462ac9",
   "metadata": {},
   "outputs": [],
   "source": [
    "fminside_normal_names = pd.read_csv(\"fminside_team_names.csv\")\n",
    "merged_df = pd.merge(fm_df, fminside_normal_names, how='inner', left_on='Club', right_on='fm')\n",
    "merged_df['Club'] = merged_df['normal'].where(merged_df['Club'] == merged_df['fm'], merged_df['Club'])\n",
    "# merged_df.drop(['fm', 'normal'], axis=1, inplace=True)\n",
    "merged_df = merged_df[merged_df.fm.isin(clubs_array)]"
   ]
  },
  {
   "cell_type": "code",
   "execution_count": null,
   "id": "cd28e502-84f8-4b0b-82e6-cae079ab2912",
   "metadata": {},
   "outputs": [],
   "source": [
    "merged_df.query(\"Name in 'Gökhan Inler'\").to_dict()"
   ]
  },
  {
   "cell_type": "code",
   "execution_count": null,
   "id": "a23d6578-54c8-405b-9ea8-8de40220a239",
   "metadata": {},
   "outputs": [],
   "source": []
  }
 ],
 "metadata": {
  "kernelspec": {
   "display_name": "Python 3 (ipykernel)",
   "language": "python",
   "name": "python3"
  },
  "language_info": {
   "codemirror_mode": {
    "name": "ipython",
    "version": 3
   },
   "file_extension": ".py",
   "mimetype": "text/x-python",
   "name": "python",
   "nbconvert_exporter": "python",
   "pygments_lexer": "ipython3",
   "version": "3.11.7"
  }
 },
 "nbformat": 4,
 "nbformat_minor": 5
}
