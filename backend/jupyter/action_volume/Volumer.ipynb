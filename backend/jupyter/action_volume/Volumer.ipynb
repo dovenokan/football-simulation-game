{
 "cells": [
  {
   "cell_type": "code",
   "execution_count": 1,
   "id": "4eb1678c-7551-4975-9050-e1565d189834",
   "metadata": {},
   "outputs": [],
   "source": [
    "import pandas as pd\n",
    "import numpy as np\n",
    "import os\n",
    "import sys\n",
    "import math\n",
    "import json\n",
    "from sklearn.model_selection import train_test_split\n",
    "from sklearn.linear_model import LinearRegression\n",
    "from sklearn.metrics import mean_absolute_error, mean_squared_error, r2_score\n",
    "from sklearn.preprocessing import StandardScaler\n",
    "import seaborn as sns\n",
    "import matplotlib.pyplot as plt\n",
    "from mplsoccer.pitch import Pitch\n",
    "import matplotlib.patches as patches\n",
    "from statsbombpy import sb\n",
    "from statsbombpy.api_client import NoAuthWarning\n",
    "from collections import Counter\n",
    "from IPython.display import Markdown"
   ]
  },
  {
   "cell_type": "code",
   "execution_count": 2,
   "id": "54185400-e4e9-4fc3-811f-f5e755ce79e4",
   "metadata": {},
   "outputs": [],
   "source": [
    "import warnings\n",
    "from sklearn.exceptions import UndefinedMetricWarning\n",
    "from pandas.errors import SettingWithCopyWarning\n",
    "warnings.filterwarnings(action='ignore', category=UndefinedMetricWarning)\n",
    "warnings.simplefilter(action='ignore', category=(SettingWithCopyWarning))\n",
    "warnings.simplefilter(action='ignore', category=(FutureWarning))\n",
    "warnings.simplefilter(action='ignore', category=NoAuthWarning)\n",
    "warnings.simplefilter(action='ignore', category=RuntimeWarning)"
   ]
  },
  {
   "cell_type": "code",
   "execution_count": 3,
   "id": "686e33dc-d271-44f5-94d2-04afed5404d0",
   "metadata": {},
   "outputs": [],
   "source": [
    "parent_dir = os.path.abspath(os.path.join(os.path.dirname(\"./\"), '..'))\n",
    "sys.path.append(parent_dir)\n",
    "from tools.lineup_tpr import LineupTPR\n",
    "from tools.draw_pitch_plot import Draw_Pitch_Actions\n",
    "from tools.pickler import Save_Model, Load_Model\n",
    "from tools.fm_attributes import Attributes as fm_attributes"
   ]
  },
  {
   "cell_type": "markdown",
   "id": "eaef8673-ce62-450d-9724-4de681ff7ccb",
   "metadata": {
    "jp-MarkdownHeadingCollapsed": true
   },
   "source": [
    "<br><br><br><br><br><br><br><br>\n",
    "<h2 style=\"color:black;background:white;\">Start</h2>"
   ]
  },
  {
   "cell_type": "code",
   "execution_count": 4,
   "id": "8247c91a-81dd-46c5-a57b-56a6b9044876",
   "metadata": {},
   "outputs": [],
   "source": [
    "defense = pd.read_csv(\"../match_logs/Big5@22-23@defense.csv\")\n",
    "gca = pd.read_csv(\"../match_logs/Big5@22-23@gca.csv\")\n",
    "keeper = pd.read_csv(\"../match_logs/Big5@22-23@keeper.csv\")\n",
    "misc = pd.read_csv(\"../match_logs/Big5@22-23@misc.csv\")\n",
    "passing = pd.read_csv(\"../match_logs/Big5@22-23@passing.csv\")\n",
    "passing_types = pd.read_csv(\"../match_logs/Big5@22-23@passing_types.csv\")\n",
    "possession = pd.read_csv(\"../match_logs/Big5@22-23@possession.csv\")\n",
    "shooting = pd.read_csv(\"../match_logs/Big5@22-23@shooting.csv\")"
   ]
  },
  {
   "cell_type": "code",
   "execution_count": 5,
   "id": "9b8201ae-0d10-4f5a-88a2-06ecd7ebc5ae",
   "metadata": {},
   "outputs": [
    {
     "data": {
      "text/html": [
       "<div>\n",
       "<style scoped>\n",
       "    .dataframe tbody tr th:only-of-type {\n",
       "        vertical-align: middle;\n",
       "    }\n",
       "\n",
       "    .dataframe tbody tr th {\n",
       "        vertical-align: top;\n",
       "    }\n",
       "\n",
       "    .dataframe thead th {\n",
       "        text-align: right;\n",
       "    }\n",
       "</style>\n",
       "<table border=\"1\" class=\"dataframe\">\n",
       "  <thead>\n",
       "    <tr style=\"text-align: right;\">\n",
       "      <th></th>\n",
       "      <th>Club</th>\n",
       "      <th>Name</th>\n",
       "      <th>Best_Pos</th>\n",
       "      <th>tpr</th>\n",
       "    </tr>\n",
       "  </thead>\n",
       "  <tbody>\n",
       "    <tr>\n",
       "      <th>3</th>\n",
       "      <td>FC Bayern</td>\n",
       "      <td>Manuel Neuer</td>\n",
       "      <td>GK</td>\n",
       "      <td>92</td>\n",
       "    </tr>\n",
       "    <tr>\n",
       "      <th>4164</th>\n",
       "      <td>FC Barcelona</td>\n",
       "      <td>Robert Lewandowski</td>\n",
       "      <td>ST</td>\n",
       "      <td>92</td>\n",
       "    </tr>\n",
       "    <tr>\n",
       "      <th>3193</th>\n",
       "      <td>Manchester City</td>\n",
       "      <td>Erling Haaland</td>\n",
       "      <td>ST</td>\n",
       "      <td>90</td>\n",
       "    </tr>\n",
       "    <tr>\n",
       "      <th>3195</th>\n",
       "      <td>Tottenham Hotspur</td>\n",
       "      <td>Harry Kane</td>\n",
       "      <td>ST</td>\n",
       "      <td>90</td>\n",
       "    </tr>\n",
       "    <tr>\n",
       "      <th>4172</th>\n",
       "      <td>FC Barcelona</td>\n",
       "      <td>Marc-André ter Stegen</td>\n",
       "      <td>GK</td>\n",
       "      <td>89</td>\n",
       "    </tr>\n",
       "  </tbody>\n",
       "</table>\n",
       "</div>"
      ],
      "text/plain": [
       "                   Club                   Name Best_Pos  tpr\n",
       "3             FC Bayern           Manuel Neuer       GK   92\n",
       "4164       FC Barcelona     Robert Lewandowski       ST   92\n",
       "3193    Manchester City         Erling Haaland       ST   90\n",
       "3195  Tottenham Hotspur             Harry Kane       ST   90\n",
       "4172       FC Barcelona  Marc-André ter Stegen       GK   89"
      ]
     },
     "execution_count": 5,
     "metadata": {},
     "output_type": "execute_result"
    }
   ],
   "source": [
    "pd.read_csv(\"../players_db/fm23/fm23db_processed.csv\").sort_values(by=\"tpr\",ascending=False)[[\"Club\",\"Name\",\"Best_Pos\",\"tpr\"]].head(5)"
   ]
  },
  {
   "cell_type": "code",
   "execution_count": 6,
   "id": "0e032292-3dee-4090-8d06-9602ad145149",
   "metadata": {},
   "outputs": [],
   "source": [
    "players_df = pd.read_csv(\"../players_db/fm23/fm23db_processed.csv\")"
   ]
  },
  {
   "cell_type": "code",
   "execution_count": 7,
   "id": "98115ce7-e831-4c3a-b6d2-ae8984554f45",
   "metadata": {},
   "outputs": [],
   "source": [
    "team_df = pd.read_csv(\"../players_db/fm23/team_ratings.csv\")\n",
    "team_df_cols = team_df.columns"
   ]
  },
  {
   "cell_type": "code",
   "execution_count": 8,
   "id": "689478e7-1c9c-4de2-b230-787354b42133",
   "metadata": {},
   "outputs": [],
   "source": [
    "tpr_cols = []\n",
    "team_rating_cols_only_numeric = []\n",
    "except_cols = [\"Club\",\"Based\",\"Division\",\"Club_id\",\"League_id\",\"fbref_name\"]\n",
    "\n",
    "for col in team_df_cols:\n",
    "    if col not in except_cols:\n",
    "        team_rating_cols_only_numeric.append(col)\n",
    "        for xy in [\"x\",\"y\"]:\n",
    "            xy_col = f\"{col}_{xy}\"\n",
    "            tpr_cols.append(xy_col)"
   ]
  },
  {
   "cell_type": "code",
   "execution_count": 9,
   "id": "7dd85a72-4e9e-46f1-adeb-5e6ccd87140b",
   "metadata": {},
   "outputs": [
    {
     "data": {
      "text/plain": [
       "76"
      ]
     },
     "execution_count": 9,
     "metadata": {},
     "output_type": "execute_result"
    }
   ],
   "source": [
    "len(tpr_cols)"
   ]
  },
  {
   "cell_type": "code",
   "execution_count": 10,
   "id": "d056adf9-4c36-4214-83c0-6a5cb5998770",
   "metadata": {},
   "outputs": [
    {
     "data": {
      "text/html": [
       "<div>\n",
       "<style scoped>\n",
       "    .dataframe tbody tr th:only-of-type {\n",
       "        vertical-align: middle;\n",
       "    }\n",
       "\n",
       "    .dataframe tbody tr th {\n",
       "        vertical-align: top;\n",
       "    }\n",
       "\n",
       "    .dataframe thead th {\n",
       "        text-align: right;\n",
       "    }\n",
       "</style>\n",
       "<table border=\"1\" class=\"dataframe\">\n",
       "  <thead>\n",
       "    <tr style=\"text-align: right;\">\n",
       "      <th></th>\n",
       "      <th>Club</th>\n",
       "      <th>GK</th>\n",
       "      <th>Based</th>\n",
       "      <th>Division</th>\n",
       "      <th>Club_id</th>\n",
       "      <th>League_id</th>\n",
       "      <th>tpr</th>\n",
       "      <th>Anticipation</th>\n",
       "      <th>Stamina</th>\n",
       "      <th>Balance</th>\n",
       "      <th>...</th>\n",
       "      <th>Corners</th>\n",
       "      <th>Leadership</th>\n",
       "      <th>Teamwork</th>\n",
       "      <th>Strength</th>\n",
       "      <th>Determination</th>\n",
       "      <th>Work_Rate</th>\n",
       "      <th>Long_Shots</th>\n",
       "      <th>Passing</th>\n",
       "      <th>First_Touch</th>\n",
       "      <th>fbref_name</th>\n",
       "    </tr>\n",
       "  </thead>\n",
       "  <tbody>\n",
       "    <tr>\n",
       "      <th>0</th>\n",
       "      <td>FC Bayern</td>\n",
       "      <td>92</td>\n",
       "      <td>Germany (Bundesliga)</td>\n",
       "      <td>Bundesliga</td>\n",
       "      <td>3704</td>\n",
       "      <td>185</td>\n",
       "      <td>92</td>\n",
       "      <td>85</td>\n",
       "      <td>87</td>\n",
       "      <td>77</td>\n",
       "      <td>...</td>\n",
       "      <td>71</td>\n",
       "      <td>87</td>\n",
       "      <td>86</td>\n",
       "      <td>82</td>\n",
       "      <td>88</td>\n",
       "      <td>85</td>\n",
       "      <td>84</td>\n",
       "      <td>76</td>\n",
       "      <td>73</td>\n",
       "      <td>Bayern Munich</td>\n",
       "    </tr>\n",
       "    <tr>\n",
       "      <th>2</th>\n",
       "      <td>Liverpool</td>\n",
       "      <td>86</td>\n",
       "      <td>England (Premier Division)</td>\n",
       "      <td>English Premier Division</td>\n",
       "      <td>6518</td>\n",
       "      <td>354</td>\n",
       "      <td>92</td>\n",
       "      <td>83</td>\n",
       "      <td>85</td>\n",
       "      <td>87</td>\n",
       "      <td>...</td>\n",
       "      <td>78</td>\n",
       "      <td>90</td>\n",
       "      <td>88</td>\n",
       "      <td>81</td>\n",
       "      <td>86</td>\n",
       "      <td>85</td>\n",
       "      <td>66</td>\n",
       "      <td>85</td>\n",
       "      <td>88</td>\n",
       "      <td>Liverpool</td>\n",
       "    </tr>\n",
       "  </tbody>\n",
       "</table>\n",
       "<p>2 rows × 44 columns</p>\n",
       "</div>"
      ],
      "text/plain": [
       "        Club  GK                       Based                  Division  \\\n",
       "0  FC Bayern  92        Germany (Bundesliga)                Bundesliga   \n",
       "2  Liverpool  86  England (Premier Division)  English Premier Division   \n",
       "\n",
       "   Club_id  League_id  tpr  Anticipation  Stamina  Balance  ...  Corners  \\\n",
       "0     3704        185   92            85       87       77  ...       71   \n",
       "2     6518        354   92            83       85       87  ...       78   \n",
       "\n",
       "   Leadership  Teamwork  Strength  Determination  Work_Rate  Long_Shots  \\\n",
       "0          87        86        82             88         85          84   \n",
       "2          90        88        81             86         85          66   \n",
       "\n",
       "   Passing  First_Touch     fbref_name  \n",
       "0       76           73  Bayern Munich  \n",
       "2       85           88      Liverpool  \n",
       "\n",
       "[2 rows x 44 columns]"
      ]
     },
     "execution_count": 10,
     "metadata": {},
     "output_type": "execute_result"
    }
   ],
   "source": [
    "team_df.sort_values(\"tpr\", ascending=False).head(n=2)"
   ]
  },
  {
   "cell_type": "markdown",
   "id": "8bb6f15c-b6a8-4fb4-bd78-104092cfbdc5",
   "metadata": {
    "jp-MarkdownHeadingCollapsed": true
   },
   "source": [
    "<br><br><br><br><br><br><br><br>\n",
    "<h2 style=\"color:orange;background:blue;\">@.  Logs to Regression</h2>"
   ]
  },
  {
   "cell_type": "code",
   "execution_count": 11,
   "id": "34632f08-a385-4da1-865a-ea45ea96f9d2",
   "metadata": {},
   "outputs": [
    {
     "data": {
      "text/plain": [
       "Touches              596.650246\n",
       "Attacking_Touches    518.024357\n",
       "Error                 78.625889\n",
       "dtype: float64"
      ]
     },
     "execution_count": 11,
     "metadata": {},
     "output_type": "execute_result"
    }
   ],
   "source": [
    "touches_df = possession.copy()\n",
    "touches_df[\"Attacking_Touches\"] = possession.Att + passing.Att + shooting.Sh\n",
    "touches_df[\"Error\"] = touches_df[\"Touches\"]-touches_df[\"Attacking_Touches\"]\n",
    "touches_df[[\"Club\",\"Touches\",\"Attacking_Touches\",\"Error\"]].mean(numeric_only=True)"
   ]
  },
  {
   "cell_type": "code",
   "execution_count": 12,
   "id": "2c64a777-9a68-41b0-9234-668c67db57c1",
   "metadata": {},
   "outputs": [],
   "source": [
    "#touches_df.to_csv(\"../match_logs/Big5@22-23@attacking_touches.csv\")"
   ]
  },
  {
   "cell_type": "code",
   "execution_count": 13,
   "id": "61b853a5-53a9-4f81-805c-1c0143aea5ec",
   "metadata": {},
   "outputs": [],
   "source": [
    "ATTRIBUTES_DICT = {\n",
    "    \"passing\":\"Att\",\n",
    "    \"shooting\":\"Sh\",\n",
    "    \"gca\":\"SCA\",\n",
    "    \"possession\":\"Att\",\n",
    "    \"touches_df\":\"Attacking_Touches\"\n",
    "}"
   ]
  },
  {
   "cell_type": "code",
   "execution_count": 14,
   "id": "4c95f7f6-d4ee-4138-a719-fc8938d42c8d",
   "metadata": {},
   "outputs": [],
   "source": [
    "def Prepare_Logs(action_title, action_attribute, team_df):\n",
    "    CURRENT_DATAFRAME_NAME = action_title\n",
    "    attribute = action_attribute\n",
    "    CURRENT_DATAFRAME = globals()[CURRENT_DATAFRAME_NAME]\n",
    "    CURRENT_DATAFRAME[\"Unnamed: 0\"] = \"itsanobject\"\n",
    "    DATAFRAME_COLUMNS = list(CURRENT_DATAFRAME.columns)\n",
    "    NUMERIC_DATAFRAME_COLUMNS = list(CURRENT_DATAFRAME.select_dtypes(exclude=\"object\").columns)\n",
    "    DESCRIBE = CURRENT_DATAFRAME[NUMERIC_DATAFRAME_COLUMNS].describe().loc[['count','min', 'mean', 'max']]\n",
    "    \n",
    "    merged_df_1 = pd.merge(CURRENT_DATAFRAME, team_df, on=\"Club\", how=\"inner\")  \n",
    "    merged_df_2 = pd.merge(merged_df_1, team_df, left_on=\"Opponent\", right_on=\"fbref_name\", how=\"inner\") \n",
    "    merged_df = merged_df_2.copy()\n",
    "    merged_df[\"Versus_Title\"] = merged_df.Club_x + \" plays vs \" + merged_df.Club_y + \" as \" + merged_df.Venue + \" team\"\n",
    "    merged_df[\"tpr_diff\"] = merged_df.tpr_x - merged_df.tpr_y\n",
    "    merged_df[\"tpr_diff_abs\"] = abs(merged_df.tpr_x - merged_df.tpr_y)\n",
    "    merged_df[\"goal_diff\"] = merged_df.GF - merged_df.GA\n",
    "    merged_df[\"goal_diff_abs\"] = abs(merged_df.GF - merged_df.GA)\n",
    "    merged_df = merged_df.query(\"goal_diff > 0 and tpr_diff > 0\")\n",
    "    MERGED_NUMERIC_DATAFRAME_COLUMNS = list(merged_df.select_dtypes(exclude=\"object\").columns)\n",
    "    reg_df = merged_df[['Club_x','Club_y',\"Versus_Title\",\"Date\"] + MERGED_NUMERIC_DATAFRAME_COLUMNS] \n",
    "    return {\n",
    "        \"reg_df\": reg_df.dropna(),\n",
    "        \"merged_df\": merged_df,\n",
    "        \"merged_df_1\": merged_df_1,\n",
    "        \"merged_df_2\": merged_df_2\n",
    "    }"
   ]
  },
  {
   "cell_type": "code",
   "execution_count": 15,
   "id": "4e459cec-2223-4e7f-945f-40734d11dad6",
   "metadata": {},
   "outputs": [
    {
     "data": {
      "text/plain": [
       "tpr_x                                                          72\n",
       "tpr_y                                                          64\n",
       "Versus_Title    Brighton & Hove Albion plays vs Bournemouth as...\n",
       "Date                                                   2023-04-04\n",
       "Name: 71, dtype: object"
      ]
     },
     "execution_count": 15,
     "metadata": {},
     "output_type": "execute_result"
    }
   ],
   "source": [
    "Prepare_Logs(\"shooting\", \"Sh\", team_df)[\"reg_df\"].head(n=254).iloc[25][[\"tpr_x\",\"tpr_y\",\"Versus_Title\",\"Date\"]]"
   ]
  },
  {
   "cell_type": "markdown",
   "id": "a279e009-2276-4aa1-b216-143edec81434",
   "metadata": {
    "jp-MarkdownHeadingCollapsed": true
   },
   "source": [
    "<br><br><br><br><br><br><br><br>\n",
    "<h2 style=\"color:white;background:darkred;\">  Regression</h2>"
   ]
  },
  {
   "cell_type": "code",
   "execution_count": 16,
   "id": "8a40890a-583b-41d1-ba62-87899fd84ea5",
   "metadata": {},
   "outputs": [],
   "source": [
    "def Logs_to_Regression(action_title, action_attribute, team_df, formula_df, tpr_cols):\n",
    "    attribute = action_attribute\n",
    "    reg_df = Prepare_Logs(action_title, action_attribute, team_df)[\"reg_df\"].dropna(axis=0)\n",
    "    \n",
    "    formula_indexes = formula_df[formula_df.index.str.contains(action_title, case=True)].index.tolist()\n",
    "    formula_cols = [col.replace(f\"{action_title}_\", \"\") for col in formula_indexes] \n",
    "    \n",
    "    NUMERIC_DATAFRAME_COLUMNS = [attribute]\n",
    "    for attribute in NUMERIC_DATAFRAME_COLUMNS:\n",
    "        X = reg_df[formula_cols]\n",
    "        Y = reg_df[[attribute]]\n",
    "        \n",
    "        X_train, X_test, Y_train, Y_test = train_test_split(X, Y, test_size=0.2, random_state=0)\n",
    "        model = LinearRegression()\n",
    "        model.fit(X_train, Y_train)\n",
    "        Y_pred = model.predict(X_test)\n",
    "        \n",
    "        formula_df.loc[formula_indexes, \"coef\"] = model.coef_.flatten()\n",
    "        formula_df.loc[formula_indexes, \"intercept\" ] = model.intercept_[0]\n",
    "    \n",
    "        mse = mean_squared_error(Y_test, Y_pred)\n",
    "        r2 = r2_score(Y_test, Y_pred)\n",
    "        print(f'{action_title}.{attribute} --- Mean Squared Error: {mse}')\n",
    "        print(f'{action_title}.{attribute} --- R^2 Score: {r2}')\n",
    "        # formula_df.to_excel(f\"{action_title.capitalize()}_Coefficients.xlsx\")\n",
    "        return formula_df"
   ]
  },
  {
   "cell_type": "code",
   "execution_count": 17,
   "id": "f32a10e1-8455-4bbf-800e-050996533ad2",
   "metadata": {},
   "outputs": [],
   "source": [
    "attribute_cols = ATTRIBUTES_DICT.keys()\n",
    "formula_indexes = []\n",
    "# tpr_cols = [\"tpr_x\",\"tpr_y\"]\n",
    "for attribute_title in attribute_cols:\n",
    "    for tpr_col in tpr_cols:\n",
    "        action_col = f\"{attribute_title}_{tpr_col}\"\n",
    "        formula_indexes.append(action_col)\n",
    "formula_df = pd.DataFrame(index=formula_indexes)"
   ]
  },
  {
   "cell_type": "code",
   "execution_count": 18,
   "id": "58c03e1b-a754-4a39-a265-bbb5abf1aaac",
   "metadata": {},
   "outputs": [
    {
     "name": "stdout",
     "output_type": "stream",
     "text": [
      "passing.Att --- Mean Squared Error: 9690.455530065823\n",
      "passing.Att --- R^2 Score: 0.3627352007672262\n",
      "shooting.Sh --- Mean Squared Error: 28.08377928064442\n",
      "shooting.Sh --- R^2 Score: -0.09237218833347738\n",
      "gca.SCA --- Mean Squared Error: 65.30240604341209\n",
      "gca.SCA --- R^2 Score: 0.019120086515786783\n",
      "possession.Att --- Mean Squared Error: 34.73106422417757\n",
      "possession.Att --- R^2 Score: 0.04615799755621741\n",
      "touches_df.Attacking_Touches --- Mean Squared Error: 10107.035158708646\n",
      "touches_df.Attacking_Touches --- R^2 Score: 0.37077386475965646\n"
     ]
    }
   ],
   "source": [
    "for title, attribute in ATTRIBUTES_DICT.items():\n",
    "    regression_formula_df = Logs_to_Regression(title, attribute, team_df, formula_df, tpr_cols)"
   ]
  },
  {
   "cell_type": "code",
   "execution_count": 19,
   "id": "b4090219-c739-4ea9-930f-91765c6e916a",
   "metadata": {},
   "outputs": [
    {
     "data": {
      "text/html": [
       "<div>\n",
       "<style scoped>\n",
       "    .dataframe tbody tr th:only-of-type {\n",
       "        vertical-align: middle;\n",
       "    }\n",
       "\n",
       "    .dataframe tbody tr th {\n",
       "        vertical-align: top;\n",
       "    }\n",
       "\n",
       "    .dataframe thead th {\n",
       "        text-align: right;\n",
       "    }\n",
       "</style>\n",
       "<table border=\"1\" class=\"dataframe\">\n",
       "  <thead>\n",
       "    <tr style=\"text-align: right;\">\n",
       "      <th></th>\n",
       "      <th>coef</th>\n",
       "      <th>intercept</th>\n",
       "    </tr>\n",
       "  </thead>\n",
       "  <tbody>\n",
       "    <tr>\n",
       "      <th>touches_df_tpr_x</th>\n",
       "      <td>7.535324</td>\n",
       "      <td>387.620021</td>\n",
       "    </tr>\n",
       "    <tr>\n",
       "      <th>touches_df_tpr_y</th>\n",
       "      <td>-5.133620</td>\n",
       "      <td>387.620021</td>\n",
       "    </tr>\n",
       "  </tbody>\n",
       "</table>\n",
       "</div>"
      ],
      "text/plain": [
       "                      coef   intercept\n",
       "touches_df_tpr_x  7.535324  387.620021\n",
       "touches_df_tpr_y -5.133620  387.620021"
      ]
     },
     "execution_count": 19,
     "metadata": {},
     "output_type": "execute_result"
    }
   ],
   "source": [
    "formula_df[formula_df.index.str.contains(\"touches_df_tpr\", case=True)]"
   ]
  },
  {
   "cell_type": "markdown",
   "id": "8b8c38d1-0d68-451f-a825-62f6989a703c",
   "metadata": {
    "jp-MarkdownHeadingCollapsed": true
   },
   "source": [
    "<br><br><br><br><br><br><br><br>\n",
    "<h2 style=\"color:red;background:aqua;\">  Attacking_Touches Regression Hyperparameter Tuning</h2>"
   ]
  },
  {
   "cell_type": "code",
   "execution_count": 20,
   "id": "405f7c25-59a2-4722-894e-d0d844f5f8dd",
   "metadata": {},
   "outputs": [],
   "source": [
    "action_title =\"touches_df\"\n",
    "attribute = \"Attacking_Touches\"\n",
    "prepared_df = Prepare_Logs(action_title, attribute, team_df)\n",
    "reg_df = prepared_df[\"reg_df\"]"
   ]
  },
  {
   "cell_type": "code",
   "execution_count": 21,
   "id": "43f89735-5d39-4aae-954d-14f97587273f",
   "metadata": {},
   "outputs": [],
   "source": [
    "pitch_attributes = list(set(fm_attributes.attribute_list) - set(fm_attributes.gk_attributes) | set([\"Attacking_Touches\",\"Club\"]))\n",
    "tpr_all_cols = []\n",
    "tpr_x_cols = []\n",
    "tpr_y_cols = []\n",
    "except_cols = [\"Club\",\"Based\",\"Division\",\"Club_id\",\"League_id\",\"fbref_name\"]\n",
    "\n",
    "for col in team_df_cols:\n",
    "    if col not in except_cols:\n",
    "        for xy in [\"x\",\"y\"]:\n",
    "            xy_col = f\"{col}_{xy}\"\n",
    "            tpr_all_cols.append(xy_col)\n",
    "            if xy == \"x\":\n",
    "                tpr_x_cols.append(xy_col)\n",
    "            if xy == \"y\":\n",
    "                tpr_y_cols.append(xy_col)      "
   ]
  },
  {
   "cell_type": "code",
   "execution_count": 22,
   "id": "aece3c20-15eb-476d-88a6-4e90640b21fc",
   "metadata": {},
   "outputs": [
    {
     "data": {
      "text/plain": [
       "812"
      ]
     },
     "execution_count": 22,
     "metadata": {},
     "output_type": "execute_result"
    }
   ],
   "source": [
    "reg_df.query(\"Attacking_Touches > 300\").shape[0]"
   ]
  },
  {
   "cell_type": "code",
   "execution_count": 23,
   "id": "b236a3ac-271a-49b9-95cb-f3a84eff8a37",
   "metadata": {},
   "outputs": [],
   "source": [
    "def Train_Touches_Model(reg_df, filter_value, tpr_all_cols, attribute=\"Attacking_Touches\", test_size=None):\n",
    "    tpr_all_cols.append(\"Attacking_Touches\")\n",
    "    touches_tpr_mean = reg_df[tpr_all_cols].query(f\"Attacking_Touches > {filter_value}\").mean().sort_values(ascending=False)\n",
    "    pitch_cols = touches_tpr_mean[tpr_all_cols].drop(attribute).sort_values(ascending=False).index\n",
    "    formula_df = pd.DataFrame(index=list(pitch_cols))\n",
    "    \n",
    "    touches_reg_df = reg_df.dropna()\n",
    "    X = touches_reg_df[pitch_cols]\n",
    "    Y = touches_reg_df[[attribute]]\n",
    "    \n",
    "    X_train, X_test, Y_train, Y_test = train_test_split(X, Y, test_size=test_size, random_state=0)\n",
    "    model = LinearRegression()\n",
    "    model.fit(X_train, Y_train)\n",
    "    Y_pred = model.predict(X_test)\n",
    "    \n",
    "    coef_column_name = f\"{attribute}_coef\"\n",
    "    abs_coef_column_name = f\"{attribute}_abs_coef\"\n",
    "    intercept_column_name = f\"{attribute}_intercept\"\n",
    "    formula_df[coef_column_name] = model.coef_.flatten()\n",
    "    formula_df[abs_coef_column_name] = abs(model.coef_.flatten())\n",
    "    formula_df[intercept_column_name] = model.intercept_[0]\n",
    "    \n",
    "    mse = mean_squared_error(Y_test, Y_pred)\n",
    "    mae = mean_absolute_error(Y_test, Y_pred)\n",
    "    r2 = r2_score(Y_test, Y_pred)\n",
    "    return {\n",
    "        \"mae\": mae,\n",
    "        \"formula_df\": formula_df,\n",
    "        \"model\": model,\n",
    "    }"
   ]
  },
  {
   "cell_type": "code",
   "execution_count": 24,
   "id": "26fff945-bb83-41f3-a050-535281602da6",
   "metadata": {
    "scrolled": true
   },
   "outputs": [
    {
     "name": "stdout",
     "output_type": "stream",
     "text": [
      "76\n",
      "mae 76.26124140141302\n"
     ]
    }
   ],
   "source": [
    "attribute = \"Attacking_Touches\"\n",
    "coef_col = f\"{attribute}_coef\"\n",
    "abs_coef_col = f\"{attribute}_abs_coef\"\n",
    "filter_value = 300\n",
    "test_size = 0.02\n",
    "\n",
    "model = Train_Touches_Model(reg_df, filter_value, tpr_all_cols, attribute, test_size)\n",
    "formula_df = model[\"formula_df\"].sort_values(abs_coef_col, ascending=False)\n",
    "formula_df_indexes = formula_df.index\n",
    "\n",
    "most_effective_formula_cols = list(formula_df_indexes)\n",
    "print(len(most_effective_formula_cols))\n",
    "print(\"mae\", model[\"mae\"])"
   ]
  },
  {
   "cell_type": "markdown",
   "id": "bc2b5800-fe94-42e4-bfc9-374693d31750",
   "metadata": {},
   "source": [
    "<br><br><br><br>\n",
    "#### Tuning Most Effective Cols"
   ]
  },
  {
   "cell_type": "code",
   "execution_count": 25,
   "id": "da053c54-4423-46cc-94f9-acc2b6b07b2e",
   "metadata": {
    "scrolled": true
   },
   "outputs": [
    {
     "data": {
      "text/markdown": [
       "\n",
       "| HEADER | slice_index | test_size | filter_Value | this_mae |\n",
       "|-------------|-------------|-----------|--------------|----------|\n",
       "| 1 | 10 | 0.01 | 300 | 81.43901796856623 |\n"
      ],
      "text/plain": [
       "<IPython.core.display.Markdown object>"
      ]
     },
     "metadata": {},
     "output_type": "display_data"
    },
    {
     "data": {
      "text/markdown": [
       "\n",
       "| HEADER | slice_index | test_size | filter_Value | this_mae |\n",
       "|-------------|-------------|-----------|--------------|----------|\n",
       "| 1 | 11 | 0.01 | 300 | 80.10570020420126 |\n"
      ],
      "text/plain": [
       "<IPython.core.display.Markdown object>"
      ]
     },
     "metadata": {},
     "output_type": "display_data"
    },
    {
     "data": {
      "text/markdown": [
       "\n",
       "| HEADER | slice_index | test_size | filter_Value | this_mae |\n",
       "|-------------|-------------|-----------|--------------|----------|\n",
       "| 1 | 21 | 0.01 | 300 | 75.0290882318514 |\n"
      ],
      "text/plain": [
       "<IPython.core.display.Markdown object>"
      ]
     },
     "metadata": {},
     "output_type": "display_data"
    },
    {
     "data": {
      "text/markdown": [
       "\n",
       "| HEADER | slice_index | test_size | filter_Value | this_mae |\n",
       "|-------------|-------------|-----------|--------------|----------|\n",
       "| 1 | 22 | 0.01 | 300 | 74.69658802299854 |\n"
      ],
      "text/plain": [
       "<IPython.core.display.Markdown object>"
      ]
     },
     "metadata": {},
     "output_type": "display_data"
    },
    {
     "data": {
      "text/markdown": [
       "\n",
       "| HEADER | slice_index | test_size | filter_Value | this_mae |\n",
       "|-------------|-------------|-----------|--------------|----------|\n",
       "| 1 | 23 | 0.01 | 300 | 72.38327479188065 |\n"
      ],
      "text/plain": [
       "<IPython.core.display.Markdown object>"
      ]
     },
     "metadata": {},
     "output_type": "display_data"
    },
    {
     "data": {
      "text/markdown": [
       "\n",
       "| HEADER | slice_index | test_size | filter_Value | this_mae |\n",
       "|-------------|-------------|-----------|--------------|----------|\n",
       "| 1 | 24 | 0.01 | 300 | 71.721478810156 |\n"
      ],
      "text/plain": [
       "<IPython.core.display.Markdown object>"
      ]
     },
     "metadata": {},
     "output_type": "display_data"
    },
    {
     "data": {
      "text/markdown": [
       "\n",
       "| HEADER | slice_index | test_size | filter_Value | this_mae |\n",
       "|-------------|-------------|-----------|--------------|----------|\n",
       "| 1 | 10 | 0.02 | 300 | 58.14724016388676 |\n"
      ],
      "text/plain": [
       "<IPython.core.display.Markdown object>"
      ]
     },
     "metadata": {},
     "output_type": "display_data"
    },
    {
     "data": {
      "text/markdown": [
       "\n",
       "| HEADER | slice_index | test_size | filter_Value | this_mae |\n",
       "|-------------|-------------|-----------|--------------|----------|\n",
       "| 1 | 23 | 0.02 | 300 | 56.88330887151897 |\n"
      ],
      "text/plain": [
       "<IPython.core.display.Markdown object>"
      ]
     },
     "metadata": {},
     "output_type": "display_data"
    },
    {
     "data": {
      "text/markdown": [
       "\n",
       "| HEADER | slice_index | test_size | filter_Value | this_mae |\n",
       "|-------------|-------------|-----------|--------------|----------|\n",
       "| 1 | 23 | 0.02 | 450 | 56.88330887151891 |\n"
      ],
      "text/plain": [
       "<IPython.core.display.Markdown object>"
      ]
     },
     "metadata": {},
     "output_type": "display_data"
    }
   ],
   "source": [
    "mae = 100\n",
    "for filter_value in range(300, 600, 50):\n",
    "    for test_size_num in range(1, 5, 1):\n",
    "        for slice_index in range(10, 25):\n",
    "            sliced_tpr_all_cols = most_effective_formula_cols[:slice_index]\n",
    "            test_size = test_size_num/100 \n",
    "            model = Train_Touches_Model(reg_df, filter_value, sliced_tpr_all_cols, attribute, test_size)\n",
    "            this_mae = model[\"mae\"]\n",
    "            if this_mae < mae:\n",
    "                mae = this_mae\n",
    "                markdown_table = f\"\"\"\n",
    "| HEADER | slice_index | test_size | filter_Value | this_mae |\n",
    "|-------------|-------------|-----------|--------------|----------|\n",
    "| {1} | {slice_index} | {test_size} | {filter_value} | {this_mae} |\n",
    "\"\"\"\n",
    "                display(Markdown(markdown_table))"
   ]
  },
  {
   "cell_type": "code",
   "execution_count": 26,
   "id": "90539d54-3328-4eaf-bf44-46c4a40a6481",
   "metadata": {},
   "outputs": [
    {
     "data": {
      "text/plain": [
       "['tpr_x',\n",
       " 'tpr_y',\n",
       " 'Crossing_x',\n",
       " 'Work_Rate_x',\n",
       " 'Stamina_y',\n",
       " 'Crossing_y',\n",
       " 'Finishing_x',\n",
       " 'Acceleration_y',\n",
       " 'Technique_y',\n",
       " 'Strength_y',\n",
       " 'Corners_x',\n",
       " 'Flair_x',\n",
       " 'Stamina_x',\n",
       " 'Positioning_x',\n",
       " 'First_Touch_y',\n",
       " 'Anticipation_x',\n",
       " 'Composure_y',\n",
       " 'Determination_x',\n",
       " 'Tackling_x',\n",
       " 'Positioning_y',\n",
       " 'Free_Kick_Taking_x',\n",
       " 'Heading_y',\n",
       " 'Work_Rate_y']"
      ]
     },
     "execution_count": 26,
     "metadata": {},
     "output_type": "execute_result"
    }
   ],
   "source": [
    "most_effective_formula_cols[:23]"
   ]
  },
  {
   "cell_type": "markdown",
   "id": "628109a2-7446-48b0-8dcf-54742bd26bcb",
   "metadata": {},
   "source": [
    "<br><br><br><br>\n",
    "#### Tuning slices out of Most Effective Cols"
   ]
  },
  {
   "cell_type": "code",
   "execution_count": 27,
   "id": "2144d3c9-1515-46f4-8ba3-0d44c99b31ad",
   "metadata": {},
   "outputs": [
    {
     "data": {
      "text/markdown": [
       "\n",
       "| HEADER | slice_index | test_size | filter_Value | this_mae |\n",
       "|-------------|-------------|-----------|--------------|----------|\n",
       "| 1 | 23 | 0.1 | 300 | 69.8509193067728 |\n"
      ],
      "text/plain": [
       "<IPython.core.display.Markdown object>"
      ]
     },
     "metadata": {},
     "output_type": "display_data"
    },
    {
     "data": {
      "text/markdown": [
       "\n",
       "| HEADER | slice_index | test_size | filter_Value | this_mae |\n",
       "|-------------|-------------|-----------|--------------|----------|\n",
       "| 1 | 23 | 0.1 | 450 | 69.85091930677277 |\n"
      ],
      "text/plain": [
       "<IPython.core.display.Markdown object>"
      ]
     },
     "metadata": {},
     "output_type": "display_data"
    }
   ],
   "source": [
    "mae = 100\n",
    "slice_index = 23\n",
    "sliced_tpr_all_cols = most_effective_formula_cols[:slice_index]\n",
    "\n",
    "for filter_value in range(300, 600, 50):\n",
    "    for test_size_num in range(10, 30, 1):\n",
    "        test_size = test_size_num/100 \n",
    "        model = Train_Touches_Model(reg_df, filter_value, sliced_tpr_all_cols, attribute, test_size)\n",
    "        this_mae = model[\"mae\"]\n",
    "        if this_mae < mae:\n",
    "            mae = this_mae\n",
    "            markdown_table = f\"\"\"\n",
    "| HEADER | slice_index | test_size | filter_Value | this_mae |\n",
    "|-------------|-------------|-----------|--------------|----------|\n",
    "| {1} | {slice_index} | {test_size} | {filter_value} | {this_mae} |\n",
    "\"\"\"\n",
    "            display(Markdown(markdown_table))"
   ]
  },
  {
   "cell_type": "code",
   "execution_count": 28,
   "id": "8f998d6c-5b55-4929-80d8-290358b9ea66",
   "metadata": {},
   "outputs": [
    {
     "name": "stdout",
     "output_type": "stream",
     "text": [
      "Club_x               Manchester City\n",
      "tpr_x                             89\n",
      "tpr_y                             77\n",
      "Club_y               West Ham United\n",
      "Attacking_Touches              908.0\n",
      "Name: 0, dtype: object\n"
     ]
    },
    {
     "data": {
      "text/plain": [
       "array([651.16112787])"
      ]
     },
     "execution_count": 28,
     "metadata": {},
     "output_type": "execute_result"
    }
   ],
   "source": [
    "exrow = reg_df.iloc[0]\n",
    "print(exrow[[\"Club_x\",\"tpr_x\",\"tpr_y\",\"Club_y\",\"Attacking_Touches\"]])\n",
    "model = Train_Touches_Model(reg_df, 450, most_effective_formula_cols[:23], \"Attacking_Touches\", 0.1)\n",
    "model_written = model[\"model\"]\n",
    "\n",
    "sum(exrow[model_written.feature_names_in_].values * model_written.coef_.flatten()) + model_written.intercept_"
   ]
  },
  {
   "cell_type": "markdown",
   "id": "f6c41011-a505-4c1b-9cc7-0603227ff56b",
   "metadata": {},
   "source": [
    "<br><br><br><br>"
   ]
  },
  {
   "cell_type": "code",
   "execution_count": 29,
   "id": "5a0692cd-554c-4c10-b7aa-6f5f31b18059",
   "metadata": {},
   "outputs": [],
   "source": [
    "#model[\"formula_df\"].to_csv(\"formulas/Attacking_Touches_volume_formula_df_hyper.csv\", index=True)"
   ]
  },
  {
   "cell_type": "markdown",
   "id": "034ff549-6fa7-4453-893a-a148a77a400a",
   "metadata": {
    "jp-MarkdownHeadingCollapsed": true
   },
   "source": [
    "<br><br><br><br><br><br><br><br>\n",
    "<h2 style=\"color:#33FF49;background:blue;\">  Regression for One Atrribute</h2>"
   ]
  },
  {
   "cell_type": "code",
   "execution_count": 30,
   "id": "d8e8ceaf-5826-43a0-9449-feb764adae11",
   "metadata": {},
   "outputs": [],
   "source": [
    "action_title =\"touches_df\"\n",
    "attribute = \"Attacking_Touches\"\n",
    "prepared_df = Prepare_Logs(action_title, attribute, team_df)\n",
    "reg_df = prepared_df[\"reg_df\"]"
   ]
  },
  {
   "cell_type": "code",
   "execution_count": 31,
   "id": "ade34ae7-4bf9-4e3b-bebb-7cf8530812d3",
   "metadata": {},
   "outputs": [],
   "source": [
    "tpr_x_dict = {\n",
    "    \"tpr_x\": None,\n",
    "} \n",
    "tpr_y_dict = {\n",
    "    \"tpr_y\": None,\n",
    "}"
   ]
  },
  {
   "cell_type": "code",
   "execution_count": 32,
   "id": "d8d51f2f-9e42-4827-822b-872719bce391",
   "metadata": {},
   "outputs": [],
   "source": [
    "# q1 = reg_df.query(\"Versus_Title == 'Manchester City plays vs Liverpool as Home team'\")\n",
    "# q2 = reg_df.query(\"Versus_Title == 'Liverpool plays vs Manchester City as Home team'\")\n",
    "# queries = [\"\", q1, q2]\n",
    "# query_no = 1\n",
    "# print(queries[query_no].iloc[0].Date)\n",
    "# queries[query_no].iloc[0].name\n",
    "# queries[query_no].iloc[0].name"
   ]
  },
  {
   "cell_type": "code",
   "execution_count": 33,
   "id": "24973870-ea58-4a79-85b6-f476a3f67e0c",
   "metadata": {},
   "outputs": [],
   "source": [
    "# https://fbref.com/en/matches/5965a1a5/Bayern-Munich-Bochum-February-11-2023-Bundesliga\n",
    "# row_index= 3221 # for Bayern\n",
    "# row_index2222 = 3758 # for Bochum\n",
    "\n",
    "row_index333 = 722 # for Liverpool\n",
    "row_index222 = 343 # for Manchester City\n",
    "\n",
    "row_index = 0\n",
    "\n",
    "x_cols = tpr_x_dict.keys()\n",
    "y_cols = tpr_y_dict.keys()\n",
    "\n",
    "tpr_x_custom_data = reg_df[x_cols].iloc[row_index].to_dict()\n",
    "tpr_y_custom_data = reg_df[y_cols].iloc[row_index].to_dict()\n",
    "\n",
    "custom_data = {**tpr_x_custom_data, **tpr_y_custom_data}\n",
    "custom_cols = list(custom_data.keys())"
   ]
  },
  {
   "cell_type": "code",
   "execution_count": 34,
   "id": "92a09f5f-5b48-41c6-88e4-02a330a17ea4",
   "metadata": {},
   "outputs": [
    {
     "data": {
      "text/plain": [
       "['tpr_x', 'tpr_y']"
      ]
     },
     "execution_count": 34,
     "metadata": {},
     "output_type": "execute_result"
    }
   ],
   "source": [
    "custom_cols"
   ]
  },
  {
   "cell_type": "code",
   "execution_count": 35,
   "id": "8fb92f41-7400-4fa2-8fce-bb5c8f3249c1",
   "metadata": {},
   "outputs": [
    {
     "name": "stdout",
     "output_type": "stream",
     "text": [
      "Manchester City plays vs West Ham United as Away team\n",
      "2022-08-07\n",
      "\n"
     ]
    },
    {
     "data": {
      "text/plain": [
       "Club_x               Manchester City\n",
       "Club_y               West Ham United\n",
       "Date                      2022-08-07\n",
       "Attacking_Touches              908.0\n",
       "tpr_x                             89\n",
       "tpr_y                             77\n",
       "Name: 0, dtype: object"
      ]
     },
     "execution_count": 35,
     "metadata": {},
     "output_type": "execute_result"
    }
   ],
   "source": [
    "match_info = reg_df.iloc[row_index].Versus_Title + \"\\n\" + reg_df.iloc[row_index].Date + \"\\n\" \n",
    "print(match_info)\n",
    "\n",
    "match_info_tpr = reg_df[[\"Club_x\",\"Club_y\",\"Date\",\"Attacking_Touches\"] + custom_cols].iloc[row_index]\n",
    "match_info_tpr"
   ]
  },
  {
   "cell_type": "code",
   "execution_count": 36,
   "id": "c6686203-c0dd-4f15-a136-99b26ce4ab1f",
   "metadata": {},
   "outputs": [],
   "source": [
    "special_formula_df = pd.DataFrame(index=custom_cols)\n",
    "\n",
    "df_to_custom = reg_df.copy()\n",
    "X = df_to_custom[custom_cols]\n",
    "Y = df_to_custom[[attribute]]\n",
    "\n",
    "X_train, X_test, Y_train, Y_test = train_test_split(X, Y, test_size=0.25, random_state=0)\n",
    "model = LinearRegression()\n",
    "model.fit(X_train, Y_train)\n",
    "Y_pred = model.predict(X_test)\n",
    "\n",
    "coef_column_name = f\"{attribute}_coef\"\n",
    "intercept_column_name = f\"{attribute}_intercept\"\n",
    "special_formula_df[coef_column_name] = model.coef_.flatten()\n",
    "special_formula_df[intercept_column_name] = model.intercept_[0]\n",
    "\n",
    "mse = mean_squared_error(Y_test, Y_pred)\n",
    "mae = mean_absolute_error(Y_test, Y_pred)\n",
    "r2 = r2_score(Y_test, Y_pred)"
   ]
  },
  {
   "cell_type": "code",
   "execution_count": 37,
   "id": "89fc1360-06b2-4ae8-b398-d071178007ca",
   "metadata": {},
   "outputs": [
    {
     "data": {
      "text/html": [
       "<div>\n",
       "<style scoped>\n",
       "    .dataframe tbody tr th:only-of-type {\n",
       "        vertical-align: middle;\n",
       "    }\n",
       "\n",
       "    .dataframe tbody tr th {\n",
       "        vertical-align: top;\n",
       "    }\n",
       "\n",
       "    .dataframe thead th {\n",
       "        text-align: right;\n",
       "    }\n",
       "</style>\n",
       "<table border=\"1\" class=\"dataframe\">\n",
       "  <thead>\n",
       "    <tr style=\"text-align: right;\">\n",
       "      <th></th>\n",
       "      <th>Attacking_Touches_coef</th>\n",
       "      <th>Attacking_Touches_abs_coef</th>\n",
       "      <th>Attacking_Touches_intercept</th>\n",
       "    </tr>\n",
       "  </thead>\n",
       "  <tbody>\n",
       "  </tbody>\n",
       "</table>\n",
       "</div>"
      ],
      "text/plain": [
       "Empty DataFrame\n",
       "Columns: [Attacking_Touches_coef, Attacking_Touches_abs_coef, Attacking_Touches_intercept]\n",
       "Index: []"
      ]
     },
     "execution_count": 37,
     "metadata": {},
     "output_type": "execute_result"
    }
   ],
   "source": [
    "formula_df[formula_df.index.str.contains(\"touches_df_tpr\", case=True)]"
   ]
  },
  {
   "cell_type": "code",
   "execution_count": 38,
   "id": "396e3ea7-da79-425d-9e83-dace76a4c124",
   "metadata": {},
   "outputs": [
    {
     "data": {
      "text/html": [
       "<div>\n",
       "<style scoped>\n",
       "    .dataframe tbody tr th:only-of-type {\n",
       "        vertical-align: middle;\n",
       "    }\n",
       "\n",
       "    .dataframe tbody tr th {\n",
       "        vertical-align: top;\n",
       "    }\n",
       "\n",
       "    .dataframe thead th {\n",
       "        text-align: right;\n",
       "    }\n",
       "</style>\n",
       "<table border=\"1\" class=\"dataframe\">\n",
       "  <thead>\n",
       "    <tr style=\"text-align: right;\">\n",
       "      <th></th>\n",
       "      <th>Attacking_Touches_coef</th>\n",
       "      <th>Attacking_Touches_intercept</th>\n",
       "    </tr>\n",
       "  </thead>\n",
       "  <tbody>\n",
       "    <tr>\n",
       "      <th>tpr_x</th>\n",
       "      <td>11.001498</td>\n",
       "      <td>227.953607</td>\n",
       "    </tr>\n",
       "    <tr>\n",
       "      <th>tpr_y</th>\n",
       "      <td>-7.252917</td>\n",
       "      <td>227.953607</td>\n",
       "    </tr>\n",
       "  </tbody>\n",
       "</table>\n",
       "</div>"
      ],
      "text/plain": [
       "       Attacking_Touches_coef  Attacking_Touches_intercept\n",
       "tpr_x               11.001498                   227.953607\n",
       "tpr_y               -7.252917                   227.953607"
      ]
     },
     "execution_count": 38,
     "metadata": {},
     "output_type": "execute_result"
    }
   ],
   "source": [
    "special_formula_df"
   ]
  },
  {
   "cell_type": "code",
   "execution_count": 39,
   "id": "b202dd96-fa03-4c84-8eb8-07901cad27a0",
   "metadata": {},
   "outputs": [],
   "source": [
    "custom_tpr_df = pd.DataFrame(custom_data, index=[\"tpr_value\"]).T"
   ]
  },
  {
   "cell_type": "code",
   "execution_count": 40,
   "id": "89d5e82f-aa17-49df-a029-45092eae9861",
   "metadata": {},
   "outputs": [],
   "source": [
    "custom_tpr_df[f\"{attribute}_coef\"] = special_formula_df[f\"{attribute}_coef\"][custom_cols].tolist()\n",
    "custom_tpr_df[f\"{attribute}_intercept\"] = special_formula_df[f\"{attribute}_intercept\"][custom_cols].tolist()\n",
    "custom_tpr_df[\"coef_result\"] = custom_tpr_df[f\"{attribute}_coef\"] * custom_tpr_df[\"tpr_value\"]\n",
    "\n",
    "custom_tpr_df[\"formula_result\"] = custom_tpr_df[\"coef_result\"].sum() + custom_tpr_df[f\"{attribute}_intercept\"].iloc[0]\n",
    "custom_tpr_df[\"formula_result\"] = custom_tpr_df[\"formula_result\"].iloc[0]\n",
    "custom_tpr_df[\"formula_result_per_minute\"] = custom_tpr_df[\"formula_result\"].iloc[0] / 90"
   ]
  },
  {
   "cell_type": "code",
   "execution_count": 41,
   "id": "3524cab7-c486-49da-ad8a-dc848481a324",
   "metadata": {},
   "outputs": [
    {
     "data": {
      "text/plain": [
       "649"
      ]
     },
     "execution_count": 41,
     "metadata": {},
     "output_type": "execute_result"
    }
   ],
   "source": [
    "formula_result = round(custom_tpr_df[\"formula_result\"].iloc[0])\n",
    "round(custom_tpr_df[\"formula_result_per_minute\"].iloc[0])\n",
    "\n",
    "formula_result"
   ]
  },
  {
   "cell_type": "code",
   "execution_count": 42,
   "id": "3204c2d6-6106-449f-896a-dbf6f70175a9",
   "metadata": {},
   "outputs": [],
   "source": [
    "prob_of_shot_in_a_minute = custom_tpr_df[\"formula_result_per_minute\"].iloc[0]\n",
    "\n",
    "def ProbAction(prob_of_shot_in_a_minute):\n",
    "    r = np.random.choice([1, 0], p=[prob_of_shot_in_a_minute, 1-prob_of_shot_in_a_minute])\n",
    "    return r"
   ]
  },
  {
   "cell_type": "code",
   "execution_count": 43,
   "id": "2eed55f7-7d9f-47e7-a1f7-e248d75739b9",
   "metadata": {},
   "outputs": [],
   "source": [
    "# special_formula_df.to_csv(\"formulas/Attacking_Touches_volume_formula_df.csv\", index=False)"
   ]
  },
  {
   "cell_type": "markdown",
   "id": "b6e5d00e-f2c0-4d0c-b3c9-365fa7e8bbb1",
   "metadata": {},
   "source": [
    "<br><br><br><br><br><br><br><br>\n",
    "<h2 style=\"color:blue;background:aqua;\">  Model Test</h2>"
   ]
  },
  {
   "cell_type": "code",
   "execution_count": 44,
   "id": "36dfc9ba-6176-4e5a-90f1-97887f42e245",
   "metadata": {},
   "outputs": [],
   "source": [
    "def Action_Volume_Predict(attribute, formula_df, tpr_x, tpr_y):\n",
    "    input_df = pd.Series({\"tpr_x\": tpr_x, \"tpr_y\": tpr_y})\n",
    "    coefficients = sum(formula_df.loc[:, f\"{attribute}_coef\"] * input_df[custom_cols])\n",
    "    result = (coefficients + formula_df.loc[:, f\"{attribute}_intercept\"])\n",
    "    return int(result.iloc[0])"
   ]
  },
  {
   "cell_type": "code",
   "execution_count": 45,
   "id": "da074c7c-9b08-4b01-ac49-5175e377f314",
   "metadata": {},
   "outputs": [],
   "source": [
    "tpr_test_data = pd.Series({\n",
    "    \"tpr_x\": match_info_tpr.tpr_x,\n",
    "    \"tpr_y\": match_info_tpr.tpr_y,\n",
    "})"
   ]
  },
  {
   "cell_type": "code",
   "execution_count": 46,
   "id": "aa2b141c-84ac-4524-a348-919c08bfb6eb",
   "metadata": {},
   "outputs": [
    {
     "data": {
      "text/plain": [
       "501"
      ]
     },
     "execution_count": 46,
     "metadata": {},
     "output_type": "execute_result"
    }
   ],
   "source": [
    "Action_Volume_Predict(\"Attacking_Touches\", special_formula_df, 69, 67)"
   ]
  },
  {
   "cell_type": "code",
   "execution_count": 47,
   "id": "8465cd4f-ceb2-4a3b-8eb1-29a6f8c2cea4",
   "metadata": {},
   "outputs": [
    {
     "data": {
      "text/plain": [
       "Club_x                FSV Mainz\n",
       "Club_y                  FC Köln\n",
       "tpr_x                        69\n",
       "tpr_y                        67\n",
       "tpr_diff_abs                  2\n",
       "Date                 2022-10-21\n",
       "Attacking_Touches         536.0\n",
       "Name: 3718, dtype: object"
      ]
     },
     "execution_count": 47,
     "metadata": {},
     "output_type": "execute_result"
    }
   ],
   "source": [
    "error_df = reg_df.copy()[[\"Club_x\",\"Club_y\",\"tpr_x\",\"tpr_y\",\"tpr_diff_abs\",\"Date\",\"Attacking_Touches\"]]\n",
    "error_df.sort_values(by=\"tpr_diff_abs\", ascending=True).head().iloc[0]"
   ]
  },
  {
   "cell_type": "code",
   "execution_count": 48,
   "id": "9963a9e9-e7e7-4ace-83fb-5d81693512e4",
   "metadata": {},
   "outputs": [],
   "source": [
    "error_df[\"T_90\"] = error_df[\"Attacking_Touches\"] / 90\n",
    "error_df[\"Predicted\"] = error_df.apply(lambda row: Action_Volume_Predict(attribute, special_formula_df, row[\"tpr_x\"], row[\"tpr_y\"]), axis=1)\n",
    "error_df[\"Predicted_90\"] = error_df[\"Predicted\"] / 90\n",
    "error_df[\"Error\"] = error_df[\"Attacking_Touches\"] - error_df[\"Predicted\"]\n",
    "error_df[\"Error_min\"] = error_df[\"T_90\"] - error_df[\"Predicted_90\"]"
   ]
  },
  {
   "cell_type": "code",
   "execution_count": 49,
   "id": "6d9ee76e-1681-446e-829f-fe077013f956",
   "metadata": {},
   "outputs": [
    {
     "data": {
      "text/plain": [
       "Attacking_Touches    578.238329\n",
       "Predicted            578.786241\n",
       "Error                 -0.547912\n",
       "dtype: float64"
      ]
     },
     "execution_count": 49,
     "metadata": {},
     "output_type": "execute_result"
    }
   ],
   "source": [
    "error_df[[\"Attacking_Touches\",\"Predicted\",\"Error\"]].mean()"
   ]
  },
  {
   "cell_type": "markdown",
   "id": "d6a7ebe9-244c-4412-91a6-685bc66d8130",
   "metadata": {},
   "source": [
    "<br><br><br><br><br><br><br><br>\n",
    "<h2 style=\"color:#F3F7EC;background:#399918;\">  Locational</h2>"
   ]
  },
  {
   "cell_type": "code",
   "execution_count": 50,
   "id": "a4c5894c-9fe2-41ce-879f-e8cd5ff60c81",
   "metadata": {},
   "outputs": [
    {
     "data": {
      "text/plain": [
       "(0.001220504475183, 0.0, 0.0043706293706293)"
      ]
     },
     "execution_count": 50,
     "metadata": {},
     "output_type": "execute_result"
    }
   ],
   "source": [
    "pass_locations = pd.read_csv(\"../statsbomb/data/position_included_location_384_squared_ligue1_Pass.csv\").query(\"position=='ALL'\")\n",
    "shot_locations = pd.read_csv(\"../statsbomb/data/position_included_location_384_squared_ligue1_Shot.csv\").query(\"position=='ALL'\")\n",
    "dribble_locations = pd.read_csv(\"../statsbomb/data/position_included_location_384_squared_ligue1_Dribble.csv\").query(\"position=='ALL'\")\n",
    "\n",
    "pass_locations.iloc[46].percentage, shot_locations.iloc[46].percentage, dribble_locations.iloc[46].percentage"
   ]
  },
  {
   "cell_type": "code",
   "execution_count": 51,
   "id": "8be1d7ff-d9ec-4b72-8dbd-6915a2cbd5d5",
   "metadata": {},
   "outputs": [],
   "source": [
    "location_df = pass_locations \\\n",
    "    .merge(shot_locations, on='Pitch_Number', how='inner', suffixes=(\"_pass\", \"_shot\")) \\\n",
    "    .merge(dribble_locations, on='Pitch_Number', how='inner', suffixes=(\"\", \"_dribble\"))\n",
    "location_df[\"percentage_dribble\"] = location_df[\"percentage\"]\n",
    "location_df[\"count_dribble\"] = location_df[\"count\"]"
   ]
  },
  {
   "cell_type": "code",
   "execution_count": 52,
   "id": "ae3c752c-dfe5-4cc9-8bbd-18798f6a482c",
   "metadata": {},
   "outputs": [
    {
     "data": {
      "text/html": [
       "<div>\n",
       "<style scoped>\n",
       "    .dataframe tbody tr th:only-of-type {\n",
       "        vertical-align: middle;\n",
       "    }\n",
       "\n",
       "    .dataframe tbody tr th {\n",
       "        vertical-align: top;\n",
       "    }\n",
       "\n",
       "    .dataframe thead th {\n",
       "        text-align: right;\n",
       "    }\n",
       "</style>\n",
       "<table border=\"1\" class=\"dataframe\">\n",
       "  <thead>\n",
       "    <tr style=\"text-align: right;\">\n",
       "      <th></th>\n",
       "      <th>x_interval</th>\n",
       "      <th>y_interval</th>\n",
       "    </tr>\n",
       "  </thead>\n",
       "  <tbody>\n",
       "    <tr>\n",
       "      <th>0</th>\n",
       "      <td>(0.0, 5.0)</td>\n",
       "      <td>(0.0, 5.0)</td>\n",
       "    </tr>\n",
       "    <tr>\n",
       "      <th>1</th>\n",
       "      <td>(0.0, 5.0)</td>\n",
       "      <td>(5.0, 10.0)</td>\n",
       "    </tr>\n",
       "    <tr>\n",
       "      <th>2</th>\n",
       "      <td>(0.0, 5.0)</td>\n",
       "      <td>(10.0, 15.0)</td>\n",
       "    </tr>\n",
       "    <tr>\n",
       "      <th>3</th>\n",
       "      <td>(0.0, 5.0)</td>\n",
       "      <td>(15.0, 20.0)</td>\n",
       "    </tr>\n",
       "    <tr>\n",
       "      <th>4</th>\n",
       "      <td>(0.0, 5.0)</td>\n",
       "      <td>(20.0, 25.0)</td>\n",
       "    </tr>\n",
       "    <tr>\n",
       "      <th>5</th>\n",
       "      <td>(0.0, 5.0)</td>\n",
       "      <td>(25.0, 30.0)</td>\n",
       "    </tr>\n",
       "    <tr>\n",
       "      <th>6</th>\n",
       "      <td>(0.0, 5.0)</td>\n",
       "      <td>(30.0, 35.0)</td>\n",
       "    </tr>\n",
       "    <tr>\n",
       "      <th>7</th>\n",
       "      <td>(0.0, 5.0)</td>\n",
       "      <td>(35.0, 40.0)</td>\n",
       "    </tr>\n",
       "    <tr>\n",
       "      <th>8</th>\n",
       "      <td>(0.0, 5.0)</td>\n",
       "      <td>(40.0, 45.0)</td>\n",
       "    </tr>\n",
       "    <tr>\n",
       "      <th>9</th>\n",
       "      <td>(0.0, 5.0)</td>\n",
       "      <td>(45.0, 50.0)</td>\n",
       "    </tr>\n",
       "    <tr>\n",
       "      <th>10</th>\n",
       "      <td>(0.0, 5.0)</td>\n",
       "      <td>(50.0, 55.0)</td>\n",
       "    </tr>\n",
       "    <tr>\n",
       "      <th>11</th>\n",
       "      <td>(0.0, 5.0)</td>\n",
       "      <td>(55.0, 60.0)</td>\n",
       "    </tr>\n",
       "    <tr>\n",
       "      <th>12</th>\n",
       "      <td>(0.0, 5.0)</td>\n",
       "      <td>(60.0, 65.0)</td>\n",
       "    </tr>\n",
       "    <tr>\n",
       "      <th>13</th>\n",
       "      <td>(0.0, 5.0)</td>\n",
       "      <td>(65.0, 70.0)</td>\n",
       "    </tr>\n",
       "    <tr>\n",
       "      <th>14</th>\n",
       "      <td>(0.0, 5.0)</td>\n",
       "      <td>(70.0, 75.0)</td>\n",
       "    </tr>\n",
       "    <tr>\n",
       "      <th>15</th>\n",
       "      <td>(0.0, 5.0)</td>\n",
       "      <td>(75.0, 80.0)</td>\n",
       "    </tr>\n",
       "    <tr>\n",
       "      <th>16</th>\n",
       "      <td>(0.0, 5.0)</td>\n",
       "      <td>(80.0, 85.0)</td>\n",
       "    </tr>\n",
       "    <tr>\n",
       "      <th>17</th>\n",
       "      <td>(0.0, 5.0)</td>\n",
       "      <td>(85.0, 90.0)</td>\n",
       "    </tr>\n",
       "    <tr>\n",
       "      <th>18</th>\n",
       "      <td>(0.0, 5.0)</td>\n",
       "      <td>(90.0, 95.0)</td>\n",
       "    </tr>\n",
       "    <tr>\n",
       "      <th>19</th>\n",
       "      <td>(0.0, 5.0)</td>\n",
       "      <td>(95.0, 100.0)</td>\n",
       "    </tr>\n",
       "  </tbody>\n",
       "</table>\n",
       "</div>"
      ],
      "text/plain": [
       "    x_interval     y_interval\n",
       "0   (0.0, 5.0)     (0.0, 5.0)\n",
       "1   (0.0, 5.0)    (5.0, 10.0)\n",
       "2   (0.0, 5.0)   (10.0, 15.0)\n",
       "3   (0.0, 5.0)   (15.0, 20.0)\n",
       "4   (0.0, 5.0)   (20.0, 25.0)\n",
       "5   (0.0, 5.0)   (25.0, 30.0)\n",
       "6   (0.0, 5.0)   (30.0, 35.0)\n",
       "7   (0.0, 5.0)   (35.0, 40.0)\n",
       "8   (0.0, 5.0)   (40.0, 45.0)\n",
       "9   (0.0, 5.0)   (45.0, 50.0)\n",
       "10  (0.0, 5.0)   (50.0, 55.0)\n",
       "11  (0.0, 5.0)   (55.0, 60.0)\n",
       "12  (0.0, 5.0)   (60.0, 65.0)\n",
       "13  (0.0, 5.0)   (65.0, 70.0)\n",
       "14  (0.0, 5.0)   (70.0, 75.0)\n",
       "15  (0.0, 5.0)   (75.0, 80.0)\n",
       "16  (0.0, 5.0)   (80.0, 85.0)\n",
       "17  (0.0, 5.0)   (85.0, 90.0)\n",
       "18  (0.0, 5.0)   (90.0, 95.0)\n",
       "19  (0.0, 5.0)  (95.0, 100.0)"
      ]
     },
     "execution_count": 52,
     "metadata": {},
     "output_type": "execute_result"
    }
   ],
   "source": [
    "location_df[[\"x_interval\",\"y_interval\"]][:20]"
   ]
  },
  {
   "cell_type": "code",
   "execution_count": 53,
   "id": "9e053aaa-5e6e-4ee1-9947-16715ee576d1",
   "metadata": {},
   "outputs": [],
   "source": [
    "location_df[\"total_count\"] = location_df[\"count_pass\"]+location_df[\"count_shot\"]+location_df[\"count_dribble\"]\n",
    "location_df[\"total_percentage\"] = location_df[\"percentage_pass\"]+location_df[\"percentage_shot\"]+location_df[\"percentage_dribble\"]\n",
    "location_df[\"pitch_prob\"] = location_df[\"total_count\"] / location_df[\"total_count\"].sum()\n",
    "\n",
    "location_df[\"pass_prob\"] = location_df[\"count_pass\"] / location_df[\"total_count\"]\n",
    "location_df[\"shot_prob\"] = location_df[\"count_shot\"] / location_df[\"total_count\"]\n",
    "location_df[\"dribble_prob\"] = location_df[\"count_dribble\"] / location_df[\"total_count\"]"
   ]
  },
  {
   "cell_type": "code",
   "execution_count": 54,
   "id": "d7ce8a29-b492-4129-97cb-d49982640ccf",
   "metadata": {},
   "outputs": [
    {
     "data": {
      "text/plain": [
       "Pitch_Number          287.000000\n",
       "total_count            45.000000\n",
       "percentage_pass         0.000976\n",
       "percentage_shot         0.007051\n",
       "percentage_dribble      0.002622\n",
       "pitch_prob              0.001158\n",
       "pass_prob               0.800000\n",
       "shot_prob               0.133333\n",
       "dribble_prob            0.066667\n",
       "Name: 286, dtype: float64"
      ]
     },
     "execution_count": 54,
     "metadata": {},
     "output_type": "execute_result"
    }
   ],
   "source": [
    "must_cols = [\"Pitch_Number\",\"total_count\"]\n",
    "percentage_cols = [\"percentage_pass\",\"percentage_shot\",\"percentage_dribble\"]\n",
    "prob_cols = [\"pitch_prob\",\"pass_prob\",\"shot_prob\",\"dribble_prob\"]\n",
    "\n",
    "location_df[must_cols+percentage_cols+prob_cols].sort_values(\"total_count\", ascending=False).iloc[311]"
   ]
  },
  {
   "cell_type": "code",
   "execution_count": 55,
   "id": "0a582942-a911-4267-b96e-43aaf37090a6",
   "metadata": {},
   "outputs": [
    {
     "data": {
      "text/html": [
       "<div>\n",
       "<style scoped>\n",
       "    .dataframe tbody tr th:only-of-type {\n",
       "        vertical-align: middle;\n",
       "    }\n",
       "\n",
       "    .dataframe tbody tr th {\n",
       "        vertical-align: top;\n",
       "    }\n",
       "\n",
       "    .dataframe thead th {\n",
       "        text-align: right;\n",
       "    }\n",
       "</style>\n",
       "<table border=\"1\" class=\"dataframe\">\n",
       "  <thead>\n",
       "    <tr style=\"text-align: right;\">\n",
       "      <th></th>\n",
       "      <th>Pitch_Number</th>\n",
       "      <th>count_pass</th>\n",
       "      <th>x_interval_pass</th>\n",
       "      <th>y_interval_pass</th>\n",
       "      <th>percentage_pass</th>\n",
       "      <th>position_pass</th>\n",
       "      <th>action_pass</th>\n",
       "      <th>prob_pass</th>\n",
       "      <th>count_shot</th>\n",
       "      <th>x_interval_shot</th>\n",
       "      <th>...</th>\n",
       "      <th>action</th>\n",
       "      <th>prob</th>\n",
       "      <th>percentage_dribble</th>\n",
       "      <th>count_dribble</th>\n",
       "      <th>total_count</th>\n",
       "      <th>total_percentage</th>\n",
       "      <th>pitch_prob</th>\n",
       "      <th>pass_prob</th>\n",
       "      <th>shot_prob</th>\n",
       "      <th>dribble_prob</th>\n",
       "    </tr>\n",
       "  </thead>\n",
       "  <tbody>\n",
       "    <tr>\n",
       "      <th>0</th>\n",
       "      <td>1</td>\n",
       "      <td>7.0</td>\n",
       "      <td>(0.0, 5.0)</td>\n",
       "      <td>(0.0, 5.0)</td>\n",
       "      <td>0.000190</td>\n",
       "      <td>ALL</td>\n",
       "      <td>Pass</td>\n",
       "      <td>NaN</td>\n",
       "      <td>0.0</td>\n",
       "      <td>(0.0, 5.0)</td>\n",
       "      <td>...</td>\n",
       "      <td>Dribble</td>\n",
       "      <td>NaN</td>\n",
       "      <td>0.000000</td>\n",
       "      <td>0.0</td>\n",
       "      <td>7.0</td>\n",
       "      <td>0.000190</td>\n",
       "      <td>0.000180</td>\n",
       "      <td>1.000000</td>\n",
       "      <td>0.0</td>\n",
       "      <td>0.000000</td>\n",
       "    </tr>\n",
       "    <tr>\n",
       "      <th>1</th>\n",
       "      <td>2</td>\n",
       "      <td>19.0</td>\n",
       "      <td>(0.0, 5.0)</td>\n",
       "      <td>(5.0, 10.0)</td>\n",
       "      <td>0.000515</td>\n",
       "      <td>ALL</td>\n",
       "      <td>Pass</td>\n",
       "      <td>NaN</td>\n",
       "      <td>0.0</td>\n",
       "      <td>(0.0, 5.0)</td>\n",
       "      <td>...</td>\n",
       "      <td>Dribble</td>\n",
       "      <td>NaN</td>\n",
       "      <td>0.001748</td>\n",
       "      <td>2.0</td>\n",
       "      <td>21.0</td>\n",
       "      <td>0.002264</td>\n",
       "      <td>0.000540</td>\n",
       "      <td>0.904762</td>\n",
       "      <td>0.0</td>\n",
       "      <td>0.095238</td>\n",
       "    </tr>\n",
       "    <tr>\n",
       "      <th>2</th>\n",
       "      <td>3</td>\n",
       "      <td>30.0</td>\n",
       "      <td>(0.0, 5.0)</td>\n",
       "      <td>(10.0, 15.0)</td>\n",
       "      <td>0.000814</td>\n",
       "      <td>ALL</td>\n",
       "      <td>Pass</td>\n",
       "      <td>NaN</td>\n",
       "      <td>0.0</td>\n",
       "      <td>(0.0, 5.0)</td>\n",
       "      <td>...</td>\n",
       "      <td>Dribble</td>\n",
       "      <td>NaN</td>\n",
       "      <td>0.000000</td>\n",
       "      <td>0.0</td>\n",
       "      <td>30.0</td>\n",
       "      <td>0.000814</td>\n",
       "      <td>0.000772</td>\n",
       "      <td>1.000000</td>\n",
       "      <td>0.0</td>\n",
       "      <td>0.000000</td>\n",
       "    </tr>\n",
       "    <tr>\n",
       "      <th>3</th>\n",
       "      <td>4</td>\n",
       "      <td>44.0</td>\n",
       "      <td>(0.0, 5.0)</td>\n",
       "      <td>(15.0, 20.0)</td>\n",
       "      <td>0.001193</td>\n",
       "      <td>ALL</td>\n",
       "      <td>Pass</td>\n",
       "      <td>NaN</td>\n",
       "      <td>0.0</td>\n",
       "      <td>(0.0, 5.0)</td>\n",
       "      <td>...</td>\n",
       "      <td>Dribble</td>\n",
       "      <td>NaN</td>\n",
       "      <td>0.000874</td>\n",
       "      <td>1.0</td>\n",
       "      <td>45.0</td>\n",
       "      <td>0.002068</td>\n",
       "      <td>0.001158</td>\n",
       "      <td>0.977778</td>\n",
       "      <td>0.0</td>\n",
       "      <td>0.022222</td>\n",
       "    </tr>\n",
       "    <tr>\n",
       "      <th>4</th>\n",
       "      <td>5</td>\n",
       "      <td>45.0</td>\n",
       "      <td>(0.0, 5.0)</td>\n",
       "      <td>(20.0, 25.0)</td>\n",
       "      <td>0.001221</td>\n",
       "      <td>ALL</td>\n",
       "      <td>Pass</td>\n",
       "      <td>NaN</td>\n",
       "      <td>0.0</td>\n",
       "      <td>(0.0, 5.0)</td>\n",
       "      <td>...</td>\n",
       "      <td>Dribble</td>\n",
       "      <td>NaN</td>\n",
       "      <td>0.001748</td>\n",
       "      <td>2.0</td>\n",
       "      <td>47.0</td>\n",
       "      <td>0.002969</td>\n",
       "      <td>0.001209</td>\n",
       "      <td>0.957447</td>\n",
       "      <td>0.0</td>\n",
       "      <td>0.042553</td>\n",
       "    </tr>\n",
       "  </tbody>\n",
       "</table>\n",
       "<p>5 rows × 30 columns</p>\n",
       "</div>"
      ],
      "text/plain": [
       "   Pitch_Number  count_pass x_interval_pass y_interval_pass  percentage_pass  \\\n",
       "0             1         7.0      (0.0, 5.0)      (0.0, 5.0)         0.000190   \n",
       "1             2        19.0      (0.0, 5.0)     (5.0, 10.0)         0.000515   \n",
       "2             3        30.0      (0.0, 5.0)    (10.0, 15.0)         0.000814   \n",
       "3             4        44.0      (0.0, 5.0)    (15.0, 20.0)         0.001193   \n",
       "4             5        45.0      (0.0, 5.0)    (20.0, 25.0)         0.001221   \n",
       "\n",
       "  position_pass action_pass  prob_pass  count_shot x_interval_shot  ...  \\\n",
       "0           ALL        Pass        NaN         0.0      (0.0, 5.0)  ...   \n",
       "1           ALL        Pass        NaN         0.0      (0.0, 5.0)  ...   \n",
       "2           ALL        Pass        NaN         0.0      (0.0, 5.0)  ...   \n",
       "3           ALL        Pass        NaN         0.0      (0.0, 5.0)  ...   \n",
       "4           ALL        Pass        NaN         0.0      (0.0, 5.0)  ...   \n",
       "\n",
       "    action  prob percentage_dribble count_dribble  total_count  \\\n",
       "0  Dribble   NaN           0.000000           0.0          7.0   \n",
       "1  Dribble   NaN           0.001748           2.0         21.0   \n",
       "2  Dribble   NaN           0.000000           0.0         30.0   \n",
       "3  Dribble   NaN           0.000874           1.0         45.0   \n",
       "4  Dribble   NaN           0.001748           2.0         47.0   \n",
       "\n",
       "   total_percentage pitch_prob pass_prob  shot_prob dribble_prob  \n",
       "0          0.000190   0.000180  1.000000        0.0     0.000000  \n",
       "1          0.002264   0.000540  0.904762        0.0     0.095238  \n",
       "2          0.000814   0.000772  1.000000        0.0     0.000000  \n",
       "3          0.002068   0.001158  0.977778        0.0     0.022222  \n",
       "4          0.002969   0.001209  0.957447        0.0     0.042553  \n",
       "\n",
       "[5 rows x 30 columns]"
      ]
     },
     "execution_count": 55,
     "metadata": {},
     "output_type": "execute_result"
    }
   ],
   "source": [
    "location_df.head()"
   ]
  },
  {
   "cell_type": "code",
   "execution_count": 56,
   "id": "2b416472-74aa-4daf-9d28-a169e6904bd3",
   "metadata": {},
   "outputs": [],
   "source": [
    "#location_df.to_csv(\"data/location_df.csv\", index=False)"
   ]
  },
  {
   "cell_type": "code",
   "execution_count": 57,
   "id": "9ce53e59-e219-410e-b57a-251b45508711",
   "metadata": {},
   "outputs": [],
   "source": [
    "fm_managerial_tactics = {\n",
    "    'Gegen - Direct': {\"Pass\": 1.2, \"Shot\": 1.0, \"Dribble\": 0.8},\n",
    "    'Gegen - High Tempo': {\"Pass\": 1.1, \"Shot\": 1.1, \"Dribble\": 0.9},\n",
    "    'Gegen - Slow Passing': {\"Pass\": 0.9, \"Shot\": 1.0, \"Dribble\": 1.0},\n",
    "    'Gegen - Wing Play': {\"Pass\": 1.3, \"Shot\": 1.0, \"Dribble\": 0.7},\n",
    "    \n",
    "    'Tiki Taka - Direct': {\"Pass\": 1.5, \"Shot\": 0.8, \"Dribble\": 0.8},\n",
    "    'Tiki Taka - High Tempo': {\"Pass\": 1.4, \"Shot\": 0.9, \"Dribble\": 0.8},\n",
    "    'Tiki Taka - Slow Passing': {\"Pass\": 1.6, \"Shot\": 0.7, \"Dribble\": 0.9},\n",
    "    'Tiki Taka - Wing Play': {\"Pass\": 1.7, \"Shot\": 0.6, \"Dribble\": 0.8},\n",
    "    \n",
    "    'Control - Direct': {\"Pass\": 1.1, \"Shot\": 1.0, \"Dribble\": 1.0},\n",
    "    'Control - High Tempo': {\"Pass\": 1.0, \"Shot\": 1.1, \"Dribble\": 1.0},\n",
    "    'Control - Slow Passing': {\"Pass\": 1.0, \"Shot\": 0.9, \"Dribble\": 1.1},\n",
    "    'Control - Wing Play': {\"Pass\": 1.2, \"Shot\": 1.0, \"Dribble\": 0.9},\n",
    "    \n",
    "    'Counter - Direct': {\"Pass\": 0.8, \"Shot\": 1.2, \"Dribble\": 1.0},\n",
    "    'Counter - High Tempo': {\"Pass\": 0.9, \"Shot\": 1.1, \"Dribble\": 1.1},\n",
    "    'Counter - Slow Passing': {\"Pass\": 0.7, \"Shot\": 1.0, \"Dribble\": 1.2},\n",
    "    'Counter - Wing Play': {\"Pass\": 0.8, \"Shot\": 1.3, \"Dribble\": 1.0},\n",
    "    \n",
    "    'Total Football - Direct': {\"Pass\": 1.2, \"Shot\": 1.2, \"Dribble\": 1.0},\n",
    "    'Total Football - High Tempo': {\"Pass\": 1.1, \"Shot\": 1.3, \"Dribble\": 1.0},\n",
    "    'Total Football - Slow Passing': {\"Pass\": 1.3, \"Shot\": 1.1, \"Dribble\": 0.9},\n",
    "    'Total Football - Wing Play': {\"Pass\": 1.4, \"Shot\": 1.0, \"Dribble\": 0.8},\n",
    "}\n",
    "\n",
    "selected_tactics = [\n",
    "    fm_managerial_tactics['Tiki Taka - Direct'],\n",
    "    fm_managerial_tactics['Counter - High Tempo'],\n",
    "    fm_managerial_tactics['Counter - Wing Play'],\n",
    "]"
   ]
  },
  {
   "cell_type": "code",
   "execution_count": 58,
   "id": "963aa03c-9f8e-4033-adc6-0ccc1f18336e",
   "metadata": {},
   "outputs": [],
   "source": [
    "def create_triple_prob_dict(row, tactical_coef={\"Pass\": 0, \"Shot\": 0, \"Dribble\": 0}):\n",
    "    prob_dict = {\n",
    "        \"Pass\": row[\"pass_prob\"]+row[\"pass_prob\"]*tactical_coef[\"Pass\"],\n",
    "        \"Shot\": row[\"shot_prob\"]+row[\"shot_prob\"]*tactical_coef[\"Shot\"],\n",
    "        \"Dribble\": row[\"dribble_prob\"]+row[\"dribble_prob\"]*tactical_coef[\"Dribble\"]\n",
    "    }\n",
    "    sum_prob_dict = sum(prob_dict.values())\n",
    "    weighted_prob_dict = {key: prob_dict[key]/sum_prob_dict for key in prob_dict.keys()}\n",
    "    return weighted_prob_dict"
   ]
  },
  {
   "cell_type": "code",
   "execution_count": 59,
   "id": "b5a30ec4-fa18-447c-a9e2-d6aba0967eee",
   "metadata": {},
   "outputs": [
    {
     "name": "stdout",
     "output_type": "stream",
     "text": [
      "84.4 83.6\n"
     ]
    }
   ],
   "source": [
    "tpr1 = LineupTPR(players_df, \"Liverpool\").query(\"Best_Pos != 'GK'\").mean().tpr\n",
    "tpr2 = LineupTPR(players_df, \"FC Bayern\").query(\"Best_Pos != 'GK'\").mean().tpr\n",
    "print(tpr1, tpr2)"
   ]
  },
  {
   "cell_type": "code",
   "execution_count": 60,
   "id": "06738244-03f6-4c54-986a-3ae4f8488ab6",
   "metadata": {},
   "outputs": [
    {
     "ename": "NameError",
     "evalue": "name 'Action_Volume_Predict_Randomnessed' is not defined",
     "output_type": "error",
     "traceback": [
      "\u001b[1;31m---------------------------------------------------------------------------\u001b[0m",
      "\u001b[1;31mNameError\u001b[0m                                 Traceback (most recent call last)",
      "Cell \u001b[1;32mIn[60], line 4\u001b[0m\n\u001b[0;32m      1\u001b[0m tpr_a \u001b[38;5;241m=\u001b[39m tpr1\n\u001b[0;32m      2\u001b[0m tpr_b \u001b[38;5;241m=\u001b[39m tpr2\n\u001b[1;32m----> 4\u001b[0m Home_Touches \u001b[38;5;241m=\u001b[39m Action_Volume_Predict_Randomnessed(\u001b[38;5;124m\"\u001b[39m\u001b[38;5;124mAttacking_Touches\u001b[39m\u001b[38;5;124m\"\u001b[39m, special_formula_df, tpr_a, tpr_b)\n\u001b[0;32m      5\u001b[0m Away_Touches \u001b[38;5;241m=\u001b[39m Action_Volume_Predict_Randomnessed(\u001b[38;5;124m\"\u001b[39m\u001b[38;5;124mAttacking_Touches\u001b[39m\u001b[38;5;124m\"\u001b[39m, special_formula_df, tpr_b, tpr_a)\n\u001b[0;32m      6\u001b[0m Action_Counter_Home \u001b[38;5;241m=\u001b[39m {\u001b[38;5;124m\"\u001b[39m\u001b[38;5;124mPass\u001b[39m\u001b[38;5;124m\"\u001b[39m: \u001b[38;5;241m0\u001b[39m, \u001b[38;5;124m\"\u001b[39m\u001b[38;5;124mShot\u001b[39m\u001b[38;5;124m\"\u001b[39m: \u001b[38;5;241m0\u001b[39m, \u001b[38;5;124m\"\u001b[39m\u001b[38;5;124mDribble\u001b[39m\u001b[38;5;124m\"\u001b[39m: \u001b[38;5;241m0\u001b[39m}\n",
      "\u001b[1;31mNameError\u001b[0m: name 'Action_Volume_Predict_Randomnessed' is not defined"
     ]
    }
   ],
   "source": [
    "tpr_a = tpr1\n",
    "tpr_b = tpr2\n",
    "\n",
    "Home_Touches = Action_Volume_Predict_Randomnessed(\"Attacking_Touches\", special_formula_df, tpr_a, tpr_b)\n",
    "Away_Touches = Action_Volume_Predict_Randomnessed(\"Attacking_Touches\", special_formula_df, tpr_b, tpr_a)\n",
    "Action_Counter_Home = {\"Pass\": 0, \"Shot\": 0, \"Dribble\": 0}\n",
    "Action_Counter_Away = {\"Pass\": 0, \"Shot\": 0, \"Dribble\": 0}\n",
    "\n",
    "for moment in range(Home_Touches):\n",
    "    location_df[\"triple_prob_dict\"] = location_df.apply(lambda row: create_triple_prob_dict(row, selected_tactics[0]), axis=1)\n",
    "    pitch_number = np.random.choice(location_df[\"Pitch_Number\"], p=location_df[\"pitch_prob\"])\n",
    "    triple_probs = list(location_df[location_df[\"Pitch_Number\"] == pitch_number][\"triple_prob_dict\"].iloc[0].values())\n",
    "    action = np.random.choice([\"Pass\",\"Shot\",\"Dribble\"], p=triple_probs)\n",
    "    Action_Counter_Home[action]+=1\n",
    "\n",
    "for moment in range(Away_Touches):\n",
    "    location_df[\"triple_prob_dict\"] = location_df.apply(lambda row: create_triple_prob_dict(row, selected_tactics[1]), axis=1)\n",
    "    pitch_number = np.random.choice(location_df[\"Pitch_Number\"], p=location_df[\"pitch_prob\"])\n",
    "    triple_probs = list(location_df[location_df[\"Pitch_Number\"] == pitch_number][\"triple_prob_dict\"].iloc[0].values())\n",
    "    action = np.random.choice([\"Pass\",\"Shot\",\"Dribble\"], p=triple_probs)\n",
    "    Action_Counter_Away[action]+=1\n",
    "\n",
    "print(selected_tactics, \"\\n\")\n",
    "print(tpr_a, Action_Counter_Home)\n",
    "print(tpr_b, Action_Counter_Away)"
   ]
  },
  {
   "cell_type": "code",
   "execution_count": 61,
   "id": "7cbc2081-a88e-453d-8992-4b2c96555d1b",
   "metadata": {},
   "outputs": [],
   "source": [
    "from IPython.display import display, HTML\n",
    "loading_bar_html = \"\"\"\n",
    "<div id=\"progress-container\" style=\"width: 50%; border: 1px solid #ccc; margin: 20px 0;\">\n",
    "  <div id=\"progress-bar\" style=\"width: 0%; height: 20px; background-color: #4CAF50; text-align: center; line-height: 20px; color: white;\"></div>\n",
    "</div>\n",
    "<script>\n",
    "function updateProgressBar(progress) {\n",
    "  var progressBar = document.getElementById('progress-bar');\n",
    "  progressBar.style.width = progress + '%';\n",
    "  progressBar.innerHTML = progress + '%';\n",
    "}\n",
    "</script>\n",
    "\"\"\""
   ]
  },
  {
   "cell_type": "code",
   "execution_count": null,
   "id": "37ce7756-074a-4d48-93b4-ffc5f9420b3d",
   "metadata": {},
   "outputs": [],
   "source": []
  },
  {
   "cell_type": "code",
   "execution_count": 62,
   "id": "a48b06eb-efec-46e7-be5b-2cb0b37050ca",
   "metadata": {},
   "outputs": [],
   "source": [
    "def Generate_Random_Match_Stats(tpr_a, tpr_b, match_number=1):\n",
    "    all_matches= []\n",
    "    shot_map = []\n",
    "    pass_map = []\n",
    "    dribble_map = []\n",
    "    location_df[\"triple_prob_dict\"] = location_df.apply(lambda row: create_triple_prob_dict(row, selected_tactics[2]), axis=1)\n",
    "    \n",
    "    for process in range(match_number):\n",
    "        Action_Counter = {\"Pass\": 0, \"Shot\": 0, \"Dribble\": 0}\n",
    "        Touches = Action_Volume_Predict_Randomnessed(\"Attacking_Touches\", special_formula_df, tpr_a, tpr_b)\n",
    "        for moment in range(Touches):\n",
    "            pitch_number = np.random.choice(location_df[\"Pitch_Number\"], p=location_df[\"pitch_prob\"])\n",
    "            triple_probs = list(location_df[location_df[\"Pitch_Number\"] == pitch_number][\"triple_prob_dict\"].iloc[0].values())\n",
    "            triple_actions = list(location_df[location_df[\"Pitch_Number\"] == pitch_number][\"triple_prob_dict\"].iloc[0].keys())\n",
    "            action = np.random.choice(triple_actions, p=triple_probs)\n",
    "            if action==\"Pass\":\n",
    "                pass_map.append(pitch_number)\n",
    "            elif action==\"Shot\":\n",
    "                shot_map.append(pitch_number)\n",
    "            elif action==\"Dribble\":\n",
    "                dribble_map.append(pitch_number)\n",
    "            Action_Counter[action]+=1\n",
    "        all_matches.append(Action_Counter)\n",
    "\n",
    "    print(\"__completed__!\")\n",
    "    return {\n",
    "        \"all_matches\": all_matches,\n",
    "        \"pass_map\": pass_map, \n",
    "        \"shot_map\": shot_map, \n",
    "        \"dribble_map\": dribble_map, \n",
    "    }"
   ]
  },
  {
   "cell_type": "code",
   "execution_count": 63,
   "id": "6816a55c-d38b-4d3c-a520-3cc122f14269",
   "metadata": {},
   "outputs": [
    {
     "ename": "NameError",
     "evalue": "name 'Action_Volume_Predict_Randomnessed' is not defined",
     "output_type": "error",
     "traceback": [
      "\u001b[1;31m---------------------------------------------------------------------------\u001b[0m",
      "\u001b[1;31mNameError\u001b[0m                                 Traceback (most recent call last)",
      "Cell \u001b[1;32mIn[63], line 1\u001b[0m\n\u001b[1;32m----> 1\u001b[0m Generate_Random_Match_Stats(\u001b[38;5;241m72\u001b[39m, \u001b[38;5;241m64\u001b[39m, \u001b[38;5;241m5\u001b[39m)[\u001b[38;5;124m\"\u001b[39m\u001b[38;5;124mall_matches\u001b[39m\u001b[38;5;124m\"\u001b[39m]\n",
      "Cell \u001b[1;32mIn[62], line 10\u001b[0m, in \u001b[0;36mGenerate_Random_Match_Stats\u001b[1;34m(tpr_a, tpr_b, match_number)\u001b[0m\n\u001b[0;32m      8\u001b[0m \u001b[38;5;28;01mfor\u001b[39;00m process \u001b[38;5;129;01min\u001b[39;00m \u001b[38;5;28mrange\u001b[39m(match_number):\n\u001b[0;32m      9\u001b[0m     Action_Counter \u001b[38;5;241m=\u001b[39m {\u001b[38;5;124m\"\u001b[39m\u001b[38;5;124mPass\u001b[39m\u001b[38;5;124m\"\u001b[39m: \u001b[38;5;241m0\u001b[39m, \u001b[38;5;124m\"\u001b[39m\u001b[38;5;124mShot\u001b[39m\u001b[38;5;124m\"\u001b[39m: \u001b[38;5;241m0\u001b[39m, \u001b[38;5;124m\"\u001b[39m\u001b[38;5;124mDribble\u001b[39m\u001b[38;5;124m\"\u001b[39m: \u001b[38;5;241m0\u001b[39m}\n\u001b[1;32m---> 10\u001b[0m     Touches \u001b[38;5;241m=\u001b[39m Action_Volume_Predict_Randomnessed(\u001b[38;5;124m\"\u001b[39m\u001b[38;5;124mAttacking_Touches\u001b[39m\u001b[38;5;124m\"\u001b[39m, special_formula_df, tpr_a, tpr_b)\n\u001b[0;32m     11\u001b[0m     \u001b[38;5;28;01mfor\u001b[39;00m moment \u001b[38;5;129;01min\u001b[39;00m \u001b[38;5;28mrange\u001b[39m(Touches):\n\u001b[0;32m     12\u001b[0m         pitch_number \u001b[38;5;241m=\u001b[39m np\u001b[38;5;241m.\u001b[39mrandom\u001b[38;5;241m.\u001b[39mchoice(location_df[\u001b[38;5;124m\"\u001b[39m\u001b[38;5;124mPitch_Number\u001b[39m\u001b[38;5;124m\"\u001b[39m], p\u001b[38;5;241m=\u001b[39mlocation_df[\u001b[38;5;124m\"\u001b[39m\u001b[38;5;124mpitch_prob\u001b[39m\u001b[38;5;124m\"\u001b[39m])\n",
      "\u001b[1;31mNameError\u001b[0m: name 'Action_Volume_Predict_Randomnessed' is not defined"
     ]
    }
   ],
   "source": [
    "Generate_Random_Match_Stats(72, 64, 5)[\"all_matches\"]"
   ]
  },
  {
   "cell_type": "markdown",
   "id": "5113e659-6770-4d1e-8d9f-169d7aac5a8c",
   "metadata": {},
   "source": [
    "<br><br><br><br><br><br><br><br>\n",
    "<h2 style=\"color:black;background:yellow;\">  Pitch Plot</h2>"
   ]
  },
  {
   "cell_type": "code",
   "execution_count": null,
   "id": "3935b7dd-9a0c-4dae-b241-e4d6d64c127c",
   "metadata": {},
   "outputs": [],
   "source": [
    "actions_generated = Generate_Random_Match_Stats(82, 71, match_number=1)[\"shot_map\"]\n",
    "p = Draw_Pitch_Actions(actions_generated, False, \"../statsbomb/data/Pitch_Locations_384_squared_ligue1_Pass.csv\", \"pass_map\").plot() \\\n",
    "    .save_fig(\"./plots_imgs/counts_df_Locations.png\")"
   ]
  }
 ],
 "metadata": {
  "kernelspec": {
   "display_name": "Python 3 (ipykernel)",
   "language": "python",
   "name": "python3"
  },
  "language_info": {
   "codemirror_mode": {
    "name": "ipython",
    "version": 3
   },
   "file_extension": ".py",
   "mimetype": "text/x-python",
   "name": "python",
   "nbconvert_exporter": "python",
   "pygments_lexer": "ipython3",
   "version": "3.11.7"
  }
 },
 "nbformat": 4,
 "nbformat_minor": 5
}
