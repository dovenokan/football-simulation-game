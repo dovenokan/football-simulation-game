{
 "cells": [
  {
   "cell_type": "code",
   "execution_count": 1,
   "id": "4eb1678c-7551-4975-9050-e1565d189834",
   "metadata": {},
   "outputs": [],
   "source": [
    "import pandas as pd\n",
    "import numpy as np\n",
    "import os\n",
    "import sys\n",
    "import math\n",
    "import json\n",
    "import ast\n",
    "from sklearn.model_selection import train_test_split\n",
    "from sklearn.linear_model import LinearRegression\n",
    "from sklearn.metrics import mean_squared_error, r2_score\n",
    "from sklearn.preprocessing import StandardScaler\n",
    "import seaborn as sns\n",
    "import matplotlib.pyplot as plt\n",
    "from mplsoccer.pitch import Pitch\n",
    "import matplotlib.patches as patches\n",
    "from IPython.display import Markdown"
   ]
  },
  {
   "cell_type": "code",
   "execution_count": 2,
   "id": "54185400-e4e9-4fc3-811f-f5e755ce79e4",
   "metadata": {},
   "outputs": [],
   "source": [
    "import warnings\n",
    "from sklearn.exceptions import UndefinedMetricWarning\n",
    "from pandas.errors import SettingWithCopyWarning\n",
    "warnings.filterwarnings(action='ignore', category=UndefinedMetricWarning)\n",
    "warnings.simplefilter(action='ignore', category=(SettingWithCopyWarning))\n",
    "warnings.simplefilter(action='ignore', category=(FutureWarning))\n",
    "warnings.simplefilter(action='ignore', category=RuntimeWarning)"
   ]
  },
  {
   "cell_type": "code",
   "execution_count": 3,
   "id": "686e33dc-d271-44f5-94d2-04afed5404d0",
   "metadata": {},
   "outputs": [],
   "source": [
    "parent_dir = os.path.abspath(os.path.join(os.path.dirname(\"./\"), '..'))\n",
    "sys.path.append(parent_dir)\n",
    "from tools.lineup_tpr import LineupTPR\n",
    "from tools.pickler import Save_Model, Load_Model\n",
    "from tools.draw_pitch_plot import Draw_Pitch_Actions\n",
    "from tools.fm_attributes import Attributes\n",
    "fm_attributes = Attributes.attribute_list\n",
    "gk_attributes = Attributes.gk_attributes"
   ]
  },
  {
   "cell_type": "code",
   "execution_count": 4,
   "id": "8247c91a-81dd-46c5-a57b-56a6b9044876",
   "metadata": {},
   "outputs": [],
   "source": [
    "players_df = pd.read_csv(\"../players_db/fm23/fm23db_processed.csv\")\n",
    "team_df = pd.read_csv(\"../players_db/fm23/team_ratings.csv\")"
   ]
  },
  {
   "cell_type": "markdown",
   "id": "957c7a09-471e-4d01-85df-9976e7083563",
   "metadata": {
    "jp-MarkdownHeadingCollapsed": true
   },
   "source": [
    "<br><br><br><br><br><br><br><br>\n",
    "<h2 style=\"color:beige;background:gray;\"><b style=\"color:beige;background:red;\">Attack</b> Data Prep - for Action Player \"Volume\" Regression</h2>"
   ]
  },
  {
   "cell_type": "markdown",
   "id": "416bbb8b-a5fd-40e6-b724-d40d40f3c9a9",
   "metadata": {
    "jp-MarkdownHeadingCollapsed": true
   },
   "source": [
    "<br><br>\n",
    "<h3 style=\"color:yellow;background:pink;\">  Passing</h3>"
   ]
  },
  {
   "cell_type": "code",
   "execution_count": 5,
   "id": "07276367-2611-4ef5-93ae-0e51f89e4057",
   "metadata": {},
   "outputs": [],
   "source": [
    "# url = \"https://fbref.com/en/comps/Big5/2022-2023/passing/players/2022-2023-Big-5-European-Leagues-Stats\"\n",
    "# dataPASSING = pd.read_html(url)\n",
    "# dataPASSING[0].to_csv(\"data/Big5@Players@Passing@2022_2023.csv\",index=False)\n",
    "# # Att, Att, Att -> same column names occurs\n",
    "# fb = dataPASSING[0]\n",
    "# #fb.columns\n",
    "# fb['90s'] = pd.to_numeric(fb[('Unnamed: 8_level_0','90s')], errors='coerce')\n",
    "# fb['Att'] = pd.to_numeric(fb[('Total','Att')], errors='coerce')\n",
    "# fb['Pos'] = fb[('Unnamed: 3_level_0','Pos')]\n",
    "# fb['Squad'] = fb[('Unnamed: 4_level_0','Squad')]\n",
    "# fb['Player'] = fb[('Unnamed: 1_level_0','Player')]\n",
    "# fb['Pass/90'] = fb['Att'] / fb['90s']\n",
    "# fb2 = fb[fb[\"90s\"] > 15]\n",
    "# fb2.columns = fb2.columns.get_level_values(0)\n",
    "# fb2.sort_values(by=\"Pass/90\", ascending=False).head(3)[[\"Pos\",\"Squad\",\"Player\",\"Att\",\"Pass/90\"]]"
   ]
  },
  {
   "cell_type": "code",
   "execution_count": 6,
   "id": "020fa133-4a2b-428f-8f16-0c065563665e",
   "metadata": {},
   "outputs": [],
   "source": [
    "fb2_raw = pd.read_csv(\"data/Big5@Players@Passing@2022_2023.csv\")\n",
    "fb2 = fb2_raw[fb2_raw[\"90s\"] > 15]\n",
    "fb_passing = fb2.sort_values(by=\"Pass/90\", ascending=False)[[\"Pos\",\"Squad\",\"Player\",\"Att\",\"Pass/90\"]]\n",
    "#fb_passing[\"Pos\"] = fb_passing[\"Pos\"].apply(lambda row: row.split(\",\")[0])\n",
    "pass_merged_df = pd.merge(players_df, fb_passing, how=\"inner\", left_on=\"Name\", right_on=\"Player\", suffixes=(\"\",\"_fb\"))"
   ]
  },
  {
   "cell_type": "code",
   "execution_count": 7,
   "id": "07551cfc-cfd7-451c-a373-25e5640bebd3",
   "metadata": {},
   "outputs": [
    {
     "name": "stdout",
     "output_type": "stream",
     "text": [
      "4.24\n"
     ]
    }
   ],
   "source": [
    "passing_positions = pass_merged_df.sort_values(by=\"Pass/90\", ascending=False).head(50)[\"Pos_Rank_Average\"]\n",
    "print(passing_positions.mean())\n",
    "passing_ratings = pass_merged_df.sort_values(by=\"Pass/90\", ascending=False).head(50)[fm_attributes].mean().sort_values(ascending=False)"
   ]
  },
  {
   "cell_type": "markdown",
   "id": "1c0ba480-9bc1-430f-94fd-c4f2f7e26729",
   "metadata": {
    "jp-MarkdownHeadingCollapsed": true
   },
   "source": [
    "<br><br>\n",
    "<h3 style=\"color:beige;background:red;\">  Shooting</h3>"
   ]
  },
  {
   "cell_type": "code",
   "execution_count": 8,
   "id": "8a1bcca9-7875-4235-a9e2-c96734c6a023",
   "metadata": {},
   "outputs": [],
   "source": [
    "# url = \"https://fbref.com/en/comps/Big5/2022-2023/shooting/players/2022-2023-Big-5-European-Leagues-Stats\"\n",
    "# dataSHOOTING = pd.read_html(url)\n",
    "# dataSHOOTING[0].to_csv(\"data/Big5@Players@Shooting@2022_2023.csv\",index=False)\n",
    "# dataSHOOTING[0].columns = dataSHOOTING[0].columns.get_level_values(1)\n",
    "# fb = dataSHOOTING[0]\n",
    "# fb.columns\n",
    "# fb['90s'] = pd.to_numeric(fb['90s'], errors='coerce')\n",
    "# fb['Sh'] = pd.to_numeric(fb['Sh'], errors='coerce')\n",
    "# fb['Sh/90'] = pd.to_numeric(fb['Sh/90'], errors='coerce')\n",
    "# fb2 = fb[fb[\"90s\"] > 15]\n",
    "# fb2.sort_values(by=\"Sh/90\", ascending=False).head(3)[[\"Pos\",\"Squad\",\"Player\",\"Sh\",\"Sh/90\"]]"
   ]
  },
  {
   "cell_type": "code",
   "execution_count": 9,
   "id": "3942e2ea-93b8-4d6c-9631-d1e2e6894dc9",
   "metadata": {},
   "outputs": [],
   "source": [
    "fb2_raw = pd.read_csv(\"data/Big5@Players@Shooting@2022_2023.csv\")\n",
    "fb2 = fb2_raw[fb2_raw[\"90s\"] > 15]\n",
    "fb_shooters = fb2.sort_values(by=\"Sh/90\", ascending=False)[[\"Pos\",\"Squad\",\"Player\",\"Sh\",\"Sh/90\"]]\n",
    "fb_shooters[\"Pos\"] = fb_shooters[\"Pos\"].apply(lambda row: row.split(\",\")[0])\n",
    "sh_merged_df_raw = pd.merge(players_df, fb_shooters, how=\"inner\", left_on=\"Name\", right_on=\"Player\", suffixes=(\"\",\"_fb\"))\n",
    "sh_merged_df = sh_merged_df_raw[sh_merged_df_raw[\"Best_Pos\"] != \"GK\"]"
   ]
  },
  {
   "cell_type": "code",
   "execution_count": 10,
   "id": "60bf106d-cdda-4b2c-9bdc-48cf61db8383",
   "metadata": {},
   "outputs": [
    {
     "name": "stdout",
     "output_type": "stream",
     "text": [
      "11.3\n"
     ]
    }
   ],
   "source": [
    "shooters_positions = sh_merged_df.sort_values(by=\"Sh/90\", ascending=False).head(50)[\"Pos_Rank_Average\"]\n",
    "print(shooters_positions.mean())\n",
    "shooters_ratings = sh_merged_df.sort_values(by=\"Sh/90\", ascending=False).head(50)[fm_attributes].mean().sort_values(ascending=False)"
   ]
  },
  {
   "cell_type": "markdown",
   "id": "339089db-9728-42b5-88d1-68d16f2e3cf4",
   "metadata": {
    "jp-MarkdownHeadingCollapsed": true
   },
   "source": [
    "<br><br>\n",
    "<h3 style=\"color:red;background:orange;\">  Dribbling</h3>"
   ]
  },
  {
   "cell_type": "code",
   "execution_count": 11,
   "id": "fcebb1da-d601-4d59-a340-45d1d64d5b89",
   "metadata": {},
   "outputs": [],
   "source": [
    "# url = \"https://fbref.com/en/comps/Big5/2022-2023/possession/players/2022-2023-Big-5-European-Leagues-Stats\"\n",
    "# dataDRIBBLING = pd.read_html(url)\n",
    "# dataDRIBBLING[0].to_csv(\"data/Big5@Players@Dribbling@2022_2023.csv\",index=False)\n",
    "# fb = dataDRIBBLING[0]\n",
    "# #fb.columns\n",
    "# fb['90s'] = pd.to_numeric(fb[('Unnamed: 8_level_0','90s')], errors='coerce')\n",
    "# fb['Att'] = pd.to_numeric(fb[('Take-Ons','Att')], errors='coerce')\n",
    "# fb['Pos'] = fb[('Unnamed: 3_level_0','Pos')]\n",
    "# fb['Squad'] = fb[('Unnamed: 4_level_0','Squad')]\n",
    "# fb['Player'] = fb[('Unnamed: 1_level_0','Player')]\n",
    "# fb['Dribble/90'] = fb['Att'] / fb['90s']\n",
    "# fb2 = fb[fb[\"90s\"] > 15]\n",
    "# fb2.columns = fb2.columns.get_level_values(0)\n",
    "# fb2.sort_values(by=\"Dribble/90\", ascending=False).head(3)[[\"Pos\",\"Squad\",\"Player\",\"Att\",\"Dribble/90\"]]"
   ]
  },
  {
   "cell_type": "code",
   "execution_count": 12,
   "id": "38e3e2e9-67bc-4180-a055-fc9ec6954aa8",
   "metadata": {},
   "outputs": [],
   "source": [
    "fb2_raw = pd.read_csv(\"data/Big5@Players@Dribbling@2022_2023.csv\")\n",
    "fb2 = fb2_raw[fb2_raw[\"90s\"] > 15]\n",
    "fb_dribbling = fb2.sort_values(by=\"Dribble/90\", ascending=False)[[\"Pos\",\"Squad\",\"Player\",\"Att\",\"Dribble/90\"]]\n",
    "#fb_dribbling[\"Pos\"] = fb_dribbling[\"Pos\"].apply(lambda row: row.split(\",\")[0])\n",
    "dribble_merged_df = pd.merge(players_df, fb_dribbling, how=\"inner\", left_on=\"Name\", right_on=\"Player\", suffixes=(\"\",\"_fb\"))"
   ]
  },
  {
   "cell_type": "code",
   "execution_count": 13,
   "id": "641ac0bd-cd57-43b2-8c8d-11c725cb8080",
   "metadata": {},
   "outputs": [
    {
     "name": "stdout",
     "output_type": "stream",
     "text": [
      "9.92\n"
     ]
    }
   ],
   "source": [
    "dribbling_positions = dribble_merged_df.sort_values(by=\"Dribble/90\", ascending=False).head(50)[\"Pos_Rank_Average\"]\n",
    "print(dribbling_positions.mean())\n",
    "dribbling_ratings= dribble_merged_df.sort_values(by=\"Dribble/90\", ascending=False).head(50)[fm_attributes].mean().sort_values(ascending=False)"
   ]
  },
  {
   "cell_type": "code",
   "execution_count": 14,
   "id": "bf387398-cd27-4a05-b5a5-b03ef972159e",
   "metadata": {},
   "outputs": [],
   "source": [
    "# pass_merged_df, sh_merged_df, dribble_merged_df"
   ]
  },
  {
   "cell_type": "code",
   "execution_count": 15,
   "id": "d3c87e82-8c2f-4c5d-8b5a-37f824cb6224",
   "metadata": {},
   "outputs": [],
   "source": [
    "# passing_top_cols, shooting_top_cols, dribbling_top_cols"
   ]
  },
  {
   "cell_type": "code",
   "execution_count": 16,
   "id": "7d232020-0b7f-418a-a747-945783aac9e4",
   "metadata": {},
   "outputs": [],
   "source": [
    "top_N = 12"
   ]
  },
  {
   "cell_type": "code",
   "execution_count": 17,
   "id": "d41a1279-4c67-4c9f-9ed2-618435165de9",
   "metadata": {},
   "outputs": [
    {
     "data": {
      "text/plain": [
       "Index(['Off_the_Ball', 'Technique', 'Flair', 'Pace', 'Acceleration',\n",
       "       'First_Touch', 'Finishing', 'Agility', 'Determination', 'Dribbling',\n",
       "       'Anticipation', 'Natural_Fitness'],\n",
       "      dtype='object')"
      ]
     },
     "execution_count": 17,
     "metadata": {},
     "output_type": "execute_result"
    }
   ],
   "source": [
    "shooting_top_cols = shooters_ratings[:top_N].index\n",
    "shooting_top_cols"
   ]
  },
  {
   "cell_type": "code",
   "execution_count": 18,
   "id": "bf75abaf-a7e8-4cdc-b4a2-204e47fce443",
   "metadata": {},
   "outputs": [
    {
     "data": {
      "text/plain": [
       "Index(['Determination', 'Anticipation', 'Teamwork', 'Stamina', 'Composure',\n",
       "       'Natural_Fitness', 'Passing', 'Work_Rate', 'Tackling', 'Decisions',\n",
       "       'First_Touch', 'Technique'],\n",
       "      dtype='object')"
      ]
     },
     "execution_count": 18,
     "metadata": {},
     "output_type": "execute_result"
    }
   ],
   "source": [
    "passing_top_cols = passing_ratings[:top_N].index\n",
    "passing_top_cols"
   ]
  },
  {
   "cell_type": "code",
   "execution_count": 19,
   "id": "2f9c7c1d-b6f4-4165-8125-77627c36b081",
   "metadata": {},
   "outputs": [
    {
     "data": {
      "text/plain": [
       "Index(['Dribbling', 'Acceleration', 'Flair', 'Pace', 'Technique', 'Agility',\n",
       "       'First_Touch', 'Determination', 'Natural_Fitness', 'Off_the_Ball',\n",
       "       'Passing', 'Vision'],\n",
       "      dtype='object')"
      ]
     },
     "execution_count": 19,
     "metadata": {},
     "output_type": "execute_result"
    }
   ],
   "source": [
    "dribbling_top_cols = dribbling_ratings[:top_N].index\n",
    "dribbling_top_cols"
   ]
  },
  {
   "cell_type": "markdown",
   "id": "08a5f5d8-9a19-44d5-9b96-2b71c43cc395",
   "metadata": {
    "jp-MarkdownHeadingCollapsed": true
   },
   "source": [
    "<br><br><br><br><br><br><br><br>\n",
    "<h2 style=\"color:pink;background:purple;\"><b style=\"color:beige;background:red;\">Attack</b> Data Prep - for Action Player Accuracy Regression</h2>"
   ]
  },
  {
   "cell_type": "markdown",
   "id": "4cd1e14b-b1a3-4015-b37e-17a9806f11f9",
   "metadata": {
    "jp-MarkdownHeadingCollapsed": true
   },
   "source": [
    "<br>\n",
    "<h3 style=\"color:black;background:white;\">  Passing</h3>"
   ]
  },
  {
   "cell_type": "code",
   "execution_count": 20,
   "id": "2bd02c85-bdcb-4c3b-b568-31c5468f02de",
   "metadata": {},
   "outputs": [],
   "source": [
    "# fb2_raw = pd.read_csv(\"data/Big5@Players@Passing@2022_2023.csv\")\n",
    "# fb2_raw[\"Pass_Accuracy\"] = pd.to_numeric(fb2_raw[\"Total.2\"], errors=\"coerce\")\n",
    "# fb2_raw.to_csv(\"data/Big5@Players@Passing@2022_2023.csv\", index=False)"
   ]
  },
  {
   "cell_type": "code",
   "execution_count": 21,
   "id": "1526e7fa-2a0a-44a0-8945-7f2ee0e603a3",
   "metadata": {},
   "outputs": [
    {
     "name": "stdout",
     "output_type": "stream",
     "text": [
      "322.3\n"
     ]
    }
   ],
   "source": [
    "fb2_raw = pd.read_csv(\"data/Big5@Players@Passing@2022_2023.csv\")\n",
    "fb2_raw = fb2_raw[fb2_raw[\"Pos\"] != \"I WANT GK\"]\n",
    "fb2_raw[\"Att\"] = pd.to_numeric(fb2_raw[\"Att\"], errors=\"coerce\")\n",
    "filter_value = fb2_raw[\"Att\"].max() / 10\n",
    "print(filter_value)"
   ]
  },
  {
   "cell_type": "code",
   "execution_count": 22,
   "id": "edb86e5b-5b08-4439-8afd-659bd572c06a",
   "metadata": {},
   "outputs": [],
   "source": [
    "fb2 = fb2_raw[fb2_raw[\"Att\"] > filter_value]\n",
    "fb2[\"Pass_Accuracy\"] = pd.to_numeric(fb2[\"Total.2\"])\n",
    "fb_passing_acc = fb2.sort_values(by=\"Pass_Accuracy\", ascending=False)[[\"Pos\",\"Squad\",\"Player\",\"Pass_Accuracy\",\"Att\"]]\n",
    "#fb_passing_acc[\"Pos\"] = fb_passing_acc[\"Pos\"].apply(lambda row: row.split(\",\")[0])\n",
    "pass_merged_df = pd.merge(players_df, fb_passing_acc, how=\"inner\", left_on=\"Name\", right_on=\"Player\", suffixes=(\"\",\"_fb\"))"
   ]
  },
  {
   "cell_type": "code",
   "execution_count": 23,
   "id": "30a01895-8496-4ff0-858a-add2000f8f07",
   "metadata": {},
   "outputs": [
    {
     "name": "stdout",
     "output_type": "stream",
     "text": [
      "4.54\n"
     ]
    }
   ],
   "source": [
    "passing_positions = pass_merged_df.sort_values(by=\"Pass_Accuracy\", ascending=False).head(50)[\"Pos_Rank_Average\"]\n",
    "print(passing_positions.mean())\n",
    "passing_ratings = pass_merged_df.sort_values(by=\"Pass_Accuracy\", ascending=False).head(50)[fm_attributes].mean().sort_values(ascending=False)"
   ]
  },
  {
   "cell_type": "markdown",
   "id": "d81fdfde-60e7-47c2-ae2f-06da1d35baba",
   "metadata": {
    "jp-MarkdownHeadingCollapsed": true
   },
   "source": [
    "<br>\n",
    "<h3 style=\"color:black;background:white;\">  Shooting</h3>"
   ]
  },
  {
   "cell_type": "code",
   "execution_count": 24,
   "id": "05815525-b6b8-41dc-8d65-d717dc9075e9",
   "metadata": {},
   "outputs": [],
   "source": [
    "# fb2_raw = pd.read_csv(\"data/Big5@Players@Shooting@2022_2023.csv\")\n",
    "# fb2_raw[\"Shot_Accuracy\"] = pd.to_numeric(fb2_raw[\"SoT%\"], errors=\"coerce\")\n",
    "# fb2_raw.to_csv(\"data/Big5@Players@Shooting@2022_2023.csv\", index=False)"
   ]
  },
  {
   "cell_type": "code",
   "execution_count": 25,
   "id": "cb7ea70e-9b6a-4c05-98e3-366fda3011d8",
   "metadata": {},
   "outputs": [
    {
     "name": "stdout",
     "output_type": "stream",
     "text": [
      "36.0\n"
     ]
    }
   ],
   "source": [
    "fb2_raw = pd.read_csv(\"data/Big5@Players@Shooting@2022_2023.csv\")\n",
    "fb2_raw = fb2_raw[fb2_raw[\"Pos\"] != \"GK\"]\n",
    "fb2_raw[\"Sh\"] = pd.to_numeric(fb2_raw[\"Sh\"], errors=\"coerce\")\n",
    "filter_value = fb2_raw[\"Sh\"].max() / 4\n",
    "print(filter_value)"
   ]
  },
  {
   "cell_type": "code",
   "execution_count": 26,
   "id": "66d3e5be-793e-42b6-9ae4-66c7c538e021",
   "metadata": {},
   "outputs": [],
   "source": [
    "fb2 = fb2_raw[fb2_raw[\"Sh\"] > filter_value]\n",
    "fb2[\"Shot_Accuracy\"] = pd.to_numeric(fb2[\"SoT%\"])\n",
    "fb2.to_csv(\"data/Big5@Players@Shooting@2022_2023.csv\", index=False)\n",
    "fb_shooting_acc = fb2.sort_values(by=\"Shot_Accuracy\", ascending=False)[[\"Pos\",\"Squad\",\"Player\",\"Shot_Accuracy\",\"Sh\"]]\n",
    "#fb_shooting_acc[\"Pos\"] = fb_shooting_acc[\"Pos\"].apply(lambda row: row.split(\",\")[0])\n",
    "sh_merged_df = pd.merge(players_df, fb_shooting_acc, how=\"inner\", left_on=\"Name\", right_on=\"Player\", suffixes=(\"\",\"_fb\"))"
   ]
  },
  {
   "cell_type": "code",
   "execution_count": 27,
   "id": "88d89262-6604-493a-998a-c13fe5b50ce7",
   "metadata": {},
   "outputs": [
    {
     "name": "stdout",
     "output_type": "stream",
     "text": [
      "10.62\n"
     ]
    }
   ],
   "source": [
    "shooters_positions = sh_merged_df.sort_values(by=\"Shot_Accuracy\", ascending=False).head(50)[\"Pos_Rank_Average\"]\n",
    "print(shooters_positions.mean())\n",
    "shooters_ratings = sh_merged_df.sort_values(by=\"Shot_Accuracy\", ascending=False).head(50)[fm_attributes].mean().sort_values(ascending=False)"
   ]
  },
  {
   "cell_type": "markdown",
   "id": "69f7db9b-78ee-4eaa-9237-672cd0546401",
   "metadata": {
    "jp-MarkdownHeadingCollapsed": true
   },
   "source": [
    "<br>\n",
    "<h3 style=\"color:black;background:white;\">  Dribbling</h3>"
   ]
  },
  {
   "cell_type": "code",
   "execution_count": 28,
   "id": "e371b95c-c5a1-44e0-a7b4-0bf0a8dc3fb3",
   "metadata": {},
   "outputs": [],
   "source": [
    "# fb2_raw = pd.read_csv(\"data/Big5@Players@Dribbling@2022_2023.csv\")\n",
    "# fb2_raw[\"Dribble_Accuracy\"] = pd.to_numeric(fb2_raw[\"Take-Ons.2\"], errors=\"coerce\")\n",
    "# fb2_raw.to_csv(\"data/Big5@Players@Dribbling@2022_2023.csv\", index=False)"
   ]
  },
  {
   "cell_type": "code",
   "execution_count": 29,
   "id": "be41bb5a-4025-41f1-bc14-e91933102bbd",
   "metadata": {},
   "outputs": [
    {
     "name": "stdout",
     "output_type": "stream",
     "text": [
      "102.0\n"
     ]
    }
   ],
   "source": [
    "fb2_raw = pd.read_csv(\"data/Big5@Players@Dribbling@2022_2023.csv\")\n",
    "fb2_raw = fb2_raw[fb2_raw[\"Pos\"] != \"GK\"]\n",
    "fb2_raw[\"Take-Ons\"] = pd.to_numeric(fb2_raw[\"Take-Ons\"], errors=\"coerce\")\n",
    "filter_value = fb2_raw[\"Take-Ons\"].max() / 3\n",
    "print(filter_value)"
   ]
  },
  {
   "cell_type": "code",
   "execution_count": 30,
   "id": "04d4f3ad-fafe-4d49-bea2-e138f7d2c02c",
   "metadata": {},
   "outputs": [],
   "source": [
    "fb2 = fb2_raw[fb2_raw[\"Take-Ons\"] > filter_value].dropna()\n",
    "fb2[\"Dribble_Accuracy\"] = pd.to_numeric(fb2[\"Take-Ons.2\"])\n",
    "fb_dribbling_acc = fb2.sort_values(by=\"Dribble_Accuracy\", ascending=False)[[\"Pos\",\"Squad\",\"Player\",\"Dribble_Accuracy\",\"Take-Ons\"]]\n",
    "#fb_dribbling_acc[\"Pos\"] = fb_dribbling_acc[\"Pos\"].apply(lambda row: row.split(\",\")[0])\n",
    "dribble_merged_df = pd.merge(players_df, fb_dribbling_acc, how=\"inner\", left_on=\"Name\", right_on=\"Player\", suffixes=(\"\",\"_fb\"))"
   ]
  },
  {
   "cell_type": "code",
   "execution_count": 31,
   "id": "5e0ed04d-ada2-4617-afeb-d2b5fa136dd4",
   "metadata": {},
   "outputs": [
    {
     "name": "stdout",
     "output_type": "stream",
     "text": [
      "9.5\n"
     ]
    }
   ],
   "source": [
    "dribbling_positions = dribble_merged_df.sort_values(by=\"Dribble_Accuracy\", ascending=False).head(50)[\"Pos_Rank_Average\"]\n",
    "print(dribbling_positions.mean())\n",
    "dribbling_ratings= dribble_merged_df.sort_values(by=\"Dribble_Accuracy\", ascending=False).head(50)[fm_attributes].mean().sort_values(ascending=False)"
   ]
  },
  {
   "cell_type": "markdown",
   "id": "c4b1a197-3cc4-4033-b6d6-6c0e31c37d67",
   "metadata": {
    "jp-MarkdownHeadingCollapsed": true
   },
   "source": [
    "<br><br><br><br><br><br><br><br>\n",
    "<h2 style=\"color:lightgreen;background:blue;\"><b style=\"color:beige;background:red;\">Attack</b> Action Player Volume & Accuracy Regression</h2>"
   ]
  },
  {
   "cell_type": "code",
   "execution_count": 32,
   "id": "25fb9914-a017-495a-a855-8f291f9d33a6",
   "metadata": {},
   "outputs": [],
   "source": [
    "def Prepare_Action_Player_Volume_Accuracy_Regression_Data(players_df, csv_file, filter_column, filter_value, target_variable, target_volume=None, top_playersN=None, top_colsN=None, fm_attributes=None, gk_excluded=None):\n",
    "    fb2_raw = pd.read_csv(csv_file)\n",
    "    fb2_raw[filter_column] = pd.to_numeric(fb2_raw[filter_column], errors=\"coerce\")\n",
    "    fb2 = fb2_raw[fb2_raw[filter_column] > filter_value]\n",
    "    if target_volume:\n",
    "        fb_actions = fb2.sort_values(by=target_variable, ascending=False)[[\"Pos\",\"Squad\",\"Player\",target_volume,target_variable]]\n",
    "    else:\n",
    "        fb_actions = fb2.sort_values(by=target_variable, ascending=False)[[\"Pos\",\"Squad\",\"Player\",target_volume,target_variable]]\n",
    "    fb_actions[\"Pos\"] = fb_actions[\"Pos\"].apply(lambda row: row.split(\",\")[0])\n",
    "    merged_df_raw = pd.merge(players_df, fb_actions, how=\"inner\", left_on=\"Name\", right_on=\"Player\", suffixes=(\"\",\"_fb\"))\n",
    "    if gk_excluded:\n",
    "        merged_df = merged_df_raw[merged_df_raw[\"Best_Pos\"] != \"GK\"]\n",
    "    else:\n",
    "        merged_df = merged_df_raw\n",
    "    top_players = merged_df.sort_values(by=target_variable, ascending=False).head(top_playersN)\n",
    "    position_mean = top_players[\"Pos_Rank_Average\"].mean()\n",
    "    top_attributes = top_players[fm_attributes].mean().sort_values(ascending=False).head(top_colsN).index\n",
    "    \n",
    "    return {\n",
    "        \"zero\": 0,\n",
    "        \"target\": target_variable,\n",
    "        \"raw_df\": fb2_raw,\n",
    "        \"df\": merged_df,\n",
    "        \"position_mean\": position_mean,\n",
    "        \"top_playersN\": top_playersN,\n",
    "        \"reg_cols\": np.concatenate((top_attributes, [\"Pos_Rank_Average\"], [\"tpr\",\"tpr_club\"])),\n",
    "    }"
   ]
  },
  {
   "cell_type": "code",
   "execution_count": 33,
   "id": "3c4e5f45-e1b4-4fde-8f90-8b30ce8b1848",
   "metadata": {},
   "outputs": [],
   "source": [
    "from tools.pickler import Save_Model, Load_Model\n",
    "#Save_Model(\"_\", \"models/XXXXXXXXXX_per_90_model\", model)\n",
    "\n",
    "def Train_Model(df, reg_cols, target, test_size):\n",
    "    from sklearn.model_selection import train_test_split, GridSearchCV\n",
    "    from sklearn.ensemble import RandomForestRegressor\n",
    "    from sklearn.linear_model import LinearRegression \n",
    "    from sklearn.metrics import mean_squared_error, r2_score, mean_absolute_error\n",
    "\n",
    "    X = df[reg_cols]\n",
    "    y = df[target].astype(float)\n",
    "    \n",
    "    X_train, X_test, y_train, y_test = train_test_split(X, y, test_size=test_size, random_state=0)\n",
    "    model = LinearRegression()\n",
    "    model.fit(X_train, y_train)\n",
    "    y_pred_raw = model.predict(X_test)\n",
    "    y_pred = [max(0, pred) for pred in y_pred_raw]\n",
    "    \n",
    "    mse = mean_squared_error(y_test, y_pred)\n",
    "    mae = mean_absolute_error(y_test, y_pred)\n",
    "    r2 = r2_score(y_test, y_pred)\n",
    "    \n",
    "    return {\n",
    "        \"model\": model,\n",
    "        \"mse\": mse,\n",
    "        \"mae\": mae,\n",
    "        \"r2\": r2\n",
    "    }"
   ]
  },
  {
   "cell_type": "code",
   "execution_count": 34,
   "id": "8589467a-1794-463d-8829-557e6172c483",
   "metadata": {},
   "outputs": [],
   "source": [
    "def DictToPredictionDict(d: dict) -> pd.DataFrame:\n",
    "    rdict = {}\n",
    "    for k,v in d.items():\n",
    "        rdict[k] = [v]\n",
    "    return pd.DataFrame(rdict)\n",
    "\n",
    "def PlayerPredict(model, current_df, current_target, reg_cols, player_name, print_stats=False):\n",
    "    d0 = current_df.query(f\"Name == '{player_name}'\").iloc[0]\n",
    "    d1 = d0[reg_cols].to_dict()\n",
    "    d2 = DictToPredictionDict(d1)\n",
    "    \n",
    "    print(f\"Name:\\t\\t{d0['Name']}\")\n",
    "    print(f\"Pos_Rank_Avg:\\t{d0['Pos_Rank_Average']}\")\n",
    "    if print_stats:\n",
    "        print(f\"Real:\\t\\t{d0[current_target]}\")\n",
    "    prediction = max(0, model.predict(d2)[0])\n",
    "    print(f\"Prediction:\\t[{prediction}]\")\n",
    "    return prediction\n",
    "    #PlayerPredict(model, current_df, chosen_dict[\"target\"], chosen_dict[\"reg_cols\"], \"Kevin De Bruyne\", print_stats=True)\n",
    "\n",
    "def Model_Predict(model, row, cols):\n",
    "    d1 = row[cols].to_dict()\n",
    "    d2 = DictToPredictionDict(d1)\n",
    "    prediction = max(0, model.predict(d2)[0])\n",
    "    return float(round(prediction, 2))"
   ]
  },
  {
   "cell_type": "markdown",
   "id": "2ea28db7-2ba3-4f76-9f15-c7a718ad6913",
   "metadata": {},
   "source": [
    "<br><br>"
   ]
  },
  {
   "cell_type": "markdown",
   "id": "797edd31-d5b3-4cd7-9951-549ce5b5b3d1",
   "metadata": {
    "jp-MarkdownHeadingCollapsed": true
   },
   "source": [
    "<br><br><br><br><br><br><br><br>\n",
    "<h2 style=\"color:aqua;background:yellow;\">  Experiment Area</h2>"
   ]
  },
  {
   "cell_type": "code",
   "execution_count": 35,
   "id": "36fd95f1-c86f-47bc-a2ea-c5126c5525b2",
   "metadata": {},
   "outputs": [],
   "source": [
    "def Create_Action_Model(action_title, team_df):\n",
    "    # action_title = \"Shooting_Volume\"\n",
    "    hyper_df = pd.read_excel(\"data/player_action_hyper.xlsx\")\n",
    "    title_df = hyper_df[hyper_df[\"Title\"]==action_title].iloc[0]\n",
    "    \n",
    "    prep_by = Prepare_Action_Player_Volume_Accuracy_Regression_Data(\n",
    "        players_df,\n",
    "        csv_file=\"data/\"+title_df[\"csv_file\"],\n",
    "        filter_column=title_df[\"filter_column\"],\n",
    "        filter_value=title_df[\"filter_value\"],\n",
    "        target_variable=title_df[\"target_variable\"],\n",
    "        target_volume=title_df[\"target_volume\"],\n",
    "        top_playersN=title_df[\"top_playersN\"],\n",
    "        top_colsN=title_df[\"top_colsN\"],\n",
    "        fm_attributes=fm_attributes,\n",
    "        gk_excluded=title_df[\"gk_excluded\"]\n",
    "    )\n",
    "    \n",
    "    chosen_dict = {\n",
    "        \"df\": prep_by[\"df\"],\n",
    "        \"raw_df\": prep_by[\"raw_df\"],\n",
    "        \"reg_cols\": prep_by[\"reg_cols\"],\n",
    "        \"target\": prep_by[\"target\"],\n",
    "        \"test_size\": title_df[\"test_size\"],\n",
    "    }\n",
    "    \n",
    "    current_df = pd.merge(team_df, chosen_dict[\"df\"], how=\"inner\", left_on=\"fbref_name\", right_on=\"Squad\", suffixes=(\"_club\",\"\"))\n",
    "    model = Train_Model(current_df, chosen_dict[\"reg_cols\"], chosen_dict[\"target\"], chosen_dict[\"test_size\"])[\"model\"]\n",
    "    return {\n",
    "        \"hyperparam_info_file\": hyper_df,\n",
    "        \"prep_data\": prep_by,\n",
    "        \"model\": model,\n",
    "        \"chosen_dict\": chosen_dict,\n",
    "        \"train_cols\": chosen_dict[\"reg_cols\"]\n",
    "    }"
   ]
  },
  {
   "cell_type": "code",
   "execution_count": 36,
   "id": "e128ea67-6214-4835-8ae9-b6cc547592fb",
   "metadata": {},
   "outputs": [],
   "source": [
    "# hyper_df = pd.read_excel(\"data/player_action_hyper.xlsx\")\n",
    "# players_df = pd.read_csv(\"../players_db/fm23/fm23db_processed.csv\")\n",
    "# team_df = pd.read_csv(\"../players_db/fm23/team_ratings.csv\")\n",
    "\n",
    "# all_df = pd.merge(team_df, players_df, how=\"inner\", left_on=\"Club\", right_on=\"Club\", suffixes=(\"_club\",\"\"))\n",
    "# for title in hyper_df[\"Title\"]:\n",
    "#     model = Create_Action_Model(title, team_df)[\"model\"]\n",
    "#     all_df[title] = all_df.apply(lambda row: Model_Predict(model, row, model.feature_names_in_), axis=1)\n",
    "#     predicted_df = all_df[[title,\"tpr_club\",\"UID\"]]\n",
    "\n",
    "# output_cols = np.concatenate((players_df.columns, hyper_df[\"Title\"].tolist(), [\"tpr_club\",\"UID\"]))\n",
    "# all_df[output_cols].to_csv(\"../players_db/fm23/fm23db_processed_with_futsim_triple_models.csv\", index=False)\n",
    "\n",
    "# predicted_cols = hyper_df[\"Title\"].tolist()\n",
    "# test_team = LineupTPR(all_df, \"Manchester City\")[[\"Club\",\"Name\",\"Playing_Position\",\"Pos_Rank_Average\"] + predicted_cols] \\\n",
    "# .sort_values(\"Pos_Rank_Average\", ascending=False)\n",
    "# test_team[\"Shot_Weight_Prob\"] = test_team[\"shot_Volume\"] / test_team[\"shot_Volume\"].sum()"
   ]
  },
  {
   "cell_type": "markdown",
   "id": "78c2026f-b333-4212-a2a3-96164a2abd52",
   "metadata": {
    "jp-MarkdownHeadingCollapsed": true
   },
   "source": [
    "<br><br><br><br><br><br><br><br>\n",
    "<h2 style=\"color:aqua;background:purple;\">  Predictoria</h2>"
   ]
  },
  {
   "cell_type": "code",
   "execution_count": 96,
   "id": "7b040967-80e6-4fb2-93f7-efadbe62b95e",
   "metadata": {},
   "outputs": [],
   "source": [
    "predicted_df = pd.read_csv(\"../players_db/fm23/fm23db_processed_with_futsim_triple_models.csv\")\n",
    "location_df = pd.read_csv(\"data/location_df.csv\")\n",
    "volume_formula_df = pd.read_csv(\"formulas/Attacking_Touches_volume_formula_df_hyper.csv\", index_col=0) # Attacking_Touches\n",
    "touches_triple_prob_df = pd.read_csv(\"data/touches_triple_prob.csv\")\n",
    "touches_triple_prob_df[\"Triple_Prob_Dict\"] = touches_triple_prob_df.Triple_Prob_Dict.apply(ast.literal_eval)"
   ]
  },
  {
   "cell_type": "code",
   "execution_count": 97,
   "id": "89d4eefb-ba8b-41cd-aebc-9f2372c2da36",
   "metadata": {},
   "outputs": [],
   "source": [
    "location_df = pd.read_csv(\"data/location_df.csv\")\n",
    "pass_positional_location_df = pd.read_csv(\"../statsbomb/data/position_included_location_384_squared_ligue1_Pass.csv\").query(\"position!='ALL'\")\n",
    "shot_positional_location_df = pd.read_csv(\"../statsbomb/data/position_included_location_384_squared_ligue1_Shot.csv\").query(\"position!='ALL'\")\n",
    "dribble_positional_location_df = pd.read_csv(\"../statsbomb/data/position_included_location_384_squared_ligue1_Dribble.csv\").query(\"position!='ALL'\")\n",
    "positional_location_df = {\n",
    "    \"Pass\":pass_positional_location_df,\n",
    "    \"Shot\":shot_positional_location_df,\n",
    "    \"Dribble\":dribble_positional_location_df,\n",
    "}"
   ]
  },
  {
   "cell_type": "code",
   "execution_count": 98,
   "id": "e83822d0-0902-4342-9c06-c1c26d53ba7c",
   "metadata": {},
   "outputs": [],
   "source": [
    "touches_df_raw_1 = pd.read_csv(\"../match_logs/Big5@22-23@attacking_touches.csv\")\n",
    "touches_df_raw_2 = pd.merge(touches_df_raw_1, team_df, left_on=\"Club\", right_on=\"Club\", how=\"inner\") \n",
    "touches_df = pd.merge(touches_df_raw_2, team_df, left_on=\"Opponent\", right_on=\"fbref_name\", how=\"inner\").dropna()"
   ]
  },
  {
   "cell_type": "markdown",
   "id": "30de244e-01f6-4afa-b804-0bae66a980e9",
   "metadata": {},
   "source": [
    "<br><br><br><br>"
   ]
  },
  {
   "cell_type": "code",
   "execution_count": 99,
   "id": "fe4ef9c0-cb99-4ec5-a447-50d17ef653ef",
   "metadata": {},
   "outputs": [],
   "source": [
    "fm_managerial_tactics = {\n",
    "    'Standard': {\"Pass\": 1.0, \"Shot\": 1.0, \"Dribble\": 1.0},\n",
    "    'Gegen - Direct': {\"Pass\": 1.2, \"Shot\": 1.0, \"Dribble\": 0.8},\n",
    "    'Gegen - High Tempo': {\"Pass\": 1.1, \"Shot\": 1.1, \"Dribble\": 0.9},\n",
    "    'Gegen - Slow Passing': {\"Pass\": 0.9, \"Shot\": 1.0, \"Dribble\": 1.0},\n",
    "    'Gegen - Wing Play': {\"Pass\": 1.3, \"Shot\": 1.0, \"Dribble\": 0.7},\n",
    "    \n",
    "    'Tiki Taka - Direct': {\"Pass\": 1.5, \"Shot\": 0.8, \"Dribble\": 0.8},\n",
    "    'Tiki Taka - High Tempo': {\"Pass\": 1.4, \"Shot\": 0.9, \"Dribble\": 0.8},\n",
    "    'Tiki Taka - Slow Passing': {\"Pass\": 1.6, \"Shot\": 0.7, \"Dribble\": 0.9},\n",
    "    'Tiki Taka - Wing Play': {\"Pass\": 1.7, \"Shot\": 0.6, \"Dribble\": 0.8},\n",
    "    \n",
    "    'Control - Direct': {\"Pass\": 1.1, \"Shot\": 1.0, \"Dribble\": 1.0},\n",
    "    'Control - High Tempo': {\"Pass\": 1.0, \"Shot\": 1.1, \"Dribble\": 1.0},\n",
    "    'Control - Slow Passing': {\"Pass\": 1.0, \"Shot\": 0.9, \"Dribble\": 1.1},\n",
    "    'Control - Wing Play': {\"Pass\": 1.2, \"Shot\": 1.0, \"Dribble\": 0.9},\n",
    "    \n",
    "    'Counter - Direct': {\"Pass\": 0.8, \"Shot\": 1.2, \"Dribble\": 1.0},\n",
    "    'Counter - High Tempo': {\"Pass\": 0.9, \"Shot\": 1.1, \"Dribble\": 1.1},\n",
    "    'Counter - Slow Passing': {\"Pass\": 0.7, \"Shot\": 1.0, \"Dribble\": 1.2},\n",
    "    'Counter - Wing Play': {\"Pass\": 0.8, \"Shot\": 1.3, \"Dribble\": 1.0},\n",
    "    \n",
    "    'Total Football - Direct': {\"Pass\": 1.2, \"Shot\": 1.2, \"Dribble\": 1.0},\n",
    "    'Total Football - High Tempo': {\"Pass\": 1.1, \"Shot\": 1.3, \"Dribble\": 1.0},\n",
    "    'Total Football - Slow Passing': {\"Pass\": 1.3, \"Shot\": 1.1, \"Dribble\": 0.9},\n",
    "    'Total Football - Wing Play': {\"Pass\": 1.4, \"Shot\": 1.0, \"Dribble\": 0.8},\n",
    "}\n",
    "\n",
    "selected_tactics = [\n",
    "    fm_managerial_tactics['Standard'],\n",
    "    fm_managerial_tactics['Standard'],\n",
    "    fm_managerial_tactics['Standard'],\n",
    "    fm_managerial_tactics['Standard'],\n",
    "    fm_managerial_tactics['Standard'],\n",
    "    fm_managerial_tactics['Standard'],\n",
    "    fm_managerial_tactics['Counter - High Tempo'],\n",
    "    fm_managerial_tactics['Counter - Wing Play'],\n",
    "]"
   ]
  },
  {
   "cell_type": "code",
   "execution_count": 100,
   "id": "9ce08c5d-fa94-46cd-893d-2430914c6a89",
   "metadata": {},
   "outputs": [],
   "source": [
    "def create_triple_prob_dict(row, tactical_coef={\"Pass\": 0, \"Shot\": 0, \"Dribble\": 0}):\n",
    "    prob_dict = {\n",
    "        \"Pass\": row[\"pass_prob\"] + row[\"pass_prob\"] * tactical_coef[\"Pass\"],\n",
    "        \"Shot\": row[\"shot_prob\"] + row[\"shot_prob\"] * tactical_coef[\"Shot\"],\n",
    "        \"Dribble\": row[\"dribble_prob\"] + row[\"dribble_prob\"] * tactical_coef[\"Dribble\"]\n",
    "    }\n",
    "    sum_prob_dict = sum(prob_dict.values())\n",
    "    weighted_prob_dict = {key: prob_dict[key]/sum_prob_dict for key in prob_dict.keys()}\n",
    "    return weighted_prob_dict"
   ]
  },
  {
   "cell_type": "code",
   "execution_count": 101,
   "id": "a056c4da-f826-491f-b6ff-79a703593fea",
   "metadata": {},
   "outputs": [],
   "source": [
    "def Action_Volume_Predict_Randomnessed(attribute, formula_df, input_df):\n",
    "    custom_cols = list(formula_df.index)\n",
    "    coefficients = sum(formula_df.loc[:, f\"{attribute}_coef\"] * input_df[custom_cols].values)\n",
    "    result = (coefficients + formula_df.loc[:, f\"{attribute}_intercept\"])\n",
    "    randomnessed_result = result.iloc[0] - result.iloc[0] * (np.random.randint(-10, 10)/100)\n",
    "    #return max(0, int(randomnessed_result / 90))\n",
    "    # return max(0, int(result.iloc[0]))\n",
    "    return max(0, int(result.iloc[0] / 90))"
   ]
  },
  {
   "cell_type": "code",
   "execution_count": 102,
   "id": "3be7e9dc-8bc8-4333-ad54-58fa507a236e",
   "metadata": {},
   "outputs": [],
   "source": [
    "def Action_Volume_Predict(attribute, formula_df, input_df):\n",
    "    custom_cols = list(formula_df.index)\n",
    "    coefficients = sum(formula_df.loc[:, f\"{attribute}_coef\"] * input_df[custom_cols].values)\n",
    "    result = (coefficients + formula_df.loc[:, f\"{attribute}_intercept\"])\n",
    "    return max(0, int(result.iloc[0] / 90))"
   ]
  },
  {
   "cell_type": "code",
   "execution_count": 103,
   "id": "27e8ce10-05ab-4cbd-80c9-07c224647813",
   "metadata": {},
   "outputs": [],
   "source": [
    "def Match_Team_Data(touches_df, Club_x, Club_y, chosen_side=0):\n",
    "    if chosen_side==0:\n",
    "        return touches_df.query(f\"Club_x=='{Club_x}' and Opponent=='{Club_y}'\").sort_values(\"Date\")\n",
    "    elif chosen_side==1:\n",
    "        return touches_df.query(f\"Club_x=='{Club_y}' and Opponent=='{Club_x}'\").sort_values(\"Date\")\n",
    "    return \"Not Found\""
   ]
  },
  {
   "cell_type": "code",
   "execution_count": 104,
   "id": "44408847-2f09-47ed-9795-46fc0bd29633",
   "metadata": {},
   "outputs": [],
   "source": [
    "def Create_Match_Data(team_df, Club_x, Club_y, chosen_side=0):\n",
    "    x = team_df[team_df[\"Club\"] == Club_x]\n",
    "    y = team_df[team_df[\"Club\"] == Club_y]\n",
    "    if chosen_side == 0:\n",
    "        x = x.add_suffix('_x')\n",
    "        y = y.add_suffix('_y')\n",
    "        x[y.columns] = y.values\n",
    "        r = x\n",
    "    elif chosen_side == 1:\n",
    "        y = y.add_suffix('_x')\n",
    "        x = x.add_suffix('_y')\n",
    "        y[x.columns] = x.values\n",
    "        r = y\n",
    "    return r.iloc[0]"
   ]
  },
  {
   "cell_type": "code",
   "execution_count": 105,
   "id": "95e7cad9-7777-477d-b140-48dde27fd7b0",
   "metadata": {},
   "outputs": [],
   "source": [
    "def Generate_Random_Match_Stats(predicted_df, positional_location_df, formula_df, input_df, club_name):\n",
    "    all_matches= []\n",
    "    shot_map = []\n",
    "    pass_map = []\n",
    "    dribble_map = []\n",
    "    \n",
    "    team = LineupTPR(predicted_df, club_name)\n",
    "    for action_type in [\"Pass\",\"Shot\",\"Dribble\"]:\n",
    "        team[f\"{action_type.lower()}_weight_prob\"] = team[f\"{action_type.lower()}_Volume\"] / team[f\"{action_type.lower()}_Volume\"].sum()\n",
    "    player_stats = {player: {\"Pass\": {\"total\": 0, \"locations\": []},\n",
    "                             \"Shot\": {\"total\": 0, \"locations\": []},\n",
    "                             \"Dribble\": {\"total\": 0, \"locations\": []}}\n",
    "                    for player in team[\"Name\"]}\n",
    "\n",
    "    match_data = {\"Club\": club_name, \"Pass\": 0, \"Shot\": 0, \"Dribble\": 0}\n",
    "    for minute in range(1, 90+1):\n",
    "        Touches = Action_Volume_Predict_Randomnessed(\"Attacking_Touches\", formula_df, input_df)\n",
    "        \n",
    "        for moment in range(Touches):\n",
    "            triple_actions = list(touches_triple_prob_df.iloc[77].Triple_Prob_Dict.keys())\n",
    "            triple_probs = list(touches_triple_prob_df.iloc[77].Triple_Prob_Dict.values())\n",
    "            action = np.random.choice(triple_actions, p=triple_probs)\n",
    "            action_player = np.random.choice(team[\"Name\"], p=team[f\"{action.lower()}_weight_prob\"])\n",
    "            action_player_pos = team.query(f\"Name == \\\"{action_player}\\\"\").iloc[0][\"Best_Pos\"]\n",
    "            \n",
    "            location_of_actions = positional_location_df[action].query(f\"position == '{action_player_pos}'\")\n",
    "            location_of_actions[\"prob\"] = location_of_actions[\"prob\"].fillna(0)\n",
    "\n",
    "            prob_sum = location_of_actions[\"prob\"].sum()\n",
    "            if prob_sum == 0:\n",
    "                #print(f\"Warning: Sum of probabilities for {action} by {action_player} is zero. Assigning equal probabilities.\")\n",
    "                num_locations = len(location_of_actions)\n",
    "                location_of_actions[\"prob\"] = np.ones(num_locations) / num_locations\n",
    "            else:\n",
    "                location_of_actions[\"prob\"] = location_of_actions[\"prob\"] / prob_sum\n",
    "\n",
    "            pitch_number = np.random.choice(location_of_actions[\"Pitch_Number\"], p=location_of_actions[\"prob\"])\n",
    "            player_stats[action_player][action][\"total\"] += 1\n",
    "            player_stats[action_player][action][\"locations\"].append(pitch_number)\n",
    "            \n",
    "            if action==\"Pass\":\n",
    "                pass_map.append(pitch_number)\n",
    "            elif action==\"Shot\":\n",
    "                shot_map.append(pitch_number)\n",
    "            elif action==\"Dribble\":\n",
    "                dribble_map.append(pitch_number)\n",
    "            match_data[action]+=1\n",
    "            \n",
    "    return {\n",
    "        \"touches\": Touches,\n",
    "        \"match_data\": match_data,\n",
    "        \"player_stats\": player_stats, \n",
    "        \"pass_map\": pass_map, \n",
    "        \"shot_map\": shot_map, \n",
    "        \"dribble_map\": dribble_map, \n",
    "    }"
   ]
  },
  {
   "cell_type": "markdown",
   "id": "f5fba8ca-e06b-4609-8865-34458d6125a2",
   "metadata": {},
   "source": [
    "<br><br>\n",
    "### Pitch + Player Data Test"
   ]
  },
  {
   "cell_type": "code",
   "execution_count": 106,
   "id": "1cd75526-e96f-49b5-a82b-06c83d2f3349",
   "metadata": {},
   "outputs": [
    {
     "data": {
      "text/html": [
       "<div>\n",
       "<style scoped>\n",
       "    .dataframe tbody tr th:only-of-type {\n",
       "        vertical-align: middle;\n",
       "    }\n",
       "\n",
       "    .dataframe tbody tr th {\n",
       "        vertical-align: top;\n",
       "    }\n",
       "\n",
       "    .dataframe thead th {\n",
       "        text-align: right;\n",
       "    }\n",
       "</style>\n",
       "<table border=\"1\" class=\"dataframe\">\n",
       "  <thead>\n",
       "    <tr style=\"text-align: right;\">\n",
       "      <th></th>\n",
       "      <th>Pitch_Number</th>\n",
       "      <th>count</th>\n",
       "      <th>x_interval</th>\n",
       "      <th>y_interval</th>\n",
       "      <th>percentage</th>\n",
       "      <th>position</th>\n",
       "      <th>action</th>\n",
       "      <th>prob</th>\n",
       "    </tr>\n",
       "  </thead>\n",
       "  <tbody>\n",
       "    <tr>\n",
       "      <th>384</th>\n",
       "      <td>1</td>\n",
       "      <td>0.0</td>\n",
       "      <td>(0.0, 5.0)</td>\n",
       "      <td>(0.0, 5.0)</td>\n",
       "      <td>0.000000</td>\n",
       "      <td>ST</td>\n",
       "      <td>Pass</td>\n",
       "      <td>0.000000</td>\n",
       "    </tr>\n",
       "    <tr>\n",
       "      <th>385</th>\n",
       "      <td>2</td>\n",
       "      <td>0.0</td>\n",
       "      <td>(0.0, 5.0)</td>\n",
       "      <td>(5.0, 10.0)</td>\n",
       "      <td>0.000000</td>\n",
       "      <td>ST</td>\n",
       "      <td>Pass</td>\n",
       "      <td>0.000000</td>\n",
       "    </tr>\n",
       "    <tr>\n",
       "      <th>386</th>\n",
       "      <td>3</td>\n",
       "      <td>0.0</td>\n",
       "      <td>(0.0, 5.0)</td>\n",
       "      <td>(10.0, 15.0)</td>\n",
       "      <td>0.000000</td>\n",
       "      <td>ST</td>\n",
       "      <td>Pass</td>\n",
       "      <td>0.000000</td>\n",
       "    </tr>\n",
       "    <tr>\n",
       "      <th>387</th>\n",
       "      <td>4</td>\n",
       "      <td>0.0</td>\n",
       "      <td>(0.0, 5.0)</td>\n",
       "      <td>(15.0, 20.0)</td>\n",
       "      <td>0.000000</td>\n",
       "      <td>ST</td>\n",
       "      <td>Pass</td>\n",
       "      <td>0.000000</td>\n",
       "    </tr>\n",
       "    <tr>\n",
       "      <th>388</th>\n",
       "      <td>5</td>\n",
       "      <td>3.0</td>\n",
       "      <td>(0.0, 5.0)</td>\n",
       "      <td>(20.0, 25.0)</td>\n",
       "      <td>0.000847</td>\n",
       "      <td>ST</td>\n",
       "      <td>Pass</td>\n",
       "      <td>0.000847</td>\n",
       "    </tr>\n",
       "    <tr>\n",
       "      <th>...</th>\n",
       "      <td>...</td>\n",
       "      <td>...</td>\n",
       "      <td>...</td>\n",
       "      <td>...</td>\n",
       "      <td>...</td>\n",
       "      <td>...</td>\n",
       "      <td>...</td>\n",
       "      <td>...</td>\n",
       "    </tr>\n",
       "    <tr>\n",
       "      <th>5755</th>\n",
       "      <td>380</td>\n",
       "      <td>2.0</td>\n",
       "      <td>(75.0, 80.0)</td>\n",
       "      <td>(95.0, 100.0)</td>\n",
       "      <td>0.005305</td>\n",
       "      <td>MR</td>\n",
       "      <td>Pass</td>\n",
       "      <td>0.005305</td>\n",
       "    </tr>\n",
       "    <tr>\n",
       "      <th>5756</th>\n",
       "      <td>381</td>\n",
       "      <td>3.0</td>\n",
       "      <td>(75.0, 80.0)</td>\n",
       "      <td>(100.0, 105.0)</td>\n",
       "      <td>0.007958</td>\n",
       "      <td>MR</td>\n",
       "      <td>Pass</td>\n",
       "      <td>0.007958</td>\n",
       "    </tr>\n",
       "    <tr>\n",
       "      <th>5757</th>\n",
       "      <td>382</td>\n",
       "      <td>4.0</td>\n",
       "      <td>(75.0, 80.0)</td>\n",
       "      <td>(105.0, 110.0)</td>\n",
       "      <td>0.010610</td>\n",
       "      <td>MR</td>\n",
       "      <td>Pass</td>\n",
       "      <td>0.010610</td>\n",
       "    </tr>\n",
       "    <tr>\n",
       "      <th>5758</th>\n",
       "      <td>383</td>\n",
       "      <td>2.0</td>\n",
       "      <td>(75.0, 80.0)</td>\n",
       "      <td>(110.0, 115.0)</td>\n",
       "      <td>0.005305</td>\n",
       "      <td>MR</td>\n",
       "      <td>Pass</td>\n",
       "      <td>0.005305</td>\n",
       "    </tr>\n",
       "    <tr>\n",
       "      <th>5759</th>\n",
       "      <td>384</td>\n",
       "      <td>7.0</td>\n",
       "      <td>(75.0, 80.0)</td>\n",
       "      <td>(115.0, 120.0)</td>\n",
       "      <td>0.018568</td>\n",
       "      <td>MR</td>\n",
       "      <td>Pass</td>\n",
       "      <td>0.018568</td>\n",
       "    </tr>\n",
       "  </tbody>\n",
       "</table>\n",
       "<p>5376 rows × 8 columns</p>\n",
       "</div>"
      ],
      "text/plain": [
       "      Pitch_Number  count    x_interval      y_interval  percentage position  \\\n",
       "384              1    0.0    (0.0, 5.0)      (0.0, 5.0)    0.000000       ST   \n",
       "385              2    0.0    (0.0, 5.0)     (5.0, 10.0)    0.000000       ST   \n",
       "386              3    0.0    (0.0, 5.0)    (10.0, 15.0)    0.000000       ST   \n",
       "387              4    0.0    (0.0, 5.0)    (15.0, 20.0)    0.000000       ST   \n",
       "388              5    3.0    (0.0, 5.0)    (20.0, 25.0)    0.000847       ST   \n",
       "...            ...    ...           ...             ...         ...      ...   \n",
       "5755           380    2.0  (75.0, 80.0)   (95.0, 100.0)    0.005305       MR   \n",
       "5756           381    3.0  (75.0, 80.0)  (100.0, 105.0)    0.007958       MR   \n",
       "5757           382    4.0  (75.0, 80.0)  (105.0, 110.0)    0.010610       MR   \n",
       "5758           383    2.0  (75.0, 80.0)  (110.0, 115.0)    0.005305       MR   \n",
       "5759           384    7.0  (75.0, 80.0)  (115.0, 120.0)    0.018568       MR   \n",
       "\n",
       "     action      prob  \n",
       "384    Pass  0.000000  \n",
       "385    Pass  0.000000  \n",
       "386    Pass  0.000000  \n",
       "387    Pass  0.000000  \n",
       "388    Pass  0.000847  \n",
       "...     ...       ...  \n",
       "5755   Pass  0.005305  \n",
       "5756   Pass  0.007958  \n",
       "5757   Pass  0.010610  \n",
       "5758   Pass  0.005305  \n",
       "5759   Pass  0.018568  \n",
       "\n",
       "[5376 rows x 8 columns]"
      ]
     },
     "execution_count": 106,
     "metadata": {},
     "output_type": "execute_result"
    }
   ],
   "source": [
    "positional_location_df[\"Pass\"]"
   ]
  },
  {
   "cell_type": "code",
   "execution_count": 114,
   "id": "1f47b7cb-5fc8-47c5-b90e-ad3890c6ea08",
   "metadata": {},
   "outputs": [],
   "source": [
    "Club_x_NAME = \"Real Madrid\"\n",
    "Club_y_NAME = \"Manchester City\"\n",
    "\n",
    "Club_x_DATA = Create_Match_Data(team_df, Club_x_NAME, Club_y_NAME, 0)\n",
    "Club_y_DATA = Create_Match_Data(team_df, Club_x_NAME, Club_y_NAME, 1)\n",
    "\n",
    "x_data = Generate_Random_Match_Stats(predicted_df, positional_location_df, volume_formula_df, Club_x_DATA, Club_x_NAME)\n",
    "y_data = Generate_Random_Match_Stats(predicted_df, positional_location_df, volume_formula_df, Club_y_DATA, Club_y_NAME)\n",
    "\n",
    "# x_data[\"match_data\"], y_data[\"match_data\"]"
   ]
  },
  {
   "cell_type": "code",
   "execution_count": 115,
   "id": "d976c680-0ad7-4839-a6ac-3c175331168b",
   "metadata": {},
   "outputs": [
    {
     "data": {
      "text/plain": [
       "{'Club': 'Real Madrid', 'Pass': 425, 'Shot': 11, 'Dribble': 14}"
      ]
     },
     "execution_count": 115,
     "metadata": {},
     "output_type": "execute_result"
    }
   ],
   "source": [
    "x_data[\"match_data\"]"
   ]
  },
  {
   "cell_type": "code",
   "execution_count": 116,
   "id": "339eb4e2-52eb-4f6b-b199-a6b5955bed8d",
   "metadata": {},
   "outputs": [
    {
     "data": {
      "text/html": [
       "<div>\n",
       "<style scoped>\n",
       "    .dataframe tbody tr th:only-of-type {\n",
       "        vertical-align: middle;\n",
       "    }\n",
       "\n",
       "    .dataframe tbody tr th {\n",
       "        vertical-align: top;\n",
       "    }\n",
       "\n",
       "    .dataframe thead th {\n",
       "        text-align: right;\n",
       "    }\n",
       "</style>\n",
       "<table border=\"1\" class=\"dataframe\">\n",
       "  <thead>\n",
       "    <tr style=\"text-align: right;\">\n",
       "      <th></th>\n",
       "      <th>Player</th>\n",
       "      <th>Pass_Total</th>\n",
       "      <th>Shot_Total</th>\n",
       "      <th>Dribble_Total</th>\n",
       "    </tr>\n",
       "  </thead>\n",
       "  <tbody>\n",
       "    <tr>\n",
       "      <th>0</th>\n",
       "      <td>Thibaut Courtois</td>\n",
       "      <td>28</td>\n",
       "      <td>0</td>\n",
       "      <td>0</td>\n",
       "    </tr>\n",
       "    <tr>\n",
       "      <th>1</th>\n",
       "      <td>Dani Carvajal</td>\n",
       "      <td>38</td>\n",
       "      <td>1</td>\n",
       "      <td>0</td>\n",
       "    </tr>\n",
       "    <tr>\n",
       "      <th>2</th>\n",
       "      <td>Éder Militão</td>\n",
       "      <td>46</td>\n",
       "      <td>0</td>\n",
       "      <td>2</td>\n",
       "    </tr>\n",
       "    <tr>\n",
       "      <th>3</th>\n",
       "      <td>Antonio Rüdiger</td>\n",
       "      <td>51</td>\n",
       "      <td>1</td>\n",
       "      <td>0</td>\n",
       "    </tr>\n",
       "    <tr>\n",
       "      <th>4</th>\n",
       "      <td>David Alaba</td>\n",
       "      <td>46</td>\n",
       "      <td>1</td>\n",
       "      <td>1</td>\n",
       "    </tr>\n",
       "    <tr>\n",
       "      <th>5</th>\n",
       "      <td>Luka Modrić</td>\n",
       "      <td>50</td>\n",
       "      <td>1</td>\n",
       "      <td>0</td>\n",
       "    </tr>\n",
       "    <tr>\n",
       "      <th>6</th>\n",
       "      <td>Toni Kroos</td>\n",
       "      <td>47</td>\n",
       "      <td>1</td>\n",
       "      <td>2</td>\n",
       "    </tr>\n",
       "    <tr>\n",
       "      <th>7</th>\n",
       "      <td>Federico Valverde</td>\n",
       "      <td>33</td>\n",
       "      <td>0</td>\n",
       "      <td>2</td>\n",
       "    </tr>\n",
       "    <tr>\n",
       "      <th>8</th>\n",
       "      <td>Marco Asensio</td>\n",
       "      <td>34</td>\n",
       "      <td>2</td>\n",
       "      <td>4</td>\n",
       "    </tr>\n",
       "    <tr>\n",
       "      <th>9</th>\n",
       "      <td>Karim Benzema</td>\n",
       "      <td>26</td>\n",
       "      <td>2</td>\n",
       "      <td>0</td>\n",
       "    </tr>\n",
       "    <tr>\n",
       "      <th>10</th>\n",
       "      <td>Vinícius Júnior</td>\n",
       "      <td>26</td>\n",
       "      <td>2</td>\n",
       "      <td>3</td>\n",
       "    </tr>\n",
       "  </tbody>\n",
       "</table>\n",
       "</div>"
      ],
      "text/plain": [
       "               Player  Pass_Total  Shot_Total  Dribble_Total\n",
       "0    Thibaut Courtois          28           0              0\n",
       "1       Dani Carvajal          38           1              0\n",
       "2        Éder Militão          46           0              2\n",
       "3     Antonio Rüdiger          51           1              0\n",
       "4         David Alaba          46           1              1\n",
       "5         Luka Modrić          50           1              0\n",
       "6          Toni Kroos          47           1              2\n",
       "7   Federico Valverde          33           0              2\n",
       "8       Marco Asensio          34           2              4\n",
       "9       Karim Benzema          26           2              0\n",
       "10    Vinícius Júnior          26           2              3"
      ]
     },
     "execution_count": 116,
     "metadata": {},
     "output_type": "execute_result"
    }
   ],
   "source": [
    "player_stats = x_data[\"player_stats\"]\n",
    "\n",
    "data = []\n",
    "for player, stats in player_stats.items():\n",
    "    data.append({\n",
    "        \"Player\": player,\n",
    "        \"Pass_Total\": stats[\"Pass\"][\"total\"],\n",
    "        \"Shot_Total\": stats[\"Shot\"][\"total\"],\n",
    "        \"Dribble_Total\": stats[\"Dribble\"][\"total\"]\n",
    "    })\n",
    "\n",
    "stats_df = pd.DataFrame(data)\n",
    "stats_df"
   ]
  },
  {
   "cell_type": "code",
   "execution_count": 132,
   "id": "521c26d1-9ac2-4852-b0bf-aca4cb270a0b",
   "metadata": {},
   "outputs": [
    {
     "data": {
      "image/png": "[encoded data removed]",
      "text/plain": [
       "<Figure size 800x1200 with 1 Axes>"
      ]
     },
     "metadata": {},
     "output_type": "display_data"
    }
   ],
   "source": [
    "player_data = stats_df.iloc[7].Player\n",
    "test_action_list = player_stats[player_data][\"Pass\"][\"locations\"]\n",
    "Draw_Pitch_Actions(test_action_list, False, \"data/location_df.csv\", player_data).plot().save_fig(\"plots_imgs/player.png\")"
   ]
  },
  {
   "cell_type": "code",
   "execution_count": 130,
   "id": "ec0f38b7-ab4f-4d28-adaf-8c94331a4df2",
   "metadata": {},
   "outputs": [
    {
     "data": {
      "image/png": "[encoded data removed]",
      "text/plain": [
       "<Figure size 800x1200 with 1 Axes>"
      ]
     },
     "metadata": {},
     "output_type": "display_data"
    }
   ],
   "source": [
    "Draw_Pitch_Actions(x_data[\"pass_map\"], False, \"data/location_df.csv\", \"team\").plot().save_fig(\"plots_imgs/volumer.png\")"
   ]
  },
  {
   "cell_type": "code",
   "execution_count": 126,
   "id": "f59f2a5e-39b7-4e7f-8b58-620c129cc21c",
   "metadata": {},
   "outputs": [
    {
     "data": {
      "text/html": [
       "<div>\n",
       "<style scoped>\n",
       "    .dataframe tbody tr th:only-of-type {\n",
       "        vertical-align: middle;\n",
       "    }\n",
       "\n",
       "    .dataframe tbody tr th {\n",
       "        vertical-align: top;\n",
       "    }\n",
       "\n",
       "    .dataframe thead th {\n",
       "        text-align: right;\n",
       "    }\n",
       "</style>\n",
       "<table border=\"1\" class=\"dataframe\">\n",
       "  <thead>\n",
       "    <tr style=\"text-align: right;\">\n",
       "      <th></th>\n",
       "      <th>UID</th>\n",
       "      <th>Inf</th>\n",
       "      <th>Name</th>\n",
       "      <th>DoB</th>\n",
       "      <th>Nat</th>\n",
       "      <th>Division</th>\n",
       "      <th>Club</th>\n",
       "      <th>Based</th>\n",
       "      <th>Preferred Foot</th>\n",
       "      <th>Right Foot</th>\n",
       "      <th>...</th>\n",
       "      <th>Predicted_Wage</th>\n",
       "      <th>Pos_Rank_Average</th>\n",
       "      <th>pass_Volume</th>\n",
       "      <th>shot_Volume</th>\n",
       "      <th>dribble_Volume</th>\n",
       "      <th>pass_Accuracy</th>\n",
       "      <th>shot_Accuracy</th>\n",
       "      <th>dribble_Accuracy</th>\n",
       "      <th>tpr_club</th>\n",
       "      <th>UID.1</th>\n",
       "    </tr>\n",
       "  </thead>\n",
       "  <tbody>\n",
       "    <tr>\n",
       "      <th>282</th>\n",
       "      <td>19302146</td>\n",
       "      <td>NaN</td>\n",
       "      <td>Vinícius Júnior</td>\n",
       "      <td>2000-07-12</td>\n",
       "      <td>BRA</td>\n",
       "      <td>Spanish First Division</td>\n",
       "      <td>Real Madrid</td>\n",
       "      <td>Spain (First Division)</td>\n",
       "      <td>Right</td>\n",
       "      <td>Very Strong</td>\n",
       "      <td>...</td>\n",
       "      <td>376845</td>\n",
       "      <td>12</td>\n",
       "      <td>35.64</td>\n",
       "      <td>3.07</td>\n",
       "      <td>4.37</td>\n",
       "      <td>91.35</td>\n",
       "      <td>38.07</td>\n",
       "      <td>38.54</td>\n",
       "      <td>87</td>\n",
       "      <td>19302146</td>\n",
       "    </tr>\n",
       "  </tbody>\n",
       "</table>\n",
       "<p>1 rows × 111 columns</p>\n",
       "</div>"
      ],
      "text/plain": [
       "          UID  Inf             Name         DoB  Nat                Division  \\\n",
       "282  19302146  NaN  Vinícius Júnior  2000-07-12  BRA  Spanish First Division   \n",
       "\n",
       "            Club                   Based Preferred Foot   Right Foot  ...  \\\n",
       "282  Real Madrid  Spain (First Division)          Right  Very Strong  ...   \n",
       "\n",
       "    Predicted_Wage Pos_Rank_Average  pass_Volume shot_Volume  dribble_Volume  \\\n",
       "282         376845               12        35.64        3.07            4.37   \n",
       "\n",
       "    pass_Accuracy  shot_Accuracy dribble_Accuracy tpr_club     UID.1  \n",
       "282         91.35          38.07            38.54       87  19302146  \n",
       "\n",
       "[1 rows x 111 columns]"
      ]
     },
     "execution_count": 126,
     "metadata": {},
     "output_type": "execute_result"
    }
   ],
   "source": [
    "predicted_df.query(\"Name=='Vinícius Júnior'\")"
   ]
  },
  {
   "cell_type": "markdown",
   "id": "41293578-6e7c-47b4-a121-08a815211665",
   "metadata": {
    "jp-MarkdownHeadingCollapsed": true
   },
   "source": [
    "<br><br><br><br><br><br><br><br>\n",
    "<h2 style=\"color:white;background:gray;\">  yyyydffff</h2>"
   ]
  },
  {
   "cell_type": "code",
   "execution_count": 52,
   "id": "5b2c0431-dbab-44ca-aab1-9327bc568ccc",
   "metadata": {},
   "outputs": [
    {
     "ename": "NameError",
     "evalue": "name 'merged_df' is not defined",
     "output_type": "error",
     "traceback": [
      "\u001b[1;31m---------------------------------------------------------------------------\u001b[0m",
      "\u001b[1;31mNameError\u001b[0m                                 Traceback (most recent call last)",
      "Cell \u001b[1;32mIn[52], line 6\u001b[0m\n\u001b[0;32m      3\u001b[0m \u001b[38;5;28;01mfrom\u001b[39;00m \u001b[38;5;21;01msklearn\u001b[39;00m\u001b[38;5;21;01m.\u001b[39;00m\u001b[38;5;21;01mlinear_model\u001b[39;00m \u001b[38;5;28;01mimport\u001b[39;00m LinearRegression\n\u001b[0;32m      5\u001b[0m \u001b[38;5;66;03m# Create DataFrame\u001b[39;00m\n\u001b[1;32m----> 6\u001b[0m df \u001b[38;5;241m=\u001b[39m merged_df\u001b[38;5;241m.\u001b[39mcopy()\n\u001b[0;32m      8\u001b[0m \u001b[38;5;66;03m# Normalize the data\u001b[39;00m\n\u001b[0;32m      9\u001b[0m \u001b[38;5;66;03m# scaler = MinMaxScaler()\u001b[39;00m\n\u001b[0;32m     10\u001b[0m \u001b[38;5;66;03m# df[['Att', 'Dribbling', 'Pace', \"tpr\"]] = scaler.fit_transform(df[['Att', 'Dribbling', 'Pace', \"tpr\"]])\u001b[39;00m\n\u001b[0;32m     11\u001b[0m \n\u001b[0;32m     12\u001b[0m \u001b[38;5;66;03m# Separate features and target variable\u001b[39;00m\n\u001b[0;32m     13\u001b[0m X \u001b[38;5;241m=\u001b[39m df[[\u001b[38;5;124m'\u001b[39m\u001b[38;5;124mDribbling\u001b[39m\u001b[38;5;124m'\u001b[39m, \u001b[38;5;124m'\u001b[39m\u001b[38;5;124mPace\u001b[39m\u001b[38;5;124m'\u001b[39m, \u001b[38;5;124m\"\u001b[39m\u001b[38;5;124mtpr\u001b[39m\u001b[38;5;124m\"\u001b[39m]]\n",
      "\u001b[1;31mNameError\u001b[0m: name 'merged_df' is not defined"
     ]
    }
   ],
   "source": [
    "import pandas as pd\n",
    "from sklearn.preprocessing import MinMaxScaler\n",
    "from sklearn.linear_model import LinearRegression\n",
    "\n",
    "# Create DataFrame\n",
    "df = merged_df.copy()\n",
    "\n",
    "# Normalize the data\n",
    "# scaler = MinMaxScaler()\n",
    "# df[['Att', 'Dribbling', 'Pace', \"tpr\"]] = scaler.fit_transform(df[['Att', 'Dribbling', 'Pace', \"tpr\"]])\n",
    "\n",
    "# Separate features and target variable\n",
    "X = df[['Dribbling', 'Pace', \"tpr\"]]\n",
    "y = df['Att']\n",
    "\n",
    "# Create and train the model\n",
    "model = LinearRegression()\n",
    "model.fit(X, y)\n",
    "\n",
    "# Get the coefficients\n",
    "coefficients = model.coef_\n",
    "intercept = model.intercept_\n",
    "\n",
    "print(\"Coefficients:\", coefficients)\n",
    "print(\"Intercept:\", intercept)"
   ]
  },
  {
   "cell_type": "code",
   "execution_count": null,
   "id": "d3fd3443-a3cf-4b40-9db3-b98284a993e2",
   "metadata": {},
   "outputs": [],
   "source": [
    "def f(dribbling, pace, tpr):\n",
    "    return intercept + coefficients[0] * dribbling + coefficients[1] * pace + coefficients[2] * tpr\n",
    "\n",
    "f(56, 72, 72)"
   ]
  },
  {
   "cell_type": "code",
   "execution_count": null,
   "id": "4893ba6f-ca5f-420d-9a32-63a5baa1ff2c",
   "metadata": {},
   "outputs": [],
   "source": [
    "# sort_dribble = df.sort_values(\"Att\", ascending=False)\n",
    "# sort_dribble[list(set(fm_attributes) - set(gk_attributes))].head(15).mean().sort_values(ascending=False)"
   ]
  },
  {
   "cell_type": "code",
   "execution_count": null,
   "id": "9995b9a6-85fa-42a3-812f-bd7309df5b6d",
   "metadata": {},
   "outputs": [],
   "source": [
    "pass_df = pd.read_csv(\"../match_logs/Big5@22-23@passing.csv\")[[\"Att\",\"Club\"]].groupby(by=\"Club\").mean().reset_index().sort_values(\"Att\", ascending=False)\n",
    "shot_df = pd.read_csv(\"../match_logs/Big5@22-23@shooting.csv\")[[\"Sh\",\"Club\"]].groupby(by=\"Club\").mean().reset_index().sort_values(\"Sh\", ascending=False)\n",
    "dribble_df = pd.read_csv(\"../match_logs/Big5@22-23@possession.csv\")[[\"Att\",\"Club\"]].groupby(by=\"Club\").mean().reset_index().sort_values(\"Att\", ascending=False)\n",
    "merged_df = pd.merge(\n",
    "    pass_df.merge(shot_df, on=\"Club\", suffixes=(\"\", \"_shot\")),\n",
    "    dribble_df, on=\"Club\", suffixes=(\"_pass\", \"_dribble\")\n",
    ")\n",
    "merged_df.rename(columns={\"Sh\":\"Att_shot\"}, inplace=True)\n",
    "action_columns = merged_df.select_dtypes(exclude=\"object\").columns\n",
    "merged_df[\"Total_touches\"] = merged_df.apply(lambda row: row[action_columns].sum(), axis=1)\n",
    "merged_df[\"%pass\"] = merged_df[\"Att_pass\"] / merged_df[\"Total_touches\"]\n",
    "merged_df[\"%shot\"] = merged_df[\"Att_shot\"] / merged_df[\"Total_touches\"]\n",
    "merged_df[\"%dribble\"] = merged_df[\"Att_dribble\"] /  merged_df[\"Total_touches\"]\n",
    "# merged_df.to_csv(\"../match_logs/Big5@22-23@triple_stats.csv\", index=False)"
   ]
  },
  {
   "cell_type": "code",
   "execution_count": null,
   "id": "f858ca3d-074d-482c-b77a-071ba132742e",
   "metadata": {},
   "outputs": [],
   "source": [
    "merged_df[\"Total_Actions\"] = merged_df.apply(lambda row: row[action_columns].sum(), axis=1)\n",
    "merged_df[\"Triple_Prob_Dict\"] = merged_df.apply(lambda row: {\n",
    "    \"Pass\": (row[\"Att_pass\"]/row[\"Total_Actions\"]),\n",
    "    \"Shot\": row[\"Att_shot\"]/row[\"Total_Actions\"],\n",
    "    \"Dribble\": row[\"Att_dribble\"]/row[\"Total_Actions\"],\n",
    "}, axis=1)"
   ]
  },
  {
   "cell_type": "code",
   "execution_count": null,
   "id": "62e54678-7063-4eac-81c0-b67b94cf6748",
   "metadata": {},
   "outputs": [],
   "source": [
    "exrow = merged_df.sort_values(\"Att_dribble\",ascending=False).iloc[72].Triple_Prob_Dict\n",
    "avg = location_df[[\"pass_prob\",\"shot_prob\",\"dribble_prob\"]].mean()"
   ]
  },
  {
   "cell_type": "code",
   "execution_count": null,
   "id": "fbfa2194-f879-477d-b860-03506ca692b6",
   "metadata": {},
   "outputs": [],
   "source": [
    "d = {\n",
    "    \"p\": exrow[\"Pass\"] /  avg[\"pass_prob\"],# * f[\"pass_prob\"],\n",
    "    \"s\": exrow[\"Shot\"] / avg[\"shot_prob\"],#  * f[\"shot_prob\"],\n",
    "    \"d\": exrow[\"Dribble\"] / avg[\"dribble_prob\"],#  * f[\"shot_prob\"],\n",
    "}\n",
    "d"
   ]
  },
  {
   "cell_type": "code",
   "execution_count": null,
   "id": "e20727fa-b477-4e77-95ac-1f946febac45",
   "metadata": {},
   "outputs": [],
   "source": []
  },
  {
   "cell_type": "code",
   "execution_count": null,
   "id": "2432c4df-309b-4f77-bc7c-72853d752697",
   "metadata": {},
   "outputs": [],
   "source": []
  }
 ],
 "metadata": {
  "kernelspec": {
   "display_name": "Python 3 (ipykernel)",
   "language": "python",
   "name": "python3"
  },
  "language_info": {
   "codemirror_mode": {
    "name": "ipython",
    "version": 3
   },
   "file_extension": ".py",
   "mimetype": "text/x-python",
   "name": "python",
   "nbconvert_exporter": "python",
   "pygments_lexer": "ipython3",
   "version": "3.11.7"
  }
 },
 "nbformat": 4,
 "nbformat_minor": 5
}
