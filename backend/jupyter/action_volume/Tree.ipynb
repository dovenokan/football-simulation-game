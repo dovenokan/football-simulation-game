{
 "cells": [
  {
   "cell_type": "code",
   "execution_count": 1,
   "id": "16926625-6569-4fab-b28b-6db9f6288b0f",
   "metadata": {},
   "outputs": [
    {
     "ename": "ModuleNotFoundError",
     "evalue": "No module named 'pandas'",
     "output_type": "error",
     "traceback": [
      "\u001b[1;31m---------------------------------------------------------------------------\u001b[0m",
      "\u001b[1;31mModuleNotFoundError\u001b[0m                       Traceback (most recent call last)",
      "Cell \u001b[1;32mIn[1], line 1\u001b[0m\n\u001b[1;32m----> 1\u001b[0m \u001b[38;5;28;01mimport\u001b[39;00m \u001b[38;5;21;01mpandas\u001b[39;00m \u001b[38;5;28;01mas\u001b[39;00m \u001b[38;5;21;01mpd\u001b[39;00m\n\u001b[0;32m      2\u001b[0m \u001b[38;5;28;01mimport\u001b[39;00m \u001b[38;5;21;01mnumpy\u001b[39;00m \u001b[38;5;28;01mas\u001b[39;00m \u001b[38;5;21;01mnp\u001b[39;00m\n\u001b[0;32m      3\u001b[0m \u001b[38;5;28;01mimport\u001b[39;00m \u001b[38;5;21;01mos\u001b[39;00m\n",
      "\u001b[1;31mModuleNotFoundError\u001b[0m: No module named 'pandas'"
     ]
    }
   ],
   "source": [
    "import pandas as pd\n",
    "import numpy as np\n",
    "import os\n",
    "import sys\n",
    "import math\n",
    "import json\n",
    "from sklearn.model_selection import train_test_split\n",
    "from sklearn.linear_model import LinearRegression\n",
    "from sklearn.metrics import mean_absolute_error, mean_squared_error, r2_score\n",
    "from sklearn.preprocessing import StandardScaler\n",
    "import seaborn as sns\n",
    "import matplotlib.pyplot as plt"
   ]
  },
  {
   "cell_type": "code",
   "execution_count": null,
   "id": "b0e70c8e-c921-4a2c-9c98-52639b5c1f90",
   "metadata": {},
   "outputs": [],
   "source": [
    "import warnings\n",
    "from sklearn.exceptions import UndefinedMetricWarning\n",
    "from pandas.errors import SettingWithCopyWarning\n",
    "warnings.filterwarnings(action='ignore', category=UndefinedMetricWarning)\n",
    "warnings.simplefilter(action='ignore', category=(SettingWithCopyWarning))\n",
    "warnings.simplefilter(action='ignore', category=(FutureWarning))\n",
    "warnings.simplefilter(action='ignore', category=RuntimeWarning)"
   ]
  },
  {
   "cell_type": "code",
   "execution_count": null,
   "id": "b1cb198f-0b0c-4558-982e-dd01b8cf08ff",
   "metadata": {},
   "outputs": [],
   "source": [
    "parent_dir = os.path.abspath(os.path.join(os.path.dirname(\"./\"), '..'))\n",
    "sys.path.append(parent_dir)\n",
    "from tools.lineup_tpr import LineupTPR\n",
    "from tools.draw_pitch_plot import Draw_Pitch_Actions\n",
    "from tools.pickler import Save_Model, Load_Model\n",
    "from tools.fm_attributes import Attributes as fm_attributes"
   ]
  },
  {
   "cell_type": "code",
   "execution_count": null,
   "id": "ef3cde98-c9f6-4c65-ac8f-f12e132d6633",
   "metadata": {},
   "outputs": [],
   "source": [
    "team_df = pd.read_csv(\"../players_db/fm23/team_ratings.csv\")\n",
    "players_df = pd.read_csv(\"../players_db/fm23/fm23db_processed_with_futsim_triple_models.csv\")"
   ]
  },
  {
   "cell_type": "code",
   "execution_count": null,
   "id": "483f0b37-e20f-4b1b-9867-0e5b639d51cd",
   "metadata": {},
   "outputs": [],
   "source": [
    "defense = pd.read_csv(\"../match_logs/Big5@22-23@defense.csv\")\n",
    "gca = pd.read_csv(\"../match_logs/Big5@22-23@gca.csv\")\n",
    "keeper = pd.read_csv(\"../match_logs/Big5@22-23@keeper.csv\")\n",
    "misc = pd.read_csv(\"../match_logs/Big5@22-23@misc.csv\")\n",
    "passing = pd.read_csv(\"../match_logs/Big5@22-23@passing.csv\")\n",
    "passing_types = pd.read_csv(\"../match_logs/Big5@22-23@passing_types.csv\")\n",
    "possession = pd.read_csv(\"../match_logs/Big5@22-23@possession.csv\")\n",
    "shooting = pd.read_csv(\"../match_logs/Big5@22-23@shooting.csv\")"
   ]
  },
  {
   "cell_type": "markdown",
   "id": "e71964f6-01e0-4f3a-8b85-8de4db36f848",
   "metadata": {
    "jp-MarkdownHeadingCollapsed": true
   },
   "source": [
    "<br><br><br><br>\n",
    "<h1 style=\"color:white;background:MediumTurquoise;padding:10px\">  Action</h1>"
   ]
  },
  {
   "cell_type": "code",
   "execution_count": null,
   "id": "5a975604-ece9-45d8-b386-c042d8659b65",
   "metadata": {},
   "outputs": [],
   "source": [
    "class Action:\n",
    "    def __init__(self, action_type, direction):\n",
    "        self.action_type = action_type\n",
    "        self.direction = direction"
   ]
  },
  {
   "cell_type": "code",
   "execution_count": null,
   "id": "d427332f-4928-45d7-89be-48135f2ec5fb",
   "metadata": {},
   "outputs": [],
   "source": [
    "Action(\"Pass\", \"Attack\").direction"
   ]
  },
  {
   "cell_type": "markdown",
   "id": "314d0c7a-5ec5-4411-b0e7-da3656f9df99",
   "metadata": {},
   "source": [
    "<br><br><br><br>\n",
    "<h1 style=\"color:white;background:darkblue;padding:10px\">  Shot</h1>"
   ]
  },
  {
   "cell_type": "code",
   "execution_count": null,
   "id": "2a1b321c-25e5-4d22-b515-d00cf8f57b44",
   "metadata": {},
   "outputs": [],
   "source": [
    "class Shot:\n",
    "    def __init__(self, team, player, distance):\n",
    "        self.team = team\n",
    "        self.player = player\n",
    "        self.prob = prob\n",
    "    def Outcome(self):\n",
    "        return self.prob"
   ]
  },
  {
   "cell_type": "code",
   "execution_count": null,
   "id": "0fd0c590-7bf2-40a5-ba59-74ea0e1d95c6",
   "metadata": {},
   "outputs": [],
   "source": [
    "Shot(\"M.City\", \"Kevin De Bruyne\", 0.5).Outcome()"
   ]
  },
  {
   "cell_type": "code",
   "execution_count": null,
   "id": "cad5e8a0-eea1-40cd-a4be-aa2c11d80795",
   "metadata": {},
   "outputs": [],
   "source": [
    "sb = pd.read_csv(\"../statsbomb/data/Ligue1 22-23 Statsbomb Events Data.csv\", low_memory=False)"
   ]
  },
  {
   "cell_type": "code",
   "execution_count": null,
   "id": "483904dd-8bf3-47c3-baa0-51fe01356651",
   "metadata": {},
   "outputs": [],
   "source": [
    "shot_cols = shot_sb.columns[shot_sb.columns.str.contains(\"shot_\")]\n",
    "shot_sb = sb.query(\"type=='Shot'\")[shot_cols]"
   ]
  },
  {
   "cell_type": "code",
   "execution_count": null,
   "id": "c69e4aa6-19a5-4377-a566-709375621510",
   "metadata": {},
   "outputs": [],
   "source": [
    "shot_sb.shot_body_part.unique()"
   ]
  },
  {
   "cell_type": "code",
   "execution_count": null,
   "id": "aed061de-74e3-4431-83d0-feab8c9021fa",
   "metadata": {},
   "outputs": [],
   "source": [
    "players_df.columns"
   ]
  },
  {
   "cell_type": "code",
   "execution_count": null,
   "id": "143f4451-d8f9-4873-bf0d-ae87176e329d",
   "metadata": {},
   "outputs": [],
   "source": [
    "players_df[\"Preferred Foot\"].unique()"
   ]
  }
 ],
 "metadata": {
  "kernelspec": {
   "display_name": "Python 3 (ipykernel)",
   "language": "python",
   "name": "python3"
  },
  "language_info": {
   "codemirror_mode": {
    "name": "ipython",
    "version": 3
   },
   "file_extension": ".py",
   "mimetype": "text/x-python",
   "name": "python",
   "nbconvert_exporter": "python",
   "pygments_lexer": "ipython3",
   "version": "3.11.9"
  }
 },
 "nbformat": 4,
 "nbformat_minor": 5
}
