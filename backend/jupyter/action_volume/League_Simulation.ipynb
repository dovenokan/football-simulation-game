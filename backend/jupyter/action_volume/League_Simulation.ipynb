{
 "cells": [
  {
   "cell_type": "code",
   "execution_count": 1,
   "id": "d1afd80f-f14d-4cbf-a716-b6ae2edf71ad",
   "metadata": {},
   "outputs": [],
   "source": [
    "import pandas as pd\n",
    "import numpy as np\n",
    "import seaborn as sns\n",
    "import matplotlib.pyplot as plt\n",
    "import re\n",
    "import warnings"
   ]
  },
  {
   "cell_type": "code",
   "execution_count": 2,
   "id": "d49f9df9-4f91-4bf7-bb57-dba875f97a91",
   "metadata": {},
   "outputs": [],
   "source": [
    "import warnings\n",
    "from pandas.errors import SettingWithCopyWarning\n",
    "warnings.simplefilter(action='ignore', category=(SettingWithCopyWarning))\n",
    "warnings.simplefilter(action='ignore', category=(FutureWarning))"
   ]
  },
  {
   "cell_type": "code",
   "execution_count": 3,
   "id": "216536f1-2c8e-48d7-ae78-6c0c48c897a9",
   "metadata": {},
   "outputs": [],
   "source": [
    "players_ratings = pd.read_csv(\"../players_db/fm23/fm23db_processed.csv\")\n",
    "team_ratings = pd.read_csv(\"../players_db/fm23/team_ratings.csv\")"
   ]
  },
  {
   "cell_type": "markdown",
   "id": "7109d6fe-4627-4204-a448-57fd35ed7606",
   "metadata": {},
   "source": [
    "<br><br><br><br>\n",
    "<h2 style=\"color:blue;\">  Win Probability</h3>"
   ]
  },
  {
   "cell_type": "code",
   "execution_count": 4,
   "id": "6daa67dc-9d05-49b8-86de-78116dff2ffa",
   "metadata": {},
   "outputs": [],
   "source": [
    "win_df = pd.read_csv(\"../players_db/fm23/win_probability.csv\", index_col=0)\n",
    "def Win_Probability(win_prob_df, power_x, power_y, is_neutral=False):\n",
    "    logit_sum = 0\n",
    "    prob_dict = {}\n",
    "    for match_result in [1,0,2]:\n",
    "        tpr_x = win_prob_df.loc[\"tpr_x\", str(match_result)]\n",
    "        tpr_y = win_prob_df.loc[\"tpr_y\", str(match_result)]\n",
    "        intercept = win_prob_df.loc[\"intercept\", str(match_result)]\n",
    "        fx = tpr_y*power_y + tpr_x*power_x + intercept\n",
    "        logit_sum += np.e ** fx\n",
    "        prob_dict[match_result] = np.e**fx\n",
    "    for match_result in [1,0,2]:\n",
    "        prob_dict[match_result] = prob_dict[match_result] / logit_sum\n",
    "    prob_sum = sum(prob_dict.values())\n",
    "    normalized_probs = {k: v / prob_sum for k, v in prob_dict.items()}\n",
    "    \n",
    "    if is_neutral and power_x==power_y:\n",
    "        draw = normalized_probs[0]\n",
    "        non_draw_side = (1 - draw) / 2\n",
    "        return {1: non_draw_side, 0: draw, 2: non_draw_side}\n",
    "    return normalized_probs"
   ]
  },
  {
   "cell_type": "code",
   "execution_count": 5,
   "id": "5f2be39e-27dc-4833-ac39-f97a85039456",
   "metadata": {},
   "outputs": [
    {
     "data": {
      "text/plain": [
       "{1: 0.15141943498481023, 0: 0.43814483031639917, 2: 0.41043573469879063}"
      ]
     },
     "execution_count": 5,
     "metadata": {},
     "output_type": "execute_result"
    }
   ],
   "source": [
    "Win_Probability(win_df, 50, 60)"
   ]
  },
  {
   "cell_type": "code",
   "execution_count": 6,
   "id": "c0f79c2c-67e3-4100-b568-059a1b593ab6",
   "metadata": {},
   "outputs": [
    {
     "data": {
      "text/plain": [
       "{1: 0.1876793963427024, 0: 0.3740351552084532, 2: 0.43828544844884443}"
      ]
     },
     "execution_count": 6,
     "metadata": {},
     "output_type": "execute_result"
    }
   ],
   "source": [
    "Win_Probability(win_df, 60, 70)"
   ]
  },
  {
   "cell_type": "code",
   "execution_count": 7,
   "id": "5cf7e776-33c5-4273-855c-e1b954f17467",
   "metadata": {},
   "outputs": [
    {
     "data": {
      "text/plain": [
       "{1: 0.22807162854246782, 0: 0.3130594683962014, 2: 0.4588689030613309}"
      ]
     },
     "execution_count": 7,
     "metadata": {},
     "output_type": "execute_result"
    }
   ],
   "source": [
    "Win_Probability(win_df, 70, 80)"
   ]
  },
  {
   "cell_type": "markdown",
   "id": "1baca3c0-0f29-4387-bc66-038c3bcc0ebd",
   "metadata": {},
   "source": [
    "<br><br>"
   ]
  },
  {
   "cell_type": "code",
   "execution_count": 8,
   "id": "3b061a5e-995b-4f09-9778-d2d201b900a3",
   "metadata": {},
   "outputs": [
    {
     "data": {
      "text/plain": [
       "{1: 0.36105836634747795, 0: 0.33042638291014814, 2: 0.30851525074237396}"
      ]
     },
     "execution_count": 8,
     "metadata": {},
     "output_type": "execute_result"
    }
   ],
   "source": [
    "Win_Probability(win_df, 75, 75)"
   ]
  },
  {
   "cell_type": "code",
   "execution_count": 9,
   "id": "3c293085-850b-400b-b1fe-e307db94a445",
   "metadata": {},
   "outputs": [
    {
     "data": {
      "text/plain": [
       "{1: 0.39175485727530857, 0: 0.29753740482911134, 2: 0.31070773789558015}"
      ]
     },
     "execution_count": 9,
     "metadata": {},
     "output_type": "execute_result"
    }
   ],
   "source": [
    "Win_Probability(win_df, 80, 80)"
   ]
  },
  {
   "cell_type": "code",
   "execution_count": 10,
   "id": "6e53c7e5-b936-42e9-9c6d-da271343ec86",
   "metadata": {},
   "outputs": [
    {
     "data": {
      "text/plain": [
       "{1: 0.4532254040572556, 0: 0.23708341827188148, 2: 0.30969117767086296}"
      ]
     },
     "execution_count": 10,
     "metadata": {},
     "output_type": "execute_result"
    }
   ],
   "source": [
    "Win_Probability(win_df, 90, 90)"
   ]
  },
  {
   "cell_type": "code",
   "execution_count": 11,
   "id": "f53fcf90-9fde-4997-bedc-cdba3c9ff39b",
   "metadata": {},
   "outputs": [
    {
     "data": {
      "text/plain": [
       "{1: 0.6229503239181537, 0: 0.2275294948764984, 2: 0.14952018120534785}"
      ]
     },
     "execution_count": 11,
     "metadata": {},
     "output_type": "execute_result"
    }
   ],
   "source": [
    "Win_Probability(win_df, 92, 79)"
   ]
  },
  {
   "cell_type": "code",
   "execution_count": 12,
   "id": "15f3254a-3ae7-475a-b15e-c621f7661765",
   "metadata": {},
   "outputs": [
    {
     "data": {
      "text/plain": [
       "False"
      ]
     },
     "execution_count": 12,
     "metadata": {},
     "output_type": "execute_result"
    }
   ],
   "source": [
    "Win_Probability(win_df, 85, 84) == Win_Probability(win_df, 84, 85) "
   ]
  },
  {
   "cell_type": "markdown",
   "id": "b9bfd6ce-83d2-4355-95ec-70bf057c2336",
   "metadata": {},
   "source": [
    "<br><br><br><br>\n",
    "<h2 style=\"color:blue;\">  League Simuation Test</h3>"
   ]
  },
  {
   "cell_type": "code",
   "execution_count": 13,
   "id": "4b46d15a-f935-4baf-9e77-4175fc8f8972",
   "metadata": {},
   "outputs": [
    {
     "data": {
      "text/plain": [
       "array([ 185, 1215,  354,  773,  710, 1331, 1017,  363], dtype=int64)"
      ]
     },
     "execution_count": 13,
     "metadata": {},
     "output_type": "execute_result"
    }
   ],
   "source": [
    "team_ratings.League_id.unique()"
   ]
  },
  {
   "cell_type": "code",
   "execution_count": 50,
   "id": "4350bba2-cc48-47e8-93b7-d0a6b9c66a40",
   "metadata": {},
   "outputs": [
    {
     "data": {
      "text/markdown": [
       "| Rank | Team | TPR | Points |\n",
       "|------|------|-----|-----|\n",
       "| 1 | Valencia | 74 | 84 |\n",
       "| 2 | Real Madrid | 87 | 79 |\n",
       "| 3 | FC Barcelona | 87 | 77 |\n",
       "| 4 | Atlético Madrid | 79 | 65 |\n",
       "| 5 | Real Sociedad | 74 | 63 |\n",
       "| 6 | Almería | 67 | 54 |\n",
       "| 7 | Celta de Vigo | 74 | 54 |\n",
       "| 8 | Sevilla | 77 | 51 |\n",
       "| 9 | Villarreal | 77 | 50 |\n",
       "| 10 | Real Betis | 74 | 48 |\n",
       "| 11 | Real Valladolid | 67 | 48 |\n",
       "| 12 | Rayo Vallecano | 69 | 44 |\n",
       "| 13 | Girona | 67 | 43 |\n",
       "| 14 | Elche CF | 67 | 42 |\n",
       "| 15 | Osasuna | 67 | 42 |\n",
       "| 16 | Athletic Bilbao | 74 | 39 |\n",
       "| 17 | Getafe | 72 | 39 |\n",
       "| 18 | Mallorca | 67 | 33 |\n",
       "| 19 | Cádiz | 67 | 32 |\n",
       "| 20 | Espanyol | 64 | 32 |\n"
      ],
      "text/plain": [
       "<IPython.core.display.Markdown object>"
      ]
     },
     "metadata": {},
     "output_type": "display_data"
    }
   ],
   "source": [
    "import pandas as pd\n",
    "import numpy as np\n",
    "from itertools import product\n",
    "\n",
    "current_league_id = 1215\t\n",
    "teams_in_league_ratings = team_ratings.query(f\"League_id == {current_league_id}\")\n",
    "\n",
    "points_table = {team: 0 for team in teams_in_league_ratings['Club']}\n",
    "matchups = list(product(teams_in_league_ratings['Club'], repeat=2))\n",
    "matchups = [match for match in matchups if match[0] != match[1]]\n",
    "\n",
    "for home_team, away_team in matchups:\n",
    "    home_tpr = teams_in_league_ratings[teams_in_league_ratings['Club'] == home_team]['tpr'].values[0]\n",
    "    away_tpr = teams_in_league_ratings[teams_in_league_ratings['Club'] == away_team]['tpr'].values[0]\n",
    "    \n",
    "    probs_home = Win_Probability(win_df, home_tpr, away_tpr, is_neutral=True)\n",
    "    result_home = np.random.choice(list(probs_home.keys()), p=list(probs_home.values()))\n",
    "    if result_home == 1:\n",
    "        points_table[home_team] += 3\n",
    "    elif result_home == 0:\n",
    "        points_table[home_team] += 1\n",
    "        points_table[away_team] += 1\n",
    "    else:\n",
    "        points_table[away_team] += 3\n",
    "\n",
    "standings = sorted(points_table.items(), key=lambda x: x[1], reverse=True)\n",
    "\n",
    "markdown_table = \"| Rank | Team | TPR | Points |\\n|------|------|-----|-----|\\n\"\n",
    "for i, (team, points) in enumerate(standings, start=1):\n",
    "    tpr = teams_in_league_ratings[teams_in_league_ratings['Club'] == team]['tpr'].values[0]\n",
    "    markdown_table += f\"| {i} | {team} | {tpr} | {points} |\\n\"\n",
    "from IPython.display import Markdown, display\n",
    "display(Markdown(markdown_table))"
   ]
  },
  {
   "cell_type": "code",
   "execution_count": 46,
   "id": "5024d917-307a-4794-b279-6b8b213cfa73",
   "metadata": {},
   "outputs": [
    {
     "data": {
      "text/html": [
       "<div>\n",
       "<style scoped>\n",
       "    .dataframe tbody tr th:only-of-type {\n",
       "        vertical-align: middle;\n",
       "    }\n",
       "\n",
       "    .dataframe tbody tr th {\n",
       "        vertical-align: top;\n",
       "    }\n",
       "\n",
       "    .dataframe thead th {\n",
       "        text-align: right;\n",
       "    }\n",
       "</style>\n",
       "<table border=\"1\" class=\"dataframe\">\n",
       "  <thead>\n",
       "    <tr style=\"text-align: right;\">\n",
       "      <th></th>\n",
       "      <th>Name</th>\n",
       "      <th>tpr</th>\n",
       "      <th>tpr_general</th>\n",
       "      <th>tpr_Best</th>\n",
       "    </tr>\n",
       "  </thead>\n",
       "  <tbody>\n",
       "    <tr>\n",
       "      <th>3</th>\n",
       "      <td>Manuel Neuer</td>\n",
       "      <td>92</td>\n",
       "      <td>64</td>\n",
       "      <td>75</td>\n",
       "    </tr>\n",
       "    <tr>\n",
       "      <th>4164</th>\n",
       "      <td>Robert Lewandowski</td>\n",
       "      <td>92</td>\n",
       "      <td>72</td>\n",
       "      <td>75</td>\n",
       "    </tr>\n",
       "    <tr>\n",
       "      <th>3193</th>\n",
       "      <td>Erling Haaland</td>\n",
       "      <td>90</td>\n",
       "      <td>72</td>\n",
       "      <td>74</td>\n",
       "    </tr>\n",
       "    <tr>\n",
       "      <th>3195</th>\n",
       "      <td>Harry Kane</td>\n",
       "      <td>90</td>\n",
       "      <td>73</td>\n",
       "      <td>74</td>\n",
       "    </tr>\n",
       "    <tr>\n",
       "      <th>4172</th>\n",
       "      <td>Marc-André ter Stegen</td>\n",
       "      <td>89</td>\n",
       "      <td>51</td>\n",
       "      <td>73</td>\n",
       "    </tr>\n",
       "    <tr>\n",
       "      <th>3197</th>\n",
       "      <td>Bernardo Silva</td>\n",
       "      <td>89</td>\n",
       "      <td>73</td>\n",
       "      <td>73</td>\n",
       "    </tr>\n",
       "    <tr>\n",
       "      <th>3192</th>\n",
       "      <td>Kevin De Bruyne</td>\n",
       "      <td>89</td>\n",
       "      <td>73</td>\n",
       "      <td>73</td>\n",
       "    </tr>\n",
       "    <tr>\n",
       "      <th>3194</th>\n",
       "      <td>Mohamed Salah</td>\n",
       "      <td>89</td>\n",
       "      <td>72</td>\n",
       "      <td>73</td>\n",
       "    </tr>\n",
       "    <tr>\n",
       "      <th>4165</th>\n",
       "      <td>Luka Modrić</td>\n",
       "      <td>88</td>\n",
       "      <td>72</td>\n",
       "      <td>72</td>\n",
       "    </tr>\n",
       "    <tr>\n",
       "      <th>3213</th>\n",
       "      <td>Bruno Fernandes</td>\n",
       "      <td>88</td>\n",
       "      <td>72</td>\n",
       "      <td>72</td>\n",
       "    </tr>\n",
       "    <tr>\n",
       "      <th>3201</th>\n",
       "      <td>Alisson</td>\n",
       "      <td>88</td>\n",
       "      <td>56</td>\n",
       "      <td>72</td>\n",
       "    </tr>\n",
       "    <tr>\n",
       "      <th>3199</th>\n",
       "      <td>Ederson</td>\n",
       "      <td>88</td>\n",
       "      <td>60</td>\n",
       "      <td>72</td>\n",
       "    </tr>\n",
       "    <tr>\n",
       "      <th>0</th>\n",
       "      <td>Joshua Kimmich</td>\n",
       "      <td>88</td>\n",
       "      <td>72</td>\n",
       "      <td>72</td>\n",
       "    </tr>\n",
       "    <tr>\n",
       "      <th>1353</th>\n",
       "      <td>Zlatan Ibrahimović</td>\n",
       "      <td>88</td>\n",
       "      <td>70</td>\n",
       "      <td>72</td>\n",
       "    </tr>\n",
       "    <tr>\n",
       "      <th>2</th>\n",
       "      <td>Thomas Müller</td>\n",
       "      <td>88</td>\n",
       "      <td>71</td>\n",
       "      <td>72</td>\n",
       "    </tr>\n",
       "    <tr>\n",
       "      <th>1364</th>\n",
       "      <td>Olivier Giroud</td>\n",
       "      <td>87</td>\n",
       "      <td>68</td>\n",
       "      <td>71</td>\n",
       "    </tr>\n",
       "    <tr>\n",
       "      <th>1</th>\n",
       "      <td>Sadio Mané</td>\n",
       "      <td>87</td>\n",
       "      <td>70</td>\n",
       "      <td>71</td>\n",
       "    </tr>\n",
       "    <tr>\n",
       "      <th>1347</th>\n",
       "      <td>Nicolò Barella</td>\n",
       "      <td>87</td>\n",
       "      <td>71</td>\n",
       "      <td>71</td>\n",
       "    </tr>\n",
       "    <tr>\n",
       "      <th>4162</th>\n",
       "      <td>Lionel Messi</td>\n",
       "      <td>87</td>\n",
       "      <td>71</td>\n",
       "      <td>71</td>\n",
       "    </tr>\n",
       "    <tr>\n",
       "      <th>1345</th>\n",
       "      <td>Romelu Lukaku</td>\n",
       "      <td>87</td>\n",
       "      <td>68</td>\n",
       "      <td>71</td>\n",
       "    </tr>\n",
       "  </tbody>\n",
       "</table>\n",
       "</div>"
      ],
      "text/plain": [
       "                       Name  tpr  tpr_general  tpr_Best\n",
       "3              Manuel Neuer   92           64        75\n",
       "4164     Robert Lewandowski   92           72        75\n",
       "3193         Erling Haaland   90           72        74\n",
       "3195             Harry Kane   90           73        74\n",
       "4172  Marc-André ter Stegen   89           51        73\n",
       "3197         Bernardo Silva   89           73        73\n",
       "3192        Kevin De Bruyne   89           73        73\n",
       "3194          Mohamed Salah   89           72        73\n",
       "4165            Luka Modrić   88           72        72\n",
       "3213        Bruno Fernandes   88           72        72\n",
       "3201                Alisson   88           56        72\n",
       "3199                Ederson   88           60        72\n",
       "0            Joshua Kimmich   88           72        72\n",
       "1353     Zlatan Ibrahimović   88           70        72\n",
       "2             Thomas Müller   88           71        72\n",
       "1364         Olivier Giroud   87           68        71\n",
       "1                Sadio Mané   87           70        71\n",
       "1347         Nicolò Barella   87           71        71\n",
       "4162           Lionel Messi   87           71        71\n",
       "1345          Romelu Lukaku   87           68        71"
      ]
     },
     "execution_count": 46,
     "metadata": {},
     "output_type": "execute_result"
    }
   ],
   "source": [
    "players_ratings.query(\"Club != '__Manchester City'\")[[\"Name\",\"tpr\",\"tpr_general\",\"tpr_Best\"]].sort_values(\"tpr\", ascending=False).head(20)"
   ]
  },
  {
   "cell_type": "markdown",
   "id": "71756b1e-85d2-416a-8ca3-01f73068b4be",
   "metadata": {},
   "source": [
    "<br><br><br><br>\n",
    "<h1 style=\"color:red;\">  Passing (players)</h1>"
   ]
  },
  {
   "cell_type": "code",
   "execution_count": 16,
   "id": "31e8f87e-9dd5-453e-a33d-707faed81d26",
   "metadata": {},
   "outputs": [],
   "source": [
    "def rename_duplicate_columns(df):\n",
    "    cols = pd.Series(df.columns)\n",
    "    for dup in cols[cols.duplicated()].unique():\n",
    "        cols[cols[cols == dup].index.values.tolist()] = [dup + '_' + str(i) if i != 0 else dup for i in range(sum(cols == dup))]\n",
    "    df.columns = cols\n",
    "    return df"
   ]
  },
  {
   "cell_type": "code",
   "execution_count": 17,
   "id": "1d299ed7-bd12-4ad9-b3e5-e33aab5a58f1",
   "metadata": {},
   "outputs": [],
   "source": [
    "pdf = players_ratings.sort_values(by=\"Pos_Rank\").dropna(subset=[\"fbref_player_name\"])"
   ]
  },
  {
   "cell_type": "code",
   "execution_count": 18,
   "id": "6448a74f-d176-44d7-bfd0-b66444c0e280",
   "metadata": {},
   "outputs": [
    {
     "data": {
      "text/plain": [
       "MC     682\n",
       "DC     642\n",
       "GK     463\n",
       "AML    450\n",
       "ST     448\n",
       "DR     352\n",
       "AMR    325\n",
       "DL     314\n",
       "DM     234\n",
       "AMC    118\n",
       "ML      99\n",
       "MR      91\n",
       "WBR     22\n",
       "WBL     17\n",
       "Name: Best_Pos, dtype: int64"
      ]
     },
     "execution_count": 18,
     "metadata": {},
     "output_type": "execute_result"
    }
   ],
   "source": [
    "pdf.Best_Pos.value_counts()"
   ]
  },
  {
   "cell_type": "code",
   "execution_count": 19,
   "id": "6a6ea3ce-7b60-4752-a7d8-fa59b66d462a",
   "metadata": {},
   "outputs": [],
   "source": [
    "url = \"https://fbref.com/en/comps/Big5/2022-2023/passing/players/2022-2023-Big-5-European-Leagues-Stats\"\n",
    "data = pd.read_html(url)\n",
    "data[0].columns = data[0].columns.get_level_values(1)"
   ]
  },
  {
   "cell_type": "code",
   "execution_count": 20,
   "id": "408f7d39-d6bc-4e8b-9a97-70463f9a23ca",
   "metadata": {},
   "outputs": [],
   "source": [
    "passing_data = data[0]"
   ]
  },
  {
   "cell_type": "code",
   "execution_count": 21,
   "id": "bef836cb-7540-4a7a-a0f0-5e11e222e85c",
   "metadata": {},
   "outputs": [],
   "source": [
    "mdf = pd.merge(pdf, passing_data, how=\"inner\", left_on=\"fbref_player_name\", right_on=\"Player\")\n",
    "mdf = mdf.drop_duplicates(subset=['Player'], keep='first')\n",
    "mdf = rename_duplicate_columns(mdf)"
   ]
  },
  {
   "cell_type": "code",
   "execution_count": 22,
   "id": "7c93b59d-1699-4a44-8e5e-42ef49e54fde",
   "metadata": {},
   "outputs": [],
   "source": [
    "mdf[\"Att\"] = pd.to_numeric(mdf[\"Att\"], errors='coerce')\n",
    "mdf[\"90s\"] = pd.to_numeric(mdf[\"90s\"], errors='coerce')\n",
    "mdf[\"Cmp\"] = pd.to_numeric(mdf[\"Cmp\"], errors='coerce')\n",
    "mdf[\"Cmp%\"] = pd.to_numeric(mdf[\"Cmp%\"], errors='coerce')"
   ]
  },
  {
   "cell_type": "code",
   "execution_count": 23,
   "id": "73b20eab-d152-4f33-8d03-06beaae5b5c8",
   "metadata": {},
   "outputs": [],
   "source": [
    "mdf[\"Att90\"] = mdf[\"Att\"].apply(float) / mdf[\"90s\"].apply(float)\n",
    "mdf[\"Cmp90\"] = mdf[\"Cmp\"].apply(float) / mdf[\"90s\"].apply(float)\n",
    "mdf[\"Cmp%\"] = mdf[\"Cmp%\"].apply(float)"
   ]
  },
  {
   "cell_type": "code",
   "execution_count": 24,
   "id": "96ac4bfe-6bb7-4129-9d86-c9c060019772",
   "metadata": {},
   "outputs": [],
   "source": [
    "# mdf.loc[0].to_dict()"
   ]
  },
  {
   "cell_type": "code",
   "execution_count": 25,
   "id": "f4dd43d0-72bb-46f2-9942-63f7642b63cd",
   "metadata": {},
   "outputs": [
    {
     "name": "stdout",
     "output_type": "stream",
     "text": [
      "<class 'pandas.core.frame.DataFrame'>\n",
      "Int64Index: 2460 entries, 0 to 5085\n",
      "Columns: 138 entries, UID to Cmp90\n",
      "dtypes: float64(9), int64(76), object(53)\n",
      "memory usage: 2.6+ MB\n"
     ]
    }
   ],
   "source": [
    "mdf.info()"
   ]
  },
  {
   "cell_type": "code",
   "execution_count": 26,
   "id": "6ac6a37e-4b5f-456e-a622-18bc2ababfcd",
   "metadata": {},
   "outputs": [
    {
     "data": {
      "text/html": [
       "<div>\n",
       "<style scoped>\n",
       "    .dataframe tbody tr th:only-of-type {\n",
       "        vertical-align: middle;\n",
       "    }\n",
       "\n",
       "    .dataframe tbody tr th {\n",
       "        vertical-align: top;\n",
       "    }\n",
       "\n",
       "    .dataframe thead th {\n",
       "        text-align: right;\n",
       "    }\n",
       "</style>\n",
       "<table border=\"1\" class=\"dataframe\">\n",
       "  <thead>\n",
       "    <tr style=\"text-align: right;\">\n",
       "      <th></th>\n",
       "      <th>Player</th>\n",
       "      <th>Pos_Rank</th>\n",
       "      <th>Best_Pos</th>\n",
       "      <th>tpr</th>\n",
       "      <th>Passing</th>\n",
       "      <th>Att90</th>\n",
       "      <th>Cmp90</th>\n",
       "      <th>Cmp%</th>\n",
       "    </tr>\n",
       "  </thead>\n",
       "  <tbody>\n",
       "    <tr>\n",
       "      <th>0</th>\n",
       "      <td>Vito Mannone</td>\n",
       "      <td>0</td>\n",
       "      <td>GK</td>\n",
       "      <td>75</td>\n",
       "      <td>49</td>\n",
       "      <td>32.569832</td>\n",
       "      <td>24.804469</td>\n",
       "      <td>76.2</td>\n",
       "    </tr>\n",
       "    <tr>\n",
       "      <th>2</th>\n",
       "      <td>Léo Jardim</td>\n",
       "      <td>0</td>\n",
       "      <td>GK</td>\n",
       "      <td>71</td>\n",
       "      <td>49</td>\n",
       "      <td>25.666667</td>\n",
       "      <td>20.333333</td>\n",
       "      <td>79.2</td>\n",
       "    </tr>\n",
       "    <tr>\n",
       "      <th>3</th>\n",
       "      <td>Wojciech Szczęsny</td>\n",
       "      <td>0</td>\n",
       "      <td>GK</td>\n",
       "      <td>84</td>\n",
       "      <td>54</td>\n",
       "      <td>28.690909</td>\n",
       "      <td>22.727273</td>\n",
       "      <td>79.2</td>\n",
       "    </tr>\n",
       "    <tr>\n",
       "      <th>4</th>\n",
       "      <td>Benjamin Lecomte</td>\n",
       "      <td>0</td>\n",
       "      <td>GK</td>\n",
       "      <td>76</td>\n",
       "      <td>54</td>\n",
       "      <td>27.500000</td>\n",
       "      <td>17.900000</td>\n",
       "      <td>65.1</td>\n",
       "    </tr>\n",
       "    <tr>\n",
       "      <th>6</th>\n",
       "      <td>Tobias Mohr</td>\n",
       "      <td>0</td>\n",
       "      <td>GK</td>\n",
       "      <td>49</td>\n",
       "      <td>44</td>\n",
       "      <td>54.408602</td>\n",
       "      <td>33.118280</td>\n",
       "      <td>60.9</td>\n",
       "    </tr>\n",
       "  </tbody>\n",
       "</table>\n",
       "</div>"
      ],
      "text/plain": [
       "              Player  Pos_Rank Best_Pos  tpr  Passing      Att90      Cmp90  \\\n",
       "0       Vito Mannone         0       GK   75       49  32.569832  24.804469   \n",
       "2         Léo Jardim         0       GK   71       49  25.666667  20.333333   \n",
       "3  Wojciech Szczęsny         0       GK   84       54  28.690909  22.727273   \n",
       "4   Benjamin Lecomte         0       GK   76       54  27.500000  17.900000   \n",
       "6        Tobias Mohr         0       GK   49       44  54.408602  33.118280   \n",
       "\n",
       "   Cmp%  \n",
       "0  76.2  \n",
       "2  79.2  \n",
       "3  79.2  \n",
       "4  65.1  \n",
       "6  60.9  "
      ]
     },
     "execution_count": 26,
     "metadata": {},
     "output_type": "execute_result"
    }
   ],
   "source": [
    "mdf[[\"Player\",\"Pos_Rank\",\"Best_Pos\",\"tpr\",\"Passing\",\"Att90\",\"Cmp90\",\"Cmp%\"]].head()"
   ]
  },
  {
   "cell_type": "code",
   "execution_count": 27,
   "id": "89df1f62-a474-48c3-a1a4-699aae39c648",
   "metadata": {},
   "outputs": [
    {
     "data": {
      "text/html": [
       "<div>\n",
       "<style scoped>\n",
       "    .dataframe tbody tr th:only-of-type {\n",
       "        vertical-align: middle;\n",
       "    }\n",
       "\n",
       "    .dataframe tbody tr th {\n",
       "        vertical-align: top;\n",
       "    }\n",
       "\n",
       "    .dataframe thead th {\n",
       "        text-align: right;\n",
       "    }\n",
       "</style>\n",
       "<table border=\"1\" class=\"dataframe\">\n",
       "  <thead>\n",
       "    <tr style=\"text-align: right;\">\n",
       "      <th></th>\n",
       "      <th>Pos_Rank</th>\n",
       "      <th>Best_Pos</th>\n",
       "    </tr>\n",
       "  </thead>\n",
       "  <tbody>\n",
       "    <tr>\n",
       "      <th>0</th>\n",
       "      <td>0</td>\n",
       "      <td>GK</td>\n",
       "    </tr>\n",
       "    <tr>\n",
       "      <th>1312</th>\n",
       "      <td>1</td>\n",
       "      <td>WBR</td>\n",
       "    </tr>\n",
       "    <tr>\n",
       "      <th>1342</th>\n",
       "      <td>2</td>\n",
       "      <td>DR</td>\n",
       "    </tr>\n",
       "    <tr>\n",
       "      <th>1874</th>\n",
       "      <td>3</td>\n",
       "      <td>DC</td>\n",
       "    </tr>\n",
       "    <tr>\n",
       "      <th>3203</th>\n",
       "      <td>4</td>\n",
       "      <td>DL</td>\n",
       "    </tr>\n",
       "    <tr>\n",
       "      <th>3515</th>\n",
       "      <td>5</td>\n",
       "      <td>WBL</td>\n",
       "    </tr>\n",
       "    <tr>\n",
       "      <th>3529</th>\n",
       "      <td>6</td>\n",
       "      <td>DM</td>\n",
       "    </tr>\n",
       "    <tr>\n",
       "      <th>3758</th>\n",
       "      <td>7</td>\n",
       "      <td>MC</td>\n",
       "    </tr>\n",
       "    <tr>\n",
       "      <th>4250</th>\n",
       "      <td>8</td>\n",
       "      <td>MR</td>\n",
       "    </tr>\n",
       "    <tr>\n",
       "      <th>4302</th>\n",
       "      <td>9</td>\n",
       "      <td>AMC</td>\n",
       "    </tr>\n",
       "    <tr>\n",
       "      <th>4373</th>\n",
       "      <td>10</td>\n",
       "      <td>ML</td>\n",
       "    </tr>\n",
       "    <tr>\n",
       "      <th>4433</th>\n",
       "      <td>11</td>\n",
       "      <td>AMR</td>\n",
       "    </tr>\n",
       "    <tr>\n",
       "      <th>4633</th>\n",
       "      <td>12</td>\n",
       "      <td>ST</td>\n",
       "    </tr>\n",
       "    <tr>\n",
       "      <th>4865</th>\n",
       "      <td>13</td>\n",
       "      <td>AML</td>\n",
       "    </tr>\n",
       "  </tbody>\n",
       "</table>\n",
       "</div>"
      ],
      "text/plain": [
       "      Pos_Rank Best_Pos\n",
       "0            0       GK\n",
       "1312         1      WBR\n",
       "1342         2       DR\n",
       "1874         3       DC\n",
       "3203         4       DL\n",
       "3515         5      WBL\n",
       "3529         6       DM\n",
       "3758         7       MC\n",
       "4250         8       MR\n",
       "4302         9      AMC\n",
       "4373        10       ML\n",
       "4433        11      AMR\n",
       "4633        12       ST\n",
       "4865        13      AML"
      ]
     },
     "execution_count": 27,
     "metadata": {},
     "output_type": "execute_result"
    }
   ],
   "source": [
    "mdf.drop_duplicates(subset=['Pos_Rank'], keep='first')[[\"Pos_Rank\",\"Best_Pos\"]]"
   ]
  },
  {
   "cell_type": "code",
   "execution_count": 28,
   "id": "881c2a06-c760-404f-9402-fd1a584eaf95",
   "metadata": {},
   "outputs": [
    {
     "ename": "KeyError",
     "evalue": "\"['pas'] not in index\"",
     "output_type": "error",
     "traceback": [
      "\u001b[1;31m---------------------------------------------------------------------------\u001b[0m",
      "\u001b[1;31mKeyError\u001b[0m                                  Traceback (most recent call last)",
      "Cell \u001b[1;32mIn[28], line 9\u001b[0m\n\u001b[0;32m      3\u001b[0m \u001b[38;5;28;01mfrom\u001b[39;00m \u001b[38;5;21;01msklearn\u001b[39;00m\u001b[38;5;21;01m.\u001b[39;00m\u001b[38;5;21;01mmetrics\u001b[39;00m \u001b[38;5;28;01mimport\u001b[39;00m mean_absolute_error, mean_squared_error, r2_score\n\u001b[0;32m      5\u001b[0m \u001b[38;5;66;03m# Assuming mdf is your DataFrame and has the necessary columns\u001b[39;00m\n\u001b[0;32m      6\u001b[0m \u001b[38;5;66;03m# mdf = pd.read_csv('your_data.csv')  # Load your data here if it's from a CSV file\u001b[39;00m\n\u001b[0;32m      7\u001b[0m \n\u001b[0;32m      8\u001b[0m \u001b[38;5;66;03m# Select the relevant columns\u001b[39;00m\n\u001b[1;32m----> 9\u001b[0m df \u001b[38;5;241m=\u001b[39m mdf[[\u001b[38;5;124m\"\u001b[39m\u001b[38;5;124mPos_Rank\u001b[39m\u001b[38;5;124m\"\u001b[39m, \u001b[38;5;124m\"\u001b[39m\u001b[38;5;124mtpr\u001b[39m\u001b[38;5;124m\"\u001b[39m, \u001b[38;5;124m\"\u001b[39m\u001b[38;5;124mpas\u001b[39m\u001b[38;5;124m\"\u001b[39m, \u001b[38;5;124m\"\u001b[39m\u001b[38;5;124mCmp\u001b[39m\u001b[38;5;124m%\u001b[39m\u001b[38;5;124m\"\u001b[39m]]\n\u001b[0;32m     11\u001b[0m \u001b[38;5;66;03m# Drop any rows with missing values\u001b[39;00m\n\u001b[0;32m     12\u001b[0m df \u001b[38;5;241m=\u001b[39m df\u001b[38;5;241m.\u001b[39mdropna()\n",
      "File \u001b[1;32m~\\anaconda3\\Lib\\site-packages\\pandas\\core\\frame.py:3813\u001b[0m, in \u001b[0;36mDataFrame.__getitem__\u001b[1;34m(self, key)\u001b[0m\n\u001b[0;32m   3811\u001b[0m     \u001b[38;5;28;01mif\u001b[39;00m is_iterator(key):\n\u001b[0;32m   3812\u001b[0m         key \u001b[38;5;241m=\u001b[39m \u001b[38;5;28mlist\u001b[39m(key)\n\u001b[1;32m-> 3813\u001b[0m     indexer \u001b[38;5;241m=\u001b[39m \u001b[38;5;28mself\u001b[39m\u001b[38;5;241m.\u001b[39mcolumns\u001b[38;5;241m.\u001b[39m_get_indexer_strict(key, \u001b[38;5;124m\"\u001b[39m\u001b[38;5;124mcolumns\u001b[39m\u001b[38;5;124m\"\u001b[39m)[\u001b[38;5;241m1\u001b[39m]\n\u001b[0;32m   3815\u001b[0m \u001b[38;5;66;03m# take() does not accept boolean indexers\u001b[39;00m\n\u001b[0;32m   3816\u001b[0m \u001b[38;5;28;01mif\u001b[39;00m \u001b[38;5;28mgetattr\u001b[39m(indexer, \u001b[38;5;124m\"\u001b[39m\u001b[38;5;124mdtype\u001b[39m\u001b[38;5;124m\"\u001b[39m, \u001b[38;5;28;01mNone\u001b[39;00m) \u001b[38;5;241m==\u001b[39m \u001b[38;5;28mbool\u001b[39m:\n",
      "File \u001b[1;32m~\\anaconda3\\Lib\\site-packages\\pandas\\core\\indexes\\base.py:6070\u001b[0m, in \u001b[0;36mIndex._get_indexer_strict\u001b[1;34m(self, key, axis_name)\u001b[0m\n\u001b[0;32m   6067\u001b[0m \u001b[38;5;28;01melse\u001b[39;00m:\n\u001b[0;32m   6068\u001b[0m     keyarr, indexer, new_indexer \u001b[38;5;241m=\u001b[39m \u001b[38;5;28mself\u001b[39m\u001b[38;5;241m.\u001b[39m_reindex_non_unique(keyarr)\n\u001b[1;32m-> 6070\u001b[0m \u001b[38;5;28mself\u001b[39m\u001b[38;5;241m.\u001b[39m_raise_if_missing(keyarr, indexer, axis_name)\n\u001b[0;32m   6072\u001b[0m keyarr \u001b[38;5;241m=\u001b[39m \u001b[38;5;28mself\u001b[39m\u001b[38;5;241m.\u001b[39mtake(indexer)\n\u001b[0;32m   6073\u001b[0m \u001b[38;5;28;01mif\u001b[39;00m \u001b[38;5;28misinstance\u001b[39m(key, Index):\n\u001b[0;32m   6074\u001b[0m     \u001b[38;5;66;03m# GH 42790 - Preserve name from an Index\u001b[39;00m\n",
      "File \u001b[1;32m~\\anaconda3\\Lib\\site-packages\\pandas\\core\\indexes\\base.py:6133\u001b[0m, in \u001b[0;36mIndex._raise_if_missing\u001b[1;34m(self, key, indexer, axis_name)\u001b[0m\n\u001b[0;32m   6130\u001b[0m     \u001b[38;5;28;01mraise\u001b[39;00m \u001b[38;5;167;01mKeyError\u001b[39;00m(\u001b[38;5;124mf\u001b[39m\u001b[38;5;124m\"\u001b[39m\u001b[38;5;124mNone of [\u001b[39m\u001b[38;5;132;01m{\u001b[39;00mkey\u001b[38;5;132;01m}\u001b[39;00m\u001b[38;5;124m] are in the [\u001b[39m\u001b[38;5;132;01m{\u001b[39;00maxis_name\u001b[38;5;132;01m}\u001b[39;00m\u001b[38;5;124m]\u001b[39m\u001b[38;5;124m\"\u001b[39m)\n\u001b[0;32m   6132\u001b[0m not_found \u001b[38;5;241m=\u001b[39m \u001b[38;5;28mlist\u001b[39m(ensure_index(key)[missing_mask\u001b[38;5;241m.\u001b[39mnonzero()[\u001b[38;5;241m0\u001b[39m]]\u001b[38;5;241m.\u001b[39munique())\n\u001b[1;32m-> 6133\u001b[0m \u001b[38;5;28;01mraise\u001b[39;00m \u001b[38;5;167;01mKeyError\u001b[39;00m(\u001b[38;5;124mf\u001b[39m\u001b[38;5;124m\"\u001b[39m\u001b[38;5;132;01m{\u001b[39;00mnot_found\u001b[38;5;132;01m}\u001b[39;00m\u001b[38;5;124m not in index\u001b[39m\u001b[38;5;124m\"\u001b[39m)\n",
      "\u001b[1;31mKeyError\u001b[0m: \"['pas'] not in index\""
     ]
    }
   ],
   "source": [
    "from sklearn.model_selection import train_test_split\n",
    "from sklearn.linear_model import LinearRegression\n",
    "from sklearn.metrics import mean_absolute_error, mean_squared_error, r2_score\n",
    "\n",
    "# Assuming mdf is your DataFrame and has the necessary columns\n",
    "# mdf = pd.read_csv('your_data.csv')  # Load your data here if it's from a CSV file\n",
    "\n",
    "# Select the relevant columns\n",
    "df = mdf[[\"Pos_Rank\", \"tpr\", \"pas\", \"Cmp%\"]]\n",
    "\n",
    "# Drop any rows with missing values\n",
    "df = df.dropna()\n",
    "print(df.info())\n",
    "\n",
    "# Define the independent variables (predictors) and the dependent variable (response)\n",
    "X = df[[\"Pos_Rank\", \"tpr\", \"pas\"]]\n",
    "y = df[\"Cmp%\"]\n",
    "\n",
    "# Split the data into training and testing sets\n",
    "X_train, X_test, y_train, y_test = train_test_split(X, y, test_size=0.2, random_state=42)\n",
    "\n",
    "# Create a linear regression model\n",
    "model = LinearRegression()\n",
    "\n",
    "# Fit the model to the training data\n",
    "model.fit(X_train, y_train)\n",
    "\n",
    "# Make predictions on the test data\n",
    "y_pred = model.predict(X_test)\n",
    "\n",
    "# Print the coefficients\n",
    "print(\"Coefficients:\", model.coef_)\n",
    "print(\"Intercept:\", model.intercept_)\n",
    "\n",
    "# Print performance metrics\n",
    "print(\"Mean squared error (MSE):\", mean_absolute_error(y_test, y_pred))\n",
    "print(\"Mean squared error (MSE):\", mean_squared_error(y_test, y_pred))\n",
    "print(\"Coefficient of determination (R^2):\", r2_score(y_test, y_pred))"
   ]
  },
  {
   "cell_type": "code",
   "execution_count": null,
   "id": "251146d6-78e4-400a-891a-9a2d0ee9e185",
   "metadata": {},
   "outputs": [],
   "source": [
    "def Predict_Pass_Completion_Rate(pos, tpr, pas):\n",
    "    input_data = {'Pos_Rank': [pos], 'tpr': [tpr], 'pas': [pas]}\n",
    "    input_df = pd.DataFrame(input_data)\n",
    "    noise_range = (-5, 10)\n",
    "    predicted_class = model.predict(input_df) + np.random.uniform(noise_range[0], noise_range[1], input_df.shape)\n",
    "    return predicted_class\n",
    "\n",
    "print(\"Predicted Class:\", Predict_Pass_Completion_Rate(9, 100, 92))"
   ]
  },
  {
   "cell_type": "code",
   "execution_count": null,
   "id": "b6b7320a-80de-47e2-80db-05cc88e18348",
   "metadata": {},
   "outputs": [],
   "source": [
    "def Player_Passing_Volume_Share(df):\n",
    "    df[\"Att_share\"] = df[\"Att\"] / df[\"Att\"].sum()\n",
    "    df[\"Cmp_share\"] = df[\"Cmp\"] / df[\"Cmp\"].sum()\n",
    "    return df\n",
    "\n",
    "mdf = mdf.groupby('Club').apply(Player_Passing_Volume_Share).reset_index(drop=True)"
   ]
  },
  {
   "cell_type": "code",
   "execution_count": null,
   "id": "87aba284-ac28-4e7b-9578-6f1c29eccc2c",
   "metadata": {},
   "outputs": [],
   "source": [
    "passing_logs = pd.read_csv(\"../match_logs/Big5@22-23@passing.csv\")\n",
    "passing_data = passing_data\n",
    "passing_df = pd.merge(team_ratings, passing_data, how=\"inner\", left_on=\"fbref_name\", right_on=\"Squad\")"
   ]
  },
  {
   "cell_type": "code",
   "execution_count": null,
   "id": "e42e95b4-9bda-4a4c-b23e-8c9e87aaf029",
   "metadata": {},
   "outputs": [],
   "source": []
  }
 ],
 "metadata": {
  "kernelspec": {
   "display_name": "Python 3 (ipykernel)",
   "language": "python",
   "name": "python3"
  },
  "language_info": {
   "codemirror_mode": {
    "name": "ipython",
    "version": 3
   },
   "file_extension": ".py",
   "mimetype": "text/x-python",
   "name": "python",
   "nbconvert_exporter": "python",
   "pygments_lexer": "ipython3",
   "version": "3.11.7"
  }
 },
 "nbformat": 4,
 "nbformat_minor": 5
}
