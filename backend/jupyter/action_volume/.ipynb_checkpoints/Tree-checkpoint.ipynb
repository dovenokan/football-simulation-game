{
 "cells": [
  {
   "cell_type": "code",
   "execution_count": 56,
   "id": "16926625-6569-4fab-b28b-6db9f6288b0f",
   "metadata": {},
   "outputs": [],
   "source": [
    "import pandas as pd\n",
    "import numpy as np\n",
    "import os\n",
    "import sys\n",
    "import math\n",
    "import json\n",
    "import seaborn as sns\n",
    "import matplotlib.pyplot as plt"
   ]
  },
  {
   "cell_type": "code",
   "execution_count": 57,
   "id": "b0e70c8e-c921-4a2c-9c98-52639b5c1f90",
   "metadata": {},
   "outputs": [],
   "source": [
    "import warnings\n",
    "from sklearn.exceptions import UndefinedMetricWarning\n",
    "from pandas.errors import SettingWithCopyWarning\n",
    "warnings.filterwarnings(action='ignore', category=UndefinedMetricWarning)\n",
    "warnings.simplefilter(action='ignore', category=(SettingWithCopyWarning))\n",
    "warnings.simplefilter(action='ignore', category=(FutureWarning))\n",
    "warnings.simplefilter(action='ignore', category=RuntimeWarning)"
   ]
  },
  {
   "cell_type": "code",
   "execution_count": 58,
   "id": "b1cb198f-0b0c-4558-982e-dd01b8cf08ff",
   "metadata": {},
   "outputs": [],
   "source": [
    "parent_dir = os.path.abspath(os.path.join(os.path.dirname(\"./\"), '..'))\n",
    "sys.path.append(parent_dir)\n",
    "from tools.lineup_tpr import LineupTPR\n",
    "from tools.draw_pitch_plot import Draw_Pitch_Actions\n",
    "from tools.pickler import Save_Model, Load_Model\n",
    "from tools.fm_attributes import Attributes as fm_attributes"
   ]
  },
  {
   "cell_type": "code",
   "execution_count": 59,
   "id": "ef3cde98-c9f6-4c65-ac8f-f12e132d6633",
   "metadata": {},
   "outputs": [],
   "source": [
    "team_df = pd.read_csv(\"../players_db/fm23/team_ratings.csv\")\n",
    "players_df = pd.read_csv(\"../players_db/fm23/fm23db_processed_with_futsim_triple_models.csv\")"
   ]
  },
  {
   "cell_type": "code",
   "execution_count": 60,
   "id": "483f0b37-e20f-4b1b-9867-0e5b639d51cd",
   "metadata": {},
   "outputs": [],
   "source": [
    "defense = pd.read_csv(\"../match_logs/Big5@22-23@defense.csv\")\n",
    "gca = pd.read_csv(\"../match_logs/Big5@22-23@gca.csv\")\n",
    "keeper = pd.read_csv(\"../match_logs/Big5@22-23@keeper.csv\")\n",
    "misc = pd.read_csv(\"../match_logs/Big5@22-23@misc.csv\")\n",
    "passing = pd.read_csv(\"../match_logs/Big5@22-23@passing.csv\")\n",
    "passing_types = pd.read_csv(\"../match_logs/Big5@22-23@passing_types.csv\")\n",
    "possession = pd.read_csv(\"../match_logs/Big5@22-23@possession.csv\")\n",
    "shooting = pd.read_csv(\"../match_logs/Big5@22-23@shooting.csv\")"
   ]
  },
  {
   "cell_type": "markdown",
   "id": "e71964f6-01e0-4f3a-8b85-8de4db36f848",
   "metadata": {},
   "source": [
    "<br><br><br><br>\n",
    "<h1 style=\"color:white;background:MediumTurquoise;padding:10px\">  .</h1>"
   ]
  },
  {
   "cell_type": "code",
   "execution_count": 82,
   "id": "c6974e3b-8342-4bcf-8f6e-0513ad1ab4ad",
   "metadata": {
    "scrolled": true
   },
   "outputs": [
    {
     "data": {
      "text/plain": [
       "{'UID': 55057659,\n",
       " 'Inf': nan,\n",
       " 'Name': 'Ederson',\n",
       " 'DoB': '1993-08-17',\n",
       " 'Nat': 'BRA',\n",
       " 'Division': 'English Premier Division',\n",
       " 'Club': 'Manchester City',\n",
       " 'Based': 'England (Premier Division)',\n",
       " 'Preferred Foot': 'Left',\n",
       " 'Right Foot': 'Reasonable',\n",
       " 'Left Foot': 'Very Strong',\n",
       " 'Position': 'GK',\n",
       " 'Height': 188,\n",
       " 'Weight': '86 kg',\n",
       " 'Age': 28,\n",
       " 'Transfer Value': '108000000 - 118000000',\n",
       " 'Wage': 2800,\n",
       " 'AT Apps': '289',\n",
       " 'AT Gls': '-',\n",
       " 'Team': 'Main',\n",
       " 'Caps': 18,\n",
       " 'Yth Apps': '1',\n",
       " 'Style': 'Distributor',\n",
       " 'Rc Injury': '-',\n",
       " 'Best_Role': 'Sweeper Keeper',\n",
       " 'Best Duty': 'Support',\n",
       " 'Best_Pos': 'GK',\n",
       " 'Acceleration': 69,\n",
       " 'Aerial_Reach': 64,\n",
       " 'Aggression': 59,\n",
       " 'Agility': 64,\n",
       " 'Anticipation': 84,\n",
       " 'Balance': 64,\n",
       " 'Bravery': 89,\n",
       " 'Command_of_Area': 79,\n",
       " 'Communication': 64,\n",
       " 'Composure': 99,\n",
       " 'Concentration': 79,\n",
       " 'Corners': 14,\n",
       " 'Crossing': 14,\n",
       " 'Decisions': 74,\n",
       " 'Determination': 79,\n",
       " 'Dribbling': 54,\n",
       " 'Eccentricity': 74,\n",
       " 'Finishing': 14,\n",
       " 'First_Touch': 69,\n",
       " 'Flair': 14,\n",
       " 'Free_Kick_Taking': 39,\n",
       " 'Handling': 79,\n",
       " 'Heading': 44,\n",
       " 'Jumping_Reach': 64,\n",
       " 'Kicking': 99,\n",
       " 'Leadership': 34,\n",
       " 'Long_Shots': 59,\n",
       " 'Long_Throws': 14,\n",
       " 'Marking': 14,\n",
       " 'Natural_Fitness': 74,\n",
       " 'Off_the_Ball': 74,\n",
       " 'One_on_Ones': 64,\n",
       " 'Pace': 64,\n",
       " 'Passing': 89,\n",
       " 'Penalty_Taking': 59,\n",
       " 'Positioning': 64,\n",
       " 'Punching': 29,\n",
       " 'Reflexes': 69,\n",
       " 'Rushing_Out': 84,\n",
       " 'Stamina': 69,\n",
       " 'Strength': 64,\n",
       " 'Tackling': 4,\n",
       " 'Teamwork': 69,\n",
       " 'Technique': 84,\n",
       " 'Throwing': 84,\n",
       " 'Vision': 84,\n",
       " 'Work_Rate': 64,\n",
       " 'Club_id': 6827,\n",
       " 'League_id': 354,\n",
       " 'Min_Value': 108000000.0,\n",
       " 'Max_Value': 118000000.0,\n",
       " 'Market_Value': 5000.0,\n",
       " 'Player_Role': 'GK_Sweeper Keeper',\n",
       " 'Pos_Rank': 0,\n",
       " 'gk': 72,\n",
       " 'tpr_general': 60,\n",
       " 'tpr': 88,\n",
       " 'tpr_DM': 41,\n",
       " 'tpr_AML': 41,\n",
       " 'tpr_AMC': 42,\n",
       " 'tpr_GK': 96,\n",
       " 'tpr_MC': 41,\n",
       " 'tpr_DC': 41,\n",
       " 'tpr_AMR': 41,\n",
       " 'tpr_DL': 41,\n",
       " 'tpr_DR': 41,\n",
       " 'tpr_ST': 42,\n",
       " 'tpr_ML': 41,\n",
       " 'tpr_MR': 41,\n",
       " 'tpr_WBR': 41,\n",
       " 'tpr_WBL': 41,\n",
       " 'tpr_Best': 72,\n",
       " 'fbref_player_name': nan,\n",
       " 'Predicted_Market_Value': 86900145,\n",
       " 'Predicted_Wage': 363157,\n",
       " 'Pos_Rank_Average': 0,\n",
       " 'pass_Volume': 43.36,\n",
       " 'shot_Volume': 0.0,\n",
       " 'dribble_Volume': 0.0,\n",
       " 'pass_Accuracy': 73.97,\n",
       " 'shot_Accuracy': 28.14,\n",
       " 'dribble_Accuracy': 72.38,\n",
       " 'tpr_club': 89,\n",
       " 'Playing_Position': 'GK'}"
      ]
     },
     "execution_count": 82,
     "metadata": {},
     "output_type": "execute_result"
    }
   ],
   "source": [
    "team_a = LineupTPR(players_df, \"Manchester City\")\n",
    "team_a.iloc[0].to_dict()"
   ]
  },
  {
   "cell_type": "markdown",
   "id": "314d0c7a-5ec5-4411-b0e7-da3656f9df99",
   "metadata": {},
   "source": [
    "<br><br><br><br>\n",
    "<h1 style=\"color:white;background:purple;padding:10px\">  Tree</h1>"
   ]
  },
  {
   "cell_type": "code",
   "execution_count": null,
   "id": "3bb419c2-251f-4804-97a8-80325f315827",
   "metadata": {},
   "outputs": [],
   "source": []
  },
  {
   "cell_type": "code",
   "execution_count": null,
   "id": "15c89cf6-5753-4cde-afa0-530f3a34ac07",
   "metadata": {},
   "outputs": [],
   "source": []
  }
 ],
 "metadata": {
  "kernelspec": {
   "display_name": "Python 3 (ipykernel)",
   "language": "python",
   "name": "python3"
  },
  "language_info": {
   "codemirror_mode": {
    "name": "ipython",
    "version": 3
   },
   "file_extension": ".py",
   "mimetype": "text/x-python",
   "name": "python",
   "nbconvert_exporter": "python",
   "pygments_lexer": "ipython3",
   "version": "3.11.7"
  }
 },
 "nbformat": 4,
 "nbformat_minor": 5
}
