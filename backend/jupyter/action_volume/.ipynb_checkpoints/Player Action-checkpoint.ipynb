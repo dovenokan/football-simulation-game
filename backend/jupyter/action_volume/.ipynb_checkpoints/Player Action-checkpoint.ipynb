{
 "cells": [
  {
   "cell_type": "code",
   "execution_count": 6,
   "id": "4eb1678c-7551-4975-9050-e1565d189834",
   "metadata": {},
   "outputs": [],
   "source": [
    "import pandas as pd\n",
    "import numpy as np\n",
    "import os\n",
    "import sys\n",
    "import math\n",
    "import json\n",
    "import ast\n",
    "from sklearn.model_selection import train_test_split\n",
    "from sklearn.linear_model import LinearRegression\n",
    "from sklearn.metrics import mean_squared_error, r2_score\n",
    "from sklearn.preprocessing import StandardScaler\n",
    "import seaborn as sns\n",
    "import matplotlib.pyplot as plt\n",
    "from mplsoccer.pitch import Pitch\n",
    "import matplotlib.patches as patches\n",
    "from IPython.display import Markdown"
   ]
  },
  {
   "cell_type": "code",
   "execution_count": 7,
   "id": "54185400-e4e9-4fc3-811f-f5e755ce79e4",
   "metadata": {},
   "outputs": [],
   "source": [
    "import warnings\n",
    "from sklearn.exceptions import UndefinedMetricWarning\n",
    "from pandas.errors import SettingWithCopyWarning\n",
    "warnings.filterwarnings(action='ignore', category=UndefinedMetricWarning)\n",
    "warnings.simplefilter(action='ignore', category=(SettingWithCopyWarning))\n",
    "warnings.simplefilter(action='ignore', category=RuntimeWarning)\n",
    "warnings.simplefilter(action='ignore', category=FutureWarning)"
   ]
  },
  {
   "cell_type": "code",
   "execution_count": 8,
   "id": "686e33dc-d271-44f5-94d2-04afed5404d0",
   "metadata": {},
   "outputs": [],
   "source": [
    "parent_dir = os.path.abspath(os.path.join(os.path.dirname(\"./\"), '..'))\n",
    "sys.path.append(parent_dir)\n",
    "from tools.lineup_tpr import LineupTPR\n",
    "from tools.pickler import Save_Model, Load_Model\n",
    "from tools.draw_pitch_plot import Draw_Pitch_Actions\n",
    "from tools.fm_attributes import Attributes\n",
    "fm_attributes = Attributes.attribute_list\n",
    "gk_attributes = Attributes.gk_attributes"
   ]
  },
  {
   "cell_type": "code",
   "execution_count": 9,
   "id": "8247c91a-81dd-46c5-a57b-56a6b9044876",
   "metadata": {},
   "outputs": [],
   "source": [
    "players_df = pd.read_csv(\"../players_db/fm23/fm23db_processed.csv\")\n",
    "team_df = pd.read_csv(\"../players_db/fm23/team_ratings.csv\")"
   ]
  },
  {
   "cell_type": "markdown",
   "id": "160efdfc-52e9-4b27-86cc-4b3f3b2141da",
   "metadata": {},
   "source": [
    "<br><br><br><br><br><br><br><br>\n",
    "<h2 style=\"color:SteelBlue;background:Lime;\"> Preparing Train Data w/Player Logs</h2>"
   ]
  },
  {
   "cell_type": "code",
   "execution_count": 10,
   "id": "d4dc0404-8d8a-49fd-b051-421037141b13",
   "metadata": {},
   "outputs": [],
   "source": [
    "from IPython.display import display, HTML\n",
    "loading_bar_html = \"\"\"\n",
    "<div id=\"progress-container\" style=\"width: 50%; border: 1px solid #ccc; margin: 20px 0;\">\n",
    "  <div id=\"progress-bar\" style=\"width: 0%; height: 20px; background-color: #4CAF50; text-align: center; line-height: 20px; color: white;\"></div>\n",
    "</div>\n",
    "<script>\n",
    "function updateProgressBar(progress) {\n",
    "  var progressBar = document.getElementById('progress-bar');\n",
    "  progressBar.style.width = progress + '%';\n",
    "  progressBar.innerHTML = progress + '%';\n",
    "}\n",
    "</script>\n",
    "\"\"\""
   ]
  },
  {
   "cell_type": "code",
   "execution_count": 11,
   "id": "f75bd022-cbab-4fff-bd5b-eb9ced60f1f2",
   "metadata": {},
   "outputs": [],
   "source": [
    "page_names = ['shooting', 'passing', 'defense', 'keeper', 'passing_types', 'gca', 'possession', 'misc']"
   ]
  },
  {
   "cell_type": "code",
   "execution_count": 12,
   "id": "ed61e5ed-3a5a-4ac0-a9be-a9d9fc89f218",
   "metadata": {},
   "outputs": [],
   "source": [
    "# display(HTML(loading_bar_html))\n",
    "# process = 0\n",
    "\n",
    "# for p_name in page_names:\n",
    "#     url = f\"https://fbref.com/en/comps/Big5/2022-2023/{p_name}/players/2022-2023-Big-5-European-Leagues-Stats\"\n",
    "#     scraped_data = pd.read_html(url)[0]\n",
    "#     try:\n",
    "#         scraped_data.columns = scraped_data.columns.get_level_values(1)\n",
    "#     except:\n",
    "#         pass\n",
    "#     progress = int((process + 1) / len(page_names) * 100)\n",
    "#     process+=1\n",
    "#     display(HTML(\"<script>updateProgressBar({})</script>\".format(progress)))\n",
    "#     scraped_data.to_csv(f\"../player_logs/Big5@22-23@{p_name}@players.csv\",index=False)"
   ]
  },
  {
   "cell_type": "markdown",
   "id": "f75a451e-ed19-437e-bd55-d1ff505613f3",
   "metadata": {
    "jp-MarkdownHeadingCollapsed": true
   },
   "source": [
    "<br>\n",
    "<h3 style=\"color:yellow;background:SteelBlue;\">  Passing</h3>"
   ]
  },
  {
   "cell_type": "code",
   "execution_count": 118,
   "id": "d3ae1a87-ba99-4584-967d-336605bd7825",
   "metadata": {},
   "outputs": [],
   "source": [
    "title = \"shooting\"\n",
    "pdf_csv_src = f\"../player_logs/Big5@22-23@{title}@players\"\n",
    "\n",
    "# shot_Volume\n",
    "pdf = pd.read_csv(f\"{pdf_csv_src}.csv\").dropna(axis=0)\n",
    "pdf[\"Att_Shot\"] = pd.to_numeric(pdf[\"Sh\"], errors='coerce')\n",
    "pdf[\"Shot/90\"] = pd.to_numeric(pdf[\"Att_Shot\"], errors='coerce') / pd.to_numeric(pdf[\"90s\"], errors='coerce')\n",
    "\n",
    "# shot_Accuracy\n",
    "pdf[\"Shot_Accuracy\"] = pd.to_numeric(pdf[\"SoT%\"], errors='coerce')\n",
    "\n",
    "pdf.to_csv(f\"{pdf_csv_src}@Trainable.csv\", index=False)"
   ]
  },
  {
   "cell_type": "markdown",
   "id": "4f5d8168-134f-455f-9914-e69234da2f83",
   "metadata": {
    "jp-MarkdownHeadingCollapsed": true
   },
   "source": [
    "<br>\n",
    "<h3  style=\"color:yellow;background:SteelBlue;\">  Shooting</h3>"
   ]
  },
  {
   "cell_type": "code",
   "execution_count": 119,
   "id": "18a7b6ff-41ee-4e5f-bac2-bd301c4a4fba",
   "metadata": {},
   "outputs": [],
   "source": [
    "title = \"passing\"\n",
    "pdf_csv_src = f\"../player_logs/Big5@22-23@{title}@players\"\n",
    "\n",
    "# pass_Volume\n",
    "pdf = pd.read_csv(f\"{pdf_csv_src}.csv\").dropna(axis=0)\n",
    "pdf[\"Att_Pass\"] = pd.to_numeric(pdf[\"Att.1\"], errors='coerce')\n",
    "pdf[\"Pass/90\"] = pd.to_numeric(pdf[\"Att_Pass\"], errors='coerce') / pd.to_numeric(pdf[\"90s\"], errors='coerce')\n",
    "\n",
    "# pass_Accuracy\n",
    "pdf[\"Pass_Accuracy\"] = pd.to_numeric(pdf[\"Cmp%.1\"], errors='coerce')\n",
    "\n",
    "pdf.to_csv(f\"{pdf_csv_src}@Trainable.csv\", index=False)"
   ]
  },
  {
   "cell_type": "markdown",
   "id": "37a97519-56ec-4b8d-a015-baab51d59c7d",
   "metadata": {},
   "source": [
    "<br>\n",
    "<h3  style=\"color:yellow;background:SteelBlue;\">  Possession</h3>"
   ]
  },
  {
   "cell_type": "code",
   "execution_count": 127,
   "id": "c249e29e-cf39-4ed8-8980-ece91cce9307",
   "metadata": {},
   "outputs": [],
   "source": [
    "title = \"possession\"\n",
    "pdf_csv_src = f\"../player_logs/Big5@22-23@{title}@players\"\n",
    "\n",
    "# pass_Volume\n",
    "pdf = pd.read_csv(f\"{pdf_csv_src}.csv\").dropna(axis=0)\n",
    "pdf[\"Att_Dribble\"] = pd.to_numeric(pdf[\"Att\"], errors='coerce')\n",
    "pdf[\"Dribble/90\"] = pd.to_numeric(pdf[\"Att_Dribble\"], errors='coerce') / pd.to_numeric(pdf[\"90s\"], errors='coerce')\n",
    "\n",
    "# pass_Accuracy\n",
    "pdf[\"Dribble_Accuracy\"] = pd.to_numeric(pdf[\"Succ%\"], errors='coerce')\n",
    "\n",
    "pdf.to_csv(f\"{pdf_csv_src}@Trainable.csv\", index=False)"
   ]
  },
  {
   "cell_type": "code",
   "execution_count": 133,
   "id": "890b4e99-72ff-48e0-b3ba-78a2192912b5",
   "metadata": {},
   "outputs": [],
   "source": [
    "title = \"possession\"\n",
    "pdf_csv_src = f\"../player_logs/Big5@22-23@{title}@players@Trainable.csv\"\n",
    "# pd.read_csv(pdf_csv_src)"
   ]
  },
  {
   "cell_type": "code",
   "execution_count": 135,
   "id": "83d760b4-2b55-4377-a17f-5fb6869e62d1",
   "metadata": {},
   "outputs": [
    {
     "ename": "FileNotFoundError",
     "evalue": "[Errno 2] No such file or directory: 'filter_max'",
     "output_type": "error",
     "traceback": [
      "\u001b[1;31m---------------------------------------------------------------------------\u001b[0m",
      "\u001b[1;31mFileNotFoundError\u001b[0m                         Traceback (most recent call last)",
      "Cell \u001b[1;32mIn[135], line 1\u001b[0m\n\u001b[1;32m----> 1\u001b[0m Prepare_Action_Player_Volume_Accuracy_Regression_Data(\u001b[38;5;241m*\u001b[39mloop)\n",
      "Cell \u001b[1;32mIn[60], line 2\u001b[0m, in \u001b[0;36mPrepare_Action_Player_Volume_Accuracy_Regression_Data\u001b[1;34m(players_df, csv_file, filter_column, filter_value, target_variable, target_volume, top_playersN, top_colsN, fm_attributes, gk_excluded)\u001b[0m\n\u001b[0;32m      1\u001b[0m \u001b[38;5;28;01mdef\u001b[39;00m \u001b[38;5;21mPrepare_Action_Player_Volume_Accuracy_Regression_Data\u001b[39m(players_df, csv_file, filter_column, filter_value, target_variable, target_volume\u001b[38;5;241m=\u001b[39m\u001b[38;5;28;01mNone\u001b[39;00m, top_playersN\u001b[38;5;241m=\u001b[39m\u001b[38;5;28;01mNone\u001b[39;00m, top_colsN\u001b[38;5;241m=\u001b[39m\u001b[38;5;28;01mNone\u001b[39;00m, fm_attributes\u001b[38;5;241m=\u001b[39m\u001b[38;5;28;01mNone\u001b[39;00m, gk_excluded\u001b[38;5;241m=\u001b[39m\u001b[38;5;28;01mNone\u001b[39;00m):\n\u001b[1;32m----> 2\u001b[0m     fb2_raw \u001b[38;5;241m=\u001b[39m pd\u001b[38;5;241m.\u001b[39mread_csv(csv_file)\n\u001b[0;32m      3\u001b[0m     fb2_raw[filter_column] \u001b[38;5;241m=\u001b[39m pd\u001b[38;5;241m.\u001b[39mto_numeric(fb2_raw[filter_column], errors\u001b[38;5;241m=\u001b[39m\u001b[38;5;124m\"\u001b[39m\u001b[38;5;124mcoerce\u001b[39m\u001b[38;5;124m\"\u001b[39m)\n\u001b[0;32m      4\u001b[0m     fb2_raw[target_variable] \u001b[38;5;241m=\u001b[39m pd\u001b[38;5;241m.\u001b[39mto_numeric(fb2_raw[target_variable], errors\u001b[38;5;241m=\u001b[39m\u001b[38;5;124m\"\u001b[39m\u001b[38;5;124mcoerce\u001b[39m\u001b[38;5;124m\"\u001b[39m)\n",
      "File \u001b[1;32m~\\anaconda3\\Lib\\site-packages\\pandas\\util\\_decorators.py:211\u001b[0m, in \u001b[0;36mdeprecate_kwarg.<locals>._deprecate_kwarg.<locals>.wrapper\u001b[1;34m(*args, **kwargs)\u001b[0m\n\u001b[0;32m    209\u001b[0m     \u001b[38;5;28;01melse\u001b[39;00m:\n\u001b[0;32m    210\u001b[0m         kwargs[new_arg_name] \u001b[38;5;241m=\u001b[39m new_arg_value\n\u001b[1;32m--> 211\u001b[0m \u001b[38;5;28;01mreturn\u001b[39;00m func(\u001b[38;5;241m*\u001b[39margs, \u001b[38;5;241m*\u001b[39m\u001b[38;5;241m*\u001b[39mkwargs)\n",
      "File \u001b[1;32m~\\anaconda3\\Lib\\site-packages\\pandas\\util\\_decorators.py:331\u001b[0m, in \u001b[0;36mdeprecate_nonkeyword_arguments.<locals>.decorate.<locals>.wrapper\u001b[1;34m(*args, **kwargs)\u001b[0m\n\u001b[0;32m    325\u001b[0m \u001b[38;5;28;01mif\u001b[39;00m \u001b[38;5;28mlen\u001b[39m(args) \u001b[38;5;241m>\u001b[39m num_allow_args:\n\u001b[0;32m    326\u001b[0m     warnings\u001b[38;5;241m.\u001b[39mwarn(\n\u001b[0;32m    327\u001b[0m         msg\u001b[38;5;241m.\u001b[39mformat(arguments\u001b[38;5;241m=\u001b[39m_format_argument_list(allow_args)),\n\u001b[0;32m    328\u001b[0m         \u001b[38;5;167;01mFutureWarning\u001b[39;00m,\n\u001b[0;32m    329\u001b[0m         stacklevel\u001b[38;5;241m=\u001b[39mfind_stack_level(),\n\u001b[0;32m    330\u001b[0m     )\n\u001b[1;32m--> 331\u001b[0m \u001b[38;5;28;01mreturn\u001b[39;00m func(\u001b[38;5;241m*\u001b[39margs, \u001b[38;5;241m*\u001b[39m\u001b[38;5;241m*\u001b[39mkwargs)\n",
      "File \u001b[1;32m~\\anaconda3\\Lib\\site-packages\\pandas\\io\\parsers\\readers.py:950\u001b[0m, in \u001b[0;36mread_csv\u001b[1;34m(filepath_or_buffer, sep, delimiter, header, names, index_col, usecols, squeeze, prefix, mangle_dupe_cols, dtype, engine, converters, true_values, false_values, skipinitialspace, skiprows, skipfooter, nrows, na_values, keep_default_na, na_filter, verbose, skip_blank_lines, parse_dates, infer_datetime_format, keep_date_col, date_parser, dayfirst, cache_dates, iterator, chunksize, compression, thousands, decimal, lineterminator, quotechar, quoting, doublequote, escapechar, comment, encoding, encoding_errors, dialect, error_bad_lines, warn_bad_lines, on_bad_lines, delim_whitespace, low_memory, memory_map, float_precision, storage_options)\u001b[0m\n\u001b[0;32m    935\u001b[0m kwds_defaults \u001b[38;5;241m=\u001b[39m _refine_defaults_read(\n\u001b[0;32m    936\u001b[0m     dialect,\n\u001b[0;32m    937\u001b[0m     delimiter,\n\u001b[1;32m   (...)\u001b[0m\n\u001b[0;32m    946\u001b[0m     defaults\u001b[38;5;241m=\u001b[39m{\u001b[38;5;124m\"\u001b[39m\u001b[38;5;124mdelimiter\u001b[39m\u001b[38;5;124m\"\u001b[39m: \u001b[38;5;124m\"\u001b[39m\u001b[38;5;124m,\u001b[39m\u001b[38;5;124m\"\u001b[39m},\n\u001b[0;32m    947\u001b[0m )\n\u001b[0;32m    948\u001b[0m kwds\u001b[38;5;241m.\u001b[39mupdate(kwds_defaults)\n\u001b[1;32m--> 950\u001b[0m \u001b[38;5;28;01mreturn\u001b[39;00m _read(filepath_or_buffer, kwds)\n",
      "File \u001b[1;32m~\\anaconda3\\Lib\\site-packages\\pandas\\io\\parsers\\readers.py:605\u001b[0m, in \u001b[0;36m_read\u001b[1;34m(filepath_or_buffer, kwds)\u001b[0m\n\u001b[0;32m    602\u001b[0m _validate_names(kwds\u001b[38;5;241m.\u001b[39mget(\u001b[38;5;124m\"\u001b[39m\u001b[38;5;124mnames\u001b[39m\u001b[38;5;124m\"\u001b[39m, \u001b[38;5;28;01mNone\u001b[39;00m))\n\u001b[0;32m    604\u001b[0m \u001b[38;5;66;03m# Create the parser.\u001b[39;00m\n\u001b[1;32m--> 605\u001b[0m parser \u001b[38;5;241m=\u001b[39m TextFileReader(filepath_or_buffer, \u001b[38;5;241m*\u001b[39m\u001b[38;5;241m*\u001b[39mkwds)\n\u001b[0;32m    607\u001b[0m \u001b[38;5;28;01mif\u001b[39;00m chunksize \u001b[38;5;129;01mor\u001b[39;00m iterator:\n\u001b[0;32m    608\u001b[0m     \u001b[38;5;28;01mreturn\u001b[39;00m parser\n",
      "File \u001b[1;32m~\\anaconda3\\Lib\\site-packages\\pandas\\io\\parsers\\readers.py:1442\u001b[0m, in \u001b[0;36mTextFileReader.__init__\u001b[1;34m(self, f, engine, **kwds)\u001b[0m\n\u001b[0;32m   1439\u001b[0m     \u001b[38;5;28mself\u001b[39m\u001b[38;5;241m.\u001b[39moptions[\u001b[38;5;124m\"\u001b[39m\u001b[38;5;124mhas_index_names\u001b[39m\u001b[38;5;124m\"\u001b[39m] \u001b[38;5;241m=\u001b[39m kwds[\u001b[38;5;124m\"\u001b[39m\u001b[38;5;124mhas_index_names\u001b[39m\u001b[38;5;124m\"\u001b[39m]\n\u001b[0;32m   1441\u001b[0m \u001b[38;5;28mself\u001b[39m\u001b[38;5;241m.\u001b[39mhandles: IOHandles \u001b[38;5;241m|\u001b[39m \u001b[38;5;28;01mNone\u001b[39;00m \u001b[38;5;241m=\u001b[39m \u001b[38;5;28;01mNone\u001b[39;00m\n\u001b[1;32m-> 1442\u001b[0m \u001b[38;5;28mself\u001b[39m\u001b[38;5;241m.\u001b[39m_engine \u001b[38;5;241m=\u001b[39m \u001b[38;5;28mself\u001b[39m\u001b[38;5;241m.\u001b[39m_make_engine(f, \u001b[38;5;28mself\u001b[39m\u001b[38;5;241m.\u001b[39mengine)\n",
      "File \u001b[1;32m~\\anaconda3\\Lib\\site-packages\\pandas\\io\\parsers\\readers.py:1735\u001b[0m, in \u001b[0;36mTextFileReader._make_engine\u001b[1;34m(self, f, engine)\u001b[0m\n\u001b[0;32m   1733\u001b[0m     \u001b[38;5;28;01mif\u001b[39;00m \u001b[38;5;124m\"\u001b[39m\u001b[38;5;124mb\u001b[39m\u001b[38;5;124m\"\u001b[39m \u001b[38;5;129;01mnot\u001b[39;00m \u001b[38;5;129;01min\u001b[39;00m mode:\n\u001b[0;32m   1734\u001b[0m         mode \u001b[38;5;241m+\u001b[39m\u001b[38;5;241m=\u001b[39m \u001b[38;5;124m\"\u001b[39m\u001b[38;5;124mb\u001b[39m\u001b[38;5;124m\"\u001b[39m\n\u001b[1;32m-> 1735\u001b[0m \u001b[38;5;28mself\u001b[39m\u001b[38;5;241m.\u001b[39mhandles \u001b[38;5;241m=\u001b[39m get_handle(\n\u001b[0;32m   1736\u001b[0m     f,\n\u001b[0;32m   1737\u001b[0m     mode,\n\u001b[0;32m   1738\u001b[0m     encoding\u001b[38;5;241m=\u001b[39m\u001b[38;5;28mself\u001b[39m\u001b[38;5;241m.\u001b[39moptions\u001b[38;5;241m.\u001b[39mget(\u001b[38;5;124m\"\u001b[39m\u001b[38;5;124mencoding\u001b[39m\u001b[38;5;124m\"\u001b[39m, \u001b[38;5;28;01mNone\u001b[39;00m),\n\u001b[0;32m   1739\u001b[0m     compression\u001b[38;5;241m=\u001b[39m\u001b[38;5;28mself\u001b[39m\u001b[38;5;241m.\u001b[39moptions\u001b[38;5;241m.\u001b[39mget(\u001b[38;5;124m\"\u001b[39m\u001b[38;5;124mcompression\u001b[39m\u001b[38;5;124m\"\u001b[39m, \u001b[38;5;28;01mNone\u001b[39;00m),\n\u001b[0;32m   1740\u001b[0m     memory_map\u001b[38;5;241m=\u001b[39m\u001b[38;5;28mself\u001b[39m\u001b[38;5;241m.\u001b[39moptions\u001b[38;5;241m.\u001b[39mget(\u001b[38;5;124m\"\u001b[39m\u001b[38;5;124mmemory_map\u001b[39m\u001b[38;5;124m\"\u001b[39m, \u001b[38;5;28;01mFalse\u001b[39;00m),\n\u001b[0;32m   1741\u001b[0m     is_text\u001b[38;5;241m=\u001b[39mis_text,\n\u001b[0;32m   1742\u001b[0m     errors\u001b[38;5;241m=\u001b[39m\u001b[38;5;28mself\u001b[39m\u001b[38;5;241m.\u001b[39moptions\u001b[38;5;241m.\u001b[39mget(\u001b[38;5;124m\"\u001b[39m\u001b[38;5;124mencoding_errors\u001b[39m\u001b[38;5;124m\"\u001b[39m, \u001b[38;5;124m\"\u001b[39m\u001b[38;5;124mstrict\u001b[39m\u001b[38;5;124m\"\u001b[39m),\n\u001b[0;32m   1743\u001b[0m     storage_options\u001b[38;5;241m=\u001b[39m\u001b[38;5;28mself\u001b[39m\u001b[38;5;241m.\u001b[39moptions\u001b[38;5;241m.\u001b[39mget(\u001b[38;5;124m\"\u001b[39m\u001b[38;5;124mstorage_options\u001b[39m\u001b[38;5;124m\"\u001b[39m, \u001b[38;5;28;01mNone\u001b[39;00m),\n\u001b[0;32m   1744\u001b[0m )\n\u001b[0;32m   1745\u001b[0m \u001b[38;5;28;01massert\u001b[39;00m \u001b[38;5;28mself\u001b[39m\u001b[38;5;241m.\u001b[39mhandles \u001b[38;5;129;01mis\u001b[39;00m \u001b[38;5;129;01mnot\u001b[39;00m \u001b[38;5;28;01mNone\u001b[39;00m\n\u001b[0;32m   1746\u001b[0m f \u001b[38;5;241m=\u001b[39m \u001b[38;5;28mself\u001b[39m\u001b[38;5;241m.\u001b[39mhandles\u001b[38;5;241m.\u001b[39mhandle\n",
      "File \u001b[1;32m~\\anaconda3\\Lib\\site-packages\\pandas\\io\\common.py:856\u001b[0m, in \u001b[0;36mget_handle\u001b[1;34m(path_or_buf, mode, encoding, compression, memory_map, is_text, errors, storage_options)\u001b[0m\n\u001b[0;32m    851\u001b[0m \u001b[38;5;28;01melif\u001b[39;00m \u001b[38;5;28misinstance\u001b[39m(handle, \u001b[38;5;28mstr\u001b[39m):\n\u001b[0;32m    852\u001b[0m     \u001b[38;5;66;03m# Check whether the filename is to be opened in binary mode.\u001b[39;00m\n\u001b[0;32m    853\u001b[0m     \u001b[38;5;66;03m# Binary mode does not support 'encoding' and 'newline'.\u001b[39;00m\n\u001b[0;32m    854\u001b[0m     \u001b[38;5;28;01mif\u001b[39;00m ioargs\u001b[38;5;241m.\u001b[39mencoding \u001b[38;5;129;01mand\u001b[39;00m \u001b[38;5;124m\"\u001b[39m\u001b[38;5;124mb\u001b[39m\u001b[38;5;124m\"\u001b[39m \u001b[38;5;129;01mnot\u001b[39;00m \u001b[38;5;129;01min\u001b[39;00m ioargs\u001b[38;5;241m.\u001b[39mmode:\n\u001b[0;32m    855\u001b[0m         \u001b[38;5;66;03m# Encoding\u001b[39;00m\n\u001b[1;32m--> 856\u001b[0m         handle \u001b[38;5;241m=\u001b[39m \u001b[38;5;28mopen\u001b[39m(\n\u001b[0;32m    857\u001b[0m             handle,\n\u001b[0;32m    858\u001b[0m             ioargs\u001b[38;5;241m.\u001b[39mmode,\n\u001b[0;32m    859\u001b[0m             encoding\u001b[38;5;241m=\u001b[39mioargs\u001b[38;5;241m.\u001b[39mencoding,\n\u001b[0;32m    860\u001b[0m             errors\u001b[38;5;241m=\u001b[39merrors,\n\u001b[0;32m    861\u001b[0m             newline\u001b[38;5;241m=\u001b[39m\u001b[38;5;124m\"\u001b[39m\u001b[38;5;124m\"\u001b[39m,\n\u001b[0;32m    862\u001b[0m         )\n\u001b[0;32m    863\u001b[0m     \u001b[38;5;28;01melse\u001b[39;00m:\n\u001b[0;32m    864\u001b[0m         \u001b[38;5;66;03m# Binary mode\u001b[39;00m\n\u001b[0;32m    865\u001b[0m         handle \u001b[38;5;241m=\u001b[39m \u001b[38;5;28mopen\u001b[39m(handle, ioargs\u001b[38;5;241m.\u001b[39mmode)\n",
      "\u001b[1;31mFileNotFoundError\u001b[0m: [Errno 2] No such file or directory: 'filter_max'"
     ]
    }
   ],
   "source": [
    "Prepare_Action_Player_Volume_Accuracy_Regression_Data(*loop)"
   ]
  },
  {
   "cell_type": "markdown",
   "id": "c4b1a197-3cc4-4033-b6d6-6c0e31c37d67",
   "metadata": {
    "jp-MarkdownHeadingCollapsed": true
   },
   "source": [
    "<br><br><br><br><br><br><br><br>\n",
    "<h2 style=\"color:lightgreen;background:blue;\">Action Player Volume & Accuracy Regression</h2>"
   ]
  },
  {
   "cell_type": "code",
   "execution_count": 60,
   "id": "25fb9914-a017-495a-a855-8f291f9d33a6",
   "metadata": {},
   "outputs": [],
   "source": [
    "def Prepare_Action_Player_Volume_Accuracy_Regression_Data(players_df, csv_file, filter_column, filter_value, target_variable, target_volume=None, top_playersN=None, top_colsN=None, fm_attributes=None, gk_excluded=None):\n",
    "    fb2_raw = pd.read_csv(csv_file)\n",
    "    fb2_raw[filter_column] = pd.to_numeric(fb2_raw[filter_column], errors=\"coerce\")\n",
    "    fb2_raw[target_variable] = pd.to_numeric(fb2_raw[target_variable], errors=\"coerce\")\n",
    "    fb2_raw[target_volume] = pd.to_numeric(fb2_raw[target_volume], errors=\"coerce\")\n",
    "    fb2 = fb2_raw[fb2_raw[filter_column] > filter_value]\n",
    "    \n",
    "    if target_volume:\n",
    "        fb_actions = fb2.sort_values(by=target_variable, ascending=False)[[\"Pos\",\"Squad\",\"Player\",target_volume,target_variable]]\n",
    "    else:\n",
    "        fb_actions = fb2.sort_values(by=target_variable, ascending=False)[[\"Pos\",\"Squad\",\"Player\",target_volume,target_variable]]\n",
    "        \n",
    "    fb_actions[\"Pos\"] = fb_actions[\"Pos\"].apply(lambda row: row.split(\",\")[0])\n",
    "    merged_df_raw = pd.merge(players_df, fb_actions, how=\"inner\", left_on=\"Name\", right_on=\"Player\", suffixes=(\"\",\"_fb\"))\n",
    "    \n",
    "    if gk_excluded:\n",
    "        merged_df = merged_df_raw[merged_df_raw[\"Best_Pos\"] != \"GK\"]\n",
    "    else:\n",
    "        merged_df = merged_df_raw\n",
    "        \n",
    "    top_players = merged_df.sort_values(by=target_variable, ascending=False).head(top_playersN)\n",
    "    position_mean = top_players[\"Pos_Rank_Average\"].mean()\n",
    "    top_attributes = top_players[fm_attributes].mean().sort_values(ascending=False).head(top_colsN).index\n",
    "    \n",
    "    return {\n",
    "        \"zero\": 0,\n",
    "        \"target\": target_variable,\n",
    "        \"raw_df\": fb2_raw,\n",
    "        \"df\": merged_df,\n",
    "        \"position_mean\": position_mean,\n",
    "        \"top_playersN\": top_playersN,\n",
    "        \"reg_cols\": np.concatenate((top_attributes, [\"Pos_Rank_Average\"], [\"tpr\",\"tpr_club\"])),\n",
    "    }"
   ]
  },
  {
   "cell_type": "code",
   "execution_count": 61,
   "id": "3c4e5f45-e1b4-4fde-8f90-8b30ce8b1848",
   "metadata": {},
   "outputs": [],
   "source": [
    "def Train_Model(df, reg_cols, target, test_size):\n",
    "    from sklearn.model_selection import train_test_split, GridSearchCV\n",
    "    from sklearn.ensemble import RandomForestRegressor\n",
    "    from sklearn.linear_model import LinearRegression \n",
    "    from sklearn.metrics import mean_squared_error, r2_score, mean_absolute_error\n",
    "\n",
    "    X = df[reg_cols]\n",
    "    y = df[target].astype(float)\n",
    "    \n",
    "    X_train, X_test, y_train, y_test = train_test_split(X, y, test_size=test_size, random_state=0)\n",
    "    model = LinearRegression()\n",
    "    model.fit(X_train, y_train)\n",
    "    y_pred_raw = model.predict(X_test)\n",
    "    y_pred = [max(0, pred) for pred in y_pred_raw]\n",
    "    \n",
    "    mse = mean_squared_error(y_test, y_pred)\n",
    "    mae = mean_absolute_error(y_test, y_pred)\n",
    "    r2 = r2_score(y_test, y_pred)\n",
    "    \n",
    "    return {\n",
    "        \"model\": model,\n",
    "        \"mse\": mse,\n",
    "        \"mae\": mae,\n",
    "        \"r2\": r2\n",
    "    }"
   ]
  },
  {
   "cell_type": "code",
   "execution_count": 62,
   "id": "8589467a-1794-463d-8829-557e6172c483",
   "metadata": {},
   "outputs": [],
   "source": [
    "def DictToPredictionDict(d: dict) -> pd.DataFrame:\n",
    "    rdict = {}\n",
    "    for k,v in d.items():\n",
    "        rdict[k] = [v]\n",
    "    return pd.DataFrame(rdict)\n",
    "\n",
    "def PlayerPredict(model, current_df, current_target, reg_cols, player_name, print_stats=False):\n",
    "    d0 = current_df.query(f\"Name == '{player_name}'\").iloc[0]\n",
    "    d1 = d0[reg_cols].to_dict()\n",
    "    d2 = DictToPredictionDict(d1)\n",
    "    \n",
    "    print(f\"Name:\\t\\t{d0['Name']}\")\n",
    "    print(f\"Pos_Rank_Avg:\\t{d0['Pos_Rank_Average']}\")\n",
    "    if print_stats:\n",
    "        print(f\"Real:\\t\\t{d0[current_target]}\")\n",
    "    prediction = max(0, model.predict(d2)[0])\n",
    "    print(f\"Prediction:\\t[{prediction}]\")\n",
    "    return prediction\n",
    "\n",
    "def Model_Predict(model, row, cols):\n",
    "    d1 = row[cols].to_dict()\n",
    "    d2 = DictToPredictionDict(d1)\n",
    "    prediction = max(0, model.predict(d2)[0])\n",
    "    return float(round(prediction, 2))"
   ]
  },
  {
   "cell_type": "markdown",
   "id": "2ea28db7-2ba3-4f76-9f15-c7a718ad6913",
   "metadata": {},
   "source": [
    "<br><br>"
   ]
  },
  {
   "cell_type": "markdown",
   "id": "797edd31-d5b3-4cd7-9951-549ce5b5b3d1",
   "metadata": {},
   "source": [
    "<br><br><br><br><br><br><br><br>\n",
    "<h2 style=\"color:black;background:LightSkyBlue;\">  Tuning </h2>"
   ]
  },
  {
   "cell_type": "code",
   "execution_count": 51,
   "id": "ed5e0412-58a0-4b1b-a519-2264723a1d11",
   "metadata": {},
   "outputs": [],
   "source": [
    "tf = pd.read_csv(\"../player_logs/Big5@22-23@passing@players.csv\")"
   ]
  },
  {
   "cell_type": "code",
   "execution_count": 56,
   "id": "92b1ce21-8965-4f09-af80-ab76080543a1",
   "metadata": {},
   "outputs": [
    {
     "data": {
      "text/plain": [
       "{'Rk': '1',\n",
       " 'Player': 'Brenden Aaronson',\n",
       " 'Nation': 'us USA',\n",
       " 'Pos': 'MF,FW',\n",
       " 'Squad': 'Leeds United',\n",
       " 'Comp': 'eng Premier League',\n",
       " 'Age': '21',\n",
       " 'Born': '2000',\n",
       " '90s': '26.4',\n",
       " 'Cmp': '592',\n",
       " 'Att': '797',\n",
       " 'Cmp%': '74.3',\n",
       " 'TotDist': '7577',\n",
       " 'PrgDist': '2182',\n",
       " 'Cmp.1': '346',\n",
       " 'Att.1': '423',\n",
       " 'Cmp%.1': '81.8',\n",
       " 'Cmp.2': '150',\n",
       " 'Att.2': '195',\n",
       " 'Cmp%.2': '76.9',\n",
       " 'Cmp.3': '25',\n",
       " 'Att.3': '65',\n",
       " 'Cmp%.3': '38.5',\n",
       " 'Ast': '3',\n",
       " 'xAG': '4.2',\n",
       " 'xA': '2.6',\n",
       " 'A-xAG': '-1.2',\n",
       " 'KP': '46',\n",
       " '1/3': '47',\n",
       " 'PPA': '16',\n",
       " 'CrsPA': '4',\n",
       " 'PrgP': '86',\n",
       " 'Matches': 'Matches'}"
      ]
     },
     "execution_count": 56,
     "metadata": {},
     "output_type": "execute_result"
    }
   ],
   "source": [
    "tf.iloc[0].to_dict()"
   ]
  },
  {
   "cell_type": "code",
   "execution_count": 55,
   "id": "0403d659-79d2-46a7-9563-107f9a21c71f",
   "metadata": {},
   "outputs": [
    {
     "name": "stderr",
     "output_type": "stream",
     "text": [
      "\n",
      "KeyboardInterrupt\n",
      "\n"
     ]
    }
   ],
   "source": [
    "loop = {\n",
    "    \"filter_min\":900,\n",
    "    \"filter_max\":1800,\n",
    "    \"filter_step\":100,\n",
    "    \"target_variable\":\"Att.1\",\n",
    "    \"target_volume\":\"Att\",\n",
    "    \"csv_file\":\"../player_logs/Big5@22-23@passing@players.csv\",\n",
    "    # \"csv_file\":\"data/Big5@Players@Passing@2022_2023.csv\",\n",
    "    \"filter_column\":\"Att\",\n",
    "    \"gk_excluded\":False\n",
    "}\n",
    "\n",
    "with open(\"data/models_hyperparam.txt\", \"w\", encoding=\"utf-8\") as f:\n",
    "    f.truncate(0)\n",
    "    \n",
    "mae = 100\n",
    "target_variable = loop[\"target_variable\"]\n",
    "target_volume = loop[\"target_volume\"]\n",
    "csv_file = loop[\"csv_file\"]\n",
    "filter_column = loop[\"filter_column\"]\n",
    "gk_excluded = loop[\"gk_excluded\"]\n",
    "range_df = pd.read_csv(csv_file)\n",
    "filter_min = loop[\"filter_min\"]\n",
    "filter_max = loop[\"filter_max\"]\n",
    "filter_step = loop[\"filter_step\"]\n",
    "\n",
    "for filter_value in range(filter_min, filter_max, filter_step):\n",
    "    for top_playersN in range(20, 100, 10):\n",
    "        for top_colsN in range(10, len(fm_attributes), 3):\n",
    "            prep_by = Prepare_Action_Player_Volume_Accuracy_Regression_Data(\n",
    "                players_df,\n",
    "                csv_file=csv_file,\n",
    "                filter_column=filter_column,\n",
    "                filter_value=filter_value,\n",
    "                target_variable=target_variable,\n",
    "                target_volume=target_volume,\n",
    "                top_playersN=top_playersN,\n",
    "                top_colsN=top_colsN,\n",
    "                fm_attributes=fm_attributes,\n",
    "                gk_excluded=gk_excluded\n",
    "            )\n",
    "            \n",
    "            chosen_dict = {\n",
    "                \"df\": prep_by[\"df\"],\n",
    "                \"reg_cols\": prep_by[\"reg_cols\"],\n",
    "                \"target\": prep_by[\"target\"],\n",
    "            }\n",
    "            \n",
    "            current_df = pd.merge(team_df, chosen_dict[\"df\"], how=\"inner\", left_on=\"fbref_name\", right_on=\"Squad\", suffixes=(\"_club\",\"\"))\n",
    "            for num in range(10,10+1):\n",
    "                test_size = round(num/100, 2)\n",
    "                this_mae = Train_Model(current_df, chosen_dict[\"reg_cols\"], chosen_dict[\"target\"], test_size)[\"mae\"]\n",
    "                if this_mae < mae:\n",
    "                    mae = this_mae\n",
    "                    best_result = (target_variable, filter_value, top_playersN, top_colsN, test_size, mae)\n",
    "                    markdown_str = f\"\"\"\n",
    "                    | Target | Filter Value | Top Players N | Top Columns N | Test Size | Mean Absolute Error (MAE) |\n",
    "                    |--------|--------------|---------------|---------------|-----------|----------------------------|\n",
    "                    | {best_result[0]} | {best_result[1]} | {best_result[2]} | {best_result[3]} | {best_result[4]} | {best_result[5]} |\n",
    "                    \"\"\"\n",
    "                    with open(\"data/models_hyperparam.txt\", \"a\", encoding=\"utf-8\") as f:\n",
    "                        f.write(markdown_str)\n",
    "                        f.write(\"\\n\\n\")"
   ]
  },
  {
   "cell_type": "code",
   "execution_count": null,
   "id": "c800fbb6-6a4c-4b35-b6bb-b925c474e520",
   "metadata": {},
   "outputs": [],
   "source": []
  },
  {
   "cell_type": "markdown",
   "id": "e0d64f36-fe14-444a-8deb-cee54a24f244",
   "metadata": {
    "jp-MarkdownHeadingCollapsed": true
   },
   "source": [
    "<br><br><br><br><br><br><br><br>\n",
    "<h2 style=\"color:aqua;background:yellow;\">  Creating Models</h2>"
   ]
  },
  {
   "cell_type": "code",
   "execution_count": 121,
   "id": "d3e81a91-b365-45d3-81d8-ff5629a03a0b",
   "metadata": {},
   "outputs": [
    {
     "data": {
      "text/html": [
       "<div>\n",
       "<style scoped>\n",
       "    .dataframe tbody tr th:only-of-type {\n",
       "        vertical-align: middle;\n",
       "    }\n",
       "\n",
       "    .dataframe tbody tr th {\n",
       "        vertical-align: top;\n",
       "    }\n",
       "\n",
       "    .dataframe thead th {\n",
       "        text-align: right;\n",
       "    }\n",
       "</style>\n",
       "<table border=\"1\" class=\"dataframe\">\n",
       "  <thead>\n",
       "    <tr style=\"text-align: right;\">\n",
       "      <th></th>\n",
       "      <th>Title</th>\n",
       "      <th>csv_file</th>\n",
       "      <th>gk_excluded</th>\n",
       "      <th>filter_column</th>\n",
       "      <th>filter_value</th>\n",
       "      <th>top_playersN</th>\n",
       "      <th>top_colsN</th>\n",
       "      <th>test_size</th>\n",
       "      <th>MAE</th>\n",
       "      <th>target_variable</th>\n",
       "      <th>target_volume</th>\n",
       "    </tr>\n",
       "  </thead>\n",
       "  <tbody>\n",
       "    <tr>\n",
       "      <th>0</th>\n",
       "      <td>pass_Volume</td>\n",
       "      <td>Big5@Players@Passing@2022_2023.csv</td>\n",
       "      <td>False</td>\n",
       "      <td>90s</td>\n",
       "      <td>21</td>\n",
       "      <td>60</td>\n",
       "      <td>46</td>\n",
       "      <td>0.20</td>\n",
       "      <td>6553.000</td>\n",
       "      <td>Pass/90</td>\n",
       "      <td>Att</td>\n",
       "    </tr>\n",
       "    <tr>\n",
       "      <th>1</th>\n",
       "      <td>shot_Volume</td>\n",
       "      <td>Big5@Players@Shooting@2022_2023.csv</td>\n",
       "      <td>True</td>\n",
       "      <td>90s</td>\n",
       "      <td>21</td>\n",
       "      <td>30</td>\n",
       "      <td>10</td>\n",
       "      <td>0.11</td>\n",
       "      <td>0.262</td>\n",
       "      <td>Sh/90</td>\n",
       "      <td>Sh</td>\n",
       "    </tr>\n",
       "    <tr>\n",
       "      <th>2</th>\n",
       "      <td>dribble_Volume</td>\n",
       "      <td>Big5@Players@Dribbling@2022_2023.csv</td>\n",
       "      <td>True</td>\n",
       "      <td>90s</td>\n",
       "      <td>15</td>\n",
       "      <td>70</td>\n",
       "      <td>10</td>\n",
       "      <td>0.13</td>\n",
       "      <td>0.562</td>\n",
       "      <td>Dribble/90</td>\n",
       "      <td>Att</td>\n",
       "    </tr>\n",
       "    <tr>\n",
       "      <th>3</th>\n",
       "      <td>pass_Accuracy</td>\n",
       "      <td>Big5@Players@Passing@2022_2023.csv</td>\n",
       "      <td>False</td>\n",
       "      <td>Att</td>\n",
       "      <td>1700</td>\n",
       "      <td>20</td>\n",
       "      <td>43</td>\n",
       "      <td>0.11</td>\n",
       "      <td>2700.000</td>\n",
       "      <td>Pass_Accuracy</td>\n",
       "      <td>Att</td>\n",
       "    </tr>\n",
       "    <tr>\n",
       "      <th>4</th>\n",
       "      <td>shot_Accuracy</td>\n",
       "      <td>Big5@Players@Shooting@2022_2023.csv</td>\n",
       "      <td>True</td>\n",
       "      <td>Sh</td>\n",
       "      <td>39</td>\n",
       "      <td>80</td>\n",
       "      <td>19</td>\n",
       "      <td>0.10</td>\n",
       "      <td>4712.000</td>\n",
       "      <td>Shot_Accuracy</td>\n",
       "      <td>Sh</td>\n",
       "    </tr>\n",
       "    <tr>\n",
       "      <th>5</th>\n",
       "      <td>dribble_Accuracy</td>\n",
       "      <td>Big5@Players@Dribbling@2022_2023.csv</td>\n",
       "      <td>True</td>\n",
       "      <td>Take-Ons</td>\n",
       "      <td>57</td>\n",
       "      <td>20</td>\n",
       "      <td>37</td>\n",
       "      <td>0.15</td>\n",
       "      <td>4888.000</td>\n",
       "      <td>Dribble_Accuracy</td>\n",
       "      <td>Take-Ons</td>\n",
       "    </tr>\n",
       "  </tbody>\n",
       "</table>\n",
       "</div>"
      ],
      "text/plain": [
       "              Title                              csv_file  gk_excluded  \\\n",
       "0       pass_Volume    Big5@Players@Passing@2022_2023.csv        False   \n",
       "1       shot_Volume   Big5@Players@Shooting@2022_2023.csv         True   \n",
       "2    dribble_Volume  Big5@Players@Dribbling@2022_2023.csv         True   \n",
       "3     pass_Accuracy    Big5@Players@Passing@2022_2023.csv        False   \n",
       "4     shot_Accuracy   Big5@Players@Shooting@2022_2023.csv         True   \n",
       "5  dribble_Accuracy  Big5@Players@Dribbling@2022_2023.csv         True   \n",
       "\n",
       "  filter_column  filter_value  top_playersN  top_colsN  test_size       MAE  \\\n",
       "0           90s            21            60         46       0.20  6553.000   \n",
       "1           90s            21            30         10       0.11     0.262   \n",
       "2           90s            15            70         10       0.13     0.562   \n",
       "3           Att          1700            20         43       0.11  2700.000   \n",
       "4            Sh            39            80         19       0.10  4712.000   \n",
       "5      Take-Ons            57            20         37       0.15  4888.000   \n",
       "\n",
       "    target_variable target_volume  \n",
       "0           Pass/90           Att  \n",
       "1             Sh/90            Sh  \n",
       "2        Dribble/90           Att  \n",
       "3     Pass_Accuracy           Att  \n",
       "4     Shot_Accuracy            Sh  \n",
       "5  Dribble_Accuracy      Take-Ons  "
      ]
     },
     "execution_count": 121,
     "metadata": {},
     "output_type": "execute_result"
    }
   ],
   "source": [
    "pd.read_excel(\"data/player_action_hyper.xlsx\")"
   ]
  },
  {
   "cell_type": "code",
   "execution_count": 64,
   "id": "36fd95f1-c86f-47bc-a2ea-c5126c5525b2",
   "metadata": {},
   "outputs": [],
   "source": [
    "def Create_Action_Model(action_title, team_df):\n",
    "    # action_title = \"Shooting_Volume\"\n",
    "    hyper_df = pd.read_excel(\"data/player_action_hyper.xlsx\")\n",
    "    title_df = hyper_df[hyper_df[\"Title\"]==action_title].iloc[0]\n",
    "    \n",
    "    prep_by = Prepare_Action_Player_Volume_Accuracy_Regression_Data(\n",
    "        players_df,\n",
    "        csv_file=\"data/\"+title_df[\"csv_file\"],\n",
    "        filter_column=title_df[\"filter_column\"],\n",
    "        filter_value=title_df[\"filter_value\"],\n",
    "        target_variable=title_df[\"target_variable\"],\n",
    "        target_volume=title_df[\"target_volume\"],\n",
    "        top_playersN=title_df[\"top_playersN\"],\n",
    "        top_colsN=title_df[\"top_colsN\"],\n",
    "        fm_attributes=fm_attributes,\n",
    "        gk_excluded=title_df[\"gk_excluded\"]\n",
    "    )\n",
    "    \n",
    "    chosen_dict = {\n",
    "        \"df\": prep_by[\"df\"],\n",
    "        \"raw_df\": prep_by[\"raw_df\"],\n",
    "        \"reg_cols\": prep_by[\"reg_cols\"],\n",
    "        \"target\": prep_by[\"target\"],\n",
    "        \"test_size\": title_df[\"test_size\"],\n",
    "    }\n",
    "    \n",
    "    current_df = pd.merge(team_df, chosen_dict[\"df\"], how=\"inner\", left_on=\"fbref_name\", right_on=\"Squad\", suffixes=(\"_club\",\"\"))\n",
    "    model = Train_Model(current_df, chosen_dict[\"reg_cols\"], chosen_dict[\"target\"], chosen_dict[\"test_size\"])[\"model\"]\n",
    "    return {\n",
    "        \"hyperparam_info_file\": hyper_df,\n",
    "        \"prep_data\": prep_by,\n",
    "        \"model\": model,\n",
    "        \"chosen_dict\": chosen_dict,\n",
    "        \"train_cols\": chosen_dict[\"reg_cols\"]\n",
    "    }"
   ]
  },
  {
   "cell_type": "code",
   "execution_count": 67,
   "id": "e128ea67-6214-4835-8ae9-b6cc547592fb",
   "metadata": {},
   "outputs": [],
   "source": [
    "# hyper_df = pd.read_excel(\"data/player_action_hyper.xlsx\")\n",
    "# players_df = pd.read_csv(\"../players_db/fm23/fm23db_processed.csv\")\n",
    "# team_df = pd.read_csv(\"../players_db/fm23/team_ratings.csv\")\n",
    "\n",
    "# all_df = pd.merge(team_df, players_df, how=\"inner\", left_on=\"Club\", right_on=\"Club\", suffixes=(\"_club\",\"\"))\n",
    "# for title in hyper_df[\"Title\"]:\n",
    "#     model = Create_Action_Model(title, team_df)[\"model\"]\n",
    "#     # Save_Model(\"_\", f\"./models/{title}_model\", model)\n",
    "#     # all_df[title] = all_df.apply(lambda row: Model_Predict(model, row, model.feature_names_in_), axis=1)\n",
    "#     # predicted_df = all_df[[title,\"tpr_club\",\"UID\"]]\n",
    "\n",
    "# output_cols = np.concatenate((players_df.columns, hyper_df[\"Title\"].tolist(), [\"tpr_club\"]))\n",
    "# all_df.loc[all_df['Best_Pos'] == 'GK', 'shot_Volume'] = 0\n",
    "# all_df.loc[all_df['Best_Pos'] == 'GK', 'dribble_Volume'] = 0\n",
    "# # all_df[output_cols].to_csv(\"../players_db/fm23/fm23db_processed_with_futsim_triple_models.csv\", index=False)\n",
    "\n",
    "# predicted_cols = hyper_df[\"Title\"].tolist()\n",
    "# test_team = LineupTPR(all_df, \"Manchester City\")[[\"Club\",\"Name\",\"Playing_Position\",\"Pos_Rank_Average\"] + predicted_cols] \\\n",
    "# .sort_values(\"Pos_Rank_Average\", ascending=False)\n",
    "# test_team[\"Shot_Weight_Prob\"] = test_team[\"shot_Volume\"] / test_team[\"shot_Volume\"].sum()"
   ]
  },
  {
   "cell_type": "markdown",
   "id": "78c2026f-b333-4212-a2a3-96164a2abd52",
   "metadata": {
    "jp-MarkdownHeadingCollapsed": true
   },
   "source": [
    "<br><br><br><br><br><br><br><br>\n",
    "<h2 style=\"color:aqua;background:purple;\">  Predictoria</h2>"
   ]
  },
  {
   "cell_type": "code",
   "execution_count": null,
   "id": "7b040967-80e6-4fb2-93f7-efadbe62b95e",
   "metadata": {},
   "outputs": [],
   "source": [
    "predicted_df = pd.read_csv(\"../players_db/fm23/fm23db_processed_with_futsim_triple_models.csv\")\n",
    "location_df = pd.read_csv(\"data/location_df.csv\")\n",
    "volume_formula_df = pd.read_csv(\"formulas/Attacking_Touches_volume_formula_df_hyper.csv\", index_col=0) # Attacking_Touches\n",
    "touches_triple_prob_df = pd.read_csv(\"data/touches_triple_prob.csv\")\n",
    "touches_triple_prob_df[\"Triple_Prob_Dict\"] = touches_triple_prob_df.Triple_Prob_Dict.apply(ast.literal_eval)"
   ]
  },
  {
   "cell_type": "code",
   "execution_count": null,
   "id": "89d4eefb-ba8b-41cd-aebc-9f2372c2da36",
   "metadata": {},
   "outputs": [],
   "source": [
    "pass_positional_location_df = pd.read_csv(\"../statsbomb/data/position_included_location_384_squared_ligue1_Pass.csv\").query(\"position!='ALL'\")\n",
    "shot_positional_location_df = pd.read_csv(\"../statsbomb/data/position_included_location_384_squared_ligue1_Shot.csv\").query(\"position!='ALL'\")\n",
    "dribble_positional_location_df = pd.read_csv(\"../statsbomb/data/position_included_location_384_squared_ligue1_Dribble.csv\").query(\"position!='ALL'\")\n",
    "positional_location_df = {\n",
    "    \"Pass\":pass_positional_location_df,\n",
    "    \"Shot\":shot_positional_location_df,\n",
    "    \"Dribble\":dribble_positional_location_df,\n",
    "}"
   ]
  },
  {
   "cell_type": "code",
   "execution_count": null,
   "id": "e83822d0-0902-4342-9c06-c1c26d53ba7c",
   "metadata": {},
   "outputs": [],
   "source": [
    "touches_df_raw_1 = pd.read_csv(\"../match_logs/Big5@22-23@attacking_touches.csv\")\n",
    "touches_df_raw_2 = pd.merge(touches_df_raw_1, team_df, left_on=\"Club\", right_on=\"Club\", how=\"inner\") \n",
    "touches_df = pd.merge(touches_df_raw_2, team_df, left_on=\"Opponent\", right_on=\"fbref_name\", how=\"inner\").dropna()"
   ]
  },
  {
   "cell_type": "markdown",
   "id": "30de244e-01f6-4afa-b804-0bae66a980e9",
   "metadata": {
    "jp-MarkdownHeadingCollapsed": true
   },
   "source": [
    "<br><br><br><br>\n",
    "### f()"
   ]
  },
  {
   "cell_type": "code",
   "execution_count": null,
   "id": "fe4ef9c0-cb99-4ec5-a447-50d17ef653ef",
   "metadata": {},
   "outputs": [],
   "source": [
    "fm_managerial_tactics = {\n",
    "    'Standard': {\"Pass\": 1.0, \"Shot\": 1.0, \"Dribble\": 1.0},\n",
    "    'Gegen - Direct': {\"Pass\": 1.2, \"Shot\": 1.0, \"Dribble\": 0.8},\n",
    "    'Gegen - High Tempo': {\"Pass\": 1.1, \"Shot\": 1.1, \"Dribble\": 0.9},\n",
    "    'Gegen - Slow Passing': {\"Pass\": 0.9, \"Shot\": 1.0, \"Dribble\": 1.0},\n",
    "    'Gegen - Wing Play': {\"Pass\": 1.3, \"Shot\": 1.0, \"Dribble\": 0.7},\n",
    "    \n",
    "    'Tiki Taka - Direct': {\"Pass\": 1.5, \"Shot\": 0.8, \"Dribble\": 0.8},\n",
    "    'Tiki Taka - High Tempo': {\"Pass\": 1.4, \"Shot\": 0.9, \"Dribble\": 0.8},\n",
    "    'Tiki Taka - Slow Passing': {\"Pass\": 1.6, \"Shot\": 0.7, \"Dribble\": 0.9},\n",
    "    'Tiki Taka - Wing Play': {\"Pass\": 1.7, \"Shot\": 0.6, \"Dribble\": 0.8},\n",
    "    \n",
    "    'Control - Direct': {\"Pass\": 1.1, \"Shot\": 1.0, \"Dribble\": 1.0},\n",
    "    'Control - High Tempo': {\"Pass\": 1.0, \"Shot\": 1.1, \"Dribble\": 1.0},\n",
    "    'Control - Slow Passing': {\"Pass\": 1.0, \"Shot\": 0.9, \"Dribble\": 1.1},\n",
    "    'Control - Wing Play': {\"Pass\": 1.2, \"Shot\": 1.0, \"Dribble\": 0.9},\n",
    "    \n",
    "    'Counter - Direct': {\"Pass\": 0.8, \"Shot\": 1.2, \"Dribble\": 1.0},\n",
    "    'Counter - High Tempo': {\"Pass\": 0.9, \"Shot\": 1.1, \"Dribble\": 1.1},\n",
    "    'Counter - Slow Passing': {\"Pass\": 0.7, \"Shot\": 1.0, \"Dribble\": 1.2},\n",
    "    'Counter - Wing Play': {\"Pass\": 0.8, \"Shot\": 1.3, \"Dribble\": 1.0},\n",
    "    \n",
    "    'Total Football - Direct': {\"Pass\": 1.2, \"Shot\": 1.2, \"Dribble\": 1.0},\n",
    "    'Total Football - High Tempo': {\"Pass\": 1.1, \"Shot\": 1.3, \"Dribble\": 1.0},\n",
    "    'Total Football - Slow Passing': {\"Pass\": 1.3, \"Shot\": 1.1, \"Dribble\": 0.9},\n",
    "    'Total Football - Wing Play': {\"Pass\": 1.4, \"Shot\": 1.0, \"Dribble\": 0.8},\n",
    "}\n",
    "\n",
    "selected_tactics = [\n",
    "    fm_managerial_tactics['Standard'],\n",
    "    fm_managerial_tactics['Counter - High Tempo'],\n",
    "    fm_managerial_tactics['Counter - Wing Play'],\n",
    "]"
   ]
  },
  {
   "cell_type": "code",
   "execution_count": null,
   "id": "a056c4da-f826-491f-b6ff-79a703593fea",
   "metadata": {},
   "outputs": [],
   "source": [
    "def Action_Volume_Predict_Randomnessed(attribute, formula_df, input_df):\n",
    "    custom_cols = list(formula_df.index)\n",
    "    coefficients = sum(formula_df.loc[:, f\"{attribute}_coef\"] * input_df[custom_cols].values)\n",
    "    result = (coefficients + formula_df.loc[:, f\"{attribute}_intercept\"])\n",
    "    randomnessed_result = result.iloc[0] - result.iloc[0] * (np.random.randint(-20, 20) / 100)\n",
    "    return max(0, int(result.iloc[0] / 90))"
   ]
  },
  {
   "cell_type": "code",
   "execution_count": null,
   "id": "3be7e9dc-8bc8-4333-ad54-58fa507a236e",
   "metadata": {},
   "outputs": [],
   "source": [
    "def Action_Volume_Predict(attribute, formula_df, input_df):\n",
    "    custom_cols = list(formula_df.index)\n",
    "    coefficients = sum(formula_df.loc[:, f\"{attribute}_coef\"] * input_df[custom_cols].values)\n",
    "    result = (coefficients + formula_df.loc[:, f\"{attribute}_intercept\"])\n",
    "    return max(0, int(result.iloc[0] / 90))"
   ]
  },
  {
   "cell_type": "code",
   "execution_count": null,
   "id": "27e8ce10-05ab-4cbd-80c9-07c224647813",
   "metadata": {},
   "outputs": [],
   "source": [
    "def Match_Team_Data(touches_df, Club_x, Club_y, chosen_side=0):\n",
    "    if chosen_side==0:\n",
    "        return touches_df.query(f\"Club_x=='{Club_x}' and Opponent=='{Club_y}'\").sort_values(\"Date\")\n",
    "    elif chosen_side==1:\n",
    "        return touches_df.query(f\"Club_x=='{Club_y}' and Opponent=='{Club_x}'\").sort_values(\"Date\")\n",
    "    return \"Not Found\""
   ]
  },
  {
   "cell_type": "code",
   "execution_count": null,
   "id": "44408847-2f09-47ed-9795-46fc0bd29633",
   "metadata": {},
   "outputs": [],
   "source": [
    "def Create_Match_Data(team_df, Club_x, Club_y, chosen_side=0):\n",
    "    x = team_df[team_df[\"Club\"] == Club_x]\n",
    "    y = team_df[team_df[\"Club\"] == Club_y]\n",
    "    if chosen_side == 0:\n",
    "        x = x.add_suffix('_x')\n",
    "        y = y.add_suffix('_y')\n",
    "        x[y.columns] = y.values\n",
    "        r = x\n",
    "    elif chosen_side == 1:\n",
    "        y = y.add_suffix('_x')\n",
    "        x = x.add_suffix('_y')\n",
    "        y[x.columns] = x.values\n",
    "        r = y\n",
    "    return r.iloc[0]"
   ]
  },
  {
   "cell_type": "code",
   "execution_count": null,
   "id": "95e7cad9-7777-477d-b140-48dde27fd7b0",
   "metadata": {},
   "outputs": [],
   "source": [
    "def Generate_Random_Match_Stats(predicted_df, positional_location_df, formula_df, input_df, club_name):\n",
    "    all_matches= []\n",
    "    shot_map = []\n",
    "    pass_map = []\n",
    "    dribble_map = []\n",
    "    \n",
    "    team = LineupTPR(predicted_df, club_name)\n",
    "    for action_type in [\"Pass\",\"Shot\",\"Dribble\"]:\n",
    "        team[f\"{action_type.lower()}_weight_prob\"] = team[f\"{action_type.lower()}_Volume\"] / team[f\"{action_type.lower()}_Volume\"].sum()\n",
    "    player_stats = {player: {\"Pass\": {\"total\": 0, \"locations\": []},\n",
    "                             \"Shot\": {\"total\": 0, \"locations\": []},\n",
    "                             \"Dribble\": {\"total\": 0, \"locations\": []}}\n",
    "                    for player in team[\"Name\"]}\n",
    "\n",
    "    match_data = {\"Club\": club_name, \"Pass\": 0, \"Shot\": 0, \"Dribble\": 0}\n",
    "    for minute in range(1, 90+1):\n",
    "        Touches = Action_Volume_Predict_Randomnessed(\"Attacking_Touches\", formula_df, input_df)\n",
    "        \n",
    "        for moment in range(Touches):\n",
    "            triple_actions = list(touches_triple_prob_df.iloc[77].Triple_Prob_Dict.keys())\n",
    "            triple_probs = list(touches_triple_prob_df.iloc[77].Triple_Prob_Dict.values())\n",
    "            action = np.random.choice(triple_actions, p=triple_probs)\n",
    "            action_player = np.random.choice(team[\"Name\"], p=team[f\"{action.lower()}_weight_prob\"])\n",
    "            action_player_pos = team.query(f\"Name == \\\"{action_player}\\\"\").iloc[0][\"Best_Pos\"]\n",
    "            \n",
    "            location_of_actions = positional_location_df[action].query(f\"position == '{action_player_pos}'\")\n",
    "            location_of_actions[\"prob\"] = location_of_actions[\"prob\"].fillna(0)\n",
    "\n",
    "            prob_sum = location_of_actions[\"prob\"].sum()\n",
    "            if prob_sum == 0:\n",
    "                #print(f\"Warning: Sum of probabilities for {action} by {action_player} is zero. Assigning equal probabilities.\")\n",
    "                num_locations = len(location_of_actions)\n",
    "                location_of_actions[\"prob\"] = np.ones(num_locations) / num_locations\n",
    "            else:\n",
    "                location_of_actions[\"prob\"] = location_of_actions[\"prob\"] / prob_sum\n",
    "\n",
    "            pitch_number = np.random.choice(location_of_actions[\"Pitch_Number\"], p=location_of_actions[\"prob\"])\n",
    "            player_stats[action_player][action][\"total\"] += 1\n",
    "            player_stats[action_player][action][\"locations\"].append(pitch_number)\n",
    "            \n",
    "            if action==\"Pass\":\n",
    "                pass_map.append(pitch_number)\n",
    "            elif action==\"Shot\":\n",
    "                shot_map.append(pitch_number)\n",
    "            elif action==\"Dribble\":\n",
    "                dribble_map.append(pitch_number)\n",
    "            match_data[action]+=1\n",
    "            \n",
    "    return {\n",
    "        \"touches\": Touches,\n",
    "        \"match_data\": match_data,\n",
    "        \"player_stats\": player_stats, \n",
    "        \"pass_map\": pass_map, \n",
    "        \"shot_map\": shot_map, \n",
    "        \"dribble_map\": dribble_map, \n",
    "        \"lineup\": team.sort_values(by=\"Pos_Rank_Average\"), \n",
    "    }"
   ]
  },
  {
   "cell_type": "markdown",
   "id": "f5fba8ca-e06b-4609-8865-34458d6125a2",
   "metadata": {
    "jp-MarkdownHeadingCollapsed": true
   },
   "source": [
    "<br><br><br><br>\n",
    "### Pitch + Player Data Test"
   ]
  },
  {
   "cell_type": "code",
   "execution_count": null,
   "id": "1f47b7cb-5fc8-47c5-b90e-ad3890c6ea08",
   "metadata": {},
   "outputs": [],
   "source": [
    "Club_x_NAME = \"FC Bayern\"\n",
    "Club_y_NAME = \"PSV\"\n",
    "\n",
    "Club_x_DATA = Create_Match_Data(team_df, Club_x_NAME, Club_y_NAME, 0)\n",
    "Club_y_DATA = Create_Match_Data(team_df, Club_x_NAME, Club_y_NAME, 1)\n",
    "\n",
    "x_data = Generate_Random_Match_Stats(predicted_df, positional_location_df, volume_formula_df, Club_x_DATA, Club_x_NAME)\n",
    "y_data = Generate_Random_Match_Stats(predicted_df, positional_location_df, volume_formula_df, Club_y_DATA, Club_y_NAME)\n",
    "\n",
    "player_stats = x_data[\"player_stats\"]\n",
    "data = []\n",
    "for player, stats in player_stats.items():\n",
    "    data.append({\n",
    "        \"Player\": player,\n",
    "        \"Pass_Total\": stats[\"Pass\"][\"total\"],\n",
    "        \"Shot_Total\": stats[\"Shot\"][\"total\"],\n",
    "        \"Dribble_Total\": stats[\"Dribble\"][\"total\"]\n",
    "    })\n",
    "\n",
    "stats_df = pd.DataFrame(data)"
   ]
  },
  {
   "cell_type": "code",
   "execution_count": null,
   "id": "67132a3a-4dce-4f2b-8e0e-53b1a6ed616d",
   "metadata": {},
   "outputs": [],
   "source": [
    "player_data = stats_df.iloc[10].Player\n",
    "test_action_list = player_stats[player_data][\"Pass\"][\"locations\"]\n",
    "Draw_Pitch_Actions(test_action_list, False, \"data/location_df.csv\", player_data).plot().save_fig(\"plots_imgs/player.png\")"
   ]
  },
  {
   "cell_type": "code",
   "execution_count": null,
   "id": "a89c2a14-5572-4a52-ac89-61e2b1bea667",
   "metadata": {},
   "outputs": [],
   "source": [
    "# x_data[\"players_df\"][[\"Name\",\"Club\",\"Playing_Position\",\"Pos_Rank_Average\"]]\n",
    "# x_data[\"match_data\"], y_data[\"match_data\"]"
   ]
  },
  {
   "cell_type": "code",
   "execution_count": null,
   "id": "75844bab-a23f-473a-93bd-44b52c88e746",
   "metadata": {},
   "outputs": [],
   "source": [
    "stats_df"
   ]
  },
  {
   "cell_type": "code",
   "execution_count": null,
   "id": "ec0f38b7-ab4f-4d28-adaf-8c94331a4df2",
   "metadata": {},
   "outputs": [],
   "source": [
    "Draw_Pitch_Actions(x_data[\"pass_map\"], False, \"data/location_df.csv\", \"Team Stats\").plot().save_fig(\"plots_imgs/volumer.png\")"
   ]
  },
  {
   "cell_type": "code",
   "execution_count": null,
   "id": "f59f2a5e-39b7-4e7f-8b58-620c129cc21c",
   "metadata": {},
   "outputs": [],
   "source": [
    "x_data[\"lineup\"][[\"Name\",\"pass_weight_prob\",\"shot_weight_prob\",\"dribble_weight_prob\"]]"
   ]
  },
  {
   "cell_type": "markdown",
   "id": "41293578-6e7c-47b4-a121-08a815211665",
   "metadata": {
    "jp-MarkdownHeadingCollapsed": true
   },
   "source": [
    "<br><br><br><br><br><br><br><br>\n",
    "<h2 style=\"color:white;background:gray;\"> _***Triple_Prob_Dict</h2>"
   ]
  },
  {
   "cell_type": "code",
   "execution_count": null,
   "id": "9995b9a6-85fa-42a3-812f-bd7309df5b6d",
   "metadata": {},
   "outputs": [],
   "source": [
    "pass_df = pd.read_csv(\"../match_logs/Big5@22-23@passing.csv\")[[\"Att\",\"Club\"]].groupby(by=\"Club\").mean().reset_index().sort_values(\"Att\", ascending=False)\n",
    "shot_df = pd.read_csv(\"../match_logs/Big5@22-23@shooting.csv\")[[\"Sh\",\"Club\"]].groupby(by=\"Club\").mean().reset_index().sort_values(\"Sh\", ascending=False)\n",
    "dribble_df = pd.read_csv(\"../match_logs/Big5@22-23@possession.csv\")[[\"Att\",\"Club\"]].groupby(by=\"Club\").mean().reset_index().sort_values(\"Att\", ascending=False)\n",
    "merged_df = pd.merge(\n",
    "    pass_df.merge(shot_df, on=\"Club\", suffixes=(\"\", \"_shot\")),\n",
    "    dribble_df, on=\"Club\", suffixes=(\"_pass\", \"_dribble\")\n",
    ")\n",
    "merged_df.rename(columns={\"Sh\":\"Att_shot\"}, inplace=True)\n",
    "action_columns = merged_df.select_dtypes(exclude=\"object\").columns\n",
    "merged_df[\"Total_touches\"] = merged_df.apply(lambda row: row[action_columns].sum(), axis=1)\n",
    "merged_df[\"%pass\"] = merged_df[\"Att_pass\"] / merged_df[\"Total_touches\"]\n",
    "merged_df[\"%shot\"] = merged_df[\"Att_shot\"] / merged_df[\"Total_touches\"]\n",
    "merged_df[\"%dribble\"] = merged_df[\"Att_dribble\"] /  merged_df[\"Total_touches\"]\n",
    "merged_df[\"Triple_Prob_Dict\"] = merged_df.apply(lambda row: {\n",
    "    \"Pass\": (row[\"Att_pass\"]/row[\"Total_touches\"]),\n",
    "    \"Shot\": (row[\"Att_shot\"]/row[\"Total_touches\"]),\n",
    "    \"Dribble\": (row[\"Att_dribble\"]/row[\"Total_touches\"]),\n",
    "}, axis=1)\n",
    "# merged_df.to_csv(\"../match_logs/Big5@22-23@triple_stats.csv\", index=False)"
   ]
  }
 ],
 "metadata": {
  "kernelspec": {
   "display_name": "Python 3 (ipykernel)",
   "language": "python",
   "name": "python3"
  },
  "language_info": {
   "codemirror_mode": {
    "name": "ipython",
    "version": 3
   },
   "file_extension": ".py",
   "mimetype": "text/x-python",
   "name": "python",
   "nbconvert_exporter": "python",
   "pygments_lexer": "ipython3",
   "version": "3.11.7"
  }
 },
 "nbformat": 4,
 "nbformat_minor": 5
}
