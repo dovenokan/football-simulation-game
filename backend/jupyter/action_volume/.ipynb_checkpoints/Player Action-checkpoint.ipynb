{
 "cells": [
  {
   "cell_type": "code",
   "execution_count": 1,
   "id": "4eb1678c-7551-4975-9050-e1565d189834",
   "metadata": {},
   "outputs": [],
   "source": [
    "import pandas as pd\n",
    "import numpy as np\n",
    "import os\n",
    "import sys\n",
    "import math\n",
    "import json\n",
    "from sklearn.model_selection import train_test_split\n",
    "from sklearn.linear_model import LinearRegression\n",
    "from sklearn.metrics import mean_squared_error, r2_score\n",
    "from sklearn.preprocessing import StandardScaler\n",
    "import seaborn as sns\n",
    "import matplotlib.pyplot as plt\n",
    "from mplsoccer.pitch import Pitch\n",
    "import matplotlib.patches as patches\n",
    "from IPython.display import Markdown"
   ]
  },
  {
   "cell_type": "code",
   "execution_count": 2,
   "id": "54185400-e4e9-4fc3-811f-f5e755ce79e4",
   "metadata": {},
   "outputs": [],
   "source": [
    "import warnings\n",
    "from sklearn.exceptions import UndefinedMetricWarning\n",
    "from pandas.errors import SettingWithCopyWarning\n",
    "warnings.filterwarnings(action='ignore', category=UndefinedMetricWarning)\n",
    "warnings.simplefilter(action='ignore', category=(SettingWithCopyWarning))\n",
    "warnings.simplefilter(action='ignore', category=(FutureWarning))\n",
    "warnings.simplefilter(action='ignore', category=RuntimeWarning)"
   ]
  },
  {
   "cell_type": "code",
   "execution_count": 3,
   "id": "686e33dc-d271-44f5-94d2-04afed5404d0",
   "metadata": {},
   "outputs": [],
   "source": [
    "parent_dir = os.path.abspath(os.path.join(os.path.dirname(\"./\"), '..'))\n",
    "sys.path.append(parent_dir)\n",
    "from tools.lineup_tpr import LineupTPR\n",
    "from tools.pickler import Save_Model, Load_Model\n",
    "from tools.draw_pitch_plot import Draw_Pitch_Actions\n",
    "from tools.fm_attributes import Attributes\n",
    "fm_attributes = Attributes.attribute_list\n",
    "gk_attributes = Attributes.gk_attributes"
   ]
  },
  {
   "cell_type": "code",
   "execution_count": 4,
   "id": "8247c91a-81dd-46c5-a57b-56a6b9044876",
   "metadata": {},
   "outputs": [],
   "source": [
    "players_df = pd.read_csv(\"../players_db/fm23/fm23db_processed.csv\")\n",
    "team_df = pd.read_csv(\"../players_db/fm23/team_ratings.csv\")"
   ]
  },
  {
   "cell_type": "markdown",
   "id": "957c7a09-471e-4d01-85df-9976e7083563",
   "metadata": {
    "jp-MarkdownHeadingCollapsed": true
   },
   "source": [
    "<br><br><br><br><br><br><br><br>\n",
    "<h2 style=\"color:beige;background:blue;\">  Data Prep --- for Action Player Volume Regression</h2>"
   ]
  },
  {
   "cell_type": "markdown",
   "id": "416bbb8b-a5fd-40e6-b724-d40d40f3c9a9",
   "metadata": {
    "jp-MarkdownHeadingCollapsed": true
   },
   "source": [
    "<br><br>\n",
    "<h3 style=\"color:yellow;background:pink;\">  Passing</h3>"
   ]
  },
  {
   "cell_type": "code",
   "execution_count": 5,
   "id": "07276367-2611-4ef5-93ae-0e51f89e4057",
   "metadata": {},
   "outputs": [],
   "source": [
    "# url = \"https://fbref.com/en/comps/Big5/2022-2023/passing/players/2022-2023-Big-5-European-Leagues-Stats\"\n",
    "# dataPASSING = pd.read_html(url)\n",
    "# dataPASSING[0].to_csv(\"data/Big5@Players@Passing@2022_2023.csv\",index=False)\n",
    "# # Att, Att, Att -> same column names occurs\n",
    "# fb = dataPASSING[0]\n",
    "# #fb.columns\n",
    "# fb['90s'] = pd.to_numeric(fb[('Unnamed: 8_level_0','90s')], errors='coerce')\n",
    "# fb['Att'] = pd.to_numeric(fb[('Total','Att')], errors='coerce')\n",
    "# fb['Pos'] = fb[('Unnamed: 3_level_0','Pos')]\n",
    "# fb['Squad'] = fb[('Unnamed: 4_level_0','Squad')]\n",
    "# fb['Player'] = fb[('Unnamed: 1_level_0','Player')]\n",
    "# fb['Pass/90'] = fb['Att'] / fb['90s']\n",
    "# fb2 = fb[fb[\"90s\"] > 15]\n",
    "# fb2.columns = fb2.columns.get_level_values(0)\n",
    "# fb2.sort_values(by=\"Pass/90\", ascending=False).head(3)[[\"Pos\",\"Squad\",\"Player\",\"Att\",\"Pass/90\"]]"
   ]
  },
  {
   "cell_type": "code",
   "execution_count": 6,
   "id": "020fa133-4a2b-428f-8f16-0c065563665e",
   "metadata": {},
   "outputs": [],
   "source": [
    "fb2_raw = pd.read_csv(\"data/Big5@Players@Passing@2022_2023.csv\")\n",
    "fb2 = fb2_raw[fb2_raw[\"90s\"] > 15]\n",
    "fb_passing = fb2.sort_values(by=\"Pass/90\", ascending=False)[[\"Pos\",\"Squad\",\"Player\",\"Att\",\"Pass/90\"]]\n",
    "#fb_passing[\"Pos\"] = fb_passing[\"Pos\"].apply(lambda row: row.split(\",\")[0])\n",
    "pass_merged_df = pd.merge(players_df, fb_passing, how=\"inner\", left_on=\"Name\", right_on=\"Player\", suffixes=(\"\",\"_fb\"))"
   ]
  },
  {
   "cell_type": "code",
   "execution_count": 7,
   "id": "07551cfc-cfd7-451c-a373-25e5640bebd3",
   "metadata": {},
   "outputs": [
    {
     "name": "stdout",
     "output_type": "stream",
     "text": [
      "4.24\n"
     ]
    }
   ],
   "source": [
    "passing_positions = pass_merged_df.sort_values(by=\"Pass/90\", ascending=False).head(50)[\"Pos_Rank_Average\"]\n",
    "print(passing_positions.mean())\n",
    "passing_ratings = pass_merged_df.sort_values(by=\"Pass/90\", ascending=False).head(50)[fm_attributes].mean().sort_values(ascending=False)"
   ]
  },
  {
   "cell_type": "markdown",
   "id": "1c0ba480-9bc1-430f-94fd-c4f2f7e26729",
   "metadata": {
    "jp-MarkdownHeadingCollapsed": true
   },
   "source": [
    "<br><br>\n",
    "<h3 style=\"color:beige;background:red;\">  Shooting</h3>"
   ]
  },
  {
   "cell_type": "code",
   "execution_count": 8,
   "id": "8a1bcca9-7875-4235-a9e2-c96734c6a023",
   "metadata": {},
   "outputs": [],
   "source": [
    "# url = \"https://fbref.com/en/comps/Big5/2022-2023/shooting/players/2022-2023-Big-5-European-Leagues-Stats\"\n",
    "# dataSHOOTING = pd.read_html(url)\n",
    "# dataSHOOTING[0].to_csv(\"data/Big5@Players@Shooting@2022_2023.csv\",index=False)\n",
    "# dataSHOOTING[0].columns = dataSHOOTING[0].columns.get_level_values(1)\n",
    "# fb = dataSHOOTING[0]\n",
    "# fb.columns\n",
    "# fb['90s'] = pd.to_numeric(fb['90s'], errors='coerce')\n",
    "# fb['Sh'] = pd.to_numeric(fb['Sh'], errors='coerce')\n",
    "# fb['Sh/90'] = pd.to_numeric(fb['Sh/90'], errors='coerce')\n",
    "# fb2 = fb[fb[\"90s\"] > 15]\n",
    "# fb2.sort_values(by=\"Sh/90\", ascending=False).head(3)[[\"Pos\",\"Squad\",\"Player\",\"Sh\",\"Sh/90\"]]"
   ]
  },
  {
   "cell_type": "code",
   "execution_count": 9,
   "id": "3942e2ea-93b8-4d6c-9631-d1e2e6894dc9",
   "metadata": {},
   "outputs": [],
   "source": [
    "fb2_raw = pd.read_csv(\"data/Big5@Players@Shooting@2022_2023.csv\")\n",
    "fb2 = fb2_raw[fb2_raw[\"90s\"] > 15]\n",
    "fb_shooters = fb2.sort_values(by=\"Sh/90\", ascending=False)[[\"Pos\",\"Squad\",\"Player\",\"Sh\",\"Sh/90\"]]\n",
    "fb_shooters[\"Pos\"] = fb_shooters[\"Pos\"].apply(lambda row: row.split(\",\")[0])\n",
    "sh_merged_df_raw = pd.merge(players_df, fb_shooters, how=\"inner\", left_on=\"Name\", right_on=\"Player\", suffixes=(\"\",\"_fb\"))\n",
    "sh_merged_df = sh_merged_df_raw[sh_merged_df_raw[\"Best_Pos\"] != \"GK\"]"
   ]
  },
  {
   "cell_type": "code",
   "execution_count": 10,
   "id": "60bf106d-cdda-4b2c-9bdc-48cf61db8383",
   "metadata": {},
   "outputs": [
    {
     "name": "stdout",
     "output_type": "stream",
     "text": [
      "11.3\n"
     ]
    }
   ],
   "source": [
    "shooters_positions = sh_merged_df.sort_values(by=\"Sh/90\", ascending=False).head(50)[\"Pos_Rank_Average\"]\n",
    "print(shooters_positions.mean())\n",
    "shooters_ratings = sh_merged_df.sort_values(by=\"Sh/90\", ascending=False).head(50)[fm_attributes].mean().sort_values(ascending=False)"
   ]
  },
  {
   "cell_type": "markdown",
   "id": "339089db-9728-42b5-88d1-68d16f2e3cf4",
   "metadata": {
    "jp-MarkdownHeadingCollapsed": true
   },
   "source": [
    "<br><br>\n",
    "<h3 style=\"color:red;background:orange;\">  Dribbling</h3>"
   ]
  },
  {
   "cell_type": "code",
   "execution_count": 11,
   "id": "fcebb1da-d601-4d59-a340-45d1d64d5b89",
   "metadata": {},
   "outputs": [],
   "source": [
    "# url = \"https://fbref.com/en/comps/Big5/2022-2023/possession/players/2022-2023-Big-5-European-Leagues-Stats\"\n",
    "# dataDRIBBLING = pd.read_html(url)\n",
    "# dataDRIBBLING[0].to_csv(\"data/Big5@Players@Dribbling@2022_2023.csv\",index=False)\n",
    "# fb = dataDRIBBLING[0]\n",
    "# #fb.columns\n",
    "# fb['90s'] = pd.to_numeric(fb[('Unnamed: 8_level_0','90s')], errors='coerce')\n",
    "# fb['Att'] = pd.to_numeric(fb[('Take-Ons','Att')], errors='coerce')\n",
    "# fb['Pos'] = fb[('Unnamed: 3_level_0','Pos')]\n",
    "# fb['Squad'] = fb[('Unnamed: 4_level_0','Squad')]\n",
    "# fb['Player'] = fb[('Unnamed: 1_level_0','Player')]\n",
    "# fb['Dribble/90'] = fb['Att'] / fb['90s']\n",
    "# fb2 = fb[fb[\"90s\"] > 15]\n",
    "# fb2.columns = fb2.columns.get_level_values(0)\n",
    "# fb2.sort_values(by=\"Dribble/90\", ascending=False).head(3)[[\"Pos\",\"Squad\",\"Player\",\"Att\",\"Dribble/90\"]]"
   ]
  },
  {
   "cell_type": "code",
   "execution_count": 12,
   "id": "38e3e2e9-67bc-4180-a055-fc9ec6954aa8",
   "metadata": {},
   "outputs": [],
   "source": [
    "fb2_raw = pd.read_csv(\"data/Big5@Players@Dribbling@2022_2023.csv\")\n",
    "fb2 = fb2_raw[fb2_raw[\"90s\"] > 15]\n",
    "fb_dribbling = fb2.sort_values(by=\"Dribble/90\", ascending=False)[[\"Pos\",\"Squad\",\"Player\",\"Att\",\"Dribble/90\"]]\n",
    "#fb_dribbling[\"Pos\"] = fb_dribbling[\"Pos\"].apply(lambda row: row.split(\",\")[0])\n",
    "dribble_merged_df = pd.merge(players_df, fb_dribbling, how=\"inner\", left_on=\"Name\", right_on=\"Player\", suffixes=(\"\",\"_fb\"))"
   ]
  },
  {
   "cell_type": "code",
   "execution_count": 13,
   "id": "641ac0bd-cd57-43b2-8c8d-11c725cb8080",
   "metadata": {},
   "outputs": [
    {
     "name": "stdout",
     "output_type": "stream",
     "text": [
      "9.92\n"
     ]
    }
   ],
   "source": [
    "dribbling_positions = dribble_merged_df.sort_values(by=\"Dribble/90\", ascending=False).head(50)[\"Pos_Rank_Average\"]\n",
    "print(dribbling_positions.mean())\n",
    "dribbling_ratings= dribble_merged_df.sort_values(by=\"Dribble/90\", ascending=False).head(50)[fm_attributes].mean().sort_values(ascending=False)"
   ]
  },
  {
   "cell_type": "code",
   "execution_count": 14,
   "id": "bf387398-cd27-4a05-b5a5-b03ef972159e",
   "metadata": {},
   "outputs": [],
   "source": [
    "# pass_merged_df, sh_merged_df, dribble_merged_df"
   ]
  },
  {
   "cell_type": "code",
   "execution_count": 15,
   "id": "d3c87e82-8c2f-4c5d-8b5a-37f824cb6224",
   "metadata": {},
   "outputs": [],
   "source": [
    "# passing_top_cols, shooting_top_cols, dribbling_top_cols"
   ]
  },
  {
   "cell_type": "code",
   "execution_count": 16,
   "id": "7d232020-0b7f-418a-a747-945783aac9e4",
   "metadata": {},
   "outputs": [],
   "source": [
    "top_N = 12"
   ]
  },
  {
   "cell_type": "code",
   "execution_count": 17,
   "id": "d41a1279-4c67-4c9f-9ed2-618435165de9",
   "metadata": {},
   "outputs": [
    {
     "data": {
      "text/plain": [
       "Index(['Off_the_Ball', 'Technique', 'Flair', 'Pace', 'Acceleration',\n",
       "       'First_Touch', 'Finishing', 'Agility', 'Determination', 'Dribbling',\n",
       "       'Anticipation', 'Natural_Fitness'],\n",
       "      dtype='object')"
      ]
     },
     "execution_count": 17,
     "metadata": {},
     "output_type": "execute_result"
    }
   ],
   "source": [
    "shooting_top_cols = shooters_ratings[:top_N].index\n",
    "shooting_top_cols"
   ]
  },
  {
   "cell_type": "code",
   "execution_count": 18,
   "id": "bf75abaf-a7e8-4cdc-b4a2-204e47fce443",
   "metadata": {},
   "outputs": [
    {
     "data": {
      "text/plain": [
       "Index(['Determination', 'Anticipation', 'Teamwork', 'Stamina', 'Composure',\n",
       "       'Natural_Fitness', 'Passing', 'Work_Rate', 'Tackling', 'Decisions',\n",
       "       'First_Touch', 'Technique'],\n",
       "      dtype='object')"
      ]
     },
     "execution_count": 18,
     "metadata": {},
     "output_type": "execute_result"
    }
   ],
   "source": [
    "passing_top_cols = passing_ratings[:top_N].index\n",
    "passing_top_cols"
   ]
  },
  {
   "cell_type": "code",
   "execution_count": 19,
   "id": "2f9c7c1d-b6f4-4165-8125-77627c36b081",
   "metadata": {},
   "outputs": [
    {
     "data": {
      "text/plain": [
       "Index(['Dribbling', 'Acceleration', 'Flair', 'Pace', 'Technique', 'Agility',\n",
       "       'First_Touch', 'Determination', 'Natural_Fitness', 'Off_the_Ball',\n",
       "       'Passing', 'Vision'],\n",
       "      dtype='object')"
      ]
     },
     "execution_count": 19,
     "metadata": {},
     "output_type": "execute_result"
    }
   ],
   "source": [
    "dribbling_top_cols = dribbling_ratings[:top_N].index\n",
    "dribbling_top_cols"
   ]
  },
  {
   "cell_type": "markdown",
   "id": "08a5f5d8-9a19-44d5-9b96-2b71c43cc395",
   "metadata": {
    "jp-MarkdownHeadingCollapsed": true
   },
   "source": [
    "<br><br><br><br><br><br><br><br>\n",
    "<h2 style=\"color:pink;background:purple;\">  Data Prep --- for Action Player Accuracy Regression</h2>"
   ]
  },
  {
   "cell_type": "markdown",
   "id": "4cd1e14b-b1a3-4015-b37e-17a9806f11f9",
   "metadata": {
    "jp-MarkdownHeadingCollapsed": true
   },
   "source": [
    "<br>\n",
    "<h3 style=\"color:black;background:white;\">  Passing</h3>"
   ]
  },
  {
   "cell_type": "code",
   "execution_count": 20,
   "id": "2bd02c85-bdcb-4c3b-b568-31c5468f02de",
   "metadata": {},
   "outputs": [],
   "source": [
    "# fb2_raw = pd.read_csv(\"data/Big5@Players@Passing@2022_2023.csv\")\n",
    "# fb2_raw[\"Pass_Accuracy\"] = pd.to_numeric(fb2_raw[\"Total.2\"], errors=\"coerce\")\n",
    "# fb2_raw.to_csv(\"data/Big5@Players@Passing@2022_2023.csv\", index=False)"
   ]
  },
  {
   "cell_type": "code",
   "execution_count": 21,
   "id": "1526e7fa-2a0a-44a0-8945-7f2ee0e603a3",
   "metadata": {},
   "outputs": [
    {
     "name": "stdout",
     "output_type": "stream",
     "text": [
      "322.3\n"
     ]
    }
   ],
   "source": [
    "fb2_raw = pd.read_csv(\"data/Big5@Players@Passing@2022_2023.csv\")\n",
    "fb2_raw = fb2_raw[fb2_raw[\"Pos\"] != \"I WANT GK\"]\n",
    "fb2_raw[\"Att\"] = pd.to_numeric(fb2_raw[\"Att\"], errors=\"coerce\")\n",
    "filter_value = fb2_raw[\"Att\"].max() / 10\n",
    "print(filter_value)"
   ]
  },
  {
   "cell_type": "code",
   "execution_count": 22,
   "id": "edb86e5b-5b08-4439-8afd-659bd572c06a",
   "metadata": {},
   "outputs": [],
   "source": [
    "fb2 = fb2_raw[fb2_raw[\"Att\"] > filter_value]\n",
    "fb2[\"Pass_Accuracy\"] = pd.to_numeric(fb2[\"Total.2\"])\n",
    "fb_passing_acc = fb2.sort_values(by=\"Pass_Accuracy\", ascending=False)[[\"Pos\",\"Squad\",\"Player\",\"Pass_Accuracy\",\"Att\"]]\n",
    "#fb_passing_acc[\"Pos\"] = fb_passing_acc[\"Pos\"].apply(lambda row: row.split(\",\")[0])\n",
    "pass_merged_df = pd.merge(players_df, fb_passing_acc, how=\"inner\", left_on=\"Name\", right_on=\"Player\", suffixes=(\"\",\"_fb\"))"
   ]
  },
  {
   "cell_type": "code",
   "execution_count": 23,
   "id": "30a01895-8496-4ff0-858a-add2000f8f07",
   "metadata": {},
   "outputs": [
    {
     "name": "stdout",
     "output_type": "stream",
     "text": [
      "4.54\n"
     ]
    }
   ],
   "source": [
    "passing_positions = pass_merged_df.sort_values(by=\"Pass_Accuracy\", ascending=False).head(50)[\"Pos_Rank_Average\"]\n",
    "print(passing_positions.mean())\n",
    "passing_ratings = pass_merged_df.sort_values(by=\"Pass_Accuracy\", ascending=False).head(50)[fm_attributes].mean().sort_values(ascending=False)"
   ]
  },
  {
   "cell_type": "markdown",
   "id": "d81fdfde-60e7-47c2-ae2f-06da1d35baba",
   "metadata": {
    "jp-MarkdownHeadingCollapsed": true
   },
   "source": [
    "<br>\n",
    "<h3 style=\"color:black;background:white;\">  Shooting</h3>"
   ]
  },
  {
   "cell_type": "code",
   "execution_count": 24,
   "id": "05815525-b6b8-41dc-8d65-d717dc9075e9",
   "metadata": {},
   "outputs": [],
   "source": [
    "# fb2_raw = pd.read_csv(\"data/Big5@Players@Shooting@2022_2023.csv\")\n",
    "# fb2_raw[\"Shot_Accuracy\"] = pd.to_numeric(fb2_raw[\"SoT%\"], errors=\"coerce\")\n",
    "# fb2_raw.to_csv(\"data/Big5@Players@Shooting@2022_2023.csv\", index=False)"
   ]
  },
  {
   "cell_type": "code",
   "execution_count": 25,
   "id": "cb7ea70e-9b6a-4c05-98e3-366fda3011d8",
   "metadata": {},
   "outputs": [
    {
     "name": "stdout",
     "output_type": "stream",
     "text": [
      "36.0\n"
     ]
    }
   ],
   "source": [
    "fb2_raw = pd.read_csv(\"data/Big5@Players@Shooting@2022_2023.csv\")\n",
    "fb2_raw = fb2_raw[fb2_raw[\"Pos\"] != \"GK\"]\n",
    "fb2_raw[\"Sh\"] = pd.to_numeric(fb2_raw[\"Sh\"], errors=\"coerce\")\n",
    "filter_value = fb2_raw[\"Sh\"].max() / 4\n",
    "print(filter_value)"
   ]
  },
  {
   "cell_type": "code",
   "execution_count": 26,
   "id": "66d3e5be-793e-42b6-9ae4-66c7c538e021",
   "metadata": {},
   "outputs": [],
   "source": [
    "fb2 = fb2_raw[fb2_raw[\"Sh\"] > filter_value]\n",
    "fb2[\"Shot_Accuracy\"] = pd.to_numeric(fb2[\"SoT%\"])\n",
    "fb2.to_csv(\"data/Big5@Players@Shooting@2022_2023.csv\", index=False)\n",
    "fb_shooting_acc = fb2.sort_values(by=\"Shot_Accuracy\", ascending=False)[[\"Pos\",\"Squad\",\"Player\",\"Shot_Accuracy\",\"Sh\"]]\n",
    "#fb_shooting_acc[\"Pos\"] = fb_shooting_acc[\"Pos\"].apply(lambda row: row.split(\",\")[0])\n",
    "sh_merged_df = pd.merge(players_df, fb_shooting_acc, how=\"inner\", left_on=\"Name\", right_on=\"Player\", suffixes=(\"\",\"_fb\"))"
   ]
  },
  {
   "cell_type": "code",
   "execution_count": 27,
   "id": "88d89262-6604-493a-998a-c13fe5b50ce7",
   "metadata": {},
   "outputs": [
    {
     "name": "stdout",
     "output_type": "stream",
     "text": [
      "10.62\n"
     ]
    }
   ],
   "source": [
    "shooters_positions = sh_merged_df.sort_values(by=\"Shot_Accuracy\", ascending=False).head(50)[\"Pos_Rank_Average\"]\n",
    "print(shooters_positions.mean())\n",
    "shooters_ratings = sh_merged_df.sort_values(by=\"Shot_Accuracy\", ascending=False).head(50)[fm_attributes].mean().sort_values(ascending=False)"
   ]
  },
  {
   "cell_type": "markdown",
   "id": "69f7db9b-78ee-4eaa-9237-672cd0546401",
   "metadata": {
    "jp-MarkdownHeadingCollapsed": true
   },
   "source": [
    "<br>\n",
    "<h3 style=\"color:black;background:white;\">  Dribbling</h3>"
   ]
  },
  {
   "cell_type": "code",
   "execution_count": 28,
   "id": "e371b95c-c5a1-44e0-a7b4-0bf0a8dc3fb3",
   "metadata": {},
   "outputs": [],
   "source": [
    "# fb2_raw = pd.read_csv(\"data/Big5@Players@Dribbling@2022_2023.csv\")\n",
    "# fb2_raw[\"Dribble_Accuracy\"] = pd.to_numeric(fb2_raw[\"Take-Ons.2\"], errors=\"coerce\")\n",
    "# fb2_raw.to_csv(\"data/Big5@Players@Dribbling@2022_2023.csv\", index=False)"
   ]
  },
  {
   "cell_type": "code",
   "execution_count": 29,
   "id": "be41bb5a-4025-41f1-bc14-e91933102bbd",
   "metadata": {},
   "outputs": [
    {
     "name": "stdout",
     "output_type": "stream",
     "text": [
      "102.0\n"
     ]
    }
   ],
   "source": [
    "fb2_raw = pd.read_csv(\"data/Big5@Players@Dribbling@2022_2023.csv\")\n",
    "fb2_raw = fb2_raw[fb2_raw[\"Pos\"] != \"GK\"]\n",
    "fb2_raw[\"Take-Ons\"] = pd.to_numeric(fb2_raw[\"Take-Ons\"], errors=\"coerce\")\n",
    "filter_value = fb2_raw[\"Take-Ons\"].max() / 3\n",
    "print(filter_value)"
   ]
  },
  {
   "cell_type": "code",
   "execution_count": 30,
   "id": "04d4f3ad-fafe-4d49-bea2-e138f7d2c02c",
   "metadata": {},
   "outputs": [],
   "source": [
    "fb2 = fb2_raw[fb2_raw[\"Take-Ons\"] > filter_value].dropna()\n",
    "fb2[\"Dribble_Accuracy\"] = pd.to_numeric(fb2[\"Take-Ons.2\"])\n",
    "fb_dribbling_acc = fb2.sort_values(by=\"Dribble_Accuracy\", ascending=False)[[\"Pos\",\"Squad\",\"Player\",\"Dribble_Accuracy\",\"Take-Ons\"]]\n",
    "#fb_dribbling_acc[\"Pos\"] = fb_dribbling_acc[\"Pos\"].apply(lambda row: row.split(\",\")[0])\n",
    "dribble_merged_df = pd.merge(players_df, fb_dribbling_acc, how=\"inner\", left_on=\"Name\", right_on=\"Player\", suffixes=(\"\",\"_fb\"))"
   ]
  },
  {
   "cell_type": "code",
   "execution_count": 31,
   "id": "5e0ed04d-ada2-4617-afeb-d2b5fa136dd4",
   "metadata": {},
   "outputs": [
    {
     "name": "stdout",
     "output_type": "stream",
     "text": [
      "9.5\n"
     ]
    }
   ],
   "source": [
    "dribbling_positions = dribble_merged_df.sort_values(by=\"Dribble_Accuracy\", ascending=False).head(50)[\"Pos_Rank_Average\"]\n",
    "print(dribbling_positions.mean())\n",
    "dribbling_ratings= dribble_merged_df.sort_values(by=\"Dribble_Accuracy\", ascending=False).head(50)[fm_attributes].mean().sort_values(ascending=False)"
   ]
  },
  {
   "cell_type": "markdown",
   "id": "c4b1a197-3cc4-4033-b6d6-6c0e31c37d67",
   "metadata": {},
   "source": [
    "<br><br><br><br><br><br><br><br>\n",
    "<h2 style=\"color:lightgreen;background:blue;\">Action Player Volume & Accuracy Regression</h2>"
   ]
  },
  {
   "cell_type": "code",
   "execution_count": 74,
   "id": "25fb9914-a017-495a-a855-8f291f9d33a6",
   "metadata": {},
   "outputs": [],
   "source": [
    "def Prepare_Action_Player_Volume_Accuracy_Regression_Data(players_df, csv_file, filter_column, filter_value, target_variable, target_volume=None, top_playersN=None, top_colsN=None, fm_attributes=None, gk_excluded=None):\n",
    "    fb2_raw = pd.read_csv(csv_file)\n",
    "    fb2_raw[filter_column] = pd.to_numeric(fb2_raw[filter_column], errors=\"coerce\")\n",
    "    fb2 = fb2_raw[fb2_raw[filter_column] > filter_value]\n",
    "    if target_volume:\n",
    "        fb_actions = fb2.sort_values(by=target_variable, ascending=False)[[\"Pos\",\"Squad\",\"Player\",target_volume,target_variable]]\n",
    "    else:\n",
    "        fb_actions = fb2.sort_values(by=target_variable, ascending=False)[[\"Pos\",\"Squad\",\"Player\",target_volume,target_variable]]\n",
    "    fb_actions[\"Pos\"] = fb_actions[\"Pos\"].apply(lambda row: row.split(\",\")[0])\n",
    "    merged_df_raw = pd.merge(players_df, fb_actions, how=\"inner\", left_on=\"Name\", right_on=\"Player\", suffixes=(\"\",\"_fb\"))\n",
    "    if gk_excluded:\n",
    "        merged_df = merged_df_raw[merged_df_raw[\"Best_Pos\"] != \"GK\"]\n",
    "    else:\n",
    "        merged_df = merged_df_raw\n",
    "    top_players = merged_df.sort_values(by=target_variable, ascending=False).head(top_playersN)\n",
    "    position_mean = top_players[\"Pos_Rank_Average\"].mean()\n",
    "    top_attributes = top_players[fm_attributes].mean().sort_values(ascending=False).head(top_colsN).index\n",
    "    \n",
    "    return {\n",
    "        \"zero\": 0,\n",
    "        \"target\": target_variable,\n",
    "        \"df\": merged_df,\n",
    "        \"position_mean\": position_mean,\n",
    "        \"top_playersN\": top_playersN,\n",
    "        \"reg_cols\": np.concatenate((top_attributes, [\"Pos_Rank_Average\"], [\"tpr\",\"tpr_club\"])),\n",
    "    }"
   ]
  },
  {
   "cell_type": "code",
   "execution_count": 75,
   "id": "3c4e5f45-e1b4-4fde-8f90-8b30ce8b1848",
   "metadata": {},
   "outputs": [],
   "source": [
    "from tools.pickler import Save_Model, Load_Model\n",
    "#Save_Model(\"_\", \"models/XXXXXXXXXX_per_90_model\", model)\n",
    "\n",
    "def Train_Model(df, reg_cols, target, test_size):\n",
    "    from sklearn.model_selection import train_test_split, GridSearchCV\n",
    "    from sklearn.ensemble import RandomForestRegressor\n",
    "    from sklearn.linear_model import LinearRegression \n",
    "    from sklearn.metrics import mean_squared_error, r2_score, mean_absolute_error\n",
    "\n",
    "    X = df[reg_cols]\n",
    "    y = df[target].astype(float)\n",
    "    \n",
    "    X_train, X_test, y_train, y_test = train_test_split(X, y, test_size=test_size, random_state=0)\n",
    "    model = LinearRegression()\n",
    "    model.fit(X_train, y_train)\n",
    "    y_pred_raw = model.predict(X_test)\n",
    "    y_pred = [max(0, pred) for pred in y_pred_raw]\n",
    "    \n",
    "    mse = mean_squared_error(y_test, y_pred)\n",
    "    mae = mean_absolute_error(y_test, y_pred)\n",
    "    r2 = r2_score(y_test, y_pred)\n",
    "    \n",
    "    return {\n",
    "        \"model\": model,\n",
    "        \"mse\": mse,\n",
    "        \"mae\": mae,\n",
    "        \"r2\": r2\n",
    "    }"
   ]
  },
  {
   "cell_type": "code",
   "execution_count": 257,
   "id": "8589467a-1794-463d-8829-557e6172c483",
   "metadata": {},
   "outputs": [],
   "source": [
    "def DictToPredictionDict(d: dict) -> pd.DataFrame:\n",
    "    rdict = {}\n",
    "    for k,v in d.items():\n",
    "        rdict[k] = [v]\n",
    "    return pd.DataFrame(rdict)\n",
    "\n",
    "def PlayerPredict(model, player_name, print_stats=False):\n",
    "    if print_stats:\n",
    "        selected_df = current_df \n",
    "    else:\n",
    "        selected_df = current_df_extra\n",
    "    d0 = selected_df.query(f\"Name == '{player_name}'\").iloc[0]\n",
    "    d1 = d0[current_cols].to_dict()\n",
    "    d2 = DictToPredictionDict(d1)\n",
    "    \n",
    "    print(f\"Name:\\t\\t{d0['Name']}\")\n",
    "    print(f\"Pos_Rank_Avg:\\t{d0['Pos_Rank_Average']}\")\n",
    "    if print_stats:\n",
    "        print(f\"Real:\\t\\t{d0[current_target]}\")\n",
    "    prediction = max(0, model.predict(d2)[0])\n",
    "    print(f\"Prediction:\\t[{prediction}]\")\n",
    "    return prediction\n",
    "\n",
    "def Model_Predict(model, row, cols):\n",
    "    d1 = row[cols].to_dict()\n",
    "    d2 = DictToPredictionDict(d1)\n",
    "    prediction = max(0, model.predict(d2)[0])\n",
    "    return float(round(prediction, 2))"
   ]
  },
  {
   "cell_type": "markdown",
   "id": "2ea28db7-2ba3-4f76-9f15-c7a718ad6913",
   "metadata": {},
   "source": [
    "<br><br>"
   ]
  },
  {
   "cell_type": "markdown",
   "id": "797edd31-d5b3-4cd7-9951-549ce5b5b3d1",
   "metadata": {},
   "source": [
    "<br><br><br><br><br><br><br><br>\n",
    "<h2 style=\"color:aqua;background:yellow;\">  Experiment Area</h2>"
   ]
  },
  {
   "cell_type": "code",
   "execution_count": 251,
   "id": "bb66c73d-8198-483e-97e1-33ee5a3d6c25",
   "metadata": {},
   "outputs": [
    {
     "data": {
      "text/plain": [
       "Title                                  Passing_Volume\n",
       "csv_file           Big5@Players@Passing@2022_2023.csv\n",
       "gk_excluded                                     False\n",
       "filter_column                                     90s\n",
       "filter_value                                       21\n",
       "top_playersN                                       60\n",
       "top_colsN                                          46\n",
       "test_size                                         0.2\n",
       "MAE                                            6553.0\n",
       "target_variable                               Pass/90\n",
       "target_volume                                     Att\n",
       "Name: 0, dtype: object"
      ]
     },
     "execution_count": 251,
     "metadata": {},
     "output_type": "execute_result"
    }
   ],
   "source": [
    "hyper_df = pd.read_excel(\"data/player_action_hyper.xlsx\")\n",
    "title_df = hyper_df[hyper_df[\"Title\"]==\"Passing_Volume\"].iloc[0]\n",
    "title_df"
   ]
  },
  {
   "cell_type": "code",
   "execution_count": 252,
   "id": "36fd95f1-c86f-47bc-a2ea-c5126c5525b2",
   "metadata": {},
   "outputs": [],
   "source": [
    "prep_by = Prepare_Action_Player_Volume_Accuracy_Regression_Data(\n",
    "    players_df,\n",
    "    csv_file=\"data/\"+title_df[\"csv_file\"],\n",
    "    filter_column=title_df[\"filter_column\"],\n",
    "    filter_value=title_df[\"filter_value\"],\n",
    "    target_variable=title_df[\"target_variable\"],\n",
    "    target_volume=title_df[\"target_volume\"],\n",
    "    top_playersN=title_df[\"top_playersN\"],\n",
    "    top_colsN=title_df[\"top_colsN\"],\n",
    "    fm_attributes=fm_attributes,\n",
    "    gk_excluded=title_df[\"gk_excluded\"]\n",
    ")\n",
    "\n",
    "chosen_dict = {\n",
    "    \"df\": prep_by[\"df\"],\n",
    "    \"reg_cols\": prep_by[\"reg_cols\"],\n",
    "    \"target\": prep_by[\"target\"],\n",
    "    \"test_size\": title_df[\"test_size\"],\n",
    "}"
   ]
  },
  {
   "cell_type": "code",
   "execution_count": 253,
   "id": "945d22cc-f12a-40d5-9827-27601fab1dbf",
   "metadata": {},
   "outputs": [],
   "source": [
    "current_df = pd.merge(team_df, chosen_dict[\"df\"], how=\"inner\", left_on=\"fbref_name\", right_on=\"Squad\", suffixes=(\"_club\",\"\"))"
   ]
  },
  {
   "cell_type": "code",
   "execution_count": 254,
   "id": "94259eae-9ec1-4fd0-99f9-577702731900",
   "metadata": {},
   "outputs": [],
   "source": [
    "model = Train_Model(current_df, chosen_dict[\"reg_cols\"], chosen_dict[\"target\"], chosen_dict[\"test_size\"])[\"model\"]"
   ]
  },
  {
   "cell_type": "code",
   "execution_count": 255,
   "id": "c87b4773-d4b8-49ae-b750-74724cff240c",
   "metadata": {},
   "outputs": [],
   "source": [
    "all_df = pd.merge(team_df, players_df, how=\"inner\", left_on=\"Club\", right_on=\"Club\", suffixes=(\"_club\",\"\"))\n",
    "test_row = all_df.iloc[0]"
   ]
  },
  {
   "cell_type": "code",
   "execution_count": 256,
   "id": "a5d160d7-7dda-4f44-93a0-20a29b529d07",
   "metadata": {},
   "outputs": [
    {
     "data": {
      "text/plain": [
       "80.67"
      ]
     },
     "execution_count": 256,
     "metadata": {},
     "output_type": "execute_result"
    }
   ],
   "source": [
    "Model_Predict(model, test_row, chosen_dict[\"reg_cols\"])"
   ]
  },
  {
   "cell_type": "code",
   "execution_count": 258,
   "id": "083339d9-bd50-4a69-a354-353efe43bc05",
   "metadata": {},
   "outputs": [
    {
     "ename": "NameError",
     "evalue": "name 'current_cols' is not defined",
     "output_type": "error",
     "traceback": [
      "\u001b[1;31m---------------------------------------------------------------------------\u001b[0m",
      "\u001b[1;31mNameError\u001b[0m                                 Traceback (most recent call last)",
      "Cell \u001b[1;32mIn[258], line 1\u001b[0m\n\u001b[1;32m----> 1\u001b[0m PlayerPredict(model, \u001b[38;5;124m\"\u001b[39m\u001b[38;5;124mKevin De Bruyne\u001b[39m\u001b[38;5;124m\"\u001b[39m, \u001b[38;5;28;01mTrue\u001b[39;00m)\n",
      "Cell \u001b[1;32mIn[257], line 13\u001b[0m, in \u001b[0;36mPlayerPredict\u001b[1;34m(model, player_name, print_stats)\u001b[0m\n\u001b[0;32m     11\u001b[0m     selected_df \u001b[38;5;241m=\u001b[39m current_df_extra\n\u001b[0;32m     12\u001b[0m d0 \u001b[38;5;241m=\u001b[39m selected_df\u001b[38;5;241m.\u001b[39mquery(\u001b[38;5;124mf\u001b[39m\u001b[38;5;124m\"\u001b[39m\u001b[38;5;124mName == \u001b[39m\u001b[38;5;124m'\u001b[39m\u001b[38;5;132;01m{\u001b[39;00mplayer_name\u001b[38;5;132;01m}\u001b[39;00m\u001b[38;5;124m'\u001b[39m\u001b[38;5;124m\"\u001b[39m)\u001b[38;5;241m.\u001b[39miloc[\u001b[38;5;241m0\u001b[39m]\n\u001b[1;32m---> 13\u001b[0m d1 \u001b[38;5;241m=\u001b[39m d0[current_cols]\u001b[38;5;241m.\u001b[39mto_dict()\n\u001b[0;32m     14\u001b[0m d2 \u001b[38;5;241m=\u001b[39m DictToPredictionDict(d1)\n\u001b[0;32m     16\u001b[0m \u001b[38;5;28mprint\u001b[39m(\u001b[38;5;124mf\u001b[39m\u001b[38;5;124m\"\u001b[39m\u001b[38;5;124mName:\u001b[39m\u001b[38;5;130;01m\\t\u001b[39;00m\u001b[38;5;130;01m\\t\u001b[39;00m\u001b[38;5;132;01m{\u001b[39;00md0[\u001b[38;5;124m'\u001b[39m\u001b[38;5;124mName\u001b[39m\u001b[38;5;124m'\u001b[39m]\u001b[38;5;132;01m}\u001b[39;00m\u001b[38;5;124m\"\u001b[39m)\n",
      "\u001b[1;31mNameError\u001b[0m: name 'current_cols' is not defined"
     ]
    }
   ],
   "source": [
    "PlayerPredict(model, \"Kevin De Bruyne\", True)"
   ]
  },
  {
   "cell_type": "code",
   "execution_count": 225,
   "id": "ecabe565-a20f-41df-9a62-a4f0949bdea9",
   "metadata": {
    "scrolled": true
   },
   "outputs": [],
   "source": [
    "# actions_loop_list = [\n",
    "#         {\"filter_min\":900,\"filter_max\":1800,\"filter_step\":100,\"target_variable\":\"Pass_Accuracy\",\"target_volume\":\"Att\",\"csv_file\":\"data/Big5@Players@Passing@2022_2023.csv\",\"filter_column\":\"Att\",\"gk_excluded\":False},\n",
    "#         {\"filter_min\":12,\"filter_max\":24,\"filter_step\":3,\"target_variable\":\"Pass/90\",\"target_volume\":\"Att\",\"csv_file\":\"data/Big5@Players@Passing@2022_2023.csv\",\"filter_column\":\"90s\",\"gk_excluded\":False},\n",
    "#         {\"filter_min\":30,\"filter_max\":40,\"filter_step\":3,\"target_variable\":\"Shot_Accuracy\",\"target_volume\":\"Sh\",\"csv_file\":\"data/Big5@Players@Shooting@2022_2023.csv\",\"filter_column\":\"Sh\",\"gk_excluded\":True},\n",
    "#         {\"filter_min\":12,\"filter_max\":24,\"filter_step\":3,\"target_variable\":\"Sh/90\",\"target_volume\":\"Sh\",\"csv_file\":\"data/Big5@Players@Shooting@2022_2023.csv\",\"filter_column\":\"90s\",\"gk_excluded\":True},\n",
    "#         {\"filter_min\":30,\"filter_max\":60,\"filter_step\":3,\"target_variable\":\"Dribble_Accuracy\",\"target_volume\":\"Take-Ons\",\"csv_file\":\"data/Big5@Players@Dribbling@2022_2023.csv\",\"filter_column\":\"Take-Ons\",\"gk_excluded\":True},\n",
    "#         {\"filter_min\":12,\"filter_max\":24,\"filter_step\":3,\"target_variable\":\"Dribble/90\",\"target_volume\":\"Att\",\"csv_file\":\"data/Big5@Players@Dribbling@2022_2023.csv\",\"filter_column\":\"90s\",\"gk_excluded\":True},\n",
    "#     ]\n",
    "\n",
    "# with open(\"data/models_hyperparam.txt\", \"w\", encoding=\"utf-8\") as f:\n",
    "#     f.truncate(0)\n",
    "    \n",
    "# for loop in actions_loop_list: #[3:4]:\n",
    "#     mae = 100\n",
    "#     target_variable = loop[\"target_variable\"]\n",
    "#     target_volume = loop[\"target_volume\"]\n",
    "#     csv_file = loop[\"csv_file\"]\n",
    "#     filter_column = loop[\"filter_column\"]\n",
    "#     gk_excluded = loop[\"gk_excluded\"]\n",
    "#     range_df = pd.read_csv(csv_file)\n",
    "#     filter_min = loop[\"filter_min\"]\n",
    "#     filter_max = loop[\"filter_max\"]\n",
    "#     filter_step = loop[\"filter_step\"]\n",
    "    \n",
    "#     for filter_value in range(filter_min, filter_max, filter_step):\n",
    "#         for top_playersN in range(20, 100, 10):\n",
    "#             for top_colsN in range(10, len(fm_attributes), 3):\n",
    "#                 prep_by = Prepare_Action_Player_Volume_Accuracy_Regression_Data(\n",
    "#                     players_df,\n",
    "#                     csv_file=csv_file,\n",
    "#                     filter_column=filter_column,\n",
    "#                     filter_value=filter_value,\n",
    "#                     target_variable=target_variable,\n",
    "#                     target_volume=target_volume,\n",
    "#                     top_playersN=top_playersN,\n",
    "#                     top_colsN=top_colsN,\n",
    "#                     fm_attributes=fm_attributes,\n",
    "#                     gk_excluded=gk_excluded\n",
    "#                 )\n",
    "                \n",
    "#                 chosen_dict = {\n",
    "#                     \"df\": prep_by[\"df\"],\n",
    "#                     \"reg_cols\": prep_by[\"reg_cols\"],\n",
    "#                     \"target\": prep_by[\"target\"],\n",
    "#                 }\n",
    "#                 current_df = pd.merge(team_df, chosen_dict[\"df\"], how=\"inner\", left_on=\"fbref_name\", right_on=\"Squad\", suffixes=(\"_club\",\"\"))\n",
    "#                 for num in range(10,30+1): #test size between %10 to %30\n",
    "#                     test_size = round(num/100, 2)\n",
    "#                     this_mae = Train_Model(current_df, chosen_dict[\"reg_cols\"], chosen_dict[\"target\"], test_size)[\"mae\"]\n",
    "#                     if this_mae < mae:\n",
    "#                         mae = this_mae\n",
    "#                         best_result = (target_variable, filter_value, top_playersN, top_colsN, test_size, mae)\n",
    "#                         markdown_str = f\"\"\"\n",
    "#                         | Target | Filter Value | Top Players N | Top Columns N | Test Size | Mean Absolute Error (MAE) |\n",
    "#                         |--------|--------------|---------------|---------------|-----------|----------------------------|\n",
    "#                         | {best_result[0]} | {best_result[1]} | {best_result[2]} | {best_result[3]} | {best_result[4]} | {best_result[5]} |\n",
    "#                         \"\"\"\n",
    "#                         with open(\"data/models_hyperparam.txt\", \"a\", encoding=\"utf-8\") as f:\n",
    "#                             f.write(markdown_str)\n",
    "#                             f.write(\"\\n\\n\")\n",
    "#                         #display(Markdown(markdown_str))\n",
    "#     print(target_variable)"
   ]
  },
  {
   "cell_type": "markdown",
   "id": "78c2026f-b333-4212-a2a3-96164a2abd52",
   "metadata": {
    "jp-MarkdownHeadingCollapsed": true
   },
   "source": [
    "<br><br><br><br><br><br><br><br>\n",
    "<h2 style=\"color:white;background:orange;\">  Predict</h2>"
   ]
  },
  {
   "cell_type": "code",
   "execution_count": 85,
   "id": "7b040967-80e6-4fb2-93f7-efadbe62b95e",
   "metadata": {},
   "outputs": [],
   "source": [
    "location_df = pd.read_csv(\"data/location_df.csv\")\n",
    "volume_formula_df = pd.read_csv(\"formulas/Attacking_Touches_volume_formula_df.csv\") # Attacking_Touches"
   ]
  },
  {
   "cell_type": "markdown",
   "id": "30de244e-01f6-4afa-b804-0bae66a980e9",
   "metadata": {},
   "source": [
    "<br>"
   ]
  },
  {
   "cell_type": "code",
   "execution_count": null,
   "id": "fe4ef9c0-cb99-4ec5-a447-50d17ef653ef",
   "metadata": {},
   "outputs": [],
   "source": [
    "fm_managerial_tactics = {\n",
    "    'Standard': {\"Pass\": 1.0, \"Shot\": 1.0, \"Dribble\": 1.0},\n",
    "    'Gegen - Direct': {\"Pass\": 1.2, \"Shot\": 1.0, \"Dribble\": 0.8},\n",
    "    'Gegen - High Tempo': {\"Pass\": 1.1, \"Shot\": 1.1, \"Dribble\": 0.9},\n",
    "    'Gegen - Slow Passing': {\"Pass\": 0.9, \"Shot\": 1.0, \"Dribble\": 1.0},\n",
    "    'Gegen - Wing Play': {\"Pass\": 1.3, \"Shot\": 1.0, \"Dribble\": 0.7},\n",
    "    \n",
    "    'Tiki Taka - Direct': {\"Pass\": 1.5, \"Shot\": 0.8, \"Dribble\": 0.8},\n",
    "    'Tiki Taka - High Tempo': {\"Pass\": 1.4, \"Shot\": 0.9, \"Dribble\": 0.8},\n",
    "    'Tiki Taka - Slow Passing': {\"Pass\": 1.6, \"Shot\": 0.7, \"Dribble\": 0.9},\n",
    "    'Tiki Taka - Wing Play': {\"Pass\": 1.7, \"Shot\": 0.6, \"Dribble\": 0.8},\n",
    "    \n",
    "    'Control - Direct': {\"Pass\": 1.1, \"Shot\": 1.0, \"Dribble\": 1.0},\n",
    "    'Control - High Tempo': {\"Pass\": 1.0, \"Shot\": 1.1, \"Dribble\": 1.0},\n",
    "    'Control - Slow Passing': {\"Pass\": 1.0, \"Shot\": 0.9, \"Dribble\": 1.1},\n",
    "    'Control - Wing Play': {\"Pass\": 1.2, \"Shot\": 1.0, \"Dribble\": 0.9},\n",
    "    \n",
    "    'Counter - Direct': {\"Pass\": 0.8, \"Shot\": 1.2, \"Dribble\": 1.0},\n",
    "    'Counter - High Tempo': {\"Pass\": 0.9, \"Shot\": 1.1, \"Dribble\": 1.1},\n",
    "    'Counter - Slow Passing': {\"Pass\": 0.7, \"Shot\": 1.0, \"Dribble\": 1.2},\n",
    "    'Counter - Wing Play': {\"Pass\": 0.8, \"Shot\": 1.3, \"Dribble\": 1.0},\n",
    "    \n",
    "    'Total Football - Direct': {\"Pass\": 1.2, \"Shot\": 1.2, \"Dribble\": 1.0},\n",
    "    'Total Football - High Tempo': {\"Pass\": 1.1, \"Shot\": 1.3, \"Dribble\": 1.0},\n",
    "    'Total Football - Slow Passing': {\"Pass\": 1.3, \"Shot\": 1.1, \"Dribble\": 0.9},\n",
    "    'Total Football - Wing Play': {\"Pass\": 1.4, \"Shot\": 1.0, \"Dribble\": 0.8},\n",
    "}\n",
    "\n",
    "selected_tactics = [\n",
    "    fm_managerial_tactics['Standard'],\n",
    "    fm_managerial_tactics['Standard'],\n",
    "    fm_managerial_tactics['Standard'],\n",
    "    fm_managerial_tactics['Standard'],\n",
    "    fm_managerial_tactics['Standard'],\n",
    "    fm_managerial_tactics['Standard'],\n",
    "    fm_managerial_tactics['Counter - High Tempo'],\n",
    "    fm_managerial_tactics['Counter - Wing Play'],\n",
    "]"
   ]
  },
  {
   "cell_type": "code",
   "execution_count": null,
   "id": "9ce08c5d-fa94-46cd-893d-2430914c6a89",
   "metadata": {},
   "outputs": [],
   "source": [
    "def create_triple_prob_dict(row, tactical_coef={\"Pass\": 0, \"Shot\": 0, \"Dribble\": 0}):\n",
    "    prob_dict = {\n",
    "        \"Pass\": row[\"pass_prob\"]+row[\"pass_prob\"]*tactical_coef[\"Pass\"],\n",
    "        \"Shot\": row[\"shot_prob\"]+row[\"shot_prob\"]*tactical_coef[\"Shot\"],\n",
    "        \"Dribble\": row[\"dribble_prob\"]+row[\"dribble_prob\"]*tactical_coef[\"Dribble\"]\n",
    "    }\n",
    "    sum_prob_dict = sum(prob_dict.values())\n",
    "    weighted_prob_dict = {key: prob_dict[key]/sum_prob_dict for key in prob_dict.keys()}\n",
    "    return weighted_prob_dict"
   ]
  },
  {
   "cell_type": "code",
   "execution_count": null,
   "id": "a056c4da-f826-491f-b6ff-79a703593fea",
   "metadata": {},
   "outputs": [],
   "source": [
    "def Action_Volume_Predict_Randomnessed(attribute, formula_df, tpr_x, tpr_y):\n",
    "    input_df = pd.Series({\"tpr_x\": tpr_x, \"tpr_y\": tpr_y})\n",
    "    custom_cols = list(input_df.index)\n",
    "    coefficients = sum(formula_df.loc[:, f\"{attribute}_coef\"] * input_df[custom_cols].values)\n",
    "    result = (coefficients + formula_df.loc[:, f\"{attribute}_intercept\"])\n",
    "    randomnessed_result = result.iloc[0] - result.iloc[0] * (np.random.randint(-10, 10)/100)\n",
    "    return max(0, int(randomnessed_result / 90))"
   ]
  },
  {
   "cell_type": "code",
   "execution_count": null,
   "id": "3be7e9dc-8bc8-4333-ad54-58fa507a236e",
   "metadata": {},
   "outputs": [],
   "source": [
    "def Action_Volume_Predict(attribute, formula_df, tpr_x, tpr_y):\n",
    "    input_df = pd.Series({\"tpr_x\": tpr_x, \"tpr_y\": tpr_y})\n",
    "    custom_cols = list(input_df.index)\n",
    "    coefficients = sum(formula_df.loc[:, f\"{attribute}_coef\"] * input_df[custom_cols].values)\n",
    "    result = (coefficients + formula_df.loc[:, f\"{attribute}_intercept\"])\n",
    "    return max(0, int(result.iloc[0] / 90))"
   ]
  },
  {
   "cell_type": "code",
   "execution_count": null,
   "id": "56a4b0fb-73ca-44d1-bd5d-41ee08651281",
   "metadata": {
    "scrolled": true
   },
   "outputs": [],
   "source": [
    "Action_Volume_Predict(\"Attacking_Touches\", volume_formula_df, 92, 77)"
   ]
  },
  {
   "cell_type": "code",
   "execution_count": null,
   "id": "5edc80fc-58bc-4aa7-bac2-34aac1a7d826",
   "metadata": {},
   "outputs": [],
   "source": [
    "def Generate_Random_Match_Stats_Per_Minute(location_df, formula_df, tpr_x, tpr_y, match_number=1):\n",
    "    all_matches= []\n",
    "    shot_map = []\n",
    "    pass_map = []\n",
    "    dribble_map = []\n",
    "    location_df[\"triple_prob_dict\"] = location_df.apply(lambda row: create_triple_prob_dict(row, selected_tactics[2]), axis=1)\n",
    "    \n",
    "    for process in range(match_number):\n",
    "        Action_Counter = {\"Pass\": 0, \"Shot\": 0, \"Dribble\": 0}\n",
    "        Touches = Action_Volume_Predict_Randomnessed(\"Attacking_Touches\", formula_df, tpr_x, tpr_y)\n",
    "        for minute in range(90):\n",
    "            for moment in range(Touches):\n",
    "                pitch_number = np.random.choice(location_df[\"Pitch_Number\"], p=location_df[\"pitch_prob\"])\n",
    "                triple_probs = list(location_df[location_df[\"Pitch_Number\"] == pitch_number][\"triple_prob_dict\"].iloc[0].values())\n",
    "                triple_actions = list(location_df[location_df[\"Pitch_Number\"] == pitch_number][\"triple_prob_dict\"].iloc[0].keys())\n",
    "                action = np.random.choice(triple_actions, p=triple_probs)\n",
    "                \n",
    "                if action==\"Pass\":\n",
    "                    pass_map.append(pitch_number)\n",
    "                elif action==\"Shot\":\n",
    "                    shot_map.append(pitch_number)\n",
    "                elif action==\"Dribble\":\n",
    "                    dribble_map.append(pitch_number)\n",
    "                Action_Counter[action]+=1\n",
    "            \n",
    "        all_matches.append(Action_Counter)\n",
    "\n",
    "        global progress\n",
    "        progress = int((process + 1) / match_number * 100)\n",
    "                      \n",
    "    #print(\"!__completed__!\")\n",
    "    return {\n",
    "        \"match_data\": all_matches,\n",
    "        \"pass_map\": pass_map, \n",
    "        \"shot_map\": shot_map, \n",
    "        \"dribble_map\": dribble_map, \n",
    "    }"
   ]
  },
  {
   "cell_type": "code",
   "execution_count": null,
   "id": "fcd8b281-5e7e-4b30-80a3-b4a9ca47f3d3",
   "metadata": {
    "scrolled": true
   },
   "outputs": [],
   "source": [
    "touches_df_raw_1 = pd.read_csv(\"../match_logs/Big5@22-23@attacking_touches.csv\")\n",
    "touches_df_raw_2 = pd.merge(touches_df_raw_1, team_df, left_on=\"Club\", right_on=\"Club\", how=\"inner\") \n",
    "touches_df = pd.merge(touches_df_raw_2, team_df, left_on=\"Opponent\", right_on=\"Club\", how=\"inner\")  "
   ]
  },
  {
   "cell_type": "code",
   "execution_count": null,
   "id": "d456084c-cac6-4c94-b4b5-2c7e2b74d6ea",
   "metadata": {},
   "outputs": [],
   "source": [
    "t = touches_df[[\"Club_x\",\"tpr_x\",\"tpr_y\",\"Club_y\",\"Date\"]].iloc[25]\n",
    "tpr_a = LineupTPR(players_df, t.Club_x).query(\"Best_Pos != 'GK'\")[\"tpr\"].mean()\n",
    "tpr_b = LineupTPR(players_df, t.Club_y).query(\"Best_Pos != 'GK'\")[\"tpr\"].mean()\n",
    "t"
   ]
  },
  {
   "cell_type": "code",
   "execution_count": null,
   "id": "8ad07c37-d580-42b6-8ca2-7e75becb51a6",
   "metadata": {},
   "outputs": [],
   "source": [
    "st1 = Generate_Random_Match_Stats_Per_Minute(location_df, volume_formula_df, tpr_a, tpr_b)[\"match_data\"]\n",
    "st2 = Generate_Random_Match_Stats_Per_Minute(location_df, volume_formula_df, tpr_b, tpr_a)[\"match_data\"]\n",
    "print(tpr_a, t.Club_x, st1)\n",
    "print(tpr_b, t.Club_y, st2)"
   ]
  },
  {
   "cell_type": "markdown",
   "id": "41293578-6e7c-47b4-a121-08a815211665",
   "metadata": {
    "jp-MarkdownHeadingCollapsed": true
   },
   "source": [
    "<br><br><br><br><br><br><br><br>\n",
    "<h2 style=\"color:white;background:red;\">  yyyydffff</h2>"
   ]
  },
  {
   "cell_type": "code",
   "execution_count": null,
   "id": "5b2c0431-dbab-44ca-aab1-9327bc568ccc",
   "metadata": {},
   "outputs": [],
   "source": [
    "import pandas as pd\n",
    "from sklearn.preprocessing import MinMaxScaler\n",
    "from sklearn.linear_model import LinearRegression\n",
    "\n",
    "# Create DataFrame\n",
    "df = merged_df.copy()\n",
    "\n",
    "# Normalize the data\n",
    "# scaler = MinMaxScaler()\n",
    "# df[['Att', 'Dribbling', 'Pace', \"tpr\"]] = scaler.fit_transform(df[['Att', 'Dribbling', 'Pace', \"tpr\"]])\n",
    "\n",
    "# Separate features and target variable\n",
    "X = df[['Dribbling', 'Pace', \"tpr\"]]\n",
    "y = df['Att']\n",
    "\n",
    "# Create and train the model\n",
    "model = LinearRegression()\n",
    "model.fit(X, y)\n",
    "\n",
    "# Get the coefficients\n",
    "coefficients = model.coef_\n",
    "intercept = model.intercept_\n",
    "\n",
    "print(\"Coefficients:\", coefficients)\n",
    "print(\"Intercept:\", intercept)"
   ]
  },
  {
   "cell_type": "code",
   "execution_count": null,
   "id": "d3fd3443-a3cf-4b40-9db3-b98284a993e2",
   "metadata": {},
   "outputs": [],
   "source": [
    "def f(dribbling, pace, tpr):\n",
    "    return intercept + coefficients[0] * dribbling + coefficients[1] * pace + coefficients[2] * tpr\n",
    "\n",
    "f(56, 72, 72)"
   ]
  },
  {
   "cell_type": "code",
   "execution_count": null,
   "id": "4893ba6f-ca5f-420d-9a32-63a5baa1ff2c",
   "metadata": {},
   "outputs": [],
   "source": [
    "# sort_dribble = df.sort_values(\"Att\", ascending=False)\n",
    "# sort_dribble[list(set(fm_attributes) - set(gk_attributes))].head(15).mean().sort_values(ascending=False)"
   ]
  },
  {
   "cell_type": "code",
   "execution_count": null,
   "id": "9995b9a6-85fa-42a3-812f-bd7309df5b6d",
   "metadata": {},
   "outputs": [],
   "source": [
    "pass_df = pd.read_csv(\"../match_logs/Big5@22-23@passing.csv\")[[\"Att\",\"Club\"]].groupby(by=\"Club\").mean().reset_index().sort_values(\"Att\", ascending=False)\n",
    "shot_df = pd.read_csv(\"../match_logs/Big5@22-23@shooting.csv\")[[\"Sh\",\"Club\"]].groupby(by=\"Club\").mean().reset_index().sort_values(\"Sh\", ascending=False)\n",
    "dribble_df = pd.read_csv(\"../match_logs/Big5@22-23@possession.csv\")[[\"Att\",\"Club\"]].groupby(by=\"Club\").mean().reset_index().sort_values(\"Att\", ascending=False)\n",
    "merged_df = pd.merge(\n",
    "    pass_df.merge(shot_df, on=\"Club\", suffixes=(\"\", \"_shot\")),\n",
    "    dribble_df, on=\"Club\", suffixes=(\"_pass\", \"_dribble\")\n",
    ")\n",
    "merged_df.rename(columns={\"Sh\":\"Att_shot\"}, inplace=True)\n",
    "action_columns = merged_df.select_dtypes(exclude=\"object\").columns"
   ]
  },
  {
   "cell_type": "code",
   "execution_count": null,
   "id": "f858ca3d-074d-482c-b77a-071ba132742e",
   "metadata": {},
   "outputs": [],
   "source": [
    "merged_df[\"Total_Actions\"] = merged_df.apply(lambda row: row[action_columns].sum(), axis=1)\n",
    "merged_df[\"Triple_Prob_Dict\"] = merged_df.apply(lambda row: {\n",
    "    \"Pass\": (row[\"Att_pass\"]/row[\"Total_Actions\"]),\n",
    "    \"Shot\": row[\"Att_shot\"]/row[\"Total_Actions\"],\n",
    "    \"Dribble\": row[\"Att_dribble\"]/row[\"Total_Actions\"],\n",
    "}, axis=1)"
   ]
  },
  {
   "cell_type": "code",
   "execution_count": null,
   "id": "62e54678-7063-4eac-81c0-b67b94cf6748",
   "metadata": {},
   "outputs": [],
   "source": [
    "exrow = merged_df.sort_values(\"Att_dribble\",ascending=False).iloc[72].Triple_Prob_Dict\n",
    "avg = location_df[[\"pass_prob\",\"shot_prob\",\"dribble_prob\"]].mean()"
   ]
  },
  {
   "cell_type": "code",
   "execution_count": null,
   "id": "fbfa2194-f879-477d-b860-03506ca692b6",
   "metadata": {},
   "outputs": [],
   "source": [
    "d = {\n",
    "    \"p\": exrow[\"Pass\"] /  avg[\"pass_prob\"],# * f[\"pass_prob\"],\n",
    "    \"s\": exrow[\"Shot\"] / avg[\"shot_prob\"],#  * f[\"shot_prob\"],\n",
    "    \"d\": exrow[\"Dribble\"] / avg[\"dribble_prob\"],#  * f[\"shot_prob\"],\n",
    "}\n",
    "d"
   ]
  }
 ],
 "metadata": {
  "kernelspec": {
   "display_name": "Python 3 (ipykernel)",
   "language": "python",
   "name": "python3"
  },
  "language_info": {
   "codemirror_mode": {
    "name": "ipython",
    "version": 3
   },
   "file_extension": ".py",
   "mimetype": "text/x-python",
   "name": "python",
   "nbconvert_exporter": "python",
   "pygments_lexer": "ipython3",
   "version": "3.11.7"
  }
 },
 "nbformat": 4,
 "nbformat_minor": 5
}
