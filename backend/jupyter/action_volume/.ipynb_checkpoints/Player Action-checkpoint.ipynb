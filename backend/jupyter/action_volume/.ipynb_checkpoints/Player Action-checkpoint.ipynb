{
 "cells": [
  {
   "cell_type": "code",
   "execution_count": 311,
   "id": "4eb1678c-7551-4975-9050-e1565d189834",
   "metadata": {},
   "outputs": [],
   "source": [
    "import pandas as pd\n",
    "import numpy as np\n",
    "import os\n",
    "import sys\n",
    "import math\n",
    "import json\n",
    "from sklearn.model_selection import train_test_split\n",
    "from sklearn.linear_model import LinearRegression\n",
    "from sklearn.metrics import mean_squared_error, r2_score\n",
    "from sklearn.preprocessing import StandardScaler\n",
    "import seaborn as sns\n",
    "import matplotlib.pyplot as plt\n",
    "from mplsoccer.pitch import Pitch\n",
    "import matplotlib.patches as patches"
   ]
  },
  {
   "cell_type": "code",
   "execution_count": 312,
   "id": "54185400-e4e9-4fc3-811f-f5e755ce79e4",
   "metadata": {},
   "outputs": [],
   "source": [
    "import warnings\n",
    "from sklearn.exceptions import UndefinedMetricWarning\n",
    "from pandas.errors import SettingWithCopyWarning\n",
    "warnings.filterwarnings(action='ignore', category=UndefinedMetricWarning)\n",
    "warnings.simplefilter(action='ignore', category=(SettingWithCopyWarning))\n",
    "warnings.simplefilter(action='ignore', category=(FutureWarning))\n",
    "warnings.simplefilter(action='ignore', category=RuntimeWarning)"
   ]
  },
  {
   "cell_type": "code",
   "execution_count": 313,
   "id": "686e33dc-d271-44f5-94d2-04afed5404d0",
   "metadata": {},
   "outputs": [],
   "source": [
    "parent_dir = os.path.abspath(os.path.join(os.path.dirname(\"./\"), '..'))\n",
    "sys.path.append(parent_dir)\n",
    "from tools.lineup_tpr import LineupTPR\n",
    "from tools.pickler import Save_Model, Load_Model\n",
    "from tools.draw_pitch_plot import Draw_Pitch_Actions\n",
    "from tools.fm_attributes import Attributes\n",
    "fm_attributes = Attributes.attribute_list\n",
    "gk_attributes = Attributes.gk_attributes"
   ]
  },
  {
   "cell_type": "code",
   "execution_count": 314,
   "id": "8247c91a-81dd-46c5-a57b-56a6b9044876",
   "metadata": {},
   "outputs": [],
   "source": [
    "players_df = pd.read_csv(\"../players_db/fm23/fm23db_processed.csv\")\n",
    "team_df = pd.read_csv(\"../players_db/fm23/team_ratings.csv\")"
   ]
  },
  {
   "cell_type": "markdown",
   "id": "957c7a09-471e-4d01-85df-9976e7083563",
   "metadata": {},
   "source": [
    "<br><br><br><br><br><br><br><br>\n",
    "<h2 style=\"color:beige;background:blue;\">  Data Prep --- for Action Player Volume Regression</h2>"
   ]
  },
  {
   "cell_type": "markdown",
   "id": "416bbb8b-a5fd-40e6-b724-d40d40f3c9a9",
   "metadata": {},
   "source": [
    "<br><br><br><br>\n",
    "<h3 style=\"color:yellow;background:pink;\">  Passing</h3>"
   ]
  },
  {
   "cell_type": "code",
   "execution_count": 397,
   "id": "07276367-2611-4ef5-93ae-0e51f89e4057",
   "metadata": {},
   "outputs": [],
   "source": [
    "# url = \"https://fbref.com/en/comps/Big5/2022-2023/passing/players/2022-2023-Big-5-European-Leagues-Stats\"\n",
    "# dataPASSING = pd.read_html(url)\n",
    "# # Att, Att, Att -> same column names occurs\n",
    "# fb = dataPASSING[0]\n",
    "# #fb.columns\n",
    "# fb['90s'] = pd.to_numeric(fb[('Unnamed: 8_level_0','90s')], errors='coerce')\n",
    "# fb['Att'] = pd.to_numeric(fb[('Total','Att')], errors='coerce')\n",
    "# fb['Pos'] = fb[('Unnamed: 3_level_0','Pos')]\n",
    "# fb['Squad'] = fb[('Unnamed: 4_level_0','Squad')]\n",
    "# fb['Player'] = fb[('Unnamed: 1_level_0','Player')]\n",
    "# fb['Pass/90'] = fb['Att'] / fb['90s']\n",
    "# fb2 = fb[fb[\"90s\"] > 15]\n",
    "# fb2.columns = fb2.columns.get_level_values(0)\n",
    "# fb2.sort_values(by=\"Pass/90\", ascending=False).head(3)[[\"Pos\",\"Squad\",\"Player\",\"Att\",\"Pass/90\"]]"
   ]
  },
  {
   "cell_type": "code",
   "execution_count": 398,
   "id": "020fa133-4a2b-428f-8f16-0c065563665e",
   "metadata": {},
   "outputs": [],
   "source": [
    "fb2_raw = pd.read_csv(\"data/Big5@Players@Passing@2022_2023.csv\")\n",
    "fb2 = fb2_raw[fb2_raw[\"90s\"] > 15]\n",
    "fb_passing = fb2.sort_values(by=\"Pass/90\", ascending=False)[[\"Pos\",\"Squad\",\"Player\",\"Att\",\"Pass/90\"]]\n",
    "#fb_passing[\"Pos\"] = fb_passing[\"Pos\"].apply(lambda row: row.split(\",\")[0])\n",
    "pass_merged_df = pd.merge(players_df, fb_passing, how=\"inner\", left_on=\"Name\", right_on=\"Player\", suffixes=(\"\",\"_fb\"))"
   ]
  },
  {
   "cell_type": "code",
   "execution_count": 399,
   "id": "07551cfc-cfd7-451c-a373-25e5640bebd3",
   "metadata": {},
   "outputs": [
    {
     "name": "stdout",
     "output_type": "stream",
     "text": [
      "4.24\n"
     ]
    }
   ],
   "source": [
    "passing_positions = pass_merged_df.sort_values(by=\"Pass/90\", ascending=False).head(50)[\"Pos_Rank_Average\"]\n",
    "print(passing_positions.mean())\n",
    "passing_ratings = pass_merged_df.sort_values(by=\"Pass/90\", ascending=False).head(50)[fm_attributes].mean().sort_values(ascending=False)"
   ]
  },
  {
   "cell_type": "markdown",
   "id": "1c0ba480-9bc1-430f-94fd-c4f2f7e26729",
   "metadata": {},
   "source": [
    "<br><br><br><br>\n",
    "<h3 style=\"color:beige;background:red;\">  Shooting</h3>"
   ]
  },
  {
   "cell_type": "code",
   "execution_count": 400,
   "id": "8a1bcca9-7875-4235-a9e2-c96734c6a023",
   "metadata": {},
   "outputs": [],
   "source": [
    "# url = \"https://fbref.com/en/comps/Big5/2022-2023/shooting/players/2022-2023-Big-5-European-Leagues-Stats\"\n",
    "# dataSHOOTING = pd.read_html(url)\n",
    "# dataSHOOTING[0].columns = dataSHOOTING[0].columns.get_level_values(1)\n",
    "# fb = dataSHOOTING[0]\n",
    "# fb.columns\n",
    "# fb['90s'] = pd.to_numeric(fb['90s'], errors='coerce')\n",
    "# fb['Sh'] = pd.to_numeric(fb['Sh'], errors='coerce')\n",
    "# fb['Sh/90'] = pd.to_numeric(fb['Sh/90'], errors='coerce')\n",
    "# fb2 = fb[fb[\"90s\"] > 15]\n",
    "# fb2.sort_values(by=\"Sh/90\", ascending=False).head(3)[[\"Pos\",\"Squad\",\"Player\",\"Sh\",\"Sh/90\"]]"
   ]
  },
  {
   "cell_type": "code",
   "execution_count": 524,
   "id": "3942e2ea-93b8-4d6c-9631-d1e2e6894dc9",
   "metadata": {},
   "outputs": [],
   "source": [
    "fb2_raw = pd.read_csv(\"data/Big5@Players@Shooting@2022_2023.csv\")\n",
    "fb2 = fb2_raw[fb2_raw[\"90s\"] > 15]\n",
    "fb_shooters = fb2.sort_values(by=\"Sh/90\", ascending=False)[[\"Pos\",\"Squad\",\"Player\",\"Sh\",\"Sh/90\"]]\n",
    "fb_shooters[\"Pos\"] = fb_shooters[\"Pos\"].apply(lambda row: row.split(\",\")[0])\n",
    "sh_merged_df_raw = pd.merge(players_df, fb_shooters, how=\"inner\", left_on=\"Name\", right_on=\"Player\", suffixes=(\"\",\"_fb\"))\n",
    "sh_merged_df = sh_merged_df_raw[sh_merged_df_raw[\"Best_Pos\"] != \"GK\"]"
   ]
  },
  {
   "cell_type": "code",
   "execution_count": 525,
   "id": "60bf106d-cdda-4b2c-9bdc-48cf61db8383",
   "metadata": {},
   "outputs": [
    {
     "name": "stdout",
     "output_type": "stream",
     "text": [
      "11.3\n"
     ]
    }
   ],
   "source": [
    "shooters_positions = sh_merged_df.sort_values(by=\"Sh/90\", ascending=False).head(50)[\"Pos_Rank_Average\"]\n",
    "print(shooters_positions.mean())\n",
    "shooters_ratings = sh_merged_df.sort_values(by=\"Sh/90\", ascending=False).head(50)[fm_attributes].mean().sort_values(ascending=False)"
   ]
  },
  {
   "cell_type": "code",
   "execution_count": 707,
   "id": "0a21a912-c972-4a57-803a-f2087f8647e4",
   "metadata": {
    "scrolled": true
   },
   "outputs": [
    {
     "data": {
      "text/plain": [
       "0"
      ]
     },
     "execution_count": 707,
     "metadata": {},
     "output_type": "execute_result"
    }
   ],
   "source": [
    "def Prepare_Action_Player_Volume_Regression_Data(players_df, csv_file, filter_column, filter_value, target_variable, target_volume=None, topcolsN=None):\n",
    "    fb2_raw = pd.read_csv(csv_file)\n",
    "    fb2 = fb2_raw[fb2_raw[filter_column] > filter_value]\n",
    "    if target_volume:\n",
    "        fb_actions = fb2.sort_values(by=target_variable, ascending=False)[[\"Pos\",\"Squad\",\"Player\",target_volume,target_variable]]\n",
    "    else:\n",
    "        fb_actions = fb2.sort_values(by=target_variable, ascending=False)[[\"Pos\",\"Squad\",\"Player\",target_volume,target_variable]]\n",
    "    fb_actions[\"Pos\"] = fb_actions[\"Pos\"].apply(lambda row: row.split(\",\")[0])\n",
    "    sh_merged_df_raw = pd.merge(players_df, fb_actions, how=\"inner\", left_on=\"Name\", right_on=\"Player\", suffixes=(\"\",\"_fb\"))\n",
    "    sh_merged_df = sh_merged_df_raw[sh_merged_df_raw[\"Best_Pos\"] != \"GK\"]\n",
    "    position_mean = sh_merged_df.sort_values(by=target_variable, ascending=False).head(50)[\"Pos_Rank_Average\"].mean()\n",
    "    shooters_ratings = sh_merged_df.sort_values(by=target_variable, ascending=False).head(50)[fm_attributes].mean().sort_values(ascending=False)[:topcolsN].index\n",
    "    return {\n",
    "        \"zero\": 0,\n",
    "        \"target\": target_variable,\n",
    "        \"df\": sh_merged_df,\n",
    "        \"position_mean\": position_mean,\n",
    "        \"top_cols\": shooters_ratings,\n",
    "    }\n",
    "\n",
    "Prepare_Action_Player_Volume_Regression_Data(\n",
    "    players_df,\n",
    "    \"data/Big5@Players@Shooting@2022_2023.csv\",\n",
    "    \"90s\",\n",
    "    15,\n",
    "    \"Sh/90\",\n",
    "    \"Sh\",\n",
    "    12\n",
    ")[\"zero\"]"
   ]
  },
  {
   "cell_type": "markdown",
   "id": "339089db-9728-42b5-88d1-68d16f2e3cf4",
   "metadata": {},
   "source": [
    "<br><br><br><br>\n",
    "<h3 style=\"color:red;background:orange;\">  Dribbling</h3>"
   ]
  },
  {
   "cell_type": "code",
   "execution_count": 708,
   "id": "fcebb1da-d601-4d59-a340-45d1d64d5b89",
   "metadata": {},
   "outputs": [],
   "source": [
    "# url = \"https://fbref.com/en/comps/Big5/2022-2023/possession/players/2022-2023-Big-5-European-Leagues-Stats\"\n",
    "# dataDRIBBLING = pd.read_html(url)\n",
    "# fb = dataDRIBBLING[0]\n",
    "# #fb.columns\n",
    "# fb['90s'] = pd.to_numeric(fb[('Unnamed: 8_level_0','90s')], errors='coerce')\n",
    "# fb['Att'] = pd.to_numeric(fb[('Take-Ons','Att')], errors='coerce')\n",
    "# fb['Pos'] = fb[('Unnamed: 3_level_0','Pos')]\n",
    "# fb['Squad'] = fb[('Unnamed: 4_level_0','Squad')]\n",
    "# fb['Player'] = fb[('Unnamed: 1_level_0','Player')]\n",
    "# fb['Dribble/90'] = fb['Att'] / fb['90s']\n",
    "# fb2 = fb[fb[\"90s\"] > 15]\n",
    "# fb2.columns = fb2.columns.get_level_values(0)\n",
    "# fb2.sort_values(by=\"Dribble/90\", ascending=False).head(3)[[\"Pos\",\"Squad\",\"Player\",\"Att\",\"Dribble/90\"]]"
   ]
  },
  {
   "cell_type": "code",
   "execution_count": 709,
   "id": "38e3e2e9-67bc-4180-a055-fc9ec6954aa8",
   "metadata": {},
   "outputs": [],
   "source": [
    "fb2_raw = pd.read_csv(\"data/Big5@Players@Dribbling@2022_2023.csv\")\n",
    "fb2 = fb2_raw[fb2_raw[\"90s\"] > 15]\n",
    "fb_dribbling = fb2.sort_values(by=\"Dribble/90\", ascending=False)[[\"Pos\",\"Squad\",\"Player\",\"Att\",\"Dribble/90\"]]\n",
    "#fb_dribbling[\"Pos\"] = fb_dribbling[\"Pos\"].apply(lambda row: row.split(\",\")[0])\n",
    "dribble_merged_df = pd.merge(players_df, fb_dribbling, how=\"inner\", left_on=\"Name\", right_on=\"Player\", suffixes=(\"\",\"_fb\"))"
   ]
  },
  {
   "cell_type": "code",
   "execution_count": 710,
   "id": "641ac0bd-cd57-43b2-8c8d-11c725cb8080",
   "metadata": {},
   "outputs": [
    {
     "name": "stdout",
     "output_type": "stream",
     "text": [
      "9.92\n"
     ]
    }
   ],
   "source": [
    "dribbling_positions = dribble_merged_df.sort_values(by=\"Dribble/90\", ascending=False).head(50)[\"Pos_Rank_Average\"]\n",
    "print(dribbling_positions.mean())\n",
    "dribbling_ratings= dribble_merged_df.sort_values(by=\"Dribble/90\", ascending=False).head(50)[fm_attributes].mean().sort_values(ascending=False)"
   ]
  },
  {
   "cell_type": "markdown",
   "id": "3ded35f6-8164-4cea-a53d-b79737bea9b5",
   "metadata": {},
   "source": [
    "<br><br>\n",
    "<h3 style=\"color:red;background:;\"></h3>"
   ]
  },
  {
   "cell_type": "code",
   "execution_count": 711,
   "id": "9928fb49-19ed-4d59-968f-152a2d0d7f19",
   "metadata": {},
   "outputs": [],
   "source": [
    "# dataPASSING[0].to_csv(\"data/Big5@Players@Passing@2022_2023.csv\",index=False)\n",
    "# dataSHOOTING[0].to_csv(\"data/Big5@Players@Shooting@2022_2023.csv\",index=False)\n",
    "# dataDRIBBLING[0].to_csv(\"data/Big5@Players@Dribbling@2022_2023.csv\",index=False)"
   ]
  },
  {
   "cell_type": "markdown",
   "id": "11fc1fa8-644b-4bc9-8127-a2ab16f444a0",
   "metadata": {},
   "source": [
    "<br><br><br><br><br><br><br><br>\n",
    "<h2 style=\"color:aqua;background:darkblue;\">  Action Player Volume Regression</h2>"
   ]
  },
  {
   "cell_type": "code",
   "execution_count": 712,
   "id": "bf387398-cd27-4a05-b5a5-b03ef972159e",
   "metadata": {},
   "outputs": [],
   "source": [
    "# pass_merged_df, sh_merged_df, dribble_merged_df"
   ]
  },
  {
   "cell_type": "code",
   "execution_count": 572,
   "id": "d3c87e82-8c2f-4c5d-8b5a-37f824cb6224",
   "metadata": {},
   "outputs": [],
   "source": [
    "# passing_top_cols, shooting_top_cols, dribbling_top_cols"
   ]
  },
  {
   "cell_type": "code",
   "execution_count": 573,
   "id": "7d232020-0b7f-418a-a747-945783aac9e4",
   "metadata": {},
   "outputs": [],
   "source": [
    "top_N = 12"
   ]
  },
  {
   "cell_type": "code",
   "execution_count": 574,
   "id": "d41a1279-4c67-4c9f-9ed2-618435165de9",
   "metadata": {},
   "outputs": [
    {
     "data": {
      "text/plain": [
       "Index(['Off_the_Ball', 'Technique', 'Flair', 'Pace', 'Acceleration',\n",
       "       'First_Touch', 'Finishing', 'Agility', 'Determination', 'Dribbling',\n",
       "       'Anticipation', 'Natural_Fitness'],\n",
       "      dtype='object')"
      ]
     },
     "execution_count": 574,
     "metadata": {},
     "output_type": "execute_result"
    }
   ],
   "source": [
    "shooting_top_cols = shooters_ratings[:top_N].index\n",
    "shooting_top_cols"
   ]
  },
  {
   "cell_type": "code",
   "execution_count": 575,
   "id": "bf75abaf-a7e8-4cdc-b4a2-204e47fce443",
   "metadata": {},
   "outputs": [
    {
     "data": {
      "text/plain": [
       "Index(['Determination', 'Stamina', 'Natural_Fitness', 'Anticipation',\n",
       "       'Work_Rate', 'Teamwork', 'Bravery', 'Composure', 'Tackling', 'Balance',\n",
       "       'Strength', 'Decisions'],\n",
       "      dtype='object')"
      ]
     },
     "execution_count": 575,
     "metadata": {},
     "output_type": "execute_result"
    }
   ],
   "source": [
    "passing_top_cols = passing_ratings[:top_N].index\n",
    "passing_top_cols"
   ]
  },
  {
   "cell_type": "code",
   "execution_count": 576,
   "id": "2f9c7c1d-b6f4-4165-8125-77627c36b081",
   "metadata": {},
   "outputs": [
    {
     "data": {
      "text/plain": [
       "Index(['Dribbling', 'Acceleration', 'Flair', 'Pace', 'Technique', 'Agility',\n",
       "       'First_Touch', 'Determination', 'Natural_Fitness', 'Off_the_Ball',\n",
       "       'Passing', 'Vision'],\n",
       "      dtype='object')"
      ]
     },
     "execution_count": 576,
     "metadata": {},
     "output_type": "execute_result"
    }
   ],
   "source": [
    "dribbling_top_cols = dribbling_ratings[:top_N].index\n",
    "dribbling_top_cols"
   ]
  },
  {
   "cell_type": "markdown",
   "id": "a062cad3-adfe-416a-afda-dd91d4c5d9b8",
   "metadata": {},
   "source": [
    "<br><br>"
   ]
  },
  {
   "cell_type": "code",
   "execution_count": 681,
   "id": "ecabe565-a20f-41df-9a62-a4f0949bdea9",
   "metadata": {
    "scrolled": true
   },
   "outputs": [
    {
     "name": "stdout",
     "output_type": "stream",
     "text": [
      "0.01 1 11.385355559497983\n",
      "0.02 1 10.814237710333904\n",
      "0.04 1 9.879300522431377\n",
      "0.05 1 8.849401623376748\n",
      "0.06 1 8.752424216157419\n",
      "0.08 1 8.636103749233392\n",
      "0.09 1 8.50324365969474\n",
      "0.09 2 8.43513964788689\n",
      "0.09 3 8.325249882697124\n",
      "0.09 6 8.22663428568669\n"
     ]
    },
    {
     "ename": "KeyboardInterrupt",
     "evalue": "",
     "output_type": "error",
     "traceback": [
      "\u001b[1;31m---------------------------------------------------------------------------\u001b[0m",
      "\u001b[1;31mKeyboardInterrupt\u001b[0m                         Traceback (most recent call last)",
      "Cell \u001b[1;32mIn[681], line 22\u001b[0m\n\u001b[0;32m     20\u001b[0m \u001b[38;5;28;01mfor\u001b[39;00m num \u001b[38;5;129;01min\u001b[39;00m \u001b[38;5;28mrange\u001b[39m(\u001b[38;5;241m1\u001b[39m,\u001b[38;5;241m100\u001b[39m):\n\u001b[0;32m     21\u001b[0m     test_size \u001b[38;5;241m=\u001b[39m \u001b[38;5;28mround\u001b[39m(num\u001b[38;5;241m/\u001b[39m\u001b[38;5;241m100\u001b[39m, \u001b[38;5;241m3\u001b[39m)\n\u001b[1;32m---> 22\u001b[0m     this_mae \u001b[38;5;241m=\u001b[39m Train_Model(current_df, chosen_dict[\u001b[38;5;124m\"\u001b[39m\u001b[38;5;124mtop_cols\u001b[39m\u001b[38;5;124m\"\u001b[39m], chosen_dict[\u001b[38;5;124m\"\u001b[39m\u001b[38;5;124mtarget\u001b[39m\u001b[38;5;124m\"\u001b[39m], test_size)[\u001b[38;5;124m\"\u001b[39m\u001b[38;5;124mmae\u001b[39m\u001b[38;5;124m\"\u001b[39m]\n\u001b[0;32m     23\u001b[0m     \u001b[38;5;28;01mif\u001b[39;00m this_mae \u001b[38;5;241m<\u001b[39m mae:\n\u001b[0;32m     24\u001b[0m         mae \u001b[38;5;241m=\u001b[39mthis_mae\n",
      "Cell \u001b[1;32mIn[646], line 13\u001b[0m, in \u001b[0;36mTrain_Model\u001b[1;34m(df, top_cols, target, test_size)\u001b[0m\n\u001b[0;32m     11\u001b[0m X_train, X_test, y_train, y_test \u001b[38;5;241m=\u001b[39m train_test_split(X, y, test_size\u001b[38;5;241m=\u001b[39mtest_size, random_state\u001b[38;5;241m=\u001b[39m\u001b[38;5;241m0\u001b[39m)\n\u001b[0;32m     12\u001b[0m model \u001b[38;5;241m=\u001b[39m LinearRegression()\n\u001b[1;32m---> 13\u001b[0m model\u001b[38;5;241m.\u001b[39mfit(X_train, y_train)\n\u001b[0;32m     14\u001b[0m y_pred_raw \u001b[38;5;241m=\u001b[39m model\u001b[38;5;241m.\u001b[39mpredict(X_test)\n\u001b[0;32m     15\u001b[0m y_pred \u001b[38;5;241m=\u001b[39m [\u001b[38;5;28mmax\u001b[39m(\u001b[38;5;241m0\u001b[39m, pred) \u001b[38;5;28;01mfor\u001b[39;00m pred \u001b[38;5;129;01min\u001b[39;00m y_pred_raw]\n",
      "File \u001b[1;32m~\\anaconda3\\Lib\\site-packages\\sklearn\\linear_model\\_base.py:656\u001b[0m, in \u001b[0;36mLinearRegression.fit\u001b[1;34m(self, X, y, sample_weight)\u001b[0m\n\u001b[0;32m    648\u001b[0m X, y \u001b[38;5;241m=\u001b[39m \u001b[38;5;28mself\u001b[39m\u001b[38;5;241m.\u001b[39m_validate_data(\n\u001b[0;32m    649\u001b[0m     X, y, accept_sparse\u001b[38;5;241m=\u001b[39maccept_sparse, y_numeric\u001b[38;5;241m=\u001b[39m\u001b[38;5;28;01mTrue\u001b[39;00m, multi_output\u001b[38;5;241m=\u001b[39m\u001b[38;5;28;01mTrue\u001b[39;00m\n\u001b[0;32m    650\u001b[0m )\n\u001b[0;32m    652\u001b[0m sample_weight \u001b[38;5;241m=\u001b[39m _check_sample_weight(\n\u001b[0;32m    653\u001b[0m     sample_weight, X, dtype\u001b[38;5;241m=\u001b[39mX\u001b[38;5;241m.\u001b[39mdtype, only_non_negative\u001b[38;5;241m=\u001b[39m\u001b[38;5;28;01mTrue\u001b[39;00m\n\u001b[0;32m    654\u001b[0m )\n\u001b[1;32m--> 656\u001b[0m X, y, X_offset, y_offset, X_scale \u001b[38;5;241m=\u001b[39m _preprocess_data(\n\u001b[0;32m    657\u001b[0m     X,\n\u001b[0;32m    658\u001b[0m     y,\n\u001b[0;32m    659\u001b[0m     fit_intercept\u001b[38;5;241m=\u001b[39m\u001b[38;5;28mself\u001b[39m\u001b[38;5;241m.\u001b[39mfit_intercept,\n\u001b[0;32m    660\u001b[0m     copy\u001b[38;5;241m=\u001b[39m\u001b[38;5;28mself\u001b[39m\u001b[38;5;241m.\u001b[39mcopy_X,\n\u001b[0;32m    661\u001b[0m     sample_weight\u001b[38;5;241m=\u001b[39msample_weight,\n\u001b[0;32m    662\u001b[0m )\n\u001b[0;32m    664\u001b[0m \u001b[38;5;66;03m# Sample weight can be implemented via a simple rescaling.\u001b[39;00m\n\u001b[0;32m    665\u001b[0m X, y, sample_weight_sqrt \u001b[38;5;241m=\u001b[39m _rescale_data(X, y, sample_weight)\n",
      "File \u001b[1;32m~\\anaconda3\\Lib\\site-packages\\sklearn\\linear_model\\_base.py:230\u001b[0m, in \u001b[0;36m_preprocess_data\u001b[1;34m(X, y, fit_intercept, normalize, copy, sample_weight, check_input)\u001b[0m\n\u001b[0;32m    227\u001b[0m     sample_weight \u001b[38;5;241m=\u001b[39m np\u001b[38;5;241m.\u001b[39masarray(sample_weight)\n\u001b[0;32m    229\u001b[0m \u001b[38;5;28;01mif\u001b[39;00m check_input:\n\u001b[1;32m--> 230\u001b[0m     X \u001b[38;5;241m=\u001b[39m check_array(X, copy\u001b[38;5;241m=\u001b[39mcopy, accept_sparse\u001b[38;5;241m=\u001b[39m[\u001b[38;5;124m\"\u001b[39m\u001b[38;5;124mcsr\u001b[39m\u001b[38;5;124m\"\u001b[39m, \u001b[38;5;124m\"\u001b[39m\u001b[38;5;124mcsc\u001b[39m\u001b[38;5;124m\"\u001b[39m], dtype\u001b[38;5;241m=\u001b[39mFLOAT_DTYPES)\n\u001b[0;32m    231\u001b[0m \u001b[38;5;28;01melif\u001b[39;00m copy:\n\u001b[0;32m    232\u001b[0m     \u001b[38;5;28;01mif\u001b[39;00m sp\u001b[38;5;241m.\u001b[39missparse(X):\n",
      "File \u001b[1;32m~\\anaconda3\\Lib\\site-packages\\sklearn\\utils\\validation.py:879\u001b[0m, in \u001b[0;36mcheck_array\u001b[1;34m(array, accept_sparse, accept_large_sparse, dtype, order, copy, force_all_finite, ensure_2d, allow_nd, ensure_min_samples, ensure_min_features, estimator, input_name)\u001b[0m\n\u001b[0;32m    877\u001b[0m         array \u001b[38;5;241m=\u001b[39m xp\u001b[38;5;241m.\u001b[39mastype(array, dtype, copy\u001b[38;5;241m=\u001b[39m\u001b[38;5;28;01mFalse\u001b[39;00m)\n\u001b[0;32m    878\u001b[0m     \u001b[38;5;28;01melse\u001b[39;00m:\n\u001b[1;32m--> 879\u001b[0m         array \u001b[38;5;241m=\u001b[39m _asarray_with_order(array, order\u001b[38;5;241m=\u001b[39morder, dtype\u001b[38;5;241m=\u001b[39mdtype, xp\u001b[38;5;241m=\u001b[39mxp)\n\u001b[0;32m    880\u001b[0m \u001b[38;5;28;01mexcept\u001b[39;00m ComplexWarning \u001b[38;5;28;01mas\u001b[39;00m complex_warning:\n\u001b[0;32m    881\u001b[0m     \u001b[38;5;28;01mraise\u001b[39;00m \u001b[38;5;167;01mValueError\u001b[39;00m(\n\u001b[0;32m    882\u001b[0m         \u001b[38;5;124m\"\u001b[39m\u001b[38;5;124mComplex data not supported\u001b[39m\u001b[38;5;130;01m\\n\u001b[39;00m\u001b[38;5;132;01m{}\u001b[39;00m\u001b[38;5;130;01m\\n\u001b[39;00m\u001b[38;5;124m\"\u001b[39m\u001b[38;5;241m.\u001b[39mformat(array)\n\u001b[0;32m    883\u001b[0m     ) \u001b[38;5;28;01mfrom\u001b[39;00m \u001b[38;5;21;01mcomplex_warning\u001b[39;00m\n",
      "File \u001b[1;32m~\\anaconda3\\Lib\\site-packages\\sklearn\\utils\\_array_api.py:185\u001b[0m, in \u001b[0;36m_asarray_with_order\u001b[1;34m(array, dtype, order, copy, xp)\u001b[0m\n\u001b[0;32m    182\u001b[0m     xp, _ \u001b[38;5;241m=\u001b[39m get_namespace(array)\n\u001b[0;32m    183\u001b[0m \u001b[38;5;28;01mif\u001b[39;00m xp\u001b[38;5;241m.\u001b[39m\u001b[38;5;18m__name__\u001b[39m \u001b[38;5;129;01min\u001b[39;00m {\u001b[38;5;124m\"\u001b[39m\u001b[38;5;124mnumpy\u001b[39m\u001b[38;5;124m\"\u001b[39m, \u001b[38;5;124m\"\u001b[39m\u001b[38;5;124mnumpy.array_api\u001b[39m\u001b[38;5;124m\"\u001b[39m}:\n\u001b[0;32m    184\u001b[0m     \u001b[38;5;66;03m# Use NumPy API to support order\u001b[39;00m\n\u001b[1;32m--> 185\u001b[0m     array \u001b[38;5;241m=\u001b[39m numpy\u001b[38;5;241m.\u001b[39masarray(array, order\u001b[38;5;241m=\u001b[39morder, dtype\u001b[38;5;241m=\u001b[39mdtype)\n\u001b[0;32m    186\u001b[0m     \u001b[38;5;28;01mreturn\u001b[39;00m xp\u001b[38;5;241m.\u001b[39masarray(array, copy\u001b[38;5;241m=\u001b[39mcopy)\n\u001b[0;32m    187\u001b[0m \u001b[38;5;28;01melse\u001b[39;00m:\n",
      "\u001b[1;31mKeyboardInterrupt\u001b[0m: "
     ]
    }
   ],
   "source": [
    "mae = 100\n",
    "\n",
    "for topN in range(1, len(fm_attributes)):\n",
    "    prep_by = Prepare_Action_Player_Volume_Regression_Data(\n",
    "        players_df,\n",
    "        \"data/Big5@Players@Passing@2022_2023.csv\",\n",
    "        \"90s\",\n",
    "        45,\n",
    "        \"Pass/90\",\n",
    "        \"Att\",\n",
    "        topN\n",
    "    )\n",
    "    \n",
    "    chosen_dict = {\n",
    "        \"df\": prep_by[\"df\"],\n",
    "        \"top_cols\": prep_by[\"top_cols\"],\n",
    "        \"target\": prep_by[\"target\"],\n",
    "    }\n",
    "    \n",
    "    for num in range(1,100):\n",
    "        test_size = round(num/100, 3)\n",
    "        this_mae = Train_Model(current_df, chosen_dict[\"top_cols\"], chosen_dict[\"target\"], test_size)[\"mae\"]\n",
    "        if this_mae < mae:\n",
    "            mae =this_mae\n",
    "            print(test_size, topN, mae)"
   ]
  },
  {
   "cell_type": "code",
   "execution_count": 691,
   "id": "0ad348be-968e-434f-8760-5f927664ebe9",
   "metadata": {},
   "outputs": [],
   "source": [
    "prep_by = Prepare_Action_Player_Volume_Regression_Data(\n",
    "    players_df,\n",
    "    \"data/Big5@Players@Passing@2022_2023.csv\",\n",
    "    \"90s\",\n",
    "    15,\n",
    "    \"Pass/90\",\n",
    "    \"Att\",\n",
    "    45\n",
    ")\n",
    "\n",
    "chosen_dict = {\n",
    "    \"df\": prep_by[\"df\"],\n",
    "    \"top_cols\": prep_by[\"top_cols\"],\n",
    "    \"target\": prep_by[\"target\"],\n",
    "}"
   ]
  },
  {
   "cell_type": "code",
   "execution_count": 692,
   "id": "642c031b-1ee9-4196-855e-862087d01355",
   "metadata": {},
   "outputs": [],
   "source": [
    "current_df_extra = pd.merge(team_df, players_df, how=\"inner\", left_on=\"Club\", right_on=\"Club\", suffixes=(\"_club\",\"\"))\n",
    "\n",
    "action_merged_df = chosen_dict[\"df\"].copy()\n",
    "current_df = pd.merge(team_df, action_merged_df, how=\"inner\", left_on=\"fbref_name\", right_on=\"Squad\", suffixes=(\"_club\",\"\"))\n",
    "\n",
    "current_cols = np.concatenate((chosen_dict[\"top_cols\"], [\"Pos_Rank_Average\"], [\"tpr\",\"tpr_club\"]))\n",
    "current_target = chosen_dict[\"target\"]"
   ]
  },
  {
   "cell_type": "code",
   "execution_count": 693,
   "id": "9e51cbfc-81e8-4849-8760-39cad1316ac3",
   "metadata": {},
   "outputs": [],
   "source": [
    "def Train_Model(df, top_cols, target, test_size):\n",
    "    from sklearn.model_selection import train_test_split, GridSearchCV\n",
    "    from sklearn.ensemble import RandomForestRegressor\n",
    "    from sklearn.linear_model import LinearRegression \n",
    "    from sklearn.metrics import mean_squared_error, r2_score, mean_absolute_error\n",
    "\n",
    "    current_cols = np.concatenate((top_cols, [\"Pos_Rank_Average\"], [\"tpr\",\"tpr_club\"]))\n",
    "    X = df[current_cols]\n",
    "    y = df[target].astype(float)\n",
    "    \n",
    "    X_train, X_test, y_train, y_test = train_test_split(X, y, test_size=test_size, random_state=0)\n",
    "    model = LinearRegression()\n",
    "    model.fit(X_train, y_train)\n",
    "    y_pred_raw = model.predict(X_test)\n",
    "    y_pred = [max(0, pred) for pred in y_pred_raw]\n",
    "    \n",
    "    mse = mean_squared_error(y_test, y_pred)\n",
    "    mae = mean_absolute_error(y_test, y_pred)\n",
    "    r2 = r2_score(y_test, y_pred)\n",
    "    \n",
    "    return {\n",
    "        \"model\": model,\n",
    "        \"mse\": mse,\n",
    "        \"mae\": mae,\n",
    "        \"r2\": r2\n",
    "    }"
   ]
  },
  {
   "cell_type": "code",
   "execution_count": 694,
   "id": "bca99065-30f3-429d-9781-3bf1c626e464",
   "metadata": {},
   "outputs": [],
   "source": [
    "model = Train_Model(current_df, chosen_dict[\"top_cols\"], chosen_dict[\"target\"], 0.09)[\"model\"]"
   ]
  },
  {
   "cell_type": "code",
   "execution_count": 695,
   "id": "63f93277-4fea-4731-9d80-73e2220feb7e",
   "metadata": {
    "scrolled": true
   },
   "outputs": [],
   "source": [
    "# for num in range(1,100):\n",
    "#     test_size = round(num/100, 3)\n",
    "#     #print(test_size, Train_Model(current_df, chosen_dict[\"top_cols\"], chosen_dict[\"target\"], test_size)[\"mae\"])"
   ]
  },
  {
   "cell_type": "code",
   "execution_count": 696,
   "id": "3b0fc4a5-d61f-4ec3-8697-60cf1ebc5b36",
   "metadata": {},
   "outputs": [],
   "source": [
    "def DictToPredictionDict(d: dict) -> pd.DataFrame:\n",
    "    rdict = {}\n",
    "    for k,v in d.items():\n",
    "        rdict[k] = [v]\n",
    "    return pd.DataFrame(rdict)"
   ]
  },
  {
   "cell_type": "code",
   "execution_count": 697,
   "id": "912d6fa8-91c1-4943-a63e-fb3fc24ea799",
   "metadata": {},
   "outputs": [],
   "source": [
    "def PlayerPredict(player_name, print_stats=False):\n",
    "    if print_stats:\n",
    "        selected_df = current_df \n",
    "    else:\n",
    "        selected_df = current_df_extra\n",
    "    d0 = selected_df.query(f\"Name == '{player_name}'\").iloc[0]\n",
    "    d1 = d0[current_cols].to_dict()\n",
    "    d2 = DictToPredictionDict(d1)\n",
    "    \n",
    "    print(f\"Name:\\t\\t{d0['Name']}\")\n",
    "    print(f\"Pos_Rank_Avg:\\t{d0['Pos_Rank_Average']}\")\n",
    "    if print_stats:\n",
    "        print(f\"Real:\\t\\t{d0[current_target]}\")\n",
    "    prediction = max(0, model.predict(d2)[0])\n",
    "    print(f\"Prediction:\\t[{prediction}]\")\n",
    "    return prediction"
   ]
  },
  {
   "cell_type": "code",
   "execution_count": 698,
   "id": "ef7c9c26-d0c4-48b1-b11d-2d57c5ab66a2",
   "metadata": {},
   "outputs": [],
   "source": [
    "def Model_Predict(row, cols):\n",
    "    d1 = row[cols].to_dict()\n",
    "    d2 = DictToPredictionDict(d1)\n",
    "    prediction = max(0, model.predict(d2)[0])\n",
    "    return float(round(prediction, 2))"
   ]
  },
  {
   "cell_type": "code",
   "execution_count": 699,
   "id": "d51df53e-77ad-44a2-a11b-85e7233c7ee1",
   "metadata": {},
   "outputs": [
    {
     "name": "stdout",
     "output_type": "stream",
     "text": [
      "Name:\t\tKevin De Bruyne\n",
      "Pos_Rank_Avg:\t8\n",
      "Real:\t\t60.446096654275095\n",
      "Prediction:\t[67.68254238274645]\n"
     ]
    },
    {
     "data": {
      "text/plain": [
       "67.68254238274645"
      ]
     },
     "execution_count": 699,
     "metadata": {},
     "output_type": "execute_result"
    }
   ],
   "source": [
    "PlayerPredict(\"Kevin De Bruyne\", True)"
   ]
  },
  {
   "cell_type": "code",
   "execution_count": 700,
   "id": "d75498f8-89b3-45a7-91ac-79b09900d11f",
   "metadata": {
    "scrolled": true
   },
   "outputs": [
    {
     "name": "stdout",
     "output_type": "stream",
     "text": [
      "Name:\t\tHarry Kane\n",
      "Pos_Rank_Avg:\t10\n",
      "Real:\t\t24.365079365079367\n",
      "Prediction:\t[47.554945148687565]\n"
     ]
    },
    {
     "data": {
      "text/plain": [
       "47.554945148687565"
      ]
     },
     "execution_count": 700,
     "metadata": {},
     "output_type": "execute_result"
    }
   ],
   "source": [
    "PlayerPredict(\"Harry Kane\", True)"
   ]
  },
  {
   "cell_type": "code",
   "execution_count": 701,
   "id": "95f82743-52f2-42d2-9cbd-91f1f33e05f0",
   "metadata": {},
   "outputs": [],
   "source": [
    "from tools.pickler import Save_Model, Load_Model\n",
    "#Save_Model(\"_\", \"models/XXXXXXXXXX_per_90_model\", model)"
   ]
  },
  {
   "cell_type": "markdown",
   "id": "6b549eaa-b47a-48a8-8e71-bd531eab5a64",
   "metadata": {},
   "source": [
    "<br><br>"
   ]
  },
  {
   "cell_type": "code",
   "execution_count": 702,
   "id": "c0381142-df81-40fd-b1b5-9b119bc15472",
   "metadata": {},
   "outputs": [
    {
     "data": {
      "text/plain": [
       "Predicted    46.385986\n",
       "Pass/90      46.476848\n",
       "Error        -0.090862\n",
       "dtype: float64"
      ]
     },
     "execution_count": 702,
     "metadata": {},
     "output_type": "execute_result"
    }
   ],
   "source": [
    "predicted_df = current_df.copy()\n",
    "predicted_df[\"Predicted\"] = predicted_df.apply(lambda row: Model_Predict(row, model.feature_names_in_), axis=1)\n",
    "predicted_df[\"Error\"] = predicted_df[\"Predicted\"] - predicted_df[ chosen_dict[\"target\"] ]\n",
    "predicted_df[[\"Predicted\",chosen_dict[\"target\"],\"Error\"]].mean()"
   ]
  },
  {
   "cell_type": "code",
   "execution_count": 703,
   "id": "b0402a0e-d222-494a-8c05-73ae6427b4fb",
   "metadata": {},
   "outputs": [],
   "source": [
    "predicted_team_name = \"Real Madrid\"\n",
    "team_using_df = predicted_df.query(f\"Club == '{predicted_team_name}'\") \\\n",
    "            [[\"Name\",\"Best_Pos\",\"Pos_Rank_Average\",\"Predicted\",chosen_dict[\"target\"],\"Error\"]] \\\n",
    "            .sort_values(\"Predicted\", ascending=False)"
   ]
  },
  {
   "cell_type": "markdown",
   "id": "ccdd0fb7-104c-4a5c-a606-c7527c86b2e5",
   "metadata": {},
   "source": [
    "<br><br>"
   ]
  },
  {
   "cell_type": "code",
   "execution_count": 704,
   "id": "3bbbc1e0-7a3b-4158-bdaf-4514fd8cf099",
   "metadata": {},
   "outputs": [
    {
     "name": "stdout",
     "output_type": "stream",
     "text": [
      "639.1899999999999\n"
     ]
    }
   ],
   "source": [
    "only_fbref_df = current_df.copy()\n",
    "only_fbref_df[\"Predicted\"] = only_fbref_df.apply(lambda row: Model_Predict(row, model.feature_names_in_), axis=1)\n",
    "\n",
    "all_players_df = current_df_extra.copy()\n",
    "all_players_df[\"Predicted\"] = all_players_df.apply(lambda row: Model_Predict(row, model.feature_names_in_), axis=1)\n",
    "\n",
    "tm_name = \"Real Madrid\"\n",
    "tm_name = \"Manchester City\"\n",
    "\n",
    "try:\n",
    "    tm = only_fbref_df.copy()\n",
    "    tm[\"Error\"] = tm[\"Predicted\"] - tm[ chosen_dict[\"target\"] ]\n",
    "    tm2 = LineupTPR(tm, tm_name)[[\"Name\",\"Best_Pos\",\"Pos_Rank_Average\",\"Predicted\",chosen_dict[\"target\"],\"Error\"]]\n",
    "except:   \n",
    "    tm = all_players_df.copy()\n",
    "    tm2 = LineupTPR(tm, tm_name)[[\"Club\",\"Name\",\"Best_Pos\",\"Playing_Position\",\"Pos_Rank_Average\",\"Predicted\"]]\n",
    "\n",
    "print( tm2[\"Predicted\"].sum() )"
   ]
  },
  {
   "cell_type": "code",
   "execution_count": 705,
   "id": "ab61c67a-fb7f-4f72-89af-51a6927b7dc5",
   "metadata": {},
   "outputs": [
    {
     "data": {
      "text/html": [
       "<div>\n",
       "<style scoped>\n",
       "    .dataframe tbody tr th:only-of-type {\n",
       "        vertical-align: middle;\n",
       "    }\n",
       "\n",
       "    .dataframe tbody tr th {\n",
       "        vertical-align: top;\n",
       "    }\n",
       "\n",
       "    .dataframe thead th {\n",
       "        text-align: right;\n",
       "    }\n",
       "</style>\n",
       "<table border=\"1\" class=\"dataframe\">\n",
       "  <thead>\n",
       "    <tr style=\"text-align: right;\">\n",
       "      <th></th>\n",
       "      <th>UID</th>\n",
       "      <th>Club</th>\n",
       "      <th>Name</th>\n",
       "      <th>Best_Pos</th>\n",
       "      <th>Pos_Rank_Average</th>\n",
       "      <th>Predicted</th>\n",
       "    </tr>\n",
       "  </thead>\n",
       "  <tbody>\n",
       "    <tr>\n",
       "      <th>3</th>\n",
       "      <td>8718372</td>\n",
       "      <td>FC Bayern</td>\n",
       "      <td>Manuel Neuer</td>\n",
       "      <td>GK</td>\n",
       "      <td>0</td>\n",
       "      <td>98.95</td>\n",
       "    </tr>\n",
       "    <tr>\n",
       "      <th>45</th>\n",
       "      <td>35017428</td>\n",
       "      <td>FC Barcelona</td>\n",
       "      <td>Marc-André ter Stegen</td>\n",
       "      <td>GK</td>\n",
       "      <td>0</td>\n",
       "      <td>96.69</td>\n",
       "    </tr>\n",
       "    <tr>\n",
       "      <th>1831</th>\n",
       "      <td>63002306</td>\n",
       "      <td>Manchester United</td>\n",
       "      <td>Martin Dúbravka</td>\n",
       "      <td>GK</td>\n",
       "      <td>0</td>\n",
       "      <td>95.79</td>\n",
       "    </tr>\n",
       "    <tr>\n",
       "      <th>112</th>\n",
       "      <td>67006173</td>\n",
       "      <td>Liverpool</td>\n",
       "      <td>Adrián</td>\n",
       "      <td>GK</td>\n",
       "      <td>0</td>\n",
       "      <td>94.25</td>\n",
       "    </tr>\n",
       "    <tr>\n",
       "      <th>196</th>\n",
       "      <td>64016316</td>\n",
       "      <td>Atlético Madrid</td>\n",
       "      <td>Jan Oblak</td>\n",
       "      <td>GK</td>\n",
       "      <td>0</td>\n",
       "      <td>93.70</td>\n",
       "    </tr>\n",
       "  </tbody>\n",
       "</table>\n",
       "</div>"
      ],
      "text/plain": [
       "           UID               Club                   Name Best_Pos  \\\n",
       "3      8718372          FC Bayern           Manuel Neuer       GK   \n",
       "45    35017428       FC Barcelona  Marc-André ter Stegen       GK   \n",
       "1831  63002306  Manchester United        Martin Dúbravka       GK   \n",
       "112   67006173          Liverpool                 Adrián       GK   \n",
       "196   64016316    Atlético Madrid              Jan Oblak       GK   \n",
       "\n",
       "      Pos_Rank_Average  Predicted  \n",
       "3                    0      98.95  \n",
       "45                   0      96.69  \n",
       "1831                 0      95.79  \n",
       "112                  0      94.25  \n",
       "196                  0      93.70  "
      ]
     },
     "execution_count": 705,
     "metadata": {},
     "output_type": "execute_result"
    }
   ],
   "source": [
    "all_players_df[[\"UID\",\"Club\",\"Name\",\"Best_Pos\",\"Pos_Rank_Average\",\"Predicted\"]].sort_values(\"Predicted\", ascending=False).head(5)"
   ]
  },
  {
   "cell_type": "code",
   "execution_count": 706,
   "id": "d736dd24-fbd6-4146-b0e6-931bd36b0ee2",
   "metadata": {},
   "outputs": [],
   "source": [
    "y_df = pd.merge(players_df, all_players_df[[\"UID\",\"Predicted\"]], how=\"inner\", on=\"UID\")"
   ]
  },
  {
   "cell_type": "markdown",
   "id": "08a5f5d8-9a19-44d5-9b96-2b71c43cc395",
   "metadata": {},
   "source": [
    "<br><br><br><br><br><br><br><br>\n",
    "<h2 style=\"color:pink;background:purple;\">  Data Prep --- for Action Player Accuracy Regressionn</h2>"
   ]
  },
  {
   "cell_type": "markdown",
   "id": "4cd1e14b-b1a3-4015-b37e-17a9806f11f9",
   "metadata": {},
   "source": [
    "<br>\n",
    "<h3 style=\"color:black;background:white;\">  Passing</h3>"
   ]
  },
  {
   "cell_type": "code",
   "execution_count": 468,
   "id": "1526e7fa-2a0a-44a0-8945-7f2ee0e603a3",
   "metadata": {},
   "outputs": [
    {
     "name": "stdout",
     "output_type": "stream",
     "text": [
      "322.3\n"
     ]
    }
   ],
   "source": [
    "fb2_raw = pd.read_csv(\"data/Big5@Players@Passing@2022_2023.csv\")\n",
    "fb2_raw[\"Att\"] = pd.to_numeric(fb2_raw[\"Att\"], errors=\"coerce\")\n",
    "filter_value = fb2_raw[\"Att\"].max() / 10\n",
    "print(filter_value)"
   ]
  },
  {
   "cell_type": "code",
   "execution_count": 469,
   "id": "edb86e5b-5b08-4439-8afd-659bd572c06a",
   "metadata": {},
   "outputs": [],
   "source": [
    "fb2 = fb2_raw[fb2_raw[\"Att\"] > filter_value]\n",
    "fb2[\"Pass_Accuracy\"] = pd.to_numeric(fb2[\"Total.2\"])\n",
    "fb_passing_acc = fb2.sort_values(by=\"Pass_Accuracy\", ascending=False)[[\"Pos\",\"Squad\",\"Player\",\"Pass_Accuracy\"]]\n",
    "#fb_passing_acc[\"Pos\"] = fb_passing_acc[\"Pos\"].apply(lambda row: row.split(\",\")[0])\n",
    "pass_merged_df = pd.merge(players_df, fb_passing_acc, how=\"inner\", left_on=\"Name\", right_on=\"Player\", suffixes=(\"\",\"_fb\"))"
   ]
  },
  {
   "cell_type": "code",
   "execution_count": 470,
   "id": "30a01895-8496-4ff0-858a-add2000f8f07",
   "metadata": {},
   "outputs": [
    {
     "name": "stdout",
     "output_type": "stream",
     "text": [
      "4.54\n"
     ]
    }
   ],
   "source": [
    "passing_positions = pass_merged_df.sort_values(by=\"Pass_Accuracy\", ascending=False).head(50)[\"Pos_Rank_Average\"]\n",
    "print(passing_positions.mean())\n",
    "passing_ratings = pass_merged_df.sort_values(by=\"Pass_Accuracy\", ascending=False).head(50)[fm_attributes].mean().sort_values(ascending=False)"
   ]
  },
  {
   "cell_type": "markdown",
   "id": "d81fdfde-60e7-47c2-ae2f-06da1d35baba",
   "metadata": {},
   "source": [
    "<br>\n",
    "<h3 style=\"color:black;background:white;\">  Shooting</h3>"
   ]
  },
  {
   "cell_type": "code",
   "execution_count": 471,
   "id": "cb7ea70e-9b6a-4c05-98e3-366fda3011d8",
   "metadata": {},
   "outputs": [
    {
     "name": "stdout",
     "output_type": "stream",
     "text": [
      "36.0\n"
     ]
    }
   ],
   "source": [
    "fb2_raw = pd.read_csv(\"data/Big5@Players@Shooting@2022_2023.csv\")\n",
    "fb2_raw = fb2_raw[fb2_raw[\"Pos\"] != \"GK\"]\n",
    "fb2_raw[\"Sh\"] = pd.to_numeric(fb2_raw[\"Sh\"], errors=\"coerce\")\n",
    "filter_value = fb2_raw[\"Sh\"].max() / 4\n",
    "print(filter_value)"
   ]
  },
  {
   "cell_type": "code",
   "execution_count": 472,
   "id": "66d3e5be-793e-42b6-9ae4-66c7c538e021",
   "metadata": {},
   "outputs": [],
   "source": [
    "fb2 = fb2_raw[fb2_raw[\"Sh\"] > filter_value]\n",
    "fb2[\"Shot_Accuracy\"] = pd.to_numeric(fb2[\"SoT%\"])\n",
    "fb_shooting_acc = fb2.sort_values(by=\"Shot_Accuracy\", ascending=False)[[\"Pos\",\"Squad\",\"Player\",\"Shot_Accuracy\"]]\n",
    "#fb_shooting_acc[\"Pos\"] = fb_shooting_acc[\"Pos\"].apply(lambda row: row.split(\",\")[0])\n",
    "sh_merged_df = pd.merge(players_df, fb_shooting_acc, how=\"inner\", left_on=\"Name\", right_on=\"Player\", suffixes=(\"\",\"_fb\"))"
   ]
  },
  {
   "cell_type": "code",
   "execution_count": 473,
   "id": "88d89262-6604-493a-998a-c13fe5b50ce7",
   "metadata": {},
   "outputs": [
    {
     "name": "stdout",
     "output_type": "stream",
     "text": [
      "10.62\n"
     ]
    }
   ],
   "source": [
    "shooters_positions = sh_merged_df.sort_values(by=\"Shot_Accuracy\", ascending=False).head(50)[\"Pos_Rank_Average\"]\n",
    "print(shooters_positions.mean())\n",
    "shooters_ratings = sh_merged_df.sort_values(by=\"Shot_Accuracy\", ascending=False).head(50)[fm_attributes].mean().sort_values(ascending=False)"
   ]
  },
  {
   "cell_type": "markdown",
   "id": "69f7db9b-78ee-4eaa-9237-672cd0546401",
   "metadata": {},
   "source": [
    "<br>\n",
    "<h3 style=\"color:black;background:white;\">  Dribbling</h3>"
   ]
  },
  {
   "cell_type": "code",
   "execution_count": 474,
   "id": "be41bb5a-4025-41f1-bc14-e91933102bbd",
   "metadata": {},
   "outputs": [
    {
     "name": "stdout",
     "output_type": "stream",
     "text": [
      "102.0\n"
     ]
    }
   ],
   "source": [
    "fb2_raw = pd.read_csv(\"data/Big5@Players@Dribbling@2022_2023.csv\")\n",
    "fb2_raw = fb2_raw[fb2_raw[\"Pos\"] != \"GK\"]\n",
    "fb2_raw[\"Take-Ons\"] = pd.to_numeric(fb2_raw[\"Take-Ons\"], errors=\"coerce\")\n",
    "filter_value = fb2_raw[\"Take-Ons\"].max() / 3\n",
    "print(filter_value)"
   ]
  },
  {
   "cell_type": "code",
   "execution_count": 475,
   "id": "04d4f3ad-fafe-4d49-bea2-e138f7d2c02c",
   "metadata": {},
   "outputs": [],
   "source": [
    "fb2 = fb2_raw[fb2_raw[\"Take-Ons\"] > filter_value].dropna()\n",
    "fb2[\"Dribble_Accuracy\"] = pd.to_numeric(fb2[\"Take-Ons.2\"])\n",
    "fb_dribbling_acc = fb2.sort_values(by=\"Dribble_Accuracy\", ascending=False)[[\"Pos\",\"Squad\",\"Player\",\"Dribble_Accuracy\"]]\n",
    "#fb_dribbling_acc[\"Pos\"] = fb_dribbling_acc[\"Pos\"].apply(lambda row: row.split(\",\")[0])\n",
    "dribble_merged_df = pd.merge(players_df, fb_dribbling_acc, how=\"inner\", left_on=\"Name\", right_on=\"Player\", suffixes=(\"\",\"_fb\"))"
   ]
  },
  {
   "cell_type": "code",
   "execution_count": 476,
   "id": "5e0ed04d-ada2-4617-afeb-d2b5fa136dd4",
   "metadata": {},
   "outputs": [
    {
     "name": "stdout",
     "output_type": "stream",
     "text": [
      "9.12\n"
     ]
    }
   ],
   "source": [
    "dribbling_positions = dribble_merged_df.sort_values(by=\"Dribble_Accuracy\", ascending=False).head(50)[\"Pos_Rank_Average\"]\n",
    "print(dribbling_positions.mean())\n",
    "dribbling_ratings= dribble_merged_df.sort_values(by=\"Dribble_Accuracy\", ascending=False).head(50)[fm_attributes].mean().sort_values(ascending=False)"
   ]
  },
  {
   "cell_type": "markdown",
   "id": "c4b1a197-3cc4-4033-b6d6-6c0e31c37d67",
   "metadata": {},
   "source": [
    "<br><br><br><br><br><br><br><br>\n",
    "<h2 style=\"color:purple;background:pink;\">Player Accuracy Regression</h2>"
   ]
  },
  {
   "cell_type": "code",
   "execution_count": 477,
   "id": "8da484f2-70f5-49fd-a54c-b448ffaf17af",
   "metadata": {},
   "outputs": [],
   "source": [
    "# pass_merged_df, sh_merged_df, dribble_merged_df"
   ]
  },
  {
   "cell_type": "code",
   "execution_count": 494,
   "id": "163b3b55-5d30-4fc2-8312-c321c3ce5e9b",
   "metadata": {},
   "outputs": [],
   "source": [
    "# passing_top_cols, shooting_top_cols, dribbling_top_cols"
   ]
  },
  {
   "cell_type": "code",
   "execution_count": 495,
   "id": "f4e2adb8-0743-4bee-a2e5-f0711ba2ff8c",
   "metadata": {},
   "outputs": [],
   "source": [
    "top_N = 12"
   ]
  },
  {
   "cell_type": "code",
   "execution_count": 496,
   "id": "bd0df001-50ca-43d7-97ec-7225122e7cf2",
   "metadata": {},
   "outputs": [
    {
     "data": {
      "text/plain": [
       "Index(['Pace', 'Acceleration', 'Technique', 'Off_the_Ball', 'Flair', 'Agility',\n",
       "       'Natural_Fitness', 'Dribbling', 'First_Touch', 'Determination',\n",
       "       'Work_Rate', 'Finishing'],\n",
       "      dtype='object')"
      ]
     },
     "execution_count": 496,
     "metadata": {},
     "output_type": "execute_result"
    }
   ],
   "source": [
    "shooting_top_cols = shooters_ratings[:top_N].index\n",
    "shooting_top_cols"
   ]
  },
  {
   "cell_type": "code",
   "execution_count": 497,
   "id": "aae735f7-76fd-4685-839b-b1139c6ccebc",
   "metadata": {},
   "outputs": [
    {
     "data": {
      "text/plain": [
       "Index(['Determination', 'Stamina', 'Natural_Fitness', 'Anticipation',\n",
       "       'Work_Rate', 'Teamwork', 'Bravery', 'Composure', 'Tackling', 'Balance',\n",
       "       'Strength', 'Decisions'],\n",
       "      dtype='object')"
      ]
     },
     "execution_count": 497,
     "metadata": {},
     "output_type": "execute_result"
    }
   ],
   "source": [
    "passing_top_cols = passing_ratings[:top_N].index\n",
    "passing_top_cols"
   ]
  },
  {
   "cell_type": "code",
   "execution_count": 498,
   "id": "23489a6b-43e0-4f24-bba2-6f4cd6788d24",
   "metadata": {},
   "outputs": [
    {
     "data": {
      "text/plain": [
       "Index(['Dribbling', 'Technique', 'Acceleration', 'Pace', 'Flair', 'Agility',\n",
       "       'Determination', 'First_Touch', 'Natural_Fitness', 'Work_Rate',\n",
       "       'Stamina', 'Balance'],\n",
       "      dtype='object')"
      ]
     },
     "execution_count": 498,
     "metadata": {},
     "output_type": "execute_result"
    }
   ],
   "source": [
    "dribbling_top_cols = dribbling_ratings[:top_N].index\n",
    "dribbling_top_cols"
   ]
  },
  {
   "cell_type": "markdown",
   "id": "2ea28db7-2ba3-4f76-9f15-c7a718ad6913",
   "metadata": {},
   "source": [
    "<br><br>"
   ]
  },
  {
   "cell_type": "code",
   "execution_count": 596,
   "id": "46fe6b92-6816-4a8e-b513-39567544ce05",
   "metadata": {},
   "outputs": [],
   "source": [
    "chosen_dict = {\n",
    "    \"df\": sh_merged_df,\n",
    "    \"top_cols\": shooting_top_cols,\n",
    "    \"target\": 'Shot_Accuracy',\n",
    "}\n",
    "chosen_dict = {\n",
    "    \"df\": pass_merged_df,\n",
    "    \"top_cols\": passing_top_cols,\n",
    "    \"target\": 'Pass_Accuracy',\n",
    "}"
   ]
  },
  {
   "cell_type": "code",
   "execution_count": 500,
   "id": "23727a57-7eea-40cd-b9a5-5ab84c6ccdc2",
   "metadata": {},
   "outputs": [],
   "source": [
    "current_df_extra = pd.merge(team_df, players_df, how=\"inner\", left_on=\"Club\", right_on=\"Club\", suffixes=(\"_club\",\"\"))"
   ]
  },
  {
   "cell_type": "code",
   "execution_count": 505,
   "id": "b322f6ae-bff4-4181-961e-393a0d633a4e",
   "metadata": {},
   "outputs": [],
   "source": [
    "action_merged_df = chosen_dict[\"df\"].copy()\n",
    "current_df = pd.merge(team_df, action_merged_df, how=\"inner\", left_on=\"fbref_name\", right_on=\"Squad\", suffixes=(\"_club\",\"\"))\n",
    "current_cols = np.concatenate((chosen_dict[\"top_cols\"], [\"Pos_Rank_Average\"], [\"tpr\",\"tpr_club\"]))\n",
    "current_target = chosen_dict[\"target\"]"
   ]
  },
  {
   "cell_type": "markdown",
   "id": "5f9c308d-1378-4c8b-aaef-43d68e8eb52f",
   "metadata": {},
   "source": [
    "<br><br>"
   ]
  },
  {
   "cell_type": "code",
   "execution_count": 502,
   "id": "1b3a5d62-f4ee-468e-863c-a35d970e0a08",
   "metadata": {},
   "outputs": [
    {
     "name": "stdout",
     "output_type": "stream",
     "text": [
      "Mean Absolute Error: 5.158896300956627\n"
     ]
    }
   ],
   "source": [
    "from sklearn.model_selection import train_test_split, GridSearchCV\n",
    "from sklearn.ensemble import RandomForestRegressor\n",
    "from sklearn.linear_model import LinearRegression \n",
    "from sklearn.metrics import mean_squared_error, r2_score, mean_absolute_error\n",
    "\n",
    "#df = current_df.query(\"Best_Pos != 'GK'\") # SHOOTING\n",
    "#df = current_df # PASSING\n",
    "#df = current_df.query(\"Best_Pos != 'GK'\") # DRIBBLING\n",
    "df = current_df\n",
    "X = df[current_cols]\n",
    "y = df[current_target].astype(float)\n",
    "\n",
    "X_train, X_test, y_train, y_test = train_test_split(X, y, test_size=0.07, random_state=0)\n",
    "model = LinearRegression()\n",
    "model.fit(X_train, y_train)\n",
    "y_pred_raw = model.predict(X_test)\n",
    "y_pred = [max(0, pred) for pred in y_pred_raw]\n",
    "\n",
    "mse = mean_squared_error(y_test, y_pred)\n",
    "mae = mean_absolute_error(y_test, y_pred)\n",
    "r2 = r2_score(y_test, y_pred)\n",
    "\n",
    "print(\"Mean Absolute Error:\", mae)"
   ]
  },
  {
   "cell_type": "code",
   "execution_count": 503,
   "id": "41836bba-5404-46f8-be49-00fe7e007870",
   "metadata": {},
   "outputs": [
    {
     "data": {
      "text/plain": [
       "array(['Determination', 'Stamina', 'Natural_Fitness', 'Anticipation',\n",
       "       'Work_Rate', 'Teamwork', 'Bravery', 'Composure', 'Tackling',\n",
       "       'Balance', 'Strength', 'Decisions', 'Pos_Rank_Average', 'tpr'],\n",
       "      dtype=object)"
      ]
     },
     "execution_count": 503,
     "metadata": {},
     "output_type": "execute_result"
    }
   ],
   "source": [
    "model.feature_names_in_"
   ]
  },
  {
   "cell_type": "code",
   "execution_count": 504,
   "id": "ca16b52f-379c-4fe5-b518-941146fd17b6",
   "metadata": {},
   "outputs": [],
   "source": [
    "def DictToPredictionDict(d: dict) -> pd.DataFrame:\n",
    "    rdict = {}\n",
    "    for k,v in d.items():\n",
    "        rdict[k] = [v]\n",
    "    return pd.DataFrame(rdict)"
   ]
  },
  {
   "cell_type": "code",
   "execution_count": 489,
   "id": "873ecb30-68e9-4595-ae7d-397d2e4e745e",
   "metadata": {},
   "outputs": [],
   "source": [
    "def PlayerPredict(player_name, print_stats=False):\n",
    "    if print_stats:\n",
    "        selected_df = current_df \n",
    "    else:\n",
    "        selected_df = current_df_extra\n",
    "    d0 = selected_df.query(f\"Name == '{player_name}'\").iloc[0]\n",
    "    d1 = d0[current_cols].to_dict()\n",
    "    d2 = DictToPredictionDict(d1)\n",
    "    \n",
    "    print(f\"Name:\\t\\t{d0['Name']}\")\n",
    "    print(f\"Pos_Rank_Avg:\\t{d0['Pos_Rank_Average']}\")\n",
    "    if print_stats:\n",
    "        print(f\"Real:\\t\\t{d0[current_target]}\")\n",
    "    prediction = max(0, model.predict(d2)[0])\n",
    "    print(f\"Prediction:\\t[{prediction}]\")\n",
    "    #return prediction"
   ]
  },
  {
   "cell_type": "code",
   "execution_count": 490,
   "id": "4fac55f5-0ede-41d5-9bc6-35368dee1ba1",
   "metadata": {},
   "outputs": [],
   "source": [
    "def Model_Predict(row, cols):\n",
    "    d1 = row[cols].to_dict()\n",
    "    d2 = DictToPredictionDict(d1)\n",
    "    prediction = max(0, model.predict(d2)[0])\n",
    "    return float(round(prediction, 2))"
   ]
  },
  {
   "cell_type": "code",
   "execution_count": 491,
   "id": "3d336f55-d75d-41c1-b65f-778b6187d672",
   "metadata": {},
   "outputs": [],
   "source": [
    "from tools.pickler import Save_Model, Load_Model\n",
    "#Save_Model(\"_\", \"models/xxxxxxxxxxxxxxxx_accuracy_model\", model)"
   ]
  },
  {
   "cell_type": "markdown",
   "id": "b2f147ad-874c-47e4-9994-dc745cbb580b",
   "metadata": {},
   "source": [
    "<br><br>"
   ]
  },
  {
   "cell_type": "code",
   "execution_count": 492,
   "id": "ce510253-4173-453d-9e8f-aeb043a27714",
   "metadata": {},
   "outputs": [
    {
     "data": {
      "text/plain": [
       "Predicted        78.001787\n",
       "Pass_Accuracy    77.995926\n",
       "Error             0.005861\n",
       "dtype: float64"
      ]
     },
     "execution_count": 492,
     "metadata": {},
     "output_type": "execute_result"
    }
   ],
   "source": [
    "predicted_df = current_df.copy()\n",
    "predicted_df[\"Predicted\"] = predicted_df.apply(lambda row: Model_Predict(row, model.feature_names_in_), axis=1)\n",
    "predicted_df[\"Error\"] = predicted_df[\"Predicted\"] - predicted_df[ chosen_dict[\"target\"] ]\n",
    "predicted_df[[\"Predicted\",chosen_dict[\"target\"],\"Error\"]].mean()"
   ]
  },
  {
   "cell_type": "code",
   "execution_count": 493,
   "id": "b7e69619-a3b4-451c-97d6-85a4ca1f4463",
   "metadata": {},
   "outputs": [
    {
     "data": {
      "text/html": [
       "<div>\n",
       "<style scoped>\n",
       "    .dataframe tbody tr th:only-of-type {\n",
       "        vertical-align: middle;\n",
       "    }\n",
       "\n",
       "    .dataframe tbody tr th {\n",
       "        vertical-align: top;\n",
       "    }\n",
       "\n",
       "    .dataframe thead th {\n",
       "        text-align: right;\n",
       "    }\n",
       "</style>\n",
       "<table border=\"1\" class=\"dataframe\">\n",
       "  <thead>\n",
       "    <tr style=\"text-align: right;\">\n",
       "      <th></th>\n",
       "      <th>Name</th>\n",
       "      <th>Best_Pos</th>\n",
       "      <th>Pos_Rank_Average</th>\n",
       "      <th>Predicted</th>\n",
       "      <th>Pass_Accuracy</th>\n",
       "      <th>Error</th>\n",
       "    </tr>\n",
       "  </thead>\n",
       "  <tbody>\n",
       "    <tr>\n",
       "      <th>40</th>\n",
       "      <td>Virgil van Dijk</td>\n",
       "      <td>DC</td>\n",
       "      <td>3</td>\n",
       "      <td>93.70</td>\n",
       "      <td>90.5</td>\n",
       "      <td>3.20</td>\n",
       "    </tr>\n",
       "    <tr>\n",
       "      <th>12</th>\n",
       "      <td>Benjamin Pavard</td>\n",
       "      <td>DR</td>\n",
       "      <td>2</td>\n",
       "      <td>92.65</td>\n",
       "      <td>88.3</td>\n",
       "      <td>4.35</td>\n",
       "    </tr>\n",
       "    <tr>\n",
       "      <th>207</th>\n",
       "      <td>Thiago Silva</td>\n",
       "      <td>DC</td>\n",
       "      <td>3</td>\n",
       "      <td>91.69</td>\n",
       "      <td>90.9</td>\n",
       "      <td>0.79</td>\n",
       "    </tr>\n",
       "    <tr>\n",
       "      <th>36</th>\n",
       "      <td>Andreas Christensen</td>\n",
       "      <td>DM</td>\n",
       "      <td>5</td>\n",
       "      <td>91.45</td>\n",
       "      <td>94.0</td>\n",
       "      <td>-2.55</td>\n",
       "    </tr>\n",
       "    <tr>\n",
       "      <th>93</th>\n",
       "      <td>Mats Hummels</td>\n",
       "      <td>DC</td>\n",
       "      <td>3</td>\n",
       "      <td>91.42</td>\n",
       "      <td>87.5</td>\n",
       "      <td>3.92</td>\n",
       "    </tr>\n",
       "  </tbody>\n",
       "</table>\n",
       "</div>"
      ],
      "text/plain": [
       "                    Name Best_Pos  Pos_Rank_Average  Predicted  Pass_Accuracy  \\\n",
       "40       Virgil van Dijk       DC                 3      93.70           90.5   \n",
       "12       Benjamin Pavard       DR                 2      92.65           88.3   \n",
       "207         Thiago Silva       DC                 3      91.69           90.9   \n",
       "36   Andreas Christensen       DM                 5      91.45           94.0   \n",
       "93          Mats Hummels       DC                 3      91.42           87.5   \n",
       "\n",
       "     Error  \n",
       "40    3.20  \n",
       "12    4.35  \n",
       "207   0.79  \n",
       "36   -2.55  \n",
       "93    3.92  "
      ]
     },
     "execution_count": 493,
     "metadata": {},
     "output_type": "execute_result"
    }
   ],
   "source": [
    "predicted_team_name = \"Real Madrid\"\n",
    "pred_df = predicted_df \\\n",
    "            [[\"Name\",\"Best_Pos\",\"Pos_Rank_Average\",\"Predicted\",chosen_dict[\"target\"],\"Error\"]] \\\n",
    "            .sort_values(\"Predicted\", ascending=False)\n",
    "pred_df.head()"
   ]
  },
  {
   "cell_type": "markdown",
   "id": "01fd2a33-a5e5-46ff-bffa-2dfe223871af",
   "metadata": {},
   "source": [
    "<br><br>"
   ]
  },
  {
   "cell_type": "code",
   "execution_count": 454,
   "id": "00a798ca-f985-4f3f-94bf-88040f22ebd6",
   "metadata": {},
   "outputs": [
    {
     "name": "stdout",
     "output_type": "stream",
     "text": [
      "259.33000000000004\n"
     ]
    },
    {
     "data": {
      "text/html": [
       "<div>\n",
       "<style scoped>\n",
       "    .dataframe tbody tr th:only-of-type {\n",
       "        vertical-align: middle;\n",
       "    }\n",
       "\n",
       "    .dataframe tbody tr th {\n",
       "        vertical-align: top;\n",
       "    }\n",
       "\n",
       "    .dataframe thead th {\n",
       "        text-align: right;\n",
       "    }\n",
       "</style>\n",
       "<table border=\"1\" class=\"dataframe\">\n",
       "  <thead>\n",
       "    <tr style=\"text-align: right;\">\n",
       "      <th></th>\n",
       "      <th>Club</th>\n",
       "      <th>Name</th>\n",
       "      <th>Best_Pos</th>\n",
       "      <th>Pos_Rank_Average</th>\n",
       "      <th>Predicted</th>\n",
       "    </tr>\n",
       "  </thead>\n",
       "  <tbody>\n",
       "    <tr>\n",
       "      <th>3926</th>\n",
       "      <td>Sassuolo</td>\n",
       "      <td>Giovanni Perini</td>\n",
       "      <td>AMR</td>\n",
       "      <td>11</td>\n",
       "      <td>45.91</td>\n",
       "    </tr>\n",
       "    <tr>\n",
       "      <th>6140</th>\n",
       "      <td>Vizela</td>\n",
       "      <td>José Rui</td>\n",
       "      <td>AML</td>\n",
       "      <td>13</td>\n",
       "      <td>45.57</td>\n",
       "    </tr>\n",
       "    <tr>\n",
       "      <th>4016</th>\n",
       "      <td>Tottenham Hotspur</td>\n",
       "      <td>Heung-Min Son</td>\n",
       "      <td>AML</td>\n",
       "      <td>11</td>\n",
       "      <td>45.56</td>\n",
       "    </tr>\n",
       "    <tr>\n",
       "      <th>1843</th>\n",
       "      <td>Manchester United</td>\n",
       "      <td>Alejandro Garnacho</td>\n",
       "      <td>AML</td>\n",
       "      <td>12</td>\n",
       "      <td>45.14</td>\n",
       "    </tr>\n",
       "    <tr>\n",
       "      <th>129</th>\n",
       "      <td>Liverpool</td>\n",
       "      <td>Oakley Cannonier</td>\n",
       "      <td>ST</td>\n",
       "      <td>12</td>\n",
       "      <td>44.63</td>\n",
       "    </tr>\n",
       "  </tbody>\n",
       "</table>\n",
       "</div>"
      ],
      "text/plain": [
       "                   Club                Name Best_Pos  Pos_Rank_Average  \\\n",
       "3926           Sassuolo     Giovanni Perini      AMR                11   \n",
       "6140             Vizela            José Rui      AML                13   \n",
       "4016  Tottenham Hotspur       Heung-Min Son      AML                11   \n",
       "1843  Manchester United  Alejandro Garnacho      AML                12   \n",
       "129           Liverpool    Oakley Cannonier       ST                12   \n",
       "\n",
       "      Predicted  \n",
       "3926      45.91  \n",
       "6140      45.57  \n",
       "4016      45.56  \n",
       "1843      45.14  \n",
       "129       44.63  "
      ]
     },
     "execution_count": 454,
     "metadata": {},
     "output_type": "execute_result"
    }
   ],
   "source": [
    "only_fbref_df = current_df.copy()\n",
    "only_fbref_df[\"Predicted\"] = only_fbref_df.apply(lambda row: Model_Predict(row, model.feature_names_in_), axis=1)\n",
    "\n",
    "all_players_df = current_df_extra.copy()\n",
    "all_players_df[\"Predicted\"] = all_players_df.apply(lambda row: Model_Predict(row, model.feature_names_in_), axis=1)\n",
    "\n",
    "tm_name = \"Real Madrid\"\n",
    "tm_name = \"Manchester City\"\n",
    "\n",
    "try:\n",
    "    tm = only_fbref_df.copy()\n",
    "    tm[\"Error\"] = tm[\"Predicted\"] - tm[ chosen_dict[\"target\"] ]\n",
    "    tm2 = LineupTPR(tm, tm_name)[[\"Name\",\"Best_Pos\",\"Pos_Rank_Average\",\"Predicted\",chosen_dict[\"target\"],\"Error\"]]\n",
    "except:   \n",
    "    tm = all_players_df.copy()\n",
    "    tm2 = LineupTPR(tm, tm_name)[[\"Club\",\"Name\",\"Best_Pos\",\"Playing_Position\",\"Pos_Rank_Average\",\"Predicted\"]]\n",
    "\n",
    "print( tm2[\"Predicted\"].sum() )\n",
    "tm2\n",
    "all_players_df[[\"Club\",\"Name\",\"Best_Pos\",\"Pos_Rank_Average\",\"Predicted\"]].sort_values(\"Predicted\", ascending=False).head(5)"
   ]
  },
  {
   "cell_type": "code",
   "execution_count": 455,
   "id": "077daf55-c9e6-43a7-92ae-f4f65721011b",
   "metadata": {},
   "outputs": [
    {
     "data": {
      "text/html": [
       "<div>\n",
       "<style scoped>\n",
       "    .dataframe tbody tr th:only-of-type {\n",
       "        vertical-align: middle;\n",
       "    }\n",
       "\n",
       "    .dataframe tbody tr th {\n",
       "        vertical-align: top;\n",
       "    }\n",
       "\n",
       "    .dataframe thead th {\n",
       "        text-align: right;\n",
       "    }\n",
       "</style>\n",
       "<table border=\"1\" class=\"dataframe\">\n",
       "  <thead>\n",
       "    <tr style=\"text-align: right;\">\n",
       "      <th></th>\n",
       "      <th>Club</th>\n",
       "      <th>Name</th>\n",
       "      <th>Best_Pos</th>\n",
       "      <th>Pos_Rank_Average</th>\n",
       "      <th>Predicted</th>\n",
       "    </tr>\n",
       "  </thead>\n",
       "  <tbody>\n",
       "    <tr>\n",
       "      <th>3926</th>\n",
       "      <td>Sassuolo</td>\n",
       "      <td>Giovanni Perini</td>\n",
       "      <td>AMR</td>\n",
       "      <td>11</td>\n",
       "      <td>45.91</td>\n",
       "    </tr>\n",
       "    <tr>\n",
       "      <th>6140</th>\n",
       "      <td>Vizela</td>\n",
       "      <td>José Rui</td>\n",
       "      <td>AML</td>\n",
       "      <td>13</td>\n",
       "      <td>45.57</td>\n",
       "    </tr>\n",
       "    <tr>\n",
       "      <th>4016</th>\n",
       "      <td>Tottenham Hotspur</td>\n",
       "      <td>Heung-Min Son</td>\n",
       "      <td>AML</td>\n",
       "      <td>11</td>\n",
       "      <td>45.56</td>\n",
       "    </tr>\n",
       "    <tr>\n",
       "      <th>1843</th>\n",
       "      <td>Manchester United</td>\n",
       "      <td>Alejandro Garnacho</td>\n",
       "      <td>AML</td>\n",
       "      <td>12</td>\n",
       "      <td>45.14</td>\n",
       "    </tr>\n",
       "    <tr>\n",
       "      <th>129</th>\n",
       "      <td>Liverpool</td>\n",
       "      <td>Oakley Cannonier</td>\n",
       "      <td>ST</td>\n",
       "      <td>12</td>\n",
       "      <td>44.63</td>\n",
       "    </tr>\n",
       "  </tbody>\n",
       "</table>\n",
       "</div>"
      ],
      "text/plain": [
       "                   Club                Name Best_Pos  Pos_Rank_Average  \\\n",
       "3926           Sassuolo     Giovanni Perini      AMR                11   \n",
       "6140             Vizela            José Rui      AML                13   \n",
       "4016  Tottenham Hotspur       Heung-Min Son      AML                11   \n",
       "1843  Manchester United  Alejandro Garnacho      AML                12   \n",
       "129           Liverpool    Oakley Cannonier       ST                12   \n",
       "\n",
       "      Predicted  \n",
       "3926      45.91  \n",
       "6140      45.57  \n",
       "4016      45.56  \n",
       "1843      45.14  \n",
       "129       44.63  "
      ]
     },
     "execution_count": 455,
     "metadata": {},
     "output_type": "execute_result"
    }
   ],
   "source": [
    "all_players_df[[\"Club\",\"Name\",\"Best_Pos\",\"Pos_Rank_Average\",\"Predicted\"]].sort_values(\"Predicted\", ascending=False).head(5)"
   ]
  },
  {
   "cell_type": "code",
   "execution_count": 456,
   "id": "c7050687-9d17-4589-a144-abb60f78cffd",
   "metadata": {},
   "outputs": [
    {
     "data": {
      "text/html": [
       "<div>\n",
       "<style scoped>\n",
       "    .dataframe tbody tr th:only-of-type {\n",
       "        vertical-align: middle;\n",
       "    }\n",
       "\n",
       "    .dataframe tbody tr th {\n",
       "        vertical-align: top;\n",
       "    }\n",
       "\n",
       "    .dataframe thead th {\n",
       "        text-align: right;\n",
       "    }\n",
       "</style>\n",
       "<table border=\"1\" class=\"dataframe\">\n",
       "  <thead>\n",
       "    <tr style=\"text-align: right;\">\n",
       "      <th></th>\n",
       "      <th>Name</th>\n",
       "      <th>Best_Pos</th>\n",
       "      <th>Playing_Position</th>\n",
       "      <th>tpr</th>\n",
       "    </tr>\n",
       "  </thead>\n",
       "  <tbody>\n",
       "    <tr>\n",
       "      <th>4168</th>\n",
       "      <td>Thibaut Courtois</td>\n",
       "      <td>GK</td>\n",
       "      <td>GK</td>\n",
       "      <td>84</td>\n",
       "    </tr>\n",
       "    <tr>\n",
       "      <th>4211</th>\n",
       "      <td>Dani Carvajal</td>\n",
       "      <td>DR</td>\n",
       "      <td>DR</td>\n",
       "      <td>83</td>\n",
       "    </tr>\n",
       "    <tr>\n",
       "      <th>4219</th>\n",
       "      <td>Éder Militão</td>\n",
       "      <td>DC</td>\n",
       "      <td>DC</td>\n",
       "      <td>84</td>\n",
       "    </tr>\n",
       "    <tr>\n",
       "      <th>4217</th>\n",
       "      <td>Antonio Rüdiger</td>\n",
       "      <td>DC</td>\n",
       "      <td>DC</td>\n",
       "      <td>83</td>\n",
       "    </tr>\n",
       "    <tr>\n",
       "      <th>4188</th>\n",
       "      <td>David Alaba</td>\n",
       "      <td>DL</td>\n",
       "      <td>DL</td>\n",
       "      <td>85</td>\n",
       "    </tr>\n",
       "    <tr>\n",
       "      <th>4165</th>\n",
       "      <td>Luka Modrić</td>\n",
       "      <td>MC</td>\n",
       "      <td>MC</td>\n",
       "      <td>88</td>\n",
       "    </tr>\n",
       "    <tr>\n",
       "      <th>4176</th>\n",
       "      <td>Toni Kroos</td>\n",
       "      <td>MC</td>\n",
       "      <td>MC</td>\n",
       "      <td>83</td>\n",
       "    </tr>\n",
       "    <tr>\n",
       "      <th>4183</th>\n",
       "      <td>Federico Valverde</td>\n",
       "      <td>MC</td>\n",
       "      <td>AMR</td>\n",
       "      <td>84</td>\n",
       "    </tr>\n",
       "    <tr>\n",
       "      <th>4218</th>\n",
       "      <td>Marco Asensio</td>\n",
       "      <td>AMR</td>\n",
       "      <td>AMC</td>\n",
       "      <td>82</td>\n",
       "    </tr>\n",
       "    <tr>\n",
       "      <th>4166</th>\n",
       "      <td>Karim Benzema</td>\n",
       "      <td>ST</td>\n",
       "      <td>ST</td>\n",
       "      <td>87</td>\n",
       "    </tr>\n",
       "    <tr>\n",
       "      <th>4170</th>\n",
       "      <td>Vinícius Júnior</td>\n",
       "      <td>AML</td>\n",
       "      <td>AML</td>\n",
       "      <td>84</td>\n",
       "    </tr>\n",
       "  </tbody>\n",
       "</table>\n",
       "</div>"
      ],
      "text/plain": [
       "                   Name Best_Pos Playing_Position  tpr\n",
       "4168   Thibaut Courtois       GK               GK   84\n",
       "4211      Dani Carvajal       DR               DR   83\n",
       "4219       Éder Militão       DC               DC   84\n",
       "4217    Antonio Rüdiger       DC               DC   83\n",
       "4188        David Alaba       DL               DL   85\n",
       "4165        Luka Modrić       MC               MC   88\n",
       "4176         Toni Kroos       MC               MC   83\n",
       "4183  Federico Valverde       MC              AMR   84\n",
       "4218      Marco Asensio      AMR              AMC   82\n",
       "4166      Karim Benzema       ST               ST   87\n",
       "4170    Vinícius Júnior      AML              AML   84"
      ]
     },
     "execution_count": 456,
     "metadata": {},
     "output_type": "execute_result"
    }
   ],
   "source": [
    "predicted_team_name = \"Real Madrid\"\n",
    "team_using_df = predicted_df.query(f\"Club == '{predicted_team_name}'\") \\\n",
    "            [[\"Name\",\"Best_Pos\",\"Pos_Rank_Average\",\"Predicted\",chosen_dict[\"target\"],\"Error\"]] \\\n",
    "            .sort_values(\"Predicted\", ascending=False)\n",
    "LineupTPR(players_df, predicted_team_name)[[\"Name\",\"Best_Pos\",\"Playing_Position\",\"tpr\"]]#.sort_values(\"Playing_Position\", ascending=True)"
   ]
  },
  {
   "cell_type": "markdown",
   "id": "78c2026f-b333-4212-a2a3-96164a2abd52",
   "metadata": {
    "jp-MarkdownHeadingCollapsed": true
   },
   "source": [
    "<br><br><br><br><br><br><br><br>\n",
    "<h2 style=\"color:white;background:orange;\">  Predict</h2>"
   ]
  },
  {
   "cell_type": "code",
   "execution_count": 377,
   "id": "7b040967-80e6-4fb2-93f7-efadbe62b95e",
   "metadata": {},
   "outputs": [],
   "source": [
    "location_df = pd.read_csv(\"data/location_df.csv\")\n",
    "volume_formula_df = pd.read_csv(\"formulas/Attacking_Touches_volume_formula_df.csv\") # Attacking_Touches"
   ]
  },
  {
   "cell_type": "markdown",
   "id": "30de244e-01f6-4afa-b804-0bae66a980e9",
   "metadata": {},
   "source": [
    "<br>"
   ]
  },
  {
   "cell_type": "code",
   "execution_count": 378,
   "id": "fe4ef9c0-cb99-4ec5-a447-50d17ef653ef",
   "metadata": {},
   "outputs": [],
   "source": [
    "fm_managerial_tactics = {\n",
    "    'Standard': {\"Pass\": 1.0, \"Shot\": 1.0, \"Dribble\": 1.0},\n",
    "    'Gegen - Direct': {\"Pass\": 1.2, \"Shot\": 1.0, \"Dribble\": 0.8},\n",
    "    'Gegen - High Tempo': {\"Pass\": 1.1, \"Shot\": 1.1, \"Dribble\": 0.9},\n",
    "    'Gegen - Slow Passing': {\"Pass\": 0.9, \"Shot\": 1.0, \"Dribble\": 1.0},\n",
    "    'Gegen - Wing Play': {\"Pass\": 1.3, \"Shot\": 1.0, \"Dribble\": 0.7},\n",
    "    \n",
    "    'Tiki Taka - Direct': {\"Pass\": 1.5, \"Shot\": 0.8, \"Dribble\": 0.8},\n",
    "    'Tiki Taka - High Tempo': {\"Pass\": 1.4, \"Shot\": 0.9, \"Dribble\": 0.8},\n",
    "    'Tiki Taka - Slow Passing': {\"Pass\": 1.6, \"Shot\": 0.7, \"Dribble\": 0.9},\n",
    "    'Tiki Taka - Wing Play': {\"Pass\": 1.7, \"Shot\": 0.6, \"Dribble\": 0.8},\n",
    "    \n",
    "    'Control - Direct': {\"Pass\": 1.1, \"Shot\": 1.0, \"Dribble\": 1.0},\n",
    "    'Control - High Tempo': {\"Pass\": 1.0, \"Shot\": 1.1, \"Dribble\": 1.0},\n",
    "    'Control - Slow Passing': {\"Pass\": 1.0, \"Shot\": 0.9, \"Dribble\": 1.1},\n",
    "    'Control - Wing Play': {\"Pass\": 1.2, \"Shot\": 1.0, \"Dribble\": 0.9},\n",
    "    \n",
    "    'Counter - Direct': {\"Pass\": 0.8, \"Shot\": 1.2, \"Dribble\": 1.0},\n",
    "    'Counter - High Tempo': {\"Pass\": 0.9, \"Shot\": 1.1, \"Dribble\": 1.1},\n",
    "    'Counter - Slow Passing': {\"Pass\": 0.7, \"Shot\": 1.0, \"Dribble\": 1.2},\n",
    "    'Counter - Wing Play': {\"Pass\": 0.8, \"Shot\": 1.3, \"Dribble\": 1.0},\n",
    "    \n",
    "    'Total Football - Direct': {\"Pass\": 1.2, \"Shot\": 1.2, \"Dribble\": 1.0},\n",
    "    'Total Football - High Tempo': {\"Pass\": 1.1, \"Shot\": 1.3, \"Dribble\": 1.0},\n",
    "    'Total Football - Slow Passing': {\"Pass\": 1.3, \"Shot\": 1.1, \"Dribble\": 0.9},\n",
    "    'Total Football - Wing Play': {\"Pass\": 1.4, \"Shot\": 1.0, \"Dribble\": 0.8},\n",
    "}\n",
    "\n",
    "selected_tactics = [\n",
    "    fm_managerial_tactics['Standard'],\n",
    "    fm_managerial_tactics['Standard'],\n",
    "    fm_managerial_tactics['Standard'],\n",
    "    fm_managerial_tactics['Standard'],\n",
    "    fm_managerial_tactics['Standard'],\n",
    "    fm_managerial_tactics['Standard'],\n",
    "    fm_managerial_tactics['Counter - High Tempo'],\n",
    "    fm_managerial_tactics['Counter - Wing Play'],\n",
    "]"
   ]
  },
  {
   "cell_type": "code",
   "execution_count": 379,
   "id": "9ce08c5d-fa94-46cd-893d-2430914c6a89",
   "metadata": {},
   "outputs": [],
   "source": [
    "def create_triple_prob_dict(row, tactical_coef={\"Pass\": 0, \"Shot\": 0, \"Dribble\": 0}):\n",
    "    prob_dict = {\n",
    "        \"Pass\": row[\"pass_prob\"]+row[\"pass_prob\"]*tactical_coef[\"Pass\"],\n",
    "        \"Shot\": row[\"shot_prob\"]+row[\"shot_prob\"]*tactical_coef[\"Shot\"],\n",
    "        \"Dribble\": row[\"dribble_prob\"]+row[\"dribble_prob\"]*tactical_coef[\"Dribble\"]\n",
    "    }\n",
    "    sum_prob_dict = sum(prob_dict.values())\n",
    "    weighted_prob_dict = {key: prob_dict[key]/sum_prob_dict for key in prob_dict.keys()}\n",
    "    return weighted_prob_dict"
   ]
  },
  {
   "cell_type": "code",
   "execution_count": 380,
   "id": "a056c4da-f826-491f-b6ff-79a703593fea",
   "metadata": {},
   "outputs": [],
   "source": [
    "def Action_Volume_Predict_Randomnessed(attribute, formula_df, tpr_x, tpr_y):\n",
    "    input_df = pd.Series({\"tpr_x\": tpr_x, \"tpr_y\": tpr_y})\n",
    "    custom_cols = list(input_df.index)\n",
    "    coefficients = sum(formula_df.loc[:, f\"{attribute}_coef\"] * input_df[custom_cols].values)\n",
    "    result = (coefficients + formula_df.loc[:, f\"{attribute}_intercept\"])\n",
    "    randomnessed_result = result.iloc[0] - result.iloc[0] * (np.random.randint(-10, 10)/100)\n",
    "    return max(0, int(randomnessed_result / 90))"
   ]
  },
  {
   "cell_type": "code",
   "execution_count": 381,
   "id": "3be7e9dc-8bc8-4333-ad54-58fa507a236e",
   "metadata": {},
   "outputs": [],
   "source": [
    "def Action_Volume_Predict(attribute, formula_df, tpr_x, tpr_y):\n",
    "    input_df = pd.Series({\"tpr_x\": tpr_x, \"tpr_y\": tpr_y})\n",
    "    custom_cols = list(input_df.index)\n",
    "    coefficients = sum(formula_df.loc[:, f\"{attribute}_coef\"] * input_df[custom_cols].values)\n",
    "    result = (coefficients + formula_df.loc[:, f\"{attribute}_intercept\"])\n",
    "    return max(0, int(result.iloc[0] / 90))"
   ]
  },
  {
   "cell_type": "code",
   "execution_count": 382,
   "id": "56a4b0fb-73ca-44d1-bd5d-41ee08651281",
   "metadata": {
    "scrolled": true
   },
   "outputs": [
    {
     "data": {
      "text/plain": [
       "7"
      ]
     },
     "execution_count": 382,
     "metadata": {},
     "output_type": "execute_result"
    }
   ],
   "source": [
    "Action_Volume_Predict(\"Attacking_Touches\", volume_formula_df, 92, 77)"
   ]
  },
  {
   "cell_type": "code",
   "execution_count": 383,
   "id": "5edc80fc-58bc-4aa7-bac2-34aac1a7d826",
   "metadata": {},
   "outputs": [],
   "source": [
    "def Generate_Random_Match_Stats_Per_Minute(location_df, formula_df, tpr_x, tpr_y, match_number=1):\n",
    "    all_matches= []\n",
    "    shot_map = []\n",
    "    pass_map = []\n",
    "    dribble_map = []\n",
    "    location_df[\"triple_prob_dict\"] = location_df.apply(lambda row: create_triple_prob_dict(row, selected_tactics[2]), axis=1)\n",
    "    \n",
    "    for process in range(match_number):\n",
    "        Action_Counter = {\"Pass\": 0, \"Shot\": 0, \"Dribble\": 0}\n",
    "        Touches = Action_Volume_Predict_Randomnessed(\"Attacking_Touches\", formula_df, tpr_x, tpr_y)\n",
    "        for minute in range(90):\n",
    "            for moment in range(Touches):\n",
    "                pitch_number = np.random.choice(location_df[\"Pitch_Number\"], p=location_df[\"pitch_prob\"])\n",
    "                triple_probs = list(location_df[location_df[\"Pitch_Number\"] == pitch_number][\"triple_prob_dict\"].iloc[0].values())\n",
    "                triple_actions = list(location_df[location_df[\"Pitch_Number\"] == pitch_number][\"triple_prob_dict\"].iloc[0].keys())\n",
    "                action = np.random.choice(triple_actions, p=triple_probs)\n",
    "                \n",
    "                if action==\"Pass\":\n",
    "                    pass_map.append(pitch_number)\n",
    "                elif action==\"Shot\":\n",
    "                    shot_map.append(pitch_number)\n",
    "                elif action==\"Dribble\":\n",
    "                    dribble_map.append(pitch_number)\n",
    "                Action_Counter[action]+=1\n",
    "            \n",
    "        all_matches.append(Action_Counter)\n",
    "\n",
    "        global progress\n",
    "        progress = int((process + 1) / match_number * 100)\n",
    "                      \n",
    "    #print(\"!__completed__!\")\n",
    "    return {\n",
    "        \"match_data\": all_matches,\n",
    "        \"pass_map\": pass_map, \n",
    "        \"shot_map\": shot_map, \n",
    "        \"dribble_map\": dribble_map, \n",
    "    }"
   ]
  },
  {
   "cell_type": "code",
   "execution_count": 384,
   "id": "fcd8b281-5e7e-4b30-80a3-b4a9ca47f3d3",
   "metadata": {
    "scrolled": true
   },
   "outputs": [],
   "source": [
    "touches_df_raw_1 = pd.read_csv(\"../match_logs/Big5@22-23@attacking_touches.csv\")\n",
    "touches_df_raw_2 = pd.merge(touches_df_raw_1, team_df, left_on=\"Club\", right_on=\"Club\", how=\"inner\") \n",
    "touches_df = pd.merge(touches_df_raw_2, team_df, left_on=\"Opponent\", right_on=\"Club\", how=\"inner\")  "
   ]
  },
  {
   "cell_type": "code",
   "execution_count": 385,
   "id": "d456084c-cac6-4c94-b4b5-2c7e2b74d6ea",
   "metadata": {},
   "outputs": [
    {
     "data": {
      "text/plain": [
       "Club_x        Everton\n",
       "tpr_x              72\n",
       "tpr_y              64\n",
       "Club_y    Bournemouth\n",
       "Date       2023-05-28\n",
       "Name: 25, dtype: object"
      ]
     },
     "execution_count": 385,
     "metadata": {},
     "output_type": "execute_result"
    }
   ],
   "source": [
    "t = touches_df[[\"Club_x\",\"tpr_x\",\"tpr_y\",\"Club_y\",\"Date\"]].iloc[25]\n",
    "tpr_a = LineupTPR(players_df, t.Club_x).query(\"Best_Pos != 'GK'\")[\"tpr\"].mean()\n",
    "tpr_b = LineupTPR(players_df, t.Club_y).query(\"Best_Pos != 'GK'\")[\"tpr\"].mean()\n",
    "t"
   ]
  },
  {
   "cell_type": "code",
   "execution_count": 386,
   "id": "8ad07c37-d580-42b6-8ca2-7e75becb51a6",
   "metadata": {},
   "outputs": [
    {
     "name": "stdout",
     "output_type": "stream",
     "text": [
      "77.3 Everton [{'Pass': 513, 'Shot': 13, 'Dribble': 14}]\n",
      "75.2 Bournemouth [{'Pass': 428, 'Shot': 11, 'Dribble': 11}]\n"
     ]
    }
   ],
   "source": [
    "st1 = Generate_Random_Match_Stats_Per_Minute(location_df, volume_formula_df, tpr_a, tpr_b)[\"match_data\"]\n",
    "st2 = Generate_Random_Match_Stats_Per_Minute(location_df, volume_formula_df, tpr_b, tpr_a)[\"match_data\"]\n",
    "print(tpr_a, t.Club_x, st1)\n",
    "print(tpr_b, t.Club_y, st2)"
   ]
  },
  {
   "cell_type": "markdown",
   "id": "41293578-6e7c-47b4-a121-08a815211665",
   "metadata": {
    "jp-MarkdownHeadingCollapsed": true
   },
   "source": [
    "<br><br><br><br><br><br><br><br>\n",
    "<h2 style=\"color:white;background:red;\">  yyyydffff</h2>"
   ]
  },
  {
   "cell_type": "code",
   "execution_count": 387,
   "id": "5b2c0431-dbab-44ca-aab1-9327bc568ccc",
   "metadata": {},
   "outputs": [
    {
     "ename": "NameError",
     "evalue": "name 'merged_df' is not defined",
     "output_type": "error",
     "traceback": [
      "\u001b[1;31m---------------------------------------------------------------------------\u001b[0m",
      "\u001b[1;31mNameError\u001b[0m                                 Traceback (most recent call last)",
      "Cell \u001b[1;32mIn[387], line 6\u001b[0m\n\u001b[0;32m      3\u001b[0m \u001b[38;5;28;01mfrom\u001b[39;00m \u001b[38;5;21;01msklearn\u001b[39;00m\u001b[38;5;21;01m.\u001b[39;00m\u001b[38;5;21;01mlinear_model\u001b[39;00m \u001b[38;5;28;01mimport\u001b[39;00m LinearRegression\n\u001b[0;32m      5\u001b[0m \u001b[38;5;66;03m# Create DataFrame\u001b[39;00m\n\u001b[1;32m----> 6\u001b[0m df \u001b[38;5;241m=\u001b[39m merged_df\u001b[38;5;241m.\u001b[39mcopy()\n\u001b[0;32m      8\u001b[0m \u001b[38;5;66;03m# Normalize the data\u001b[39;00m\n\u001b[0;32m      9\u001b[0m \u001b[38;5;66;03m# scaler = MinMaxScaler()\u001b[39;00m\n\u001b[0;32m     10\u001b[0m \u001b[38;5;66;03m# df[['Att', 'Dribbling', 'Pace', \"tpr\"]] = scaler.fit_transform(df[['Att', 'Dribbling', 'Pace', \"tpr\"]])\u001b[39;00m\n\u001b[0;32m     11\u001b[0m \n\u001b[0;32m     12\u001b[0m \u001b[38;5;66;03m# Separate features and target variable\u001b[39;00m\n\u001b[0;32m     13\u001b[0m X \u001b[38;5;241m=\u001b[39m df[[\u001b[38;5;124m'\u001b[39m\u001b[38;5;124mDribbling\u001b[39m\u001b[38;5;124m'\u001b[39m, \u001b[38;5;124m'\u001b[39m\u001b[38;5;124mPace\u001b[39m\u001b[38;5;124m'\u001b[39m, \u001b[38;5;124m\"\u001b[39m\u001b[38;5;124mtpr\u001b[39m\u001b[38;5;124m\"\u001b[39m]]\n",
      "\u001b[1;31mNameError\u001b[0m: name 'merged_df' is not defined"
     ]
    }
   ],
   "source": [
    "import pandas as pd\n",
    "from sklearn.preprocessing import MinMaxScaler\n",
    "from sklearn.linear_model import LinearRegression\n",
    "\n",
    "# Create DataFrame\n",
    "df = merged_df.copy()\n",
    "\n",
    "# Normalize the data\n",
    "# scaler = MinMaxScaler()\n",
    "# df[['Att', 'Dribbling', 'Pace', \"tpr\"]] = scaler.fit_transform(df[['Att', 'Dribbling', 'Pace', \"tpr\"]])\n",
    "\n",
    "# Separate features and target variable\n",
    "X = df[['Dribbling', 'Pace', \"tpr\"]]\n",
    "y = df['Att']\n",
    "\n",
    "# Create and train the model\n",
    "model = LinearRegression()\n",
    "model.fit(X, y)\n",
    "\n",
    "# Get the coefficients\n",
    "coefficients = model.coef_\n",
    "intercept = model.intercept_\n",
    "\n",
    "print(\"Coefficients:\", coefficients)\n",
    "print(\"Intercept:\", intercept)"
   ]
  },
  {
   "cell_type": "code",
   "execution_count": null,
   "id": "d3fd3443-a3cf-4b40-9db3-b98284a993e2",
   "metadata": {},
   "outputs": [],
   "source": [
    "def f(dribbling, pace, tpr):\n",
    "    return intercept + coefficients[0] * dribbling + coefficients[1] * pace + coefficients[2] * tpr\n",
    "\n",
    "f(56, 72, 72)"
   ]
  },
  {
   "cell_type": "code",
   "execution_count": null,
   "id": "4893ba6f-ca5f-420d-9a32-63a5baa1ff2c",
   "metadata": {},
   "outputs": [],
   "source": [
    "# sort_dribble = df.sort_values(\"Att\", ascending=False)\n",
    "# sort_dribble[list(set(fm_attributes) - set(gk_attributes))].head(15).mean().sort_values(ascending=False)"
   ]
  },
  {
   "cell_type": "code",
   "execution_count": null,
   "id": "9995b9a6-85fa-42a3-812f-bd7309df5b6d",
   "metadata": {},
   "outputs": [],
   "source": [
    "pass_df = pd.read_csv(\"../match_logs/Big5@22-23@passing.csv\")[[\"Att\",\"Club\"]].groupby(by=\"Club\").mean().reset_index().sort_values(\"Att\", ascending=False)\n",
    "shot_df = pd.read_csv(\"../match_logs/Big5@22-23@shooting.csv\")[[\"Sh\",\"Club\"]].groupby(by=\"Club\").mean().reset_index().sort_values(\"Sh\", ascending=False)\n",
    "dribble_df = pd.read_csv(\"../match_logs/Big5@22-23@possession.csv\")[[\"Att\",\"Club\"]].groupby(by=\"Club\").mean().reset_index().sort_values(\"Att\", ascending=False)\n",
    "merged_df = pd.merge(\n",
    "    pass_df.merge(shot_df, on=\"Club\", suffixes=(\"\", \"_shot\")),\n",
    "    dribble_df, on=\"Club\", suffixes=(\"_pass\", \"_dribble\")\n",
    ")\n",
    "merged_df.rename(columns={\"Sh\":\"Att_shot\"}, inplace=True)\n",
    "action_columns = merged_df.select_dtypes(exclude=\"object\").columns"
   ]
  },
  {
   "cell_type": "code",
   "execution_count": null,
   "id": "f858ca3d-074d-482c-b77a-071ba132742e",
   "metadata": {},
   "outputs": [],
   "source": [
    "merged_df[\"Total_Actions\"] = merged_df.apply(lambda row: row[action_columns].sum(), axis=1)\n",
    "merged_df[\"Triple_Prob_Dict\"] = merged_df.apply(lambda row: {\n",
    "    \"Pass\": (row[\"Att_pass\"]/row[\"Total_Actions\"]),\n",
    "    \"Shot\": row[\"Att_shot\"]/row[\"Total_Actions\"],\n",
    "    \"Dribble\": row[\"Att_dribble\"]/row[\"Total_Actions\"],\n",
    "}, axis=1)"
   ]
  },
  {
   "cell_type": "code",
   "execution_count": null,
   "id": "62e54678-7063-4eac-81c0-b67b94cf6748",
   "metadata": {},
   "outputs": [],
   "source": [
    "exrow = merged_df.sort_values(\"Att_dribble\",ascending=False).iloc[72].Triple_Prob_Dict\n",
    "avg = location_df[[\"pass_prob\",\"shot_prob\",\"dribble_prob\"]].mean()"
   ]
  },
  {
   "cell_type": "code",
   "execution_count": null,
   "id": "fbfa2194-f879-477d-b860-03506ca692b6",
   "metadata": {},
   "outputs": [],
   "source": [
    "d = {\n",
    "    \"p\": exrow[\"Pass\"] /  avg[\"pass_prob\"],# * f[\"pass_prob\"],\n",
    "    \"s\": exrow[\"Shot\"] / avg[\"shot_prob\"],#  * f[\"shot_prob\"],\n",
    "    \"d\": exrow[\"Dribble\"] / avg[\"dribble_prob\"],#  * f[\"shot_prob\"],\n",
    "}\n",
    "d"
   ]
  }
 ],
 "metadata": {
  "kernelspec": {
   "display_name": "Python 3 (ipykernel)",
   "language": "python",
   "name": "python3"
  },
  "language_info": {
   "codemirror_mode": {
    "name": "ipython",
    "version": 3
   },
   "file_extension": ".py",
   "mimetype": "text/x-python",
   "name": "python",
   "nbconvert_exporter": "python",
   "pygments_lexer": "ipython3",
   "version": "3.11.7"
  }
 },
 "nbformat": 4,
 "nbformat_minor": 5
}
