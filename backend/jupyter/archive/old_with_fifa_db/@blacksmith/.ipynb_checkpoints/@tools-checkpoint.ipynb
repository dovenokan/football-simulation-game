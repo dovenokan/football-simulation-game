{
 "cells": [
  {
   "cell_type": "code",
   "execution_count": 2,
   "id": "a8f5c204",
   "metadata": {},
   "outputs": [],
   "source": [
    "import requests\n",
    "import os\n",
    "import pandas as pd\n"
   ]
  },
  {
   "cell_type": "code",
   "execution_count": 3,
   "id": "790edef8",
   "metadata": {},
   "outputs": [],
   "source": [
    "df = pd.read_csv(\"../fifa24_db/pdb1.csv\")"
   ]
  },
  {
   "cell_type": "code",
   "execution_count": 9,
   "id": "8888e8c1",
   "metadata": {},
   "outputs": [],
   "source": [
    "player_ids = df.player_id.to_list()"
   ]
  },
  {
   "cell_type": "code",
   "execution_count": 6,
   "id": "284c4e90",
   "metadata": {},
   "outputs": [
    {
     "name": "stdout",
     "output_type": "stream",
     "text": [
      "Failed to download image for player ID 101. Status code: 500\n",
      "Failed to download image for player ID 102. Status code: 500\n",
      "Failed to download image for player ID 103. Status code: 500\n",
      "Failed to download image for player ID 104. Status code: 500\n"
     ]
    }
   ],
   "source": [
    "\n",
    "# Define the base URL for the images\n",
    "base_url = \"https://cdn.fifacm.com/content/media/imgs/fc24/players\"\n",
    "\n",
    "# Specify the directory where images will be saved\n",
    "save_dir = \"player_images\"\n",
    "\n",
    "# Create the directory if it doesn't exist\n",
    "if not os.path.exists(save_dir):\n",
    "    os.makedirs(save_dir)\n",
    "\n",
    "# Loop through each player ID and download the corresponding image\n",
    "for player_id in player_ids:\n",
    "    # Construct the URL for the current player ID\n",
    "    url = f\"{base_url}/p{player_id}.png\"\n",
    "\n",
    "    # Send a GET request to the URL\n",
    "    response = requests.get(url)\n",
    "\n",
    "    # Check if the request was successful (status code 200)\n",
    "    if response.status_code == 200:\n",
    "        # Get the content of the response (image data)\n",
    "        image_data = response.content\n",
    "\n",
    "        # Save the image to a file\n",
    "        file_path = os.path.join(save_dir, f\"{player_id}.png\")\n",
    "        with open(file_path, \"wb\") as file:\n",
    "            file.write(image_data)\n",
    "\n",
    "        print(f\"Image for player ID {player_id} downloaded successfully.\")\n",
    "    else:\n",
    "        print(f\"Failed to download image for player ID {player_id}. Status code: {response.status_code}\")"
   ]
  },
  {
   "cell_type": "code",
   "execution_count": null,
   "id": "5fb398b7",
   "metadata": {},
   "outputs": [],
   "source": []
  },
  {
   "cell_type": "code",
   "execution_count": null,
   "id": "ff10ada4",
   "metadata": {},
   "outputs": [],
   "source": []
  }
 ],
 "metadata": {
  "kernelspec": {
   "display_name": "Python 3 (ipykernel)",
   "language": "python",
   "name": "python3"
  },
  "language_info": {
   "codemirror_mode": {
    "name": "ipython",
    "version": 3
   },
   "file_extension": ".py",
   "mimetype": "text/x-python",
   "name": "python",
   "nbconvert_exporter": "python",
   "pygments_lexer": "ipython3",
   "version": "3.10.9"
  }
 },
 "nbformat": 4,
 "nbformat_minor": 5
}
