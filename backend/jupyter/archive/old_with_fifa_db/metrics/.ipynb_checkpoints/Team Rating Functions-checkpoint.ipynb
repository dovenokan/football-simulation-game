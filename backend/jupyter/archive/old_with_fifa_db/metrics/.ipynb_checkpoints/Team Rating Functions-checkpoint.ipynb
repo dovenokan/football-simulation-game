{
 "cells": [
  {
   "cell_type": "code",
   "execution_count": 71,
   "id": "42688ee9",
   "metadata": {},
   "outputs": [],
   "source": [
    "import pandas as pd\n",
    "import numpy as np\n",
    "import seaborn as sns\n",
    "import matplotlib.pyplot as plt\n",
    "import re\n",
    "import warnings\n",
    "\n",
    "from futsim_funcs import TPR,TFR,TPSR,TGKR,TDR"
   ]
  },
  {
   "cell_type": "code",
   "execution_count": 72,
   "id": "3b050219",
   "metadata": {
    "jupyter": {
     "source_hidden": true
    }
   },
   "outputs": [],
   "source": [
    "import warnings\n",
    "with warnings.catch_warnings():\n",
    "    warnings.filterwarnings(\"ignore\", category=FutureWarning)"
   ]
  },
  {
   "cell_type": "markdown",
   "id": "c584202c",
   "metadata": {},
   "source": [
    "<br>"
   ]
  },
  {
   "cell_type": "code",
   "execution_count": 73,
   "id": "05dd41c4",
   "metadata": {},
   "outputs": [],
   "source": [
    "players_df = pd.read_csv(\"../fifa24_db/pdb_23.csv\")\n",
    "players_df = players_df"
   ]
  },
  {
   "cell_type": "markdown",
   "id": "537e33f5-c1c1-4f35-97b7-88bb64b8f6f4",
   "metadata": {},
   "source": [
    "# futsim_funcs.py"
   ]
  },
  {
   "cell_type": "code",
   "execution_count": 74,
   "id": "5844bff1-c65e-47d6-923d-ceab2d48bc1d",
   "metadata": {
    "jupyter": {
     "source_hidden": true
    }
   },
   "outputs": [],
   "source": [
    "def TPR(df, top_N_players=18, lineup=False):\n",
    "    '''\n",
    "    Team Power Rating\n",
    "    '''\n",
    "    club_groups = df.groupby('club_name')\n",
    "    dfs = []\n",
    "    for club_name, club_data in club_groups:\n",
    "        top_players = club_data.sort_values(by='overall', ascending=False).head(top_N_players)\n",
    "        mean_top_players = top_players.mean(numeric_only=True)\n",
    "        filler = int(mean_top_players['overall'])\n",
    "\n",
    "        if lineup == True:\n",
    "            top_players = top_players[~top_players['club_position'].str.contains('SUB|RES')]\n",
    "        \n",
    "        goalkeepers = top_players[top_players['player_positions'].str.contains('GK')].mean(numeric_only=True).fillna(filler)\n",
    "        defenders = top_players[top_players['player_positions'].str.contains('CB|LB|RB|LWB|RWB')].mean(numeric_only=True).fillna(filler)\n",
    "        midfielders = top_players[top_players['player_positions'].str.contains('CM|CDM|CAM|LM|RM')].mean(numeric_only=True).fillna(filler)\n",
    "        attackers = top_players[top_players['player_positions'].str.contains('ST|CF|LW|RW|LF|RF')].mean(numeric_only=True).fillna(filler)\n",
    "        midcenters = top_players[top_players['player_positions'].str.contains('CM|CDM')].mean(numeric_only=True).fillna(filler)\n",
    "        wingers = top_players[top_players['player_positions'].str.contains('LB|RB|LWB|RWB|LM|RM|LW|RW|LF|RF')].mean(numeric_only=True).fillna(filler)\n",
    "        \n",
    "        club_df = pd.DataFrame({\n",
    "            \"league_id\": top_players.iloc[0]['league_id'],\n",
    "            \"club_team_id\": top_players.iloc[0]['club_team_id'],\n",
    "            \"league_name\": top_players.iloc[0]['league_name'],\n",
    "            \"club_name\": club_name,\n",
    "            \"def_power\": int(goalkeepers['overall']*0.2 + defenders['overall']*0.8), # DEF POWER FUNCTION\n",
    "            \"mid_power\": int(midfielders['overall']), # MID POWER FUNCTION\n",
    "            \"att_power\": int(attackers['overall']), # ATT POWER FUNCTION\n",
    "            \"power\": int(mean_top_players['overall']),\n",
    "        }, index=[0])\n",
    "        \n",
    "        attributes = [\n",
    "            'attacking_crossing','attacking_finishing', 'attacking_heading_accuracy',\n",
    "           'attacking_short_passing', 'attacking_volleys', 'skill_dribbling',\n",
    "           'skill_curve', 'skill_fk_accuracy', 'skill_long_passing',\n",
    "           'skill_ball_control', 'movement_acceleration', 'movement_sprint_speed',\n",
    "           'movement_agility', 'movement_reactions', 'movement_balance',\n",
    "           'power_shot_power', 'power_jumping', 'power_stamina', 'power_strength',\n",
    "           'power_long_shots', 'mentality_aggression', 'mentality_interceptions',\n",
    "           'mentality_positioning', 'mentality_vision', 'mentality_penalties',\n",
    "           'mentality_composure', 'defending_marking_awareness',\n",
    "           'defending_standing_tackle', 'defending_sliding_tackle',\n",
    "           'goalkeeping_diving', 'goalkeeping_handling', 'goalkeeping_kicking',\n",
    "           'goalkeeping_positioning', 'goalkeeping_reflexes'\n",
    "        ]\n",
    "\n",
    "        mean_data = {}\n",
    "        for position, players in zip(['goalkeepers', 'defenders', 'midfielders', 'attackers', 'midcenters', 'wingers'], \n",
    "                                     [goalkeepers, defenders, midfielders, attackers, midcenters, wingers]):\n",
    "            for attribute in attributes:\n",
    "                mean_data[f\"{position}_{attribute}\"] = int(players[attribute]) if not pd.isnull(players[attribute]) else 70\n",
    "\n",
    "        for attribute in attributes:\n",
    "            mean_data[f\"team_{attribute}\"] = int(players[attribute]) if not pd.isnull(players[attribute]) else 70\n",
    "\n",
    "        mean_df = pd.DataFrame(mean_data, index=[0]) \n",
    "        club_df = pd.concat([club_df, mean_df], axis=1)\n",
    "        \n",
    "        dfs.append(club_df)\n",
    "    merged = pd.concat(dfs, ignore_index=True)\n",
    "\n",
    "    return {\n",
    "        \"name\": \"power\",\n",
    "        \"data\": merged.sort_values(\"power\", ascending=False)\n",
    "    }"
   ]
  },
  {
   "cell_type": "code",
   "execution_count": 75,
   "id": "1346b4bd-13dc-4473-8fc7-536b1bea2c09",
   "metadata": {
    "jupyter": {
     "source_hidden": true
    }
   },
   "outputs": [],
   "source": [
    "def TFNR(df, tpr_data):\n",
    "    '''\n",
    "    Team Finishing Rating\n",
    "    '''\n",
    "    club_groups = df.groupby('club_name')\n",
    "    dfs = []\n",
    "    for club_name, club_data in club_groups:\n",
    "        tpr_data_club  = tpr_data.query(f\"club_name == '{club_name}'\")\n",
    "\n",
    "        power = tpr_data_club[\"power\"].iloc[0]\n",
    "        aap = tpr_data_club[\"attackers_mentality_positioning\"].iloc[0]\n",
    "        aaf = tpr_data_club[\"attackers_attacking_finishing\"].iloc[0]\n",
    "        mpsp = tpr_data_club[\"midfielders_power_shot_power\"].iloc[0]\n",
    "        mls = tpr_data_club[\"midfielders_power_long_shots\"].iloc[0]\n",
    "        mha = tpr_data_club[\"defenders_attacking_heading_accuracy\"].iloc[0]\n",
    "        msc = tpr_data_club[\"midfielders_skill_curve\"].iloc[0]\n",
    "        asc = tpr_data_club[\"attackers_skill_curve\"].iloc[0]\n",
    "        \n",
    "        skill_rating = int(\n",
    "                            aap * 0.15 +\n",
    "                            aaf * 0.30 +\n",
    "                            mpsp * 0.20 +\n",
    "                            mls * 0.20 +\n",
    "                            msc * 0.05 +\n",
    "                            asc * 0.05 +\n",
    "                            mha * 0.05\n",
    "                        )\n",
    "\n",
    "        club_df = pd.DataFrame({\n",
    "            \"league_id\": tpr_data_club.iloc[0]['league_id'],\n",
    "            \"club_team_id\": tpr_data_club.iloc[0]['club_team_id'],  \n",
    "            \"league_name\": tpr_data_club.iloc[0]['league_name'],\n",
    "            \"club_name\": club_name,\n",
    "            \"power\": power,\n",
    "            \"finishing\": skill_rating\n",
    "        }, index=[0])\n",
    "\n",
    "        dfs.append(club_df)\n",
    "    merged = pd.concat(dfs, ignore_index=True)\n",
    "\n",
    "    return {\n",
    "        \"name\": \"finishing\",\n",
    "        \"data\": merged.sort_values(\"finishing\", ascending=False)\n",
    "    }"
   ]
  },
  {
   "cell_type": "code",
   "execution_count": 76,
   "id": "4bc94850-b03e-4ea9-816b-53c49382d687",
   "metadata": {
    "jupyter": {
     "source_hidden": true
    }
   },
   "outputs": [],
   "source": [
    "def TPSR(df, tpr_data):\n",
    "    '''\n",
    "    Team Passing Rating\n",
    "    '''\n",
    "    club_groups = df.groupby('club_name')\n",
    "    dfs = []\n",
    "    for club_name, club_data in club_groups:\n",
    "        tpr_data_club  = tpr_data.query(f\"club_name == '{club_name}'\")\n",
    "\n",
    "        power = tpr_data_club[\"power\"].iloc[0]\n",
    "        short_passing = tpr_data_club[\"team_attacking_short_passing\"].iloc[0]\n",
    "        long_passing = tpr_data_club[\"team_skill_long_passing\"].iloc[0]\n",
    "        crossing = tpr_data_club[\"team_attacking_crossing\"].iloc[0]\n",
    "        vision = tpr_data_club[\"team_mentality_vision\"].iloc[0]\n",
    "        ball_control = tpr_data_club[\"team_skill_ball_control\"].iloc[0]\n",
    "\n",
    "        skill_rating = int( \n",
    "                            short_passing * 0.35 +\n",
    "                            long_passing * 0.15 +\n",
    "                            crossing * 0.10 +\n",
    "                            vision * 0.20 +\n",
    "                            ball_control * 0.20\n",
    "                        )\n",
    "\n",
    "        club_df = pd.DataFrame({\n",
    "            \"league_id\": tpr_data_club.iloc[0]['league_id'],\n",
    "            \"club_team_id\": tpr_data_club.iloc[0]['club_team_id'],  \n",
    "            \"league_name\": tpr_data_club.iloc[0]['league_name'],\n",
    "            \"club_name\": club_name,\n",
    "            \"power\": power,\n",
    "            \"passing\": skill_rating\n",
    "        }, index=[0])\n",
    "\n",
    "        dfs.append(club_df)\n",
    "    merged = pd.concat(dfs, ignore_index=True)\n",
    "\n",
    "    return {\n",
    "        \"name\": \"passing\",\n",
    "        \"data\": merged.sort_values(\"passing\", ascending=False)\n",
    "    }    "
   ]
  },
  {
   "cell_type": "code",
   "execution_count": 77,
   "id": "1558f7f2-d261-408b-9eb2-a9191160f529",
   "metadata": {
    "jupyter": {
     "source_hidden": true
    }
   },
   "outputs": [],
   "source": [
    "def TDRR(df, tpr_data):\n",
    "    '''\n",
    "    Team Dribbling Rating\n",
    "    '''\n",
    "    club_groups = df.groupby('club_name')\n",
    "    dfs = []\n",
    "    for club_name, club_data in club_groups:\n",
    "        tpr_data_club  = tpr_data.query(f\"club_name == '{club_name}'\")\n",
    "\n",
    "        power = tpr_data_club[\"power\"].iloc[0]\n",
    "        speed = tpr_data_club[\"team_movement_sprint_speed\"].iloc[0]\n",
    "        balance = tpr_data_club[\"team_movement_balance\"].iloc[0]\n",
    "        att_acceleration = tpr_data_club[\"attackers_movement_acceleration\"].iloc[0]\n",
    "        att_dribbling = tpr_data_club[\"attackers_skill_dribbling\"].iloc[0]\n",
    "        mid_acceleration = tpr_data_club[\"midfielders_movement_acceleration\"].iloc[0]\n",
    "        mid_dribbling = tpr_data_club[\"midfielders_skill_dribbling\"].iloc[0]\n",
    "\n",
    "        skill_rating = int( \n",
    "                            speed * 0.15 +\n",
    "                            balance * 0.15 +\n",
    "                            att_acceleration * 0.15 +\n",
    "                            att_dribbling * 0.20 +\n",
    "                            mid_acceleration * 0.15 +\n",
    "                            mid_dribbling * 0.20\n",
    "                        )\n",
    "\n",
    "        club_df = pd.DataFrame({\n",
    "            \"league_id\": tpr_data_club.iloc[0]['league_id'],\n",
    "            \"club_team_id\": tpr_data_club.iloc[0]['club_team_id'],  \n",
    "            \"league_name\": tpr_data_club.iloc[0]['league_name'],\n",
    "            \"club_name\": club_name,\n",
    "            \"power\": power,\n",
    "            \"dribbling\": skill_rating\n",
    "        }, index=[0])\n",
    "\n",
    "        dfs.append(club_df)\n",
    "    merged = pd.concat(dfs, ignore_index=True)\n",
    "\n",
    "    return {\n",
    "        \"name\": \"dribbling\",\n",
    "        \"data\": merged.sort_values(\"dribbling\", ascending=False)\n",
    "    }    "
   ]
  },
  {
   "cell_type": "code",
   "execution_count": 78,
   "id": "628a5412-317c-47e3-b523-b1e3e2990ae0",
   "metadata": {
    "jupyter": {
     "source_hidden": true
    }
   },
   "outputs": [],
   "source": [
    "def TDER(df, tpr_data):\n",
    "    '''\n",
    "    Team Defending Rating\n",
    "    '''\n",
    "    club_groups = df.groupby('club_name')\n",
    "    dfs = []\n",
    "    for club_name, club_data in club_groups:\n",
    "        tpr_data_club  = tpr_data.query(f\"club_name == '{club_name}'\")\n",
    "        \n",
    "        power = tpr_data_club[\"power\"].iloc[0]\n",
    "        def_speed = tpr_data_club[\"defenders_movement_sprint_speed\"].iloc[0]\n",
    "        mc_speed = tpr_data_club[\"midcenters_movement_sprint_speed\"].iloc[0]\n",
    "        def_int = tpr_data_club[\"defenders_mentality_interceptions\"].iloc[0]\n",
    "        mc_int = tpr_data_club[\"midcenters_mentality_interceptions\"].iloc[0]\n",
    "        def_standing_tackle = tpr_data_club[\"defenders_defending_standing_tackle\"].iloc[0]\n",
    "        mc_standing_tackle = tpr_data_club[\"midcenters_defending_standing_tackle\"].iloc[0]     \n",
    "        def_sliding_tackle = tpr_data_club[\"defenders_defending_sliding_tackle\"].iloc[0]\n",
    "        mc_sliding_tackle = tpr_data_club[\"midcenters_defending_sliding_tackle\"].iloc[0]    \n",
    "        marking = tpr_data_club[\"team_defending_sliding_tackle\"].iloc[0]    \n",
    "        agression = tpr_data_club[\"team_mentality_aggression\"].iloc[0]    \n",
    "\n",
    "        skill_rating = int( \n",
    "                            def_speed * 0.07 +\n",
    "                            mc_speed * 0.07 +\n",
    "                            def_int * 0.10 +\n",
    "                            mc_int * 0.06 +\n",
    "                            def_standing_tackle * 0.20 +\n",
    "                            mc_standing_tackle * 0.05 +\n",
    "                            def_sliding_tackle * 0.15 +\n",
    "                            mc_sliding_tackle * 0.05 +\n",
    "                            marking * 0.17 +\n",
    "                            agression * 0.08\n",
    "                          )\n",
    "\n",
    "        club_df = pd.DataFrame({\n",
    "            \"league_id\": tpr_data_club.iloc[0]['league_id'],\n",
    "            \"club_team_id\": tpr_data_club.iloc[0]['club_team_id'],  \n",
    "            \"league_name\": tpr_data_club.iloc[0]['league_name'],\n",
    "            \"club_name\": club_name,\n",
    "            \"power\": power,\n",
    "            \"defending\": skill_rating\n",
    "        }, index=[0])\n",
    "\n",
    "        dfs.append(club_df)\n",
    "    merged = pd.concat(dfs, ignore_index=True)\n",
    "\n",
    "    return {\n",
    "        \"name\": \"defending\",\n",
    "        \"data\": merged.sort_values(\"defending\", ascending=False)\n",
    "    }    "
   ]
  },
  {
   "cell_type": "code",
   "execution_count": 79,
   "id": "fb8b5e10-2ad1-43c0-a53d-6bf5ab1c10f8",
   "metadata": {
    "jupyter": {
     "source_hidden": true
    }
   },
   "outputs": [],
   "source": [
    "def TGKR(df, tpr_data):\n",
    "    '''\n",
    "    Team Goalkeeping Rating\n",
    "    '''\n",
    "    club_groups = df.groupby('club_name')\n",
    "    dfs = []\n",
    "    for club_name, club_data in club_groups:\n",
    "        tpr_data_club  = tpr_data.query(f\"club_name == '{club_name}'\")\n",
    "        \n",
    "        power = tpr_data_club[\"power\"].iloc[0]\n",
    "        diving = tpr_data_club[\"goalkeepers_goalkeeping_diving\"].iloc[0]    \n",
    "        handling = tpr_data_club[\"goalkeepers_goalkeeping_handling\"].iloc[0]    \n",
    "        kicking = tpr_data_club[\"goalkeepers_goalkeeping_kicking\"].iloc[0]    \n",
    "        positioning = tpr_data_club[\"goalkeepers_goalkeeping_positioning\"].iloc[0]    \n",
    "        reflexes = tpr_data_club[\"goalkeepers_goalkeeping_reflexes\"].iloc[0]    \n",
    "\n",
    "        skill_rating = int( \n",
    "                            diving * 0.25 +\n",
    "                            handling * 0.20 +\n",
    "                            kicking * 0.10 +\n",
    "                            positioning * 0.25 +\n",
    "                            reflexes * 0.20\n",
    "                          )\n",
    "\n",
    "        club_df = pd.DataFrame({\n",
    "            \"league_id\": tpr_data_club.iloc[0]['league_id'],\n",
    "            \"club_team_id\": tpr_data_club.iloc[0]['club_team_id'],  \n",
    "            \"league_name\": tpr_data_club.iloc[0]['league_name'],\n",
    "            \"club_name\": club_name,\n",
    "            \"power\": power,\n",
    "            \"goalkeeping\": skill_rating\n",
    "        }, index=[0])\n",
    "\n",
    "        dfs.append(club_df)\n",
    "    merged = pd.concat(dfs, ignore_index=True)\n",
    "\n",
    "    return {\n",
    "        \"name\": \"goalkeeping\",\n",
    "        \"data\": merged.sort_values(\"goalkeeping\", ascending=False)\n",
    "    }"
   ]
  },
  {
   "cell_type": "code",
   "execution_count": 80,
   "id": "7fa2c1e1-0b8a-4aa0-97ce-af47b685d86c",
   "metadata": {
    "collapsed": true,
    "jupyter": {
     "outputs_hidden": true,
     "source_hidden": true
    }
   },
   "outputs": [],
   "source": [
    "def TSTR(df, tpr_data):\n",
    "    '''\n",
    "    Team Strength Rating\n",
    "    '''\n",
    "    club_groups = df.groupby('club_name')\n",
    "    dfs = []\n",
    "    for club_name, club_data in club_groups:\n",
    "        tpr_data_club  = tpr_data.query(f\"club_name == '{club_name}'\")\n",
    "\n",
    "        power = tpr_data_club[\"power\"].iloc[0]\n",
    "        strength = tpr_data_club[\"team_power_strength\"].iloc[0]    \n",
    "        speed = tpr_data_club[\"team_movement_sprint_speed\"].iloc[0]    \n",
    "        agility = tpr_data_club[\"team_movement_agility\"].iloc[0]    \n",
    "        skill_rating = int( \n",
    "                            strength * 25 +\n",
    "                            speed * 0.2 + \n",
    "                            agility * 0.1\n",
    "                          )\n",
    "\n",
    "        club_df = pd.DataFrame({\n",
    "            \"league_id\": tpr_data_club.iloc[0]['league_id'],\n",
    "            \"club_team_id\": tpr_data_club.iloc[0]['club_team_id'],  \n",
    "            \"league_name\": tpr_data_club.iloc[0]['league_name'],\n",
    "            \"club_name\": club_name,\n",
    "            \"power\": power,\n",
    "            \"strength\": skill_rating\n",
    "        }, index=[0])\n",
    "\n",
    "        dfs.append(club_df)\n",
    "    merged = pd.concat(dfs, ignore_index=True)\n",
    "\n",
    "    return {\n",
    "        \"name\": \"strength\",\n",
    "        \"data\": merged.sort_values(\"strength\", ascending=False)\n",
    "    }"
   ]
  },
  {
   "cell_type": "code",
   "execution_count": 81,
   "id": "ea260d37-3081-4cba-a3c9-9f49a0842ed9",
   "metadata": {
    "jupyter": {
     "source_hidden": true
    }
   },
   "outputs": [],
   "source": [
    "def TSMR(df, tpr_data):\n",
    "    '''\n",
    "    Team Stamina Rating\n",
    "    '''\n",
    "    club_groups = df.groupby('club_name')\n",
    "    dfs = []\n",
    "    for club_name, club_data in club_groups:\n",
    "        tpr_data_club  = tpr_data.query(f\"club_name == '{club_name}'\")\n",
    "        \n",
    "        power = tpr_data_club[\"power\"].iloc[0]\n",
    "        stamina = tpr_data_club[\"team_power_stamina\"].iloc[0]    \n",
    "\n",
    "        skill_rating = int( \n",
    "                            stamina * 1\n",
    "                          )\n",
    "\n",
    "        club_df = pd.DataFrame({\n",
    "            \"league_id\": tpr_data_club.iloc[0]['league_id'],\n",
    "            \"club_team_id\": tpr_data_club.iloc[0]['club_team_id'],  \n",
    "            \"league_name\": tpr_data_club.iloc[0]['league_name'],\n",
    "            \"club_name\": club_name,\n",
    "            \"power\": power,\n",
    "            \"stamina\": skill_rating\n",
    "        }, index=[0])\n",
    "\n",
    "        dfs.append(club_df)\n",
    "    merged = pd.concat(dfs, ignore_index=True)\n",
    "\n",
    "    return {\n",
    "        \"name\": \"stamina\",\n",
    "        \"data\": merged.sort_values(\"stamina\", ascending=False)\n",
    "    }"
   ]
  },
  {
   "cell_type": "code",
   "execution_count": 82,
   "id": "45b547be-5848-4bec-b417-5a386f1ecb6f",
   "metadata": {
    "jupyter": {
     "source_hidden": true
    }
   },
   "outputs": [],
   "source": [
    "def THER(df, tpr_data):\n",
    "    '''\n",
    "    Team Heading Rating\n",
    "    '''\n",
    "    club_groups = df.groupby('club_name')\n",
    "    dfs = []\n",
    "    for club_name, club_data in club_groups:\n",
    "        tpr_data_club  = tpr_data.query(f\"club_name == '{club_name}'\")\n",
    "        \n",
    "        power = tpr_data_club[\"power\"].iloc[0]\n",
    "        heading = tpr_data_club[\"team_attacking_heading_accuracy\"].iloc[0]    \n",
    "        jumping = tpr_data_club[\"team_power_jumping\"].iloc[0]    \n",
    "\n",
    "        skill_rating = int( \n",
    "                            heading * 0.7 +\n",
    "                            jumping * 0.3\n",
    "                          )\n",
    "\n",
    "        club_df = pd.DataFrame({\n",
    "            \"league_id\": tpr_data_club.iloc[0]['league_id'],\n",
    "            \"club_team_id\": tpr_data_club.iloc[0]['club_team_id'],  \n",
    "            \"league_name\": tpr_data_club.iloc[0]['league_name'],\n",
    "            \"club_name\": club_name,\n",
    "            \"power\": power,\n",
    "            \"heading\": skill_rating\n",
    "        }, index=[0])\n",
    "\n",
    "        dfs.append(club_df)\n",
    "    merged = pd.concat(dfs, ignore_index=True)\n",
    "\n",
    "    return {\n",
    "        \"name\": \"heading\",\n",
    "        \"data\": merged.sort_values(\"heading\", ascending=False)\n",
    "    }"
   ]
  },
  {
   "cell_type": "markdown",
   "id": "645e5780-794f-417a-9464-37d8b2389a59",
   "metadata": {},
   "source": [
    "# New Rating Functions"
   ]
  },
  {
   "cell_type": "code",
   "execution_count": 83,
   "id": "369c4c1d-b91a-4748-95c0-b7257b116a2d",
   "metadata": {},
   "outputs": [
    {
     "data": {
      "text/html": [
       "<div>\n",
       "<style scoped>\n",
       "    .dataframe tbody tr th:only-of-type {\n",
       "        vertical-align: middle;\n",
       "    }\n",
       "\n",
       "    .dataframe tbody tr th {\n",
       "        vertical-align: top;\n",
       "    }\n",
       "\n",
       "    .dataframe thead th {\n",
       "        text-align: right;\n",
       "    }\n",
       "</style>\n",
       "<table border=\"1\" class=\"dataframe\">\n",
       "  <thead>\n",
       "    <tr style=\"text-align: right;\">\n",
       "      <th></th>\n",
       "      <th>league_id</th>\n",
       "      <th>club_team_id</th>\n",
       "      <th>league_name</th>\n",
       "      <th>club_name</th>\n",
       "      <th>power</th>\n",
       "      <th>strength</th>\n",
       "    </tr>\n",
       "  </thead>\n",
       "  <tbody>\n",
       "    <tr>\n",
       "      <th>138</th>\n",
       "      <td>31</td>\n",
       "      <td>55</td>\n",
       "      <td>Serie A</td>\n",
       "      <td>Udinese</td>\n",
       "      <td>71</td>\n",
       "      <td>1823</td>\n",
       "    </tr>\n",
       "    <tr>\n",
       "      <th>44</th>\n",
       "      <td>19</td>\n",
       "      <td>21</td>\n",
       "      <td>Bundesliga</td>\n",
       "      <td>FC Bayern München</td>\n",
       "      <td>80</td>\n",
       "      <td>1749</td>\n",
       "    </tr>\n",
       "    <tr>\n",
       "      <th>70</th>\n",
       "      <td>31</td>\n",
       "      <td>44</td>\n",
       "      <td>Serie A</td>\n",
       "      <td>Inter</td>\n",
       "      <td>79</td>\n",
       "      <td>1748</td>\n",
       "    </tr>\n",
       "    <tr>\n",
       "      <th>4</th>\n",
       "      <td>10</td>\n",
       "      <td>245</td>\n",
       "      <td>Eredivisie</td>\n",
       "      <td>Ajax</td>\n",
       "      <td>74</td>\n",
       "      <td>1748</td>\n",
       "    </tr>\n",
       "    <tr>\n",
       "      <th>49</th>\n",
       "      <td>19</td>\n",
       "      <td>1831</td>\n",
       "      <td>Bundesliga</td>\n",
       "      <td>FC Union Berlin</td>\n",
       "      <td>70</td>\n",
       "      <td>1722</td>\n",
       "    </tr>\n",
       "  </tbody>\n",
       "</table>\n",
       "</div>"
      ],
      "text/plain": [
       "     league_id  club_team_id league_name          club_name  power  strength\n",
       "138         31            55     Serie A            Udinese     71      1823\n",
       "44          19            21  Bundesliga  FC Bayern München     80      1749\n",
       "70          31            44     Serie A              Inter     79      1748\n",
       "4           10           245  Eredivisie               Ajax     74      1748\n",
       "49          19          1831  Bundesliga    FC Union Berlin     70      1722"
      ]
     },
     "execution_count": 83,
     "metadata": {},
     "output_type": "execute_result"
    }
   ],
   "source": [
    "tpr_data = TPR(players_df, top_N_players=33333, lineup=False)[\"data\"]\n",
    "tpr_data.sort_values(\"power\", ascending=False)[[\"club_name\",\"power\",\"def_power\", \"mid_power\", \"att_power\"]].head(5)\n",
    "\n",
    "f = TSTR\n",
    "test_data = f(players_df, tpr_data)[\"data\"]\n",
    "test_data.sort_values(\"strength\", ascending=False).head()"
   ]
  },
  {
   "cell_type": "code",
   "execution_count": 87,
   "id": "861398e0-2c43-4e94-9bb4-c3af1ac7e929",
   "metadata": {},
   "outputs": [
    {
     "data": {
      "text/plain": [
       "'No'"
      ]
     },
     "execution_count": 87,
     "metadata": {},
     "output_type": "execute_result"
    }
   ],
   "source": [
    "np.random.choice([\"Goal\", \"No\"], p=[0.25, 0.75])"
   ]
  },
  {
   "cell_type": "code",
   "execution_count": 85,
   "id": "83bc27ec-8040-4114-adb9-3517616c7070",
   "metadata": {},
   "outputs": [
    {
     "data": {
      "text/plain": [
       "Index(['player_id', 'short_name', 'long_name', 'player_positions', 'overall',\n",
       "       'potential', 'value_eur', 'wage_eur', 'dob', 'height_cm',\n",
       "       'club_team_id', 'club_name', 'league_id', 'league_name',\n",
       "       'club_position', 'club_jersey_number', 'nationality_id',\n",
       "       'nationality_name', 'preferred_foot', 'attacking_crossing',\n",
       "       'attacking_finishing', 'attacking_heading_accuracy',\n",
       "       'attacking_short_passing', 'attacking_volleys', 'skill_dribbling',\n",
       "       'skill_curve', 'skill_fk_accuracy', 'skill_long_passing',\n",
       "       'skill_ball_control', 'movement_acceleration', 'movement_sprint_speed',\n",
       "       'movement_agility', 'movement_reactions', 'movement_balance',\n",
       "       'power_shot_power', 'power_jumping', 'power_stamina', 'power_strength',\n",
       "       'power_long_shots', 'mentality_aggression', 'mentality_interceptions',\n",
       "       'mentality_positioning', 'mentality_vision', 'mentality_penalties',\n",
       "       'mentality_composure', 'defending_marking_awareness',\n",
       "       'defending_standing_tackle', 'defending_sliding_tackle',\n",
       "       'goalkeeping_diving', 'goalkeeping_handling', 'goalkeeping_kicking',\n",
       "       'goalkeeping_positioning', 'goalkeeping_reflexes', 'ls', 'st', 'rs',\n",
       "       'lw', 'lf', 'cf', 'rf', 'rw', 'lam', 'cam', 'ram', 'lm', 'lcm', 'cm',\n",
       "       'rcm', 'rm', 'lwb', 'ldm', 'cdm', 'rdm', 'rwb', 'lb', 'lcb', 'cb',\n",
       "       'rcb', 'rb', 'gk'],\n",
       "      dtype='object')"
      ]
     },
     "execution_count": 85,
     "metadata": {},
     "output_type": "execute_result"
    }
   ],
   "source": [
    "players_df.columns"
   ]
  },
  {
   "cell_type": "code",
   "execution_count": null,
   "id": "2dc19ebb-039f-47e5-819c-59530f5515db",
   "metadata": {},
   "outputs": [],
   "source": []
  },
  {
   "cell_type": "code",
   "execution_count": null,
   "id": "3e4c466b-9ebf-4dbf-9cf2-b81cb5c46656",
   "metadata": {},
   "outputs": [],
   "source": []
  },
  {
   "cell_type": "code",
   "execution_count": null,
   "id": "39e16349-c266-4d72-8954-6d1ceebd855b",
   "metadata": {},
   "outputs": [],
   "source": []
  }
 ],
 "metadata": {
  "kernelspec": {
   "display_name": "Python 3 (ipykernel)",
   "language": "python",
   "name": "python3"
  },
  "language_info": {
   "codemirror_mode": {
    "name": "ipython",
    "version": 3
   },
   "file_extension": ".py",
   "mimetype": "text/x-python",
   "name": "python",
   "nbconvert_exporter": "python",
   "pygments_lexer": "ipython3",
   "version": "3.11.7"
  }
 },
 "nbformat": 4,
 "nbformat_minor": 5
}
