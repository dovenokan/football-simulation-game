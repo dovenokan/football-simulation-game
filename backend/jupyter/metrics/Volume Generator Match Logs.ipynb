{
 "cells": [
  {
   "cell_type": "code",
   "execution_count": 1,
   "id": "56c74ca8",
   "metadata": {},
   "outputs": [],
   "source": [
    "import pandas as pd\n",
    "import numpy as np\n",
    "import seaborn as sns\n",
    "import matplotlib.pyplot as plt\n",
    "import re\n",
    "import time\n",
    "import requests\n",
    "from bs4 import BeautifulSoup\n",
    "import lxml\n",
    "import json\n",
    "from urllib.parse import quote\n",
    "\n",
    "from futsim_funcs import TPR,TFR,TPSR,TGKR,TDR"
   ]
  },
  {
   "cell_type": "code",
   "execution_count": 2,
   "id": "f8913be1",
   "metadata": {},
   "outputs": [],
   "source": [
    "import warnings\n",
    "warnings.filterwarnings(\"ignore\", message=\"The default value of numeric_only in DataFrame.mean is deprecated.\", category=FutureWarning)"
   ]
  },
  {
   "cell_type": "code",
   "execution_count": 3,
   "id": "3298df77",
   "metadata": {},
   "outputs": [],
   "source": [
    "players_df = pd.read_csv(\"../fifa24_db/pdb_23.csv\")"
   ]
  },
  {
   "cell_type": "code",
   "execution_count": 4,
   "id": "a2eb10ca",
   "metadata": {},
   "outputs": [],
   "source": [
    "tpr_data = TPR(players_df) # Overall\n",
    "tfr_data = TFR(players_df) # Shooting\n",
    "tgkr_data = TGKR(players_df) # Goalkeeping\n",
    "tdr_data = TDR(players_df) # Defense"
   ]
  },
  {
   "cell_type": "code",
   "execution_count": 5,
   "id": "b526803d",
   "metadata": {},
   "outputs": [
    {
     "data": {
      "text/html": [
       "<div>\n",
       "<style scoped>\n",
       "    .dataframe tbody tr th:only-of-type {\n",
       "        vertical-align: middle;\n",
       "    }\n",
       "\n",
       "    .dataframe tbody tr th {\n",
       "        vertical-align: top;\n",
       "    }\n",
       "\n",
       "    .dataframe thead th {\n",
       "        text-align: right;\n",
       "    }\n",
       "</style>\n",
       "<table border=\"1\" class=\"dataframe\">\n",
       "  <thead>\n",
       "    <tr style=\"text-align: right;\">\n",
       "      <th></th>\n",
       "      <th>league_id</th>\n",
       "      <th>club_team_id</th>\n",
       "      <th>league_name</th>\n",
       "      <th>club_name</th>\n",
       "      <th>power</th>\n",
       "      <th>defense</th>\n",
       "    </tr>\n",
       "  </thead>\n",
       "  <tbody>\n",
       "    <tr>\n",
       "      <th>109</th>\n",
       "      <td>53</td>\n",
       "      <td>243</td>\n",
       "      <td>La Liga</td>\n",
       "      <td>Real Madrid</td>\n",
       "      <td>84</td>\n",
       "      <td>78</td>\n",
       "    </tr>\n",
       "    <tr>\n",
       "      <th>101</th>\n",
       "      <td>16</td>\n",
       "      <td>73</td>\n",
       "      <td>Ligue 1</td>\n",
       "      <td>Paris Saint Germain</td>\n",
       "      <td>83</td>\n",
       "      <td>76</td>\n",
       "    </tr>\n",
       "    <tr>\n",
       "      <th>30</th>\n",
       "      <td>13</td>\n",
       "      <td>5</td>\n",
       "      <td>Premier League</td>\n",
       "      <td>Chelsea</td>\n",
       "      <td>84</td>\n",
       "      <td>75</td>\n",
       "    </tr>\n",
       "    <tr>\n",
       "      <th>70</th>\n",
       "      <td>31</td>\n",
       "      <td>44</td>\n",
       "      <td>Serie A</td>\n",
       "      <td>Inter</td>\n",
       "      <td>83</td>\n",
       "      <td>75</td>\n",
       "    </tr>\n",
       "    <tr>\n",
       "      <th>81</th>\n",
       "      <td>13</td>\n",
       "      <td>9</td>\n",
       "      <td>Premier League</td>\n",
       "      <td>Liverpool</td>\n",
       "      <td>84</td>\n",
       "      <td>75</td>\n",
       "    </tr>\n",
       "  </tbody>\n",
       "</table>\n",
       "</div>"
      ],
      "text/plain": [
       "     league_id  club_team_id     league_name            club_name  power  \\\n",
       "109         53           243         La Liga          Real Madrid     84   \n",
       "101         16            73         Ligue 1  Paris Saint Germain     83   \n",
       "30          13             5  Premier League              Chelsea     84   \n",
       "70          31            44         Serie A                Inter     83   \n",
       "81          13             9  Premier League            Liverpool     84   \n",
       "\n",
       "     defense  \n",
       "109       78  \n",
       "101       76  \n",
       "30        75  \n",
       "70        75  \n",
       "81        75  "
      ]
     },
     "execution_count": 5,
     "metadata": {},
     "output_type": "execute_result"
    }
   ],
   "source": [
    "tdr_data.sort_values(\"defense\", ascending=False).head(n=5)"
   ]
  },
  {
   "cell_type": "markdown",
   "id": "7c715b50",
   "metadata": {},
   "source": [
    "<br><br><br><br>"
   ]
  },
  {
   "cell_type": "markdown",
   "id": "fa142a72",
   "metadata": {},
   "source": [
    "# FBRef Match Logs URLs"
   ]
  },
  {
   "cell_type": "code",
   "execution_count": 6,
   "id": "d8912d57",
   "metadata": {},
   "outputs": [],
   "source": [
    "leagues = [\"Premier League\", \"Serie A\", \"Ligue 1\", \"LaLiga\", \"Bundesliga\"]\n",
    "fbref_league_dict = {\n",
    "    \"Premier League\": {\"name\": \"Premier League\", \"fbref_league_id\": 9, \"league_id\": 13},\n",
    "    \"Serie A\": {\"name\": \"Serie A\", \"fbref_league_id\": 11, \"league_id\": 31},\n",
    "    \"Ligue 1\": {\"name\": \"Ligue 1\", \"fbref_league_id\": 13, \"league_id\": 16},\n",
    "    \"LaLiga\": {\"name\": \"LaLiga\", \"fbref_league_id\": 12, \"league_id\": 53},\n",
    "    \"Bundesliga\": {\"name\": \"Bundesliga\", \"fbref_league_id\": 20, \"league_id\": 19},   \n",
    "}"
   ]
  },
  {
   "cell_type": "code",
   "execution_count": 7,
   "id": "9637e106",
   "metadata": {},
   "outputs": [],
   "source": [
    "def GetTeamCredentials(league_id, season=\"2022-2023\"):\n",
    "    league_url = f\"https://fbref.com/en/comps/{league_id}/{season}\"\n",
    "    response = requests.get(league_url)\n",
    "    soup = BeautifulSoup(response.content, \"lxml\")\n",
    "\n",
    "    table = soup.find(\"table\", {\"class\": \"stats_table\"})\n",
    "    team_ids = []\n",
    "    team_names = []\n",
    "\n",
    "    for row in table.find_all(\"tr\")[1:]:\n",
    "        team_name = row.find(\"td\", {\"data-stat\": \"team\"}).text\n",
    "        team_id = row.find(\"td\", {\"data-stat\": \"team\"}).a.get(\"href\").split(\"/\")[3]\n",
    "        team_ids.append(team_id)\n",
    "        team_names.append(team_name)\n",
    "    return {\n",
    "        \"team_ids\":team_ids,\n",
    "        \"team_names\":team_names,\n",
    "    }"
   ]
  },
  {
   "cell_type": "code",
   "execution_count": 8,
   "id": "70b47f66",
   "metadata": {},
   "outputs": [],
   "source": [
    "from rapidfuzz import process\n",
    "def find_best_match(name, choices):\n",
    "    return process.extractOne(name, choices)"
   ]
  },
  {
   "cell_type": "code",
   "execution_count": 9,
   "id": "6aa46969",
   "metadata": {},
   "outputs": [],
   "source": [
    "def TPRFromId(tpr_data, club_team_id):\n",
    "    power = tpr_data.query(f\"club_team_id == {club_team_id}\")[\"power\"].iloc[0]\n",
    "    return {\n",
    "        \"power\": power,\n",
    "    }"
   ]
  },
  {
   "cell_type": "code",
   "execution_count": 10,
   "id": "e6d5a5c1",
   "metadata": {},
   "outputs": [],
   "source": [
    "def TFRFromId(tfr_data, club_team_id):\n",
    "    tfr_data = tfr_data[\"data\"]\n",
    "    power = tfr_data.query(f\"club_team_id == {club_team_id}\")[\"power\"].iloc[0]\n",
    "    finishing = tfr_data.query(f\"club_team_id == {club_team_id}\")[\"finishing\"].iloc[0]\n",
    "    return {\n",
    "        \"power\": power,\n",
    "        \"finishing\": finishing,\n",
    "    }"
   ]
  },
  {
   "cell_type": "code",
   "execution_count": 11,
   "id": "97583599",
   "metadata": {},
   "outputs": [],
   "source": [
    "def TeamNameIdConverter(tpr_data, team_name, league_id, print_output=False):\n",
    "    # TeamNameIdConverter(tpr_data,\"chelseas\",13,1)\n",
    "    club_team_names = tpr_data.query(f\"league_id == {league_id}\")[\"club_name\"].tolist()\n",
    "    club_team_ids = tpr_data.query(f\"league_id == {league_id}\")[\"club_team_id\"].tolist()\n",
    "    club_team_name, score, other = find_best_match(team_name, club_team_names)\n",
    "    club_team_id = club_team_ids[club_team_names.index(club_team_name)]\n",
    "    if print_output:\n",
    "        print(f\"ID for {club_team_name}:\")\n",
    "    return club_team_id"
   ]
  },
  {
   "cell_type": "code",
   "execution_count": 15,
   "id": "676ceb76",
   "metadata": {},
   "outputs": [],
   "source": [
    "def FB_URLS(creds, tpr_data, stat_attribute, fbref_league_id, league_id, season=\"2022-2023\"):\n",
    "    tpr_data = tpr_data[\"data\"]\n",
    "    team_ids = creds[\"team_ids\"]\n",
    "    team_names = creds[\"team_names\"]\n",
    "    club_team_names = tpr_data.query(f\"league_id == {league_id}\")[\"club_name\"].tolist()\n",
    "    club_team_ids = tpr_data.query(f\"league_id == {league_id}\")[\"club_team_id\"].tolist()\n",
    "\n",
    "    for team_id, team_name in zip(team_ids, team_names):\n",
    "        best_match = find_best_match(team_name, club_team_names)\n",
    "        if best_match:\n",
    "            club_team_name, score, other = best_match\n",
    "            club_team_id = club_team_ids[club_team_names.index(club_team_name)]\n",
    "            match_logs_url = f\"https://fbref.com/en/squads/{team_id}/{season}/matchlogs/c{fbref_league_id}/{stat_attribute}/{team_name.replace(' ', '-')}\"\n",
    "            match_logs_stats_dict[stat_attribute].append({\n",
    "                \"id\": team_id,\n",
    "                \"league_id\": league_id,\n",
    "                \"fbref_league_id\": fbref_league_id,\n",
    "                \"stat\": stat_attribute,\n",
    "                \"team\": team_name,\n",
    "                \"club_team_id\": club_team_id,\n",
    "                \"club_team_name\": club_team_name, \n",
    "                \"url\": match_logs_url\n",
    "            })\n",
    "        else:\n",
    "            print(f\"No match found for team: {team_name}\")"
   ]
  },
  {
   "cell_type": "markdown",
   "id": "739078f1",
   "metadata": {},
   "source": [
    "<h1 style=\"color:orange\">🦸‍♂️Must Parameters</h1>"
   ]
  },
  {
   "cell_type": "code",
   "execution_count": 16,
   "id": "12663541",
   "metadata": {},
   "outputs": [],
   "source": [
    "match_logs_stats_dict = {\n",
    "    \"shooting\":[],\n",
    "    \"passing\":[],\n",
    "    \"defense\":[],\n",
    "    \"keeper\":[],\n",
    "    \"passing_types\":[],\n",
    "    \"gca\":[],\n",
    "    \"possession\":[],\n",
    "    \"misc\":[],\n",
    "}\n",
    "\n",
    "attributes = match_logs_stats_dict.keys()\n",
    "league_name = \"Premier League\"\n",
    "league_id = fbref_league_dict[league_name][\"league_id\"]\n",
    "fbref_league_id = fbref_league_dict[league_name][\"fbref_league_id\"]\n",
    "season = \"2022-2023\"\n",
    "team_number_league = 20\n",
    "last_matchweek = 38\n",
    "creds = GetTeamCredentials(fbref_league_id, season)\n",
    "\n",
    "for stat_attribute in attributes:\n",
    "    FB_URLS(creds, tpr_data, stat_attribute, fbref_league_id, league_id)"
   ]
  },
  {
   "cell_type": "markdown",
   "id": "f4a535f9",
   "metadata": {},
   "source": [
    "<br><br><br><br>\n",
    "<h1 style=\"color:green\">Scraping FBRef</h1>"
   ]
  },
  {
   "cell_type": "code",
   "execution_count": 17,
   "id": "6dd427e5",
   "metadata": {},
   "outputs": [
    {
     "data": {
      "text/plain": [
       "MultiIndex([('Against Manchester City',         'Date'),\n",
       "            ('Against Manchester City',         'Time'),\n",
       "            ('Against Manchester City',        'Round'),\n",
       "            ('Against Manchester City',          'Day'),\n",
       "            ('Against Manchester City',        'Venue'),\n",
       "            ('Against Manchester City',       'Result'),\n",
       "            ('Against Manchester City',           'GF'),\n",
       "            ('Against Manchester City',           'GA'),\n",
       "            ('Against Manchester City',     'Opponent'),\n",
       "            (               'Standard',          'Gls'),\n",
       "            (               'Standard',           'Sh'),\n",
       "            (               'Standard',          'SoT'),\n",
       "            (               'Standard',         'SoT%'),\n",
       "            (               'Standard',         'G/Sh'),\n",
       "            (               'Standard',        'G/SoT'),\n",
       "            (               'Standard',         'Dist'),\n",
       "            (               'Standard',           'FK'),\n",
       "            (               'Standard',           'PK'),\n",
       "            (               'Standard',        'PKatt'),\n",
       "            (               'Expected',           'xG'),\n",
       "            (               'Expected',         'npxG'),\n",
       "            (               'Expected',      'npxG/Sh'),\n",
       "            (               'Expected',         'G-xG'),\n",
       "            (               'Expected',      'np:G-xG'),\n",
       "            (    'Unnamed: 24_level_0', 'Match Report')],\n",
       "           )"
      ]
     },
     "execution_count": 17,
     "metadata": {},
     "output_type": "execute_result"
    }
   ],
   "source": [
    "df = pd.read_html(\"https://fbref.com/en/squads/b8fd03ef/2022-2023/matchlogs/c9/shooting/-Manchester-City\")[1][:38]\n",
    "df.sort_values(('Against Manchester City', 'Date')).head()\n",
    "df.columns"
   ]
  },
  {
   "cell_type": "code",
   "execution_count": 18,
   "id": "1aa503f9",
   "metadata": {},
   "outputs": [],
   "source": [
    "def FB_MatchLogs(url, last_matchweek=38):\n",
    "    encoded_url = quote(url, safe=':/')\n",
    "    df=pd.read_html(encoded_url)\n",
    "    return {\n",
    "        \"for\": df[0][:last_matchweek],\n",
    "        \"against\": df[1][:last_matchweek],\n",
    "    }"
   ]
  },
  {
   "cell_type": "code",
   "execution_count": 19,
   "id": "79354547",
   "metadata": {},
   "outputs": [],
   "source": [
    "def MatchLogs_MultiIndexColumnDict(df, stat_attribute=None):\n",
    "    stat_columns_dict = {}\n",
    "    for item in df.columns:\n",
    "        right_side = item[1]\n",
    "        stat_columns_dict[right_side] = item\n",
    "    if stat_attribute:\n",
    "        return stat_columns_dict[stat_attribute]\n",
    "    return stat_columns_dict"
   ]
  },
  {
   "cell_type": "code",
   "execution_count": 20,
   "id": "b9aa909d",
   "metadata": {},
   "outputs": [
    {
     "data": {
      "text/plain": [
       "{'id': 'b8fd03ef',\n",
       " 'league_id': 13,\n",
       " 'fbref_league_id': 9,\n",
       " 'stat': 'shooting',\n",
       " 'team': ' Manchester City',\n",
       " 'club_team_id': 10,\n",
       " 'club_team_name': 'Manchester City',\n",
       " 'url': 'https://fbref.com/en/squads/b8fd03ef/2022-2023/matchlogs/c9/shooting/-Manchester-City'}"
      ]
     },
     "execution_count": 20,
     "metadata": {},
     "output_type": "execute_result"
    }
   ],
   "source": [
    "match_logs_stats_dict[\"shooting\"][0]"
   ]
  },
  {
   "cell_type": "markdown",
   "id": "07db4342",
   "metadata": {},
   "source": [
    "<br><br><br><br>\n",
    "<h1 style=\"color:aqua\">Regression Boilerplate</h1>"
   ]
  },
  {
   "cell_type": "code",
   "execution_count": 21,
   "id": "a35f9f0a",
   "metadata": {},
   "outputs": [],
   "source": [
    "import pandas as pd\n",
    "import matplotlib.pyplot as plt\n",
    "from sklearn.model_selection import train_test_split\n",
    "from sklearn.linear_model import LinearRegression\n",
    "from sklearn.metrics import mean_squared_error\n",
    "\n",
    "def train_linear_regression(df, features, target_variable, apply_dtype, test_size=0.19, random_state=42):\n",
    "    \"\"\"\n",
    "    Train a linear regression model and evaluate its performance.\n",
    "\n",
    "    Args:\n",
    "    - df (DataFrame): Input DataFrame containing the dataset.\n",
    "    - features (list): List of feature columns.\n",
    "    - target_variable (str): Name of the target variable column.\n",
    "    - test_size (float): Proportion of the dataset to include in the test split.\n",
    "    - random_state (int): Random seed for reproducibility.\n",
    "\n",
    "    Returns:\n",
    "    - model (LinearRegression): Trained linear regression model.\n",
    "    - mse (float): Mean squared error of the model.\n",
    "    - coefficients (dict): Coefficients of the trained model.\n",
    "    \"\"\"\n",
    "\n",
    "    X = df[features]\n",
    "    y = df[target_variable]\n",
    "    X_train, X_test, y_train, y_test = train_test_split(X, y, test_size=test_size, random_state=random_state)\n",
    "\n",
    "    model = LinearRegression()\n",
    "    model.fit(X_train, y_train)\n",
    "    y_pred = model.predict(X_test)\n",
    "\n",
    "    df['predicted'] = model.predict(df[features])\n",
    "    df['predicted'] = df['predicted'].apply(apply_dtype)\n",
    "    \n",
    "    mse = mean_squared_error(y_test, y_pred)\n",
    "    coefficients = dict(zip(features, model.coef_))\n",
    "    intercept = model.intercept_\n",
    "    return model, mse, coefficients, intercept\n",
    "\n",
    "def model_error(df, target_variable):\n",
    "    df['error'] = df[target_variable] - df['predicted']\n",
    "    return df['error'].apply(abs)\n",
    "\n",
    "def model_head(df, features, target_variable, sort_parameter=\"team_power\", sort_ascending=False, n=5):\n",
    "    return df[features+[target_variable,\"predicted\",\"error\"]].sort_values(sort_parameter, ascending=sort_ascending).head(n=n)\n",
    "\n",
    "def model_equation(coefficients, intercept):\n",
    "    equation = \" + \".join([f\"{coef:.2e} * {feat}\" for feat, coef in coefficients.items()])\n",
    "    equation = equation + f\" + {intercept:.2e}\"\n",
    "    equation = equation.replace(\"+ -\", \"- \")\n",
    "    return equation\n",
    "\n",
    "def model_predict(**args):\n",
    "    pass\n",
    "\n",
    "def plot_predicted_vs_actual(df, target_variable, model=None, features=None):\n",
    "    \"\"\"\n",
    "    Plot the actual values and predicted values from a DataFrame.\n",
    "\n",
    "    Args:\n",
    "    - df (DataFrame): Input DataFrame containing the dataset.\n",
    "    - target_variable (str): Name of the target variable column.\n",
    "    - model (LinearRegression): Trained linear regression model.\n",
    "    - features (list): List of feature columns used in the model (optional).\n",
    "\n",
    "    Returns:\n",
    "    - None\n",
    "    \"\"\"\n",
    "\n",
    "    plt.figure(figsize=(10, 6))\n",
    "    plt.plot(df.index, df[target_variable], marker='o', linestyle='-', color=\"b\", label='Actual')\n",
    "    \n",
    "    if model and features:\n",
    "        plt.plot(df.index, df['predicted'], marker='o', linestyle='-', color=\"r\", label='Predicted')\n",
    "    plt.title('Line Plot of Predicted Values')\n",
    "    plt.xlabel('Index')\n",
    "    plt.ylabel('Value')\n",
    "    plt.legend()\n",
    "    plt.grid(True)\n",
    "    plt.show()"
   ]
  },
  {
   "cell_type": "code",
   "execution_count": 22,
   "id": "e2807aba",
   "metadata": {},
   "outputs": [],
   "source": [
    "def convert_equation_to_json(features, values, intercept):\n",
    "    # Usage: convert_equation_to_json(features, coefficients.values(), intercept)\n",
    "    equation_dict = {}\n",
    "    for feature, value in zip(features, values):\n",
    "        equation_dict[feature] = {\n",
    "            \"name\": feature,\n",
    "            \"value\": value\n",
    "        }\n",
    "    equation_dict[\"intercept\"] = {\"name\":\"intercept\", \"value\":intercept}\n",
    "    return equation_dict"
   ]
  },
  {
   "cell_type": "markdown",
   "id": "f351b4bd",
   "metadata": {},
   "source": [
    "<br>\n",
    "<h1 style=\"color:aqua\">Randomness Factor</h1>"
   ]
  },
  {
   "cell_type": "code",
   "execution_count": 23,
   "id": "e2349a21",
   "metadata": {},
   "outputs": [],
   "source": [
    "def randomness_proportional(df, target_variable):\n",
    "    target_mean = df[target_variable].mean()\n",
    "    target_std = df[target_variable].std()\n",
    "    target_min = df[target_variable].min()\n",
    "    target_max = df[target_variable].max()\n",
    "    formula = (target_min) / (target_mean) \n",
    "    print(\"Min:\",target_min, \",\", \"Max:\",target_max)\n",
    "    return formula\n",
    "\n",
    "def randomness_volume(df, target_variable):\n",
    "    target_mean = df[target_variable].mean()\n",
    "    target_std = df[target_variable].std()\n",
    "    target_min = df[target_variable].min()\n",
    "    target_max = df[target_variable].max()\n",
    "    formula = (target_mean) / (target_std)\n",
    "    print(\"Min:\",target_min, \",\", \"Max:\",target_max)\n",
    "    return formula"
   ]
  },
  {
   "cell_type": "code",
   "execution_count": 24,
   "id": "f9370408",
   "metadata": {},
   "outputs": [],
   "source": [
    "def interval_proportional(value, step=0.05, expand_multiplier=1):\n",
    "    lower_bound = round(value - step, 3)\n",
    "    upper_bound = round(value + step, 3)\n",
    "    numbers = np.arange(-upper_bound*expand_multiplier, upper_bound + step*expand_multiplier, step)\n",
    "    return numbers\n",
    "\n",
    "def interval_volume(value, step=1, expand_multiplier=1):\n",
    "    lower_bound = int(value - step)\n",
    "    upper_bound = int(value + step)\n",
    "    numbers = np.arange(-upper_bound*expand_multiplier, upper_bound + step*expand_multiplier, step)\n",
    "    return numbers"
   ]
  },
  {
   "cell_type": "code",
   "execution_count": 25,
   "id": "4a21169d",
   "metadata": {},
   "outputs": [],
   "source": [
    "def probability_protector(value):\n",
    "    if value < 0:\n",
    "        return 0\n",
    "    elif value > 1:\n",
    "        return 1\n",
    "    else:\n",
    "        return value\n",
    "    \n",
    "def negativity_protector(value, raw_value):\n",
    "    if value < 0:\n",
    "        return raw_value\n",
    "    else:\n",
    "        return value"
   ]
  },
  {
   "cell_type": "code",
   "execution_count": 26,
   "id": "9c69152b",
   "metadata": {},
   "outputs": [],
   "source": [
    "def random_choice(array):\n",
    "    return np.random.choice(array)"
   ]
  },
  {
   "cell_type": "markdown",
   "id": "05a6b50c",
   "metadata": {},
   "source": [
    "<br><br><br><br>\n",
    "<h1 style=\"color:pink\">Match Logs DataFrame</h1>"
   ]
  },
  {
   "cell_type": "code",
   "execution_count": 27,
   "id": "3a68b94b",
   "metadata": {},
   "outputs": [],
   "source": [
    "def ColumnConverter(df, keyword):\n",
    "    df_cols = df.columns.map('.'.join)\n",
    "    new_cols = [col.split('.')[1] if keyword in col else col for col in df_cols]\n",
    "    return new_cols"
   ]
  },
  {
   "cell_type": "code",
   "execution_count": 28,
   "id": "59f3eb72",
   "metadata": {},
   "outputs": [
    {
     "name": "stdout",
     "output_type": "stream",
     "text": [
      "32\n",
      "32\n"
     ]
    },
    {
     "data": {
      "text/plain": [
       "{'Date': 'Date',\n",
       " 'Time': 'Time',\n",
       " 'Round': 'Round',\n",
       " 'Day': 'Day',\n",
       " 'Venue': 'Venue',\n",
       " 'Result': 'Result',\n",
       " 'GF': 'GF',\n",
       " 'GA': 'GA',\n",
       " 'Opponent': 'Opponent',\n",
       " 'Total_Completion': 'Total.Cmp',\n",
       " 'Total_Attempts': 'Total.Att',\n",
       " 'Total_Completion_Rate': 'Total.Cmp%',\n",
       " 'Total_Total_Distance': 'Total.TotDist',\n",
       " 'Total_Progressed_Distance': 'Total.PrgDist',\n",
       " 'Short_Completion': 'Short.Cmp',\n",
       " 'Short_Attempts': 'Short.Att',\n",
       " 'Short_Completion_Rate': 'Short.Cmp%',\n",
       " 'Medium_Completion': 'Medium.Cmp',\n",
       " 'Medium_Attempts': 'Medium.Att',\n",
       " 'Medium_Completion_Rate': 'Medium.Cmp%',\n",
       " 'Long_Completion': 'Long.Cmp',\n",
       " 'Long_Attempts': 'Long.Att',\n",
       " 'Long_Completion_Rate': 'Long.Cmp%',\n",
       " 'Assists': 'Unnamed: 23_level_0.Ast',\n",
       " 'Expected_Goals_Against': 'Unnamed: 24_level_0.xAG',\n",
       " 'Expected_Assists': 'Unnamed: 25_level_0.xA',\n",
       " 'Key_Passes': 'Unnamed: 26_level_0.KP',\n",
       " 'Final_Third_Passes': 'Unnamed: 27_level_0.1/3',\n",
       " 'Passes_Progressive': 'Unnamed: 28_level_0.PPA',\n",
       " 'Crosses_Penalty_Area': 'Unnamed: 29_level_0.CrsPA',\n",
       " 'Progressive_Passes': 'Unnamed: 30_level_0.PrgP',\n",
       " 'Match_Report': 'Unnamed: 31_level_0.Match Report'}"
      ]
     },
     "execution_count": 28,
     "metadata": {},
     "output_type": "execute_result"
    }
   ],
   "source": [
    "index_values = ['Date', 'Time', 'Round', 'Day', 'Venue', 'Result', 'GF', 'GA',\n",
    "                'Opponent', 'Total.Cmp', 'Total.Att', 'Total.Cmp%', 'Total.TotDist',\n",
    "                'Total.PrgDist', 'Short.Cmp', 'Short.Att', 'Short.Cmp%', 'Medium.Cmp',\n",
    "                'Medium.Att', 'Medium.Cmp%', 'Long.Cmp', 'Long.Att', 'Long.Cmp%',\n",
    "                'Unnamed: 23_level_0.Ast', 'Unnamed: 24_level_0.xAG',\n",
    "                'Unnamed: 25_level_0.xA', 'Unnamed: 26_level_0.KP',\n",
    "                'Unnamed: 27_level_0.1/3', 'Unnamed: 28_level_0.PPA',\n",
    "                'Unnamed: 29_level_0.CrsPA', 'Unnamed: 30_level_0.PrgP',\n",
    "                'Unnamed: 31_level_0.Match Report']\n",
    "\n",
    "terms = ['Date', 'Time', 'Round', 'Day', 'Venue', 'Result', 'GF', 'GA',\n",
    "         'Opponent', 'Total_Completion', 'Total_Attempts', 'Total_Completion_Rate',\n",
    "         'Total_Total_Distance', 'Total_Progressed_Distance', 'Short_Completion',\n",
    "         'Short_Attempts', 'Short_Completion_Rate', 'Medium_Completion',\n",
    "         'Medium_Attempts', 'Medium_Completion_Rate', 'Long_Completion',\n",
    "         'Long_Attempts', 'Long_Completion_Rate', 'Assists', 'Expected_Goals_Against',\n",
    "         'Expected_Assists', 'Key_Passes', 'Final_Third_Passes', 'Passes_Progressive',\n",
    "         'Crosses_Penalty_Area', 'Progressive_Passes',\n",
    "         'Match_Report']\n",
    "\n",
    "print(len(index_values))\n",
    "print(len(terms))\n",
    "\n",
    "test_index_dict = dict(zip(terms, index_values))\n",
    "test_index_dict"
   ]
  },
  {
   "cell_type": "code",
   "execution_count": 113,
   "id": "7e551af5",
   "metadata": {},
   "outputs": [],
   "source": [
    "def prepare_expand_dict(column_dict, x, y):\n",
    "    keys = column_dict.keys()\n",
    "    values = column_dict.values()\n",
    "    expanded_dict = {}\n",
    "    for key, value in zip(keys, values):\n",
    "        expanded_dict[\"team_\"+key.lower()] = x[value]\n",
    "        expanded_dict[\"opponent_\"+key.lower()] = y[value]\n",
    "    return expanded_dict"
   ]
  },
  {
   "cell_type": "code",
   "execution_count": 114,
   "id": "eeb9b6b1",
   "metadata": {},
   "outputs": [],
   "source": [
    "prepared_rating_data = [tpr_data, tfr_data]"
   ]
  },
  {
   "cell_type": "code",
   "execution_count": 115,
   "id": "302aa34a",
   "metadata": {},
   "outputs": [],
   "source": [
    "def prepare_rating_dict(ratings_array, team_id, suffix):\n",
    "    dict_ = {}\n",
    "    for rating in ratings_array:\n",
    "        metric_data = rating[\"data\"].query(f\"club_team_id == {team_id}\")[rating[\"name\"]].iloc[0]\n",
    "        dict_[suffix+\"_\"+rating[\"name\"]] = metric_data\n",
    "    return dict_"
   ]
  },
  {
   "cell_type": "code",
   "execution_count": 116,
   "id": "1f10ebcc",
   "metadata": {},
   "outputs": [
    {
     "data": {
      "text/plain": [
       "{'team_power': 79, 'team_finishing': 78}"
      ]
     },
     "execution_count": 116,
     "metadata": {},
     "output_type": "execute_result"
    }
   ],
   "source": [
    "prepare_rating_dict(prepared_rating_data, 1, \"team\")"
   ]
  },
  {
   "cell_type": "code",
   "execution_count": 117,
   "id": "f9dcf97b",
   "metadata": {
    "scrolled": false
   },
   "outputs": [],
   "source": [
    "# expand_dict(test_index_dict, x, y=None)"
   ]
  },
  {
   "cell_type": "code",
   "execution_count": 137,
   "id": "11575755",
   "metadata": {
    "scrolled": true
   },
   "outputs": [],
   "source": [
    "def generate_fbref_match_logs_array \\\n",
    "(match_logs_stats_dict, columns_dict, tpr_data, other_rating_data, league_id, team_number_league, last_matchweek, current_stat, opponent=True):\n",
    "    \n",
    "    df_log_array = []\n",
    "    tpr_data = tpr_data[\"data\"]\n",
    "    \n",
    "    for tindex in range(team_number_league):\n",
    "        time.sleep(0.1)\n",
    "        current_team = match_logs_stats_dict[current_stat][tindex]\n",
    "\n",
    "        url = current_team[\"url\"]\n",
    "        print(url, tindex)\n",
    "\n",
    "        match_logs = FB_MatchLogs(url, last_matchweek=last_matchweek)\n",
    "        df0 = match_logs[\"for\"]\n",
    "        df0.columns = ColumnConverter(df0, \"For\")\n",
    "        \n",
    "        df1 = match_logs[\"against\"]\n",
    "        df1.columns = ColumnConverter(df1, \"Against\")\n",
    "        \n",
    "        \n",
    "        team_names = df0[\"Opponent\"].unique().tolist()\n",
    "        team_ids = [TeamNameIdConverter(tpr_data, team_name, league_id) for team_name in team_names]\n",
    "        team_rating_data = TFRFromId(tfr_data, current_team[\"club_team_id\"])\n",
    "\n",
    "        for i in range(last_matchweek):\n",
    "            x = df0.iloc[i]\n",
    "            y = df1.iloc[i]\n",
    "            x_rating_data = prepare_rating_dict(other_rating_data, current_team[\"club_team_id\"], suffix=\"team\")\n",
    "            y_rating_data = prepare_rating_dict(other_rating_data, TeamNameIdConverter(tpr_data, x[\"Opponent\"], league_id), suffix=\"opponent\")\n",
    "            lab_df_dict = {\n",
    "                \"league_id\": league_id,\n",
    "                \"team_name\": current_team[\"club_team_name\"],\n",
    "                \"team_id\": current_team[\"club_team_id\"],\n",
    "                \"opponent_name\": x[\"Opponent\"],\n",
    "                \"opponent_id\": TeamNameIdConverter(tpr_data, x[\"Opponent\"], league_id),\n",
    "                \"team_power\": x_rating_data[\"team_power\"],\n",
    "                \"opponent_power\": y_rating_data[\"opponent_power\"],\n",
    "            }\n",
    "            merged_dict = {**lab_df_dict, **prepare_expand_dict(columns_dict, x, y), **x_rating_data, **y_rating_data}\n",
    "            df_log_array.append(merged_dict)\n",
    "    Print(\"Data collecting has been completed! ✅\")\n",
    "    return df_log_array"
   ]
  },
  {
   "cell_type": "markdown",
   "id": "d162044c",
   "metadata": {},
   "source": [
    "<br><br><br><br>\n",
    "<h1 style=\"color:red\">\"shooting\"</h1>"
   ]
  },
  {
   "cell_type": "code",
   "execution_count": 138,
   "id": "979be6c1",
   "metadata": {},
   "outputs": [],
   "source": [
    "current_stat = \"shooting\""
   ]
  },
  {
   "cell_type": "code",
   "execution_count": 139,
   "id": "216546a6",
   "metadata": {},
   "outputs": [],
   "source": [
    "column_dict = {\n",
    "    'date': 'Date',\n",
    "    'time': 'Time',\n",
    "    'round': 'Round',\n",
    "    'day': 'Day',\n",
    "    'venue': 'Venue',\n",
    "    'result': 'Result',\n",
    "    'goals_for': 'GF',\n",
    "    'goals_against': 'GA',\n",
    "    'opponent': 'Opponent',\n",
    "    'standard_goals': 'Standard.Gls',\n",
    "    'standard_shots': 'Standard.Sh',\n",
    "    'standard_shots_on_target': 'Standard.SoT',\n",
    "    'standard_shots_on_target_percentage': 'Standard.SoT%',\n",
    "    'standard_goals_per_shot': 'Standard.G/Sh',\n",
    "    'standard_goals_per_shot_on_target': 'Standard.G/SoT',\n",
    "    'standard_distance': 'Standard.Dist',\n",
    "    'standard_free_kicks': 'Standard.FK',\n",
    "    'standard_penalties': 'Standard.PK',\n",
    "    'standard_penalty_attempts': 'Standard.PKatt',\n",
    "    'expected_goals': 'Expected.xG',\n",
    "    'expected_non_penalty_expected_goals': 'Expected.npxG',\n",
    "    'expected_non_penalty_expected_goals_per_shot': 'Expected.npxG/Sh',\n",
    "    'expected_goals_minus_expected_goals': 'Expected.G-xG',\n",
    "    'expected_non_penalty_goals_minus_expected_goals': 'Expected.np:G-xG',\n",
    "    'match_report': 'Unnamed: 24_level_0.Match Report'\n",
    "}\n",
    "prepared_index_dict = column_dict"
   ]
  },
  {
   "cell_type": "code",
   "execution_count": 140,
   "id": "57907c4d",
   "metadata": {},
   "outputs": [
    {
     "name": "stdout",
     "output_type": "stream",
     "text": [
      "https://fbref.com/en/squads/b8fd03ef/2022-2023/matchlogs/c9/shooting/-Manchester-City 0\n",
      "https://fbref.com/en/squads/18bb7c10/2022-2023/matchlogs/c9/shooting/-Arsenal 1\n",
      "https://fbref.com/en/squads/19538871/2022-2023/matchlogs/c9/shooting/-Manchester-Utd 2\n",
      "https://fbref.com/en/squads/b2b47a98/2022-2023/matchlogs/c9/shooting/-Newcastle-Utd 3\n",
      "https://fbref.com/en/squads/822bd0ba/2022-2023/matchlogs/c9/shooting/-Liverpool 4\n",
      "https://fbref.com/en/squads/d07537b9/2022-2023/matchlogs/c9/shooting/-Brighton 5\n",
      "https://fbref.com/en/squads/8602292d/2022-2023/matchlogs/c9/shooting/-Aston-Villa 6\n",
      "https://fbref.com/en/squads/361ca564/2022-2023/matchlogs/c9/shooting/-Tottenham 7\n",
      "https://fbref.com/en/squads/cd051869/2022-2023/matchlogs/c9/shooting/-Brentford 8\n",
      "https://fbref.com/en/squads/fd962109/2022-2023/matchlogs/c9/shooting/-Fulham 9\n",
      "https://fbref.com/en/squads/47c64c55/2022-2023/matchlogs/c9/shooting/-Crystal-Palace 10\n",
      "https://fbref.com/en/squads/cff3d9bb/2022-2023/matchlogs/c9/shooting/-Chelsea 11\n",
      "https://fbref.com/en/squads/8cec06e1/2022-2023/matchlogs/c9/shooting/-Wolves 12\n",
      "https://fbref.com/en/squads/7c21e445/2022-2023/matchlogs/c9/shooting/-West-Ham 13\n",
      "https://fbref.com/en/squads/4ba7cbea/2022-2023/matchlogs/c9/shooting/-Bournemouth 14\n",
      "https://fbref.com/en/squads/e4a775cb/2022-2023/matchlogs/c9/shooting/-Nott'ham-Forest 15\n",
      "https://fbref.com/en/squads/d3fd31cc/2022-2023/matchlogs/c9/shooting/-Everton 16\n",
      "https://fbref.com/en/squads/a2d435b3/2022-2023/matchlogs/c9/shooting/-Leicester-City 17\n",
      "https://fbref.com/en/squads/5bfb9659/2022-2023/matchlogs/c9/shooting/-Leeds-United 18\n",
      "https://fbref.com/en/squads/33c895d4/2022-2023/matchlogs/c9/shooting/-Southampton 19\n"
     ]
    }
   ],
   "source": [
    "df_log_array = generate_fbref_match_logs_array \\\n",
    "(match_logs_stats_dict, prepared_index_dict, tpr_data, prepared_rating_data, league_id, team_number_league, last_matchweek, current_stat)\n",
    "df_log = pd.DataFrame(df_log_array)\n",
    "df_log.to_csv(f\"../@blacksmith/match_logs/fbref_match_logs_{league_name}@{current_stat}.csv\")"
   ]
  },
  {
   "cell_type": "code",
   "execution_count": 141,
   "id": "5d31d5b4",
   "metadata": {},
   "outputs": [],
   "source": [
    "df_log = pd.read_csv(f\"../@blacksmith/match_logs/fbref_match_logs_{league_name}@{current_stat}.csv\")"
   ]
  },
  {
   "cell_type": "code",
   "execution_count": 142,
   "id": "df3da204",
   "metadata": {},
   "outputs": [
    {
     "data": {
      "text/plain": [
       "Unnamed: 0                                                                0\n",
       "league_id                                                                13\n",
       "team_name                                                   Manchester City\n",
       "team_id                                                                  10\n",
       "opponent_name                                                      West Ham\n",
       "opponent_id                                                              19\n",
       "team_power                                                               85\n",
       "opponent_power                                                           79\n",
       "team_date                                                        2022-08-07\n",
       "opponent_date                                                    2022-08-07\n",
       "team_time                                                             16:30\n",
       "opponent_time                                                         16:30\n",
       "team_round                                                      Matchweek 1\n",
       "opponent_round                                                  Matchweek 1\n",
       "team_day                                                                Sun\n",
       "opponent_day                                                            Sun\n",
       "team_venue                                                             Away\n",
       "opponent_venue                                                         Home\n",
       "team_result                                                               W\n",
       "opponent_result                                                           L\n",
       "team_goals_for                                                            2\n",
       "opponent_goals_for                                                        0\n",
       "team_goals_against                                                        0\n",
       "opponent_goals_against                                                    2\n",
       "team_opponent                                                      West Ham\n",
       "opponent_opponent                                                  West Ham\n",
       "team_standard_goals                                                       2\n",
       "opponent_standard_goals                                                   0\n",
       "team_standard_shots                                                      13\n",
       "opponent_standard_shots                                                   6\n",
       "team_standard_shots_on_target                                             1\n",
       "opponent_standard_shots_on_target                                         1\n",
       "team_standard_shots_on_target_percentage                                7.7\n",
       "opponent_standard_shots_on_target_percentage                           16.7\n",
       "team_standard_goals_per_shot                                           0.08\n",
       "opponent_standard_goals_per_shot                                        0.0\n",
       "team_standard_goals_per_shot_on_target                                  1.0\n",
       "opponent_standard_goals_per_shot_on_target                              0.0\n",
       "team_standard_distance                                                 18.7\n",
       "opponent_standard_distance                                             16.3\n",
       "team_standard_free_kicks                                                  1\n",
       "opponent_standard_free_kicks                                              0\n",
       "team_standard_penalties                                                   1\n",
       "opponent_standard_penalties                                               0\n",
       "team_standard_penalty_attempts                                            1\n",
       "opponent_standard_penalty_attempts                                        0\n",
       "team_expected_goals                                                     2.2\n",
       "opponent_expected_goals                                                 0.5\n",
       "team_expected_non_penalty_expected_goals                                1.4\n",
       "opponent_expected_non_penalty_expected_goals                            0.5\n",
       "team_expected_non_penalty_expected_goals_per_shot                      0.11\n",
       "opponent_expected_non_penalty_expected_goals_per_shot                  0.08\n",
       "team_expected_goals_minus_expected_goals                               -0.2\n",
       "opponent_expected_goals_minus_expected_goals                           -0.5\n",
       "team_expected_non_penalty_goals_minus_expected_goals                   -0.4\n",
       "opponent_expected_non_penalty_goals_minus_expected_goals               -0.5\n",
       "team_match_report                                              Match Report\n",
       "opponent_match_report                                          Match Report\n",
       "team_finishing                                                           82\n",
       "opponent_finishing                                                       77\n",
       "Name: 0, dtype: object"
      ]
     },
     "execution_count": 142,
     "metadata": {},
     "output_type": "execute_result"
    }
   ],
   "source": [
    "df_log.loc[0]"
   ]
  },
  {
   "cell_type": "markdown",
   "id": "f1267059",
   "metadata": {},
   "source": [
    "<br><br><br><br>\n",
    "<h1 style=\"color:red\">Total Shot Volume</h1>"
   ]
  },
  {
   "cell_type": "code",
   "execution_count": 144,
   "id": "bab13641",
   "metadata": {},
   "outputs": [],
   "source": [
    "columns_to_drop = ['team_name','team_id','opponent_name','opponent_id']\n",
    "df = df_log\n",
    "df[\"total_sh\"] =  df[\"team_standard_shots\"] + df[\"opponent_standard_shots\"]"
   ]
  },
  {
   "cell_type": "code",
   "execution_count": 145,
   "id": "f26415d6",
   "metadata": {},
   "outputs": [],
   "source": [
    "features = ['team_power', 'team_finishing', 'opponent_power', 'opponent_finishing', \"team_standard_shots\", \"opponent_standard_shots\"]\n",
    "target_variable = 'total_sh'"
   ]
  },
  {
   "cell_type": "code",
   "execution_count": 146,
   "id": "ca2e7d13",
   "metadata": {},
   "outputs": [
    {
     "name": "stdout",
     "output_type": "stream",
     "text": [
      "Mean Squared Error: 5.055238297457684e-29\n",
      "Error Mean: 0.3144736842105263\n"
     ]
    }
   ],
   "source": [
    "model, mse, coefficients, intercept = train_linear_regression(df, features, target_variable, int)\n",
    "mean_error = model_error(df, target_variable).mean()\n",
    "std_error = model_error(df, target_variable).std()\n",
    "print(\"Mean Squared Error:\", mse)\n",
    "print(\"Error Mean:\", mean_error)"
   ]
  },
  {
   "cell_type": "code",
   "execution_count": 147,
   "id": "d5792b96",
   "metadata": {},
   "outputs": [],
   "source": [
    "# plot_predicted_vs_actual(df, target_variable, model=model, features=features)"
   ]
  },
  {
   "cell_type": "code",
   "execution_count": 148,
   "id": "6f6bb60d",
   "metadata": {
    "scrolled": true
   },
   "outputs": [
    {
     "data": {
      "text/plain": [
       "'-2.33e-16 * team_power + 3.04e-16 * team_finishing + 8.69e-16 * opponent_power + 4.69e-16 * opponent_finishing + 1.00e+00 * team_standard_shots + 1.00e+00 * opponent_standard_shots - 8.53e-14'"
      ]
     },
     "execution_count": 148,
     "metadata": {},
     "output_type": "execute_result"
    }
   ],
   "source": [
    "model_equation(coefficients, intercept)"
   ]
  },
  {
   "cell_type": "code",
   "execution_count": 149,
   "id": "7ed06a8d",
   "metadata": {},
   "outputs": [
    {
     "data": {
      "text/html": [
       "<div>\n",
       "<style scoped>\n",
       "    .dataframe tbody tr th:only-of-type {\n",
       "        vertical-align: middle;\n",
       "    }\n",
       "\n",
       "    .dataframe tbody tr th {\n",
       "        vertical-align: top;\n",
       "    }\n",
       "\n",
       "    .dataframe thead th {\n",
       "        text-align: right;\n",
       "    }\n",
       "</style>\n",
       "<table border=\"1\" class=\"dataframe\">\n",
       "  <thead>\n",
       "    <tr style=\"text-align: right;\">\n",
       "      <th></th>\n",
       "      <th>team_power</th>\n",
       "      <th>team_finishing</th>\n",
       "      <th>opponent_power</th>\n",
       "      <th>opponent_finishing</th>\n",
       "      <th>team_standard_shots</th>\n",
       "      <th>opponent_standard_shots</th>\n",
       "      <th>team_name</th>\n",
       "      <th>team_id</th>\n",
       "      <th>opponent_name</th>\n",
       "      <th>opponent_id</th>\n",
       "      <th>total_sh</th>\n",
       "      <th>predicted</th>\n",
       "      <th>error</th>\n",
       "    </tr>\n",
       "  </thead>\n",
       "  <tbody>\n",
       "    <tr>\n",
       "      <th>252</th>\n",
       "      <td>79</td>\n",
       "      <td>72</td>\n",
       "      <td>76</td>\n",
       "      <td>70</td>\n",
       "      <td>8</td>\n",
       "      <td>3</td>\n",
       "      <td>Aston Villa</td>\n",
       "      <td>2</td>\n",
       "      <td>Crystal Palace</td>\n",
       "      <td>1799</td>\n",
       "      <td>11</td>\n",
       "      <td>11</td>\n",
       "      <td>0</td>\n",
       "    </tr>\n",
       "    <tr>\n",
       "      <th>61</th>\n",
       "      <td>79</td>\n",
       "      <td>78</td>\n",
       "      <td>78</td>\n",
       "      <td>77</td>\n",
       "      <td>10</td>\n",
       "      <td>1</td>\n",
       "      <td>Arsenal</td>\n",
       "      <td>1</td>\n",
       "      <td>Leicester City</td>\n",
       "      <td>95</td>\n",
       "      <td>11</td>\n",
       "      <td>11</td>\n",
       "      <td>0</td>\n",
       "    </tr>\n",
       "    <tr>\n",
       "      <th>404</th>\n",
       "      <td>76</td>\n",
       "      <td>70</td>\n",
       "      <td>79</td>\n",
       "      <td>72</td>\n",
       "      <td>3</td>\n",
       "      <td>8</td>\n",
       "      <td>Crystal Palace</td>\n",
       "      <td>1799</td>\n",
       "      <td>Aston Villa</td>\n",
       "      <td>2</td>\n",
       "      <td>11</td>\n",
       "      <td>11</td>\n",
       "      <td>0</td>\n",
       "    </tr>\n",
       "    <tr>\n",
       "      <th>669</th>\n",
       "      <td>78</td>\n",
       "      <td>77</td>\n",
       "      <td>79</td>\n",
       "      <td>78</td>\n",
       "      <td>1</td>\n",
       "      <td>10</td>\n",
       "      <td>Leicester City</td>\n",
       "      <td>95</td>\n",
       "      <td>Arsenal</td>\n",
       "      <td>1</td>\n",
       "      <td>11</td>\n",
       "      <td>11</td>\n",
       "      <td>0</td>\n",
       "    </tr>\n",
       "    <tr>\n",
       "      <th>301</th>\n",
       "      <td>81</td>\n",
       "      <td>75</td>\n",
       "      <td>79</td>\n",
       "      <td>72</td>\n",
       "      <td>4</td>\n",
       "      <td>8</td>\n",
       "      <td>Tottenham Hotspur</td>\n",
       "      <td>18</td>\n",
       "      <td>Aston Villa</td>\n",
       "      <td>2</td>\n",
       "      <td>12</td>\n",
       "      <td>12</td>\n",
       "      <td>0</td>\n",
       "    </tr>\n",
       "  </tbody>\n",
       "</table>\n",
       "</div>"
      ],
      "text/plain": [
       "     team_power  team_finishing  opponent_power  opponent_finishing  \\\n",
       "252          79              72              76                  70   \n",
       "61           79              78              78                  77   \n",
       "404          76              70              79                  72   \n",
       "669          78              77              79                  78   \n",
       "301          81              75              79                  72   \n",
       "\n",
       "     team_standard_shots  opponent_standard_shots          team_name  team_id  \\\n",
       "252                    8                        3        Aston Villa        2   \n",
       "61                    10                        1            Arsenal        1   \n",
       "404                    3                        8     Crystal Palace     1799   \n",
       "669                    1                       10     Leicester City       95   \n",
       "301                    4                        8  Tottenham Hotspur       18   \n",
       "\n",
       "      opponent_name  opponent_id  total_sh  predicted  error  \n",
       "252  Crystal Palace         1799        11         11      0  \n",
       "61   Leicester City           95        11         11      0  \n",
       "404     Aston Villa            2        11         11      0  \n",
       "669         Arsenal            1        11         11      0  \n",
       "301     Aston Villa            2        12         12      0  "
      ]
     },
     "execution_count": 149,
     "metadata": {},
     "output_type": "execute_result"
    }
   ],
   "source": [
    "model_head(df, features+columns_to_drop, target_variable, sort_parameter=\"predicted\", sort_ascending=True, n=5)"
   ]
  },
  {
   "cell_type": "code",
   "execution_count": 150,
   "id": "7d032a28",
   "metadata": {},
   "outputs": [
    {
     "name": "stdout",
     "output_type": "stream",
     "text": [
      "Min: 11 , Max: 45\n",
      "Result: 4.227159496149049\n",
      "Interval: [-5 -4 -3 -2 -1  0  1  2  3  4  5]\n"
     ]
    },
    {
     "data": {
      "text/plain": [
       "3"
      ]
     },
     "execution_count": 150,
     "metadata": {},
     "output_type": "execute_result"
    }
   ],
   "source": [
    "randomness_func, interval_func = randomness_volume, interval_volume\n",
    "result = randomness_func(df, target_variable)\n",
    "interval = interval_func(result, step=1)\n",
    "\n",
    "print(\"Result:\", result)\n",
    "print(\"Interval:\", interval)\n",
    "random_choice(interval)"
   ]
  },
  {
   "cell_type": "code",
   "execution_count": 151,
   "id": "d895f703",
   "metadata": {},
   "outputs": [
    {
     "data": {
      "text/html": [
       "<div>\n",
       "<style scoped>\n",
       "    .dataframe tbody tr th:only-of-type {\n",
       "        vertical-align: middle;\n",
       "    }\n",
       "\n",
       "    .dataframe tbody tr th {\n",
       "        vertical-align: top;\n",
       "    }\n",
       "\n",
       "    .dataframe thead th {\n",
       "        text-align: right;\n",
       "    }\n",
       "</style>\n",
       "<table border=\"1\" class=\"dataframe\">\n",
       "  <thead>\n",
       "    <tr style=\"text-align: right;\">\n",
       "      <th></th>\n",
       "      <th>team_power</th>\n",
       "      <th>team_finishing</th>\n",
       "      <th>opponent_power</th>\n",
       "      <th>opponent_finishing</th>\n",
       "      <th>team_standard_shots</th>\n",
       "      <th>opponent_standard_shots</th>\n",
       "      <th>team_name</th>\n",
       "      <th>team_id</th>\n",
       "      <th>opponent_name</th>\n",
       "      <th>opponent_id</th>\n",
       "      <th>total_sh</th>\n",
       "      <th>predicted</th>\n",
       "      <th>randomness</th>\n",
       "    </tr>\n",
       "  </thead>\n",
       "  <tbody>\n",
       "    <tr>\n",
       "      <th>668</th>\n",
       "      <td>78</td>\n",
       "      <td>77</td>\n",
       "      <td>82</td>\n",
       "      <td>81</td>\n",
       "      <td>19</td>\n",
       "      <td>26</td>\n",
       "      <td>Leicester City</td>\n",
       "      <td>95</td>\n",
       "      <td>Manchester Utd</td>\n",
       "      <td>11</td>\n",
       "      <td>45</td>\n",
       "      <td>44</td>\n",
       "      <td>48</td>\n",
       "    </tr>\n",
       "    <tr>\n",
       "      <th>189</th>\n",
       "      <td>84</td>\n",
       "      <td>79</td>\n",
       "      <td>75</td>\n",
       "      <td>70</td>\n",
       "      <td>30</td>\n",
       "      <td>15</td>\n",
       "      <td>Liverpool</td>\n",
       "      <td>9</td>\n",
       "      <td>Southampton</td>\n",
       "      <td>17</td>\n",
       "      <td>45</td>\n",
       "      <td>44</td>\n",
       "      <td>44</td>\n",
       "    </tr>\n",
       "    <tr>\n",
       "      <th>104</th>\n",
       "      <td>82</td>\n",
       "      <td>81</td>\n",
       "      <td>77</td>\n",
       "      <td>77</td>\n",
       "      <td>29</td>\n",
       "      <td>15</td>\n",
       "      <td>Manchester United</td>\n",
       "      <td>11</td>\n",
       "      <td>Everton</td>\n",
       "      <td>7</td>\n",
       "      <td>44</td>\n",
       "      <td>43</td>\n",
       "      <td>42</td>\n",
       "    </tr>\n",
       "    <tr>\n",
       "      <th>637</th>\n",
       "      <td>77</td>\n",
       "      <td>77</td>\n",
       "      <td>82</td>\n",
       "      <td>81</td>\n",
       "      <td>15</td>\n",
       "      <td>29</td>\n",
       "      <td>Everton</td>\n",
       "      <td>7</td>\n",
       "      <td>Manchester Utd</td>\n",
       "      <td>11</td>\n",
       "      <td>44</td>\n",
       "      <td>43</td>\n",
       "      <td>42</td>\n",
       "    </tr>\n",
       "    <tr>\n",
       "      <th>99</th>\n",
       "      <td>82</td>\n",
       "      <td>81</td>\n",
       "      <td>78</td>\n",
       "      <td>77</td>\n",
       "      <td>26</td>\n",
       "      <td>19</td>\n",
       "      <td>Manchester United</td>\n",
       "      <td>11</td>\n",
       "      <td>Leicester City</td>\n",
       "      <td>95</td>\n",
       "      <td>45</td>\n",
       "      <td>44</td>\n",
       "      <td>42</td>\n",
       "    </tr>\n",
       "  </tbody>\n",
       "</table>\n",
       "</div>"
      ],
      "text/plain": [
       "     team_power  team_finishing  opponent_power  opponent_finishing  \\\n",
       "668          78              77              82                  81   \n",
       "189          84              79              75                  70   \n",
       "104          82              81              77                  77   \n",
       "637          77              77              82                  81   \n",
       "99           82              81              78                  77   \n",
       "\n",
       "     team_standard_shots  opponent_standard_shots          team_name  team_id  \\\n",
       "668                   19                       26     Leicester City       95   \n",
       "189                   30                       15          Liverpool        9   \n",
       "104                   29                       15  Manchester United       11   \n",
       "637                   15                       29            Everton        7   \n",
       "99                    26                       19  Manchester United       11   \n",
       "\n",
       "      opponent_name  opponent_id  total_sh  predicted  randomness  \n",
       "668  Manchester Utd           11        45         44          48  \n",
       "189     Southampton           17        45         44          44  \n",
       "104         Everton            7        44         43          42  \n",
       "637  Manchester Utd           11        44         43          42  \n",
       "99   Leicester City           95        45         44          42  "
      ]
     },
     "execution_count": 151,
     "metadata": {},
     "output_type": "execute_result"
    }
   ],
   "source": [
    "df[\"randomness\"] = df[\"predicted\"].copy()\n",
    "df[\"randomness\"] = df[\"predicted\"].apply(lambda value: negativity_protector(value + random_choice(interval), value))\n",
    "\n",
    "df[features+columns_to_drop+[target_variable,\"predicted\",\"randomness\"]].sort_values(\"randomness\", ascending=False).head(n=5)"
   ]
  },
  {
   "cell_type": "markdown",
   "id": "bb5c8567",
   "metadata": {},
   "source": [
    "<br><br><br><br>\n",
    "<h1 style=\"color:red\">Shot Share</h1>"
   ]
  },
  {
   "cell_type": "code",
   "execution_count": 153,
   "id": "bb627ca9",
   "metadata": {},
   "outputs": [],
   "source": [
    "df[\"team_sh_share\"] = df[\"team_standard_shots\"] / df[\"total_sh\"]"
   ]
  },
  {
   "cell_type": "code",
   "execution_count": 154,
   "id": "9eea271d",
   "metadata": {},
   "outputs": [],
   "source": [
    "features = ['team_power', 'opponent_power']\n",
    "target_variable = 'team_sh_share'"
   ]
  },
  {
   "cell_type": "code",
   "execution_count": 155,
   "id": "1f2b72f8",
   "metadata": {},
   "outputs": [
    {
     "name": "stdout",
     "output_type": "stream",
     "text": [
      "Mean Squared Error: 0.026681810590791683\n",
      "Error Mean: 0.12985605019186\n"
     ]
    }
   ],
   "source": [
    "model, mse, coefficients, intercept = train_linear_regression(df, features, target_variable, float)\n",
    "mean_error = model_error(df, target_variable).mean()\n",
    "std_error = model_error(df, target_variable).std()\n",
    "print(\"Mean Squared Error:\", mse)\n",
    "print(\"Error Mean:\", mean_error)"
   ]
  },
  {
   "cell_type": "code",
   "execution_count": 156,
   "id": "229649fc",
   "metadata": {},
   "outputs": [
    {
     "data": {
      "text/plain": [
       "'1.60e-02 * team_power - 1.45e-02 * opponent_power + 3.78e-01'"
      ]
     },
     "execution_count": 156,
     "metadata": {},
     "output_type": "execute_result"
    }
   ],
   "source": [
    "model_equation(coefficients, intercept)"
   ]
  },
  {
   "cell_type": "code",
   "execution_count": 157,
   "id": "dedc81f0",
   "metadata": {},
   "outputs": [],
   "source": [
    "# plot_predicted_vs_actual(df, target_variable, model=model, features=features)"
   ]
  },
  {
   "cell_type": "code",
   "execution_count": 158,
   "id": "6b05fe89",
   "metadata": {},
   "outputs": [
    {
     "data": {
      "text/html": [
       "<div>\n",
       "<style scoped>\n",
       "    .dataframe tbody tr th:only-of-type {\n",
       "        vertical-align: middle;\n",
       "    }\n",
       "\n",
       "    .dataframe tbody tr th {\n",
       "        vertical-align: top;\n",
       "    }\n",
       "\n",
       "    .dataframe thead th {\n",
       "        text-align: right;\n",
       "    }\n",
       "</style>\n",
       "<table border=\"1\" class=\"dataframe\">\n",
       "  <thead>\n",
       "    <tr style=\"text-align: right;\">\n",
       "      <th></th>\n",
       "      <th>team_power</th>\n",
       "      <th>opponent_power</th>\n",
       "      <th>team_name</th>\n",
       "      <th>team_id</th>\n",
       "      <th>opponent_name</th>\n",
       "      <th>opponent_id</th>\n",
       "      <th>team_sh_share</th>\n",
       "      <th>predicted</th>\n",
       "      <th>error</th>\n",
       "    </tr>\n",
       "  </thead>\n",
       "  <tbody>\n",
       "    <tr>\n",
       "      <th>13</th>\n",
       "      <td>85</td>\n",
       "      <td>74</td>\n",
       "      <td>Manchester City</td>\n",
       "      <td>10</td>\n",
       "      <td>Brentford</td>\n",
       "      <td>1925</td>\n",
       "      <td>0.743590</td>\n",
       "      <td>0.667946</td>\n",
       "      <td>0.075644</td>\n",
       "    </tr>\n",
       "    <tr>\n",
       "      <th>1</th>\n",
       "      <td>85</td>\n",
       "      <td>74</td>\n",
       "      <td>Manchester City</td>\n",
       "      <td>10</td>\n",
       "      <td>Bournemouth</td>\n",
       "      <td>1943</td>\n",
       "      <td>0.863636</td>\n",
       "      <td>0.667946</td>\n",
       "      <td>0.195691</td>\n",
       "    </tr>\n",
       "    <tr>\n",
       "      <th>37</th>\n",
       "      <td>85</td>\n",
       "      <td>74</td>\n",
       "      <td>Manchester City</td>\n",
       "      <td>10</td>\n",
       "      <td>Brentford</td>\n",
       "      <td>1925</td>\n",
       "      <td>0.607143</td>\n",
       "      <td>0.667946</td>\n",
       "      <td>-0.060803</td>\n",
       "    </tr>\n",
       "    <tr>\n",
       "      <th>24</th>\n",
       "      <td>85</td>\n",
       "      <td>74</td>\n",
       "      <td>Manchester City</td>\n",
       "      <td>10</td>\n",
       "      <td>Bournemouth</td>\n",
       "      <td>1943</td>\n",
       "      <td>0.606061</td>\n",
       "      <td>0.667946</td>\n",
       "      <td>-0.061885</td>\n",
       "    </tr>\n",
       "    <tr>\n",
       "      <th>36</th>\n",
       "      <td>85</td>\n",
       "      <td>75</td>\n",
       "      <td>Manchester City</td>\n",
       "      <td>10</td>\n",
       "      <td>Brighton</td>\n",
       "      <td>1808</td>\n",
       "      <td>0.393939</td>\n",
       "      <td>0.653459</td>\n",
       "      <td>-0.259520</td>\n",
       "    </tr>\n",
       "  </tbody>\n",
       "</table>\n",
       "</div>"
      ],
      "text/plain": [
       "    team_power  opponent_power        team_name  team_id opponent_name  \\\n",
       "13          85              74  Manchester City       10     Brentford   \n",
       "1           85              74  Manchester City       10   Bournemouth   \n",
       "37          85              74  Manchester City       10     Brentford   \n",
       "24          85              74  Manchester City       10   Bournemouth   \n",
       "36          85              75  Manchester City       10      Brighton   \n",
       "\n",
       "    opponent_id  team_sh_share  predicted     error  \n",
       "13         1925       0.743590   0.667946  0.075644  \n",
       "1          1943       0.863636   0.667946  0.195691  \n",
       "37         1925       0.607143   0.667946 -0.060803  \n",
       "24         1943       0.606061   0.667946 -0.061885  \n",
       "36         1808       0.393939   0.653459 -0.259520  "
      ]
     },
     "execution_count": 158,
     "metadata": {},
     "output_type": "execute_result"
    }
   ],
   "source": [
    "model_head(df, features+columns_to_drop, target_variable, sort_parameter=\"predicted\", sort_ascending=False, n=5)"
   ]
  },
  {
   "cell_type": "code",
   "execution_count": 159,
   "id": "1708810c",
   "metadata": {},
   "outputs": [
    {
     "name": "stdout",
     "output_type": "stream",
     "text": [
      "Min: 0.041666666666666664 , Max: 0.9583333333333334\n",
      "Result: 0.08333333333333333\n",
      "Interval: [-0.093 -0.083 -0.073 -0.063 -0.053 -0.043 -0.033 -0.023 -0.013 -0.003\n",
      "  0.007  0.017  0.027  0.037  0.047  0.057  0.067  0.077  0.087  0.097]\n"
     ]
    },
    {
     "data": {
      "text/plain": [
       "-0.03300000000000003"
      ]
     },
     "execution_count": 159,
     "metadata": {},
     "output_type": "execute_result"
    }
   ],
   "source": [
    "randomness_func, interval_func = randomness_proportional, interval_proportional\n",
    "result = randomness_func(df, target_variable)\n",
    "interval = interval_func(result, step=0.01)\n",
    "\n",
    "print(\"Result:\", result)\n",
    "print(\"Interval:\", interval)\n",
    "random_choice(interval)"
   ]
  },
  {
   "cell_type": "code",
   "execution_count": 160,
   "id": "082747e9",
   "metadata": {},
   "outputs": [
    {
     "data": {
      "text/html": [
       "<div>\n",
       "<style scoped>\n",
       "    .dataframe tbody tr th:only-of-type {\n",
       "        vertical-align: middle;\n",
       "    }\n",
       "\n",
       "    .dataframe tbody tr th {\n",
       "        vertical-align: top;\n",
       "    }\n",
       "\n",
       "    .dataframe thead th {\n",
       "        text-align: right;\n",
       "    }\n",
       "</style>\n",
       "<table border=\"1\" class=\"dataframe\">\n",
       "  <thead>\n",
       "    <tr style=\"text-align: right;\">\n",
       "      <th></th>\n",
       "      <th>team_power</th>\n",
       "      <th>opponent_power</th>\n",
       "      <th>team_name</th>\n",
       "      <th>team_id</th>\n",
       "      <th>opponent_name</th>\n",
       "      <th>opponent_id</th>\n",
       "      <th>team_sh_share</th>\n",
       "      <th>predicted</th>\n",
       "      <th>randomness</th>\n",
       "    </tr>\n",
       "  </thead>\n",
       "  <tbody>\n",
       "    <tr>\n",
       "      <th>37</th>\n",
       "      <td>85</td>\n",
       "      <td>74</td>\n",
       "      <td>Manchester City</td>\n",
       "      <td>10</td>\n",
       "      <td>Brentford</td>\n",
       "      <td>1925</td>\n",
       "      <td>0.607143</td>\n",
       "      <td>0.667946</td>\n",
       "      <td>0.744946</td>\n",
       "    </tr>\n",
       "    <tr>\n",
       "      <th>26</th>\n",
       "      <td>85</td>\n",
       "      <td>76</td>\n",
       "      <td>Manchester City</td>\n",
       "      <td>10</td>\n",
       "      <td>Crystal Palace</td>\n",
       "      <td>1799</td>\n",
       "      <td>0.764706</td>\n",
       "      <td>0.638973</td>\n",
       "      <td>0.735973</td>\n",
       "    </tr>\n",
       "    <tr>\n",
       "      <th>449</th>\n",
       "      <td>84</td>\n",
       "      <td>74</td>\n",
       "      <td>Chelsea</td>\n",
       "      <td>5</td>\n",
       "      <td>Brentford</td>\n",
       "      <td>1925</td>\n",
       "      <td>0.681818</td>\n",
       "      <td>0.651927</td>\n",
       "      <td>0.728927</td>\n",
       "    </tr>\n",
       "    <tr>\n",
       "      <th>31</th>\n",
       "      <td>85</td>\n",
       "      <td>76</td>\n",
       "      <td>Manchester City</td>\n",
       "      <td>10</td>\n",
       "      <td>Fulham</td>\n",
       "      <td>144</td>\n",
       "      <td>0.733333</td>\n",
       "      <td>0.638973</td>\n",
       "      <td>0.725973</td>\n",
       "    </tr>\n",
       "    <tr>\n",
       "      <th>163</th>\n",
       "      <td>84</td>\n",
       "      <td>76</td>\n",
       "      <td>Liverpool</td>\n",
       "      <td>9</td>\n",
       "      <td>Leeds United</td>\n",
       "      <td>8</td>\n",
       "      <td>0.611111</td>\n",
       "      <td>0.622955</td>\n",
       "      <td>0.719955</td>\n",
       "    </tr>\n",
       "  </tbody>\n",
       "</table>\n",
       "</div>"
      ],
      "text/plain": [
       "     team_power  opponent_power        team_name  team_id   opponent_name  \\\n",
       "37           85              74  Manchester City       10       Brentford   \n",
       "26           85              76  Manchester City       10  Crystal Palace   \n",
       "449          84              74          Chelsea        5       Brentford   \n",
       "31           85              76  Manchester City       10          Fulham   \n",
       "163          84              76        Liverpool        9    Leeds United   \n",
       "\n",
       "     opponent_id  team_sh_share  predicted  randomness  \n",
       "37          1925       0.607143   0.667946    0.744946  \n",
       "26          1799       0.764706   0.638973    0.735973  \n",
       "449         1925       0.681818   0.651927    0.728927  \n",
       "31           144       0.733333   0.638973    0.725973  \n",
       "163            8       0.611111   0.622955    0.719955  "
      ]
     },
     "execution_count": 160,
     "metadata": {},
     "output_type": "execute_result"
    }
   ],
   "source": [
    "df[\"randomness\"] = df[\"predicted\"].copy()\n",
    "df[\"randomness\"] = df[\"predicted\"].apply(lambda value: probability_protector(value + random_choice(interval)))\n",
    "\n",
    "df[features+columns_to_drop+[target_variable,\"predicted\",\"randomness\"]].sort_values(\"randomness\", ascending=False).head(n=5)"
   ]
  },
  {
   "cell_type": "code",
   "execution_count": 161,
   "id": "848dcd1d",
   "metadata": {},
   "outputs": [
    {
     "data": {
      "text/plain": [
       "0.5374"
      ]
     },
     "execution_count": 161,
     "metadata": {},
     "output_type": "execute_result"
    }
   ],
   "source": [
    "team_power = 82\n",
    "opponent_power = 76\n",
    "\n",
    "y = 1.34e-02 * team_power - 1.04e-02 * opponent_power + 2.72e-01\n",
    "probability_protector(y+random_choice(interval)) # MODEL IS DONE!"
   ]
  },
  {
   "cell_type": "markdown",
   "id": "b1a3bcc1",
   "metadata": {},
   "source": [
    "<br><br><br><br>\n",
    "<h1 style=\"color:red\">Shot on Target</h1>"
   ]
  },
  {
   "cell_type": "code",
   "execution_count": 164,
   "id": "ff2cb5dc",
   "metadata": {},
   "outputs": [],
   "source": [
    "features = ['team_power', 'team_finishing', 'opponent_power', 'team_standard_shots']\n",
    "target_variable = 'team_standard_shots_on_target'"
   ]
  },
  {
   "cell_type": "code",
   "execution_count": 165,
   "id": "04ab8d8e",
   "metadata": {},
   "outputs": [
    {
     "name": "stdout",
     "output_type": "stream",
     "text": [
      "Mean Squared Error: 2.706647120396336\n",
      "Error Mean: 1.3657894736842104\n"
     ]
    }
   ],
   "source": [
    "model, mse, coefficients, intercept = train_linear_regression(df, features, target_variable, int)\n",
    "mean_error = model_error(df, target_variable).mean()\n",
    "std_error = model_error(df, target_variable).std()\n",
    "print(\"Mean Squared Error:\", mse)\n",
    "print(\"Error Mean:\", mean_error)"
   ]
  },
  {
   "cell_type": "code",
   "execution_count": 166,
   "id": "5171d889",
   "metadata": {},
   "outputs": [
    {
     "data": {
      "text/plain": [
       "'3.19e-03 * team_power - 1.82e-04 * team_finishing + 1.42e-03 * opponent_power + 2.90e-01 * team_standard_shots + 1.61e-01'"
      ]
     },
     "execution_count": 166,
     "metadata": {},
     "output_type": "execute_result"
    }
   ],
   "source": [
    "model_equation(coefficients, intercept)"
   ]
  },
  {
   "cell_type": "code",
   "execution_count": 167,
   "id": "0d56a2e6",
   "metadata": {},
   "outputs": [],
   "source": [
    "# plot_predicted_vs_actual(df, target_variable, model=model, features=features)"
   ]
  },
  {
   "cell_type": "code",
   "execution_count": 168,
   "id": "4a7c4fb5",
   "metadata": {},
   "outputs": [
    {
     "data": {
      "text/html": [
       "<div>\n",
       "<style scoped>\n",
       "    .dataframe tbody tr th:only-of-type {\n",
       "        vertical-align: middle;\n",
       "    }\n",
       "\n",
       "    .dataframe tbody tr th {\n",
       "        vertical-align: top;\n",
       "    }\n",
       "\n",
       "    .dataframe thead th {\n",
       "        text-align: right;\n",
       "    }\n",
       "</style>\n",
       "<table border=\"1\" class=\"dataframe\">\n",
       "  <thead>\n",
       "    <tr style=\"text-align: right;\">\n",
       "      <th></th>\n",
       "      <th>team_power</th>\n",
       "      <th>team_finishing</th>\n",
       "      <th>opponent_power</th>\n",
       "      <th>team_standard_shots</th>\n",
       "      <th>team_name</th>\n",
       "      <th>team_id</th>\n",
       "      <th>opponent_name</th>\n",
       "      <th>opponent_id</th>\n",
       "      <th>team_standard_shots_on_target</th>\n",
       "      <th>predicted</th>\n",
       "      <th>error</th>\n",
       "    </tr>\n",
       "  </thead>\n",
       "  <tbody>\n",
       "    <tr>\n",
       "      <th>189</th>\n",
       "      <td>84</td>\n",
       "      <td>79</td>\n",
       "      <td>75</td>\n",
       "      <td>30</td>\n",
       "      <td>Liverpool</td>\n",
       "      <td>9</td>\n",
       "      <td>Southampton</td>\n",
       "      <td>17</td>\n",
       "      <td>8</td>\n",
       "      <td>9</td>\n",
       "      <td>-1</td>\n",
       "    </tr>\n",
       "    <tr>\n",
       "      <th>408</th>\n",
       "      <td>76</td>\n",
       "      <td>70</td>\n",
       "      <td>78</td>\n",
       "      <td>31</td>\n",
       "      <td>Crystal Palace</td>\n",
       "      <td>1799</td>\n",
       "      <td>Leicester City</td>\n",
       "      <td>95</td>\n",
       "      <td>9</td>\n",
       "      <td>9</td>\n",
       "      <td>0</td>\n",
       "    </tr>\n",
       "    <tr>\n",
       "      <th>63</th>\n",
       "      <td>79</td>\n",
       "      <td>78</td>\n",
       "      <td>74</td>\n",
       "      <td>31</td>\n",
       "      <td>Arsenal</td>\n",
       "      <td>1</td>\n",
       "      <td>Bournemouth</td>\n",
       "      <td>1943</td>\n",
       "      <td>9</td>\n",
       "      <td>9</td>\n",
       "      <td>0</td>\n",
       "    </tr>\n",
       "    <tr>\n",
       "      <th>215</th>\n",
       "      <td>75</td>\n",
       "      <td>70</td>\n",
       "      <td>74</td>\n",
       "      <td>32</td>\n",
       "      <td>Brighton &amp; Hove Albion</td>\n",
       "      <td>1808</td>\n",
       "      <td>Brentford</td>\n",
       "      <td>1925</td>\n",
       "      <td>13</td>\n",
       "      <td>9</td>\n",
       "      <td>4</td>\n",
       "    </tr>\n",
       "    <tr>\n",
       "      <th>14</th>\n",
       "      <td>85</td>\n",
       "      <td>82</td>\n",
       "      <td>76</td>\n",
       "      <td>26</td>\n",
       "      <td>Manchester City</td>\n",
       "      <td>10</td>\n",
       "      <td>Leeds United</td>\n",
       "      <td>8</td>\n",
       "      <td>9</td>\n",
       "      <td>8</td>\n",
       "      <td>1</td>\n",
       "    </tr>\n",
       "  </tbody>\n",
       "</table>\n",
       "</div>"
      ],
      "text/plain": [
       "     team_power  team_finishing  opponent_power  team_standard_shots  \\\n",
       "189          84              79              75                   30   \n",
       "408          76              70              78                   31   \n",
       "63           79              78              74                   31   \n",
       "215          75              70              74                   32   \n",
       "14           85              82              76                   26   \n",
       "\n",
       "                  team_name  team_id   opponent_name  opponent_id  \\\n",
       "189               Liverpool        9     Southampton           17   \n",
       "408          Crystal Palace     1799  Leicester City           95   \n",
       "63                  Arsenal        1     Bournemouth         1943   \n",
       "215  Brighton & Hove Albion     1808       Brentford         1925   \n",
       "14          Manchester City       10    Leeds United            8   \n",
       "\n",
       "     team_standard_shots_on_target  predicted  error  \n",
       "189                              8          9     -1  \n",
       "408                              9          9      0  \n",
       "63                               9          9      0  \n",
       "215                             13          9      4  \n",
       "14                               9          8      1  "
      ]
     },
     "execution_count": 168,
     "metadata": {},
     "output_type": "execute_result"
    }
   ],
   "source": [
    "model_head(df, features+columns_to_drop, target_variable, sort_parameter=\"predicted\", sort_ascending=False, n=5)"
   ]
  },
  {
   "cell_type": "code",
   "execution_count": 169,
   "id": "c17840a9",
   "metadata": {},
   "outputs": [
    {
     "name": "stdout",
     "output_type": "stream",
     "text": [
      "Min: 0 , Max: 13\n",
      "Result: 1.773270511652842\n",
      "Interval: [-2 -1  0  1  2]\n"
     ]
    },
    {
     "data": {
      "text/plain": [
       "-1"
      ]
     },
     "execution_count": 169,
     "metadata": {},
     "output_type": "execute_result"
    }
   ],
   "source": [
    "randomness_func, interval_func = randomness_volume, interval_volume\n",
    "result = randomness_func(df, target_variable)\n",
    "interval = interval_func(result, step=1)\n",
    "\n",
    "print(\"Result:\", result)\n",
    "print(\"Interval:\", interval)\n",
    "random_choice(interval)"
   ]
  },
  {
   "cell_type": "code",
   "execution_count": 170,
   "id": "1971ba80",
   "metadata": {},
   "outputs": [
    {
     "data": {
      "text/html": [
       "<div>\n",
       "<style scoped>\n",
       "    .dataframe tbody tr th:only-of-type {\n",
       "        vertical-align: middle;\n",
       "    }\n",
       "\n",
       "    .dataframe tbody tr th {\n",
       "        vertical-align: top;\n",
       "    }\n",
       "\n",
       "    .dataframe thead th {\n",
       "        text-align: right;\n",
       "    }\n",
       "</style>\n",
       "<table border=\"1\" class=\"dataframe\">\n",
       "  <thead>\n",
       "    <tr style=\"text-align: right;\">\n",
       "      <th></th>\n",
       "      <th>team_power</th>\n",
       "      <th>team_finishing</th>\n",
       "      <th>opponent_power</th>\n",
       "      <th>team_standard_shots</th>\n",
       "      <th>team_name</th>\n",
       "      <th>team_id</th>\n",
       "      <th>opponent_name</th>\n",
       "      <th>opponent_id</th>\n",
       "      <th>team_standard_shots_on_target</th>\n",
       "      <th>predicted</th>\n",
       "      <th>randomness</th>\n",
       "    </tr>\n",
       "  </thead>\n",
       "  <tbody>\n",
       "    <tr>\n",
       "      <th>215</th>\n",
       "      <td>75</td>\n",
       "      <td>70</td>\n",
       "      <td>74</td>\n",
       "      <td>32</td>\n",
       "      <td>Brighton &amp; Hove Albion</td>\n",
       "      <td>1808</td>\n",
       "      <td>Brentford</td>\n",
       "      <td>1925</td>\n",
       "      <td>13</td>\n",
       "      <td>9</td>\n",
       "      <td>11</td>\n",
       "    </tr>\n",
       "    <tr>\n",
       "      <th>63</th>\n",
       "      <td>79</td>\n",
       "      <td>78</td>\n",
       "      <td>74</td>\n",
       "      <td>31</td>\n",
       "      <td>Arsenal</td>\n",
       "      <td>1</td>\n",
       "      <td>Bournemouth</td>\n",
       "      <td>1943</td>\n",
       "      <td>9</td>\n",
       "      <td>9</td>\n",
       "      <td>11</td>\n",
       "    </tr>\n",
       "    <tr>\n",
       "      <th>445</th>\n",
       "      <td>84</td>\n",
       "      <td>73</td>\n",
       "      <td>79</td>\n",
       "      <td>27</td>\n",
       "      <td>Chelsea</td>\n",
       "      <td>5</td>\n",
       "      <td>Aston Villa</td>\n",
       "      <td>2</td>\n",
       "      <td>7</td>\n",
       "      <td>8</td>\n",
       "      <td>10</td>\n",
       "    </tr>\n",
       "    <tr>\n",
       "      <th>85</th>\n",
       "      <td>82</td>\n",
       "      <td>81</td>\n",
       "      <td>81</td>\n",
       "      <td>28</td>\n",
       "      <td>Manchester United</td>\n",
       "      <td>11</td>\n",
       "      <td>Tottenham</td>\n",
       "      <td>18</td>\n",
       "      <td>10</td>\n",
       "      <td>8</td>\n",
       "      <td>9</td>\n",
       "    </tr>\n",
       "    <tr>\n",
       "      <th>357</th>\n",
       "      <td>76</td>\n",
       "      <td>76</td>\n",
       "      <td>76</td>\n",
       "      <td>23</td>\n",
       "      <td>Fulham</td>\n",
       "      <td>144</td>\n",
       "      <td>Crystal Palace</td>\n",
       "      <td>1799</td>\n",
       "      <td>10</td>\n",
       "      <td>7</td>\n",
       "      <td>9</td>\n",
       "    </tr>\n",
       "  </tbody>\n",
       "</table>\n",
       "</div>"
      ],
      "text/plain": [
       "     team_power  team_finishing  opponent_power  team_standard_shots  \\\n",
       "215          75              70              74                   32   \n",
       "63           79              78              74                   31   \n",
       "445          84              73              79                   27   \n",
       "85           82              81              81                   28   \n",
       "357          76              76              76                   23   \n",
       "\n",
       "                  team_name  team_id   opponent_name  opponent_id  \\\n",
       "215  Brighton & Hove Albion     1808       Brentford         1925   \n",
       "63                  Arsenal        1     Bournemouth         1943   \n",
       "445                 Chelsea        5     Aston Villa            2   \n",
       "85        Manchester United       11       Tottenham           18   \n",
       "357                  Fulham      144  Crystal Palace         1799   \n",
       "\n",
       "     team_standard_shots_on_target  predicted  randomness  \n",
       "215                             13          9          11  \n",
       "63                               9          9          11  \n",
       "445                              7          8          10  \n",
       "85                              10          8           9  \n",
       "357                             10          7           9  "
      ]
     },
     "execution_count": 170,
     "metadata": {},
     "output_type": "execute_result"
    }
   ],
   "source": [
    "df[\"randomness\"] = df[\"predicted\"].copy()\n",
    "df[\"randomness\"] = df[\"predicted\"].apply(lambda value: negativity_protector(value + random_choice(interval), value))\n",
    "\n",
    "df[features+columns_to_drop+[target_variable,\"predicted\",\"randomness\"]].sort_values(\"randomness\", ascending=False).head(n=5)"
   ]
  },
  {
   "cell_type": "markdown",
   "id": "b640dc7c",
   "metadata": {},
   "source": [
    "<br><br><br><br>\n",
    "<h1 style=\"color:purple\">Shot Models Test</h1>"
   ]
  },
  {
   "cell_type": "code",
   "execution_count": 178,
   "id": "51f7dbf2",
   "metadata": {
    "scrolled": false
   },
   "outputs": [
    {
     "name": "stdout",
     "output_type": "stream",
     "text": [
      "Column Name: Unnamed: 0, Value: 215\n",
      "Column Name: league_id, Value: 13\n",
      "Column Name: team_name, Value: Brighton & Hove Albion\n",
      "Column Name: team_id, Value: 1808\n",
      "Column Name: opponent_name, Value: Brentford\n",
      "Column Name: opponent_id, Value: 1925\n",
      "Column Name: team_power, Value: 75\n",
      "Column Name: opponent_power, Value: 74\n",
      "Column Name: team_date, Value: 2023-04-01\n",
      "Column Name: opponent_date, Value: 2023-04-01\n",
      "Column Name: team_time, Value: 15:00\n",
      "Column Name: opponent_time, Value: 15:00\n",
      "Column Name: team_round, Value: Matchweek 29\n",
      "Column Name: opponent_round, Value: Matchweek 29\n",
      "Column Name: team_day, Value: Sat\n",
      "Column Name: opponent_day, Value: Sat\n",
      "Column Name: team_venue, Value: Home\n",
      "Column Name: opponent_venue, Value: Away\n",
      "Column Name: team_result, Value: D\n",
      "Column Name: opponent_result, Value: D\n",
      "Column Name: team_goals_for, Value: 3\n",
      "Column Name: opponent_goals_for, Value: 3\n",
      "Column Name: team_goals_against, Value: 3\n",
      "Column Name: opponent_goals_against, Value: 3\n",
      "Column Name: team_opponent, Value: Brentford\n",
      "Column Name: opponent_opponent, Value: Brentford\n",
      "Column Name: team_standard_goals, Value: 3\n",
      "Column Name: opponent_standard_goals, Value: 3\n",
      "Column Name: team_standard_shots, Value: 32\n",
      "Column Name: opponent_standard_shots, Value: 7\n",
      "Column Name: team_standard_shots_on_target, Value: 13\n",
      "Column Name: opponent_standard_shots_on_target, Value: 5\n",
      "Column Name: team_standard_shots_on_target_percentage, Value: 40.6\n",
      "Column Name: opponent_standard_shots_on_target_percentage, Value: 71.4\n",
      "Column Name: team_standard_goals_per_shot, Value: 0.06\n",
      "Column Name: opponent_standard_goals_per_shot, Value: 0.43\n",
      "Column Name: team_standard_goals_per_shot_on_target, Value: 0.15\n",
      "Column Name: opponent_standard_goals_per_shot_on_target, Value: 0.6\n",
      "Column Name: team_standard_distance, Value: 16.7\n",
      "Column Name: opponent_standard_distance, Value: 15.6\n",
      "Column Name: team_standard_free_kicks, Value: 1\n",
      "Column Name: opponent_standard_free_kicks, Value: 1\n",
      "Column Name: team_standard_penalties, Value: 1\n",
      "Column Name: opponent_standard_penalties, Value: 0\n",
      "Column Name: team_standard_penalty_attempts, Value: 1\n",
      "Column Name: opponent_standard_penalty_attempts, Value: 0\n",
      "Column Name: team_expected_goals, Value: 4.2\n",
      "Column Name: opponent_expected_goals, Value: 1.6\n",
      "Column Name: team_expected_non_penalty_expected_goals, Value: 3.6\n",
      "Column Name: opponent_expected_non_penalty_expected_goals, Value: 1.6\n",
      "Column Name: team_expected_non_penalty_expected_goals_per_shot, Value: 0.12\n",
      "Column Name: opponent_expected_non_penalty_expected_goals_per_shot, Value: 0.23\n",
      "Column Name: team_expected_goals_minus_expected_goals, Value: -1.2\n",
      "Column Name: opponent_expected_goals_minus_expected_goals, Value: 1.4\n",
      "Column Name: team_expected_non_penalty_goals_minus_expected_goals, Value: -1.6\n",
      "Column Name: opponent_expected_non_penalty_goals_minus_expected_goals, Value: 1.4\n",
      "Column Name: team_match_report, Value: Match Report\n",
      "Column Name: opponent_match_report, Value: Match Report\n",
      "Column Name: team_finishing, Value: 70\n",
      "Column Name: opponent_finishing, Value: 67\n",
      "Column Name: total_sh, Value: 39\n",
      "Column Name: predicted, Value: 9\n",
      "Column Name: error, Value: 4\n",
      "Column Name: randomness, Value: 11\n",
      "Column Name: team_sh_share, Value: 0.8205128205128205\n"
     ]
    }
   ],
   "source": [
    "t = df.sort_values(\"team_standard_shots_on_target\", ascending=False).iloc[0]\n",
    "\n",
    "for column_name, cell_value in t.items():\n",
    "    print(f\"Column Name: {column_name}, Value: {cell_value}\")\n"
   ]
  },
  {
   "cell_type": "markdown",
   "id": "a171c051",
   "metadata": {},
   "source": [
    "<br><br><br><br>\n",
    "<h1 style=\"color:black\">Lineup Test</h1>"
   ]
  },
  {
   "cell_type": "code",
   "execution_count": null,
   "id": "37f570a7",
   "metadata": {},
   "outputs": [],
   "source": [
    "lineup_test_ids = [230621, 235212, 155862, 207865, 252145, 199556, 234153, 230767, 231747, 158023, 190871]\n",
    "test_team_df = []\n",
    "for player_id in lineup_test_ids:\n",
    "    player_df = players_df[players_df['player_id'] == player_id]\n",
    "    test_team_df.append(player_df)\n",
    "result_df = pd.concat(test_team_df, ignore_index=True)"
   ]
  },
  {
   "cell_type": "code",
   "execution_count": null,
   "id": "656cf4ea",
   "metadata": {},
   "outputs": [],
   "source": [
    "TFR(result_df)"
   ]
  },
  {
   "cell_type": "markdown",
   "id": "d7f9bb8a",
   "metadata": {},
   "source": [
    "<br><br><br><br>\n",
    "<h1 style=\"color:red\">Pass Total Attempts</h1>"
   ]
  },
  {
   "cell_type": "code",
   "execution_count": null,
   "id": "e793ebf2",
   "metadata": {},
   "outputs": [],
   "source": [
    "df = pd.read_html(\"https://fbref.com/en/squads/b8fd03ef/2022-2023/matchlogs/c9/passing/-Manchester-City\")[0][:38]\n",
    "df.sort_values(('For Manchester City', 'Date')).head()\n",
    "df_cols = df.columns.map('.'.join)\n",
    "new_cols = [col.split('.')[1] if 'For' in col else col for col in df_cols]\n",
    "df.columns = new_cols\n",
    "df.columns"
   ]
  },
  {
   "cell_type": "code",
   "execution_count": null,
   "id": "8e348e0d",
   "metadata": {
    "scrolled": true
   },
   "outputs": [],
   "source": [
    "df_log_array = []\n",
    "current_stat = \"passing\"\n",
    "last_matchweek = 38\n",
    "\n",
    "for tindex in range(20):\n",
    "    print(tindex)\n",
    "    time.sleep(0.1)\n",
    "    current_team = match_logs_stats_dict[current_stat][tindex]\n",
    "\n",
    "    url = current_team[\"url\"]\n",
    "    print(url)\n",
    "    \n",
    "    df = FB_MatchLogs(url, last_matchweek=last_matchweek)[\"for\"]\n",
    "    df.columns = ColumnConverter(df, \"For\")\n",
    "    \n",
    "    team_names = df[\"Opponent\"].unique().tolist()\n",
    "    team_ids = [TeamNameIdConverter(tpr_data, team_name, league_id) for team_name in team_names]\n",
    "    team_rating_data = TFRFromId(tfr_data, current_team[\"club_team_id\"])\n",
    "\n",
    "    for i in range(last_matchweek):\n",
    "        x = df.iloc[i]\n",
    "        x_rating_data = TFRFromId(tfr_data, current_team[\"club_team_id\"])\n",
    "        y_rating_data = TFRFromId(tfr_data, TeamNameIdConverter(tpr_data, x[\"Opponent\"], league_id))\n",
    "        lab_df_dict = {\n",
    "            \"team_name\": current_team[\"club_team_name\"],\n",
    "            \"team_id\": current_team[\"club_team_id\"],\n",
    "            \"opponent_name\": x[\"Opponent\"],\n",
    "            \"opponent_id\": TeamNameIdConverter(tpr_data, x[\"Opponent\"], league_id),\n",
    "            \n",
    "            \"team_att_pass\": x[\"Total.Att\"],\n",
    "            \"team_cmp_pass\": x[\"Total.Cmp\"],\n",
    "            \n",
    "            \"team_power\": x_rating_data[\"power\"],\n",
    "            \"opponent_power\": y_rating_data[\"power\"],\n",
    "        }\n",
    "        \n",
    "        df_log_array.append(lab_df_dict)\n",
    "        \n",
    "df_log = pd.DataFrame(df_log_array)\n",
    "league_name_for_csv_file = league_name\n",
    "df_log.to_csv(f\"../@blacksmith/match_logs/fbref_match_logs_{league_name_for_csv_file}@{current_stat}.csv\")"
   ]
  },
  {
   "cell_type": "code",
   "execution_count": null,
   "id": "33f51181",
   "metadata": {},
   "outputs": [],
   "source": [
    "df = df_log\n",
    "features = ['team_power', 'opponent_power', 'team_att_pass']\n",
    "target_variable = 'team_cmp_pass'"
   ]
  },
  {
   "cell_type": "code",
   "execution_count": null,
   "id": "e1cd352a",
   "metadata": {},
   "outputs": [],
   "source": [
    "model, mse, coefficients, intercept = train_linear_regression(df, features, target_variable, int)\n",
    "mean_error = model_error(df, target_variable).mean()\n",
    "std_error = model_error(df, target_variable).std()\n",
    "print(\"Mean Squared Error:\", mse)\n",
    "print(\"Error Mean:\", mean_error)"
   ]
  },
  {
   "cell_type": "code",
   "execution_count": null,
   "id": "69b2674d",
   "metadata": {},
   "outputs": [],
   "source": [
    "# plot_predicted_vs_actual(df, target_variable, model=model, features=features)"
   ]
  },
  {
   "cell_type": "code",
   "execution_count": null,
   "id": "7125e860",
   "metadata": {
    "scrolled": true
   },
   "outputs": [],
   "source": [
    "model_equation(coefficients, intercept)"
   ]
  },
  {
   "cell_type": "code",
   "execution_count": null,
   "id": "9e0f070e",
   "metadata": {},
   "outputs": [],
   "source": [
    "model_head(df, features+columns_to_drop, target_variable, sort_parameter=\"predicted\", sort_ascending=True, n=5)"
   ]
  },
  {
   "cell_type": "code",
   "execution_count": null,
   "id": "e8472bc6",
   "metadata": {},
   "outputs": [],
   "source": [
    "randomness_func, interval_func = randomness_volume, interval_volume\n",
    "result = randomness_func(df, target_variable)\n",
    "interval = interval_func(result, step=12, expand_multiplier=3)\n",
    "\n",
    "print(\"Result:\", result)\n",
    "print(\"Interval:\", interval)\n",
    "random_choice(interval)"
   ]
  },
  {
   "cell_type": "code",
   "execution_count": null,
   "id": "ed95450b",
   "metadata": {},
   "outputs": [],
   "source": [
    "df[\"randomness\"] = df[\"predicted\"].copy()\n",
    "df[\"randomness\"] = df[\"predicted\"].apply(lambda value: negativity_protector(value + random_choice(interval), value))\n",
    "\n",
    "df[features+columns_to_drop+[target_variable,\"predicted\",\"randomness\"]].sort_values(\"randomness\", ascending=False).head(n=5)"
   ]
  },
  {
   "cell_type": "code",
   "execution_count": null,
   "id": "fc62985a",
   "metadata": {},
   "outputs": [],
   "source": []
  },
  {
   "cell_type": "code",
   "execution_count": null,
   "id": "5af7eeab",
   "metadata": {},
   "outputs": [],
   "source": []
  }
 ],
 "metadata": {
  "kernelspec": {
   "display_name": "Python 3 (ipykernel)",
   "language": "python",
   "name": "python3"
  },
  "language_info": {
   "codemirror_mode": {
    "name": "ipython",
    "version": 3
   },
   "file_extension": ".py",
   "mimetype": "text/x-python",
   "name": "python",
   "nbconvert_exporter": "python",
   "pygments_lexer": "ipython3",
   "version": "3.10.9"
  }
 },
 "nbformat": 4,
 "nbformat_minor": 5
}
