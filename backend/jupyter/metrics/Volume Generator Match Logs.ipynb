{
 "cells": [
  {
   "cell_type": "code",
   "execution_count": 319,
   "id": "56c74ca8",
   "metadata": {},
   "outputs": [],
   "source": [
    "import pandas as pd\n",
    "import numpy as np\n",
    "import seaborn as sns\n",
    "import matplotlib.pyplot as plt\n",
    "import re\n",
    "import time\n",
    "import requests\n",
    "from bs4 import BeautifulSoup\n",
    "import lxml\n",
    "import json\n",
    "from urllib.parse import quote\n",
    "\n",
    "from futsim_funcs import TPR,TFR,TPSR,TGKR,TDR"
   ]
  },
  {
   "cell_type": "code",
   "execution_count": 156,
   "id": "f8913be1",
   "metadata": {},
   "outputs": [],
   "source": [
    "import warnings\n",
    "warnings.filterwarnings(\"ignore\", message=\"The default value of numeric_only in DataFrame.mean is deprecated.\", category=FutureWarning)"
   ]
  },
  {
   "cell_type": "code",
   "execution_count": 157,
   "id": "3298df77",
   "metadata": {},
   "outputs": [],
   "source": [
    "players_df = pd.read_csv(\"../fifa24_db/pdb_23.csv\")"
   ]
  },
  {
   "cell_type": "code",
   "execution_count": 158,
   "id": "a2eb10ca",
   "metadata": {},
   "outputs": [],
   "source": [
    "tpr_data = TPR(players_df) # Overall\n",
    "tfr_data = TFR(players_df) # Shooting\n",
    "tgkr_data = TGKR(players_df) # Goalkeeping\n",
    "tdr_data = TDR(players_df) # Defense"
   ]
  },
  {
   "cell_type": "code",
   "execution_count": 159,
   "id": "b526803d",
   "metadata": {},
   "outputs": [
    {
     "data": {
      "text/html": [
       "<div>\n",
       "<style scoped>\n",
       "    .dataframe tbody tr th:only-of-type {\n",
       "        vertical-align: middle;\n",
       "    }\n",
       "\n",
       "    .dataframe tbody tr th {\n",
       "        vertical-align: top;\n",
       "    }\n",
       "\n",
       "    .dataframe thead th {\n",
       "        text-align: right;\n",
       "    }\n",
       "</style>\n",
       "<table border=\"1\" class=\"dataframe\">\n",
       "  <thead>\n",
       "    <tr style=\"text-align: right;\">\n",
       "      <th></th>\n",
       "      <th>league_id</th>\n",
       "      <th>club_team_id</th>\n",
       "      <th>league_name</th>\n",
       "      <th>club_name</th>\n",
       "      <th>power</th>\n",
       "      <th>defense</th>\n",
       "    </tr>\n",
       "  </thead>\n",
       "  <tbody>\n",
       "    <tr>\n",
       "      <th>84</th>\n",
       "      <td>13</td>\n",
       "      <td>10</td>\n",
       "      <td>Premier League</td>\n",
       "      <td>Manchester City</td>\n",
       "      <td>85</td>\n",
       "      <td>74</td>\n",
       "    </tr>\n",
       "    <tr>\n",
       "      <th>109</th>\n",
       "      <td>53</td>\n",
       "      <td>243</td>\n",
       "      <td>La Liga</td>\n",
       "      <td>Real Madrid</td>\n",
       "      <td>84</td>\n",
       "      <td>78</td>\n",
       "    </tr>\n",
       "    <tr>\n",
       "      <th>30</th>\n",
       "      <td>13</td>\n",
       "      <td>5</td>\n",
       "      <td>Premier League</td>\n",
       "      <td>Chelsea</td>\n",
       "      <td>84</td>\n",
       "      <td>75</td>\n",
       "    </tr>\n",
       "    <tr>\n",
       "      <th>81</th>\n",
       "      <td>13</td>\n",
       "      <td>9</td>\n",
       "      <td>Premier League</td>\n",
       "      <td>Liverpool</td>\n",
       "      <td>84</td>\n",
       "      <td>75</td>\n",
       "    </tr>\n",
       "    <tr>\n",
       "      <th>70</th>\n",
       "      <td>31</td>\n",
       "      <td>44</td>\n",
       "      <td>Serie A</td>\n",
       "      <td>Inter</td>\n",
       "      <td>83</td>\n",
       "      <td>75</td>\n",
       "    </tr>\n",
       "  </tbody>\n",
       "</table>\n",
       "</div>"
      ],
      "text/plain": [
       "     league_id  club_team_id     league_name        club_name  power  defense\n",
       "84          13            10  Premier League  Manchester City     85       74\n",
       "109         53           243         La Liga      Real Madrid     84       78\n",
       "30          13             5  Premier League          Chelsea     84       75\n",
       "81          13             9  Premier League        Liverpool     84       75\n",
       "70          31            44         Serie A            Inter     83       75"
      ]
     },
     "execution_count": 159,
     "metadata": {},
     "output_type": "execute_result"
    }
   ],
   "source": [
    "tdr_data.sort_values(\"power\", ascending=False).head(n=5)"
   ]
  },
  {
   "cell_type": "markdown",
   "id": "7c715b50",
   "metadata": {},
   "source": [
    "<br><br><br><br>"
   ]
  },
  {
   "cell_type": "markdown",
   "id": "fa142a72",
   "metadata": {},
   "source": [
    "# FBRef Match Logs URLs"
   ]
  },
  {
   "cell_type": "code",
   "execution_count": 160,
   "id": "d8912d57",
   "metadata": {},
   "outputs": [],
   "source": [
    "leagues = [\"Premier League\", \"Serie A\", \"Ligue 1\", \"LaLiga\", \"Bundesliga\"]\n",
    "fbref_league_dict = {\n",
    "    \"Premier League\": {\"name\": \"Premier League\", \"league_id\": 9},\n",
    "    \"Serie A\": {\"name\": \"Serie A\", \"league_id\": 11},\n",
    "    \"Ligue 1\": {\"name\": \"Ligue 1\", \"league_id\": 13},\n",
    "    \"LaLiga\": {\"name\": \"LaLiga\", \"league_id\": 12},\n",
    "    \"Bundesliga\": {\"name\": \"Bundesliga\", \"league_id\": 20},   \n",
    "}"
   ]
  },
  {
   "cell_type": "code",
   "execution_count": 161,
   "id": "9637e106",
   "metadata": {},
   "outputs": [],
   "source": [
    "def GetTeamCredentials(league_id, season=\"2022-2023\"):\n",
    "    league_url = f\"https://fbref.com/en/comps/{league_id}/{season}\"\n",
    "    response = requests.get(league_url)\n",
    "    soup = BeautifulSoup(response.content, \"lxml\")\n",
    "\n",
    "    table = soup.find(\"table\", {\"class\": \"stats_table\"})\n",
    "    team_ids = []\n",
    "    team_names = []\n",
    "\n",
    "    for row in table.find_all(\"tr\")[1:]:\n",
    "        team_name = row.find(\"td\", {\"data-stat\": \"team\"}).text\n",
    "        team_id = row.find(\"td\", {\"data-stat\": \"team\"}).a.get(\"href\").split(\"/\")[3]\n",
    "        team_ids.append(team_id)\n",
    "        team_names.append(team_name)\n",
    "    return {\n",
    "        \"team_ids\":team_ids,\n",
    "        \"team_names\":team_names,\n",
    "    }"
   ]
  },
  {
   "cell_type": "code",
   "execution_count": 162,
   "id": "70b47f66",
   "metadata": {},
   "outputs": [],
   "source": [
    "from rapidfuzz import process\n",
    "def find_best_match(name, choices):\n",
    "    return process.extractOne(name, choices)"
   ]
  },
  {
   "cell_type": "code",
   "execution_count": 163,
   "id": "e6d5a5c1",
   "metadata": {},
   "outputs": [],
   "source": [
    "def TFRFromId(tfr_data, club_team_id):\n",
    "    power = tfr_data.query(f\"club_team_id == {club_team_id}\")[\"power\"].iloc[0]\n",
    "    finishing = tfr_data.query(f\"club_team_id == {club_team_id}\")[\"finishing\"].iloc[0]\n",
    "    return {\n",
    "        \"power\": power,\n",
    "        \"finishing\": finishing,\n",
    "    }"
   ]
  },
  {
   "cell_type": "code",
   "execution_count": 164,
   "id": "97583599",
   "metadata": {},
   "outputs": [],
   "source": [
    "def TeamNameIdConverter(tpr_data, team_name, league_id, print_output=False):\n",
    "    # TeamNameIdConverter(tpr_data,\"chelseas\",13,1)\n",
    "    club_team_names = tpr_data.query(f\"league_id == {league_id}\")[\"club_name\"].tolist()\n",
    "    club_team_ids = tpr_data.query(f\"league_id == {league_id}\")[\"club_team_id\"].tolist()\n",
    "    club_team_name, score, other = find_best_match(team_name, club_team_names)\n",
    "    club_team_id = club_team_ids[club_team_names.index(club_team_name)]\n",
    "    if print_output:\n",
    "        print(f\"ID for {club_team_name}:\")\n",
    "    return club_team_id"
   ]
  },
  {
   "cell_type": "code",
   "execution_count": 165,
   "id": "676ceb76",
   "metadata": {},
   "outputs": [],
   "source": [
    "creds = GetTeamCredentials(fbref_league_dict[\"LaLiga\"][\"league_id\"], \"2022-2023\")\n",
    "\n",
    "def FB_URLS(stat_attribute, fbref_league_id, league_id, season=\"2022-2023\"):\n",
    "    team_ids = creds[\"team_ids\"]\n",
    "    team_names = creds[\"team_names\"]\n",
    "    club_team_names = tpr_data.query(f\"league_id == {league_id}\")[\"club_name\"].tolist()\n",
    "    club_team_ids = tpr_data.query(f\"league_id == {league_id}\")[\"club_team_id\"].tolist()\n",
    "\n",
    "    for team_id, team_name in zip(team_ids, team_names):\n",
    "        best_match = find_best_match(team_name, club_team_names)\n",
    "        if best_match:\n",
    "            club_team_name, score, other = best_match\n",
    "            club_team_id = club_team_ids[club_team_names.index(club_team_name)]\n",
    "            match_logs_url = f\"https://fbref.com/en/squads/{team_id}/{season}/matchlogs/c{fbref_league_id}/{stat_attribute}/{team_name.replace(' ', '-')}\"\n",
    "            match_logs_stats_dict[stat_attribute].append({\n",
    "                \"id\": team_id,\n",
    "                \"stat\": stat_attribute,\n",
    "                \"team\": team_name,\n",
    "                \"club_team_id\": club_team_id,\n",
    "                \"club_team_name\": club_team_name, \n",
    "                \"url\": match_logs_url\n",
    "            })\n",
    "        else:\n",
    "            print(f\"No match found for team: {team_name}\")"
   ]
  },
  {
   "cell_type": "code",
   "execution_count": 166,
   "id": "12663541",
   "metadata": {},
   "outputs": [],
   "source": [
    "match_logs_stats_dict = {\n",
    "    \"shooting\":[],\n",
    "    \"passing\":[],\n",
    "    \"defense\":[],\n",
    "    \"keeper\":[],\n",
    "    \"passing_types\":[],\n",
    "    \"gca\":[],\n",
    "    \"possession\":[],\n",
    "    \"misc\":[],\n",
    "}\n",
    "\n",
    "attributes = match_logs_stats_dict.keys()\n",
    "fbref_league_id = 12\n",
    "league_id = 53\n",
    "league_name = \"LaLiga\"\n",
    "\n",
    "for stat_attribute in attributes:\n",
    "    FB_URLS(stat_attribute, fbref_league_id, league_id)"
   ]
  },
  {
   "cell_type": "code",
   "execution_count": 167,
   "id": "1ff95bf2",
   "metadata": {},
   "outputs": [],
   "source": [
    "### <Match Logs' URLS are Ready!>"
   ]
  },
  {
   "cell_type": "markdown",
   "id": "7a410ec6",
   "metadata": {},
   "source": [
    "<br><br><br><br>"
   ]
  },
  {
   "cell_type": "markdown",
   "id": "f4a535f9",
   "metadata": {},
   "source": [
    "<h1 style=\"color:green\">Scraping FBRef</h1>"
   ]
  },
  {
   "cell_type": "code",
   "execution_count": 168,
   "id": "6dd427e5",
   "metadata": {},
   "outputs": [
    {
     "data": {
      "text/html": [
       "<div>\n",
       "<style scoped>\n",
       "    .dataframe tbody tr th:only-of-type {\n",
       "        vertical-align: middle;\n",
       "    }\n",
       "\n",
       "    .dataframe tbody tr th {\n",
       "        vertical-align: top;\n",
       "    }\n",
       "\n",
       "    .dataframe thead tr th {\n",
       "        text-align: left;\n",
       "    }\n",
       "</style>\n",
       "<table border=\"1\" class=\"dataframe\">\n",
       "  <thead>\n",
       "    <tr>\n",
       "      <th></th>\n",
       "      <th colspan=\"9\" halign=\"left\">Against Manchester City</th>\n",
       "      <th colspan=\"6\" halign=\"left\">Standard</th>\n",
       "      <th colspan=\"5\" halign=\"left\">Expected</th>\n",
       "      <th>Unnamed: 24_level_0</th>\n",
       "    </tr>\n",
       "    <tr>\n",
       "      <th></th>\n",
       "      <th>Date</th>\n",
       "      <th>Time</th>\n",
       "      <th>Round</th>\n",
       "      <th>Day</th>\n",
       "      <th>Venue</th>\n",
       "      <th>Result</th>\n",
       "      <th>GF</th>\n",
       "      <th>GA</th>\n",
       "      <th>Opponent</th>\n",
       "      <th>Gls</th>\n",
       "      <th>...</th>\n",
       "      <th>Dist</th>\n",
       "      <th>FK</th>\n",
       "      <th>PK</th>\n",
       "      <th>PKatt</th>\n",
       "      <th>xG</th>\n",
       "      <th>npxG</th>\n",
       "      <th>npxG/Sh</th>\n",
       "      <th>G-xG</th>\n",
       "      <th>np:G-xG</th>\n",
       "      <th>Match Report</th>\n",
       "    </tr>\n",
       "  </thead>\n",
       "  <tbody>\n",
       "    <tr>\n",
       "      <th>0</th>\n",
       "      <td>2022-08-07</td>\n",
       "      <td>16:30</td>\n",
       "      <td>Matchweek 1</td>\n",
       "      <td>Sun</td>\n",
       "      <td>Home</td>\n",
       "      <td>L</td>\n",
       "      <td>0</td>\n",
       "      <td>2</td>\n",
       "      <td>West Ham</td>\n",
       "      <td>0</td>\n",
       "      <td>...</td>\n",
       "      <td>16.3</td>\n",
       "      <td>0</td>\n",
       "      <td>0</td>\n",
       "      <td>0</td>\n",
       "      <td>0.5</td>\n",
       "      <td>0.5</td>\n",
       "      <td>0.08</td>\n",
       "      <td>-0.5</td>\n",
       "      <td>-0.5</td>\n",
       "      <td>Match Report</td>\n",
       "    </tr>\n",
       "    <tr>\n",
       "      <th>1</th>\n",
       "      <td>2022-08-13</td>\n",
       "      <td>15:00</td>\n",
       "      <td>Matchweek 2</td>\n",
       "      <td>Sat</td>\n",
       "      <td>Away</td>\n",
       "      <td>L</td>\n",
       "      <td>0</td>\n",
       "      <td>4</td>\n",
       "      <td>Bournemouth</td>\n",
       "      <td>0</td>\n",
       "      <td>...</td>\n",
       "      <td>20.6</td>\n",
       "      <td>0</td>\n",
       "      <td>0</td>\n",
       "      <td>0</td>\n",
       "      <td>0.1</td>\n",
       "      <td>0.1</td>\n",
       "      <td>0.04</td>\n",
       "      <td>-0.1</td>\n",
       "      <td>-0.1</td>\n",
       "      <td>Match Report</td>\n",
       "    </tr>\n",
       "    <tr>\n",
       "      <th>2</th>\n",
       "      <td>2022-08-21</td>\n",
       "      <td>16:30</td>\n",
       "      <td>Matchweek 3</td>\n",
       "      <td>Sun</td>\n",
       "      <td>Home</td>\n",
       "      <td>D</td>\n",
       "      <td>3</td>\n",
       "      <td>3</td>\n",
       "      <td>Newcastle Utd</td>\n",
       "      <td>3</td>\n",
       "      <td>...</td>\n",
       "      <td>14.8</td>\n",
       "      <td>1</td>\n",
       "      <td>0</td>\n",
       "      <td>0</td>\n",
       "      <td>1.8</td>\n",
       "      <td>1.8</td>\n",
       "      <td>0.15</td>\n",
       "      <td>1.2</td>\n",
       "      <td>1.2</td>\n",
       "      <td>Match Report</td>\n",
       "    </tr>\n",
       "    <tr>\n",
       "      <th>3</th>\n",
       "      <td>2022-08-27</td>\n",
       "      <td>15:00</td>\n",
       "      <td>Matchweek 4</td>\n",
       "      <td>Sat</td>\n",
       "      <td>Away</td>\n",
       "      <td>L</td>\n",
       "      <td>2</td>\n",
       "      <td>4</td>\n",
       "      <td>Crystal Palace</td>\n",
       "      <td>1</td>\n",
       "      <td>...</td>\n",
       "      <td>20.6</td>\n",
       "      <td>0</td>\n",
       "      <td>0</td>\n",
       "      <td>0</td>\n",
       "      <td>0.1</td>\n",
       "      <td>0.1</td>\n",
       "      <td>0.06</td>\n",
       "      <td>0.9</td>\n",
       "      <td>0.9</td>\n",
       "      <td>Match Report</td>\n",
       "    </tr>\n",
       "    <tr>\n",
       "      <th>4</th>\n",
       "      <td>2022-08-31</td>\n",
       "      <td>19:30</td>\n",
       "      <td>Matchweek 5</td>\n",
       "      <td>Wed</td>\n",
       "      <td>Away</td>\n",
       "      <td>L</td>\n",
       "      <td>0</td>\n",
       "      <td>6</td>\n",
       "      <td>Nott'ham Forest</td>\n",
       "      <td>0</td>\n",
       "      <td>...</td>\n",
       "      <td>18.4</td>\n",
       "      <td>1</td>\n",
       "      <td>0</td>\n",
       "      <td>0</td>\n",
       "      <td>0.7</td>\n",
       "      <td>0.7</td>\n",
       "      <td>0.08</td>\n",
       "      <td>-0.7</td>\n",
       "      <td>-0.7</td>\n",
       "      <td>Match Report</td>\n",
       "    </tr>\n",
       "  </tbody>\n",
       "</table>\n",
       "<p>5 rows × 25 columns</p>\n",
       "</div>"
      ],
      "text/plain": [
       "  Against Manchester City                                              \\\n",
       "                     Date   Time        Round  Day Venue Result GF GA   \n",
       "0              2022-08-07  16:30  Matchweek 1  Sun  Home      L  0  2   \n",
       "1              2022-08-13  15:00  Matchweek 2  Sat  Away      L  0  4   \n",
       "2              2022-08-21  16:30  Matchweek 3  Sun  Home      D  3  3   \n",
       "3              2022-08-27  15:00  Matchweek 4  Sat  Away      L  2  4   \n",
       "4              2022-08-31  19:30  Matchweek 5  Wed  Away      L  0  6   \n",
       "\n",
       "                   Standard  ...                   Expected                    \\\n",
       "          Opponent      Gls  ...  Dist FK PK PKatt       xG npxG npxG/Sh G-xG   \n",
       "0         West Ham        0  ...  16.3  0  0     0      0.5  0.5    0.08 -0.5   \n",
       "1      Bournemouth        0  ...  20.6  0  0     0      0.1  0.1    0.04 -0.1   \n",
       "2    Newcastle Utd        3  ...  14.8  1  0     0      1.8  1.8    0.15  1.2   \n",
       "3   Crystal Palace        1  ...  20.6  0  0     0      0.1  0.1    0.06  0.9   \n",
       "4  Nott'ham Forest        0  ...  18.4  1  0     0      0.7  0.7    0.08 -0.7   \n",
       "\n",
       "          Unnamed: 24_level_0  \n",
       "  np:G-xG        Match Report  \n",
       "0    -0.5        Match Report  \n",
       "1    -0.1        Match Report  \n",
       "2     1.2        Match Report  \n",
       "3     0.9        Match Report  \n",
       "4    -0.7        Match Report  \n",
       "\n",
       "[5 rows x 25 columns]"
      ]
     },
     "execution_count": 168,
     "metadata": {},
     "output_type": "execute_result"
    }
   ],
   "source": [
    "df=pd.read_html(\"https://fbref.com/en/squads/b8fd03ef/2022-2023/matchlogs/c9/shooting/-Manchester-City\")[1][:38]\n",
    "df.head(n=38).sort_values(('Against Manchester City', 'Date')).head()"
   ]
  },
  {
   "cell_type": "code",
   "execution_count": 169,
   "id": "1aa503f9",
   "metadata": {},
   "outputs": [],
   "source": [
    "def FB_MatchLogs(url, last_matchweek=38):\n",
    "    encoded_url = quote(url, safe=':/')\n",
    "    df=pd.read_html(encoded_url)\n",
    "    return {\n",
    "        \"for\": df[0][:last_matchweek],\n",
    "        \"against\": df[1][:last_matchweek],\n",
    "    }"
   ]
  },
  {
   "cell_type": "code",
   "execution_count": 170,
   "id": "79354547",
   "metadata": {},
   "outputs": [],
   "source": [
    "def MatchLogs_MultiIndexColumnDict(df, stat_attribute=None):\n",
    "    stat_columns_dict = {}\n",
    "    for item in df.columns:\n",
    "        right_side = item[1]\n",
    "        stat_columns_dict[right_side] = item\n",
    "    if stat_attribute:\n",
    "        return stat_columns_dict[stat_attribute]\n",
    "    return stat_columns_dict"
   ]
  },
  {
   "cell_type": "code",
   "execution_count": 171,
   "id": "b9aa909d",
   "metadata": {},
   "outputs": [
    {
     "data": {
      "text/plain": [
       "{'id': '206d90db',\n",
       " 'stat': 'shooting',\n",
       " 'team': ' Barcelona',\n",
       " 'club_team_id': 241,\n",
       " 'club_team_name': 'FC Barcelona',\n",
       " 'url': 'https://fbref.com/en/squads/206d90db/2022-2023/matchlogs/c12/shooting/-Barcelona'}"
      ]
     },
     "execution_count": 171,
     "metadata": {},
     "output_type": "execute_result"
    }
   ],
   "source": [
    "match_logs_stats_dict[\"shooting\"][0]"
   ]
  },
  {
   "cell_type": "markdown",
   "id": "d9fcbd12",
   "metadata": {},
   "source": [
    "<br><br><br><br>\n",
    "<h1 style=\"color:black\">Match Logs DataFrame</h1>"
   ]
  },
  {
   "cell_type": "code",
   "execution_count": 172,
   "id": "ce4ff3b4",
   "metadata": {},
   "outputs": [],
   "source": [
    "df_log_array = []"
   ]
  },
  {
   "cell_type": "code",
   "execution_count": 300,
   "id": "37826953",
   "metadata": {
    "scrolled": false
   },
   "outputs": [],
   "source": [
    "# for tindex in range(20):\n",
    "#     print(tindex)\n",
    "#     time.sleep(5)\n",
    "#     current_team = match_logs_stats_dict[\"shooting\"][tindex]\n",
    "\n",
    "#     url = current_team[\"url\"]\n",
    "#     print(url)\n",
    "    \n",
    "#     df = FB_MatchLogs(url, last_matchweek=38)\n",
    "#     df_for = df[\"for\"]\n",
    "#     df_against = df[\"against\"]\n",
    "#     logs_cols_for = MatchLogs_MultiIndexColumnDict(df_for)\n",
    "#     logs_cols_against = MatchLogs_MultiIndexColumnDict(df_against)\n",
    "\n",
    "#     team_names = df_for[logs_cols_for[\"Opponent\"]].unique().tolist()\n",
    "#     team_ids = [TeamNameIdConverter(tpr_data, team_name, league_id) for team_name in team_names]\n",
    "#     team_rating_data = TFRFromId(tfr_data, current_team[\"club_team_id\"])\n",
    "\n",
    "#     for i in range(38):\n",
    "#         x = df_for.iloc[i]\n",
    "#         y = df_against.iloc[i]\n",
    "#         x_rating_data = TFRFromId(tfr_data, current_team[\"club_team_id\"])\n",
    "#         y_rating_data = TFRFromId(tfr_data, TeamNameIdConverter(tpr_data, y[logs_cols_against[\"Opponent\"]], league_id))\n",
    "#         lab_df_dict = {\n",
    "#             \"team_name\": current_team[\"club_team_name\"],\n",
    "#             \"team_id\": current_team[\"club_team_id\"],\n",
    "#             \"team_sh\": x[logs_cols_for[\"Sh\"]],\n",
    "#             \"team_sot\": x[logs_cols_for[\"SoT\"]],\n",
    "#             \"team_scored\": x[logs_cols_for[\"Gls\"]],\n",
    "#             \"opponent_name\": y[logs_cols_against[\"Opponent\"]],\n",
    "#             \"opponent_id\": TeamNameIdConverter(tpr_data, y[logs_cols_against[\"Opponent\"]], 13),\n",
    "#             \"opponent_sh\": y[logs_cols_against[\"Sh\"]],\n",
    "#             \"opponent_sot\": y[logs_cols_against[\"SoT\"]],\n",
    "#             \"opponent_scored\": y[logs_cols_against[\"Gls\"]],\n",
    "#             \"team_power\": x_rating_data[\"power\"],\n",
    "#             \"team_finishing\": x_rating_data[\"finishing\"],\n",
    "#             \"opponent_power\": y_rating_data[\"power\"],\n",
    "#             \"opponent_finishing\": y_rating_data[\"finishing\"],\n",
    "#             \"team_sh_share\": x[logs_cols_for[\"Sh\"]] / ( x[logs_cols_for[\"Sh\"]] + y[logs_cols_against[\"Sh\"]] ),\n",
    "#             \"opponent_sh_share\": y[logs_cols_against[\"Sh\"]] / ( x[logs_cols_for[\"Sh\"]] + y[logs_cols_against[\"Sh\"]] ),\n",
    "#         }\n",
    "#         df_log_array.append(lab_df_dict)\n",
    "        \n",
    "# df_log = pd.DataFrame(df_log_array)\n",
    "league_name_for_csv_file = league_name\n",
    "# df_log.to_csv(f\"../@blacksmith/match_logs/fbref_match_logs_{league_name_for_csv_file}.csv\")"
   ]
  },
  {
   "cell_type": "code",
   "execution_count": 301,
   "id": "8403a3c7",
   "metadata": {},
   "outputs": [],
   "source": [
    "df_log = pd.read_csv(f\"../@blacksmith/match_logs/fbref_match_logs_{league_name_for_csv_file}.csv\")"
   ]
  },
  {
   "cell_type": "markdown",
   "id": "07db4342",
   "metadata": {},
   "source": [
    "<br><br><br><br>\n",
    "<h1 style=\"color:aqua\">Regression Boilerplate</h1>"
   ]
  },
  {
   "cell_type": "code",
   "execution_count": 302,
   "id": "a35f9f0a",
   "metadata": {},
   "outputs": [],
   "source": [
    "import pandas as pd\n",
    "import matplotlib.pyplot as plt\n",
    "from sklearn.model_selection import train_test_split\n",
    "from sklearn.linear_model import LinearRegression\n",
    "from sklearn.metrics import mean_squared_error\n",
    "\n",
    "def train_linear_regression(df, features, target_variable, apply_dtype, test_size=0.19, random_state=42):\n",
    "    \"\"\"\n",
    "    Train a linear regression model and evaluate its performance.\n",
    "\n",
    "    Args:\n",
    "    - df (DataFrame): Input DataFrame containing the dataset.\n",
    "    - features (list): List of feature columns.\n",
    "    - target_variable (str): Name of the target variable column.\n",
    "    - test_size (float): Proportion of the dataset to include in the test split.\n",
    "    - random_state (int): Random seed for reproducibility.\n",
    "\n",
    "    Returns:\n",
    "    - model (LinearRegression): Trained linear regression model.\n",
    "    - mse (float): Mean squared error of the model.\n",
    "    - coefficients (dict): Coefficients of the trained model.\n",
    "    \"\"\"\n",
    "\n",
    "    X = df[features]\n",
    "    y = df[target_variable]\n",
    "    X_train, X_test, y_train, y_test = train_test_split(X, y, test_size=test_size, random_state=random_state)\n",
    "\n",
    "    model = LinearRegression()\n",
    "    model.fit(X_train, y_train)\n",
    "    y_pred = model.predict(X_test)\n",
    "\n",
    "    df['predicted'] = model.predict(df[features])\n",
    "    df['predicted'] = df['predicted'].apply(apply_dtype)\n",
    "    \n",
    "    mse = mean_squared_error(y_test, y_pred)\n",
    "    coefficients = dict(zip(features, model.coef_))\n",
    "    intercept = model.intercept_\n",
    "    return model, mse, coefficients, intercept\n",
    "\n",
    "def model_error(df, target_variable):\n",
    "    df['error'] = df[target_variable] - df['predicted']\n",
    "    return df['error'].apply(abs)\n",
    "\n",
    "def model_head(df, features, target_variable, sort_parameter=\"team_power\", sort_ascending=False, n=5):\n",
    "    return df[features+[target_variable,\"predicted\",\"error\"]].sort_values(sort_parameter, ascending=sort_ascending).head(n=n)\n",
    "\n",
    "def model_equation(coefficients, intercept):\n",
    "    equation = \" + \".join([f\"{coef:.2e} * {feat}\" for feat, coef in coefficients.items()])\n",
    "    equation = equation + f\" + {intercept:.2e}\"\n",
    "    equation = equation.replace(\"+ -\", \"- \")\n",
    "    return equation\n",
    "\n",
    "def model_predict(**args):\n",
    "    pass\n",
    "\n",
    "def plot_predicted_vs_actual(df, target_variable, model=None, features=None):\n",
    "    \"\"\"\n",
    "    Plot the actual values and predicted values from a DataFrame.\n",
    "\n",
    "    Args:\n",
    "    - df (DataFrame): Input DataFrame containing the dataset.\n",
    "    - target_variable (str): Name of the target variable column.\n",
    "    - model (LinearRegression): Trained linear regression model.\n",
    "    - features (list): List of feature columns used in the model (optional).\n",
    "\n",
    "    Returns:\n",
    "    - None\n",
    "    \"\"\"\n",
    "\n",
    "    plt.figure(figsize=(10, 6))\n",
    "    plt.plot(df.index, df[target_variable], marker='o', linestyle='-', color=\"b\", label='Actual')\n",
    "    \n",
    "    if model and features:\n",
    "        plt.plot(df.index, df['predicted'], marker='o', linestyle='-', color=\"r\", label='Predicted')\n",
    "    plt.title('Line Plot of Predicted Values')\n",
    "    plt.xlabel('Index')\n",
    "    plt.ylabel('Value')\n",
    "    plt.legend()\n",
    "    plt.grid(True)\n",
    "    plt.show()"
   ]
  },
  {
   "cell_type": "code",
   "execution_count": 341,
   "id": "3078d66e",
   "metadata": {},
   "outputs": [],
   "source": [
    "def convert_equation_to_json(features, values, intercept):\n",
    "    # Usage: convert_equation_to_json(features, coefficients.values(), intercept)\n",
    "    equation_dict = {}\n",
    "    for feature, value in zip(features, values):\n",
    "        equation_dict[feature] = {\n",
    "            \"name\": feature,\n",
    "            \"value\": value\n",
    "        }\n",
    "    equation_dict[\"intercept\"] = {\"name\":\"intercept\", \"value\":intercept}\n",
    "    return equation_dict"
   ]
  },
  {
   "cell_type": "markdown",
   "id": "f351b4bd",
   "metadata": {},
   "source": [
    "<br>\n",
    "<h1 style=\"color:aqua\">Randomness Factor</h1>"
   ]
  },
  {
   "cell_type": "code",
   "execution_count": 303,
   "id": "e2349a21",
   "metadata": {},
   "outputs": [],
   "source": [
    "def randomness_proportional(df, target_variable):\n",
    "    target_mean = df[target_variable].mean()\n",
    "    target_std = df[target_variable].std()\n",
    "    target_min = df[target_variable].min()\n",
    "    target_max = df[target_variable].max()\n",
    "    formula = (target_min) / (target_mean) \n",
    "    print(\"Min:\",target_min, \",\", \"Max:\",target_max)\n",
    "    return formula\n",
    "\n",
    "def randomness_volume(df, target_variable):\n",
    "    target_mean = df[target_variable].mean()\n",
    "    target_std = df[target_variable].std()\n",
    "    target_min = df[target_variable].min()\n",
    "    target_max = df[target_variable].max()\n",
    "    formula = (target_mean) / (target_std)\n",
    "    print(\"Min:\",target_min, \",\", \"Max:\",target_max)\n",
    "    return formula"
   ]
  },
  {
   "cell_type": "code",
   "execution_count": 304,
   "id": "308639fa",
   "metadata": {},
   "outputs": [],
   "source": [
    "def interval_proportional(value, step=0.05):\n",
    "    lower_bound = value - step\n",
    "    upper_bound = value + step\n",
    "    numbers = np.arange(-upper_bound, upper_bound + step*3, step)\n",
    "    return numbers\n",
    "\n",
    "def interval_volume(value, step=1):\n",
    "    lower_bound = int(value - step)\n",
    "    upper_bound = int(value + step)\n",
    "    numbers = np.arange(-upper_bound, upper_bound + step*3, step)\n",
    "    return numbers"
   ]
  },
  {
   "cell_type": "code",
   "execution_count": 305,
   "id": "171e263d",
   "metadata": {},
   "outputs": [],
   "source": [
    "def probability_protector(value):\n",
    "    if value < 0:\n",
    "        return 0\n",
    "    elif value > 1:\n",
    "        return 1\n",
    "    else:\n",
    "        return value"
   ]
  },
  {
   "cell_type": "code",
   "execution_count": 306,
   "id": "9c69152b",
   "metadata": {},
   "outputs": [],
   "source": [
    "def random_choice(array):\n",
    "    return np.random.choice(array)"
   ]
  },
  {
   "cell_type": "markdown",
   "id": "f1267059",
   "metadata": {},
   "source": [
    "<br><br><br><br>\n",
    "<h1 style=\"color:red\">Total Shot Volume</h1>"
   ]
  },
  {
   "cell_type": "code",
   "execution_count": 342,
   "id": "bab13641",
   "metadata": {},
   "outputs": [],
   "source": [
    "columns_to_drop = ['team_name','team_id','opponent_name','opponent_id']\n",
    "df = df_log\n",
    "df[\"total_sh\"] =  df[\"team_sh\"] + df[\"opponent_sh\"]"
   ]
  },
  {
   "cell_type": "code",
   "execution_count": 343,
   "id": "f26415d6",
   "metadata": {},
   "outputs": [],
   "source": [
    "features = ['team_power', 'team_finishing', 'opponent_power', 'opponent_finishing', \"team_sh\", \"opponent_sh\"]\n",
    "target_variable = 'total_sh'"
   ]
  },
  {
   "cell_type": "code",
   "execution_count": 344,
   "id": "ca2e7d13",
   "metadata": {},
   "outputs": [
    {
     "name": "stdout",
     "output_type": "stream",
     "text": [
      "Mean Squared Error: 8.682910377467137e-30\n",
      "Error Mean: 0.18552631578947368\n"
     ]
    }
   ],
   "source": [
    "model, mse, coefficients, intercept = train_linear_regression(df, features, target_variable, int)\n",
    "mean_error = model_error(df, target_variable).mean()\n",
    "std_error = model_error(df, target_variable).std()\n",
    "print(\"Mean Squared Error:\", mse)\n",
    "print(\"Error Mean:\", mean_error)"
   ]
  },
  {
   "cell_type": "code",
   "execution_count": 345,
   "id": "d5792b96",
   "metadata": {},
   "outputs": [],
   "source": [
    "# plot_predicted_vs_actual(df, target_variable, model=model, features=features)"
   ]
  },
  {
   "cell_type": "code",
   "execution_count": 346,
   "id": "52cec371",
   "metadata": {},
   "outputs": [
    {
     "data": {
      "text/plain": [
       "'-1.68e-17 * team_power - 8.07e-17 * team_finishing + 1.91e-16 * opponent_power - 5.76e-16 * opponent_finishing + 1.00e+00 * team_sh + 1.00e+00 * opponent_sh + 4.26e-14'"
      ]
     },
     "execution_count": 346,
     "metadata": {},
     "output_type": "execute_result"
    }
   ],
   "source": [
    "model_equation(coefficients, intercept)"
   ]
  },
  {
   "cell_type": "code",
   "execution_count": 347,
   "id": "7ed06a8d",
   "metadata": {},
   "outputs": [
    {
     "data": {
      "text/html": [
       "<div>\n",
       "<style scoped>\n",
       "    .dataframe tbody tr th:only-of-type {\n",
       "        vertical-align: middle;\n",
       "    }\n",
       "\n",
       "    .dataframe tbody tr th {\n",
       "        vertical-align: top;\n",
       "    }\n",
       "\n",
       "    .dataframe thead th {\n",
       "        text-align: right;\n",
       "    }\n",
       "</style>\n",
       "<table border=\"1\" class=\"dataframe\">\n",
       "  <thead>\n",
       "    <tr style=\"text-align: right;\">\n",
       "      <th></th>\n",
       "      <th>team_power</th>\n",
       "      <th>team_finishing</th>\n",
       "      <th>opponent_power</th>\n",
       "      <th>opponent_finishing</th>\n",
       "      <th>team_sh</th>\n",
       "      <th>opponent_sh</th>\n",
       "      <th>team_name</th>\n",
       "      <th>team_id</th>\n",
       "      <th>opponent_name</th>\n",
       "      <th>opponent_id</th>\n",
       "      <th>total_sh</th>\n",
       "      <th>predicted</th>\n",
       "      <th>error</th>\n",
       "    </tr>\n",
       "  </thead>\n",
       "  <tbody>\n",
       "    <tr>\n",
       "      <th>296</th>\n",
       "      <td>78</td>\n",
       "      <td>74</td>\n",
       "      <td>81</td>\n",
       "      <td>75</td>\n",
       "      <td>6</td>\n",
       "      <td>3</td>\n",
       "      <td>Athletic Club</td>\n",
       "      <td>448</td>\n",
       "      <td>Sevilla</td>\n",
       "      <td>2</td>\n",
       "      <td>9</td>\n",
       "      <td>9</td>\n",
       "      <td>0</td>\n",
       "    </tr>\n",
       "    <tr>\n",
       "      <th>448</th>\n",
       "      <td>81</td>\n",
       "      <td>75</td>\n",
       "      <td>78</td>\n",
       "      <td>74</td>\n",
       "      <td>3</td>\n",
       "      <td>6</td>\n",
       "      <td>Sevilla</td>\n",
       "      <td>481</td>\n",
       "      <td>Athletic Club</td>\n",
       "      <td>5</td>\n",
       "      <td>9</td>\n",
       "      <td>9</td>\n",
       "      <td>0</td>\n",
       "    </tr>\n",
       "    <tr>\n",
       "      <th>333</th>\n",
       "      <td>74</td>\n",
       "      <td>72</td>\n",
       "      <td>76</td>\n",
       "      <td>76</td>\n",
       "      <td>8</td>\n",
       "      <td>3</td>\n",
       "      <td>Mallorca</td>\n",
       "      <td>453</td>\n",
       "      <td>Getafe</td>\n",
       "      <td>10</td>\n",
       "      <td>11</td>\n",
       "      <td>11</td>\n",
       "      <td>0</td>\n",
       "    </tr>\n",
       "    <tr>\n",
       "      <th>561</th>\n",
       "      <td>76</td>\n",
       "      <td>76</td>\n",
       "      <td>74</td>\n",
       "      <td>72</td>\n",
       "      <td>3</td>\n",
       "      <td>8</td>\n",
       "      <td>Getafe</td>\n",
       "      <td>1860</td>\n",
       "      <td>Mallorca</td>\n",
       "      <td>10</td>\n",
       "      <td>11</td>\n",
       "      <td>11</td>\n",
       "      <td>0</td>\n",
       "    </tr>\n",
       "    <tr>\n",
       "      <th>751</th>\n",
       "      <td>74</td>\n",
       "      <td>74</td>\n",
       "      <td>75</td>\n",
       "      <td>71</td>\n",
       "      <td>7</td>\n",
       "      <td>5</td>\n",
       "      <td>Elche</td>\n",
       "      <td>468</td>\n",
       "      <td>Valencia</td>\n",
       "      <td>10</td>\n",
       "      <td>12</td>\n",
       "      <td>12</td>\n",
       "      <td>0</td>\n",
       "    </tr>\n",
       "  </tbody>\n",
       "</table>\n",
       "</div>"
      ],
      "text/plain": [
       "     team_power  team_finishing  opponent_power  opponent_finishing  team_sh  \\\n",
       "296          78              74              81                  75        6   \n",
       "448          81              75              78                  74        3   \n",
       "333          74              72              76                  76        8   \n",
       "561          76              76              74                  72        3   \n",
       "751          74              74              75                  71        7   \n",
       "\n",
       "     opponent_sh      team_name  team_id  opponent_name  opponent_id  \\\n",
       "296            3  Athletic Club      448        Sevilla            2   \n",
       "448            6        Sevilla      481  Athletic Club            5   \n",
       "333            3       Mallorca      453         Getafe           10   \n",
       "561            8         Getafe     1860       Mallorca           10   \n",
       "751            5          Elche      468       Valencia           10   \n",
       "\n",
       "     total_sh  predicted  error  \n",
       "296         9          9      0  \n",
       "448         9          9      0  \n",
       "333        11         11      0  \n",
       "561        11         11      0  \n",
       "751        12         12      0  "
      ]
     },
     "execution_count": 347,
     "metadata": {},
     "output_type": "execute_result"
    }
   ],
   "source": [
    "model_head(df, features+columns_to_drop, target_variable, sort_parameter=\"predicted\", sort_ascending=True, n=5)"
   ]
  },
  {
   "cell_type": "code",
   "execution_count": 348,
   "id": "7d032a28",
   "metadata": {},
   "outputs": [
    {
     "name": "stdout",
     "output_type": "stream",
     "text": [
      "Min: 9 , Max: 47\n",
      "Result: 4.4231151718134\n",
      "Interval: [-5 -4 -3 -2 -1  0  1  2  3  4  5  6  7]\n"
     ]
    },
    {
     "data": {
      "text/plain": [
       "1"
      ]
     },
     "execution_count": 348,
     "metadata": {},
     "output_type": "execute_result"
    }
   ],
   "source": [
    "randomness_func, interval_func = randomness_volume, interval_volume\n",
    "result = randomness_func(df, target_variable)\n",
    "interval = interval_func(result, step=1)\n",
    "\n",
    "print(\"Result:\", result)\n",
    "print(\"Interval:\", interval)\n",
    "random_choice(interval)"
   ]
  },
  {
   "cell_type": "code",
   "execution_count": 508,
   "id": "929663ba",
   "metadata": {},
   "outputs": [
    {
     "data": {
      "text/html": [
       "<div>\n",
       "<style scoped>\n",
       "    .dataframe tbody tr th:only-of-type {\n",
       "        vertical-align: middle;\n",
       "    }\n",
       "\n",
       "    .dataframe tbody tr th {\n",
       "        vertical-align: top;\n",
       "    }\n",
       "\n",
       "    .dataframe thead th {\n",
       "        text-align: right;\n",
       "    }\n",
       "</style>\n",
       "<table border=\"1\" class=\"dataframe\">\n",
       "  <thead>\n",
       "    <tr style=\"text-align: right;\">\n",
       "      <th></th>\n",
       "      <th>team_power</th>\n",
       "      <th>opponent_power</th>\n",
       "      <th>team_name</th>\n",
       "      <th>team_id</th>\n",
       "      <th>opponent_name</th>\n",
       "      <th>opponent_id</th>\n",
       "      <th>team_sh_share</th>\n",
       "      <th>predicted</th>\n",
       "      <th>randomness</th>\n",
       "    </tr>\n",
       "  </thead>\n",
       "  <tbody>\n",
       "    <tr>\n",
       "      <th>3</th>\n",
       "      <td>83</td>\n",
       "      <td>81</td>\n",
       "      <td>FC Barcelona</td>\n",
       "      <td>241</td>\n",
       "      <td>Sevilla</td>\n",
       "      <td>2</td>\n",
       "      <td>0.666667</td>\n",
       "      <td>0.539295</td>\n",
       "      <td>0.472372</td>\n",
       "    </tr>\n",
       "    <tr>\n",
       "      <th>2</th>\n",
       "      <td>83</td>\n",
       "      <td>74</td>\n",
       "      <td>FC Barcelona</td>\n",
       "      <td>241</td>\n",
       "      <td>Valladolid</td>\n",
       "      <td>2</td>\n",
       "      <td>0.750000</td>\n",
       "      <td>0.612326</td>\n",
       "      <td>0.535403</td>\n",
       "    </tr>\n",
       "    <tr>\n",
       "      <th>1</th>\n",
       "      <td>83</td>\n",
       "      <td>78</td>\n",
       "      <td>FC Barcelona</td>\n",
       "      <td>241</td>\n",
       "      <td>Real Sociedad</td>\n",
       "      <td>1</td>\n",
       "      <td>0.600000</td>\n",
       "      <td>0.570594</td>\n",
       "      <td>0.573671</td>\n",
       "    </tr>\n",
       "    <tr>\n",
       "      <th>0</th>\n",
       "      <td>83</td>\n",
       "      <td>75</td>\n",
       "      <td>FC Barcelona</td>\n",
       "      <td>241</td>\n",
       "      <td>Rayo Vallecano</td>\n",
       "      <td>2</td>\n",
       "      <td>0.840000</td>\n",
       "      <td>0.601893</td>\n",
       "      <td>0.604970</td>\n",
       "    </tr>\n",
       "    <tr>\n",
       "      <th>4</th>\n",
       "      <td>83</td>\n",
       "      <td>75</td>\n",
       "      <td>FC Barcelona</td>\n",
       "      <td>241</td>\n",
       "      <td>Cádiz</td>\n",
       "      <td>10</td>\n",
       "      <td>0.727273</td>\n",
       "      <td>0.601893</td>\n",
       "      <td>0.704970</td>\n",
       "    </tr>\n",
       "  </tbody>\n",
       "</table>\n",
       "</div>"
      ],
      "text/plain": [
       "   team_power  opponent_power     team_name  team_id   opponent_name  \\\n",
       "3          83              81  FC Barcelona      241         Sevilla   \n",
       "2          83              74  FC Barcelona      241      Valladolid   \n",
       "1          83              78  FC Barcelona      241   Real Sociedad   \n",
       "0          83              75  FC Barcelona      241  Rayo Vallecano   \n",
       "4          83              75  FC Barcelona      241           Cádiz   \n",
       "\n",
       "   opponent_id  team_sh_share  predicted  randomness  \n",
       "3            2       0.666667   0.539295    0.472372  \n",
       "2            2       0.750000   0.612326    0.535403  \n",
       "1            1       0.600000   0.570594    0.573671  \n",
       "0            2       0.840000   0.601893    0.604970  \n",
       "4           10       0.727273   0.601893    0.704970  "
      ]
     },
     "execution_count": 508,
     "metadata": {},
     "output_type": "execute_result"
    }
   ],
   "source": [
    "df[\"randomness\"] = df[\"predicted\"].copy()\n",
    "df[\"randomness\"] = df[\"predicted\"].apply(lambda value: value + random_choice(interval))\n",
    "\n",
    "df[features+columns_to_drop+[target_variable,\"predicted\",\"randomness\"]].head(n=5).sort_values(\"randomness\")"
   ]
  },
  {
   "cell_type": "markdown",
   "id": "bb5c8567",
   "metadata": {},
   "source": [
    "<br><br><br><br>\n",
    "<h1 style=\"color:red\">Shot Share</h1>"
   ]
  },
  {
   "cell_type": "code",
   "execution_count": 399,
   "id": "9eea271d",
   "metadata": {},
   "outputs": [],
   "source": [
    "features = ['team_power', 'opponent_power']\n",
    "target_variable = 'team_sh_share'"
   ]
  },
  {
   "cell_type": "code",
   "execution_count": 400,
   "id": "1f2b72f8",
   "metadata": {},
   "outputs": [
    {
     "name": "stdout",
     "output_type": "stream",
     "text": [
      "Mean Squared Error: 0.023256066852908472\n",
      "Error Mean: 0.12653189274319573\n"
     ]
    }
   ],
   "source": [
    "model, mse, coefficients, intercept = train_linear_regression(df, features, target_variable, float)\n",
    "mean_error = model_error(df, target_variable).mean()\n",
    "std_error = model_error(df, target_variable).std()\n",
    "print(\"Mean Squared Error:\", mse)\n",
    "print(\"Error Mean:\", mean_error)"
   ]
  },
  {
   "cell_type": "code",
   "execution_count": 401,
   "id": "229649fc",
   "metadata": {},
   "outputs": [
    {
     "data": {
      "text/plain": [
       "'1.34e-02 * team_power - 1.04e-02 * opponent_power + 2.72e-01'"
      ]
     },
     "execution_count": 401,
     "metadata": {},
     "output_type": "execute_result"
    }
   ],
   "source": [
    "model_equation(coefficients, intercept)"
   ]
  },
  {
   "cell_type": "code",
   "execution_count": 402,
   "id": "dedc81f0",
   "metadata": {},
   "outputs": [],
   "source": [
    "# plot_predicted_vs_actual(df, target_variable, model=model, features=features)"
   ]
  },
  {
   "cell_type": "code",
   "execution_count": 403,
   "id": "6b05fe89",
   "metadata": {},
   "outputs": [
    {
     "data": {
      "text/html": [
       "<div>\n",
       "<style scoped>\n",
       "    .dataframe tbody tr th:only-of-type {\n",
       "        vertical-align: middle;\n",
       "    }\n",
       "\n",
       "    .dataframe tbody tr th {\n",
       "        vertical-align: top;\n",
       "    }\n",
       "\n",
       "    .dataframe thead th {\n",
       "        text-align: right;\n",
       "    }\n",
       "</style>\n",
       "<table border=\"1\" class=\"dataframe\">\n",
       "  <thead>\n",
       "    <tr style=\"text-align: right;\">\n",
       "      <th></th>\n",
       "      <th>team_power</th>\n",
       "      <th>opponent_power</th>\n",
       "      <th>team_name</th>\n",
       "      <th>team_id</th>\n",
       "      <th>opponent_name</th>\n",
       "      <th>opponent_id</th>\n",
       "      <th>team_sh_share</th>\n",
       "      <th>predicted</th>\n",
       "      <th>error</th>\n",
       "    </tr>\n",
       "  </thead>\n",
       "  <tbody>\n",
       "    <tr>\n",
       "      <th>49</th>\n",
       "      <td>84</td>\n",
       "      <td>73</td>\n",
       "      <td>Real Madrid</td>\n",
       "      <td>243</td>\n",
       "      <td>Girona</td>\n",
       "      <td>1808</td>\n",
       "      <td>0.730769</td>\n",
       "      <td>0.636166</td>\n",
       "      <td>0.094603</td>\n",
       "    </tr>\n",
       "    <tr>\n",
       "      <th>38</th>\n",
       "      <td>84</td>\n",
       "      <td>73</td>\n",
       "      <td>Real Madrid</td>\n",
       "      <td>243</td>\n",
       "      <td>Almería</td>\n",
       "      <td>110</td>\n",
       "      <td>0.743590</td>\n",
       "      <td>0.636166</td>\n",
       "      <td>0.107424</td>\n",
       "    </tr>\n",
       "    <tr>\n",
       "      <th>68</th>\n",
       "      <td>84</td>\n",
       "      <td>73</td>\n",
       "      <td>Real Madrid</td>\n",
       "      <td>243</td>\n",
       "      <td>Girona</td>\n",
       "      <td>1808</td>\n",
       "      <td>0.580645</td>\n",
       "      <td>0.636166</td>\n",
       "      <td>-0.055521</td>\n",
       "    </tr>\n",
       "    <tr>\n",
       "      <th>69</th>\n",
       "      <td>84</td>\n",
       "      <td>73</td>\n",
       "      <td>Real Madrid</td>\n",
       "      <td>243</td>\n",
       "      <td>Almería</td>\n",
       "      <td>110</td>\n",
       "      <td>0.608696</td>\n",
       "      <td>0.636166</td>\n",
       "      <td>-0.027470</td>\n",
       "    </tr>\n",
       "    <tr>\n",
       "      <th>57</th>\n",
       "      <td>84</td>\n",
       "      <td>74</td>\n",
       "      <td>Real Madrid</td>\n",
       "      <td>243</td>\n",
       "      <td>Mallorca</td>\n",
       "      <td>10</td>\n",
       "      <td>0.826087</td>\n",
       "      <td>0.625733</td>\n",
       "      <td>0.200354</td>\n",
       "    </tr>\n",
       "  </tbody>\n",
       "</table>\n",
       "</div>"
      ],
      "text/plain": [
       "    team_power  opponent_power    team_name  team_id opponent_name  \\\n",
       "49          84              73  Real Madrid      243        Girona   \n",
       "38          84              73  Real Madrid      243       Almería   \n",
       "68          84              73  Real Madrid      243        Girona   \n",
       "69          84              73  Real Madrid      243       Almería   \n",
       "57          84              74  Real Madrid      243      Mallorca   \n",
       "\n",
       "    opponent_id  team_sh_share  predicted     error  \n",
       "49         1808       0.730769   0.636166  0.094603  \n",
       "38          110       0.743590   0.636166  0.107424  \n",
       "68         1808       0.580645   0.636166 -0.055521  \n",
       "69          110       0.608696   0.636166 -0.027470  \n",
       "57           10       0.826087   0.625733  0.200354  "
      ]
     },
     "execution_count": 403,
     "metadata": {},
     "output_type": "execute_result"
    }
   ],
   "source": [
    "model_head(df, features+columns_to_drop, target_variable, sort_parameter=\"predicted\", sort_ascending=False, n=5)"
   ]
  },
  {
   "cell_type": "code",
   "execution_count": 404,
   "id": "12baba66",
   "metadata": {},
   "outputs": [
    {
     "name": "stdout",
     "output_type": "stream",
     "text": [
      "Min: 0.0384615384615384 , Max: 0.9615384615384616\n",
      "Result: 0.0769230769230768\n",
      "Interval: [-0.08692308 -0.07692308 -0.06692308 -0.05692308 -0.04692308 -0.03692308\n",
      " -0.02692308 -0.01692308 -0.00692308  0.00307692  0.01307692  0.02307692\n",
      "  0.03307692  0.04307692  0.05307692  0.06307692  0.07307692  0.08307692\n",
      "  0.09307692  0.10307692  0.11307692]\n"
     ]
    },
    {
     "data": {
      "text/plain": [
       "0.09307692307692311"
      ]
     },
     "execution_count": 404,
     "metadata": {},
     "output_type": "execute_result"
    }
   ],
   "source": [
    "randomness_func, interval_func = randomness_proportional, interval_proportional\n",
    "result = randomness_func(df, target_variable)\n",
    "interval = interval_func(result, step=0.01)\n",
    "\n",
    "print(\"Result:\", result)\n",
    "print(\"Interval:\", interval)\n",
    "random_choice(interval)"
   ]
  },
  {
   "cell_type": "code",
   "execution_count": 405,
   "id": "ff9754bb",
   "metadata": {},
   "outputs": [
    {
     "data": {
      "text/html": [
       "<div>\n",
       "<style scoped>\n",
       "    .dataframe tbody tr th:only-of-type {\n",
       "        vertical-align: middle;\n",
       "    }\n",
       "\n",
       "    .dataframe tbody tr th {\n",
       "        vertical-align: top;\n",
       "    }\n",
       "\n",
       "    .dataframe thead th {\n",
       "        text-align: right;\n",
       "    }\n",
       "</style>\n",
       "<table border=\"1\" class=\"dataframe\">\n",
       "  <thead>\n",
       "    <tr style=\"text-align: right;\">\n",
       "      <th></th>\n",
       "      <th>team_power</th>\n",
       "      <th>opponent_power</th>\n",
       "      <th>team_name</th>\n",
       "      <th>team_id</th>\n",
       "      <th>opponent_name</th>\n",
       "      <th>opponent_id</th>\n",
       "      <th>team_sh_share</th>\n",
       "      <th>predicted</th>\n",
       "      <th>randomness</th>\n",
       "    </tr>\n",
       "  </thead>\n",
       "  <tbody>\n",
       "    <tr>\n",
       "      <th>3</th>\n",
       "      <td>83</td>\n",
       "      <td>81</td>\n",
       "      <td>FC Barcelona</td>\n",
       "      <td>241</td>\n",
       "      <td>Sevilla</td>\n",
       "      <td>2</td>\n",
       "      <td>0.666667</td>\n",
       "      <td>0.539295</td>\n",
       "      <td>0.472372</td>\n",
       "    </tr>\n",
       "    <tr>\n",
       "      <th>2</th>\n",
       "      <td>83</td>\n",
       "      <td>74</td>\n",
       "      <td>FC Barcelona</td>\n",
       "      <td>241</td>\n",
       "      <td>Valladolid</td>\n",
       "      <td>2</td>\n",
       "      <td>0.750000</td>\n",
       "      <td>0.612326</td>\n",
       "      <td>0.595403</td>\n",
       "    </tr>\n",
       "    <tr>\n",
       "      <th>4</th>\n",
       "      <td>83</td>\n",
       "      <td>75</td>\n",
       "      <td>FC Barcelona</td>\n",
       "      <td>241</td>\n",
       "      <td>Cádiz</td>\n",
       "      <td>10</td>\n",
       "      <td>0.727273</td>\n",
       "      <td>0.601893</td>\n",
       "      <td>0.624970</td>\n",
       "    </tr>\n",
       "    <tr>\n",
       "      <th>1</th>\n",
       "      <td>83</td>\n",
       "      <td>78</td>\n",
       "      <td>FC Barcelona</td>\n",
       "      <td>241</td>\n",
       "      <td>Real Sociedad</td>\n",
       "      <td>1</td>\n",
       "      <td>0.600000</td>\n",
       "      <td>0.570594</td>\n",
       "      <td>0.663671</td>\n",
       "    </tr>\n",
       "    <tr>\n",
       "      <th>0</th>\n",
       "      <td>83</td>\n",
       "      <td>75</td>\n",
       "      <td>FC Barcelona</td>\n",
       "      <td>241</td>\n",
       "      <td>Rayo Vallecano</td>\n",
       "      <td>2</td>\n",
       "      <td>0.840000</td>\n",
       "      <td>0.601893</td>\n",
       "      <td>0.674970</td>\n",
       "    </tr>\n",
       "  </tbody>\n",
       "</table>\n",
       "</div>"
      ],
      "text/plain": [
       "   team_power  opponent_power     team_name  team_id   opponent_name  \\\n",
       "3          83              81  FC Barcelona      241         Sevilla   \n",
       "2          83              74  FC Barcelona      241      Valladolid   \n",
       "4          83              75  FC Barcelona      241           Cádiz   \n",
       "1          83              78  FC Barcelona      241   Real Sociedad   \n",
       "0          83              75  FC Barcelona      241  Rayo Vallecano   \n",
       "\n",
       "   opponent_id  team_sh_share  predicted  randomness  \n",
       "3            2       0.666667   0.539295    0.472372  \n",
       "2            2       0.750000   0.612326    0.595403  \n",
       "4           10       0.727273   0.601893    0.624970  \n",
       "1            1       0.600000   0.570594    0.663671  \n",
       "0            2       0.840000   0.601893    0.674970  "
      ]
     },
     "execution_count": 405,
     "metadata": {},
     "output_type": "execute_result"
    }
   ],
   "source": [
    "df[\"randomness\"] = df[\"predicted\"].copy()\n",
    "df[\"randomness\"] = df[\"predicted\"].apply(lambda value: value + random_choice(interval))\n",
    "\n",
    "df[features+columns_to_drop+[target_variable,\"predicted\",\"randomness\"]].head(n=5).sort_values(\"randomness\")"
   ]
  },
  {
   "cell_type": "code",
   "execution_count": 507,
   "id": "154a2020",
   "metadata": {},
   "outputs": [
    {
     "data": {
      "text/plain": [
       "0.6950769230769233"
      ]
     },
     "execution_count": 507,
     "metadata": {},
     "output_type": "execute_result"
    }
   ],
   "source": [
    "team_power = 88\n",
    "opponent_power = 73\n",
    "\n",
    "y = 1.34e-02 * team_power - 1.04e-02 * opponent_power + 2.72e-01\n",
    "probability_protector(y+random_choice(interval)) # MODEL IS DONE!"
   ]
  },
  {
   "cell_type": "markdown",
   "id": "b1a3bcc1",
   "metadata": {},
   "source": [
    "<br><br><br><br>\n",
    "<h1 style=\"color:red\">Shot on Target</h1>"
   ]
  },
  {
   "cell_type": "code",
   "execution_count": 372,
   "id": "ff2cb5dc",
   "metadata": {},
   "outputs": [],
   "source": [
    "features = ['team_power', 'team_finishing', 'opponent_power', 'team_sh']\n",
    "target_variable = 'team_sot'"
   ]
  },
  {
   "cell_type": "code",
   "execution_count": 373,
   "id": "04ab8d8e",
   "metadata": {},
   "outputs": [
    {
     "name": "stdout",
     "output_type": "stream",
     "text": [
      "Mean Squared Error: 3.0006040975513724\n",
      "Error Mean: 1.3644736842105263\n"
     ]
    }
   ],
   "source": [
    "model, mse, coefficients, intercept = train_linear_regression(df, features, target_variable, int)\n",
    "mean_error = model_error(df, target_variable).mean()\n",
    "std_error = model_error(df, target_variable).std()\n",
    "print(\"Mean Squared Error:\", mse)\n",
    "print(\"Error Mean:\", mean_error)"
   ]
  },
  {
   "cell_type": "code",
   "execution_count": 374,
   "id": "ff4a3ef8",
   "metadata": {},
   "outputs": [
    {
     "data": {
      "text/plain": [
       "'-3.93e-03 * team_power + 1.99e-02 * team_finishing - 4.92e-02 * opponent_power + 3.02e-01 * team_sh + 2.97e+00'"
      ]
     },
     "execution_count": 374,
     "metadata": {},
     "output_type": "execute_result"
    }
   ],
   "source": [
    "model_equation(coefficients, intercept)"
   ]
  },
  {
   "cell_type": "code",
   "execution_count": 375,
   "id": "0d56a2e6",
   "metadata": {},
   "outputs": [],
   "source": [
    "# plot_predicted_vs_actual(df, target_variable, model=model, features=features)"
   ]
  },
  {
   "cell_type": "code",
   "execution_count": 376,
   "id": "4a7c4fb5",
   "metadata": {},
   "outputs": [
    {
     "data": {
      "text/html": [
       "<div>\n",
       "<style scoped>\n",
       "    .dataframe tbody tr th:only-of-type {\n",
       "        vertical-align: middle;\n",
       "    }\n",
       "\n",
       "    .dataframe tbody tr th {\n",
       "        vertical-align: top;\n",
       "    }\n",
       "\n",
       "    .dataframe thead th {\n",
       "        text-align: right;\n",
       "    }\n",
       "</style>\n",
       "<table border=\"1\" class=\"dataframe\">\n",
       "  <thead>\n",
       "    <tr style=\"text-align: right;\">\n",
       "      <th></th>\n",
       "      <th>team_power</th>\n",
       "      <th>team_finishing</th>\n",
       "      <th>opponent_power</th>\n",
       "      <th>team_sh</th>\n",
       "      <th>team_name</th>\n",
       "      <th>team_id</th>\n",
       "      <th>opponent_name</th>\n",
       "      <th>opponent_id</th>\n",
       "      <th>team_sot</th>\n",
       "      <th>predicted</th>\n",
       "      <th>error</th>\n",
       "    </tr>\n",
       "  </thead>\n",
       "  <tbody>\n",
       "    <tr>\n",
       "      <th>66</th>\n",
       "      <td>84</td>\n",
       "      <td>80</td>\n",
       "      <td>75</td>\n",
       "      <td>35</td>\n",
       "      <td>Real Madrid</td>\n",
       "      <td>243</td>\n",
       "      <td>Cádiz</td>\n",
       "      <td>10</td>\n",
       "      <td>11</td>\n",
       "      <td>11</td>\n",
       "      <td>0</td>\n",
       "    </tr>\n",
       "    <tr>\n",
       "      <th>182</th>\n",
       "      <td>80</td>\n",
       "      <td>82</td>\n",
       "      <td>75</td>\n",
       "      <td>30</td>\n",
       "      <td>Villarreal</td>\n",
       "      <td>483</td>\n",
       "      <td>Espanyol</td>\n",
       "      <td>1</td>\n",
       "      <td>12</td>\n",
       "      <td>9</td>\n",
       "      <td>3</td>\n",
       "    </tr>\n",
       "    <tr>\n",
       "      <th>64</th>\n",
       "      <td>84</td>\n",
       "      <td>80</td>\n",
       "      <td>74</td>\n",
       "      <td>29</td>\n",
       "      <td>Real Madrid</td>\n",
       "      <td>243</td>\n",
       "      <td>Valladolid</td>\n",
       "      <td>2</td>\n",
       "      <td>17</td>\n",
       "      <td>9</td>\n",
       "      <td>8</td>\n",
       "    </tr>\n",
       "    <tr>\n",
       "      <th>38</th>\n",
       "      <td>84</td>\n",
       "      <td>80</td>\n",
       "      <td>73</td>\n",
       "      <td>29</td>\n",
       "      <td>Real Madrid</td>\n",
       "      <td>243</td>\n",
       "      <td>Almería</td>\n",
       "      <td>110</td>\n",
       "      <td>15</td>\n",
       "      <td>9</td>\n",
       "      <td>6</td>\n",
       "    </tr>\n",
       "    <tr>\n",
       "      <th>679</th>\n",
       "      <td>74</td>\n",
       "      <td>71</td>\n",
       "      <td>81</td>\n",
       "      <td>28</td>\n",
       "      <td>Real Valladolid</td>\n",
       "      <td>462</td>\n",
       "      <td>Sevilla</td>\n",
       "      <td>2</td>\n",
       "      <td>4</td>\n",
       "      <td>8</td>\n",
       "      <td>-4</td>\n",
       "    </tr>\n",
       "  </tbody>\n",
       "</table>\n",
       "</div>"
      ],
      "text/plain": [
       "     team_power  team_finishing  opponent_power  team_sh        team_name  \\\n",
       "66           84              80              75       35      Real Madrid   \n",
       "182          80              82              75       30       Villarreal   \n",
       "64           84              80              74       29      Real Madrid   \n",
       "38           84              80              73       29      Real Madrid   \n",
       "679          74              71              81       28  Real Valladolid   \n",
       "\n",
       "     team_id opponent_name  opponent_id  team_sot  predicted  error  \n",
       "66       243         Cádiz           10        11         11      0  \n",
       "182      483      Espanyol            1        12          9      3  \n",
       "64       243    Valladolid            2        17          9      8  \n",
       "38       243       Almería          110        15          9      6  \n",
       "679      462       Sevilla            2         4          8     -4  "
      ]
     },
     "execution_count": 376,
     "metadata": {},
     "output_type": "execute_result"
    }
   ],
   "source": [
    "model_head(df, features+columns_to_drop, target_variable, sort_parameter=\"predicted\", sort_ascending=False, n=5)"
   ]
  },
  {
   "cell_type": "code",
   "execution_count": 377,
   "id": "7fba3cce",
   "metadata": {},
   "outputs": [
    {
     "name": "stdout",
     "output_type": "stream",
     "text": [
      "Min: 0 , Max: 17\n",
      "Result: 1.7009399024455403\n",
      "Interval: [-2 -1  0  1  2  3  4]\n"
     ]
    },
    {
     "data": {
      "text/plain": [
       "4"
      ]
     },
     "execution_count": 377,
     "metadata": {},
     "output_type": "execute_result"
    }
   ],
   "source": [
    "randomness_func, interval_func = randomness_volume, interval_volume\n",
    "result = randomness_func(df, target_variable)\n",
    "interval = interval_func(result, step=1)\n",
    "\n",
    "print(\"Result:\", result)\n",
    "print(\"Interval:\", interval)\n",
    "random_choice(interval)"
   ]
  },
  {
   "cell_type": "code",
   "execution_count": 378,
   "id": "950f2a8a",
   "metadata": {},
   "outputs": [
    {
     "data": {
      "text/html": [
       "<div>\n",
       "<style scoped>\n",
       "    .dataframe tbody tr th:only-of-type {\n",
       "        vertical-align: middle;\n",
       "    }\n",
       "\n",
       "    .dataframe tbody tr th {\n",
       "        vertical-align: top;\n",
       "    }\n",
       "\n",
       "    .dataframe thead th {\n",
       "        text-align: right;\n",
       "    }\n",
       "</style>\n",
       "<table border=\"1\" class=\"dataframe\">\n",
       "  <thead>\n",
       "    <tr style=\"text-align: right;\">\n",
       "      <th></th>\n",
       "      <th>team_power</th>\n",
       "      <th>team_finishing</th>\n",
       "      <th>opponent_power</th>\n",
       "      <th>team_sh</th>\n",
       "      <th>team_name</th>\n",
       "      <th>team_id</th>\n",
       "      <th>opponent_name</th>\n",
       "      <th>opponent_id</th>\n",
       "      <th>team_sot</th>\n",
       "      <th>predicted</th>\n",
       "      <th>randomness</th>\n",
       "    </tr>\n",
       "  </thead>\n",
       "  <tbody>\n",
       "    <tr>\n",
       "      <th>1</th>\n",
       "      <td>83</td>\n",
       "      <td>74</td>\n",
       "      <td>78</td>\n",
       "      <td>15</td>\n",
       "      <td>FC Barcelona</td>\n",
       "      <td>241</td>\n",
       "      <td>Real Sociedad</td>\n",
       "      <td>1</td>\n",
       "      <td>7</td>\n",
       "      <td>4</td>\n",
       "      <td>3</td>\n",
       "    </tr>\n",
       "    <tr>\n",
       "      <th>0</th>\n",
       "      <td>83</td>\n",
       "      <td>74</td>\n",
       "      <td>75</td>\n",
       "      <td>21</td>\n",
       "      <td>FC Barcelona</td>\n",
       "      <td>241</td>\n",
       "      <td>Rayo Vallecano</td>\n",
       "      <td>2</td>\n",
       "      <td>5</td>\n",
       "      <td>6</td>\n",
       "      <td>4</td>\n",
       "    </tr>\n",
       "    <tr>\n",
       "      <th>3</th>\n",
       "      <td>83</td>\n",
       "      <td>74</td>\n",
       "      <td>81</td>\n",
       "      <td>18</td>\n",
       "      <td>FC Barcelona</td>\n",
       "      <td>241</td>\n",
       "      <td>Sevilla</td>\n",
       "      <td>2</td>\n",
       "      <td>5</td>\n",
       "      <td>5</td>\n",
       "      <td>6</td>\n",
       "    </tr>\n",
       "    <tr>\n",
       "      <th>4</th>\n",
       "      <td>83</td>\n",
       "      <td>74</td>\n",
       "      <td>75</td>\n",
       "      <td>16</td>\n",
       "      <td>FC Barcelona</td>\n",
       "      <td>241</td>\n",
       "      <td>Cádiz</td>\n",
       "      <td>10</td>\n",
       "      <td>8</td>\n",
       "      <td>5</td>\n",
       "      <td>7</td>\n",
       "    </tr>\n",
       "    <tr>\n",
       "      <th>2</th>\n",
       "      <td>83</td>\n",
       "      <td>74</td>\n",
       "      <td>74</td>\n",
       "      <td>24</td>\n",
       "      <td>FC Barcelona</td>\n",
       "      <td>241</td>\n",
       "      <td>Valladolid</td>\n",
       "      <td>2</td>\n",
       "      <td>9</td>\n",
       "      <td>7</td>\n",
       "      <td>9</td>\n",
       "    </tr>\n",
       "  </tbody>\n",
       "</table>\n",
       "</div>"
      ],
      "text/plain": [
       "   team_power  team_finishing  opponent_power  team_sh     team_name  team_id  \\\n",
       "1          83              74              78       15  FC Barcelona      241   \n",
       "0          83              74              75       21  FC Barcelona      241   \n",
       "3          83              74              81       18  FC Barcelona      241   \n",
       "4          83              74              75       16  FC Barcelona      241   \n",
       "2          83              74              74       24  FC Barcelona      241   \n",
       "\n",
       "    opponent_name  opponent_id  team_sot  predicted  randomness  \n",
       "1   Real Sociedad            1         7          4           3  \n",
       "0  Rayo Vallecano            2         5          6           4  \n",
       "3         Sevilla            2         5          5           6  \n",
       "4           Cádiz           10         8          5           7  \n",
       "2      Valladolid            2         9          7           9  "
      ]
     },
     "execution_count": 378,
     "metadata": {},
     "output_type": "execute_result"
    }
   ],
   "source": [
    "df[\"randomness\"] = df[\"predicted\"].copy()\n",
    "df[\"randomness\"] = df[\"predicted\"].apply(lambda value: value + random_choice(interval))\n",
    "\n",
    "df[features+columns_to_drop+[target_variable,\"predicted\",\"randomness\"]].head(n=5).sort_values(\"randomness\")"
   ]
  },
  {
   "cell_type": "markdown",
   "id": "b640dc7c",
   "metadata": {},
   "source": [
    "<br><br><br><br>\n",
    "<h1 style=\"color:purple\">Shot Models Test</h1>"
   ]
  },
  {
   "cell_type": "code",
   "execution_count": null,
   "id": "483d1e70",
   "metadata": {},
   "outputs": [],
   "source": []
  },
  {
   "cell_type": "markdown",
   "id": "a171c051",
   "metadata": {},
   "source": [
    "<br><br><br><br>\n",
    "<h1 style=\"color:black\">Lineup Test</h1>"
   ]
  },
  {
   "cell_type": "code",
   "execution_count": 364,
   "id": "37f570a7",
   "metadata": {},
   "outputs": [
    {
     "data": {
      "text/html": [
       "<div>\n",
       "<style scoped>\n",
       "    .dataframe tbody tr th:only-of-type {\n",
       "        vertical-align: middle;\n",
       "    }\n",
       "\n",
       "    .dataframe tbody tr th {\n",
       "        vertical-align: top;\n",
       "    }\n",
       "\n",
       "    .dataframe thead th {\n",
       "        text-align: right;\n",
       "    }\n",
       "</style>\n",
       "<table border=\"1\" class=\"dataframe\">\n",
       "  <thead>\n",
       "    <tr style=\"text-align: right;\">\n",
       "      <th></th>\n",
       "      <th>league_id</th>\n",
       "      <th>club_team_id</th>\n",
       "      <th>league_name</th>\n",
       "      <th>club_name</th>\n",
       "      <th>power</th>\n",
       "      <th>finishing</th>\n",
       "    </tr>\n",
       "  </thead>\n",
       "  <tbody>\n",
       "    <tr>\n",
       "      <th>0</th>\n",
       "      <td>16</td>\n",
       "      <td>73</td>\n",
       "      <td>Ligue 1</td>\n",
       "      <td>Paris Saint Germain</td>\n",
       "      <td>85</td>\n",
       "      <td>79</td>\n",
       "    </tr>\n",
       "  </tbody>\n",
       "</table>\n",
       "</div>"
      ],
      "text/plain": [
       "   league_id  club_team_id league_name            club_name  power  finishing\n",
       "0         16            73     Ligue 1  Paris Saint Germain     85         79"
      ]
     },
     "execution_count": 364,
     "metadata": {},
     "output_type": "execute_result"
    }
   ],
   "source": [
    "lineup_test_ids = [230621, 235212, 155862, 207865, 252145, 199556, 234153, 230767, 231747, 158023, 190871]\n",
    "test_team_df = []\n",
    "for player_id in lineup_test_ids:\n",
    "    player_df = players_df[players_df['player_id'] == player_id]\n",
    "    test_team_df.append(player_df)\n",
    "result_df = pd.concat(test_team_df, ignore_index=True)\n",
    "TFR(result_df)"
   ]
  },
  {
   "cell_type": "code",
   "execution_count": null,
   "id": "656cf4ea",
   "metadata": {},
   "outputs": [],
   "source": []
  },
  {
   "cell_type": "code",
   "execution_count": null,
   "id": "24336b37",
   "metadata": {},
   "outputs": [],
   "source": []
  },
  {
   "cell_type": "code",
   "execution_count": null,
   "id": "5eb7d8c7",
   "metadata": {},
   "outputs": [],
   "source": []
  },
  {
   "cell_type": "code",
   "execution_count": null,
   "id": "988f451b",
   "metadata": {},
   "outputs": [],
   "source": []
  }
 ],
 "metadata": {
  "kernelspec": {
   "display_name": "Python 3 (ipykernel)",
   "language": "python",
   "name": "python3"
  },
  "language_info": {
   "codemirror_mode": {
    "name": "ipython",
    "version": 3
   },
   "file_extension": ".py",
   "mimetype": "text/x-python",
   "name": "python",
   "nbconvert_exporter": "python",
   "pygments_lexer": "ipython3",
   "version": "3.10.9"
  }
 },
 "nbformat": 4,
 "nbformat_minor": 5
}
