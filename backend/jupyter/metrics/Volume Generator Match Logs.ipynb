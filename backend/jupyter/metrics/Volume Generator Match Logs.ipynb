{
 "cells": [
  {
   "cell_type": "code",
   "execution_count": 1,
   "id": "56c74ca8",
   "metadata": {},
   "outputs": [],
   "source": [
    "import pandas as pd\n",
    "import numpy as np\n",
    "import seaborn as sns\n",
    "import matplotlib.pyplot as plt\n",
    "import re\n",
    "import time\n",
    "import requests\n",
    "from bs4 import BeautifulSoup\n",
    "import lxml\n",
    "import json\n",
    "from urllib.parse import quote\n",
    "\n",
    "from futsim_funcs import TPR, TFR, TPSR, TGKR, TDR"
   ]
  },
  {
   "cell_type": "code",
   "execution_count": 2,
   "id": "f8913be1",
   "metadata": {},
   "outputs": [],
   "source": [
    "import warnings\n",
    "warnings.filterwarnings(\"ignore\", message=\"The default value of numeric_only in DataFrame.mean is deprecated.\", category=FutureWarning)"
   ]
  },
  {
   "cell_type": "code",
   "execution_count": 3,
   "id": "3298df77",
   "metadata": {},
   "outputs": [],
   "source": [
    "players_df = pd.read_csv(\"../fifa24_db/pdb_23.csv\")"
   ]
  },
  {
   "cell_type": "code",
   "execution_count": 4,
   "id": "a2eb10ca",
   "metadata": {},
   "outputs": [],
   "source": [
    "tpr_data = TPR(players_df) # Overall\n",
    "tfr_data = TFR(players_df) # Shooting\n",
    "tgkr_data = TGKR(players_df) # Goalkeeping\n",
    "tdr_data = TDR(players_df) # Defense"
   ]
  },
  {
   "cell_type": "code",
   "execution_count": 5,
   "id": "b526803d",
   "metadata": {},
   "outputs": [
    {
     "data": {
      "text/html": [
       "<div>\n",
       "<style scoped>\n",
       "    .dataframe tbody tr th:only-of-type {\n",
       "        vertical-align: middle;\n",
       "    }\n",
       "\n",
       "    .dataframe tbody tr th {\n",
       "        vertical-align: top;\n",
       "    }\n",
       "\n",
       "    .dataframe thead th {\n",
       "        text-align: right;\n",
       "    }\n",
       "</style>\n",
       "<table border=\"1\" class=\"dataframe\">\n",
       "  <thead>\n",
       "    <tr style=\"text-align: right;\">\n",
       "      <th></th>\n",
       "      <th>league_id</th>\n",
       "      <th>club_team_id</th>\n",
       "      <th>league_name</th>\n",
       "      <th>club_name</th>\n",
       "      <th>power</th>\n",
       "      <th>mean_goalkeeping_diving</th>\n",
       "      <th>mean_goalkeeping_handling</th>\n",
       "      <th>mean_goalkeeping_kicking</th>\n",
       "      <th>mean_goalkeeping_positioning</th>\n",
       "      <th>mean_goalkeeping_reflexes</th>\n",
       "      <th>...</th>\n",
       "      <th>mean_power_long_shots</th>\n",
       "      <th>mean_mentality_aggression</th>\n",
       "      <th>mean_mentality_interceptions</th>\n",
       "      <th>mean_mentality_positioning</th>\n",
       "      <th>mean_mentality_vision</th>\n",
       "      <th>mean_mentality_penalties</th>\n",
       "      <th>mean_mentality_composure</th>\n",
       "      <th>mean_defending_marking_awareness</th>\n",
       "      <th>mean_defending_standing_tackle</th>\n",
       "      <th>mean_defending_sliding_tackle</th>\n",
       "    </tr>\n",
       "  </thead>\n",
       "  <tbody>\n",
       "    <tr>\n",
       "      <th>84</th>\n",
       "      <td>13</td>\n",
       "      <td>10</td>\n",
       "      <td>Premier League</td>\n",
       "      <td>Manchester City</td>\n",
       "      <td>85</td>\n",
       "      <td>81.0</td>\n",
       "      <td>78.0</td>\n",
       "      <td>89.0</td>\n",
       "      <td>84.0</td>\n",
       "      <td>86.0</td>\n",
       "      <td>...</td>\n",
       "      <td>69</td>\n",
       "      <td>76</td>\n",
       "      <td>68</td>\n",
       "      <td>71</td>\n",
       "      <td>77</td>\n",
       "      <td>61</td>\n",
       "      <td>83</td>\n",
       "      <td>70</td>\n",
       "      <td>71</td>\n",
       "      <td>63</td>\n",
       "    </tr>\n",
       "    <tr>\n",
       "      <th>109</th>\n",
       "      <td>53</td>\n",
       "      <td>243</td>\n",
       "      <td>La Liga</td>\n",
       "      <td>Real Madrid</td>\n",
       "      <td>84</td>\n",
       "      <td>84.0</td>\n",
       "      <td>89.0</td>\n",
       "      <td>75.0</td>\n",
       "      <td>89.0</td>\n",
       "      <td>90.0</td>\n",
       "      <td>...</td>\n",
       "      <td>69</td>\n",
       "      <td>71</td>\n",
       "      <td>67</td>\n",
       "      <td>73</td>\n",
       "      <td>76</td>\n",
       "      <td>63</td>\n",
       "      <td>81</td>\n",
       "      <td>66</td>\n",
       "      <td>66</td>\n",
       "      <td>62</td>\n",
       "    </tr>\n",
       "    <tr>\n",
       "      <th>81</th>\n",
       "      <td>13</td>\n",
       "      <td>9</td>\n",
       "      <td>Premier League</td>\n",
       "      <td>Liverpool</td>\n",
       "      <td>84</td>\n",
       "      <td>86.0</td>\n",
       "      <td>85.0</td>\n",
       "      <td>85.0</td>\n",
       "      <td>90.0</td>\n",
       "      <td>89.0</td>\n",
       "      <td>...</td>\n",
       "      <td>66</td>\n",
       "      <td>78</td>\n",
       "      <td>71</td>\n",
       "      <td>70</td>\n",
       "      <td>75</td>\n",
       "      <td>64</td>\n",
       "      <td>83</td>\n",
       "      <td>68</td>\n",
       "      <td>72</td>\n",
       "      <td>66</td>\n",
       "    </tr>\n",
       "    <tr>\n",
       "      <th>30</th>\n",
       "      <td>13</td>\n",
       "      <td>5</td>\n",
       "      <td>Premier League</td>\n",
       "      <td>Chelsea</td>\n",
       "      <td>84</td>\n",
       "      <td>81.0</td>\n",
       "      <td>80.0</td>\n",
       "      <td>83.0</td>\n",
       "      <td>81.0</td>\n",
       "      <td>85.0</td>\n",
       "      <td>...</td>\n",
       "      <td>65</td>\n",
       "      <td>71</td>\n",
       "      <td>67</td>\n",
       "      <td>73</td>\n",
       "      <td>77</td>\n",
       "      <td>62</td>\n",
       "      <td>81</td>\n",
       "      <td>66</td>\n",
       "      <td>69</td>\n",
       "      <td>65</td>\n",
       "    </tr>\n",
       "    <tr>\n",
       "      <th>43</th>\n",
       "      <td>53</td>\n",
       "      <td>241</td>\n",
       "      <td>La Liga</td>\n",
       "      <td>FC Barcelona</td>\n",
       "      <td>83</td>\n",
       "      <td>86.0</td>\n",
       "      <td>85.0</td>\n",
       "      <td>87.0</td>\n",
       "      <td>85.0</td>\n",
       "      <td>90.0</td>\n",
       "      <td>...</td>\n",
       "      <td>62</td>\n",
       "      <td>72</td>\n",
       "      <td>68</td>\n",
       "      <td>72</td>\n",
       "      <td>76</td>\n",
       "      <td>63</td>\n",
       "      <td>81</td>\n",
       "      <td>66</td>\n",
       "      <td>67</td>\n",
       "      <td>63</td>\n",
       "    </tr>\n",
       "  </tbody>\n",
       "</table>\n",
       "<p>5 rows × 39 columns</p>\n",
       "</div>"
      ],
      "text/plain": [
       "     league_id  club_team_id     league_name        club_name  power  \\\n",
       "84          13            10  Premier League  Manchester City     85   \n",
       "109         53           243         La Liga      Real Madrid     84   \n",
       "81          13             9  Premier League        Liverpool     84   \n",
       "30          13             5  Premier League          Chelsea     84   \n",
       "43          53           241         La Liga     FC Barcelona     83   \n",
       "\n",
       "     mean_goalkeeping_diving  mean_goalkeeping_handling  \\\n",
       "84                      81.0                       78.0   \n",
       "109                     84.0                       89.0   \n",
       "81                      86.0                       85.0   \n",
       "30                      81.0                       80.0   \n",
       "43                      86.0                       85.0   \n",
       "\n",
       "     mean_goalkeeping_kicking  mean_goalkeeping_positioning  \\\n",
       "84                       89.0                          84.0   \n",
       "109                      75.0                          89.0   \n",
       "81                       85.0                          90.0   \n",
       "30                       83.0                          81.0   \n",
       "43                       87.0                          85.0   \n",
       "\n",
       "     mean_goalkeeping_reflexes  ...  mean_power_long_shots  \\\n",
       "84                        86.0  ...                     69   \n",
       "109                       90.0  ...                     69   \n",
       "81                        89.0  ...                     66   \n",
       "30                        85.0  ...                     65   \n",
       "43                        90.0  ...                     62   \n",
       "\n",
       "     mean_mentality_aggression  mean_mentality_interceptions  \\\n",
       "84                          76                            68   \n",
       "109                         71                            67   \n",
       "81                          78                            71   \n",
       "30                          71                            67   \n",
       "43                          72                            68   \n",
       "\n",
       "     mean_mentality_positioning  mean_mentality_vision  \\\n",
       "84                           71                     77   \n",
       "109                          73                     76   \n",
       "81                           70                     75   \n",
       "30                           73                     77   \n",
       "43                           72                     76   \n",
       "\n",
       "     mean_mentality_penalties  mean_mentality_composure  \\\n",
       "84                         61                        83   \n",
       "109                        63                        81   \n",
       "81                         64                        83   \n",
       "30                         62                        81   \n",
       "43                         63                        81   \n",
       "\n",
       "     mean_defending_marking_awareness  mean_defending_standing_tackle  \\\n",
       "84                                 70                              71   \n",
       "109                                66                              66   \n",
       "81                                 68                              72   \n",
       "30                                 66                              69   \n",
       "43                                 66                              67   \n",
       "\n",
       "     mean_defending_sliding_tackle  \n",
       "84                              63  \n",
       "109                             62  \n",
       "81                              66  \n",
       "30                              65  \n",
       "43                              63  \n",
       "\n",
       "[5 rows x 39 columns]"
      ]
     },
     "execution_count": 5,
     "metadata": {},
     "output_type": "execute_result"
    }
   ],
   "source": [
    "tpr_data[\"data\"].sort_values(\"power\", ascending=False).head(n=5)"
   ]
  },
  {
   "cell_type": "markdown",
   "id": "7c715b50",
   "metadata": {},
   "source": [
    "<br><br><br><br>"
   ]
  },
  {
   "cell_type": "markdown",
   "id": "fa142a72",
   "metadata": {
    "jp-MarkdownHeadingCollapsed": true
   },
   "source": [
    "# FBRef Match Logs URLs"
   ]
  },
  {
   "cell_type": "code",
   "execution_count": 6,
   "id": "d8912d57",
   "metadata": {},
   "outputs": [],
   "source": [
    "leagues = [\"Premier League\", \"Serie A\", \"Ligue 1\", \"LaLiga\", \"Bundesliga\"]\n",
    "fbref_league_dict = {\n",
    "    \"Premier League\": {\"name\": \"Premier League\", \"fbref_league_id\": 9, \"league_id\": 13},\n",
    "    \"Serie A\": {\"name\": \"Serie A\", \"fbref_league_id\": 11, \"league_id\": 31},\n",
    "    \"Ligue 1\": {\"name\": \"Ligue 1\", \"fbref_league_id\": 13, \"league_id\": 16},\n",
    "    \"LaLiga\": {\"name\": \"LaLiga\", \"fbref_league_id\": 12, \"league_id\": 53},\n",
    "    \"Bundesliga\": {\"name\": \"Bundesliga\", \"fbref_league_id\": 20, \"league_id\": 19},   \n",
    "}"
   ]
  },
  {
   "cell_type": "code",
   "execution_count": 7,
   "id": "9637e106",
   "metadata": {},
   "outputs": [],
   "source": [
    "def GetTeamCredentials(league_id, season=\"2022-2023\"):\n",
    "    league_url = f\"https://fbref.com/en/comps/{league_id}/{season}\"\n",
    "    response = requests.get(league_url)\n",
    "    soup = BeautifulSoup(response.content, \"lxml\")\n",
    "\n",
    "    table = soup.find(\"table\", {\"class\": \"stats_table\"})\n",
    "    team_ids = []\n",
    "    team_names = []\n",
    "\n",
    "    for row in table.find_all(\"tr\")[1:]:\n",
    "        team_name = row.find(\"td\", {\"data-stat\": \"team\"}).text\n",
    "        team_id = row.find(\"td\", {\"data-stat\": \"team\"}).a.get(\"href\").split(\"/\")[3]\n",
    "        team_ids.append(team_id)\n",
    "        team_names.append(team_name)\n",
    "    return {\n",
    "        \"team_ids\":team_ids,\n",
    "        \"team_names\":team_names,\n",
    "    }"
   ]
  },
  {
   "cell_type": "code",
   "execution_count": 8,
   "id": "70b47f66",
   "metadata": {},
   "outputs": [],
   "source": [
    "from rapidfuzz import process\n",
    "def find_best_match(name, choices):\n",
    "    return process.extractOne(name, choices)"
   ]
  },
  {
   "cell_type": "code",
   "execution_count": 9,
   "id": "943230e9",
   "metadata": {},
   "outputs": [],
   "source": [
    "def TPRFromId(tpr_data, club_team_id):\n",
    "    power = tpr_data.query(f\"club_team_id == {club_team_id}\")[\"power\"].iloc[0]\n",
    "    return {\n",
    "        \"power\": power,\n",
    "    }"
   ]
  },
  {
   "cell_type": "code",
   "execution_count": 10,
   "id": "e6d5a5c1",
   "metadata": {},
   "outputs": [],
   "source": [
    "def TFRFromId(tfr_data, club_team_id):\n",
    "    tfr_data = tfr_data[\"data\"]\n",
    "    power = tfr_data.query(f\"club_team_id == {club_team_id}\")[\"power\"].iloc[0]\n",
    "    finishing = tfr_data.query(f\"club_team_id == {club_team_id}\")[\"finishing\"].iloc[0]\n",
    "    return {\n",
    "        \"power\": power,\n",
    "        \"finishing\": finishing,\n",
    "    }"
   ]
  },
  {
   "cell_type": "code",
   "execution_count": 11,
   "id": "97583599",
   "metadata": {},
   "outputs": [],
   "source": [
    "def TeamNameIdConverter(tpr_data, team_name, league_id, print_output=False):\n",
    "    # TeamNameIdConverter(tpr_data,\"chelseas\",13,1)\n",
    "    club_team_names = tpr_data.query(f\"league_id == {league_id}\")[\"club_name\"].tolist()\n",
    "    club_team_ids = tpr_data.query(f\"league_id == {league_id}\")[\"club_team_id\"].tolist()\n",
    "    club_team_name, score, other = find_best_match(team_name, club_team_names)\n",
    "    club_team_id = club_team_ids[club_team_names.index(club_team_name)]\n",
    "    if print_output:\n",
    "        print(f\"ID for {club_team_name}:\")\n",
    "    return club_team_id"
   ]
  },
  {
   "cell_type": "code",
   "execution_count": 12,
   "id": "676ceb76",
   "metadata": {},
   "outputs": [],
   "source": [
    "def FB_URLS(creds, tpr_data, stat_attribute, fbref_league_id, league_id, season=\"2022-2023\"):\n",
    "    tpr_data = tpr_data[\"data\"]\n",
    "    team_ids = creds[\"team_ids\"]\n",
    "    team_names = creds[\"team_names\"]\n",
    "    club_team_names = tpr_data.query(f\"league_id == {league_id}\")[\"club_name\"].tolist()\n",
    "    club_team_ids = tpr_data.query(f\"league_id == {league_id}\")[\"club_team_id\"].tolist()\n",
    "\n",
    "    for team_id, team_name in zip(team_ids, team_names):\n",
    "        best_match = find_best_match(team_name, club_team_names)\n",
    "        if best_match:\n",
    "            club_team_name, score, other = best_match\n",
    "            club_team_id = club_team_ids[club_team_names.index(club_team_name)]\n",
    "            match_logs_url = f\"https://fbref.com/en/squads/{team_id}/{season}/matchlogs/c{fbref_league_id}/{stat_attribute}/{team_name.replace(' ', '-')}\"\n",
    "            match_logs_stats_dict[stat_attribute].append({\n",
    "                \"id\": team_id,\n",
    "                \"league_id\": league_id,\n",
    "                \"fbref_league_id\": fbref_league_id,\n",
    "                \"stat\": stat_attribute,\n",
    "                \"team\": team_name,\n",
    "                \"club_team_id\": club_team_id,\n",
    "                \"club_team_name\": club_team_name, \n",
    "                \"url\": match_logs_url\n",
    "            })\n",
    "        else:\n",
    "            print(f\"No match found for team: {team_name}\")"
   ]
  },
  {
   "cell_type": "markdown",
   "id": "739078f1",
   "metadata": {},
   "source": [
    "<h1 style=\"color:orange\">🦸‍♂️Must Parameters</h1>"
   ]
  },
  {
   "cell_type": "code",
   "execution_count": 13,
   "id": "12663541",
   "metadata": {},
   "outputs": [],
   "source": [
    "match_logs_stats_dict = {\n",
    "    \"shooting\":[],\n",
    "    \"passing\":[],\n",
    "    \"defense\":[],\n",
    "    \"keeper\":[],\n",
    "    \"passing_types\":[],\n",
    "    \"gca\":[],\n",
    "    \"possession\":[],\n",
    "    \"misc\":[],\n",
    "}\n",
    "\n",
    "attributes = match_logs_stats_dict.keys()\n",
    "league_name = \"Premier League\"\n",
    "league_id = fbref_league_dict[league_name][\"league_id\"]\n",
    "fbref_league_id = fbref_league_dict[league_name][\"fbref_league_id\"]\n",
    "season = \"2022-2023\"\n",
    "team_number_league = 20\n",
    "last_matchweek = 38\n",
    "creds = GetTeamCredentials(fbref_league_id, season)\n",
    "\n",
    "for stat_attribute in attributes:\n",
    "    FB_URLS(creds, tpr_data, stat_attribute, fbref_league_id, league_id)"
   ]
  },
  {
   "cell_type": "markdown",
   "id": "f4a535f9",
   "metadata": {
    "jp-MarkdownHeadingCollapsed": true
   },
   "source": [
    "<br><br><br><br>\n",
    "<h1 style=\"color:green\">Scraping FBRef</h1>"
   ]
  },
  {
   "cell_type": "code",
   "execution_count": 14,
   "id": "6dd427e5",
   "metadata": {},
   "outputs": [
    {
     "data": {
      "text/plain": [
       "MultiIndex([('Against Manchester City',         'Date'),\n",
       "            ('Against Manchester City',         'Time'),\n",
       "            ('Against Manchester City',        'Round'),\n",
       "            ('Against Manchester City',          'Day'),\n",
       "            ('Against Manchester City',        'Venue'),\n",
       "            ('Against Manchester City',       'Result'),\n",
       "            ('Against Manchester City',           'GF'),\n",
       "            ('Against Manchester City',           'GA'),\n",
       "            ('Against Manchester City',     'Opponent'),\n",
       "            (               'Standard',          'Gls'),\n",
       "            (               'Standard',           'Sh'),\n",
       "            (               'Standard',          'SoT'),\n",
       "            (               'Standard',         'SoT%'),\n",
       "            (               'Standard',         'G/Sh'),\n",
       "            (               'Standard',        'G/SoT'),\n",
       "            (               'Standard',         'Dist'),\n",
       "            (               'Standard',           'FK'),\n",
       "            (               'Standard',           'PK'),\n",
       "            (               'Standard',        'PKatt'),\n",
       "            (               'Expected',           'xG'),\n",
       "            (               'Expected',         'npxG'),\n",
       "            (               'Expected',      'npxG/Sh'),\n",
       "            (               'Expected',         'G-xG'),\n",
       "            (               'Expected',      'np:G-xG'),\n",
       "            (    'Unnamed: 24_level_0', 'Match Report')],\n",
       "           )"
      ]
     },
     "execution_count": 14,
     "metadata": {},
     "output_type": "execute_result"
    }
   ],
   "source": [
    "df = pd.read_html(\"https://fbref.com/en/squads/b8fd03ef/2022-2023/matchlogs/c9/shooting/-Manchester-City\")[1][:38]\n",
    "df.sort_values(('Against Manchester City', 'Date')).head()\n",
    "df.columns"
   ]
  },
  {
   "cell_type": "code",
   "execution_count": 15,
   "id": "c6b762b0",
   "metadata": {},
   "outputs": [],
   "source": [
    "def test_stat_df(stat_attribute):\n",
    "    df = pd.read_html(f\"https://fbref.com/en/squads/b8fd03ef/2022-2023/matchlogs/c9/{stat_attribute}/-Manchester-City\")[0][:38]\n",
    "    url = f\"https://fbref.com/en/squads/b8fd03ef/2022-2023/matchlogs/c9/{stat_attribute}/-Manchester-City\"\n",
    "    return url"
   ]
  },
  {
   "cell_type": "code",
   "execution_count": 16,
   "id": "1aa503f9",
   "metadata": {},
   "outputs": [],
   "source": [
    "def FB_MatchLogs(url, last_matchweek=38):\n",
    "    encoded_url = quote(url, safe=':/')\n",
    "    df=pd.read_html(encoded_url)\n",
    "    return {\n",
    "        \"for\": df[0][:last_matchweek],\n",
    "        \"against\": df[1][:last_matchweek],\n",
    "    }"
   ]
  },
  {
   "cell_type": "code",
   "execution_count": 17,
   "id": "79354547",
   "metadata": {},
   "outputs": [],
   "source": [
    "def MatchLogs_MultiIndexColumnDict(df, stat_attribute=None):\n",
    "    stat_columns_dict = {}\n",
    "    for item in df.columns:\n",
    "        right_side = item[1]\n",
    "        stat_columns_dict[right_side] = item\n",
    "    if stat_attribute:\n",
    "        return stat_columns_dict[stat_attribute]\n",
    "    return stat_columns_dict"
   ]
  },
  {
   "cell_type": "code",
   "execution_count": 18,
   "id": "b9aa909d",
   "metadata": {},
   "outputs": [
    {
     "data": {
      "text/plain": [
       "{'id': 'b8fd03ef',\n",
       " 'league_id': 13,\n",
       " 'fbref_league_id': 9,\n",
       " 'stat': 'shooting',\n",
       " 'team': ' Manchester City',\n",
       " 'club_team_id': 10,\n",
       " 'club_team_name': 'Manchester City',\n",
       " 'url': 'https://fbref.com/en/squads/b8fd03ef/2022-2023/matchlogs/c9/shooting/-Manchester-City'}"
      ]
     },
     "execution_count": 18,
     "metadata": {},
     "output_type": "execute_result"
    }
   ],
   "source": [
    "match_logs_stats_dict[\"shooting\"][0]"
   ]
  },
  {
   "cell_type": "markdown",
   "id": "07db4342",
   "metadata": {
    "jp-MarkdownHeadingCollapsed": true
   },
   "source": [
    "<br><br><br><br>\n",
    "<h1 style=\"color:aqua\">Regression Boilerplate</h1>"
   ]
  },
  {
   "cell_type": "code",
   "execution_count": 19,
   "id": "a35f9f0a",
   "metadata": {},
   "outputs": [],
   "source": [
    "import pandas as pd\n",
    "import matplotlib.pyplot as plt\n",
    "from sklearn.model_selection import train_test_split\n",
    "from sklearn.linear_model import LinearRegression\n",
    "from sklearn.metrics import mean_squared_error\n",
    "\n",
    "def train_linear_regression(df, features, target_variable, apply_dtype, test_size=0.19, random_state=42):\n",
    "    X = df[features]\n",
    "    y = df[target_variable]\n",
    "    X_train, X_test, y_train, y_test = train_test_split(X, y, test_size=test_size, random_state=random_state)\n",
    "\n",
    "    model = LinearRegression()\n",
    "    model.fit(X_train, y_train)\n",
    "    y_pred = model.predict(X_test)\n",
    "\n",
    "    df['predicted'] = model.predict(df[features])\n",
    "    df['predicted'] = df['predicted'].apply(apply_dtype)\n",
    "    \n",
    "    mse = mean_squared_error(y_test, y_pred)\n",
    "    coefficients = dict(zip(features, model.coef_))\n",
    "    intercept = model.intercept_\n",
    "    return model, mse, coefficients, intercept\n",
    "\n",
    "def model_error(df, target_variable):\n",
    "    df['error'] = df[target_variable] - df['predicted']\n",
    "    return df['error'].apply(abs)\n",
    "\n",
    "def model_head(df, features, target_variable, sort_parameter=\"team_power\", sort_ascending=False, n=5):\n",
    "    return df[features+[target_variable,\"predicted\",\"error\"]].sort_values(sort_parameter, ascending=sort_ascending).head(n=n)\n",
    "\n",
    "def model_equation(coefficients, intercept):\n",
    "    equation = \" + \".join([f\"{coef:.2e} * {feat}\" for feat, coef in coefficients.items()])\n",
    "    equation = equation + f\" + {intercept:.2e}\"\n",
    "    equation = equation.replace(\"+ -\", \"- \")\n",
    "    return equation\n",
    "\n",
    "def model_predict(**args):\n",
    "    pass\n",
    "\n",
    "def plot_predicted_vs_actual(df, target_variable, model=None, features=None):\n",
    "    plt.figure(figsize=(10, 6))\n",
    "    plt.plot(df.index, df[target_variable], marker='o', linestyle='-', color=\"b\", label='Actual')\n",
    "    \n",
    "    if model and features:\n",
    "        plt.plot(df.index, df['predicted'], marker='o', linestyle='-', color=\"r\", label='Predicted')\n",
    "    plt.title('Line Plot of Predicted Values')\n",
    "    plt.xlabel('Index')\n",
    "    plt.ylabel('Value')\n",
    "    plt.legend()\n",
    "    plt.grid(True)\n",
    "    plt.show()"
   ]
  },
  {
   "cell_type": "code",
   "execution_count": 20,
   "id": "e2807aba",
   "metadata": {},
   "outputs": [],
   "source": [
    "def convert_equation_to_json(features, values, intercept):\n",
    "    # Usage: convert_equation_to_json(features, coefficients.values(), intercept)\n",
    "    equation_dict = {}\n",
    "    for feature, value in zip(features, values):\n",
    "        equation_dict[feature] = {\n",
    "            \"name\": feature,\n",
    "            \"value\": value\n",
    "        }\n",
    "    equation_dict[\"intercept\"] = {\"name\":\"intercept\", \"value\":intercept}\n",
    "    return equation_dict"
   ]
  },
  {
   "cell_type": "markdown",
   "id": "f351b4bd",
   "metadata": {
    "jp-MarkdownHeadingCollapsed": true
   },
   "source": [
    "<br>\n",
    "<h1 style=\"color:aqua\">Randomness Factor</h1>"
   ]
  },
  {
   "cell_type": "code",
   "execution_count": 21,
   "id": "e2349a21",
   "metadata": {},
   "outputs": [],
   "source": [
    "def randomness_proportional(df, target_variable):\n",
    "    target_mean = df[target_variable].mean()\n",
    "    target_std = df[target_variable].std()\n",
    "    target_min = df[target_variable].min()\n",
    "    target_max = df[target_variable].max()\n",
    "    formula = (target_min) / (target_mean) \n",
    "    print(\"Min:\",target_min, \",\", \"Max:\",target_max)\n",
    "    return formula\n",
    "\n",
    "def randomness_volume(df, target_variable):\n",
    "    target_mean = df[target_variable].mean()\n",
    "    target_std = df[target_variable].std()\n",
    "    target_min = df[target_variable].min()\n",
    "    target_max = df[target_variable].max()\n",
    "    formula = (target_mean) / (target_std)\n",
    "    print(\"Min:\",target_min, \",\", \"Max:\",target_max)\n",
    "    return formula"
   ]
  },
  {
   "cell_type": "code",
   "execution_count": 22,
   "id": "f9370408",
   "metadata": {},
   "outputs": [],
   "source": [
    "def interval_proportional(value, step=0.05, expand_multiplier=1):\n",
    "    lower_bound = round(value - step, 3)\n",
    "    upper_bound = round(value + step, 3)\n",
    "    numbers = np.arange(-upper_bound*expand_multiplier, upper_bound + step*expand_multiplier, step)\n",
    "    return numbers\n",
    "\n",
    "def interval_volume(value, step=1, expand_multiplier=1):\n",
    "    lower_bound = int(value - step)\n",
    "    upper_bound = int(value + step)\n",
    "    numbers = np.arange(-upper_bound*expand_multiplier, upper_bound + step*expand_multiplier, step)\n",
    "    return numbers"
   ]
  },
  {
   "cell_type": "code",
   "execution_count": 23,
   "id": "4a21169d",
   "metadata": {},
   "outputs": [],
   "source": [
    "def probability_protector(value):\n",
    "    if value < 0:\n",
    "        return 0\n",
    "    elif value > 1:\n",
    "        return 1\n",
    "    else:\n",
    "        return value\n",
    "    \n",
    "def negativity_protector(value, raw_value):\n",
    "    if value < 0:\n",
    "        return raw_value\n",
    "    else:\n",
    "        return value"
   ]
  },
  {
   "cell_type": "code",
   "execution_count": 24,
   "id": "9c69152b",
   "metadata": {},
   "outputs": [],
   "source": [
    "def random_choice(array):\n",
    "    return np.random.choice(array)"
   ]
  },
  {
   "cell_type": "markdown",
   "id": "05a6b50c",
   "metadata": {
    "jp-MarkdownHeadingCollapsed": true
   },
   "source": [
    "<br><br><br><br>\n",
    "<h1 style=\"color:pink\">Match Logs DataFrame</h1>"
   ]
  },
  {
   "cell_type": "code",
   "execution_count": 25,
   "id": "8edfa520",
   "metadata": {},
   "outputs": [],
   "source": [
    "def ColumnConverter(df, keyword):\n",
    "    df_cols = df.columns.map('.'.join)\n",
    "    new_cols = [col.split('.')[1] if keyword in col else col for col in df_cols]\n",
    "    return new_cols"
   ]
  },
  {
   "cell_type": "code",
   "execution_count": 26,
   "id": "7e551af5",
   "metadata": {},
   "outputs": [],
   "source": [
    "def prepare_expand_dict(column_dict, x, y):\n",
    "    # example: {\"unnamed.0.st: \"}\n",
    "    keys = column_dict.keys()\n",
    "    values = column_dict.values()\n",
    "    expanded_dict = {}\n",
    "    for key, value in zip(keys, values):\n",
    "        expanded_dict[\"team_\"+key.lower()] = x[value]\n",
    "        expanded_dict[\"opponent_\"+key.lower()] = y[value]\n",
    "    return expanded_dict"
   ]
  },
  {
   "cell_type": "code",
   "execution_count": 27,
   "id": "59aa61b6",
   "metadata": {},
   "outputs": [],
   "source": [
    "def prepare_rating_dict(ratings_array, team_id, suffix):\n",
    "    dict_ = {}\n",
    "    for rating in ratings_array:\n",
    "        metric_data = rating[\"data\"].query(f\"club_team_id == {team_id}\")[rating[\"name\"]].iloc[0]\n",
    "        dict_[suffix+\"_\"+rating[\"name\"]] = metric_data\n",
    "    return dict_"
   ]
  },
  {
   "cell_type": "code",
   "execution_count": 28,
   "id": "11575755",
   "metadata": {
    "scrolled": true
   },
   "outputs": [],
   "source": [
    "def generate_fbref_match_logs_array \\\n",
    "(match_logs_stats_dict, column_dict, tpr_data, \\\n",
    " other_rating_data, league_id, team_number_league, last_matchweek, current_stat, opponent=True):\n",
    "    \n",
    "    df_log_array = []\n",
    "    tpr_data = tpr_data[\"data\"]\n",
    "    \n",
    "    for tindex in range(team_number_league):\n",
    "        time.sleep(0.01)\n",
    "        current_team = match_logs_stats_dict[current_stat][tindex]\n",
    "\n",
    "        url = current_team[\"url\"]\n",
    "        print(url, tindex)\n",
    "\n",
    "        match_logs = FB_MatchLogs(url, last_matchweek=last_matchweek)\n",
    "        df0 = match_logs[\"for\"]\n",
    "        df0.columns = ColumnConverter(df0, \"For\")\n",
    "        \n",
    "        df1 = match_logs[\"against\"]\n",
    "        df1.columns = ColumnConverter(df1, \"Against\")\n",
    "        \n",
    "        team_names = df0[\"Opponent\"].unique().tolist()\n",
    "        team_ids = [TeamNameIdConverter(tpr_data, team_name, league_id) for team_name in team_names]\n",
    "        team_rating_data = TFRFromId(tfr_data, current_team[\"club_team_id\"])\n",
    "\n",
    "        for i in range(last_matchweek):\n",
    "            x = df0.iloc[i]\n",
    "            y = df1.iloc[i]\n",
    "            x_rating_data = prepare_rating_dict(other_rating_data, current_team[\"club_team_id\"], suffix=\"team\")\n",
    "            y_rating_data = prepare_rating_dict(other_rating_data, TeamNameIdConverter(tpr_data, x[\"Opponent\"], league_id), suffix=\"opponent\")\n",
    "            lab_df_dict = {\n",
    "                \"league_id\": league_id,\n",
    "                \"team_name\": current_team[\"club_team_name\"],\n",
    "                \"team_id\": current_team[\"club_team_id\"],\n",
    "                \"opponent_name\": x[\"Opponent\"],\n",
    "                \"opponent_id\": TeamNameIdConverter(tpr_data, x[\"Opponent\"], league_id),\n",
    "                \"team_power\": x_rating_data[\"team_power\"],\n",
    "                \"opponent_power\": y_rating_data[\"opponent_power\"],\n",
    "            }\n",
    "            merged_dict = {**lab_df_dict, **prepare_expand_dict(column_dict, x, y), **x_rating_data, **y_rating_data}\n",
    "            df_log_array.append(merged_dict)\n",
    "    print(\"Data collecting has been completed! ✅\")\n",
    "    return df_log_array"
   ]
  },
  {
   "cell_type": "markdown",
   "id": "a047e864",
   "metadata": {
    "jp-MarkdownHeadingCollapsed": true
   },
   "source": [
    "<br><br><br><br>\n",
    "<h1 style=\"color:yellow\">\"shooting\"</h1>"
   ]
  },
  {
   "cell_type": "code",
   "execution_count": 29,
   "id": "b9a5fc37",
   "metadata": {},
   "outputs": [],
   "source": [
    "current_stat = \"shooting\""
   ]
  },
  {
   "cell_type": "code",
   "execution_count": 30,
   "id": "123f4f57",
   "metadata": {},
   "outputs": [],
   "source": [
    "proper_terms = ['Date', 'Time', 'Round', 'Day', 'Venue', 'Result', 'GF', 'GA',\n",
    "                'Opponent', 'Goals', 'Shots', 'Shots on Target',\n",
    "                'Shots on Target Percentage', 'Goals per Shot', 'Goals per Shot on Target',\n",
    "                'Distance Covered', 'Free Kicks', 'Penalties', 'Penalty Attempts',\n",
    "                'Expected Goals', 'Non-Penalty Expected Goals', 'Expected Goals per Shot',\n",
    "                'Goals minus Expected Goals', 'Non-Penalty Goals minus Expected Goals',\n",
    "                'Match Report']\n",
    "column_names = ['Date', 'Time', 'Round', 'Day', 'Venue', 'Result', 'GF', 'GA',\n",
    "                'Opponent', 'Standard.Gls', 'Standard.Sh', 'Standard.SoT',\n",
    "                'Standard.SoT%', 'Standard.G/Sh', 'Standard.G/SoT', 'Standard.Dist',\n",
    "                'Standard.FK', 'Standard.PK', 'Standard.PKatt', 'Expected.xG',\n",
    "                'Expected.npxG', 'Expected.npxG/Sh', 'Expected.G-xG',\n",
    "                'Expected.np:G-xG', 'Unnamed: 24_level_0.Match Report']\n",
    "proper_terms = [term.lower().replace(\" \", \"_\") for term in proper_terms]\n",
    "\n",
    "column_dict = dict(zip(proper_terms, column_names))"
   ]
  },
  {
   "cell_type": "code",
   "execution_count": 31,
   "id": "f9f3fe8b",
   "metadata": {},
   "outputs": [],
   "source": [
    "prepared_index_dict = column_dict\n",
    "prepared_rating_data = [tpr_data, tfr_data]"
   ]
  },
  {
   "cell_type": "code",
   "execution_count": 32,
   "id": "c4f8e24a",
   "metadata": {},
   "outputs": [],
   "source": [
    "# df_log_array = generate_fbref_match_logs_array \\\n",
    "# (match_logs_stats_dict, prepared_index_dict, tpr_data,  \\\n",
    "#  prepared_rating_data, league_id, team_number_league, last_matchweek, current_stat)\n",
    "# df_log = pd.DataFrame(df_log_array)\n",
    "# df_log.to_csv(f\"../@blacksmith/match_logs/fbref_match_logs_{league_name}@{current_stat}.csv\")\n",
    "\n",
    "df_log = pd.read_csv(f\"../@blacksmith/match_logs/fbref_match_logs_{league_name}@{current_stat}.csv\")"
   ]
  },
  {
   "cell_type": "markdown",
   "id": "f1267059",
   "metadata": {
    "jp-MarkdownHeadingCollapsed": true
   },
   "source": [
    "<br><br><br><br>\n",
    "<h1 style=\"color:red\">Total Shot Volume</h1>"
   ]
  },
  {
   "cell_type": "code",
   "execution_count": 33,
   "id": "3f7ec674",
   "metadata": {},
   "outputs": [
    {
     "data": {
      "text/plain": [
       "Index(['Unnamed: 0', 'league_id', 'team_name', 'team_id', 'opponent_name',\n",
       "       'opponent_id', 'team_power', 'opponent_power', 'team_date',\n",
       "       'opponent_date', 'team_time', 'opponent_time', 'team_round',\n",
       "       'opponent_round', 'team_day', 'opponent_day', 'team_venue',\n",
       "       'opponent_venue', 'team_result', 'opponent_result', 'team_gf',\n",
       "       'opponent_gf', 'team_ga', 'opponent_ga', 'team_opponent',\n",
       "       'opponent_opponent', 'team_goals', 'opponent_goals', 'team_shots',\n",
       "       'opponent_shots', 'team_shots_on_target', 'opponent_shots_on_target',\n",
       "       'team_shots_on_target_percentage',\n",
       "       'opponent_shots_on_target_percentage', 'team_goals_per_shot',\n",
       "       'opponent_goals_per_shot', 'team_goals_per_shot_on_target',\n",
       "       'opponent_goals_per_shot_on_target', 'team_distance_covered',\n",
       "       'opponent_distance_covered', 'team_free_kicks', 'opponent_free_kicks',\n",
       "       'team_penalties', 'opponent_penalties', 'team_penalty_attempts',\n",
       "       'opponent_penalty_attempts', 'team_expected_goals',\n",
       "       'opponent_expected_goals', 'team_non-penalty_expected_goals',\n",
       "       'opponent_non-penalty_expected_goals', 'team_expected_goals_per_shot',\n",
       "       'opponent_expected_goals_per_shot', 'team_goals_minus_expected_goals',\n",
       "       'opponent_goals_minus_expected_goals',\n",
       "       'team_non-penalty_goals_minus_expected_goals',\n",
       "       'opponent_non-penalty_goals_minus_expected_goals', 'team_match_report',\n",
       "       'opponent_match_report', 'team_finishing', 'opponent_finishing'],\n",
       "      dtype='object')"
      ]
     },
     "execution_count": 33,
     "metadata": {},
     "output_type": "execute_result"
    }
   ],
   "source": [
    "df_log.columns"
   ]
  },
  {
   "cell_type": "code",
   "execution_count": 34,
   "id": "bab13641",
   "metadata": {},
   "outputs": [],
   "source": [
    "columns_to_drop = ['team_name','team_id','opponent_name','opponent_id']\n",
    "df = df_log\n",
    "df[\"total_shots\"] = df[\"team_shots\"] + df[\"opponent_shots\"]"
   ]
  },
  {
   "cell_type": "code",
   "execution_count": 35,
   "id": "f26415d6",
   "metadata": {},
   "outputs": [],
   "source": [
    "features = ['team_power', 'team_finishing', 'opponent_power', 'opponent_finishing', \"team_shots\", \"opponent_shots\"]\n",
    "target_variable = 'total_shots'"
   ]
  },
  {
   "cell_type": "code",
   "execution_count": 36,
   "id": "ca2e7d13",
   "metadata": {},
   "outputs": [
    {
     "name": "stdout",
     "output_type": "stream",
     "text": [
      "Mean Squared Error: 1.9977222372217622e-29\n",
      "Error Mean: 0.2657894736842105\n"
     ]
    }
   ],
   "source": [
    "model, mse, coefficients, intercept = train_linear_regression(df, features, target_variable, int)\n",
    "mean_error = model_error(df, target_variable).mean()\n",
    "std_error = model_error(df, target_variable).std()\n",
    "print(\"Mean Squared Error:\", mse)\n",
    "print(\"Error Mean:\", mean_error)"
   ]
  },
  {
   "cell_type": "code",
   "execution_count": 37,
   "id": "d5792b96",
   "metadata": {},
   "outputs": [],
   "source": [
    "# plot_predicted_vs_actual(df, target_variable, model=model, features=features)"
   ]
  },
  {
   "cell_type": "code",
   "execution_count": 38,
   "id": "6f6bb60d",
   "metadata": {
    "scrolled": true
   },
   "outputs": [
    {
     "data": {
      "text/plain": [
       "'1.00e-16 * team_power - 4.82e-19 * team_finishing + 2.66e-16 * opponent_power + 2.51e-16 * opponent_finishing + 1.00e+00 * team_shots + 1.00e+00 * opponent_shots - 6.04e-14'"
      ]
     },
     "execution_count": 38,
     "metadata": {},
     "output_type": "execute_result"
    }
   ],
   "source": [
    "model_equation(coefficients, intercept)"
   ]
  },
  {
   "cell_type": "code",
   "execution_count": 39,
   "id": "7ed06a8d",
   "metadata": {},
   "outputs": [
    {
     "data": {
      "text/html": [
       "<div>\n",
       "<style scoped>\n",
       "    .dataframe tbody tr th:only-of-type {\n",
       "        vertical-align: middle;\n",
       "    }\n",
       "\n",
       "    .dataframe tbody tr th {\n",
       "        vertical-align: top;\n",
       "    }\n",
       "\n",
       "    .dataframe thead th {\n",
       "        text-align: right;\n",
       "    }\n",
       "</style>\n",
       "<table border=\"1\" class=\"dataframe\">\n",
       "  <thead>\n",
       "    <tr style=\"text-align: right;\">\n",
       "      <th></th>\n",
       "      <th>team_power</th>\n",
       "      <th>team_finishing</th>\n",
       "      <th>opponent_power</th>\n",
       "      <th>opponent_finishing</th>\n",
       "      <th>team_shots</th>\n",
       "      <th>opponent_shots</th>\n",
       "      <th>team_name</th>\n",
       "      <th>team_id</th>\n",
       "      <th>opponent_name</th>\n",
       "      <th>opponent_id</th>\n",
       "      <th>total_shots</th>\n",
       "      <th>predicted</th>\n",
       "      <th>error</th>\n",
       "    </tr>\n",
       "  </thead>\n",
       "  <tbody>\n",
       "    <tr>\n",
       "      <th>252</th>\n",
       "      <td>79</td>\n",
       "      <td>72</td>\n",
       "      <td>76</td>\n",
       "      <td>70</td>\n",
       "      <td>8</td>\n",
       "      <td>3</td>\n",
       "      <td>Aston Villa</td>\n",
       "      <td>2</td>\n",
       "      <td>Crystal Palace</td>\n",
       "      <td>1799</td>\n",
       "      <td>11</td>\n",
       "      <td>10</td>\n",
       "      <td>1</td>\n",
       "    </tr>\n",
       "    <tr>\n",
       "      <th>404</th>\n",
       "      <td>76</td>\n",
       "      <td>70</td>\n",
       "      <td>79</td>\n",
       "      <td>72</td>\n",
       "      <td>3</td>\n",
       "      <td>8</td>\n",
       "      <td>Crystal Palace</td>\n",
       "      <td>1799</td>\n",
       "      <td>Aston Villa</td>\n",
       "      <td>2</td>\n",
       "      <td>11</td>\n",
       "      <td>10</td>\n",
       "      <td>1</td>\n",
       "    </tr>\n",
       "    <tr>\n",
       "      <th>669</th>\n",
       "      <td>78</td>\n",
       "      <td>77</td>\n",
       "      <td>79</td>\n",
       "      <td>78</td>\n",
       "      <td>1</td>\n",
       "      <td>10</td>\n",
       "      <td>Leicester City</td>\n",
       "      <td>95</td>\n",
       "      <td>Arsenal</td>\n",
       "      <td>1</td>\n",
       "      <td>11</td>\n",
       "      <td>10</td>\n",
       "      <td>1</td>\n",
       "    </tr>\n",
       "    <tr>\n",
       "      <th>61</th>\n",
       "      <td>79</td>\n",
       "      <td>78</td>\n",
       "      <td>78</td>\n",
       "      <td>77</td>\n",
       "      <td>10</td>\n",
       "      <td>1</td>\n",
       "      <td>Arsenal</td>\n",
       "      <td>1</td>\n",
       "      <td>Leicester City</td>\n",
       "      <td>95</td>\n",
       "      <td>11</td>\n",
       "      <td>10</td>\n",
       "      <td>1</td>\n",
       "    </tr>\n",
       "    <tr>\n",
       "      <th>301</th>\n",
       "      <td>81</td>\n",
       "      <td>75</td>\n",
       "      <td>79</td>\n",
       "      <td>72</td>\n",
       "      <td>4</td>\n",
       "      <td>8</td>\n",
       "      <td>Tottenham Hotspur</td>\n",
       "      <td>18</td>\n",
       "      <td>Aston Villa</td>\n",
       "      <td>2</td>\n",
       "      <td>12</td>\n",
       "      <td>11</td>\n",
       "      <td>1</td>\n",
       "    </tr>\n",
       "  </tbody>\n",
       "</table>\n",
       "</div>"
      ],
      "text/plain": [
       "     team_power  team_finishing  opponent_power  opponent_finishing  \\\n",
       "252          79              72              76                  70   \n",
       "404          76              70              79                  72   \n",
       "669          78              77              79                  78   \n",
       "61           79              78              78                  77   \n",
       "301          81              75              79                  72   \n",
       "\n",
       "     team_shots  opponent_shots          team_name  team_id   opponent_name  \\\n",
       "252           8               3        Aston Villa        2  Crystal Palace   \n",
       "404           3               8     Crystal Palace     1799     Aston Villa   \n",
       "669           1              10     Leicester City       95         Arsenal   \n",
       "61           10               1            Arsenal        1  Leicester City   \n",
       "301           4               8  Tottenham Hotspur       18     Aston Villa   \n",
       "\n",
       "     opponent_id  total_shots  predicted  error  \n",
       "252         1799           11         10      1  \n",
       "404            2           11         10      1  \n",
       "669            1           11         10      1  \n",
       "61            95           11         10      1  \n",
       "301            2           12         11      1  "
      ]
     },
     "execution_count": 39,
     "metadata": {},
     "output_type": "execute_result"
    }
   ],
   "source": [
    "model_head(df, features+columns_to_drop, target_variable, sort_parameter=\"predicted\", sort_ascending=True, n=5)"
   ]
  },
  {
   "cell_type": "code",
   "execution_count": 40,
   "id": "7d032a28",
   "metadata": {},
   "outputs": [
    {
     "name": "stdout",
     "output_type": "stream",
     "text": [
      "Min: 11 , Max: 45\n",
      "Result: 4.227159496149049\n",
      "Interval: [-5 -4 -3 -2 -1  0  1  2  3  4  5]\n"
     ]
    },
    {
     "data": {
      "text/plain": [
       "-1"
      ]
     },
     "execution_count": 40,
     "metadata": {},
     "output_type": "execute_result"
    }
   ],
   "source": [
    "randomness_func, interval_func = randomness_volume, interval_volume\n",
    "result = randomness_func(df, target_variable)\n",
    "interval = interval_func(result, step=1)\n",
    "\n",
    "print(\"Result:\", result)\n",
    "print(\"Interval:\", interval)\n",
    "random_choice(interval)"
   ]
  },
  {
   "cell_type": "code",
   "execution_count": 41,
   "id": "d895f703",
   "metadata": {},
   "outputs": [
    {
     "data": {
      "text/html": [
       "<div>\n",
       "<style scoped>\n",
       "    .dataframe tbody tr th:only-of-type {\n",
       "        vertical-align: middle;\n",
       "    }\n",
       "\n",
       "    .dataframe tbody tr th {\n",
       "        vertical-align: top;\n",
       "    }\n",
       "\n",
       "    .dataframe thead th {\n",
       "        text-align: right;\n",
       "    }\n",
       "</style>\n",
       "<table border=\"1\" class=\"dataframe\">\n",
       "  <thead>\n",
       "    <tr style=\"text-align: right;\">\n",
       "      <th></th>\n",
       "      <th>team_power</th>\n",
       "      <th>team_finishing</th>\n",
       "      <th>opponent_power</th>\n",
       "      <th>opponent_finishing</th>\n",
       "      <th>team_shots</th>\n",
       "      <th>opponent_shots</th>\n",
       "      <th>team_name</th>\n",
       "      <th>team_id</th>\n",
       "      <th>opponent_name</th>\n",
       "      <th>opponent_id</th>\n",
       "      <th>total_shots</th>\n",
       "      <th>predicted</th>\n",
       "      <th>randomness</th>\n",
       "    </tr>\n",
       "  </thead>\n",
       "  <tbody>\n",
       "    <tr>\n",
       "      <th>759</th>\n",
       "      <td>75</td>\n",
       "      <td>70</td>\n",
       "      <td>84</td>\n",
       "      <td>79</td>\n",
       "      <td>15</td>\n",
       "      <td>30</td>\n",
       "      <td>Southampton</td>\n",
       "      <td>17</td>\n",
       "      <td>Liverpool</td>\n",
       "      <td>9</td>\n",
       "      <td>45</td>\n",
       "      <td>45</td>\n",
       "      <td>50</td>\n",
       "    </tr>\n",
       "    <tr>\n",
       "      <th>189</th>\n",
       "      <td>84</td>\n",
       "      <td>79</td>\n",
       "      <td>75</td>\n",
       "      <td>70</td>\n",
       "      <td>30</td>\n",
       "      <td>15</td>\n",
       "      <td>Liverpool</td>\n",
       "      <td>9</td>\n",
       "      <td>Southampton</td>\n",
       "      <td>17</td>\n",
       "      <td>45</td>\n",
       "      <td>45</td>\n",
       "      <td>50</td>\n",
       "    </tr>\n",
       "    <tr>\n",
       "      <th>637</th>\n",
       "      <td>77</td>\n",
       "      <td>77</td>\n",
       "      <td>82</td>\n",
       "      <td>81</td>\n",
       "      <td>15</td>\n",
       "      <td>29</td>\n",
       "      <td>Everton</td>\n",
       "      <td>7</td>\n",
       "      <td>Manchester Utd</td>\n",
       "      <td>11</td>\n",
       "      <td>44</td>\n",
       "      <td>44</td>\n",
       "      <td>48</td>\n",
       "    </tr>\n",
       "    <tr>\n",
       "      <th>668</th>\n",
       "      <td>78</td>\n",
       "      <td>77</td>\n",
       "      <td>82</td>\n",
       "      <td>81</td>\n",
       "      <td>19</td>\n",
       "      <td>26</td>\n",
       "      <td>Leicester City</td>\n",
       "      <td>95</td>\n",
       "      <td>Manchester Utd</td>\n",
       "      <td>11</td>\n",
       "      <td>45</td>\n",
       "      <td>45</td>\n",
       "      <td>48</td>\n",
       "    </tr>\n",
       "    <tr>\n",
       "      <th>331</th>\n",
       "      <td>74</td>\n",
       "      <td>67</td>\n",
       "      <td>75</td>\n",
       "      <td>70</td>\n",
       "      <td>7</td>\n",
       "      <td>32</td>\n",
       "      <td>Brentford</td>\n",
       "      <td>1925</td>\n",
       "      <td>Brighton</td>\n",
       "      <td>1808</td>\n",
       "      <td>39</td>\n",
       "      <td>39</td>\n",
       "      <td>44</td>\n",
       "    </tr>\n",
       "  </tbody>\n",
       "</table>\n",
       "</div>"
      ],
      "text/plain": [
       "     team_power  team_finishing  opponent_power  opponent_finishing  \\\n",
       "759          75              70              84                  79   \n",
       "189          84              79              75                  70   \n",
       "637          77              77              82                  81   \n",
       "668          78              77              82                  81   \n",
       "331          74              67              75                  70   \n",
       "\n",
       "     team_shots  opponent_shots       team_name  team_id   opponent_name  \\\n",
       "759          15              30     Southampton       17       Liverpool   \n",
       "189          30              15       Liverpool        9     Southampton   \n",
       "637          15              29         Everton        7  Manchester Utd   \n",
       "668          19              26  Leicester City       95  Manchester Utd   \n",
       "331           7              32       Brentford     1925        Brighton   \n",
       "\n",
       "     opponent_id  total_shots  predicted  randomness  \n",
       "759            9           45         45          50  \n",
       "189           17           45         45          50  \n",
       "637           11           44         44          48  \n",
       "668           11           45         45          48  \n",
       "331         1808           39         39          44  "
      ]
     },
     "execution_count": 41,
     "metadata": {},
     "output_type": "execute_result"
    }
   ],
   "source": [
    "df[\"randomness\"] = df[\"predicted\"].copy()\n",
    "df[\"randomness\"] = df[\"predicted\"].apply(lambda value: negativity_protector(value + random_choice(interval), value))\n",
    "\n",
    "df[features+columns_to_drop+[target_variable,\"predicted\",\"randomness\"]].sort_values(\"randomness\", ascending=False).head(n=5)"
   ]
  },
  {
   "cell_type": "markdown",
   "id": "bb5c8567",
   "metadata": {
    "jp-MarkdownHeadingCollapsed": true
   },
   "source": [
    "<br><br><br><br>\n",
    "<h1 style=\"color:red\">Shot Share</h1>"
   ]
  },
  {
   "cell_type": "code",
   "execution_count": 42,
   "id": "b0160365",
   "metadata": {},
   "outputs": [],
   "source": [
    "df[\"team_sh_share\"] = df[\"team_shots\"] / df[\"total_shots\"]"
   ]
  },
  {
   "cell_type": "code",
   "execution_count": 43,
   "id": "9eea271d",
   "metadata": {},
   "outputs": [],
   "source": [
    "features = ['team_power', 'opponent_power']\n",
    "target_variable = 'team_sh_share'"
   ]
  },
  {
   "cell_type": "code",
   "execution_count": 44,
   "id": "1f2b72f8",
   "metadata": {},
   "outputs": [
    {
     "name": "stdout",
     "output_type": "stream",
     "text": [
      "Mean Squared Error: 0.026681810590791683\n",
      "Error Mean: 0.12985605019186\n"
     ]
    }
   ],
   "source": [
    "model, mse, coefficients, intercept = train_linear_regression(df, features, target_variable, float)\n",
    "mean_error = model_error(df, target_variable).mean()\n",
    "std_error = model_error(df, target_variable).std()\n",
    "print(\"Mean Squared Error:\", mse)\n",
    "print(\"Error Mean:\", mean_error)"
   ]
  },
  {
   "cell_type": "code",
   "execution_count": 45,
   "id": "229649fc",
   "metadata": {},
   "outputs": [
    {
     "data": {
      "text/plain": [
       "'1.60e-02 * team_power - 1.45e-02 * opponent_power + 3.78e-01'"
      ]
     },
     "execution_count": 45,
     "metadata": {},
     "output_type": "execute_result"
    }
   ],
   "source": [
    "model_equation(coefficients, intercept)"
   ]
  },
  {
   "cell_type": "code",
   "execution_count": 46,
   "id": "dedc81f0",
   "metadata": {},
   "outputs": [],
   "source": [
    "# plot_predicted_vs_actual(df, target_variable, model=model, features=features)"
   ]
  },
  {
   "cell_type": "code",
   "execution_count": 47,
   "id": "6b05fe89",
   "metadata": {},
   "outputs": [
    {
     "data": {
      "text/html": [
       "<div>\n",
       "<style scoped>\n",
       "    .dataframe tbody tr th:only-of-type {\n",
       "        vertical-align: middle;\n",
       "    }\n",
       "\n",
       "    .dataframe tbody tr th {\n",
       "        vertical-align: top;\n",
       "    }\n",
       "\n",
       "    .dataframe thead th {\n",
       "        text-align: right;\n",
       "    }\n",
       "</style>\n",
       "<table border=\"1\" class=\"dataframe\">\n",
       "  <thead>\n",
       "    <tr style=\"text-align: right;\">\n",
       "      <th></th>\n",
       "      <th>team_power</th>\n",
       "      <th>opponent_power</th>\n",
       "      <th>team_name</th>\n",
       "      <th>team_id</th>\n",
       "      <th>opponent_name</th>\n",
       "      <th>opponent_id</th>\n",
       "      <th>team_sh_share</th>\n",
       "      <th>predicted</th>\n",
       "      <th>error</th>\n",
       "    </tr>\n",
       "  </thead>\n",
       "  <tbody>\n",
       "    <tr>\n",
       "      <th>13</th>\n",
       "      <td>85</td>\n",
       "      <td>74</td>\n",
       "      <td>Manchester City</td>\n",
       "      <td>10</td>\n",
       "      <td>Brentford</td>\n",
       "      <td>1925</td>\n",
       "      <td>0.743590</td>\n",
       "      <td>0.667946</td>\n",
       "      <td>0.075644</td>\n",
       "    </tr>\n",
       "    <tr>\n",
       "      <th>1</th>\n",
       "      <td>85</td>\n",
       "      <td>74</td>\n",
       "      <td>Manchester City</td>\n",
       "      <td>10</td>\n",
       "      <td>Bournemouth</td>\n",
       "      <td>1943</td>\n",
       "      <td>0.863636</td>\n",
       "      <td>0.667946</td>\n",
       "      <td>0.195691</td>\n",
       "    </tr>\n",
       "    <tr>\n",
       "      <th>37</th>\n",
       "      <td>85</td>\n",
       "      <td>74</td>\n",
       "      <td>Manchester City</td>\n",
       "      <td>10</td>\n",
       "      <td>Brentford</td>\n",
       "      <td>1925</td>\n",
       "      <td>0.607143</td>\n",
       "      <td>0.667946</td>\n",
       "      <td>-0.060803</td>\n",
       "    </tr>\n",
       "    <tr>\n",
       "      <th>24</th>\n",
       "      <td>85</td>\n",
       "      <td>74</td>\n",
       "      <td>Manchester City</td>\n",
       "      <td>10</td>\n",
       "      <td>Bournemouth</td>\n",
       "      <td>1943</td>\n",
       "      <td>0.606061</td>\n",
       "      <td>0.667946</td>\n",
       "      <td>-0.061885</td>\n",
       "    </tr>\n",
       "    <tr>\n",
       "      <th>36</th>\n",
       "      <td>85</td>\n",
       "      <td>75</td>\n",
       "      <td>Manchester City</td>\n",
       "      <td>10</td>\n",
       "      <td>Brighton</td>\n",
       "      <td>1808</td>\n",
       "      <td>0.393939</td>\n",
       "      <td>0.653459</td>\n",
       "      <td>-0.259520</td>\n",
       "    </tr>\n",
       "  </tbody>\n",
       "</table>\n",
       "</div>"
      ],
      "text/plain": [
       "    team_power  opponent_power        team_name  team_id opponent_name  \\\n",
       "13          85              74  Manchester City       10     Brentford   \n",
       "1           85              74  Manchester City       10   Bournemouth   \n",
       "37          85              74  Manchester City       10     Brentford   \n",
       "24          85              74  Manchester City       10   Bournemouth   \n",
       "36          85              75  Manchester City       10      Brighton   \n",
       "\n",
       "    opponent_id  team_sh_share  predicted     error  \n",
       "13         1925       0.743590   0.667946  0.075644  \n",
       "1          1943       0.863636   0.667946  0.195691  \n",
       "37         1925       0.607143   0.667946 -0.060803  \n",
       "24         1943       0.606061   0.667946 -0.061885  \n",
       "36         1808       0.393939   0.653459 -0.259520  "
      ]
     },
     "execution_count": 47,
     "metadata": {},
     "output_type": "execute_result"
    }
   ],
   "source": [
    "model_head(df, features+columns_to_drop, target_variable, sort_parameter=\"predicted\", sort_ascending=False, n=5)"
   ]
  },
  {
   "cell_type": "code",
   "execution_count": 48,
   "id": "1708810c",
   "metadata": {},
   "outputs": [
    {
     "name": "stdout",
     "output_type": "stream",
     "text": [
      "Min: 0.041666666666666664 , Max: 0.9583333333333334\n",
      "Result: 0.08333333333333333\n",
      "Interval: [-0.093 -0.083 -0.073 -0.063 -0.053 -0.043 -0.033 -0.023 -0.013 -0.003\n",
      "  0.007  0.017  0.027  0.037  0.047  0.057  0.067  0.077  0.087  0.097]\n"
     ]
    },
    {
     "data": {
      "text/plain": [
       "-0.03300000000000003"
      ]
     },
     "execution_count": 48,
     "metadata": {},
     "output_type": "execute_result"
    }
   ],
   "source": [
    "randomness_func, interval_func = randomness_proportional, interval_proportional\n",
    "result = randomness_func(df, target_variable)\n",
    "interval = interval_func(result, step=0.01)\n",
    "\n",
    "print(\"Result:\", result)\n",
    "print(\"Interval:\", interval)\n",
    "random_choice(interval)"
   ]
  },
  {
   "cell_type": "code",
   "execution_count": 49,
   "id": "082747e9",
   "metadata": {},
   "outputs": [
    {
     "data": {
      "text/html": [
       "<div>\n",
       "<style scoped>\n",
       "    .dataframe tbody tr th:only-of-type {\n",
       "        vertical-align: middle;\n",
       "    }\n",
       "\n",
       "    .dataframe tbody tr th {\n",
       "        vertical-align: top;\n",
       "    }\n",
       "\n",
       "    .dataframe thead th {\n",
       "        text-align: right;\n",
       "    }\n",
       "</style>\n",
       "<table border=\"1\" class=\"dataframe\">\n",
       "  <thead>\n",
       "    <tr style=\"text-align: right;\">\n",
       "      <th></th>\n",
       "      <th>team_power</th>\n",
       "      <th>opponent_power</th>\n",
       "      <th>team_name</th>\n",
       "      <th>team_id</th>\n",
       "      <th>opponent_name</th>\n",
       "      <th>opponent_id</th>\n",
       "      <th>team_sh_share</th>\n",
       "      <th>predicted</th>\n",
       "      <th>randomness</th>\n",
       "    </tr>\n",
       "  </thead>\n",
       "  <tbody>\n",
       "    <tr>\n",
       "      <th>24</th>\n",
       "      <td>85</td>\n",
       "      <td>74</td>\n",
       "      <td>Manchester City</td>\n",
       "      <td>10</td>\n",
       "      <td>Bournemouth</td>\n",
       "      <td>1943</td>\n",
       "      <td>0.606061</td>\n",
       "      <td>0.667946</td>\n",
       "      <td>0.764946</td>\n",
       "    </tr>\n",
       "    <tr>\n",
       "      <th>36</th>\n",
       "      <td>85</td>\n",
       "      <td>75</td>\n",
       "      <td>Manchester City</td>\n",
       "      <td>10</td>\n",
       "      <td>Brighton</td>\n",
       "      <td>1808</td>\n",
       "      <td>0.393939</td>\n",
       "      <td>0.653459</td>\n",
       "      <td>0.750459</td>\n",
       "    </tr>\n",
       "    <tr>\n",
       "      <th>432</th>\n",
       "      <td>84</td>\n",
       "      <td>74</td>\n",
       "      <td>Chelsea</td>\n",
       "      <td>5</td>\n",
       "      <td>Bournemouth</td>\n",
       "      <td>1943</td>\n",
       "      <td>0.625000</td>\n",
       "      <td>0.651927</td>\n",
       "      <td>0.748927</td>\n",
       "    </tr>\n",
       "    <tr>\n",
       "      <th>3</th>\n",
       "      <td>85</td>\n",
       "      <td>76</td>\n",
       "      <td>Manchester City</td>\n",
       "      <td>10</td>\n",
       "      <td>Crystal Palace</td>\n",
       "      <td>1799</td>\n",
       "      <td>0.900000</td>\n",
       "      <td>0.638973</td>\n",
       "      <td>0.725973</td>\n",
       "    </tr>\n",
       "    <tr>\n",
       "      <th>13</th>\n",
       "      <td>85</td>\n",
       "      <td>74</td>\n",
       "      <td>Manchester City</td>\n",
       "      <td>10</td>\n",
       "      <td>Brentford</td>\n",
       "      <td>1925</td>\n",
       "      <td>0.743590</td>\n",
       "      <td>0.667946</td>\n",
       "      <td>0.724946</td>\n",
       "    </tr>\n",
       "  </tbody>\n",
       "</table>\n",
       "</div>"
      ],
      "text/plain": [
       "     team_power  opponent_power        team_name  team_id   opponent_name  \\\n",
       "24           85              74  Manchester City       10     Bournemouth   \n",
       "36           85              75  Manchester City       10        Brighton   \n",
       "432          84              74          Chelsea        5     Bournemouth   \n",
       "3            85              76  Manchester City       10  Crystal Palace   \n",
       "13           85              74  Manchester City       10       Brentford   \n",
       "\n",
       "     opponent_id  team_sh_share  predicted  randomness  \n",
       "24          1943       0.606061   0.667946    0.764946  \n",
       "36          1808       0.393939   0.653459    0.750459  \n",
       "432         1943       0.625000   0.651927    0.748927  \n",
       "3           1799       0.900000   0.638973    0.725973  \n",
       "13          1925       0.743590   0.667946    0.724946  "
      ]
     },
     "execution_count": 49,
     "metadata": {},
     "output_type": "execute_result"
    }
   ],
   "source": [
    "df[\"randomness\"] = df[\"predicted\"].copy()\n",
    "df[\"randomness\"] = df[\"predicted\"].apply(lambda value: probability_protector(value + random_choice(interval)))\n",
    "\n",
    "df[features+columns_to_drop+[target_variable,\"predicted\",\"randomness\"]].sort_values(\"randomness\", ascending=False).head(n=5)"
   ]
  },
  {
   "cell_type": "code",
   "execution_count": 50,
   "id": "848dcd1d",
   "metadata": {},
   "outputs": [
    {
     "data": {
      "text/plain": [
       "0.7619999999999998"
      ]
     },
     "execution_count": 50,
     "metadata": {},
     "output_type": "execute_result"
    }
   ],
   "source": [
    "team_power = 82\n",
    "opponent_power = 70\n",
    "\n",
    "y = 1.60e-02 * team_power - 1.45e-02 * opponent_power + 3.78e-01\n",
    "probability_protector(y+random_choice(interval)) # MODEL IS DONE!"
   ]
  },
  {
   "cell_type": "markdown",
   "id": "b1a3bcc1",
   "metadata": {
    "jp-MarkdownHeadingCollapsed": true
   },
   "source": [
    "<br><br><br><br>\n",
    "<h1 style=\"color:red\">Shot on Target</h1>"
   ]
  },
  {
   "cell_type": "code",
   "execution_count": 51,
   "id": "ff2cb5dc",
   "metadata": {},
   "outputs": [],
   "source": [
    "features = ['team_power', 'team_finishing', 'opponent_power', 'team_shots']\n",
    "target_variable = 'team_shots_on_target'"
   ]
  },
  {
   "cell_type": "code",
   "execution_count": 52,
   "id": "04ab8d8e",
   "metadata": {},
   "outputs": [
    {
     "name": "stdout",
     "output_type": "stream",
     "text": [
      "Mean Squared Error: 2.706647120396336\n",
      "Error Mean: 1.3657894736842104\n"
     ]
    }
   ],
   "source": [
    "model, mse, coefficients, intercept = train_linear_regression(df, features, target_variable, int)\n",
    "mean_error = model_error(df, target_variable).mean()\n",
    "std_error = model_error(df, target_variable).std()\n",
    "print(\"Mean Squared Error:\", mse)\n",
    "print(\"Error Mean:\", mean_error)"
   ]
  },
  {
   "cell_type": "code",
   "execution_count": 53,
   "id": "5171d889",
   "metadata": {},
   "outputs": [
    {
     "data": {
      "text/plain": [
       "'3.19e-03 * team_power - 1.82e-04 * team_finishing + 1.42e-03 * opponent_power + 2.90e-01 * team_shots + 1.61e-01'"
      ]
     },
     "execution_count": 53,
     "metadata": {},
     "output_type": "execute_result"
    }
   ],
   "source": [
    "model_equation(coefficients, intercept)"
   ]
  },
  {
   "cell_type": "code",
   "execution_count": 54,
   "id": "0d56a2e6",
   "metadata": {},
   "outputs": [],
   "source": [
    "# plot_predicted_vs_actual(df, target_variable, model=model, features=features)"
   ]
  },
  {
   "cell_type": "code",
   "execution_count": 55,
   "id": "4a7c4fb5",
   "metadata": {},
   "outputs": [
    {
     "data": {
      "text/html": [
       "<div>\n",
       "<style scoped>\n",
       "    .dataframe tbody tr th:only-of-type {\n",
       "        vertical-align: middle;\n",
       "    }\n",
       "\n",
       "    .dataframe tbody tr th {\n",
       "        vertical-align: top;\n",
       "    }\n",
       "\n",
       "    .dataframe thead th {\n",
       "        text-align: right;\n",
       "    }\n",
       "</style>\n",
       "<table border=\"1\" class=\"dataframe\">\n",
       "  <thead>\n",
       "    <tr style=\"text-align: right;\">\n",
       "      <th></th>\n",
       "      <th>team_power</th>\n",
       "      <th>team_finishing</th>\n",
       "      <th>opponent_power</th>\n",
       "      <th>team_shots</th>\n",
       "      <th>team_name</th>\n",
       "      <th>team_id</th>\n",
       "      <th>opponent_name</th>\n",
       "      <th>opponent_id</th>\n",
       "      <th>team_shots_on_target</th>\n",
       "      <th>predicted</th>\n",
       "      <th>error</th>\n",
       "    </tr>\n",
       "  </thead>\n",
       "  <tbody>\n",
       "    <tr>\n",
       "      <th>189</th>\n",
       "      <td>84</td>\n",
       "      <td>79</td>\n",
       "      <td>75</td>\n",
       "      <td>30</td>\n",
       "      <td>Liverpool</td>\n",
       "      <td>9</td>\n",
       "      <td>Southampton</td>\n",
       "      <td>17</td>\n",
       "      <td>8</td>\n",
       "      <td>9</td>\n",
       "      <td>-1</td>\n",
       "    </tr>\n",
       "    <tr>\n",
       "      <th>408</th>\n",
       "      <td>76</td>\n",
       "      <td>70</td>\n",
       "      <td>78</td>\n",
       "      <td>31</td>\n",
       "      <td>Crystal Palace</td>\n",
       "      <td>1799</td>\n",
       "      <td>Leicester City</td>\n",
       "      <td>95</td>\n",
       "      <td>9</td>\n",
       "      <td>9</td>\n",
       "      <td>0</td>\n",
       "    </tr>\n",
       "    <tr>\n",
       "      <th>63</th>\n",
       "      <td>79</td>\n",
       "      <td>78</td>\n",
       "      <td>74</td>\n",
       "      <td>31</td>\n",
       "      <td>Arsenal</td>\n",
       "      <td>1</td>\n",
       "      <td>Bournemouth</td>\n",
       "      <td>1943</td>\n",
       "      <td>9</td>\n",
       "      <td>9</td>\n",
       "      <td>0</td>\n",
       "    </tr>\n",
       "    <tr>\n",
       "      <th>215</th>\n",
       "      <td>75</td>\n",
       "      <td>70</td>\n",
       "      <td>74</td>\n",
       "      <td>32</td>\n",
       "      <td>Brighton &amp; Hove Albion</td>\n",
       "      <td>1808</td>\n",
       "      <td>Brentford</td>\n",
       "      <td>1925</td>\n",
       "      <td>13</td>\n",
       "      <td>9</td>\n",
       "      <td>4</td>\n",
       "    </tr>\n",
       "    <tr>\n",
       "      <th>14</th>\n",
       "      <td>85</td>\n",
       "      <td>82</td>\n",
       "      <td>76</td>\n",
       "      <td>26</td>\n",
       "      <td>Manchester City</td>\n",
       "      <td>10</td>\n",
       "      <td>Leeds United</td>\n",
       "      <td>8</td>\n",
       "      <td>9</td>\n",
       "      <td>8</td>\n",
       "      <td>1</td>\n",
       "    </tr>\n",
       "  </tbody>\n",
       "</table>\n",
       "</div>"
      ],
      "text/plain": [
       "     team_power  team_finishing  opponent_power  team_shots  \\\n",
       "189          84              79              75          30   \n",
       "408          76              70              78          31   \n",
       "63           79              78              74          31   \n",
       "215          75              70              74          32   \n",
       "14           85              82              76          26   \n",
       "\n",
       "                  team_name  team_id   opponent_name  opponent_id  \\\n",
       "189               Liverpool        9     Southampton           17   \n",
       "408          Crystal Palace     1799  Leicester City           95   \n",
       "63                  Arsenal        1     Bournemouth         1943   \n",
       "215  Brighton & Hove Albion     1808       Brentford         1925   \n",
       "14          Manchester City       10    Leeds United            8   \n",
       "\n",
       "     team_shots_on_target  predicted  error  \n",
       "189                     8          9     -1  \n",
       "408                     9          9      0  \n",
       "63                      9          9      0  \n",
       "215                    13          9      4  \n",
       "14                      9          8      1  "
      ]
     },
     "execution_count": 55,
     "metadata": {},
     "output_type": "execute_result"
    }
   ],
   "source": [
    "model_head(df, features+columns_to_drop, target_variable, sort_parameter=\"predicted\", sort_ascending=False, n=5)"
   ]
  },
  {
   "cell_type": "code",
   "execution_count": 56,
   "id": "c17840a9",
   "metadata": {},
   "outputs": [
    {
     "name": "stdout",
     "output_type": "stream",
     "text": [
      "Min: 0 , Max: 13\n",
      "Result: 1.773270511652842\n",
      "Interval: [-2 -1  0  1  2]\n"
     ]
    },
    {
     "data": {
      "text/plain": [
       "1"
      ]
     },
     "execution_count": 56,
     "metadata": {},
     "output_type": "execute_result"
    }
   ],
   "source": [
    "randomness_func, interval_func = randomness_volume, interval_volume\n",
    "result = randomness_func(df, target_variable)\n",
    "interval = interval_func(result, step=1)\n",
    "\n",
    "print(\"Result:\", result)\n",
    "print(\"Interval:\", interval)\n",
    "random_choice(interval)"
   ]
  },
  {
   "cell_type": "code",
   "execution_count": 57,
   "id": "1971ba80",
   "metadata": {},
   "outputs": [
    {
     "data": {
      "text/html": [
       "<div>\n",
       "<style scoped>\n",
       "    .dataframe tbody tr th:only-of-type {\n",
       "        vertical-align: middle;\n",
       "    }\n",
       "\n",
       "    .dataframe tbody tr th {\n",
       "        vertical-align: top;\n",
       "    }\n",
       "\n",
       "    .dataframe thead th {\n",
       "        text-align: right;\n",
       "    }\n",
       "</style>\n",
       "<table border=\"1\" class=\"dataframe\">\n",
       "  <thead>\n",
       "    <tr style=\"text-align: right;\">\n",
       "      <th></th>\n",
       "      <th>team_power</th>\n",
       "      <th>team_finishing</th>\n",
       "      <th>opponent_power</th>\n",
       "      <th>team_shots</th>\n",
       "      <th>team_name</th>\n",
       "      <th>team_id</th>\n",
       "      <th>opponent_name</th>\n",
       "      <th>opponent_id</th>\n",
       "      <th>team_shots_on_target</th>\n",
       "      <th>predicted</th>\n",
       "      <th>randomness</th>\n",
       "    </tr>\n",
       "  </thead>\n",
       "  <tbody>\n",
       "    <tr>\n",
       "      <th>408</th>\n",
       "      <td>76</td>\n",
       "      <td>70</td>\n",
       "      <td>78</td>\n",
       "      <td>31</td>\n",
       "      <td>Crystal Palace</td>\n",
       "      <td>1799</td>\n",
       "      <td>Leicester City</td>\n",
       "      <td>95</td>\n",
       "      <td>9</td>\n",
       "      <td>9</td>\n",
       "      <td>11</td>\n",
       "    </tr>\n",
       "    <tr>\n",
       "      <th>189</th>\n",
       "      <td>84</td>\n",
       "      <td>79</td>\n",
       "      <td>75</td>\n",
       "      <td>30</td>\n",
       "      <td>Liverpool</td>\n",
       "      <td>9</td>\n",
       "      <td>Southampton</td>\n",
       "      <td>17</td>\n",
       "      <td>8</td>\n",
       "      <td>9</td>\n",
       "      <td>11</td>\n",
       "    </tr>\n",
       "    <tr>\n",
       "      <th>63</th>\n",
       "      <td>79</td>\n",
       "      <td>78</td>\n",
       "      <td>74</td>\n",
       "      <td>31</td>\n",
       "      <td>Arsenal</td>\n",
       "      <td>1</td>\n",
       "      <td>Bournemouth</td>\n",
       "      <td>1943</td>\n",
       "      <td>9</td>\n",
       "      <td>9</td>\n",
       "      <td>11</td>\n",
       "    </tr>\n",
       "    <tr>\n",
       "      <th>215</th>\n",
       "      <td>75</td>\n",
       "      <td>70</td>\n",
       "      <td>74</td>\n",
       "      <td>32</td>\n",
       "      <td>Brighton &amp; Hove Albion</td>\n",
       "      <td>1808</td>\n",
       "      <td>Brentford</td>\n",
       "      <td>1925</td>\n",
       "      <td>13</td>\n",
       "      <td>9</td>\n",
       "      <td>10</td>\n",
       "    </tr>\n",
       "    <tr>\n",
       "      <th>296</th>\n",
       "      <td>81</td>\n",
       "      <td>75</td>\n",
       "      <td>74</td>\n",
       "      <td>24</td>\n",
       "      <td>Tottenham Hotspur</td>\n",
       "      <td>18</td>\n",
       "      <td>Bournemouth</td>\n",
       "      <td>1943</td>\n",
       "      <td>8</td>\n",
       "      <td>7</td>\n",
       "      <td>9</td>\n",
       "    </tr>\n",
       "  </tbody>\n",
       "</table>\n",
       "</div>"
      ],
      "text/plain": [
       "     team_power  team_finishing  opponent_power  team_shots  \\\n",
       "408          76              70              78          31   \n",
       "189          84              79              75          30   \n",
       "63           79              78              74          31   \n",
       "215          75              70              74          32   \n",
       "296          81              75              74          24   \n",
       "\n",
       "                  team_name  team_id   opponent_name  opponent_id  \\\n",
       "408          Crystal Palace     1799  Leicester City           95   \n",
       "189               Liverpool        9     Southampton           17   \n",
       "63                  Arsenal        1     Bournemouth         1943   \n",
       "215  Brighton & Hove Albion     1808       Brentford         1925   \n",
       "296       Tottenham Hotspur       18     Bournemouth         1943   \n",
       "\n",
       "     team_shots_on_target  predicted  randomness  \n",
       "408                     9          9          11  \n",
       "189                     8          9          11  \n",
       "63                      9          9          11  \n",
       "215                    13          9          10  \n",
       "296                     8          7           9  "
      ]
     },
     "execution_count": 57,
     "metadata": {},
     "output_type": "execute_result"
    }
   ],
   "source": [
    "df[\"randomness\"] = df[\"predicted\"].copy()\n",
    "df[\"randomness\"] = df[\"predicted\"].apply(lambda value: negativity_protector(value + random_choice(interval), value))\n",
    "\n",
    "df[features+columns_to_drop+[target_variable,\"predicted\",\"randomness\"]].sort_values(\"randomness\", ascending=False).head(n=5)"
   ]
  },
  {
   "cell_type": "markdown",
   "id": "b640dc7c",
   "metadata": {
    "jp-MarkdownHeadingCollapsed": true
   },
   "source": [
    "<br><br><br><br>\n",
    "<h1 style=\"color:purple\">Shot Models Test</h1>"
   ]
  },
  {
   "cell_type": "code",
   "execution_count": null,
   "id": "a75102f3",
   "metadata": {},
   "outputs": [],
   "source": []
  },
  {
   "cell_type": "markdown",
   "id": "a171c051",
   "metadata": {
    "jp-MarkdownHeadingCollapsed": true
   },
   "source": [
    "<br><br><br><br>\n",
    "<h1 style=\"color:black\">Lineup Test</h1>"
   ]
  },
  {
   "cell_type": "code",
   "execution_count": 58,
   "id": "37f570a7",
   "metadata": {},
   "outputs": [],
   "source": [
    "lineup_test_ids = [230621, 235212, 155862, 207865, 252145, 199556, 234153, 230767, 231747, 158023, 190871]\n",
    "test_team_df = []\n",
    "for player_id in lineup_test_ids:\n",
    "    player_df = players_df[players_df['player_id'] == player_id]\n",
    "    test_team_df.append(player_df)\n",
    "result_df = pd.concat(test_team_df, ignore_index=True)"
   ]
  },
  {
   "cell_type": "code",
   "execution_count": 59,
   "id": "656cf4ea",
   "metadata": {},
   "outputs": [
    {
     "data": {
      "text/html": [
       "<div>\n",
       "<style scoped>\n",
       "    .dataframe tbody tr th:only-of-type {\n",
       "        vertical-align: middle;\n",
       "    }\n",
       "\n",
       "    .dataframe tbody tr th {\n",
       "        vertical-align: top;\n",
       "    }\n",
       "\n",
       "    .dataframe thead th {\n",
       "        text-align: right;\n",
       "    }\n",
       "</style>\n",
       "<table border=\"1\" class=\"dataframe\">\n",
       "  <thead>\n",
       "    <tr style=\"text-align: right;\">\n",
       "      <th></th>\n",
       "      <th>league_id</th>\n",
       "      <th>club_team_id</th>\n",
       "      <th>league_name</th>\n",
       "      <th>club_name</th>\n",
       "      <th>power</th>\n",
       "      <th>finishing</th>\n",
       "    </tr>\n",
       "  </thead>\n",
       "  <tbody>\n",
       "    <tr>\n",
       "      <th>0</th>\n",
       "      <td>16</td>\n",
       "      <td>73</td>\n",
       "      <td>Ligue 1</td>\n",
       "      <td>Paris Saint Germain</td>\n",
       "      <td>85</td>\n",
       "      <td>79</td>\n",
       "    </tr>\n",
       "  </tbody>\n",
       "</table>\n",
       "</div>"
      ],
      "text/plain": [
       "   league_id  club_team_id league_name            club_name  power  finishing\n",
       "0         16            73     Ligue 1  Paris Saint Germain     85         79"
      ]
     },
     "execution_count": 59,
     "metadata": {},
     "output_type": "execute_result"
    }
   ],
   "source": [
    "TFR(result_df)[\"data\"]"
   ]
  },
  {
   "cell_type": "markdown",
   "id": "d7f9bb8a",
   "metadata": {
    "jp-MarkdownHeadingCollapsed": true
   },
   "source": [
    "<br><br><br><br>\n",
    "<h1 style=\"color:yellow\">\"passing\"</h1>"
   ]
  },
  {
   "cell_type": "code",
   "execution_count": 60,
   "id": "85dc8cc4",
   "metadata": {},
   "outputs": [],
   "source": [
    "current_stat = \"passing\""
   ]
  },
  {
   "cell_type": "code",
   "execution_count": 61,
   "id": "f3eb038d",
   "metadata": {},
   "outputs": [
    {
     "data": {
      "text/plain": [
       "['Date',\n",
       " 'Time',\n",
       " 'Round',\n",
       " 'Day',\n",
       " 'Venue',\n",
       " 'Result',\n",
       " 'GF',\n",
       " 'GA',\n",
       " 'Opponent',\n",
       " 'Total.Cmp',\n",
       " 'Total.Att',\n",
       " 'Total.Cmp%',\n",
       " 'Total.TotDist',\n",
       " 'Total.PrgDist',\n",
       " 'Short.Cmp',\n",
       " 'Short.Att',\n",
       " 'Short.Cmp%',\n",
       " 'Medium.Cmp',\n",
       " 'Medium.Att',\n",
       " 'Medium.Cmp%',\n",
       " 'Long.Cmp',\n",
       " 'Long.Att',\n",
       " 'Long.Cmp%',\n",
       " 'Unnamed: 23_level_0.Ast',\n",
       " 'Unnamed: 24_level_0.xAG',\n",
       " 'Unnamed: 25_level_0.xA',\n",
       " 'Unnamed: 26_level_0.KP',\n",
       " 'Unnamed: 27_level_0.1/3',\n",
       " 'Unnamed: 28_level_0.PPA',\n",
       " 'Unnamed: 29_level_0.CrsPA',\n",
       " 'Unnamed: 30_level_0.PrgP',\n",
       " 'Unnamed: 31_level_0.Match Report']"
      ]
     },
     "execution_count": 61,
     "metadata": {},
     "output_type": "execute_result"
    }
   ],
   "source": [
    "cols = FB_MatchLogs(test_stat_df(current_stat))[\"for\"]\n",
    "ColumnConverter(cols, \"For\")"
   ]
  },
  {
   "cell_type": "code",
   "execution_count": 62,
   "id": "eec129fc",
   "metadata": {},
   "outputs": [],
   "source": [
    "column_names = ['Date', 'Time', 'Round', 'Day', 'Venue', 'Result', 'GF', 'GA',\n",
    "                'Opponent', 'Total.Cmp', 'Total.Att', 'Total.Cmp%', 'Total.TotDist',\n",
    "                'Total.PrgDist', 'Short.Cmp', 'Short.Att', 'Short.Cmp%', 'Medium.Cmp',\n",
    "                'Medium.Att', 'Medium.Cmp%', 'Long.Cmp', 'Long.Att', 'Long.Cmp%',\n",
    "                'Unnamed: 23_level_0.Ast', 'Unnamed: 24_level_0.xAG',\n",
    "                'Unnamed: 25_level_0.xA', 'Unnamed: 26_level_0.KP',\n",
    "                'Unnamed: 27_level_0.1/3', 'Unnamed: 28_level_0.PPA',\n",
    "                'Unnamed: 29_level_0.CrsPA', 'Unnamed: 30_level_0.PrgP',\n",
    "                'Unnamed: 31_level_0.Match Report']\n",
    "\n",
    "proper_terms = ['Date', 'Time', 'Round', 'Day', 'Venue', 'Result', 'GF', 'GA',\n",
    "                'Opponent', 'Total_Completion', 'Total_Attempts', 'Total_Completion_Rate',\n",
    "                'Total_Total_Distance', 'Total_Progressed_Distance', 'Short_Completion',\n",
    "                'Short_Attempts', 'Short_Completion_Rate', 'Medium_Completion',\n",
    "                'Medium_Attempts', 'Medium_Completion_Rate', 'Long_Completion',\n",
    "                'Long_Attempts', 'Long_Completion_Rate', 'Assists', 'Expected_Goals_Against',\n",
    "                'Expected_Assists', 'Key_Passes', 'Final_Third_Passes', 'Passes_Progressive',\n",
    "                'Passes_Into_Final_Third', 'Crosses_And_Corners_Completion', 'Progressive_Passes',\n",
    "                'Match_Report']\n",
    "\n",
    "proper_terms = [term.lower().replace(\" \", \"_\") for term in proper_terms]\n",
    "column_dict = dict(zip(proper_terms, column_names))\n",
    "\n",
    "prepared_index_dict = column_dict\n",
    "prepared_rating_data = [tpr_data, tfr_data]"
   ]
  },
  {
   "cell_type": "code",
   "execution_count": 63,
   "id": "e793ebf2",
   "metadata": {},
   "outputs": [],
   "source": [
    "# df_log_array = generate_fbref_match_logs_array \\\n",
    "# (match_logs_stats_dict, prepared_index_dict, tpr_data, \\\n",
    "#  prepared_rating_data, league_id, team_number_league, last_matchweek, current_stat)\n",
    "# df_log = pd.DataFrame(df_log_array)\n",
    "# df_log.to_csv(f\"../@blacksmith/match_logs/fbref_match_logs_{league_name}@{current_stat}.csv\")\n",
    "\n",
    "df_log = pd.read_csv(f\"../@blacksmith/match_logs/fbref_match_logs_{league_name}@{current_stat}.csv\")"
   ]
  },
  {
   "cell_type": "code",
   "execution_count": 64,
   "id": "e7a1735f",
   "metadata": {},
   "outputs": [
    {
     "data": {
      "text/plain": [
       "Index(['Unnamed: 0', 'league_id', 'team_name', 'team_id', 'opponent_name',\n",
       "       'opponent_id', 'team_power', 'opponent_power', 'team_date',\n",
       "       'opponent_date', 'team_time', 'opponent_time', 'team_round',\n",
       "       'opponent_round', 'team_day', 'opponent_day', 'team_venue',\n",
       "       'opponent_venue', 'team_result', 'opponent_result', 'team_gf',\n",
       "       'opponent_gf', 'team_ga', 'opponent_ga', 'team_opponent',\n",
       "       'opponent_opponent', 'team_total_completion',\n",
       "       'opponent_total_completion', 'team_total_attempts',\n",
       "       'opponent_total_attempts', 'team_total_completion_rate',\n",
       "       'opponent_total_completion_rate', 'team_total_total_distance',\n",
       "       'opponent_total_total_distance', 'team_total_progressed_distance',\n",
       "       'opponent_total_progressed_distance', 'team_short_completion',\n",
       "       'opponent_short_completion', 'team_short_attempts',\n",
       "       'opponent_short_attempts', 'team_short_completion_rate',\n",
       "       'opponent_short_completion_rate', 'team_medium_completion',\n",
       "       'opponent_medium_completion', 'team_medium_attempts',\n",
       "       'opponent_medium_attempts', 'team_medium_completion_rate',\n",
       "       'opponent_medium_completion_rate', 'team_long_completion',\n",
       "       'opponent_long_completion', 'team_long_attempts',\n",
       "       'opponent_long_attempts', 'team_long_completion_rate',\n",
       "       'opponent_long_completion_rate', 'team_assists', 'opponent_assists',\n",
       "       'team_expected_goals_against', 'opponent_expected_goals_against',\n",
       "       'team_expected_assists', 'opponent_expected_assists', 'team_key_passes',\n",
       "       'opponent_key_passes', 'team_final_third_passes',\n",
       "       'opponent_final_third_passes', 'team_passes_progressive',\n",
       "       'opponent_passes_progressive', 'team_passes_into_final_third',\n",
       "       'opponent_passes_into_final_third',\n",
       "       'team_crosses_and_corners_completion',\n",
       "       'opponent_crosses_and_corners_completion', 'team_progressive_passes',\n",
       "       'opponent_progressive_passes', 'team_finishing', 'opponent_finishing'],\n",
       "      dtype='object')"
      ]
     },
     "execution_count": 64,
     "metadata": {},
     "output_type": "execute_result"
    }
   ],
   "source": [
    "df_log.columns"
   ]
  },
  {
   "cell_type": "markdown",
   "id": "d28cf69e-785b-42d8-925f-a0fdebac6865",
   "metadata": {},
   "source": [
    "<br><br><br><br>\n",
    "<h1 style=\"color:red\">Pass Total Attempts</h1>"
   ]
  },
  {
   "cell_type": "code",
   "execution_count": 65,
   "id": "33f51181",
   "metadata": {},
   "outputs": [],
   "source": [
    "df = df_log\n",
    "features = ['team_power', 'opponent_power', 'team_total_attempts']\n",
    "target_variable = 'team_total_completion'"
   ]
  },
  {
   "cell_type": "code",
   "execution_count": 66,
   "id": "e1cd352a",
   "metadata": {},
   "outputs": [
    {
     "name": "stdout",
     "output_type": "stream",
     "text": [
      "Mean Squared Error: 250.68588265269466\n",
      "Error Mean: 12.889473684210527\n"
     ]
    }
   ],
   "source": [
    "model, mse, coefficients, intercept = train_linear_regression(df, features, target_variable, int)\n",
    "mean_error = model_error(df, target_variable).mean()\n",
    "std_error = model_error(df, target_variable).std()\n",
    "print(\"Mean Squared Error:\", mse)\n",
    "print(\"Error Mean:\", mean_error)"
   ]
  },
  {
   "cell_type": "code",
   "execution_count": 67,
   "id": "69b2674d",
   "metadata": {},
   "outputs": [],
   "source": [
    "# plot_predicted_vs_actual(df, target_variable, model=model, features=features)"
   ]
  },
  {
   "cell_type": "code",
   "execution_count": 68,
   "id": "7125e860",
   "metadata": {},
   "outputs": [
    {
     "data": {
      "text/plain": [
       "'1.21e+00 * team_power + 1.07e+00 * opponent_power + 9.78e-01 * team_total_attempts - 2.70e+02'"
      ]
     },
     "execution_count": 68,
     "metadata": {},
     "output_type": "execute_result"
    }
   ],
   "source": [
    "model_equation(coefficients, intercept)"
   ]
  },
  {
   "cell_type": "code",
   "execution_count": 69,
   "id": "9e0f070e",
   "metadata": {},
   "outputs": [
    {
     "data": {
      "text/html": [
       "<div>\n",
       "<style scoped>\n",
       "    .dataframe tbody tr th:only-of-type {\n",
       "        vertical-align: middle;\n",
       "    }\n",
       "\n",
       "    .dataframe tbody tr th {\n",
       "        vertical-align: top;\n",
       "    }\n",
       "\n",
       "    .dataframe thead th {\n",
       "        text-align: right;\n",
       "    }\n",
       "</style>\n",
       "<table border=\"1\" class=\"dataframe\">\n",
       "  <thead>\n",
       "    <tr style=\"text-align: right;\">\n",
       "      <th></th>\n",
       "      <th>team_power</th>\n",
       "      <th>opponent_power</th>\n",
       "      <th>team_total_attempts</th>\n",
       "      <th>team_name</th>\n",
       "      <th>team_id</th>\n",
       "      <th>opponent_name</th>\n",
       "      <th>opponent_id</th>\n",
       "      <th>team_total_completion</th>\n",
       "      <th>predicted</th>\n",
       "      <th>error</th>\n",
       "    </tr>\n",
       "  </thead>\n",
       "  <tbody>\n",
       "    <tr>\n",
       "      <th>606</th>\n",
       "      <td>76</td>\n",
       "      <td>79</td>\n",
       "      <td>183</td>\n",
       "      <td>Nottingham Forest</td>\n",
       "      <td>14</td>\n",
       "      <td>Arsenal</td>\n",
       "      <td>1</td>\n",
       "      <td>84</td>\n",
       "      <td>85</td>\n",
       "      <td>-1</td>\n",
       "    </tr>\n",
       "    <tr>\n",
       "      <th>601</th>\n",
       "      <td>76</td>\n",
       "      <td>84</td>\n",
       "      <td>181</td>\n",
       "      <td>Nottingham Forest</td>\n",
       "      <td>14</td>\n",
       "      <td>Liverpool</td>\n",
       "      <td>9</td>\n",
       "      <td>93</td>\n",
       "      <td>88</td>\n",
       "      <td>5</td>\n",
       "    </tr>\n",
       "    <tr>\n",
       "      <th>556</th>\n",
       "      <td>74</td>\n",
       "      <td>79</td>\n",
       "      <td>207</td>\n",
       "      <td>AFC Bournemouth</td>\n",
       "      <td>1943</td>\n",
       "      <td>Arsenal</td>\n",
       "      <td>1</td>\n",
       "      <td>119</td>\n",
       "      <td>106</td>\n",
       "      <td>13</td>\n",
       "    </tr>\n",
       "    <tr>\n",
       "      <th>682</th>\n",
       "      <td>78</td>\n",
       "      <td>78</td>\n",
       "      <td>225</td>\n",
       "      <td>Leicester City</td>\n",
       "      <td>95</td>\n",
       "      <td>Newcastle Utd</td>\n",
       "      <td>13</td>\n",
       "      <td>133</td>\n",
       "      <td>127</td>\n",
       "      <td>6</td>\n",
       "    </tr>\n",
       "    <tr>\n",
       "      <th>642</th>\n",
       "      <td>77</td>\n",
       "      <td>75</td>\n",
       "      <td>234</td>\n",
       "      <td>Everton</td>\n",
       "      <td>7</td>\n",
       "      <td>Brighton</td>\n",
       "      <td>1808</td>\n",
       "      <td>149</td>\n",
       "      <td>131</td>\n",
       "      <td>18</td>\n",
       "    </tr>\n",
       "  </tbody>\n",
       "</table>\n",
       "</div>"
      ],
      "text/plain": [
       "     team_power  opponent_power  team_total_attempts          team_name  \\\n",
       "606          76              79                  183  Nottingham Forest   \n",
       "601          76              84                  181  Nottingham Forest   \n",
       "556          74              79                  207    AFC Bournemouth   \n",
       "682          78              78                  225     Leicester City   \n",
       "642          77              75                  234            Everton   \n",
       "\n",
       "     team_id  opponent_name  opponent_id  team_total_completion  predicted  \\\n",
       "606       14        Arsenal            1                     84         85   \n",
       "601       14      Liverpool            9                     93         88   \n",
       "556     1943        Arsenal            1                    119        106   \n",
       "682       95  Newcastle Utd           13                    133        127   \n",
       "642        7       Brighton         1808                    149        131   \n",
       "\n",
       "     error  \n",
       "606     -1  \n",
       "601      5  \n",
       "556     13  \n",
       "682      6  \n",
       "642     18  "
      ]
     },
     "execution_count": 69,
     "metadata": {},
     "output_type": "execute_result"
    }
   ],
   "source": [
    "model_head(df, features+columns_to_drop, target_variable, sort_parameter=\"predicted\", sort_ascending=True, n=5)"
   ]
  },
  {
   "cell_type": "code",
   "execution_count": 70,
   "id": "e8472bc6",
   "metadata": {},
   "outputs": [
    {
     "name": "stdout",
     "output_type": "stream",
     "text": [
      "Min: 84 , Max: 817\n",
      "Result: 2.920027908663988\n",
      "Interval: [-51 -36 -21  -6   9  24  39  54]\n"
     ]
    },
    {
     "data": {
      "text/plain": [
       "-21"
      ]
     },
     "execution_count": 70,
     "metadata": {},
     "output_type": "execute_result"
    }
   ],
   "source": [
    "randomness_func, interval_func = randomness_volume, interval_volume\n",
    "result = randomness_func(df, target_variable)\n",
    "interval = interval_func(result, step=15, expand_multiplier=3)\n",
    "\n",
    "print(\"Result:\", result)\n",
    "print(\"Interval:\", interval)\n",
    "random_choice(interval)"
   ]
  },
  {
   "cell_type": "code",
   "execution_count": 71,
   "id": "ed95450b",
   "metadata": {},
   "outputs": [
    {
     "data": {
      "text/html": [
       "<div>\n",
       "<style scoped>\n",
       "    .dataframe tbody tr th:only-of-type {\n",
       "        vertical-align: middle;\n",
       "    }\n",
       "\n",
       "    .dataframe tbody tr th {\n",
       "        vertical-align: top;\n",
       "    }\n",
       "\n",
       "    .dataframe thead th {\n",
       "        text-align: right;\n",
       "    }\n",
       "</style>\n",
       "<table border=\"1\" class=\"dataframe\">\n",
       "  <thead>\n",
       "    <tr style=\"text-align: right;\">\n",
       "      <th></th>\n",
       "      <th>team_power</th>\n",
       "      <th>opponent_power</th>\n",
       "      <th>team_total_attempts</th>\n",
       "      <th>team_name</th>\n",
       "      <th>team_id</th>\n",
       "      <th>opponent_name</th>\n",
       "      <th>opponent_id</th>\n",
       "      <th>team_total_completion</th>\n",
       "      <th>predicted</th>\n",
       "      <th>randomness</th>\n",
       "    </tr>\n",
       "  </thead>\n",
       "  <tbody>\n",
       "    <tr>\n",
       "      <th>601</th>\n",
       "      <td>76</td>\n",
       "      <td>84</td>\n",
       "      <td>181</td>\n",
       "      <td>Nottingham Forest</td>\n",
       "      <td>14</td>\n",
       "      <td>Liverpool</td>\n",
       "      <td>9</td>\n",
       "      <td>93</td>\n",
       "      <td>88</td>\n",
       "      <td>37</td>\n",
       "    </tr>\n",
       "    <tr>\n",
       "      <th>606</th>\n",
       "      <td>76</td>\n",
       "      <td>79</td>\n",
       "      <td>183</td>\n",
       "      <td>Nottingham Forest</td>\n",
       "      <td>14</td>\n",
       "      <td>Arsenal</td>\n",
       "      <td>1</td>\n",
       "      <td>84</td>\n",
       "      <td>85</td>\n",
       "      <td>109</td>\n",
       "    </tr>\n",
       "    <tr>\n",
       "      <th>642</th>\n",
       "      <td>77</td>\n",
       "      <td>75</td>\n",
       "      <td>234</td>\n",
       "      <td>Everton</td>\n",
       "      <td>7</td>\n",
       "      <td>Brighton</td>\n",
       "      <td>1808</td>\n",
       "      <td>149</td>\n",
       "      <td>131</td>\n",
       "      <td>110</td>\n",
       "    </tr>\n",
       "    <tr>\n",
       "      <th>753</th>\n",
       "      <td>75</td>\n",
       "      <td>79</td>\n",
       "      <td>257</td>\n",
       "      <td>Southampton</td>\n",
       "      <td>17</td>\n",
       "      <td>Arsenal</td>\n",
       "      <td>1</td>\n",
       "      <td>162</td>\n",
       "      <td>156</td>\n",
       "      <td>120</td>\n",
       "    </tr>\n",
       "    <tr>\n",
       "      <th>522</th>\n",
       "      <td>79</td>\n",
       "      <td>76</td>\n",
       "      <td>235</td>\n",
       "      <td>West Ham United</td>\n",
       "      <td>19</td>\n",
       "      <td>Fulham</td>\n",
       "      <td>144</td>\n",
       "      <td>145</td>\n",
       "      <td>136</td>\n",
       "      <td>130</td>\n",
       "    </tr>\n",
       "  </tbody>\n",
       "</table>\n",
       "</div>"
      ],
      "text/plain": [
       "     team_power  opponent_power  team_total_attempts          team_name  \\\n",
       "601          76              84                  181  Nottingham Forest   \n",
       "606          76              79                  183  Nottingham Forest   \n",
       "642          77              75                  234            Everton   \n",
       "753          75              79                  257        Southampton   \n",
       "522          79              76                  235    West Ham United   \n",
       "\n",
       "     team_id opponent_name  opponent_id  team_total_completion  predicted  \\\n",
       "601       14     Liverpool            9                     93         88   \n",
       "606       14       Arsenal            1                     84         85   \n",
       "642        7      Brighton         1808                    149        131   \n",
       "753       17       Arsenal            1                    162        156   \n",
       "522       19        Fulham          144                    145        136   \n",
       "\n",
       "     randomness  \n",
       "601          37  \n",
       "606         109  \n",
       "642         110  \n",
       "753         120  \n",
       "522         130  "
      ]
     },
     "execution_count": 71,
     "metadata": {},
     "output_type": "execute_result"
    }
   ],
   "source": [
    "df[\"randomness\"] = df[\"predicted\"].copy()\n",
    "df[\"randomness\"] = df[\"predicted\"].apply(lambda value: negativity_protector(value + random_choice(interval), value))\n",
    "\n",
    "df[features+columns_to_drop+[target_variable,\"predicted\",\"randomness\"]].sort_values(\"randomness\", ascending=True).head(n=5)"
   ]
  },
  {
   "cell_type": "code",
   "execution_count": null,
   "id": "fc62985a",
   "metadata": {},
   "outputs": [],
   "source": []
  },
  {
   "cell_type": "code",
   "execution_count": null,
   "id": "5af7eeab",
   "metadata": {},
   "outputs": [],
   "source": []
  },
  {
   "cell_type": "code",
   "execution_count": null,
   "id": "318ee593",
   "metadata": {},
   "outputs": [],
   "source": []
  },
  {
   "cell_type": "code",
   "execution_count": null,
   "id": "366c201a",
   "metadata": {},
   "outputs": [],
   "source": []
  }
 ],
 "metadata": {
  "kernelspec": {
   "display_name": "Python 3 (ipykernel)",
   "language": "python",
   "name": "python3"
  },
  "language_info": {
   "codemirror_mode": {
    "name": "ipython",
    "version": 3
   },
   "file_extension": ".py",
   "mimetype": "text/x-python",
   "name": "python",
   "nbconvert_exporter": "python",
   "pygments_lexer": "ipython3",
   "version": "3.11.7"
  }
 },
 "nbformat": 4,
 "nbformat_minor": 5
}
