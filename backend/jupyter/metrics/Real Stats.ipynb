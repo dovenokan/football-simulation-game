{
 "cells": [
  {
   "cell_type": "code",
   "execution_count": 1,
   "id": "a8ab3059",
   "metadata": {},
   "outputs": [],
   "source": [
    "import pandas as pd\n",
    "import numpy as np\n",
    "import seaborn as sns\n",
    "import matplotlib.pyplot as plt\n",
    "import re\n",
    "from futsim_funcs import TPR,TFR,TPSR"
   ]
  },
  {
   "cell_type": "code",
   "execution_count": 2,
   "id": "cf3d30c3",
   "metadata": {},
   "outputs": [],
   "source": [
    "import warnings\n",
    "warnings.filterwarnings(\"ignore\", message=\"The default value of numeric_only in DataFrame.mean is deprecated.\", category=FutureWarning)"
   ]
  },
  {
   "cell_type": "markdown",
   "id": "ee9272a3",
   "metadata": {},
   "source": [
    "<br>"
   ]
  },
  {
   "cell_type": "markdown",
   "id": "d470e074",
   "metadata": {},
   "source": [
    "# Matchday Goal Count"
   ]
  },
  {
   "cell_type": "code",
   "execution_count": 3,
   "id": "5c8d95aa",
   "metadata": {},
   "outputs": [],
   "source": [
    "data_eng = {\n",
    "    'Goals': [2, 3, 1, 4, 5, 0, 6, 7, 8, 9],\n",
    "    'Percentage': [22.9, 20.8, 18.4, 15.0, 8.2, 6.1, 4.7, 2.6, 0.8, 0.5],\n",
    "    'Count': [87, 79, 70, 57, 31, 23, 18, 10, 3, 2],\n",
    "    'League': ['eng'] * 10  # All rows have the same league 'eng'\n",
    "}\n",
    "\n",
    "df_eng = pd.DataFrame(data_eng)"
   ]
  },
  {
   "cell_type": "code",
   "execution_count": 4,
   "id": "3b515a29",
   "metadata": {},
   "outputs": [],
   "source": [
    "data_ita = {\n",
    "    'Goals': [2, 3, 1, 4, 5, 0, 6, 7],\n",
    "    'Percentage': [24.9, 22.5, 18.7, 14.5, 7.3, 7.3, 3.5, 1.4],\n",
    "    'Count': [72, 65, 54, 42, 21, 21, 10, 4],\n",
    "    'League': ['ita'] * 8  # All rows have the same league 'ita'\n",
    "}\n",
    "\n",
    "df_ita = pd.DataFrame(data_ita)"
   ]
  },
  {
   "cell_type": "code",
   "execution_count": 5,
   "id": "7f5c2535",
   "metadata": {},
   "outputs": [],
   "source": [
    "data_esp = {\n",
    "    'Goals': [2, 1, 3, 4, 0, 5, 6, 7, 8],\n",
    "    'Percentage': [26.3, 19.7, 18.3, 11.1, 8.7, 7.6, 4.8, 2.4, 1.0],\n",
    "    'Count': [76, 57, 53, 32, 25, 22, 14, 7, 3],\n",
    "    'League': ['esp'] * 9  # All rows have the same league 'esp'\n",
    "}\n",
    "\n",
    "df_esp = pd.DataFrame(data_esp)"
   ]
  },
  {
   "cell_type": "code",
   "execution_count": 6,
   "id": "88b62833",
   "metadata": {},
   "outputs": [],
   "source": [
    "data_ger = {\n",
    "    'Goals': [2, 3, 4, 1, 5, 6, 0, 7, 8, 9],\n",
    "    'Percentage': [22.6, 21.4, 20.5, 11.1, 9.4, 7.7, 3.8, 2.1, 0.9, 0.4],\n",
    "    'Count': [53, 50, 48, 26, 22, 18, 9, 5, 2, 1],\n",
    "    'League': ['ger'] * 10  # All rows have the same league 'ger'\n",
    "}\n",
    "\n",
    "df_ger = pd.DataFrame(data_ger)"
   ]
  },
  {
   "cell_type": "code",
   "execution_count": 7,
   "id": "6eaed3a3",
   "metadata": {},
   "outputs": [],
   "source": [
    "data_fra = {\n",
    "    'Goals': [3, 2, 4, 1, 0, 5, 6, 8, 7],\n",
    "    'Percentage': [23.5, 23.1, 16.2, 16.2, 10.3, 6.4, 3.0, 0.9, 0.4],\n",
    "    'Count': [55, 54, 38, 38, 24, 15, 7, 2, 1],\n",
    "    'League': ['fra'] * 9  # All rows have the same league 'fra'\n",
    "}\n",
    "\n",
    "df_fra = pd.DataFrame(data_fra)"
   ]
  },
  {
   "cell_type": "code",
   "execution_count": 8,
   "id": "a4e08092",
   "metadata": {},
   "outputs": [],
   "source": [
    "# List of DataFrames for each league\n",
    "dfs = [df_eng, df_ita, df_esp, df_ger, df_fra]\n",
    "\n",
    "# Concatenate DataFrames\n",
    "df_merged = pd.concat(dfs)\n",
    "df_merged.drop(columns=[\"Percentage\"], inplace=True)\n",
    "\n",
    "# Group by 'Goals' and sum up the 'Count' for each goal\n",
    "df_merged = df_merged.groupby('Goals').agg({'Count': 'sum'}).reset_index()\n",
    "total_count = df_merged['Count'].sum()"
   ]
  },
  {
   "cell_type": "code",
   "execution_count": 9,
   "id": "f36106b4",
   "metadata": {},
   "outputs": [],
   "source": [
    "df_merged['Percentage'] = df_merged['Count'] / total_count * 100"
   ]
  },
  {
   "cell_type": "code",
   "execution_count": 10,
   "id": "5452e889",
   "metadata": {},
   "outputs": [],
   "source": [
    "goals_per_match = df_merged.copy()"
   ]
  },
  {
   "cell_type": "code",
   "execution_count": 11,
   "id": "5012b231",
   "metadata": {},
   "outputs": [
    {
     "data": {
      "text/html": [
       "<div>\n",
       "<style scoped>\n",
       "    .dataframe tbody tr th:only-of-type {\n",
       "        vertical-align: middle;\n",
       "    }\n",
       "\n",
       "    .dataframe tbody tr th {\n",
       "        vertical-align: top;\n",
       "    }\n",
       "\n",
       "    .dataframe thead th {\n",
       "        text-align: right;\n",
       "    }\n",
       "</style>\n",
       "<table border=\"1\" class=\"dataframe\">\n",
       "  <thead>\n",
       "    <tr style=\"text-align: right;\">\n",
       "      <th></th>\n",
       "      <th>Goals</th>\n",
       "      <th>Count</th>\n",
       "      <th>Percentage</th>\n",
       "    </tr>\n",
       "  </thead>\n",
       "  <tbody>\n",
       "    <tr>\n",
       "      <th>0</th>\n",
       "      <td>0</td>\n",
       "      <td>102</td>\n",
       "      <td>7.152875</td>\n",
       "    </tr>\n",
       "    <tr>\n",
       "      <th>1</th>\n",
       "      <td>1</td>\n",
       "      <td>245</td>\n",
       "      <td>17.180926</td>\n",
       "    </tr>\n",
       "    <tr>\n",
       "      <th>2</th>\n",
       "      <td>2</td>\n",
       "      <td>342</td>\n",
       "      <td>23.983170</td>\n",
       "    </tr>\n",
       "    <tr>\n",
       "      <th>3</th>\n",
       "      <td>3</td>\n",
       "      <td>302</td>\n",
       "      <td>21.178121</td>\n",
       "    </tr>\n",
       "    <tr>\n",
       "      <th>4</th>\n",
       "      <td>4</td>\n",
       "      <td>217</td>\n",
       "      <td>15.217391</td>\n",
       "    </tr>\n",
       "    <tr>\n",
       "      <th>5</th>\n",
       "      <td>5</td>\n",
       "      <td>111</td>\n",
       "      <td>7.784011</td>\n",
       "    </tr>\n",
       "    <tr>\n",
       "      <th>6</th>\n",
       "      <td>6</td>\n",
       "      <td>67</td>\n",
       "      <td>4.698457</td>\n",
       "    </tr>\n",
       "    <tr>\n",
       "      <th>7</th>\n",
       "      <td>7</td>\n",
       "      <td>27</td>\n",
       "      <td>1.893408</td>\n",
       "    </tr>\n",
       "    <tr>\n",
       "      <th>8</th>\n",
       "      <td>8</td>\n",
       "      <td>10</td>\n",
       "      <td>0.701262</td>\n",
       "    </tr>\n",
       "    <tr>\n",
       "      <th>9</th>\n",
       "      <td>9</td>\n",
       "      <td>3</td>\n",
       "      <td>0.210379</td>\n",
       "    </tr>\n",
       "  </tbody>\n",
       "</table>\n",
       "</div>"
      ],
      "text/plain": [
       "   Goals  Count  Percentage\n",
       "0      0    102    7.152875\n",
       "1      1    245   17.180926\n",
       "2      2    342   23.983170\n",
       "3      3    302   21.178121\n",
       "4      4    217   15.217391\n",
       "5      5    111    7.784011\n",
       "6      6     67    4.698457\n",
       "7      7     27    1.893408\n",
       "8      8     10    0.701262\n",
       "9      9      3    0.210379"
      ]
     },
     "execution_count": 11,
     "metadata": {},
     "output_type": "execute_result"
    }
   ],
   "source": [
    "goals_per_match"
   ]
  },
  {
   "cell_type": "code",
   "execution_count": 12,
   "id": "8bb3da3c",
   "metadata": {},
   "outputs": [
    {
     "data": {
      "image/png": "[encoded data removed]",
      "text/plain": [
       "<Figure size 640x480 with 1 Axes>"
      ]
     },
     "metadata": {},
     "output_type": "display_data"
    }
   ],
   "source": [
    "# Plot the histogram\n",
    "ax = sns.histplot(data=goals_per_match, x=\"Goals\", weights=\"Count\", kde=True, bins=range(11), discrete=True)\n",
    "\n",
    "# Calculate the average\n",
    "average_goals = (goals_per_match[\"Goals\"] * goals_per_match[\"Count\"]).sum() / goals_per_match[\"Count\"].sum()\n",
    "\n",
    "# Add average line\n",
    "ax.axvline(average_goals, color='red', linestyle='--', label=f'Average: {average_goals:.2f}')\n",
    "ax.legend()\n",
    "\n",
    "# Add percentage values on bars\n",
    "total_count = goals_per_match[\"Count\"].sum()\n",
    "for p in ax.patches:\n",
    "    height = p.get_height()\n",
    "    ax.annotate(f'{(height / total_count * 100):.2f}%', (p.get_x() + p.get_width() / 2., height),\n",
    "                ha='center', va='bottom')\n",
    "\n",
    "# Set x-axis ticks from 0 to 9\n",
    "plt.xticks(range(10))\n",
    "plt.show()"
   ]
  },
  {
   "cell_type": "code",
   "execution_count": 13,
   "id": "d8bb9c85",
   "metadata": {},
   "outputs": [
    {
     "name": "stdout",
     "output_type": "stream",
     "text": [
      "----- 2 -----\n"
     ]
    }
   ],
   "source": [
    "goals_count = goals_per_match['Goals'].tolist()\n",
    "goals_count_probabilities = goals_per_match['Percentage'].div(100).tolist()  # Convert percentage to probability\n",
    "\n",
    "def MGC(goals_count, goals_count_probabilities):\n",
    "    '''\n",
    "    Matchday Goal Count\n",
    "    '''\n",
    "    random_goal = np.random.choice(goals_count, p=goals_count_probabilities)\n",
    "    return random_goal\n",
    "\n",
    "for i in range(1):\n",
    "    random_goal = MGC(goals_count, goals_count_probabilities)\n",
    "    print(\"-----\",random_goal,\"-----\")"
   ]
  },
  {
   "cell_type": "markdown",
   "id": "264d88ad",
   "metadata": {},
   "source": [
    "<br>"
   ]
  },
  {
   "cell_type": "markdown",
   "id": "0dc2bf78",
   "metadata": {},
   "source": [
    "# Matchday Actions Count"
   ]
  },
  {
   "cell_type": "markdown",
   "id": "509a70ce",
   "metadata": {},
   "source": [
    "<h1 style=\"color:Blue\">Shot</h3>"
   ]
  },
  {
   "cell_type": "code",
   "execution_count": 14,
   "id": "ba854425",
   "metadata": {},
   "outputs": [
    {
     "data": {
      "text/html": [
       "<div>\n",
       "<style scoped>\n",
       "    .dataframe tbody tr th:only-of-type {\n",
       "        vertical-align: middle;\n",
       "    }\n",
       "\n",
       "    .dataframe tbody tr th {\n",
       "        vertical-align: top;\n",
       "    }\n",
       "\n",
       "    .dataframe thead th {\n",
       "        text-align: right;\n",
       "    }\n",
       "</style>\n",
       "<table border=\"1\" class=\"dataframe\">\n",
       "  <thead>\n",
       "    <tr style=\"text-align: right;\">\n",
       "      <th></th>\n",
       "      <th>Competition Name</th>\n",
       "      <th>Gls</th>\n",
       "      <th>Sh</th>\n",
       "      <th>SoT</th>\n",
       "      <th>SoT%</th>\n",
       "      <th>G/Sh</th>\n",
       "      <th>G/SoT</th>\n",
       "      <th>Dist</th>\n",
       "      <th>FK</th>\n",
       "      <th>PK</th>\n",
       "      <th>PKatt</th>\n",
       "      <th>xG</th>\n",
       "      <th>npxG</th>\n",
       "      <th>npxG/Sh</th>\n",
       "      <th>G-xG</th>\n",
       "      <th>np:G-xG</th>\n",
       "    </tr>\n",
       "  </thead>\n",
       "  <tbody>\n",
       "    <tr>\n",
       "      <th>0</th>\n",
       "      <td>de Bundesliga</td>\n",
       "      <td>1.55</td>\n",
       "      <td>12.58</td>\n",
       "      <td>4.42</td>\n",
       "      <td>35.1</td>\n",
       "      <td>0.11</td>\n",
       "      <td>0.32</td>\n",
       "      <td>17.4</td>\n",
       "      <td>0.41</td>\n",
       "      <td>0.14</td>\n",
       "      <td>0.18</td>\n",
       "      <td>1.45</td>\n",
       "      <td>1.31</td>\n",
       "      <td>0.11</td>\n",
       "      <td>+0.07</td>\n",
       "      <td>+0.07</td>\n",
       "    </tr>\n",
       "    <tr>\n",
       "      <th>1</th>\n",
       "      <td>es La Liga</td>\n",
       "      <td>1.22</td>\n",
       "      <td>12.17</td>\n",
       "      <td>3.98</td>\n",
       "      <td>32.7</td>\n",
       "      <td>0.09</td>\n",
       "      <td>0.28</td>\n",
       "      <td>17.9</td>\n",
       "      <td>0.43</td>\n",
       "      <td>0.11</td>\n",
       "      <td>0.15</td>\n",
       "      <td>1.30</td>\n",
       "      <td>1.18</td>\n",
       "      <td>0.10</td>\n",
       "      <td>-0.11</td>\n",
       "      <td>-0.10</td>\n",
       "    </tr>\n",
       "    <tr>\n",
       "      <th>2</th>\n",
       "      <td>fr Ligue 1</td>\n",
       "      <td>1.35</td>\n",
       "      <td>12.06</td>\n",
       "      <td>4.26</td>\n",
       "      <td>35.3</td>\n",
       "      <td>0.10</td>\n",
       "      <td>0.28</td>\n",
       "      <td>17.4</td>\n",
       "      <td>0.41</td>\n",
       "      <td>0.15</td>\n",
       "      <td>0.19</td>\n",
       "      <td>1.41</td>\n",
       "      <td>1.27</td>\n",
       "      <td>0.11</td>\n",
       "      <td>-0.09</td>\n",
       "      <td>-0.09</td>\n",
       "    </tr>\n",
       "    <tr>\n",
       "      <th>3</th>\n",
       "      <td>eng Premier League</td>\n",
       "      <td>1.37</td>\n",
       "      <td>12.51</td>\n",
       "      <td>4.15</td>\n",
       "      <td>33.2</td>\n",
       "      <td>0.10</td>\n",
       "      <td>0.31</td>\n",
       "      <td>16.9</td>\n",
       "      <td>0.40</td>\n",
       "      <td>0.10</td>\n",
       "      <td>0.13</td>\n",
       "      <td>1.42</td>\n",
       "      <td>1.32</td>\n",
       "      <td>0.11</td>\n",
       "      <td>-0.09</td>\n",
       "      <td>-0.08</td>\n",
       "    </tr>\n",
       "    <tr>\n",
       "      <th>4</th>\n",
       "      <td>it Serie A</td>\n",
       "      <td>1.24</td>\n",
       "      <td>12.56</td>\n",
       "      <td>3.92</td>\n",
       "      <td>31.2</td>\n",
       "      <td>0.09</td>\n",
       "      <td>0.29</td>\n",
       "      <td>17.9</td>\n",
       "      <td>0.45</td>\n",
       "      <td>0.11</td>\n",
       "      <td>0.14</td>\n",
       "      <td>1.26</td>\n",
       "      <td>1.15</td>\n",
       "      <td>0.09</td>\n",
       "      <td>-0.05</td>\n",
       "      <td>-0.05</td>\n",
       "    </tr>\n",
       "  </tbody>\n",
       "</table>\n",
       "</div>"
      ],
      "text/plain": [
       "     Competition Name   Gls     Sh   SoT  SoT%  G/Sh  G/SoT  Dist    FK    PK  \\\n",
       "0       de Bundesliga  1.55  12.58  4.42  35.1  0.11   0.32  17.4  0.41  0.14   \n",
       "1          es La Liga  1.22  12.17  3.98  32.7  0.09   0.28  17.9  0.43  0.11   \n",
       "2          fr Ligue 1  1.35  12.06  4.26  35.3  0.10   0.28  17.4  0.41  0.15   \n",
       "3  eng Premier League  1.37  12.51  4.15  33.2  0.10   0.31  16.9  0.40  0.10   \n",
       "4          it Serie A  1.24  12.56  3.92  31.2  0.09   0.29  17.9  0.45  0.11   \n",
       "\n",
       "   PKatt    xG  npxG  npxG/Sh   G-xG np:G-xG  \n",
       "0   0.18  1.45  1.31     0.11  +0.07   +0.07  \n",
       "1   0.15  1.30  1.18     0.10  -0.11   -0.10  \n",
       "2   0.19  1.41  1.27     0.11  -0.09   -0.09  \n",
       "3   0.13  1.42  1.32     0.11  -0.09   -0.08  \n",
       "4   0.14  1.26  1.15     0.09  -0.05   -0.05  "
      ]
     },
     "execution_count": 14,
     "metadata": {},
     "output_type": "execute_result"
    }
   ],
   "source": [
    "import pandas as pd\n",
    "\n",
    "data = {\n",
    "    'Competition Name': ['de Bundesliga', 'es La Liga', 'fr Ligue 1', 'eng Premier League', 'it Serie A'],\n",
    "    'Gls': [1.55, 1.22, 1.35, 1.37, 1.24],\n",
    "    'Sh': [12.58, 12.17, 12.06, 12.51, 12.56],\n",
    "    'SoT': [4.42, 3.98, 4.26, 4.15, 3.92],\n",
    "    'SoT%': [35.1, 32.7, 35.3, 33.2, 31.2],\n",
    "    'G/Sh': [0.11, 0.09, 0.10, 0.10, 0.09],\n",
    "    'G/SoT': [0.32, 0.28, 0.28, 0.31, 0.29],\n",
    "    'Dist': [17.4, 17.9, 17.4, 16.9, 17.9],\n",
    "    'FK': [0.41, 0.43, 0.41, 0.40, 0.45],\n",
    "    'PK': [0.14, 0.11, 0.15, 0.10, 0.11],\n",
    "    'PKatt': [0.18, 0.15, 0.19, 0.13, 0.14],\n",
    "    'xG': [1.45, 1.30, 1.41, 1.42, 1.26],\n",
    "    'npxG': [1.31, 1.18, 1.27, 1.32, 1.15],\n",
    "    'npxG/Sh': [0.11, 0.10, 0.11, 0.11, 0.09],\n",
    "    'G-xG': ['+0.07', '-0.11', '-0.09', '-0.09', '-0.05'],\n",
    "    'np:G-xG': ['+0.07', '-0.10', '-0.09', '-0.08', '-0.05']\n",
    "}\n",
    "\n",
    "df_shooting = pd.DataFrame(data)\n",
    "df_shooting"
   ]
  },
  {
   "cell_type": "code",
   "execution_count": 15,
   "id": "24828ab2",
   "metadata": {},
   "outputs": [],
   "source": [
    "x = df_shooting\n",
    "shots_per_match = np.mean(x[\"Sh\"])\n",
    "sot_percentage = np.sum(x[\"SoT\"]) / np.sum(x[\"Sh\"])\n",
    "goal_percentage = np.sum(x[\"Gls\"]) / np.sum(x[\"SoT\"])"
   ]
  },
  {
   "cell_type": "code",
   "execution_count": 16,
   "id": "32787433",
   "metadata": {},
   "outputs": [
    {
     "name": "stdout",
     "output_type": "stream",
     "text": [
      "Sh/Match     SoT/Sh       Gls/SoT     \n",
      "12.38        0.34         0.32        \n"
     ]
    }
   ],
   "source": [
    "column_width = 12\n",
    "print(f\"{'Sh/Match':<{column_width}} {'SoT/Sh':<{column_width}} {'Gls/SoT':<{column_width}}\")\n",
    "print(f\"{shots_per_match:<{column_width}.2f} {sot_percentage:<{column_width}.2f} {goal_percentage:<{column_width}.2f}\")"
   ]
  },
  {
   "cell_type": "code",
   "execution_count": 17,
   "id": "d1460ca6",
   "metadata": {},
   "outputs": [
    {
     "name": "stdout",
     "output_type": "stream",
     "text": [
      "Transformed rating for 80: 0.05\n",
      "Transformed rating for 60: -0.0375\n"
     ]
    }
   ],
   "source": [
    "def transform_rating(rating, average_rating=70, advantage=1, disadvantage=-1.5):\n",
    "    # Calculate the difference between the rating and the average\n",
    "    diff = rating - average_rating\n",
    "    \n",
    "    # Apply advantage and disadvantage based on the difference\n",
    "    if diff > 0:\n",
    "        # Apply advantage for ratings higher than average\n",
    "        transformed_rating = average_rating + diff * (1 + advantage)\n",
    "    else:\n",
    "        # Apply disadvantage for ratings lower than average\n",
    "        transformed_rating = average_rating + diff * (1 - disadvantage)\n",
    "    \n",
    "    # Scale the transformed rating to a range between 0 and 1\n",
    "    scaled_rating = (transformed_rating - 60) / (80 - 60)\n",
    "    \n",
    "    # Ensure the result is between 0 and 1\n",
    "    return min(scaled_rating, 1) / 20\n",
    "\n",
    "# Test the function with ratings 80 and 60\n",
    "rating_80 = transform_rating(80)\n",
    "rating_60 = transform_rating(60)\n",
    "\n",
    "print(\"Transformed rating for 80:\", rating_80)\n",
    "print(\"Transformed rating for 60:\", rating_60)"
   ]
  },
  {
   "cell_type": "code",
   "execution_count": 18,
   "id": "2bf1481e",
   "metadata": {},
   "outputs": [],
   "source": [
    "finishing = 80\n",
    "\n",
    "target_p = 0.33 + transform_rating(finishing)\n",
    "goal_p = 0.30 + transform_rating(finishing)"
   ]
  },
  {
   "cell_type": "code",
   "execution_count": 19,
   "id": "46be30ee",
   "metadata": {},
   "outputs": [
    {
     "name": "stdout",
     "output_type": "stream",
     "text": [
      "13 Shots\n",
      "5 Shot on Target\n",
      "2 Goals\n",
      "G/SoT: 0.4\n"
     ]
    }
   ],
   "source": [
    "sot_count_trials=[]\n",
    "goal_count_trials=[]\n",
    "shot_count = 13 \n",
    "for i in range(shot_count):\n",
    "    goal_counter=0\n",
    "    sot_counter=0\n",
    "    shot_on_target = np.random.choice([1, 0], p=[target_p, 1-target_p])\n",
    "    #print(\"-----\",shot_on_target,\"-----\")\n",
    "    if shot_on_target:\n",
    "        #print(\"@Shot on Target\")\n",
    "        goal_attempt = np.random.choice([1, 0], p=[goal_p, 1-goal_p])\n",
    "        sot_counter+=1\n",
    "        if goal_attempt:\n",
    "            #print(\"⚽⚽⚽GOOOOOOOOOOOOOOOOOOOOOOOOOOOL\")\n",
    "            goal_counter+=1\n",
    "    sot_count_trials.append(sot_counter)\n",
    "    goal_count_trials.append(goal_counter)    \n",
    "    \n",
    "print(shot_count, \"Shots\")\n",
    "print(sum(sot_count_trials), \"Shot on Target\")\n",
    "print(sum(goal_count_trials), \"Goals\")\n",
    "\n",
    "ratio = sum(goal_count_trials) / sum(sot_count_trials)\n",
    "goal_per_sot = ratio if ratio==0 or shot_count else 0\n",
    "print(\"G/SoT:\", goal_per_sot )"
   ]
  },
  {
   "cell_type": "code",
   "execution_count": 20,
   "id": "7f2b6c3b",
   "metadata": {},
   "outputs": [
    {
     "data": {
      "text/plain": [
       "3956"
      ]
     },
     "execution_count": 20,
     "metadata": {},
     "output_type": "execute_result"
    }
   ],
   "source": [
    "sum(goals_per_match.Goals * goals_per_match.Count)"
   ]
  },
  {
   "cell_type": "code",
   "execution_count": 21,
   "id": "0d0963b3",
   "metadata": {},
   "outputs": [
    {
     "data": {
      "text/html": [
       "<div>\n",
       "<style scoped>\n",
       "    .dataframe tbody tr th:only-of-type {\n",
       "        vertical-align: middle;\n",
       "    }\n",
       "\n",
       "    .dataframe tbody tr th {\n",
       "        vertical-align: top;\n",
       "    }\n",
       "\n",
       "    .dataframe thead th {\n",
       "        text-align: right;\n",
       "    }\n",
       "</style>\n",
       "<table border=\"1\" class=\"dataframe\">\n",
       "  <thead>\n",
       "    <tr style=\"text-align: right;\">\n",
       "      <th></th>\n",
       "      <th>league_id</th>\n",
       "      <th>club_team_id</th>\n",
       "      <th>league_name</th>\n",
       "      <th>club_name</th>\n",
       "      <th>power</th>\n",
       "      <th>finishing</th>\n",
       "    </tr>\n",
       "  </thead>\n",
       "  <tbody>\n",
       "    <tr>\n",
       "      <th>84</th>\n",
       "      <td>13</td>\n",
       "      <td>10</td>\n",
       "      <td>Premier League</td>\n",
       "      <td>Manchester City</td>\n",
       "      <td>85</td>\n",
       "      <td>82</td>\n",
       "    </tr>\n",
       "    <tr>\n",
       "      <th>109</th>\n",
       "      <td>53</td>\n",
       "      <td>243</td>\n",
       "      <td>La Liga</td>\n",
       "      <td>Real Madrid</td>\n",
       "      <td>84</td>\n",
       "      <td>80</td>\n",
       "    </tr>\n",
       "    <tr>\n",
       "      <th>81</th>\n",
       "      <td>13</td>\n",
       "      <td>9</td>\n",
       "      <td>Premier League</td>\n",
       "      <td>Liverpool</td>\n",
       "      <td>84</td>\n",
       "      <td>79</td>\n",
       "    </tr>\n",
       "    <tr>\n",
       "      <th>101</th>\n",
       "      <td>16</td>\n",
       "      <td>73</td>\n",
       "      <td>Ligue 1</td>\n",
       "      <td>Paris Saint Germain</td>\n",
       "      <td>84</td>\n",
       "      <td>75</td>\n",
       "    </tr>\n",
       "    <tr>\n",
       "      <th>70</th>\n",
       "      <td>31</td>\n",
       "      <td>44</td>\n",
       "      <td>Serie A</td>\n",
       "      <td>Inter</td>\n",
       "      <td>83</td>\n",
       "      <td>78</td>\n",
       "    </tr>\n",
       "  </tbody>\n",
       "</table>\n",
       "</div>"
      ],
      "text/plain": [
       "     league_id  club_team_id     league_name            club_name  power  \\\n",
       "84          13            10  Premier League      Manchester City     85   \n",
       "109         53           243         La Liga          Real Madrid     84   \n",
       "81          13             9  Premier League            Liverpool     84   \n",
       "101         16            73         Ligue 1  Paris Saint Germain     84   \n",
       "70          31            44         Serie A                Inter     83   \n",
       "\n",
       "     finishing  \n",
       "84          82  \n",
       "109         80  \n",
       "81          79  \n",
       "101         75  \n",
       "70          78  "
      ]
     },
     "execution_count": 21,
     "metadata": {},
     "output_type": "execute_result"
    }
   ],
   "source": [
    "players_df = pd.read_csv(\"../fifa24_db/pdb_23.csv\")\n",
    "TFR(players_df, 18).sort_values(\"power\", ascending=False).head()"
   ]
  },
  {
   "cell_type": "code",
   "execution_count": 22,
   "id": "6b310962",
   "metadata": {},
   "outputs": [
    {
     "data": {
      "text/html": [
       "<div>\n",
       "<style scoped>\n",
       "    .dataframe tbody tr th:only-of-type {\n",
       "        vertical-align: middle;\n",
       "    }\n",
       "\n",
       "    .dataframe tbody tr th {\n",
       "        vertical-align: top;\n",
       "    }\n",
       "\n",
       "    .dataframe thead th {\n",
       "        text-align: right;\n",
       "    }\n",
       "</style>\n",
       "<table border=\"1\" class=\"dataframe\">\n",
       "  <thead>\n",
       "    <tr style=\"text-align: right;\">\n",
       "      <th></th>\n",
       "      <th>player_id</th>\n",
       "      <th>short_name</th>\n",
       "      <th>long_name</th>\n",
       "      <th>player_positions</th>\n",
       "      <th>overall</th>\n",
       "      <th>potential</th>\n",
       "      <th>value_eur</th>\n",
       "      <th>wage_eur</th>\n",
       "      <th>dob</th>\n",
       "      <th>height_cm</th>\n",
       "      <th>...</th>\n",
       "      <th>ldm</th>\n",
       "      <th>cdm</th>\n",
       "      <th>rdm</th>\n",
       "      <th>rwb</th>\n",
       "      <th>lb</th>\n",
       "      <th>lcb</th>\n",
       "      <th>cb</th>\n",
       "      <th>rcb</th>\n",
       "      <th>rb</th>\n",
       "      <th>gk</th>\n",
       "    </tr>\n",
       "  </thead>\n",
       "  <tbody>\n",
       "    <tr>\n",
       "      <th>19</th>\n",
       "      <td>215914</td>\n",
       "      <td>N. Kanté</td>\n",
       "      <td>N'Golo Kanté</td>\n",
       "      <td>CDM</td>\n",
       "      <td>89</td>\n",
       "      <td>89</td>\n",
       "      <td>72000000.0</td>\n",
       "      <td>220000.0</td>\n",
       "      <td>1991-03-29</td>\n",
       "      <td>168</td>\n",
       "      <td>...</td>\n",
       "      <td>86</td>\n",
       "      <td>86</td>\n",
       "      <td>86</td>\n",
       "      <td>84</td>\n",
       "      <td>84</td>\n",
       "      <td>84</td>\n",
       "      <td>84</td>\n",
       "      <td>84</td>\n",
       "      <td>84</td>\n",
       "      <td>20</td>\n",
       "    </tr>\n",
       "    <tr>\n",
       "      <th>41</th>\n",
       "      <td>201024</td>\n",
       "      <td>K. Koulibaly</td>\n",
       "      <td>Kalidou Koulibaly</td>\n",
       "      <td>CB</td>\n",
       "      <td>87</td>\n",
       "      <td>87</td>\n",
       "      <td>54500000.0</td>\n",
       "      <td>175000.0</td>\n",
       "      <td>1991-06-20</td>\n",
       "      <td>187</td>\n",
       "      <td>...</td>\n",
       "      <td>79</td>\n",
       "      <td>79</td>\n",
       "      <td>79</td>\n",
       "      <td>75</td>\n",
       "      <td>78</td>\n",
       "      <td>86</td>\n",
       "      <td>86</td>\n",
       "      <td>86</td>\n",
       "      <td>78</td>\n",
       "      <td>17</td>\n",
       "    </tr>\n",
       "    <tr>\n",
       "      <th>51</th>\n",
       "      <td>234642</td>\n",
       "      <td>É. Mendy</td>\n",
       "      <td>Édouard Mendy</td>\n",
       "      <td>GK</td>\n",
       "      <td>86</td>\n",
       "      <td>87</td>\n",
       "      <td>51000000.0</td>\n",
       "      <td>130000.0</td>\n",
       "      <td>1992-03-01</td>\n",
       "      <td>197</td>\n",
       "      <td>...</td>\n",
       "      <td>34</td>\n",
       "      <td>34</td>\n",
       "      <td>34</td>\n",
       "      <td>28</td>\n",
       "      <td>26</td>\n",
       "      <td>26</td>\n",
       "      <td>26</td>\n",
       "      <td>26</td>\n",
       "      <td>26</td>\n",
       "      <td>84</td>\n",
       "    </tr>\n",
       "  </tbody>\n",
       "</table>\n",
       "<p>3 rows × 80 columns</p>\n",
       "</div>"
      ],
      "text/plain": [
       "    player_id    short_name          long_name player_positions  overall  \\\n",
       "19     215914      N. Kanté       N'Golo Kanté              CDM       89   \n",
       "41     201024  K. Koulibaly  Kalidou Koulibaly               CB       87   \n",
       "51     234642      É. Mendy      Édouard Mendy               GK       86   \n",
       "\n",
       "    potential   value_eur  wage_eur         dob  height_cm  ...  ldm cdm  rdm  \\\n",
       "19         89  72000000.0  220000.0  1991-03-29        168  ...   86  86   86   \n",
       "41         87  54500000.0  175000.0  1991-06-20        187  ...   79  79   79   \n",
       "51         87  51000000.0  130000.0  1992-03-01        197  ...   34  34   34   \n",
       "\n",
       "   rwb  lb  lcb  cb rcb  rb  gk  \n",
       "19  84  84   84  84  84  84  20  \n",
       "41  75  78   86  86  86  78  17  \n",
       "51  28  26   26  26  26  26  84  \n",
       "\n",
       "[3 rows x 80 columns]"
      ]
     },
     "execution_count": 22,
     "metadata": {},
     "output_type": "execute_result"
    }
   ],
   "source": [
    "q = players_df[\"club_name\"].str.contains(\"chelsea\", case=False)\n",
    "players_df[q].sort_values(by=\"overall\", ascending=False).head(n=3)"
   ]
  },
  {
   "cell_type": "markdown",
   "id": "5cac480a",
   "metadata": {},
   "source": [
    "<br>"
   ]
  },
  {
   "cell_type": "markdown",
   "id": "dcac49fd",
   "metadata": {},
   "source": [
    "<br>"
   ]
  },
  {
   "cell_type": "markdown",
   "id": "64eee039",
   "metadata": {},
   "source": [
    "# FIFA & FBREF REGRESSION📈 "
   ]
  },
  {
   "cell_type": "markdown",
   "id": "962e5dc6",
   "metadata": {},
   "source": [
    "### Importing Data"
   ]
  },
  {
   "cell_type": "code",
   "execution_count": 23,
   "id": "6a7c2bd7",
   "metadata": {},
   "outputs": [],
   "source": [
    "url = \"https://fbref.com/en/comps/Big5/2022-2023/shooting/squads/2022-2023-Big-5-European-Leagues-Stats\"\n",
    "fbref_data = pd.read_html( url, header=1)[0]\n",
    "\n",
    "fifa_data = TFR(players_df)\n",
    "fifa_data[\"league_id\"] = fifa_data[\"league_id\"].astype(str)\n",
    "top5_leagues_id = [str(i) for i in [13,53,19,31,16]]\n",
    "q = fifa_data[\"league_id\"].str.contains('|'.join(top5_leagues_id))\n",
    "\n",
    "fifa_data = fifa_data[q]"
   ]
  },
  {
   "cell_type": "markdown",
   "id": "a1281101",
   "metadata": {},
   "source": [
    "### Merging FIFA & FBRef"
   ]
  },
  {
   "cell_type": "code",
   "execution_count": 24,
   "id": "9bdfff6a",
   "metadata": {},
   "outputs": [],
   "source": [
    "from rapidfuzz import process\n",
    "def find_best_match(name, choices):\n",
    "    return process.extractOne(name, choices)\n",
    "\n",
    "def mapped_data(fifa_data, fbref_data):\n",
    "    fbref_to_fifa_mapping = {fb_name: find_best_match(fb_name, fifa_data['club_name'])[0] for fb_name in fbref_data['Squad']}\n",
    "    fbref_to_fifa_mapping = {key: value for key, value in fbref_to_fifa_mapping.items() if value is not None}\n",
    "    fbref_data['Mapped_club_name'] = fbref_data['Squad'].map(fbref_to_fifa_mapping)\n",
    "    merged_data = pd.merge(fbref_data, fifa_data, how='inner', left_on='Mapped_club_name', right_on='club_name')\n",
    "    return merged_data\n",
    "\n",
    "all_team_ids = []\n",
    "lst = mapped_data(fifa_data, fbref_data)[[\"Squad\",\"club_name\",\"club_team_id\"]]\n",
    "# print(len(merged_ids))\n",
    "# for i in zip(lst.Squad, lst.club_name, lst.club_team_id):\n",
    "#     print(i)"
   ]
  },
  {
   "cell_type": "code",
   "execution_count": 24,
   "id": "d8fa2205",
   "metadata": {},
   "outputs": [],
   "source": [
    "from rapidfuzz import process\n",
    "def find_best_match(name, choices):\n",
    "    return process.extractOne(name, choices)\n",
    "\n",
    "def mapped_data(fifa_data, fbref_data):\n",
    "    fbref_to_fifa_mapping = {fb_name: find_best_match(fb_name, fifa_data['club_name'])[0] for fb_name in fbref_data['Squad']}\n",
    "    fbref_to_fifa_mapping = {key: value for key, value in fbref_to_fifa_mapping.items() if value is not None}\n",
    "    fbref_data['Mapped_club_name'] = fbref_data['Squad'].map(fbref_to_fifa_mapping)\n",
    "    merged_data = pd.merge(fbref_data, fifa_data, how='inner', left_on='Mapped_club_name', right_on='club_name')\n",
    "    return merged_data\n",
    "\n",
    "all_team_ids = []\n",
    "lst = mapped_data(fifa_data, fbref_data)[[\"Squad\",\"club_name\",\"club_team_id\"]]\n",
    "# print(len(merged_ids))\n",
    "# for i in zip(lst.Squad, lst.club_name, lst.club_team_id):\n",
    "#     print(i)"
   ]
  },
  {
   "cell_type": "code",
   "execution_count": 25,
   "id": "1291d67c",
   "metadata": {},
   "outputs": [
    {
     "data": {
      "text/plain": [
       "Index(['Rk', 'Squad', 'Comp', '# Pl', '90s', 'Gls', 'Sh', 'SoT', 'SoT%',\n",
       "       'Sh/90', 'SoT/90', 'G/Sh', 'G/SoT', 'Dist', 'FK', 'PK', 'PKatt', 'xG',\n",
       "       'npxG', 'npxG/Sh', 'G-xG', 'np:G-xG', 'Mapped_club_name', 'league_id',\n",
       "       'club_team_id', 'league_name', 'club_name', 'power', 'finishing'],\n",
       "      dtype='object')"
      ]
     },
     "execution_count": 25,
     "metadata": {},
     "output_type": "execute_result"
    }
   ],
   "source": [
    "data = mapped_data(fifa_data, fbref_data).copy()\n",
    "data.columns"
   ]
  },
  {
   "cell_type": "markdown",
   "id": "fa318cb7",
   "metadata": {},
   "source": [
    "### Linear Model"
   ]
  },
  {
   "cell_type": "code",
   "execution_count": 26,
   "id": "0c52ec57",
   "metadata": {
    "scrolled": false
   },
   "outputs": [
    {
     "name": "stdout",
     "output_type": "stream",
     "text": [
      "Mean Squared Error: 0.0020876822456911293\n",
      "Coefficients: [-0.00201074  0.00714014]\n",
      "Intercept: -0.11045683825619212\n"
     ]
    }
   ],
   "source": [
    "import pandas as pd\n",
    "from sklearn.model_selection import train_test_split\n",
    "from sklearn.linear_model import Ridge\n",
    "from sklearn.metrics import mean_squared_error\n",
    "\n",
    "feature_columns = [\"finishing\",\"power\"]\n",
    "target_variable = \"G/SoT\"\n",
    "\n",
    "X = data[feature_columns]\n",
    "y = data[target_variable]\n",
    "\n",
    "X_train, X_test, y_train, y_test = train_test_split(X, y, test_size=0.2, random_state=42)\n",
    "\n",
    "model = Ridge(alpha=1.0)\n",
    "model.fit(X_train, y_train)\n",
    "\n",
    "y_pred = model.predict(X_test)\n",
    "\n",
    "mse = mean_squared_error(y_test, y_pred)\n",
    "print(\"Mean Squared Error:\", mse)\n",
    "print(\"Coefficients:\", model.coef_)\n",
    "print(\"Intercept:\", model.intercept_)"
   ]
  },
  {
   "cell_type": "markdown",
   "id": "d1d24988",
   "metadata": {},
   "source": [
    "### Error"
   ]
  },
  {
   "cell_type": "code",
   "execution_count": 27,
   "id": "bcbf1fb5",
   "metadata": {},
   "outputs": [
    {
     "data": {
      "text/plain": [
       "0.001537846246250891"
      ]
     },
     "execution_count": 27,
     "metadata": {},
     "output_type": "execute_result"
    }
   ],
   "source": [
    "predicted_g_sot_all = model.predict(X)\n",
    "data['Predicted'] = predicted_g_sot_all\n",
    "data[\"Error\"] = data['G/SoT'] - predicted_g_sot_all\n",
    "data[\"Error\"].mean()"
   ]
  },
  {
   "cell_type": "markdown",
   "id": "fd1353a1",
   "metadata": {},
   "source": [
    "### Test"
   ]
  },
  {
   "cell_type": "code",
   "execution_count": 28,
   "id": "b895a878",
   "metadata": {},
   "outputs": [
    {
     "data": {
      "text/plain": [
       "array([0.32443407])"
      ]
     },
     "execution_count": 28,
     "metadata": {},
     "output_type": "execute_result"
    }
   ],
   "source": [
    "finishing = 82\n",
    "power = 84\n",
    "\n",
    "input_data = pd.DataFrame({\n",
    "    \"finishing\": [finishing],\n",
    "    \"power\": [power]\n",
    "})\n",
    "\n",
    "predicted_g_sot = model.predict(input_data)\n",
    "predicted_g_sot"
   ]
  },
  {
   "cell_type": "code",
   "execution_count": 29,
   "id": "86e3e845",
   "metadata": {},
   "outputs": [
    {
     "data": {
      "text/html": [
       "<div>\n",
       "<style scoped>\n",
       "    .dataframe tbody tr th:only-of-type {\n",
       "        vertical-align: middle;\n",
       "    }\n",
       "\n",
       "    .dataframe tbody tr th {\n",
       "        vertical-align: top;\n",
       "    }\n",
       "\n",
       "    .dataframe thead th {\n",
       "        text-align: right;\n",
       "    }\n",
       "</style>\n",
       "<table border=\"1\" class=\"dataframe\">\n",
       "  <thead>\n",
       "    <tr style=\"text-align: right;\">\n",
       "      <th></th>\n",
       "      <th>club_team_id</th>\n",
       "      <th>Squad</th>\n",
       "      <th>G/SoT</th>\n",
       "      <th>Predicted</th>\n",
       "      <th>power</th>\n",
       "    </tr>\n",
       "  </thead>\n",
       "  <tbody>\n",
       "    <tr>\n",
       "      <th>68</th>\n",
       "      <td>73</td>\n",
       "      <td>Paris S-G</td>\n",
       "      <td>0.33</td>\n",
       "      <td>0.338509</td>\n",
       "      <td>84</td>\n",
       "    </tr>\n",
       "    <tr>\n",
       "      <th>21</th>\n",
       "      <td>5</td>\n",
       "      <td>Chelsea</td>\n",
       "      <td>0.23</td>\n",
       "      <td>0.335391</td>\n",
       "      <td>83</td>\n",
       "    </tr>\n",
       "    <tr>\n",
       "      <th>10</th>\n",
       "      <td>241</td>\n",
       "      <td>Barcelona</td>\n",
       "      <td>0.37</td>\n",
       "      <td>0.333380</td>\n",
       "      <td>83</td>\n",
       "    </tr>\n",
       "    <tr>\n",
       "      <th>55</th>\n",
       "      <td>10</td>\n",
       "      <td>Manchester City</td>\n",
       "      <td>0.40</td>\n",
       "      <td>0.331574</td>\n",
       "      <td>85</td>\n",
       "    </tr>\n",
       "    <tr>\n",
       "      <th>49</th>\n",
       "      <td>9</td>\n",
       "      <td>Liverpool</td>\n",
       "      <td>0.34</td>\n",
       "      <td>0.330466</td>\n",
       "      <td>84</td>\n",
       "    </tr>\n",
       "  </tbody>\n",
       "</table>\n",
       "</div>"
      ],
      "text/plain": [
       "    club_team_id            Squad  G/SoT  Predicted  power\n",
       "68            73        Paris S-G   0.33   0.338509     84\n",
       "21             5          Chelsea   0.23   0.335391     83\n",
       "10           241        Barcelona   0.37   0.333380     83\n",
       "55            10  Manchester City   0.40   0.331574     85\n",
       "49             9        Liverpool   0.34   0.330466     84"
      ]
     },
     "execution_count": 29,
     "metadata": {},
     "output_type": "execute_result"
    }
   ],
   "source": [
    "data[[\"club_team_id\",\"Squad\",\"G/SoT\",\"Predicted\",\"power\"]].sort_values(\"Predicted\",ascending=False).head(n=5)"
   ]
  },
  {
   "cell_type": "code",
   "execution_count": 30,
   "id": "b31e6ef0",
   "metadata": {},
   "outputs": [],
   "source": [
    "home=data[data.club_team_id==10]\n",
    "away=data[data.club_team_id==10029]"
   ]
  },
  {
   "cell_type": "code",
   "execution_count": 31,
   "id": "c99fa43b",
   "metadata": {},
   "outputs": [
    {
     "data": {
      "text/plain": [
       "Index(['Rk', 'Squad', 'Comp', '# Pl', '90s', 'Gls', 'Sh', 'SoT', 'SoT%',\n",
       "       'Sh/90', 'SoT/90', 'G/Sh', 'G/SoT', 'Dist', 'FK', 'PK', 'PKatt', 'xG',\n",
       "       'npxG', 'npxG/Sh', 'G-xG', 'np:G-xG', 'Mapped_club_name', 'league_id',\n",
       "       'club_team_id', 'league_name', 'club_name', 'power', 'finishing',\n",
       "       'Predicted', 'Error'],\n",
       "      dtype='object')"
      ]
     },
     "execution_count": 31,
     "metadata": {},
     "output_type": "execute_result"
    }
   ],
   "source": [
    "home.columns"
   ]
  },
  {
   "cell_type": "code",
   "execution_count": 32,
   "id": "d13dc3c9",
   "metadata": {},
   "outputs": [],
   "source": [
    "sog1 = home[\"Predicted\"].iloc[0]\n",
    "pow1 = home[\"power\"].iloc[0]\n",
    "\n",
    "sog2 = away[\"Predicted\"].iloc[0]\n",
    "pow2 = away[\"power\"].iloc[0]"
   ]
  },
  {
   "cell_type": "markdown",
   "id": "fd2487d6",
   "metadata": {},
   "source": [
    "<br>"
   ]
  },
  {
   "cell_type": "markdown",
   "id": "9e553bdb",
   "metadata": {},
   "source": [
    "<h1 style=\"color:Blue\">Pass</h3>"
   ]
  },
  {
   "cell_type": "code",
   "execution_count": 39,
   "id": "e967f4aa",
   "metadata": {},
   "outputs": [
    {
     "data": {
      "text/html": [
       "<div>\n",
       "<style scoped>\n",
       "    .dataframe tbody tr th:only-of-type {\n",
       "        vertical-align: middle;\n",
       "    }\n",
       "\n",
       "    .dataframe tbody tr th {\n",
       "        vertical-align: top;\n",
       "    }\n",
       "\n",
       "    .dataframe thead th {\n",
       "        text-align: right;\n",
       "    }\n",
       "</style>\n",
       "<table border=\"1\" class=\"dataframe\">\n",
       "  <thead>\n",
       "    <tr style=\"text-align: right;\">\n",
       "      <th></th>\n",
       "      <th>league_id</th>\n",
       "      <th>club_team_id</th>\n",
       "      <th>league_name</th>\n",
       "      <th>club_name</th>\n",
       "      <th>power</th>\n",
       "      <th>passing</th>\n",
       "    </tr>\n",
       "  </thead>\n",
       "  <tbody>\n",
       "    <tr>\n",
       "      <th>101</th>\n",
       "      <td>16</td>\n",
       "      <td>73</td>\n",
       "      <td>Ligue 1</td>\n",
       "      <td>Paris Saint Germain</td>\n",
       "      <td>84</td>\n",
       "      <td>80</td>\n",
       "    </tr>\n",
       "    <tr>\n",
       "      <th>84</th>\n",
       "      <td>13</td>\n",
       "      <td>10</td>\n",
       "      <td>Premier League</td>\n",
       "      <td>Manchester City</td>\n",
       "      <td>85</td>\n",
       "      <td>80</td>\n",
       "    </tr>\n",
       "    <tr>\n",
       "      <th>109</th>\n",
       "      <td>53</td>\n",
       "      <td>243</td>\n",
       "      <td>La Liga</td>\n",
       "      <td>Real Madrid</td>\n",
       "      <td>84</td>\n",
       "      <td>80</td>\n",
       "    </tr>\n",
       "    <tr>\n",
       "      <th>81</th>\n",
       "      <td>13</td>\n",
       "      <td>9</td>\n",
       "      <td>Premier League</td>\n",
       "      <td>Liverpool</td>\n",
       "      <td>84</td>\n",
       "      <td>79</td>\n",
       "    </tr>\n",
       "    <tr>\n",
       "      <th>30</th>\n",
       "      <td>13</td>\n",
       "      <td>5</td>\n",
       "      <td>Premier League</td>\n",
       "      <td>Chelsea</td>\n",
       "      <td>83</td>\n",
       "      <td>79</td>\n",
       "    </tr>\n",
       "    <tr>\n",
       "      <th>...</th>\n",
       "      <td>...</td>\n",
       "      <td>...</td>\n",
       "      <td>...</td>\n",
       "      <td>...</td>\n",
       "      <td>...</td>\n",
       "      <td>...</td>\n",
       "    </tr>\n",
       "    <tr>\n",
       "      <th>29</th>\n",
       "      <td>308</td>\n",
       "      <td>518</td>\n",
       "      <td>Liga Portugal</td>\n",
       "      <td>Chaves</td>\n",
       "      <td>67</td>\n",
       "      <td>60</td>\n",
       "    </tr>\n",
       "    <tr>\n",
       "      <th>64</th>\n",
       "      <td>68</td>\n",
       "      <td>112120</td>\n",
       "      <td>Super Lig</td>\n",
       "      <td>Giresunspor</td>\n",
       "      <td>66</td>\n",
       "      <td>59</td>\n",
       "    </tr>\n",
       "    <tr>\n",
       "      <th>41</th>\n",
       "      <td>10</td>\n",
       "      <td>1971</td>\n",
       "      <td>Eredivisie</td>\n",
       "      <td>Excelsior</td>\n",
       "      <td>65</td>\n",
       "      <td>59</td>\n",
       "    </tr>\n",
       "    <tr>\n",
       "      <th>51</th>\n",
       "      <td>10</td>\n",
       "      <td>645</td>\n",
       "      <td>Eredivisie</td>\n",
       "      <td>FC Volendam</td>\n",
       "      <td>64</td>\n",
       "      <td>57</td>\n",
       "    </tr>\n",
       "    <tr>\n",
       "      <th>152</th>\n",
       "      <td>68</td>\n",
       "      <td>746</td>\n",
       "      <td>Super Lig</td>\n",
       "      <td>İstanbulspor</td>\n",
       "      <td>64</td>\n",
       "      <td>55</td>\n",
       "    </tr>\n",
       "  </tbody>\n",
       "</table>\n",
       "<p>153 rows × 6 columns</p>\n",
       "</div>"
      ],
      "text/plain": [
       "     league_id  club_team_id     league_name            club_name  power  \\\n",
       "101         16            73         Ligue 1  Paris Saint Germain     84   \n",
       "84          13            10  Premier League      Manchester City     85   \n",
       "109         53           243         La Liga          Real Madrid     84   \n",
       "81          13             9  Premier League            Liverpool     84   \n",
       "30          13             5  Premier League              Chelsea     83   \n",
       "..         ...           ...             ...                  ...    ...   \n",
       "29         308           518   Liga Portugal               Chaves     67   \n",
       "64          68        112120       Super Lig          Giresunspor     66   \n",
       "41          10          1971      Eredivisie            Excelsior     65   \n",
       "51          10           645      Eredivisie          FC Volendam     64   \n",
       "152         68           746       Super Lig         İstanbulspor     64   \n",
       "\n",
       "     passing  \n",
       "101       80  \n",
       "84        80  \n",
       "109       80  \n",
       "81        79  \n",
       "30        79  \n",
       "..       ...  \n",
       "29        60  \n",
       "64        59  \n",
       "41        59  \n",
       "51        57  \n",
       "152       55  \n",
       "\n",
       "[153 rows x 6 columns]"
      ]
     },
     "execution_count": 39,
     "metadata": {},
     "output_type": "execute_result"
    }
   ],
   "source": [
    "TPSR(players_df)"
   ]
  },
  {
   "cell_type": "code",
   "execution_count": null,
   "id": "3e2d3192",
   "metadata": {},
   "outputs": [],
   "source": []
  },
  {
   "cell_type": "code",
   "execution_count": null,
   "id": "b8bc3a0c",
   "metadata": {},
   "outputs": [],
   "source": []
  },
  {
   "cell_type": "code",
   "execution_count": null,
   "id": "81e8ee35",
   "metadata": {},
   "outputs": [],
   "source": []
  },
  {
   "cell_type": "code",
   "execution_count": null,
   "id": "cfc4c433",
   "metadata": {},
   "outputs": [],
   "source": []
  },
  {
   "cell_type": "code",
   "execution_count": null,
   "id": "e78ecea3",
   "metadata": {},
   "outputs": [],
   "source": []
  },
  {
   "cell_type": "code",
   "execution_count": null,
   "id": "0fdeca4c",
   "metadata": {},
   "outputs": [],
   "source": []
  },
  {
   "cell_type": "code",
   "execution_count": null,
   "id": "37cb323a",
   "metadata": {},
   "outputs": [],
   "source": []
  },
  {
   "cell_type": "markdown",
   "id": "6b396814",
   "metadata": {},
   "source": [
    "# Next Goal Probability"
   ]
  },
  {
   "cell_type": "code",
   "execution_count": 37,
   "id": "205392b7",
   "metadata": {},
   "outputs": [
    {
     "name": "stdout",
     "output_type": "stream",
     "text": [
      "Win probability: 0.6713474534827301\n"
     ]
    }
   ],
   "source": [
    "import numpy as np\n",
    "\n",
    "def NGP(home_rating, away_rating):\n",
    "    min_rating = 70\n",
    "    max_rating = 84 # DENEMELER 78, 80\n",
    "    # Min-Max Normalization\n",
    "    normalized_home_rating = (home_rating - min_rating) / (max_rating - min_rating)\n",
    "    normalized_away_rating = (away_rating - min_rating) / (max_rating - min_rating)\n",
    "    rating_diff = normalized_home_rating - normalized_away_rating\n",
    "    ngp_prob = 1 / (1 + np.exp(-rating_diff))\n",
    "    return ngp_prob\n",
    "\n",
    "#Test\n",
    "home_rating = 81\n",
    "away_rating = 71\n",
    "probability = NGP(home_rating, away_rating)\n",
    "print(\"Win probability:\", probability)"
   ]
  },
  {
   "cell_type": "code",
   "execution_count": null,
   "id": "ba51ebec",
   "metadata": {},
   "outputs": [],
   "source": []
  },
  {
   "cell_type": "code",
   "execution_count": null,
   "id": "ad4b3330",
   "metadata": {},
   "outputs": [],
   "source": []
  },
  {
   "cell_type": "code",
   "execution_count": null,
   "id": "e30b61d2",
   "metadata": {},
   "outputs": [],
   "source": []
  },
  {
   "cell_type": "code",
   "execution_count": null,
   "id": "43dc4bcd",
   "metadata": {},
   "outputs": [],
   "source": []
  },
  {
   "cell_type": "code",
   "execution_count": null,
   "id": "64ccdefd",
   "metadata": {},
   "outputs": [],
   "source": []
  },
  {
   "cell_type": "code",
   "execution_count": null,
   "id": "2fec00fa",
   "metadata": {},
   "outputs": [],
   "source": []
  }
 ],
 "metadata": {
  "kernelspec": {
   "display_name": "Python 3 (ipykernel)",
   "language": "python",
   "name": "python3"
  },
  "language_info": {
   "codemirror_mode": {
    "name": "ipython",
    "version": 3
   },
   "file_extension": ".py",
   "mimetype": "text/x-python",
   "name": "python",
   "nbconvert_exporter": "python",
   "pygments_lexer": "ipython3",
   "version": "3.10.9"
  }
 },
 "nbformat": 4,
 "nbformat_minor": 5
}
