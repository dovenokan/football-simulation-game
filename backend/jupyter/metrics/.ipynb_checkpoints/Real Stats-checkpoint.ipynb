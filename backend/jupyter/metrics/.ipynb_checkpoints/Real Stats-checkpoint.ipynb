{
 "cells": [
  {
   "cell_type": "code",
   "execution_count": 50,
   "id": "5fbfc53b",
   "metadata": {},
   "outputs": [],
   "source": [
    "import pandas as pd\n",
    "import numpy as np\n",
    "import seaborn as sns\n",
    "import matplotlib.pyplot as plt\n",
    "import re\n",
    "from futsim_funcs import TPR,TFR,TPSR"
   ]
  },
  {
   "cell_type": "code",
   "execution_count": 51,
   "id": "9ee72bfb",
   "metadata": {},
   "outputs": [],
   "source": [
    "import warnings\n",
    "warnings.filterwarnings(\"ignore\", message=\"The default value of numeric_only in DataFrame.mean is deprecated.\", category=FutureWarning)"
   ]
  },
  {
   "cell_type": "code",
   "execution_count": 52,
   "id": "c9fa8033",
   "metadata": {},
   "outputs": [],
   "source": [
    "players_df = pd.read_csv(\"../fifa24_db/pdb_23.csv\")"
   ]
  },
  {
   "cell_type": "markdown",
   "id": "ee9272a3",
   "metadata": {},
   "source": [
    "<br><br><br><br>"
   ]
  },
  {
   "cell_type": "markdown",
   "id": "d470e074",
   "metadata": {},
   "source": [
    "# Matchday Goal Count"
   ]
  },
  {
   "cell_type": "code",
   "execution_count": 53,
   "id": "5c8d95aa",
   "metadata": {},
   "outputs": [],
   "source": [
    "data_eng = {\n",
    "    'Goals': [2, 3, 1, 4, 5, 0, 6, 7, 8, 9],\n",
    "    'Percentage': [22.9, 20.8, 18.4, 15.0, 8.2, 6.1, 4.7, 2.6, 0.8, 0.5],\n",
    "    'Count': [87, 79, 70, 57, 31, 23, 18, 10, 3, 2],\n",
    "    'League': ['eng'] * 10  # All rows have the same league 'eng'\n",
    "}\n",
    "\n",
    "df_eng = pd.DataFrame(data_eng)"
   ]
  },
  {
   "cell_type": "code",
   "execution_count": 54,
   "id": "3b515a29",
   "metadata": {},
   "outputs": [],
   "source": [
    "data_ita = {\n",
    "    'Goals': [2, 3, 1, 4, 5, 0, 6, 7],\n",
    "    'Percentage': [24.9, 22.5, 18.7, 14.5, 7.3, 7.3, 3.5, 1.4],\n",
    "    'Count': [72, 65, 54, 42, 21, 21, 10, 4],\n",
    "    'League': ['ita'] * 8  # All rows have the same league 'ita'\n",
    "}\n",
    "\n",
    "df_ita = pd.DataFrame(data_ita)"
   ]
  },
  {
   "cell_type": "code",
   "execution_count": 55,
   "id": "7f5c2535",
   "metadata": {},
   "outputs": [],
   "source": [
    "data_esp = {\n",
    "    'Goals': [2, 1, 3, 4, 0, 5, 6, 7, 8],\n",
    "    'Percentage': [26.3, 19.7, 18.3, 11.1, 8.7, 7.6, 4.8, 2.4, 1.0],\n",
    "    'Count': [76, 57, 53, 32, 25, 22, 14, 7, 3],\n",
    "    'League': ['esp'] * 9  # All rows have the same league 'esp'\n",
    "}\n",
    "\n",
    "df_esp = pd.DataFrame(data_esp)"
   ]
  },
  {
   "cell_type": "code",
   "execution_count": 56,
   "id": "88b62833",
   "metadata": {},
   "outputs": [],
   "source": [
    "data_ger = {\n",
    "    'Goals': [2, 3, 4, 1, 5, 6, 0, 7, 8, 9],\n",
    "    'Percentage': [22.6, 21.4, 20.5, 11.1, 9.4, 7.7, 3.8, 2.1, 0.9, 0.4],\n",
    "    'Count': [53, 50, 48, 26, 22, 18, 9, 5, 2, 1],\n",
    "    'League': ['ger'] * 10  # All rows have the same league 'ger'\n",
    "}\n",
    "\n",
    "df_ger = pd.DataFrame(data_ger)"
   ]
  },
  {
   "cell_type": "code",
   "execution_count": 57,
   "id": "6eaed3a3",
   "metadata": {},
   "outputs": [],
   "source": [
    "data_fra = {\n",
    "    'Goals': [3, 2, 4, 1, 0, 5, 6, 8, 7],\n",
    "    'Percentage': [23.5, 23.1, 16.2, 16.2, 10.3, 6.4, 3.0, 0.9, 0.4],\n",
    "    'Count': [55, 54, 38, 38, 24, 15, 7, 2, 1],\n",
    "    'League': ['fra'] * 9  # All rows have the same league 'fra'\n",
    "}\n",
    "\n",
    "df_fra = pd.DataFrame(data_fra)"
   ]
  },
  {
   "cell_type": "code",
   "execution_count": 58,
   "id": "a4e08092",
   "metadata": {},
   "outputs": [],
   "source": [
    "# List of DataFrames for each league\n",
    "dfs = [df_eng, df_ita, df_esp, df_ger, df_fra]\n",
    "\n",
    "# Concatenate DataFrames\n",
    "df_merged = pd.concat(dfs)\n",
    "df_merged.drop(columns=[\"Percentage\"], inplace=True)\n",
    "\n",
    "# Group by 'Goals' and sum up the 'Count' for each goal\n",
    "df_merged = df_merged.groupby('Goals').agg({'Count': 'sum'}).reset_index()\n",
    "total_count = df_merged['Count'].sum()"
   ]
  },
  {
   "cell_type": "code",
   "execution_count": null,
   "id": "f36106b4",
   "metadata": {},
   "outputs": [],
   "source": [
    "df_merged['Percentage'] = df_merged['Count'] / total_count * 100"
   ]
  },
  {
   "cell_type": "code",
   "execution_count": null,
   "id": "5452e889",
   "metadata": {},
   "outputs": [],
   "source": [
    "goals_per_match = df_merged.copy()"
   ]
  },
  {
   "cell_type": "code",
   "execution_count": null,
   "id": "5012b231",
   "metadata": {},
   "outputs": [],
   "source": [
    "goals_per_match"
   ]
  },
  {
   "cell_type": "code",
   "execution_count": null,
   "id": "8bb3da3c",
   "metadata": {},
   "outputs": [],
   "source": [
    "# Plot the histogram\n",
    "ax = sns.histplot(data=goals_per_match, x=\"Goals\", weights=\"Count\", kde=True, bins=range(11), discrete=True)\n",
    "\n",
    "# Calculate the average\n",
    "average_goals = (goals_per_match[\"Goals\"] * goals_per_match[\"Count\"]).sum() / goals_per_match[\"Count\"].sum()\n",
    "\n",
    "# Add average line\n",
    "ax.axvline(average_goals, color='red', linestyle='--', label=f'Average: {average_goals:.2f}')\n",
    "ax.legend()\n",
    "\n",
    "# Add percentage values on bars\n",
    "total_count = goals_per_match[\"Count\"].sum()\n",
    "for p in ax.patches:\n",
    "    height = p.get_height()\n",
    "    ax.annotate(f'{(height / total_count * 100):.2f}%', (p.get_x() + p.get_width() / 2., height),\n",
    "                ha='center', va='bottom')\n",
    "\n",
    "# Set x-axis ticks from 0 to 9\n",
    "plt.xticks(range(10))\n",
    "plt.show()"
   ]
  },
  {
   "cell_type": "code",
   "execution_count": null,
   "id": "d8bb9c85",
   "metadata": {},
   "outputs": [],
   "source": [
    "goals_count = goals_per_match['Goals'].tolist()\n",
    "goals_count_probabilities = goals_per_match['Percentage'].div(100).tolist()  # Convert percentage to probability\n",
    "\n",
    "def MGC(goals_count, goals_count_probabilities):\n",
    "    '''\n",
    "    Matchday Goal Count\n",
    "    '''\n",
    "    random_goal = np.random.choice(goals_count, p=goals_count_probabilities)\n",
    "    return random_goal\n",
    "\n",
    "for i in range(1):\n",
    "    random_goal = MGC(goals_count, goals_count_probabilities)\n",
    "    print(\"-----\",random_goal,\"-----\")"
   ]
  },
  {
   "cell_type": "markdown",
   "id": "264d88ad",
   "metadata": {},
   "source": [
    "<br><br><br><br>"
   ]
  },
  {
   "cell_type": "markdown",
   "id": "0dc2bf78",
   "metadata": {},
   "source": [
    "# Matchday Actions Count[ ]"
   ]
  },
  {
   "cell_type": "markdown",
   "id": "509a70ce",
   "metadata": {},
   "source": [
    "<h1 style=\"color:Blue\">Shot</h1>\n",
    "<h3 style=\"color:orange\">Goal/SoT</h3>"
   ]
  },
  {
   "cell_type": "code",
   "execution_count": null,
   "id": "ba854425",
   "metadata": {},
   "outputs": [],
   "source": [
    "data = {\n",
    "    'Competition Name': ['de Bundesliga', 'es La Liga', 'fr Ligue 1', 'eng Premier League', 'it Serie A'],\n",
    "    'Gls': [1.55, 1.22, 1.35, 1.37, 1.24],\n",
    "    'Sh': [12.58, 12.17, 12.06, 12.51, 12.56],\n",
    "    'SoT': [4.42, 3.98, 4.26, 4.15, 3.92],\n",
    "    'SoT%': [35.1, 32.7, 35.3, 33.2, 31.2],\n",
    "    'G/Sh': [0.11, 0.09, 0.10, 0.10, 0.09],\n",
    "    'G/SoT': [0.32, 0.28, 0.28, 0.31, 0.29],\n",
    "    'Dist': [17.4, 17.9, 17.4, 16.9, 17.9],\n",
    "    'FK': [0.41, 0.43, 0.41, 0.40, 0.45],\n",
    "    'PK': [0.14, 0.11, 0.15, 0.10, 0.11],\n",
    "    'PKatt': [0.18, 0.15, 0.19, 0.13, 0.14],\n",
    "    'xG': [1.45, 1.30, 1.41, 1.42, 1.26],\n",
    "    'npxG': [1.31, 1.18, 1.27, 1.32, 1.15],\n",
    "    'npxG/Sh': [0.11, 0.10, 0.11, 0.11, 0.09],\n",
    "    'G-xG': ['+0.07', '-0.11', '-0.09', '-0.09', '-0.05'],\n",
    "    'np:G-xG': ['+0.07', '-0.10', '-0.09', '-0.08', '-0.05']\n",
    "}\n",
    "\n",
    "df_shooting = pd.DataFrame(data)\n",
    "df_shooting"
   ]
  },
  {
   "cell_type": "code",
   "execution_count": null,
   "id": "24828ab2",
   "metadata": {},
   "outputs": [],
   "source": [
    "x = df_shooting\n",
    "shots_per_match = np.mean(x[\"Sh\"])\n",
    "sot_percentage = np.sum(x[\"SoT\"]) / np.sum(x[\"Sh\"])\n",
    "goal_percentage = np.sum(x[\"Gls\"]) / np.sum(x[\"SoT\"])"
   ]
  },
  {
   "cell_type": "code",
   "execution_count": null,
   "id": "32787433",
   "metadata": {},
   "outputs": [],
   "source": [
    "column_width = 12\n",
    "print(f\"{'Sh/Match':<{column_width}} {'SoT/Sh':<{column_width}} {'Gls/SoT':<{column_width}}\")\n",
    "print(f\"{shots_per_match:<{column_width}.2f} {sot_percentage:<{column_width}.2f} {goal_percentage:<{column_width}.2f}\")"
   ]
  },
  {
   "cell_type": "code",
   "execution_count": null,
   "id": "d1460ca6",
   "metadata": {},
   "outputs": [],
   "source": [
    "def transform_rating(rating, average_rating=70, advantage=1, disadvantage=-1.5):\n",
    "    # Calculate the difference between the rating and the average\n",
    "    diff = rating - average_rating\n",
    "    \n",
    "    # Apply advantage and disadvantage based on the difference\n",
    "    if diff > 0:\n",
    "        # Apply advantage for ratings higher than average\n",
    "        transformed_rating = average_rating + diff * (1 + advantage)\n",
    "    else:\n",
    "        # Apply disadvantage for ratings lower than average\n",
    "        transformed_rating = average_rating + diff * (1 - disadvantage)\n",
    "    \n",
    "    # Scale the transformed rating to a range between 0 and 1\n",
    "    scaled_rating = (transformed_rating - 60) / (80 - 60)\n",
    "    \n",
    "    # Ensure the result is between 0 and 1\n",
    "    return min(scaled_rating, 1) / 20\n",
    "\n",
    "# Test the function with ratings 80 and 60\n",
    "rating_80 = transform_rating(80)\n",
    "rating_60 = transform_rating(60)\n",
    "\n",
    "print(\"Transformed rating for 80:\", rating_80)\n",
    "print(\"Transformed rating for 60:\", rating_60)"
   ]
  },
  {
   "cell_type": "code",
   "execution_count": null,
   "id": "2bf1481e",
   "metadata": {},
   "outputs": [],
   "source": [
    "finishing = 80\n",
    "\n",
    "target_p = 0.33 + transform_rating(finishing)\n",
    "goal_p = 0.30 + transform_rating(finishing)"
   ]
  },
  {
   "cell_type": "code",
   "execution_count": null,
   "id": "46be30ee",
   "metadata": {},
   "outputs": [],
   "source": [
    "sot_count_trials=[]\n",
    "goal_count_trials=[]\n",
    "shot_count = 13 \n",
    "for i in range(shot_count):\n",
    "    goal_counter=0\n",
    "    sot_counter=0\n",
    "    shot_on_target = np.random.choice([1, 0], p=[target_p, 1-target_p])\n",
    "    #print(\"-----\",shot_on_target,\"-----\")\n",
    "    if shot_on_target:\n",
    "        #print(\"@Shot on Target\")\n",
    "        goal_attempt = np.random.choice([1, 0], p=[goal_p, 1-goal_p])\n",
    "        sot_counter+=1\n",
    "        if goal_attempt:\n",
    "            #print(\"⚽⚽⚽GOOOOOOOOOOOOOOOOOOOOOOOOOOOL\")\n",
    "            goal_counter+=1\n",
    "    sot_count_trials.append(sot_counter)\n",
    "    goal_count_trials.append(goal_counter)    \n",
    "    \n",
    "print(shot_count, \"Shots\")\n",
    "print(sum(sot_count_trials), \"Shot on Target\")\n",
    "print(sum(goal_count_trials), \"Goals\")\n",
    "\n",
    "ratio = sum(goal_count_trials) / sum(sot_count_trials)\n",
    "goal_per_sot = ratio if ratio==0 or shot_count else 0\n",
    "print(\"G/SoT:\", goal_per_sot )"
   ]
  },
  {
   "cell_type": "code",
   "execution_count": null,
   "id": "7f2b6c3b",
   "metadata": {},
   "outputs": [],
   "source": [
    "sum(goals_per_match.Goals * goals_per_match.Count)"
   ]
  },
  {
   "cell_type": "code",
   "execution_count": null,
   "id": "0d0963b3",
   "metadata": {},
   "outputs": [],
   "source": [
    "TFR(players_df, 18).sort_values(\"power\", ascending=False).head()"
   ]
  },
  {
   "cell_type": "code",
   "execution_count": null,
   "id": "6b310962",
   "metadata": {},
   "outputs": [],
   "source": [
    "q = players_df[\"club_name\"].str.contains(\"chelsea\", case=False)\n",
    "players_df[q].sort_values(by=\"overall\", ascending=False).head(n=3)"
   ]
  },
  {
   "cell_type": "markdown",
   "id": "5cac480a",
   "metadata": {},
   "source": [
    "<br><br><br><br>"
   ]
  },
  {
   "cell_type": "markdown",
   "id": "64eee039",
   "metadata": {},
   "source": [
    "# REGRESSION📈 "
   ]
  },
  {
   "cell_type": "markdown",
   "id": "21046c01",
   "metadata": {},
   "source": [
    "### Importing Data"
   ]
  },
  {
   "cell_type": "code",
   "execution_count": null,
   "id": "6a7c2bd7",
   "metadata": {},
   "outputs": [],
   "source": [
    "url = \"https://fbref.com/en/comps/Big5/2022-2023/shooting/squads/2022-2023-Big-5-European-Leagues-Stats\"\n",
    "fbref_data = pd.read_html( url, header=1)[0]\n",
    "\n",
    "fifa_data = TFR(players_df)\n",
    "fifa_data[\"league_id\"] = fifa_data[\"league_id\"].astype(str)\n",
    "top5_leagues_id = [str(i) for i in [13,53,19,31,16]]\n",
    "q = fifa_data[\"league_id\"].str.contains('|'.join(top5_leagues_id))\n",
    "\n",
    "fifa_data = fifa_data[q]"
   ]
  },
  {
   "cell_type": "markdown",
   "id": "eccfa92a",
   "metadata": {},
   "source": [
    "### Merging FIFA & FBRef"
   ]
  },
  {
   "cell_type": "code",
   "execution_count": null,
   "id": "fe7f1415",
   "metadata": {},
   "outputs": [],
   "source": [
    "from rapidfuzz import process\n",
    "def find_best_match(name, choices):\n",
    "    return process.extractOne(name, choices)\n",
    "\n",
    "def mapped_data(fifa_data, fbref_data):\n",
    "    fbref_to_fifa_mapping = {fb_name: find_best_match(fb_name, fifa_data['club_name'])[0] for fb_name in fbref_data['Squad']}\n",
    "    fbref_to_fifa_mapping = {key: value for key, value in fbref_to_fifa_mapping.items() if value is not None}\n",
    "    fbref_data['Mapped_club_name'] = fbref_data['Squad'].map(fbref_to_fifa_mapping)\n",
    "    merged_data = pd.merge(fbref_data, fifa_data, how='inner', left_on='Mapped_club_name', right_on='club_name')\n",
    "    return merged_data\n",
    "\n",
    "all_team_ids = []\n",
    "# lst = mapped_data(fifa_data, fbref_data)[[\"Squad\",\"club_name\",\"club_team_id\"]]\n",
    "# print(len(merged_ids))\n",
    "# for i in zip(lst.Squad, lst.club_name, lst.club_team_id):\n",
    "#     print(i) "
   ]
  },
  {
   "cell_type": "code",
   "execution_count": null,
   "id": "1291d67c",
   "metadata": {},
   "outputs": [],
   "source": [
    "data = mapped_data(fifa_data, fbref_data).copy()\n",
    "data.columns"
   ]
  },
  {
   "cell_type": "markdown",
   "id": "7dd3c915",
   "metadata": {},
   "source": [
    "### Linear Model"
   ]
  },
  {
   "cell_type": "code",
   "execution_count": null,
   "id": "0c52ec57",
   "metadata": {
    "scrolled": false
   },
   "outputs": [],
   "source": [
    "import pandas as pd\n",
    "from sklearn.model_selection import train_test_split\n",
    "from sklearn.linear_model import Ridge\n",
    "from sklearn.metrics import mean_squared_error\n",
    "\n",
    "feature_columns = [\"power\",\"finishing\"]\n",
    "target_variable = \"G/SoT\"\n",
    "\n",
    "X = data[feature_columns]\n",
    "y = data[target_variable]\n",
    "\n",
    "X_train, X_test, y_train, y_test = train_test_split(X, y, test_size=0.2, random_state=42)\n",
    "\n",
    "model = Ridge(alpha=1.0)\n",
    "model.fit(X_train, y_train)\n",
    "\n",
    "y_pred = model.predict(X_test)\n",
    "\n",
    "mse = mean_squared_error(y_test, y_pred)\n",
    "print(\"Mean Squared Error:\", mse)\n",
    "print(\"Coefficients:\", model.coef_)\n",
    "print(\"Intercept:\", model.intercept_)"
   ]
  },
  {
   "cell_type": "markdown",
   "id": "354e2a44",
   "metadata": {},
   "source": [
    "### Test & Error"
   ]
  },
  {
   "cell_type": "code",
   "execution_count": null,
   "id": "bcbf1fb5",
   "metadata": {},
   "outputs": [],
   "source": [
    "predicted_g_sot_all = model.predict(X)\n",
    "data['Predicted'] = predicted_g_sot_all\n",
    "data[\"Error\"] = data['G/SoT'] - predicted_g_sot_all\n",
    "err = data[\"Error\"].mean()\n",
    "print(\"Error for\",\"Finishing:\", str(err)[:6])\n",
    "\n",
    "finishing = 75\n",
    "power = 84\n",
    "\n",
    "input_data = pd.DataFrame({\n",
    "    \"power\": [power],\n",
    "    \"finishing\": [finishing]\n",
    "})\n",
    "predicted_g_sot = model.predict(input_data)\n",
    "print(\"predicted_g_sot\", predicted_g_sot)\n",
    "\n",
    "data[[\"club_team_id\",\"Squad\",\"G/SoT\",\"Predicted\",\"power\"]].sort_values(\"Predicted\",ascending=False).head(n=5)"
   ]
  },
  {
   "cell_type": "markdown",
   "id": "beb9968d",
   "metadata": {},
   "source": [
    "<br><br><br><br>"
   ]
  },
  {
   "cell_type": "markdown",
   "id": "9e553bdb",
   "metadata": {},
   "source": [
    "<h1 style=\"color:Blue\">Pass</h1>\n",
    "<h3 style=\"color:orange\">Pass Accuracy</h3>"
   ]
  },
  {
   "cell_type": "code",
   "execution_count": null,
   "id": "e967f4aa",
   "metadata": {},
   "outputs": [],
   "source": [
    "TPSR(players_df)"
   ]
  },
  {
   "cell_type": "code",
   "execution_count": null,
   "id": "3e2d3192",
   "metadata": {},
   "outputs": [],
   "source": [
    "data = {\n",
    "    \"Competition Name\": [\"de Bundesliga\", \"es La Liga\", \"fr Ligue 1\", \"eng Premier League\", \"it Serie A\"],\n",
    "    \"Cmp_Total\": [371.1, 372.5, 402.6, 392.8, 384.1],\n",
    "    \"Att_Total\": [484.7, 471.5, 498.9, 495.5, 483.8],\n",
    "    \"Cmp%_Total\": [76.6, 79.0, 80.7, 79.3, 79.4],\n",
    "    \"TotDist_Total\": [6823, 6665, 7167, 6833, 6882],\n",
    "    \"PrgDist_Total\": [2620, 2455, 2556, 2425, 2502],\n",
    "    \"Cmp_Short\": [156.4, 170.4, 173.7, 182.8, 170.8],\n",
    "    \"Att_Short\": [183.2, 192.2, 199.7, 207.4, 193.8],\n",
    "    \"Cmp%_Short\": [85.4, 88.7, 87.0, 88.1, 88.1],\n",
    "    \"Cmp_Medium\": [163.1, 150.3, 172.3, 162.3, 160.5],\n",
    "    \"Att_Medium\": [193.9, 176.5, 198.9, 189.3, 187.2],\n",
    "    \"Cmp%_Medium\": [84.1, 85.2, 86.6, 85.7, 85.7],\n",
    "    \"Cmp_Long\": [42.4, 41.6, 42.3, 37.5, 42.4],\n",
    "    \"Att_Long\": [80.1, 76.1, 72.9, 71.4, 76.0],\n",
    "    \"Cmp%_Long\": [52.9, 54.7, 58.0, 52.5, 55.8],\n",
    "    \"Ast\": [1.09, 0.86, 0.89, 0.96, 0.89],\n",
    "    \"xAG\": [1.03, 0.94, 0.97, 1.03, 0.92],\n",
    "    \"xA\": [1.11, 0.90, 0.99, 0.88, 0.80],\n",
    "    \"A-xAG\": [0.05, -0.09, -0.09, -0.09, -0.04],\n",
    "    \"KP\": [9.3, 9.2, 9.0, 9.4, 9.6],\n",
    "    \"1/3\": [27.9, 30.0, 32.8, 30.3, 28.4],\n",
    "    \"PPA\": [7.8, 7.4, 8.0, 8.1, 7.7],\n",
    "    \"CrsPA\": [2.1, 2.2, 2.0, 1.9, 2.2],\n",
    "    \"PrgP\": [35.9, 36.8, 41.5, 37.8, 35.7]\n",
    "}\n",
    "\n",
    "df_passing = pd.DataFrame(data)\n",
    "df_passing.columns"
   ]
  },
  {
   "cell_type": "markdown",
   "id": "88f210bd",
   "metadata": {},
   "source": [
    "### Importing Data"
   ]
  },
  {
   "cell_type": "code",
   "execution_count": null,
   "id": "4ef0f174",
   "metadata": {},
   "outputs": [],
   "source": [
    "url = \"https://fbref.com/en/comps/Big5/2022-2023/passing/squads/2022-2023-Big-5-European-Leagues-Stats\"\n",
    "fbref_data = pd.read_html( url, header=1)[0]\n",
    "\n",
    "fifa_data = TPSR(players_df)\n",
    "fifa_data[\"league_id\"] = fifa_data[\"league_id\"].astype(str)\n",
    "top5_leagues_id = [str(i) for i in [13,53,19,31,16]]\n",
    "q = fifa_data[\"league_id\"].str.contains('|'.join(top5_leagues_id))\n",
    "\n",
    "fifa_data = fifa_data[q]"
   ]
  },
  {
   "cell_type": "markdown",
   "id": "d5185303",
   "metadata": {},
   "source": [
    "### Merging FIFA & FBRef"
   ]
  },
  {
   "cell_type": "code",
   "execution_count": null,
   "id": "b2670ecf",
   "metadata": {},
   "outputs": [],
   "source": [
    "from rapidfuzz import process\n",
    "def find_best_match(name, choices):\n",
    "    return process.extractOne(name, choices)\n",
    "\n",
    "def mapped_data(fifa_data, fbref_data):\n",
    "    fbref_to_fifa_mapping = {fb_name: find_best_match(fb_name, fifa_data['club_name'])[0] for fb_name in fbref_data['Squad']}\n",
    "    fbref_to_fifa_mapping = {key: value for key, value in fbref_to_fifa_mapping.items() if value is not None}\n",
    "    fbref_data['Mapped_club_name'] = fbref_data['Squad'].map(fbref_to_fifa_mapping)\n",
    "    merged_data = pd.merge(fbref_data, fifa_data, how='inner', left_on='Mapped_club_name', right_on='club_name')\n",
    "    return merged_data\n",
    "\n",
    "all_team_ids = []\n",
    "# lst = mapped_data(fifa_data, fbref_data)[[\"Squad\",\"club_name\",\"club_team_id\"]]\n",
    "# for i in zip(lst.Squad, lst.club_name, lst.club_team_id):\n",
    "#     print(i) "
   ]
  },
  {
   "cell_type": "code",
   "execution_count": null,
   "id": "97a56a33",
   "metadata": {},
   "outputs": [],
   "source": [
    "data = mapped_data(fifa_data, fbref_data).copy()\n",
    "data.columns"
   ]
  },
  {
   "cell_type": "code",
   "execution_count": null,
   "id": "398e2171",
   "metadata": {},
   "outputs": [],
   "source": [
    "data[\"pass_accuracy\"] = data[\"Cmp%\"]/100\n",
    "data[\"pass_attempts\"] = (data[\"Att\"] / data[\"90s\"]).apply(int)"
   ]
  },
  {
   "cell_type": "markdown",
   "id": "b594b355",
   "metadata": {},
   "source": [
    "### Linear Model"
   ]
  },
  {
   "cell_type": "code",
   "execution_count": null,
   "id": "3ed4e3ca",
   "metadata": {
    "scrolled": false
   },
   "outputs": [],
   "source": [
    "import pandas as pd\n",
    "from sklearn.model_selection import train_test_split\n",
    "from sklearn.linear_model import Ridge\n",
    "from sklearn.metrics import mean_squared_error\n",
    "\n",
    "feature_columns = [\"power\",\"passing\"]\n",
    "target_variable = \"pass_accuracy\"\n",
    "\n",
    "X = data[feature_columns]\n",
    "y = data[target_variable]\n",
    "\n",
    "X_train, X_test, y_train, y_test = train_test_split(X, y, test_size=0.2, random_state=42)\n",
    "\n",
    "model = Ridge(alpha=1.0)\n",
    "model.fit(X_train, y_train)\n",
    "\n",
    "y_pred = model.predict(X_test)\n",
    "\n",
    "mse = mean_squared_error(y_test, y_pred)\n",
    "print(\"Mean Squared Error:\", mse)\n",
    "print(\"Coefficients:\", model.coef_)\n",
    "print(\"Intercept:\", model.intercept_)"
   ]
  },
  {
   "cell_type": "markdown",
   "id": "940cd36c",
   "metadata": {},
   "source": [
    "### Error"
   ]
  },
  {
   "cell_type": "code",
   "execution_count": null,
   "id": "ffb9d9d5",
   "metadata": {},
   "outputs": [],
   "source": [
    "predicted_g_sot_all = model.predict(X)\n",
    "data['Predicted'] = predicted_g_sot_all\n",
    "data[\"Error\"] = data['pass_accuracy'] - predicted_g_sot_all\n",
    "err = data[\"Error\"].mean()\n",
    "print(err)"
   ]
  },
  {
   "cell_type": "markdown",
   "id": "26fac197",
   "metadata": {},
   "source": [
    "### Test"
   ]
  },
  {
   "cell_type": "code",
   "execution_count": null,
   "id": "921e1579",
   "metadata": {},
   "outputs": [],
   "source": [
    "passing = 77\n",
    "power = 79\n",
    "\n",
    "input_data = pd.DataFrame({\n",
    "    \"power\": [power],\n",
    "    \"passing\": [passing],\n",
    "})\n",
    "\n",
    "predicted = model.predict(input_data)\n",
    "data[[\"Squad\", \"pass_accuracy\", \"Predicted\", \"passing\"]].sort_values(\"Predicted\", ascending=False).head(n=5)"
   ]
  },
  {
   "cell_type": "markdown",
   "id": "0cc1b925",
   "metadata": {},
   "source": [
    "<br><br><br><br>"
   ]
  },
  {
   "cell_type": "markdown",
   "id": "57f8a60f",
   "metadata": {},
   "source": [
    "<h3 style=\"color:orange\">Pass Attempts</h3>"
   ]
  },
  {
   "cell_type": "code",
   "execution_count": null,
   "id": "09fe64a7",
   "metadata": {},
   "outputs": [],
   "source": [
    "import pandas as pd\n",
    "from sklearn.model_selection import train_test_split\n",
    "from sklearn.linear_model import Ridge\n",
    "from sklearn.metrics import mean_squared_error\n",
    "\n",
    "feature_columns = [\"power\",\"passing\"]\n",
    "target_variable = \"pass_attempts\"\n",
    "\n",
    "X = data[feature_columns]\n",
    "y = data[target_variable]\n",
    "\n",
    "X_train, X_test, y_train, y_test = train_test_split(X, y, test_size=0.2, random_state=42)\n",
    "\n",
    "model = Ridge(alpha=1.0)\n",
    "model.fit(X_train, y_train)\n",
    "\n",
    "y_pred = model.predict(X_test)\n",
    "\n",
    "mse = mean_squared_error(y_test, y_pred)\n",
    "print(\"Mean Squared Error:\", mse)\n",
    "print(\"Coefficients:\", model.coef_)\n",
    "print(\"Intercept:\", model.intercept_)"
   ]
  },
  {
   "cell_type": "code",
   "execution_count": null,
   "id": "b579d32c",
   "metadata": {},
   "outputs": [],
   "source": [
    "predicted = model.predict(X).astype(int)\n",
    "data['Predicted'] = predicted\n",
    "data[\"error\"] = data['pass_attempts'] - predicted\n",
    "\n",
    "error = data[\"error\"].apply(abs)\n",
    "error_mean = error.mean()\n",
    "print(\"Error for\",\"Passing.pass_attempts:\", int(error_mean))\n",
    "\n",
    "power = 84\n",
    "passing = 80\n",
    "\n",
    "input_data = pd.DataFrame({ \n",
    "    \"power\": [power],\n",
    "    \"passing\": [passing],\n",
    "})\n",
    "predicted = model.predict(input_data)\n",
    "print(\"predicted\", predicted)"
   ]
  },
  {
   "cell_type": "markdown",
   "id": "3fbad69d",
   "metadata": {},
   "source": [
    "### Randomness Factor"
   ]
  },
  {
   "cell_type": "code",
   "execution_count": null,
   "id": "e762075e",
   "metadata": {},
   "outputs": [],
   "source": [
    "random_interval = np.linspace(-45,45,91,dtype=\"int64\")\n",
    "random_choices = np.random.choice(random_interval, size=98)\n",
    "\n",
    "data['choice'] = random_choices\n",
    "data['generated'] = data['Predicted'] - data['choice']"
   ]
  },
  {
   "cell_type": "code",
   "execution_count": null,
   "id": "7fa89c0d",
   "metadata": {},
   "outputs": [],
   "source": [
    "data[[\"club_team_id\",\"Squad\",\"power\",\"passing\",\"pass_attempts\",\"Predicted\", \"error\", \"choice\", \"generated\"]] \\\n",
    ".sort_values(\"power\",ascending=False).head(n=5)"
   ]
  },
  {
   "cell_type": "code",
   "execution_count": null,
   "id": "ee5b5e7e",
   "metadata": {},
   "outputs": [],
   "source": []
  },
  {
   "cell_type": "code",
   "execution_count": null,
   "id": "ab122806",
   "metadata": {},
   "outputs": [],
   "source": [
    "f = data[\"error\"].apply(abs)"
   ]
  },
  {
   "cell_type": "code",
   "execution_count": null,
   "id": "7a02fb58",
   "metadata": {},
   "outputs": [],
   "source": [
    "f.describe()"
   ]
  },
  {
   "cell_type": "code",
   "execution_count": null,
   "id": "d874c33f",
   "metadata": {},
   "outputs": [],
   "source": []
  },
  {
   "cell_type": "code",
   "execution_count": null,
   "id": "2a17e121",
   "metadata": {},
   "outputs": [],
   "source": []
  },
  {
   "cell_type": "code",
   "execution_count": null,
   "id": "ae817494",
   "metadata": {},
   "outputs": [],
   "source": []
  },
  {
   "cell_type": "markdown",
   "id": "6b396814",
   "metadata": {},
   "source": [
    "# Next Goal Probability"
   ]
  },
  {
   "cell_type": "code",
   "execution_count": null,
   "id": "205392b7",
   "metadata": {},
   "outputs": [],
   "source": [
    "def NGP(home_rating, away_rating):\n",
    "    min_rating = 70\n",
    "    max_rating = 84 # DENEMELER 78, 80\n",
    "    # Min-Max Normalization\n",
    "    normalized_home_rating = (home_rating - min_rating) / (max_rating - min_rating)\n",
    "    normalized_away_rating = (away_rating - min_rating) / (max_rating - min_rating)\n",
    "    rating_diff = normalized_home_rating - normalized_away_rating\n",
    "    ngp_prob = 1 / (1 + np.exp(-rating_diff))\n",
    "    return ngp_prob\n",
    "\n",
    "#Test\n",
    "home_rating = 83\n",
    "away_rating = 79\n",
    "probability = NGP(home_rating, away_rating)\n",
    "print(\"Next Goal Probability:\", probability)"
   ]
  },
  {
   "cell_type": "code",
   "execution_count": null,
   "id": "43dc4bcd",
   "metadata": {},
   "outputs": [],
   "source": []
  },
  {
   "cell_type": "code",
   "execution_count": null,
   "id": "64ccdefd",
   "metadata": {},
   "outputs": [],
   "source": []
  },
  {
   "cell_type": "code",
   "execution_count": null,
   "id": "f6f41b0a",
   "metadata": {},
   "outputs": [],
   "source": []
  }
 ],
 "metadata": {
  "kernelspec": {
   "display_name": "Python 3 (ipykernel)",
   "language": "python",
   "name": "python3"
  },
  "language_info": {
   "codemirror_mode": {
    "name": "ipython",
    "version": 3
   },
   "file_extension": ".py",
   "mimetype": "text/x-python",
   "name": "python",
   "nbconvert_exporter": "python",
   "pygments_lexer": "ipython3",
   "version": "3.10.9"
  }
 },
 "nbformat": 4,
 "nbformat_minor": 5
}
