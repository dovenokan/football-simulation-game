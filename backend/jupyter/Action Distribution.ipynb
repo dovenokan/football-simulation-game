{
 "cells": [
  {
   "cell_type": "code",
   "execution_count": 4,
   "id": "6e5b86b8-6c5e-459f-9c59-8283f407df37",
   "metadata": {},
   "outputs": [],
   "source": [
    "import pandas as pd\n",
    "import numpy as np\n",
    "import os"
   ]
  },
  {
   "cell_type": "code",
   "execution_count": 5,
   "id": "96705a2f-5590-4b5b-82de-1181d8d4e648",
   "metadata": {},
   "outputs": [],
   "source": [
    "import warnings\n",
    "from sklearn.exceptions import UndefinedMetricWarning\n",
    "from pandas.errors import SettingWithCopyWarning\n",
    "warnings.filterwarnings(\"ignore\", category=UndefinedMetricWarning)\n",
    "warnings.simplefilter(action='ignore', category=(SettingWithCopyWarning))\n",
    "warnings.simplefilter(action='ignore', category=(FutureWarning))"
   ]
  },
  {
   "cell_type": "code",
   "execution_count": 6,
   "id": "efc8401f-36d0-4c39-b038-6753ea1b8c4d",
   "metadata": {},
   "outputs": [
    {
     "data": {
      "text/plain": [
       "['.ipynb_checkpoints',\n",
       " 'Big5@22-23@defense.csv',\n",
       " 'Big5@22-23@gca.csv',\n",
       " 'Big5@22-23@keeper.csv',\n",
       " 'Big5@22-23@misc.csv',\n",
       " 'Big5@22-23@passing.csv',\n",
       " 'Big5@22-23@passing_types.csv',\n",
       " 'Big5@22-23@possession.csv',\n",
       " 'Big5@22-23@shooting.csv']"
      ]
     },
     "execution_count": 6,
     "metadata": {},
     "output_type": "execute_result"
    }
   ],
   "source": [
    "os.listdir(\"match_logs\")"
   ]
  },
  {
   "cell_type": "code",
   "execution_count": 7,
   "id": "e4616feb-ccad-4caf-a5a1-35b2afd58c8e",
   "metadata": {},
   "outputs": [],
   "source": [
    "columns_array = [ \"Tkl\", \"TklW\", \"Tkl.1\", \"Att\", \"Blocks\", \"Sh\", \"Pass\", \"Int\", \"Clr\", \"Err\" ]"
   ]
  },
  {
   "cell_type": "markdown",
   "id": "bb3bdcac-8486-45cc-bb6b-5111f8d1110d",
   "metadata": {},
   "source": [
    "<br><br><br><br>\n",
    "<h3 style=\"color:red;\">  Data</h3>"
   ]
  },
  {
   "cell_type": "code",
   "execution_count": 8,
   "id": "b7979ed2-3d5b-4daf-92e4-e06961a5b0fd",
   "metadata": {},
   "outputs": [],
   "source": [
    "defense = pd.read_csv(\"match_logs/Big5@22-23@defense.csv\")\n",
    "gca = pd.read_csv(\"match_logs/Big5@22-23@gca.csv\")\n",
    "keeper = pd.read_csv(\"match_logs/Big5@22-23@keeper.csv\")\n",
    "misc = pd.read_csv(\"match_logs/Big5@22-23@misc.csv\")\n",
    "passing = pd.read_csv(\"match_logs/Big5@22-23@passing.csv\")\n",
    "passing_types = pd.read_csv(\"match_logs/Big5@22-23@passing_types.csv\")\n",
    "possession = pd.read_csv(\"match_logs/Big5@22-23@possession.csv\")\n",
    "shooting = pd.read_csv(\"match_logs/Big5@22-23@shooting.csv\")"
   ]
  },
  {
   "cell_type": "code",
   "execution_count": 11,
   "id": "db99b26e-1425-43d1-b410-68521b8572b9",
   "metadata": {},
   "outputs": [],
   "source": [
    "gca_cols = [ \"SCA\", \"PassLive\", \"PassDead\", \"TO\", \"Sh\", \"Fld\", \"Def\", \"GCA\", \"PassLive.1\", \"PassDead.1\", \"TO.1\", \"Sh.1\", \"Fld.1\", \"Def.1\" ]"
   ]
  },
  {
   "cell_type": "code",
   "execution_count": 16,
   "id": "323f8169-cec3-4de5-b69c-4ea434fb13db",
   "metadata": {},
   "outputs": [
    {
     "data": {
      "text/html": [
       "<div>\n",
       "<style scoped>\n",
       "    .dataframe tbody tr th:only-of-type {\n",
       "        vertical-align: middle;\n",
       "    }\n",
       "\n",
       "    .dataframe tbody tr th {\n",
       "        vertical-align: top;\n",
       "    }\n",
       "\n",
       "    .dataframe thead th {\n",
       "        text-align: right;\n",
       "    }\n",
       "</style>\n",
       "<table border=\"1\" class=\"dataframe\">\n",
       "  <thead>\n",
       "    <tr style=\"text-align: right;\">\n",
       "      <th></th>\n",
       "      <th>SCA</th>\n",
       "      <th>PassLive</th>\n",
       "      <th>PassDead</th>\n",
       "      <th>TO</th>\n",
       "      <th>Sh</th>\n",
       "      <th>Fld</th>\n",
       "      <th>Def</th>\n",
       "      <th>GCA</th>\n",
       "      <th>PassLive.1</th>\n",
       "      <th>PassDead.1</th>\n",
       "      <th>TO.1</th>\n",
       "      <th>Sh.1</th>\n",
       "      <th>Fld.1</th>\n",
       "      <th>Def.1</th>\n",
       "    </tr>\n",
       "  </thead>\n",
       "  <tbody>\n",
       "    <tr>\n",
       "      <th>min</th>\n",
       "      <td>1.000000</td>\n",
       "      <td>0.000000</td>\n",
       "      <td>0.000000</td>\n",
       "      <td>0.000000</td>\n",
       "      <td>0.000000</td>\n",
       "      <td>0.000000</td>\n",
       "      <td>0.000000</td>\n",
       "      <td>0.000000</td>\n",
       "      <td>0.000000</td>\n",
       "      <td>0.000000</td>\n",
       "      <td>0.000000</td>\n",
       "      <td>0.000000</td>\n",
       "      <td>0.000000</td>\n",
       "      <td>0.00000</td>\n",
       "    </tr>\n",
       "    <tr>\n",
       "      <th>mean</th>\n",
       "      <td>21.815545</td>\n",
       "      <td>15.804324</td>\n",
       "      <td>1.974001</td>\n",
       "      <td>1.238916</td>\n",
       "      <td>1.353038</td>\n",
       "      <td>1.087028</td>\n",
       "      <td>0.358238</td>\n",
       "      <td>2.299398</td>\n",
       "      <td>1.609195</td>\n",
       "      <td>0.141215</td>\n",
       "      <td>0.159278</td>\n",
       "      <td>0.203339</td>\n",
       "      <td>0.151341</td>\n",
       "      <td>0.03503</td>\n",
       "    </tr>\n",
       "    <tr>\n",
       "      <th>max</th>\n",
       "      <td>66.000000</td>\n",
       "      <td>49.000000</td>\n",
       "      <td>10.000000</td>\n",
       "      <td>9.000000</td>\n",
       "      <td>10.000000</td>\n",
       "      <td>6.000000</td>\n",
       "      <td>4.000000</td>\n",
       "      <td>14.000000</td>\n",
       "      <td>11.000000</td>\n",
       "      <td>3.000000</td>\n",
       "      <td>5.000000</td>\n",
       "      <td>3.000000</td>\n",
       "      <td>3.000000</td>\n",
       "      <td>3.00000</td>\n",
       "    </tr>\n",
       "  </tbody>\n",
       "</table>\n",
       "</div>"
      ],
      "text/plain": [
       "            SCA   PassLive   PassDead        TO         Sh       Fld  \\\n",
       "min    1.000000   0.000000   0.000000  0.000000   0.000000  0.000000   \n",
       "mean  21.815545  15.804324   1.974001  1.238916   1.353038  1.087028   \n",
       "max   66.000000  49.000000  10.000000  9.000000  10.000000  6.000000   \n",
       "\n",
       "           Def        GCA  PassLive.1  PassDead.1      TO.1      Sh.1  \\\n",
       "min   0.000000   0.000000    0.000000    0.000000  0.000000  0.000000   \n",
       "mean  0.358238   2.299398    1.609195    0.141215  0.159278  0.203339   \n",
       "max   4.000000  14.000000   11.000000    3.000000  5.000000  3.000000   \n",
       "\n",
       "         Fld.1    Def.1  \n",
       "min   0.000000  0.00000  \n",
       "mean  0.151341  0.03503  \n",
       "max   3.000000  3.00000  "
      ]
     },
     "execution_count": 16,
     "metadata": {},
     "output_type": "execute_result"
    }
   ],
   "source": [
    "gca[gca_cols].describe().loc[['min', 'mean', 'max']]"
   ]
  },
  {
   "cell_type": "code",
   "execution_count": null,
   "id": "c33a936c-a4e3-400f-a008-338089b2f8b5",
   "metadata": {},
   "outputs": [],
   "source": []
  }
 ],
 "metadata": {
  "kernelspec": {
   "display_name": "Python 3 (ipykernel)",
   "language": "python",
   "name": "python3"
  },
  "language_info": {
   "codemirror_mode": {
    "name": "ipython",
    "version": 3
   },
   "file_extension": ".py",
   "mimetype": "text/x-python",
   "name": "python",
   "nbconvert_exporter": "python",
   "pygments_lexer": "ipython3",
   "version": "3.11.7"
  }
 },
 "nbformat": 4,
 "nbformat_minor": 5
}
