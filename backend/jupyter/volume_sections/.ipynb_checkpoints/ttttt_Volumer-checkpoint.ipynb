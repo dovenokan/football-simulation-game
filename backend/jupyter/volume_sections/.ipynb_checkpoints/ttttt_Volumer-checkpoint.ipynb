{
 "cells": [
  {
   "cell_type": "code",
   "execution_count": 30,
   "id": "4eb1678c-7551-4975-9050-e1565d189834",
   "metadata": {},
   "outputs": [],
   "source": [
    "import pandas as pd\n",
    "import numpy as np\n",
    "import os\n",
    "import math\n",
    "import matplotlib.pyplot as plt\n",
    "import seaborn as sns"
   ]
  },
  {
   "cell_type": "code",
   "execution_count": 31,
   "id": "54185400-e4e9-4fc3-811f-f5e755ce79e4",
   "metadata": {},
   "outputs": [],
   "source": [
    "import warnings\n",
    "from sklearn.exceptions import UndefinedMetricWarning\n",
    "from pandas.errors import SettingWithCopyWarning\n",
    "warnings.filterwarnings(\"ignore\", category=UndefinedMetricWarning)\n",
    "warnings.simplefilter(action='ignore', category=(SettingWithCopyWarning))\n",
    "warnings.simplefilter(action='ignore', category=(FutureWarning))"
   ]
  },
  {
   "cell_type": "code",
   "execution_count": 32,
   "id": "8247c91a-81dd-46c5-a57b-56a6b9044876",
   "metadata": {},
   "outputs": [],
   "source": [
    "defense = pd.read_csv(\"../match_logs/Big5@22-23@defense.csv\")\n",
    "gca = pd.read_csv(\"../match_logs/Big5@22-23@gca.csv\")\n",
    "keeper = pd.read_csv(\"../match_logs/Big5@22-23@keeper.csv\")\n",
    "misc = pd.read_csv(\"../match_logs/Big5@22-23@misc.csv\")\n",
    "passing = pd.read_csv(\"../match_logs/Big5@22-23@passing.csv\")\n",
    "passing_types = pd.read_csv(\"../match_logs/Big5@22-23@passing_types.csv\")\n",
    "possession = pd.read_csv(\"../match_logs/Big5@22-23@possession.csv\")\n",
    "shooting = pd.read_csv(\"../match_logs/Big5@22-23@shooting.csv\")"
   ]
  },
  {
   "cell_type": "code",
   "execution_count": 33,
   "id": "98115ce7-e831-4c3a-b6d2-ae8984554f45",
   "metadata": {},
   "outputs": [],
   "source": [
    "team_ratings = pd.read_csv(\"../players_db/fm23/team_ratings.csv\")"
   ]
  },
  {
   "cell_type": "markdown",
   "id": "8bb6f15c-b6a8-4fb4-bd78-104092cfbdc5",
   "metadata": {},
   "source": [
    "<br><br><br><br><br><br><br><br>\n",
    "<h1 style=\"color:orange;background:blue;\">1.  Shot Creating Actions</h1>"
   ]
  },
  {
   "cell_type": "code",
   "execution_count": 34,
   "id": "cabb1197-1233-442e-9a40-5d9aad5f840a",
   "metadata": {},
   "outputs": [
    {
     "data": {
      "text/plain": [
       "Index(['Date', 'Time', 'Round', 'Day', 'Venue', 'Result', 'GF', 'GA',\n",
       "       'Opponent', 'SCA', 'PassLive', 'PassDead', 'TO', 'Sh', 'Fld', 'Def',\n",
       "       'GCA', 'PassLive.1', 'PassDead.1', 'TO.1', 'Sh.1', 'Fld.1', 'Def.1',\n",
       "       'Match Report', 'Club'],\n",
       "      dtype='object')"
      ]
     },
     "execution_count": 34,
     "metadata": {},
     "output_type": "execute_result"
    }
   ],
   "source": [
    "gca.columns"
   ]
  },
  {
   "cell_type": "code",
   "execution_count": 35,
   "id": "308c94ed-c4b1-426e-8091-dce5de3febbf",
   "metadata": {},
   "outputs": [],
   "source": [
    "gca_cols = [\"SCA\", \"PassLive\", \"PassDead\", \"TO\", \"Sh\", \"Fld\", \"Def\", \"GCA\", \"PassLive.1\", \"PassDead.1\", \"TO.1\", \"Sh.1\", \"Fld.1\", \"Def.1\" ]"
   ]
  },
  {
   "cell_type": "code",
   "execution_count": 36,
   "id": "5c364e2f-f0ea-4ad8-b612-434f5ce36bbd",
   "metadata": {},
   "outputs": [
    {
     "data": {
      "text/html": [
       "<div>\n",
       "<style scoped>\n",
       "    .dataframe tbody tr th:only-of-type {\n",
       "        vertical-align: middle;\n",
       "    }\n",
       "\n",
       "    .dataframe tbody tr th {\n",
       "        vertical-align: top;\n",
       "    }\n",
       "\n",
       "    .dataframe thead th {\n",
       "        text-align: right;\n",
       "    }\n",
       "</style>\n",
       "<table border=\"1\" class=\"dataframe\">\n",
       "  <thead>\n",
       "    <tr style=\"text-align: right;\">\n",
       "      <th></th>\n",
       "      <th>SCA</th>\n",
       "      <th>PassLive</th>\n",
       "      <th>PassDead</th>\n",
       "      <th>TO</th>\n",
       "      <th>Sh</th>\n",
       "      <th>Fld</th>\n",
       "      <th>Def</th>\n",
       "      <th>GCA</th>\n",
       "      <th>PassLive.1</th>\n",
       "      <th>PassDead.1</th>\n",
       "      <th>TO.1</th>\n",
       "      <th>Sh.1</th>\n",
       "      <th>Fld.1</th>\n",
       "      <th>Def.1</th>\n",
       "    </tr>\n",
       "  </thead>\n",
       "  <tbody>\n",
       "    <tr>\n",
       "      <th>min</th>\n",
       "      <td>1.000000</td>\n",
       "      <td>0.000000</td>\n",
       "      <td>0.000000</td>\n",
       "      <td>0.000000</td>\n",
       "      <td>0.000000</td>\n",
       "      <td>0.000000</td>\n",
       "      <td>0.000000</td>\n",
       "      <td>0.000000</td>\n",
       "      <td>0.000000</td>\n",
       "      <td>0.000000</td>\n",
       "      <td>0.000000</td>\n",
       "      <td>0.000000</td>\n",
       "      <td>0.000000</td>\n",
       "      <td>0.00000</td>\n",
       "    </tr>\n",
       "    <tr>\n",
       "      <th>mean</th>\n",
       "      <td>21.815545</td>\n",
       "      <td>15.804324</td>\n",
       "      <td>1.974001</td>\n",
       "      <td>1.238916</td>\n",
       "      <td>1.353038</td>\n",
       "      <td>1.087028</td>\n",
       "      <td>0.358238</td>\n",
       "      <td>2.299398</td>\n",
       "      <td>1.609195</td>\n",
       "      <td>0.141215</td>\n",
       "      <td>0.159278</td>\n",
       "      <td>0.203339</td>\n",
       "      <td>0.151341</td>\n",
       "      <td>0.03503</td>\n",
       "    </tr>\n",
       "    <tr>\n",
       "      <th>max</th>\n",
       "      <td>66.000000</td>\n",
       "      <td>49.000000</td>\n",
       "      <td>10.000000</td>\n",
       "      <td>9.000000</td>\n",
       "      <td>10.000000</td>\n",
       "      <td>6.000000</td>\n",
       "      <td>4.000000</td>\n",
       "      <td>14.000000</td>\n",
       "      <td>11.000000</td>\n",
       "      <td>3.000000</td>\n",
       "      <td>5.000000</td>\n",
       "      <td>3.000000</td>\n",
       "      <td>3.000000</td>\n",
       "      <td>3.00000</td>\n",
       "    </tr>\n",
       "  </tbody>\n",
       "</table>\n",
       "</div>"
      ],
      "text/plain": [
       "            SCA   PassLive   PassDead        TO         Sh       Fld  \\\n",
       "min    1.000000   0.000000   0.000000  0.000000   0.000000  0.000000   \n",
       "mean  21.815545  15.804324   1.974001  1.238916   1.353038  1.087028   \n",
       "max   66.000000  49.000000  10.000000  9.000000  10.000000  6.000000   \n",
       "\n",
       "           Def        GCA  PassLive.1  PassDead.1      TO.1      Sh.1  \\\n",
       "min   0.000000   0.000000    0.000000    0.000000  0.000000  0.000000   \n",
       "mean  0.358238   2.299398    1.609195    0.141215  0.159278  0.203339   \n",
       "max   4.000000  14.000000   11.000000    3.000000  5.000000  3.000000   \n",
       "\n",
       "         Fld.1    Def.1  \n",
       "min   0.000000  0.00000  \n",
       "mean  0.151341  0.03503  \n",
       "max   3.000000  3.00000  "
      ]
     },
     "execution_count": 36,
     "metadata": {},
     "output_type": "execute_result"
    }
   ],
   "source": [
    "gca[gca_cols].describe().loc[['min', 'mean', 'max']]"
   ]
  },
  {
   "cell_type": "code",
   "execution_count": 37,
   "id": "0a570533-93a0-4289-8ca6-1ff53e376104",
   "metadata": {},
   "outputs": [],
   "source": [
    "merged_df = pd.merge(gca, team_ratings, on=\"Club\", how=\"inner\")  \n",
    "merged_df = pd.merge(merged_df, team_ratings, left_on=\"Opponent\", right_on=\"fbref_name\", how=\"inner\")  \n",
    "merged_df.dropna(inplace=True)"
   ]
  },
  {
   "cell_type": "code",
   "execution_count": 45,
   "id": "40ef57d9-5299-4d90-aab1-7239d9f42bd2",
   "metadata": {},
   "outputs": [
    {
     "data": {
      "text/plain": [
       "Club_x        Tottenham Hotspur\n",
       "Club_y              Bournemouth\n",
       "SCA                        40.0\n",
       "PassLive                   30.0\n",
       "PassDead                    4.0\n",
       "TO                          1.0\n",
       "Sh                          4.0\n",
       "Fld                         1.0\n",
       "Def                         0.0\n",
       "GCA                         2.0\n",
       "PassLive.1                  2.0\n",
       "PassDead.1                  0.0\n",
       "TO.1                        0.0\n",
       "Sh.1                        0.0\n",
       "Fld.1                       0.0\n",
       "Def.1                       0.0\n",
       "tpr_x                      85.0\n",
       "Name: 45, dtype: object"
      ]
     },
     "execution_count": 45,
     "metadata": {},
     "output_type": "execute_result"
    }
   ],
   "source": [
    "tpr_cols = ['tpr_x']\n",
    "reg_df = merged_df[['Club_x','Club_y'] + gca_cols + tpr_cols] #.describe().loc[['min', 'mean', 'max']]\n",
    "reg_df.iloc[45]"
   ]
  },
  {
   "cell_type": "markdown",
   "id": "a279e009-2276-4aa1-b216-143edec81434",
   "metadata": {},
   "source": [
    "<br><br><br><br><br><br><br><br>\n",
    "<h3 style=\"color:white;background:red;\">  Regression - gca</h3>"
   ]
  },
  {
   "cell_type": "code",
   "execution_count": 39,
   "id": "b26139de-2631-4433-96f3-94c99d66d3f8",
   "metadata": {},
   "outputs": [],
   "source": [
    "import pandas as pd\n",
    "import numpy as np\n",
    "from sklearn.model_selection import train_test_split\n",
    "from sklearn.linear_model import LinearRegression\n",
    "from sklearn.metrics import mean_squared_error, r2_score\n",
    "from sklearn.preprocessing import StandardScaler\n",
    "import seaborn as sns\n",
    "import matplotlib.pyplot as plt"
   ]
  },
  {
   "cell_type": "code",
   "execution_count": 40,
   "id": "8a40890a-583b-41d1-ba62-87899fd84ea5",
   "metadata": {},
   "outputs": [],
   "source": [
    "reg_tpr_cols = tpr_cols\n",
    "formula_df = pd.DataFrame(index=reg_tpr_cols)\n",
    "np.random.seed(0)\n",
    "df = reg_df\n",
    "\n",
    "for attribute in gca_cols:\n",
    "    X = df[reg_tpr_cols]\n",
    "    Y = df[[attribute]]\n",
    "\n",
    "    scaler = StandardScaler()\n",
    "    X_scaled = scaler.fit_transform(X)\n",
    "    X_train, X_test, Y_train, Y_test = train_test_split(X_scaled, Y, test_size=0.2, random_state=0)\n",
    "    \n",
    "    model = LinearRegression()\n",
    "    model.fit(X_train, Y_train)\n",
    "    Y_pred = model.predict(X_test)\n",
    "    \n",
    "    coef_column_name = f\"{attribute}_coef\"\n",
    "    intercept_column_name = f\"{attribute}_intercept\"\n",
    "    formula_df[coef_column_name] = model.coef_.flatten()\n",
    "    formula_df[intercept_column_name] = model.intercept_[0]\n",
    "\n",
    "    mse = mean_squared_error(Y_test, Y_pred)\n",
    "    r2 = r2_score(Y_test, Y_pred)\n",
    "    # print(f'Mean Squared Error: {mse}')\n",
    "    # print(f'R^2 Score: {r2}')"
   ]
  },
  {
   "cell_type": "code",
   "execution_count": 41,
   "id": "8c7d3c88-daa0-4d26-aa87-ed1fea595e11",
   "metadata": {},
   "outputs": [
    {
     "data": {
      "text/plain": [
       "['SCA',\n",
       " 'PassLive',\n",
       " 'PassDead',\n",
       " 'TO',\n",
       " 'Sh',\n",
       " 'Fld',\n",
       " 'Def',\n",
       " 'GCA',\n",
       " 'PassLive.1',\n",
       " 'PassDead.1',\n",
       " 'TO.1',\n",
       " 'Sh.1',\n",
       " 'Fld.1',\n",
       " 'Def.1']"
      ]
     },
     "execution_count": 41,
     "metadata": {},
     "output_type": "execute_result"
    }
   ],
   "source": [
    "gca_cols"
   ]
  },
  {
   "cell_type": "code",
   "execution_count": 46,
   "id": "3360e013-5a9a-4c92-9209-49de1bb5895d",
   "metadata": {},
   "outputs": [
    {
     "data": {
      "text/plain": [
       "['tpr_x']"
      ]
     },
     "execution_count": 46,
     "metadata": {},
     "output_type": "execute_result"
    }
   ],
   "source": [
    "reg_tpr_cols"
   ]
  },
  {
   "cell_type": "code",
   "execution_count": 42,
   "id": "8736f1a6-1894-40a8-8d41-8da020427294",
   "metadata": {},
   "outputs": [
    {
     "data": {
      "text/html": [
       "<div>\n",
       "<style scoped>\n",
       "    .dataframe tbody tr th:only-of-type {\n",
       "        vertical-align: middle;\n",
       "    }\n",
       "\n",
       "    .dataframe tbody tr th {\n",
       "        vertical-align: top;\n",
       "    }\n",
       "\n",
       "    .dataframe thead th {\n",
       "        text-align: right;\n",
       "    }\n",
       "</style>\n",
       "<table border=\"1\" class=\"dataframe\">\n",
       "  <thead>\n",
       "    <tr style=\"text-align: right;\">\n",
       "      <th></th>\n",
       "      <th>SCA_coef</th>\n",
       "      <th>SCA_intercept</th>\n",
       "      <th>PassLive_coef</th>\n",
       "      <th>PassLive_intercept</th>\n",
       "      <th>PassDead_coef</th>\n",
       "      <th>PassDead_intercept</th>\n",
       "      <th>TO_coef</th>\n",
       "      <th>TO_intercept</th>\n",
       "      <th>Sh_coef</th>\n",
       "      <th>Sh_intercept</th>\n",
       "      <th>...</th>\n",
       "      <th>PassDead.1_coef</th>\n",
       "      <th>PassDead.1_intercept</th>\n",
       "      <th>TO.1_coef</th>\n",
       "      <th>TO.1_intercept</th>\n",
       "      <th>Sh.1_coef</th>\n",
       "      <th>Sh.1_intercept</th>\n",
       "      <th>Fld.1_coef</th>\n",
       "      <th>Fld.1_intercept</th>\n",
       "      <th>Def.1_coef</th>\n",
       "      <th>Def.1_intercept</th>\n",
       "    </tr>\n",
       "  </thead>\n",
       "  <tbody>\n",
       "    <tr>\n",
       "      <th>tpr_x</th>\n",
       "      <td>2.583865</td>\n",
       "      <td>21.859508</td>\n",
       "      <td>2.16828</td>\n",
       "      <td>15.841276</td>\n",
       "      <td>0.05126</td>\n",
       "      <td>1.966096</td>\n",
       "      <td>0.140678</td>\n",
       "      <td>1.244772</td>\n",
       "      <td>0.206933</td>\n",
       "      <td>1.354304</td>\n",
       "      <td>...</td>\n",
       "      <td>0.004314</td>\n",
       "      <td>0.133793</td>\n",
       "      <td>0.034078</td>\n",
       "      <td>0.158261</td>\n",
       "      <td>0.034678</td>\n",
       "      <td>0.20924</td>\n",
       "      <td>0.006665</td>\n",
       "      <td>0.154334</td>\n",
       "      <td>0.006736</td>\n",
       "      <td>0.033568</td>\n",
       "    </tr>\n",
       "  </tbody>\n",
       "</table>\n",
       "<p>1 rows × 28 columns</p>\n",
       "</div>"
      ],
      "text/plain": [
       "       SCA_coef  SCA_intercept  PassLive_coef  PassLive_intercept  \\\n",
       "tpr_x  2.583865      21.859508        2.16828           15.841276   \n",
       "\n",
       "       PassDead_coef  PassDead_intercept   TO_coef  TO_intercept   Sh_coef  \\\n",
       "tpr_x        0.05126            1.966096  0.140678      1.244772  0.206933   \n",
       "\n",
       "       Sh_intercept  ...  PassDead.1_coef  PassDead.1_intercept  TO.1_coef  \\\n",
       "tpr_x      1.354304  ...         0.004314              0.133793   0.034078   \n",
       "\n",
       "       TO.1_intercept  Sh.1_coef  Sh.1_intercept  Fld.1_coef  Fld.1_intercept  \\\n",
       "tpr_x        0.158261   0.034678         0.20924    0.006665         0.154334   \n",
       "\n",
       "       Def.1_coef  Def.1_intercept  \n",
       "tpr_x    0.006736         0.033568  \n",
       "\n",
       "[1 rows x 28 columns]"
      ]
     },
     "execution_count": 42,
     "metadata": {},
     "output_type": "execute_result"
    }
   ],
   "source": [
    "formula_df"
   ]
  },
  {
   "cell_type": "code",
   "execution_count": 43,
   "id": "9403cf3c-6c68-4b11-bfa3-8d433ec13e51",
   "metadata": {},
   "outputs": [],
   "source": [
    "attribute = \"PassLive\""
   ]
  },
  {
   "cell_type": "code",
   "execution_count": 44,
   "id": "f2de3a1e-6052-46bb-8800-80d14439703c",
   "metadata": {},
   "outputs": [
    {
     "ename": "ValueError",
     "evalue": "Shape of passed values is (6, 1), indices imply (1, 1)",
     "output_type": "error",
     "traceback": [
      "\u001b[1;31m---------------------------------------------------------------------------\u001b[0m",
      "\u001b[1;31mValueError\u001b[0m                                Traceback (most recent call last)",
      "Cell \u001b[1;32mIn[44], line 1\u001b[0m\n\u001b[1;32m----> 1\u001b[0m custom_tpr_df \u001b[38;5;241m=\u001b[39m pd\u001b[38;5;241m.\u001b[39mDataFrame({\n\u001b[0;32m      2\u001b[0m  \u001b[38;5;124m'\u001b[39m\u001b[38;5;124mtpr_x\u001b[39m\u001b[38;5;124m'\u001b[39m: \u001b[38;5;241m78\u001b[39m,\n\u001b[0;32m      3\u001b[0m  \u001b[38;5;124m'\u001b[39m\u001b[38;5;124mpas_x\u001b[39m\u001b[38;5;124m'\u001b[39m: \u001b[38;5;241m90\u001b[39m,\n\u001b[0;32m      4\u001b[0m  \u001b[38;5;124m'\u001b[39m\u001b[38;5;124mhed_x\u001b[39m\u001b[38;5;124m'\u001b[39m: \u001b[38;5;241m66\u001b[39m,\n\u001b[0;32m      5\u001b[0m  \u001b[38;5;124m'\u001b[39m\u001b[38;5;124mdri_x\u001b[39m\u001b[38;5;124m'\u001b[39m: \u001b[38;5;241m68\u001b[39m,\n\u001b[0;32m      6\u001b[0m  \u001b[38;5;124m'\u001b[39m\u001b[38;5;124mtpr_y\u001b[39m\u001b[38;5;124m'\u001b[39m: \u001b[38;5;241m79\u001b[39m,\n\u001b[0;32m      7\u001b[0m  \u001b[38;5;124m'\u001b[39m\u001b[38;5;124mdef_y\u001b[39m\u001b[38;5;124m'\u001b[39m: \u001b[38;5;241m63\u001b[39m}\u001b[38;5;241m.\u001b[39mvalues(), columns\u001b[38;5;241m=\u001b[39m[\u001b[38;5;124m\"\u001b[39m\u001b[38;5;124mcustom\u001b[39m\u001b[38;5;124m\"\u001b[39m], index\u001b[38;5;241m=\u001b[39mreg_tpr_cols)\n",
      "File \u001b[1;32m~\\anaconda3\\Lib\\site-packages\\pandas\\core\\frame.py:822\u001b[0m, in \u001b[0;36mDataFrame.__init__\u001b[1;34m(self, data, index, columns, dtype, copy)\u001b[0m\n\u001b[0;32m    814\u001b[0m         mgr \u001b[38;5;241m=\u001b[39m arrays_to_mgr(\n\u001b[0;32m    815\u001b[0m             arrays,\n\u001b[0;32m    816\u001b[0m             columns,\n\u001b[1;32m   (...)\u001b[0m\n\u001b[0;32m    819\u001b[0m             typ\u001b[38;5;241m=\u001b[39mmanager,\n\u001b[0;32m    820\u001b[0m         )\n\u001b[0;32m    821\u001b[0m     \u001b[38;5;28;01melse\u001b[39;00m:\n\u001b[1;32m--> 822\u001b[0m         mgr \u001b[38;5;241m=\u001b[39m ndarray_to_mgr(\n\u001b[0;32m    823\u001b[0m             data,\n\u001b[0;32m    824\u001b[0m             index,\n\u001b[0;32m    825\u001b[0m             columns,\n\u001b[0;32m    826\u001b[0m             dtype\u001b[38;5;241m=\u001b[39mdtype,\n\u001b[0;32m    827\u001b[0m             copy\u001b[38;5;241m=\u001b[39mcopy,\n\u001b[0;32m    828\u001b[0m             typ\u001b[38;5;241m=\u001b[39mmanager,\n\u001b[0;32m    829\u001b[0m         )\n\u001b[0;32m    830\u001b[0m \u001b[38;5;28;01melse\u001b[39;00m:\n\u001b[0;32m    831\u001b[0m     mgr \u001b[38;5;241m=\u001b[39m dict_to_mgr(\n\u001b[0;32m    832\u001b[0m         {},\n\u001b[0;32m    833\u001b[0m         index,\n\u001b[1;32m   (...)\u001b[0m\n\u001b[0;32m    836\u001b[0m         typ\u001b[38;5;241m=\u001b[39mmanager,\n\u001b[0;32m    837\u001b[0m     )\n",
      "File \u001b[1;32m~\\anaconda3\\Lib\\site-packages\\pandas\\core\\internals\\construction.py:336\u001b[0m, in \u001b[0;36mndarray_to_mgr\u001b[1;34m(values, index, columns, dtype, copy, typ)\u001b[0m\n\u001b[0;32m    331\u001b[0m \u001b[38;5;66;03m# _prep_ndarraylike ensures that values.ndim == 2 at this point\u001b[39;00m\n\u001b[0;32m    332\u001b[0m index, columns \u001b[38;5;241m=\u001b[39m _get_axes(\n\u001b[0;32m    333\u001b[0m     values\u001b[38;5;241m.\u001b[39mshape[\u001b[38;5;241m0\u001b[39m], values\u001b[38;5;241m.\u001b[39mshape[\u001b[38;5;241m1\u001b[39m], index\u001b[38;5;241m=\u001b[39mindex, columns\u001b[38;5;241m=\u001b[39mcolumns\n\u001b[0;32m    334\u001b[0m )\n\u001b[1;32m--> 336\u001b[0m _check_values_indices_shape_match(values, index, columns)\n\u001b[0;32m    338\u001b[0m \u001b[38;5;28;01mif\u001b[39;00m typ \u001b[38;5;241m==\u001b[39m \u001b[38;5;124m\"\u001b[39m\u001b[38;5;124marray\u001b[39m\u001b[38;5;124m\"\u001b[39m:\n\u001b[0;32m    339\u001b[0m     \u001b[38;5;28;01mif\u001b[39;00m \u001b[38;5;28missubclass\u001b[39m(values\u001b[38;5;241m.\u001b[39mdtype\u001b[38;5;241m.\u001b[39mtype, \u001b[38;5;28mstr\u001b[39m):\n",
      "File \u001b[1;32m~\\anaconda3\\Lib\\site-packages\\pandas\\core\\internals\\construction.py:420\u001b[0m, in \u001b[0;36m_check_values_indices_shape_match\u001b[1;34m(values, index, columns)\u001b[0m\n\u001b[0;32m    418\u001b[0m passed \u001b[38;5;241m=\u001b[39m values\u001b[38;5;241m.\u001b[39mshape\n\u001b[0;32m    419\u001b[0m implied \u001b[38;5;241m=\u001b[39m (\u001b[38;5;28mlen\u001b[39m(index), \u001b[38;5;28mlen\u001b[39m(columns))\n\u001b[1;32m--> 420\u001b[0m \u001b[38;5;28;01mraise\u001b[39;00m \u001b[38;5;167;01mValueError\u001b[39;00m(\u001b[38;5;124mf\u001b[39m\u001b[38;5;124m\"\u001b[39m\u001b[38;5;124mShape of passed values is \u001b[39m\u001b[38;5;132;01m{\u001b[39;00mpassed\u001b[38;5;132;01m}\u001b[39;00m\u001b[38;5;124m, indices imply \u001b[39m\u001b[38;5;132;01m{\u001b[39;00mimplied\u001b[38;5;132;01m}\u001b[39;00m\u001b[38;5;124m\"\u001b[39m)\n",
      "\u001b[1;31mValueError\u001b[0m: Shape of passed values is (6, 1), indices imply (1, 1)"
     ]
    }
   ],
   "source": [
    "custom_tpr_df = pd.DataFrame({\n",
    " 'tpr_x': 78,\n",
    " 'pas_x': 90,\n",
    " 'hed_x': 66,\n",
    " 'dri_x': 68,\n",
    " 'tpr_y': 79,\n",
    " 'def_y': 63}.values(), columns=[\"custom\"], index=reg_tpr_cols)"
   ]
  },
  {
   "cell_type": "code",
   "execution_count": null,
   "id": "ce844dd1-e723-4379-977f-60579b2f5582",
   "metadata": {},
   "outputs": [],
   "source": [
    "custom_tpr_df[f\"{attribute}_coef\"] = formula_df[f\"{attribute}_coef\"].tolist()\n",
    "custom_tpr_df[f\"{attribute}_intercept\"] = formula_df[f\"{attribute}_intercept\"].tolist()\n",
    "custom_tpr_df[\"coef_result\"] = custom_tpr_df[f\"{attribute}_coef\"] * custom_tpr_df[\"custom\"]\n",
    "custom_tpr_df[\"formula_result\"] = custom_tpr_df[\"coef_result\"].sum() + custom_tpr_df[f\"{attribute}_intercept\"].iloc[0]\n",
    "custom_tpr_df[\"formula_result\"] = round(custom_tpr_df[\"formula_result\"].iloc[0])"
   ]
  },
  {
   "cell_type": "code",
   "execution_count": null,
   "id": "484629b1-a1cc-4a10-9917-9387d981b5ce",
   "metadata": {},
   "outputs": [],
   "source": [
    "custom_tpr_df"
   ]
  },
  {
   "cell_type": "code",
   "execution_count": null,
   "id": "d3e2e7c3-9f81-4dad-a813-33fb88e81d35",
   "metadata": {},
   "outputs": [],
   "source": [
    "formula_df[[\"GCA_coef\",\"GCA_intercept\"]]"
   ]
  },
  {
   "cell_type": "code",
   "execution_count": null,
   "id": "1f770fb3-cba3-4681-9426-8c788dbab6a0",
   "metadata": {},
   "outputs": [],
   "source": [
    "merged_df.iloc[155]"
   ]
  },
  {
   "cell_type": "markdown",
   "id": "5f1cb9d2-216d-433f-9c29-ebbdfa78f3ff",
   "metadata": {},
   "source": [
    "<br><br><br><br><br><br><br><br>\n",
    "<h1 style=\"color:orange;background:blue;\">  2. Passing</h1>"
   ]
  },
  {
   "cell_type": "code",
   "execution_count": null,
   "id": "e3bf29d8-3ec9-4f3e-b413-e79ee2e06cdd",
   "metadata": {},
   "outputs": [],
   "source": [
    "passing.columns"
   ]
  },
  {
   "cell_type": "code",
   "execution_count": null,
   "id": "d5b6dcc8-b47f-48ce-bdfa-8f09eacb8b18",
   "metadata": {},
   "outputs": [],
   "source": [
    "passing_cols = ['GF', 'GA','Cmp', 'Att', 'Cmp%', 'TotDist', 'PrgDist', 'Cmp.1',\n",
    "       'Att.1', 'Cmp%.1', 'Cmp.2', 'Att.2', 'Cmp%.2', 'Cmp.3', 'Att.3',\n",
    "       'Cmp%.3', 'Ast', 'xAG', 'xA', 'KP', '1/3', 'PPA', 'CrsPA', 'PrgP']"
   ]
  },
  {
   "cell_type": "code",
   "execution_count": null,
   "id": "9b698032-f412-4c72-a899-60d8087c2a40",
   "metadata": {},
   "outputs": [],
   "source": [
    "passing[passing_cols].describe().loc[['min', 'mean', 'max', 'std']]"
   ]
  },
  {
   "cell_type": "code",
   "execution_count": null,
   "id": "ab346609-23f2-4cee-900b-04967ac8c2ae",
   "metadata": {},
   "outputs": [],
   "source": [
    "merged_df = pd.merge(passing, team_ratings, on=\"Club\", how=\"inner\")  \n",
    "merged_df = pd.merge(merged_df, team_ratings, left_on=\"Opponent\", right_on=\"fbref_name\", how=\"inner\")  \n",
    "merged_df.dropna(inplace=True)"
   ]
  },
  {
   "cell_type": "code",
   "execution_count": null,
   "id": "14151174-dea9-4d59-a871-b4fce9455105",
   "metadata": {},
   "outputs": [],
   "source": [
    "tpr_cols = ['tpr_x', 'gk_x', 'def_x', 'pas_x', 'dri_x', 'fin_x', 'sta_x', 'str_x', 'hed_x', 'men_x', 'iq_x','tpr_y', 'gk_y', 'def_y', 'pas_y', 'dri_y', 'fin_y', 'sta_y', 'str_y', 'hed_y', 'men_y', 'iq_y']\n",
    "reg_df = merged_df[['Club_x','Club_y'] + passing_cols + tpr_cols] #.describe().loc[['min', 'mean', 'max']]\n",
    "reg_df.iloc[45]"
   ]
  },
  {
   "cell_type": "markdown",
   "id": "bfac7e8f-35c7-487a-8515-f75d83b2a008",
   "metadata": {},
   "source": [
    "<br><br><br><br><br><br><br><br>\n",
    "<h3 style=\"color:white;background:red;\">  Regression - passing</h3>"
   ]
  },
  {
   "cell_type": "code",
   "execution_count": null,
   "id": "bc1f78d0-079c-4018-8d64-fcdf17cfaa18",
   "metadata": {},
   "outputs": [],
   "source": [
    "import pandas as pd\n",
    "import numpy as np\n",
    "from sklearn.model_selection import train_test_split\n",
    "from sklearn.linear_model import LinearRegression\n",
    "from sklearn.metrics import mean_squared_error, r2_score"
   ]
  },
  {
   "cell_type": "code",
   "execution_count": null,
   "id": "b160388e-7c5f-4d39-9b5c-e23a1d334078",
   "metadata": {},
   "outputs": [],
   "source": [
    "reg_tpr_cols = [\"tpr_x\",\"pas_x\",\"tpr_y\",\"def_y\"]\n",
    "formula_df = pd.DataFrame(index=reg_tpr_cols)\n",
    "np.random.seed(0)\n",
    "df = reg_df\n",
    "\n",
    "for attribute in passing_cols:\n",
    "    X = df[reg_tpr_cols]\n",
    "    Y = df[[attribute]]\n",
    "    X_train, X_test, Y_train, Y_test = train_test_split(X, Y, test_size=0.2, random_state=0)\n",
    "    model = LinearRegression()\n",
    "    model.fit(X_train, Y_train)\n",
    "    Y_pred = model.predict(X_test)\n",
    "    \n",
    "    coef_column_name = f\"{attribute}_coef\"\n",
    "    intercept_column_name = f\"{attribute}_intercept\"\n",
    "    formula_df[coef_column_name] = model.coef_.flatten()\n",
    "    formula_df[intercept_column_name] = model.intercept_[0]\n",
    "\n",
    "    mse = mean_squared_error(Y_test, Y_pred)\n",
    "    r2 = r2_score(Y_test, Y_pred)\n",
    "    # print(f'Mean Squared Error: {mse}')\n",
    "    # print(f'R^2 Score: {r2}')"
   ]
  },
  {
   "cell_type": "code",
   "execution_count": null,
   "id": "8761197e-2a09-4228-875e-01c812fca04a",
   "metadata": {},
   "outputs": [],
   "source": [
    "formula_df.T"
   ]
  },
  {
   "cell_type": "code",
   "execution_count": null,
   "id": "11f1c3ce-1f47-4084-be59-de669f97d993",
   "metadata": {},
   "outputs": [],
   "source": [
    "attribute = \"Att\""
   ]
  },
  {
   "cell_type": "code",
   "execution_count": null,
   "id": "55a83419-ac6d-4bde-a8b5-1d600fa25faa",
   "metadata": {},
   "outputs": [],
   "source": [
    "team_ratings"
   ]
  },
  {
   "cell_type": "code",
   "execution_count": null,
   "id": "21f284b5-9546-4bae-8386-c694ed1ee4b9",
   "metadata": {},
   "outputs": [],
   "source": [
    "the_team_X = team_ratings.query(\"Club == 'Manchester City'\").iloc[0]\n",
    "the_team_Y = team_ratings.query(\"Club == 'Liverpool'\").iloc[0]"
   ]
  },
  {
   "cell_type": "code",
   "execution_count": null,
   "id": "8e0c71b0-e82e-4e4f-8a8c-760b4376d88c",
   "metadata": {},
   "outputs": [],
   "source": [
    "custom_tpr_df = pd.DataFrame({\n",
    " 'tpr_x': the_team_X[\"tpr\"],\n",
    " 'pas_x': the_team_X[\"pas\"],\n",
    " 'tpr_y': the_team_Y[\"tpr\"],\n",
    " 'def_y': the_team_Y[\"def\"]}.values(), columns=[\"custom\"], index=reg_tpr_cols)"
   ]
  },
  {
   "cell_type": "code",
   "execution_count": null,
   "id": "ec8222f1-da30-4f91-9764-76fe1a8466d3",
   "metadata": {},
   "outputs": [],
   "source": [
    "custom_tpr_df[f\"{attribute}_coef\"] = formula_df[f\"{attribute}_coef\"].tolist()\n",
    "custom_tpr_df[f\"{attribute}_intercept\"] = formula_df[f\"{attribute}_intercept\"].tolist()\n",
    "custom_tpr_df[\"coef_result\"] = custom_tpr_df[f\"{attribute}_coef\"] * custom_tpr_df[\"custom\"]\n",
    "custom_tpr_df[\"formula_result\"] = custom_tpr_df[\"coef_result\"].sum() + custom_tpr_df[f\"{attribute}_intercept\"].iloc[0]\n",
    "custom_tpr_df[\"formula_result\"] = round(custom_tpr_df[\"formula_result\"].iloc[0])"
   ]
  },
  {
   "cell_type": "code",
   "execution_count": null,
   "id": "579fe82d-f532-43e9-aca0-5a23d50cde19",
   "metadata": {},
   "outputs": [],
   "source": [
    "custom_tpr_df"
   ]
  },
  {
   "cell_type": "code",
   "execution_count": null,
   "id": "f2f19e52-57fd-409c-a649-2161d82598a1",
   "metadata": {},
   "outputs": [],
   "source": [
    "reg_df.select_dtypes(exclude=\"object\").apply(lambda x: round((x/90), 2))"
   ]
  },
  {
   "cell_type": "code",
   "execution_count": null,
   "id": "2e2517bb-94cd-4726-b426-561d4a73806f",
   "metadata": {},
   "outputs": [],
   "source": [
    "corr_matrix = reg_df[[\"pas_y\",\"def_x\"]].corr()\n",
    "plt.figure(figsize=(10, 8))\n",
    "sns.heatmap(corr_matrix, annot=True, cmap='seismic', vmin=-1, vmax=1)\n",
    "plt.title('Correlation Matrix')\n",
    "plt.show()"
   ]
  },
  {
   "cell_type": "code",
   "execution_count": null,
   "id": "ba3c8193-38a1-4cdb-98f0-aedf9dab8de9",
   "metadata": {},
   "outputs": [],
   "source": []
  }
 ],
 "metadata": {
  "kernelspec": {
   "display_name": "Python 3 (ipykernel)",
   "language": "python",
   "name": "python3"
  },
  "language_info": {
   "codemirror_mode": {
    "name": "ipython",
    "version": 3
   },
   "file_extension": ".py",
   "mimetype": "text/x-python",
   "name": "python",
   "nbconvert_exporter": "python",
   "pygments_lexer": "ipython3",
   "version": "3.11.7"
  }
 },
 "nbformat": 4,
 "nbformat_minor": 5
}
