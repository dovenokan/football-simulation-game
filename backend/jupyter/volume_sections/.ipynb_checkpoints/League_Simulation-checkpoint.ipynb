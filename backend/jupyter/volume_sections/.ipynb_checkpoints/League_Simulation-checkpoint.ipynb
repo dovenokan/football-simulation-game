{
 "cells": [
  {
   "cell_type": "code",
   "execution_count": 37,
   "id": "d1afd80f-f14d-4cbf-a716-b6ae2edf71ad",
   "metadata": {},
   "outputs": [],
   "source": [
    "import pandas as pd\n",
    "import numpy as np\n",
    "import seaborn as sns\n",
    "import matplotlib.pyplot as plt\n",
    "import re\n",
    "import warnings"
   ]
  },
  {
   "cell_type": "code",
   "execution_count": 38,
   "id": "d49f9df9-4f91-4bf7-bb57-dba875f97a91",
   "metadata": {},
   "outputs": [],
   "source": [
    "import warnings\n",
    "from pandas.errors import SettingWithCopyWarning\n",
    "warnings.simplefilter(action='ignore', category=(SettingWithCopyWarning))\n",
    "warnings.simplefilter(action='ignore', category=(FutureWarning))"
   ]
  },
  {
   "cell_type": "code",
   "execution_count": 39,
   "id": "216536f1-2c8e-48d7-ae78-6c0c48c897a9",
   "metadata": {},
   "outputs": [],
   "source": [
    "players_ratings = pd.read_csv(\"../players_db/fm23/fm23db_processed.csv\")\n",
    "team_ratings = pd.read_csv(\"../players_db/fm23/team_ratings.csv\")"
   ]
  },
  {
   "cell_type": "markdown",
   "id": "7109d6fe-4627-4204-a448-57fd35ed7606",
   "metadata": {},
   "source": [
    "<br><br><br><br>\n",
    "<h2 style=\"color:blue;\">  Win Probability</h3>"
   ]
  },
  {
   "cell_type": "code",
   "execution_count": 160,
   "id": "6daa67dc-9d05-49b8-86de-78116dff2ffa",
   "metadata": {},
   "outputs": [],
   "source": [
    "win_df = pd.read_csv(\"../players_db/fm23/win_probability.csv\", index_col=0)\n",
    "def Win_Probability(win_prob_df, power_x, power_y, is_neutral=False):\n",
    "    logit_sum = 0\n",
    "    prob_dict = {}\n",
    "    for match_result in [1,0,2]:\n",
    "        tpr_x = win_prob_df.loc[\"tpr_x\", str(match_result)]\n",
    "        tpr_y = win_prob_df.loc[\"tpr_y\", str(match_result)]\n",
    "        intercept = win_prob_df.loc[\"intercept\", str(match_result)]\n",
    "        fx = tpr_y*power_y + tpr_x*power_x + intercept\n",
    "        logit_sum += np.e ** fx\n",
    "        prob_dict[match_result] = np.e**fx\n",
    "    for match_result in [1,0,2]:\n",
    "        prob_dict[match_result] = prob_dict[match_result] / logit_sum\n",
    "    prob_sum = sum(prob_dict.values())\n",
    "    normalized_probs = {k: v / prob_sum for k, v in prob_dict.items()}\n",
    "    \n",
    "    if is_neutral and power_x==power_y:\n",
    "        draw = normalized_probs[0]\n",
    "        non_draw_side = (1 - draw) / 2\n",
    "        return {1: non_draw_side, 0: draw, 2: non_draw_side}\n",
    "    return normalized_probs"
   ]
  },
  {
   "cell_type": "code",
   "execution_count": 161,
   "id": "5f2be39e-27dc-4833-ac39-f97a85039456",
   "metadata": {},
   "outputs": [
    {
     "data": {
      "text/plain": [
       "{1: 0.15141943498481023, 0: 0.43814483031639917, 2: 0.41043573469879063}"
      ]
     },
     "execution_count": 161,
     "metadata": {},
     "output_type": "execute_result"
    }
   ],
   "source": [
    "Win_Probability(win_df, 50, 60)"
   ]
  },
  {
   "cell_type": "code",
   "execution_count": 162,
   "id": "c0f79c2c-67e3-4100-b568-059a1b593ab6",
   "metadata": {},
   "outputs": [
    {
     "data": {
      "text/plain": [
       "{1: 0.1876793963427024, 0: 0.3740351552084532, 2: 0.43828544844884443}"
      ]
     },
     "execution_count": 162,
     "metadata": {},
     "output_type": "execute_result"
    }
   ],
   "source": [
    "Win_Probability(win_df, 60, 70)"
   ]
  },
  {
   "cell_type": "code",
   "execution_count": 163,
   "id": "5cf7e776-33c5-4273-855c-e1b954f17467",
   "metadata": {},
   "outputs": [
    {
     "data": {
      "text/plain": [
       "{1: 0.22807162854246782, 0: 0.3130594683962014, 2: 0.4588689030613309}"
      ]
     },
     "execution_count": 163,
     "metadata": {},
     "output_type": "execute_result"
    }
   ],
   "source": [
    "Win_Probability(win_df, 70, 80)"
   ]
  },
  {
   "cell_type": "markdown",
   "id": "1baca3c0-0f29-4387-bc66-038c3bcc0ebd",
   "metadata": {},
   "source": [
    "<br><br>"
   ]
  },
  {
   "cell_type": "code",
   "execution_count": 164,
   "id": "3b061a5e-995b-4f09-9778-d2d201b900a3",
   "metadata": {},
   "outputs": [
    {
     "data": {
      "text/plain": [
       "{1: 0.36105836634747795, 0: 0.33042638291014814, 2: 0.30851525074237396}"
      ]
     },
     "execution_count": 164,
     "metadata": {},
     "output_type": "execute_result"
    }
   ],
   "source": [
    "Win_Probability(win_df, 75, 75)"
   ]
  },
  {
   "cell_type": "code",
   "execution_count": 165,
   "id": "3c293085-850b-400b-b1fe-e307db94a445",
   "metadata": {},
   "outputs": [
    {
     "data": {
      "text/plain": [
       "{1: 0.39175485727530857, 0: 0.29753740482911134, 2: 0.31070773789558015}"
      ]
     },
     "execution_count": 165,
     "metadata": {},
     "output_type": "execute_result"
    }
   ],
   "source": [
    "Win_Probability(win_df, 80, 80)"
   ]
  },
  {
   "cell_type": "code",
   "execution_count": 166,
   "id": "6e53c7e5-b936-42e9-9c6d-da271343ec86",
   "metadata": {},
   "outputs": [
    {
     "data": {
      "text/plain": [
       "{1: 0.4532254040572556, 0: 0.23708341827188148, 2: 0.30969117767086296}"
      ]
     },
     "execution_count": 166,
     "metadata": {},
     "output_type": "execute_result"
    }
   ],
   "source": [
    "Win_Probability(win_df, 90, 90)"
   ]
  },
  {
   "cell_type": "code",
   "execution_count": 167,
   "id": "f53fcf90-9fde-4997-bedc-cdba3c9ff39b",
   "metadata": {},
   "outputs": [
    {
     "data": {
      "text/plain": [
       "{1: 0.6229503239181537, 0: 0.2275294948764984, 2: 0.14952018120534785}"
      ]
     },
     "execution_count": 167,
     "metadata": {},
     "output_type": "execute_result"
    }
   ],
   "source": [
    "Win_Probability(win_df, 92, 79)"
   ]
  },
  {
   "cell_type": "code",
   "execution_count": 168,
   "id": "15f3254a-3ae7-475a-b15e-c621f7661765",
   "metadata": {},
   "outputs": [
    {
     "data": {
      "text/plain": [
       "False"
      ]
     },
     "execution_count": 168,
     "metadata": {},
     "output_type": "execute_result"
    }
   ],
   "source": [
    "Win_Probability(win_df, 85, 84) == Win_Probability(win_df, 84, 85) "
   ]
  },
  {
   "cell_type": "markdown",
   "id": "b9bfd6ce-83d2-4355-95ec-70bf057c2336",
   "metadata": {},
   "source": [
    "<br><br><br><br>\n",
    "<h2 style=\"color:blue;\">  League Simuation Test</h3>"
   ]
  },
  {
   "cell_type": "code",
   "execution_count": 169,
   "id": "4b46d15a-f935-4baf-9e77-4175fc8f8972",
   "metadata": {},
   "outputs": [
    {
     "data": {
      "text/plain": [
       "array([ 185, 1215,  354,  773,  710, 1331, 1017,  363], dtype=int64)"
      ]
     },
     "execution_count": 169,
     "metadata": {},
     "output_type": "execute_result"
    }
   ],
   "source": [
    "team_ratings.League_id.unique()"
   ]
  },
  {
   "cell_type": "code",
   "execution_count": 183,
   "id": "4350bba2-cc48-47e8-93b7-d0a6b9c66a40",
   "metadata": {},
   "outputs": [
    {
     "data": {
      "text/markdown": [
       "| Rank | Team | Points | TPR |\n",
       "|------|------|--------|-----|\n",
       "| 1 | Real Madrid | 76 | 87 |\n",
       "| 2 | FC Barcelona | 72 | 87 |\n",
       "| 3 | Celta de Vigo | 72 | 74 |\n",
       "| 4 | Villarreal | 69 | 77 |\n",
       "| 5 | Sevilla | 61 | 77 |\n",
       "| 6 | Atlético Madrid | 58 | 79 |\n",
       "| 7 | Valencia | 58 | 74 |\n",
       "| 8 | Osasuna | 58 | 67 |\n",
       "| 9 | Getafe | 53 | 72 |\n",
       "| 10 | Athletic Bilbao | 49 | 74 |\n",
       "| 11 | Real Sociedad | 47 | 74 |\n",
       "| 12 | Rayo Vallecano | 44 | 69 |\n",
       "| 13 | Real Betis | 42 | 74 |\n",
       "| 14 | Almería | 41 | 67 |\n",
       "| 15 | Real Valladolid | 41 | 67 |\n",
       "| 16 | Cádiz | 41 | 67 |\n",
       "| 17 | Mallorca | 37 | 67 |\n",
       "| 18 | Elche CF | 37 | 67 |\n",
       "| 19 | Girona | 35 | 67 |\n",
       "| 20 | Espanyol | 27 | 64 |\n"
      ],
      "text/plain": [
       "<IPython.core.display.Markdown object>"
      ]
     },
     "metadata": {},
     "output_type": "display_data"
    }
   ],
   "source": [
    "import pandas as pd\n",
    "import numpy as np\n",
    "from itertools import product\n",
    "\n",
    "current_league_id = 1215\t\n",
    "teams_in_league_ratings = team_ratings.query(f\"League_id == {current_league_id}\")\n",
    "\n",
    "points_table = {team: 0 for team in teams_in_league_ratings['Club']}\n",
    "matchups = list(product(teams_in_league_ratings['Club'], repeat=2))\n",
    "matchups = [match for match in matchups if match[0] != match[1]]\n",
    "\n",
    "for home_team, away_team in matchups:\n",
    "    home_tpr = teams_in_league_ratings[teams_in_league_ratings['Club'] == home_team]['tpr'].values[0]\n",
    "    away_tpr = teams_in_league_ratings[teams_in_league_ratings['Club'] == away_team]['tpr'].values[0]\n",
    "    \n",
    "    probs_home = Win_Probability(win_df, home_tpr, away_tpr, is_neutral=True)\n",
    "    result_home = np.random.choice(list(probs_home.keys()), p=list(probs_home.values()))\n",
    "    if result_home == 1:\n",
    "        points_table[home_team] += 3\n",
    "    elif result_home == 0:\n",
    "        points_table[home_team] += 1\n",
    "        points_table[away_team] += 1\n",
    "    else:\n",
    "        points_table[away_team] += 3\n",
    "\n",
    "standings = sorted(points_table.items(), key=lambda x: x[1], reverse=True)\n",
    "\n",
    "markdown_table = \"| Rank | Team | Points | TPR |\\n|------|------|--------|-----|\\n\"\n",
    "for i, (team, points) in enumerate(standings, start=1):\n",
    "    tpr = teams_in_league_ratings[teams_in_league_ratings['Club'] == team]['tpr'].values[0]\n",
    "    markdown_table += f\"| {i} | {team} | {points} | {tpr} |\\n\"\n",
    "from IPython.display import Markdown, display\n",
    "display(Markdown(markdown_table))"
   ]
  },
  {
   "cell_type": "code",
   "execution_count": 184,
   "id": "5024d917-307a-4794-b279-6b8b213cfa73",
   "metadata": {},
   "outputs": [
    {
     "data": {
      "text/html": [
       "<div>\n",
       "<style scoped>\n",
       "    .dataframe tbody tr th:only-of-type {\n",
       "        vertical-align: middle;\n",
       "    }\n",
       "\n",
       "    .dataframe tbody tr th {\n",
       "        vertical-align: top;\n",
       "    }\n",
       "\n",
       "    .dataframe thead th {\n",
       "        text-align: right;\n",
       "    }\n",
       "</style>\n",
       "<table border=\"1\" class=\"dataframe\">\n",
       "  <thead>\n",
       "    <tr style=\"text-align: right;\">\n",
       "      <th></th>\n",
       "      <th>Name</th>\n",
       "      <th>tpr</th>\n",
       "    </tr>\n",
       "  </thead>\n",
       "  <tbody>\n",
       "    <tr>\n",
       "      <th>3193</th>\n",
       "      <td>Erling Haaland</td>\n",
       "      <td>90</td>\n",
       "    </tr>\n",
       "    <tr>\n",
       "      <th>3192</th>\n",
       "      <td>Kevin De Bruyne</td>\n",
       "      <td>89</td>\n",
       "    </tr>\n",
       "    <tr>\n",
       "      <th>3197</th>\n",
       "      <td>Bernardo Silva</td>\n",
       "      <td>89</td>\n",
       "    </tr>\n",
       "    <tr>\n",
       "      <th>3199</th>\n",
       "      <td>Ederson</td>\n",
       "      <td>88</td>\n",
       "    </tr>\n",
       "    <tr>\n",
       "      <th>3196</th>\n",
       "      <td>Rúben Dias</td>\n",
       "      <td>85</td>\n",
       "    </tr>\n",
       "    <tr>\n",
       "      <th>3202</th>\n",
       "      <td>Aymeric Laporte</td>\n",
       "      <td>85</td>\n",
       "    </tr>\n",
       "    <tr>\n",
       "      <th>3211</th>\n",
       "      <td>Phil Foden</td>\n",
       "      <td>83</td>\n",
       "    </tr>\n",
       "    <tr>\n",
       "      <th>3222</th>\n",
       "      <td>John Stones</td>\n",
       "      <td>83</td>\n",
       "    </tr>\n",
       "    <tr>\n",
       "      <th>3221</th>\n",
       "      <td>Jack Grealish</td>\n",
       "      <td>83</td>\n",
       "    </tr>\n",
       "    <tr>\n",
       "      <th>3205</th>\n",
       "      <td>İlkay Gündogan</td>\n",
       "      <td>83</td>\n",
       "    </tr>\n",
       "    <tr>\n",
       "      <th>3204</th>\n",
       "      <td>Rodri</td>\n",
       "      <td>83</td>\n",
       "    </tr>\n",
       "    <tr>\n",
       "      <th>3206</th>\n",
       "      <td>João Cancelo</td>\n",
       "      <td>82</td>\n",
       "    </tr>\n",
       "    <tr>\n",
       "      <th>3257</th>\n",
       "      <td>Kalvin Phillips</td>\n",
       "      <td>82</td>\n",
       "    </tr>\n",
       "    <tr>\n",
       "      <th>3218</th>\n",
       "      <td>Riyad Mahrez</td>\n",
       "      <td>81</td>\n",
       "    </tr>\n",
       "    <tr>\n",
       "      <th>3224</th>\n",
       "      <td>Kyle Walker</td>\n",
       "      <td>81</td>\n",
       "    </tr>\n",
       "    <tr>\n",
       "      <th>3293</th>\n",
       "      <td>Manuel Akanji</td>\n",
       "      <td>80</td>\n",
       "    </tr>\n",
       "    <tr>\n",
       "      <th>3260</th>\n",
       "      <td>Nathan Aké</td>\n",
       "      <td>78</td>\n",
       "    </tr>\n",
       "    <tr>\n",
       "      <th>3619</th>\n",
       "      <td>Julián Álvarez</td>\n",
       "      <td>78</td>\n",
       "    </tr>\n",
       "    <tr>\n",
       "      <th>3631</th>\n",
       "      <td>Stefan Ortega</td>\n",
       "      <td>78</td>\n",
       "    </tr>\n",
       "    <tr>\n",
       "      <th>3605</th>\n",
       "      <td>Sergio Gómez</td>\n",
       "      <td>77</td>\n",
       "    </tr>\n",
       "    <tr>\n",
       "      <th>3414</th>\n",
       "      <td>Cole Palmer</td>\n",
       "      <td>75</td>\n",
       "    </tr>\n",
       "    <tr>\n",
       "      <th>3609</th>\n",
       "      <td>Scott Carson</td>\n",
       "      <td>72</td>\n",
       "    </tr>\n",
       "    <tr>\n",
       "      <th>3754</th>\n",
       "      <td>Ben Knight</td>\n",
       "      <td>68</td>\n",
       "    </tr>\n",
       "    <tr>\n",
       "      <th>3677</th>\n",
       "      <td>Morgan Rogers</td>\n",
       "      <td>68</td>\n",
       "    </tr>\n",
       "    <tr>\n",
       "      <th>3656</th>\n",
       "      <td>Rico Lewis</td>\n",
       "      <td>67</td>\n",
       "    </tr>\n",
       "    <tr>\n",
       "      <th>3719</th>\n",
       "      <td>Oscar Bobb</td>\n",
       "      <td>66</td>\n",
       "    </tr>\n",
       "    <tr>\n",
       "      <th>3846</th>\n",
       "      <td>Mikki van Sas</td>\n",
       "      <td>65</td>\n",
       "    </tr>\n",
       "    <tr>\n",
       "      <th>3688</th>\n",
       "      <td>Finley Burns</td>\n",
       "      <td>65</td>\n",
       "    </tr>\n",
       "    <tr>\n",
       "      <th>3718</th>\n",
       "      <td>Iker Pozo</td>\n",
       "      <td>65</td>\n",
       "    </tr>\n",
       "    <tr>\n",
       "      <th>3652</th>\n",
       "      <td>Josh Wilson-Esbrand</td>\n",
       "      <td>65</td>\n",
       "    </tr>\n",
       "    <tr>\n",
       "      <th>3870</th>\n",
       "      <td>Kian Breckin</td>\n",
       "      <td>64</td>\n",
       "    </tr>\n",
       "    <tr>\n",
       "      <th>3883</th>\n",
       "      <td>Josh Adam</td>\n",
       "      <td>64</td>\n",
       "    </tr>\n",
       "    <tr>\n",
       "      <th>3649</th>\n",
       "      <td>Shea Charles</td>\n",
       "      <td>64</td>\n",
       "    </tr>\n",
       "    <tr>\n",
       "      <th>3932</th>\n",
       "      <td>Rowan McDonald</td>\n",
       "      <td>63</td>\n",
       "    </tr>\n",
       "    <tr>\n",
       "      <th>3928</th>\n",
       "      <td>Daniel Ogwuru</td>\n",
       "      <td>63</td>\n",
       "    </tr>\n",
       "    <tr>\n",
       "      <th>3927</th>\n",
       "      <td>Tai Sodje</td>\n",
       "      <td>62</td>\n",
       "    </tr>\n",
       "    <tr>\n",
       "      <th>3865</th>\n",
       "      <td>Nico O'Reilly</td>\n",
       "      <td>62</td>\n",
       "    </tr>\n",
       "    <tr>\n",
       "      <th>4027</th>\n",
       "      <td>Josh McNamara</td>\n",
       "      <td>62</td>\n",
       "    </tr>\n",
       "    <tr>\n",
       "      <th>3842</th>\n",
       "      <td>Jadel Katongo</td>\n",
       "      <td>61</td>\n",
       "    </tr>\n",
       "    <tr>\n",
       "      <th>3749</th>\n",
       "      <td>Micah Hamilton</td>\n",
       "      <td>61</td>\n",
       "    </tr>\n",
       "    <tr>\n",
       "      <th>3777</th>\n",
       "      <td>Carlos Borges</td>\n",
       "      <td>60</td>\n",
       "    </tr>\n",
       "    <tr>\n",
       "      <th>3866</th>\n",
       "      <td>Tomas Galvez</td>\n",
       "      <td>59</td>\n",
       "    </tr>\n",
       "    <tr>\n",
       "      <th>3778</th>\n",
       "      <td>Dire Mebude</td>\n",
       "      <td>59</td>\n",
       "    </tr>\n",
       "    <tr>\n",
       "      <th>3879</th>\n",
       "      <td>Mahamadou Susoho</td>\n",
       "      <td>56</td>\n",
       "    </tr>\n",
       "    <tr>\n",
       "      <th>3821</th>\n",
       "      <td>Alex Robertson</td>\n",
       "      <td>56</td>\n",
       "    </tr>\n",
       "    <tr>\n",
       "      <th>4052</th>\n",
       "      <td>Matthew Whittingham</td>\n",
       "      <td>56</td>\n",
       "    </tr>\n",
       "    <tr>\n",
       "      <th>4053</th>\n",
       "      <td>George Murray-Jones</td>\n",
       "      <td>55</td>\n",
       "    </tr>\n",
       "    <tr>\n",
       "      <th>3891</th>\n",
       "      <td>Kane Taylor</td>\n",
       "      <td>54</td>\n",
       "    </tr>\n",
       "    <tr>\n",
       "      <th>4039</th>\n",
       "      <td>Liam Smith</td>\n",
       "      <td>54</td>\n",
       "    </tr>\n",
       "    <tr>\n",
       "      <th>4153</th>\n",
       "      <td>Terrell Agyemang</td>\n",
       "      <td>54</td>\n",
       "    </tr>\n",
       "    <tr>\n",
       "      <th>4051</th>\n",
       "      <td>Will Dickson</td>\n",
       "      <td>50</td>\n",
       "    </tr>\n",
       "  </tbody>\n",
       "</table>\n",
       "</div>"
      ],
      "text/plain": [
       "                     Name  tpr\n",
       "3193       Erling Haaland   90\n",
       "3192      Kevin De Bruyne   89\n",
       "3197       Bernardo Silva   89\n",
       "3199              Ederson   88\n",
       "3196           Rúben Dias   85\n",
       "3202      Aymeric Laporte   85\n",
       "3211           Phil Foden   83\n",
       "3222          John Stones   83\n",
       "3221        Jack Grealish   83\n",
       "3205       İlkay Gündogan   83\n",
       "3204                Rodri   83\n",
       "3206         João Cancelo   82\n",
       "3257      Kalvin Phillips   82\n",
       "3218         Riyad Mahrez   81\n",
       "3224          Kyle Walker   81\n",
       "3293        Manuel Akanji   80\n",
       "3260           Nathan Aké   78\n",
       "3619       Julián Álvarez   78\n",
       "3631        Stefan Ortega   78\n",
       "3605         Sergio Gómez   77\n",
       "3414          Cole Palmer   75\n",
       "3609         Scott Carson   72\n",
       "3754           Ben Knight   68\n",
       "3677        Morgan Rogers   68\n",
       "3656           Rico Lewis   67\n",
       "3719           Oscar Bobb   66\n",
       "3846        Mikki van Sas   65\n",
       "3688         Finley Burns   65\n",
       "3718            Iker Pozo   65\n",
       "3652  Josh Wilson-Esbrand   65\n",
       "3870         Kian Breckin   64\n",
       "3883            Josh Adam   64\n",
       "3649         Shea Charles   64\n",
       "3932       Rowan McDonald   63\n",
       "3928        Daniel Ogwuru   63\n",
       "3927            Tai Sodje   62\n",
       "3865        Nico O'Reilly   62\n",
       "4027        Josh McNamara   62\n",
       "3842        Jadel Katongo   61\n",
       "3749       Micah Hamilton   61\n",
       "3777        Carlos Borges   60\n",
       "3866         Tomas Galvez   59\n",
       "3778          Dire Mebude   59\n",
       "3879     Mahamadou Susoho   56\n",
       "3821       Alex Robertson   56\n",
       "4052  Matthew Whittingham   56\n",
       "4053  George Murray-Jones   55\n",
       "3891          Kane Taylor   54\n",
       "4039           Liam Smith   54\n",
       "4153     Terrell Agyemang   54\n",
       "4051         Will Dickson   50"
      ]
     },
     "execution_count": 184,
     "metadata": {},
     "output_type": "execute_result"
    }
   ],
   "source": [
    "players_ratings.query(\"Club == 'Manchester City'\")[[\"Name\",\"tpr\"]].sort_values(\"tpr\", ascending=False)"
   ]
  },
  {
   "cell_type": "markdown",
   "id": "71756b1e-85d2-416a-8ca3-01f73068b4be",
   "metadata": {},
   "source": [
    "<br><br><br><br>\n",
    "<h1 style=\"color:red;\">  Passing (players)</h1>"
   ]
  },
  {
   "cell_type": "code",
   "execution_count": 51,
   "id": "31e8f87e-9dd5-453e-a33d-707faed81d26",
   "metadata": {},
   "outputs": [],
   "source": [
    "def rename_duplicate_columns(df):\n",
    "    cols = pd.Series(df.columns)\n",
    "    for dup in cols[cols.duplicated()].unique():\n",
    "        cols[cols[cols == dup].index.values.tolist()] = [dup + '_' + str(i) if i != 0 else dup for i in range(sum(cols == dup))]\n",
    "    df.columns = cols\n",
    "    return df"
   ]
  },
  {
   "cell_type": "code",
   "execution_count": 52,
   "id": "1d299ed7-bd12-4ad9-b3e5-e33aab5a58f1",
   "metadata": {},
   "outputs": [],
   "source": [
    "pdf = players_ratings.sort_values(by=\"Pos_Rank\").dropna(subset=[\"fbref_player_name\"])"
   ]
  },
  {
   "cell_type": "code",
   "execution_count": 53,
   "id": "6448a74f-d176-44d7-bfd0-b66444c0e280",
   "metadata": {},
   "outputs": [
    {
     "data": {
      "text/plain": [
       "Best_Pos\n",
       "MC     682\n",
       "DC     642\n",
       "GK     463\n",
       "AML    450\n",
       "ST     448\n",
       "DR     352\n",
       "AMR    325\n",
       "DL     314\n",
       "DM     234\n",
       "AMC    118\n",
       "ML      99\n",
       "MR      91\n",
       "WBR     22\n",
       "WBL     17\n",
       "Name: count, dtype: int64"
      ]
     },
     "execution_count": 53,
     "metadata": {},
     "output_type": "execute_result"
    }
   ],
   "source": [
    "pdf.Best_Pos.value_counts()"
   ]
  },
  {
   "cell_type": "code",
   "execution_count": 54,
   "id": "6a6ea3ce-7b60-4752-a7d8-fa59b66d462a",
   "metadata": {},
   "outputs": [],
   "source": [
    "url = \"https://fbref.com/en/comps/Big5/2022-2023/passing/players/2022-2023-Big-5-European-Leagues-Stats\"\n",
    "data = pd.read_html(url)\n",
    "data[0].columns = data[0].columns.get_level_values(1)"
   ]
  },
  {
   "cell_type": "code",
   "execution_count": 55,
   "id": "408f7d39-d6bc-4e8b-9a97-70463f9a23ca",
   "metadata": {},
   "outputs": [],
   "source": [
    "passing_data = data[0]"
   ]
  },
  {
   "cell_type": "code",
   "execution_count": 56,
   "id": "bef836cb-7540-4a7a-a0f0-5e11e222e85c",
   "metadata": {},
   "outputs": [],
   "source": [
    "mdf = pd.merge(pdf, passing_data, how=\"inner\", left_on=\"fbref_player_name\", right_on=\"Player\")\n",
    "mdf = mdf.drop_duplicates(subset=['Player'], keep='first')\n",
    "mdf = rename_duplicate_columns(mdf)"
   ]
  },
  {
   "cell_type": "code",
   "execution_count": 57,
   "id": "7c93b59d-1699-4a44-8e5e-42ef49e54fde",
   "metadata": {},
   "outputs": [],
   "source": [
    "mdf[\"Att\"] = pd.to_numeric(mdf[\"Att\"], errors='coerce')\n",
    "mdf[\"90s\"] = pd.to_numeric(mdf[\"90s\"], errors='coerce')\n",
    "mdf[\"Cmp\"] = pd.to_numeric(mdf[\"Cmp\"], errors='coerce')\n",
    "mdf[\"Cmp%\"] = pd.to_numeric(mdf[\"Cmp%\"], errors='coerce')"
   ]
  },
  {
   "cell_type": "code",
   "execution_count": 58,
   "id": "73b20eab-d152-4f33-8d03-06beaae5b5c8",
   "metadata": {},
   "outputs": [],
   "source": [
    "mdf[\"Att90\"] = mdf[\"Att\"].apply(float) / mdf[\"90s\"].apply(float)\n",
    "mdf[\"Cmp90\"] = mdf[\"Cmp\"].apply(float) / mdf[\"90s\"].apply(float)\n",
    "mdf[\"Cmp%\"] = mdf[\"Cmp%\"].apply(float)"
   ]
  },
  {
   "cell_type": "code",
   "execution_count": 59,
   "id": "96ac4bfe-6bb7-4129-9d86-c9c060019772",
   "metadata": {},
   "outputs": [],
   "source": [
    "# mdf.loc[0].to_dict()"
   ]
  },
  {
   "cell_type": "code",
   "execution_count": 60,
   "id": "f4dd43d0-72bb-46f2-9942-63f7642b63cd",
   "metadata": {},
   "outputs": [
    {
     "name": "stdout",
     "output_type": "stream",
     "text": [
      "<class 'pandas.core.frame.DataFrame'>\n",
      "Index: 2467 entries, 0 to 5109\n",
      "Columns: 137 entries, UID to Cmp90\n",
      "dtypes: float64(9), int64(75), object(53)\n",
      "memory usage: 2.6+ MB\n"
     ]
    }
   ],
   "source": [
    "mdf.info()"
   ]
  },
  {
   "cell_type": "code",
   "execution_count": 61,
   "id": "6ac6a37e-4b5f-456e-a622-18bc2ababfcd",
   "metadata": {},
   "outputs": [
    {
     "ename": "KeyError",
     "evalue": "\"['pas'] not in index\"",
     "output_type": "error",
     "traceback": [
      "\u001b[1;31m---------------------------------------------------------------------------\u001b[0m",
      "\u001b[1;31mKeyError\u001b[0m                                  Traceback (most recent call last)",
      "Cell \u001b[1;32mIn[61], line 1\u001b[0m\n\u001b[1;32m----> 1\u001b[0m mdf[[\u001b[38;5;124m\"\u001b[39m\u001b[38;5;124mPlayer\u001b[39m\u001b[38;5;124m\"\u001b[39m,\u001b[38;5;124m\"\u001b[39m\u001b[38;5;124mPos_Rank\u001b[39m\u001b[38;5;124m\"\u001b[39m,\u001b[38;5;124m\"\u001b[39m\u001b[38;5;124mBest_Pos\u001b[39m\u001b[38;5;124m\"\u001b[39m,\u001b[38;5;124m\"\u001b[39m\u001b[38;5;124mtpr\u001b[39m\u001b[38;5;124m\"\u001b[39m,\u001b[38;5;124m\"\u001b[39m\u001b[38;5;124mpas\u001b[39m\u001b[38;5;124m\"\u001b[39m,\u001b[38;5;124m\"\u001b[39m\u001b[38;5;124mAtt90\u001b[39m\u001b[38;5;124m\"\u001b[39m,\u001b[38;5;124m\"\u001b[39m\u001b[38;5;124mCmp90\u001b[39m\u001b[38;5;124m\"\u001b[39m,\u001b[38;5;124m\"\u001b[39m\u001b[38;5;124mCmp\u001b[39m\u001b[38;5;124m%\u001b[39m\u001b[38;5;124m\"\u001b[39m]]\u001b[38;5;241m.\u001b[39mhead()\n",
      "File \u001b[1;32m~\\anaconda3\\Lib\\site-packages\\pandas\\core\\frame.py:3899\u001b[0m, in \u001b[0;36mDataFrame.__getitem__\u001b[1;34m(self, key)\u001b[0m\n\u001b[0;32m   3897\u001b[0m     \u001b[38;5;28;01mif\u001b[39;00m is_iterator(key):\n\u001b[0;32m   3898\u001b[0m         key \u001b[38;5;241m=\u001b[39m \u001b[38;5;28mlist\u001b[39m(key)\n\u001b[1;32m-> 3899\u001b[0m     indexer \u001b[38;5;241m=\u001b[39m \u001b[38;5;28mself\u001b[39m\u001b[38;5;241m.\u001b[39mcolumns\u001b[38;5;241m.\u001b[39m_get_indexer_strict(key, \u001b[38;5;124m\"\u001b[39m\u001b[38;5;124mcolumns\u001b[39m\u001b[38;5;124m\"\u001b[39m)[\u001b[38;5;241m1\u001b[39m]\n\u001b[0;32m   3901\u001b[0m \u001b[38;5;66;03m# take() does not accept boolean indexers\u001b[39;00m\n\u001b[0;32m   3902\u001b[0m \u001b[38;5;28;01mif\u001b[39;00m \u001b[38;5;28mgetattr\u001b[39m(indexer, \u001b[38;5;124m\"\u001b[39m\u001b[38;5;124mdtype\u001b[39m\u001b[38;5;124m\"\u001b[39m, \u001b[38;5;28;01mNone\u001b[39;00m) \u001b[38;5;241m==\u001b[39m \u001b[38;5;28mbool\u001b[39m:\n",
      "File \u001b[1;32m~\\anaconda3\\Lib\\site-packages\\pandas\\core\\indexes\\base.py:6115\u001b[0m, in \u001b[0;36mIndex._get_indexer_strict\u001b[1;34m(self, key, axis_name)\u001b[0m\n\u001b[0;32m   6112\u001b[0m \u001b[38;5;28;01melse\u001b[39;00m:\n\u001b[0;32m   6113\u001b[0m     keyarr, indexer, new_indexer \u001b[38;5;241m=\u001b[39m \u001b[38;5;28mself\u001b[39m\u001b[38;5;241m.\u001b[39m_reindex_non_unique(keyarr)\n\u001b[1;32m-> 6115\u001b[0m \u001b[38;5;28mself\u001b[39m\u001b[38;5;241m.\u001b[39m_raise_if_missing(keyarr, indexer, axis_name)\n\u001b[0;32m   6117\u001b[0m keyarr \u001b[38;5;241m=\u001b[39m \u001b[38;5;28mself\u001b[39m\u001b[38;5;241m.\u001b[39mtake(indexer)\n\u001b[0;32m   6118\u001b[0m \u001b[38;5;28;01mif\u001b[39;00m \u001b[38;5;28misinstance\u001b[39m(key, Index):\n\u001b[0;32m   6119\u001b[0m     \u001b[38;5;66;03m# GH 42790 - Preserve name from an Index\u001b[39;00m\n",
      "File \u001b[1;32m~\\anaconda3\\Lib\\site-packages\\pandas\\core\\indexes\\base.py:6179\u001b[0m, in \u001b[0;36mIndex._raise_if_missing\u001b[1;34m(self, key, indexer, axis_name)\u001b[0m\n\u001b[0;32m   6176\u001b[0m     \u001b[38;5;28;01mraise\u001b[39;00m \u001b[38;5;167;01mKeyError\u001b[39;00m(\u001b[38;5;124mf\u001b[39m\u001b[38;5;124m\"\u001b[39m\u001b[38;5;124mNone of [\u001b[39m\u001b[38;5;132;01m{\u001b[39;00mkey\u001b[38;5;132;01m}\u001b[39;00m\u001b[38;5;124m] are in the [\u001b[39m\u001b[38;5;132;01m{\u001b[39;00maxis_name\u001b[38;5;132;01m}\u001b[39;00m\u001b[38;5;124m]\u001b[39m\u001b[38;5;124m\"\u001b[39m)\n\u001b[0;32m   6178\u001b[0m not_found \u001b[38;5;241m=\u001b[39m \u001b[38;5;28mlist\u001b[39m(ensure_index(key)[missing_mask\u001b[38;5;241m.\u001b[39mnonzero()[\u001b[38;5;241m0\u001b[39m]]\u001b[38;5;241m.\u001b[39munique())\n\u001b[1;32m-> 6179\u001b[0m \u001b[38;5;28;01mraise\u001b[39;00m \u001b[38;5;167;01mKeyError\u001b[39;00m(\u001b[38;5;124mf\u001b[39m\u001b[38;5;124m\"\u001b[39m\u001b[38;5;132;01m{\u001b[39;00mnot_found\u001b[38;5;132;01m}\u001b[39;00m\u001b[38;5;124m not in index\u001b[39m\u001b[38;5;124m\"\u001b[39m)\n",
      "\u001b[1;31mKeyError\u001b[0m: \"['pas'] not in index\""
     ]
    }
   ],
   "source": [
    "mdf[[\"Player\",\"Pos_Rank\",\"Best_Pos\",\"tpr\",\"pas\",\"Att90\",\"Cmp90\",\"Cmp%\"]].head()"
   ]
  },
  {
   "cell_type": "code",
   "execution_count": null,
   "id": "89df1f62-a474-48c3-a1a4-699aae39c648",
   "metadata": {},
   "outputs": [],
   "source": [
    "mdf.drop_duplicates(subset=['Pos_Rank'], keep='first')[[\"Pos_Rank\",\"Best_Pos\"]]"
   ]
  },
  {
   "cell_type": "code",
   "execution_count": null,
   "id": "881c2a06-c760-404f-9402-fd1a584eaf95",
   "metadata": {},
   "outputs": [],
   "source": [
    "from sklearn.model_selection import train_test_split\n",
    "from sklearn.linear_model import LinearRegression\n",
    "from sklearn.metrics import mean_absolute_error, mean_squared_error, r2_score\n",
    "\n",
    "# Assuming mdf is your DataFrame and has the necessary columns\n",
    "# mdf = pd.read_csv('your_data.csv')  # Load your data here if it's from a CSV file\n",
    "\n",
    "# Select the relevant columns\n",
    "df = mdf[[\"Pos_Rank\", \"tpr\", \"pas\", \"Cmp%\"]]\n",
    "\n",
    "# Drop any rows with missing values\n",
    "df = df.dropna()\n",
    "print(df.info())\n",
    "\n",
    "# Define the independent variables (predictors) and the dependent variable (response)\n",
    "X = df[[\"Pos_Rank\", \"tpr\", \"pas\"]]\n",
    "y = df[\"Cmp%\"]\n",
    "\n",
    "# Split the data into training and testing sets\n",
    "X_train, X_test, y_train, y_test = train_test_split(X, y, test_size=0.2, random_state=42)\n",
    "\n",
    "# Create a linear regression model\n",
    "model = LinearRegression()\n",
    "\n",
    "# Fit the model to the training data\n",
    "model.fit(X_train, y_train)\n",
    "\n",
    "# Make predictions on the test data\n",
    "y_pred = model.predict(X_test)\n",
    "\n",
    "# Print the coefficients\n",
    "print(\"Coefficients:\", model.coef_)\n",
    "print(\"Intercept:\", model.intercept_)\n",
    "\n",
    "# Print performance metrics\n",
    "print(\"Mean squared error (MSE):\", mean_absolute_error(y_test, y_pred))\n",
    "print(\"Mean squared error (MSE):\", mean_squared_error(y_test, y_pred))\n",
    "print(\"Coefficient of determination (R^2):\", r2_score(y_test, y_pred))"
   ]
  },
  {
   "cell_type": "code",
   "execution_count": null,
   "id": "251146d6-78e4-400a-891a-9a2d0ee9e185",
   "metadata": {},
   "outputs": [],
   "source": [
    "def Predict_Pass_Completion_Rate(pos, tpr, pas):\n",
    "    input_data = {'Pos_Rank': [pos], 'tpr': [tpr], 'pas': [pas]}\n",
    "    input_df = pd.DataFrame(input_data)\n",
    "    noise_range = (-5, 10)\n",
    "    predicted_class = model.predict(input_df) + np.random.uniform(noise_range[0], noise_range[1], input_df.shape)\n",
    "    return predicted_class\n",
    "\n",
    "print(\"Predicted Class:\", Predict_Pass_Completion_Rate(9, 100, 92))"
   ]
  },
  {
   "cell_type": "code",
   "execution_count": null,
   "id": "b6b7320a-80de-47e2-80db-05cc88e18348",
   "metadata": {},
   "outputs": [],
   "source": [
    "def Player_Passing_Volume_Share(df):\n",
    "    df[\"Att_share\"] = df[\"Att\"] / df[\"Att\"].sum()\n",
    "    df[\"Cmp_share\"] = df[\"Cmp\"] / df[\"Cmp\"].sum()\n",
    "    return df\n",
    "\n",
    "mdf = mdf.groupby('Club').apply(Player_Passing_Volume_Share).reset_index(drop=True)"
   ]
  },
  {
   "cell_type": "code",
   "execution_count": null,
   "id": "87aba284-ac28-4e7b-9578-6f1c29eccc2c",
   "metadata": {},
   "outputs": [],
   "source": [
    "passing_logs = pd.read_csv(\"../match_logs/Big5@22-23@passing.csv\")\n",
    "passing_data = passing_data\n",
    "passing_df = pd.merge(team_ratings, passing_data, how=\"inner\", left_on=\"fbref_name\", right_on=\"Squad\")"
   ]
  },
  {
   "cell_type": "code",
   "execution_count": null,
   "id": "e42e95b4-9bda-4a4c-b23e-8c9e87aaf029",
   "metadata": {},
   "outputs": [],
   "source": []
  }
 ],
 "metadata": {
  "kernelspec": {
   "display_name": "Python 3 (ipykernel)",
   "language": "python",
   "name": "python3"
  },
  "language_info": {
   "codemirror_mode": {
    "name": "ipython",
    "version": 3
   },
   "file_extension": ".py",
   "mimetype": "text/x-python",
   "name": "python",
   "nbconvert_exporter": "python",
   "pygments_lexer": "ipython3",
   "version": "3.11.7"
  }
 },
 "nbformat": 4,
 "nbformat_minor": 5
}
