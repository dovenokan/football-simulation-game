{
 "cells": [
  {
   "cell_type": "code",
   "execution_count": 460,
   "id": "d1afd80f-f14d-4cbf-a716-b6ae2edf71ad",
   "metadata": {},
   "outputs": [],
   "source": [
    "import pandas as pd\n",
    "import numpy as np\n",
    "import seaborn as sns\n",
    "import matplotlib.pyplot as plt\n",
    "import re\n",
    "import warnings"
   ]
  },
  {
   "cell_type": "code",
   "execution_count": 461,
   "id": "d49f9df9-4f91-4bf7-bb57-dba875f97a91",
   "metadata": {},
   "outputs": [],
   "source": [
    "import warnings\n",
    "from pandas.errors import SettingWithCopyWarning\n",
    "warnings.simplefilter(action='ignore', category=(SettingWithCopyWarning))\n",
    "warnings.simplefilter(action='ignore', category=(FutureWarning))"
   ]
  },
  {
   "cell_type": "code",
   "execution_count": 462,
   "id": "216536f1-2c8e-48d7-ae78-6c0c48c897a9",
   "metadata": {},
   "outputs": [],
   "source": [
    "players_ratings = pd.read_csv(\"../players_db/fm23/fm23db_processed.csv\")\n",
    "team_ratings = pd.read_csv(\"../players_db/fm23/team_ratings.csv\")"
   ]
  },
  {
   "cell_type": "markdown",
   "id": "7109d6fe-4627-4204-a448-57fd35ed7606",
   "metadata": {},
   "source": [
    "<br><br><br><br>\n",
    "<h2 style=\"color:blue;\">  Win Probability</h3>"
   ]
  },
  {
   "cell_type": "code",
   "execution_count": 463,
   "id": "5f2be39e-27dc-4833-ac39-f97a85039456",
   "metadata": {},
   "outputs": [
    {
     "data": {
      "text/plain": [
       "{1: 0.15141943498481023, 0: 0.43814483031639917, 2: 0.41043573469879063}"
      ]
     },
     "execution_count": 463,
     "metadata": {},
     "output_type": "execute_result"
    }
   ],
   "source": [
    "Win_Probability(win_df, 50, 60)"
   ]
  },
  {
   "cell_type": "code",
   "execution_count": 464,
   "id": "c0f79c2c-67e3-4100-b568-059a1b593ab6",
   "metadata": {},
   "outputs": [
    {
     "data": {
      "text/plain": [
       "{1: 0.1876793963427024, 0: 0.3740351552084532, 2: 0.43828544844884443}"
      ]
     },
     "execution_count": 464,
     "metadata": {},
     "output_type": "execute_result"
    }
   ],
   "source": [
    "Win_Probability(win_df, 60, 70)"
   ]
  },
  {
   "cell_type": "code",
   "execution_count": 465,
   "id": "5cf7e776-33c5-4273-855c-e1b954f17467",
   "metadata": {},
   "outputs": [
    {
     "data": {
      "text/plain": [
       "{1: 0.22807162854246782, 0: 0.3130594683962014, 2: 0.4588689030613309}"
      ]
     },
     "execution_count": 465,
     "metadata": {},
     "output_type": "execute_result"
    }
   ],
   "source": [
    "Win_Probability(win_df, 70, 80)"
   ]
  },
  {
   "cell_type": "code",
   "execution_count": 466,
   "id": "3b061a5e-995b-4f09-9778-d2d201b900a3",
   "metadata": {},
   "outputs": [
    {
     "data": {
      "text/plain": [
       "{1: 0.36105836634747795, 0: 0.33042638291014814, 2: 0.30851525074237396}"
      ]
     },
     "execution_count": 466,
     "metadata": {},
     "output_type": "execute_result"
    }
   ],
   "source": [
    "Win_Probability(win_df, 75, 75)"
   ]
  },
  {
   "cell_type": "code",
   "execution_count": 467,
   "id": "3c293085-850b-400b-b1fe-e307db94a445",
   "metadata": {},
   "outputs": [
    {
     "data": {
      "text/plain": [
       "{1: 0.39175485727530857, 0: 0.29753740482911134, 2: 0.31070773789558015}"
      ]
     },
     "execution_count": 467,
     "metadata": {},
     "output_type": "execute_result"
    }
   ],
   "source": [
    "Win_Probability(win_df, 80, 80)"
   ]
  },
  {
   "cell_type": "code",
   "execution_count": 468,
   "id": "6e53c7e5-b936-42e9-9c6d-da271343ec86",
   "metadata": {},
   "outputs": [
    {
     "data": {
      "text/plain": [
       "{1: 0.4225683989434405, 0: 0.2663508420367869, 2: 0.3110807590197727}"
      ]
     },
     "execution_count": 468,
     "metadata": {},
     "output_type": "execute_result"
    }
   ],
   "source": [
    "Win_Probability(win_df, 85, 85)"
   ]
  },
  {
   "cell_type": "code",
   "execution_count": 469,
   "id": "15f3254a-3ae7-475a-b15e-c621f7661765",
   "metadata": {},
   "outputs": [
    {
     "data": {
      "text/plain": [
       "False"
      ]
     },
     "execution_count": 469,
     "metadata": {},
     "output_type": "execute_result"
    }
   ],
   "source": [
    "Win_Probability(win_df, 85, 84) == Win_Probability(win_df, 84, 85) "
   ]
  },
  {
   "cell_type": "markdown",
   "id": "b9bfd6ce-83d2-4355-95ec-70bf057c2336",
   "metadata": {},
   "source": [
    "<br><br><br><br>\n",
    "<h2 style=\"color:blue;\">  League Simuation Test</h3>"
   ]
  },
  {
   "cell_type": "code",
   "execution_count": 470,
   "id": "4b46d15a-f935-4baf-9e77-4175fc8f8972",
   "metadata": {},
   "outputs": [
    {
     "data": {
      "text/plain": [
       "array([ 185, 1215,  354,  773,  710, 1331, 1017,  363], dtype=int64)"
      ]
     },
     "execution_count": 470,
     "metadata": {},
     "output_type": "execute_result"
    }
   ],
   "source": [
    "team_ratings.League_id.unique()"
   ]
  },
  {
   "cell_type": "code",
   "execution_count": 471,
   "id": "4350bba2-cc48-47e8-93b7-d0a6b9c66a40",
   "metadata": {},
   "outputs": [
    {
     "data": {
      "text/markdown": [
       "| Rank | Team | Points | TPR |\n",
       "|------|------|--------|-----|\n",
       "| 1 | AS Roma | 84 | 82 |\n",
       "| 2 | Juventus | 83 | 85 |\n",
       "| 3 | AC Milan | 81 | 88 |\n",
       "| 4 | Internazionale | 74 | 88 |\n",
       "| 5 | Lazio | 74 | 88 |\n",
       "| 6 | Bologna | 57 | 72 |\n",
       "| 7 | Hellas Verona | 52 | 69 |\n",
       "| 8 | Sassuolo | 49 | 72 |\n",
       "| 9 | Atalanta | 49 | 79 |\n",
       "| 10 | Napoli | 49 | 79 |\n",
       "| 11 | Udinese | 49 | 69 |\n",
       "| 12 | Sampdoria | 48 | 72 |\n",
       "| 13 | Empoli | 45 | 69 |\n",
       "| 14 | Monza | 44 | 72 |\n",
       "| 15 | Fiorentina | 43 | 75 |\n",
       "| 16 | Salernitana | 41 | 72 |\n",
       "| 17 | Spezia | 39 | 69 |\n",
       "| 18 | Cremonese | 31 | 66 |\n",
       "| 19 | Torino | 30 | 69 |\n",
       "| 20 | Lecce | 21 | 59 |\n"
      ],
      "text/plain": [
       "<IPython.core.display.Markdown object>"
      ]
     },
     "metadata": {},
     "output_type": "display_data"
    }
   ],
   "source": [
    "import pandas as pd\n",
    "import numpy as np\n",
    "from itertools import product\n",
    "\n",
    "current_league_id = 710\t\n",
    "teams_in_league_ratings = team_ratings.query(f\"League_id == {current_league_id}\")\n",
    "\n",
    "points_table = {team: 0 for team in teams_in_league_ratings['Club']}\n",
    "matchups = list(product(teams_in_league_ratings['Club'], repeat=2))\n",
    "matchups = [match for match in matchups if match[0] != match[1]]\n",
    "\n",
    "for home_team, away_team in matchups:\n",
    "    home_tpr = teams_in_league_ratings[teams_in_league_ratings['Club'] == home_team]['tpr'].values[0]\n",
    "    away_tpr = teams_in_league_ratings[teams_in_league_ratings['Club'] == away_team]['tpr'].values[0]\n",
    "    \n",
    "    probs_home = Win_Probability(win_df, home_tpr, away_tpr)\n",
    "    result_home = np.random.choice(list(probs_home.keys()), p=list(probs_home.values()))\n",
    "    if result_home == 1:\n",
    "        points_table[home_team] += 3\n",
    "    elif result_home == 0:\n",
    "        points_table[home_team] += 1\n",
    "        points_table[away_team] += 1\n",
    "    else:\n",
    "        points_table[away_team] += 3\n",
    "\n",
    "standings = sorted(points_table.items(), key=lambda x: x[1], reverse=True)\n",
    "\n",
    "markdown_table = \"| Rank | Team | Points | TPR |\\n|------|------|--------|-----|\\n\"\n",
    "for i, (team, points) in enumerate(standings, start=1):\n",
    "    tpr = teams_in_league_ratings[teams_in_league_ratings['Club'] == team]['tpr'].values[0]\n",
    "    markdown_table += f\"| {i} | {team} | {points} | {tpr} |\\n\"\n",
    "from IPython.display import Markdown, display\n",
    "display(Markdown(markdown_table))"
   ]
  },
  {
   "cell_type": "code",
   "execution_count": 472,
   "id": "5024d917-307a-4794-b279-6b8b213cfa73",
   "metadata": {},
   "outputs": [
    {
     "data": {
      "text/html": [
       "<div>\n",
       "<style scoped>\n",
       "    .dataframe tbody tr th:only-of-type {\n",
       "        vertical-align: middle;\n",
       "    }\n",
       "\n",
       "    .dataframe tbody tr th {\n",
       "        vertical-align: top;\n",
       "    }\n",
       "\n",
       "    .dataframe thead th {\n",
       "        text-align: right;\n",
       "    }\n",
       "</style>\n",
       "<table border=\"1\" class=\"dataframe\">\n",
       "  <thead>\n",
       "    <tr style=\"text-align: right;\">\n",
       "      <th></th>\n",
       "      <th>Name</th>\n",
       "      <th>tpr</th>\n",
       "    </tr>\n",
       "  </thead>\n",
       "  <tbody>\n",
       "    <tr>\n",
       "      <th>1343</th>\n",
       "      <td>Sergej Milinković-Savić</td>\n",
       "      <td>90</td>\n",
       "    </tr>\n",
       "    <tr>\n",
       "      <th>1350</th>\n",
       "      <td>Ciro Immobile</td>\n",
       "      <td>90</td>\n",
       "    </tr>\n",
       "    <tr>\n",
       "      <th>1361</th>\n",
       "      <td>Luis Alberto</td>\n",
       "      <td>85</td>\n",
       "    </tr>\n",
       "    <tr>\n",
       "      <th>1365</th>\n",
       "      <td>Pedro</td>\n",
       "      <td>85</td>\n",
       "    </tr>\n",
       "    <tr>\n",
       "      <th>1392</th>\n",
       "      <td>Matías Vecino</td>\n",
       "      <td>84</td>\n",
       "    </tr>\n",
       "    <tr>\n",
       "      <th>1487</th>\n",
       "      <td>Mattia Zaccagni</td>\n",
       "      <td>82</td>\n",
       "    </tr>\n",
       "    <tr>\n",
       "      <th>1657</th>\n",
       "      <td>Danilo Cataldi</td>\n",
       "      <td>81</td>\n",
       "    </tr>\n",
       "    <tr>\n",
       "      <th>1523</th>\n",
       "      <td>Patric</td>\n",
       "      <td>81</td>\n",
       "    </tr>\n",
       "    <tr>\n",
       "      <th>1460</th>\n",
       "      <td>Adam Marušić</td>\n",
       "      <td>81</td>\n",
       "    </tr>\n",
       "    <tr>\n",
       "      <th>1464</th>\n",
       "      <td>Ştefan Radu</td>\n",
       "      <td>81</td>\n",
       "    </tr>\n",
       "    <tr>\n",
       "      <th>1513</th>\n",
       "      <td>Toma Bašić</td>\n",
       "      <td>80</td>\n",
       "    </tr>\n",
       "    <tr>\n",
       "      <th>1444</th>\n",
       "      <td>Felipe Anderson</td>\n",
       "      <td>80</td>\n",
       "    </tr>\n",
       "    <tr>\n",
       "      <th>1442</th>\n",
       "      <td>Manuel Lazzari</td>\n",
       "      <td>79</td>\n",
       "    </tr>\n",
       "    <tr>\n",
       "      <th>1517</th>\n",
       "      <td>Marcos Antonio</td>\n",
       "      <td>79</td>\n",
       "    </tr>\n",
       "    <tr>\n",
       "      <th>1485</th>\n",
       "      <td>Elseid Hysaj</td>\n",
       "      <td>77</td>\n",
       "    </tr>\n",
       "    <tr>\n",
       "      <th>1855</th>\n",
       "      <td>Mario Gila</td>\n",
       "      <td>77</td>\n",
       "    </tr>\n",
       "    <tr>\n",
       "      <th>1547</th>\n",
       "      <td>Mohamed Fares</td>\n",
       "      <td>77</td>\n",
       "    </tr>\n",
       "    <tr>\n",
       "      <th>1374</th>\n",
       "      <td>Alessio Romagnoli</td>\n",
       "      <td>77</td>\n",
       "    </tr>\n",
       "    <tr>\n",
       "      <th>1772</th>\n",
       "      <td>Matteo Cancellieri</td>\n",
       "      <td>77</td>\n",
       "    </tr>\n",
       "    <tr>\n",
       "      <th>1760</th>\n",
       "      <td>Luka Romero</td>\n",
       "      <td>75</td>\n",
       "    </tr>\n",
       "    <tr>\n",
       "      <th>1732</th>\n",
       "      <td>Nicolò Casale</td>\n",
       "      <td>74</td>\n",
       "    </tr>\n",
       "    <tr>\n",
       "      <th>1946</th>\n",
       "      <td>Marco Bertini</td>\n",
       "      <td>73</td>\n",
       "    </tr>\n",
       "    <tr>\n",
       "      <th>1744</th>\n",
       "      <td>Dimitrije Kamenović</td>\n",
       "      <td>72</td>\n",
       "    </tr>\n",
       "    <tr>\n",
       "      <th>1951</th>\n",
       "      <td>Valerio Crespi</td>\n",
       "      <td>70</td>\n",
       "    </tr>\n",
       "    <tr>\n",
       "      <th>1921</th>\n",
       "      <td>Romano Floriani</td>\n",
       "      <td>70</td>\n",
       "    </tr>\n",
       "    <tr>\n",
       "      <th>2052</th>\n",
       "      <td>Antonio Troise</td>\n",
       "      <td>69</td>\n",
       "    </tr>\n",
       "    <tr>\n",
       "      <th>1997</th>\n",
       "      <td>Andrea Marino</td>\n",
       "      <td>69</td>\n",
       "    </tr>\n",
       "    <tr>\n",
       "      <th>1718</th>\n",
       "      <td>Ivan Provedel</td>\n",
       "      <td>68</td>\n",
       "    </tr>\n",
       "    <tr>\n",
       "      <th>1968</th>\n",
       "      <td>Filippo Bedini</td>\n",
       "      <td>66</td>\n",
       "    </tr>\n",
       "    <tr>\n",
       "      <th>1540</th>\n",
       "      <td>Luís Maximiano</td>\n",
       "      <td>66</td>\n",
       "    </tr>\n",
       "    <tr>\n",
       "      <th>1906</th>\n",
       "      <td>Giordano Rossi</td>\n",
       "      <td>64</td>\n",
       "    </tr>\n",
       "    <tr>\n",
       "      <th>2039</th>\n",
       "      <td>Diego Brasili</td>\n",
       "      <td>64</td>\n",
       "    </tr>\n",
       "    <tr>\n",
       "      <th>2518</th>\n",
       "      <td>Edoardo Della Salandra</td>\n",
       "      <td>64</td>\n",
       "    </tr>\n",
       "    <tr>\n",
       "      <th>1950</th>\n",
       "      <td>Simone Castigliani</td>\n",
       "      <td>63</td>\n",
       "    </tr>\n",
       "    <tr>\n",
       "      <th>1851</th>\n",
       "      <td>Marius Adamonis</td>\n",
       "      <td>63</td>\n",
       "    </tr>\n",
       "    <tr>\n",
       "      <th>1969</th>\n",
       "      <td>Luca Napolitano</td>\n",
       "      <td>63</td>\n",
       "    </tr>\n",
       "    <tr>\n",
       "      <th>2471</th>\n",
       "      <td>Jacopo Sardo</td>\n",
       "      <td>63</td>\n",
       "    </tr>\n",
       "    <tr>\n",
       "      <th>1918</th>\n",
       "      <td>Larsson Coulibaly</td>\n",
       "      <td>62</td>\n",
       "    </tr>\n",
       "    <tr>\n",
       "      <th>2389</th>\n",
       "      <td>Filip Jurczak</td>\n",
       "      <td>61</td>\n",
       "    </tr>\n",
       "    <tr>\n",
       "      <th>2493</th>\n",
       "      <td>Simone Cantoni</td>\n",
       "      <td>60</td>\n",
       "    </tr>\n",
       "    <tr>\n",
       "      <th>2485</th>\n",
       "      <td>Lorenzo Di Biagio</td>\n",
       "      <td>60</td>\n",
       "    </tr>\n",
       "    <tr>\n",
       "      <th>2460</th>\n",
       "      <td>Ranjan Neelakandan</td>\n",
       "      <td>60</td>\n",
       "    </tr>\n",
       "    <tr>\n",
       "      <th>2442</th>\n",
       "      <td>Enzo Adeagbo</td>\n",
       "      <td>60</td>\n",
       "    </tr>\n",
       "    <tr>\n",
       "      <th>1893</th>\n",
       "      <td>Fabio Andrea Ruggeri</td>\n",
       "      <td>59</td>\n",
       "    </tr>\n",
       "    <tr>\n",
       "      <th>2054</th>\n",
       "      <td>Marco Muhammad Schuan</td>\n",
       "      <td>59</td>\n",
       "    </tr>\n",
       "    <tr>\n",
       "      <th>1910</th>\n",
       "      <td>Robin Kane</td>\n",
       "      <td>59</td>\n",
       "    </tr>\n",
       "    <tr>\n",
       "      <th>1917</th>\n",
       "      <td>Valerio Marinacci</td>\n",
       "      <td>59</td>\n",
       "    </tr>\n",
       "    <tr>\n",
       "      <th>1923</th>\n",
       "      <td>Massil Adjaoudi</td>\n",
       "      <td>58</td>\n",
       "    </tr>\n",
       "    <tr>\n",
       "      <th>2043</th>\n",
       "      <td>Alessandro Milani</td>\n",
       "      <td>58</td>\n",
       "    </tr>\n",
       "    <tr>\n",
       "      <th>2367</th>\n",
       "      <td>Daniele Quaresima</td>\n",
       "      <td>57</td>\n",
       "    </tr>\n",
       "    <tr>\n",
       "      <th>2510</th>\n",
       "      <td>Damiano Giranelli</td>\n",
       "      <td>57</td>\n",
       "    </tr>\n",
       "    <tr>\n",
       "      <th>2055</th>\n",
       "      <td>Andrea Rossi</td>\n",
       "      <td>56</td>\n",
       "    </tr>\n",
       "    <tr>\n",
       "      <th>1964</th>\n",
       "      <td>Michele Bigonzoni</td>\n",
       "      <td>56</td>\n",
       "    </tr>\n",
       "    <tr>\n",
       "      <th>2318</th>\n",
       "      <td>Gabriele Migliorati</td>\n",
       "      <td>56</td>\n",
       "    </tr>\n",
       "    <tr>\n",
       "      <th>2056</th>\n",
       "      <td>Gianluca Petrucci</td>\n",
       "      <td>55</td>\n",
       "    </tr>\n",
       "    <tr>\n",
       "      <th>2509</th>\n",
       "      <td>Leon Di Venanzio</td>\n",
       "      <td>55</td>\n",
       "    </tr>\n",
       "    <tr>\n",
       "      <th>2320</th>\n",
       "      <td>Jordan Akwasingi</td>\n",
       "      <td>54</td>\n",
       "    </tr>\n",
       "    <tr>\n",
       "      <th>2370</th>\n",
       "      <td>Giovanni Morsa</td>\n",
       "      <td>54</td>\n",
       "    </tr>\n",
       "    <tr>\n",
       "      <th>2047</th>\n",
       "      <td>Federico Magro</td>\n",
       "      <td>52</td>\n",
       "    </tr>\n",
       "    <tr>\n",
       "      <th>2508</th>\n",
       "      <td>Giorgio Polidori</td>\n",
       "      <td>49</td>\n",
       "    </tr>\n",
       "  </tbody>\n",
       "</table>\n",
       "</div>"
      ],
      "text/plain": [
       "                         Name  tpr\n",
       "1343  Sergej Milinković-Savić   90\n",
       "1350            Ciro Immobile   90\n",
       "1361             Luis Alberto   85\n",
       "1365                    Pedro   85\n",
       "1392            Matías Vecino   84\n",
       "1487          Mattia Zaccagni   82\n",
       "1657           Danilo Cataldi   81\n",
       "1523                   Patric   81\n",
       "1460             Adam Marušić   81\n",
       "1464              Ştefan Radu   81\n",
       "1513               Toma Bašić   80\n",
       "1444          Felipe Anderson   80\n",
       "1442           Manuel Lazzari   79\n",
       "1517           Marcos Antonio   79\n",
       "1485             Elseid Hysaj   77\n",
       "1855               Mario Gila   77\n",
       "1547            Mohamed Fares   77\n",
       "1374        Alessio Romagnoli   77\n",
       "1772       Matteo Cancellieri   77\n",
       "1760              Luka Romero   75\n",
       "1732            Nicolò Casale   74\n",
       "1946            Marco Bertini   73\n",
       "1744      Dimitrije Kamenović   72\n",
       "1951           Valerio Crespi   70\n",
       "1921          Romano Floriani   70\n",
       "2052           Antonio Troise   69\n",
       "1997            Andrea Marino   69\n",
       "1718            Ivan Provedel   68\n",
       "1968           Filippo Bedini   66\n",
       "1540           Luís Maximiano   66\n",
       "1906           Giordano Rossi   64\n",
       "2039            Diego Brasili   64\n",
       "2518   Edoardo Della Salandra   64\n",
       "1950       Simone Castigliani   63\n",
       "1851          Marius Adamonis   63\n",
       "1969          Luca Napolitano   63\n",
       "2471             Jacopo Sardo   63\n",
       "1918        Larsson Coulibaly   62\n",
       "2389            Filip Jurczak   61\n",
       "2493           Simone Cantoni   60\n",
       "2485        Lorenzo Di Biagio   60\n",
       "2460       Ranjan Neelakandan   60\n",
       "2442             Enzo Adeagbo   60\n",
       "1893     Fabio Andrea Ruggeri   59\n",
       "2054    Marco Muhammad Schuan   59\n",
       "1910               Robin Kane   59\n",
       "1917        Valerio Marinacci   59\n",
       "1923          Massil Adjaoudi   58\n",
       "2043        Alessandro Milani   58\n",
       "2367        Daniele Quaresima   57\n",
       "2510        Damiano Giranelli   57\n",
       "2055             Andrea Rossi   56\n",
       "1964        Michele Bigonzoni   56\n",
       "2318      Gabriele Migliorati   56\n",
       "2056        Gianluca Petrucci   55\n",
       "2509         Leon Di Venanzio   55\n",
       "2320         Jordan Akwasingi   54\n",
       "2370           Giovanni Morsa   54\n",
       "2047           Federico Magro   52\n",
       "2508         Giorgio Polidori   49"
      ]
     },
     "execution_count": 472,
     "metadata": {},
     "output_type": "execute_result"
    }
   ],
   "source": [
    "players_ratings.query(\"Club == 'Lazio'\")[[\"Name\",\"tpr\"]].sort_values(\"tpr\", ascending=False)"
   ]
  },
  {
   "cell_type": "markdown",
   "id": "71756b1e-85d2-416a-8ca3-01f73068b4be",
   "metadata": {},
   "source": [
    "<br><br><br><br>\n",
    "<h1 style=\"color:red;\">  Passing (players)</h1>"
   ]
  },
  {
   "cell_type": "code",
   "execution_count": 473,
   "id": "31e8f87e-9dd5-453e-a33d-707faed81d26",
   "metadata": {},
   "outputs": [],
   "source": [
    "def rename_duplicate_columns(df):\n",
    "    cols = pd.Series(df.columns)\n",
    "    for dup in cols[cols.duplicated()].unique():\n",
    "        cols[cols[cols == dup].index.values.tolist()] = [dup + '_' + str(i) if i != 0 else dup for i in range(sum(cols == dup))]\n",
    "    df.columns = cols\n",
    "    return df"
   ]
  },
  {
   "cell_type": "code",
   "execution_count": 474,
   "id": "1d299ed7-bd12-4ad9-b3e5-e33aab5a58f1",
   "metadata": {},
   "outputs": [],
   "source": [
    "pdf = players_ratings.sort_values(by=\"Pos_Rank\").dropna(subset=[\"fbref_player_name\"])"
   ]
  },
  {
   "cell_type": "code",
   "execution_count": 475,
   "id": "6448a74f-d176-44d7-bfd0-b66444c0e280",
   "metadata": {},
   "outputs": [
    {
     "data": {
      "text/plain": [
       "Best_Pos\n",
       "MC     682\n",
       "DC     642\n",
       "GK     463\n",
       "AML    450\n",
       "ST     448\n",
       "DR     352\n",
       "AMR    325\n",
       "DL     314\n",
       "DM     234\n",
       "AMC    118\n",
       "ML      99\n",
       "MR      91\n",
       "WBR     22\n",
       "WBL     17\n",
       "Name: count, dtype: int64"
      ]
     },
     "execution_count": 475,
     "metadata": {},
     "output_type": "execute_result"
    }
   ],
   "source": [
    "pdf.Best_Pos.value_counts()"
   ]
  },
  {
   "cell_type": "code",
   "execution_count": null,
   "id": "6a6ea3ce-7b60-4752-a7d8-fa59b66d462a",
   "metadata": {},
   "outputs": [],
   "source": [
    "url = \"https://fbref.com/en/comps/Big5/2022-2023/passing/players/2022-2023-Big-5-European-Leagues-Stats\"\n",
    "data = pd.read_html(url)\n",
    "data[0].columns = data[0].columns.get_level_values(1)"
   ]
  },
  {
   "cell_type": "code",
   "execution_count": null,
   "id": "408f7d39-d6bc-4e8b-9a97-70463f9a23ca",
   "metadata": {},
   "outputs": [],
   "source": [
    "passing_data = data[0]"
   ]
  },
  {
   "cell_type": "code",
   "execution_count": null,
   "id": "bef836cb-7540-4a7a-a0f0-5e11e222e85c",
   "metadata": {},
   "outputs": [],
   "source": [
    "mdf = pd.merge(pdf, passing_data, how=\"inner\", left_on=\"fbref_player_name\", right_on=\"Player\")\n",
    "mdf = mdf.drop_duplicates(subset=['Player'], keep='first')\n",
    "mdf = rename_duplicate_columns(mdf)"
   ]
  },
  {
   "cell_type": "code",
   "execution_count": null,
   "id": "7c93b59d-1699-4a44-8e5e-42ef49e54fde",
   "metadata": {},
   "outputs": [],
   "source": [
    "mdf[\"Att\"] = pd.to_numeric(mdf[\"Att\"], errors='coerce')\n",
    "mdf[\"90s\"] = pd.to_numeric(mdf[\"90s\"], errors='coerce')\n",
    "mdf[\"Cmp\"] = pd.to_numeric(mdf[\"Cmp\"], errors='coerce')\n",
    "mdf[\"Cmp%\"] = pd.to_numeric(mdf[\"Cmp%\"], errors='coerce')"
   ]
  },
  {
   "cell_type": "code",
   "execution_count": null,
   "id": "73b20eab-d152-4f33-8d03-06beaae5b5c8",
   "metadata": {},
   "outputs": [],
   "source": [
    "mdf[\"Att90\"] = mdf[\"Att\"].apply(float) / mdf[\"90s\"].apply(float)\n",
    "mdf[\"Cmp90\"] = mdf[\"Cmp\"].apply(float) / mdf[\"90s\"].apply(float)\n",
    "mdf[\"Cmp%\"] = mdf[\"Cmp%\"].apply(float)"
   ]
  },
  {
   "cell_type": "code",
   "execution_count": null,
   "id": "96ac4bfe-6bb7-4129-9d86-c9c060019772",
   "metadata": {},
   "outputs": [],
   "source": [
    "# mdf.loc[0].to_dict()"
   ]
  },
  {
   "cell_type": "code",
   "execution_count": null,
   "id": "f4dd43d0-72bb-46f2-9942-63f7642b63cd",
   "metadata": {},
   "outputs": [],
   "source": [
    "mdf.info()"
   ]
  },
  {
   "cell_type": "code",
   "execution_count": null,
   "id": "6ac6a37e-4b5f-456e-a622-18bc2ababfcd",
   "metadata": {},
   "outputs": [],
   "source": [
    "mdf[[\"Player\",\"Pos_Rank\",\"Best_Pos\",\"tpr\",\"pas\",\"Att90\",\"Cmp90\",\"Cmp%\"]].head()"
   ]
  },
  {
   "cell_type": "code",
   "execution_count": null,
   "id": "89df1f62-a474-48c3-a1a4-699aae39c648",
   "metadata": {},
   "outputs": [],
   "source": [
    "mdf.drop_duplicates(subset=['Pos_Rank'], keep='first')[[\"Pos_Rank\",\"Best_Pos\"]]"
   ]
  },
  {
   "cell_type": "code",
   "execution_count": null,
   "id": "881c2a06-c760-404f-9402-fd1a584eaf95",
   "metadata": {},
   "outputs": [],
   "source": [
    "from sklearn.model_selection import train_test_split\n",
    "from sklearn.linear_model import LinearRegression\n",
    "from sklearn.metrics import mean_absolute_error, mean_squared_error, r2_score\n",
    "\n",
    "# Assuming mdf is your DataFrame and has the necessary columns\n",
    "# mdf = pd.read_csv('your_data.csv')  # Load your data here if it's from a CSV file\n",
    "\n",
    "# Select the relevant columns\n",
    "df = mdf[[\"Pos_Rank\", \"tpr\", \"pas\", \"Cmp%\"]]\n",
    "\n",
    "# Drop any rows with missing values\n",
    "df = df.dropna()\n",
    "print(df.info())\n",
    "\n",
    "# Define the independent variables (predictors) and the dependent variable (response)\n",
    "X = df[[\"Pos_Rank\", \"tpr\", \"pas\"]]\n",
    "y = df[\"Cmp%\"]\n",
    "\n",
    "# Split the data into training and testing sets\n",
    "X_train, X_test, y_train, y_test = train_test_split(X, y, test_size=0.2, random_state=42)\n",
    "\n",
    "# Create a linear regression model\n",
    "model = LinearRegression()\n",
    "\n",
    "# Fit the model to the training data\n",
    "model.fit(X_train, y_train)\n",
    "\n",
    "# Make predictions on the test data\n",
    "y_pred = model.predict(X_test)\n",
    "\n",
    "# Print the coefficients\n",
    "print(\"Coefficients:\", model.coef_)\n",
    "print(\"Intercept:\", model.intercept_)\n",
    "\n",
    "# Print performance metrics\n",
    "print(\"Mean squared error (MSE):\", mean_absolute_error(y_test, y_pred))\n",
    "print(\"Mean squared error (MSE):\", mean_squared_error(y_test, y_pred))\n",
    "print(\"Coefficient of determination (R^2):\", r2_score(y_test, y_pred))"
   ]
  },
  {
   "cell_type": "code",
   "execution_count": null,
   "id": "251146d6-78e4-400a-891a-9a2d0ee9e185",
   "metadata": {},
   "outputs": [],
   "source": [
    "def Predict_Pass_Completion_Rate(pos, tpr, pas):\n",
    "    input_data = {'Pos_Rank': [pos], 'tpr': [tpr], 'pas': [pas]}\n",
    "    input_df = pd.DataFrame(input_data)\n",
    "    noise_range = (-5, 10)\n",
    "    predicted_class = model.predict(input_df) + np.random.uniform(noise_range[0], noise_range[1], input_df.shape)\n",
    "    return predicted_class\n",
    "\n",
    "print(\"Predicted Class:\", Predict_Pass_Completion_Rate(9, 100, 92))"
   ]
  },
  {
   "cell_type": "code",
   "execution_count": null,
   "id": "b6b7320a-80de-47e2-80db-05cc88e18348",
   "metadata": {},
   "outputs": [],
   "source": [
    "def Player_Passing_Volume_Share(df):\n",
    "    df[\"Att_share\"] = df[\"Att\"] / df[\"Att\"].sum()\n",
    "    df[\"Cmp_share\"] = df[\"Cmp\"] / df[\"Cmp\"].sum()\n",
    "    return df\n",
    "\n",
    "mdf = mdf.groupby('Club').apply(Player_Passing_Volume_Share).reset_index(drop=True)"
   ]
  },
  {
   "cell_type": "code",
   "execution_count": null,
   "id": "87aba284-ac28-4e7b-9578-6f1c29eccc2c",
   "metadata": {},
   "outputs": [],
   "source": [
    "passing_logs = pd.read_csv(\"../match_logs/Big5@22-23@passing.csv\")\n",
    "passing_data = passing_data\n",
    "passing_df = pd.merge(team_ratings, passing_data, how=\"inner\", left_on=\"fbref_name\", right_on=\"Squad\")"
   ]
  },
  {
   "cell_type": "code",
   "execution_count": null,
   "id": "e42e95b4-9bda-4a4c-b23e-8c9e87aaf029",
   "metadata": {},
   "outputs": [],
   "source": []
  }
 ],
 "metadata": {
  "kernelspec": {
   "display_name": "Python 3 (ipykernel)",
   "language": "python",
   "name": "python3"
  },
  "language_info": {
   "codemirror_mode": {
    "name": "ipython",
    "version": 3
   },
   "file_extension": ".py",
   "mimetype": "text/x-python",
   "name": "python",
   "nbconvert_exporter": "python",
   "pygments_lexer": "ipython3",
   "version": "3.11.7"
  }
 },
 "nbformat": 4,
 "nbformat_minor": 5
}
