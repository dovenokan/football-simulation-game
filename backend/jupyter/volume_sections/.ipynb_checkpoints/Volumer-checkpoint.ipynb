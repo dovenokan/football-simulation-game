{
 "cells": [
  {
   "cell_type": "code",
   "execution_count": 718,
   "id": "4eb1678c-7551-4975-9050-e1565d189834",
   "metadata": {},
   "outputs": [],
   "source": [
    "import pandas as pd\n",
    "import numpy as np\n",
    "import os\n",
    "import math\n",
    "import json"
   ]
  },
  {
   "cell_type": "code",
   "execution_count": 719,
   "id": "54185400-e4e9-4fc3-811f-f5e755ce79e4",
   "metadata": {},
   "outputs": [],
   "source": [
    "import warnings\n",
    "from sklearn.exceptions import UndefinedMetricWarning\n",
    "from pandas.errors import SettingWithCopyWarning\n",
    "warnings.filterwarnings(\"ignore\", category=UndefinedMetricWarning)\n",
    "warnings.simplefilter(action='ignore', category=(SettingWithCopyWarning))\n",
    "warnings.simplefilter(action='ignore', category=(FutureWarning))"
   ]
  },
  {
   "cell_type": "code",
   "execution_count": 720,
   "id": "8247c91a-81dd-46c5-a57b-56a6b9044876",
   "metadata": {},
   "outputs": [],
   "source": [
    "defense = pd.read_csv(\"../match_logs/Big5@22-23@defense.csv\")\n",
    "gca = pd.read_csv(\"../match_logs/Big5@22-23@gca.csv\")\n",
    "keeper = pd.read_csv(\"../match_logs/Big5@22-23@keeper.csv\")\n",
    "misc = pd.read_csv(\"../match_logs/Big5@22-23@misc.csv\")\n",
    "passing = pd.read_csv(\"../match_logs/Big5@22-23@passing.csv\")\n",
    "passing_types = pd.read_csv(\"../match_logs/Big5@22-23@passing_types.csv\")\n",
    "possession = pd.read_csv(\"../match_logs/Big5@22-23@possession.csv\")\n",
    "shooting = pd.read_csv(\"../match_logs/Big5@22-23@shooting.csv\")"
   ]
  },
  {
   "cell_type": "code",
   "execution_count": 721,
   "id": "98115ce7-e831-4c3a-b6d2-ae8984554f45",
   "metadata": {},
   "outputs": [],
   "source": [
    "team_ratings = pd.read_csv(\"../players_db/fm23/team_ratings.csv\")"
   ]
  },
  {
   "cell_type": "code",
   "execution_count": 722,
   "id": "2509f7eb-ab47-46a7-8c89-8b827cdb8fd7",
   "metadata": {},
   "outputs": [],
   "source": [
    "team_ratings_cols = team_ratings.columns"
   ]
  },
  {
   "cell_type": "code",
   "execution_count": 723,
   "id": "689478e7-1c9c-4de2-b230-787354b42133",
   "metadata": {},
   "outputs": [],
   "source": [
    "tpr_cols = []\n",
    "except_cols = [\"Club\",\"Based\",\"Division\",\"Club_id\",\"League_id\",\"fbref_name\"]\n",
    "for col in team_ratings_cols:\n",
    "    if col not in except_cols:\n",
    "        for xy in [\"x\",\"y\"]:\n",
    "            xy_col = f\"{col}_{xy}\"\n",
    "            tpr_cols.append(xy_col)"
   ]
  },
  {
   "cell_type": "markdown",
   "id": "8bb6f15c-b6a8-4fb4-bd78-104092cfbdc5",
   "metadata": {},
   "source": [
    "<br><br><br><br><br><br><br><br>\n",
    "<h1 style=\"color:orange;background:blue;\">@.  Logs to Regression</h1>"
   ]
  },
  {
   "cell_type": "code",
   "execution_count": 724,
   "id": "4c95f7f6-d4ee-4138-a719-fc8938d42c8d",
   "metadata": {},
   "outputs": [],
   "source": [
    "CURRENT_DATAFRAME_NAME = \"shooting\""
   ]
  },
  {
   "cell_type": "code",
   "execution_count": 725,
   "id": "858d6d84-207e-4b9a-8870-6186993758b9",
   "metadata": {},
   "outputs": [],
   "source": [
    "CURRENT_DATAFRAME = locals()[CURRENT_DATAFRAME_NAME]\n",
    "CURRENT_DATAFRAME[\"Unnamed: 0\"] = \"itsanobject\""
   ]
  },
  {
   "cell_type": "code",
   "execution_count": 726,
   "id": "ea39c69f-8f1a-445b-bc9f-e6f6efea8417",
   "metadata": {},
   "outputs": [],
   "source": [
    "# CURRENT_DATAFRAME[\"Unique_Matchday_id\"] = ((CURRENT_DATAFRAME.Club).apply(hash)+(CURRENT_DATAFRAME.Opponent).apply(hash)).apply(str)\n",
    "# unique_indexes = CURRENT_DATAFRAME[\"Unique_Matchday_id\"].drop_duplicates().index\n",
    "# CURRENT_DATAFRAME = CURRENT_DATAFRAME.loc[unique_indexes]"
   ]
  },
  {
   "cell_type": "code",
   "execution_count": 727,
   "id": "fe9e60b8-5cee-4026-8c50-658f3ae49d5b",
   "metadata": {},
   "outputs": [],
   "source": [
    "DATAFRAME_COLUMNS = list(CURRENT_DATAFRAME.columns)\n",
    "NUMERIC_DATAFRAME_COLUMNS = list(CURRENT_DATAFRAME.select_dtypes(exclude=\"object\").columns)"
   ]
  },
  {
   "cell_type": "code",
   "execution_count": 728,
   "id": "5c364e2f-f0ea-4ad8-b612-434f5ce36bbd",
   "metadata": {},
   "outputs": [
    {
     "data": {
      "text/html": [
       "<div>\n",
       "<style scoped>\n",
       "    .dataframe tbody tr th:only-of-type {\n",
       "        vertical-align: middle;\n",
       "    }\n",
       "\n",
       "    .dataframe tbody tr th {\n",
       "        vertical-align: top;\n",
       "    }\n",
       "\n",
       "    .dataframe thead th {\n",
       "        text-align: right;\n",
       "    }\n",
       "</style>\n",
       "<table border=\"1\" class=\"dataframe\">\n",
       "  <thead>\n",
       "    <tr style=\"text-align: right;\">\n",
       "      <th></th>\n",
       "      <th>mean</th>\n",
       "    </tr>\n",
       "  </thead>\n",
       "  <tbody>\n",
       "    <tr>\n",
       "      <th>GF</th>\n",
       "      <td>1.0</td>\n",
       "    </tr>\n",
       "    <tr>\n",
       "      <th>GA</th>\n",
       "      <td>1.0</td>\n",
       "    </tr>\n",
       "    <tr>\n",
       "      <th>Gls</th>\n",
       "      <td>1.0</td>\n",
       "    </tr>\n",
       "    <tr>\n",
       "      <th>Sh</th>\n",
       "      <td>12.0</td>\n",
       "    </tr>\n",
       "    <tr>\n",
       "      <th>SoT</th>\n",
       "      <td>4.0</td>\n",
       "    </tr>\n",
       "    <tr>\n",
       "      <th>SoT%</th>\n",
       "      <td>34.0</td>\n",
       "    </tr>\n",
       "    <tr>\n",
       "      <th>G/Sh</th>\n",
       "      <td>0.0</td>\n",
       "    </tr>\n",
       "    <tr>\n",
       "      <th>G/SoT</th>\n",
       "      <td>0.0</td>\n",
       "    </tr>\n",
       "    <tr>\n",
       "      <th>Dist</th>\n",
       "      <td>18.0</td>\n",
       "    </tr>\n",
       "    <tr>\n",
       "      <th>FK</th>\n",
       "      <td>0.0</td>\n",
       "    </tr>\n",
       "    <tr>\n",
       "      <th>PK</th>\n",
       "      <td>0.0</td>\n",
       "    </tr>\n",
       "    <tr>\n",
       "      <th>PKatt</th>\n",
       "      <td>0.0</td>\n",
       "    </tr>\n",
       "    <tr>\n",
       "      <th>xG</th>\n",
       "      <td>1.0</td>\n",
       "    </tr>\n",
       "    <tr>\n",
       "      <th>npxG</th>\n",
       "      <td>1.0</td>\n",
       "    </tr>\n",
       "    <tr>\n",
       "      <th>npxG/Sh</th>\n",
       "      <td>0.0</td>\n",
       "    </tr>\n",
       "    <tr>\n",
       "      <th>G-xG</th>\n",
       "      <td>-0.0</td>\n",
       "    </tr>\n",
       "    <tr>\n",
       "      <th>np:G-xG</th>\n",
       "      <td>-0.0</td>\n",
       "    </tr>\n",
       "  </tbody>\n",
       "</table>\n",
       "</div>"
      ],
      "text/plain": [
       "         mean\n",
       "GF        1.0\n",
       "GA        1.0\n",
       "Gls       1.0\n",
       "Sh       12.0\n",
       "SoT       4.0\n",
       "SoT%     34.0\n",
       "G/Sh      0.0\n",
       "G/SoT     0.0\n",
       "Dist     18.0\n",
       "FK        0.0\n",
       "PK        0.0\n",
       "PKatt     0.0\n",
       "xG        1.0\n",
       "npxG      1.0\n",
       "npxG/Sh   0.0\n",
       "G-xG     -0.0\n",
       "np:G-xG  -0.0"
      ]
     },
     "execution_count": 728,
     "metadata": {},
     "output_type": "execute_result"
    }
   ],
   "source": [
    "CURRENT_DATAFRAME[NUMERIC_DATAFRAME_COLUMNS].describe().loc[['count','min', 'mean', 'max']].T[[\"mean\"]].apply(round)"
   ]
  },
  {
   "cell_type": "code",
   "execution_count": 729,
   "id": "0a570533-93a0-4289-8ca6-1ff53e376104",
   "metadata": {},
   "outputs": [],
   "source": [
    "merged_df_1 = pd.merge(CURRENT_DATAFRAME, team_ratings, on=\"Club\", how=\"inner\")  \n",
    "merged_df = pd.merge(merged_df_1, team_ratings, left_on=\"Opponent\", right_on=\"fbref_name\", how=\"inner\")  "
   ]
  },
  {
   "cell_type": "code",
   "execution_count": 730,
   "id": "ecb5b856-ebb4-4e0b-a8f1-549c8eb0ebb0",
   "metadata": {},
   "outputs": [],
   "source": [
    "merged_df[\"Versus_Title\"] = merged_df.Club_x + \" plays vs \" + \\\n",
    "                             merged_df.Club_y + \" as \" + merged_df.Venue + \" team\""
   ]
  },
  {
   "cell_type": "code",
   "execution_count": 731,
   "id": "9ed2756c-c372-4bcc-b87f-13952f98aebd",
   "metadata": {},
   "outputs": [],
   "source": [
    "MERGED_NUMERIC_DATAFRAME_COLUMNS = list(merged_df.select_dtypes(exclude=\"object\").columns)"
   ]
  },
  {
   "cell_type": "code",
   "execution_count": 732,
   "id": "40ef57d9-5299-4d90-aab1-7239d9f42bd2",
   "metadata": {},
   "outputs": [
    {
     "data": {
      "text/plain": [
       "Club_x                                                Manchester City\n",
       "Club_y                                                West Ham United\n",
       "Versus_Title        Manchester City plays vs West Ham United as Aw...\n",
       "Date                                                       2022-08-07\n",
       "GF                                                                2.0\n",
       "                                          ...                        \n",
       "Marking_y                                                          80\n",
       "Passing_y                                                          67\n",
       "Penalty Taking_y                                                   68\n",
       "Tackling_y                                                         84\n",
       "Technique_y                                                        75\n",
       "Name: 0, Length: 101, dtype: object"
      ]
     },
     "execution_count": 732,
     "metadata": {},
     "output_type": "execute_result"
    }
   ],
   "source": [
    "reg_df = merged_df[['Club_x','Club_y',\"Versus_Title\",\"Date\"] + MERGED_NUMERIC_DATAFRAME_COLUMNS] \n",
    "reg_df.iloc[0]"
   ]
  },
  {
   "cell_type": "markdown",
   "id": "a279e009-2276-4aa1-b216-143edec81434",
   "metadata": {},
   "source": [
    "<br><br><br><br><br><br><br><br>\n",
    "<h2 style=\"color:white;background:red;\">  Regression to get Feature Importance</h2>"
   ]
  },
  {
   "cell_type": "code",
   "execution_count": 733,
   "id": "b26139de-2631-4433-96f3-94c99d66d3f8",
   "metadata": {},
   "outputs": [],
   "source": [
    "import pandas as pd\n",
    "import numpy as np\n",
    "from sklearn.model_selection import train_test_split\n",
    "from sklearn.linear_model import LinearRegression\n",
    "from sklearn.metrics import mean_squared_error, r2_score\n",
    "from sklearn.preprocessing import StandardScaler\n",
    "import seaborn as sns\n",
    "import matplotlib.pyplot as plt"
   ]
  },
  {
   "cell_type": "code",
   "execution_count": 734,
   "id": "8a40890a-583b-41d1-ba62-87899fd84ea5",
   "metadata": {},
   "outputs": [],
   "source": [
    "formula_df = pd.DataFrame(index=tpr_cols)\n",
    "np.random.seed(0)\n",
    "df = reg_df.dropna(axis=0)\n",
    "\n",
    "\n",
    "\n",
    "for attribute in NUMERIC_DATAFRAME_COLUMNS:\n",
    "    X = df[tpr_cols]\n",
    "    Y = df[[attribute]]\n",
    "    \n",
    "    X_train, X_test, Y_train, Y_test = train_test_split(X, Y, test_size=0.2, random_state=0)\n",
    "    model = LinearRegression()\n",
    "    model.fit(X_train, Y_train)\n",
    "    Y_pred = model.predict(X_test)\n",
    "    \n",
    "    coef_column_name = f\"{attribute}_coef\"\n",
    "    intercept_column_name = f\"{attribute}_intercept\"\n",
    "    formula_df[coef_column_name] = model.coef_.flatten()\n",
    "    formula_df[intercept_column_name] = model.intercept_[0]\n",
    "\n",
    "    mse = mean_squared_error(Y_test, Y_pred)\n",
    "    r2 = r2_score(Y_test, Y_pred)\n",
    "    # print(f'{attribute} --- Mean Squared Error: {mse}')\n",
    "    # print(f'{attribute} --- R^2 Score: {r2}')\n",
    "    # print(\"\\n\")"
   ]
  },
  {
   "cell_type": "code",
   "execution_count": 735,
   "id": "19f95d26-7768-4207-9213-2aa83cd67f84",
   "metadata": {
    "scrolled": true
   },
   "outputs": [],
   "source": [
    "with pd.ExcelWriter(f\"{CURRENT_DATAFRAME_NAME}_Standardized_coefficients.xlsx\") as writer:\n",
    "    formula_df[formula_df.index.str.contains(\"_x\")].to_excel(writer, index=True, sheet_name=\"x\")\n",
    "    formula_df[formula_df.index.str.contains(\"_y\")].to_excel(writer, index=True, sheet_name=\"y\")"
   ]
  },
  {
   "cell_type": "markdown",
   "id": "8ff70f88-d0f9-40ef-a369-1427e33c2881",
   "metadata": {},
   "source": [
    "<br><br><br><br>"
   ]
  },
  {
   "cell_type": "markdown",
   "id": "8b8c38d1-0d68-451f-a825-62f6989a703c",
   "metadata": {},
   "source": [
    "<br><br><br><br><br><br><br><br>\n",
    "<h2 style=\"color:#33FF49;background:blue;\">  Regression for One Atrribute</h2>"
   ]
  },
  {
   "cell_type": "code",
   "execution_count": 736,
   "id": "9403cf3c-6c68-4b11-bfa3-8d433ec13e51",
   "metadata": {},
   "outputs": [],
   "source": [
    "attribute = \"Sh\""
   ]
  },
  {
   "cell_type": "code",
   "execution_count": 737,
   "id": "775861c7-6fc9-4d84-b0ee-d1e0b22b10c5",
   "metadata": {},
   "outputs": [],
   "source": [
    "tpr_x_dict = {\n",
    "    \"tpr_x\": None,\n",
    "    \"Acceleration_x\": None,\n",
    "    \"Technique_x\": None,\n",
    "    \"Finishing_x\": None,\n",
    "    \"Composure_x\": None,\n",
    "    \"Agility_x\": None,\n",
    "    \"Long Shots_x\": None,\n",
    "    \"Off the Ball_x\": None,\n",
    "    \"Teamwork_x\": None,\n",
    "    \"Work Rate_x\": None,\n",
    "    \"First Touch_x\": None\n",
    "}"
   ]
  },
  {
   "cell_type": "code",
   "execution_count": 738,
   "id": "ade34ae7-4bf9-4e3b-bebb-7cf8530812d3",
   "metadata": {},
   "outputs": [],
   "source": [
    "tpr_y_dict = {\n",
    "    \"tpr_y\": None,\n",
    "    \"Acceleration_y\": None,\n",
    "    \"Off the Ball_y\": None,\n",
    "    \"Agility_y\": None,\n",
    "    \"Work Rate_y\": None,\n",
    "    \"Decisions_y\": None,\n",
    "    \"Teamwork_y\": None,\n",
    "    \"Balance_y\": None,\n",
    "    \"Positioning_y\": None,\n",
    "    \"Marking_y\": None\n",
    "}"
   ]
  },
  {
   "cell_type": "code",
   "execution_count": 739,
   "id": "054f9096-7528-41fe-9ba9-b32fbee7f4c7",
   "metadata": {},
   "outputs": [],
   "source": [
    "# https://fbref.com/en/matches/5965a1a5/Bayern-Munich-Bochum-February-11-2023-Bundesliga\n",
    "# row_index= 3221 # for Bayern\n",
    "# row_index2222= 3758 # for Bochum\n",
    "\n",
    "row_index2222= 687 # for Liverpool\n",
    "row_index= 356 # for Arsenal\n",
    "\n",
    "x_cols = tpr_x_dict.keys()\n",
    "y_cols = tpr_y_dict.keys()\n",
    "\n",
    "tpr_x_custom_data = reg_df[x_cols].iloc[row_index].to_dict()\n",
    "tpr_y_custom_data = reg_df[y_cols].iloc[row_index].to_dict()\n",
    "\n",
    "custom_data = {**tpr_x_custom_data, **tpr_y_custom_data}\n",
    "custom_cols = custom_data.keys()"
   ]
  },
  {
   "cell_type": "code",
   "execution_count": 740,
   "id": "c6686203-c0dd-4f15-a136-99b26ce4ab1f",
   "metadata": {},
   "outputs": [],
   "source": [
    "special_formula_df = pd.DataFrame(index=custom_cols)\n",
    "\n",
    "df_to_custom = df.copy()\n",
    "X = df_to_custom[custom_cols]\n",
    "Y = df_to_custom[[attribute]]\n",
    "\n",
    "X_train, X_test, Y_train, Y_test = train_test_split(X, Y, test_size=0.2, random_state=0)\n",
    "model = LinearRegression()\n",
    "model.fit(X_train, Y_train)\n",
    "Y_pred = model.predict(X_test)\n",
    "\n",
    "coef_column_name = f\"{attribute}_coef\"\n",
    "intercept_column_name = f\"{attribute}_intercept\"\n",
    "special_formula_df[coef_column_name] = model.coef_.flatten()\n",
    "special_formula_df[intercept_column_name] = model.intercept_[0]\n",
    "\n",
    "mse = mean_squared_error(Y_test, Y_pred)\n",
    "r2 = r2_score(Y_test, Y_pred)"
   ]
  },
  {
   "cell_type": "code",
   "execution_count": 741,
   "id": "396e3ea7-da79-425d-9e83-dace76a4c124",
   "metadata": {},
   "outputs": [
    {
     "data": {
      "text/html": [
       "<div>\n",
       "<style scoped>\n",
       "    .dataframe tbody tr th:only-of-type {\n",
       "        vertical-align: middle;\n",
       "    }\n",
       "\n",
       "    .dataframe tbody tr th {\n",
       "        vertical-align: top;\n",
       "    }\n",
       "\n",
       "    .dataframe thead th {\n",
       "        text-align: right;\n",
       "    }\n",
       "</style>\n",
       "<table border=\"1\" class=\"dataframe\">\n",
       "  <thead>\n",
       "    <tr style=\"text-align: right;\">\n",
       "      <th></th>\n",
       "      <th>Sh_coef</th>\n",
       "      <th>Sh_intercept</th>\n",
       "    </tr>\n",
       "  </thead>\n",
       "  <tbody>\n",
       "    <tr>\n",
       "      <th>tpr_x</th>\n",
       "      <td>0.053923</td>\n",
       "      <td>7.156097</td>\n",
       "    </tr>\n",
       "    <tr>\n",
       "      <th>Acceleration_x</th>\n",
       "      <td>0.075491</td>\n",
       "      <td>7.156097</td>\n",
       "    </tr>\n",
       "    <tr>\n",
       "      <th>Technique_x</th>\n",
       "      <td>0.039570</td>\n",
       "      <td>7.156097</td>\n",
       "    </tr>\n",
       "    <tr>\n",
       "      <th>Finishing_x</th>\n",
       "      <td>0.048069</td>\n",
       "      <td>7.156097</td>\n",
       "    </tr>\n",
       "    <tr>\n",
       "      <th>Composure_x</th>\n",
       "      <td>0.035349</td>\n",
       "      <td>7.156097</td>\n",
       "    </tr>\n",
       "    <tr>\n",
       "      <th>Agility_x</th>\n",
       "      <td>0.042280</td>\n",
       "      <td>7.156097</td>\n",
       "    </tr>\n",
       "    <tr>\n",
       "      <th>Long Shots_x</th>\n",
       "      <td>0.012894</td>\n",
       "      <td>7.156097</td>\n",
       "    </tr>\n",
       "    <tr>\n",
       "      <th>Off the Ball_x</th>\n",
       "      <td>0.010816</td>\n",
       "      <td>7.156097</td>\n",
       "    </tr>\n",
       "    <tr>\n",
       "      <th>Teamwork_x</th>\n",
       "      <td>-0.004660</td>\n",
       "      <td>7.156097</td>\n",
       "    </tr>\n",
       "    <tr>\n",
       "      <th>Work Rate_x</th>\n",
       "      <td>-0.012789</td>\n",
       "      <td>7.156097</td>\n",
       "    </tr>\n",
       "    <tr>\n",
       "      <th>First Touch_x</th>\n",
       "      <td>-0.064241</td>\n",
       "      <td>7.156097</td>\n",
       "    </tr>\n",
       "    <tr>\n",
       "      <th>tpr_y</th>\n",
       "      <td>-0.211512</td>\n",
       "      <td>7.156097</td>\n",
       "    </tr>\n",
       "    <tr>\n",
       "      <th>Acceleration_y</th>\n",
       "      <td>-0.018513</td>\n",
       "      <td>7.156097</td>\n",
       "    </tr>\n",
       "    <tr>\n",
       "      <th>Off the Ball_y</th>\n",
       "      <td>0.007856</td>\n",
       "      <td>7.156097</td>\n",
       "    </tr>\n",
       "    <tr>\n",
       "      <th>Agility_y</th>\n",
       "      <td>-0.032675</td>\n",
       "      <td>7.156097</td>\n",
       "    </tr>\n",
       "    <tr>\n",
       "      <th>Work Rate_y</th>\n",
       "      <td>0.028549</td>\n",
       "      <td>7.156097</td>\n",
       "    </tr>\n",
       "    <tr>\n",
       "      <th>Decisions_y</th>\n",
       "      <td>-0.027253</td>\n",
       "      <td>7.156097</td>\n",
       "    </tr>\n",
       "    <tr>\n",
       "      <th>Teamwork_y</th>\n",
       "      <td>-0.018339</td>\n",
       "      <td>7.156097</td>\n",
       "    </tr>\n",
       "    <tr>\n",
       "      <th>Balance_y</th>\n",
       "      <td>0.051997</td>\n",
       "      <td>7.156097</td>\n",
       "    </tr>\n",
       "    <tr>\n",
       "      <th>Positioning_y</th>\n",
       "      <td>0.022671</td>\n",
       "      <td>7.156097</td>\n",
       "    </tr>\n",
       "    <tr>\n",
       "      <th>Marking_y</th>\n",
       "      <td>0.033626</td>\n",
       "      <td>7.156097</td>\n",
       "    </tr>\n",
       "  </tbody>\n",
       "</table>\n",
       "</div>"
      ],
      "text/plain": [
       "                 Sh_coef  Sh_intercept\n",
       "tpr_x           0.053923      7.156097\n",
       "Acceleration_x  0.075491      7.156097\n",
       "Technique_x     0.039570      7.156097\n",
       "Finishing_x     0.048069      7.156097\n",
       "Composure_x     0.035349      7.156097\n",
       "Agility_x       0.042280      7.156097\n",
       "Long Shots_x    0.012894      7.156097\n",
       "Off the Ball_x  0.010816      7.156097\n",
       "Teamwork_x     -0.004660      7.156097\n",
       "Work Rate_x    -0.012789      7.156097\n",
       "First Touch_x  -0.064241      7.156097\n",
       "tpr_y          -0.211512      7.156097\n",
       "Acceleration_y -0.018513      7.156097\n",
       "Off the Ball_y  0.007856      7.156097\n",
       "Agility_y      -0.032675      7.156097\n",
       "Work Rate_y     0.028549      7.156097\n",
       "Decisions_y    -0.027253      7.156097\n",
       "Teamwork_y     -0.018339      7.156097\n",
       "Balance_y       0.051997      7.156097\n",
       "Positioning_y   0.022671      7.156097\n",
       "Marking_y       0.033626      7.156097"
      ]
     },
     "execution_count": 741,
     "metadata": {},
     "output_type": "execute_result"
    }
   ],
   "source": [
    "special_formula_df"
   ]
  },
  {
   "cell_type": "code",
   "execution_count": 742,
   "id": "945f8924-af40-41a0-b274-29c878c4cf8e",
   "metadata": {},
   "outputs": [
    {
     "data": {
      "text/plain": [
       "'2022-10-09'"
      ]
     },
     "execution_count": 742,
     "metadata": {},
     "output_type": "execute_result"
    }
   ],
   "source": [
    "query = reg_df.query(\"Versus_Title == 'Arsenal plays vs Liverpool as Home team'\")\n",
    "query2 = reg_df.query(\"Versus_Title == 'Liverpool plays vs Arsenal as Home team'\")\n",
    "query.iloc[0].Date\n",
    "query.iloc[0].name\n",
    "query.iloc[0].Date"
   ]
  },
  {
   "cell_type": "code",
   "execution_count": 743,
   "id": "b202dd96-fa03-4c84-8eb8-07901cad27a0",
   "metadata": {},
   "outputs": [],
   "source": [
    "custom_tpr_df = pd.DataFrame(custom_data, index=[\"tpr_value\"]).T"
   ]
  },
  {
   "cell_type": "code",
   "execution_count": 744,
   "id": "89d5e82f-aa17-49df-a029-45092eae9861",
   "metadata": {},
   "outputs": [],
   "source": [
    "custom_tpr_df[f\"{attribute}_coef\"] = special_formula_df[f\"{attribute}_coef\"][custom_cols].tolist()\n",
    "custom_tpr_df[f\"{attribute}_intercept\"] = special_formula_df[f\"{attribute}_intercept\"][custom_cols].tolist()\n",
    "custom_tpr_df[\"coef_result\"] = custom_tpr_df[f\"{attribute}_coef\"] * custom_tpr_df[\"tpr_value\"]\n",
    "custom_tpr_df[\"formula_result\"] = custom_tpr_df[\"coef_result\"].sum() + custom_tpr_df[f\"{attribute}_intercept\"].iloc[0]\n",
    "custom_tpr_df[\"formula_result\"] = round(custom_tpr_df[\"formula_result\"].iloc[0])"
   ]
  },
  {
   "cell_type": "code",
   "execution_count": 745,
   "id": "87d49f64-f105-476d-bdb4-88b7c6e112dc",
   "metadata": {},
   "outputs": [
    {
     "data": {
      "text/html": [
       "<div>\n",
       "<style scoped>\n",
       "    .dataframe tbody tr th:only-of-type {\n",
       "        vertical-align: middle;\n",
       "    }\n",
       "\n",
       "    .dataframe tbody tr th {\n",
       "        vertical-align: top;\n",
       "    }\n",
       "\n",
       "    .dataframe thead th {\n",
       "        text-align: right;\n",
       "    }\n",
       "</style>\n",
       "<table border=\"1\" class=\"dataframe\">\n",
       "  <thead>\n",
       "    <tr style=\"text-align: right;\">\n",
       "      <th></th>\n",
       "      <th>tpr_value</th>\n",
       "      <th>Sh_coef</th>\n",
       "      <th>Sh_intercept</th>\n",
       "      <th>coef_result</th>\n",
       "      <th>formula_result</th>\n",
       "    </tr>\n",
       "  </thead>\n",
       "  <tbody>\n",
       "    <tr>\n",
       "      <th>tpr_x</th>\n",
       "      <td>79</td>\n",
       "      <td>0.053923</td>\n",
       "      <td>7.156097</td>\n",
       "      <td>4.259939</td>\n",
       "      <td>12</td>\n",
       "    </tr>\n",
       "    <tr>\n",
       "      <th>Acceleration_x</th>\n",
       "      <td>85</td>\n",
       "      <td>0.075491</td>\n",
       "      <td>7.156097</td>\n",
       "      <td>6.416749</td>\n",
       "      <td>12</td>\n",
       "    </tr>\n",
       "    <tr>\n",
       "      <th>Technique_x</th>\n",
       "      <td>78</td>\n",
       "      <td>0.039570</td>\n",
       "      <td>7.156097</td>\n",
       "      <td>3.086436</td>\n",
       "      <td>12</td>\n",
       "    </tr>\n",
       "    <tr>\n",
       "      <th>Finishing_x</th>\n",
       "      <td>74</td>\n",
       "      <td>0.048069</td>\n",
       "      <td>7.156097</td>\n",
       "      <td>3.557142</td>\n",
       "      <td>12</td>\n",
       "    </tr>\n",
       "    <tr>\n",
       "      <th>Composure_x</th>\n",
       "      <td>70</td>\n",
       "      <td>0.035349</td>\n",
       "      <td>7.156097</td>\n",
       "      <td>2.474402</td>\n",
       "      <td>12</td>\n",
       "    </tr>\n",
       "    <tr>\n",
       "      <th>Agility_x</th>\n",
       "      <td>80</td>\n",
       "      <td>0.042280</td>\n",
       "      <td>7.156097</td>\n",
       "      <td>3.382416</td>\n",
       "      <td>12</td>\n",
       "    </tr>\n",
       "    <tr>\n",
       "      <th>Long Shots_x</th>\n",
       "      <td>77</td>\n",
       "      <td>0.012894</td>\n",
       "      <td>7.156097</td>\n",
       "      <td>0.992804</td>\n",
       "      <td>12</td>\n",
       "    </tr>\n",
       "    <tr>\n",
       "      <th>Off the Ball_x</th>\n",
       "      <td>75</td>\n",
       "      <td>0.010816</td>\n",
       "      <td>7.156097</td>\n",
       "      <td>0.811197</td>\n",
       "      <td>12</td>\n",
       "    </tr>\n",
       "    <tr>\n",
       "      <th>Teamwork_x</th>\n",
       "      <td>86</td>\n",
       "      <td>-0.004660</td>\n",
       "      <td>7.156097</td>\n",
       "      <td>-0.400771</td>\n",
       "      <td>12</td>\n",
       "    </tr>\n",
       "    <tr>\n",
       "      <th>Work Rate_x</th>\n",
       "      <td>78</td>\n",
       "      <td>-0.012789</td>\n",
       "      <td>7.156097</td>\n",
       "      <td>-0.997574</td>\n",
       "      <td>12</td>\n",
       "    </tr>\n",
       "    <tr>\n",
       "      <th>First Touch_x</th>\n",
       "      <td>72</td>\n",
       "      <td>-0.064241</td>\n",
       "      <td>7.156097</td>\n",
       "      <td>-4.625352</td>\n",
       "      <td>12</td>\n",
       "    </tr>\n",
       "    <tr>\n",
       "      <th>tpr_y</th>\n",
       "      <td>89</td>\n",
       "      <td>-0.211512</td>\n",
       "      <td>7.156097</td>\n",
       "      <td>-18.824609</td>\n",
       "      <td>12</td>\n",
       "    </tr>\n",
       "    <tr>\n",
       "      <th>Acceleration_y</th>\n",
       "      <td>85</td>\n",
       "      <td>-0.018513</td>\n",
       "      <td>7.156097</td>\n",
       "      <td>-1.573619</td>\n",
       "      <td>12</td>\n",
       "    </tr>\n",
       "    <tr>\n",
       "      <th>Off the Ball_y</th>\n",
       "      <td>77</td>\n",
       "      <td>0.007856</td>\n",
       "      <td>7.156097</td>\n",
       "      <td>0.604913</td>\n",
       "      <td>12</td>\n",
       "    </tr>\n",
       "    <tr>\n",
       "      <th>Agility_y</th>\n",
       "      <td>87</td>\n",
       "      <td>-0.032675</td>\n",
       "      <td>7.156097</td>\n",
       "      <td>-2.842723</td>\n",
       "      <td>12</td>\n",
       "    </tr>\n",
       "    <tr>\n",
       "      <th>Work Rate_y</th>\n",
       "      <td>85</td>\n",
       "      <td>0.028549</td>\n",
       "      <td>7.156097</td>\n",
       "      <td>2.426649</td>\n",
       "      <td>12</td>\n",
       "    </tr>\n",
       "    <tr>\n",
       "      <th>Decisions_y</th>\n",
       "      <td>82</td>\n",
       "      <td>-0.027253</td>\n",
       "      <td>7.156097</td>\n",
       "      <td>-2.234781</td>\n",
       "      <td>12</td>\n",
       "    </tr>\n",
       "    <tr>\n",
       "      <th>Teamwork_y</th>\n",
       "      <td>88</td>\n",
       "      <td>-0.018339</td>\n",
       "      <td>7.156097</td>\n",
       "      <td>-1.613830</td>\n",
       "      <td>12</td>\n",
       "    </tr>\n",
       "    <tr>\n",
       "      <th>Balance_y</th>\n",
       "      <td>86</td>\n",
       "      <td>0.051997</td>\n",
       "      <td>7.156097</td>\n",
       "      <td>4.471775</td>\n",
       "      <td>12</td>\n",
       "    </tr>\n",
       "    <tr>\n",
       "      <th>Positioning_y</th>\n",
       "      <td>92</td>\n",
       "      <td>0.022671</td>\n",
       "      <td>7.156097</td>\n",
       "      <td>2.085730</td>\n",
       "      <td>12</td>\n",
       "    </tr>\n",
       "    <tr>\n",
       "      <th>Marking_y</th>\n",
       "      <td>89</td>\n",
       "      <td>0.033626</td>\n",
       "      <td>7.156097</td>\n",
       "      <td>2.992694</td>\n",
       "      <td>12</td>\n",
       "    </tr>\n",
       "  </tbody>\n",
       "</table>\n",
       "</div>"
      ],
      "text/plain": [
       "                tpr_value   Sh_coef  Sh_intercept  coef_result  formula_result\n",
       "tpr_x                  79  0.053923      7.156097     4.259939              12\n",
       "Acceleration_x         85  0.075491      7.156097     6.416749              12\n",
       "Technique_x            78  0.039570      7.156097     3.086436              12\n",
       "Finishing_x            74  0.048069      7.156097     3.557142              12\n",
       "Composure_x            70  0.035349      7.156097     2.474402              12\n",
       "Agility_x              80  0.042280      7.156097     3.382416              12\n",
       "Long Shots_x           77  0.012894      7.156097     0.992804              12\n",
       "Off the Ball_x         75  0.010816      7.156097     0.811197              12\n",
       "Teamwork_x             86 -0.004660      7.156097    -0.400771              12\n",
       "Work Rate_x            78 -0.012789      7.156097    -0.997574              12\n",
       "First Touch_x          72 -0.064241      7.156097    -4.625352              12\n",
       "tpr_y                  89 -0.211512      7.156097   -18.824609              12\n",
       "Acceleration_y         85 -0.018513      7.156097    -1.573619              12\n",
       "Off the Ball_y         77  0.007856      7.156097     0.604913              12\n",
       "Agility_y              87 -0.032675      7.156097    -2.842723              12\n",
       "Work Rate_y            85  0.028549      7.156097     2.426649              12\n",
       "Decisions_y            82 -0.027253      7.156097    -2.234781              12\n",
       "Teamwork_y             88 -0.018339      7.156097    -1.613830              12\n",
       "Balance_y              86  0.051997      7.156097     4.471775              12\n",
       "Positioning_y          92  0.022671      7.156097     2.085730              12\n",
       "Marking_y              89  0.033626      7.156097     2.992694              12"
      ]
     },
     "execution_count": 745,
     "metadata": {},
     "output_type": "execute_result"
    }
   ],
   "source": [
    "custom_tpr_df"
   ]
  },
  {
   "cell_type": "code",
   "execution_count": 746,
   "id": "8fcf4057-7a1a-49bc-a6df-4d39da863f67",
   "metadata": {},
   "outputs": [
    {
     "data": {
      "text/plain": [
       "tpr_x             79\n",
       "Acceleration_x    85\n",
       "Technique_x       78\n",
       "Finishing_x       74\n",
       "Composure_x       70\n",
       "Agility_x         80\n",
       "Long Shots_x      77\n",
       "Off the Ball_x    75\n",
       "Teamwork_x        86\n",
       "Work Rate_x       78\n",
       "First Touch_x     72\n",
       "tpr_y             89\n",
       "Acceleration_y    85\n",
       "Off the Ball_y    77\n",
       "Agility_y         87\n",
       "Work Rate_y       85\n",
       "Decisions_y       82\n",
       "Teamwork_y        88\n",
       "Balance_y         86\n",
       "Positioning_y     92\n",
       "Marking_y         89\n",
       "Name: tpr_value, dtype: int64"
      ]
     },
     "execution_count": 746,
     "metadata": {},
     "output_type": "execute_result"
    }
   ],
   "source": [
    "custom_tpr_df.loc[:, \"tpr_value\"]"
   ]
  },
  {
   "cell_type": "code",
   "execution_count": 747,
   "id": "ce74765e-be2a-418f-be5e-2e64c371ea17",
   "metadata": {},
   "outputs": [
    {
     "data": {
      "text/plain": [
       "Index(['tpr_x', 'Acceleration_x', 'Technique_x', 'Finishing_x', 'Composure_x',\n",
       "       'Agility_x', 'Long Shots_x', 'Off the Ball_x', 'Teamwork_x',\n",
       "       'Work Rate_x', 'First Touch_x', 'tpr_y', 'Acceleration_y',\n",
       "       'Off the Ball_y', 'Agility_y', 'Work Rate_y', 'Decisions_y',\n",
       "       'Teamwork_y', 'Balance_y', 'Positioning_y', 'Marking_y'],\n",
       "      dtype='object')"
      ]
     },
     "execution_count": 747,
     "metadata": {},
     "output_type": "execute_result"
    }
   ],
   "source": [
    "custom_tpr_df.index"
   ]
  },
  {
   "cell_type": "code",
   "execution_count": 748,
   "id": "d0742256-49cf-4876-87c6-41acf0d03bdb",
   "metadata": {},
   "outputs": [
    {
     "data": {
      "text/plain": [
       "['x', 'y', 'z']"
      ]
     },
     "execution_count": 748,
     "metadata": {},
     "output_type": "execute_result"
    }
   ],
   "source": [
    "json.loads('[\"x\",\"y\",\"z\"]')\n"
   ]
  },
  {
   "cell_type": "markdown",
   "id": "b6e5d00e-f2c0-4d0c-b3c9-365fa7e8bbb1",
   "metadata": {},
   "source": [
    "<br><br><br><br><br><br><br><br>\n",
    "<h2 style=\"color:blue;background:aqua;\">  Error Rates</h2>"
   ]
  },
  {
   "cell_type": "code",
   "execution_count": null,
   "id": "20b92464-42cb-4c5e-9455-8767255f0acc",
   "metadata": {},
   "outputs": [],
   "source": []
  },
  {
   "cell_type": "code",
   "execution_count": null,
   "id": "93904b94-d228-427d-9e72-d470b44e4676",
   "metadata": {},
   "outputs": [],
   "source": []
  },
  {
   "cell_type": "code",
   "execution_count": null,
   "id": "8465cd4f-ceb2-4a3b-8eb1-29a6f8c2cea4",
   "metadata": {},
   "outputs": [],
   "source": []
  }
 ],
 "metadata": {
  "kernelspec": {
   "display_name": "Python 3 (ipykernel)",
   "language": "python",
   "name": "python3"
  },
  "language_info": {
   "codemirror_mode": {
    "name": "ipython",
    "version": 3
   },
   "file_extension": ".py",
   "mimetype": "text/x-python",
   "name": "python",
   "nbconvert_exporter": "python",
   "pygments_lexer": "ipython3",
   "version": "3.11.7"
  }
 },
 "nbformat": 4,
 "nbformat_minor": 5
}
