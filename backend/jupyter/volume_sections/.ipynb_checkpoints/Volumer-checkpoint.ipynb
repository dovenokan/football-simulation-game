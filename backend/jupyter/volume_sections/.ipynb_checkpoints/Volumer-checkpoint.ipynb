{
 "cells": [
  {
   "cell_type": "code",
   "execution_count": 1,
   "id": "4eb1678c-7551-4975-9050-e1565d189834",
   "metadata": {},
   "outputs": [],
   "source": [
    "import pandas as pd\n",
    "import numpy as np\n",
    "import os\n",
    "import sys\n",
    "import math\n",
    "import json\n",
    "from sklearn.model_selection import train_test_split\n",
    "from sklearn.linear_model import LinearRegression\n",
    "from sklearn.metrics import mean_squared_error, r2_score\n",
    "from sklearn.preprocessing import StandardScaler\n",
    "import seaborn as sns\n",
    "import matplotlib.pyplot as plt\n",
    "from mplsoccer.pitch import Pitch\n",
    "import matplotlib.patches as patches\n",
    "from statsbombpy import sb\n",
    "from statsbombpy.api_client import NoAuthWarning\n",
    "from collections import Counter"
   ]
  },
  {
   "cell_type": "code",
   "execution_count": 2,
   "id": "54185400-e4e9-4fc3-811f-f5e755ce79e4",
   "metadata": {},
   "outputs": [],
   "source": [
    "import warnings\n",
    "from sklearn.exceptions import UndefinedMetricWarning\n",
    "from pandas.errors import SettingWithCopyWarning\n",
    "warnings.filterwarnings(action='ignore', category=UndefinedMetricWarning)\n",
    "warnings.simplefilter(action='ignore', category=(SettingWithCopyWarning))\n",
    "warnings.simplefilter(action='ignore', category=(FutureWarning))\n",
    "warnings.simplefilter(action='ignore', category=NoAuthWarning)\n",
    "warnings.simplefilter(action='ignore', category=RuntimeWarning)"
   ]
  },
  {
   "cell_type": "code",
   "execution_count": 3,
   "id": "686e33dc-d271-44f5-94d2-04afed5404d0",
   "metadata": {},
   "outputs": [],
   "source": [
    "parent_dir = os.path.abspath(os.path.join(os.path.dirname(\"./\"), '..'))\n",
    "sys.path.append(parent_dir)\n",
    "from tools.lineup_tpr import LineupTPR"
   ]
  },
  {
   "cell_type": "markdown",
   "id": "eaef8673-ce62-450d-9724-4de681ff7ccb",
   "metadata": {},
   "source": [
    "<br><br><br><br><br><br><br><br>\n",
    "<h2 style=\"color:black;background:white;\">Start</h2>"
   ]
  },
  {
   "cell_type": "code",
   "execution_count": 4,
   "id": "8247c91a-81dd-46c5-a57b-56a6b9044876",
   "metadata": {},
   "outputs": [],
   "source": [
    "defense = pd.read_csv(\"../match_logs/Big5@22-23@defense.csv\")\n",
    "gca = pd.read_csv(\"../match_logs/Big5@22-23@gca.csv\")\n",
    "keeper = pd.read_csv(\"../match_logs/Big5@22-23@keeper.csv\")\n",
    "misc = pd.read_csv(\"../match_logs/Big5@22-23@misc.csv\")\n",
    "passing = pd.read_csv(\"../match_logs/Big5@22-23@passing.csv\")\n",
    "passing_types = pd.read_csv(\"../match_logs/Big5@22-23@passing_types.csv\")\n",
    "possession = pd.read_csv(\"../match_logs/Big5@22-23@possession.csv\")\n",
    "shooting = pd.read_csv(\"../match_logs/Big5@22-23@shooting.csv\")"
   ]
  },
  {
   "cell_type": "code",
   "execution_count": 5,
   "id": "9b8201ae-0d10-4f5a-88a2-06ecd7ebc5ae",
   "metadata": {},
   "outputs": [
    {
     "data": {
      "text/html": [
       "<div>\n",
       "<style scoped>\n",
       "    .dataframe tbody tr th:only-of-type {\n",
       "        vertical-align: middle;\n",
       "    }\n",
       "\n",
       "    .dataframe tbody tr th {\n",
       "        vertical-align: top;\n",
       "    }\n",
       "\n",
       "    .dataframe thead th {\n",
       "        text-align: right;\n",
       "    }\n",
       "</style>\n",
       "<table border=\"1\" class=\"dataframe\">\n",
       "  <thead>\n",
       "    <tr style=\"text-align: right;\">\n",
       "      <th></th>\n",
       "      <th>Club</th>\n",
       "      <th>Name</th>\n",
       "      <th>Best_Pos</th>\n",
       "      <th>tpr</th>\n",
       "    </tr>\n",
       "  </thead>\n",
       "  <tbody>\n",
       "    <tr>\n",
       "      <th>3</th>\n",
       "      <td>FC Bayern</td>\n",
       "      <td>Manuel Neuer</td>\n",
       "      <td>GK</td>\n",
       "      <td>92</td>\n",
       "    </tr>\n",
       "    <tr>\n",
       "      <th>4164</th>\n",
       "      <td>FC Barcelona</td>\n",
       "      <td>Robert Lewandowski</td>\n",
       "      <td>ST</td>\n",
       "      <td>92</td>\n",
       "    </tr>\n",
       "    <tr>\n",
       "      <th>3193</th>\n",
       "      <td>Manchester City</td>\n",
       "      <td>Erling Haaland</td>\n",
       "      <td>ST</td>\n",
       "      <td>90</td>\n",
       "    </tr>\n",
       "    <tr>\n",
       "      <th>3195</th>\n",
       "      <td>Tottenham Hotspur</td>\n",
       "      <td>Harry Kane</td>\n",
       "      <td>ST</td>\n",
       "      <td>90</td>\n",
       "    </tr>\n",
       "    <tr>\n",
       "      <th>4172</th>\n",
       "      <td>FC Barcelona</td>\n",
       "      <td>Marc-André ter Stegen</td>\n",
       "      <td>GK</td>\n",
       "      <td>89</td>\n",
       "    </tr>\n",
       "  </tbody>\n",
       "</table>\n",
       "</div>"
      ],
      "text/plain": [
       "                   Club                   Name Best_Pos  tpr\n",
       "3             FC Bayern           Manuel Neuer       GK   92\n",
       "4164       FC Barcelona     Robert Lewandowski       ST   92\n",
       "3193    Manchester City         Erling Haaland       ST   90\n",
       "3195  Tottenham Hotspur             Harry Kane       ST   90\n",
       "4172       FC Barcelona  Marc-André ter Stegen       GK   89"
      ]
     },
     "execution_count": 5,
     "metadata": {},
     "output_type": "execute_result"
    }
   ],
   "source": [
    "pd.read_csv(\"../players_db/fm23/fm23db_processed.csv\").sort_values(by=\"tpr\",ascending=False)[[\"Club\",\"Name\",\"Best_Pos\",\"tpr\"]].head(5)"
   ]
  },
  {
   "cell_type": "code",
   "execution_count": 6,
   "id": "0e032292-3dee-4090-8d06-9602ad145149",
   "metadata": {},
   "outputs": [],
   "source": [
    "players_df = pd.read_csv(\"../players_db/fm23/fm23db_processed.csv\")"
   ]
  },
  {
   "cell_type": "code",
   "execution_count": 7,
   "id": "98115ce7-e831-4c3a-b6d2-ae8984554f45",
   "metadata": {},
   "outputs": [],
   "source": [
    "team_df = pd.read_csv(\"../players_db/fm23/team_ratings.csv\")\n",
    "team_df_cols = team_df.columns"
   ]
  },
  {
   "cell_type": "code",
   "execution_count": 8,
   "id": "689478e7-1c9c-4de2-b230-787354b42133",
   "metadata": {},
   "outputs": [],
   "source": [
    "tpr_cols = []\n",
    "team_rating_cols_only_numeric = []\n",
    "except_cols = [\"Club\",\"Based\",\"Division\",\"Club_id\",\"League_id\",\"fbref_name\"]\n",
    "\n",
    "for col in team_df_cols:\n",
    "    if col not in except_cols:\n",
    "        team_rating_cols_only_numeric.append(col)\n",
    "        for xy in [\"x\",\"y\"]:\n",
    "            xy_col = f\"{col}_{xy}\"\n",
    "            tpr_cols.append(xy_col)"
   ]
  },
  {
   "cell_type": "code",
   "execution_count": 9,
   "id": "7dd85a72-4e9e-46f1-adeb-5e6ccd87140b",
   "metadata": {},
   "outputs": [
    {
     "data": {
      "text/plain": [
       "76"
      ]
     },
     "execution_count": 9,
     "metadata": {},
     "output_type": "execute_result"
    }
   ],
   "source": [
    "len(tpr_cols)"
   ]
  },
  {
   "cell_type": "code",
   "execution_count": 10,
   "id": "d056adf9-4c36-4214-83c0-6a5cb5998770",
   "metadata": {},
   "outputs": [
    {
     "data": {
      "text/html": [
       "<div>\n",
       "<style scoped>\n",
       "    .dataframe tbody tr th:only-of-type {\n",
       "        vertical-align: middle;\n",
       "    }\n",
       "\n",
       "    .dataframe tbody tr th {\n",
       "        vertical-align: top;\n",
       "    }\n",
       "\n",
       "    .dataframe thead th {\n",
       "        text-align: right;\n",
       "    }\n",
       "</style>\n",
       "<table border=\"1\" class=\"dataframe\">\n",
       "  <thead>\n",
       "    <tr style=\"text-align: right;\">\n",
       "      <th></th>\n",
       "      <th>Club</th>\n",
       "      <th>GK</th>\n",
       "      <th>Based</th>\n",
       "      <th>Division</th>\n",
       "      <th>Club_id</th>\n",
       "      <th>League_id</th>\n",
       "      <th>tpr</th>\n",
       "      <th>Anticipation</th>\n",
       "      <th>Stamina</th>\n",
       "      <th>Balance</th>\n",
       "      <th>...</th>\n",
       "      <th>Corners</th>\n",
       "      <th>Leadership</th>\n",
       "      <th>Teamwork</th>\n",
       "      <th>Strength</th>\n",
       "      <th>Determination</th>\n",
       "      <th>Work_Rate</th>\n",
       "      <th>Long_Shots</th>\n",
       "      <th>Passing</th>\n",
       "      <th>First_Touch</th>\n",
       "      <th>fbref_name</th>\n",
       "    </tr>\n",
       "  </thead>\n",
       "  <tbody>\n",
       "    <tr>\n",
       "      <th>0</th>\n",
       "      <td>FC Bayern</td>\n",
       "      <td>92</td>\n",
       "      <td>Germany (Bundesliga)</td>\n",
       "      <td>Bundesliga</td>\n",
       "      <td>3704</td>\n",
       "      <td>185</td>\n",
       "      <td>92</td>\n",
       "      <td>85</td>\n",
       "      <td>87</td>\n",
       "      <td>77</td>\n",
       "      <td>...</td>\n",
       "      <td>71</td>\n",
       "      <td>87</td>\n",
       "      <td>86</td>\n",
       "      <td>82</td>\n",
       "      <td>88</td>\n",
       "      <td>85</td>\n",
       "      <td>84</td>\n",
       "      <td>76</td>\n",
       "      <td>73</td>\n",
       "      <td>Bayern Munich</td>\n",
       "    </tr>\n",
       "    <tr>\n",
       "      <th>2</th>\n",
       "      <td>Liverpool</td>\n",
       "      <td>86</td>\n",
       "      <td>England (Premier Division)</td>\n",
       "      <td>English Premier Division</td>\n",
       "      <td>6518</td>\n",
       "      <td>354</td>\n",
       "      <td>92</td>\n",
       "      <td>83</td>\n",
       "      <td>85</td>\n",
       "      <td>87</td>\n",
       "      <td>...</td>\n",
       "      <td>78</td>\n",
       "      <td>90</td>\n",
       "      <td>88</td>\n",
       "      <td>81</td>\n",
       "      <td>86</td>\n",
       "      <td>85</td>\n",
       "      <td>66</td>\n",
       "      <td>85</td>\n",
       "      <td>88</td>\n",
       "      <td>Liverpool</td>\n",
       "    </tr>\n",
       "  </tbody>\n",
       "</table>\n",
       "<p>2 rows × 44 columns</p>\n",
       "</div>"
      ],
      "text/plain": [
       "        Club  GK                       Based                  Division  \\\n",
       "0  FC Bayern  92        Germany (Bundesliga)                Bundesliga   \n",
       "2  Liverpool  86  England (Premier Division)  English Premier Division   \n",
       "\n",
       "   Club_id  League_id  tpr  Anticipation  Stamina  Balance  ...  Corners  \\\n",
       "0     3704        185   92            85       87       77  ...       71   \n",
       "2     6518        354   92            83       85       87  ...       78   \n",
       "\n",
       "   Leadership  Teamwork  Strength  Determination  Work_Rate  Long_Shots  \\\n",
       "0          87        86        82             88         85          84   \n",
       "2          90        88        81             86         85          66   \n",
       "\n",
       "   Passing  First_Touch     fbref_name  \n",
       "0       76           73  Bayern Munich  \n",
       "2       85           88      Liverpool  \n",
       "\n",
       "[2 rows x 44 columns]"
      ]
     },
     "execution_count": 10,
     "metadata": {},
     "output_type": "execute_result"
    }
   ],
   "source": [
    "team_df.sort_values(\"tpr\", ascending=False).head(n=2)"
   ]
  },
  {
   "cell_type": "markdown",
   "id": "8bb6f15c-b6a8-4fb4-bd78-104092cfbdc5",
   "metadata": {
    "jp-MarkdownHeadingCollapsed": true
   },
   "source": [
    "<br><br><br><br><br><br><br><br>\n",
    "<h2 style=\"color:orange;background:blue;\">@.  Logs to Regression</h2>"
   ]
  },
  {
   "cell_type": "code",
   "execution_count": 11,
   "id": "34632f08-a385-4da1-865a-ea45ea96f9d2",
   "metadata": {},
   "outputs": [
    {
     "data": {
      "text/plain": [
       "Touches              596.650246\n",
       "Attacking_Touches    518.024357\n",
       "Error                 78.625889\n",
       "dtype: float64"
      ]
     },
     "execution_count": 11,
     "metadata": {},
     "output_type": "execute_result"
    }
   ],
   "source": [
    "touches_df = possession.copy()\n",
    "touches_df[\"Attacking_Touches\"] = possession.Att + passing.Att + shooting.Sh\n",
    "touches_df[\"Error\"] = touches_df[\"Touches\"]-touches_df[\"Attacking_Touches\"]\n",
    "touches_df[[\"Club\",\"Touches\",\"Attacking_Touches\",\"Error\"]].mean(numeric_only=True)"
   ]
  },
  {
   "cell_type": "code",
   "execution_count": 12,
   "id": "61b853a5-53a9-4f81-805c-1c0143aea5ec",
   "metadata": {},
   "outputs": [],
   "source": [
    "ATTRIBUTES_DICT = {\n",
    "    \"passing\":\"Att\",\n",
    "    \"shooting\":\"Sh\",\n",
    "    \"gca\":\"SCA\",\n",
    "    \"possession\":\"Att\",\n",
    "    \"touches_df\":\"Attacking_Touches\"\n",
    "}"
   ]
  },
  {
   "cell_type": "code",
   "execution_count": 13,
   "id": "4c95f7f6-d4ee-4138-a719-fc8938d42c8d",
   "metadata": {},
   "outputs": [],
   "source": [
    "def Prepare_Logs(action_title, action_attribute, team_df):\n",
    "    CURRENT_DATAFRAME_NAME = action_title\n",
    "    attribute = action_attribute\n",
    "    CURRENT_DATAFRAME = globals()[CURRENT_DATAFRAME_NAME]\n",
    "    CURRENT_DATAFRAME[\"Unnamed: 0\"] = \"itsanobject\"\n",
    "    DATAFRAME_COLUMNS = list(CURRENT_DATAFRAME.columns)\n",
    "    NUMERIC_DATAFRAME_COLUMNS = list(CURRENT_DATAFRAME.select_dtypes(exclude=\"object\").columns)\n",
    "    DESCRIBE = CURRENT_DATAFRAME[NUMERIC_DATAFRAME_COLUMNS].describe().loc[['count','min', 'mean', 'max']]\n",
    "    \n",
    "    merged_df_1 = pd.merge(CURRENT_DATAFRAME, team_df, on=\"Club\", how=\"inner\")  \n",
    "    merged_df_2 = pd.merge(merged_df_1, team_df, left_on=\"Opponent\", right_on=\"fbref_name\", how=\"inner\") \n",
    "    merged_df = merged_df_2.copy()\n",
    "    merged_df[\"Versus_Title\"] = merged_df.Club_x + \" plays vs \" + merged_df.Club_y + \" as \" + merged_df.Venue + \" team\"\n",
    "    merged_df[\"tpr_diff\"] = merged_df.tpr_x - merged_df.tpr_y\n",
    "    merged_df[\"tpr_diff_abs\"] = abs(merged_df.tpr_x - merged_df.tpr_y)\n",
    "    merged_df[\"goal_diff\"] = merged_df.GF - merged_df.GA\n",
    "    merged_df[\"goal_diff_abs\"] = abs(merged_df.GF - merged_df.GA)\n",
    "    merged_df = merged_df.query(\"goal_diff > 0 and tpr_diff > 0\")\n",
    "    MERGED_NUMERIC_DATAFRAME_COLUMNS = list(merged_df.select_dtypes(exclude=\"object\").columns)\n",
    "    reg_df = merged_df[['Club_x','Club_y',\"Versus_Title\",\"Date\"] + MERGED_NUMERIC_DATAFRAME_COLUMNS] \n",
    "    return {\n",
    "        \"reg_df\": reg_df.dropna(),\n",
    "        \"merged_df\": merged_df,\n",
    "        \"merged_df_1\": merged_df_1,\n",
    "        \"merged_df_2\": merged_df_2\n",
    "    }"
   ]
  },
  {
   "cell_type": "code",
   "execution_count": 14,
   "id": "4e459cec-2223-4e7f-945f-40734d11dad6",
   "metadata": {},
   "outputs": [
    {
     "data": {
      "text/plain": [
       "tpr_x                                                          72\n",
       "tpr_y                                                          64\n",
       "Versus_Title    Brighton & Hove Albion plays vs Bournemouth as...\n",
       "Date                                                   2023-04-04\n",
       "Name: 71, dtype: object"
      ]
     },
     "execution_count": 14,
     "metadata": {},
     "output_type": "execute_result"
    }
   ],
   "source": [
    "Prepare_Logs(\"shooting\", \"Sh\", team_df)[\"reg_df\"].head(n=254).iloc[25][[\"tpr_x\",\"tpr_y\",\"Versus_Title\",\"Date\"]]"
   ]
  },
  {
   "cell_type": "markdown",
   "id": "a279e009-2276-4aa1-b216-143edec81434",
   "metadata": {},
   "source": [
    "<br><br><br><br>\n",
    "<h2 style=\"color:white;background:darkred;\">  Regression</h2>"
   ]
  },
  {
   "cell_type": "code",
   "execution_count": 15,
   "id": "8a40890a-583b-41d1-ba62-87899fd84ea5",
   "metadata": {},
   "outputs": [],
   "source": [
    "def Logs_to_Regression(action_title, action_attribute, team_df, formula_df, tpr_cols):\n",
    "    attribute = action_attribute\n",
    "    reg_df = Prepare_Logs(action_title, action_attribute, team_df)[\"reg_df\"].dropna(axis=0)\n",
    "    \n",
    "    formula_indexes = formula_df[formula_df.index.str.contains(action_title, case=True)].index.tolist()\n",
    "    formula_cols = [col.replace(f\"{action_title}_\", \"\") for col in formula_indexes] \n",
    "    \n",
    "    NUMERIC_DATAFRAME_COLUMNS = [attribute]\n",
    "    for attribute in NUMERIC_DATAFRAME_COLUMNS:\n",
    "        X = reg_df[formula_cols]\n",
    "        Y = reg_df[[attribute]]\n",
    "        \n",
    "        X_train, X_test, Y_train, Y_test = train_test_split(X, Y, test_size=0.2, random_state=0)\n",
    "        model = LinearRegression()\n",
    "        model.fit(X_train, Y_train)\n",
    "        Y_pred = model.predict(X_test)\n",
    "        \n",
    "        formula_df.loc[formula_indexes, \"coef\"] = model.coef_.flatten()\n",
    "        formula_df.loc[formula_indexes, \"intercept\" ] = model.intercept_[0]\n",
    "    \n",
    "        mse = mean_squared_error(Y_test, Y_pred)\n",
    "        r2 = r2_score(Y_test, Y_pred)\n",
    "        print(f'{action_title}.{attribute} --- Mean Squared Error: {mse}')\n",
    "        print(f'{action_title}.{attribute} --- R^2 Score: {r2}')\n",
    "        # formula_df.to_excel(f\"{action_title.capitalize()}_Coefficients.xlsx\")\n",
    "        return formula_df"
   ]
  },
  {
   "cell_type": "code",
   "execution_count": 16,
   "id": "f32a10e1-8455-4bbf-800e-050996533ad2",
   "metadata": {},
   "outputs": [],
   "source": [
    "attribute_cols = ATTRIBUTES_DICT.keys()\n",
    "formula_indexes = []\n",
    "# tpr_cols = [\"tpr_x\",\"tpr_y\"]\n",
    "for attribute_title in attribute_cols:\n",
    "    for tpr_col in tpr_cols:\n",
    "        action_col = f\"{attribute_title}_{tpr_col}\"\n",
    "        formula_indexes.append(action_col)\n",
    "formula_df = pd.DataFrame(index=formula_indexes)"
   ]
  },
  {
   "cell_type": "code",
   "execution_count": 17,
   "id": "58c03e1b-a754-4a39-a265-bbb5abf1aaac",
   "metadata": {},
   "outputs": [
    {
     "name": "stdout",
     "output_type": "stream",
     "text": [
      "passing.Att --- Mean Squared Error: 9690.455530065823\n",
      "passing.Att --- R^2 Score: 0.3627352007672262\n",
      "shooting.Sh --- Mean Squared Error: 28.08377928064442\n",
      "shooting.Sh --- R^2 Score: -0.09237218833347738\n",
      "gca.SCA --- Mean Squared Error: 65.30240604341209\n",
      "gca.SCA --- R^2 Score: 0.019120086515786783\n",
      "possession.Att --- Mean Squared Error: 34.73106422417757\n",
      "possession.Att --- R^2 Score: 0.04615799755621741\n",
      "touches_df.Attacking_Touches --- Mean Squared Error: 10107.035158708646\n",
      "touches_df.Attacking_Touches --- R^2 Score: 0.37077386475965646\n"
     ]
    }
   ],
   "source": [
    "for title, attribute in ATTRIBUTES_DICT.items():\n",
    "    regression_formula_df = Logs_to_Regression(title, attribute, team_df, formula_df, tpr_cols)"
   ]
  },
  {
   "cell_type": "code",
   "execution_count": 18,
   "id": "b4090219-c739-4ea9-930f-91765c6e916a",
   "metadata": {},
   "outputs": [
    {
     "data": {
      "text/html": [
       "<div>\n",
       "<style scoped>\n",
       "    .dataframe tbody tr th:only-of-type {\n",
       "        vertical-align: middle;\n",
       "    }\n",
       "\n",
       "    .dataframe tbody tr th {\n",
       "        vertical-align: top;\n",
       "    }\n",
       "\n",
       "    .dataframe thead th {\n",
       "        text-align: right;\n",
       "    }\n",
       "</style>\n",
       "<table border=\"1\" class=\"dataframe\">\n",
       "  <thead>\n",
       "    <tr style=\"text-align: right;\">\n",
       "      <th></th>\n",
       "      <th>coef</th>\n",
       "      <th>intercept</th>\n",
       "    </tr>\n",
       "  </thead>\n",
       "  <tbody>\n",
       "    <tr>\n",
       "      <th>touches_df_tpr_x</th>\n",
       "      <td>7.535324</td>\n",
       "      <td>387.620021</td>\n",
       "    </tr>\n",
       "    <tr>\n",
       "      <th>touches_df_tpr_y</th>\n",
       "      <td>-5.133620</td>\n",
       "      <td>387.620021</td>\n",
       "    </tr>\n",
       "  </tbody>\n",
       "</table>\n",
       "</div>"
      ],
      "text/plain": [
       "                      coef   intercept\n",
       "touches_df_tpr_x  7.535324  387.620021\n",
       "touches_df_tpr_y -5.133620  387.620021"
      ]
     },
     "execution_count": 18,
     "metadata": {},
     "output_type": "execute_result"
    }
   ],
   "source": [
    "formula_df[formula_df.index.str.contains(\"touches_df_tpr\", case=True)]"
   ]
  },
  {
   "cell_type": "markdown",
   "id": "8b8c38d1-0d68-451f-a825-62f6989a703c",
   "metadata": {
    "jp-MarkdownHeadingCollapsed": true
   },
   "source": [
    "<br><br><br><br><br><br><br><br>\n",
    "<h2 style=\"color:#33FF49;background:blue;\">  Regression for One Atrribute</h2>"
   ]
  },
  {
   "cell_type": "code",
   "execution_count": 19,
   "id": "d8e8ceaf-5826-43a0-9449-feb764adae11",
   "metadata": {},
   "outputs": [],
   "source": [
    "action_title =\"touches_df\"\n",
    "attribute = \"Attacking_Touches\"\n",
    "prepared_df = Prepare_Logs(action_title, attribute, team_df)\n",
    "reg_df = prepared_df[\"reg_df\"]"
   ]
  },
  {
   "cell_type": "code",
   "execution_count": 20,
   "id": "ade34ae7-4bf9-4e3b-bebb-7cf8530812d3",
   "metadata": {},
   "outputs": [],
   "source": [
    "tpr_x_dict = {\n",
    "    \"tpr_x\": None,\n",
    "} \n",
    "tpr_y_dict = {\n",
    "    \"tpr_y\": None,\n",
    "}"
   ]
  },
  {
   "cell_type": "code",
   "execution_count": 21,
   "id": "d8d51f2f-9e42-4827-822b-872719bce391",
   "metadata": {},
   "outputs": [],
   "source": [
    "# q1 = reg_df.query(\"Versus_Title == 'Manchester City plays vs Liverpool as Home team'\")\n",
    "# q2 = reg_df.query(\"Versus_Title == 'Liverpool plays vs Manchester City as Home team'\")\n",
    "# queries = [\"\", q1, q2]\n",
    "# query_no = 1\n",
    "# print(queries[query_no].iloc[0].Date)\n",
    "# queries[query_no].iloc[0].name\n",
    "# queries[query_no].iloc[0].name"
   ]
  },
  {
   "cell_type": "code",
   "execution_count": 22,
   "id": "24973870-ea58-4a79-85b6-f476a3f67e0c",
   "metadata": {},
   "outputs": [],
   "source": [
    "# https://fbref.com/en/matches/5965a1a5/Bayern-Munich-Bochum-February-11-2023-Bundesliga\n",
    "# row_index= 3221 # for Bayern\n",
    "# row_index2222 = 3758 # for Bochum\n",
    "\n",
    "row_index333 = 722 # for Liverpool\n",
    "row_index222 = 343 # for Manchester City\n",
    "\n",
    "row_index = 25\n",
    "\n",
    "x_cols = tpr_x_dict.keys()\n",
    "y_cols = tpr_y_dict.keys()\n",
    "\n",
    "tpr_x_custom_data = reg_df[x_cols].iloc[row_index].to_dict()\n",
    "tpr_y_custom_data = reg_df[y_cols].iloc[row_index].to_dict()\n",
    "\n",
    "custom_data = {**tpr_x_custom_data, **tpr_y_custom_data}\n",
    "custom_cols = list(custom_data.keys())"
   ]
  },
  {
   "cell_type": "code",
   "execution_count": 23,
   "id": "8fb92f41-7400-4fa2-8fce-bb5c8f3249c1",
   "metadata": {},
   "outputs": [
    {
     "name": "stdout",
     "output_type": "stream",
     "text": [
      "Brighton & Hove Albion plays vs Bournemouth as Away team\n",
      "2023-04-04\n",
      "\n"
     ]
    },
    {
     "data": {
      "text/plain": [
       "Club_x               Brighton & Hove Albion\n",
       "Club_y                          Bournemouth\n",
       "Date                             2023-04-04\n",
       "Attacking_Touches                     699.0\n",
       "tpr_x                                    72\n",
       "tpr_y                                    64\n",
       "Name: 71, dtype: object"
      ]
     },
     "execution_count": 23,
     "metadata": {},
     "output_type": "execute_result"
    }
   ],
   "source": [
    "match_info = reg_df.iloc[row_index].Versus_Title + \"\\n\" + reg_df.iloc[row_index].Date + \"\\n\" \n",
    "print(match_info)\n",
    "\n",
    "match_info_tpr = reg_df[[\"Club_x\",\"Club_y\",\"Date\",\"Attacking_Touches\"] + custom_cols].iloc[row_index]\n",
    "match_info_tpr"
   ]
  },
  {
   "cell_type": "code",
   "execution_count": 24,
   "id": "c6686203-c0dd-4f15-a136-99b26ce4ab1f",
   "metadata": {},
   "outputs": [],
   "source": [
    "special_formula_df = pd.DataFrame(index=custom_cols)\n",
    "\n",
    "df_to_custom = reg_df.copy()\n",
    "X = df_to_custom[custom_cols]\n",
    "Y = df_to_custom[[attribute]]\n",
    "\n",
    "X_train, X_test, Y_train, Y_test = train_test_split(X, Y, test_size=0.25, random_state=0)\n",
    "model = LinearRegression()\n",
    "model.fit(X_train, Y_train)\n",
    "Y_pred = model.predict(X_test)\n",
    "\n",
    "coef_column_name = f\"{attribute}_coef\"\n",
    "intercept_column_name = f\"{attribute}_intercept\"\n",
    "special_formula_df[coef_column_name] = model.coef_.flatten()\n",
    "special_formula_df[intercept_column_name] = model.intercept_[0]\n",
    "\n",
    "mse = mean_squared_error(Y_test, Y_pred)\n",
    "r2 = r2_score(Y_test, Y_pred)"
   ]
  },
  {
   "cell_type": "code",
   "execution_count": 25,
   "id": "89fc1360-06b2-4ae8-b398-d071178007ca",
   "metadata": {},
   "outputs": [
    {
     "data": {
      "text/html": [
       "<div>\n",
       "<style scoped>\n",
       "    .dataframe tbody tr th:only-of-type {\n",
       "        vertical-align: middle;\n",
       "    }\n",
       "\n",
       "    .dataframe tbody tr th {\n",
       "        vertical-align: top;\n",
       "    }\n",
       "\n",
       "    .dataframe thead th {\n",
       "        text-align: right;\n",
       "    }\n",
       "</style>\n",
       "<table border=\"1\" class=\"dataframe\">\n",
       "  <thead>\n",
       "    <tr style=\"text-align: right;\">\n",
       "      <th></th>\n",
       "      <th>coef</th>\n",
       "      <th>intercept</th>\n",
       "    </tr>\n",
       "  </thead>\n",
       "  <tbody>\n",
       "    <tr>\n",
       "      <th>touches_df_tpr_x</th>\n",
       "      <td>7.535324</td>\n",
       "      <td>387.620021</td>\n",
       "    </tr>\n",
       "    <tr>\n",
       "      <th>touches_df_tpr_y</th>\n",
       "      <td>-5.133620</td>\n",
       "      <td>387.620021</td>\n",
       "    </tr>\n",
       "  </tbody>\n",
       "</table>\n",
       "</div>"
      ],
      "text/plain": [
       "                      coef   intercept\n",
       "touches_df_tpr_x  7.535324  387.620021\n",
       "touches_df_tpr_y -5.133620  387.620021"
      ]
     },
     "execution_count": 25,
     "metadata": {},
     "output_type": "execute_result"
    }
   ],
   "source": [
    "formula_df[formula_df.index.str.contains(\"touches_df_tpr\", case=True)]"
   ]
  },
  {
   "cell_type": "code",
   "execution_count": 26,
   "id": "396e3ea7-da79-425d-9e83-dace76a4c124",
   "metadata": {},
   "outputs": [
    {
     "data": {
      "text/html": [
       "<div>\n",
       "<style scoped>\n",
       "    .dataframe tbody tr th:only-of-type {\n",
       "        vertical-align: middle;\n",
       "    }\n",
       "\n",
       "    .dataframe tbody tr th {\n",
       "        vertical-align: top;\n",
       "    }\n",
       "\n",
       "    .dataframe thead th {\n",
       "        text-align: right;\n",
       "    }\n",
       "</style>\n",
       "<table border=\"1\" class=\"dataframe\">\n",
       "  <thead>\n",
       "    <tr style=\"text-align: right;\">\n",
       "      <th></th>\n",
       "      <th>Attacking_Touches_coef</th>\n",
       "      <th>Attacking_Touches_intercept</th>\n",
       "    </tr>\n",
       "  </thead>\n",
       "  <tbody>\n",
       "    <tr>\n",
       "      <th>tpr_x</th>\n",
       "      <td>11.001498</td>\n",
       "      <td>227.953607</td>\n",
       "    </tr>\n",
       "    <tr>\n",
       "      <th>tpr_y</th>\n",
       "      <td>-7.252917</td>\n",
       "      <td>227.953607</td>\n",
       "    </tr>\n",
       "  </tbody>\n",
       "</table>\n",
       "</div>"
      ],
      "text/plain": [
       "       Attacking_Touches_coef  Attacking_Touches_intercept\n",
       "tpr_x               11.001498                   227.953607\n",
       "tpr_y               -7.252917                   227.953607"
      ]
     },
     "execution_count": 26,
     "metadata": {},
     "output_type": "execute_result"
    }
   ],
   "source": [
    "special_formula_df"
   ]
  },
  {
   "cell_type": "code",
   "execution_count": 27,
   "id": "b202dd96-fa03-4c84-8eb8-07901cad27a0",
   "metadata": {},
   "outputs": [],
   "source": [
    "custom_tpr_df = pd.DataFrame(custom_data, index=[\"tpr_value\"]).T"
   ]
  },
  {
   "cell_type": "code",
   "execution_count": 28,
   "id": "89d5e82f-aa17-49df-a029-45092eae9861",
   "metadata": {},
   "outputs": [],
   "source": [
    "custom_tpr_df[f\"{attribute}_coef\"] = special_formula_df[f\"{attribute}_coef\"][custom_cols].tolist()\n",
    "custom_tpr_df[f\"{attribute}_intercept\"] = special_formula_df[f\"{attribute}_intercept\"][custom_cols].tolist()\n",
    "custom_tpr_df[\"coef_result\"] = custom_tpr_df[f\"{attribute}_coef\"] * custom_tpr_df[\"tpr_value\"]\n",
    "\n",
    "custom_tpr_df[\"formula_result\"] = custom_tpr_df[\"coef_result\"].sum() + custom_tpr_df[f\"{attribute}_intercept\"].iloc[0]\n",
    "custom_tpr_df[\"formula_result\"] = custom_tpr_df[\"formula_result\"].iloc[0]\n",
    "custom_tpr_df[\"formula_result_per_minute\"] = custom_tpr_df[\"formula_result\"].iloc[0] / 90"
   ]
  },
  {
   "cell_type": "code",
   "execution_count": 29,
   "id": "3524cab7-c486-49da-ad8a-dc848481a324",
   "metadata": {},
   "outputs": [
    {
     "data": {
      "text/plain": [
       "556"
      ]
     },
     "execution_count": 29,
     "metadata": {},
     "output_type": "execute_result"
    }
   ],
   "source": [
    "formula_result = round(custom_tpr_df[\"formula_result\"].iloc[0])\n",
    "round(custom_tpr_df[\"formula_result_per_minute\"].iloc[0])\n",
    "\n",
    "formula_result"
   ]
  },
  {
   "cell_type": "code",
   "execution_count": 30,
   "id": "3204c2d6-6106-449f-896a-dbf6f70175a9",
   "metadata": {},
   "outputs": [],
   "source": [
    "prob_of_shot_in_a_minute = custom_tpr_df[\"formula_result_per_minute\"].iloc[0]\n",
    "\n",
    "def ProbAction(prob_of_shot_in_a_minute):\n",
    "    r = np.random.choice([1, 0], p=[prob_of_shot_in_a_minute, 1-prob_of_shot_in_a_minute])\n",
    "    return r"
   ]
  },
  {
   "cell_type": "code",
   "execution_count": 31,
   "id": "472c1eb7-a7c1-4b87-8139-ce05dbc8f91a",
   "metadata": {},
   "outputs": [],
   "source": [
    "# counter = 0\n",
    "\n",
    "# for minute in range(1, 91):\n",
    "#     result = ProbAction(prob_of_shot_in_a_minute)\n",
    "#     counter+=result"
   ]
  },
  {
   "cell_type": "markdown",
   "id": "b6e5d00e-f2c0-4d0c-b3c9-365fa7e8bbb1",
   "metadata": {
    "jp-MarkdownHeadingCollapsed": true
   },
   "source": [
    "<br><br><br><br><br><br><br><br>\n",
    "<h2 style=\"color:blue;background:aqua;\">  Model Test</h2>"
   ]
  },
  {
   "cell_type": "code",
   "execution_count": 32,
   "id": "ed3143fc-a004-49c1-be63-d13244b4bdbf",
   "metadata": {},
   "outputs": [
    {
     "data": {
      "text/plain": [
       "Club_x               Brighton & Hove Albion\n",
       "Club_y                          Bournemouth\n",
       "Date                             2023-04-04\n",
       "Attacking_Touches                     699.0\n",
       "tpr_x                                    72\n",
       "tpr_y                                    64\n",
       "Name: 71, dtype: object"
      ]
     },
     "execution_count": 32,
     "metadata": {},
     "output_type": "execute_result"
    }
   ],
   "source": [
    "match_info_tpr"
   ]
  },
  {
   "cell_type": "code",
   "execution_count": 33,
   "id": "36dfc9ba-6176-4e5a-90f1-97887f42e245",
   "metadata": {},
   "outputs": [],
   "source": [
    "def Action_Volume_Predict(attribute, formula_df, tpr_x, tpr_y):\n",
    "    input_df = pd.Series({\"tpr_x\": tpr_x, \"tpr_y\": tpr_y})\n",
    "    coefficients = sum(formula_df.loc[:, f\"{attribute}_coef\"] * input_df[custom_cols])\n",
    "    result = (coefficients + formula_df.loc[:, f\"{attribute}_intercept\"])\n",
    "    return int(result.iloc[0])"
   ]
  },
  {
   "cell_type": "code",
   "execution_count": 34,
   "id": "da074c7c-9b08-4b01-ac49-5175e377f314",
   "metadata": {},
   "outputs": [],
   "source": [
    "tpr_test_data = pd.Series({\n",
    "    \"tpr_x\": match_info_tpr.tpr_x,\n",
    "    \"tpr_y\": match_info_tpr.tpr_y,\n",
    "})"
   ]
  },
  {
   "cell_type": "code",
   "execution_count": 35,
   "id": "aa2b141c-84ac-4524-a348-919c08bfb6eb",
   "metadata": {},
   "outputs": [
    {
     "data": {
      "text/plain": [
       "501"
      ]
     },
     "execution_count": 35,
     "metadata": {},
     "output_type": "execute_result"
    }
   ],
   "source": [
    "Action_Volume_Predict(\"Attacking_Touches\", special_formula_df, 69, 67)"
   ]
  },
  {
   "cell_type": "code",
   "execution_count": 36,
   "id": "8465cd4f-ceb2-4a3b-8eb1-29a6f8c2cea4",
   "metadata": {},
   "outputs": [
    {
     "data": {
      "text/plain": [
       "Club_x                FSV Mainz\n",
       "Club_y                  FC Köln\n",
       "tpr_x                        69\n",
       "tpr_y                        67\n",
       "tpr_diff_abs                  2\n",
       "Date                 2022-10-21\n",
       "Attacking_Touches         536.0\n",
       "Name: 3718, dtype: object"
      ]
     },
     "execution_count": 36,
     "metadata": {},
     "output_type": "execute_result"
    }
   ],
   "source": [
    "error_df = reg_df.copy()[[\"Club_x\",\"Club_y\",\"tpr_x\",\"tpr_y\",\"tpr_diff_abs\",\"Date\",\"Attacking_Touches\"]]\n",
    "error_df.sort_values(by=\"tpr_diff_abs\", ascending=True).head().iloc[0]"
   ]
  },
  {
   "cell_type": "code",
   "execution_count": 37,
   "id": "9963a9e9-e7e7-4ace-83fb-5d81693512e4",
   "metadata": {},
   "outputs": [],
   "source": [
    "error_df[\"T_90\"] = error_df[\"Attacking_Touches\"] / 90\n",
    "error_df[\"Predicted\"] = error_df.apply(lambda row: Action_Volume_Predict(attribute, special_formula_df, row[\"tpr_x\"], row[\"tpr_y\"]), axis=1)\n",
    "error_df[\"Predicted_90\"] = error_df[\"Predicted\"] / 90\n",
    "error_df[\"Error\"] = error_df[\"Attacking_Touches\"] - error_df[\"Predicted\"]\n",
    "error_df[\"Error_min\"] = error_df[\"T_90\"] - error_df[\"Predicted_90\"]"
   ]
  },
  {
   "cell_type": "code",
   "execution_count": 38,
   "id": "6d9ee76e-1681-446e-829f-fe077013f956",
   "metadata": {},
   "outputs": [
    {
     "data": {
      "text/plain": [
       "Attacking_Touches    578.238329\n",
       "Predicted            578.786241\n",
       "Error                 -0.547912\n",
       "dtype: float64"
      ]
     },
     "execution_count": 38,
     "metadata": {},
     "output_type": "execute_result"
    }
   ],
   "source": [
    "error_df[[\"Attacking_Touches\",\"Predicted\",\"Error\"]].mean()"
   ]
  },
  {
   "cell_type": "markdown",
   "id": "0e5c44a3-29e3-434c-a957-6088076524d8",
   "metadata": {
    "jp-MarkdownHeadingCollapsed": true
   },
   "source": [
    "<br><br><br><br><br><br><br><br>\n",
    "<h2 style=\"color:#FFFBDA;background:#E4003A;\">  Randomness (ltr)</h2>"
   ]
  },
  {
   "cell_type": "code",
   "execution_count": 39,
   "id": "f64e7f0e-f9a8-45b7-a9c2-05505d949dde",
   "metadata": {},
   "outputs": [],
   "source": [
    "mancity_raw = prepared_df[\"merged_df_2\"].dropna()\n",
    "mancity_raw[\"tpr_diff\"] = mancity_raw.tpr_x - mancity_raw.tpr_y\n",
    "mancity_raw[\"tpr_diff_abs\"] = abs(mancity_raw.tpr_x - mancity_raw.tpr_y)\n",
    "mancity = mancity_raw.query(\"tpr_diff_abs > 5\")[[\"Club_x\",\"Club_y\",\"tpr_x\",\"tpr_y\",\"Attacking_Touches\"]]\n",
    "\n",
    "for n in range(30):\n",
    "    mancity = mancity_raw.query(f\"tpr_diff_abs > {n}\")[[\"Club_x\",\"Club_y\",\"tpr_x\",\"tpr_y\",\"Attacking_Touches\"]]\n",
    "    \n",
    "    data = mancity.Attacking_Touches\n",
    "    mancity_att = pd.Series(data)\n",
    "    mean_val = mancity_att.mean()\n",
    "    distances = mancity_att - mean_val\n",
    "    percentage_distances = (distances / mean_val) * 100\n",
    "    np.random.seed(42)\n",
    "    randomness = np.random.uniform(-0.05, 0.1, size=percentage_distances.shape) * percentage_distances\n",
    "    adjusted_values = mancity_att + randomness\n",
    "    \n",
    "    df_comparison = pd.DataFrame({\n",
    "        'Original': mancity_att,\n",
    "        'Percentages_Distance': percentage_distances,\n",
    "        'Randomness': randomness,\n",
    "        'Adjusted': adjusted_values\n",
    "    })\n",
    "    \n",
    "    median = df_comparison.Percentages_Distance.median()\n",
    "    # print(n, median)"
   ]
  },
  {
   "cell_type": "code",
   "execution_count": 40,
   "id": "8758f2ac-b401-4e83-b165-e7c351fcae81",
   "metadata": {},
   "outputs": [],
   "source": [
    "def Action_Volume_Predict_Randomnessed(attribute, formula_df, tpr_x, tpr_y):\n",
    "    input_df = pd.Series({\"tpr_x\": tpr_x, \"tpr_y\": tpr_y})\n",
    "    coefficients = sum(formula_df.loc[:, f\"{attribute}_coef\"] * input_df[custom_cols])\n",
    "    result = (coefficients + formula_df.loc[:, f\"{attribute}_intercept\"])\n",
    "    randomnessed_result = result.iloc[0] - result.iloc[0] * (np.random.randint(-10, 10)/100)\n",
    "    return int(randomnessed_result)"
   ]
  },
  {
   "cell_type": "markdown",
   "id": "d6a7ebe9-244c-4412-91a6-685bc66d8130",
   "metadata": {
    "jp-MarkdownHeadingCollapsed": true
   },
   "source": [
    "<br><br><br><br><br><br><br><br>\n",
    "<h2 style=\"color:#F3F7EC;background:#399918;\">  Locational</h2>"
   ]
  },
  {
   "cell_type": "code",
   "execution_count": 41,
   "id": "a4c5894c-9fe2-41ce-879f-e8cd5ff60c81",
   "metadata": {},
   "outputs": [
    {
     "data": {
      "text/plain": [
       "(0.0012240526342632, 0.0, 0.004381161007667)"
      ]
     },
     "execution_count": 41,
     "metadata": {},
     "output_type": "execute_result"
    }
   ],
   "source": [
    "pass_locations = pd.read_csv(\"../statsbomb/600sq_leverkusen_Pass_locations.csv\")\n",
    "shot_locations = pd.read_csv(\"../statsbomb/600sq_leverkusen_Shot_locations.csv\")\n",
    "dribble_locations = pd.read_csv(\"../statsbomb/600sq_leverkusen_Dribble_locations.csv\")\n",
    "\n",
    "pass_locations.iloc[46].percentage, shot_locations.iloc[46].percentage, dribble_locations.iloc[46].percentage"
   ]
  },
  {
   "cell_type": "code",
   "execution_count": 42,
   "id": "8be1d7ff-d9ec-4b72-8dbd-6915a2cbd5d5",
   "metadata": {},
   "outputs": [],
   "source": [
    "location_df = pass_locations \\\n",
    ".merge(shot_locations, on='Pitch_Number', how='inner', suffixes=(\"_pass\", \"_shot\")) \\\n",
    ".merge(dribble_locations, on='Pitch_Number', how='inner', suffixes=(\"\", \"_dribble\"))\n",
    "location_df[\"percentage_dribble\"] = location_df[\"percentage\"]\n",
    "location_df[\"count_dribble\"] = location_df[\"count\"]"
   ]
  },
  {
   "cell_type": "code",
   "execution_count": 43,
   "id": "ae3c752c-dfe5-4cc9-8bbd-18798f6a482c",
   "metadata": {},
   "outputs": [
    {
     "data": {
      "text/html": [
       "<div>\n",
       "<style scoped>\n",
       "    .dataframe tbody tr th:only-of-type {\n",
       "        vertical-align: middle;\n",
       "    }\n",
       "\n",
       "    .dataframe tbody tr th {\n",
       "        vertical-align: top;\n",
       "    }\n",
       "\n",
       "    .dataframe thead th {\n",
       "        text-align: right;\n",
       "    }\n",
       "</style>\n",
       "<table border=\"1\" class=\"dataframe\">\n",
       "  <thead>\n",
       "    <tr style=\"text-align: right;\">\n",
       "      <th></th>\n",
       "      <th>x_interval</th>\n",
       "      <th>y_interval</th>\n",
       "    </tr>\n",
       "  </thead>\n",
       "  <tbody>\n",
       "    <tr>\n",
       "      <th>0</th>\n",
       "      <td>(0.0, 5.0)</td>\n",
       "      <td>(0.0, 5.0)</td>\n",
       "    </tr>\n",
       "    <tr>\n",
       "      <th>1</th>\n",
       "      <td>(0.0, 5.0)</td>\n",
       "      <td>(5.0, 10.0)</td>\n",
       "    </tr>\n",
       "    <tr>\n",
       "      <th>2</th>\n",
       "      <td>(0.0, 5.0)</td>\n",
       "      <td>(10.0, 15.0)</td>\n",
       "    </tr>\n",
       "    <tr>\n",
       "      <th>3</th>\n",
       "      <td>(0.0, 5.0)</td>\n",
       "      <td>(15.0, 20.0)</td>\n",
       "    </tr>\n",
       "    <tr>\n",
       "      <th>4</th>\n",
       "      <td>(0.0, 5.0)</td>\n",
       "      <td>(20.0, 25.0)</td>\n",
       "    </tr>\n",
       "    <tr>\n",
       "      <th>5</th>\n",
       "      <td>(0.0, 5.0)</td>\n",
       "      <td>(25.0, 30.0)</td>\n",
       "    </tr>\n",
       "    <tr>\n",
       "      <th>6</th>\n",
       "      <td>(0.0, 5.0)</td>\n",
       "      <td>(30.0, 35.0)</td>\n",
       "    </tr>\n",
       "    <tr>\n",
       "      <th>7</th>\n",
       "      <td>(0.0, 5.0)</td>\n",
       "      <td>(35.0, 40.0)</td>\n",
       "    </tr>\n",
       "    <tr>\n",
       "      <th>8</th>\n",
       "      <td>(0.0, 5.0)</td>\n",
       "      <td>(40.0, 45.0)</td>\n",
       "    </tr>\n",
       "    <tr>\n",
       "      <th>9</th>\n",
       "      <td>(0.0, 5.0)</td>\n",
       "      <td>(45.0, 50.0)</td>\n",
       "    </tr>\n",
       "    <tr>\n",
       "      <th>10</th>\n",
       "      <td>(0.0, 5.0)</td>\n",
       "      <td>(50.0, 55.0)</td>\n",
       "    </tr>\n",
       "    <tr>\n",
       "      <th>11</th>\n",
       "      <td>(0.0, 5.0)</td>\n",
       "      <td>(55.0, 60.0)</td>\n",
       "    </tr>\n",
       "    <tr>\n",
       "      <th>12</th>\n",
       "      <td>(0.0, 5.0)</td>\n",
       "      <td>(60.0, 65.0)</td>\n",
       "    </tr>\n",
       "    <tr>\n",
       "      <th>13</th>\n",
       "      <td>(0.0, 5.0)</td>\n",
       "      <td>(65.0, 70.0)</td>\n",
       "    </tr>\n",
       "    <tr>\n",
       "      <th>14</th>\n",
       "      <td>(0.0, 5.0)</td>\n",
       "      <td>(70.0, 75.0)</td>\n",
       "    </tr>\n",
       "    <tr>\n",
       "      <th>15</th>\n",
       "      <td>(0.0, 5.0)</td>\n",
       "      <td>(75.0, 80.0)</td>\n",
       "    </tr>\n",
       "    <tr>\n",
       "      <th>16</th>\n",
       "      <td>(0.0, 5.0)</td>\n",
       "      <td>(80.0, 85.0)</td>\n",
       "    </tr>\n",
       "    <tr>\n",
       "      <th>17</th>\n",
       "      <td>(0.0, 5.0)</td>\n",
       "      <td>(85.0, 90.0)</td>\n",
       "    </tr>\n",
       "    <tr>\n",
       "      <th>18</th>\n",
       "      <td>(0.0, 5.0)</td>\n",
       "      <td>(90.0, 95.0)</td>\n",
       "    </tr>\n",
       "    <tr>\n",
       "      <th>19</th>\n",
       "      <td>(0.0, 5.0)</td>\n",
       "      <td>(95.0, 100.0)</td>\n",
       "    </tr>\n",
       "  </tbody>\n",
       "</table>\n",
       "</div>"
      ],
      "text/plain": [
       "    x_interval     y_interval\n",
       "0   (0.0, 5.0)     (0.0, 5.0)\n",
       "1   (0.0, 5.0)    (5.0, 10.0)\n",
       "2   (0.0, 5.0)   (10.0, 15.0)\n",
       "3   (0.0, 5.0)   (15.0, 20.0)\n",
       "4   (0.0, 5.0)   (20.0, 25.0)\n",
       "5   (0.0, 5.0)   (25.0, 30.0)\n",
       "6   (0.0, 5.0)   (30.0, 35.0)\n",
       "7   (0.0, 5.0)   (35.0, 40.0)\n",
       "8   (0.0, 5.0)   (40.0, 45.0)\n",
       "9   (0.0, 5.0)   (45.0, 50.0)\n",
       "10  (0.0, 5.0)   (50.0, 55.0)\n",
       "11  (0.0, 5.0)   (55.0, 60.0)\n",
       "12  (0.0, 5.0)   (60.0, 65.0)\n",
       "13  (0.0, 5.0)   (65.0, 70.0)\n",
       "14  (0.0, 5.0)   (70.0, 75.0)\n",
       "15  (0.0, 5.0)   (75.0, 80.0)\n",
       "16  (0.0, 5.0)   (80.0, 85.0)\n",
       "17  (0.0, 5.0)   (85.0, 90.0)\n",
       "18  (0.0, 5.0)   (90.0, 95.0)\n",
       "19  (0.0, 5.0)  (95.0, 100.0)"
      ]
     },
     "execution_count": 43,
     "metadata": {},
     "output_type": "execute_result"
    }
   ],
   "source": [
    "location_df[[\"x_interval\",\"y_interval\"]][:20]"
   ]
  },
  {
   "cell_type": "code",
   "execution_count": 44,
   "id": "9e053aaa-5e6e-4ee1-9947-16715ee576d1",
   "metadata": {},
   "outputs": [],
   "source": [
    "location_df[\"total_count\"] = location_df[\"count_pass\"]+location_df[\"count_shot\"]+location_df[\"count_dribble\"]\n",
    "location_df[\"total_percentage\"] = location_df[\"percentage_pass\"]+location_df[\"percentage_shot\"]+location_df[\"percentage_dribble\"]\n",
    "location_df[\"pitch_prob\"] = location_df[\"total_count\"] / location_df[\"total_count\"].sum()\n",
    "\n",
    "location_df[\"pass_prob\"] = location_df[\"count_pass\"] / location_df[\"total_count\"]\n",
    "location_df[\"shot_prob\"] = location_df[\"count_shot\"] / location_df[\"total_count\"]\n",
    "location_df[\"dribble_prob\"] = location_df[\"count_dribble\"] / location_df[\"total_count\"]"
   ]
  },
  {
   "cell_type": "code",
   "execution_count": 45,
   "id": "d7ce8a29-b492-4129-97cb-d49982640ccf",
   "metadata": {},
   "outputs": [
    {
     "data": {
      "text/html": [
       "<div>\n",
       "<style scoped>\n",
       "    .dataframe tbody tr th:only-of-type {\n",
       "        vertical-align: middle;\n",
       "    }\n",
       "\n",
       "    .dataframe tbody tr th {\n",
       "        vertical-align: top;\n",
       "    }\n",
       "\n",
       "    .dataframe thead th {\n",
       "        text-align: right;\n",
       "    }\n",
       "</style>\n",
       "<table border=\"1\" class=\"dataframe\">\n",
       "  <thead>\n",
       "    <tr style=\"text-align: right;\">\n",
       "      <th></th>\n",
       "      <th>Pitch_Number</th>\n",
       "      <th>total_count</th>\n",
       "      <th>percentage_pass</th>\n",
       "      <th>percentage_shot</th>\n",
       "      <th>percentage_dribble</th>\n",
       "      <th>pitch_prob</th>\n",
       "      <th>pass_prob</th>\n",
       "      <th>shot_prob</th>\n",
       "      <th>dribble_prob</th>\n",
       "    </tr>\n",
       "  </thead>\n",
       "  <tbody>\n",
       "    <tr>\n",
       "      <th>193</th>\n",
       "      <td>194</td>\n",
       "      <td>361.0</td>\n",
       "      <td>0.009206</td>\n",
       "      <td>0.0</td>\n",
       "      <td>0.000000</td>\n",
       "      <td>0.008796</td>\n",
       "      <td>1.000000</td>\n",
       "      <td>0.0</td>\n",
       "      <td>0.000000</td>\n",
       "    </tr>\n",
       "    <tr>\n",
       "      <th>169</th>\n",
       "      <td>170</td>\n",
       "      <td>316.0</td>\n",
       "      <td>0.008058</td>\n",
       "      <td>0.0</td>\n",
       "      <td>0.000000</td>\n",
       "      <td>0.007699</td>\n",
       "      <td>1.000000</td>\n",
       "      <td>0.0</td>\n",
       "      <td>0.000000</td>\n",
       "    </tr>\n",
       "    <tr>\n",
       "      <th>204</th>\n",
       "      <td>205</td>\n",
       "      <td>285.0</td>\n",
       "      <td>0.007217</td>\n",
       "      <td>0.0</td>\n",
       "      <td>0.002191</td>\n",
       "      <td>0.006944</td>\n",
       "      <td>0.992982</td>\n",
       "      <td>0.0</td>\n",
       "      <td>0.007018</td>\n",
       "    </tr>\n",
       "    <tr>\n",
       "      <th>179</th>\n",
       "      <td>180</td>\n",
       "      <td>272.0</td>\n",
       "      <td>0.006911</td>\n",
       "      <td>0.0</td>\n",
       "      <td>0.001095</td>\n",
       "      <td>0.006627</td>\n",
       "      <td>0.996324</td>\n",
       "      <td>0.0</td>\n",
       "      <td>0.003676</td>\n",
       "    </tr>\n",
       "    <tr>\n",
       "      <th>276</th>\n",
       "      <td>277</td>\n",
       "      <td>222.0</td>\n",
       "      <td>0.005636</td>\n",
       "      <td>0.0</td>\n",
       "      <td>0.001095</td>\n",
       "      <td>0.005409</td>\n",
       "      <td>0.995495</td>\n",
       "      <td>0.0</td>\n",
       "      <td>0.004505</td>\n",
       "    </tr>\n",
       "  </tbody>\n",
       "</table>\n",
       "</div>"
      ],
      "text/plain": [
       "     Pitch_Number  total_count  percentage_pass  percentage_shot  \\\n",
       "193           194        361.0         0.009206              0.0   \n",
       "169           170        316.0         0.008058              0.0   \n",
       "204           205        285.0         0.007217              0.0   \n",
       "179           180        272.0         0.006911              0.0   \n",
       "276           277        222.0         0.005636              0.0   \n",
       "\n",
       "     percentage_dribble  pitch_prob  pass_prob  shot_prob  dribble_prob  \n",
       "193            0.000000    0.008796   1.000000        0.0      0.000000  \n",
       "169            0.000000    0.007699   1.000000        0.0      0.000000  \n",
       "204            0.002191    0.006944   0.992982        0.0      0.007018  \n",
       "179            0.001095    0.006627   0.996324        0.0      0.003676  \n",
       "276            0.001095    0.005409   0.995495        0.0      0.004505  "
      ]
     },
     "execution_count": 45,
     "metadata": {},
     "output_type": "execute_result"
    }
   ],
   "source": [
    "must_cols = [\"Pitch_Number\",\"total_count\"]\n",
    "percentage_cols = [\"percentage_pass\",\"percentage_shot\",\"percentage_dribble\"]\n",
    "prob_cols = [\"pitch_prob\",\"pass_prob\",\"shot_prob\",\"dribble_prob\"]\n",
    "\n",
    "location_df[must_cols+percentage_cols+prob_cols].sort_values(\"total_count\", ascending=False)[:5]"
   ]
  },
  {
   "cell_type": "markdown",
   "id": "accf6ad9-cbe7-482d-abc4-aea161fd0425",
   "metadata": {
    "jp-MarkdownHeadingCollapsed": true
   },
   "source": [
    "<br><br><br><br><br><br><br><br>\n",
    "<h2 style=\"color:blue;background:beige;\">  Managerial --??</h2>"
   ]
  },
  {
   "cell_type": "code",
   "execution_count": 46,
   "id": "9ce53e59-e219-410e-b57a-251b45508711",
   "metadata": {},
   "outputs": [],
   "source": [
    "fm_managerial_tactics = {\n",
    "    'Gegen - Direct': {\"Pass\": 1.2, \"Shot\": 1.0, \"Dribble\": 0.8},\n",
    "    'Gegen - High Tempo': {\"Pass\": 1.1, \"Shot\": 1.1, \"Dribble\": 0.9},\n",
    "    'Gegen - Slow Passing': {\"Pass\": 0.9, \"Shot\": 1.0, \"Dribble\": 1.0},\n",
    "    'Gegen - Wing Play': {\"Pass\": 1.3, \"Shot\": 1.0, \"Dribble\": 0.7},\n",
    "    \n",
    "    'Tiki Taka - Direct': {\"Pass\": 1.5, \"Shot\": 0.8, \"Dribble\": 0.8},\n",
    "    'Tiki Taka - High Tempo': {\"Pass\": 1.4, \"Shot\": 0.9, \"Dribble\": 0.8},\n",
    "    'Tiki Taka - Slow Passing': {\"Pass\": 1.6, \"Shot\": 0.7, \"Dribble\": 0.9},\n",
    "    'Tiki Taka - Wing Play': {\"Pass\": 1.7, \"Shot\": 0.6, \"Dribble\": 0.8},\n",
    "    \n",
    "    'Control - Direct': {\"Pass\": 1.1, \"Shot\": 1.0, \"Dribble\": 1.0},\n",
    "    'Control - High Tempo': {\"Pass\": 1.0, \"Shot\": 1.1, \"Dribble\": 1.0},\n",
    "    'Control - Slow Passing': {\"Pass\": 1.0, \"Shot\": 0.9, \"Dribble\": 1.1},\n",
    "    'Control - Wing Play': {\"Pass\": 1.2, \"Shot\": 1.0, \"Dribble\": 0.9},\n",
    "    \n",
    "    'Counter - Direct': {\"Pass\": 0.8, \"Shot\": 1.2, \"Dribble\": 1.0},\n",
    "    'Counter - High Tempo': {\"Pass\": 0.9, \"Shot\": 1.1, \"Dribble\": 1.1},\n",
    "    'Counter - Slow Passing': {\"Pass\": 0.7, \"Shot\": 1.0, \"Dribble\": 1.2},\n",
    "    'Counter - Wing Play': {\"Pass\": 0.8, \"Shot\": 1.3, \"Dribble\": 1.0},\n",
    "    \n",
    "    'Total Football - Direct': {\"Pass\": 1.2, \"Shot\": 1.2, \"Dribble\": 1.0},\n",
    "    'Total Football - High Tempo': {\"Pass\": 1.1, \"Shot\": 1.3, \"Dribble\": 1.0},\n",
    "    'Total Football - Slow Passing': {\"Pass\": 1.3, \"Shot\": 1.1, \"Dribble\": 0.9},\n",
    "    'Total Football - Wing Play': {\"Pass\": 1.4, \"Shot\": 1.0, \"Dribble\": 0.8},\n",
    "}\n",
    "\n",
    "selected_tactics = [\n",
    "    fm_managerial_tactics['Tiki Taka - Direct'],\n",
    "    fm_managerial_tactics['Counter - High Tempo'],\n",
    "    fm_managerial_tactics['Counter - Wing Play'],\n",
    "]"
   ]
  },
  {
   "cell_type": "code",
   "execution_count": 47,
   "id": "963aa03c-9f8e-4033-adc6-0ccc1f18336e",
   "metadata": {},
   "outputs": [],
   "source": [
    "def create_triple_prob_dict(row, tactical_coef={\"Pass\": 0, \"Shot\": 0, \"Dribble\": 0}):\n",
    "    prob_dict = {\n",
    "        \"Pass\": row[\"pass_prob\"]+row[\"pass_prob\"]*tactical_coef[\"Pass\"],\n",
    "        \"Shot\": row[\"shot_prob\"]+row[\"shot_prob\"]*tactical_coef[\"Shot\"],\n",
    "        \"Dribble\": row[\"dribble_prob\"]+row[\"dribble_prob\"]*tactical_coef[\"Dribble\"]\n",
    "    }\n",
    "    sum_prob_dict = sum(prob_dict.values())\n",
    "    weighted_prob_dict = {key: prob_dict[key]/sum_prob_dict for key in prob_dict.keys()}\n",
    "    return weighted_prob_dict"
   ]
  },
  {
   "cell_type": "code",
   "execution_count": 48,
   "id": "b5a30ec4-fa18-447c-a9e2-d6aba0967eee",
   "metadata": {},
   "outputs": [
    {
     "name": "stdout",
     "output_type": "stream",
     "text": [
      "84.4 83.7\n"
     ]
    }
   ],
   "source": [
    "tpr1 = LineupTPR(players_df, \"Liverpool\").query(\"Best_Pos != 'GK'\").mean().tpr\n",
    "tpr2 = LineupTPR(players_df, \"FC Bayern\").query(\"Best_Pos != 'GK'\").mean().tpr\n",
    "print(tpr1, tpr2)"
   ]
  },
  {
   "cell_type": "code",
   "execution_count": 49,
   "id": "06738244-03f6-4c54-986a-3ae4f8488ab6",
   "metadata": {},
   "outputs": [
    {
     "name": "stdout",
     "output_type": "stream",
     "text": [
      "[{'Pass': 1.5, 'Shot': 0.8, 'Dribble': 0.8}, {'Pass': 0.9, 'Shot': 1.1, 'Dribble': 1.1}, {'Pass': 0.8, 'Shot': 1.3, 'Dribble': 1.0}] \n",
      "\n",
      "84.4 {'Pass': 563, 'Shot': 12, 'Dribble': 12}\n",
      "83.7 {'Pass': 530, 'Shot': 14, 'Dribble': 8}\n"
     ]
    }
   ],
   "source": [
    "tpr_a = tpr1\n",
    "tpr_b = tpr2\n",
    "\n",
    "Home_Touches = Action_Volume_Predict_Randomnessed(\"Attacking_Touches\", special_formula_df, tpr_a, tpr_b)\n",
    "Away_Touches = Action_Volume_Predict_Randomnessed(\"Attacking_Touches\", special_formula_df, tpr_b, tpr_a)\n",
    "Action_Counter_Home = {\"Pass\": 0, \"Shot\": 0, \"Dribble\": 0}\n",
    "Action_Counter_Away = {\"Pass\": 0, \"Shot\": 0, \"Dribble\": 0}\n",
    "\n",
    "for moment in range(Home_Touches):\n",
    "    location_df[\"triple_prob_dict\"] = location_df.apply(lambda row: create_triple_prob_dict(row, selected_tactics[0]), axis=1)\n",
    "    pitch_number = np.random.choice(location_df[\"Pitch_Number\"], p=location_df[\"pitch_prob\"])\n",
    "    triple_probs = list(location_df[location_df[\"Pitch_Number\"] == pitch_number][\"triple_prob_dict\"].iloc[0].values())\n",
    "    action = np.random.choice([\"Pass\",\"Shot\",\"Dribble\"], p=triple_probs)\n",
    "    Action_Counter_Home[action]+=1\n",
    "\n",
    "for moment in range(Away_Touches):\n",
    "    location_df[\"triple_prob_dict\"] = location_df.apply(lambda row: create_triple_prob_dict(row, selected_tactics[1]), axis=1)\n",
    "    pitch_number = np.random.choice(location_df[\"Pitch_Number\"], p=location_df[\"pitch_prob\"])\n",
    "    triple_probs = list(location_df[location_df[\"Pitch_Number\"] == pitch_number][\"triple_prob_dict\"].iloc[0].values())\n",
    "    action = np.random.choice([\"Pass\",\"Shot\",\"Dribble\"], p=triple_probs)\n",
    "    Action_Counter_Away[action]+=1\n",
    "\n",
    "print(selected_tactics, \"\\n\")\n",
    "print(tpr_a, Action_Counter_Home)\n",
    "print(tpr_b, Action_Counter_Away)"
   ]
  },
  {
   "cell_type": "markdown",
   "id": "758f6f67-ed0d-4340-a794-2180ee168657",
   "metadata": {
    "jp-MarkdownHeadingCollapsed": true
   },
   "source": [
    "<br><br><br><br><br><br><br><br>\n",
    "<h2 style=\"color:beige;background:brown;\">  Match Testing Area</h2>"
   ]
  },
  {
   "cell_type": "code",
   "execution_count": 50,
   "id": "7cbc2081-a88e-453d-8992-4b2c96555d1b",
   "metadata": {},
   "outputs": [],
   "source": [
    "from IPython.display import display, HTML\n",
    "loading_bar_html = \"\"\"\n",
    "<div id=\"progress-container\" style=\"width: 50%; border: 1px solid #ccc; margin: 20px 0;\">\n",
    "  <div id=\"progress-bar\" style=\"width: 0%; height: 20px; background-color: #4CAF50; text-align: center; line-height: 20px; color: white;\"></div>\n",
    "</div>\n",
    "<script>\n",
    "function updateProgressBar(progress) {\n",
    "  var progressBar = document.getElementById('progress-bar');\n",
    "  progressBar.style.width = progress + '%';\n",
    "  progressBar.innerHTML = progress + '%';\n",
    "}\n",
    "</script>\n",
    "\"\"\""
   ]
  },
  {
   "cell_type": "code",
   "execution_count": 51,
   "id": "a48b06eb-efec-46e7-be5b-2cb0b37050ca",
   "metadata": {},
   "outputs": [],
   "source": [
    "def Generate_Random_Match_Stats(tpr_a, tpr_b, match_number=1):\n",
    "    all_matches= []\n",
    "    shot_map = []\n",
    "    pass_map = []\n",
    "    dribble_map = []\n",
    "    display(HTML(loading_bar_html)) # loading_bar_html\n",
    "    location_df[\"triple_prob_dict\"] = location_df.apply(lambda row: create_triple_prob_dict(row, selected_tactics[2]), axis=1)\n",
    "    \n",
    "    for process in range(match_number):\n",
    "        Action_Counter = {\"Pass\": 0, \"Shot\": 0, \"Dribble\": 0}\n",
    "        Touches = Action_Volume_Predict_Randomnessed(\"Attacking_Touches\", special_formula_df, tpr_a, tpr_b)\n",
    "        for moment in range(Touches):\n",
    "            pitch_number = np.random.choice(location_df[\"Pitch_Number\"], p=location_df[\"pitch_prob\"])\n",
    "            triple_probs = list(location_df[location_df[\"Pitch_Number\"] == pitch_number][\"triple_prob_dict\"].iloc[0].values())\n",
    "            triple_actions = list(location_df[location_df[\"Pitch_Number\"] == pitch_number][\"triple_prob_dict\"].iloc[0].keys())\n",
    "            action = np.random.choice(triple_actions, p=triple_probs)\n",
    "            if action==\"Pass\":\n",
    "                pass_map.append(pitch_number)\n",
    "            elif action==\"Shot\":\n",
    "                shot_map.append(pitch_number)\n",
    "            elif action==\"Dribble\":\n",
    "                dribble_map.append(pitch_number)\n",
    "            Action_Counter[action]+=1\n",
    "        all_matches.append(Action_Counter)\n",
    "\n",
    "        global progress\n",
    "        progress = int((process + 1) / match_number * 100) # loading_bar_html\n",
    "        display(HTML(\"<script>updateProgressBar({})</script>\".format(progress))) # loading_bar_html\n",
    "    print(\"__completed__!\")\n",
    "    return {\n",
    "        \"all_matches\": all_matches,\n",
    "        \"pass_map\": pass_map, \n",
    "        \"shot_map\": shot_map, \n",
    "        \"dribble_map\": dribble_map, \n",
    "    }"
   ]
  },
  {
   "cell_type": "code",
   "execution_count": 52,
   "id": "6816a55c-d38b-4d3c-a520-3cc122f14269",
   "metadata": {},
   "outputs": [
    {
     "data": {
      "text/html": [
       "\n",
       "<div id=\"progress-container\" style=\"width: 50%; border: 1px solid #ccc; margin: 20px 0;\">\n",
       "  <div id=\"progress-bar\" style=\"width: 0%; height: 20px; background-color: #4CAF50; text-align: center; line-height: 20px; color: white;\"></div>\n",
       "</div>\n",
       "<script>\n",
       "function updateProgressBar(progress) {\n",
       "  var progressBar = document.getElementById('progress-bar');\n",
       "  progressBar.style.width = progress + '%';\n",
       "  progressBar.innerHTML = progress + '%';\n",
       "}\n",
       "</script>\n"
      ],
      "text/plain": [
       "<IPython.core.display.HTML object>"
      ]
     },
     "metadata": {},
     "output_type": "display_data"
    },
    {
     "data": {
      "text/html": [
       "<script>updateProgressBar(20)</script>"
      ],
      "text/plain": [
       "<IPython.core.display.HTML object>"
      ]
     },
     "metadata": {},
     "output_type": "display_data"
    },
    {
     "data": {
      "text/html": [
       "<script>updateProgressBar(40)</script>"
      ],
      "text/plain": [
       "<IPython.core.display.HTML object>"
      ]
     },
     "metadata": {},
     "output_type": "display_data"
    },
    {
     "data": {
      "text/html": [
       "<script>updateProgressBar(60)</script>"
      ],
      "text/plain": [
       "<IPython.core.display.HTML object>"
      ]
     },
     "metadata": {},
     "output_type": "display_data"
    },
    {
     "data": {
      "text/html": [
       "<script>updateProgressBar(80)</script>"
      ],
      "text/plain": [
       "<IPython.core.display.HTML object>"
      ]
     },
     "metadata": {},
     "output_type": "display_data"
    },
    {
     "data": {
      "text/html": [
       "<script>updateProgressBar(100)</script>"
      ],
      "text/plain": [
       "<IPython.core.display.HTML object>"
      ]
     },
     "metadata": {},
     "output_type": "display_data"
    },
    {
     "name": "stdout",
     "output_type": "stream",
     "text": [
      "__completed__!\n"
     ]
    },
    {
     "data": {
      "text/plain": [
       "[{'Pass': 517, 'Shot': 13, 'Dribble': 14},\n",
       " {'Pass': 552, 'Shot': 18, 'Dribble': 13},\n",
       " {'Pass': 489, 'Shot': 7, 'Dribble': 9},\n",
       " {'Pass': 502, 'Shot': 10, 'Dribble': 16},\n",
       " {'Pass': 511, 'Shot': 18, 'Dribble': 15}]"
      ]
     },
     "execution_count": 52,
     "metadata": {},
     "output_type": "execute_result"
    }
   ],
   "source": [
    "Generate_Random_Match_Stats(72, 64, 5)[\"all_matches\"]"
   ]
  },
  {
   "cell_type": "markdown",
   "id": "5113e659-6770-4d1e-8d9f-169d7aac5a8c",
   "metadata": {
    "jp-MarkdownHeadingCollapsed": true
   },
   "source": [
    "<br><br><br><br><br><br><br><br>\n",
    "<h2 style=\"color:black;background:yellow;\">  Pitch Plot</h2>"
   ]
  },
  {
   "cell_type": "code",
   "execution_count": 53,
   "id": "adfdc7d7-a226-4330-af5c-368e88c751d5",
   "metadata": {},
   "outputs": [
    {
     "data": {
      "text/html": [
       "\n",
       "<div id=\"progress-container\" style=\"width: 50%; border: 1px solid #ccc; margin: 20px 0;\">\n",
       "  <div id=\"progress-bar\" style=\"width: 0%; height: 20px; background-color: #4CAF50; text-align: center; line-height: 20px; color: white;\"></div>\n",
       "</div>\n",
       "<script>\n",
       "function updateProgressBar(progress) {\n",
       "  var progressBar = document.getElementById('progress-bar');\n",
       "  progressBar.style.width = progress + '%';\n",
       "  progressBar.innerHTML = progress + '%';\n",
       "}\n",
       "</script>\n"
      ],
      "text/plain": [
       "<IPython.core.display.HTML object>"
      ]
     },
     "metadata": {},
     "output_type": "display_data"
    },
    {
     "data": {
      "text/html": [
       "\n",
       "<div id=\"progress-container\" style=\"width: 50%; border: 1px solid #ccc; margin: 20px 0;\">\n",
       "  <div id=\"progress-bar\" style=\"width: 0%; height: 20px; background-color: #4CAF50; text-align: center; line-height: 20px; color: white;\"></div>\n",
       "</div>\n",
       "<script>\n",
       "function updateProgressBar(progress) {\n",
       "  var progressBar = document.getElementById('progress-bar');\n",
       "  progressBar.style.width = progress + '%';\n",
       "  progressBar.innerHTML = progress + '%';\n",
       "}\n",
       "</script>\n"
      ],
      "text/plain": [
       "<IPython.core.display.HTML object>"
      ]
     },
     "metadata": {},
     "output_type": "display_data"
    },
    {
     "data": {
      "text/html": [
       "<script>updateProgressBar(100)</script>"
      ],
      "text/plain": [
       "<IPython.core.display.HTML object>"
      ]
     },
     "metadata": {},
     "output_type": "display_data"
    },
    {
     "name": "stdout",
     "output_type": "stream",
     "text": [
      "__completed__!\n"
     ]
    },
    {
     "data": {
      "text/html": [
       "<script>updateProgressBar(100)</script>"
      ],
      "text/plain": [
       "<IPython.core.display.HTML object>"
      ]
     },
     "metadata": {},
     "output_type": "display_data"
    },
    {
     "name": "stdout",
     "output_type": "stream",
     "text": [
      "counts_df is completed! ➡️\n"
     ]
    },
    {
     "data": {
      "image/png": "[encoded data removed]",
      "text/plain": [
       "<Figure size 800x1200 with 1 Axes>"
      ]
     },
     "metadata": {},
     "output_type": "display_data"
    }
   ],
   "source": [
    "counts_df = shot_locations.copy()\n",
    "counts_df.drop(columns=['count'], inplace=True)\n",
    "\n",
    "display(HTML(loading_bar_html)) # loading_bar_html\n",
    "actions_generated = Generate_Random_Match_Stats(72, 64, match_number=1)[\"pass_map\"]\n",
    "display(HTML(\"<script>updateProgressBar({})</script>\".format(progress))) # loading_bar_html\n",
    "\n",
    "data_test_series = pd.Series(dict(Counter(actions_generated))).sort_index()\n",
    "counts_df['count'] = counts_df['Pitch_Number'].map(data_test_series)\n",
    "\n",
    "def MinMaxNormalization(X):\n",
    "    min_X = X.min()\n",
    "    max_X = X.max()\n",
    "    return (X-min_X) / (max_X-min_X)\n",
    "counts_df[\"alpha\"] = MinMaxNormalization(counts_df[\"count\"])\n",
    "counts_df['count'].fillna(0, inplace=True)\n",
    "\n",
    "import ast\n",
    "def convert_to_tuple(s):\n",
    "    try:\n",
    "        return ast.literal_eval(s)\n",
    "    except (SyntaxError, ValueError):\n",
    "        return None\n",
    "\n",
    "counts_df['x_interval'] = counts_df['x_interval'].apply(convert_to_tuple)\n",
    "counts_df['y_interval'] = counts_df['y_interval'].apply(convert_to_tuple)\n",
    "\n",
    "ATTRIBUTE_TITLE = \"counts_df\"\n",
    "pitch = Pitch(pitch_type='statsbomb', pitch_color='beige', line_color='black')\n",
    "fig, ax = plt.subplots(figsize=(8, 12))\n",
    "pitch.draw(ax=ax)\n",
    "\n",
    "def draw_intervals(df, ax):\n",
    "    for _, row in df.iterrows():\n",
    "        x_start, x_end = row['x_interval']\n",
    "        y_start, y_end = row['y_interval']\n",
    "        count = row['count']\n",
    "        percentage = round(row['count'] / df['count'].sum(), 3)\n",
    "        pitch_number = row['Pitch_Number']\n",
    "        alphaValue = row['alpha']\n",
    "        \n",
    "        # Create a rectangle patch\n",
    "        rect = patches.Rectangle(\n",
    "            (y_start, x_start), \n",
    "            y_end - y_start,\n",
    "            x_end - x_start, \n",
    "            linewidth=1,\n",
    "            edgecolor='white',\n",
    "            facecolor='blue',\n",
    "            alpha=max(0.3, alphaValue)\n",
    "        )\n",
    "        \n",
    "        # Add rectangle to the plot\n",
    "        ax.add_patch(rect)\n",
    "        \n",
    "        # Add text to the rectangles\n",
    "        if count:\n",
    "            ax.text(\n",
    "                (y_start + y_end) / 2,\n",
    "                (x_start + x_end) / 2, \n",
    "                f'{count}\\n{pitch_number}', #% \\n {count} \\n {pitch_number}',\n",
    "                ha='center', va='center',\n",
    "                fontsize=5.2, color='white'\n",
    "            )\n",
    "draw_intervals(counts_df, ax)\n",
    "plt.title(f'{ATTRIBUTE_TITLE} Locations ➡️')\n",
    "saved_fig = fig.savefig(f\"plots_imgs/{ATTRIBUTE_TITLE}_Locations.png\", dpi=300, bbox_inches='tight')\n",
    "#TESTsaved_fig = fig.savefig(f\"plots_imgs/volumer.png\", dpi=300, bbox_inches='tight')\n",
    "print(f'{ATTRIBUTE_TITLE} is completed! ➡️')"
   ]
  },
  {
   "cell_type": "code",
   "execution_count": 54,
   "id": "fdc6ae78-fe2f-4d4b-b867-86d1fc99d516",
   "metadata": {},
   "outputs": [
    {
     "data": {
      "text/plain": [
       "{'Pass': 0.936986301369863, 'Shot': 0.06301369863013699, 'Dribble': 0.0}"
      ]
     },
     "execution_count": 54,
     "metadata": {},
     "output_type": "execute_result"
    }
   ],
   "source": [
    "location_df[location_df[\"Pitch_Number\"] == 234].triple_prob_dict.iloc[0]"
   ]
  },
  {
   "cell_type": "markdown",
   "id": "957c7a09-471e-4d01-85df-9976e7083563",
   "metadata": {},
   "source": [
    "<br><br><br><br><br><br><br><br>\n",
    "<h2 style=\"color:beige;background:blue;\">  Player Pick for Actions</h2>"
   ]
  },
  {
   "cell_type": "code",
   "execution_count": 55,
   "id": "9d52ee67-9c92-4211-9aba-796803308d20",
   "metadata": {},
   "outputs": [],
   "source": [
    "from tools.fm_attributes import Attributes"
   ]
  },
  {
   "cell_type": "code",
   "execution_count": 56,
   "id": "b9c95680-5330-475a-83c9-154bd9a5446d",
   "metadata": {},
   "outputs": [],
   "source": [
    "fm_attributes = Attributes.attribute_list"
   ]
  },
  {
   "cell_type": "markdown",
   "id": "1c0ba480-9bc1-430f-94fd-c4f2f7e26729",
   "metadata": {
    "jp-MarkdownHeadingCollapsed": true
   },
   "source": [
    "<br><br><br><br>\n",
    "<h3 style=\"color:beige;background:red;\">  Shooting</h3>"
   ]
  },
  {
   "cell_type": "code",
   "execution_count": 57,
   "id": "8a1bcca9-7875-4235-a9e2-c96734c6a023",
   "metadata": {},
   "outputs": [],
   "source": [
    "url = \"https://fbref.com/en/comps/Big5/2022-2023/shooting/players/2022-2023-Big-5-European-Leagues-Stats\"\n",
    "dataSHOOTING = pd.read_html(url)\n",
    "dataSHOOTING[0].columns = dataSHOOTING[0].columns.get_level_values(1)"
   ]
  },
  {
   "cell_type": "code",
   "execution_count": 58,
   "id": "60bf106d-cdda-4b2c-9bdc-48cf61db8383",
   "metadata": {},
   "outputs": [
    {
     "data": {
      "text/plain": [
       "Index(['Rk', 'Player', 'Nation', 'Pos', 'Squad', 'Comp', 'Age', 'Born', '90s',\n",
       "       'Gls', 'Sh', 'SoT', 'SoT%', 'Sh/90', 'SoT/90', 'G/Sh', 'G/SoT', 'Dist',\n",
       "       'FK', 'PK', 'PKatt', 'xG', 'npxG', 'npxG/Sh', 'G-xG', 'np:G-xG',\n",
       "       'Matches'],\n",
       "      dtype='object')"
      ]
     },
     "execution_count": 58,
     "metadata": {},
     "output_type": "execute_result"
    }
   ],
   "source": [
    "fb = dataSHOOTING[0]\n",
    "fb.columns"
   ]
  },
  {
   "cell_type": "code",
   "execution_count": 59,
   "id": "9e6c8776-695b-4da0-af44-75fd89e746cf",
   "metadata": {},
   "outputs": [],
   "source": [
    "fb['90s'] = pd.to_numeric(fb['90s'], errors='coerce')\n",
    "fb['Sh'] = pd.to_numeric(fb['Sh'], errors='coerce')\n",
    "fb['Sh/90'] = pd.to_numeric(fb['Sh/90'], errors='coerce')\n",
    "fb2 = fb[fb[\"90s\"] > 15]"
   ]
  },
  {
   "cell_type": "code",
   "execution_count": 60,
   "id": "f9dd24ff-d976-4cdb-85ae-e8da8aabf0bf",
   "metadata": {},
   "outputs": [
    {
     "data": {
      "text/html": [
       "<div>\n",
       "<style scoped>\n",
       "    .dataframe tbody tr th:only-of-type {\n",
       "        vertical-align: middle;\n",
       "    }\n",
       "\n",
       "    .dataframe tbody tr th {\n",
       "        vertical-align: top;\n",
       "    }\n",
       "\n",
       "    .dataframe thead th {\n",
       "        text-align: right;\n",
       "    }\n",
       "</style>\n",
       "<table border=\"1\" class=\"dataframe\">\n",
       "  <thead>\n",
       "    <tr style=\"text-align: right;\">\n",
       "      <th></th>\n",
       "      <th>Pos</th>\n",
       "      <th>Squad</th>\n",
       "      <th>Player</th>\n",
       "      <th>Sh</th>\n",
       "      <th>Sh/90</th>\n",
       "    </tr>\n",
       "  </thead>\n",
       "  <tbody>\n",
       "    <tr>\n",
       "      <th>2076</th>\n",
       "      <td>FW</td>\n",
       "      <td>Napoli</td>\n",
       "      <td>Victor Osimhen</td>\n",
       "      <td>132.0</td>\n",
       "      <td>4.63</td>\n",
       "    </tr>\n",
       "    <tr>\n",
       "      <th>1796</th>\n",
       "      <td>FW</td>\n",
       "      <td>Paris S-G</td>\n",
       "      <td>Kylian Mbappé</td>\n",
       "      <td>144.0</td>\n",
       "      <td>4.60</td>\n",
       "    </tr>\n",
       "    <tr>\n",
       "      <th>2018</th>\n",
       "      <td>FW</td>\n",
       "      <td>Liverpool</td>\n",
       "      <td>Darwin Núñez</td>\n",
       "      <td>84.0</td>\n",
       "      <td>4.46</td>\n",
       "    </tr>\n",
       "  </tbody>\n",
       "</table>\n",
       "</div>"
      ],
      "text/plain": [
       "     Pos      Squad          Player     Sh  Sh/90\n",
       "2076  FW     Napoli  Victor Osimhen  132.0   4.63\n",
       "1796  FW  Paris S-G   Kylian Mbappé  144.0   4.60\n",
       "2018  FW  Liverpool    Darwin Núñez   84.0   4.46"
      ]
     },
     "execution_count": 60,
     "metadata": {},
     "output_type": "execute_result"
    }
   ],
   "source": [
    "fb2.sort_values(by=\"Sh/90\", ascending=False).head(3)[[\"Pos\",\"Squad\",\"Player\",\"Sh\",\"Sh/90\"]]"
   ]
  },
  {
   "cell_type": "code",
   "execution_count": 61,
   "id": "3efeb4fb-a69a-4171-9c6f-2b6eed72c692",
   "metadata": {},
   "outputs": [],
   "source": [
    "fb_shooters = fb2.sort_values(by=\"Sh/90\", ascending=False)[[\"Pos\",\"Squad\",\"Player\",\"Sh\",\"Sh/90\"]]\n",
    "fb_shooters[\"Pos\"] = fb_shooters[\"Pos\"].apply(lambda row: row.split(\",\")[0])\n",
    "sh_merged_df = pd.merge(players_df, fb_shooters, how=\"inner\", left_on=\"Name\", right_on=\"Player\")"
   ]
  },
  {
   "cell_type": "code",
   "execution_count": 62,
   "id": "bde98ef7-637d-4148-ba56-f09884ecb4d8",
   "metadata": {},
   "outputs": [
    {
     "data": {
      "text/plain": [
       "11.78"
      ]
     },
     "execution_count": 62,
     "metadata": {},
     "output_type": "execute_result"
    }
   ],
   "source": [
    "shooters_positions = sh_merged_df.sort_values(by=\"Sh/90\", ascending=False).head(50)[\"Pos_Rank\"]\n",
    "shooters_positions.mean()"
   ]
  },
  {
   "cell_type": "code",
   "execution_count": 63,
   "id": "23953f8f-dd78-4017-aeb6-91da95b9bfc8",
   "metadata": {},
   "outputs": [
    {
     "data": {
      "text/plain": [
       "Index(['Off_the_Ball', 'Technique', 'Flair', 'Pace', 'Acceleration',\n",
       "       'First_Touch', 'Finishing', 'Agility', 'Determination', 'Dribbling'],\n",
       "      dtype='object')"
      ]
     },
     "execution_count": 63,
     "metadata": {},
     "output_type": "execute_result"
    }
   ],
   "source": [
    "shooters_ratings = sh_merged_df.sort_values(by=\"Sh/90\", ascending=False).head(50)[fm_attributes].mean().sort_values(ascending=False)\n",
    "shooting_top_cols = shooters_ratings[:10].index\n",
    "shooting_top_cols"
   ]
  },
  {
   "cell_type": "markdown",
   "id": "416bbb8b-a5fd-40e6-b724-d40d40f3c9a9",
   "metadata": {
    "jp-MarkdownHeadingCollapsed": true
   },
   "source": [
    "<br><br><br><br>\n",
    "<h3 style=\"color:yellow;background:pink;\">  Passing</h3>"
   ]
  },
  {
   "cell_type": "code",
   "execution_count": 64,
   "id": "07276367-2611-4ef5-93ae-0e51f89e4057",
   "metadata": {},
   "outputs": [],
   "source": [
    "url = \"https://fbref.com/en/comps/Big5/2022-2023/passing/players/2022-2023-Big-5-European-Leagues-Stats\"\n",
    "dataPASSING = pd.read_html(url)\n",
    "# Att, Att, Att -> same column names occurs"
   ]
  },
  {
   "cell_type": "code",
   "execution_count": 65,
   "id": "020fa133-4a2b-428f-8f16-0c065563665e",
   "metadata": {},
   "outputs": [],
   "source": [
    "fb = dataPASSING[0]\n",
    "#fb.columns"
   ]
  },
  {
   "cell_type": "code",
   "execution_count": 66,
   "id": "07551cfc-cfd7-451c-a373-25e5640bebd3",
   "metadata": {},
   "outputs": [],
   "source": [
    "fb['90s'] = pd.to_numeric(fb[('Unnamed: 8_level_0','90s')], errors='coerce')\n",
    "fb['Att'] = pd.to_numeric(fb[('Total','Att')], errors='coerce')\n",
    "fb['Pos'] = fb[('Unnamed: 3_level_0','Pos')]\n",
    "fb['Squad'] = fb[('Unnamed: 4_level_0','Squad')]\n",
    "fb['Player'] = fb[('Unnamed: 1_level_0','Player')]\n",
    "fb['Pass/90'] = fb['Att'] / fb['90s']\n",
    "fb2 = fb[fb[\"90s\"] > 15]\n",
    "fb2.columns = fb2.columns.get_level_values(0)"
   ]
  },
  {
   "cell_type": "code",
   "execution_count": 67,
   "id": "f5795898-50a2-42af-b14a-76bb2277dff3",
   "metadata": {},
   "outputs": [
    {
     "data": {
      "text/html": [
       "<div>\n",
       "<style scoped>\n",
       "    .dataframe tbody tr th:only-of-type {\n",
       "        vertical-align: middle;\n",
       "    }\n",
       "\n",
       "    .dataframe tbody tr th {\n",
       "        vertical-align: top;\n",
       "    }\n",
       "\n",
       "    .dataframe thead th {\n",
       "        text-align: right;\n",
       "    }\n",
       "</style>\n",
       "<table border=\"1\" class=\"dataframe\">\n",
       "  <thead>\n",
       "    <tr style=\"text-align: right;\">\n",
       "      <th></th>\n",
       "      <th>Pos</th>\n",
       "      <th>Squad</th>\n",
       "      <th>Player</th>\n",
       "      <th>Att</th>\n",
       "      <th>Pass/90</th>\n",
       "    </tr>\n",
       "  </thead>\n",
       "  <tbody>\n",
       "    <tr>\n",
       "      <th>2834</th>\n",
       "      <td>MF</td>\n",
       "      <td>Paris S-G</td>\n",
       "      <td>Marco Verratti</td>\n",
       "      <td>2573.0</td>\n",
       "      <td>105.450820</td>\n",
       "    </tr>\n",
       "    <tr>\n",
       "      <th>1492</th>\n",
       "      <td>MF</td>\n",
       "      <td>Real Madrid</td>\n",
       "      <td>Toni Kroos</td>\n",
       "      <td>2482.0</td>\n",
       "      <td>103.849372</td>\n",
       "    </tr>\n",
       "    <tr>\n",
       "      <th>756</th>\n",
       "      <td>DF</td>\n",
       "      <td>Manchester City</td>\n",
       "      <td>Rúben Dias</td>\n",
       "      <td>2080.0</td>\n",
       "      <td>93.693694</td>\n",
       "    </tr>\n",
       "  </tbody>\n",
       "</table>\n",
       "</div>"
      ],
      "text/plain": [
       "     Pos            Squad          Player     Att     Pass/90\n",
       "2834  MF        Paris S-G  Marco Verratti  2573.0  105.450820\n",
       "1492  MF      Real Madrid      Toni Kroos  2482.0  103.849372\n",
       "756   DF  Manchester City      Rúben Dias  2080.0   93.693694"
      ]
     },
     "execution_count": 67,
     "metadata": {},
     "output_type": "execute_result"
    }
   ],
   "source": [
    "fb2.sort_values(by=\"Pass/90\", ascending=False).head(3)[[\"Pos\",\"Squad\",\"Player\",\"Att\",\"Pass/90\"]]"
   ]
  },
  {
   "cell_type": "code",
   "execution_count": 68,
   "id": "163a3ef1-8b59-4249-af83-a157cc5294ae",
   "metadata": {},
   "outputs": [],
   "source": [
    "fb_passing = fb2.sort_values(by=\"Pass/90\", ascending=False)[[\"Pos\",\"Squad\",\"Player\",\"Att\",\"Pass/90\"]]\n",
    "fb_passing[\"Pos\"] = fb_passing[\"Pos\"].apply(lambda row: row.split(\",\")[0])\n",
    "pass_merged_df = pd.merge(players_df, fb_passing, how=\"inner\", left_on=\"Name\", right_on=\"Player\")"
   ]
  },
  {
   "cell_type": "code",
   "execution_count": 69,
   "id": "7aa7892b-823b-46c5-a505-18fb9e3148b5",
   "metadata": {},
   "outputs": [
    {
     "data": {
      "text/plain": [
       "4.32"
      ]
     },
     "execution_count": 69,
     "metadata": {},
     "output_type": "execute_result"
    }
   ],
   "source": [
    "passing_positions = pass_merged_df.sort_values(by=\"Pass/90\", ascending=False).head(50)[\"Pos_Rank\"]\n",
    "passing_positions.mean()"
   ]
  },
  {
   "cell_type": "code",
   "execution_count": 70,
   "id": "a923ce3e-8bd3-4bbd-8e94-46394fca301a",
   "metadata": {},
   "outputs": [
    {
     "data": {
      "text/plain": [
       "Index(['Determination', 'Anticipation', 'Teamwork', 'Stamina', 'Composure',\n",
       "       'Natural_Fitness', 'Passing', 'Work_Rate', 'Tackling', 'Decisions'],\n",
       "      dtype='object')"
      ]
     },
     "execution_count": 70,
     "metadata": {},
     "output_type": "execute_result"
    }
   ],
   "source": [
    "passing_ratings = pass_merged_df.sort_values(by=\"Pass/90\", ascending=False).head(50)[fm_attributes].mean().sort_values(ascending=False)\n",
    "passing_top_cols = passing_ratings[:10].index\n",
    "passing_top_cols"
   ]
  },
  {
   "cell_type": "markdown",
   "id": "339089db-9728-42b5-88d1-68d16f2e3cf4",
   "metadata": {
    "jp-MarkdownHeadingCollapsed": true
   },
   "source": [
    "<br><br><br><br>\n",
    "<h3 style=\"color:red;background:orange;\">  Dribbling</h3>"
   ]
  },
  {
   "cell_type": "code",
   "execution_count": 71,
   "id": "fcebb1da-d601-4d59-a340-45d1d64d5b89",
   "metadata": {},
   "outputs": [],
   "source": [
    "url = \"https://fbref.com/en/comps/Big5/2022-2023/possession/players/2022-2023-Big-5-European-Leagues-Stats\"\n",
    "dataDRIBBLING = pd.read_html(url)"
   ]
  },
  {
   "cell_type": "code",
   "execution_count": 72,
   "id": "ca247a90-1112-4c5b-88b4-5792bb65fa99",
   "metadata": {},
   "outputs": [],
   "source": [
    "fb = dataDRIBBLING[0]\n",
    "#fb.columns"
   ]
  },
  {
   "cell_type": "code",
   "execution_count": 73,
   "id": "ea382828-29aa-4010-86d3-dbb30e5a4b57",
   "metadata": {},
   "outputs": [],
   "source": [
    "fb['90s'] = pd.to_numeric(fb[('Unnamed: 8_level_0','90s')], errors='coerce')\n",
    "fb['Att'] = pd.to_numeric(fb[('Take-Ons','Att')], errors='coerce')\n",
    "fb['Pos'] = fb[('Unnamed: 3_level_0','Pos')]\n",
    "fb['Squad'] = fb[('Unnamed: 4_level_0','Squad')]\n",
    "fb['Player'] = fb[('Unnamed: 1_level_0','Player')]\n",
    "fb['Dribble/90'] = fb['Att'] / fb['90s']\n",
    "fb2 = fb[fb[\"90s\"] > 15]\n",
    "fb2.columns = fb2.columns.get_level_values(0)"
   ]
  },
  {
   "cell_type": "code",
   "execution_count": 74,
   "id": "a7c35bd0-bb25-42d7-a501-5c28201983d5",
   "metadata": {},
   "outputs": [
    {
     "data": {
      "text/html": [
       "<div>\n",
       "<style scoped>\n",
       "    .dataframe tbody tr th:only-of-type {\n",
       "        vertical-align: middle;\n",
       "    }\n",
       "\n",
       "    .dataframe tbody tr th {\n",
       "        vertical-align: top;\n",
       "    }\n",
       "\n",
       "    .dataframe thead th {\n",
       "        text-align: right;\n",
       "    }\n",
       "</style>\n",
       "<table border=\"1\" class=\"dataframe\">\n",
       "  <thead>\n",
       "    <tr style=\"text-align: right;\">\n",
       "      <th></th>\n",
       "      <th>Pos</th>\n",
       "      <th>Squad</th>\n",
       "      <th>Player</th>\n",
       "      <th>Att</th>\n",
       "      <th>Dribble/90</th>\n",
       "    </tr>\n",
       "  </thead>\n",
       "  <tbody>\n",
       "    <tr>\n",
       "      <th>1374</th>\n",
       "      <td>FW</td>\n",
       "      <td>Real Madrid</td>\n",
       "      <td>Vinicius Júnior</td>\n",
       "      <td>306.0</td>\n",
       "      <td>9.745223</td>\n",
       "    </tr>\n",
       "    <tr>\n",
       "      <th>546</th>\n",
       "      <td>MF,FW</td>\n",
       "      <td>Lyon</td>\n",
       "      <td>Rayan Cherki</td>\n",
       "      <td>157.0</td>\n",
       "      <td>7.548077</td>\n",
       "    </tr>\n",
       "    <tr>\n",
       "      <th>2265</th>\n",
       "      <td>MF,FW</td>\n",
       "      <td>Torino</td>\n",
       "      <td>Nemanja Radonjić</td>\n",
       "      <td>120.0</td>\n",
       "      <td>7.407407</td>\n",
       "    </tr>\n",
       "  </tbody>\n",
       "</table>\n",
       "</div>"
      ],
      "text/plain": [
       "        Pos        Squad            Player    Att  Dribble/90\n",
       "1374     FW  Real Madrid   Vinicius Júnior  306.0    9.745223\n",
       "546   MF,FW         Lyon      Rayan Cherki  157.0    7.548077\n",
       "2265  MF,FW       Torino  Nemanja Radonjić  120.0    7.407407"
      ]
     },
     "execution_count": 74,
     "metadata": {},
     "output_type": "execute_result"
    }
   ],
   "source": [
    "fb2.sort_values(by=\"Dribble/90\", ascending=False).head(3)[[\"Pos\",\"Squad\",\"Player\",\"Att\",\"Dribble/90\"]]"
   ]
  },
  {
   "cell_type": "code",
   "execution_count": 75,
   "id": "38e3e2e9-67bc-4180-a055-fc9ec6954aa8",
   "metadata": {},
   "outputs": [],
   "source": [
    "fb_dribbling = fb2.sort_values(by=\"Dribble/90\", ascending=False)[[\"Pos\",\"Squad\",\"Player\",\"Att\",\"Dribble/90\"]]\n",
    "fb_dribbling[\"Pos\"] = fb_dribbling[\"Pos\"].apply(lambda row: row.split(\",\")[0])\n",
    "dribble_merged_df = pd.merge(players_df, fb_dribbling, how=\"inner\", left_on=\"Name\", right_on=\"Player\")"
   ]
  },
  {
   "cell_type": "code",
   "execution_count": 76,
   "id": "641ac0bd-cd57-43b2-8c8d-11c725cb8080",
   "metadata": {},
   "outputs": [
    {
     "data": {
      "text/plain": [
       "11.12"
      ]
     },
     "execution_count": 76,
     "metadata": {},
     "output_type": "execute_result"
    }
   ],
   "source": [
    "dribbling_positions = dribble_merged_df.sort_values(by=\"Dribble/90\", ascending=False).head(50)[\"Pos_Rank\"]\n",
    "dribbling_positions.mean()"
   ]
  },
  {
   "cell_type": "code",
   "execution_count": 77,
   "id": "06041b0a-374b-42c8-bd77-f52c4fa1d18d",
   "metadata": {},
   "outputs": [
    {
     "data": {
      "text/plain": [
       "Index(['Dribbling', 'Acceleration', 'Flair', 'Pace', 'Technique', 'Agility',\n",
       "       'First_Touch', 'Determination', 'Natural_Fitness', 'Off_the_Ball'],\n",
       "      dtype='object')"
      ]
     },
     "execution_count": 77,
     "metadata": {},
     "output_type": "execute_result"
    }
   ],
   "source": [
    "dribbling_ratings= dribble_merged_df.sort_values(by=\"Dribble/90\", ascending=False).head(50)[fm_attributes].mean().sort_values(ascending=False)\n",
    "dribbling_top_cols = dribbling_ratings[:10].index\n",
    "dribbling_top_cols"
   ]
  },
  {
   "cell_type": "markdown",
   "id": "3ded35f6-8164-4cea-a53d-b79737bea9b5",
   "metadata": {},
   "source": [
    "<br><br>"
   ]
  },
  {
   "cell_type": "code",
   "execution_count": 135,
   "id": "9928fb49-19ed-4d59-968f-152a2d0d7f19",
   "metadata": {},
   "outputs": [],
   "source": [
    "dataPASSING[0].to_csv(\"data/Big5@Players@Passing@2022_2023.csv\",index=False)\n",
    "dataSHOOTING[0].to_csv(\"data/Big5@Players@Shooting@2022_2023.csv\",index=False)\n",
    "dataDRIBBLING[0].to_csv(\"data/Big5@Players@Dribbling@2022_2023.csv\",index=False)"
   ]
  },
  {
   "cell_type": "markdown",
   "id": "11fc1fa8-644b-4bc9-8127-a2ab16f444a0",
   "metadata": {},
   "source": [
    "<br><br><br><br><br><br><br><br>\n",
    "<h2 style=\"color:aqua;background:gray;\">  Action Player Regression</h2>"
   ]
  },
  {
   "cell_type": "code",
   "execution_count": 136,
   "id": "bf387398-cd27-4a05-b5a5-b03ef972159e",
   "metadata": {},
   "outputs": [],
   "source": [
    "# pass_merged_df, sh_merged_df, dribble_merged_df"
   ]
  },
  {
   "cell_type": "code",
   "execution_count": 137,
   "id": "d3c87e82-8c2f-4c5d-8b5a-37f824cb6224",
   "metadata": {},
   "outputs": [
    {
     "data": {
      "text/plain": [
       "Index(['Determination', 'Anticipation', 'Teamwork', 'Stamina', 'Composure',\n",
       "       'Natural_Fitness', 'Passing', 'Work_Rate', 'Tackling', 'Decisions'],\n",
       "      dtype='object')"
      ]
     },
     "execution_count": 137,
     "metadata": {},
     "output_type": "execute_result"
    }
   ],
   "source": [
    "passing_top_cols"
   ]
  },
  {
   "cell_type": "code",
   "execution_count": 138,
   "id": "2725340d-3f03-4735-b1aa-80aa4cf9e4cb",
   "metadata": {},
   "outputs": [
    {
     "data": {
      "text/plain": [
       "Index(['Off_the_Ball', 'Technique', 'Flair', 'Pace', 'Acceleration',\n",
       "       'First_Touch', 'Finishing', 'Agility', 'Determination', 'Dribbling'],\n",
       "      dtype='object')"
      ]
     },
     "execution_count": 138,
     "metadata": {},
     "output_type": "execute_result"
    }
   ],
   "source": [
    "shooting_top_cols"
   ]
  },
  {
   "cell_type": "code",
   "execution_count": 139,
   "id": "cbdf09d3-4e05-44f9-9540-a17e9d10a5ee",
   "metadata": {},
   "outputs": [
    {
     "data": {
      "text/plain": [
       "Index(['Dribbling', 'Acceleration', 'Flair', 'Pace', 'Technique', 'Agility',\n",
       "       'First_Touch', 'Determination', 'Natural_Fitness', 'Off_the_Ball'],\n",
       "      dtype='object')"
      ]
     },
     "execution_count": 139,
     "metadata": {},
     "output_type": "execute_result"
    }
   ],
   "source": [
    "dribbling_top_cols"
   ]
  },
  {
   "cell_type": "code",
   "execution_count": 140,
   "id": "658ea20d-030d-4038-9dcc-9d74d71acfca",
   "metadata": {},
   "outputs": [
    {
     "data": {
      "text/html": [
       "<div>\n",
       "<style scoped>\n",
       "    .dataframe tbody tr th:only-of-type {\n",
       "        vertical-align: middle;\n",
       "    }\n",
       "\n",
       "    .dataframe tbody tr th {\n",
       "        vertical-align: top;\n",
       "    }\n",
       "\n",
       "    .dataframe thead th {\n",
       "        text-align: right;\n",
       "    }\n",
       "</style>\n",
       "<table border=\"1\" class=\"dataframe\">\n",
       "  <thead>\n",
       "    <tr style=\"text-align: right;\">\n",
       "      <th></th>\n",
       "      <th>UID</th>\n",
       "      <th>Inf</th>\n",
       "      <th>Name</th>\n",
       "      <th>DoB</th>\n",
       "      <th>Nat</th>\n",
       "      <th>Division</th>\n",
       "      <th>Club</th>\n",
       "      <th>Based</th>\n",
       "      <th>Preferred Foot</th>\n",
       "      <th>Right Foot</th>\n",
       "      <th>...</th>\n",
       "      <th>tpr_WBL</th>\n",
       "      <th>tpr_Best</th>\n",
       "      <th>fbref_player_name</th>\n",
       "      <th>Predicted_Market_Value</th>\n",
       "      <th>Predicted_Wage</th>\n",
       "      <th>Pos</th>\n",
       "      <th>Squad</th>\n",
       "      <th>Player</th>\n",
       "      <th>Att</th>\n",
       "      <th>Pass/90</th>\n",
       "    </tr>\n",
       "  </thead>\n",
       "  <tbody>\n",
       "    <tr>\n",
       "      <th>0</th>\n",
       "      <td>92039023</td>\n",
       "      <td>NaN</td>\n",
       "      <td>Joshua Kimmich</td>\n",
       "      <td>1995-02-08</td>\n",
       "      <td>GER</td>\n",
       "      <td>Bundesliga</td>\n",
       "      <td>FC Bayern</td>\n",
       "      <td>Germany (Bundesliga)</td>\n",
       "      <td>Right</td>\n",
       "      <td>Very Strong</td>\n",
       "      <td>...</td>\n",
       "      <td>50</td>\n",
       "      <td>72</td>\n",
       "      <td>Joshua Kimmich</td>\n",
       "      <td>132205860</td>\n",
       "      <td>574047</td>\n",
       "      <td>MF</td>\n",
       "      <td>Bayern Munich</td>\n",
       "      <td>Joshua Kimmich</td>\n",
       "      <td>2767.0</td>\n",
       "      <td>88.685897</td>\n",
       "    </tr>\n",
       "    <tr>\n",
       "      <th>1</th>\n",
       "      <td>85100467</td>\n",
       "      <td>NaN</td>\n",
       "      <td>Sadio Mané</td>\n",
       "      <td>1992-04-10</td>\n",
       "      <td>SEN</td>\n",
       "      <td>Bundesliga</td>\n",
       "      <td>FC Bayern</td>\n",
       "      <td>Germany (Bundesliga)</td>\n",
       "      <td>Right</td>\n",
       "      <td>Very Strong</td>\n",
       "      <td>...</td>\n",
       "      <td>71</td>\n",
       "      <td>71</td>\n",
       "      <td>Sadio Mané</td>\n",
       "      <td>126462511</td>\n",
       "      <td>578998</td>\n",
       "      <td>FW</td>\n",
       "      <td>Bayern Munich</td>\n",
       "      <td>Sadio Mané</td>\n",
       "      <td>418.0</td>\n",
       "      <td>26.455696</td>\n",
       "    </tr>\n",
       "    <tr>\n",
       "      <th>2</th>\n",
       "      <td>35011448</td>\n",
       "      <td>NaN</td>\n",
       "      <td>Thomas Müller</td>\n",
       "      <td>1989-09-13</td>\n",
       "      <td>GER</td>\n",
       "      <td>Bundesliga</td>\n",
       "      <td>FC Bayern</td>\n",
       "      <td>Germany (Bundesliga)</td>\n",
       "      <td>Right</td>\n",
       "      <td>Very Strong</td>\n",
       "      <td>...</td>\n",
       "      <td>48</td>\n",
       "      <td>72</td>\n",
       "      <td>Thomas Müller</td>\n",
       "      <td>117372915</td>\n",
       "      <td>548507</td>\n",
       "      <td>FW</td>\n",
       "      <td>Bayern Munich</td>\n",
       "      <td>Thomas Müller</td>\n",
       "      <td>831.0</td>\n",
       "      <td>44.918919</td>\n",
       "    </tr>\n",
       "    <tr>\n",
       "      <th>3</th>\n",
       "      <td>91104807</td>\n",
       "      <td>Inj</td>\n",
       "      <td>Leon Goretzka</td>\n",
       "      <td>1995-02-06</td>\n",
       "      <td>GER</td>\n",
       "      <td>Bundesliga</td>\n",
       "      <td>FC Bayern</td>\n",
       "      <td>Germany (Bundesliga)</td>\n",
       "      <td>Right</td>\n",
       "      <td>Very Strong</td>\n",
       "      <td>...</td>\n",
       "      <td>59</td>\n",
       "      <td>69</td>\n",
       "      <td>Leon Goretzka</td>\n",
       "      <td>103593875</td>\n",
       "      <td>449375</td>\n",
       "      <td>MF</td>\n",
       "      <td>Bayern Munich</td>\n",
       "      <td>Leon Goretzka</td>\n",
       "      <td>1012.0</td>\n",
       "      <td>52.708333</td>\n",
       "    </tr>\n",
       "    <tr>\n",
       "      <th>4</th>\n",
       "      <td>37055843</td>\n",
       "      <td>NaN</td>\n",
       "      <td>Matthijs de Ligt</td>\n",
       "      <td>1999-08-12</td>\n",
       "      <td>NED</td>\n",
       "      <td>Bundesliga</td>\n",
       "      <td>FC Bayern</td>\n",
       "      <td>Germany (Bundesliga)</td>\n",
       "      <td>Right</td>\n",
       "      <td>Very Strong</td>\n",
       "      <td>...</td>\n",
       "      <td>48</td>\n",
       "      <td>67</td>\n",
       "      <td>Matthijs de Ligt</td>\n",
       "      <td>125790086</td>\n",
       "      <td>513649</td>\n",
       "      <td>DF</td>\n",
       "      <td>Bayern Munich</td>\n",
       "      <td>Matthijs de Ligt</td>\n",
       "      <td>2088.0</td>\n",
       "      <td>78.202247</td>\n",
       "    </tr>\n",
       "    <tr>\n",
       "      <th>...</th>\n",
       "      <td>...</td>\n",
       "      <td>...</td>\n",
       "      <td>...</td>\n",
       "      <td>...</td>\n",
       "      <td>...</td>\n",
       "      <td>...</td>\n",
       "      <td>...</td>\n",
       "      <td>...</td>\n",
       "      <td>...</td>\n",
       "      <td>...</td>\n",
       "      <td>...</td>\n",
       "      <td>...</td>\n",
       "      <td>...</td>\n",
       "      <td>...</td>\n",
       "      <td>...</td>\n",
       "      <td>...</td>\n",
       "      <td>...</td>\n",
       "      <td>...</td>\n",
       "      <td>...</td>\n",
       "      <td>...</td>\n",
       "      <td>...</td>\n",
       "    </tr>\n",
       "    <tr>\n",
       "      <th>1119</th>\n",
       "      <td>19377206</td>\n",
       "      <td>NaN</td>\n",
       "      <td>Luiz Henrique</td>\n",
       "      <td>2001-01-02</td>\n",
       "      <td>BRA</td>\n",
       "      <td>Spanish First Division</td>\n",
       "      <td>Real Betis</td>\n",
       "      <td>Spain (First Division)</td>\n",
       "      <td>Left Only</td>\n",
       "      <td>Weak</td>\n",
       "      <td>...</td>\n",
       "      <td>46</td>\n",
       "      <td>57</td>\n",
       "      <td>Luiz Henrique</td>\n",
       "      <td>13053564</td>\n",
       "      <td>18257</td>\n",
       "      <td>FW</td>\n",
       "      <td>Betis</td>\n",
       "      <td>Luiz Henrique</td>\n",
       "      <td>561.0</td>\n",
       "      <td>27.910448</td>\n",
       "    </tr>\n",
       "    <tr>\n",
       "      <th>1120</th>\n",
       "      <td>49056280</td>\n",
       "      <td>NaN</td>\n",
       "      <td>Malo Gusto</td>\n",
       "      <td>2003-05-19</td>\n",
       "      <td>FRA</td>\n",
       "      <td>Ligue 1 Uber Eats</td>\n",
       "      <td>Lyon</td>\n",
       "      <td>France (Ligue 1 Uber Eats)</td>\n",
       "      <td>Right Only</td>\n",
       "      <td>Very Strong</td>\n",
       "      <td>...</td>\n",
       "      <td>43</td>\n",
       "      <td>57</td>\n",
       "      <td>Malo Gusto</td>\n",
       "      <td>14909456</td>\n",
       "      <td>15982</td>\n",
       "      <td>DF</td>\n",
       "      <td>Lyon</td>\n",
       "      <td>Malo Gusto</td>\n",
       "      <td>1437.0</td>\n",
       "      <td>81.186441</td>\n",
       "    </tr>\n",
       "    <tr>\n",
       "      <th>1121</th>\n",
       "      <td>49056273</td>\n",
       "      <td>Wnt</td>\n",
       "      <td>Castello Lukeba</td>\n",
       "      <td>2002-12-17</td>\n",
       "      <td>FRA</td>\n",
       "      <td>Ligue 1 Uber Eats</td>\n",
       "      <td>Lyon</td>\n",
       "      <td>France (Ligue 1 Uber Eats)</td>\n",
       "      <td>Left</td>\n",
       "      <td>Weak</td>\n",
       "      <td>...</td>\n",
       "      <td>47</td>\n",
       "      <td>59</td>\n",
       "      <td>Castello Lukeba</td>\n",
       "      <td>20401815</td>\n",
       "      <td>24815</td>\n",
       "      <td>DF</td>\n",
       "      <td>Lyon</td>\n",
       "      <td>Castello Lukeba</td>\n",
       "      <td>2257.0</td>\n",
       "      <td>67.981928</td>\n",
       "    </tr>\n",
       "    <tr>\n",
       "      <th>1122</th>\n",
       "      <td>49056282</td>\n",
       "      <td>Wnt</td>\n",
       "      <td>Bradley Barcola</td>\n",
       "      <td>2002-09-02</td>\n",
       "      <td>FRA</td>\n",
       "      <td>Ligue 1 Uber Eats</td>\n",
       "      <td>Lyon</td>\n",
       "      <td>France (Ligue 1 Uber Eats)</td>\n",
       "      <td>Right</td>\n",
       "      <td>Very Strong</td>\n",
       "      <td>...</td>\n",
       "      <td>62</td>\n",
       "      <td>52</td>\n",
       "      <td>Bradley Barcola</td>\n",
       "      <td>7537204</td>\n",
       "      <td>1341</td>\n",
       "      <td>FW</td>\n",
       "      <td>Lyon</td>\n",
       "      <td>Bradley Barcola</td>\n",
       "      <td>466.0</td>\n",
       "      <td>29.125000</td>\n",
       "    </tr>\n",
       "    <tr>\n",
       "      <th>1123</th>\n",
       "      <td>2000102722</td>\n",
       "      <td>Wnt</td>\n",
       "      <td>Wilson Odobert</td>\n",
       "      <td>2004-11-28</td>\n",
       "      <td>FRA</td>\n",
       "      <td>Ligue 1 Uber Eats</td>\n",
       "      <td>Troyes</td>\n",
       "      <td>France (Ligue 1 Uber Eats)</td>\n",
       "      <td>Left</td>\n",
       "      <td>Reasonable</td>\n",
       "      <td>...</td>\n",
       "      <td>59</td>\n",
       "      <td>47</td>\n",
       "      <td>Wilson Odobert</td>\n",
       "      <td>422868</td>\n",
       "      <td>100</td>\n",
       "      <td>MF</td>\n",
       "      <td>Troyes</td>\n",
       "      <td>Wilson Odobert</td>\n",
       "      <td>538.0</td>\n",
       "      <td>27.448980</td>\n",
       "    </tr>\n",
       "  </tbody>\n",
       "</table>\n",
       "<p>1124 rows × 107 columns</p>\n",
       "</div>"
      ],
      "text/plain": [
       "             UID  Inf              Name         DoB  Nat  \\\n",
       "0       92039023  NaN    Joshua Kimmich  1995-02-08  GER   \n",
       "1       85100467  NaN        Sadio Mané  1992-04-10  SEN   \n",
       "2       35011448  NaN     Thomas Müller  1989-09-13  GER   \n",
       "3       91104807  Inj     Leon Goretzka  1995-02-06  GER   \n",
       "4       37055843  NaN  Matthijs de Ligt  1999-08-12  NED   \n",
       "...          ...  ...               ...         ...  ...   \n",
       "1119    19377206  NaN     Luiz Henrique  2001-01-02  BRA   \n",
       "1120    49056280  NaN        Malo Gusto  2003-05-19  FRA   \n",
       "1121    49056273  Wnt   Castello Lukeba  2002-12-17  FRA   \n",
       "1122    49056282  Wnt   Bradley Barcola  2002-09-02  FRA   \n",
       "1123  2000102722  Wnt    Wilson Odobert  2004-11-28  FRA   \n",
       "\n",
       "                    Division        Club                       Based  \\\n",
       "0                 Bundesliga   FC Bayern        Germany (Bundesliga)   \n",
       "1                 Bundesliga   FC Bayern        Germany (Bundesliga)   \n",
       "2                 Bundesliga   FC Bayern        Germany (Bundesliga)   \n",
       "3                 Bundesliga   FC Bayern        Germany (Bundesliga)   \n",
       "4                 Bundesliga   FC Bayern        Germany (Bundesliga)   \n",
       "...                      ...         ...                         ...   \n",
       "1119  Spanish First Division  Real Betis      Spain (First Division)   \n",
       "1120       Ligue 1 Uber Eats        Lyon  France (Ligue 1 Uber Eats)   \n",
       "1121       Ligue 1 Uber Eats        Lyon  France (Ligue 1 Uber Eats)   \n",
       "1122       Ligue 1 Uber Eats        Lyon  France (Ligue 1 Uber Eats)   \n",
       "1123       Ligue 1 Uber Eats      Troyes  France (Ligue 1 Uber Eats)   \n",
       "\n",
       "     Preferred Foot   Right Foot  ... tpr_WBL tpr_Best  fbref_player_name  \\\n",
       "0             Right  Very Strong  ...      50       72     Joshua Kimmich   \n",
       "1             Right  Very Strong  ...      71       71         Sadio Mané   \n",
       "2             Right  Very Strong  ...      48       72      Thomas Müller   \n",
       "3             Right  Very Strong  ...      59       69      Leon Goretzka   \n",
       "4             Right  Very Strong  ...      48       67   Matthijs de Ligt   \n",
       "...             ...          ...  ...     ...      ...                ...   \n",
       "1119      Left Only         Weak  ...      46       57      Luiz Henrique   \n",
       "1120     Right Only  Very Strong  ...      43       57         Malo Gusto   \n",
       "1121           Left         Weak  ...      47       59    Castello Lukeba   \n",
       "1122          Right  Very Strong  ...      62       52    Bradley Barcola   \n",
       "1123           Left   Reasonable  ...      59       47     Wilson Odobert   \n",
       "\n",
       "     Predicted_Market_Value  Predicted_Wage Pos          Squad  \\\n",
       "0                 132205860          574047  MF  Bayern Munich   \n",
       "1                 126462511          578998  FW  Bayern Munich   \n",
       "2                 117372915          548507  FW  Bayern Munich   \n",
       "3                 103593875          449375  MF  Bayern Munich   \n",
       "4                 125790086          513649  DF  Bayern Munich   \n",
       "...                     ...             ...  ..            ...   \n",
       "1119               13053564           18257  FW          Betis   \n",
       "1120               14909456           15982  DF           Lyon   \n",
       "1121               20401815           24815  DF           Lyon   \n",
       "1122                7537204            1341  FW           Lyon   \n",
       "1123                 422868             100  MF         Troyes   \n",
       "\n",
       "                Player     Att    Pass/90  \n",
       "0       Joshua Kimmich  2767.0  88.685897  \n",
       "1           Sadio Mané   418.0  26.455696  \n",
       "2        Thomas Müller   831.0  44.918919  \n",
       "3        Leon Goretzka  1012.0  52.708333  \n",
       "4     Matthijs de Ligt  2088.0  78.202247  \n",
       "...                ...     ...        ...  \n",
       "1119     Luiz Henrique   561.0  27.910448  \n",
       "1120        Malo Gusto  1437.0  81.186441  \n",
       "1121   Castello Lukeba  2257.0  67.981928  \n",
       "1122   Bradley Barcola   466.0  29.125000  \n",
       "1123    Wilson Odobert   538.0  27.448980  \n",
       "\n",
       "[1124 rows x 107 columns]"
      ]
     },
     "execution_count": 140,
     "metadata": {},
     "output_type": "execute_result"
    }
   ],
   "source": [
    "pass_merged_df"
   ]
  },
  {
   "cell_type": "code",
   "execution_count": 394,
   "id": "642c031b-1ee9-4196-855e-862087d01355",
   "metadata": {},
   "outputs": [],
   "source": [
    "current_df = sh_merged_df.copy()\n",
    "current_cols = np.concatenate((shooting_top_cols, [\"Pos_Rank\"]))\n",
    "current_target = 'Sh/90'"
   ]
  },
  {
   "cell_type": "code",
   "execution_count": null,
   "id": "eab45288-a9c0-46c0-b27a-73eb0a055097",
   "metadata": {},
   "outputs": [],
   "source": [
    "import numpy as np\n",
    "import pandas as pd\n",
    "from sklearn.model_selection import train_test_split, GridSearchCV\n",
    "from sklearn.ensemble import RandomForestRegressor\n",
    "from sklearn.metrics import mean_squared_error, r2_score, mean_absolute_error\n",
    "\n",
    "df = current_df\n",
    "X = df[current_cols]\n",
    "y = df[current_target].astype(float)\n",
    "\n",
    "X_train, X_test, y_train, y_test = train_test_split(X, y, test_size=0.20, random_state=0)\n",
    "\n",
    "model_plate = RandomForestRegressor(random_state=0)\n",
    "\n",
    "param_grid = {\n",
    "    'n_estimators': [100, 200, 300],\n",
    "    'max_depth': [None, 10, 20, 30],\n",
    "    'min_samples_split': [2, 5, 10],\n",
    "    'min_samples_leaf': [1, 2, 4]\n",
    "}\n",
    "\n",
    "grid_search = GridSearchCV(estimator=model_plate, param_grid=param_grid, cv=5, scoring='neg_mean_squared_error', n_jobs=-1)\n",
    "grid_search.fit(X_train, y_train)\n",
    "\n",
    "model = grid_search.best_estimator_\n",
    "\n",
    "y_pred = best_model.predict(X_test)\n",
    "\n",
    "mse = mean_squared_error(y_test, y_pred)\n",
    "mae = mean_absolute_error(y_test, y_pred)\n",
    "r2 = r2_score(y_test, y_pred)\n",
    "\n",
    "print(\"Best parameters:\", grid_search.best_params_)\n",
    "print(\"Mean Squared Error:\", mse)\n",
    "print(\"Mean Absolute Error:\", mae)\n",
    "print(\"R² Score:\", r2)"
   ]
  },
  {
   "cell_type": "code",
   "execution_count": null,
   "id": "3b0fc4a5-d61f-4ec3-8697-60cf1ebc5b36",
   "metadata": {},
   "outputs": [],
   "source": [
    "def DictToPredictionDict(d: dict) -> pd.DataFrame:\n",
    "    rdict = {}\n",
    "    for k,v in d.items():\n",
    "        rdict[k] = [v]\n",
    "    return pd.DataFrame(rdict)"
   ]
  },
  {
   "cell_type": "code",
   "execution_count": null,
   "id": "912d6fa8-91c1-4943-a63e-fb3fc24ea799",
   "metadata": {},
   "outputs": [],
   "source": [
    "idx = 5\n",
    "d1 = current_df.iloc[idx][current_cols].to_dict()\n",
    "d2 = DictToPredictionDict(d1)\n",
    "print(current_df.iloc[idx][\"Name\"])\n",
    "print(current_df.iloc[idx][\"Pos_Rank\"])\n",
    "print(current_df.iloc[idx][current_target])"
   ]
  },
  {
   "cell_type": "code",
   "execution_count": null,
   "id": "6acd343d-4c8e-4a8e-9a0d-656109799925",
   "metadata": {},
   "outputs": [],
   "source": [
    "d2[\"Pos_Rank\"]\n",
    "model.predict(d2)"
   ]
  },
  {
   "cell_type": "code",
   "execution_count": null,
   "id": "de168176-981a-49e9-b99e-69b52b0ce010",
   "metadata": {},
   "outputs": [],
   "source": [
    "importances = model.feature_importances_\n",
    "feature_names = X.columns\n",
    "feature_importance_df = pd.DataFrame({'Feature': feature_names, 'Importance': importances})\n",
    "feature_importance_df = feature_importance_df.sort_values(by='Importance', ascending=False)\n",
    "print(feature_importance_df)"
   ]
  },
  {
   "cell_type": "code",
   "execution_count": null,
   "id": "6ac90ba3-274a-432a-be8b-b98571d7721a",
   "metadata": {},
   "outputs": [],
   "source": [
    "test1 = players_df.query(\"Name == 'Jack Grealish'\").iloc[0][current_cols].to_dict()\n",
    "dica = DictToPredictionDict(test1)\n",
    "model.predict(dica)"
   ]
  },
  {
   "cell_type": "code",
   "execution_count": 372,
   "id": "95f82743-52f2-42d2-9cbd-91f1f33e05f0",
   "metadata": {},
   "outputs": [],
   "source": [
    "from tools.pickler import Save_Model, Load_Model\n",
    "#Save_Model(\"_\", \"models/\", model)"
   ]
  },
  {
   "cell_type": "code",
   "execution_count": null,
   "id": "c0381142-df81-40fd-b1b5-9b119bc15472",
   "metadata": {},
   "outputs": [],
   "source": []
  }
 ],
 "metadata": {
  "kernelspec": {
   "display_name": "Python 3 (ipykernel)",
   "language": "python",
   "name": "python3"
  },
  "language_info": {
   "codemirror_mode": {
    "name": "ipython",
    "version": 3
   },
   "file_extension": ".py",
   "mimetype": "text/x-python",
   "name": "python",
   "nbconvert_exporter": "python",
   "pygments_lexer": "ipython3",
   "version": "3.11.7"
  }
 },
 "nbformat": 4,
 "nbformat_minor": 5
}
