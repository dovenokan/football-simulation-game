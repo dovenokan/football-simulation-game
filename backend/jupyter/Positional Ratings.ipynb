{
 "cells": [
  {
   "cell_type": "code",
   "execution_count": 1,
   "id": "d1afd80f-f14d-4cbf-a716-b6ae2edf71ad",
   "metadata": {},
   "outputs": [],
   "source": [
    "import pandas as pd\n",
    "import numpy as np\n",
    "import seaborn as sns\n",
    "import matplotlib.pyplot as plt\n",
    "import re\n",
    "import warnings"
   ]
  },
  {
   "cell_type": "code",
   "execution_count": 2,
   "id": "d49f9df9-4f91-4bf7-bb57-dba875f97a91",
   "metadata": {},
   "outputs": [],
   "source": [
    "import warnings\n",
    "from pandas.errors import SettingWithCopyWarning\n",
    "warnings.simplefilter(action='ignore', category=(SettingWithCopyWarning))\n",
    "warnings.simplefilter(action='ignore', category=(FutureWarning))"
   ]
  },
  {
   "cell_type": "code",
   "execution_count": 3,
   "id": "216536f1-2c8e-48d7-ae78-6c0c48c897a9",
   "metadata": {},
   "outputs": [],
   "source": [
    "pdf = pd.read_csv(\"players_db/fm23/platinum22_fm23data.csv\")\n",
    "udf = pd.read_csv(\"players_db/fm23/fm23db_processed.csv\")"
   ]
  },
  {
   "cell_type": "code",
   "execution_count": 4,
   "id": "1c9546ca-ac05-4b58-876c-eb99ece158ae",
   "metadata": {},
   "outputs": [],
   "source": [
    "df = pd.merge(pdf, udf, how='inner', left_on='Name', right_on='Name')"
   ]
  },
  {
   "cell_type": "code",
   "execution_count": 5,
   "id": "3a3e4ba5-2b78-4360-a748-0640b2c86c28",
   "metadata": {},
   "outputs": [],
   "source": [
    "positions = ['DM', 'AML', 'AMC', 'GK', 'MC', 'DC', 'AMR', 'DL', 'DR', 'ST',\n",
    "       'ML', 'MR', 'WBR', 'WBL']\n",
    "\n",
    "df = df[[\"Name\", \"Best_Pos\"] + positions]"
   ]
  },
  {
   "cell_type": "code",
   "execution_count": 6,
   "id": "36e152de-c8af-4845-855d-bdf3226697e5",
   "metadata": {},
   "outputs": [
    {
     "name": "stdout",
     "output_type": "stream",
     "text": [
      "Regression formulas have been saved to position_regression_formulas.csv\n"
     ]
    }
   ],
   "source": [
    "import pandas as pd\n",
    "import statsmodels.api as sm\n",
    "\n",
    "# Initialize a list to store the results\n",
    "results = []\n",
    "\n",
    "# Iterate over each unique Best_Pos\n",
    "for best_pos in df['Best_Pos'].unique():\n",
    "    # Filter rows where Best_Pos matches the current best_pos\n",
    "    df_best_pos = df[df['Best_Pos'] == best_pos]\n",
    "    \n",
    "    # Dictionary to store the regression coefficients for this best_pos\n",
    "    coefficients = {'Best_Pos': best_pos}\n",
    "    \n",
    "    # Iterate over each position to generate the regression model\n",
    "    for pos in positions:\n",
    "        # Independent variable (rating in best position)\n",
    "        X = df_best_pos[best_pos]\n",
    "        \n",
    "        # Dependent variable (rating in another position)\n",
    "        Y = df_best_pos[pos]\n",
    "        \n",
    "        if len(X) < 2:  # Skip if not enough data to fit a model\n",
    "            coefficients[f'{pos}_intercept'] = None\n",
    "            coefficients[f'{pos}_slope'] = None\n",
    "            continue\n",
    "        \n",
    "        # Add constant to the independent variable\n",
    "        X = sm.add_constant(X)\n",
    "        \n",
    "        # Fit the regression model\n",
    "        model = sm.OLS(Y, X).fit()\n",
    "        \n",
    "        # Get the regression coefficients\n",
    "        if len(model.params) == 2:  # Check if model.params has two elements\n",
    "            intercept, slope = model.params\n",
    "            coefficients[f'{pos}_intercept'] = round(intercept, 2)\n",
    "            coefficients[f'{pos}_slope'] = round(slope, 2)\n",
    "        else:\n",
    "            coefficients[f'{pos}_intercept'] = None\n",
    "            coefficients[f'{pos}_slope'] = None\n",
    "    \n",
    "    # Append the coefficients dictionary to results\n",
    "    results.append(coefficients)\n",
    "\n",
    "# Convert the results list to a DataFrame\n",
    "results_df = pd.DataFrame(results)\n",
    "\n",
    "# Save the results to a CSV file\n",
    "results_df.to_csv('players_db/fm23/position_regression_formulas.csv', index=False)\n",
    "\n",
    "print(\"Regression formulas have been saved to position_regression_formulas.csv\")\n"
   ]
  },
  {
   "cell_type": "code",
   "execution_count": 7,
   "id": "a738d31c-70d8-4c43-a1bb-1b2e8f5bddf8",
   "metadata": {},
   "outputs": [
    {
     "data": {
      "text/plain": [
       "Name        Kevin De Bruyne\n",
       "Best_Pos                 MC\n",
       "DM                       12\n",
       "AML                      14\n",
       "AMC                      20\n",
       "GK                        1\n",
       "MC                       20\n",
       "DC                        1\n",
       "AMR                      14\n",
       "DL                        1\n",
       "DR                        1\n",
       "ST                       12\n",
       "ML                       15\n",
       "MR                       15\n",
       "WBR                       1\n",
       "WBL                       1\n",
       "Name: 0, dtype: object"
      ]
     },
     "execution_count": 7,
     "metadata": {},
     "output_type": "execute_result"
    }
   ],
   "source": [
    "df.iloc[0]"
   ]
  },
  {
   "cell_type": "code",
   "execution_count": 8,
   "id": "5061374d-c189-4709-83fa-1f1c94e67ccc",
   "metadata": {},
   "outputs": [],
   "source": [
    "tf = pd.read_csv(\"players_db/fm23/position_regression_formulas.csv\")"
   ]
  },
  {
   "cell_type": "code",
   "execution_count": 9,
   "id": "5341dec5-4e90-4aa2-8856-1e129e7afefd",
   "metadata": {},
   "outputs": [],
   "source": [
    "data = tf[tf.Best_Pos==\"DM\"]"
   ]
  },
  {
   "cell_type": "code",
   "execution_count": 10,
   "id": "cb42e8fd-9513-4afb-b4e3-0181555bf347",
   "metadata": {},
   "outputs": [
    {
     "data": {
      "text/html": [
       "<div>\n",
       "<style scoped>\n",
       "    .dataframe tbody tr th:only-of-type {\n",
       "        vertical-align: middle;\n",
       "    }\n",
       "\n",
       "    .dataframe tbody tr th {\n",
       "        vertical-align: top;\n",
       "    }\n",
       "\n",
       "    .dataframe thead th {\n",
       "        text-align: right;\n",
       "    }\n",
       "</style>\n",
       "<table border=\"1\" class=\"dataframe\">\n",
       "  <thead>\n",
       "    <tr style=\"text-align: right;\">\n",
       "      <th></th>\n",
       "      <th>Best_Pos</th>\n",
       "      <th>DM_intercept</th>\n",
       "      <th>DM_slope</th>\n",
       "      <th>AML_intercept</th>\n",
       "      <th>AML_slope</th>\n",
       "      <th>AMC_intercept</th>\n",
       "      <th>AMC_slope</th>\n",
       "      <th>GK_intercept</th>\n",
       "      <th>GK_slope</th>\n",
       "      <th>MC_intercept</th>\n",
       "      <th>...</th>\n",
       "      <th>ST_intercept</th>\n",
       "      <th>ST_slope</th>\n",
       "      <th>ML_intercept</th>\n",
       "      <th>ML_slope</th>\n",
       "      <th>MR_intercept</th>\n",
       "      <th>MR_slope</th>\n",
       "      <th>WBR_intercept</th>\n",
       "      <th>WBR_slope</th>\n",
       "      <th>WBL_intercept</th>\n",
       "      <th>WBL_slope</th>\n",
       "    </tr>\n",
       "  </thead>\n",
       "  <tbody>\n",
       "    <tr>\n",
       "      <th>7</th>\n",
       "      <td>DM</td>\n",
       "      <td>0.0</td>\n",
       "      <td>1.0</td>\n",
       "      <td>10.13</td>\n",
       "      <td>-0.43</td>\n",
       "      <td>5.49</td>\n",
       "      <td>-0.03</td>\n",
       "      <td>1.0</td>\n",
       "      <td>-0.0</td>\n",
       "      <td>2.48</td>\n",
       "      <td>...</td>\n",
       "      <td>1.03</td>\n",
       "      <td>0.01</td>\n",
       "      <td>8.08</td>\n",
       "      <td>-0.28</td>\n",
       "      <td>10.04</td>\n",
       "      <td>-0.34</td>\n",
       "      <td>9.56</td>\n",
       "      <td>-0.36</td>\n",
       "      <td>11.69</td>\n",
       "      <td>-0.5</td>\n",
       "    </tr>\n",
       "  </tbody>\n",
       "</table>\n",
       "<p>1 rows × 29 columns</p>\n",
       "</div>"
      ],
      "text/plain": [
       "  Best_Pos  DM_intercept  DM_slope  AML_intercept  AML_slope  AMC_intercept  \\\n",
       "7       DM           0.0       1.0          10.13      -0.43           5.49   \n",
       "\n",
       "   AMC_slope  GK_intercept  GK_slope  MC_intercept  ...  ST_intercept  \\\n",
       "7      -0.03           1.0      -0.0          2.48  ...          1.03   \n",
       "\n",
       "   ST_slope  ML_intercept  ML_slope  MR_intercept  MR_slope  WBR_intercept  \\\n",
       "7      0.01          8.08     -0.28         10.04     -0.34           9.56   \n",
       "\n",
       "   WBR_slope  WBL_intercept  WBL_slope  \n",
       "7      -0.36          11.69       -0.5  \n",
       "\n",
       "[1 rows x 29 columns]"
      ]
     },
     "execution_count": 10,
     "metadata": {},
     "output_type": "execute_result"
    }
   ],
   "source": [
    "data"
   ]
  },
  {
   "cell_type": "code",
   "execution_count": 11,
   "id": "67bd2374-98a9-4c17-ae44-cd823356831c",
   "metadata": {},
   "outputs": [
    {
     "name": "stdout",
     "output_type": "stream",
     "text": [
      "DM 20\n",
      "AML 1\n",
      "AMC 4\n",
      "GK 1\n",
      "MC 17\n",
      "DC 8\n",
      "AMR 1\n",
      "DL 1\n",
      "DR 3\n",
      "ST 1\n",
      "ML 2\n",
      "MR 3\n",
      "WBR 2\n",
      "WBL 1\n"
     ]
    }
   ],
   "source": [
    "for pos in positions:\n",
    "    m = f'{pos}_slope'\n",
    "    n = f'{pos}_intercept'\n",
    "    y = data[m].iloc[0]*20 + data[n].iloc[0]\n",
    "    print(pos, int(y))"
   ]
  },
  {
   "cell_type": "code",
   "execution_count": null,
   "id": "f2823e7f-480e-403b-88d3-171b9b87124e",
   "metadata": {},
   "outputs": [],
   "source": []
  },
  {
   "cell_type": "code",
   "execution_count": null,
   "id": "25011311-cc2f-4764-afa6-e5e9769646d3",
   "metadata": {},
   "outputs": [],
   "source": []
  }
 ],
 "metadata": {
  "kernelspec": {
   "display_name": "Python 3 (ipykernel)",
   "language": "python",
   "name": "python3"
  },
  "language_info": {
   "codemirror_mode": {
    "name": "ipython",
    "version": 3
   },
   "file_extension": ".py",
   "mimetype": "text/x-python",
   "name": "python",
   "nbconvert_exporter": "python",
   "pygments_lexer": "ipython3",
   "version": "3.11.7"
  }
 },
 "nbformat": 4,
 "nbformat_minor": 5
}
