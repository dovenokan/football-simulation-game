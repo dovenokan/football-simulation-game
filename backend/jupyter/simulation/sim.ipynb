{
 "cells": [
  {
   "cell_type": "code",
   "execution_count": null,
   "id": "a1325a8d-6c1b-4a43-924e-81ce664d56f8",
   "metadata": {},
   "outputs": [],
   "source": [
    "import pandas as pd\n",
    "import numpy as np\n",
    "import seaborn as sns\n",
    "import matplotlib.pyplot as plt\n",
    "import re\n",
    "import warnings"
   ]
  },
  {
   "cell_type": "code",
   "execution_count": null,
   "id": "af26689f-0552-4257-a981-2523b81bb028",
   "metadata": {},
   "outputs": [],
   "source": []
  },
  {
   "cell_type": "markdown",
   "id": "5de128e0-3686-4da1-9ab6-db287fc874a8",
   "metadata": {},
   "source": [
    "### Actions\n",
    "- Pass\n",
    "- Shot\n",
    "- Defense -> Foul()\n",
    "- Save -> Post_Save()\n",
    "- Dribbling -> Foul()\n",
    "### Outcomes"
   ]
  },
  {
   "cell_type": "markdown",
   "id": "51588011-d0d0-4b4c-bd01-8837ae05a53d",
   "metadata": {},
   "source": [
    "- `snake_case`: This style uses lowercase words separated by underscores. Example: `calculate_area_of_rectangle`.\r\n",
    "\r\n",
    "- `camelCase`: This style uses lowercase for the first word and capitalizes subsequent words without any separators. Example: `calculateAreaOfRectangle`.\r\n",
    "\r\n",
    "- `PascalCase`: Also known as UpperCamelCase, this style capitalizes the first letter of each word, including the first word. Example: `CalculateAreaOfRectangle`.\r\n",
    "\r\n",
    "- `UPPER_CASE`: This style uses all uppercase letters with words separated by underscores. Example: `CALCULATE_AREA_OF_RECTANGLE`.\r\n"
   ]
  },
  {
   "cell_type": "markdown",
   "id": "a77aa7d9-5f16-4121-be1b-b60a1bb6cef8",
   "metadata": {},
   "source": [
    "<br><br><br><br>\n",
    "<h1 style=\"color: red\">Actions</h1>"
   ]
  },
  {
   "cell_type": "code",
   "execution_count": null,
   "id": "281a0de9-ed78-4c85-a286-8b8f6e724642",
   "metadata": {},
   "outputs": [],
   "source": []
  },
  {
   "cell_type": "code",
   "execution_count": null,
   "id": "3d5cad4a-2c05-4e0e-9657-3d9a1e5e17ac",
   "metadata": {},
   "outputs": [],
   "source": []
  }
 ],
 "metadata": {
  "kernelspec": {
   "display_name": "Python 3 (ipykernel)",
   "language": "python",
   "name": "python3"
  },
  "language_info": {
   "codemirror_mode": {
    "name": "ipython",
    "version": 3
   },
   "file_extension": ".py",
   "mimetype": "text/x-python",
   "name": "python",
   "nbconvert_exporter": "python",
   "pygments_lexer": "ipython3",
   "version": "3.11.7"
  }
 },
 "nbformat": 4,
 "nbformat_minor": 5
}
