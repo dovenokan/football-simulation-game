{
 "cells": [
  {
   "cell_type": "code",
   "execution_count": 1,
   "id": "7094e2f4-55da-44c8-9be0-dc87ca54e394",
   "metadata": {},
   "outputs": [],
   "source": [
    "import pandas as pd\n",
    "import numpy as np\n",
    "import seaborn as sns\n",
    "import matplotlib.pyplot as plt\n",
    "import re"
   ]
  },
  {
   "cell_type": "code",
   "execution_count": 2,
   "id": "acc88b82-ba07-45e9-8425-05fd51bdadec",
   "metadata": {},
   "outputs": [],
   "source": [
    "df = pd.read_csv(\"./players_db/fm23/fm23db_v1.csv\")"
   ]
  },
  {
   "cell_type": "code",
   "execution_count": 3,
   "id": "deb01957-4f0f-4c7e-b3c2-03e64dab34e3",
   "metadata": {},
   "outputs": [
    {
     "data": {
      "text/plain": [
       "Index(['Unnamed: 0.1', 'UID', 'Inf', 'Name', 'DoB', 'Nat', 'Division', 'Club',\n",
       "       'Based', 'Preferred Foot', 'Right Foot', 'Left Foot', 'Position',\n",
       "       'Height', 'Weight', 'Age', 'Transfer Value', 'Wage', 'AT Apps',\n",
       "       'AT Gls', 'Team', 'Caps', 'Yth Apps', 'Style', 'Rc Injury', 'Best Role',\n",
       "       'Best Duty', 'Best Pos', 'acceleration', 'aerial', 'aggression',\n",
       "       'agility', 'anticipation', 'balance', 'bravery', 'command of area',\n",
       "       'communication', 'composure', 'concentration', 'corners', 'crossing',\n",
       "       'decisions', 'determination', 'dribbling', 'eccentricity', 'finishing',\n",
       "       'first touch', 'flair', 'free kick taking', 'handling', 'heading',\n",
       "       'jumping reach', 'kicking', 'leadership', 'long shots', 'long throws',\n",
       "       'marking', 'fitness', 'off the ball', 'one vs one', 'pace', 'passing',\n",
       "       'penalty taking', 'positioning', 'punching', 'reflexes', 'rushing out',\n",
       "       'stamina', 'strength', 'tackling', 'teamwork', 'technique', 'throwing',\n",
       "       'vision', 'work rate', 'Unnamed: 0', 'fm', 'normal'],\n",
       "      dtype='object')"
      ]
     },
     "execution_count": 3,
     "metadata": {},
     "output_type": "execute_result"
    }
   ],
   "source": [
    "df.columns"
   ]
  },
  {
   "cell_type": "code",
   "execution_count": 4,
   "id": "29b193ef-d2f6-4605-909c-89d09760d235",
   "metadata": {},
   "outputs": [
    {
     "data": {
      "text/plain": [
       "{'Unnamed: 0.1': {3911: 3911},\n",
       " 'UID': {3911: 70112874},\n",
       " 'Inf': {3911: nan},\n",
       " 'Name': {3911: 'Barış Yılmaz'},\n",
       " 'DoB': {3911: '2000-05-23'},\n",
       " 'Nat': {3911: 'TUR'},\n",
       " 'Division': {3911: 'Turkish Super League'},\n",
       " 'Club': {3911: 'Galatasaray'},\n",
       " 'Based': {3911: 'Turkey (Super League)'},\n",
       " 'Preferred Foot': {3911: 'Right'},\n",
       " 'Right Foot': {3911: 'Very Strong'},\n",
       " 'Left Foot': {3911: 'Reasonable'},\n",
       " 'Position': {3911: 'AMR,AML'},\n",
       " 'Height': {3911: 186},\n",
       " 'Weight': {3911: '75 kg'},\n",
       " 'Age': {3911: 22},\n",
       " 'Transfer Value': {3911: '€550K - €5.4M'},\n",
       " 'Wage': {3911: '€30,500 p/m'},\n",
       " 'AT Apps': {3911: '89'},\n",
       " 'AT Gls': {3911: '9'},\n",
       " 'Team': {3911: nan},\n",
       " 'Caps': {3911: 2},\n",
       " 'Yth Apps': {3911: '9'},\n",
       " 'Style': {3911: 'Physical'},\n",
       " 'Rc Injury': {3911: '-'},\n",
       " 'Best Role': {3911: 'Inside Forward'},\n",
       " 'Best Duty': {3911: 'Attack'},\n",
       " 'Best Pos': {3911: 'AML'},\n",
       " 'acceleration': {3911: 15},\n",
       " 'aerial': {3911: 2},\n",
       " 'aggression': {3911: 14},\n",
       " 'agility': {3911: 14},\n",
       " 'anticipation': {3911: 10},\n",
       " 'balance': {3911: 14},\n",
       " 'bravery': {3911: 13},\n",
       " 'command of area': {3911: 2},\n",
       " 'communication': {3911: 1},\n",
       " 'composure': {3911: 10},\n",
       " 'concentration': {3911: 13},\n",
       " 'corners': {3911: 7},\n",
       " 'crossing': {3911: 7},\n",
       " 'decisions': {3911: 8},\n",
       " 'determination': {3911: 16},\n",
       " 'dribbling': {3911: 13},\n",
       " 'eccentricity': {3911: 3},\n",
       " 'finishing': {3911: 11},\n",
       " 'first touch': {3911: 11},\n",
       " 'flair': {3911: 13},\n",
       " 'free kick taking': {3911: 6},\n",
       " 'handling': {3911: 1},\n",
       " 'heading': {3911: 8},\n",
       " 'jumping reach': {3911: 12},\n",
       " 'kicking': {3911: 1},\n",
       " 'leadership': {3911: 4},\n",
       " 'long shots': {3911: 11},\n",
       " 'long throws': {3911: 6},\n",
       " 'marking': {3911: 5},\n",
       " 'fitness': {3911: 15},\n",
       " 'off the ball': {3911: 13},\n",
       " 'one vs one': {3911: 2},\n",
       " 'pace': {3911: 16},\n",
       " 'passing': {3911: 8},\n",
       " 'penalty taking': {3911: 11},\n",
       " 'positioning': {3911: 5},\n",
       " 'punching': {3911: 1},\n",
       " 'reflexes': {3911: 2},\n",
       " 'rushing out': {3911: 1},\n",
       " 'stamina': {3911: 14},\n",
       " 'strength': {3911: 14},\n",
       " 'tackling': {3911: 6},\n",
       " 'teamwork': {3911: 8},\n",
       " 'technique': {3911: 10},\n",
       " 'throwing': {3911: 3},\n",
       " 'vision': {3911: 8},\n",
       " 'work rate': {3911: 13},\n",
       " 'Unnamed: 0': {3911: 61},\n",
       " 'fm': {3911: 'Galatasaray'},\n",
       " 'normal': {3911: 'Galatasaray'}}"
      ]
     },
     "execution_count": 4,
     "metadata": {},
     "output_type": "execute_result"
    }
   ],
   "source": [
    "df.query(\"Name in 'Barış Yılmaz'\").to_dict()"
   ]
  },
  {
   "cell_type": "code",
   "execution_count": null,
   "id": "1671f66f-8fae-460d-954c-39c09dbfb187",
   "metadata": {},
   "outputs": [],
   "source": []
  },
  {
   "cell_type": "code",
   "execution_count": null,
   "id": "5351c116-5111-4ed4-b2e5-6073e19a2678",
   "metadata": {},
   "outputs": [],
   "source": []
  }
 ],
 "metadata": {
  "kernelspec": {
   "display_name": "Python 3 (ipykernel)",
   "language": "python",
   "name": "python3"
  },
  "language_info": {
   "codemirror_mode": {
    "name": "ipython",
    "version": 3
   },
   "file_extension": ".py",
   "mimetype": "text/x-python",
   "name": "python",
   "nbconvert_exporter": "python",
   "pygments_lexer": "ipython3",
   "version": "3.11.7"
  }
 },
 "nbformat": 4,
 "nbformat_minor": 5
}
