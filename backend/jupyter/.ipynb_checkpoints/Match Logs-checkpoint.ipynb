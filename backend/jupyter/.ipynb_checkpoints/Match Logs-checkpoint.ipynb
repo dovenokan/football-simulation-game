{
 "cells": [
  {
   "cell_type": "code",
   "execution_count": 12,
   "id": "e5dfff77-2fa6-4c5f-abbb-171822982c53",
   "metadata": {},
   "outputs": [],
   "source": [
    "import pandas as pd\n",
    "import numpy as np\n",
    "import seaborn as sns\n",
    "import matplotlib.pyplot as plt\n",
    "import re\n",
    "import time\n",
    "import requests\n",
    "from bs4 import BeautifulSoup\n",
    "import lxml\n",
    "import json\n",
    "from urllib.parse import quote\n",
    "import random"
   ]
  },
  {
   "cell_type": "code",
   "execution_count": 13,
   "id": "76b79d21-328e-4141-a311-3325b456330c",
   "metadata": {},
   "outputs": [],
   "source": [
    "import warnings\n",
    "from pandas.errors import SettingWithCopyWarning\n",
    "warnings.simplefilter(action='ignore', category=(SettingWithCopyWarning))\n",
    "warnings.simplefilter(action='ignore', category=(FutureWarning))"
   ]
  },
  {
   "cell_type": "code",
   "execution_count": 14,
   "id": "bb15dceb-061a-47f2-b9e5-487a809c0fdb",
   "metadata": {},
   "outputs": [],
   "source": [
    "players_df = pd.read_csv(\"players_db/fm23/fm23db_processed.csv\")\n",
    "team_df = pd.read_csv(\"players_db/fm23/team_ratings.csv\")"
   ]
  },
  {
   "cell_type": "code",
   "execution_count": 15,
   "id": "9565f257-2cf6-4626-8c01-fdf4557cc569",
   "metadata": {},
   "outputs": [],
   "source": [
    "top5_leagues = ['Ligue 1 Uber Eats', 'English Premier Division', 'Italian Serie A',\n",
    "       'Spanish First Division', 'Bundesliga'] "
   ]
  },
  {
   "cell_type": "code",
   "execution_count": 16,
   "id": "c28ce6dc-e2b9-4442-be41-7fb63004d4c2",
   "metadata": {},
   "outputs": [],
   "source": [
    "fbref_league_dict = {\n",
    "    \"English Premier Division\": {\"short\": \"eng\", \"name\": \"English Premier Division\", \"fbref_league_id\": 9, \"league_id\": 354},\n",
    "    \"Italian Serie A\": {\"short\": \"ita\", \"name\": \"Italian Serie A\", \"fbref_league_id\": 11, \"league_id\": 710},\n",
    "    \"Ligue 1 Uber Eats\": {\"short\": \"fra\", \"name\": \"Ligue 1 Uber Eats\", \"fbref_league_id\": 13, \"league_id\": 773},\n",
    "    \"Spanish First Division\": {\"short\": \"spa\", \"name\": \"Spanish First Division\", \"fbref_league_id\": 12, \"league_id\": 1215},\n",
    "    \"Bundesliga\": {\"short\": \"ger\", \"name\": \"Bundesliga\", \"fbref_league_id\": 20, \"league_id\": 185},   \n",
    "}"
   ]
  },
  {
   "cell_type": "markdown",
   "id": "00d19582-e000-436a-9910-c0e49a62052d",
   "metadata": {
    "jp-MarkdownHeadingCollapsed": true
   },
   "source": [
    "<br><br><br><br>\n",
    "<h1 style=\"color:blue;\">  Writing FBREF Slugs</h1>"
   ]
  },
  {
   "cell_type": "code",
   "execution_count": 11,
   "id": "cf900303-42b5-4fdf-af01-d93e9ec8cffe",
   "metadata": {},
   "outputs": [],
   "source": [
    "def Top5_Leagues_Teams(team_df, season=\"2022-2023\"):\n",
    "    url = f\"https://fbref.com/en/comps/Big5/{season}/shooting/squads/{season}-Big-5-European-Leagues-Stats\"\n",
    "    response = requests.get(url)\n",
    "    soup = BeautifulSoup(response.content, \"lxml\")\n",
    "\n",
    "    table = soup.find(\"table\", {\"class\": \"stats_table\"})\n",
    "    team_ids = []\n",
    "    team_names = []\n",
    "\n",
    "    for row in table.find_all(\"tr\")[1:]:\n",
    "        team_cell = row.find(\"td\", {\"data-stat\": \"team\"})\n",
    "        team_competition = row.find(\"td\", {\"data-stat\": \"comp_level\"})\n",
    "        if team_cell:\n",
    "            team_name = team_cell.text.strip()\n",
    "            team_id = team_cell.a.get(\"href\").split(\"/\")[3] if team_cell.a else None\n",
    "            team_ids.append(team_id)\n",
    "            team_names.append(team_name)\n",
    "            team_row = team_df[team_df['fbref_name'] == team_name]\n",
    "            if not team_row.empty:\n",
    "                where_id = team_row.index[0]\n",
    "                team_df.at[where_id, 'fbref_slug'] = team_id\n",
    "    # return pd.DataFrame({\n",
    "    #     \"slug_id\": team_ids,\n",
    "    #     \"fbref_name\": team_names,\n",
    "    # })\n",
    "\n",
    "# Top5_Leagues_Teams(team_df, \"2022-2023\")\n",
    "# team_df.to_csv(\"players_db/fm23/team_ratings.csv\", index=False)"
   ]
  },
  {
   "cell_type": "markdown",
   "id": "3ae22a70-40d5-413e-b8bb-cf7085cbf9af",
   "metadata": {
    "jp-MarkdownHeadingCollapsed": true
   },
   "source": [
    "<br><br><br><br>\n",
    "<h1 style=\"color:blue;\">  Preparing FBREF URLS</h1>"
   ]
  },
  {
   "cell_type": "code",
   "execution_count": 13,
   "id": "0808c527-98d0-4384-8bd4-1fe39967f53a",
   "metadata": {},
   "outputs": [
    {
     "data": {
      "text/plain": [
       "{'English Premier Division': {'short': 'eng',\n",
       "  'name': 'English Premier Division',\n",
       "  'fbref_league_id': 9,\n",
       "  'league_id': 354},\n",
       " 'Italian Serie A': {'short': 'ita',\n",
       "  'name': 'Italian Serie A',\n",
       "  'fbref_league_id': 11,\n",
       "  'league_id': 710},\n",
       " 'Ligue 1 Uber Eats': {'short': 'fra',\n",
       "  'name': 'Ligue 1 Uber Eats',\n",
       "  'fbref_league_id': 13,\n",
       "  'league_id': 773},\n",
       " 'Spanish First Division': {'short': 'spa',\n",
       "  'name': 'Spanish First Division',\n",
       "  'fbref_league_id': 12,\n",
       "  'league_id': 1215},\n",
       " 'Bundesliga': {'short': 'ger',\n",
       "  'name': 'Bundesliga',\n",
       "  'fbref_league_id': 20,\n",
       "  'league_id': 185}}"
      ]
     },
     "execution_count": 13,
     "metadata": {},
     "output_type": "execute_result"
    }
   ],
   "source": [
    "fbref_league_dict"
   ]
  },
  {
   "cell_type": "code",
   "execution_count": 14,
   "id": "3ff91820-5c7b-40ca-bf9c-643e6e8c4134",
   "metadata": {},
   "outputs": [],
   "source": [
    "def League_Name_to_fm_league_id(league_name):\n",
    "    for i in fbref_league_dict.values():\n",
    "        name = i[\"name\"]\n",
    "        lid = i[\"league_id\"]\n",
    "        if name == league_name:\n",
    "            return lid"
   ]
  },
  {
   "cell_type": "code",
   "execution_count": 15,
   "id": "3f60f4f3-cd13-4894-a769-4818ca7179cc",
   "metadata": {},
   "outputs": [],
   "source": [
    "def fm_league_id_to_League_Name(fm_league_id):\n",
    "    for i in fbref_league_dict.values():\n",
    "        name = i[\"name\"]\n",
    "        lid = i[\"league_id\"]\n",
    "        if lid == fm_league_id:\n",
    "            return name"
   ]
  },
  {
   "cell_type": "code",
   "execution_count": 16,
   "id": "e10d68f0-abfd-4b5f-88f8-cbcc209d51d9",
   "metadata": {},
   "outputs": [],
   "source": [
    "def FBREF_URLS(match_logs_stats_dict, team_df, stat_attribute, fbref_league_id, league_id, season=\"2022-2023\"):\n",
    "    team_slugs = team_df.query(f\"League_id == {league_id}\")[\"fbref_slug\"].unique().tolist()\n",
    "    team_names = team_df.query(f\"League_id == {league_id}\")[\"Club\"].unique().tolist()\n",
    "    team_ids = team_df.query(f\"League_id == {league_id}\")[\"Club_id\"].unique().tolist()\n",
    "    \n",
    "    for slug, club_name, club_id  in zip(team_slugs, team_names, team_ids):\n",
    "        match_logs_url = f\"https://fbref.com/en/squads/{slug}/{season}/matchlogs/c{fbref_league_id}/{stat_attribute}\"\n",
    "        match_logs_stats_dict[stat_attribute].append({\n",
    "            \"Club\": club_name,\n",
    "            \"Club_id\": club_id,\n",
    "            \"League_name\": fm_league_id_to_League_Name(league_id),\n",
    "            \"League_id\": league_id,\n",
    "            \"fbref_league_id\": fbref_league_id,\n",
    "            \"fbref_slug\": slug,\n",
    "            \"stat\": stat_attribute,\n",
    "            \"url\": match_logs_url,\n",
    "            \"season\": season\n",
    "        })"
   ]
  },
  {
   "cell_type": "code",
   "execution_count": 225,
   "id": "4a285ef3-696d-4474-a53b-fe51274ab272",
   "metadata": {},
   "outputs": [],
   "source": [
    "Match_Logs_URL_Dict = {\n",
    "    \"shooting\":[],\n",
    "    \"passing\":[],\n",
    "    \"defense\":[],\n",
    "    \"keeper\":[],\n",
    "    \"passing_types\":[],\n",
    "    \"gca\":[],\n",
    "    \"possession\":[],\n",
    "    \"misc\":[],\n",
    "}\n",
    "\n",
    "# 784 urls\n",
    "stat_attributes = list(Match_Logs_URL_Dict.keys())\n",
    "fbref_league_ids = [i[\"fbref_league_id\"] for i in fbref_league_dict.values()]\n",
    "fm_league_names = fbref_league_dict.keys()\n",
    "\n",
    "for stat in stat_attributes:\n",
    "    for fbref_league_id, fm_league_name in zip(fbref_league_ids, fm_league_names):\n",
    "        league_id = League_Name_to_fm_league_id(fm_league_name)\n",
    "        FBREF_URLS(Match_Logs_URL_Dict, team_df, stat, fbref_league_id, league_id, \"2022-2023\")        "
   ]
  },
  {
   "cell_type": "code",
   "execution_count": 1,
   "id": "f6b8db93-626f-469a-947a-e773285bd66e",
   "metadata": {},
   "outputs": [],
   "source": [
    "# Match_Logs_URL_Dict[\"passing\"]"
   ]
  },
  {
   "cell_type": "code",
   "execution_count": 19,
   "id": "f3326b99-1ca5-4ea1-863c-461168cbd86a",
   "metadata": {},
   "outputs": [],
   "source": [
    "url = \"https://fbref.com/en/squads/0cdc4311/2022-2023/matchlogs/c20/gca\"\n",
    "response = requests.get(url)\n",
    "soup = BeautifulSoup(response.content, \"lxml\")\n",
    "\n",
    "table = soup.find(\"table\", {\"class\": \"stats_table\"})\n",
    "html2 = pd.read_html(url)[0][:-1]\n",
    "\n",
    "html2.columns = html2.columns.get_level_values(1)\n",
    "html2['Club'] = \"Augsburg\""
   ]
  },
  {
   "cell_type": "code",
   "execution_count": 262,
   "id": "a0204660-ab7c-46e5-9760-db66a6dd8944",
   "metadata": {},
   "outputs": [
    {
     "data": {
      "text/html": [
       "<div>\n",
       "<style scoped>\n",
       "    .dataframe tbody tr th:only-of-type {\n",
       "        vertical-align: middle;\n",
       "    }\n",
       "\n",
       "    .dataframe tbody tr th {\n",
       "        vertical-align: top;\n",
       "    }\n",
       "\n",
       "    .dataframe thead th {\n",
       "        text-align: right;\n",
       "    }\n",
       "</style>\n",
       "<table border=\"1\" class=\"dataframe\">\n",
       "  <thead>\n",
       "    <tr style=\"text-align: right;\">\n",
       "      <th></th>\n",
       "      <th>Date</th>\n",
       "      <th>Time</th>\n",
       "      <th>Round</th>\n",
       "      <th>Day</th>\n",
       "      <th>Venue</th>\n",
       "      <th>Result</th>\n",
       "      <th>GF</th>\n",
       "      <th>GA</th>\n",
       "      <th>Opponent</th>\n",
       "      <th>SCA</th>\n",
       "      <th>...</th>\n",
       "      <th>Def</th>\n",
       "      <th>GCA</th>\n",
       "      <th>PassLive</th>\n",
       "      <th>PassDead</th>\n",
       "      <th>TO</th>\n",
       "      <th>Sh</th>\n",
       "      <th>Fld</th>\n",
       "      <th>Def</th>\n",
       "      <th>Match Report</th>\n",
       "      <th>Club</th>\n",
       "    </tr>\n",
       "  </thead>\n",
       "  <tbody>\n",
       "    <tr>\n",
       "      <th>0</th>\n",
       "      <td>2022-08-06</td>\n",
       "      <td>15:30</td>\n",
       "      <td>Matchweek 1</td>\n",
       "      <td>Sat</td>\n",
       "      <td>Home</td>\n",
       "      <td>L</td>\n",
       "      <td>0</td>\n",
       "      <td>4</td>\n",
       "      <td>Freiburg</td>\n",
       "      <td>19</td>\n",
       "      <td>...</td>\n",
       "      <td>0</td>\n",
       "      <td>0</td>\n",
       "      <td>0</td>\n",
       "      <td>0</td>\n",
       "      <td>0</td>\n",
       "      <td>0</td>\n",
       "      <td>0</td>\n",
       "      <td>0</td>\n",
       "      <td>Match Report</td>\n",
       "      <td>Augsburg</td>\n",
       "    </tr>\n",
       "    <tr>\n",
       "      <th>1</th>\n",
       "      <td>2022-08-13</td>\n",
       "      <td>15:30</td>\n",
       "      <td>Matchweek 2</td>\n",
       "      <td>Sat</td>\n",
       "      <td>Away</td>\n",
       "      <td>W</td>\n",
       "      <td>2</td>\n",
       "      <td>1</td>\n",
       "      <td>Leverkusen</td>\n",
       "      <td>11</td>\n",
       "      <td>...</td>\n",
       "      <td>1</td>\n",
       "      <td>4</td>\n",
       "      <td>2</td>\n",
       "      <td>1</td>\n",
       "      <td>0</td>\n",
       "      <td>0</td>\n",
       "      <td>1</td>\n",
       "      <td>0</td>\n",
       "      <td>Match Report</td>\n",
       "      <td>Augsburg</td>\n",
       "    </tr>\n",
       "    <tr>\n",
       "      <th>2</th>\n",
       "      <td>2022-08-20</td>\n",
       "      <td>15:30</td>\n",
       "      <td>Matchweek 3</td>\n",
       "      <td>Sat</td>\n",
       "      <td>Home</td>\n",
       "      <td>L</td>\n",
       "      <td>1</td>\n",
       "      <td>2</td>\n",
       "      <td>Mainz 05</td>\n",
       "      <td>12</td>\n",
       "      <td>...</td>\n",
       "      <td>0</td>\n",
       "      <td>2</td>\n",
       "      <td>2</td>\n",
       "      <td>0</td>\n",
       "      <td>0</td>\n",
       "      <td>0</td>\n",
       "      <td>0</td>\n",
       "      <td>0</td>\n",
       "      <td>Match Report</td>\n",
       "      <td>Augsburg</td>\n",
       "    </tr>\n",
       "    <tr>\n",
       "      <th>3</th>\n",
       "      <td>2022-08-27</td>\n",
       "      <td>15:30</td>\n",
       "      <td>Matchweek 4</td>\n",
       "      <td>Sat</td>\n",
       "      <td>Away</td>\n",
       "      <td>L</td>\n",
       "      <td>0</td>\n",
       "      <td>1</td>\n",
       "      <td>Hoffenheim</td>\n",
       "      <td>21</td>\n",
       "      <td>...</td>\n",
       "      <td>1</td>\n",
       "      <td>0</td>\n",
       "      <td>0</td>\n",
       "      <td>0</td>\n",
       "      <td>0</td>\n",
       "      <td>0</td>\n",
       "      <td>0</td>\n",
       "      <td>0</td>\n",
       "      <td>Match Report</td>\n",
       "      <td>Augsburg</td>\n",
       "    </tr>\n",
       "    <tr>\n",
       "      <th>4</th>\n",
       "      <td>2022-09-04</td>\n",
       "      <td>15:30</td>\n",
       "      <td>Matchweek 5</td>\n",
       "      <td>Sun</td>\n",
       "      <td>Home</td>\n",
       "      <td>L</td>\n",
       "      <td>0</td>\n",
       "      <td>2</td>\n",
       "      <td>Hertha BSC</td>\n",
       "      <td>11</td>\n",
       "      <td>...</td>\n",
       "      <td>0</td>\n",
       "      <td>0</td>\n",
       "      <td>0</td>\n",
       "      <td>0</td>\n",
       "      <td>0</td>\n",
       "      <td>0</td>\n",
       "      <td>0</td>\n",
       "      <td>0</td>\n",
       "      <td>Match Report</td>\n",
       "      <td>Augsburg</td>\n",
       "    </tr>\n",
       "  </tbody>\n",
       "</table>\n",
       "<p>5 rows × 25 columns</p>\n",
       "</div>"
      ],
      "text/plain": [
       "         Date   Time        Round  Day Venue Result  GF  GA    Opponent  SCA  \\\n",
       "0  2022-08-06  15:30  Matchweek 1  Sat  Home      L   0   4    Freiburg   19   \n",
       "1  2022-08-13  15:30  Matchweek 2  Sat  Away      W   2   1  Leverkusen   11   \n",
       "2  2022-08-20  15:30  Matchweek 3  Sat  Home      L   1   2    Mainz 05   12   \n",
       "3  2022-08-27  15:30  Matchweek 4  Sat  Away      L   0   1  Hoffenheim   21   \n",
       "4  2022-09-04  15:30  Matchweek 5  Sun  Home      L   0   2  Hertha BSC   11   \n",
       "\n",
       "   ...  Def  GCA  PassLive  PassDead  TO  Sh  Fld  Def  Match Report      Club  \n",
       "0  ...    0    0         0         0   0   0    0    0  Match Report  Augsburg  \n",
       "1  ...    1    4         2         1   0   0    1    0  Match Report  Augsburg  \n",
       "2  ...    0    2         2         0   0   0    0    0  Match Report  Augsburg  \n",
       "3  ...    1    0         0         0   0   0    0    0  Match Report  Augsburg  \n",
       "4  ...    0    0         0         0   0   0    0    0  Match Report  Augsburg  \n",
       "\n",
       "[5 rows x 25 columns]"
      ]
     },
     "execution_count": 262,
     "metadata": {},
     "output_type": "execute_result"
    }
   ],
   "source": [
    "html2.head()"
   ]
  },
  {
   "cell_type": "markdown",
   "id": "710ed7a0-25da-4ec5-9711-1adf0138e63b",
   "metadata": {
    "jp-MarkdownHeadingCollapsed": true
   },
   "source": [
    "<br><br><br><br>\n",
    "<h1 style=\"color:blue;\">  Scraping FBREF Stats</h1>"
   ]
  },
  {
   "cell_type": "code",
   "execution_count": 21,
   "id": "241dc67b-ecd2-4225-b862-0bf2386167ae",
   "metadata": {},
   "outputs": [],
   "source": [
    "headers_list = [\n",
    "    {\"User-Agent\": \"Mozilla/5.0 (Windows NT 10.0; Win64; x64) AppleWebKit/537.36 (KHTML, like Gecko) Chrome/58.0.3029.110 Safari/537.3\"},\n",
    "    {\"User-Agent\": \"Mozilla/5.0 (Windows NT 10.0; Win64; x64) AppleWebKit/537.36 (KHTML, like Gecko) Chrome/89.0.4389.82 Safari/537.36\"},\n",
    "    {\"User-Agent\": \"Mozilla/5.0 (Macintosh; Intel Mac OS X 10_15_7) AppleWebKit/605.1.15 (KHTML, like Gecko) Version/14.0.3 Safari/605.1.15\"},\n",
    "    {\"User-Agent\": \"Mozilla/5.0 (X11; Ubuntu; Linux x86_64; rv:88.0) Gecko/20100101 Firefox/88.0\"},\n",
    "    {\"User-Agent\": \"Mozilla/5.0 (Windows NT 10.0; Win64; x64; rv:89.0) Gecko/20100101 Firefox/89.0\"},\n",
    "    {\"User-Agent\": \"Mozilla/5.0 (Macintosh; Intel Mac OS X 10.15; rv:85.0) Gecko/20100101 Firefox/85.0\"},\n",
    "    {\"User-Agent\": \"Mozilla/5.0 (Windows NT 10.0; Win64; x64) AppleWebKit/537.36 (KHTML, like Gecko) Edge/18.17763\"},\n",
    "    {\"User-Agent\": \"Mozilla/5.0 (Linux; Android 10; SM-G975F) AppleWebKit/537.36 (KHTML, like Gecko) Chrome/89.0.4389.105 Mobile Safari/537.36\"},\n",
    "    {\"User-Agent\": \"Mozilla/5.0 (iPhone; CPU iPhone OS 14_4 like Mac OS X) AppleWebKit/605.1.15 (KHTML, like Gecko) Version/14.0 Mobile/15E148 Safari/604.1\"},\n",
    "    {\"User-Agent\": \"Mozilla/5.0 (iPad; CPU OS 14_4 like Mac OS X) AppleWebKit/605.1.15 (KHTML, like Gecko) Version/14.0 Mobile/15E148 Safari/604.1\"}\n",
    "]"
   ]
  },
  {
   "cell_type": "code",
   "execution_count": 227,
   "id": "4553c2fc-4d6f-44db-bed4-98eb0dcb4203",
   "metadata": {},
   "outputs": [],
   "source": [
    "def Scrape_FBREF_Stats(fbdict):\n",
    "    url =  fbdict[\"url\"]\n",
    "    headers = np.random.choice(headers_list)\n",
    "    response = requests.get(url, headers=headers)\n",
    "    soup = BeautifulSoup(response.content, \"lxml\")\n",
    "    table = soup.find(\"table\", {\"class\": \"stats_table\"})\n",
    "    html2 = pd.read_html(url)[0][:-1]\n",
    "    html2.columns = html2.columns.get_level_values(1)\n",
    "    html2['Club'] = fbdict[\"Club\"]\n",
    "    return html2"
   ]
  },
  {
   "cell_type": "code",
   "execution_count": 261,
   "id": "5e55ef2e-693a-454a-9704-f43125c1b6d5",
   "metadata": {},
   "outputs": [],
   "source": [
    "# season_info = \"22-23\"\n",
    "\n",
    "# for stat in stat_attributes:\n",
    "#     counter = 0    \n",
    "#     df_logs_array = []\n",
    "#     for url in Match_Logs_URL_Dict[stat]:\n",
    "#         time.sleep(np.random.uniform(1,7))\n",
    "#         new_df = Scrape_FBREF_Stats(url)\n",
    "#         if \"Comp\" in new_df.columns:\n",
    "#              new_df = new_df.drop([\"Comp\"],axis=1) \n",
    "#         df_logs_array.append(new_df)\n",
    "#         counter+=1        \n",
    "#         print(stat, counter)\n",
    "#     df_log = pd.concat(df_logs_array, ignore_index=True)\n",
    "#     df_log.to_csv(f\"match_logs/Big5@{season_info}@{stat}.csv\", index=False)   "
   ]
  },
  {
   "cell_type": "markdown",
   "id": "cbc9f9b5-bdb4-49f8-adea-486e614d5f04",
   "metadata": {
    "jp-MarkdownHeadingCollapsed": true
   },
   "source": [
    "### df_log Error Workplace"
   ]
  },
  {
   "cell_type": "code",
   "execution_count": 242,
   "id": "192906a7-7cdd-4bef-a9f0-ec9b57910514",
   "metadata": {},
   "outputs": [],
   "source": [
    "# df2 = [df for df in df_logs_array]\n",
    "\n",
    "# c = 0\n",
    "# empty = []\n",
    "# df2[94] = df2[94].drop([\"Comp\"],axis=1) \n",
    "# for i in range(len(df2)):\n",
    "#     empty.append(df2[i])\n",
    "#     test_df = pd.concat(empty)\n",
    "#     c += 1\n",
    "#     print(i)\n",
    "\n",
    "# test_df.to_csv(f\"match_logs/Big5@{season_info}@{st333at}.csv\", index=False)   "
   ]
  },
  {
   "cell_type": "markdown",
   "id": "9ac2bbe0-fcd4-45c7-9075-1584e372f619",
   "metadata": {},
   "source": [
    "<br><br><br><br>\n",
    "<h1 style=\"color:red;\">  Fix & Update</h1>"
   ]
  },
  {
   "cell_type": "code",
   "execution_count": 6,
   "id": "3ad3215e-d7e9-4767-8dff-a5495ce75e16",
   "metadata": {},
   "outputs": [],
   "source": [
    "import pandas as pd"
   ]
  },
  {
   "cell_type": "code",
   "execution_count": 7,
   "id": "b70c1bae-ab51-4fbb-ac8a-a41a3afd1e02",
   "metadata": {},
   "outputs": [],
   "source": [
    "misc = pd.read_csv(\"match_logs/Big5@22-23@misc.csv\")\n",
    "misc[\"AerAtt\"] = misc[\"Won\"] + misc[\"Lost\"]\n",
    "misc.to_csv(\"match_logs/Big5@22-23@misc.csv\", index=False) "
   ]
  },
  {
   "cell_type": "code",
   "execution_count": 10,
   "id": "b627b576-cfec-4cf0-ac60-35182610d38c",
   "metadata": {},
   "outputs": [],
   "source": [
    "defense = pd.read_csv(\"match_logs/Big5@22-23@defense.csv\")\n",
    "defense[\"unique_id\"] = ((defense.Club).apply(hash) + (defense.Opponent).apply(hash) + \\\n",
    "(defense.Round).apply(hash) + (misc.Venue).apply(hash)).apply(str)\n",
    "\n",
    "misc = pd.read_csv(\"match_logs/Big5@22-23@misc.csv\")\n",
    "misc[\"unique_id\"] = ((misc.Club).apply(hash) + (misc.Opponent).apply(hash) + \\\n",
    "(misc.Round).apply(hash) + (misc.Venue).apply(hash)).apply(str)\n",
    "\n",
    "misc = pd.read_csv(\"match_logs/Big5@22-23@misc.csv\")\n",
    "misc[\"versus_id\"] = (misc.Club).apply(hash) + (misc.Opponent).apply(hash)\n",
    "misc.to_csv(\"match_logs/Big5@22-23@misc.csv\", index=False) \n",
    "\n",
    "# misc_defense_combined = pd.merge(defense, misc, how=\"right\", on=\"unique_id\")\n",
    "# defense[\"Total_Defensive_Action\"] = misc_defense_combined[\"Tkl+Int\"] + misc_defense_combined[\"Clr\"] + \\\n",
    "#                                     misc_defense_combined[\"Blocks\"] + misc_defense_combined[\"Recov\"]\n",
    "# defense.to_csv(\"match_logs/Big5@22-23@defense.csv\", index=False) "
   ]
  },
  {
   "cell_type": "code",
   "execution_count": null,
   "id": "b1c86ce5-dbb2-4d99-a6f1-e7f207479b46",
   "metadata": {},
   "outputs": [],
   "source": []
  },
  {
   "cell_type": "code",
   "execution_count": null,
   "id": "6273e965-91b9-4045-bc54-e1b3b86a1533",
   "metadata": {},
   "outputs": [],
   "source": []
  }
 ],
 "metadata": {
  "kernelspec": {
   "display_name": "Python 3 (ipykernel)",
   "language": "python",
   "name": "python3"
  },
  "language_info": {
   "codemirror_mode": {
    "name": "ipython",
    "version": 3
   },
   "file_extension": ".py",
   "mimetype": "text/x-python",
   "name": "python",
   "nbconvert_exporter": "python",
   "pygments_lexer": "ipython3",
   "version": "3.11.7"
  }
 },
 "nbformat": 4,
 "nbformat_minor": 5
}
