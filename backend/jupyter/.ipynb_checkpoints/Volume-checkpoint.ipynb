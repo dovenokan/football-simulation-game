{
 "cells": [
  {
   "cell_type": "code",
   "execution_count": 116,
   "id": "d1afd80f-f14d-4cbf-a716-b6ae2edf71ad",
   "metadata": {},
   "outputs": [],
   "source": [
    "import pandas as pd\n",
    "import numpy as np\n",
    "import seaborn as sns\n",
    "import matplotlib.pyplot as plt\n",
    "import re\n",
    "import warnings"
   ]
  },
  {
   "cell_type": "code",
   "execution_count": 117,
   "id": "d49f9df9-4f91-4bf7-bb57-dba875f97a91",
   "metadata": {},
   "outputs": [],
   "source": [
    "import warnings\n",
    "from pandas.errors import SettingWithCopyWarning\n",
    "warnings.simplefilter(action='ignore', category=(SettingWithCopyWarning))\n",
    "warnings.simplefilter(action='ignore', category=(FutureWarning))"
   ]
  },
  {
   "cell_type": "code",
   "execution_count": 118,
   "id": "216536f1-2c8e-48d7-ae78-6c0c48c897a9",
   "metadata": {},
   "outputs": [],
   "source": [
    "players_df = pd.read_csv(\"players_db/fm23/fm23db_processed.csv\")\n",
    "team_ratings = pd.read_csv(\"players_db/fm23/team_ratings.csv\")\n",
    "win_df = pd.read_csv(\"players_db/fm23/win_probability.csv\", index_col=0)"
   ]
  },
  {
   "cell_type": "markdown",
   "id": "7109d6fe-4627-4204-a448-57fd35ed7606",
   "metadata": {},
   "source": [
    "<br><br><br><br>\n",
    "<h2 style=\"color:blue;\">  Win Probability</h3>"
   ]
  },
  {
   "cell_type": "code",
   "execution_count": 119,
   "id": "4ef4760c-96ec-43b1-9ea1-6495cc4895d0",
   "metadata": {},
   "outputs": [],
   "source": [
    "def Win_Probability(win_prob_df, power_y, power_x):\n",
    "    logit_sum = 0\n",
    "    prob_dict = {}\n",
    "    for match_result in [1,0,2]:\n",
    "        tpr_y = win_prob_df.loc[\"tpr_y\", str(match_result)]\n",
    "        tpr_x = win_prob_df.loc[\"tpr_x\", str(match_result)]\n",
    "        intercept = win_prob_df.loc[\"intercept\", str(match_result)]\n",
    "        fx = tpr_y*power_y + tpr_x*power_x + intercept\n",
    "        logit_sum += np.e ** fx\n",
    "        prob_dict[match_result] = np.e**fx\n",
    "    for match_result in [1,0,2]:\n",
    "        prob_dict[match_result] = prob_dict[match_result] / logit_sum\n",
    "    prob_sum = sum(prob_dict.values())\n",
    "    normalized_probs = {k: v / prob_sum for k, v in prob_dict.items()}\n",
    "    return normalized_probs"
   ]
  },
  {
   "cell_type": "code",
   "execution_count": 120,
   "id": "c8e9135d-cac8-4fdd-b3dc-2f88c9eb3fcc",
   "metadata": {},
   "outputs": [
    {
     "data": {
      "text/plain": [
       "{1: 0.5232914373372837, 0: 0.2342638818946376, 2: 0.24244468076807876}"
      ]
     },
     "execution_count": 120,
     "metadata": {},
     "output_type": "execute_result"
    }
   ],
   "source": [
    "Win_Probability(win_df, 90, 85)"
   ]
  },
  {
   "cell_type": "markdown",
   "id": "b9bfd6ce-83d2-4355-95ec-70bf057c2336",
   "metadata": {},
   "source": [
    "<br><br><br><br>\n",
    "<h2 style=\"color:blue;\">  League Simuation Test</h3>"
   ]
  },
  {
   "cell_type": "code",
   "execution_count": 121,
   "id": "4b46d15a-f935-4baf-9e77-4175fc8f8972",
   "metadata": {},
   "outputs": [
    {
     "data": {
      "text/html": [
       "<div>\n",
       "<style scoped>\n",
       "    .dataframe tbody tr th:only-of-type {\n",
       "        vertical-align: middle;\n",
       "    }\n",
       "\n",
       "    .dataframe tbody tr th {\n",
       "        vertical-align: top;\n",
       "    }\n",
       "\n",
       "    .dataframe thead th {\n",
       "        text-align: right;\n",
       "    }\n",
       "</style>\n",
       "<table border=\"1\" class=\"dataframe\">\n",
       "  <thead>\n",
       "    <tr style=\"text-align: right;\">\n",
       "      <th></th>\n",
       "      <th>Club</th>\n",
       "      <th>Club_id</th>\n",
       "      <th>League_id</th>\n",
       "      <th>Division</th>\n",
       "      <th>Based</th>\n",
       "      <th>tpr</th>\n",
       "      <th>gk</th>\n",
       "      <th>def</th>\n",
       "      <th>pas</th>\n",
       "      <th>dri</th>\n",
       "      <th>fin</th>\n",
       "      <th>sta</th>\n",
       "      <th>str</th>\n",
       "      <th>hed</th>\n",
       "      <th>men</th>\n",
       "      <th>iq</th>\n",
       "      <th>fbref_name</th>\n",
       "    </tr>\n",
       "  </thead>\n",
       "  <tbody>\n",
       "    <tr>\n",
       "      <th>0</th>\n",
       "      <td>Manchester City</td>\n",
       "      <td>6827</td>\n",
       "      <td>354</td>\n",
       "      <td>English Premier Division</td>\n",
       "      <td>England (Premier Division)</td>\n",
       "      <td>93</td>\n",
       "      <td>88</td>\n",
       "      <td>89</td>\n",
       "      <td>98</td>\n",
       "      <td>94</td>\n",
       "      <td>92</td>\n",
       "      <td>101</td>\n",
       "      <td>95</td>\n",
       "      <td>86</td>\n",
       "      <td>94</td>\n",
       "      <td>92</td>\n",
       "      <td>Manchester City</td>\n",
       "    </tr>\n",
       "    <tr>\n",
       "      <th>1</th>\n",
       "      <td>Paris Saint-Germain</td>\n",
       "      <td>7994</td>\n",
       "      <td>773</td>\n",
       "      <td>Ligue 1 Uber Eats</td>\n",
       "      <td>France (Ligue 1 Uber Eats)</td>\n",
       "      <td>93</td>\n",
       "      <td>81</td>\n",
       "      <td>86</td>\n",
       "      <td>100</td>\n",
       "      <td>97</td>\n",
       "      <td>90</td>\n",
       "      <td>93</td>\n",
       "      <td>91</td>\n",
       "      <td>88</td>\n",
       "      <td>90</td>\n",
       "      <td>91</td>\n",
       "      <td>Paris S-G</td>\n",
       "    </tr>\n",
       "    <tr>\n",
       "      <th>2</th>\n",
       "      <td>Liverpool</td>\n",
       "      <td>6518</td>\n",
       "      <td>354</td>\n",
       "      <td>English Premier Division</td>\n",
       "      <td>England (Premier Division)</td>\n",
       "      <td>92</td>\n",
       "      <td>90</td>\n",
       "      <td>89</td>\n",
       "      <td>95</td>\n",
       "      <td>94</td>\n",
       "      <td>87</td>\n",
       "      <td>101</td>\n",
       "      <td>94</td>\n",
       "      <td>94</td>\n",
       "      <td>92</td>\n",
       "      <td>90</td>\n",
       "      <td>Liverpool</td>\n",
       "    </tr>\n",
       "    <tr>\n",
       "      <th>3</th>\n",
       "      <td>FC Barcelona</td>\n",
       "      <td>1435</td>\n",
       "      <td>1215</td>\n",
       "      <td>Spanish First Division</td>\n",
       "      <td>Spain (First Division)</td>\n",
       "      <td>91</td>\n",
       "      <td>91</td>\n",
       "      <td>87</td>\n",
       "      <td>92</td>\n",
       "      <td>93</td>\n",
       "      <td>91</td>\n",
       "      <td>98</td>\n",
       "      <td>94</td>\n",
       "      <td>93</td>\n",
       "      <td>94</td>\n",
       "      <td>92</td>\n",
       "      <td>Barcelona</td>\n",
       "    </tr>\n",
       "    <tr>\n",
       "      <th>4</th>\n",
       "      <td>Internazionale</td>\n",
       "      <td>5215</td>\n",
       "      <td>710</td>\n",
       "      <td>Italian Serie A</td>\n",
       "      <td>Italy (Serie A)</td>\n",
       "      <td>91</td>\n",
       "      <td>82</td>\n",
       "      <td>90</td>\n",
       "      <td>91</td>\n",
       "      <td>87</td>\n",
       "      <td>91</td>\n",
       "      <td>98</td>\n",
       "      <td>102</td>\n",
       "      <td>100</td>\n",
       "      <td>86</td>\n",
       "      <td>85</td>\n",
       "      <td>Inter</td>\n",
       "    </tr>\n",
       "  </tbody>\n",
       "</table>\n",
       "</div>"
      ],
      "text/plain": [
       "                  Club  Club_id  League_id                  Division  \\\n",
       "0      Manchester City     6827        354  English Premier Division   \n",
       "1  Paris Saint-Germain     7994        773         Ligue 1 Uber Eats   \n",
       "2            Liverpool     6518        354  English Premier Division   \n",
       "3         FC Barcelona     1435       1215    Spanish First Division   \n",
       "4       Internazionale     5215        710           Italian Serie A   \n",
       "\n",
       "                        Based  tpr  gk  def  pas  dri  fin  sta  str  hed  \\\n",
       "0  England (Premier Division)   93  88   89   98   94   92  101   95   86   \n",
       "1  France (Ligue 1 Uber Eats)   93  81   86  100   97   90   93   91   88   \n",
       "2  England (Premier Division)   92  90   89   95   94   87  101   94   94   \n",
       "3      Spain (First Division)   91  91   87   92   93   91   98   94   93   \n",
       "4             Italy (Serie A)   91  82   90   91   87   91   98  102  100   \n",
       "\n",
       "   men  iq       fbref_name  \n",
       "0   94  92  Manchester City  \n",
       "1   90  91        Paris S-G  \n",
       "2   92  90        Liverpool  \n",
       "3   94  92        Barcelona  \n",
       "4   86  85            Inter  "
      ]
     },
     "execution_count": 121,
     "metadata": {},
     "output_type": "execute_result"
    }
   ],
   "source": [
    "team_ratings.head(n=5)"
   ]
  },
  {
   "cell_type": "code",
   "execution_count": 122,
   "id": "4350bba2-cc48-47e8-93b7-d0a6b9c66a40",
   "metadata": {},
   "outputs": [
    {
     "name": "stdout",
     "output_type": "stream",
     "text": [
      "Final League Standings:\n",
      "1. Liverpool: 82 points\n",
      "2. Manchester City: 80 points\n",
      "3. Tottenham Hotspur: 73 points\n",
      "4. Manchester United: 70 points\n",
      "5. Chelsea: 61 points\n",
      "6. West Ham United: 56 points\n",
      "7. Arsenal: 56 points\n",
      "8. Southampton: 56 points\n",
      "9. Leicester City: 54 points\n",
      "10. Aston Villa: 54 points\n",
      "11. Leeds United: 54 points\n",
      "12. Fulham: 50 points\n",
      "13. Nottingham Forest: 46 points\n",
      "14. Newcastle United: 42 points\n",
      "15. Crystal Palace: 40 points\n",
      "16. Everton: 38 points\n",
      "17. Bournemouth: 38 points\n",
      "18. Wolverhampton: 36 points\n",
      "19. Brentford: 36 points\n",
      "20. Brighton & Hove Albion: 34 points\n"
     ]
    }
   ],
   "source": [
    "import pandas as pd\n",
    "import numpy as np\n",
    "from itertools import product\n",
    "\n",
    "current_league_id = 354\t\n",
    "teams_in_league_ratings = team_ratings.query(f\"League_id == {current_league_id}\")\n",
    "\n",
    "# Initialize dictionary to keep track of points for each team\n",
    "points_table = {team: 0 for team in teams_in_league_ratings['Club']}\n",
    "\n",
    "# Create a list of all possible home-away matchups\n",
    "matchups = list(product(teams_in_league_ratings['Club'], repeat=2))\n",
    "\n",
    "# Filter out matches where the team plays against itself\n",
    "matchups = [match for match in matchups if match[0] != match[1]]\n",
    "\n",
    "# Simulate each match\n",
    "for home_team, away_team in matchups:\n",
    "    home_tpr = teams_in_league_ratings[teams_in_league_ratings['Club'] == home_team]['tpr'].values[0]\n",
    "    away_tpr = teams_in_league_ratings[teams_in_league_ratings['Club'] == away_team]['tpr'].values[0]\n",
    "    \n",
    "    # Simulate home match\n",
    "    probs_home = Win_Probability(win_df, home_tpr, away_tpr)\n",
    "    result_home = np.random.choice(list(probs_home.keys()), p=list(probs_home.values()))\n",
    "    if result_home == 1:\n",
    "        points_table[home_team] += 3\n",
    "    elif result_home == 0:\n",
    "        points_table[home_team] += 1\n",
    "        points_table[away_team] += 1\n",
    "    else:\n",
    "        points_table[away_team] += 3\n",
    "\n",
    "# Print final standings\n",
    "standings = sorted(points_table.items(), key=lambda x: x[1], reverse=True)\n",
    "print(\"Final League Standings:\")\n",
    "for i, (team, points) in enumerate(standings, start=1):\n",
    "    print(f\"{i}. {team}: {points} points\")"
   ]
  },
  {
   "cell_type": "code",
   "execution_count": 123,
   "id": "80102817-8f09-483f-bdea-9ab8de76af2e",
   "metadata": {},
   "outputs": [],
   "source": [
    "# team_ratings.query(f\"League_id == {354}\")"
   ]
  },
  {
   "cell_type": "markdown",
   "id": "71756b1e-85d2-416a-8ca3-01f73068b4be",
   "metadata": {},
   "source": [
    "<br><br><br><br>\n",
    "<h1 style=\"color:red;\">  Passing (players)</h1>"
   ]
  },
  {
   "cell_type": "code",
   "execution_count": 142,
   "id": "31e8f87e-9dd5-453e-a33d-707faed81d26",
   "metadata": {},
   "outputs": [],
   "source": [
    "def rename_duplicate_columns(df):\n",
    "    cols = pd.Series(df.columns)\n",
    "    for dup in cols[cols.duplicated()].unique():\n",
    "        cols[cols[cols == dup].index.values.tolist()] = [dup + '_' + str(i) if i != 0 else dup for i in range(sum(cols == dup))]\n",
    "    df.columns = cols\n",
    "    return df"
   ]
  },
  {
   "cell_type": "code",
   "execution_count": 143,
   "id": "1d299ed7-bd12-4ad9-b3e5-e33aab5a58f1",
   "metadata": {},
   "outputs": [],
   "source": [
    "pdf = players_df.sort_values(by=\"Pos_Rank\").dropna(subset=[\"fbref_player_name\"])"
   ]
  },
  {
   "cell_type": "code",
   "execution_count": 144,
   "id": "6448a74f-d176-44d7-bfd0-b66444c0e280",
   "metadata": {},
   "outputs": [
    {
     "data": {
      "text/plain": [
       "Best_Pos\n",
       "MC     682\n",
       "DC     642\n",
       "GK     463\n",
       "AML    450\n",
       "ST     448\n",
       "DR     352\n",
       "AMR    325\n",
       "DL     314\n",
       "DM     234\n",
       "AMC    118\n",
       "ML      99\n",
       "MR      91\n",
       "WBR     22\n",
       "WBL     17\n",
       "Name: count, dtype: int64"
      ]
     },
     "execution_count": 144,
     "metadata": {},
     "output_type": "execute_result"
    }
   ],
   "source": [
    "pdf.Best_Pos.value_counts()"
   ]
  },
  {
   "cell_type": "code",
   "execution_count": 127,
   "id": "6a6ea3ce-7b60-4752-a7d8-fa59b66d462a",
   "metadata": {},
   "outputs": [],
   "source": [
    "url = \"https://fbref.com/en/comps/Big5/2022-2023/passing/players/2022-2023-Big-5-European-Leagues-Stats\"\n",
    "data = pd.read_html(url)\n",
    "data[0].columns = data[0].columns.get_level_values(1)"
   ]
  },
  {
   "cell_type": "code",
   "execution_count": 128,
   "id": "408f7d39-d6bc-4e8b-9a97-70463f9a23ca",
   "metadata": {},
   "outputs": [],
   "source": [
    "passing_data = data[0]"
   ]
  },
  {
   "cell_type": "code",
   "execution_count": 129,
   "id": "bef836cb-7540-4a7a-a0f0-5e11e222e85c",
   "metadata": {},
   "outputs": [],
   "source": [
    "mdf = pd.merge(pdf, passing_data, how=\"inner\", left_on=\"fbref_player_name\", right_on=\"Player\")\n",
    "mdf = mdf.drop_duplicates(subset=['Player'], keep='first')\n",
    "mdf = rename_duplicate_columns(mdf)"
   ]
  },
  {
   "cell_type": "code",
   "execution_count": 130,
   "id": "7c93b59d-1699-4a44-8e5e-42ef49e54fde",
   "metadata": {},
   "outputs": [],
   "source": [
    "mdf[\"Att\"] = pd.to_numeric(mdf[\"Att\"], errors='coerce')\n",
    "mdf[\"90s\"] = pd.to_numeric(mdf[\"90s\"], errors='coerce')\n",
    "mdf[\"Cmp\"] = pd.to_numeric(mdf[\"Cmp\"], errors='coerce')\n",
    "mdf[\"Cmp%\"] = pd.to_numeric(mdf[\"Cmp%\"], errors='coerce')"
   ]
  },
  {
   "cell_type": "code",
   "execution_count": 131,
   "id": "73b20eab-d152-4f33-8d03-06beaae5b5c8",
   "metadata": {},
   "outputs": [],
   "source": [
    "mdf[\"Att90\"] = mdf[\"Att\"].apply(float) / mdf[\"90s\"].apply(float)\n",
    "mdf[\"Cmp90\"] = mdf[\"Cmp\"].apply(float) / mdf[\"90s\"].apply(float)\n",
    "mdf[\"Cmp%\"] = mdf[\"Cmp%\"].apply(float)"
   ]
  },
  {
   "cell_type": "code",
   "execution_count": 132,
   "id": "96ac4bfe-6bb7-4129-9d86-c9c060019772",
   "metadata": {},
   "outputs": [],
   "source": [
    "# mdf.loc[0].to_dict()"
   ]
  },
  {
   "cell_type": "code",
   "execution_count": 133,
   "id": "f4dd43d0-72bb-46f2-9942-63f7642b63cd",
   "metadata": {},
   "outputs": [
    {
     "name": "stdout",
     "output_type": "stream",
     "text": [
      "<class 'pandas.core.frame.DataFrame'>\n",
      "Index: 2467 entries, 0 to 5109\n",
      "Columns: 138 entries, UID to Cmp90\n",
      "dtypes: float64(6), int64(79), object(53)\n",
      "memory usage: 2.6+ MB\n"
     ]
    }
   ],
   "source": [
    "mdf.info()"
   ]
  },
  {
   "cell_type": "code",
   "execution_count": 134,
   "id": "6ac6a37e-4b5f-456e-a622-18bc2ababfcd",
   "metadata": {},
   "outputs": [
    {
     "data": {
      "text/html": [
       "<div>\n",
       "<style scoped>\n",
       "    .dataframe tbody tr th:only-of-type {\n",
       "        vertical-align: middle;\n",
       "    }\n",
       "\n",
       "    .dataframe tbody tr th {\n",
       "        vertical-align: top;\n",
       "    }\n",
       "\n",
       "    .dataframe thead th {\n",
       "        text-align: right;\n",
       "    }\n",
       "</style>\n",
       "<table border=\"1\" class=\"dataframe\">\n",
       "  <thead>\n",
       "    <tr style=\"text-align: right;\">\n",
       "      <th></th>\n",
       "      <th>Player</th>\n",
       "      <th>Pos_Rank</th>\n",
       "      <th>Best_Pos</th>\n",
       "      <th>tpr</th>\n",
       "      <th>pas</th>\n",
       "      <th>Att90</th>\n",
       "      <th>Cmp90</th>\n",
       "      <th>Cmp%</th>\n",
       "    </tr>\n",
       "  </thead>\n",
       "  <tbody>\n",
       "    <tr>\n",
       "      <th>0</th>\n",
       "      <td>Vito Mannone</td>\n",
       "      <td>0</td>\n",
       "      <td>GK</td>\n",
       "      <td>71</td>\n",
       "      <td>53</td>\n",
       "      <td>32.569832</td>\n",
       "      <td>24.804469</td>\n",
       "      <td>76.2</td>\n",
       "    </tr>\n",
       "    <tr>\n",
       "      <th>2</th>\n",
       "      <td>Léo Jardim</td>\n",
       "      <td>0</td>\n",
       "      <td>GK</td>\n",
       "      <td>68</td>\n",
       "      <td>54</td>\n",
       "      <td>25.666667</td>\n",
       "      <td>20.333333</td>\n",
       "      <td>79.2</td>\n",
       "    </tr>\n",
       "    <tr>\n",
       "      <th>3</th>\n",
       "      <td>Wojciech Szczęsny</td>\n",
       "      <td>0</td>\n",
       "      <td>GK</td>\n",
       "      <td>81</td>\n",
       "      <td>57</td>\n",
       "      <td>28.690909</td>\n",
       "      <td>22.727273</td>\n",
       "      <td>79.2</td>\n",
       "    </tr>\n",
       "    <tr>\n",
       "      <th>4</th>\n",
       "      <td>Benjamin Lecomte</td>\n",
       "      <td>0</td>\n",
       "      <td>GK</td>\n",
       "      <td>75</td>\n",
       "      <td>62</td>\n",
       "      <td>27.500000</td>\n",
       "      <td>17.900000</td>\n",
       "      <td>65.1</td>\n",
       "    </tr>\n",
       "    <tr>\n",
       "      <th>6</th>\n",
       "      <td>Tobias Mohr</td>\n",
       "      <td>0</td>\n",
       "      <td>GK</td>\n",
       "      <td>38</td>\n",
       "      <td>31</td>\n",
       "      <td>54.408602</td>\n",
       "      <td>33.118280</td>\n",
       "      <td>60.9</td>\n",
       "    </tr>\n",
       "  </tbody>\n",
       "</table>\n",
       "</div>"
      ],
      "text/plain": [
       "              Player  Pos_Rank Best_Pos  tpr  pas      Att90      Cmp90  Cmp%\n",
       "0       Vito Mannone         0       GK   71   53  32.569832  24.804469  76.2\n",
       "2         Léo Jardim         0       GK   68   54  25.666667  20.333333  79.2\n",
       "3  Wojciech Szczęsny         0       GK   81   57  28.690909  22.727273  79.2\n",
       "4   Benjamin Lecomte         0       GK   75   62  27.500000  17.900000  65.1\n",
       "6        Tobias Mohr         0       GK   38   31  54.408602  33.118280  60.9"
      ]
     },
     "execution_count": 134,
     "metadata": {},
     "output_type": "execute_result"
    }
   ],
   "source": [
    "mdf[[\"Player\",\"Pos_Rank\",\"Best_Pos\",\"tpr\",\"pas\",\"Att90\",\"Cmp90\",\"Cmp%\"]].head()"
   ]
  },
  {
   "cell_type": "code",
   "execution_count": 135,
   "id": "89df1f62-a474-48c3-a1a4-699aae39c648",
   "metadata": {},
   "outputs": [
    {
     "data": {
      "text/html": [
       "<div>\n",
       "<style scoped>\n",
       "    .dataframe tbody tr th:only-of-type {\n",
       "        vertical-align: middle;\n",
       "    }\n",
       "\n",
       "    .dataframe tbody tr th {\n",
       "        vertical-align: top;\n",
       "    }\n",
       "\n",
       "    .dataframe thead th {\n",
       "        text-align: right;\n",
       "    }\n",
       "</style>\n",
       "<table border=\"1\" class=\"dataframe\">\n",
       "  <thead>\n",
       "    <tr style=\"text-align: right;\">\n",
       "      <th></th>\n",
       "      <th>Pos_Rank</th>\n",
       "      <th>Best_Pos</th>\n",
       "    </tr>\n",
       "  </thead>\n",
       "  <tbody>\n",
       "    <tr>\n",
       "      <th>0</th>\n",
       "      <td>0</td>\n",
       "      <td>GK</td>\n",
       "    </tr>\n",
       "    <tr>\n",
       "      <th>1325</th>\n",
       "      <td>1</td>\n",
       "      <td>WBR</td>\n",
       "    </tr>\n",
       "    <tr>\n",
       "      <th>1355</th>\n",
       "      <td>2</td>\n",
       "      <td>DR</td>\n",
       "    </tr>\n",
       "    <tr>\n",
       "      <th>1887</th>\n",
       "      <td>3</td>\n",
       "      <td>DC</td>\n",
       "    </tr>\n",
       "    <tr>\n",
       "      <th>3217</th>\n",
       "      <td>4</td>\n",
       "      <td>DL</td>\n",
       "    </tr>\n",
       "    <tr>\n",
       "      <th>3530</th>\n",
       "      <td>5</td>\n",
       "      <td>WBL</td>\n",
       "    </tr>\n",
       "    <tr>\n",
       "      <th>3544</th>\n",
       "      <td>6</td>\n",
       "      <td>DM</td>\n",
       "    </tr>\n",
       "    <tr>\n",
       "      <th>3777</th>\n",
       "      <td>7</td>\n",
       "      <td>MC</td>\n",
       "    </tr>\n",
       "    <tr>\n",
       "      <th>4273</th>\n",
       "      <td>8</td>\n",
       "      <td>MR</td>\n",
       "    </tr>\n",
       "    <tr>\n",
       "      <th>4325</th>\n",
       "      <td>9</td>\n",
       "      <td>AMC</td>\n",
       "    </tr>\n",
       "    <tr>\n",
       "      <th>4397</th>\n",
       "      <td>10</td>\n",
       "      <td>ML</td>\n",
       "    </tr>\n",
       "    <tr>\n",
       "      <th>4457</th>\n",
       "      <td>11</td>\n",
       "      <td>AMR</td>\n",
       "    </tr>\n",
       "    <tr>\n",
       "      <th>4657</th>\n",
       "      <td>12</td>\n",
       "      <td>ST</td>\n",
       "    </tr>\n",
       "    <tr>\n",
       "      <th>4889</th>\n",
       "      <td>13</td>\n",
       "      <td>AML</td>\n",
       "    </tr>\n",
       "  </tbody>\n",
       "</table>\n",
       "</div>"
      ],
      "text/plain": [
       "      Pos_Rank Best_Pos\n",
       "0            0       GK\n",
       "1325         1      WBR\n",
       "1355         2       DR\n",
       "1887         3       DC\n",
       "3217         4       DL\n",
       "3530         5      WBL\n",
       "3544         6       DM\n",
       "3777         7       MC\n",
       "4273         8       MR\n",
       "4325         9      AMC\n",
       "4397        10       ML\n",
       "4457        11      AMR\n",
       "4657        12       ST\n",
       "4889        13      AML"
      ]
     },
     "execution_count": 135,
     "metadata": {},
     "output_type": "execute_result"
    }
   ],
   "source": [
    "mdf.drop_duplicates(subset=['Pos_Rank'], keep='first')[[\"Pos_Rank\",\"Best_Pos\"]]"
   ]
  },
  {
   "cell_type": "code",
   "execution_count": 136,
   "id": "881c2a06-c760-404f-9402-fd1a584eaf95",
   "metadata": {},
   "outputs": [
    {
     "name": "stdout",
     "output_type": "stream",
     "text": [
      "<class 'pandas.core.frame.DataFrame'>\n",
      "Index: 2449 entries, 0 to 5109\n",
      "Data columns (total 4 columns):\n",
      " #   Column    Non-Null Count  Dtype  \n",
      "---  ------    --------------  -----  \n",
      " 0   Pos_Rank  2449 non-null   int64  \n",
      " 1   tpr       2449 non-null   int64  \n",
      " 2   pas       2449 non-null   int64  \n",
      " 3   Cmp%      2449 non-null   float64\n",
      "dtypes: float64(1), int64(3)\n",
      "memory usage: 95.7 KB\n",
      "None\n",
      "Coefficients: [-0.69954708 -0.00830549  0.16318856]\n",
      "Intercept: 70.08746287631286\n",
      "Mean squared error (MSE): 7.629352668009643\n",
      "Mean squared error (MSE): 118.30061407302766\n",
      "Coefficient of determination (R^2): 0.02352409203901984\n"
     ]
    }
   ],
   "source": [
    "from sklearn.model_selection import train_test_split\n",
    "from sklearn.linear_model import LinearRegression\n",
    "from sklearn.metrics import mean_absolute_error, mean_squared_error, r2_score\n",
    "\n",
    "# Assuming mdf is your DataFrame and has the necessary columns\n",
    "# mdf = pd.read_csv('your_data.csv')  # Load your data here if it's from a CSV file\n",
    "\n",
    "# Select the relevant columns\n",
    "df = mdf[[\"Pos_Rank\", \"tpr\", \"pas\", \"Cmp%\"]]\n",
    "\n",
    "# Drop any rows with missing values\n",
    "df = df.dropna()\n",
    "print(df.info())\n",
    "\n",
    "# Define the independent variables (predictors) and the dependent variable (response)\n",
    "X = df[[\"Pos_Rank\", \"tpr\", \"pas\"]]\n",
    "y = df[\"Cmp%\"]\n",
    "\n",
    "# Split the data into training and testing sets\n",
    "X_train, X_test, y_train, y_test = train_test_split(X, y, test_size=0.2, random_state=42)\n",
    "\n",
    "# Create a linear regression model\n",
    "model = LinearRegression()\n",
    "\n",
    "# Fit the model to the training data\n",
    "model.fit(X_train, y_train)\n",
    "\n",
    "# Make predictions on the test data\n",
    "y_pred = model.predict(X_test)\n",
    "\n",
    "# Print the coefficients\n",
    "print(\"Coefficients:\", model.coef_)\n",
    "print(\"Intercept:\", model.intercept_)\n",
    "\n",
    "# Print performance metrics\n",
    "print(\"Mean squared error (MSE):\", mean_absolute_error(y_test, y_pred))\n",
    "print(\"Mean squared error (MSE):\", mean_squared_error(y_test, y_pred))\n",
    "print(\"Coefficient of determination (R^2):\", r2_score(y_test, y_pred))"
   ]
  },
  {
   "cell_type": "code",
   "execution_count": 137,
   "id": "251146d6-78e4-400a-891a-9a2d0ee9e185",
   "metadata": {},
   "outputs": [
    {
     "name": "stdout",
     "output_type": "stream",
     "text": [
      "Predicted Class: [[82.05791943 79.24671494 71.58590103]]\n"
     ]
    }
   ],
   "source": [
    "def Predict_Pass_Completion_Rate(pos, tpr, pas):\n",
    "    input_data = {'Pos_Rank': [pos], 'tpr': [tpr], 'pas': [pas]}\n",
    "    input_df = pd.DataFrame(input_data)\n",
    "    noise_range = (-5, 10)\n",
    "    predicted_class = model.predict(input_df) + np.random.uniform(noise_range[0], noise_range[1], input_df.shape)\n",
    "    return predicted_class\n",
    "\n",
    "print(\"Predicted Class:\", Predict_Pass_Completion_Rate(12, 100, 84))"
   ]
  },
  {
   "cell_type": "code",
   "execution_count": 139,
   "id": "b6b7320a-80de-47e2-80db-05cc88e18348",
   "metadata": {},
   "outputs": [],
   "source": [
    "def Player_Passing_Volume_Share(df):\n",
    "    df[\"Att_share\"] = df[\"Att\"] / df[\"Att\"].sum()\n",
    "    df[\"Cmp_share\"] = df[\"Cmp\"] / df[\"Cmp\"].sum()\n",
    "    return df\n",
    "\n",
    "mdf = mdf.groupby('Club').apply(Player_Passing_Volume_Share).reset_index(drop=True)"
   ]
  },
  {
   "cell_type": "code",
   "execution_count": 138,
   "id": "87aba284-ac28-4e7b-9578-6f1c29eccc2c",
   "metadata": {},
   "outputs": [],
   "source": [
    "passing_logs = pd.read_csv(\"match_logs/Big5@22-23@passing.csv\")\n",
    "passing_data = passing_data\n",
    "passing_df = pd.merge(team_ratings, passing_data, how=\"inner\", left_on=\"fbref_name\", right_on=\"Squad\")"
   ]
  },
  {
   "cell_type": "code",
   "execution_count": null,
   "id": "6525c2d0-4019-48a0-a989-1751b5fcfcff",
   "metadata": {},
   "outputs": [],
   "source": []
  }
 ],
 "metadata": {
  "kernelspec": {
   "display_name": "Python 3 (ipykernel)",
   "language": "python",
   "name": "python3"
  },
  "language_info": {
   "codemirror_mode": {
    "name": "ipython",
    "version": 3
   },
   "file_extension": ".py",
   "mimetype": "text/x-python",
   "name": "python",
   "nbconvert_exporter": "python",
   "pygments_lexer": "ipython3",
   "version": "3.11.7"
  }
 },
 "nbformat": 4,
 "nbformat_minor": 5
}
