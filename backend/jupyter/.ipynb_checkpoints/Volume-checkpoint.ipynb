{
 "cells": [
  {
   "cell_type": "code",
   "execution_count": 54,
   "id": "d1afd80f-f14d-4cbf-a716-b6ae2edf71ad",
   "metadata": {},
   "outputs": [],
   "source": [
    "import pandas as pd\n",
    "import numpy as np\n",
    "import seaborn as sns\n",
    "import matplotlib.pyplot as plt\n",
    "import re\n",
    "import warnings"
   ]
  },
  {
   "cell_type": "code",
   "execution_count": 55,
   "id": "d49f9df9-4f91-4bf7-bb57-dba875f97a91",
   "metadata": {},
   "outputs": [],
   "source": [
    "import warnings\n",
    "from pandas.errors import SettingWithCopyWarning\n",
    "warnings.simplefilter(action='ignore', category=(SettingWithCopyWarning))\n",
    "warnings.simplefilter(action='ignore', category=(FutureWarning))"
   ]
  },
  {
   "cell_type": "code",
   "execution_count": 56,
   "id": "216536f1-2c8e-48d7-ae78-6c0c48c897a9",
   "metadata": {},
   "outputs": [],
   "source": [
    "players_db = pd.read_csv(\"players_db/fm23/fm23db_processed.csv\")\n",
    "team_ratings = pd.read_csv(\"players_db/fm23/team_ratings.csv\")\n",
    "win_df = pd.read_csv(\"players_db/fm23/win_probability.csv\", index_col=0)"
   ]
  },
  {
   "cell_type": "markdown",
   "id": "7109d6fe-4627-4204-a448-57fd35ed7606",
   "metadata": {},
   "source": [
    "<br><br><br><br>\n",
    "<h2 style=\"color:blue;\">  Win Probability</h3>"
   ]
  },
  {
   "cell_type": "code",
   "execution_count": 57,
   "id": "4ef4760c-96ec-43b1-9ea1-6495cc4895d0",
   "metadata": {},
   "outputs": [],
   "source": [
    "def Win_Probability(win_prob_df, power_y, power_x):\n",
    "    logit_sum = 0\n",
    "    prob_dict = {}\n",
    "    for match_result in [1,0,2]:\n",
    "        tpr_y = win_prob_df.loc[\"tpr_y\", str(match_result)]\n",
    "        tpr_x = win_prob_df.loc[\"tpr_x\", str(match_result)]\n",
    "        intercept = win_prob_df.loc[\"intercept\", str(match_result)]\n",
    "        fx = tpr_y*power_y + tpr_x*power_x + intercept\n",
    "        logit_sum += np.e ** fx\n",
    "        prob_dict[match_result] = 2.71**fx\n",
    "    for match_result in [1,0,2]:\n",
    "        prob_dict[match_result] = prob_dict[match_result] / logit_sum\n",
    "    return prob_dict"
   ]
  },
  {
   "cell_type": "code",
   "execution_count": 62,
   "id": "c8e9135d-cac8-4fdd-b3dc-2f88c9eb3fcc",
   "metadata": {},
   "outputs": [
    {
     "data": {
      "text/plain": [
       "{1: 0.5067263058637262, 0: 0.2442934843404802, 2: 0.2485965616924614}"
      ]
     },
     "execution_count": 62,
     "metadata": {},
     "output_type": "execute_result"
    }
   ],
   "source": [
    "Win_Probability(win_df, 83, 79)"
   ]
  },
  {
   "cell_type": "markdown",
   "id": "b9bfd6ce-83d2-4355-95ec-70bf057c2336",
   "metadata": {},
   "source": [
    "<br><br><br><br>\n",
    "<h2 style=\"color:blue;\">  Data</h3>"
   ]
  },
  {
   "cell_type": "code",
   "execution_count": null,
   "id": "01032b4a-a119-4c06-be33-c0289d5ed0ad",
   "metadata": {},
   "outputs": [],
   "source": []
  },
  {
   "cell_type": "code",
   "execution_count": null,
   "id": "116487f0-da95-47cf-99cd-3ee6f7588c1b",
   "metadata": {},
   "outputs": [],
   "source": []
  }
 ],
 "metadata": {
  "kernelspec": {
   "display_name": "Python 3 (ipykernel)",
   "language": "python",
   "name": "python3"
  },
  "language_info": {
   "codemirror_mode": {
    "name": "ipython",
    "version": 3
   },
   "file_extension": ".py",
   "mimetype": "text/x-python",
   "name": "python",
   "nbconvert_exporter": "python",
   "pygments_lexer": "ipython3",
   "version": "3.11.7"
  }
 },
 "nbformat": 4,
 "nbformat_minor": 5
}
