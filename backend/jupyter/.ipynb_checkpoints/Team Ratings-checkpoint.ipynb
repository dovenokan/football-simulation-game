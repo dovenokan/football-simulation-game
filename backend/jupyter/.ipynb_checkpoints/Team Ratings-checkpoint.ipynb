{
 "cells": [
  {
   "cell_type": "code",
   "execution_count": 75,
   "id": "d94c40d3-1319-4414-aa6f-a616f4c11baa",
   "metadata": {},
   "outputs": [],
   "source": [
    "import pandas as pd\n",
    "import numpy as np\n",
    "import seaborn as sns\n",
    "import matplotlib.pyplot as plt\n",
    "import re\n",
    "import warnings"
   ]
  },
  {
   "cell_type": "code",
   "execution_count": 76,
   "id": "2b034b9e-e7fc-47f7-aaf5-26eb416d9c2e",
   "metadata": {},
   "outputs": [],
   "source": [
    "import warnings\n",
    "from pandas.errors import SettingWithCopyWarning\n",
    "warnings.simplefilter(action='ignore', category=(SettingWithCopyWarning))\n",
    "warnings.simplefilter(action='ignore', category=(FutureWarning))"
   ]
  },
  {
   "cell_type": "code",
   "execution_count": 77,
   "id": "0f7e5bc4-2366-4e41-9137-5696854e5f69",
   "metadata": {},
   "outputs": [],
   "source": [
    "fm_df = pd.read_csv(\"players_db/fm23/fm23db_processed.csv\")"
   ]
  },
  {
   "cell_type": "code",
   "execution_count": 78,
   "id": "495bdc38-b60f-464b-a8d1-3074f196309c",
   "metadata": {},
   "outputs": [
    {
     "data": {
      "text/html": [
       "<div>\n",
       "<style scoped>\n",
       "    .dataframe tbody tr th:only-of-type {\n",
       "        vertical-align: middle;\n",
       "    }\n",
       "\n",
       "    .dataframe tbody tr th {\n",
       "        vertical-align: top;\n",
       "    }\n",
       "\n",
       "    .dataframe thead th {\n",
       "        text-align: right;\n",
       "    }\n",
       "</style>\n",
       "<table border=\"1\" class=\"dataframe\">\n",
       "  <thead>\n",
       "    <tr style=\"text-align: right;\">\n",
       "      <th></th>\n",
       "      <th>Club</th>\n",
       "      <th>Based</th>\n",
       "      <th>Division</th>\n",
       "      <th>Club_id</th>\n",
       "      <th>League_id</th>\n",
       "      <th>UID</th>\n",
       "      <th>Height</th>\n",
       "      <th>Age</th>\n",
       "      <th>Caps</th>\n",
       "      <th>Acceleration</th>\n",
       "      <th>...</th>\n",
       "      <th>tpr_ML</th>\n",
       "      <th>tpr_MR</th>\n",
       "      <th>tpr_WBR</th>\n",
       "      <th>tpr_WBL</th>\n",
       "      <th>tpr_without_shifting</th>\n",
       "      <th>tpr_normalized</th>\n",
       "      <th>tpr_general</th>\n",
       "      <th>tpr_AVERAGE</th>\n",
       "      <th>tpr_Best</th>\n",
       "      <th>Error_tpr</th>\n",
       "    </tr>\n",
       "  </thead>\n",
       "  <tbody>\n",
       "    <tr>\n",
       "      <th>0</th>\n",
       "      <td>FC Bayern</td>\n",
       "      <td>Germany (Bundesliga)</td>\n",
       "      <td>Bundesliga</td>\n",
       "      <td>3704</td>\n",
       "      <td>185</td>\n",
       "      <td>92039023</td>\n",
       "      <td>177</td>\n",
       "      <td>27</td>\n",
       "      <td>68</td>\n",
       "      <td>64</td>\n",
       "      <td>...</td>\n",
       "      <td>46</td>\n",
       "      <td>46</td>\n",
       "      <td>99</td>\n",
       "      <td>49</td>\n",
       "      <td>99</td>\n",
       "      <td>95</td>\n",
       "      <td>72</td>\n",
       "      <td>92</td>\n",
       "      <td>99</td>\n",
       "      <td>0</td>\n",
       "    </tr>\n",
       "    <tr>\n",
       "      <th>1</th>\n",
       "      <td>FC Bayern</td>\n",
       "      <td>Germany (Bundesliga)</td>\n",
       "      <td>Bundesliga</td>\n",
       "      <td>3704</td>\n",
       "      <td>185</td>\n",
       "      <td>85100467</td>\n",
       "      <td>174</td>\n",
       "      <td>30</td>\n",
       "      <td>87</td>\n",
       "      <td>79</td>\n",
       "      <td>...</td>\n",
       "      <td>81</td>\n",
       "      <td>58</td>\n",
       "      <td>55</td>\n",
       "      <td>70</td>\n",
       "      <td>99</td>\n",
       "      <td>93</td>\n",
       "      <td>70</td>\n",
       "      <td>91</td>\n",
       "      <td>98</td>\n",
       "      <td>1</td>\n",
       "    </tr>\n",
       "    <tr>\n",
       "      <th>2</th>\n",
       "      <td>FC Bayern</td>\n",
       "      <td>Germany (Bundesliga)</td>\n",
       "      <td>Bundesliga</td>\n",
       "      <td>3704</td>\n",
       "      <td>185</td>\n",
       "      <td>35011448</td>\n",
       "      <td>185</td>\n",
       "      <td>32</td>\n",
       "      <td>115</td>\n",
       "      <td>59</td>\n",
       "      <td>...</td>\n",
       "      <td>69</td>\n",
       "      <td>96</td>\n",
       "      <td>47</td>\n",
       "      <td>46</td>\n",
       "      <td>99</td>\n",
       "      <td>95</td>\n",
       "      <td>71</td>\n",
       "      <td>92</td>\n",
       "      <td>99</td>\n",
       "      <td>0</td>\n",
       "    </tr>\n",
       "    <tr>\n",
       "      <th>3</th>\n",
       "      <td>FC Bayern</td>\n",
       "      <td>Germany (Bundesliga)</td>\n",
       "      <td>Bundesliga</td>\n",
       "      <td>3704</td>\n",
       "      <td>185</td>\n",
       "      <td>8718372</td>\n",
       "      <td>193</td>\n",
       "      <td>36</td>\n",
       "      <td>112</td>\n",
       "      <td>54</td>\n",
       "      <td>...</td>\n",
       "      <td>41</td>\n",
       "      <td>41</td>\n",
       "      <td>41</td>\n",
       "      <td>41</td>\n",
       "      <td>99</td>\n",
       "      <td>95</td>\n",
       "      <td>64</td>\n",
       "      <td>96</td>\n",
       "      <td>99</td>\n",
       "      <td>4</td>\n",
       "    </tr>\n",
       "    <tr>\n",
       "      <th>4</th>\n",
       "      <td>FC Bayern</td>\n",
       "      <td>Germany (Bundesliga)</td>\n",
       "      <td>Bundesliga</td>\n",
       "      <td>3704</td>\n",
       "      <td>185</td>\n",
       "      <td>91104807</td>\n",
       "      <td>189</td>\n",
       "      <td>27</td>\n",
       "      <td>44</td>\n",
       "      <td>59</td>\n",
       "      <td>...</td>\n",
       "      <td>61</td>\n",
       "      <td>55</td>\n",
       "      <td>50</td>\n",
       "      <td>58</td>\n",
       "      <td>93</td>\n",
       "      <td>91</td>\n",
       "      <td>69</td>\n",
       "      <td>89</td>\n",
       "      <td>97</td>\n",
       "      <td>1</td>\n",
       "    </tr>\n",
       "  </tbody>\n",
       "</table>\n",
       "<p>5 rows × 82 columns</p>\n",
       "</div>"
      ],
      "text/plain": [
       "        Club                 Based    Division  Club_id  League_id       UID  \\\n",
       "0  FC Bayern  Germany (Bundesliga)  Bundesliga     3704        185  92039023   \n",
       "1  FC Bayern  Germany (Bundesliga)  Bundesliga     3704        185  85100467   \n",
       "2  FC Bayern  Germany (Bundesliga)  Bundesliga     3704        185  35011448   \n",
       "3  FC Bayern  Germany (Bundesliga)  Bundesliga     3704        185   8718372   \n",
       "4  FC Bayern  Germany (Bundesliga)  Bundesliga     3704        185  91104807   \n",
       "\n",
       "   Height  Age  Caps  Acceleration  ...  tpr_ML  tpr_MR  tpr_WBR  tpr_WBL  \\\n",
       "0     177   27    68            64  ...      46      46       99       49   \n",
       "1     174   30    87            79  ...      81      58       55       70   \n",
       "2     185   32   115            59  ...      69      96       47       46   \n",
       "3     193   36   112            54  ...      41      41       41       41   \n",
       "4     189   27    44            59  ...      61      55       50       58   \n",
       "\n",
       "   tpr_without_shifting  tpr_normalized  tpr_general  tpr_AVERAGE  tpr_Best  \\\n",
       "0                    99              95           72           92        99   \n",
       "1                    99              93           70           91        98   \n",
       "2                    99              95           71           92        99   \n",
       "3                    99              95           64           96        99   \n",
       "4                    93              91           69           89        97   \n",
       "\n",
       "   Error_tpr  \n",
       "0          0  \n",
       "1          1  \n",
       "2          0  \n",
       "3          4  \n",
       "4          1  \n",
       "\n",
       "[5 rows x 82 columns]"
      ]
     },
     "execution_count": 78,
     "metadata": {},
     "output_type": "execute_result"
    }
   ],
   "source": [
    "fm_df[[\"Club\",\"Based\",\"Division\",\"Club_id\",\"League_id\"] + list(fm_df.select_dtypes(exclude=\"object\").columns)].head()"
   ]
  },
  {
   "cell_type": "code",
   "execution_count": 79,
   "id": "32abc772-c15c-4f28-a046-73a4ed4766d1",
   "metadata": {},
   "outputs": [
    {
     "data": {
      "text/plain": [
       "0        DM\n",
       "1       AML\n",
       "2       AMC\n",
       "3        GK\n",
       "4        MC\n",
       "       ... \n",
       "6417    AMR\n",
       "6418     GK\n",
       "6419    AMR\n",
       "6420     DC\n",
       "6421     GK\n",
       "Name: Best_Pos, Length: 6422, dtype: object"
      ]
     },
     "execution_count": 79,
     "metadata": {},
     "output_type": "execute_result"
    }
   ],
   "source": [
    "fm_df.Best_Pos"
   ]
  },
  {
   "cell_type": "code",
   "execution_count": 80,
   "id": "1dea57fc-7519-4a78-b1d3-c7c2048ae564",
   "metadata": {},
   "outputs": [
    {
     "data": {
      "text/plain": [
       "Club\n",
       "Hellas Verona          74\n",
       "Sassuolo               73\n",
       "Internazionale         71\n",
       "Benfica                71\n",
       "Vizela                 68\n",
       "                       ..\n",
       "Sparta                 24\n",
       "FC Volendam            23\n",
       "Paris Saint-Germain    23\n",
       "Ajax                   22\n",
       "Clermont               22\n",
       "Name: count, Length: 153, dtype: int64"
      ]
     },
     "execution_count": 80,
     "metadata": {},
     "output_type": "execute_result"
    }
   ],
   "source": [
    "fm_df.Club.value_counts(sort=True)"
   ]
  },
  {
   "cell_type": "code",
   "execution_count": 81,
   "id": "d7356030-1de4-4baa-97ea-38ec63731ea4",
   "metadata": {},
   "outputs": [
    {
     "data": {
      "text/plain": [
       "{'UID': 92039023,\n",
       " 'Inf': nan,\n",
       " 'Name': 'Joshua Kimmich',\n",
       " 'DoB': '1995-02-08',\n",
       " 'Nat': 'GER',\n",
       " 'Division': 'Bundesliga',\n",
       " 'Club': 'FC Bayern',\n",
       " 'Based': 'Germany (Bundesliga)',\n",
       " 'Preferred Foot': 'Right',\n",
       " 'Right Foot': 'Very Strong',\n",
       " 'Left Foot': 'Fairly Strong',\n",
       " 'Position': 'DR,WBR,DM,MC',\n",
       " 'Height': 177,\n",
       " 'Weight': '75 kg',\n",
       " 'Age': 27,\n",
       " 'Transfer Value': '€96M - €119M',\n",
       " 'Wage': '€1,496,000 p/m',\n",
       " 'AT Apps': '253',\n",
       " 'AT Gls': '23',\n",
       " 'Team': nan,\n",
       " 'Caps': 68,\n",
       " 'Yth Apps': '14',\n",
       " 'Style': 'Leader',\n",
       " 'Rc Injury': '-',\n",
       " 'Best_Role': 'Deep Lying Playmaker',\n",
       " 'Best Duty': 'Defend',\n",
       " 'Best_Pos': 'DM',\n",
       " 'Acceleration': 64,\n",
       " 'Aerial_Reach': 4,\n",
       " 'Aggression': 74,\n",
       " 'Agility': 59,\n",
       " 'Anticipation': 74,\n",
       " 'Balance': 64,\n",
       " 'Bravery': 74,\n",
       " 'Command_of_Area': 9,\n",
       " 'Communication': 9,\n",
       " 'Composure': 84,\n",
       " 'Concentration': 69,\n",
       " 'Corners': 74,\n",
       " 'Crossing': 84,\n",
       " 'Decisions': 79,\n",
       " 'Determination': 99,\n",
       " 'Dribbling': 59,\n",
       " 'Eccentricity': 14,\n",
       " 'Finishing': 54,\n",
       " 'First_Touch': 74,\n",
       " 'Flair': 64,\n",
       " 'Free_Kick_Taking': 64,\n",
       " 'Handling': 14,\n",
       " 'Heading': 54,\n",
       " 'Jumping_Reach': 49,\n",
       " 'Kicking': 4,\n",
       " 'Leadership': 79,\n",
       " 'Long_Shots': 69,\n",
       " 'Long_Throws': 29,\n",
       " 'Marking': 64,\n",
       " 'Natural_Fitness': 99,\n",
       " 'Off_the_Ball': 59,\n",
       " 'One_on_Ones': 4,\n",
       " 'Pace': 59,\n",
       " 'Passing': 89,\n",
       " 'Penalty_Taking': 49,\n",
       " 'Positioning': 64,\n",
       " 'Punching': 14,\n",
       " 'Reflexes': 9,\n",
       " 'Rushing_Out': 14,\n",
       " 'Stamina': 99,\n",
       " 'Strength': 54,\n",
       " 'Tackling': 59,\n",
       " 'Teamwork': 84,\n",
       " 'Technique': 79,\n",
       " 'Throwing': 4,\n",
       " 'Vision': 89,\n",
       " 'Work_Rate': 94,\n",
       " 'Club_id': 3704,\n",
       " 'League_id': 185,\n",
       " 'Player_Role': 'DM_Deep Lying Playmaker',\n",
       " 'Pos_Rank': 6,\n",
       " 'gk': 20,\n",
       " 'tpr': 92,\n",
       " 'tpr_Attribute_Position_Weights': 95,\n",
       " 'tpr_DM': 99,\n",
       " 'tpr_AML': 43,\n",
       " 'tpr_AMC': 54,\n",
       " 'tpr_GK': 40,\n",
       " 'tpr_MC': 96,\n",
       " 'tpr_DC': 56,\n",
       " 'tpr_AMR': 44,\n",
       " 'tpr_DL': 48,\n",
       " 'tpr_DR': 99,\n",
       " 'tpr_ST': 41,\n",
       " 'tpr_ML': 46,\n",
       " 'tpr_MR': 46,\n",
       " 'tpr_WBR': 99,\n",
       " 'tpr_WBL': 49,\n",
       " 'tpr_without_shifting': 99,\n",
       " 'tpr_normalized': 95,\n",
       " 'tpr_general': 72,\n",
       " 'tpr_AVERAGE': 92,\n",
       " 'tpr_Best': 99,\n",
       " 'tpr_Star': '⭐⭐⭐⭐⭐',\n",
       " 'Error_tpr': 0,\n",
       " 'fbref_player_name': 'Joshua Kimmich'}"
      ]
     },
     "execution_count": 81,
     "metadata": {},
     "output_type": "execute_result"
    }
   ],
   "source": [
    "fm_df.iloc[0].to_dict()"
   ]
  },
  {
   "cell_type": "code",
   "execution_count": 82,
   "id": "5abca722-ada6-4178-89ef-a3b5c9f90f2a",
   "metadata": {},
   "outputs": [],
   "source": [
    "rating_attrs = [\"Club\",\"gk\",\"def\",\"pas\",\"dri\",\"fin\",\"sta\",\"str\",\"hed\",\"men\",\"iq\"]"
   ]
  },
  {
   "cell_type": "markdown",
   "id": "7b886d0c-bcae-49d7-aee1-ccaf3099d209",
   "metadata": {},
   "source": [
    "# Formations"
   ]
  },
  {
   "cell_type": "code",
   "execution_count": 83,
   "id": "8785d107-aec1-4ed2-a681-e676e08b7762",
   "metadata": {},
   "outputs": [],
   "source": [
    "def Formation_Dict(formation=\"4-3-3\"):\n",
    "    # test_formation = { 'GK': 1, 'DC': 2, 'DL': 1, 'DR': 1, 'DM': 1, 'MC': 2, 'AML': 1, 'AMR': 1, 'ST': 1 }\n",
    "    test_formation = { 'GK': 1, 'DC': 3, 'WBL': 1, 'WBR': 1, 'DM': 0, 'MC': 3, 'AML': 0, 'AMR': 0, 'ST': 2 }\n",
    "    return test_formation"
   ]
  },
  {
   "cell_type": "markdown",
   "id": "0486ff19-7342-46a6-8ce7-6f5949c7b049",
   "metadata": {},
   "source": [
    "<br><br><br><br>\n",
    "# Rating Functions"
   ]
  },
  {
   "cell_type": "code",
   "execution_count": 84,
   "id": "2be54790-08e2-40bb-8ffa-efdd7b2b6540",
   "metadata": {},
   "outputs": [],
   "source": [
    "def Quantile(n=16, index=0):\n",
    "    data_numeric = pd.DataFrame(list(range(n)))\n",
    "    quantile_intervals = [0, 0.25, 0.40, 0.65, 0.75, 1.0]\n",
    "    qval = data_numeric.quantile(quantile_intervals)\n",
    "    return int(qval.iloc[index]) "
   ]
  },
  {
   "cell_type": "code",
   "execution_count": 85,
   "id": "6df120e8-9e0a-48c9-9270-6aeeef52a38e",
   "metadata": {},
   "outputs": [],
   "source": [
    "def Quarter_Rating(df, n, index, current_attribute):\n",
    "    quantile = Quantile(n=n, index=index)\n",
    "    output = df.nlargest(quantile, current_attribute)[current_attribute].mean()\n",
    "    return output"
   ]
  },
  {
   "cell_type": "markdown",
   "id": "2572d525-31d0-4779-9cf9-754382eaeed6",
   "metadata": {},
   "source": [
    "<br><br><br><br>\n",
    "# Club Powers"
   ]
  },
  {
   "cell_type": "code",
   "execution_count": 86,
   "id": "b2ece689-9424-4d0a-b7e4-242705eb15ed",
   "metadata": {},
   "outputs": [],
   "source": [
    "def TPR(df, n, lineup=False, print_club=False, coef_dict={}):\n",
    "    '''\n",
    "    Team Power Rating\n",
    "    '''\n",
    "    # Choose Attribute\n",
    "    current_attribute = \"tpr\"\n",
    "    zoom_df = df\n",
    "    \n",
    "    # Group by club\n",
    "    club_groups = df.groupby('Club')\n",
    "    club_rating_dict = {}\n",
    "\n",
    "    if not lineup:\n",
    "        for club, group in club_groups:\n",
    "            top_players = group.nlargest(n, 'tpr')\n",
    "            p1 = Quarter_Rating(top_players, n, 1, current_attribute)\n",
    "            p2 = Quarter_Rating(top_players, n, 2, current_attribute)\n",
    "            p3 = Quarter_Rating(top_players, n, 3, current_attribute)\n",
    "            p4 = Quarter_Rating(top_players, n, 4, current_attribute)\n",
    "            p5 = Quarter_Rating(top_players, n, 5, current_attribute)\n",
    "            club_rating_dict[club] = int(p1*coef_dict[\"p1\"] + p2*coef_dict[\"p2\"] + p3*coef_dict[\"p3\"] + p4*coef_dict[\"p4\"] + p5*coef_dict[\"p5\"])\n",
    "            \n",
    "    else: # Lineup_df is active\n",
    "        for club, group in club_groups:\n",
    "            positions = Formation_Dict(formation=\"4-3-3\")\n",
    "            \n",
    "            selected_players = []\n",
    "            used_players = set()\n",
    "\n",
    "            for position, count in positions.items():\n",
    "                # position_group = group[group['Best_Pos'] == position] # This variable selects only Best_Pos\n",
    "                position_group = group[group['Position'].apply(lambda x: any(position in x.split(\",\") for i in x.split(\",\") if i == position))]\n",
    "                \n",
    "                if position_group.empty:\n",
    "                    # position_group = group[group['Position'].apply(lambda x: position in x)]\n",
    "                    position_group = group[group['Position'].apply(lambda x: any(position in x.split(\",\") for i in x.split(\",\") if i == position))]\n",
    "                \n",
    "                position_group = position_group[~position_group.index.isin(used_players)]\n",
    "                top_position_players = position_group.nlargest(count, f'tpr_{position}')\n",
    "                \n",
    "                selected_players.extend(top_position_players.index.tolist())\n",
    "                used_players.update(top_position_players.index.tolist())\n",
    "\n",
    "            # Ensure we have exactly 11 players \n",
    "            while len(selected_players) < 11:\n",
    "                remaining_players = group[~group.index.isin(used_players)]\n",
    "                if remaining_players.empty:\n",
    "                    break\n",
    "                next_best_player = remaining_players.nlargest(1, f'tpr_{position}')\n",
    "                selected_players.extend(next_best_player.index.tolist())\n",
    "                used_players.update(next_best_player.index.tolist())\n",
    "\n",
    "            lineup_players = group.loc[selected_players].sort_values(by=\"Pos_Rank\")\n",
    "            p1 = Quarter_Rating(lineup_players, n, 1, current_attribute)\n",
    "            p2 = Quarter_Rating(lineup_players, n, 2, current_attribute)\n",
    "            p3 = Quarter_Rating(lineup_players, n, 3, current_attribute)\n",
    "            p4 = Quarter_Rating(lineup_players, n, 4, current_attribute)\n",
    "            p5 = Quarter_Rating(lineup_players, n, 5, current_attribute)\n",
    "            club_rating_dict[club] = int(p1*coef_dict[\"p1\"] + p2*coef_dict[\"p2\"] + p3*coef_dict[\"p3\"] + p4*coef_dict[\"p4\"] + p5*coef_dict[\"p5\"])\n",
    "\n",
    "            if club == print_club:\n",
    "                print(club, \"XI =\", len(lineup_players))\n",
    "                print(lineup_players[[\"Name\",\"Best_Pos\",\"tpr\"]])\n",
    "                \n",
    "    club_df = pd.DataFrame(list(club_rating_dict.items()), columns=['Club', current_attribute])\n",
    "    return club_df.sort_values(current_attribute, ascending=False)"
   ]
  },
  {
   "cell_type": "code",
   "execution_count": null,
   "id": "a479fe71-921e-4af2-b2d5-5b5934b23606",
   "metadata": {},
   "outputs": [],
   "source": [
    "example_club=\"Liverpool\"\n",
    "output = TPR(fm_df, n=16, lineup=True, print_club=example_club,\n",
    "             coef_dict={ 'p1': 0.30, 'p2': 0.35, 'p3': 0.15, 'p4': 0.15, 'p5': 0.05 }).head(n=10)\n",
    "output"
   ]
  },
  {
   "cell_type": "code",
   "execution_count": 88,
   "id": "47a34d47-6aba-4b6d-b7dd-4ddb2959aef0",
   "metadata": {},
   "outputs": [
    {
     "data": {
      "text/html": [
       "<div>\n",
       "<style scoped>\n",
       "    .dataframe tbody tr th:only-of-type {\n",
       "        vertical-align: middle;\n",
       "    }\n",
       "\n",
       "    .dataframe tbody tr th {\n",
       "        vertical-align: top;\n",
       "    }\n",
       "\n",
       "    .dataframe thead th {\n",
       "        text-align: right;\n",
       "    }\n",
       "</style>\n",
       "<table border=\"1\" class=\"dataframe\">\n",
       "  <thead>\n",
       "    <tr style=\"text-align: right;\">\n",
       "      <th></th>\n",
       "      <th>Name</th>\n",
       "      <th>Best_Pos</th>\n",
       "      <th>Position</th>\n",
       "      <th>tpr</th>\n",
       "      <th>tpr_ST</th>\n",
       "    </tr>\n",
       "  </thead>\n",
       "  <tbody>\n",
       "    <tr>\n",
       "      <th>3194</th>\n",
       "      <td>Mohamed Salah</td>\n",
       "      <td>AMR</td>\n",
       "      <td>AMR,AML,ST</td>\n",
       "      <td>92</td>\n",
       "      <td>95</td>\n",
       "    </tr>\n",
       "    <tr>\n",
       "      <th>3220</th>\n",
       "      <td>Roberto Firmino</td>\n",
       "      <td>ST</td>\n",
       "      <td>AMR,AML,AMC,ST</td>\n",
       "      <td>84</td>\n",
       "      <td>92</td>\n",
       "    </tr>\n",
       "    <tr>\n",
       "      <th>3451</th>\n",
       "      <td>Darwin Núñez</td>\n",
       "      <td>ST</td>\n",
       "      <td>ST</td>\n",
       "      <td>80</td>\n",
       "      <td>92</td>\n",
       "    </tr>\n",
       "    <tr>\n",
       "      <th>3249</th>\n",
       "      <td>Diogo Jota</td>\n",
       "      <td>AML</td>\n",
       "      <td>AMR,AML,ST</td>\n",
       "      <td>82</td>\n",
       "      <td>90</td>\n",
       "    </tr>\n",
       "    <tr>\n",
       "      <th>3577</th>\n",
       "      <td>Fábio Carvalho</td>\n",
       "      <td>AML</td>\n",
       "      <td>AMR,AML,AMC,ST</td>\n",
       "      <td>77</td>\n",
       "      <td>85</td>\n",
       "    </tr>\n",
       "  </tbody>\n",
       "</table>\n",
       "</div>"
      ],
      "text/plain": [
       "                 Name Best_Pos        Position  tpr  tpr_ST\n",
       "3194    Mohamed Salah      AMR      AMR,AML,ST   92      95\n",
       "3220  Roberto Firmino       ST  AMR,AML,AMC,ST   84      92\n",
       "3451     Darwin Núñez       ST              ST   80      92\n",
       "3249       Diogo Jota      AML      AMR,AML,ST   82      90\n",
       "3577   Fábio Carvalho      AML  AMR,AML,AMC,ST   77      85"
      ]
     },
     "execution_count": 88,
     "metadata": {},
     "output_type": "execute_result"
    }
   ],
   "source": [
    "example_pos=\"tpr_ST\"\n",
    "fm_df.query(f\"Club == '{example_club}'\").sort_values(by=example_pos,ascending=False)[[\"Name\",\"Best_Pos\",\"Position\",\"tpr\",example_pos]] \\\n",
    ".head(n=5)"
   ]
  },
  {
   "cell_type": "markdown",
   "id": "3a714f62-ec60-4e10-b162-387ca2ff17b8",
   "metadata": {},
   "source": [
    "<h1 style=\"color:white;background:green;\">  Goalkeeper</h1>"
   ]
  },
  {
   "cell_type": "code",
   "execution_count": 89,
   "id": "45fba8fb-f335-471d-8d24-ca9d3559f3e8",
   "metadata": {},
   "outputs": [],
   "source": [
    "def TGK(df, n=1):\n",
    "    '''\n",
    "    Team Goalkeeping Rating\n",
    "    '''\n",
    "    # Choose Attribute\n",
    "    current_attribute = \"gk\"\n",
    "    zoom_df = df[df['Best_Pos'] == 'GK'].copy()\n",
    "    \n",
    "    # Group by club\n",
    "    club_groups = zoom_df.groupby('Club')\n",
    "    club_rating_dict = {}\n",
    "\n",
    "    for club, group in club_groups:\n",
    "        top_players = group.nlargest(n, current_attribute)\n",
    "        average_rating = top_players[current_attribute].mean()\n",
    "        club_rating_dict[club] = int(average_rating)\n",
    "        \n",
    "    club_df = pd.DataFrame(list(club_rating_dict.items()), columns=['Club', \"GK\"])\n",
    "    return club_df.sort_values(\"GK\", ascending=False)"
   ]
  },
  {
   "cell_type": "markdown",
   "id": "f926692f-bcdb-4c84-bd5d-25a71b5f06fe",
   "metadata": {},
   "source": [
    "<h1 style=\"color:aqua;background:blue;\">  Pitcher</h1>"
   ]
  },
  {
   "cell_type": "code",
   "execution_count": 90,
   "id": "7e48cdf1-d78e-480a-b8f9-cb4753b6028d",
   "metadata": {},
   "outputs": [],
   "source": [
    "gk_attributes = [ \"Aerial_Reach\",\"Command_of_Area\", \"Communication\",\"Eccentricity\", \"First_Touch\", \"Handling\", \"Kicking\", \"One_on_Ones\", \"Punching\", \"Reflexes\", \"Rushing_Out\", \"Throwing\", \"Passing\" ]\n",
    "all_attributes = ['Acceleration','Aerial_Reach','Aggression','Agility','Anticipation','Balance','Bravery','Command_of_Area','Communication','Composure','Concentration','Corners','Crossing','Decisions','Determination','Dribbling','Eccentricity','Finishing','First_Touch','Flair','Free_Kick_Taking','Handling','Heading','Jumping_Reach','Kicking','Leadership','Long_Shots','Long_Throws','Marking','Natural_Fitness','Off_the_Ball','One_on_Ones','Pace','Passing','Penalty_Taking','Positioning','Punching','Reflexes','Rushing_Out','Stamina','Strength','Tackling','Teamwork','Technique','Throwing','Vision','Work_Rate']\n",
    "non_gk_attributes = list(set(all_attributes) - set(gk_attributes))\n",
    "gk_pitcher_common_attributes = [\"Passing\",\"First_Touch\"]\n",
    "other_attributes = [ \"tpr\" ]\n",
    "# mean_compiled_attributes = [\"def\",\"pas\",\"dri\",\"fin\",\"sta\",\"str\",\"hed\",\"men\",\"iq\"]\n",
    "pitcher_attributes = np.concatenate((other_attributes, non_gk_attributes, gk_pitcher_common_attributes))"
   ]
  },
  {
   "cell_type": "code",
   "execution_count": 91,
   "id": "dd01af15-c9c3-450e-acd8-c391e2ce1032",
   "metadata": {},
   "outputs": [
    {
     "data": {
      "text/plain": [
       "37"
      ]
     },
     "execution_count": 91,
     "metadata": {},
     "output_type": "execute_result"
    }
   ],
   "source": [
    "len(pitcher_attributes)"
   ]
  },
  {
   "cell_type": "code",
   "execution_count": 92,
   "id": "6ee4da03-22d8-4115-90d7-902e2fae4d0d",
   "metadata": {},
   "outputs": [],
   "source": [
    "def TPR_MACHINE(current_attribute, df, n=16, coef_dict={}, storage_df=None):\n",
    "    '''\n",
    "    Team Defending Rating\n",
    "    current_attribute: chosen attribute\n",
    "    df: Main dataframe we get data from\n",
    "    n: best n players in the club\n",
    "    coef_dict: coefficients\n",
    "    storage_dict: storage dictionary\n",
    "    '''\n",
    "    \n",
    "    # Group by club\n",
    "    club_groups = df.groupby('Club')\n",
    "    club_rating_dict = {}\n",
    "\n",
    "    for club, group in club_groups:\n",
    "        top_players = group.nlargest(n, current_attribute)\n",
    "        p1 = Quarter_Rating(top_players, n, 1, current_attribute)\n",
    "        p2 = Quarter_Rating(top_players, n, 2, current_attribute)\n",
    "        p3 = Quarter_Rating(top_players, n, 3, current_attribute)\n",
    "        p4 = Quarter_Rating(top_players, n, 4, current_attribute)\n",
    "        p5 = Quarter_Rating(top_players, n, 5, current_attribute)\n",
    "        rating_value = int(p1*coef_dict[\"p1\"] + p2*coef_dict[\"p2\"] + p3*coef_dict[\"p3\"] + p4*coef_dict[\"p4\"] + p5*coef_dict[\"p5\"])\n",
    "        where_id = storage_df[storage_df.Club==club].iloc[0].name\n",
    "        storage_df.at[where_id, current_attribute] = rating_value\n",
    "    return None"
   ]
  },
  {
   "cell_type": "code",
   "execution_count": 93,
   "id": "f4c871a5-5f5c-4e1f-8239-cacd49edc55e",
   "metadata": {},
   "outputs": [
    {
     "data": {
      "text/plain": [
       "array(['tpr', 'Anticipation', 'Stamina', 'Balance', 'Bravery', 'Marking',\n",
       "       'Pace', 'Off_the_Ball', 'Heading', 'Crossing', 'Vision',\n",
       "       'Tackling', 'Decisions', 'Natural_Fitness', 'Positioning',\n",
       "       'Jumping_Reach', 'Acceleration', 'Dribbling', 'Finishing', 'Flair',\n",
       "       'Free_Kick_Taking', 'Agility', 'Penalty_Taking', 'Aggression',\n",
       "       'Long_Throws', 'Concentration', 'Composure', 'Technique',\n",
       "       'Corners', 'Leadership', 'Teamwork', 'Strength', 'Determination',\n",
       "       'Work_Rate', 'Long_Shots', 'Passing', 'First_Touch'], dtype='<U16')"
      ]
     },
     "execution_count": 93,
     "metadata": {},
     "output_type": "execute_result"
    }
   ],
   "source": [
    "pitcher_attributes"
   ]
  },
  {
   "cell_type": "code",
   "execution_count": 94,
   "id": "943842d0-7060-4bb7-87e0-8a0220c8b865",
   "metadata": {},
   "outputs": [],
   "source": [
    "# rating_coefficients = { 'p1': 0.35, 'p2': 0.25, 'p3': 0.20, 'p4': 0.15, 'p5': 0.05 }\n",
    "# rating_coefficients = { 'p1': 0.35, 'p2': 0.25, 'p3': 0.15, 'p4': 0.15, 'p5': 0.10 }\n",
    "rating_coefficients = { 'p1': 0.20, 'p2': 0.20, 'p3': 0.35, 'p4': 0.15, 'p5': 0.10 }"
   ]
  },
  {
   "cell_type": "code",
   "execution_count": 95,
   "id": "853fb8c5-e2a4-4cbe-bd21-9bd9f1f0276d",
   "metadata": {},
   "outputs": [
    {
     "name": "stdout",
     "output_type": "stream",
     "text": [
      "TPR Machine operational. Attribute: ---tpr--- integrated.\n",
      "TPR Machine operational. Attribute: ---Anticipation--- integrated.\n",
      "TPR Machine operational. Attribute: ---Stamina--- integrated.\n",
      "TPR Machine operational. Attribute: ---Balance--- integrated.\n",
      "TPR Machine operational. Attribute: ---Bravery--- integrated.\n",
      "TPR Machine operational. Attribute: ---Marking--- integrated.\n",
      "TPR Machine operational. Attribute: ---Pace--- integrated.\n",
      "TPR Machine operational. Attribute: ---Off_the_Ball--- integrated.\n",
      "TPR Machine operational. Attribute: ---Heading--- integrated.\n",
      "TPR Machine operational. Attribute: ---Crossing--- integrated.\n",
      "TPR Machine operational. Attribute: ---Vision--- integrated.\n",
      "TPR Machine operational. Attribute: ---Tackling--- integrated.\n",
      "TPR Machine operational. Attribute: ---Decisions--- integrated.\n",
      "TPR Machine operational. Attribute: ---Natural_Fitness--- integrated.\n",
      "TPR Machine operational. Attribute: ---Positioning--- integrated.\n",
      "TPR Machine operational. Attribute: ---Jumping_Reach--- integrated.\n",
      "TPR Machine operational. Attribute: ---Acceleration--- integrated.\n",
      "TPR Machine operational. Attribute: ---Dribbling--- integrated.\n",
      "TPR Machine operational. Attribute: ---Finishing--- integrated.\n",
      "TPR Machine operational. Attribute: ---Flair--- integrated.\n",
      "TPR Machine operational. Attribute: ---Free_Kick_Taking--- integrated.\n",
      "TPR Machine operational. Attribute: ---Agility--- integrated.\n",
      "TPR Machine operational. Attribute: ---Penalty_Taking--- integrated.\n",
      "TPR Machine operational. Attribute: ---Aggression--- integrated.\n",
      "TPR Machine operational. Attribute: ---Long_Throws--- integrated.\n",
      "TPR Machine operational. Attribute: ---Concentration--- integrated.\n",
      "TPR Machine operational. Attribute: ---Composure--- integrated.\n",
      "TPR Machine operational. Attribute: ---Technique--- integrated.\n",
      "TPR Machine operational. Attribute: ---Corners--- integrated.\n",
      "TPR Machine operational. Attribute: ---Leadership--- integrated.\n",
      "TPR Machine operational. Attribute: ---Teamwork--- integrated.\n",
      "TPR Machine operational. Attribute: ---Strength--- integrated.\n",
      "TPR Machine operational. Attribute: ---Determination--- integrated.\n",
      "TPR Machine operational. Attribute: ---Work_Rate--- integrated.\n",
      "TPR Machine operational. Attribute: ---Long_Shots--- integrated.\n",
      "TPR Machine operational. Attribute: ---Passing--- integrated.\n",
      "TPR Machine operational. Attribute: ---First_Touch--- integrated.\n"
     ]
    }
   ],
   "source": [
    "teams_df = fm_df[[\"Club\",\"Based\",\"Division\",\"Club_id\",\"League_id\"]].drop_duplicates()\n",
    "teams_df = pd.merge(TGK(fm_df, n=1), teams_df, how=\"inner\", on=\"Club\")\n",
    "\n",
    "for attribute in pitcher_attributes:\n",
    "    TPR_MACHINE(attribute, fm_df, 16, rating_coefficients, teams_df)\n",
    "    print(f\"TPR Machine operational. Attribute: ---{attribute}--- integrated.\")"
   ]
  },
  {
   "cell_type": "markdown",
   "id": "8d7a2918-189d-47a9-b90f-666d131d6f8b",
   "metadata": {},
   "source": [
    "<h1 style=\"color:white;background:purple;\">  Normalization</h1>"
   ]
  },
  {
   "cell_type": "code",
   "execution_count": 96,
   "id": "95f007a2-6d86-46f4-8173-871834a80dcd",
   "metadata": {},
   "outputs": [],
   "source": [
    "def Normalize(X, min_val, max_val):\n",
    "    min_col = X.min()\n",
    "    max_col = X.max()\n",
    "    value = (X - min_col) / (max_col - min_col) * (max_val - min_val) + min_val\n",
    "    return value.astype(int)"
   ]
  },
  {
   "cell_type": "code",
   "execution_count": 97,
   "id": "66cc42f3-27ad-44f6-b298-a5c62cfc5d11",
   "metadata": {},
   "outputs": [],
   "source": [
    "attributes_to_standardize = np.concatenate((pitcher_attributes,[\"GK\"]))\n",
    "for attribute in attributes_to_standardize:\n",
    "    teams_df[attribute] = Normalize(teams_df[attribute], 50, 92)"
   ]
  },
  {
   "cell_type": "code",
   "execution_count": 98,
   "id": "350f79ad-58f5-4a70-b505-47982aaa299b",
   "metadata": {},
   "outputs": [
    {
     "data": {
      "text/html": [
       "<div>\n",
       "<style scoped>\n",
       "    .dataframe tbody tr th:only-of-type {\n",
       "        vertical-align: middle;\n",
       "    }\n",
       "\n",
       "    .dataframe tbody tr th {\n",
       "        vertical-align: top;\n",
       "    }\n",
       "\n",
       "    .dataframe thead th {\n",
       "        text-align: right;\n",
       "    }\n",
       "</style>\n",
       "<table border=\"1\" class=\"dataframe\">\n",
       "  <thead>\n",
       "    <tr style=\"text-align: right;\">\n",
       "      <th></th>\n",
       "      <th>Club</th>\n",
       "      <th>tpr</th>\n",
       "    </tr>\n",
       "  </thead>\n",
       "  <tbody>\n",
       "    <tr>\n",
       "      <th>0</th>\n",
       "      <td>FC Bayern</td>\n",
       "      <td>92</td>\n",
       "    </tr>\n",
       "    <tr>\n",
       "      <th>2</th>\n",
       "      <td>Liverpool</td>\n",
       "      <td>92</td>\n",
       "    </tr>\n",
       "    <tr>\n",
       "      <th>3</th>\n",
       "      <td>Manchester City</td>\n",
       "      <td>89</td>\n",
       "    </tr>\n",
       "    <tr>\n",
       "      <th>51</th>\n",
       "      <td>Paris Saint-Germain</td>\n",
       "      <td>89</td>\n",
       "    </tr>\n",
       "    <tr>\n",
       "      <th>6</th>\n",
       "      <td>Real Madrid</td>\n",
       "      <td>87</td>\n",
       "    </tr>\n",
       "    <tr>\n",
       "      <th>1</th>\n",
       "      <td>FC Barcelona</td>\n",
       "      <td>87</td>\n",
       "    </tr>\n",
       "    <tr>\n",
       "      <th>13</th>\n",
       "      <td>Chelsea</td>\n",
       "      <td>84</td>\n",
       "    </tr>\n",
       "    <tr>\n",
       "      <th>26</th>\n",
       "      <td>AC Milan</td>\n",
       "      <td>82</td>\n",
       "    </tr>\n",
       "    <tr>\n",
       "      <th>20</th>\n",
       "      <td>Internazionale</td>\n",
       "      <td>82</td>\n",
       "    </tr>\n",
       "    <tr>\n",
       "      <th>9</th>\n",
       "      <td>Juventus</td>\n",
       "      <td>79</td>\n",
       "    </tr>\n",
       "  </tbody>\n",
       "</table>\n",
       "</div>"
      ],
      "text/plain": [
       "                   Club  tpr\n",
       "0             FC Bayern   92\n",
       "2             Liverpool   92\n",
       "3       Manchester City   89\n",
       "51  Paris Saint-Germain   89\n",
       "6           Real Madrid   87\n",
       "1          FC Barcelona   87\n",
       "13              Chelsea   84\n",
       "26             AC Milan   82\n",
       "20       Internazionale   82\n",
       "9              Juventus   79"
      ]
     },
     "execution_count": 98,
     "metadata": {},
     "output_type": "execute_result"
    }
   ],
   "source": [
    "teams_df.sort_values(by=\"tpr\",ascending=False)[[\"Club\",\"tpr\"]].head(n=10)"
   ]
  },
  {
   "cell_type": "code",
   "execution_count": null,
   "id": "505cc7cf-e928-438b-84aa-f3d4e9126bad",
   "metadata": {},
   "outputs": [],
   "source": []
  },
  {
   "cell_type": "code",
   "execution_count": null,
   "id": "aa8ba5a5-6030-4baf-806a-ff729f590196",
   "metadata": {},
   "outputs": [],
   "source": []
  },
  {
   "cell_type": "markdown",
   "id": "bf64423e-30a2-4fa6-96dd-a6e3121d8a67",
   "metadata": {},
   "source": [
    "<br>\n",
    "<h4 style=\"color:green;\">  Export as CSV</h4>"
   ]
  },
  {
   "cell_type": "code",
   "execution_count": 99,
   "id": "65cecaf0-4ec4-4b45-82d6-cb7caaf11b53",
   "metadata": {},
   "outputs": [],
   "source": [
    "teams_df.to_csv(\"players_db/fm23/team_ratings.csv\", index=False)"
   ]
  },
  {
   "cell_type": "markdown",
   "id": "e2a848f5-fc2c-4392-8f6c-dec183434cea",
   "metadata": {},
   "source": [
    "<br><br><br><br>\n",
    "# Matching FBref Names"
   ]
  },
  {
   "cell_type": "code",
   "execution_count": 8,
   "id": "122ea840-c654-4ce5-b5ef-98d32da1f585",
   "metadata": {},
   "outputs": [],
   "source": [
    "import pandas as pd\n",
    "from rapidfuzz import process\n",
    "def find_best_match(name, choices):\n",
    "    return process.extractOne(name, choices)"
   ]
  },
  {
   "cell_type": "code",
   "execution_count": 9,
   "id": "70675d0a-a98f-4e09-b0a5-1d750fd3395a",
   "metadata": {},
   "outputs": [],
   "source": [
    "top5_leagues = ['Ligue 1 Uber Eats', 'English Premier Division', 'Italian Serie A',\n",
    "       'Spanish First Division', 'Bundesliga'] \n",
    "top5_url = \"https://fbref.com/en/comps/Big5/2022-2023/shooting/squads/2022-2023-Big-5-European-Leagues-Stats\""
   ]
  },
  {
   "cell_type": "code",
   "execution_count": 10,
   "id": "b334646e-c344-4d87-9395-c2343c3a8b87",
   "metadata": {},
   "outputs": [],
   "source": [
    "data = pd.read_html(top5_url)\n",
    "teams_df_2 = pd.read_csv(\"players_db/fm23/team_ratings.csv\")"
   ]
  },
  {
   "cell_type": "code",
   "execution_count": 11,
   "id": "41c2ec57-1885-4f1f-843e-0eaa750e7a03",
   "metadata": {},
   "outputs": [],
   "source": [
    "fbref_teams = data[0][('Unnamed: 1_level_0', 'Squad')].tolist()\n",
    "fm_teams = teams_df_2[teams_df_2.Division.isin(top5_leagues)][\"Club\"].tolist()"
   ]
  },
  {
   "cell_type": "code",
   "execution_count": 12,
   "id": "38e6305b-93c3-4c12-8645-3aa49f269b01",
   "metadata": {},
   "outputs": [],
   "source": [
    "for club_name in fm_teams:\n",
    "    answer, score, other = find_best_match(club_name, fbref_teams)\n",
    "    where_id = teams_df_2[teams_df_2.Club==club_name].iloc[0].name\n",
    "    teams_df_2.at[where_id, 'fbref_name'] = answer\n",
    "teams_df_2.to_csv(\"players_db/fm23/team_ratings.csv\", index=False)"
   ]
  },
  {
   "cell_type": "code",
   "execution_count": null,
   "id": "2c18b47a-cd8b-488a-9681-d76cd96f1658",
   "metadata": {},
   "outputs": [],
   "source": []
  }
 ],
 "metadata": {
  "kernelspec": {
   "display_name": "Python 3 (ipykernel)",
   "language": "python",
   "name": "python3"
  },
  "language_info": {
   "codemirror_mode": {
    "name": "ipython",
    "version": 3
   },
   "file_extension": ".py",
   "mimetype": "text/x-python",
   "name": "python",
   "nbconvert_exporter": "python",
   "pygments_lexer": "ipython3",
   "version": "3.11.7"
  }
 },
 "nbformat": 4,
 "nbformat_minor": 5
}
