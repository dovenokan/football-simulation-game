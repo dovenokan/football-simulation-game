{
 "cells": [
  {
   "cell_type": "code",
   "execution_count": 6,
   "id": "53b09d13-b793-44b7-b0fb-9f640dc5fb05",
   "metadata": {},
   "outputs": [],
   "source": [
    "import pandas as pd"
   ]
  },
  {
   "cell_type": "code",
   "execution_count": 12,
   "id": "4a6d0ebf-24e9-4da8-a50c-57b65efd07c0",
   "metadata": {},
   "outputs": [],
   "source": [
    "from tools.fm_attributes import Attributes"
   ]
  },
  {
   "cell_type": "code",
   "execution_count": 13,
   "id": "c43a50aa-c89f-45fa-bd9d-9d3915ceeb3e",
   "metadata": {},
   "outputs": [],
   "source": [
    "players_df = pd.read_csv(\"players_db/fm23/fm23db_processed.csv\").sort_values(\"tpr\", ascending=False)\n",
    "team_df = pd.read_csv(\"players_db/fm23/team_ratings.csv\").sort_values(\"tpr\", ascending=False)"
   ]
  },
  {
   "cell_type": "code",
   "execution_count": 17,
   "id": "bae3c8ec-507c-4a2e-a8e0-11aad1f8b469",
   "metadata": {},
   "outputs": [
    {
     "data": {
      "text/plain": [
       "Natural_Fitness     63.861111\n",
       "Finishing           63.575617\n",
       "Off_the_Ball        61.762346\n",
       "Pace                61.685185\n",
       "Acceleration        61.469136\n",
       "Determination       61.067901\n",
       "Heading             60.820988\n",
       "First_Touch         59.246914\n",
       "Agility             57.387346\n",
       "Technique           56.515432\n",
       "Flair               55.867284\n",
       "Jumping_Reach       55.813272\n",
       "Anticipation        55.736111\n",
       "Dribbling           55.589506\n",
       "Work_Rate           55.396605\n",
       "Composure           54.949074\n",
       "Aggression          54.115741\n",
       "Balance             54.084877\n",
       "Stamina             53.768519\n",
       "Strength            53.537037\n",
       "Decisions           53.297840\n",
       "Bravery             51.924383\n",
       "Teamwork            51.391975\n",
       "Penalty_Taking      48.961420\n",
       "Concentration       47.148148\n",
       "Passing             46.878086\n",
       "Vision              45.581790\n",
       "Long_Shots          44.493827\n",
       "Leadership          39.540123\n",
       "Crossing            35.736111\n",
       "Free_Kick_Taking    35.720679\n",
       "Positioning         31.970679\n",
       "Corners             28.753086\n",
       "Tackling            25.805556\n",
       "Marking             25.080247\n",
       "Long_Throws         21.283951\n",
       "Eccentricity         9.918210\n",
       "Reflexes             9.918210\n",
       "Kicking              9.895062\n",
       "Throwing             9.841049\n",
       "Command_of_Area      9.825617\n",
       "Punching             9.763889\n",
       "Aerial_Reach         9.702160\n",
       "Rushing_Out          9.655864\n",
       "Communication        9.509259\n",
       "Handling             9.401235\n",
       "One_on_Ones          9.177469\n",
       "dtype: float64"
      ]
     },
     "execution_count": 17,
     "metadata": {},
     "output_type": "execute_result"
    }
   ],
   "source": [
    "players_df.query(\"Best_Pos == 'ST'\")[Attributes.attribute_list].mean().sort_values(ascending=False)"
   ]
  },
  {
   "cell_type": "code",
   "execution_count": null,
   "id": "eb5a7f4a-bf65-40c8-bf51-615333b7f275",
   "metadata": {},
   "outputs": [],
   "source": []
  }
 ],
 "metadata": {
  "kernelspec": {
   "display_name": "Python 3 (ipykernel)",
   "language": "python",
   "name": "python3"
  },
  "language_info": {
   "codemirror_mode": {
    "name": "ipython",
    "version": 3
   },
   "file_extension": ".py",
   "mimetype": "text/x-python",
   "name": "python",
   "nbconvert_exporter": "python",
   "pygments_lexer": "ipython3",
   "version": "3.11.7"
  }
 },
 "nbformat": 4,
 "nbformat_minor": 5
}
