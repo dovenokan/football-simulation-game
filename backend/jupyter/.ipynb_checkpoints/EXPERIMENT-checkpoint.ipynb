{
 "cells": [
  {
   "cell_type": "code",
   "execution_count": 17,
   "id": "53b09d13-b793-44b7-b0fb-9f640dc5fb05",
   "metadata": {},
   "outputs": [],
   "source": [
    "import pandas as pd"
   ]
  },
  {
   "cell_type": "code",
   "execution_count": 18,
   "id": "aa31120d-5b85-4212-b59b-8479f14c0617",
   "metadata": {},
   "outputs": [],
   "source": [
    "from tools.lineup_tpr import LineupTPR"
   ]
  },
  {
   "cell_type": "code",
   "execution_count": 19,
   "id": "c43a50aa-c89f-45fa-bd9d-9d3915ceeb3e",
   "metadata": {},
   "outputs": [],
   "source": [
    "players_df = pd.read_csv(\"players_db/fm23/fm23db_processed.csv\").sort_values(\"tpr\", ascending=False)\n",
    "team_df = pd.read_csv(\"players_db/fm23/team_ratings.csv\").sort_values(\"tpr\", ascending=False)"
   ]
  },
  {
   "cell_type": "code",
   "execution_count": 27,
   "id": "ef333c4c-33a9-4eaa-b857-e02ec13f8d65",
   "metadata": {},
   "outputs": [],
   "source": [
    "def Formation_Dict(formation=\"4-3-3\"):\n",
    "    test_formation = { 'GK': 1, 'DC': 2, 'DL': 1, 'DR': 1, 'DM': 0, 'MC': 2, 'AML': 1, 'AMR': 1, 'AMC': 1, 'ST': 1 }\n",
    "    #test_formation = { 'GK': 1, 'DC': 3, 'WBL': 1, 'WBR': 1, 'DM': 0, 'MC': 3, 'AML': 0, 'AMR': 0, 'ST': 2 }\n",
    "    return test_formation"
   ]
  },
  {
   "cell_type": "code",
   "execution_count": 33,
   "id": "1a55f851-eb98-41f3-b7db-4566335e5a69",
   "metadata": {},
   "outputs": [
    {
     "data": {
      "text/html": [
       "<div>\n",
       "<style scoped>\n",
       "    .dataframe tbody tr th:only-of-type {\n",
       "        vertical-align: middle;\n",
       "    }\n",
       "\n",
       "    .dataframe tbody tr th {\n",
       "        vertical-align: top;\n",
       "    }\n",
       "\n",
       "    .dataframe thead th {\n",
       "        text-align: right;\n",
       "    }\n",
       "</style>\n",
       "<table border=\"1\" class=\"dataframe\">\n",
       "  <thead>\n",
       "    <tr style=\"text-align: right;\">\n",
       "      <th></th>\n",
       "      <th>Name</th>\n",
       "      <th>Best_Pos</th>\n",
       "      <th>tpr</th>\n",
       "      <th>Position</th>\n",
       "    </tr>\n",
       "  </thead>\n",
       "  <tbody>\n",
       "    <tr>\n",
       "      <th>4168</th>\n",
       "      <td>Thibaut Courtois</td>\n",
       "      <td>GK</td>\n",
       "      <td>84</td>\n",
       "      <td>GK</td>\n",
       "    </tr>\n",
       "    <tr>\n",
       "      <th>4211</th>\n",
       "      <td>Dani Carvajal</td>\n",
       "      <td>DR</td>\n",
       "      <td>83</td>\n",
       "      <td>DR,WBR</td>\n",
       "    </tr>\n",
       "    <tr>\n",
       "      <th>4219</th>\n",
       "      <td>Éder Militão</td>\n",
       "      <td>DC</td>\n",
       "      <td>84</td>\n",
       "      <td>DC</td>\n",
       "    </tr>\n",
       "    <tr>\n",
       "      <th>4188</th>\n",
       "      <td>David Alaba</td>\n",
       "      <td>DL</td>\n",
       "      <td>85</td>\n",
       "      <td>DL,DC,WBL,MC</td>\n",
       "    </tr>\n",
       "    <tr>\n",
       "      <th>4193</th>\n",
       "      <td>Ferland Mendy</td>\n",
       "      <td>DL</td>\n",
       "      <td>80</td>\n",
       "      <td>DL,WBL</td>\n",
       "    </tr>\n",
       "    <tr>\n",
       "      <th>4165</th>\n",
       "      <td>Luka Modrić</td>\n",
       "      <td>MC</td>\n",
       "      <td>88</td>\n",
       "      <td>MC,AMC</td>\n",
       "    </tr>\n",
       "    <tr>\n",
       "      <th>4183</th>\n",
       "      <td>Federico Valverde</td>\n",
       "      <td>MC</td>\n",
       "      <td>84</td>\n",
       "      <td>MR,MC,AMR</td>\n",
       "    </tr>\n",
       "    <tr>\n",
       "      <th>4218</th>\n",
       "      <td>Marco Asensio</td>\n",
       "      <td>AMR</td>\n",
       "      <td>82</td>\n",
       "      <td>AMR,AML,AMC</td>\n",
       "    </tr>\n",
       "    <tr>\n",
       "      <th>4166</th>\n",
       "      <td>Karim Benzema</td>\n",
       "      <td>ST</td>\n",
       "      <td>87</td>\n",
       "      <td>ST</td>\n",
       "    </tr>\n",
       "    <tr>\n",
       "      <th>4170</th>\n",
       "      <td>Vinícius Júnior</td>\n",
       "      <td>AML</td>\n",
       "      <td>84</td>\n",
       "      <td>AMR,AML</td>\n",
       "    </tr>\n",
       "    <tr>\n",
       "      <th>4180</th>\n",
       "      <td>Eden Hazard</td>\n",
       "      <td>AML</td>\n",
       "      <td>81</td>\n",
       "      <td>AMR,AML,AMC</td>\n",
       "    </tr>\n",
       "  </tbody>\n",
       "</table>\n",
       "</div>"
      ],
      "text/plain": [
       "                   Name Best_Pos  tpr      Position\n",
       "4168   Thibaut Courtois       GK   84            GK\n",
       "4211      Dani Carvajal       DR   83        DR,WBR\n",
       "4219       Éder Militão       DC   84            DC\n",
       "4188        David Alaba       DL   85  DL,DC,WBL,MC\n",
       "4193      Ferland Mendy       DL   80        DL,WBL\n",
       "4165        Luka Modrić       MC   88        MC,AMC\n",
       "4183  Federico Valverde       MC   84     MR,MC,AMR\n",
       "4218      Marco Asensio      AMR   82   AMR,AML,AMC\n",
       "4166      Karim Benzema       ST   87            ST\n",
       "4170    Vinícius Júnior      AML   84       AMR,AML\n",
       "4180        Eden Hazard      AML   81   AMR,AML,AMC"
      ]
     },
     "execution_count": 33,
     "metadata": {},
     "output_type": "execute_result"
    }
   ],
   "source": [
    "LineupTPR(players_df, \"Real Madrid\")[[\"Name\",\"Best_Pos\",\"tpr\",\"Position\"]]"
   ]
  },
  {
   "cell_type": "code",
   "execution_count": null,
   "id": "b83b0232-db88-4188-9d59-5093dc4d19d1",
   "metadata": {},
   "outputs": [],
   "source": [
    "# Lineup Length Check\n",
    "for team in team_df.Club.unique():\n",
    "    lineup_df = LineupTPR(players_df, team)\n",
    "    lineup_length = len(lineup_df)\n",
    "    tpr = int(lineup_df.tpr.mean())\n",
    "    if lineup_length != 11:\n",
    "        print(team, lineup_length)\n",
    "    print(team, tpr)"
   ]
  },
  {
   "cell_type": "code",
   "execution_count": 46,
   "id": "be55d231-3b8a-42d5-9524-8c4ba98b4ab3",
   "metadata": {},
   "outputs": [
    {
     "data": {
      "text/plain": [
       "UID                       5.195628e+07\n",
       "Height                    1.830000e+02\n",
       "Age                       2.736364e+01\n",
       "Wage                      1.186116e+06\n",
       "Caps                      6.090909e+01\n",
       "                              ...     \n",
       "tpr_WBR                   5.827273e+01\n",
       "tpr_WBL                   6.127273e+01\n",
       "tpr_Best                  6.836364e+01\n",
       "Predicted_Market_Value    1.099360e+08\n",
       "Predicted_Wage            4.843165e+05\n",
       "Length: 78, dtype: float64"
      ]
     },
     "execution_count": 46,
     "metadata": {},
     "output_type": "execute_result"
    }
   ],
   "source": [
    "lineup_df = LineupTPR(players_df, \"FC Bayern\")\n",
    "tpr_mean = lineup_df.loc[:, lineup_df.columns].mean(numeric_only=True)\n",
    "tpr_mean.T"
   ]
  },
  {
   "cell_type": "code",
   "execution_count": null,
   "id": "bae3c8ec-507c-4a2e-a8e0-11aad1f8b469",
   "metadata": {},
   "outputs": [],
   "source": []
  }
 ],
 "metadata": {
  "kernelspec": {
   "display_name": "Python 3 (ipykernel)",
   "language": "python",
   "name": "python3"
  },
  "language_info": {
   "codemirror_mode": {
    "name": "ipython",
    "version": 3
   },
   "file_extension": ".py",
   "mimetype": "text/x-python",
   "name": "python",
   "nbconvert_exporter": "python",
   "pygments_lexer": "ipython3",
   "version": "3.11.7"
  }
 },
 "nbformat": 4,
 "nbformat_minor": 5
}
