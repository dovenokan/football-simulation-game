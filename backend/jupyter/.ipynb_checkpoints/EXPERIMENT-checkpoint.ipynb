{
 "cells": [
  {
   "cell_type": "code",
   "execution_count": 1,
   "id": "53b09d13-b793-44b7-b0fb-9f640dc5fb05",
   "metadata": {},
   "outputs": [],
   "source": [
    "import pandas as pd"
   ]
  },
  {
   "cell_type": "code",
   "execution_count": 2,
   "id": "4a6d0ebf-24e9-4da8-a50c-57b65efd07c0",
   "metadata": {},
   "outputs": [],
   "source": [
    "from tools.fm_attributes import Attributes\n",
    "from tools import lineup_tpr"
   ]
  },
  {
   "cell_type": "code",
   "execution_count": 3,
   "id": "c43a50aa-c89f-45fa-bd9d-9d3915ceeb3e",
   "metadata": {},
   "outputs": [],
   "source": [
    "players_df = pd.read_csv(\"players_db/fm23/fm23db_processed.csv\").sort_values(\"tpr_Best\", ascending=False)\n",
    "team_df = pd.read_csv(\"players_db/fm23/team_ratings.csv\").sort_values(\"tpr\", ascending=False)"
   ]
  },
  {
   "cell_type": "code",
   "execution_count": 4,
   "id": "90e0372e-c370-4945-98da-49a867ffed2f",
   "metadata": {},
   "outputs": [],
   "source": [
    "raw_df = players_df\n",
    "raw_df.columns = [col.strip() for col in raw_df.columns]\n",
    "raw_df.Club = [col.strip() for col in raw_df.Club]"
   ]
  },
  {
   "cell_type": "code",
   "execution_count": 5,
   "id": "eb5a7f4a-bf65-40c8-bf51-615333b7f275",
   "metadata": {},
   "outputs": [
    {
     "name": "stdout",
     "output_type": "stream",
     "text": [
      "                         Name Best_Pos  tpr Playing_Position\n",
      "3201                  Alisson       GK   88               GK\n",
      "3237   Trent Alexander-Arnold      WBR   84               DR\n",
      "3198          Virgil van Dijk       DC   87               DC\n",
      "3350          Kostas Tsimikas      WBL   83               DL\n",
      "3217                  Fabinho       DM   84               DC\n",
      "3232         Jordan Henderson       DM   85               MC\n",
      "3210                   Thiago       MC   86               MC\n",
      "3327  Alex Oxlade-Chamberlain       MC   81              AMC\n",
      "3194            Mohamed Salah      AMR   89              AML\n",
      "3220          Roberto Firmino       ST   83              AMR\n",
      "3451             Darwin Núñez       ST   82               ST\n"
     ]
    }
   ],
   "source": [
    "lin11=lineup_tpr.LineupTPR(players_df,\"Liverpool\",print_lineup=True,show_squad=False)"
   ]
  },
  {
   "cell_type": "code",
   "execution_count": 6,
   "id": "08db4adc-c28b-4d3d-86b5-5b81013a530a",
   "metadata": {},
   "outputs": [
    {
     "data": {
      "text/html": [
       "<div>\n",
       "<style scoped>\n",
       "    .dataframe tbody tr th:only-of-type {\n",
       "        vertical-align: middle;\n",
       "    }\n",
       "\n",
       "    .dataframe tbody tr th {\n",
       "        vertical-align: top;\n",
       "    }\n",
       "\n",
       "    .dataframe thead th {\n",
       "        text-align: right;\n",
       "    }\n",
       "</style>\n",
       "<table border=\"1\" class=\"dataframe\">\n",
       "  <thead>\n",
       "    <tr style=\"text-align: right;\">\n",
       "      <th></th>\n",
       "      <th>Name</th>\n",
       "      <th>tpr_Best</th>\n",
       "      <th>Age</th>\n",
       "      <th>Predicted_Market_Value</th>\n",
       "    </tr>\n",
       "  </thead>\n",
       "  <tbody>\n",
       "    <tr>\n",
       "      <th>3</th>\n",
       "      <td>Manuel Neuer</td>\n",
       "      <td>75</td>\n",
       "      <td>36</td>\n",
       "      <td>115145609</td>\n",
       "    </tr>\n",
       "    <tr>\n",
       "      <th>4164</th>\n",
       "      <td>Robert Lewandowski</td>\n",
       "      <td>75</td>\n",
       "      <td>33</td>\n",
       "      <td>119927559</td>\n",
       "    </tr>\n",
       "    <tr>\n",
       "      <th>3193</th>\n",
       "      <td>Erling Haaland</td>\n",
       "      <td>74</td>\n",
       "      <td>21</td>\n",
       "      <td>163261340</td>\n",
       "    </tr>\n",
       "    <tr>\n",
       "      <th>3195</th>\n",
       "      <td>Harry Kane</td>\n",
       "      <td>74</td>\n",
       "      <td>28</td>\n",
       "      <td>91986000</td>\n",
       "    </tr>\n",
       "    <tr>\n",
       "      <th>4172</th>\n",
       "      <td>Marc-André ter Stegen</td>\n",
       "      <td>73</td>\n",
       "      <td>30</td>\n",
       "      <td>69317115</td>\n",
       "    </tr>\n",
       "    <tr>\n",
       "      <th>3197</th>\n",
       "      <td>Bernardo Silva</td>\n",
       "      <td>73</td>\n",
       "      <td>27</td>\n",
       "      <td>92091947</td>\n",
       "    </tr>\n",
       "    <tr>\n",
       "      <th>3192</th>\n",
       "      <td>Kevin De Bruyne</td>\n",
       "      <td>73</td>\n",
       "      <td>30</td>\n",
       "      <td>139002408</td>\n",
       "    </tr>\n",
       "    <tr>\n",
       "      <th>3194</th>\n",
       "      <td>Mohamed Salah</td>\n",
       "      <td>73</td>\n",
       "      <td>30</td>\n",
       "      <td>144950592</td>\n",
       "    </tr>\n",
       "    <tr>\n",
       "      <th>4165</th>\n",
       "      <td>Luka Modrić</td>\n",
       "      <td>72</td>\n",
       "      <td>36</td>\n",
       "      <td>99224081</td>\n",
       "    </tr>\n",
       "    <tr>\n",
       "      <th>3213</th>\n",
       "      <td>Bruno Fernandes</td>\n",
       "      <td>72</td>\n",
       "      <td>27</td>\n",
       "      <td>110941101</td>\n",
       "    </tr>\n",
       "  </tbody>\n",
       "</table>\n",
       "</div>"
      ],
      "text/plain": [
       "                       Name  tpr_Best  Age  Predicted_Market_Value\n",
       "3              Manuel Neuer        75   36               115145609\n",
       "4164     Robert Lewandowski        75   33               119927559\n",
       "3193         Erling Haaland        74   21               163261340\n",
       "3195             Harry Kane        74   28                91986000\n",
       "4172  Marc-André ter Stegen        73   30                69317115\n",
       "3197         Bernardo Silva        73   27                92091947\n",
       "3192        Kevin De Bruyne        73   30               139002408\n",
       "3194          Mohamed Salah        73   30               144950592\n",
       "4165            Luka Modrić        72   36                99224081\n",
       "3213        Bruno Fernandes        72   27               110941101"
      ]
     },
     "execution_count": 6,
     "metadata": {},
     "output_type": "execute_result"
    }
   ],
   "source": [
    "players_df.head(10)[[\"Name\",\"tpr_Best\",\"Age\",\"Predicted_Market_Value\"]]"
   ]
  },
  {
   "cell_type": "code",
   "execution_count": 7,
   "id": "cbcd74e2-a6f9-4ec4-a338-4acd83d304f3",
   "metadata": {},
   "outputs": [
    {
     "data": {
      "text/plain": [
       "Min_Value                               NaN\n",
       "Max_Value                               NaN\n",
       "Market_Value                    115145609.0\n",
       "Player_Role               GK_Sweeper Keeper\n",
       "Pos_Rank                                  0\n",
       "gk                                       75\n",
       "tpr_general                              64\n",
       "tpr                                      92\n",
       "tpr_DM                                   41\n",
       "tpr_AML                                  41\n",
       "tpr_AMC                                  42\n",
       "tpr_GK                                   99\n",
       "tpr_MC                                   41\n",
       "tpr_DC                                   41\n",
       "tpr_AMR                                  42\n",
       "tpr_DL                                   42\n",
       "tpr_DR                                   42\n",
       "tpr_ST                                   42\n",
       "tpr_ML                                   41\n",
       "tpr_MR                                   41\n",
       "tpr_WBR                                  41\n",
       "tpr_WBL                                  41\n",
       "tpr_Best                                 75\n",
       "fbref_player_name              Manuel Neuer\n",
       "Predicted_Market_Value            115145609\n",
       "Predicted_Wage                       564726\n",
       "Pos_Rank_Average                          0\n",
       "Name: 3, dtype: object"
      ]
     },
     "execution_count": 7,
     "metadata": {},
     "output_type": "execute_result"
    }
   ],
   "source": [
    "players_df.iloc[0][-27:]"
   ]
  },
  {
   "cell_type": "code",
   "execution_count": 8,
   "id": "5f5d6569-517c-4982-b6b6-49da2e4a7658",
   "metadata": {
    "scrolled": true
   },
   "outputs": [
    {
     "data": {
      "text/plain": [
       "['UID',\n",
       " 'Inf',\n",
       " 'Name',\n",
       " 'DoB',\n",
       " 'Nat',\n",
       " 'Division',\n",
       " 'Club',\n",
       " 'Based',\n",
       " 'Preferred Foot',\n",
       " 'Right Foot',\n",
       " 'Left Foot',\n",
       " 'Position',\n",
       " 'Height',\n",
       " 'Weight',\n",
       " 'Age',\n",
       " 'Transfer Value',\n",
       " 'Wage',\n",
       " 'AT Apps',\n",
       " 'AT Gls',\n",
       " 'Team',\n",
       " 'Caps',\n",
       " 'Yth Apps',\n",
       " 'Style',\n",
       " 'Rc Injury',\n",
       " 'Best_Role',\n",
       " 'Best Duty',\n",
       " 'Best_Pos',\n",
       " 'Acceleration',\n",
       " 'Aerial_Reach',\n",
       " 'Aggression',\n",
       " 'Agility',\n",
       " 'Anticipation',\n",
       " 'Balance',\n",
       " 'Bravery',\n",
       " 'Command_of_Area',\n",
       " 'Communication',\n",
       " 'Composure',\n",
       " 'Concentration',\n",
       " 'Corners',\n",
       " 'Crossing',\n",
       " 'Decisions',\n",
       " 'Determination',\n",
       " 'Dribbling',\n",
       " 'Eccentricity',\n",
       " 'Finishing',\n",
       " 'First_Touch',\n",
       " 'Flair',\n",
       " 'Free_Kick_Taking',\n",
       " 'Handling',\n",
       " 'Heading',\n",
       " 'Jumping_Reach',\n",
       " 'Kicking',\n",
       " 'Leadership',\n",
       " 'Long_Shots',\n",
       " 'Long_Throws',\n",
       " 'Marking',\n",
       " 'Natural_Fitness',\n",
       " 'Off_the_Ball',\n",
       " 'One_on_Ones',\n",
       " 'Pace',\n",
       " 'Passing',\n",
       " 'Penalty_Taking',\n",
       " 'Positioning',\n",
       " 'Punching',\n",
       " 'Reflexes',\n",
       " 'Rushing_Out',\n",
       " 'Stamina',\n",
       " 'Strength',\n",
       " 'Tackling',\n",
       " 'Teamwork',\n",
       " 'Technique',\n",
       " 'Throwing',\n",
       " 'Vision',\n",
       " 'Work_Rate',\n",
       " 'Club_id',\n",
       " 'League_id',\n",
       " 'Min_Value',\n",
       " 'Max_Value',\n",
       " 'Market_Value',\n",
       " 'Player_Role',\n",
       " 'Pos_Rank',\n",
       " 'gk',\n",
       " 'tpr_general',\n",
       " 'tpr',\n",
       " 'tpr_DM',\n",
       " 'tpr_AML',\n",
       " 'tpr_AMC',\n",
       " 'tpr_GK',\n",
       " 'tpr_MC',\n",
       " 'tpr_DC',\n",
       " 'tpr_AMR',\n",
       " 'tpr_DL',\n",
       " 'tpr_DR',\n",
       " 'tpr_ST',\n",
       " 'tpr_ML',\n",
       " 'tpr_MR',\n",
       " 'tpr_WBR',\n",
       " 'tpr_WBL',\n",
       " 'tpr_Best',\n",
       " 'fbref_player_name',\n",
       " 'Predicted_Market_Value',\n",
       " 'Predicted_Wage',\n",
       " 'Pos_Rank_Average']"
      ]
     },
     "execution_count": 8,
     "metadata": {},
     "output_type": "execute_result"
    }
   ],
   "source": [
    "list(players_df.columns\n",
    ")"
   ]
  },
  {
   "cell_type": "code",
   "execution_count": null,
   "id": "c4ffdce3-2182-4b41-871b-ced69a0b2e31",
   "metadata": {},
   "outputs": [],
   "source": []
  },
  {
   "cell_type": "code",
   "execution_count": null,
   "id": "44eeef51-e74a-4472-9924-878743f64c45",
   "metadata": {},
   "outputs": [],
   "source": []
  },
  {
   "cell_type": "code",
   "execution_count": null,
   "id": "58b8eac3-5734-4725-8187-05faecfdca34",
   "metadata": {},
   "outputs": [],
   "source": []
  },
  {
   "cell_type": "code",
   "execution_count": 9,
   "id": "200de0be-0b82-4c74-9dcd-f28ccb7530f7",
   "metadata": {},
   "outputs": [],
   "source": [
    "import networkx as nx\n",
    "import plotly.graph_objects as go\n",
    "import numpy as np"
   ]
  },
  {
   "cell_type": "code",
   "execution_count": 16,
   "id": "9ca0c6c1-2422-4714-a5cd-378bebde97b5",
   "metadata": {
    "scrolled": true
   },
   "outputs": [
    {
     "name": "stdout",
     "output_type": "stream",
     "text": [
      "on_target: {'goal': {'normal': 'Goal scored with a normal shot', 'volley': 'Goal scored with a volley', 'curved': 'Goal scored with a curved shot', 'bicycle': 'Goal scored with a bicycle kick', 'header': 'Goal scored with a header', 'dead_ball': {'penalty': 'Penalty kick goal', 'freekick': 'Freekick goal'}}, 'save': {'save_out': 'Goalkeeper saves and sends the ball out', 'save_handle': 'Goalkeeper handles the ball', 'post_save': {'shot': 'Reattempt shot after the save', 'out_set_pieces': 'Out for a set piece', 'goal_kick': 'Goalkeeper restarts with a goal kick', 'clearance': 'Clearance by defender', 'offside': 'Offside position, no goal'}}, 'woodwork': {'out': 'Ball hits the woodwork and goes out of bounds', 'continue': 'Ball hits the woodwork but play continues'}}\n",
      "  goal: {'normal': 'Goal scored with a normal shot', 'volley': 'Goal scored with a volley', 'curved': 'Goal scored with a curved shot', 'bicycle': 'Goal scored with a bicycle kick', 'header': 'Goal scored with a header', 'dead_ball': {'penalty': 'Penalty kick goal', 'freekick': 'Freekick goal'}}\n",
      "    normal: Goal scored with a normal shot\n",
      "    volley: Goal scored with a volley\n",
      "    curved: Goal scored with a curved shot\n",
      "    bicycle: Goal scored with a bicycle kick\n",
      "    header: Goal scored with a header\n",
      "    dead_ball: {'penalty': 'Penalty kick goal', 'freekick': 'Freekick goal'}\n",
      "      penalty: Penalty kick goal\n",
      "      freekick: Freekick goal\n",
      "  save: {'save_out': 'Goalkeeper saves and sends the ball out', 'save_handle': 'Goalkeeper handles the ball', 'post_save': {'shot': 'Reattempt shot after the save', 'out_set_pieces': 'Out for a set piece', 'goal_kick': 'Goalkeeper restarts with a goal kick', 'clearance': 'Clearance by defender', 'offside': 'Offside position, no goal'}}\n",
      "    save_out: Goalkeeper saves and sends the ball out\n",
      "    save_handle: Goalkeeper handles the ball\n",
      "    post_save: {'shot': 'Reattempt shot after the save', 'out_set_pieces': 'Out for a set piece', 'goal_kick': 'Goalkeeper restarts with a goal kick', 'clearance': 'Clearance by defender', 'offside': 'Offside position, no goal'}\n",
      "      shot: Reattempt shot after the save\n",
      "      out_set_pieces: Out for a set piece\n",
      "      goal_kick: Goalkeeper restarts with a goal kick\n",
      "      clearance: Clearance by defender\n",
      "      offside: Offside position, no goal\n",
      "  woodwork: {'out': 'Ball hits the woodwork and goes out of bounds', 'continue': 'Ball hits the woodwork but play continues'}\n",
      "    out: Ball hits the woodwork and goes out of bounds\n",
      "    continue: Ball hits the woodwork but play continues\n",
      "off_target: {'out': 'Ball goes out of bounds', 'blocked': {'foul_handball': 'Handball committed, free kick awarded', 'continue': 'Play continues'}}\n",
      "  out: Ball goes out of bounds\n",
      "  blocked: {'foul_handball': 'Handball committed, free kick awarded', 'continue': 'Play continues'}\n",
      "    foul_handball: Handball committed, free kick awarded\n",
      "    continue: Play continues\n",
      "success: {'live_ball': 'Ball is still in play', 'dead_ball': 'Ball goes out of play'}\n",
      "  live_ball: Ball is still in play\n",
      "  dead_ball: Ball goes out of play\n",
      "fail: {'handball': 'Handball committed, free kick awarded'}\n",
      "  handball: Handball committed, free kick awarded\n",
      "dead_ball_foul: Foul committed when the ball is dead\n",
      "throw: Throw in for the opposing team\n",
      "goal_kick: Goal kick awarded\n",
      "dead_ball_out: Out of bounds, dead ball situation\n",
      "pressure_ball: {'win_ball': 'Defender wins the ball', 'foul': 'Foul committed while pressuring the ball'}\n",
      "  win_ball: Defender wins the ball\n",
      "  foul: Foul committed while pressuring the ball\n",
      "intercept_pass: {'pass_to_teammate': 'Pass intercepted and given to teammate', 'counter_attack': 'Counter-attack after interception'}\n",
      "  pass_to_teammate: Pass intercepted and given to teammate\n",
      "  counter_attack: Counter-attack after interception\n",
      "cross: {'header': 'Attempted header from cross', 'volley': 'Attempted volley from cross'}\n",
      "  header: Attempted header from cross\n",
      "  volley: Attempted volley from cross\n",
      "through_pass: {'finish': 'Teammate finishes the pass with a shot', 'continue_dribble': 'Teammate continues dribbling the ball'}\n",
      "  finish: Teammate finishes the pass with a shot\n",
      "  continue_dribble: Teammate continues dribbling the ball\n"
     ]
    }
   ],
   "source": [
    "# Define functions for every action and its outcomes\n",
    "\n",
    "def shot():\n",
    "    return {\n",
    "        \"on_target\": shot_on_target(),\n",
    "        \"off_target\": shot_off_target()\n",
    "    }\n",
    "\n",
    "def shot_on_target():\n",
    "    return {\n",
    "        \"goal\": shot_goal(),\n",
    "        \"save\": shot_save(),\n",
    "        \"woodwork\": shot_woodwork()\n",
    "    }\n",
    "\n",
    "def shot_goal():\n",
    "    return {\n",
    "        \"normal\": \"Goal scored with a normal shot\",\n",
    "        \"volley\": \"Goal scored with a volley\",\n",
    "        \"curved\": \"Goal scored with a curved shot\",\n",
    "        \"bicycle\": \"Goal scored with a bicycle kick\",\n",
    "        \"header\": \"Goal scored with a header\",\n",
    "        \"dead_ball\": dead_ball_shot()\n",
    "    }\n",
    "\n",
    "def dead_ball_shot():\n",
    "    return {\n",
    "        \"penalty\": \"Penalty kick goal\",\n",
    "        \"freekick\": \"Freekick goal\"\n",
    "    }\n",
    "\n",
    "def shot_save():\n",
    "    return {\n",
    "        \"save_out\": \"Goalkeeper saves and sends the ball out\",\n",
    "        \"save_handle\": \"Goalkeeper handles the ball\",\n",
    "        \"post_save\": shot_post_save()\n",
    "    }\n",
    "\n",
    "def shot_post_save():\n",
    "    return {\n",
    "        \"shot\": \"Reattempt shot after the save\",\n",
    "        \"out_set_pieces\": \"Out for a set piece\",\n",
    "        \"goal_kick\": \"Goalkeeper restarts with a goal kick\",\n",
    "        \"clearance\": \"Clearance by defender\",\n",
    "        \"offside\": \"Offside position, no goal\"\n",
    "    }\n",
    "\n",
    "def shot_woodwork():\n",
    "    return {\n",
    "        \"out\": \"Ball hits the woodwork and goes out of bounds\",\n",
    "        \"continue\": \"Ball hits the woodwork but play continues\"\n",
    "    }\n",
    "\n",
    "def shot_off_target():\n",
    "    return {\n",
    "        \"out\": \"Ball goes out of bounds\",\n",
    "        \"blocked\": shot_blocked()\n",
    "    }\n",
    "\n",
    "def shot_blocked():\n",
    "    return {\n",
    "        \"foul_handball\": \"Handball committed, free kick awarded\",\n",
    "        \"continue\": \"Play continues\"\n",
    "    }\n",
    "\n",
    "def pass_action():\n",
    "    return {\n",
    "        \"success\": pass_success(),\n",
    "        \"fail\": pass_fail()\n",
    "    }\n",
    "\n",
    "def pass_success():\n",
    "    return {\n",
    "        \"live_ball\": \"Ball is still in play\",\n",
    "        \"dead_ball\": \"Ball goes out of play\"\n",
    "    }\n",
    "\n",
    "def pass_fail():\n",
    "    return {\n",
    "        \"handball\": \"Handball committed, free kick awarded\"\n",
    "    }\n",
    "\n",
    "def foul_action():\n",
    "    return {\n",
    "        \"dead_ball_foul\": \"Foul committed when the ball is dead\"\n",
    "    }\n",
    "\n",
    "def out_action():\n",
    "    return {\n",
    "        \"throw\": \"Throw in for the opposing team\",\n",
    "        \"goal_kick\": \"Goal kick awarded\",\n",
    "        \"dead_ball_out\": \"Out of bounds, dead ball situation\"\n",
    "    }\n",
    "\n",
    "# More detailed actions and outcomes\n",
    "\n",
    "def clearance():\n",
    "    return {\n",
    "        \"clear_to_touchline\": \"Ball cleared to touchline\",\n",
    "        \"clear_to_midfield\": \"Ball cleared to midfield\"\n",
    "    }\n",
    "\n",
    "def defender_recovery():\n",
    "    return {\n",
    "        \"regain_possession\": \"Defender regains possession\",\n",
    "        \"clear_ball\": \"Defender clears the ball\"\n",
    "    }\n",
    "\n",
    "def defender_action():\n",
    "    return {\n",
    "        \"pressure_ball\": pressure_ball(),\n",
    "        \"intercept_pass\": intercept_pass()\n",
    "    }\n",
    "\n",
    "def pressure_ball():\n",
    "    return {\n",
    "        \"win_ball\": \"Defender wins the ball\",\n",
    "        \"foul\": \"Foul committed while pressuring the ball\"\n",
    "    }\n",
    "\n",
    "def intercept_pass():\n",
    "    return {\n",
    "        \"pass_to_teammate\": \"Pass intercepted and given to teammate\",\n",
    "        \"counter_attack\": \"Counter-attack after interception\"\n",
    "    }\n",
    "\n",
    "def attack_action():\n",
    "    return {\n",
    "        \"cross\": cross_action(),\n",
    "        \"through_pass\": through_pass()\n",
    "    }\n",
    "\n",
    "def cross_action():\n",
    "    return {\n",
    "        \"header\": \"Attempted header from cross\",\n",
    "        \"volley\": \"Attempted volley from cross\"\n",
    "    }\n",
    "\n",
    "def through_pass():\n",
    "    return {\n",
    "        \"finish\": \"Teammate finishes the pass with a shot\",\n",
    "        \"continue_dribble\": \"Teammate continues dribbling the ball\"\n",
    "    }\n",
    "\n",
    "def track_back():\n",
    "    return {\n",
    "        \"pressure_ball\": \"Tracking back to pressure the ball\",\n",
    "        \"interception\": \"Tracking back to intercept the pass\"\n",
    "    }\n",
    "\n",
    "# Function to print the action tree recursively\n",
    "def print_tree(action_func, indent=0):\n",
    "    action_dict = action_func()\n",
    "    for key, value in action_dict.items():\n",
    "        print(' ' * indent + f\"{key}: {value}\")\n",
    "        if isinstance(value, dict):  # Check if it's a dictionary (sub-action)\n",
    "            print_tree(lambda: value, indent + 2)\n",
    "\n",
    "# Example: Print the shot action outcome tree\n",
    "print_tree(shot)\n",
    "\n",
    "# Example: Print the pass action outcome tree\n",
    "print_tree(pass_action)\n",
    "\n",
    "# Example: Print the foul action outcome tree\n",
    "print_tree(foul_action)\n",
    "\n",
    "# Example: Print the out action outcome tree\n",
    "print_tree(out_action)\n",
    "\n",
    "# Example: Print defender action outcome tree\n",
    "print_tree(defender_action)\n",
    "\n",
    "# Example: Print attack action outcome tree\n",
    "print_tree(attack_action)\n"
   ]
  },
  {
   "cell_type": "code",
   "execution_count": 18,
   "id": "4ce44190-eb5d-408c-838b-b6b612f047b9",
   "metadata": {},
   "outputs": [
    {
     "data": {
      "application/vnd.plotly.v1+json": {
       "config": {
        "plotlyServerURL": "https://plot.ly"
       },
       "data": [
        {
         "hoverinfo": "none",
         "line": {
          "color": "#888",
          "width": 0.5
         },
         "mode": "lines",
         "type": "scatter",
         "x": [
          -0.012533515342341355,
          -0.028396449488434176,
          -0.012533515342341355,
          -0.16314192748256495,
          -0.012533515342341355,
          0.14400410829079907,
          -0.028396449488434176,
          -0.16314192748256495,
          -0.028396449488434176,
          0.14400410829079907,
          -0.028396449488434176,
          -0.021908150891294022,
          -0.16314192748256495,
          0.05249690626138374,
          -0.16314192748256495,
          -0.2747670594569798,
          -0.16314192748256495,
          -0.021908150891294022,
          0.14400410829079907,
          0.12012286673908898,
          0.14400410829079907,
          -0.03108435108647894,
          0.14400410829079907,
          0.21660899173790998,
          -0.021908150891294022,
          -0.08100494671113544,
          -0.021908150891294022,
          0.14361963974290431,
          -0.021908150891294022,
          -0.06274341551623802,
          0.05249690626138374,
          -0.028396449488434176,
          0.05249690626138374,
          0.14400410829079907,
          -0.2747670594569798,
          -0.06291040707674274,
          0.12012286673908898,
          -0.012533515342341355,
          -0.03108435108647894,
          -0.012533515342341355,
          0.21660899173790998,
          -0.012533515342341355,
          -0.06291040707674274,
          0.14400410829079907,
          -0.06291040707674274,
          -0.16314192748256495,
          -0.08100494671113544,
          0.14400410829079907,
          -0.08100494671113544,
          -0.16314192748256495,
          0.14361963974290431,
          -0.012533515342341355,
          -0.06274341551623802,
          0.06163771028012292
         ],
         "y": [
          0.07917135564228124,
          -0.004056091373512638,
          0.07917135564228124,
          0.09328762308277817,
          0.07917135564228124,
          0.15913500110069934,
          -0.004056091373512638,
          0.09328762308277817,
          -0.004056091373512638,
          0.15913500110069934,
          -0.004056091373512638,
          -0.13509181985468127,
          0.09328762308277817,
          0.19422982274499623,
          0.09328762308277817,
          0.3035196043973412,
          0.09328762308277817,
          -0.13509181985468127,
          0.15913500110069934,
          -0.09915794165914246,
          0.15913500110069934,
          0.34922656826102233,
          0.15913500110069934,
          0.04251373006726401,
          -0.13509181985468127,
          0.25830488618931746,
          -0.13509181985468127,
          0.29605584967973225,
          -0.13509181985468127,
          -0.710590193083281,
          0.19422982274499623,
          -0.004056091373512638,
          0.19422982274499623,
          0.15913500110069934,
          0.3035196043973412,
          0.17345160480518515,
          -0.09915794165914246,
          0.07917135564228124,
          0.34922656826102233,
          0.07917135564228124,
          0.04251373006726401,
          0.07917135564228124,
          0.17345160480518515,
          0.15913500110069934,
          0.17345160480518515,
          0.09328762308277817,
          0.25830488618931746,
          0.15913500110069934,
          0.25830488618931746,
          0.09328762308277817,
          0.29605584967973225,
          0.07917135564228124,
          -0.710590193083281,
          -1
         ]
        },
        {
         "hoverinfo": "text",
         "marker": {
          "colorbar": {
           "thickness": 15,
           "title": {
            "side": "right",
            "text": "Node Color"
           },
           "xanchor": "left"
          },
          "colorscale": [
           [
            0,
            "rgb(255,255,217)"
           ],
           [
            0.125,
            "rgb(237,248,177)"
           ],
           [
            0.25,
            "rgb(199,233,180)"
           ],
           [
            0.375,
            "rgb(127,205,187)"
           ],
           [
            0.5,
            "rgb(65,182,196)"
           ],
           [
            0.625,
            "rgb(29,145,192)"
           ],
           [
            0.75,
            "rgb(34,94,168)"
           ],
           [
            0.875,
            "rgb(37,52,148)"
           ],
           [
            1,
            "rgb(8,29,88)"
           ]
          ],
          "showscale": true,
          "size": 20
         },
         "mode": "markers+text",
         "text": [
          "Start",
          "Dribble",
          "Pass",
          "Shoot",
          "Foul",
          "Receive Pass",
          "Intercepted Pass",
          "Goal",
          "Save",
          "Miss",
          "Counter Attack",
          "Free Kick",
          "Yellow Card",
          "Red Card",
          "Game Over"
         ],
         "type": "scatter",
         "x": [
          -0.012533515342341355,
          -0.028396449488434176,
          -0.16314192748256495,
          0.14400410829079907,
          -0.021908150891294022,
          0.05249690626138374,
          -0.2747670594569798,
          0.12012286673908898,
          -0.03108435108647894,
          0.21660899173790998,
          -0.06291040707674274,
          -0.08100494671113544,
          0.14361963974290431,
          -0.06274341551623802,
          0.06163771028012292
         ],
         "y": [
          0.07917135564228124,
          -0.004056091373512638,
          0.09328762308277817,
          0.15913500110069934,
          -0.13509181985468127,
          0.19422982274499623,
          0.3035196043973412,
          -0.09915794165914246,
          0.34922656826102233,
          0.04251373006726401,
          0.17345160480518515,
          0.25830488618931746,
          0.29605584967973225,
          -0.710590193083281,
          -1
         ]
        }
       ],
       "layout": {
        "autosize": true,
        "hovermode": "closest",
        "plot_bgcolor": "white",
        "showlegend": false,
        "template": {
         "data": {
          "bar": [
           {
            "error_x": {
             "color": "#2a3f5f"
            },
            "error_y": {
             "color": "#2a3f5f"
            },
            "marker": {
             "line": {
              "color": "#E5ECF6",
              "width": 0.5
             },
             "pattern": {
              "fillmode": "overlay",
              "size": 10,
              "solidity": 0.2
             }
            },
            "type": "bar"
           }
          ],
          "barpolar": [
           {
            "marker": {
             "line": {
              "color": "#E5ECF6",
              "width": 0.5
             },
             "pattern": {
              "fillmode": "overlay",
              "size": 10,
              "solidity": 0.2
             }
            },
            "type": "barpolar"
           }
          ],
          "carpet": [
           {
            "aaxis": {
             "endlinecolor": "#2a3f5f",
             "gridcolor": "white",
             "linecolor": "white",
             "minorgridcolor": "white",
             "startlinecolor": "#2a3f5f"
            },
            "baxis": {
             "endlinecolor": "#2a3f5f",
             "gridcolor": "white",
             "linecolor": "white",
             "minorgridcolor": "white",
             "startlinecolor": "#2a3f5f"
            },
            "type": "carpet"
           }
          ],
          "choropleth": [
           {
            "colorbar": {
             "outlinewidth": 0,
             "ticks": ""
            },
            "type": "choropleth"
           }
          ],
          "contour": [
           {
            "colorbar": {
             "outlinewidth": 0,
             "ticks": ""
            },
            "colorscale": [
             [
              0,
              "#0d0887"
             ],
             [
              0.1111111111111111,
              "#46039f"
             ],
             [
              0.2222222222222222,
              "#7201a8"
             ],
             [
              0.3333333333333333,
              "#9c179e"
             ],
             [
              0.4444444444444444,
              "#bd3786"
             ],
             [
              0.5555555555555556,
              "#d8576b"
             ],
             [
              0.6666666666666666,
              "#ed7953"
             ],
             [
              0.7777777777777778,
              "#fb9f3a"
             ],
             [
              0.8888888888888888,
              "#fdca26"
             ],
             [
              1,
              "#f0f921"
             ]
            ],
            "type": "contour"
           }
          ],
          "contourcarpet": [
           {
            "colorbar": {
             "outlinewidth": 0,
             "ticks": ""
            },
            "type": "contourcarpet"
           }
          ],
          "heatmap": [
           {
            "colorbar": {
             "outlinewidth": 0,
             "ticks": ""
            },
            "colorscale": [
             [
              0,
              "#0d0887"
             ],
             [
              0.1111111111111111,
              "#46039f"
             ],
             [
              0.2222222222222222,
              "#7201a8"
             ],
             [
              0.3333333333333333,
              "#9c179e"
             ],
             [
              0.4444444444444444,
              "#bd3786"
             ],
             [
              0.5555555555555556,
              "#d8576b"
             ],
             [
              0.6666666666666666,
              "#ed7953"
             ],
             [
              0.7777777777777778,
              "#fb9f3a"
             ],
             [
              0.8888888888888888,
              "#fdca26"
             ],
             [
              1,
              "#f0f921"
             ]
            ],
            "type": "heatmap"
           }
          ],
          "heatmapgl": [
           {
            "colorbar": {
             "outlinewidth": 0,
             "ticks": ""
            },
            "colorscale": [
             [
              0,
              "#0d0887"
             ],
             [
              0.1111111111111111,
              "#46039f"
             ],
             [
              0.2222222222222222,
              "#7201a8"
             ],
             [
              0.3333333333333333,
              "#9c179e"
             ],
             [
              0.4444444444444444,
              "#bd3786"
             ],
             [
              0.5555555555555556,
              "#d8576b"
             ],
             [
              0.6666666666666666,
              "#ed7953"
             ],
             [
              0.7777777777777778,
              "#fb9f3a"
             ],
             [
              0.8888888888888888,
              "#fdca26"
             ],
             [
              1,
              "#f0f921"
             ]
            ],
            "type": "heatmapgl"
           }
          ],
          "histogram": [
           {
            "marker": {
             "pattern": {
              "fillmode": "overlay",
              "size": 10,
              "solidity": 0.2
             }
            },
            "type": "histogram"
           }
          ],
          "histogram2d": [
           {
            "colorbar": {
             "outlinewidth": 0,
             "ticks": ""
            },
            "colorscale": [
             [
              0,
              "#0d0887"
             ],
             [
              0.1111111111111111,
              "#46039f"
             ],
             [
              0.2222222222222222,
              "#7201a8"
             ],
             [
              0.3333333333333333,
              "#9c179e"
             ],
             [
              0.4444444444444444,
              "#bd3786"
             ],
             [
              0.5555555555555556,
              "#d8576b"
             ],
             [
              0.6666666666666666,
              "#ed7953"
             ],
             [
              0.7777777777777778,
              "#fb9f3a"
             ],
             [
              0.8888888888888888,
              "#fdca26"
             ],
             [
              1,
              "#f0f921"
             ]
            ],
            "type": "histogram2d"
           }
          ],
          "histogram2dcontour": [
           {
            "colorbar": {
             "outlinewidth": 0,
             "ticks": ""
            },
            "colorscale": [
             [
              0,
              "#0d0887"
             ],
             [
              0.1111111111111111,
              "#46039f"
             ],
             [
              0.2222222222222222,
              "#7201a8"
             ],
             [
              0.3333333333333333,
              "#9c179e"
             ],
             [
              0.4444444444444444,
              "#bd3786"
             ],
             [
              0.5555555555555556,
              "#d8576b"
             ],
             [
              0.6666666666666666,
              "#ed7953"
             ],
             [
              0.7777777777777778,
              "#fb9f3a"
             ],
             [
              0.8888888888888888,
              "#fdca26"
             ],
             [
              1,
              "#f0f921"
             ]
            ],
            "type": "histogram2dcontour"
           }
          ],
          "mesh3d": [
           {
            "colorbar": {
             "outlinewidth": 0,
             "ticks": ""
            },
            "type": "mesh3d"
           }
          ],
          "parcoords": [
           {
            "line": {
             "colorbar": {
              "outlinewidth": 0,
              "ticks": ""
             }
            },
            "type": "parcoords"
           }
          ],
          "pie": [
           {
            "automargin": true,
            "type": "pie"
           }
          ],
          "scatter": [
           {
            "fillpattern": {
             "fillmode": "overlay",
             "size": 10,
             "solidity": 0.2
            },
            "type": "scatter"
           }
          ],
          "scatter3d": [
           {
            "line": {
             "colorbar": {
              "outlinewidth": 0,
              "ticks": ""
             }
            },
            "marker": {
             "colorbar": {
              "outlinewidth": 0,
              "ticks": ""
             }
            },
            "type": "scatter3d"
           }
          ],
          "scattercarpet": [
           {
            "marker": {
             "colorbar": {
              "outlinewidth": 0,
              "ticks": ""
             }
            },
            "type": "scattercarpet"
           }
          ],
          "scattergeo": [
           {
            "marker": {
             "colorbar": {
              "outlinewidth": 0,
              "ticks": ""
             }
            },
            "type": "scattergeo"
           }
          ],
          "scattergl": [
           {
            "marker": {
             "colorbar": {
              "outlinewidth": 0,
              "ticks": ""
             }
            },
            "type": "scattergl"
           }
          ],
          "scattermapbox": [
           {
            "marker": {
             "colorbar": {
              "outlinewidth": 0,
              "ticks": ""
             }
            },
            "type": "scattermapbox"
           }
          ],
          "scatterpolar": [
           {
            "marker": {
             "colorbar": {
              "outlinewidth": 0,
              "ticks": ""
             }
            },
            "type": "scatterpolar"
           }
          ],
          "scatterpolargl": [
           {
            "marker": {
             "colorbar": {
              "outlinewidth": 0,
              "ticks": ""
             }
            },
            "type": "scatterpolargl"
           }
          ],
          "scatterternary": [
           {
            "marker": {
             "colorbar": {
              "outlinewidth": 0,
              "ticks": ""
             }
            },
            "type": "scatterternary"
           }
          ],
          "surface": [
           {
            "colorbar": {
             "outlinewidth": 0,
             "ticks": ""
            },
            "colorscale": [
             [
              0,
              "#0d0887"
             ],
             [
              0.1111111111111111,
              "#46039f"
             ],
             [
              0.2222222222222222,
              "#7201a8"
             ],
             [
              0.3333333333333333,
              "#9c179e"
             ],
             [
              0.4444444444444444,
              "#bd3786"
             ],
             [
              0.5555555555555556,
              "#d8576b"
             ],
             [
              0.6666666666666666,
              "#ed7953"
             ],
             [
              0.7777777777777778,
              "#fb9f3a"
             ],
             [
              0.8888888888888888,
              "#fdca26"
             ],
             [
              1,
              "#f0f921"
             ]
            ],
            "type": "surface"
           }
          ],
          "table": [
           {
            "cells": {
             "fill": {
              "color": "#EBF0F8"
             },
             "line": {
              "color": "white"
             }
            },
            "header": {
             "fill": {
              "color": "#C8D4E3"
             },
             "line": {
              "color": "white"
             }
            },
            "type": "table"
           }
          ]
         },
         "layout": {
          "annotationdefaults": {
           "arrowcolor": "#2a3f5f",
           "arrowhead": 0,
           "arrowwidth": 1
          },
          "autotypenumbers": "strict",
          "coloraxis": {
           "colorbar": {
            "outlinewidth": 0,
            "ticks": ""
           }
          },
          "colorscale": {
           "diverging": [
            [
             0,
             "#8e0152"
            ],
            [
             0.1,
             "#c51b7d"
            ],
            [
             0.2,
             "#de77ae"
            ],
            [
             0.3,
             "#f1b6da"
            ],
            [
             0.4,
             "#fde0ef"
            ],
            [
             0.5,
             "#f7f7f7"
            ],
            [
             0.6,
             "#e6f5d0"
            ],
            [
             0.7,
             "#b8e186"
            ],
            [
             0.8,
             "#7fbc41"
            ],
            [
             0.9,
             "#4d9221"
            ],
            [
             1,
             "#276419"
            ]
           ],
           "sequential": [
            [
             0,
             "#0d0887"
            ],
            [
             0.1111111111111111,
             "#46039f"
            ],
            [
             0.2222222222222222,
             "#7201a8"
            ],
            [
             0.3333333333333333,
             "#9c179e"
            ],
            [
             0.4444444444444444,
             "#bd3786"
            ],
            [
             0.5555555555555556,
             "#d8576b"
            ],
            [
             0.6666666666666666,
             "#ed7953"
            ],
            [
             0.7777777777777778,
             "#fb9f3a"
            ],
            [
             0.8888888888888888,
             "#fdca26"
            ],
            [
             1,
             "#f0f921"
            ]
           ],
           "sequentialminus": [
            [
             0,
             "#0d0887"
            ],
            [
             0.1111111111111111,
             "#46039f"
            ],
            [
             0.2222222222222222,
             "#7201a8"
            ],
            [
             0.3333333333333333,
             "#9c179e"
            ],
            [
             0.4444444444444444,
             "#bd3786"
            ],
            [
             0.5555555555555556,
             "#d8576b"
            ],
            [
             0.6666666666666666,
             "#ed7953"
            ],
            [
             0.7777777777777778,
             "#fb9f3a"
            ],
            [
             0.8888888888888888,
             "#fdca26"
            ],
            [
             1,
             "#f0f921"
            ]
           ]
          },
          "colorway": [
           "#636efa",
           "#EF553B",
           "#00cc96",
           "#ab63fa",
           "#FFA15A",
           "#19d3f3",
           "#FF6692",
           "#B6E880",
           "#FF97FF",
           "#FECB52"
          ],
          "font": {
           "color": "#2a3f5f"
          },
          "geo": {
           "bgcolor": "white",
           "lakecolor": "white",
           "landcolor": "#E5ECF6",
           "showlakes": true,
           "showland": true,
           "subunitcolor": "white"
          },
          "hoverlabel": {
           "align": "left"
          },
          "hovermode": "closest",
          "mapbox": {
           "style": "light"
          },
          "paper_bgcolor": "white",
          "plot_bgcolor": "#E5ECF6",
          "polar": {
           "angularaxis": {
            "gridcolor": "white",
            "linecolor": "white",
            "ticks": ""
           },
           "bgcolor": "#E5ECF6",
           "radialaxis": {
            "gridcolor": "white",
            "linecolor": "white",
            "ticks": ""
           }
          },
          "scene": {
           "xaxis": {
            "backgroundcolor": "#E5ECF6",
            "gridcolor": "white",
            "gridwidth": 2,
            "linecolor": "white",
            "showbackground": true,
            "ticks": "",
            "zerolinecolor": "white"
           },
           "yaxis": {
            "backgroundcolor": "#E5ECF6",
            "gridcolor": "white",
            "gridwidth": 2,
            "linecolor": "white",
            "showbackground": true,
            "ticks": "",
            "zerolinecolor": "white"
           },
           "zaxis": {
            "backgroundcolor": "#E5ECF6",
            "gridcolor": "white",
            "gridwidth": 2,
            "linecolor": "white",
            "showbackground": true,
            "ticks": "",
            "zerolinecolor": "white"
           }
          },
          "shapedefaults": {
           "line": {
            "color": "#2a3f5f"
           }
          },
          "ternary": {
           "aaxis": {
            "gridcolor": "white",
            "linecolor": "white",
            "ticks": ""
           },
           "baxis": {
            "gridcolor": "white",
            "linecolor": "white",
            "ticks": ""
           },
           "bgcolor": "#E5ECF6",
           "caxis": {
            "gridcolor": "white",
            "linecolor": "white",
            "ticks": ""
           }
          },
          "title": {
           "x": 0.05
          },
          "xaxis": {
           "automargin": true,
           "gridcolor": "white",
           "linecolor": "white",
           "ticks": "",
           "title": {
            "standoff": 15
           },
           "zerolinecolor": "white",
           "zerolinewidth": 2
          },
          "yaxis": {
           "automargin": true,
           "gridcolor": "white",
           "linecolor": "white",
           "ticks": "",
           "title": {
            "standoff": 15
           },
           "zerolinecolor": "white",
           "zerolinewidth": 2
          }
         }
        },
        "title": {
         "font": {
          "size": 16
         },
         "text": "Interactive Action Tree Network"
        },
        "xaxis": {
         "autorange": true,
         "range": [
          -0.31063189863983764,
          0.2524738309207678
         ],
         "showgrid": false,
         "type": "linear",
         "zeroline": false
        },
        "yaxis": {
         "autorange": true,
         "range": [
          -1.2117399358949779,
          0.5609665041560002
         ],
         "showgrid": false,
         "type": "linear",
         "zeroline": false
        }
       }
      },
      "image/png": "[encoded data removed]",
      "text/html": [
       "<div>                            <div id=\"1d5ca738-feeb-4237-acf2-6e70ecf7f662\" class=\"plotly-graph-div\" style=\"height:525px; width:100%;\"></div>            <script type=\"text/javascript\">                require([\"plotly\"], function(Plotly) {                    window.PLOTLYENV=window.PLOTLYENV || {};                                    if (document.getElementById(\"1d5ca738-feeb-4237-acf2-6e70ecf7f662\")) {                    Plotly.newPlot(                        \"1d5ca738-feeb-4237-acf2-6e70ecf7f662\",                        [{\"hoverinfo\":\"none\",\"line\":{\"color\":\"#888\",\"width\":0.5},\"mode\":\"lines\",\"x\":[-0.012533515342341355,-0.028396449488434176,-0.012533515342341355,-0.16314192748256495,-0.012533515342341355,0.14400410829079907,-0.028396449488434176,-0.16314192748256495,-0.028396449488434176,0.14400410829079907,-0.028396449488434176,-0.021908150891294022,-0.16314192748256495,0.05249690626138374,-0.16314192748256495,-0.2747670594569798,-0.16314192748256495,-0.021908150891294022,0.14400410829079907,0.12012286673908898,0.14400410829079907,-0.03108435108647894,0.14400410829079907,0.21660899173790998,-0.021908150891294022,-0.08100494671113544,-0.021908150891294022,0.14361963974290431,-0.021908150891294022,-0.06274341551623802,0.05249690626138374,-0.028396449488434176,0.05249690626138374,0.14400410829079907,-0.2747670594569798,-0.06291040707674274,0.12012286673908898,-0.012533515342341355,-0.03108435108647894,-0.012533515342341355,0.21660899173790998,-0.012533515342341355,-0.06291040707674274,0.14400410829079907,-0.06291040707674274,-0.16314192748256495,-0.08100494671113544,0.14400410829079907,-0.08100494671113544,-0.16314192748256495,0.14361963974290431,-0.012533515342341355,-0.06274341551623802,0.06163771028012292],\"y\":[0.07917135564228124,-0.004056091373512638,0.07917135564228124,0.09328762308277817,0.07917135564228124,0.15913500110069934,-0.004056091373512638,0.09328762308277817,-0.004056091373512638,0.15913500110069934,-0.004056091373512638,-0.13509181985468127,0.09328762308277817,0.19422982274499623,0.09328762308277817,0.3035196043973412,0.09328762308277817,-0.13509181985468127,0.15913500110069934,-0.09915794165914246,0.15913500110069934,0.34922656826102233,0.15913500110069934,0.04251373006726401,-0.13509181985468127,0.25830488618931746,-0.13509181985468127,0.29605584967973225,-0.13509181985468127,-0.710590193083281,0.19422982274499623,-0.004056091373512638,0.19422982274499623,0.15913500110069934,0.3035196043973412,0.17345160480518515,-0.09915794165914246,0.07917135564228124,0.34922656826102233,0.07917135564228124,0.04251373006726401,0.07917135564228124,0.17345160480518515,0.15913500110069934,0.17345160480518515,0.09328762308277817,0.25830488618931746,0.15913500110069934,0.25830488618931746,0.09328762308277817,0.29605584967973225,0.07917135564228124,-0.710590193083281,-1.0],\"type\":\"scatter\"},{\"hoverinfo\":\"text\",\"marker\":{\"colorbar\":{\"thickness\":15,\"title\":{\"side\":\"right\",\"text\":\"Node Color\"},\"xanchor\":\"left\"},\"colorscale\":[[0.0,\"rgb(255,255,217)\"],[0.125,\"rgb(237,248,177)\"],[0.25,\"rgb(199,233,180)\"],[0.375,\"rgb(127,205,187)\"],[0.5,\"rgb(65,182,196)\"],[0.625,\"rgb(29,145,192)\"],[0.75,\"rgb(34,94,168)\"],[0.875,\"rgb(37,52,148)\"],[1.0,\"rgb(8,29,88)\"]],\"showscale\":true,\"size\":20},\"mode\":\"markers+text\",\"text\":[\"Start\",\"Dribble\",\"Pass\",\"Shoot\",\"Foul\",\"Receive Pass\",\"Intercepted Pass\",\"Goal\",\"Save\",\"Miss\",\"Counter Attack\",\"Free Kick\",\"Yellow Card\",\"Red Card\",\"Game Over\"],\"x\":[-0.012533515342341355,-0.028396449488434176,-0.16314192748256495,0.14400410829079907,-0.021908150891294022,0.05249690626138374,-0.2747670594569798,0.12012286673908898,-0.03108435108647894,0.21660899173790998,-0.06291040707674274,-0.08100494671113544,0.14361963974290431,-0.06274341551623802,0.06163771028012292],\"y\":[0.07917135564228124,-0.004056091373512638,0.09328762308277817,0.15913500110069934,-0.13509181985468127,0.19422982274499623,0.3035196043973412,-0.09915794165914246,0.34922656826102233,0.04251373006726401,0.17345160480518515,0.25830488618931746,0.29605584967973225,-0.710590193083281,-1.0],\"type\":\"scatter\"}],                        {\"hovermode\":\"closest\",\"plot_bgcolor\":\"white\",\"showlegend\":false,\"title\":{\"font\":{\"size\":16},\"text\":\"Interactive Action Tree Network\"},\"xaxis\":{\"showgrid\":false,\"zeroline\":false},\"yaxis\":{\"showgrid\":false,\"zeroline\":false},\"template\":{\"data\":{\"histogram2dcontour\":[{\"type\":\"histogram2dcontour\",\"colorbar\":{\"outlinewidth\":0,\"ticks\":\"\"},\"colorscale\":[[0.0,\"#0d0887\"],[0.1111111111111111,\"#46039f\"],[0.2222222222222222,\"#7201a8\"],[0.3333333333333333,\"#9c179e\"],[0.4444444444444444,\"#bd3786\"],[0.5555555555555556,\"#d8576b\"],[0.6666666666666666,\"#ed7953\"],[0.7777777777777778,\"#fb9f3a\"],[0.8888888888888888,\"#fdca26\"],[1.0,\"#f0f921\"]]}],\"choropleth\":[{\"type\":\"choropleth\",\"colorbar\":{\"outlinewidth\":0,\"ticks\":\"\"}}],\"histogram2d\":[{\"type\":\"histogram2d\",\"colorbar\":{\"outlinewidth\":0,\"ticks\":\"\"},\"colorscale\":[[0.0,\"#0d0887\"],[0.1111111111111111,\"#46039f\"],[0.2222222222222222,\"#7201a8\"],[0.3333333333333333,\"#9c179e\"],[0.4444444444444444,\"#bd3786\"],[0.5555555555555556,\"#d8576b\"],[0.6666666666666666,\"#ed7953\"],[0.7777777777777778,\"#fb9f3a\"],[0.8888888888888888,\"#fdca26\"],[1.0,\"#f0f921\"]]}],\"heatmap\":[{\"type\":\"heatmap\",\"colorbar\":{\"outlinewidth\":0,\"ticks\":\"\"},\"colorscale\":[[0.0,\"#0d0887\"],[0.1111111111111111,\"#46039f\"],[0.2222222222222222,\"#7201a8\"],[0.3333333333333333,\"#9c179e\"],[0.4444444444444444,\"#bd3786\"],[0.5555555555555556,\"#d8576b\"],[0.6666666666666666,\"#ed7953\"],[0.7777777777777778,\"#fb9f3a\"],[0.8888888888888888,\"#fdca26\"],[1.0,\"#f0f921\"]]}],\"heatmapgl\":[{\"type\":\"heatmapgl\",\"colorbar\":{\"outlinewidth\":0,\"ticks\":\"\"},\"colorscale\":[[0.0,\"#0d0887\"],[0.1111111111111111,\"#46039f\"],[0.2222222222222222,\"#7201a8\"],[0.3333333333333333,\"#9c179e\"],[0.4444444444444444,\"#bd3786\"],[0.5555555555555556,\"#d8576b\"],[0.6666666666666666,\"#ed7953\"],[0.7777777777777778,\"#fb9f3a\"],[0.8888888888888888,\"#fdca26\"],[1.0,\"#f0f921\"]]}],\"contourcarpet\":[{\"type\":\"contourcarpet\",\"colorbar\":{\"outlinewidth\":0,\"ticks\":\"\"}}],\"contour\":[{\"type\":\"contour\",\"colorbar\":{\"outlinewidth\":0,\"ticks\":\"\"},\"colorscale\":[[0.0,\"#0d0887\"],[0.1111111111111111,\"#46039f\"],[0.2222222222222222,\"#7201a8\"],[0.3333333333333333,\"#9c179e\"],[0.4444444444444444,\"#bd3786\"],[0.5555555555555556,\"#d8576b\"],[0.6666666666666666,\"#ed7953\"],[0.7777777777777778,\"#fb9f3a\"],[0.8888888888888888,\"#fdca26\"],[1.0,\"#f0f921\"]]}],\"surface\":[{\"type\":\"surface\",\"colorbar\":{\"outlinewidth\":0,\"ticks\":\"\"},\"colorscale\":[[0.0,\"#0d0887\"],[0.1111111111111111,\"#46039f\"],[0.2222222222222222,\"#7201a8\"],[0.3333333333333333,\"#9c179e\"],[0.4444444444444444,\"#bd3786\"],[0.5555555555555556,\"#d8576b\"],[0.6666666666666666,\"#ed7953\"],[0.7777777777777778,\"#fb9f3a\"],[0.8888888888888888,\"#fdca26\"],[1.0,\"#f0f921\"]]}],\"mesh3d\":[{\"type\":\"mesh3d\",\"colorbar\":{\"outlinewidth\":0,\"ticks\":\"\"}}],\"scatter\":[{\"fillpattern\":{\"fillmode\":\"overlay\",\"size\":10,\"solidity\":0.2},\"type\":\"scatter\"}],\"parcoords\":[{\"type\":\"parcoords\",\"line\":{\"colorbar\":{\"outlinewidth\":0,\"ticks\":\"\"}}}],\"scatterpolargl\":[{\"type\":\"scatterpolargl\",\"marker\":{\"colorbar\":{\"outlinewidth\":0,\"ticks\":\"\"}}}],\"bar\":[{\"error_x\":{\"color\":\"#2a3f5f\"},\"error_y\":{\"color\":\"#2a3f5f\"},\"marker\":{\"line\":{\"color\":\"#E5ECF6\",\"width\":0.5},\"pattern\":{\"fillmode\":\"overlay\",\"size\":10,\"solidity\":0.2}},\"type\":\"bar\"}],\"scattergeo\":[{\"type\":\"scattergeo\",\"marker\":{\"colorbar\":{\"outlinewidth\":0,\"ticks\":\"\"}}}],\"scatterpolar\":[{\"type\":\"scatterpolar\",\"marker\":{\"colorbar\":{\"outlinewidth\":0,\"ticks\":\"\"}}}],\"histogram\":[{\"marker\":{\"pattern\":{\"fillmode\":\"overlay\",\"size\":10,\"solidity\":0.2}},\"type\":\"histogram\"}],\"scattergl\":[{\"type\":\"scattergl\",\"marker\":{\"colorbar\":{\"outlinewidth\":0,\"ticks\":\"\"}}}],\"scatter3d\":[{\"type\":\"scatter3d\",\"line\":{\"colorbar\":{\"outlinewidth\":0,\"ticks\":\"\"}},\"marker\":{\"colorbar\":{\"outlinewidth\":0,\"ticks\":\"\"}}}],\"scattermapbox\":[{\"type\":\"scattermapbox\",\"marker\":{\"colorbar\":{\"outlinewidth\":0,\"ticks\":\"\"}}}],\"scatterternary\":[{\"type\":\"scatterternary\",\"marker\":{\"colorbar\":{\"outlinewidth\":0,\"ticks\":\"\"}}}],\"scattercarpet\":[{\"type\":\"scattercarpet\",\"marker\":{\"colorbar\":{\"outlinewidth\":0,\"ticks\":\"\"}}}],\"carpet\":[{\"aaxis\":{\"endlinecolor\":\"#2a3f5f\",\"gridcolor\":\"white\",\"linecolor\":\"white\",\"minorgridcolor\":\"white\",\"startlinecolor\":\"#2a3f5f\"},\"baxis\":{\"endlinecolor\":\"#2a3f5f\",\"gridcolor\":\"white\",\"linecolor\":\"white\",\"minorgridcolor\":\"white\",\"startlinecolor\":\"#2a3f5f\"},\"type\":\"carpet\"}],\"table\":[{\"cells\":{\"fill\":{\"color\":\"#EBF0F8\"},\"line\":{\"color\":\"white\"}},\"header\":{\"fill\":{\"color\":\"#C8D4E3\"},\"line\":{\"color\":\"white\"}},\"type\":\"table\"}],\"barpolar\":[{\"marker\":{\"line\":{\"color\":\"#E5ECF6\",\"width\":0.5},\"pattern\":{\"fillmode\":\"overlay\",\"size\":10,\"solidity\":0.2}},\"type\":\"barpolar\"}],\"pie\":[{\"automargin\":true,\"type\":\"pie\"}]},\"layout\":{\"autotypenumbers\":\"strict\",\"colorway\":[\"#636efa\",\"#EF553B\",\"#00cc96\",\"#ab63fa\",\"#FFA15A\",\"#19d3f3\",\"#FF6692\",\"#B6E880\",\"#FF97FF\",\"#FECB52\"],\"font\":{\"color\":\"#2a3f5f\"},\"hovermode\":\"closest\",\"hoverlabel\":{\"align\":\"left\"},\"paper_bgcolor\":\"white\",\"plot_bgcolor\":\"#E5ECF6\",\"polar\":{\"bgcolor\":\"#E5ECF6\",\"angularaxis\":{\"gridcolor\":\"white\",\"linecolor\":\"white\",\"ticks\":\"\"},\"radialaxis\":{\"gridcolor\":\"white\",\"linecolor\":\"white\",\"ticks\":\"\"}},\"ternary\":{\"bgcolor\":\"#E5ECF6\",\"aaxis\":{\"gridcolor\":\"white\",\"linecolor\":\"white\",\"ticks\":\"\"},\"baxis\":{\"gridcolor\":\"white\",\"linecolor\":\"white\",\"ticks\":\"\"},\"caxis\":{\"gridcolor\":\"white\",\"linecolor\":\"white\",\"ticks\":\"\"}},\"coloraxis\":{\"colorbar\":{\"outlinewidth\":0,\"ticks\":\"\"}},\"colorscale\":{\"sequential\":[[0.0,\"#0d0887\"],[0.1111111111111111,\"#46039f\"],[0.2222222222222222,\"#7201a8\"],[0.3333333333333333,\"#9c179e\"],[0.4444444444444444,\"#bd3786\"],[0.5555555555555556,\"#d8576b\"],[0.6666666666666666,\"#ed7953\"],[0.7777777777777778,\"#fb9f3a\"],[0.8888888888888888,\"#fdca26\"],[1.0,\"#f0f921\"]],\"sequentialminus\":[[0.0,\"#0d0887\"],[0.1111111111111111,\"#46039f\"],[0.2222222222222222,\"#7201a8\"],[0.3333333333333333,\"#9c179e\"],[0.4444444444444444,\"#bd3786\"],[0.5555555555555556,\"#d8576b\"],[0.6666666666666666,\"#ed7953\"],[0.7777777777777778,\"#fb9f3a\"],[0.8888888888888888,\"#fdca26\"],[1.0,\"#f0f921\"]],\"diverging\":[[0,\"#8e0152\"],[0.1,\"#c51b7d\"],[0.2,\"#de77ae\"],[0.3,\"#f1b6da\"],[0.4,\"#fde0ef\"],[0.5,\"#f7f7f7\"],[0.6,\"#e6f5d0\"],[0.7,\"#b8e186\"],[0.8,\"#7fbc41\"],[0.9,\"#4d9221\"],[1,\"#276419\"]]},\"xaxis\":{\"gridcolor\":\"white\",\"linecolor\":\"white\",\"ticks\":\"\",\"title\":{\"standoff\":15},\"zerolinecolor\":\"white\",\"automargin\":true,\"zerolinewidth\":2},\"yaxis\":{\"gridcolor\":\"white\",\"linecolor\":\"white\",\"ticks\":\"\",\"title\":{\"standoff\":15},\"zerolinecolor\":\"white\",\"automargin\":true,\"zerolinewidth\":2},\"scene\":{\"xaxis\":{\"backgroundcolor\":\"#E5ECF6\",\"gridcolor\":\"white\",\"linecolor\":\"white\",\"showbackground\":true,\"ticks\":\"\",\"zerolinecolor\":\"white\",\"gridwidth\":2},\"yaxis\":{\"backgroundcolor\":\"#E5ECF6\",\"gridcolor\":\"white\",\"linecolor\":\"white\",\"showbackground\":true,\"ticks\":\"\",\"zerolinecolor\":\"white\",\"gridwidth\":2},\"zaxis\":{\"backgroundcolor\":\"#E5ECF6\",\"gridcolor\":\"white\",\"linecolor\":\"white\",\"showbackground\":true,\"ticks\":\"\",\"zerolinecolor\":\"white\",\"gridwidth\":2}},\"shapedefaults\":{\"line\":{\"color\":\"#2a3f5f\"}},\"annotationdefaults\":{\"arrowcolor\":\"#2a3f5f\",\"arrowhead\":0,\"arrowwidth\":1},\"geo\":{\"bgcolor\":\"white\",\"landcolor\":\"#E5ECF6\",\"subunitcolor\":\"white\",\"showland\":true,\"showlakes\":true,\"lakecolor\":\"white\"},\"title\":{\"x\":0.05},\"mapbox\":{\"style\":\"light\"}}}},                        {\"responsive\": true}                    ).then(function(){\n",
       "                            \n",
       "var gd = document.getElementById('1d5ca738-feeb-4237-acf2-6e70ecf7f662');\n",
       "var x = new MutationObserver(function (mutations, observer) {{\n",
       "        var display = window.getComputedStyle(gd).display;\n",
       "        if (!display || display === 'none') {{\n",
       "            console.log([gd, 'removed!']);\n",
       "            Plotly.purge(gd);\n",
       "            observer.disconnect();\n",
       "        }}\n",
       "}});\n",
       "\n",
       "// Listen for the removal of the full notebook cells\n",
       "var notebookContainer = gd.closest('#notebook-container');\n",
       "if (notebookContainer) {{\n",
       "    x.observe(notebookContainer, {childList: true});\n",
       "}}\n",
       "\n",
       "// Listen for the clearing of the current output cell\n",
       "var outputEl = gd.closest('.output');\n",
       "if (outputEl) {{\n",
       "    x.observe(outputEl, {childList: true});\n",
       "}}\n",
       "\n",
       "                        })                };                });            </script>        </div>"
      ]
     },
     "metadata": {},
     "output_type": "display_data"
    }
   ],
   "source": [
    "# Define Action Classes\n",
    "class Action:\n",
    "    def __init__(self, action, description):\n",
    "        self.action = action\n",
    "        self.description = description\n",
    "        self.next_actions = []\n",
    "\n",
    "    def add_next_action(self, next_action):\n",
    "        self.next_actions.append(next_action)\n",
    "\n",
    "    def __str__(self):\n",
    "        return f\"{self.action}: {self.description}\"\n",
    "\n",
    "\n",
    "class Shot:\n",
    "    class OnTarget:\n",
    "        def __init__(self):\n",
    "            self.goal = Action(\n",
    "                \"Goal scored\", \"A goal is scored, either by a foot or head or set-piece.\"\n",
    "            )\n",
    "            self.save = Action(\n",
    "                \"Goalkeeper save\", \"The goalkeeper saves the shot, resulting in a new action.\"\n",
    "            )\n",
    "\n",
    "        def add_goal_actions(self):\n",
    "            self.goal.add_next_action(\"kickoff\")\n",
    "            self.goal.add_next_action(\"opposition_possession\")\n",
    "        \n",
    "        def add_save_actions(self):\n",
    "            self.save.add_next_action(\"out_of_bounds\")\n",
    "            self.save.add_next_action(\"free_kick\")\n",
    "            self.save.add_next_action(\"goal_kick\")\n",
    "            self.save.add_next_action(\"opposition_possession\")\n",
    "\n",
    "    class OffTarget:\n",
    "        def __init__(self):\n",
    "            self.out = Action(\"Ball goes out of bounds\", \"Ball crosses sideline or goal line.\")\n",
    "            self.blocked = Action(\"Ball blocked\", \"The ball is blocked but play continues.\")\n",
    "            self.woodwork = Action(\"Hits the woodwork\", \"Ball hits the post or crossbar.\")\n",
    "\n",
    "        def add_out_actions(self):\n",
    "            self.out.add_next_action(\"out_of_bounds\")\n",
    "\n",
    "        def add_blocked_actions(self):\n",
    "            self.blocked.add_next_action(\"play_continues\")\n",
    "            self.blocked.add_next_action(\"free_kick\")\n",
    "\n",
    "        def add_woodwork_actions(self):\n",
    "            self.woodwork.add_next_action(\"goal_kick\")\n",
    "            self.woodwork.add_next_action(\"play_continues\")\n",
    "\n",
    "\n",
    "class Pass:\n",
    "    class Success:\n",
    "        def __init__(self):\n",
    "            self.live_ball = Action(\"Pass completed\", \"Ball remains in play after successful pass.\")\n",
    "            self.dead_ball = Action(\"Pass out of play\", \"The pass goes out of bounds.\")\n",
    "\n",
    "        def add_live_ball_actions(self):\n",
    "            self.live_ball.add_next_action(\"play_continues\")\n",
    "            self.live_ball.add_next_action(\"possession_change\")\n",
    "            self.live_ball.add_next_action(\"shot\")\n",
    "            self.live_ball.add_next_action(\"goal\")\n",
    "\n",
    "        def add_dead_ball_actions(self):\n",
    "            self.dead_ball.add_next_action(\"set_piece\")\n",
    "\n",
    "    class Fail:\n",
    "        def __init__(self):\n",
    "            self.handball = Action(\"Handball foul\", \"Player commits a handball, free kick awarded.\")\n",
    "            self.miss = Action(\"Pass missed\", \"Pass goes out of bounds.\")\n",
    "\n",
    "        def add_handball_actions(self):\n",
    "            self.handball.add_next_action(\"free_kick\")\n",
    "            self.handball.add_next_action(\"opposition_possession\")\n",
    "\n",
    "        def add_miss_actions(self):\n",
    "            self.miss.add_next_action(\"out_of_bounds\")\n",
    "\n",
    "\n",
    "class Out:\n",
    "    def __init__(self):\n",
    "        self.throw = Action(\"Throw-in awarded\", \"Ball crosses sideline, throw-in awarded to the other team.\")\n",
    "        self.goal_kick = Action(\"Goal kick awarded\", \"The ball crosses the goal line without a goal.\")\n",
    "        self.dead_ball_out = Action(\"Out of bounds\", \"The ball is out of bounds and a restart is needed.\")\n",
    "\n",
    "    def add_throw_actions(self):\n",
    "        self.throw.add_next_action(\"opposition_throw_in\")\n",
    "        self.throw.add_next_action(\"possession_change\")\n",
    "\n",
    "    def add_goal_kick_actions(self):\n",
    "        self.goal_kick.add_next_action(\"opposition_goal_kick\")\n",
    "        self.goal_kick.add_next_action(\"possession_change\")\n",
    "\n",
    "    def add_dead_ball_out_actions(self):\n",
    "        self.dead_ball_out.add_next_action(\"set_piece\")\n",
    "\n",
    "\n",
    "# Example of creating a shot action and handling its outcomes\n",
    "shot_on_target = Shot.OnTarget()\n",
    "shot_on_target.add_goal_actions()\n",
    "shot_on_target.add_save_actions()\n",
    "\n",
    "# Example of creating a pass action and handling its outcomes\n",
    "pass_success = Pass.Success()\n",
    "pass_success.add_live_ball_actions()\n",
    "pass_success.add_dead_ball_actions()\n",
    "\n",
    "# Example of creating an out action and handling its outcomes\n",
    "out_action = Out()\n",
    "out_action.add_throw_actions()\n",
    "out_action.add_goal_kick_actions()\n",
    "out_action.add_dead_ball_out_actions()\n",
    "\n",
    "# Display results for each action (for debugging or testing)\n",
    "print(shot_on_target.goal.action, shot_on_target.goal.next_actions)\n",
    "print(shot_on_target.save.action, shot_on_target.save.next_actions)\n",
    "print(pass_success.live_ball.action, pass_success.live_ball.next_actions)\n",
    "print(pass_success.dead_ball.action, pass_success.dead_ball.next_actions)\n",
    "print(out_action.throw.action, out_action.throw.next_actions)\n",
    "print(out_action.goal_kick.action, out_action.goal_kick.next_actions)\n"
   ]
  },
  {
   "cell_type": "code",
   "execution_count": 4,
   "id": "911713da-3e3d-4682-9243-899162740074",
   "metadata": {},
   "outputs": [
    {
     "name": "stdout",
     "output_type": "stream",
     "text": [
      "pygame 2.4.0 (SDL 2.26.4, Python 3.11.7)\n",
      "Hello from the pygame community. https://www.pygame.org/contribute.html\n"
     ]
    }
   ],
   "source": []
  },
  {
   "cell_type": "code",
   "execution_count": null,
   "id": "f64d5eae-8b4d-42fa-91c6-e6e46ba64a3b",
   "metadata": {},
   "outputs": [],
   "source": []
  }
 ],
 "metadata": {
  "kernelspec": {
   "display_name": "Python 3 (ipykernel)",
   "language": "python",
   "name": "python3"
  },
  "language_info": {
   "codemirror_mode": {
    "name": "ipython",
    "version": 3
   },
   "file_extension": ".py",
   "mimetype": "text/x-python",
   "name": "python",
   "nbconvert_exporter": "python",
   "pygments_lexer": "ipython3",
   "version": "3.11.7"
  }
 },
 "nbformat": 4,
 "nbformat_minor": 5
}
