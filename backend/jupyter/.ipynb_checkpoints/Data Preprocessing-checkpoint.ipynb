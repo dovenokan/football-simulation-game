{
 "cells": [
  {
   "cell_type": "code",
   "execution_count": 2,
   "id": "a2bbe25e-f4a0-46c2-83d6-b9d7d5460388",
   "metadata": {},
   "outputs": [],
   "source": [
    "import pandas as pd\n",
    "import numpy as np\n",
    "import seaborn as sns\n",
    "import re\n",
    "from bs4 import BeautifulSoup\n",
    "import lxml\n",
    "import requests\n",
    "import unicodedata"
   ]
  },
  {
   "cell_type": "code",
   "execution_count": 3,
   "id": "c841d9dc-a322-428d-acce-3533d4bb22dc",
   "metadata": {},
   "outputs": [],
   "source": [
    "import warnings\n",
    "from pandas.errors import SettingWithCopyWarning\n",
    "warnings.simplefilter(action='ignore', category=(SettingWithCopyWarning))\n",
    "warnings.simplefilter(action='ignore', category=(FutureWarning))"
   ]
  },
  {
   "cell_type": "code",
   "execution_count": 4,
   "id": "010eea71-d9f8-43ab-8c24-c2156611ed9b",
   "metadata": {},
   "outputs": [],
   "source": [
    "fm_df = pd.read_csv(\"players_db/fm23/uluta_fm23data.csv\")"
   ]
  },
  {
   "cell_type": "code",
   "execution_count": 5,
   "id": "14252fae-f017-4fe7-bd7a-630a3c4c7906",
   "metadata": {},
   "outputs": [],
   "source": [
    "fm_df.columns = [col.strip() for col in fm_df.columns]\n",
    "\n",
    "for col in fm_df.select_dtypes(\"object\").columns:\n",
    "   fm_df[col] = fm_df[col].apply(lambda x: x.strip())"
   ]
  },
  {
   "cell_type": "code",
   "execution_count": 6,
   "id": "38855b99-3eda-4145-a01b-c69e9b0e2ae2",
   "metadata": {},
   "outputs": [
    {
     "data": {
      "text/plain": [
       "Index(['UID', 'Inf', 'Name', 'DoB', 'Nat', 'Division', 'Club', 'Based',\n",
       "       'Preferred Foot', 'Right Foot', 'Left Foot', 'Position', 'Height',\n",
       "       'Weight', 'Age', 'Transfer Value', 'Wage', 'AT Apps', 'AT Gls', 'Team',\n",
       "       'Caps', 'Yth Apps', 'Style', 'Rc Injury', 'Best Role', 'Best Duty',\n",
       "       'Best Pos', 'Acc', 'Aer', 'Agg', 'Agi', 'Ant', 'Bal', 'Bra', 'Cmd',\n",
       "       'Com', 'Cmp', 'Cnt', 'Cor', 'Cro', 'Dec', 'Det', 'Dri', 'Ecc', 'Fin',\n",
       "       'Fir', 'Fla', 'Fre', 'Han', 'Hea', 'Jum', 'Kic', 'Ldr', 'Lon', 'L Th',\n",
       "       'Mar', 'Nat .1', 'OtB', '1v1', 'Pac', 'Pas', 'Pen', 'Pos', 'Pun', 'Ref',\n",
       "       'TRO', 'Sta', 'Str', 'Tck', 'Tea', 'Tec', 'Thr', 'Vis', 'Wor'],\n",
       "      dtype='object')"
      ]
     },
     "execution_count": 6,
     "metadata": {},
     "output_type": "execute_result"
    }
   ],
   "source": [
    "fm_df.columns"
   ]
  },
  {
   "cell_type": "markdown",
   "id": "47e5c1bd-e78b-42f4-9a1a-ef716b5d5cfb",
   "metadata": {},
   "source": [
    "<br><br><br><br>\n",
    "# In"
   ]
  },
  {
   "cell_type": "code",
   "execution_count": 7,
   "id": "ec0da419-dea5-4891-a392-70ee6d21fec1",
   "metadata": {},
   "outputs": [],
   "source": [
    "# Assume df is your DataFrame\n",
    "new_column_names = {\n",
    "    'Acc': 'Acceleration',\n",
    "    'Aer': 'Aerial_Reach',\n",
    "    'Agg': 'Aggression',\n",
    "    'Agi': 'Agility',\n",
    "    'Ant': 'Anticipation',\n",
    "    'Bal': 'Balance',\n",
    "    'Bra': 'Bravery',\n",
    "    'Cmd': 'Command_of_Area',\n",
    "    'Com': 'Communication',\n",
    "    'Cmp': 'Composure',\n",
    "    'Cnt': 'Concentration',\n",
    "    'Cor': 'Corners',\n",
    "    'Cro': 'Crossing',\n",
    "    'Dec': 'Decisions',\n",
    "    'Det': 'Determination',\n",
    "    'Dri': 'Dribbling',\n",
    "    'Ecc': 'Eccentricity',\n",
    "    'Fin': 'Finishing',\n",
    "    'Fir': 'First_Touch',\n",
    "    'Fla': 'Flair',\n",
    "    'Fre': 'Free_Kick_Taking',\n",
    "    'Han': 'Handling',\n",
    "    'Hea': 'Heading',\n",
    "    'Jum': 'Jumping_Reach',\n",
    "    'Kic': 'Kicking',\n",
    "    'Ldr': 'Leadership',\n",
    "    'Lon': 'Long_Shots',\n",
    "    'L Th': 'Long_Throws',\n",
    "    'Mar': 'Marking',\n",
    "    'Nat .1': 'Natural_Fitness',\n",
    "    'OtB': 'Off_the_Ball',\n",
    "    '1v1': 'One_on_Ones',\n",
    "    'Pac': 'Pace',\n",
    "    'Pas': 'Passing',\n",
    "    'Pen': 'Penalty_Taking',\n",
    "    'Pos': 'Positioning',\n",
    "    'Pun': 'Punching',\n",
    "    'Ref': 'Reflexes',\n",
    "    'TRO': 'Rushing_Out',\n",
    "    'Sta': 'Stamina',\n",
    "    'Str': 'Strength',\n",
    "    'Tck': 'Tackling',\n",
    "    'Tea': 'Teamwork',\n",
    "    'Tec': 'Technique',\n",
    "    'Thr': 'Throwing',\n",
    "    'Vis': 'Vision',\n",
    "    'Wor': 'Work_Rate'\n",
    "}\n",
    "\n",
    "# new_column_names = {key: value.lower() for key, value in new_column_names.items()}\n",
    "fm_df.rename(columns=new_column_names, inplace=True)"
   ]
  },
  {
   "cell_type": "code",
   "execution_count": null,
   "id": "1098f0d1-a4b5-459d-bfed-8ff0f0e7e1ba",
   "metadata": {},
   "outputs": [],
   "source": [
    "gk_attributes = [ \"Aerial_Reach\",\"Command_of_Area\", \"Communication\",\"Eccentricity\", \"First_Touch\", \"Handling\", \"Kicking\", \"One_on_Ones\", \"Punching\", \"Reflexes\", \"Rushing_Out\", \"Throwing\", \"Passing\" ]\n",
    "fm_attributes = list(new_column_names.values())\n",
    "\n",
    "fm_df[fm_attributes] = (fm_df[fm_attributes] * 4.95).astype(int)"
   ]
  },
  {
   "cell_type": "code",
   "execution_count": null,
   "id": "c29aca8c-49bc-4228-945a-a53ada58ef2f",
   "metadata": {},
   "outputs": [],
   "source": [
    "fm_attributes"
   ]
  },
  {
   "cell_type": "code",
   "execution_count": 712,
   "id": "d8b77fee-c210-4e5a-89c1-923f20ad003b",
   "metadata": {},
   "outputs": [
    {
     "data": {
      "text/plain": [
       "'14/8/1984 (37 years old)'"
      ]
     },
     "execution_count": 712,
     "metadata": {},
     "output_type": "execute_result"
    }
   ],
   "source": [
    "fm_df['DoB'][0]"
   ]
  },
  {
   "cell_type": "code",
   "execution_count": 713,
   "id": "17509ffb-c8e9-43c7-8f23-61339b783dd3",
   "metadata": {},
   "outputs": [],
   "source": [
    "convert_date_format = lambda x: pd.to_datetime(x, format='%d/%m/%Y').strftime('%Y-%m-%d')\n",
    "fm_df['DoB'] = fm_df['DoB'].apply(lambda x: x.split(\" \")[0])\n",
    "fm_df['DoB'] = fm_df['DoB'].apply(convert_date_format)"
   ]
  },
  {
   "cell_type": "code",
   "execution_count": 714,
   "id": "6bc7b14f-9e61-48d1-89f1-8ff4ce444edc",
   "metadata": {},
   "outputs": [
    {
     "data": {
      "text/plain": [
       "'1984-08-14'"
      ]
     },
     "execution_count": 714,
     "metadata": {},
     "output_type": "execute_result"
    }
   ],
   "source": [
    "fm_df['DoB'][0]"
   ]
  },
  {
   "cell_type": "code",
   "execution_count": 715,
   "id": "9c9e2683-1297-43ee-8e6f-711af55a32d5",
   "metadata": {},
   "outputs": [],
   "source": [
    "fm_df['Height'] = fm_df['Height'].apply(lambda x: x.split(\" \")[0])"
   ]
  },
  {
   "cell_type": "code",
   "execution_count": 716,
   "id": "5180869a-dc3c-4d0c-b398-b50387bccbf2",
   "metadata": {},
   "outputs": [],
   "source": [
    "fm_df['Club_id'] = pd.Categorical(fm_df['Club']).codes\n",
    "fm_df['League_id'] = pd.Categorical(fm_df['Division']).codes"
   ]
  },
  {
   "cell_type": "code",
   "execution_count": 717,
   "id": "793142b7-8639-4bd8-890d-7ba2de204c77",
   "metadata": {},
   "outputs": [],
   "source": [
    "fm_df = fm_df[fm_df['Inf'] != 'Yth']"
   ]
  },
  {
   "cell_type": "code",
   "execution_count": 718,
   "id": "716a63c7-25b5-4d24-9031-562ebe055274",
   "metadata": {},
   "outputs": [],
   "source": [
    "fm_df = fm_df.rename(columns={\n",
    "                        \"Best Pos\": \"Best_Pos\",\n",
    "                        \"Best Role\": \"Best_Role\"\n",
    "                    })"
   ]
  },
  {
   "cell_type": "markdown",
   "id": "fbebcd01-8f93-406e-b228-bb22d079946e",
   "metadata": {
    "jp-MarkdownHeadingCollapsed": true
   },
   "source": [
    "<br><br><br><br>\n",
    "# Wage & Tranfer Value"
   ]
  },
  {
   "cell_type": "code",
   "execution_count": 719,
   "id": "1519eb05-1fe1-4657-8253-676674d88555",
   "metadata": {},
   "outputs": [
    {
     "data": {
      "text/plain": [
       "0              0.00\n",
       "1              0.00\n",
       "2         357500.00\n",
       "3         495000.00\n",
       "4         137501.45\n",
       "            ...    \n",
       "189340         0.00\n",
       "189341         0.00\n",
       "189342         0.00\n",
       "189343         0.00\n",
       "189344         0.00\n",
       "Name: Market_Value, Length: 173243, dtype: float64"
      ]
     },
     "execution_count": 719,
     "metadata": {},
     "output_type": "execute_result"
    }
   ],
   "source": [
    "fm_df['Transfer Value'] = fm_df['Transfer Value'].str.replace('€', '')\n",
    "fm_df['Transfer Value'] = fm_df['Transfer Value'].str.replace('M', '000000')\n",
    "fm_df['Transfer Value'] = fm_df['Transfer Value'].str.replace('K', '000')\n",
    "fm_df['Transfer Value'] = fm_df['Transfer Value'].str.replace('Not for Sale', '')\n",
    "fm_df[['Min_Value', 'Max_Value']] = fm_df['Transfer Value'].str.split(' - ', expand=True)\n",
    "fm_df['Min_Value'] = pd.to_numeric(fm_df['Min_Value'])\n",
    "fm_df['Max_Value'] = pd.to_numeric(fm_df['Max_Value'])\n",
    "fm_df['Market_Value'] = (fm_df['Min_Value'] + fm_df['Max_Value']) / 2\n",
    "fm_df['Market_Value'].fillna(0)"
   ]
  },
  {
   "cell_type": "code",
   "execution_count": 721,
   "id": "b42131ea-c7fa-4267-96ad-b3078f58cfc9",
   "metadata": {},
   "outputs": [],
   "source": [
    "wage = fm_df[\"Wage\"]\n",
    "wage = wage.str.replace('N/A', '100')\n",
    "wage = wage.str.replace('-', '100')\n",
    "wage = wage.str.replace('€', '').str.replace('p/m', '').str.replace(',','')\n",
    "wage = pd.to_numeric(wage)\n",
    "wage = wage.astype(int)\n",
    "fm_df[\"Wage\"] = wage"
   ]
  },
  {
   "cell_type": "markdown",
   "id": "90558b33-670a-4533-ae16-b333e2de0803",
   "metadata": {
    "jp-MarkdownHeadingCollapsed": true
   },
   "source": [
    "<br><br><br><br>\n",
    "# Merged_DF"
   ]
  },
  {
   "cell_type": "code",
   "execution_count": 725,
   "id": "147c272d-50a6-4336-b34a-038d3231736b",
   "metadata": {},
   "outputs": [],
   "source": [
    "selected_leagues = ['English Premier Division',\n",
    " 'Ligue 1 Uber Eats',\n",
    " 'Spanish First Division',\n",
    " 'Bundesliga',\n",
    " 'Italian Serie A',\n",
    " 'Eredivisie',\n",
    " 'Portuguese Premier League',\n",
    " 'Turkish Super League']"
   ]
  },
  {
   "cell_type": "code",
   "execution_count": 726,
   "id": "c30c88f8-7cc0-4985-be9f-82332d0148c4",
   "metadata": {
    "scrolled": true
   },
   "outputs": [],
   "source": [
    "fm_df = fm_df[fm_df.Division.isin(selected_leagues)]"
   ]
  },
  {
   "cell_type": "code",
   "execution_count": 727,
   "id": "89566db5-d2b9-47fc-a223-51b64194a834",
   "metadata": {},
   "outputs": [
    {
     "name": "stdout",
     "output_type": "stream",
     "text": [
      "English Premier Division ------ 20\n",
      "Ligue 1 Uber Eats ------ 20\n",
      "Spanish First Division ------ 20\n",
      "Bundesliga ------ 18\n",
      "Italian Serie A ------ 20\n",
      "Eredivisie ------ 18\n",
      "Portuguese Premier League ------ 18\n",
      "Turkish Super League ------ 19\n"
     ]
    }
   ],
   "source": [
    "for leg in selected_leagues:\n",
    "    q = fm_df.query(f\"Division == '{leg}'\")[\"Club\"].value_counts()\n",
    "    print(leg , \"------\", len(q.to_list()))"
   ]
  },
  {
   "cell_type": "code",
   "execution_count": 728,
   "id": "5a9f6d02-0fed-4066-b4e3-7416d6a16784",
   "metadata": {},
   "outputs": [
    {
     "data": {
      "text/plain": [
       "Club\n",
       "Kayserispor         41\n",
       "Beşiktaş            41\n",
       "Trabzonspor         40\n",
       "Adana D.S.          39\n",
       "Fenerbahçe          37\n",
       "Ankaragücü          37\n",
       "İstanbulspor        36\n",
       "Galatasaray         35\n",
       "Hatayspor           35\n",
       "Kasımpaşa           35\n",
       "Antalyaspor         34\n",
       "Alanyaspor          34\n",
       "Başakşehir FK       34\n",
       "Sivasspor           33\n",
       "Giresunspor         33\n",
       "Gaziantep FK        32\n",
       "Fatih Karagümrük    32\n",
       "Ümraniyespor        32\n",
       "Konyaspor           31\n",
       "Name: count, dtype: int64"
      ]
     },
     "execution_count": 728,
     "metadata": {},
     "output_type": "execute_result"
    }
   ],
   "source": [
    "fm_df.query(f\"Division == 'Turkish Super League'\")[\"Club\"].value_counts()"
   ]
  },
  {
   "cell_type": "code",
   "execution_count": 729,
   "id": "573fb841-51e8-410c-aecb-6468ee533441",
   "metadata": {},
   "outputs": [],
   "source": [
    "# fm_df.query(f\"Club == 'Adana D.S.'\").head()"
   ]
  },
  {
   "cell_type": "markdown",
   "id": "10227078-13b9-4654-8286-59190778b9c4",
   "metadata": {
    "jp-MarkdownHeadingCollapsed": true
   },
   "source": [
    "<br><br><br><br>\n",
    "# Team Names Converter from fminside.com"
   ]
  },
  {
   "cell_type": "code",
   "execution_count": 730,
   "id": "4868ea6d-3c28-4be0-8b7c-d2b0fc8fc7e1",
   "metadata": {},
   "outputs": [],
   "source": [
    "url_df = fm_df.drop_duplicates(subset=[\"Club\"], keep=\"first\")\n",
    "url_df.loc[:, 'UID'] = url_df['UID'].apply(lambda text: str(text))\n",
    "url_df = url_df[[\"Club\", \"UID\"]]"
   ]
  },
  {
   "cell_type": "code",
   "execution_count": 731,
   "id": "70aa000c-2b3b-4f51-8a55-92031c9f0d46",
   "metadata": {},
   "outputs": [],
   "source": [
    "def Player_to_URL(player_id):\n",
    "    slug = player_id + \"-x-x\"\n",
    "    return f\"https://fminside.net/players/3-fm-23/{slug}\""
   ]
  },
  {
   "cell_type": "code",
   "execution_count": 732,
   "id": "f238ccb6-e02f-4954-8641-612e82532ed4",
   "metadata": {},
   "outputs": [],
   "source": [
    "def Convert_Team_Name_From_URL(player_id, club):\n",
    "    url = Player_to_URL(player_id)\n",
    "    req = requests.get(url)\n",
    "    html = req.content\n",
    "    soup = BeautifulSoup(html, \"lxml\")\n",
    "    club_name_element = soup.find('div', class_='meta').find('ul').find_all('li')[0].text\n",
    "    club_name = club_name_element.strip()\n",
    "    return {\"fm\":club,\"normal\":club_name}"
   ]
  },
  {
   "cell_type": "code",
   "execution_count": 733,
   "id": "7754a241-968a-484d-b516-ab0f05dfe7f7",
   "metadata": {},
   "outputs": [],
   "source": [
    "team_mapping_array = []\n",
    "raw_names = url_df.to_dict()\n",
    "uids = url_df[\"UID\"]\n",
    "clubs = url_df[\"Club\"]\n",
    "clubs_array = clubs.to_list()"
   ]
  },
  {
   "cell_type": "code",
   "execution_count": 734,
   "id": "db05b9c5-e7b1-4da3-ba84-a3b58257a10d",
   "metadata": {
    "scrolled": true
   },
   "outputs": [],
   "source": [
    "# for uid,club in zip(uids,clubs):\n",
    "#     new_entry = Convert_Team_Name_From_URL(uid, club)\n",
    "#     print(new_entry)\n",
    "#     team_mapping_array.append(new_entry)"
   ]
  },
  {
   "cell_type": "code",
   "execution_count": 735,
   "id": "beafa194-d170-487e-b711-f0f059666007",
   "metadata": {},
   "outputs": [
    {
     "data": {
      "text/html": [
       "<div>\n",
       "<style scoped>\n",
       "    .dataframe tbody tr th:only-of-type {\n",
       "        vertical-align: middle;\n",
       "    }\n",
       "\n",
       "    .dataframe tbody tr th {\n",
       "        vertical-align: top;\n",
       "    }\n",
       "\n",
       "    .dataframe thead th {\n",
       "        text-align: right;\n",
       "    }\n",
       "</style>\n",
       "<table border=\"1\" class=\"dataframe\">\n",
       "  <thead>\n",
       "    <tr style=\"text-align: right;\">\n",
       "      <th></th>\n",
       "      <th>UID</th>\n",
       "      <th>Inf</th>\n",
       "      <th>Name</th>\n",
       "      <th>DoB</th>\n",
       "      <th>Nat</th>\n",
       "      <th>Division</th>\n",
       "      <th>Club</th>\n",
       "      <th>Based</th>\n",
       "      <th>Preferred Foot</th>\n",
       "      <th>Right Foot</th>\n",
       "      <th>...</th>\n",
       "      <th>Teamwork</th>\n",
       "      <th>Technique</th>\n",
       "      <th>Throwing</th>\n",
       "      <th>Vision</th>\n",
       "      <th>Work_Rate</th>\n",
       "      <th>Club_id</th>\n",
       "      <th>League_id</th>\n",
       "      <th>Min_Value</th>\n",
       "      <th>Max_Value</th>\n",
       "      <th>Market_Value</th>\n",
       "    </tr>\n",
       "  </thead>\n",
       "  <tbody>\n",
       "    <tr>\n",
       "      <th>42332</th>\n",
       "      <td>92039023</td>\n",
       "      <td></td>\n",
       "      <td>Joshua Kimmich</td>\n",
       "      <td>1995-02-08</td>\n",
       "      <td>GER</td>\n",
       "      <td>Bundesliga</td>\n",
       "      <td>FC Bayern</td>\n",
       "      <td>Germany (Bundesliga)</td>\n",
       "      <td>Right</td>\n",
       "      <td>Very Strong</td>\n",
       "      <td>...</td>\n",
       "      <td>84</td>\n",
       "      <td>79</td>\n",
       "      <td>4</td>\n",
       "      <td>89</td>\n",
       "      <td>94</td>\n",
       "      <td>3704</td>\n",
       "      <td>185</td>\n",
       "      <td>96000000.0</td>\n",
       "      <td>119000000.0</td>\n",
       "      <td>107500000.0</td>\n",
       "    </tr>\n",
       "  </tbody>\n",
       "</table>\n",
       "<p>1 rows × 79 columns</p>\n",
       "</div>"
      ],
      "text/plain": [
       "            UID Inf            Name         DoB  Nat    Division       Club  \\\n",
       "42332  92039023      Joshua Kimmich  1995-02-08  GER  Bundesliga  FC Bayern   \n",
       "\n",
       "                      Based Preferred Foot   Right Foot  ... Teamwork  \\\n",
       "42332  Germany (Bundesliga)          Right  Very Strong  ...       84   \n",
       "\n",
       "      Technique Throwing Vision  Work_Rate Club_id  League_id   Min_Value  \\\n",
       "42332        79        4     89         94    3704        185  96000000.0   \n",
       "\n",
       "         Max_Value Market_Value  \n",
       "42332  119000000.0  107500000.0  \n",
       "\n",
       "[1 rows x 79 columns]"
      ]
     },
     "execution_count": 735,
     "metadata": {},
     "output_type": "execute_result"
    }
   ],
   "source": [
    "fm_df.query(\"Name == 'Joshua Kimmich'\")"
   ]
  },
  {
   "cell_type": "code",
   "execution_count": 736,
   "id": "aba18a00-4882-4ee8-b852-51e0b6462ac9",
   "metadata": {},
   "outputs": [],
   "source": [
    "fminside_normal_names = pd.read_csv(\"players_db/fm23/fminside_team_names.csv\")\n",
    "# merged_df = pd.merge(fm_df, fminside_normal_names, how='inner', left_on='Club', right_on='fm')\n",
    "# merged_df['Club'] = merged_df['normal'].where(merged_df['Club'] == merged_df['fm'], merged_df['Club'])\n",
    "# # merged_df.drop(['fm', 'normal'], axis=1, inplace=True)\n",
    "# merged_df = merged_df[merged_df.fm.isin(clubs_array)]"
   ]
  },
  {
   "cell_type": "code",
   "execution_count": 737,
   "id": "423c89ae-f166-4e36-8d28-33fbaa822bdf",
   "metadata": {},
   "outputs": [],
   "source": [
    "fminside_club_names = []\n",
    "for index, row in fminside_normal_names.iterrows():\n",
    "  x_fm = row[\"fm\"]\n",
    "  x_normal = row[\"normal\"]\n",
    "  club_dict = {\"fm\": x_fm, \"normal\": x_normal}\n",
    "  fminside_club_names.append(club_dict)"
   ]
  },
  {
   "cell_type": "code",
   "execution_count": 738,
   "id": "b3a523eb-f714-44df-b36d-f8db752508f0",
   "metadata": {},
   "outputs": [],
   "source": [
    "def Rename_Club(club_name):\n",
    "    matched_club = \"\"\n",
    "    for f in fminside_club_names:\n",
    "        if f[\"fm\"] == club_name:\n",
    "            return f[\"normal\"]"
   ]
  },
  {
   "cell_type": "code",
   "execution_count": 739,
   "id": "a50180cd-0010-4039-98bc-d60a433e4efb",
   "metadata": {},
   "outputs": [],
   "source": [
    "fm_df['Club'] = fm_df[\"Club\"].apply(lambda x: Rename_Club(x))"
   ]
  },
  {
   "cell_type": "code",
   "execution_count": 740,
   "id": "2388d1ab-806e-4e95-9335-61f1ee069e31",
   "metadata": {},
   "outputs": [
    {
     "data": {
      "text/html": [
       "<div>\n",
       "<style scoped>\n",
       "    .dataframe tbody tr th:only-of-type {\n",
       "        vertical-align: middle;\n",
       "    }\n",
       "\n",
       "    .dataframe tbody tr th {\n",
       "        vertical-align: top;\n",
       "    }\n",
       "\n",
       "    .dataframe thead th {\n",
       "        text-align: right;\n",
       "    }\n",
       "</style>\n",
       "<table border=\"1\" class=\"dataframe\">\n",
       "  <thead>\n",
       "    <tr style=\"text-align: right;\">\n",
       "      <th></th>\n",
       "      <th>UID</th>\n",
       "      <th>Inf</th>\n",
       "      <th>Name</th>\n",
       "      <th>DoB</th>\n",
       "      <th>Nat</th>\n",
       "      <th>Division</th>\n",
       "      <th>Club</th>\n",
       "      <th>Based</th>\n",
       "      <th>Preferred Foot</th>\n",
       "      <th>Right Foot</th>\n",
       "      <th>...</th>\n",
       "      <th>Teamwork</th>\n",
       "      <th>Technique</th>\n",
       "      <th>Throwing</th>\n",
       "      <th>Vision</th>\n",
       "      <th>Work_Rate</th>\n",
       "      <th>Club_id</th>\n",
       "      <th>League_id</th>\n",
       "      <th>Min_Value</th>\n",
       "      <th>Max_Value</th>\n",
       "      <th>Market_Value</th>\n",
       "    </tr>\n",
       "  </thead>\n",
       "  <tbody>\n",
       "    <tr>\n",
       "      <th>42332</th>\n",
       "      <td>92039023</td>\n",
       "      <td></td>\n",
       "      <td>Joshua Kimmich</td>\n",
       "      <td>1995-02-08</td>\n",
       "      <td>GER</td>\n",
       "      <td>Bundesliga</td>\n",
       "      <td>FC Bayern</td>\n",
       "      <td>Germany (Bundesliga)</td>\n",
       "      <td>Right</td>\n",
       "      <td>Very Strong</td>\n",
       "      <td>...</td>\n",
       "      <td>84</td>\n",
       "      <td>79</td>\n",
       "      <td>4</td>\n",
       "      <td>89</td>\n",
       "      <td>94</td>\n",
       "      <td>3704</td>\n",
       "      <td>185</td>\n",
       "      <td>96000000.0</td>\n",
       "      <td>119000000.0</td>\n",
       "      <td>107500000.0</td>\n",
       "    </tr>\n",
       "  </tbody>\n",
       "</table>\n",
       "<p>1 rows × 79 columns</p>\n",
       "</div>"
      ],
      "text/plain": [
       "            UID Inf            Name         DoB  Nat    Division       Club  \\\n",
       "42332  92039023      Joshua Kimmich  1995-02-08  GER  Bundesliga  FC Bayern   \n",
       "\n",
       "                      Based Preferred Foot   Right Foot  ... Teamwork  \\\n",
       "42332  Germany (Bundesliga)          Right  Very Strong  ...       84   \n",
       "\n",
       "      Technique Throwing Vision  Work_Rate Club_id  League_id   Min_Value  \\\n",
       "42332        79        4     89         94    3704        185  96000000.0   \n",
       "\n",
       "         Max_Value Market_Value  \n",
       "42332  119000000.0  107500000.0  \n",
       "\n",
       "[1 rows x 79 columns]"
      ]
     },
     "execution_count": 740,
     "metadata": {},
     "output_type": "execute_result"
    }
   ],
   "source": [
    "fm_df.query(\"Name == 'Joshua Kimmich'\")"
   ]
  },
  {
   "cell_type": "markdown",
   "id": "040246f4-f50f-4a63-a364-85bb3b514bb1",
   "metadata": {
    "jp-MarkdownHeadingCollapsed": true
   },
   "source": [
    "<br><br><br><br>\n",
    "# Position Styling"
   ]
  },
  {
   "cell_type": "code",
   "execution_count": 741,
   "id": "ca2e89e8-20e2-4f4e-a4eb-b78b203a16fa",
   "metadata": {},
   "outputs": [],
   "source": [
    "position_mapping = {\n",
    "    'M (C)': 'MC',\n",
    "    'D (C)': 'DC',\n",
    "    'GK': 'GK',\n",
    "    'ST (C)': 'ST',\n",
    "    'AM (L)': 'AML',\n",
    "    'AM (R)': 'AMR',\n",
    "    'D (R)': 'DR',\n",
    "    'D (L)': 'DL',\n",
    "    'DM': 'DM',\n",
    "    'AM (C)': 'AMC',\n",
    "    'M (L)': 'ML',\n",
    "    'M (R)': 'MR',\n",
    "    'WB (L)': 'WBL',\n",
    "    'WB (R)': 'WBR'\n",
    "}"
   ]
  },
  {
   "cell_type": "code",
   "execution_count": 742,
   "id": "3fc5f547-604a-4b71-8993-e9083cb677b6",
   "metadata": {},
   "outputs": [],
   "source": [
    "def remove_parentheses(text):\n",
    "    return text.replace(\"(\", \"\").replace(\")\", \"\")"
   ]
  },
  {
   "cell_type": "code",
   "execution_count": 743,
   "id": "96f4ddaa-08c8-4aba-8c09-5be5b2245690",
   "metadata": {},
   "outputs": [],
   "source": [
    "def pos_map(position):\n",
    "    return position_mapping[position]"
   ]
  },
  {
   "cell_type": "code",
   "execution_count": 744,
   "id": "a41e240c-49c9-427f-b7f5-73b4ada10fb2",
   "metadata": {},
   "outputs": [
    {
     "data": {
      "text/plain": [
       "Best_Pos\n",
       "M (C)     977\n",
       "D (C)     938\n",
       "AM (L)    738\n",
       "GK        704\n",
       "ST (C)    648\n",
       "AM (R)    555\n",
       "D (R)     521\n",
       "D (L)     475\n",
       "DM        388\n",
       "AM (C)    180\n",
       "M (L)     130\n",
       "M (R)     116\n",
       "WB (R)     29\n",
       "WB (L)     23\n",
       "Name: count, dtype: int64"
      ]
     },
     "execution_count": 744,
     "metadata": {},
     "output_type": "execute_result"
    }
   ],
   "source": [
    "fm_df['Best_Pos'].value_counts()"
   ]
  },
  {
   "cell_type": "code",
   "execution_count": 745,
   "id": "f2334538-ffc9-48bf-95b7-9ae0bea5fcb6",
   "metadata": {},
   "outputs": [
    {
     "data": {
      "text/plain": [
       "Position\n",
       "D (C)                    749\n",
       "GK                       704\n",
       "DM, M (C)                600\n",
       "ST (C)                   519\n",
       "M/AM (C)                 279\n",
       "                        ... \n",
       "D (R), WB/M (RL)           1\n",
       "D (R), WB (RL), M (R)      1\n",
       "D (RLC), WB/M (R)          1\n",
       "WB/M (RL)                  1\n",
       "D/AM (R)                   1\n",
       "Name: count, Length: 224, dtype: int64"
      ]
     },
     "execution_count": 745,
     "metadata": {},
     "output_type": "execute_result"
    }
   ],
   "source": [
    "fm_df['Position'].value_counts()"
   ]
  },
  {
   "cell_type": "code",
   "execution_count": 746,
   "id": "b5f99125-4959-47f9-a7fb-26089419a929",
   "metadata": {},
   "outputs": [],
   "source": [
    "def Multiple_Position_Beautifier(position_value):\n",
    "    x = \"\"\n",
    "    positions = position_value.split(\",\")\n",
    "    for p in positions:\n",
    "        p = p.strip()\n",
    "        if p in position_mapping.keys():\n",
    "            x += f\"{position_mapping[p]},\"\n",
    "        elif \"/\" in p:\n",
    "            slashed = p.split(\" \")\n",
    "            locations = slashed[0].split(\"/\")\n",
    "            sides = list(remove_parentheses(slashed[1]))\n",
    "            for loc in locations:\n",
    "                for side in sides:\n",
    "                    splitted_pos = loc+side\n",
    "                    x += f\"{splitted_pos},\"\n",
    "        else:\n",
    "            slashed = p.split(\" \")\n",
    "            loc = slashed[0]\n",
    "            sides = list(remove_parentheses(slashed[1]))\n",
    "            for side in sides:\n",
    "                splitted_pos = loc+side\n",
    "                x += f\"{splitted_pos},\"\n",
    "    return x[:-1]"
   ]
  },
  {
   "cell_type": "code",
   "execution_count": 747,
   "id": "aca27f45-bbb1-439d-a6d6-3aa4f91c072c",
   "metadata": {},
   "outputs": [],
   "source": [
    "fm_df['Position'] = fm_df['Position'].apply(lambda row: Multiple_Position_Beautifier(row))\n",
    "fm_df['Best_Pos'] = fm_df['Best_Pos'].apply(lambda row: Multiple_Position_Beautifier(row))\n",
    "\n",
    "# Player Role\n",
    "fm_df[\"Player_Role\"] = fm_df[\"Best_Pos\"] + \"_\" + fm_df[\"Best_Role\"]"
   ]
  },
  {
   "cell_type": "code",
   "execution_count": 748,
   "id": "1a422ea0-6f34-4ad9-a34f-93f73f47bc01",
   "metadata": {},
   "outputs": [],
   "source": [
    "position_order = ['GK', 'WBR', 'DR', 'DC', 'DL', 'WBL', 'DM',  \n",
    "                  'MC', 'MR', 'AMC', 'ML', 'AMR', 'ST', 'AML']\n",
    "def get_position_rank(position):\n",
    "    return position_order.index(position) if position in position_order else len(position_order)\n",
    "fm_df['Pos_Rank'] = fm_df['Best_Pos'].apply(get_position_rank)"
   ]
  },
  {
   "cell_type": "code",
   "execution_count": 749,
   "id": "1c465b7c-8695-4ce6-8d97-295f745bd1f5",
   "metadata": {},
   "outputs": [
    {
     "data": {
      "text/html": [
       "<div>\n",
       "<style scoped>\n",
       "    .dataframe tbody tr th:only-of-type {\n",
       "        vertical-align: middle;\n",
       "    }\n",
       "\n",
       "    .dataframe tbody tr th {\n",
       "        vertical-align: top;\n",
       "    }\n",
       "\n",
       "    .dataframe thead th {\n",
       "        text-align: right;\n",
       "    }\n",
       "</style>\n",
       "<table border=\"1\" class=\"dataframe\">\n",
       "  <thead>\n",
       "    <tr style=\"text-align: right;\">\n",
       "      <th></th>\n",
       "      <th>Best_Pos</th>\n",
       "    </tr>\n",
       "  </thead>\n",
       "  <tbody>\n",
       "    <tr>\n",
       "      <th>168395</th>\n",
       "      <td>DC</td>\n",
       "    </tr>\n",
       "    <tr>\n",
       "      <th>168409</th>\n",
       "      <td>DC</td>\n",
       "    </tr>\n",
       "    <tr>\n",
       "      <th>168573</th>\n",
       "      <td>AML</td>\n",
       "    </tr>\n",
       "    <tr>\n",
       "      <th>168584</th>\n",
       "      <td>ST</td>\n",
       "    </tr>\n",
       "    <tr>\n",
       "      <th>168616</th>\n",
       "      <td>AML</td>\n",
       "    </tr>\n",
       "    <tr>\n",
       "      <th>168825</th>\n",
       "      <td>AML</td>\n",
       "    </tr>\n",
       "    <tr>\n",
       "      <th>169038</th>\n",
       "      <td>AMR</td>\n",
       "    </tr>\n",
       "    <tr>\n",
       "      <th>169074</th>\n",
       "      <td>GK</td>\n",
       "    </tr>\n",
       "    <tr>\n",
       "      <th>169161</th>\n",
       "      <td>MC</td>\n",
       "    </tr>\n",
       "    <tr>\n",
       "      <th>169202</th>\n",
       "      <td>ML</td>\n",
       "    </tr>\n",
       "    <tr>\n",
       "      <th>169207</th>\n",
       "      <td>AMC</td>\n",
       "    </tr>\n",
       "    <tr>\n",
       "      <th>169215</th>\n",
       "      <td>DR</td>\n",
       "    </tr>\n",
       "    <tr>\n",
       "      <th>169352</th>\n",
       "      <td>ST</td>\n",
       "    </tr>\n",
       "    <tr>\n",
       "      <th>169530</th>\n",
       "      <td>AML</td>\n",
       "    </tr>\n",
       "    <tr>\n",
       "      <th>169540</th>\n",
       "      <td>AML</td>\n",
       "    </tr>\n",
       "    <tr>\n",
       "      <th>169732</th>\n",
       "      <td>MC</td>\n",
       "    </tr>\n",
       "    <tr>\n",
       "      <th>169971</th>\n",
       "      <td>DM</td>\n",
       "    </tr>\n",
       "    <tr>\n",
       "      <th>170215</th>\n",
       "      <td>DL</td>\n",
       "    </tr>\n",
       "    <tr>\n",
       "      <th>170250</th>\n",
       "      <td>AMR</td>\n",
       "    </tr>\n",
       "    <tr>\n",
       "      <th>170287</th>\n",
       "      <td>AMR</td>\n",
       "    </tr>\n",
       "    <tr>\n",
       "      <th>170296</th>\n",
       "      <td>WBR</td>\n",
       "    </tr>\n",
       "    <tr>\n",
       "      <th>170327</th>\n",
       "      <td>ST</td>\n",
       "    </tr>\n",
       "    <tr>\n",
       "      <th>171625</th>\n",
       "      <td>MC</td>\n",
       "    </tr>\n",
       "    <tr>\n",
       "      <th>173209</th>\n",
       "      <td>GK</td>\n",
       "    </tr>\n",
       "    <tr>\n",
       "      <th>173950</th>\n",
       "      <td>AMR</td>\n",
       "    </tr>\n",
       "    <tr>\n",
       "      <th>177476</th>\n",
       "      <td>AMR</td>\n",
       "    </tr>\n",
       "    <tr>\n",
       "      <th>178013</th>\n",
       "      <td>DC</td>\n",
       "    </tr>\n",
       "    <tr>\n",
       "      <th>183728</th>\n",
       "      <td>DC</td>\n",
       "    </tr>\n",
       "  </tbody>\n",
       "</table>\n",
       "</div>"
      ],
      "text/plain": [
       "       Best_Pos\n",
       "168395       DC\n",
       "168409       DC\n",
       "168573      AML\n",
       "168584       ST\n",
       "168616      AML\n",
       "168825      AML\n",
       "169038      AMR\n",
       "169074       GK\n",
       "169161       MC\n",
       "169202       ML\n",
       "169207      AMC\n",
       "169215       DR\n",
       "169352       ST\n",
       "169530      AML\n",
       "169540      AML\n",
       "169732       MC\n",
       "169971       DM\n",
       "170215       DL\n",
       "170250      AMR\n",
       "170287      AMR\n",
       "170296      WBR\n",
       "170327       ST\n",
       "171625       MC\n",
       "173209       GK\n",
       "173950      AMR\n",
       "177476      AMR\n",
       "178013       DC\n",
       "183728       DC"
      ]
     },
     "execution_count": 749,
     "metadata": {},
     "output_type": "execute_result"
    }
   ],
   "source": [
    "fm_df.query(\"Club == 'Chaves'\")[[\"Best_Pos\"]]"
   ]
  },
  {
   "cell_type": "code",
   "execution_count": 750,
   "id": "ccba24ff-3403-48a2-acad-58c736b89da9",
   "metadata": {},
   "outputs": [
    {
     "data": {
      "text/plain": [
       "Position\n",
       "DC                  749\n",
       "GK                  704\n",
       "DM,MC               600\n",
       "ST                  519\n",
       "MC,AMC              279\n",
       "                   ... \n",
       "DR,WBR,WBL,MR,ML      1\n",
       "DR,WBR,WBL,MR         1\n",
       "DR,DL,DC,WBR,MR       1\n",
       "WBR,WBL,MR,ML         1\n",
       "DR,AMR                1\n",
       "Name: count, Length: 224, dtype: int64"
      ]
     },
     "execution_count": 750,
     "metadata": {},
     "output_type": "execute_result"
    }
   ],
   "source": [
    "fm_df['Position'].value_counts()"
   ]
  },
  {
   "cell_type": "code",
   "execution_count": 751,
   "id": "9049057c-319b-4e38-aa0c-5175e8f0b3e9",
   "metadata": {},
   "outputs": [
    {
     "data": {
      "text/plain": [
       "Best_Pos\n",
       "MC     977\n",
       "DC     938\n",
       "AML    738\n",
       "GK     704\n",
       "ST     648\n",
       "AMR    555\n",
       "DR     521\n",
       "DL     475\n",
       "DM     388\n",
       "AMC    180\n",
       "ML     130\n",
       "MR     116\n",
       "WBR     29\n",
       "WBL     23\n",
       "Name: count, dtype: int64"
      ]
     },
     "execution_count": 751,
     "metadata": {},
     "output_type": "execute_result"
    }
   ],
   "source": [
    "fm_df['Best_Pos'].value_counts()"
   ]
  },
  {
   "cell_type": "markdown",
   "id": "d131b8b4-48a3-437b-ae14-dfa1b3f3893a",
   "metadata": {
    "jp-MarkdownHeadingCollapsed": true
   },
   "source": [
    "<br><br><br><br>\n",
    "# Players' Overall (GK Only)"
   ]
  },
  {
   "cell_type": "code",
   "execution_count": 752,
   "id": "833e814b-8559-4485-8b8d-f5d6495c5ea1",
   "metadata": {},
   "outputs": [],
   "source": [
    "def Dict_Generator(attrs):\n",
    "    weights = (len(attrs)*\"0.1,\").split(\",\")[:-1]\n",
    "    return {key: float(weights[i]) for i, key in enumerate(attrs)}"
   ]
  },
  {
   "cell_type": "markdown",
   "id": "deae1ba9-ee19-4b3b-99d9-aacfee6098a7",
   "metadata": {},
   "source": [
    "<h3 style=\"color:orange;\">  Keeper</h3>"
   ]
  },
  {
   "cell_type": "code",
   "execution_count": 753,
   "id": "99457f3f-42f2-4352-8164-ef6b2b26b6f8",
   "metadata": {},
   "outputs": [
    {
     "data": {
      "text/html": [
       "<div>\n",
       "<style scoped>\n",
       "    .dataframe tbody tr th:only-of-type {\n",
       "        vertical-align: middle;\n",
       "    }\n",
       "\n",
       "    .dataframe tbody tr th {\n",
       "        vertical-align: top;\n",
       "    }\n",
       "\n",
       "    .dataframe thead th {\n",
       "        text-align: right;\n",
       "    }\n",
       "</style>\n",
       "<table border=\"1\" class=\"dataframe\">\n",
       "  <thead>\n",
       "    <tr style=\"text-align: right;\">\n",
       "      <th></th>\n",
       "      <th>Name</th>\n",
       "      <th>gk</th>\n",
       "    </tr>\n",
       "  </thead>\n",
       "  <tbody>\n",
       "    <tr>\n",
       "      <th>42335</th>\n",
       "      <td>Manuel Neuer</td>\n",
       "      <td>75</td>\n",
       "    </tr>\n",
       "    <tr>\n",
       "      <th>167966</th>\n",
       "      <td>Marc-André ter Stegen</td>\n",
       "      <td>74</td>\n",
       "    </tr>\n",
       "    <tr>\n",
       "      <th>151645</th>\n",
       "      <td>Ederson</td>\n",
       "      <td>72</td>\n",
       "    </tr>\n",
       "    <tr>\n",
       "      <th>151647</th>\n",
       "      <td>Alisson</td>\n",
       "      <td>72</td>\n",
       "    </tr>\n",
       "    <tr>\n",
       "      <th>167963</th>\n",
       "      <td>Jan Oblak</td>\n",
       "      <td>69</td>\n",
       "    </tr>\n",
       "  </tbody>\n",
       "</table>\n",
       "</div>"
      ],
      "text/plain": [
       "                         Name  gk\n",
       "42335            Manuel Neuer  75\n",
       "167966  Marc-André ter Stegen  74\n",
       "151645                Ederson  72\n",
       "151647                Alisson  72\n",
       "167963              Jan Oblak  69"
      ]
     },
     "execution_count": 753,
     "metadata": {},
     "output_type": "execute_result"
    }
   ],
   "source": [
    "current_ability = \"gk\"\n",
    "fm_df[current_ability] = fm_df[gk_attributes].mean(axis=1).astype(int)\n",
    "fm_df[[\"Name\", current_ability]].sort_values(current_ability, ascending=False).head()"
   ]
  },
  {
   "cell_type": "markdown",
   "id": "6f086ca8-3eca-4b0f-892f-d44803f0fe7c",
   "metadata": {
    "jp-MarkdownHeadingCollapsed": true
   },
   "source": [
    "<br><br><br><br>\n",
    "<h1 style=\"color:red;\">  🥽TPR</h1>"
   ]
  },
  {
   "cell_type": "markdown",
   "id": "3e2460e0-9c4b-426f-92f3-3e7f886dd814",
   "metadata": {},
   "source": [
    "<h3 style=\"color:aqua;\">  Reputation</h3>"
   ]
  },
  {
   "cell_type": "code",
   "execution_count": 754,
   "id": "9b4bb9eb-46ee-479a-9732-c3f9615d61f9",
   "metadata": {},
   "outputs": [
    {
     "data": {
      "text/plain": [
       "(6422, 82)"
      ]
     },
     "execution_count": 754,
     "metadata": {},
     "output_type": "execute_result"
    }
   ],
   "source": [
    "fm_df.shape"
   ]
  },
  {
   "cell_type": "code",
   "execution_count": 755,
   "id": "1a273fc2-ad93-40af-ba2f-91d013a1a0f9",
   "metadata": {},
   "outputs": [],
   "source": [
    "platinum_df = pd.read_csv('players_db/fm23/platinum22_fm23data.csv')[[\"Name\",\"UID\",\"Current reputation\",\"Salary\",\"Values\"]]\n",
    "inside_df = pd.read_csv('players_db/fm23/fm22_players_fminside.csv')[[\"Name\",\"Unique_ID\",\"Ability\"]]\n",
    "\n",
    "rep_df = pd.merge(fm_df, platinum_df, how='left', left_on='UID', right_on='UID', suffixes=('', '_PLAT'))\n",
    "rep_df[\"Current reputation\"].fillna(0, inplace=True)"
   ]
  },
  {
   "cell_type": "code",
   "execution_count": 756,
   "id": "14186f93-0409-410b-89ac-d4ba90e1079c",
   "metadata": {},
   "outputs": [
    {
     "data": {
      "text/plain": [
       "(6422, 86)"
      ]
     },
     "execution_count": 756,
     "metadata": {},
     "output_type": "execute_result"
    }
   ],
   "source": [
    "rep_df.shape"
   ]
  },
  {
   "cell_type": "code",
   "execution_count": 757,
   "id": "49aa6d28-ba6c-4020-a936-0965eee77453",
   "metadata": {},
   "outputs": [],
   "source": [
    "rep_df = pd.merge(inside_df, platinum_df, how='left', left_on='Unique_ID', right_on='UID', suffixes=('', '_PLAT'))"
   ]
  },
  {
   "cell_type": "code",
   "execution_count": 758,
   "id": "a176129e-4c07-44bb-a7d3-ff162a262727",
   "metadata": {},
   "outputs": [
    {
     "data": {
      "text/plain": [
       "62.37965260545906"
      ]
     },
     "execution_count": 758,
     "metadata": {},
     "output_type": "execute_result"
    }
   ],
   "source": [
    "filtered_df = rep_df[(rep_df['Current reputation'] == 6000) | (rep_df['Current reputation'] == 7000)]\n",
    "filtered_df['Ability'].mean()"
   ]
  },
  {
   "cell_type": "code",
   "execution_count": 759,
   "id": "832a5de3-4e81-473b-8eaf-e2d5e20d3451",
   "metadata": {},
   "outputs": [
    {
     "data": {
      "text/html": [
       "<div>\n",
       "<style scoped>\n",
       "    .dataframe tbody tr th:only-of-type {\n",
       "        vertical-align: middle;\n",
       "    }\n",
       "\n",
       "    .dataframe tbody tr th {\n",
       "        vertical-align: top;\n",
       "    }\n",
       "\n",
       "    .dataframe thead th {\n",
       "        text-align: right;\n",
       "    }\n",
       "</style>\n",
       "<table border=\"1\" class=\"dataframe\">\n",
       "  <thead>\n",
       "    <tr style=\"text-align: right;\">\n",
       "      <th></th>\n",
       "      <th>Name</th>\n",
       "      <th>Unique_ID</th>\n",
       "      <th>Ability</th>\n",
       "      <th>Name_PLAT</th>\n",
       "      <th>UID</th>\n",
       "      <th>Current reputation</th>\n",
       "      <th>Salary</th>\n",
       "      <th>Values</th>\n",
       "    </tr>\n",
       "  </thead>\n",
       "  <tbody>\n",
       "    <tr>\n",
       "      <th>1334</th>\n",
       "      <td>Mason Holgate</td>\n",
       "      <td>29128167.0</td>\n",
       "      <td>67.0</td>\n",
       "      <td>Mason Holgate</td>\n",
       "      <td>29128167.0</td>\n",
       "      <td>6497.0</td>\n",
       "      <td>84094.0</td>\n",
       "      <td>13261934.0</td>\n",
       "    </tr>\n",
       "  </tbody>\n",
       "</table>\n",
       "</div>"
      ],
      "text/plain": [
       "               Name   Unique_ID  Ability      Name_PLAT         UID  \\\n",
       "1334  Mason Holgate  29128167.0     67.0  Mason Holgate  29128167.0   \n",
       "\n",
       "      Current reputation   Salary      Values  \n",
       "1334              6497.0  84094.0  13261934.0  "
      ]
     },
     "execution_count": 759,
     "metadata": {},
     "output_type": "execute_result"
    }
   ],
   "source": [
    "rep_df.query(\"Name == 'Mason Holgate'\")"
   ]
  },
  {
   "cell_type": "markdown",
   "id": "61f374e8-38ca-47d9-a5b4-a4e80b900ed2",
   "metadata": {},
   "source": [
    "<br><br>\n",
    "<h3 style=\"color:orange;\">  Positional Ratings</h3>"
   ]
  },
  {
   "cell_type": "code",
   "execution_count": 760,
   "id": "17b302a4-1178-4b3f-8aac-f4b8bf15daa5",
   "metadata": {},
   "outputs": [],
   "source": [
    "positions = fm_df['Best_Pos'].unique().tolist()"
   ]
  },
  {
   "cell_type": "code",
   "execution_count": 761,
   "id": "7a2d989a-9d6e-4e25-baed-806f11883477",
   "metadata": {},
   "outputs": [],
   "source": [
    "Attribute_Position_Weights = pd.read_csv('players_db/fm23/Attribute_Position_Weights.csv',index_col=0)\n",
    "Position_Position_Weights = pd.read_csv(\"players_db/fm23/Position_Position_Weights.csv\", index_col=0)"
   ]
  },
  {
   "cell_type": "code",
   "execution_count": 762,
   "id": "76f2acf6-96db-4ff7-9eb7-70fcc78791e0",
   "metadata": {},
   "outputs": [],
   "source": [
    "def TPR_by_Position(row, position_weights_df=None, is_tpr_general=False, general_position=None):\n",
    "    if is_tpr_general:\n",
    "        position = general_position\n",
    "    else:\n",
    "        position = row[\"Best_Pos\"] \n",
    "    rating_weights = position_weights_df[position].to_dict()\n",
    "    rating_attrs = list(rating_weights.keys())\n",
    "    tpr = (row[rating_attrs] * pd.Series(rating_weights)).sum()\n",
    "    return int(tpr)\n",
    "\n",
    "fm_df[\"tpr_general\"] = fm_df.apply(lambda row: TPR_by_Position(row, Attribute_Position_Weights, \\\n",
    "                                                               is_tpr_general=True, general_position=\"MC\"), axis=1)"
   ]
  },
  {
   "cell_type": "code",
   "execution_count": 763,
   "id": "13116f8b-fe05-4ac4-b8d5-748da19d5088",
   "metadata": {},
   "outputs": [],
   "source": [
    "fm_df[\"tpr\"] = fm_df.apply(lambda row: TPR_by_Position(row, Attribute_Position_Weights), axis=1)"
   ]
  },
  {
   "cell_type": "code",
   "execution_count": 765,
   "id": "08a68f4f-f29c-46a8-8e59-085c78777476",
   "metadata": {},
   "outputs": [],
   "source": [
    "for pos in positions:\n",
    "    fm_df[f\"tpr_{pos}\"] = fm_df.apply(\n",
    "        lambda row: Position_Regression(row, pos), axis=1\n",
    "    )\n",
    "\n",
    "tpr_cols = []\n",
    "for col in positions:\n",
    "    tpr_cols.append(\"tpr_\" + col)"
   ]
  },
  {
   "cell_type": "code",
   "execution_count": 766,
   "id": "03969299-2ac1-409f-8b90-92fcdabaa728",
   "metadata": {},
   "outputs": [],
   "source": [
    "def Position_Regression(player_row, target_position):\n",
    "    best_position = player_row.Best_Pos\n",
    "    player_positions = player_row.Position\n",
    "    tpr_value = player_row['tpr']\n",
    "    \n",
    "    coefficient = Position_Position_Weights.loc[best_position, target_position]\n",
    "    base_value = int(coefficient / 20 * tpr_value)\n",
    "\n",
    "    if target_position in player_positions.split(\",\"):\n",
    "        posdf_value = tpr_value - int((tpr_value - base_value) * 0.05)\n",
    "        tpr_by_position_value = tpr_value - int((tpr_value - base_value) *  0.05)\n",
    "        regression_value = max(posdf_value, tpr_by_position_value)\n",
    "    else:\n",
    "        regression_value = base_value\n",
    "\n",
    "    return int(regression_value)\n",
    "\n",
    "fm_df['tpr_Best'] = fm_df[tpr_cols].max(axis=1)\n",
    "# fm_df['tpr_Star'] = \"⭐⭐⭐⭐⭐\""
   ]
  },
  {
   "cell_type": "code",
   "execution_count": 783,
   "id": "da54e945-9a41-4e1e-b584-f6c5b56981a5",
   "metadata": {},
   "outputs": [],
   "source": [
    "# Normalize tprs\n",
    "def Normalize(X, min_val, max_val):\n",
    "    min_col = X.min()\n",
    "    max_col = X.max()\n",
    "    standardized_value = (X - min_col) / (max_col - min_col) * (max_val - min_val) + min_val\n",
    "    return standardized_value.astype(int)\n",
    "\n",
    "for tpr_column in tpr_cols:\n",
    "    fm_df[tpr_column] = Normalize(fm_df[tpr_column], 40, 99)\n",
    "    \n",
    "fm_df[\"tpr\"] = Normalize(fm_df['tpr_Best'] , 40, 92)\n",
    "\n",
    "# for pos in fm_df['Best_Pos'].unique():\n",
    "#     group = fm_df#[fm_df['Best_Pos'] == pos]\n",
    "#     min_tpr = group['tpr'].min()\n",
    "#     max_tpr = group['tpr'].max()\n",
    "#     fm_df.loc[fm_df['Best_Pos'] == pos, 'tpr_normalized'] = Normalize(group['tpr'], 40, 95)\n",
    "\n",
    "fm_df[\"tpr_GK\"] = fm_df.apply(lambda row: int(row[\"tpr_GK\"]/2) if row.Best_Pos != \"GK\" else row[\"tpr_GK\"], axis=1)"
   ]
  },
  {
   "cell_type": "code",
   "execution_count": 784,
   "id": "a6b891d3-1152-45cb-a145-f757029495d4",
   "metadata": {},
   "outputs": [
    {
     "data": {
      "text/html": [
       "<div>\n",
       "<style scoped>\n",
       "    .dataframe tbody tr th:only-of-type {\n",
       "        vertical-align: middle;\n",
       "    }\n",
       "\n",
       "    .dataframe tbody tr th {\n",
       "        vertical-align: top;\n",
       "    }\n",
       "\n",
       "    .dataframe thead th {\n",
       "        text-align: right;\n",
       "    }\n",
       "</style>\n",
       "<table border=\"1\" class=\"dataframe\">\n",
       "  <thead>\n",
       "    <tr style=\"text-align: right;\">\n",
       "      <th></th>\n",
       "      <th>Club</th>\n",
       "      <th>Name</th>\n",
       "      <th>Best_Pos</th>\n",
       "      <th>tpr_Best</th>\n",
       "      <th>tpr</th>\n",
       "      <th>Market_Value</th>\n",
       "      <th>Age</th>\n",
       "    </tr>\n",
       "  </thead>\n",
       "  <tbody>\n",
       "    <tr>\n",
       "      <th>42335</th>\n",
       "      <td>FC Bayern</td>\n",
       "      <td>Manuel Neuer</td>\n",
       "      <td>GK</td>\n",
       "      <td>75</td>\n",
       "      <td>92</td>\n",
       "      <td>NaN</td>\n",
       "      <td>36</td>\n",
       "    </tr>\n",
       "    <tr>\n",
       "      <th>167958</th>\n",
       "      <td>FC Barcelona</td>\n",
       "      <td>Robert Lewandowski</td>\n",
       "      <td>ST</td>\n",
       "      <td>75</td>\n",
       "      <td>92</td>\n",
       "      <td>NaN</td>\n",
       "      <td>33</td>\n",
       "    </tr>\n",
       "    <tr>\n",
       "      <th>151639</th>\n",
       "      <td>Manchester City</td>\n",
       "      <td>Erling Haaland</td>\n",
       "      <td>ST</td>\n",
       "      <td>74</td>\n",
       "      <td>90</td>\n",
       "      <td>2.680000e+08</td>\n",
       "      <td>21</td>\n",
       "    </tr>\n",
       "    <tr>\n",
       "      <th>151641</th>\n",
       "      <td>Tottenham Hotspur</td>\n",
       "      <td>Harry Kane</td>\n",
       "      <td>ST</td>\n",
       "      <td>74</td>\n",
       "      <td>90</td>\n",
       "      <td>NaN</td>\n",
       "      <td>28</td>\n",
       "    </tr>\n",
       "    <tr>\n",
       "      <th>167966</th>\n",
       "      <td>FC Barcelona</td>\n",
       "      <td>Marc-André ter Stegen</td>\n",
       "      <td>GK</td>\n",
       "      <td>73</td>\n",
       "      <td>89</td>\n",
       "      <td>1.635000e+08</td>\n",
       "      <td>30</td>\n",
       "    </tr>\n",
       "    <tr>\n",
       "      <th>151643</th>\n",
       "      <td>Manchester City</td>\n",
       "      <td>Bernardo Silva</td>\n",
       "      <td>AMR</td>\n",
       "      <td>73</td>\n",
       "      <td>89</td>\n",
       "      <td>1.580000e+08</td>\n",
       "      <td>27</td>\n",
       "    </tr>\n",
       "    <tr>\n",
       "      <th>151638</th>\n",
       "      <td>Manchester City</td>\n",
       "      <td>Kevin De Bruyne</td>\n",
       "      <td>MC</td>\n",
       "      <td>73</td>\n",
       "      <td>89</td>\n",
       "      <td>2.150000e+08</td>\n",
       "      <td>30</td>\n",
       "    </tr>\n",
       "    <tr>\n",
       "      <th>151640</th>\n",
       "      <td>Liverpool</td>\n",
       "      <td>Mohamed Salah</td>\n",
       "      <td>AMR</td>\n",
       "      <td>73</td>\n",
       "      <td>89</td>\n",
       "      <td>NaN</td>\n",
       "      <td>30</td>\n",
       "    </tr>\n",
       "    <tr>\n",
       "      <th>167959</th>\n",
       "      <td>Real Madrid</td>\n",
       "      <td>Luka Modrić</td>\n",
       "      <td>MC</td>\n",
       "      <td>72</td>\n",
       "      <td>88</td>\n",
       "      <td>3.400000e+07</td>\n",
       "      <td>36</td>\n",
       "    </tr>\n",
       "    <tr>\n",
       "      <th>151659</th>\n",
       "      <td>Manchester United</td>\n",
       "      <td>Bruno Fernandes</td>\n",
       "      <td>AMC</td>\n",
       "      <td>72</td>\n",
       "      <td>88</td>\n",
       "      <td>2.530000e+08</td>\n",
       "      <td>27</td>\n",
       "    </tr>\n",
       "    <tr>\n",
       "      <th>151647</th>\n",
       "      <td>Liverpool</td>\n",
       "      <td>Alisson</td>\n",
       "      <td>GK</td>\n",
       "      <td>72</td>\n",
       "      <td>88</td>\n",
       "      <td>3.180000e+08</td>\n",
       "      <td>29</td>\n",
       "    </tr>\n",
       "    <tr>\n",
       "      <th>151645</th>\n",
       "      <td>Manchester City</td>\n",
       "      <td>Ederson</td>\n",
       "      <td>GK</td>\n",
       "      <td>72</td>\n",
       "      <td>88</td>\n",
       "      <td>1.130000e+08</td>\n",
       "      <td>28</td>\n",
       "    </tr>\n",
       "    <tr>\n",
       "      <th>42332</th>\n",
       "      <td>FC Bayern</td>\n",
       "      <td>Joshua Kimmich</td>\n",
       "      <td>DM</td>\n",
       "      <td>72</td>\n",
       "      <td>88</td>\n",
       "      <td>1.075000e+08</td>\n",
       "      <td>27</td>\n",
       "    </tr>\n",
       "    <tr>\n",
       "      <th>73550</th>\n",
       "      <td>AC Milan</td>\n",
       "      <td>Zlatan Ibrahimović</td>\n",
       "      <td>ST</td>\n",
       "      <td>72</td>\n",
       "      <td>88</td>\n",
       "      <td>4.350000e+00</td>\n",
       "      <td>40</td>\n",
       "    </tr>\n",
       "    <tr>\n",
       "      <th>42334</th>\n",
       "      <td>FC Bayern</td>\n",
       "      <td>Thomas Müller</td>\n",
       "      <td>AMC</td>\n",
       "      <td>72</td>\n",
       "      <td>88</td>\n",
       "      <td>NaN</td>\n",
       "      <td>32</td>\n",
       "    </tr>\n",
       "    <tr>\n",
       "      <th>73561</th>\n",
       "      <td>AC Milan</td>\n",
       "      <td>Olivier Giroud</td>\n",
       "      <td>ST</td>\n",
       "      <td>71</td>\n",
       "      <td>87</td>\n",
       "      <td>3.000002e+06</td>\n",
       "      <td>35</td>\n",
       "    </tr>\n",
       "    <tr>\n",
       "      <th>42333</th>\n",
       "      <td>FC Bayern</td>\n",
       "      <td>Sadio Mané</td>\n",
       "      <td>AML</td>\n",
       "      <td>71</td>\n",
       "      <td>87</td>\n",
       "      <td>1.120000e+08</td>\n",
       "      <td>30</td>\n",
       "    </tr>\n",
       "    <tr>\n",
       "      <th>73544</th>\n",
       "      <td>Internazionale</td>\n",
       "      <td>Nicolò Barella</td>\n",
       "      <td>MC</td>\n",
       "      <td>71</td>\n",
       "      <td>87</td>\n",
       "      <td>4.700000e+07</td>\n",
       "      <td>25</td>\n",
       "    </tr>\n",
       "    <tr>\n",
       "      <th>167956</th>\n",
       "      <td>Paris Saint-Germain</td>\n",
       "      <td>Lionel Messi</td>\n",
       "      <td>AMC</td>\n",
       "      <td>71</td>\n",
       "      <td>87</td>\n",
       "      <td>6.300000e+07</td>\n",
       "      <td>35</td>\n",
       "    </tr>\n",
       "    <tr>\n",
       "      <th>73542</th>\n",
       "      <td>Internazionale</td>\n",
       "      <td>Romelu Lukaku</td>\n",
       "      <td>ST</td>\n",
       "      <td>71</td>\n",
       "      <td>87</td>\n",
       "      <td>1.320000e+08</td>\n",
       "      <td>29</td>\n",
       "    </tr>\n",
       "  </tbody>\n",
       "</table>\n",
       "</div>"
      ],
      "text/plain": [
       "                       Club                   Name Best_Pos  tpr_Best  tpr  \\\n",
       "42335             FC Bayern           Manuel Neuer       GK        75   92   \n",
       "167958         FC Barcelona     Robert Lewandowski       ST        75   92   \n",
       "151639      Manchester City         Erling Haaland       ST        74   90   \n",
       "151641    Tottenham Hotspur             Harry Kane       ST        74   90   \n",
       "167966         FC Barcelona  Marc-André ter Stegen       GK        73   89   \n",
       "151643      Manchester City         Bernardo Silva      AMR        73   89   \n",
       "151638      Manchester City        Kevin De Bruyne       MC        73   89   \n",
       "151640            Liverpool          Mohamed Salah      AMR        73   89   \n",
       "167959          Real Madrid            Luka Modrić       MC        72   88   \n",
       "151659    Manchester United        Bruno Fernandes      AMC        72   88   \n",
       "151647            Liverpool                Alisson       GK        72   88   \n",
       "151645      Manchester City                Ederson       GK        72   88   \n",
       "42332             FC Bayern         Joshua Kimmich       DM        72   88   \n",
       "73550              AC Milan     Zlatan Ibrahimović       ST        72   88   \n",
       "42334             FC Bayern          Thomas Müller      AMC        72   88   \n",
       "73561              AC Milan         Olivier Giroud       ST        71   87   \n",
       "42333             FC Bayern             Sadio Mané      AML        71   87   \n",
       "73544        Internazionale         Nicolò Barella       MC        71   87   \n",
       "167956  Paris Saint-Germain           Lionel Messi      AMC        71   87   \n",
       "73542        Internazionale          Romelu Lukaku       ST        71   87   \n",
       "\n",
       "        Market_Value  Age  \n",
       "42335            NaN   36  \n",
       "167958           NaN   33  \n",
       "151639  2.680000e+08   21  \n",
       "151641           NaN   28  \n",
       "167966  1.635000e+08   30  \n",
       "151643  1.580000e+08   27  \n",
       "151638  2.150000e+08   30  \n",
       "151640           NaN   30  \n",
       "167959  3.400000e+07   36  \n",
       "151659  2.530000e+08   27  \n",
       "151647  3.180000e+08   29  \n",
       "151645  1.130000e+08   28  \n",
       "42332   1.075000e+08   27  \n",
       "73550   4.350000e+00   40  \n",
       "42334            NaN   32  \n",
       "73561   3.000002e+06   35  \n",
       "42333   1.120000e+08   30  \n",
       "73544   4.700000e+07   25  \n",
       "167956  6.300000e+07   35  \n",
       "73542   1.320000e+08   29  "
      ]
     },
     "execution_count": 784,
     "metadata": {},
     "output_type": "execute_result"
    }
   ],
   "source": [
    "fm_df.sort_values(\"tpr_Best\", ascending=False)[[\"Club\",\"Name\",\"Best_Pos\",\"tpr_Best\", \\\n",
    "                                                   \"tpr\",\"Market_Value\",\"Age\"]].head(n=20)"
   ]
  },
  {
   "cell_type": "code",
   "execution_count": 785,
   "id": "5b5b80e8-cf91-48eb-b486-83a15d909af5",
   "metadata": {},
   "outputs": [
    {
     "data": {
      "text/plain": [
       "Best_Pos\n",
       "MC     107\n",
       "ST      67\n",
       "AML     54\n",
       "GK      53\n",
       "DC      50\n",
       "DM      41\n",
       "DL      36\n",
       "AMR     30\n",
       "AMC     23\n",
       "DR      19\n",
       "ML       8\n",
       "MR       7\n",
       "WBL      3\n",
       "WBR      2\n",
       "Name: count, dtype: int64"
      ]
     },
     "execution_count": 785,
     "metadata": {},
     "output_type": "execute_result"
    }
   ],
   "source": [
    "fm_df.sort_values(by=\"tpr_Best\",ascending=False).head(500).Best_Pos.value_counts()"
   ]
  },
  {
   "cell_type": "code",
   "execution_count": 786,
   "id": "fcd01a1a-db72-478b-8360-8218f51e7a5c",
   "metadata": {},
   "outputs": [
    {
     "data": {
      "text/html": [
       "<div>\n",
       "<style scoped>\n",
       "    .dataframe tbody tr th:only-of-type {\n",
       "        vertical-align: middle;\n",
       "    }\n",
       "\n",
       "    .dataframe tbody tr th {\n",
       "        vertical-align: top;\n",
       "    }\n",
       "\n",
       "    .dataframe thead th {\n",
       "        text-align: right;\n",
       "    }\n",
       "</style>\n",
       "<table border=\"1\" class=\"dataframe\">\n",
       "  <thead>\n",
       "    <tr style=\"text-align: right;\">\n",
       "      <th></th>\n",
       "      <th>Name</th>\n",
       "      <th>tpr</th>\n",
       "      <th>tpr_Best</th>\n",
       "    </tr>\n",
       "  </thead>\n",
       "  <tbody>\n",
       "    <tr>\n",
       "      <th>73540</th>\n",
       "      <td>Sergej Milinković-Savić</td>\n",
       "      <td>86</td>\n",
       "      <td>70</td>\n",
       "    </tr>\n",
       "    <tr>\n",
       "      <th>73547</th>\n",
       "      <td>Ciro Immobile</td>\n",
       "      <td>84</td>\n",
       "      <td>68</td>\n",
       "    </tr>\n",
       "    <tr>\n",
       "      <th>73558</th>\n",
       "      <td>Luis Alberto</td>\n",
       "      <td>84</td>\n",
       "      <td>68</td>\n",
       "    </tr>\n",
       "    <tr>\n",
       "      <th>73562</th>\n",
       "      <td>Pedro</td>\n",
       "      <td>83</td>\n",
       "      <td>67</td>\n",
       "    </tr>\n",
       "    <tr>\n",
       "      <th>73571</th>\n",
       "      <td>Alessio Romagnoli</td>\n",
       "      <td>78</td>\n",
       "      <td>62</td>\n",
       "    </tr>\n",
       "  </tbody>\n",
       "</table>\n",
       "</div>"
      ],
      "text/plain": [
       "                          Name  tpr  tpr_Best\n",
       "73540  Sergej Milinković-Savić   86        70\n",
       "73547            Ciro Immobile   84        68\n",
       "73558             Luis Alberto   84        68\n",
       "73562                    Pedro   83        67\n",
       "73571        Alessio Romagnoli   78        62"
      ]
     },
     "execution_count": 786,
     "metadata": {},
     "output_type": "execute_result"
    }
   ],
   "source": [
    "fm_df.query(\"Club == 'Lazio'\")[[\"Name\",\"tpr\",\"tpr_Best\"]].head(n=5)"
   ]
  },
  {
   "cell_type": "code",
   "execution_count": 787,
   "id": "36fc88a5-a78a-48e3-8332-f40b5f191f0f",
   "metadata": {},
   "outputs": [
    {
     "data": {
      "text/plain": [
       "tpr_GK     21\n",
       "tpr_DC     41\n",
       "tpr_DM     44\n",
       "tpr_DR     45\n",
       "tpr_MC     52\n",
       "tpr_WBR    55\n",
       "tpr_DL     58\n",
       "tpr_MR     59\n",
       "tpr_AMC    67\n",
       "tpr_WBL    70\n",
       "tpr_ML     82\n",
       "tpr        86\n",
       "tpr_ST     93\n",
       "tpr_AMR    95\n",
       "tpr_AML    96\n",
       "Name: 167957, dtype: object"
      ]
     },
     "execution_count": 787,
     "metadata": {},
     "output_type": "execute_result"
    }
   ],
   "source": [
    "ex_row = fm_df.query(\"Name == 'Kylian Mbappé'\")\n",
    "ex_row.iloc[0][[\"tpr\"] + tpr_cols].sort_values()"
   ]
  },
  {
   "cell_type": "code",
   "execution_count": 788,
   "id": "5cadc3b0-ecff-419f-a7fb-b2370f179e35",
   "metadata": {},
   "outputs": [
    {
     "data": {
      "text/plain": [
       "tpr_GK     21\n",
       "tpr_DC     42\n",
       "tpr_DL     43\n",
       "tpr_DR     43\n",
       "tpr_WBL    47\n",
       "tpr_WBR    48\n",
       "tpr_DM     53\n",
       "tpr_MR     56\n",
       "tpr_ML     69\n",
       "tpr_MC     72\n",
       "tpr_AML    77\n",
       "tpr        87\n",
       "tpr_ST     94\n",
       "tpr_AMR    96\n",
       "tpr_AMC    97\n",
       "Name: 167956, dtype: object"
      ]
     },
     "execution_count": 788,
     "metadata": {},
     "output_type": "execute_result"
    }
   ],
   "source": [
    "ex_row = fm_df.query(\"Name == 'Lionel Messi'\").iloc[0][[\"tpr\"] + tpr_cols].sort_values()\n",
    "ex_row"
   ]
  },
  {
   "cell_type": "markdown",
   "id": "83aeb66d-e0e7-470b-a214-b607ffa20f4d",
   "metadata": {
    "jp-MarkdownHeadingCollapsed": true
   },
   "source": [
    "# Matching fbref Player Names with FM Player Names"
   ]
  },
  {
   "cell_type": "code",
   "execution_count": 789,
   "id": "9a6c181a-703e-461b-a01c-054831813730",
   "metadata": {},
   "outputs": [],
   "source": [
    "from rapidfuzz import process\n",
    "def find_best_match(name, choices):\n",
    "    return process.extractOne(name, choices)"
   ]
  },
  {
   "cell_type": "code",
   "execution_count": 790,
   "id": "3fa1574f-16ac-4256-87d0-45e91bd89b95",
   "metadata": {},
   "outputs": [],
   "source": [
    "top5_leagues = ['Ligue 1 Uber Eats', 'English Premier Division', 'Italian Serie A',\n",
    "       'Spanish First Division', 'Bundesliga'] "
   ]
  },
  {
   "cell_type": "code",
   "execution_count": 791,
   "id": "73446501-250f-4257-8f04-daca05354692",
   "metadata": {},
   "outputs": [],
   "source": [
    "url = \"https://fbref.com/en/comps/Big5/2022-2023/passing/players/2022-2023-Big-5-European-Leagues-Stats\""
   ]
  },
  {
   "cell_type": "code",
   "execution_count": 793,
   "id": "907848f5-0b48-41b1-a4fb-06d603ac60a1",
   "metadata": {},
   "outputs": [],
   "source": [
    "data = pd.read_html(url)"
   ]
  },
  {
   "cell_type": "code",
   "execution_count": 794,
   "id": "07d2bc93-30cd-40c6-9304-0f46fe7d9b66",
   "metadata": {},
   "outputs": [],
   "source": [
    "data[0].columns = data[0].columns.get_level_values(1)"
   ]
  },
  {
   "cell_type": "code",
   "execution_count": 795,
   "id": "c197f1e6-8b7b-47ff-926b-5a1fe4cb153f",
   "metadata": {},
   "outputs": [
    {
     "data": {
      "text/html": [
       "<div>\n",
       "<style scoped>\n",
       "    .dataframe tbody tr th:only-of-type {\n",
       "        vertical-align: middle;\n",
       "    }\n",
       "\n",
       "    .dataframe tbody tr th {\n",
       "        vertical-align: top;\n",
       "    }\n",
       "\n",
       "    .dataframe thead th {\n",
       "        text-align: right;\n",
       "    }\n",
       "</style>\n",
       "<table border=\"1\" class=\"dataframe\">\n",
       "  <thead>\n",
       "    <tr style=\"text-align: right;\">\n",
       "      <th></th>\n",
       "      <th>Rk</th>\n",
       "      <th>Player</th>\n",
       "      <th>Nation</th>\n",
       "      <th>Pos</th>\n",
       "      <th>Squad</th>\n",
       "      <th>Comp</th>\n",
       "      <th>Age</th>\n",
       "      <th>Born</th>\n",
       "      <th>90s</th>\n",
       "      <th>Cmp</th>\n",
       "      <th>...</th>\n",
       "      <th>Ast</th>\n",
       "      <th>xAG</th>\n",
       "      <th>xA</th>\n",
       "      <th>A-xAG</th>\n",
       "      <th>KP</th>\n",
       "      <th>1/3</th>\n",
       "      <th>PPA</th>\n",
       "      <th>CrsPA</th>\n",
       "      <th>PrgP</th>\n",
       "      <th>Matches</th>\n",
       "    </tr>\n",
       "  </thead>\n",
       "  <tbody>\n",
       "    <tr>\n",
       "      <th>0</th>\n",
       "      <td>1</td>\n",
       "      <td>Brenden Aaronson</td>\n",
       "      <td>us USA</td>\n",
       "      <td>MF,FW</td>\n",
       "      <td>Leeds United</td>\n",
       "      <td>eng Premier League</td>\n",
       "      <td>21</td>\n",
       "      <td>2000</td>\n",
       "      <td>26.4</td>\n",
       "      <td>592</td>\n",
       "      <td>...</td>\n",
       "      <td>3</td>\n",
       "      <td>4.2</td>\n",
       "      <td>2.6</td>\n",
       "      <td>-1.2</td>\n",
       "      <td>46</td>\n",
       "      <td>47</td>\n",
       "      <td>16</td>\n",
       "      <td>4</td>\n",
       "      <td>86</td>\n",
       "      <td>Matches</td>\n",
       "    </tr>\n",
       "    <tr>\n",
       "      <th>1</th>\n",
       "      <td>2</td>\n",
       "      <td>Paxten Aaronson</td>\n",
       "      <td>us USA</td>\n",
       "      <td>MF,DF</td>\n",
       "      <td>Eint Frankfurt</td>\n",
       "      <td>de Bundesliga</td>\n",
       "      <td>18</td>\n",
       "      <td>2003</td>\n",
       "      <td>1.9</td>\n",
       "      <td>51</td>\n",
       "      <td>...</td>\n",
       "      <td>0</td>\n",
       "      <td>0.0</td>\n",
       "      <td>0.1</td>\n",
       "      <td>0.0</td>\n",
       "      <td>1</td>\n",
       "      <td>3</td>\n",
       "      <td>0</td>\n",
       "      <td>0</td>\n",
       "      <td>6</td>\n",
       "      <td>Matches</td>\n",
       "    </tr>\n",
       "    <tr>\n",
       "      <th>2</th>\n",
       "      <td>3</td>\n",
       "      <td>James Abankwah</td>\n",
       "      <td>ie IRL</td>\n",
       "      <td>DF</td>\n",
       "      <td>Udinese</td>\n",
       "      <td>it Serie A</td>\n",
       "      <td>18</td>\n",
       "      <td>2004</td>\n",
       "      <td>0.7</td>\n",
       "      <td>23</td>\n",
       "      <td>...</td>\n",
       "      <td>0</td>\n",
       "      <td>0.0</td>\n",
       "      <td>0.0</td>\n",
       "      <td>0.0</td>\n",
       "      <td>0</td>\n",
       "      <td>0</td>\n",
       "      <td>0</td>\n",
       "      <td>0</td>\n",
       "      <td>0</td>\n",
       "      <td>Matches</td>\n",
       "    </tr>\n",
       "    <tr>\n",
       "      <th>3</th>\n",
       "      <td>4</td>\n",
       "      <td>George Abbott</td>\n",
       "      <td>eng ENG</td>\n",
       "      <td>MF</td>\n",
       "      <td>Tottenham</td>\n",
       "      <td>eng Premier League</td>\n",
       "      <td>16</td>\n",
       "      <td>2005</td>\n",
       "      <td>0.0</td>\n",
       "      <td>1</td>\n",
       "      <td>...</td>\n",
       "      <td>0</td>\n",
       "      <td>0.0</td>\n",
       "      <td>0.0</td>\n",
       "      <td>0.0</td>\n",
       "      <td>0</td>\n",
       "      <td>0</td>\n",
       "      <td>0</td>\n",
       "      <td>0</td>\n",
       "      <td>0</td>\n",
       "      <td>Matches</td>\n",
       "    </tr>\n",
       "    <tr>\n",
       "      <th>4</th>\n",
       "      <td>5</td>\n",
       "      <td>Yunis Abdelhamid</td>\n",
       "      <td>ma MAR</td>\n",
       "      <td>DF</td>\n",
       "      <td>Reims</td>\n",
       "      <td>fr Ligue 1</td>\n",
       "      <td>34</td>\n",
       "      <td>1987</td>\n",
       "      <td>37.0</td>\n",
       "      <td>1679</td>\n",
       "      <td>...</td>\n",
       "      <td>2</td>\n",
       "      <td>1.0</td>\n",
       "      <td>0.9</td>\n",
       "      <td>+1.0</td>\n",
       "      <td>13</td>\n",
       "      <td>155</td>\n",
       "      <td>5</td>\n",
       "      <td>0</td>\n",
       "      <td>215</td>\n",
       "      <td>Matches</td>\n",
       "    </tr>\n",
       "  </tbody>\n",
       "</table>\n",
       "<p>5 rows × 33 columns</p>\n",
       "</div>"
      ],
      "text/plain": [
       "  Rk            Player   Nation    Pos           Squad                Comp  \\\n",
       "0  1  Brenden Aaronson   us USA  MF,FW    Leeds United  eng Premier League   \n",
       "1  2   Paxten Aaronson   us USA  MF,DF  Eint Frankfurt       de Bundesliga   \n",
       "2  3    James Abankwah   ie IRL     DF         Udinese          it Serie A   \n",
       "3  4     George Abbott  eng ENG     MF       Tottenham  eng Premier League   \n",
       "4  5  Yunis Abdelhamid   ma MAR     DF           Reims          fr Ligue 1   \n",
       "\n",
       "  Age  Born   90s   Cmp  ... Ast  xAG   xA A-xAG  KP  1/3 PPA CrsPA PrgP  \\\n",
       "0  21  2000  26.4   592  ...   3  4.2  2.6  -1.2  46   47  16     4   86   \n",
       "1  18  2003   1.9    51  ...   0  0.0  0.1   0.0   1    3   0     0    6   \n",
       "2  18  2004   0.7    23  ...   0  0.0  0.0   0.0   0    0   0     0    0   \n",
       "3  16  2005   0.0     1  ...   0  0.0  0.0   0.0   0    0   0     0    0   \n",
       "4  34  1987  37.0  1679  ...   2  1.0  0.9  +1.0  13  155   5     0  215   \n",
       "\n",
       "   Matches  \n",
       "0  Matches  \n",
       "1  Matches  \n",
       "2  Matches  \n",
       "3  Matches  \n",
       "4  Matches  \n",
       "\n",
       "[5 rows x 33 columns]"
      ]
     },
     "execution_count": 795,
     "metadata": {},
     "output_type": "execute_result"
    }
   ],
   "source": [
    "data[0].head()"
   ]
  },
  {
   "cell_type": "code",
   "execution_count": 796,
   "id": "da309924-1c20-440f-878c-121c385fc174",
   "metadata": {},
   "outputs": [],
   "source": [
    "fbref_players = data[0][\"Player\"].tolist()\n",
    "fm_players = fm_df[fm_df.Division.isin(top5_leagues)][\"Name\"].tolist()"
   ]
  },
  {
   "cell_type": "code",
   "execution_count": 797,
   "id": "4a826542-1080-43c5-986d-bd750be29245",
   "metadata": {},
   "outputs": [],
   "source": [
    "for player_name in fm_players:\n",
    "    answer, score, other = find_best_match(player_name, fbref_players)\n",
    "    where_id = fm_df[fm_df.Name==player_name].iloc[0].name\n",
    "    fm_df.at[where_id, 'fbref_player_name'] = answer"
   ]
  },
  {
   "cell_type": "markdown",
   "id": "51f43665-a507-48be-bd70-9f93128e336a",
   "metadata": {
    "jp-MarkdownHeadingCollapsed": true
   },
   "source": [
    "# CSV EXPORT"
   ]
  },
  {
   "cell_type": "code",
   "execution_count": 798,
   "id": "a23d6578-54c8-405b-9ea8-8de40220a239",
   "metadata": {},
   "outputs": [],
   "source": [
    "fm_df.to_csv(\"players_db/fm23/fm23db_processed.csv\", index=False)"
   ]
  },
  {
   "cell_type": "code",
   "execution_count": 799,
   "id": "68d9e13a-cc51-4195-850d-05bbf558c0c3",
   "metadata": {},
   "outputs": [
    {
     "data": {
      "text/plain": [
       "{'UID': 8833628,\n",
       " 'Inf': '',\n",
       " 'Name': 'Thiago Silva',\n",
       " 'DoB': '1984-09-22',\n",
       " 'Nat': 'BRA',\n",
       " 'Division': 'English Premier Division',\n",
       " 'Club': 'Chelsea',\n",
       " 'Based': 'England (Premier Division)',\n",
       " 'Preferred Foot': 'Right',\n",
       " 'Right Foot': 'Very Strong',\n",
       " 'Left Foot': 'Weak',\n",
       " 'Position': 'DC',\n",
       " 'Height': '183',\n",
       " 'Weight': '79 kg',\n",
       " 'Age': 37,\n",
       " 'Transfer Value': '21000000 - 32000000',\n",
       " 'Wage': 498000,\n",
       " 'AT Apps': '475',\n",
       " 'AT Gls': '28',\n",
       " 'Team': 'Main',\n",
       " 'Caps': 107,\n",
       " 'Yth Apps': '4',\n",
       " 'Style': 'Intelligent',\n",
       " 'Rc Injury': '-',\n",
       " 'Best_Role': 'Ball Playing Defender',\n",
       " 'Best Duty': 'Defend',\n",
       " 'Best_Pos': 'DC',\n",
       " 'Acceleration': 49,\n",
       " 'Aerial_Reach': 14,\n",
       " 'Aggression': 84,\n",
       " 'Agility': 59,\n",
       " 'Anticipation': 84,\n",
       " 'Balance': 79,\n",
       " 'Bravery': 74,\n",
       " 'Command_of_Area': 14,\n",
       " 'Communication': 4,\n",
       " 'Composure': 99,\n",
       " 'Concentration': 84,\n",
       " 'Corners': 19,\n",
       " 'Crossing': 24,\n",
       " 'Decisions': 84,\n",
       " 'Determination': 74,\n",
       " 'Dribbling': 44,\n",
       " 'Eccentricity': 19,\n",
       " 'Finishing': 34,\n",
       " 'First_Touch': 69,\n",
       " 'Flair': 39,\n",
       " 'Free_Kick_Taking': 39,\n",
       " 'Handling': 4,\n",
       " 'Heading': 84,\n",
       " 'Jumping_Reach': 64,\n",
       " 'Kicking': 14,\n",
       " 'Leadership': 94,\n",
       " 'Long_Shots': 34,\n",
       " 'Long_Throws': 34,\n",
       " 'Marking': 84,\n",
       " 'Natural_Fitness': 69,\n",
       " 'Off_the_Ball': 39,\n",
       " 'One_on_Ones': 4,\n",
       " 'Pace': 49,\n",
       " 'Passing': 64,\n",
       " 'Penalty_Taking': 69,\n",
       " 'Positioning': 94,\n",
       " 'Punching': 14,\n",
       " 'Reflexes': 14,\n",
       " 'Rushing_Out': 9,\n",
       " 'Stamina': 69,\n",
       " 'Strength': 69,\n",
       " 'Tackling': 79,\n",
       " 'Teamwork': 74,\n",
       " 'Technique': 64,\n",
       " 'Throwing': 9,\n",
       " 'Vision': 64,\n",
       " 'Work_Rate': 69,\n",
       " 'Club_id': 2432,\n",
       " 'League_id': 354,\n",
       " 'Min_Value': 21000000.0,\n",
       " 'Max_Value': 32000000.0,\n",
       " 'Market_Value': 26500000.0,\n",
       " 'Player_Role': 'DC_Ball Playing Defender',\n",
       " 'Pos_Rank': 3,\n",
       " 'gk': 19,\n",
       " 'tpr_general': 63,\n",
       " 'tpr': 84,\n",
       " 'tpr_DM': 63,\n",
       " 'tpr_AML': 41,\n",
       " 'tpr_AMC': 41,\n",
       " 'tpr_GK': 21,\n",
       " 'tpr_MC': 46,\n",
       " 'tpr_DC': 96,\n",
       " 'tpr_AMR': 42,\n",
       " 'tpr_DL': 64,\n",
       " 'tpr_DR': 65,\n",
       " 'tpr_ST': 42,\n",
       " 'tpr_ML': 44,\n",
       " 'tpr_MR': 45,\n",
       " 'tpr_WBR': 47,\n",
       " 'tpr_WBL': 48,\n",
       " 'tpr_Best': 68,\n",
       " 'fbref_player_name': 'Thiago Silva'}"
      ]
     },
     "execution_count": 799,
     "metadata": {},
     "output_type": "execute_result"
    }
   ],
   "source": [
    "fm_df.query(\"Name in 'Thiago Silva'\").iloc[0].to_dict()"
   ]
  },
  {
   "cell_type": "code",
   "execution_count": null,
   "id": "33385f95-12df-48e6-9ab4-4f38ba2deecb",
   "metadata": {},
   "outputs": [],
   "source": []
  },
  {
   "cell_type": "code",
   "execution_count": null,
   "id": "46328efa-163e-46f9-9363-4bb88385f3f1",
   "metadata": {},
   "outputs": [],
   "source": []
  },
  {
   "cell_type": "code",
   "execution_count": null,
   "id": "13b2775d-96b7-47b6-a974-a48cd858328a",
   "metadata": {},
   "outputs": [],
   "source": []
  }
 ],
 "metadata": {
  "kernelspec": {
   "display_name": "Python 3 (ipykernel)",
   "language": "python",
   "name": "python3"
  },
  "language_info": {
   "codemirror_mode": {
    "name": "ipython",
    "version": 3
   },
   "file_extension": ".py",
   "mimetype": "text/x-python",
   "name": "python",
   "nbconvert_exporter": "python",
   "pygments_lexer": "ipython3",
   "version": "3.11.7"
  }
 },
 "nbformat": 4,
 "nbformat_minor": 5
}
