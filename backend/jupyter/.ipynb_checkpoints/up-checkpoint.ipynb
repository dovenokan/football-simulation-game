{
 "cells": [
  {
   "cell_type": "code",
   "execution_count": 2,
   "id": "d7eebd68-f0a6-4553-af71-2ad961c163f8",
   "metadata": {},
   "outputs": [],
   "source": [
    "import requests\n",
    "from bs4 import BeautifulSoup"
   ]
  },
  {
   "cell_type": "code",
   "execution_count": null,
   "id": "52b3b96f-0d26-43cf-ae59-586e35befebe",
   "metadata": {},
   "outputs": [],
   "source": [
    "# def extract_place_id(url):\n",
    "#     response = requests.get(url, allow_redirects=True)\n",
    "#     if response.status_code != 200:\n",
    "#         print(f\"Failed to retrieve the page. Status code: {response.status_code}\")\n",
    "#         return None\n",
    "\n",
    "#     soup = BeautifulSoup(response.text, 'html.parser')\n",
    "#     scripts = soup.find_all('script')\n",
    "\n",
    "#     for script in scripts:\n",
    "#         if script.has_attr('nonce'):\n",
    "#             content = script.string\n",
    "#             if content and 'placeid' in content:\n",
    "#                 start_idx = content.find('placeid')\n",
    "#                 place_id = content[start_idx+8:start_idx+8+27]  # placeid is 27 chars long\n",
    "#                 return place_id\n",
    "\n",
    "#     return None\n",
    "\n",
    "# # List of Google Maps URLs\n",
    "# urls = [\n",
    "#     \"https://maps.app.goo.gl/3cnqY89yx7nG7pZ9A\"\n",
    "# ]\n",
    "\n",
    "# for url in urls:\n",
    "#     place_id = extract_place_id(url)\n",
    "#     if place_id:\n",
    "#         print(f\"Place ID for {url}: {place_id}\")\n",
    "#     else:\n",
    "#         print(f\"Place ID not found for {url}\")"
   ]
  },
  {
   "cell_type": "code",
   "execution_count": 29,
   "id": "386f0ce1-6068-4483-88ec-e37d85b7a7f0",
   "metadata": {},
   "outputs": [
    {
     "name": "stderr",
     "output_type": "stream",
     "text": [
      "C:\\Users\\okany\\AppData\\Local\\Temp\\ipykernel_20600\\2063729589.py:15: DeprecationWarning: invalid escape sequence '\\('\n",
      "  content = bytes(raw, 'utf-8').decode('unicode_escape')\n"
     ]
    },
    {
     "ename": "TypeError",
     "evalue": "encoding without a string argument",
     "output_type": "error",
     "traceback": [
      "\u001b[1;31m---------------------------------------------------------------------------\u001b[0m",
      "\u001b[1;31mTypeError\u001b[0m                                 Traceback (most recent call last)",
      "Cell \u001b[1;32mIn[29], line 15\u001b[0m\n\u001b[0;32m     13\u001b[0m \u001b[38;5;28;01mif\u001b[39;00m script:\u001b[38;5;66;03m#.has_attr('nonce'):\u001b[39;00m\n\u001b[0;32m     14\u001b[0m     raw \u001b[38;5;241m=\u001b[39m script\u001b[38;5;241m.\u001b[39mstring\n\u001b[1;32m---> 15\u001b[0m     content \u001b[38;5;241m=\u001b[39m \u001b[38;5;28mbytes\u001b[39m(raw, \u001b[38;5;124m'\u001b[39m\u001b[38;5;124mutf-8\u001b[39m\u001b[38;5;124m'\u001b[39m)\u001b[38;5;241m.\u001b[39mdecode(\u001b[38;5;124m'\u001b[39m\u001b[38;5;124municode_escape\u001b[39m\u001b[38;5;124m'\u001b[39m)\n\u001b[0;32m     17\u001b[0m     f\u001b[38;5;241m.\u001b[39mwrite(\u001b[38;5;124m\"\u001b[39m\u001b[38;5;130;01m\\n\u001b[39;00m\u001b[38;5;130;01m\\n\u001b[39;00m\u001b[38;5;130;01m\\n\u001b[39;00m\u001b[38;5;130;01m\\n\u001b[39;00m\u001b[38;5;124m otavio_space\u001b[39m\u001b[38;5;124m\"\u001b[39m)\n\u001b[0;32m     18\u001b[0m     f\u001b[38;5;241m.\u001b[39mwrite(\u001b[38;5;124mf\u001b[39m\u001b[38;5;124m\"\u001b[39m\u001b[38;5;130;01m\\n\u001b[39;00m\u001b[38;5;124mDecoded content: \u001b[39m\u001b[38;5;132;01m{\u001b[39;00mcontent\u001b[38;5;132;01m}\u001b[39;00m\u001b[38;5;130;01m\\n\u001b[39;00m\u001b[38;5;124m\"\u001b[39m) \n",
      "\u001b[1;31mTypeError\u001b[0m: encoding without a string argument"
     ]
    }
   ],
   "source": [
    "response = requests.get(\"https://www.google.com/maps/place/La+Pepita/@41.3979631,2.1507475,15z/data=!4m6!3m5!1s0x12a4a2944850b897:0x183828567f4b693!8m2!3d41.3979631!4d2.1610472!16s%2Fg%2F1tdtyjmk?entry=ttu\", allow_redirects=True)\n",
    "if response.status_code != 200:\n",
    "    print(f\"Failed to retrieve the page. Status code: {response.status_code}\")\n",
    "\n",
    "soup = BeautifulSoup(response.text, 'html.parser', from_encoding=\"utf-8\")\n",
    "scripts = soup.find_all('script')\n",
    "\n",
    "with open(\"up_book.txt\", \"w\", encoding=\"utf-8\") as f:\n",
    "    f.truncate(0)\n",
    "    \n",
    "with open(\"up_book.txt\", \"w\", encoding=\"utf-8\") as f:\n",
    "    for script in scripts:\n",
    "        if script:#.has_attr('nonce'):\n",
    "            raw = script.string\n",
    "            content = bytes(raw, 'utf-8').decode('unicode_escape')\n",
    "\n",
    "            f.write(\"\\n\\n\\n\\n otavio_space\")\n",
    "            f.write(f\"\\nDecoded content: {content}\\n\") \n",
    "            if content and 'placeid' in content:\n",
    "                start_idx = content.find('placeid')\n",
    "                place_id = content[start_idx+8:start_idx+8+27]  # placeid is 27 chars long\n"
   ]
  },
  {
   "cell_type": "code",
   "execution_count": 30,
   "id": "440f323c-1e2e-4430-81e0-ead56c23237c",
   "metadata": {},
   "outputs": [],
   "source": [
    "place_id"
   ]
  },
  {
   "cell_type": "code",
   "execution_count": null,
   "id": "de44303d-6f21-478d-86be-300324762a2d",
   "metadata": {},
   "outputs": [],
   "source": []
  },
  {
   "cell_type": "code",
   "execution_count": null,
   "id": "284ca2aa-dff4-4d25-88f2-8525bcd9b772",
   "metadata": {},
   "outputs": [],
   "source": []
  },
  {
   "cell_type": "code",
   "execution_count": null,
   "id": "8f398f21-2669-4701-bbe6-c39f419ba1d1",
   "metadata": {},
   "outputs": [],
   "source": [
    "import requests\n",
    "import googlemaps\n",
    "\n",
    "# Replace with your API key\n",
    "API_KEY = 'your_api_key_here'\n",
    "\n",
    "def get_place_id_from_short_url(short_url):\n",
    "    try:\n",
    "        # Initialize Google Maps client\n",
    "        gmaps = googlemaps.Client(key=API_KEY)\n",
    "\n",
    "        # Make a request to decode the short URL\n",
    "        response = requests.get(short_url)\n",
    "        response.raise_for_status()\n",
    "\n",
    "        # Extract the long URL from the response\n",
    "        long_url = response.url\n",
    "\n",
    "        # Parse the long URL to get the place ID\n",
    "        place_id = gmaps.place(long_url)['place_id']\n",
    "\n",
    "        return place_id\n",
    "\n",
    "    except requests.exceptions.RequestException as e:\n",
    "        print(f\"Error fetching URL: {short_url}. Error: {str(e)}\")\n",
    "        return None\n",
    "    except googlemaps.exceptions.ApiError as e:\n",
    "        print(f\"Error with Google Maps API: {str(e)}\")\n",
    "        return None\n",
    "\n",
    "# Example short URL\n",
    "short_url = \"https://maps.app.goo.gl/3cnqY89yx7nG7pZ9A\"\n",
    "\n",
    "# Get Place ID from the short URL\n",
    "place_id = get_place_id_from_short_url(short_url)\n",
    "if place_id:\n",
    "    print(f\"Place ID: {place_id}\")\n",
    "else:\n",
    "    print(\"Failed to retrieve Place ID.\")\n"
   ]
  }
 ],
 "metadata": {
  "kernelspec": {
   "display_name": "Python 3 (ipykernel)",
   "language": "python",
   "name": "python3"
  },
  "language_info": {
   "codemirror_mode": {
    "name": "ipython",
    "version": 3
   },
   "file_extension": ".py",
   "mimetype": "text/x-python",
   "name": "python",
   "nbconvert_exporter": "python",
   "pygments_lexer": "ipython3",
   "version": "3.11.7"
  }
 },
 "nbformat": 4,
 "nbformat_minor": 5
}
