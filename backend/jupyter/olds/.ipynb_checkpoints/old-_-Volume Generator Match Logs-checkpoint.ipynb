{
 "cells": [
  {
   "cell_type": "code",
   "execution_count": 1,
   "id": "56c74ca8",
   "metadata": {},
   "outputs": [],
   "source": [
    "import pandas as pd\n",
    "import numpy as np\n",
    "import seaborn as sns\n",
    "import matplotlib.pyplot as plt\n",
    "import re\n",
    "import time\n",
    "import requests\n",
    "from bs4 import BeautifulSoup\n",
    "import lxml\n",
    "import json\n",
    "from urllib.parse import quote\n",
    "\n",
    "# from futsim_funcs import TPR, TFR, TPSR, TGKR, TDR"
   ]
  },
  {
   "cell_type": "code",
   "execution_count": 2,
   "id": "f8913be1",
   "metadata": {},
   "outputs": [],
   "source": [
    "import warnings\n",
    "warnings.filterwarnings(\"ignore\", message=\"The default value of numeric_only in DataFrame.mean is deprecated.\", category=FutureWarning)"
   ]
  },
  {
   "cell_type": "code",
   "execution_count": 3,
   "id": "0bd36045-66e9-4b91-ac1a-339b3c24abf2",
   "metadata": {},
   "outputs": [
    {
     "ename": "FileNotFoundError",
     "evalue": "[Errno 2] No such file or directory: '../fifa24_db/pdb_23.csv'",
     "output_type": "error",
     "traceback": [
      "\u001b[1;31m---------------------------------------------------------------------------\u001b[0m",
      "\u001b[1;31mFileNotFoundError\u001b[0m                         Traceback (most recent call last)",
      "Cell \u001b[1;32mIn[3], line 2\u001b[0m\n\u001b[0;32m      1\u001b[0m \u001b[38;5;66;03m# players_df = pd.read_csv(\"players_db/fm23/platinum22_fm23data.csv\")\u001b[39;00m\n\u001b[1;32m----> 2\u001b[0m players_df \u001b[38;5;241m=\u001b[39m pd\u001b[38;5;241m.\u001b[39mread_csv(\u001b[38;5;124m\"\u001b[39m\u001b[38;5;124m../fifa24_db/pdb_23.csv\u001b[39m\u001b[38;5;124m\"\u001b[39m)\n",
      "File \u001b[1;32m~\\anaconda3\\Lib\\site-packages\\pandas\\io\\parsers\\readers.py:948\u001b[0m, in \u001b[0;36mread_csv\u001b[1;34m(filepath_or_buffer, sep, delimiter, header, names, index_col, usecols, dtype, engine, converters, true_values, false_values, skipinitialspace, skiprows, skipfooter, nrows, na_values, keep_default_na, na_filter, verbose, skip_blank_lines, parse_dates, infer_datetime_format, keep_date_col, date_parser, date_format, dayfirst, cache_dates, iterator, chunksize, compression, thousands, decimal, lineterminator, quotechar, quoting, doublequote, escapechar, comment, encoding, encoding_errors, dialect, on_bad_lines, delim_whitespace, low_memory, memory_map, float_precision, storage_options, dtype_backend)\u001b[0m\n\u001b[0;32m    935\u001b[0m kwds_defaults \u001b[38;5;241m=\u001b[39m _refine_defaults_read(\n\u001b[0;32m    936\u001b[0m     dialect,\n\u001b[0;32m    937\u001b[0m     delimiter,\n\u001b[1;32m   (...)\u001b[0m\n\u001b[0;32m    944\u001b[0m     dtype_backend\u001b[38;5;241m=\u001b[39mdtype_backend,\n\u001b[0;32m    945\u001b[0m )\n\u001b[0;32m    946\u001b[0m kwds\u001b[38;5;241m.\u001b[39mupdate(kwds_defaults)\n\u001b[1;32m--> 948\u001b[0m \u001b[38;5;28;01mreturn\u001b[39;00m _read(filepath_or_buffer, kwds)\n",
      "File \u001b[1;32m~\\anaconda3\\Lib\\site-packages\\pandas\\io\\parsers\\readers.py:611\u001b[0m, in \u001b[0;36m_read\u001b[1;34m(filepath_or_buffer, kwds)\u001b[0m\n\u001b[0;32m    608\u001b[0m _validate_names(kwds\u001b[38;5;241m.\u001b[39mget(\u001b[38;5;124m\"\u001b[39m\u001b[38;5;124mnames\u001b[39m\u001b[38;5;124m\"\u001b[39m, \u001b[38;5;28;01mNone\u001b[39;00m))\n\u001b[0;32m    610\u001b[0m \u001b[38;5;66;03m# Create the parser.\u001b[39;00m\n\u001b[1;32m--> 611\u001b[0m parser \u001b[38;5;241m=\u001b[39m TextFileReader(filepath_or_buffer, \u001b[38;5;241m*\u001b[39m\u001b[38;5;241m*\u001b[39mkwds)\n\u001b[0;32m    613\u001b[0m \u001b[38;5;28;01mif\u001b[39;00m chunksize \u001b[38;5;129;01mor\u001b[39;00m iterator:\n\u001b[0;32m    614\u001b[0m     \u001b[38;5;28;01mreturn\u001b[39;00m parser\n",
      "File \u001b[1;32m~\\anaconda3\\Lib\\site-packages\\pandas\\io\\parsers\\readers.py:1448\u001b[0m, in \u001b[0;36mTextFileReader.__init__\u001b[1;34m(self, f, engine, **kwds)\u001b[0m\n\u001b[0;32m   1445\u001b[0m     \u001b[38;5;28mself\u001b[39m\u001b[38;5;241m.\u001b[39moptions[\u001b[38;5;124m\"\u001b[39m\u001b[38;5;124mhas_index_names\u001b[39m\u001b[38;5;124m\"\u001b[39m] \u001b[38;5;241m=\u001b[39m kwds[\u001b[38;5;124m\"\u001b[39m\u001b[38;5;124mhas_index_names\u001b[39m\u001b[38;5;124m\"\u001b[39m]\n\u001b[0;32m   1447\u001b[0m \u001b[38;5;28mself\u001b[39m\u001b[38;5;241m.\u001b[39mhandles: IOHandles \u001b[38;5;241m|\u001b[39m \u001b[38;5;28;01mNone\u001b[39;00m \u001b[38;5;241m=\u001b[39m \u001b[38;5;28;01mNone\u001b[39;00m\n\u001b[1;32m-> 1448\u001b[0m \u001b[38;5;28mself\u001b[39m\u001b[38;5;241m.\u001b[39m_engine \u001b[38;5;241m=\u001b[39m \u001b[38;5;28mself\u001b[39m\u001b[38;5;241m.\u001b[39m_make_engine(f, \u001b[38;5;28mself\u001b[39m\u001b[38;5;241m.\u001b[39mengine)\n",
      "File \u001b[1;32m~\\anaconda3\\Lib\\site-packages\\pandas\\io\\parsers\\readers.py:1705\u001b[0m, in \u001b[0;36mTextFileReader._make_engine\u001b[1;34m(self, f, engine)\u001b[0m\n\u001b[0;32m   1703\u001b[0m     \u001b[38;5;28;01mif\u001b[39;00m \u001b[38;5;124m\"\u001b[39m\u001b[38;5;124mb\u001b[39m\u001b[38;5;124m\"\u001b[39m \u001b[38;5;129;01mnot\u001b[39;00m \u001b[38;5;129;01min\u001b[39;00m mode:\n\u001b[0;32m   1704\u001b[0m         mode \u001b[38;5;241m+\u001b[39m\u001b[38;5;241m=\u001b[39m \u001b[38;5;124m\"\u001b[39m\u001b[38;5;124mb\u001b[39m\u001b[38;5;124m\"\u001b[39m\n\u001b[1;32m-> 1705\u001b[0m \u001b[38;5;28mself\u001b[39m\u001b[38;5;241m.\u001b[39mhandles \u001b[38;5;241m=\u001b[39m get_handle(\n\u001b[0;32m   1706\u001b[0m     f,\n\u001b[0;32m   1707\u001b[0m     mode,\n\u001b[0;32m   1708\u001b[0m     encoding\u001b[38;5;241m=\u001b[39m\u001b[38;5;28mself\u001b[39m\u001b[38;5;241m.\u001b[39moptions\u001b[38;5;241m.\u001b[39mget(\u001b[38;5;124m\"\u001b[39m\u001b[38;5;124mencoding\u001b[39m\u001b[38;5;124m\"\u001b[39m, \u001b[38;5;28;01mNone\u001b[39;00m),\n\u001b[0;32m   1709\u001b[0m     compression\u001b[38;5;241m=\u001b[39m\u001b[38;5;28mself\u001b[39m\u001b[38;5;241m.\u001b[39moptions\u001b[38;5;241m.\u001b[39mget(\u001b[38;5;124m\"\u001b[39m\u001b[38;5;124mcompression\u001b[39m\u001b[38;5;124m\"\u001b[39m, \u001b[38;5;28;01mNone\u001b[39;00m),\n\u001b[0;32m   1710\u001b[0m     memory_map\u001b[38;5;241m=\u001b[39m\u001b[38;5;28mself\u001b[39m\u001b[38;5;241m.\u001b[39moptions\u001b[38;5;241m.\u001b[39mget(\u001b[38;5;124m\"\u001b[39m\u001b[38;5;124mmemory_map\u001b[39m\u001b[38;5;124m\"\u001b[39m, \u001b[38;5;28;01mFalse\u001b[39;00m),\n\u001b[0;32m   1711\u001b[0m     is_text\u001b[38;5;241m=\u001b[39mis_text,\n\u001b[0;32m   1712\u001b[0m     errors\u001b[38;5;241m=\u001b[39m\u001b[38;5;28mself\u001b[39m\u001b[38;5;241m.\u001b[39moptions\u001b[38;5;241m.\u001b[39mget(\u001b[38;5;124m\"\u001b[39m\u001b[38;5;124mencoding_errors\u001b[39m\u001b[38;5;124m\"\u001b[39m, \u001b[38;5;124m\"\u001b[39m\u001b[38;5;124mstrict\u001b[39m\u001b[38;5;124m\"\u001b[39m),\n\u001b[0;32m   1713\u001b[0m     storage_options\u001b[38;5;241m=\u001b[39m\u001b[38;5;28mself\u001b[39m\u001b[38;5;241m.\u001b[39moptions\u001b[38;5;241m.\u001b[39mget(\u001b[38;5;124m\"\u001b[39m\u001b[38;5;124mstorage_options\u001b[39m\u001b[38;5;124m\"\u001b[39m, \u001b[38;5;28;01mNone\u001b[39;00m),\n\u001b[0;32m   1714\u001b[0m )\n\u001b[0;32m   1715\u001b[0m \u001b[38;5;28;01massert\u001b[39;00m \u001b[38;5;28mself\u001b[39m\u001b[38;5;241m.\u001b[39mhandles \u001b[38;5;129;01mis\u001b[39;00m \u001b[38;5;129;01mnot\u001b[39;00m \u001b[38;5;28;01mNone\u001b[39;00m\n\u001b[0;32m   1716\u001b[0m f \u001b[38;5;241m=\u001b[39m \u001b[38;5;28mself\u001b[39m\u001b[38;5;241m.\u001b[39mhandles\u001b[38;5;241m.\u001b[39mhandle\n",
      "File \u001b[1;32m~\\anaconda3\\Lib\\site-packages\\pandas\\io\\common.py:863\u001b[0m, in \u001b[0;36mget_handle\u001b[1;34m(path_or_buf, mode, encoding, compression, memory_map, is_text, errors, storage_options)\u001b[0m\n\u001b[0;32m    858\u001b[0m \u001b[38;5;28;01melif\u001b[39;00m \u001b[38;5;28misinstance\u001b[39m(handle, \u001b[38;5;28mstr\u001b[39m):\n\u001b[0;32m    859\u001b[0m     \u001b[38;5;66;03m# Check whether the filename is to be opened in binary mode.\u001b[39;00m\n\u001b[0;32m    860\u001b[0m     \u001b[38;5;66;03m# Binary mode does not support 'encoding' and 'newline'.\u001b[39;00m\n\u001b[0;32m    861\u001b[0m     \u001b[38;5;28;01mif\u001b[39;00m ioargs\u001b[38;5;241m.\u001b[39mencoding \u001b[38;5;129;01mand\u001b[39;00m \u001b[38;5;124m\"\u001b[39m\u001b[38;5;124mb\u001b[39m\u001b[38;5;124m\"\u001b[39m \u001b[38;5;129;01mnot\u001b[39;00m \u001b[38;5;129;01min\u001b[39;00m ioargs\u001b[38;5;241m.\u001b[39mmode:\n\u001b[0;32m    862\u001b[0m         \u001b[38;5;66;03m# Encoding\u001b[39;00m\n\u001b[1;32m--> 863\u001b[0m         handle \u001b[38;5;241m=\u001b[39m \u001b[38;5;28mopen\u001b[39m(\n\u001b[0;32m    864\u001b[0m             handle,\n\u001b[0;32m    865\u001b[0m             ioargs\u001b[38;5;241m.\u001b[39mmode,\n\u001b[0;32m    866\u001b[0m             encoding\u001b[38;5;241m=\u001b[39mioargs\u001b[38;5;241m.\u001b[39mencoding,\n\u001b[0;32m    867\u001b[0m             errors\u001b[38;5;241m=\u001b[39merrors,\n\u001b[0;32m    868\u001b[0m             newline\u001b[38;5;241m=\u001b[39m\u001b[38;5;124m\"\u001b[39m\u001b[38;5;124m\"\u001b[39m,\n\u001b[0;32m    869\u001b[0m         )\n\u001b[0;32m    870\u001b[0m     \u001b[38;5;28;01melse\u001b[39;00m:\n\u001b[0;32m    871\u001b[0m         \u001b[38;5;66;03m# Binary mode\u001b[39;00m\n\u001b[0;32m    872\u001b[0m         handle \u001b[38;5;241m=\u001b[39m \u001b[38;5;28mopen\u001b[39m(handle, ioargs\u001b[38;5;241m.\u001b[39mmode)\n",
      "\u001b[1;31mFileNotFoundError\u001b[0m: [Errno 2] No such file or directory: '../fifa24_db/pdb_23.csv'"
     ]
    }
   ],
   "source": [
    "# players_df = pd.read_csv(\"players_db/fm23/platinum22_fm23data.csv\")\n",
    "players_df = pd.read_csv(\"../fifa24_db/pdb_23.csv\")\n",
    "# players_df = pd.read_csv(\"players_db/fm23/fm23db_processed.csv\")"
   ]
  },
  {
   "cell_type": "code",
   "execution_count": null,
   "id": "3298df77",
   "metadata": {},
   "outputs": [],
   "source": []
  },
  {
   "cell_type": "code",
   "execution_count": null,
   "id": "a2eb10ca",
   "metadata": {},
   "outputs": [],
   "source": [
    "tpr_data = pd.read_csv(\"players_db/fm23/team_ratings.csv\")"
   ]
  },
  {
   "cell_type": "code",
   "execution_count": null,
   "id": "b526803d",
   "metadata": {},
   "outputs": [],
   "source": [
    "tpr_data.sort_values(\"tpr\", ascending=False).head(n=5)"
   ]
  },
  {
   "cell_type": "code",
   "execution_count": null,
   "id": "d8912d57",
   "metadata": {},
   "outputs": [],
   "source": [
    "leagues = [\"Premier League\", \"Serie A\", \"Ligue 1\", \"LaLiga\", \"Bundesliga\"]\n",
    "fbref_league_dict = {\n",
    "    \"Premier League\": {\"name\": \"Premier League\", \"fbref_league_id\": 9, \"league_id\": 13},\n",
    "    \"Serie A\": {\"name\": \"Serie A\", \"fbref_league_id\": 11, \"league_id\": 31},\n",
    "    \"Ligue 1\": {\"name\": \"Ligue 1\", \"fbref_league_id\": 13, \"league_id\": 16},\n",
    "    \"LaLiga\": {\"name\": \"LaLiga\", \"fbref_league_id\": 12, \"league_id\": 53},\n",
    "    \"Bundesliga\": {\"name\": \"Bundesliga\", \"fbref_league_id\": 20, \"league_id\": 19},   \n",
    "}"
   ]
  },
  {
   "cell_type": "markdown",
   "id": "7c715b50",
   "metadata": {},
   "source": [
    "<br><br><br><br>"
   ]
  },
  {
   "cell_type": "markdown",
   "id": "fa142a72",
   "metadata": {},
   "source": [
    "# FBRef Match Logs URLs"
   ]
  },
  {
   "cell_type": "code",
   "execution_count": null,
   "id": "9637e106",
   "metadata": {},
   "outputs": [],
   "source": [
    "def GetTeamCredentials(league_id, season=\"2022-2023\"):\n",
    "    league_url = f\"https://fbref.com/en/comps/{league_id}/{season}\"\n",
    "    response = requests.get(league_url)\n",
    "    soup = BeautifulSoup(response.content, \"lxml\")\n",
    "\n",
    "    table = soup.find(\"table\", {\"class\": \"stats_table\"})\n",
    "    team_ids = []\n",
    "    team_names = []\n",
    "\n",
    "    for row in table.find_all(\"tr\")[1:]:\n",
    "        team_name = row.find(\"td\", {\"data-stat\": \"team\"}).text\n",
    "        team_id = row.find(\"td\", {\"data-stat\": \"team\"}).a.get(\"href\").split(\"/\")[3]\n",
    "        team_ids.append(team_id)\n",
    "        team_names.append(team_name)\n",
    "    return {\n",
    "        \"team_ids\":team_ids,\n",
    "        \"team_names\":team_names,\n",
    "    }"
   ]
  },
  {
   "cell_type": "code",
   "execution_count": null,
   "id": "70b47f66",
   "metadata": {},
   "outputs": [],
   "source": [
    "from rapidfuzz import process\n",
    "def find_best_match(name, choices):\n",
    "    return process.extractOne(name, choices)"
   ]
  },
  {
   "cell_type": "code",
   "execution_count": null,
   "id": "943230e9",
   "metadata": {},
   "outputs": [],
   "source": [
    "def TPRFromId(tpr_data, club_team_id):\n",
    "    power = tpr_data.query(f\"club_team_id == {club_team_id}\")[\"power\"].iloc[0]\n",
    "    return {\n",
    "        \"power\": power,\n",
    "    }"
   ]
  },
  {
   "cell_type": "code",
   "execution_count": null,
   "id": "e6d5a5c1",
   "metadata": {},
   "outputs": [],
   "source": [
    "def TFRFromId(tfr_data, club_team_id):\n",
    "    tfr_data = tfr_data[\"data\"]\n",
    "    power = tfr_data.query(f\"club_team_id == {club_team_id}\")[\"power\"].iloc[0]\n",
    "    finishing = tfr_data.query(f\"club_team_id == {club_team_id}\")[\"finishing\"].iloc[0]\n",
    "    return {\n",
    "        \"power\": power,\n",
    "        \"finishing\": finishing,\n",
    "    }"
   ]
  },
  {
   "cell_type": "code",
   "execution_count": null,
   "id": "97583599",
   "metadata": {},
   "outputs": [],
   "source": [
    "def TeamNameIdConverter(tpr_data, team_name, league_id, print_output=False):\n",
    "    # TeamNameIdConverter(tpr_data,\"chelseas\",13,1)\n",
    "    club_team_names = tpr_data.query(f\"league_id == {league_id}\")[\"club_name\"].tolist()\n",
    "    club_team_ids = tpr_data.query(f\"league_id == {league_id}\")[\"club_team_id\"].tolist()\n",
    "    club_team_name, score, other = find_best_match(team_name, club_team_names)\n",
    "    club_team_id = club_team_ids[club_team_names.index(club_team_name)]\n",
    "    if print_output:\n",
    "        print(f\"ID for {club_team_name}:\")\n",
    "    return club_team_id"
   ]
  },
  {
   "cell_type": "code",
   "execution_count": null,
   "id": "676ceb76",
   "metadata": {},
   "outputs": [],
   "source": [
    "def FB_URLS(creds, tpr_data, stat_attribute, fbref_league_id, league_id, season=\"2022-2023\"):\n",
    "    tpr_data = tpr_data\n",
    "    team_ids = creds[\"team_ids\"]\n",
    "    team_names = creds[\"team_names\"]\n",
    "    club_team_names = tpr_data.query(f\"league_id == {league_id}\")[\"club_name\"].tolist()\n",
    "    club_team_ids = tpr_data.query(f\"league_id == {league_id}\")[\"club_team_id\"].tolist()\n",
    "\n",
    "    for team_id, team_name in zip(team_ids, team_names):\n",
    "        best_match = find_best_match(team_name, club_team_names)\n",
    "        if best_match:\n",
    "            club_team_name, score, other = best_match\n",
    "            club_team_id = club_team_ids[club_team_names.index(club_team_name)]\n",
    "            match_logs_url = f\"https://fbref.com/en/squads/{team_id}/{season}/matchlogs/c{fbref_league_id}/{stat_attribute}/{team_name.replace(' ', '-')}\"\n",
    "            match_logs_stats_dict[stat_attribute].append({\n",
    "                \"id\": team_id,\n",
    "                \"league_id\": league_id,\n",
    "                \"fbref_league_id\": fbref_league_id,\n",
    "                \"stat\": stat_attribute,\n",
    "                \"team\": team_name,\n",
    "                \"club_team_id\": club_team_id,\n",
    "                \"club_team_name\": club_team_name, \n",
    "                \"url\": match_logs_url\n",
    "            })\n",
    "        else:\n",
    "            print(f\"No match found for team: {team_name}\")"
   ]
  },
  {
   "cell_type": "markdown",
   "id": "f4a535f9",
   "metadata": {},
   "source": [
    "<br><br><br><br>\n",
    "<h1 style=\"color:green\">Scraping FBRef</h1>"
   ]
  },
  {
   "cell_type": "code",
   "execution_count": null,
   "id": "6dd427e5",
   "metadata": {},
   "outputs": [],
   "source": [
    "df = pd.read_html(\"https://fbref.com/en/squads/b8fd03ef/2022-2023/matchlogs/c9/shooting/-Manchester-City\")[1][:38]\n",
    "df.sort_values(('Against Manchester City', 'Date')).head()\n",
    "df.columns"
   ]
  },
  {
   "cell_type": "code",
   "execution_count": null,
   "id": "c6b762b0",
   "metadata": {},
   "outputs": [],
   "source": [
    "def test_stat_df(stat_attribute):\n",
    "    df = pd.read_html(f\"https://fbref.com/en/squads/b8fd03ef/2022-2023/matchlogs/c9/{stat_attribute}/-Manchester-City\")[0][:38]\n",
    "    url = f\"https://fbref.com/en/squads/b8fd03ef/2022-2023/matchlogs/c9/{stat_attribute}/-Manchester-City\"\n",
    "    return url"
   ]
  },
  {
   "cell_type": "code",
   "execution_count": null,
   "id": "1aa503f9",
   "metadata": {},
   "outputs": [],
   "source": [
    "def FB_MatchLogs(url, last_matchweek=38):\n",
    "    encoded_url = quote(url, safe=':/')\n",
    "    df=pd.read_html(encoded_url)\n",
    "    return {\n",
    "        \"for\": df[0][:last_matchweek],\n",
    "        \"against\": df[1][:last_matchweek],\n",
    "    }"
   ]
  },
  {
   "cell_type": "code",
   "execution_count": null,
   "id": "79354547",
   "metadata": {},
   "outputs": [],
   "source": [
    "def MatchLogs_MultiIndexColumnDict(df, stat_attribute=None):\n",
    "    stat_columns_dict = {}\n",
    "    for item in df.columns:\n",
    "        right_side = item[1]\n",
    "        stat_columns_dict[right_side] = item\n",
    "    if stat_attribute:\n",
    "        return stat_columns_dict[stat_attribute]\n",
    "    return stat_columns_dict"
   ]
  },
  {
   "cell_type": "markdown",
   "id": "07db4342",
   "metadata": {},
   "source": [
    "<br><br><br><br>\n",
    "<h1 style=\"color:aqua\">Regression Boilerplate</h1>"
   ]
  },
  {
   "cell_type": "code",
   "execution_count": null,
   "id": "a35f9f0a",
   "metadata": {},
   "outputs": [],
   "source": [
    "import pandas as pd\n",
    "import matplotlib.pyplot as plt\n",
    "from sklearn.model_selection import train_test_split\n",
    "from sklearn.linear_model import LinearRegression\n",
    "from sklearn.metrics import mean_squared_error\n",
    "\n",
    "def train_linear_regression(df, features, target_variable, apply_dtype, test_size=0.19, random_state=42):\n",
    "    X = df[features]\n",
    "    y = df[target_variable]\n",
    "    X_train, X_test, y_train, y_test = train_test_split(X, y, test_size=test_size, random_state=random_state)\n",
    "\n",
    "    model = LinearRegression()\n",
    "    model.fit(X_train, y_train)\n",
    "    y_pred = model.predict(X_test)\n",
    "\n",
    "    df['predicted'] = model.predict(df[features])\n",
    "    df['predicted'] = df['predicted'].apply(apply_dtype)\n",
    "    \n",
    "    mse = mean_squared_error(y_test, y_pred)\n",
    "    coefficients = dict(zip(features, model.coef_))\n",
    "    intercept = model.intercept_\n",
    "    return model, mse, coefficients, intercept\n",
    "\n",
    "def model_error(df, target_variable):\n",
    "    df['error'] = df[target_variable] - df['predicted']\n",
    "    return df['error'].apply(abs)\n",
    "\n",
    "def model_head(df, features, target_variable, sort_parameter=\"team_power\", sort_ascending=False, n=5):\n",
    "    return df[features+[target_variable,\"predicted\",\"error\"]].sort_values(sort_parameter, ascending=sort_ascending).head(n=n)\n",
    "\n",
    "def model_equation(coefficients, intercept):\n",
    "    equation = \" + \".join([f\"{coef:.2e} * {feat}\" for feat, coef in coefficients.items()])\n",
    "    equation = equation + f\" + {intercept:.2e}\"\n",
    "    equation = equation.replace(\"+ -\", \"- \")\n",
    "    return equation\n",
    "\n",
    "def model_predict(**args):\n",
    "    pass\n",
    "\n",
    "def plot_predicted_vs_actual(df, target_variable, model=None, features=None):\n",
    "    plt.figure(figsize=(10, 6))\n",
    "    plt.plot(df.index, df[target_variable], marker='o', linestyle='-', color=\"b\", label='Actual')\n",
    "    \n",
    "    if model and features:\n",
    "        plt.plot(df.index, df['predicted'], marker='o', linestyle='-', color=\"r\", label='Predicted')\n",
    "    plt.title('Line Plot of Predicted Values')\n",
    "    plt.xlabel('Index')\n",
    "    plt.ylabel('Value')\n",
    "    plt.legend()\n",
    "    plt.grid(True)\n",
    "    plt.show()"
   ]
  },
  {
   "cell_type": "code",
   "execution_count": null,
   "id": "e2807aba",
   "metadata": {},
   "outputs": [],
   "source": [
    "def convert_equation_to_json(features, values, intercept):\n",
    "    # Usage: convert_equation_to_json(features, coefficients.values(), intercept)\n",
    "    equation_dict = {}\n",
    "    for feature, value in zip(features, values):\n",
    "        equation_dict[feature] = {\n",
    "            \"name\": feature,\n",
    "            \"value\": value\n",
    "        }\n",
    "    equation_dict[\"intercept\"] = {\"name\":\"intercept\", \"value\":intercept}\n",
    "    return equation_dict"
   ]
  },
  {
   "cell_type": "markdown",
   "id": "f351b4bd",
   "metadata": {},
   "source": [
    "<br>\n",
    "<h1 style=\"color:aqua\">Randomness Factor</h1>"
   ]
  },
  {
   "cell_type": "code",
   "execution_count": null,
   "id": "e2349a21",
   "metadata": {},
   "outputs": [],
   "source": [
    "def randomness_proportional(df, target_variable):\n",
    "    target_mean = df[target_variable].mean()\n",
    "    target_std = df[target_variable].std()\n",
    "    target_min = df[target_variable].min()\n",
    "    target_max = df[target_variable].max()\n",
    "    formula = (target_min) / (target_mean) \n",
    "    print(\"Min:\",target_min, \",\", \"Max:\",target_max)\n",
    "    return formula\n",
    "\n",
    "def randomness_volume(df, target_variable):\n",
    "    target_mean = df[target_variable].mean()\n",
    "    target_std = df[target_variable].std()\n",
    "    target_min = df[target_variable].min()\n",
    "    target_max = df[target_variable].max()\n",
    "    formula = (target_mean) / (target_std)\n",
    "    print(\"Min:\",target_min, \",\", \"Max:\",target_max)\n",
    "    return formula"
   ]
  },
  {
   "cell_type": "code",
   "execution_count": null,
   "id": "f9370408",
   "metadata": {},
   "outputs": [],
   "source": [
    "def interval_proportional(value, step=0.05, expand_multiplier=1):\n",
    "    lower_bound = round(value - step, 3)\n",
    "    upper_bound = round(value + step, 3)\n",
    "    numbers = np.arange(-upper_bound*expand_multiplier, upper_bound + step*expand_multiplier, step)\n",
    "    return numbers\n",
    "\n",
    "def interval_volume(value, step=1, expand_multiplier=1):\n",
    "    lower_bound = int(value - step)\n",
    "    upper_bound = int(value + step)\n",
    "    numbers = np.arange(-upper_bound*expand_multiplier, upper_bound + step*expand_multiplier, step)\n",
    "    return numbers"
   ]
  },
  {
   "cell_type": "code",
   "execution_count": null,
   "id": "4a21169d",
   "metadata": {},
   "outputs": [],
   "source": [
    "def probability_protector(value):\n",
    "    if value < 0:\n",
    "        return 0\n",
    "    elif value > 1:\n",
    "        return 1\n",
    "    else:\n",
    "        return value\n",
    "    \n",
    "def negativity_protector(value, raw_value):\n",
    "    if value < 0:\n",
    "        return raw_value\n",
    "    else:\n",
    "        return value"
   ]
  },
  {
   "cell_type": "code",
   "execution_count": null,
   "id": "9c69152b",
   "metadata": {},
   "outputs": [],
   "source": [
    "def random_choice(array):\n",
    "    return np.random.choice(array)"
   ]
  },
  {
   "cell_type": "markdown",
   "id": "05a6b50c",
   "metadata": {},
   "source": [
    "<br><br><br><br>\n",
    "<h1 style=\"color:pink\">Match Logs DataFrame</h1>"
   ]
  },
  {
   "cell_type": "code",
   "execution_count": null,
   "id": "8edfa520",
   "metadata": {},
   "outputs": [],
   "source": [
    "def ColumnConverter(df, keyword):\n",
    "    df_cols = df.columns.map('.'.join)\n",
    "    new_cols = [col.split('.')[1] if keyword in col else col for col in df_cols]\n",
    "    return new_cols"
   ]
  },
  {
   "cell_type": "code",
   "execution_count": null,
   "id": "7e551af5",
   "metadata": {},
   "outputs": [],
   "source": [
    "def prepare_expand_dict(column_dict, x, y):\n",
    "    # example: {\"unnamed.0.st: \"}\n",
    "    keys = column_dict.keys()\n",
    "    values = column_dict.values()\n",
    "    expanded_dict = {}\n",
    "    for key, value in zip(keys, values):\n",
    "        expanded_dict[\"team_\"+key.lower()] = x[value]\n",
    "        expanded_dict[\"opponent_\"+key.lower()] = y[value]\n",
    "    return expanded_dict"
   ]
  },
  {
   "cell_type": "code",
   "execution_count": null,
   "id": "59aa61b6",
   "metadata": {},
   "outputs": [],
   "source": [
    "def prepare_rating_dict(ratings_array, team_id, suffix):\n",
    "    dict_ = {}\n",
    "    for rating in ratings_array:\n",
    "        metric_data = rating[\"data\"].query(f\"club_team_id == {team_id}\")[rating[\"name\"]].iloc[0]\n",
    "        dict_[suffix+\"_\"+rating[\"name\"]] = metric_data\n",
    "    return dict_"
   ]
  },
  {
   "cell_type": "code",
   "execution_count": null,
   "id": "11575755",
   "metadata": {
    "scrolled": true
   },
   "outputs": [],
   "source": [
    "def generate_fbref_match_logs_array \\\n",
    "(match_logs_stats_dict, column_dict, tpr_data, \\\n",
    " other_rating_data, league_id, team_number_league, last_matchweek, current_stat, multiple_array=[]):\n",
    "\n",
    "    df_log_array = multiple_array\n",
    "    tpr_data = tpr_data[\"data\"]\n",
    "    \n",
    "    for tindex in range(team_number_league):\n",
    "        time.sleep(0.01)\n",
    "        current_team = match_logs_stats_dict[current_stat][tindex]\n",
    "\n",
    "        url = current_team[\"url\"]\n",
    "        print(url, tindex)\n",
    "\n",
    "        match_logs = FB_MatchLogs(url, last_matchweek=last_matchweek)\n",
    "        df0 = match_logs[\"for\"]\n",
    "        df0.columns = ColumnConverter(df0, \"For\")\n",
    "        \n",
    "        df1 = match_logs[\"against\"]\n",
    "        df1.columns = ColumnConverter(df1, \"Against\")\n",
    "        \n",
    "        team_names = df0[\"Opponent\"].unique().tolist()\n",
    "        team_ids = [TeamNameIdConverter(tpr_data, team_name, league_id) for team_name in team_names]\n",
    "        team_rating_data = TFRFromId(tfr_data, current_team[\"club_team_id\"])\n",
    "\n",
    "        for i in range(last_matchweek):\n",
    "            x = df0.iloc[i]\n",
    "            y = df1.iloc[i]\n",
    "            x_rating_data = prepare_rating_dict(other_rating_data, current_team[\"club_team_id\"], suffix=\"team\")\n",
    "            y_rating_data = prepare_rating_dict(other_rating_data, TeamNameIdConverter(tpr_data, x[\"Opponent\"], league_id), suffix=\"opponent\")\n",
    "            lab_df_dict = {\n",
    "                \"league_id\": league_id,\n",
    "                \"team_name\": current_team[\"club_team_name\"],\n",
    "                \"team_id\": current_team[\"club_team_id\"],\n",
    "                \"opponent_name\": x[\"Opponent\"],\n",
    "                \"opponent_id\": TeamNameIdConverter(tpr_data, x[\"Opponent\"], league_id),\n",
    "                \"team_power\": x_rating_data[\"team_power\"],\n",
    "                \"opponent_power\": y_rating_data[\"opponent_power\"],\n",
    "            }\n",
    "            merged_dict = {**lab_df_dict, **prepare_expand_dict(column_dict, x, y), **x_rating_data, **y_rating_data}\n",
    "            df_log_array.append(merged_dict)\n",
    "    print(\"Data collecting has been completed! ✅\")\n",
    "    return df_log_array"
   ]
  },
  {
   "cell_type": "markdown",
   "id": "4d1991c7-66b7-4601-bcca-b85b5d5f447f",
   "metadata": {},
   "source": [
    "<br><br><br><br>\n",
    "<h1 style=\"color:orange\">🦸‍♂️Must Parameters</h1>"
   ]
  },
  {
   "cell_type": "code",
   "execution_count": null,
   "id": "12663541",
   "metadata": {},
   "outputs": [],
   "source": [
    "match_logs_stats_dict = {\n",
    "    \"shooting\":[],\n",
    "    \"passing\":[],\n",
    "    \"defense\":[],\n",
    "    \"keeper\":[],\n",
    "    \"passing_types\":[],\n",
    "    \"gca\":[],\n",
    "    \"possession\":[],\n",
    "    \"misc\":[],\n",
    "}\n",
    "\n",
    "attributes = match_logs_stats_dict.keys()\n",
    "league_name = \"Serie A\"\n",
    "league_id = fbref_league_dict[league_name][\"league_id\"]\n",
    "fbref_league_id = fbref_league_dict[league_name][\"fbref_league_id\"]\n",
    "season = \"2022-2023\"\n",
    "team_number_league = 20\n",
    "last_matchweek = 38\n",
    "creds = GetTeamCredentials(fbref_league_id, season)\n",
    "\n",
    "for stat_attribute in attributes:\n",
    "    FB_URLS(creds, tpr_data, stat_attribute, fbref_league_id, league_id)"
   ]
  },
  {
   "cell_type": "code",
   "execution_count": null,
   "id": "b9a5fc37",
   "metadata": {},
   "outputs": [],
   "source": [
    "current_stat = \"shooting\""
   ]
  },
  {
   "cell_type": "code",
   "execution_count": null,
   "id": "123f4f57",
   "metadata": {},
   "outputs": [],
   "source": [
    "proper_terms = ['Date', 'Time', 'Round', 'Day', 'Venue', 'Result', 'GF', 'GA',\n",
    "                'Opponent', 'Goals', 'Shots', 'Shots on Target',\n",
    "                'Shots on Target Percentage', 'Goals per Shot', 'Goals per Shot on Target',\n",
    "                'Distance Covered', 'Free Kicks', 'Penalties', 'Penalty Attempts',\n",
    "                'Expected Goals', 'Non-Penalty Expected Goals', 'Expected Goals per Shot',\n",
    "                'Goals minus Expected Goals', 'Non-Penalty Goals minus Expected Goals',\n",
    "                'Match Report']\n",
    "column_names = ['Date', 'Time', 'Round', 'Day', 'Venue', 'Result', 'GF', 'GA',\n",
    "                'Opponent', 'Standard.Gls', 'Standard.Sh', 'Standard.SoT',\n",
    "                'Standard.SoT%', 'Standard.G/Sh', 'Standard.G/SoT', 'Standard.Dist',\n",
    "                'Standard.FK', 'Standard.PK', 'Standard.PKatt', 'Expected.xG',\n",
    "                'Expected.npxG', 'Expected.npxG/Sh', 'Expected.G-xG',\n",
    "                'Expected.np:G-xG', 'Unnamed: 24_level_0.Match Report']\n",
    "\n",
    "proper_terms = [term.lower().replace(\" \", \"_\") for term in proper_terms]\n",
    "\n",
    "column_dict = dict(zip(proper_terms, column_names))"
   ]
  },
  {
   "cell_type": "code",
   "execution_count": null,
   "id": "f9f3fe8b",
   "metadata": {},
   "outputs": [],
   "source": [
    "prepared_index_dict = column_dict\n",
    "prepared_rating_data = [tpr_data, tfr_data]"
   ]
  },
  {
   "cell_type": "code",
   "execution_count": null,
   "id": "c4f8e24a",
   "metadata": {},
   "outputs": [],
   "source": [
    "# df_log_array = generate_fbref_match_logs_array \\\n",
    "# (match_logs_stats_dict, prepared_index_dict, tpr_data,  \\\n",
    "#  prepared_rating_data, league_id, team_number_league, last_matchweek, current_stat)\n",
    "# df_log = pd.DataFrame(df_log_array)\n",
    "# df_log.to_csv(f\"../@blacksmith/match_logs/fbref_match_logs_{league_name}@{current_stat}.csv\")\n",
    "\n",
    "df_log = pd.read_csv(f\"../@blacksmith/match_logs/fbref_match_logs_{league_name}@{current_stat}.csv\")"
   ]
  },
  {
   "cell_type": "markdown",
   "id": "a047e864",
   "metadata": {
    "jp-MarkdownHeadingCollapsed": true
   },
   "source": [
    "<br><br><br><br>\n",
    "<h1 style=\"color:yellow\">\"shooting\"</h1>"
   ]
  },
  {
   "cell_type": "markdown",
   "id": "f1267059",
   "metadata": {},
   "source": [
    "<br><br><br><br>\n",
    "<h1 style=\"color:red\">Total Shot Volume</h1>"
   ]
  },
  {
   "cell_type": "code",
   "execution_count": null,
   "id": "3f7ec674",
   "metadata": {},
   "outputs": [],
   "source": [
    "df_log.columns"
   ]
  },
  {
   "cell_type": "code",
   "execution_count": null,
   "id": "bab13641",
   "metadata": {},
   "outputs": [],
   "source": [
    "columns_to_drop = ['team_name','team_id','opponent_name','opponent_id']\n",
    "df = df_log\n",
    "df[\"total_shots\"] = df[\"team_shots\"] + df[\"opponent_shots\"]"
   ]
  },
  {
   "cell_type": "code",
   "execution_count": null,
   "id": "f26415d6",
   "metadata": {},
   "outputs": [],
   "source": [
    "features = ['team_power', 'team_finishing', 'opponent_power', 'opponent_finishing', \"team_shots\", \"opponent_shots\"]\n",
    "target_variable = 'total_shots'"
   ]
  },
  {
   "cell_type": "code",
   "execution_count": null,
   "id": "ca2e7d13",
   "metadata": {},
   "outputs": [],
   "source": [
    "model, mse, coefficients, intercept = train_linear_regression(df, features, target_variable, int)\n",
    "mean_error = model_error(df, target_variable).mean()\n",
    "std_error = model_error(df, target_variable).std()\n",
    "print(\"Mean Squared Error:\", mse)\n",
    "print(\"Error Mean:\", mean_error)"
   ]
  },
  {
   "cell_type": "code",
   "execution_count": null,
   "id": "d5792b96",
   "metadata": {},
   "outputs": [],
   "source": [
    "# plot_predicted_vs_actual(df, target_variable, model=model, features=features)"
   ]
  },
  {
   "cell_type": "code",
   "execution_count": null,
   "id": "6f6bb60d",
   "metadata": {
    "scrolled": true
   },
   "outputs": [],
   "source": [
    "model_equation(coefficients, intercept)"
   ]
  },
  {
   "cell_type": "code",
   "execution_count": null,
   "id": "7ed06a8d",
   "metadata": {},
   "outputs": [],
   "source": [
    "model_head(df, features+columns_to_drop, target_variable, sort_parameter=\"predicted\", sort_ascending=True, n=5)"
   ]
  },
  {
   "cell_type": "code",
   "execution_count": null,
   "id": "7d032a28",
   "metadata": {},
   "outputs": [],
   "source": [
    "randomness_func, interval_func = randomness_volume, interval_volume\n",
    "result = randomness_func(df, target_variable)\n",
    "interval = interval_func(result, step=1)\n",
    "\n",
    "print(\"Result:\", result)\n",
    "print(\"Interval:\", interval)\n",
    "random_choice(interval)"
   ]
  },
  {
   "cell_type": "code",
   "execution_count": null,
   "id": "d895f703",
   "metadata": {},
   "outputs": [],
   "source": [
    "df[\"randomness\"] = df[\"predicted\"].copy()\n",
    "df[\"randomness\"] = df[\"predicted\"].apply(lambda value: negativity_protector(value + random_choice(interval), value))\n",
    "\n",
    "df[features+columns_to_drop+[target_variable,\"predicted\",\"randomness\"]].sort_values(\"randomness\", ascending=False).head(n=5)"
   ]
  },
  {
   "cell_type": "markdown",
   "id": "bb5c8567",
   "metadata": {},
   "source": [
    "<br><br><br><br>\n",
    "<h1 style=\"color:red\">Shot Share</h1>"
   ]
  },
  {
   "cell_type": "code",
   "execution_count": null,
   "id": "b0160365",
   "metadata": {},
   "outputs": [],
   "source": [
    "df[\"team_sh_share\"] = df[\"team_shots\"] / df[\"total_shots\"]"
   ]
  },
  {
   "cell_type": "code",
   "execution_count": null,
   "id": "9eea271d",
   "metadata": {},
   "outputs": [],
   "source": [
    "features = ['team_power', 'opponent_power']\n",
    "target_variable = 'team_sh_share'"
   ]
  },
  {
   "cell_type": "code",
   "execution_count": null,
   "id": "1f2b72f8",
   "metadata": {},
   "outputs": [],
   "source": [
    "model, mse, coefficients, intercept = train_linear_regression(df, features, target_variable, float)\n",
    "mean_error = model_error(df, target_variable).mean()\n",
    "std_error = model_error(df, target_variable).std()\n",
    "print(\"Mean Squared Error:\", mse)\n",
    "print(\"Error Mean:\", mean_error)"
   ]
  },
  {
   "cell_type": "code",
   "execution_count": null,
   "id": "229649fc",
   "metadata": {},
   "outputs": [],
   "source": [
    "model_equation(coefficients, intercept)"
   ]
  },
  {
   "cell_type": "code",
   "execution_count": null,
   "id": "dedc81f0",
   "metadata": {},
   "outputs": [],
   "source": [
    "# plot_predicted_vs_actual(df, target_variable, model=model, features=features)"
   ]
  },
  {
   "cell_type": "code",
   "execution_count": null,
   "id": "6b05fe89",
   "metadata": {},
   "outputs": [],
   "source": [
    "model_head(df, features+columns_to_drop, target_variable, sort_parameter=\"predicted\", sort_ascending=False, n=5)"
   ]
  },
  {
   "cell_type": "code",
   "execution_count": null,
   "id": "1708810c",
   "metadata": {},
   "outputs": [],
   "source": [
    "randomness_func, interval_func = randomness_proportional, interval_proportional\n",
    "result = randomness_func(df, target_variable)\n",
    "interval = interval_func(result, step=0.01)\n",
    "\n",
    "print(\"Result:\", result)\n",
    "print(\"Interval:\", interval)\n",
    "random_choice(interval)"
   ]
  },
  {
   "cell_type": "code",
   "execution_count": null,
   "id": "082747e9",
   "metadata": {},
   "outputs": [],
   "source": [
    "df[\"randomness\"] = df[\"predicted\"].copy()\n",
    "df[\"randomness\"] = df[\"predicted\"].apply(lambda value: probability_protector(value + random_choice(interval)))\n",
    "\n",
    "df[features+columns_to_drop+[target_variable,\"predicted\",\"randomness\"]].sort_values(\"randomness\", ascending=False).head(n=5)"
   ]
  },
  {
   "cell_type": "code",
   "execution_count": null,
   "id": "848dcd1d",
   "metadata": {},
   "outputs": [],
   "source": [
    "team_power = 82\n",
    "opponent_power = 70\n",
    "\n",
    "y = 1.60e-02 * team_power - 1.45e-02 * opponent_power + 3.78e-01\n",
    "probability_protector(y+random_choice(interval)) # MODEL IS DONE!"
   ]
  },
  {
   "cell_type": "markdown",
   "id": "b1a3bcc1",
   "metadata": {},
   "source": [
    "<br><br><br><br>\n",
    "<h1 style=\"color:red\">Shot on Target</h1>"
   ]
  },
  {
   "cell_type": "code",
   "execution_count": null,
   "id": "ff2cb5dc",
   "metadata": {},
   "outputs": [],
   "source": [
    "features = ['team_power', 'team_finishing', 'opponent_power', 'team_shots']\n",
    "target_variable = 'team_shots_on_target'"
   ]
  },
  {
   "cell_type": "code",
   "execution_count": null,
   "id": "04ab8d8e",
   "metadata": {},
   "outputs": [],
   "source": [
    "model, mse, coefficients, intercept = train_linear_regression(df, features, target_variable, int)\n",
    "mean_error = model_error(df, target_variable).mean()\n",
    "std_error = model_error(df, target_variable).std()\n",
    "print(\"Mean Squared Error:\", mse)\n",
    "print(\"Error Mean:\", mean_error)"
   ]
  },
  {
   "cell_type": "code",
   "execution_count": null,
   "id": "5171d889",
   "metadata": {},
   "outputs": [],
   "source": [
    "model_equation(coefficients, intercept)"
   ]
  },
  {
   "cell_type": "code",
   "execution_count": null,
   "id": "0d56a2e6",
   "metadata": {},
   "outputs": [],
   "source": [
    "# plot_predicted_vs_actual(df, target_variable, model=model, features=features)"
   ]
  },
  {
   "cell_type": "code",
   "execution_count": null,
   "id": "4a7c4fb5",
   "metadata": {},
   "outputs": [],
   "source": [
    "model_head(df, features+columns_to_drop, target_variable, sort_parameter=\"predicted\", sort_ascending=False, n=5)"
   ]
  },
  {
   "cell_type": "code",
   "execution_count": null,
   "id": "c17840a9",
   "metadata": {},
   "outputs": [],
   "source": [
    "randomness_func, interval_func = randomness_volume, interval_volume\n",
    "result = randomness_func(df, target_variable)\n",
    "interval = interval_func(result, step=1)\n",
    "\n",
    "print(\"Result:\", result)\n",
    "print(\"Interval:\", interval)\n",
    "random_choice(interval)"
   ]
  },
  {
   "cell_type": "code",
   "execution_count": null,
   "id": "1971ba80",
   "metadata": {},
   "outputs": [],
   "source": [
    "df[\"randomness\"] = df[\"predicted\"].copy()\n",
    "df[\"randomness\"] = df[\"predicted\"].apply(lambda value: negativity_protector(value + random_choice(interval), value))\n",
    "\n",
    "df[features+columns_to_drop+[target_variable,\"predicted\",\"randomness\"]].sort_values(\"randomness\", ascending=False).head(n=5)"
   ]
  },
  {
   "cell_type": "markdown",
   "id": "b640dc7c",
   "metadata": {},
   "source": [
    "<br><br><br><br>\n",
    "<h1 style=\"color:purple\">Shot Models Test</h1>"
   ]
  },
  {
   "cell_type": "code",
   "execution_count": null,
   "id": "a75102f3",
   "metadata": {},
   "outputs": [],
   "source": []
  },
  {
   "cell_type": "markdown",
   "id": "a171c051",
   "metadata": {},
   "source": [
    "<br><br><br><br>\n",
    "<h1 style=\"color:black\">Lineup Test</h1>"
   ]
  },
  {
   "cell_type": "code",
   "execution_count": null,
   "id": "37f570a7",
   "metadata": {},
   "outputs": [],
   "source": [
    "lineup_test_ids = [230621, 235212, 155862, 207865, 252145, 199556, 234153, 230767, 231747, 158023, 190871]\n",
    "test_team_df = []\n",
    "for player_id in lineup_test_ids:\n",
    "    player_df = players_df[players_df['player_id'] == player_id]\n",
    "    test_team_df.append(player_df)\n",
    "result_df = pd.concat(test_team_df, ignore_index=True)"
   ]
  },
  {
   "cell_type": "code",
   "execution_count": null,
   "id": "656cf4ea",
   "metadata": {},
   "outputs": [],
   "source": [
    "TFR(result_df)[\"data\"]"
   ]
  },
  {
   "cell_type": "markdown",
   "id": "d7f9bb8a",
   "metadata": {},
   "source": [
    "<br><br><br><br>\n",
    "<h1 style=\"color:yellow\">\"passing\"</h1>"
   ]
  },
  {
   "cell_type": "code",
   "execution_count": null,
   "id": "85dc8cc4",
   "metadata": {},
   "outputs": [],
   "source": [
    "current_stat = \"passing\""
   ]
  },
  {
   "cell_type": "code",
   "execution_count": null,
   "id": "f3eb038d",
   "metadata": {},
   "outputs": [],
   "source": [
    "cols = FB_MatchLogs(test_stat_df(current_stat))[\"for\"]\n",
    "ColumnConverter(cols, \"For\")"
   ]
  },
  {
   "cell_type": "code",
   "execution_count": null,
   "id": "eec129fc",
   "metadata": {},
   "outputs": [],
   "source": [
    "column_names = ['Date', 'Time', 'Round', 'Day', 'Venue', 'Result', 'GF', 'GA',\n",
    "                'Opponent', 'Total.Cmp', 'Total.Att', 'Total.Cmp%', 'Total.TotDist',\n",
    "                'Total.PrgDist', 'Short.Cmp', 'Short.Att', 'Short.Cmp%', 'Medium.Cmp',\n",
    "                'Medium.Att', 'Medium.Cmp%', 'Long.Cmp', 'Long.Att', 'Long.Cmp%',\n",
    "                'Unnamed: 23_level_0.Ast', 'Unnamed: 24_level_0.xAG',\n",
    "                'Unnamed: 25_level_0.xA', 'Unnamed: 26_level_0.KP',\n",
    "                'Unnamed: 27_level_0.1/3', 'Unnamed: 28_level_0.PPA',\n",
    "                'Unnamed: 29_level_0.CrsPA', 'Unnamed: 30_level_0.PrgP',\n",
    "                'Unnamed: 31_level_0.Match Report']\n",
    "\n",
    "proper_terms = ['Date', 'Time', 'Round', 'Day', 'Venue', 'Result', 'GF', 'GA',\n",
    "                'Opponent', 'Total_Completion', 'Total_Attempts', 'Total_Completion_Rate',\n",
    "                'Total_Total_Distance', 'Total_Progressed_Distance', 'Short_Completion',\n",
    "                'Short_Attempts', 'Short_Completion_Rate', 'Medium_Completion',\n",
    "                'Medium_Attempts', 'Medium_Completion_Rate', 'Long_Completion',\n",
    "                'Long_Attempts', 'Long_Completion_Rate', 'Assists', 'Expected_Goals_Against',\n",
    "                'Expected_Assists', 'Key_Passes', 'Final_Third_Passes', 'Passes_Progressive',\n",
    "                'Passes_Into_Final_Third', 'Crosses_And_Corners_Completion', 'Progressive_Passes',\n",
    "                'Match_Report']\n",
    "\n",
    "proper_terms = [term.lower().replace(\" \", \"_\") for term in proper_terms]\n",
    "column_dict = dict(zip(proper_terms, column_names))\n",
    "\n",
    "prepared_index_dict = column_dict\n",
    "prepared_rating_data = [tpr_data, tfr_data]"
   ]
  },
  {
   "cell_type": "code",
   "execution_count": null,
   "id": "e793ebf2",
   "metadata": {},
   "outputs": [],
   "source": [
    "# df_log_array = generate_fbref_match_logs_array \\\n",
    "# (match_logs_stats_dict, prepared_index_dict, tpr_data, \\\n",
    "#  prepared_rating_data, league_id, team_number_league, last_matchweek, current_stat)\n",
    "# df_log = pd.DataFrame(df_log_array)\n",
    "# df_log.to_csv(f\"../@blacksmith/match_logs/fbref_match_logs_{league_name}@{current_stat}.csv\")\n",
    "\n",
    "df_log = pd.read_csv(f\"../@blacksmith/match_logs/fbref_match_logs_{league_name}@{current_stat}.csv\")"
   ]
  },
  {
   "cell_type": "code",
   "execution_count": null,
   "id": "e7a1735f",
   "metadata": {},
   "outputs": [],
   "source": [
    "df_log.columns"
   ]
  },
  {
   "cell_type": "markdown",
   "id": "d28cf69e-785b-42d8-925f-a0fdebac6865",
   "metadata": {},
   "source": [
    "<br><br><br><br>\n",
    "<h1 style=\"color:red\">Pass Total Attempts</h1>"
   ]
  },
  {
   "cell_type": "code",
   "execution_count": null,
   "id": "33f51181",
   "metadata": {},
   "outputs": [],
   "source": [
    "df = df_log\n",
    "features = ['team_power', 'opponent_power', 'team_total_attempts']\n",
    "target_variable = 'team_total_completion'"
   ]
  },
  {
   "cell_type": "code",
   "execution_count": null,
   "id": "e1cd352a",
   "metadata": {},
   "outputs": [],
   "source": [
    "model, mse, coefficients, intercept = train_linear_regression(df, features, target_variable, int)\n",
    "mean_error = model_error(df, target_variable).mean()\n",
    "std_error = model_error(df, target_variable).std()\n",
    "print(\"Mean Squared Error:\", mse)\n",
    "print(\"Error Mean:\", mean_error)"
   ]
  },
  {
   "cell_type": "code",
   "execution_count": null,
   "id": "69b2674d",
   "metadata": {},
   "outputs": [],
   "source": [
    "# plot_predicted_vs_actual(df, target_variable, model=model, features=features)"
   ]
  },
  {
   "cell_type": "code",
   "execution_count": null,
   "id": "7125e860",
   "metadata": {},
   "outputs": [],
   "source": [
    "model_equation(coefficients, intercept)"
   ]
  },
  {
   "cell_type": "code",
   "execution_count": null,
   "id": "9e0f070e",
   "metadata": {},
   "outputs": [],
   "source": [
    "model_head(df, features+columns_to_drop, target_variable, sort_parameter=\"predicted\", sort_ascending=True, n=5)"
   ]
  },
  {
   "cell_type": "code",
   "execution_count": null,
   "id": "e8472bc6",
   "metadata": {},
   "outputs": [],
   "source": [
    "randomness_func, interval_func = randomness_volume, interval_volume\n",
    "result = randomness_func(df, target_variable)\n",
    "interval = interval_func(result, step=15, expand_multiplier=3)\n",
    "\n",
    "print(\"Result:\", result)\n",
    "print(\"Interval:\", interval)\n",
    "random_choice(interval)"
   ]
  },
  {
   "cell_type": "code",
   "execution_count": null,
   "id": "ed95450b",
   "metadata": {},
   "outputs": [],
   "source": [
    "df[\"randomness\"] = df[\"predicted\"].copy()\n",
    "df[\"randomness\"] = df[\"predicted\"].apply(lambda value: negativity_protector(value + random_choice(interval), value))\n",
    "df[features+columns_to_drop+[target_variable,\"predicted\",\"randomness\"]].sort_values(\"randomness\", ascending=True).head(n=5)"
   ]
  },
  {
   "cell_type": "code",
   "execution_count": null,
   "id": "318ee593",
   "metadata": {},
   "outputs": [],
   "source": []
  }
 ],
 "metadata": {
  "kernelspec": {
   "display_name": "Python 3 (ipykernel)",
   "language": "python",
   "name": "python3"
  },
  "language_info": {
   "codemirror_mode": {
    "name": "ipython",
    "version": 3
   },
   "file_extension": ".py",
   "mimetype": "text/x-python",
   "name": "python",
   "nbconvert_exporter": "python",
   "pygments_lexer": "ipython3",
   "version": "3.11.7"
  }
 },
 "nbformat": 4,
 "nbformat_minor": 5
}
