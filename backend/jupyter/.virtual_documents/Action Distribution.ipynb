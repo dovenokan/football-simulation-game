import pandas as pd
import numpy as np
import os


import warnings
from sklearn.exceptions import UndefinedMetricWarning
from pandas.errors import SettingWithCopyWarning
warnings.filterwarnings("ignore", category=UndefinedMetricWarning)
warnings.simplefilter(action='ignore', category=(SettingWithCopyWarning))
warnings.simplefilter(action='ignore', category=(FutureWarning))


os.listdir("match_logs")





defense = pd.read_csv("match_logs/Big5@22-23@defense.csv")
gca = pd.read_csv("match_logs/Big5@22-23@gca.csv")
keeper = pd.read_csv("match_logs/Big5@22-23@keeper.csv")
misc = pd.read_csv("match_logs/Big5@22-23@misc.csv")
passing = pd.read_csv("match_logs/Big5@22-23@passing.csv")
passing_types = pd.read_csv("match_logs/Big5@22-23@passing_types.csv")
possession = pd.read_csv("match_logs/Big5@22-23@possession.csv")
shooting = pd.read_csv("match_logs/Big5@22-23@shooting.csv")


shooting.iloc[0]


# shooting.describe().iloc[1]



