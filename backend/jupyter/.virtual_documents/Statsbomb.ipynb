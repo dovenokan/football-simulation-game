# !pip install mplsoccer
# !pip install statsbombpy


from mplsoccer.pitch import Pitch
import matplotlib.patches as patches
import matplotlib.pyplot as plt
from statsbombpy import sb
import pandas as pd
import warnings
from pandas.errors import SettingWithCopyWarning
from statsbombpy.api_client import NoAuthWarning

warnings.simplefilter(action='ignore', category=SettingWithCopyWarning)
warnings.simplefilter(action='ignore', category=FutureWarning)
warnings.simplefilter(action='ignore', category=NoAuthWarning)


sb.matches(competition_id=9, season_id=281).head()


competition_id = 9
season_id = 281

all_events = []
matches = sb.matches(competition_id=competition_id, season_id=season_id)
matches_ids = matches["match_id"]
for match_id in matches_ids:
    events = sb.events(match_id=match_id)
    all_events.append(events) 

events_df = pd.concat(all_events, ignore_index=True)
passes_df = events_df[events_df['type'] == 'Pass'].copy()  # Filter for passes

passes_df['y'] = passes_df['location'].apply(lambda loc: loc[0])
passes_df['x'] = passes_df['location'].apply(lambda loc: loc[1])

y_intervals = [(i*120/6, (i+1)*120/6) for i in range(6)]  # Y-axis intervals
x_intervals = [(i*80/4, (i+1)*80/4) for i in range(4)]  # X-axis intervals

def get_interval(value, intervals):
    for start, end in intervals:
        if start <= value < end:
            return (start, end)
    return None

counts_list = []
for x_interval in x_intervals:
    for y_interval in y_intervals:
        count = passes_df[
            (passes_df['x'] >= x_interval[0]) & (passes_df['x'] <= x_interval[1]) &
            (passes_df['y'] >= y_interval[0]) & (passes_df['y'] <= y_interval[1])
        ].shape[0]
        counts_list.append({
            'x_interval': x_interval,
            'y_interval': y_interval,
            'count': count
        })

counts_df = pd.DataFrame(counts_list)
counts_df['percentage'] = round(counts_df['count'] / counts_df['count'].sum() * 100, 3)
counts_df.sort_values(by="percentage", ascending=False)


# data = counts_df.copy()
# df = pd.DataFrame(data)
# pivot_table = df.pivot_table(index='y_interval', columns='x_interval', values='count', fill_value=0)

# plt.figure(figsize=(8, 12))
# sns.heatmap(pivot_table, annot=True, cmap="seismic", cbar=True, fmt="d", linewidths=0.5)
# plt.title("Heatmap of Pass Counts by Interval")
# plt.xlabel("X Interval")
# plt.ylabel("Y Interval")
# plt.xticks(rotation=45)  # Rotate x labels for better readability
# plt.yticks(rotation=0)   # Rotate y labels for better readability
# plt.show() 
# plt.show()


data = counts_df.copy()
pitch = Pitch(pitch_type='statsbomb', pitch_color='grass', line_color='white')

fig, ax = plt.subplots(figsize=(8, 12))
pitch.draw(ax=ax)

def draw_intervals(df, ax):
    for _, row in df.iterrows():
        x_start, x_end = row['y_interval']
        y_start, y_end = row['x_interval']
        count = row['count']
        percentage = row['percentage']
        
        # Create a rectangle patch
        rect = patches.Rectangle(
            (x_start, y_start), 
            x_end - x_start, 
            y_end - y_start,
            linewidth=1,
            edgecolor='black',
            facecolor='blue',
            alpha=0.5
        )
        
        # Add rectangle to the plot
        ax.add_patch(rect)
        
        # Add text to the rectangles
        ax.text(
            (x_start + x_end) / 2, 
            (y_start + y_end) / 2,
            f'{percentage}%',
            ha='center', va='center',
            fontsize=10, color='white'
        )

draw_intervals(counts_df, ax)
plt.title('Pass Density on the Pitch')
plt.show()






