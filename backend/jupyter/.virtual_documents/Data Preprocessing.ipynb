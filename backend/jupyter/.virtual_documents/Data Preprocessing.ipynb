import pandas as pd
import numpy as np
import seaborn as sns
import re
from bs4 import BeautifulSoup
import lxml
import requests
import unicodedata


import warnings
from pandas.errors import SettingWithCopyWarning
warnings.simplefilter(action='ignore', category=(SettingWithCopyWarning))
warnings.simplefilter(action='ignore', category=(FutureWarning))


fm_df = pd.read_csv("players_db/fm23/uluta_fm23data.csv")


fm_df.columns = [col.strip() for col in fm_df.columns]

for col in fm_df.select_dtypes("object").columns:
   fm_df[col] = fm_df[col].apply(lambda x: x.strip())


fm_df.columns





# Assume df is your DataFrame
new_column_names = {
    'Acc': 'Acceleration',
    'Aer': 'Aerial_Reach',
    'Agg': 'Aggression',
    'Agi': 'Agility',
    'Ant': 'Anticipation',
    'Bal': 'Balance',
    'Bra': 'Bravery',
    'Cmd': 'Command_of_Area',
    'Com': 'Communication',
    'Cmp': 'Composure',
    'Cnt': 'Concentration',
    'Cor': 'Corners',
    'Cro': 'Crossing',
    'Dec': 'Decisions',
    'Det': 'Determination',
    'Dri': 'Dribbling',
    'Ecc': 'Eccentricity',
    'Fin': 'Finishing',
    'Fir': 'First_Touch',
    'Fla': 'Flair',
    'Fre': 'Free_Kick_Taking',
    'Han': 'Handling',
    'Hea': 'Heading',
    'Jum': 'Jumping_Reach',
    'Kic': 'Kicking',
    'Ldr': 'Leadership',
    'Lon': 'Long_Shots',
    'L Th': 'Long_Throws',
    'Mar': 'Marking',
    'Nat .1': 'Natural_Fitness',
    'OtB': 'Off_the_Ball',
    '1v1': 'One_on_Ones',
    'Pac': 'Pace',
    'Pas': 'Passing',
    'Pen': 'Penalty_Taking',
    'Pos': 'Positioning',
    'Pun': 'Punching',
    'Ref': 'Reflexes',
    'TRO': 'Rushing_Out',
    'Sta': 'Stamina',
    'Str': 'Strength',
    'Tck': 'Tackling',
    'Tea': 'Teamwork',
    'Tec': 'Technique',
    'Thr': 'Throwing',
    'Vis': 'Vision',
    'Wor': 'Work_Rate'
}

# new_column_names = {key: value.lower() for key, value in new_column_names.items()}
fm_df.rename(columns=new_column_names, inplace=True)


gk_attributes = [ "Aerial_Reach","Command_of_Area", "Communication","Eccentricity", "First_Touch", "Handling", "Kicking", "One_on_Ones", "Punching", "Reflexes", "Rushing_Out", "Throwing", "Passing" ]
fm_attributes = list(new_column_names.values())

fm_df[fm_attributes] = (fm_df[fm_attributes] * 4.95).astype(int)


gk_attributes


fm_df['DoB'][0]


convert_date_format = lambda x: pd.to_datetime(x, format='%d/%m/%Y').strftime('%Y-%m-%d')
fm_df['DoB'] = fm_df['DoB'].apply(lambda x: x.split(" ")[0])
fm_df['DoB'] = fm_df['DoB'].apply(convert_date_format)


fm_df['DoB'][0]


fm_df['Height'] = fm_df['Height'].apply(lambda x: x.split(" ")[0])


fm_df['Club_id'] = pd.Categorical(fm_df['Club']).codes
fm_df['League_id'] = pd.Categorical(fm_df['Division']).codes


fm_df = fm_df[fm_df['Inf'] != 'Yth']


fm_df = fm_df.rename(columns={
                        "Best Pos": "Best_Pos",
                        "Best Role": "Best_Role"
                    })





fm_df['Transfer Value'] = fm_df['Transfer Value'].str.replace('€', '')
fm_df['Transfer Value'] = fm_df['Transfer Value'].str.replace('M', '000000')
fm_df['Transfer Value'] = fm_df['Transfer Value'].str.replace('K', '000')
fm_df['Transfer Value'] = fm_df['Transfer Value'].str.replace('Not for Sale', '')
fm_df[['Min_Value', 'Max_Value']] = fm_df['Transfer Value'].str.split(' - ', expand=True)
fm_df['Min_Value'] = pd.to_numeric(fm_df['Min_Value'])
fm_df['Max_Value'] = pd.to_numeric(fm_df['Max_Value'])
fm_df['Market_Value'] = (fm_df['Min_Value'] + fm_df['Max_Value']) / 2
fm_df['Market_Value'].fillna(0)


wage = fm_df["Wage"]
wage = wage.str.replace('N/A', '100')
wage = wage.str.replace('-', '100')
wage = wage.str.replace('€', '').str.replace('p/m', '').str.replace(',','')
wage = pd.to_numeric(wage)
wage = wage.astype(int)
fm_df["Wage"] = wage





selected_leagues = ['English Premier Division',
 'Ligue 1 Uber Eats',
 'Spanish First Division',
 'Bundesliga',
 'Italian Serie A',
 'Eredivisie',
 'Portuguese Premier League',
 'Turkish Super League']


fm_df = fm_df[fm_df.Division.isin(selected_leagues)]


for leg in selected_leagues:
    q = fm_df.query(f"Division == '{leg}'")["Club"].value_counts()
    print(leg , "------", len(q.to_list()))


fm_df.query(f"Division == 'Turkish Super League'")["Club"].value_counts()


# fm_df.query(f"Club == 'Adana D.S.'").head()





url_df = fm_df.drop_duplicates(subset=["Club"], keep="first")
url_df.loc[:, 'UID'] = url_df['UID'].apply(lambda text: str(text))
url_df = url_df[["Club", "UID"]]


def Player_to_URL(player_id):
    slug = player_id + "-x-x"
    return f"https://fminside.net/players/3-fm-23/{slug}"


def Convert_Team_Name_From_URL(player_id, club):
    url = Player_to_URL(player_id)
    req = requests.get(url)
    html = req.content
    soup = BeautifulSoup(html, "lxml")
    club_name_element = soup.find('div', class_='meta').find('ul').find_all('li')[0].text
    club_name = club_name_element.strip()
    return {"fm":club,"normal":club_name}


team_mapping_array = []
raw_names = url_df.to_dict()
uids = url_df["UID"]
clubs = url_df["Club"]
clubs_array = clubs.to_list()


# for uid,club in zip(uids,clubs):
#     new_entry = Convert_Team_Name_From_URL(uid, club)
#     print(new_entry)
#     team_mapping_array.append(new_entry)


fm_df.query("Name == 'Joshua Kimmich'")


fminside_normal_names = pd.read_csv("players_db/fm23/fminside_team_names.csv")
# merged_df = pd.merge(fm_df, fminside_normal_names, how='inner', left_on='Club', right_on='fm')
# merged_df['Club'] = merged_df['normal'].where(merged_df['Club'] == merged_df['fm'], merged_df['Club'])
# # merged_df.drop(['fm', 'normal'], axis=1, inplace=True)
# merged_df = merged_df[merged_df.fm.isin(clubs_array)]


fminside_club_names = []
for index, row in fminside_normal_names.iterrows():
  x_fm = row["fm"]
  x_normal = row["normal"]
  club_dict = {"fm": x_fm, "normal": x_normal}
  fminside_club_names.append(club_dict)


def Rename_Club(club_name):
    matched_club = ""
    for f in fminside_club_names:
        if f["fm"] == club_name:
            return f["normal"]


fm_df['Club'] = fm_df["Club"].apply(lambda x: Rename_Club(x))


fm_df.query("Name == 'Joshua Kimmich'")





position_mapping = {
    'M (C)': 'MC',
    'D (C)': 'DC',
    'GK': 'GK',
    'ST (C)': 'ST',
    'AM (L)': 'AML',
    'AM (R)': 'AMR',
    'D (R)': 'DR',
    'D (L)': 'DL',
    'DM': 'DM',
    'AM (C)': 'AMC',
    'M (L)': 'ML',
    'M (R)': 'MR',
    'WB (L)': 'WBL',
    'WB (R)': 'WBR'
}


def remove_parentheses(text):
    return text.replace("(", "").replace(")", "")


def pos_map(position):
    return position_mapping[position]


fm_df['Best_Pos'].value_counts()


fm_df['Position'].value_counts()


def Multiple_Position_Beautifier(position_value):
    x = ""
    positions = position_value.split(",")
    for p in positions:
        p = p.strip()
        if p in position_mapping.keys():
            x += f"{position_mapping[p]},"
        elif "/" in p:
            slashed = p.split(" ")
            locations = slashed[0].split("/")
            sides = list(remove_parentheses(slashed[1]))
            for loc in locations:
                for side in sides:
                    splitted_pos = loc+side
                    x += f"{splitted_pos},"
        else:
            slashed = p.split(" ")
            loc = slashed[0]
            sides = list(remove_parentheses(slashed[1]))
            for side in sides:
                splitted_pos = loc+side
                x += f"{splitted_pos},"
    return x[:-1]


fm_df['Position'] = fm_df['Position'].apply(lambda row: Multiple_Position_Beautifier(row))
fm_df['Best_Pos'] = fm_df['Best_Pos'].apply(lambda row: Multiple_Position_Beautifier(row))

# Player Role
fm_df["Player_Role"] = fm_df["Best_Pos"] + "_" + fm_df["Best_Role"]


position_order = ['GK', 'WBR', 'DR', 'DC', 'DL', 'WBL', 'DM',  
                  'MC', 'MR', 'AMC', 'ML', 'AMR', 'ST', 'AML']
def get_position_rank(position):
    return position_order.index(position) if position in position_order else len(position_order)
fm_df['Pos_Rank'] = fm_df['Best_Pos'].apply(get_position_rank)


fm_df.query("Club == 'Chaves'")[["Best_Pos"]]


fm_df['Position'].value_counts()


fm_df['Best_Pos'].value_counts()





def Dict_Generator(attrs):
    weights = (len(attrs)*"0.1,").split(",")[:-1]
    return {key: float(weights[i]) for i, key in enumerate(attrs)}





current_ability = "gk"
fm_df[current_ability] = fm_df[gk_attributes].mean(axis=1).astype(int)
fm_df[["Name", current_ability]].sort_values(current_ability, ascending=False).head()








fm_df.shape


platinum_df = pd.read_csv('players_db/fm23/platinum22_fm23data.csv')[["Name","UID","Current reputation","Salary","Values"]]
inside_df = pd.read_csv('players_db/fm23/fm22_players_fminside.csv')[["Name","Unique_ID","Ability"]]

rep_df = pd.merge(fm_df, platinum_df, how='left', left_on='UID', right_on='UID', suffixes=('', '_PLAT'))
rep_df["Current reputation"].fillna(0, inplace=True)


rep_df.shape


rep_df = pd.merge(inside_df, platinum_df, how='left', left_on='Unique_ID', right_on='UID', suffixes=('', '_PLAT'))


filtered_df = rep_df[(rep_df['Current reputation'] == 6000) | (rep_df['Current reputation'] == 7000)]
filtered_df['Ability'].mean()


rep_df.query("Name == 'Mason Holgate'")





positions = fm_df['Best_Pos'].unique().tolist()


Attribute_Position_Weights = pd.read_csv('players_db/fm23/Attribute_Position_Weights.csv',index_col=0)
Position_Position_Weights = pd.read_csv("players_db/fm23/Position_Position_Weights.csv", index_col=0)


def TPR_by_Position(row, position_weights_df=None, is_tpr_general=False, general_position=None):
    if is_tpr_general:
        position = general_position
    else:
        position = row["Best_Pos"] 
    rating_weights = position_weights_df[position].to_dict()
    rating_attrs = list(rating_weights.keys())
    tpr = (row[rating_attrs] * pd.Series(rating_weights)).sum()
    return int(tpr)

fm_df["tpr_general"] = fm_df.apply(lambda row: TPR_by_Position(row, Attribute_Position_Weights, \
                                                               is_tpr_general=True, general_position="MC"), axis=1)


fm_df["tpr"] = fm_df.apply(lambda row: TPR_by_Position(row, Attribute_Position_Weights), axis=1)


for pos in positions:
    fm_df[f"tpr_{pos}"] = fm_df.apply(
        lambda row: Position_Regression(row, pos), axis=1
    )

tpr_cols = []
for col in positions:
    tpr_cols.append("tpr_" + col)


def Position_Regression(player_row, target_position):
    best_position = player_row.Best_Pos
    player_positions = player_row.Position
    tpr_value = player_row['tpr']
    
    coefficient = Position_Position_Weights.loc[best_position, target_position]
    base_value = int(coefficient / 20 * tpr_value)

    if target_position in player_positions.split(","):
        posdf_value = tpr_value - int((tpr_value - base_value) * 0.05)
        tpr_by_position_value = tpr_value - int((tpr_value - base_value) *  0.05)
        regression_value = max(posdf_value, tpr_by_position_value)
    else:
        regression_value = base_value

    return int(regression_value)

fm_df['tpr_Best'] = fm_df[tpr_cols].max(axis=1)
# fm_df['tpr_Star'] = "⭐⭐⭐⭐⭐"


# Normalize tprs
def Normalize(X, min_val, max_val):
    min_col = X.min()
    max_col = X.max()
    standardized_value = (X - min_col) / (max_col - min_col) * (max_val - min_val) + min_val
    return standardized_value.astype(int)

for tpr_column in tpr_cols:
    fm_df[tpr_column] = Normalize(fm_df[tpr_column], 40, 99)
    
fm_df["tpr"] = Normalize(fm_df['tpr_Best'] , 40, 92)

# for pos in fm_df['Best_Pos'].unique():
#     group = fm_df#[fm_df['Best_Pos'] == pos]
#     min_tpr = group['tpr'].min()
#     max_tpr = group['tpr'].max()
#     fm_df.loc[fm_df['Best_Pos'] == pos, 'tpr_normalized'] = Normalize(group['tpr'], 40, 95)

fm_df["tpr_GK"] = fm_df.apply(lambda row: int(row["tpr_GK"]/2) if row.Best_Pos != "GK" else row["tpr_GK"], axis=1)


fm_df.sort_values("tpr_Best", ascending=False)[["Club","Name","Best_Pos","tpr_Best", \
                                                   "tpr","Market_Value","Age"]].head(n=20)


fm_df.sort_values(by="tpr_Best",ascending=False).head(500).Best_Pos.value_counts()


fm_df.query("Club == 'Lazio'")[["Name","tpr","tpr_Best"]].head(n=5)


ex_row = fm_df.query("Name == 'Kylian Mbappé'")
ex_row.iloc[0][["tpr"] + tpr_cols].sort_values()


ex_row = fm_df.query("Name == 'Lionel Messi'").iloc[0][["tpr"] + tpr_cols].sort_values()
ex_row








from rapidfuzz import process
def find_best_match(name, choices):
    return process.extractOne(name, choices)


top5_leagues = ['Ligue 1 Uber Eats', 'English Premier Division', 'Italian Serie A',
       'Spanish First Division', 'Bundesliga'] 


url = "https://fbref.com/en/comps/Big5/2022-2023/passing/players/2022-2023-Big-5-European-Leagues-Stats"


data = pd.read_html(url)


data[0].columns = data[0].columns.get_level_values(1)


data[0].head()


fbref_players = data[0]["Player"].tolist()
fm_players = fm_df[fm_df.Division.isin(top5_leagues)]["Name"].tolist()


for player_name in fm_players:
    answer, score, other = find_best_match(player_name, fbref_players)
    where_id = fm_df[fm_df.Name==player_name].iloc[0].name
    fm_df.at[where_id, 'fbref_player_name'] = answer





fm_df2 = pd.read_csv("players_db/fm23/fm23db_processed.csv")


position_order = ['GK', 'WBR', 'DR', 'DC', 'DL', 'WBL', 'DM',  
                  'MC', 'MR', 'AMC', 'ML', 'AMR', 'ST', 'AML']
def get_position_rank(position):
    return position_order.index(position) if position in position_order else len(position_order)


def Pos_Rank_Average(positions_string: str):
    positions = positions_string.split(",")
    values = [get_position_rank(pos) for pos in positions]
    return np.mean(values, dtype=int)


fm_df2["Pos_Rank_Average"] = fm_df2["Position"].apply(Pos_Rank_Average)


#fm_df2.to_csv("players_db/fm23/fm23db_processed.csv", index=False)





# fm_df.to_csv("players_db/fm23/fm23db_processed.csv", index=False)


fm_df.query("Name in 'Thiago Silva'").iloc[0].to_dict()









