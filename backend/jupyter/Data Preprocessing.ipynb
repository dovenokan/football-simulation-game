{
 "cells": [
  {
   "cell_type": "code",
   "execution_count": 1,
   "id": "a2bbe25e-f4a0-46c2-83d6-b9d7d5460388",
   "metadata": {},
   "outputs": [],
   "source": [
    "import pandas as pd\n",
    "import numpy as np\n",
    "import seaborn as sns\n",
    "import re\n",
    "from bs4 import BeautifulSoup\n",
    "import lxml\n",
    "import requests\n",
    "import unicodedata"
   ]
  },
  {
   "cell_type": "code",
   "execution_count": 2,
   "id": "c841d9dc-a322-428d-acce-3533d4bb22dc",
   "metadata": {},
   "outputs": [],
   "source": [
    "import warnings\n",
    "from pandas.errors import SettingWithCopyWarning\n",
    "warnings.simplefilter(action='ignore', category=(SettingWithCopyWarning))\n",
    "warnings.simplefilter(action='ignore', category=(FutureWarning))"
   ]
  },
  {
   "cell_type": "code",
   "execution_count": 3,
   "id": "010eea71-d9f8-43ab-8c24-c2156611ed9b",
   "metadata": {},
   "outputs": [],
   "source": [
    "fm_df = pd.read_csv(\"players_db/fm23/uluta_fm23data.csv\")"
   ]
  },
  {
   "cell_type": "code",
   "execution_count": 4,
   "id": "d66fb9db-83a4-4f2b-bd41-1b6d823a47dd",
   "metadata": {},
   "outputs": [],
   "source": [
    "fm_df.columns = [col.strip() for col in fm_df.columns]\n",
    "\n",
    "for col in fm_df.select_dtypes(\"object\").columns:\n",
    "   fm_df[col] = fm_df[col].apply(lambda x: x.strip())"
   ]
  },
  {
   "cell_type": "code",
   "execution_count": 5,
   "id": "ec0da419-dea5-4891-a392-70ee6d21fec1",
   "metadata": {},
   "outputs": [],
   "source": [
    "# Assume df is your DataFrame\n",
    "new_column_names = {\n",
    "    'Acc': 'Acceleration',\n",
    "    'Aer': 'Aerial Reach',\n",
    "    'Agg': 'Aggression',\n",
    "    'Agi': 'Agility',\n",
    "    'Ant': 'Anticipation',\n",
    "    'Bal': 'Balance',\n",
    "    'Bra': 'Bravery',\n",
    "    'Cmd': 'Command of Area',\n",
    "    'Com': 'Communication',\n",
    "    'Cmp': 'Composure',\n",
    "    'Cnt': 'Concentration',\n",
    "    'Cor': 'Corners',\n",
    "    'Cro': 'Crossing',\n",
    "    'Dec': 'Decisions',\n",
    "    'Det': 'Determination',\n",
    "    'Dri': 'Dribbling',\n",
    "    'Ecc': 'Eccentricity',\n",
    "    'Fin': 'Finishing',\n",
    "    'Fir': 'First Touch',\n",
    "    'Fla': 'Flair',\n",
    "    'Fre': 'Free Kick Taking',\n",
    "    'Han': 'Handling',\n",
    "    'Hea': 'Heading',\n",
    "    'Jum': 'Jumping Reach',\n",
    "    'Kic': 'Kicking',\n",
    "    'Ldr': 'Leadership',\n",
    "    'Lon': 'Long Shots',\n",
    "    'L Th': 'Long Throws',\n",
    "    'Mar': 'Marking',\n",
    "    'Nat .1': 'Fitness',\n",
    "    'OtB': 'Off the Ball',\n",
    "    '1v1': 'One vs One',\n",
    "    'Pac': 'Pace',\n",
    "    'Pas': 'Passing',\n",
    "    'Pen': 'Penalty Taking',\n",
    "    'Pos': 'Positioning',\n",
    "    'Pun': 'Punching',\n",
    "    'Ref': 'Reflexes',\n",
    "    'TRO': 'Rushing Out',\n",
    "    'Sta': 'Stamina',\n",
    "    'Str': 'Strength',\n",
    "    'Tck': 'Tackling',\n",
    "    'Tea': 'Teamwork',\n",
    "    'Tec': 'Technique',\n",
    "    'Thr': 'Throwing',\n",
    "    'Vis': 'Vision',\n",
    "    'Wor': 'Work Rate'\n",
    "}\n",
    "\n",
    "# new_column_names = {key: value.lower() for key, value in new_column_names.items()}\n",
    "fm_df.rename(columns=new_column_names, inplace=True)"
   ]
  },
  {
   "cell_type": "code",
   "execution_count": 6,
   "id": "1098f0d1-a4b5-459d-bfed-8ff0f0e7e1ba",
   "metadata": {},
   "outputs": [],
   "source": [
    "fm_attributes = list(new_column_names.values())\n",
    "gk_attributes = [ \"Command of Area\", \"Communication\", \"First Touch\", \"Handling\", \"Kicking\", \"One vs One\", \"Punching\", \"Reflexes\", \"Rushing Out\", \"Throwing\" ]\n",
    "gk_technical_attributes = [ \"Technique\" ] # \"Free Kick Taking\", \"Penalty Taking\", \n",
    "mental_attributes = [ \"Aggression\", \"Anticipation\", \"Bravery\", \"Composure\", \"Concentration\", \"Decisions\", \"Determination\", \"Flair\", \"Leadership\", \"Off the Ball\", \"Positioning\", \"Teamwork\", \"Vision\", \"Work Rate\" ]\n",
    "physical_attributes = [ \"Acceleration\", \"Agility\", \"Balance\", \"Jumping Reach\", \"Fitness\", \"Pace\", \"Stamina\", \"Strength\" ]\n",
    "technical_attributes = [ \"Corners\", \"Crossing\", \"Dribbling\", \"Finishing\", \"First Touch\", \"Free Kick Taking\", \"Heading\", \"Long Shots\", \"Long Throws\", \"Marking\", \"Passing\", \"Penalty Taking\", \"Tackling\", \"Technique\" ]\n",
    "\n",
    "fm_df[fm_attributes] = fm_df[fm_attributes] * 5.5"
   ]
  },
  {
   "cell_type": "code",
   "execution_count": 7,
   "id": "d8b77fee-c210-4e5a-89c1-923f20ad003b",
   "metadata": {},
   "outputs": [
    {
     "data": {
      "text/plain": [
       "'14/8/1984 (37 years old)'"
      ]
     },
     "execution_count": 7,
     "metadata": {},
     "output_type": "execute_result"
    }
   ],
   "source": [
    "fm_df['DoB'][0]"
   ]
  },
  {
   "cell_type": "code",
   "execution_count": 8,
   "id": "17509ffb-c8e9-43c7-8f23-61339b783dd3",
   "metadata": {},
   "outputs": [],
   "source": [
    "convert_date_format = lambda x: pd.to_datetime(x, format='%d/%m/%Y').strftime('%Y-%m-%d')\n",
    "fm_df['DoB'] = fm_df['DoB'].apply(lambda x: x.split(\" \")[0])\n",
    "fm_df['DoB'] = fm_df['DoB'].apply(convert_date_format)"
   ]
  },
  {
   "cell_type": "code",
   "execution_count": 9,
   "id": "6bc7b14f-9e61-48d1-89f1-8ff4ce444edc",
   "metadata": {},
   "outputs": [
    {
     "data": {
      "text/plain": [
       "'1984-08-14'"
      ]
     },
     "execution_count": 9,
     "metadata": {},
     "output_type": "execute_result"
    }
   ],
   "source": [
    "fm_df['DoB'][0]"
   ]
  },
  {
   "cell_type": "code",
   "execution_count": 10,
   "id": "9c9e2683-1297-43ee-8e6f-711af55a32d5",
   "metadata": {},
   "outputs": [],
   "source": [
    "fm_df['Height'] = fm_df['Height'].apply(lambda x: x.split(\" \")[0])"
   ]
  },
  {
   "cell_type": "code",
   "execution_count": 11,
   "id": "7fffd576-cd53-4057-879c-81581a61893c",
   "metadata": {},
   "outputs": [
    {
     "data": {
      "text/plain": [
       "Index(['UID', 'Inf', 'Name', 'DoB', 'Nat', 'Division', 'Club', 'Based',\n",
       "       'Preferred Foot', 'Right Foot', 'Left Foot', 'Position', 'Height',\n",
       "       'Weight', 'Age', 'Transfer Value', 'Wage', 'AT Apps', 'AT Gls', 'Team',\n",
       "       'Caps', 'Yth Apps', 'Style', 'Rc Injury', 'Best Role', 'Best Duty',\n",
       "       'Best Pos', 'Acceleration', 'Aerial Reach', 'Aggression', 'Agility',\n",
       "       'Anticipation', 'Balance', 'Bravery', 'Command of Area',\n",
       "       'Communication', 'Composure', 'Concentration', 'Corners', 'Crossing',\n",
       "       'Decisions', 'Determination', 'Dribbling', 'Eccentricity', 'Finishing',\n",
       "       'First Touch', 'Flair', 'Free Kick Taking', 'Handling', 'Heading',\n",
       "       'Jumping Reach', 'Kicking', 'Leadership', 'Long Shots', 'Long Throws',\n",
       "       'Marking', 'Fitness', 'Off the Ball', 'One vs One', 'Pace', 'Passing',\n",
       "       'Penalty Taking', 'Positioning', 'Punching', 'Reflexes', 'Rushing Out',\n",
       "       'Stamina', 'Strength', 'Tackling', 'Teamwork', 'Technique', 'Throwing',\n",
       "       'Vision', 'Work Rate'],\n",
       "      dtype='object')"
      ]
     },
     "execution_count": 11,
     "metadata": {},
     "output_type": "execute_result"
    }
   ],
   "source": [
    "fm_df.columns"
   ]
  },
  {
   "cell_type": "code",
   "execution_count": 12,
   "id": "5180869a-dc3c-4d0c-b398-b50387bccbf2",
   "metadata": {},
   "outputs": [],
   "source": [
    "fm_df['Club_id'] = pd.Categorical(fm_df['Club']).codes"
   ]
  },
  {
   "cell_type": "code",
   "execution_count": 13,
   "id": "793142b7-8639-4bd8-890d-7ba2de204c77",
   "metadata": {},
   "outputs": [],
   "source": [
    "fm_df = fm_df[fm_df['Inf'] != 'Yth']"
   ]
  },
  {
   "cell_type": "code",
   "execution_count": 14,
   "id": "716a63c7-25b5-4d24-9031-562ebe055274",
   "metadata": {},
   "outputs": [],
   "source": [
    "fm_df = fm_df.rename(columns={\"Best Pos\": \"Best_Pos\"})"
   ]
  },
  {
   "cell_type": "markdown",
   "id": "90558b33-670a-4533-ae16-b333e2de0803",
   "metadata": {},
   "source": [
    "<br><br><br><br>\n",
    "# Merged_DF"
   ]
  },
  {
   "cell_type": "code",
   "execution_count": 15,
   "id": "147c272d-50a6-4336-b34a-038d3231736b",
   "metadata": {},
   "outputs": [],
   "source": [
    "selected_leagues = ['English Premier Division',\n",
    " 'Ligue 1 Uber Eats',\n",
    " 'Spanish First Division',\n",
    " 'Bundesliga',\n",
    " 'Italian Serie A',\n",
    " 'Eredivisie',\n",
    " 'Portuguese Premier League',\n",
    " 'Turkish Super League']"
   ]
  },
  {
   "cell_type": "code",
   "execution_count": 16,
   "id": "c30c88f8-7cc0-4985-be9f-82332d0148c4",
   "metadata": {
    "scrolled": true
   },
   "outputs": [],
   "source": [
    "fm_df = fm_df[fm_df.Division.isin(selected_leagues)]"
   ]
  },
  {
   "cell_type": "code",
   "execution_count": 17,
   "id": "e3936759-6c1c-473e-9562-18413ad145bc",
   "metadata": {},
   "outputs": [
    {
     "data": {
      "text/plain": [
       "Index(['UID', 'Inf', 'Name', 'DoB', 'Nat', 'Division', 'Club', 'Based',\n",
       "       'Preferred Foot', 'Right Foot', 'Left Foot', 'Position', 'Height',\n",
       "       'Weight', 'Age', 'Transfer Value', 'Wage', 'AT Apps', 'AT Gls', 'Team',\n",
       "       'Caps', 'Yth Apps', 'Style', 'Rc Injury', 'Best Role', 'Best Duty',\n",
       "       'Best_Pos', 'Acceleration', 'Aerial Reach', 'Aggression', 'Agility',\n",
       "       'Anticipation', 'Balance', 'Bravery', 'Command of Area',\n",
       "       'Communication', 'Composure', 'Concentration', 'Corners', 'Crossing',\n",
       "       'Decisions', 'Determination', 'Dribbling', 'Eccentricity', 'Finishing',\n",
       "       'First Touch', 'Flair', 'Free Kick Taking', 'Handling', 'Heading',\n",
       "       'Jumping Reach', 'Kicking', 'Leadership', 'Long Shots', 'Long Throws',\n",
       "       'Marking', 'Fitness', 'Off the Ball', 'One vs One', 'Pace', 'Passing',\n",
       "       'Penalty Taking', 'Positioning', 'Punching', 'Reflexes', 'Rushing Out',\n",
       "       'Stamina', 'Strength', 'Tackling', 'Teamwork', 'Technique', 'Throwing',\n",
       "       'Vision', 'Work Rate', 'Club_id'],\n",
       "      dtype='object')"
      ]
     },
     "execution_count": 17,
     "metadata": {},
     "output_type": "execute_result"
    }
   ],
   "source": [
    "fm_df.columns"
   ]
  },
  {
   "cell_type": "code",
   "execution_count": 18,
   "id": "89566db5-d2b9-47fc-a223-51b64194a834",
   "metadata": {},
   "outputs": [
    {
     "name": "stdout",
     "output_type": "stream",
     "text": [
      "English Premier Division ------ 20\n",
      "Ligue 1 Uber Eats ------ 20\n",
      "Spanish First Division ------ 20\n",
      "Bundesliga ------ 18\n",
      "Italian Serie A ------ 20\n",
      "Eredivisie ------ 18\n",
      "Portuguese Premier League ------ 18\n",
      "Turkish Super League ------ 19\n"
     ]
    }
   ],
   "source": [
    "for leg in selected_leagues:\n",
    "    q = fm_df.query(f\"Division == '{leg}'\")[\"Club\"].value_counts()\n",
    "    print(leg , \"------\", len(q.to_list()))"
   ]
  },
  {
   "cell_type": "code",
   "execution_count": 19,
   "id": "5a9f6d02-0fed-4066-b4e3-7416d6a16784",
   "metadata": {},
   "outputs": [
    {
     "data": {
      "text/plain": [
       "Club\n",
       "Kayserispor         41\n",
       "Beşiktaş            41\n",
       "Trabzonspor         40\n",
       "Adana D.S.          39\n",
       "Fenerbahçe          37\n",
       "Ankaragücü          37\n",
       "İstanbulspor        36\n",
       "Galatasaray         35\n",
       "Hatayspor           35\n",
       "Kasımpaşa           35\n",
       "Antalyaspor         34\n",
       "Alanyaspor          34\n",
       "Başakşehir FK       34\n",
       "Sivasspor           33\n",
       "Giresunspor         33\n",
       "Gaziantep FK        32\n",
       "Fatih Karagümrük    32\n",
       "Ümraniyespor        32\n",
       "Konyaspor           31\n",
       "Name: count, dtype: int64"
      ]
     },
     "execution_count": 19,
     "metadata": {},
     "output_type": "execute_result"
    }
   ],
   "source": [
    "fm_df.query(f\"Division == 'Turkish Super League'\")[\"Club\"].value_counts()"
   ]
  },
  {
   "cell_type": "code",
   "execution_count": 20,
   "id": "573fb841-51e8-410c-aecb-6468ee533441",
   "metadata": {},
   "outputs": [],
   "source": [
    "# fm_df.query(f\"Club == 'Adana D.S.'\").head()"
   ]
  },
  {
   "cell_type": "markdown",
   "id": "10227078-13b9-4654-8286-59190778b9c4",
   "metadata": {},
   "source": [
    "<br><br><br><br>\n",
    "# Team Names Converter from fminside.com"
   ]
  },
  {
   "cell_type": "code",
   "execution_count": 21,
   "id": "4868ea6d-3c28-4be0-8b7c-d2b0fc8fc7e1",
   "metadata": {},
   "outputs": [],
   "source": [
    "url_df = fm_df.drop_duplicates(subset=[\"Club\"], keep=\"first\")\n",
    "url_df.loc[:, 'UID'] = url_df['UID'].apply(lambda text: str(text))\n",
    "url_df = url_df[[\"Club\", \"UID\"]]"
   ]
  },
  {
   "cell_type": "code",
   "execution_count": 22,
   "id": "70aa000c-2b3b-4f51-8a55-92031c9f0d46",
   "metadata": {},
   "outputs": [],
   "source": [
    "def Player_to_URL(player_id):\n",
    "    slug = player_id + \"-x-x\"\n",
    "    return f\"https://fminside.net/players/3-fm-23/{slug}\""
   ]
  },
  {
   "cell_type": "code",
   "execution_count": 23,
   "id": "f238ccb6-e02f-4954-8641-612e82532ed4",
   "metadata": {},
   "outputs": [],
   "source": [
    "def Convert_Team_Name_From_URL(player_id, club):\n",
    "    url = Player_to_URL(player_id)\n",
    "    req = requests.get(url)\n",
    "    html = req.content\n",
    "    soup = BeautifulSoup(html, \"lxml\")\n",
    "    club_name_element = soup.find('div', class_='meta').find('ul').find_all('li')[0].text\n",
    "    club_name = club_name_element.strip()\n",
    "    return {\"fm\":club,\"normal\":club_name}"
   ]
  },
  {
   "cell_type": "code",
   "execution_count": 24,
   "id": "7754a241-968a-484d-b516-ab0f05dfe7f7",
   "metadata": {},
   "outputs": [],
   "source": [
    "team_mapping_array = []\n",
    "raw_names = url_df.to_dict()\n",
    "uids = url_df[\"UID\"]\n",
    "clubs = url_df[\"Club\"]\n",
    "clubs_array = clubs.to_list()"
   ]
  },
  {
   "cell_type": "code",
   "execution_count": 25,
   "id": "db05b9c5-e7b1-4da3-ba84-a3b58257a10d",
   "metadata": {
    "scrolled": true
   },
   "outputs": [],
   "source": [
    "# for uid,club in zip(uids,clubs):\n",
    "#     new_entry = Convert_Team_Name_From_URL(uid, club)\n",
    "#     print(new_entry)\n",
    "#     team_mapping_array.append(new_entry)"
   ]
  },
  {
   "cell_type": "code",
   "execution_count": 26,
   "id": "beafa194-d170-487e-b711-f0f059666007",
   "metadata": {},
   "outputs": [
    {
     "data": {
      "text/html": [
       "<div>\n",
       "<style scoped>\n",
       "    .dataframe tbody tr th:only-of-type {\n",
       "        vertical-align: middle;\n",
       "    }\n",
       "\n",
       "    .dataframe tbody tr th {\n",
       "        vertical-align: top;\n",
       "    }\n",
       "\n",
       "    .dataframe thead th {\n",
       "        text-align: right;\n",
       "    }\n",
       "</style>\n",
       "<table border=\"1\" class=\"dataframe\">\n",
       "  <thead>\n",
       "    <tr style=\"text-align: right;\">\n",
       "      <th></th>\n",
       "      <th>UID</th>\n",
       "      <th>Inf</th>\n",
       "      <th>Name</th>\n",
       "      <th>DoB</th>\n",
       "      <th>Nat</th>\n",
       "      <th>Division</th>\n",
       "      <th>Club</th>\n",
       "      <th>Based</th>\n",
       "      <th>Preferred Foot</th>\n",
       "      <th>Right Foot</th>\n",
       "      <th>...</th>\n",
       "      <th>Rushing Out</th>\n",
       "      <th>Stamina</th>\n",
       "      <th>Strength</th>\n",
       "      <th>Tackling</th>\n",
       "      <th>Teamwork</th>\n",
       "      <th>Technique</th>\n",
       "      <th>Throwing</th>\n",
       "      <th>Vision</th>\n",
       "      <th>Work Rate</th>\n",
       "      <th>Club_id</th>\n",
       "    </tr>\n",
       "  </thead>\n",
       "  <tbody>\n",
       "    <tr>\n",
       "      <th>42332</th>\n",
       "      <td>92039023</td>\n",
       "      <td></td>\n",
       "      <td>Joshua Kimmich</td>\n",
       "      <td>1995-02-08</td>\n",
       "      <td>GER</td>\n",
       "      <td>Bundesliga</td>\n",
       "      <td>FC Bayern</td>\n",
       "      <td>Germany (Bundesliga)</td>\n",
       "      <td>Right</td>\n",
       "      <td>Very Strong</td>\n",
       "      <td>...</td>\n",
       "      <td>16.5</td>\n",
       "      <td>110.0</td>\n",
       "      <td>60.5</td>\n",
       "      <td>66.0</td>\n",
       "      <td>93.5</td>\n",
       "      <td>88.0</td>\n",
       "      <td>5.5</td>\n",
       "      <td>99.0</td>\n",
       "      <td>104.5</td>\n",
       "      <td>3704</td>\n",
       "    </tr>\n",
       "  </tbody>\n",
       "</table>\n",
       "<p>1 rows × 75 columns</p>\n",
       "</div>"
      ],
      "text/plain": [
       "            UID Inf            Name         DoB  Nat    Division       Club  \\\n",
       "42332  92039023      Joshua Kimmich  1995-02-08  GER  Bundesliga  FC Bayern   \n",
       "\n",
       "                      Based Preferred Foot   Right Foot  ... Rushing Out  \\\n",
       "42332  Germany (Bundesliga)          Right  Very Strong  ...        16.5   \n",
       "\n",
       "      Stamina Strength Tackling  Teamwork Technique Throwing Vision Work Rate  \\\n",
       "42332   110.0     60.5     66.0      93.5      88.0      5.5   99.0     104.5   \n",
       "\n",
       "      Club_id  \n",
       "42332    3704  \n",
       "\n",
       "[1 rows x 75 columns]"
      ]
     },
     "execution_count": 26,
     "metadata": {},
     "output_type": "execute_result"
    }
   ],
   "source": [
    "fm_df.query(\"Name == 'Joshua Kimmich'\")"
   ]
  },
  {
   "cell_type": "code",
   "execution_count": 27,
   "id": "aba18a00-4882-4ee8-b852-51e0b6462ac9",
   "metadata": {},
   "outputs": [],
   "source": [
    "fminside_normal_names = pd.read_csv(\"players_db/fm23/fminside_team_names.csv\")\n",
    "# merged_df = pd.merge(fm_df, fminside_normal_names, how='inner', left_on='Club', right_on='fm')\n",
    "# merged_df['Club'] = merged_df['normal'].where(merged_df['Club'] == merged_df['fm'], merged_df['Club'])\n",
    "# # merged_df.drop(['fm', 'normal'], axis=1, inplace=True)\n",
    "# merged_df = merged_df[merged_df.fm.isin(clubs_array)]"
   ]
  },
  {
   "cell_type": "code",
   "execution_count": 28,
   "id": "423c89ae-f166-4e36-8d28-33fbaa822bdf",
   "metadata": {},
   "outputs": [],
   "source": [
    "fminside_club_names = []\n",
    "for index, row in fminside_normal_names.iterrows():\n",
    "  x_fm = row[\"fm\"]\n",
    "  x_normal = row[\"normal\"]\n",
    "  club_dict = {\"fm\": x_fm, \"normal\": x_normal}\n",
    "  fminside_club_names.append(club_dict)"
   ]
  },
  {
   "cell_type": "code",
   "execution_count": 29,
   "id": "b3a523eb-f714-44df-b36d-f8db752508f0",
   "metadata": {},
   "outputs": [],
   "source": [
    "def Rename_Club(club_name):\n",
    "    matched_club = \"\"\n",
    "    for f in fminside_club_names:\n",
    "        if f[\"fm\"] == club_name:\n",
    "            return f[\"normal\"]"
   ]
  },
  {
   "cell_type": "code",
   "execution_count": 30,
   "id": "a50180cd-0010-4039-98bc-d60a433e4efb",
   "metadata": {},
   "outputs": [],
   "source": [
    "fm_df['Club'] = fm_df[\"Club\"].apply(lambda x: Rename_Club(x))"
   ]
  },
  {
   "cell_type": "code",
   "execution_count": 31,
   "id": "2388d1ab-806e-4e95-9335-61f1ee069e31",
   "metadata": {},
   "outputs": [
    {
     "data": {
      "text/html": [
       "<div>\n",
       "<style scoped>\n",
       "    .dataframe tbody tr th:only-of-type {\n",
       "        vertical-align: middle;\n",
       "    }\n",
       "\n",
       "    .dataframe tbody tr th {\n",
       "        vertical-align: top;\n",
       "    }\n",
       "\n",
       "    .dataframe thead th {\n",
       "        text-align: right;\n",
       "    }\n",
       "</style>\n",
       "<table border=\"1\" class=\"dataframe\">\n",
       "  <thead>\n",
       "    <tr style=\"text-align: right;\">\n",
       "      <th></th>\n",
       "      <th>UID</th>\n",
       "      <th>Inf</th>\n",
       "      <th>Name</th>\n",
       "      <th>DoB</th>\n",
       "      <th>Nat</th>\n",
       "      <th>Division</th>\n",
       "      <th>Club</th>\n",
       "      <th>Based</th>\n",
       "      <th>Preferred Foot</th>\n",
       "      <th>Right Foot</th>\n",
       "      <th>...</th>\n",
       "      <th>Rushing Out</th>\n",
       "      <th>Stamina</th>\n",
       "      <th>Strength</th>\n",
       "      <th>Tackling</th>\n",
       "      <th>Teamwork</th>\n",
       "      <th>Technique</th>\n",
       "      <th>Throwing</th>\n",
       "      <th>Vision</th>\n",
       "      <th>Work Rate</th>\n",
       "      <th>Club_id</th>\n",
       "    </tr>\n",
       "  </thead>\n",
       "  <tbody>\n",
       "    <tr>\n",
       "      <th>42332</th>\n",
       "      <td>92039023</td>\n",
       "      <td></td>\n",
       "      <td>Joshua Kimmich</td>\n",
       "      <td>1995-02-08</td>\n",
       "      <td>GER</td>\n",
       "      <td>Bundesliga</td>\n",
       "      <td>FC Bayern</td>\n",
       "      <td>Germany (Bundesliga)</td>\n",
       "      <td>Right</td>\n",
       "      <td>Very Strong</td>\n",
       "      <td>...</td>\n",
       "      <td>16.5</td>\n",
       "      <td>110.0</td>\n",
       "      <td>60.5</td>\n",
       "      <td>66.0</td>\n",
       "      <td>93.5</td>\n",
       "      <td>88.0</td>\n",
       "      <td>5.5</td>\n",
       "      <td>99.0</td>\n",
       "      <td>104.5</td>\n",
       "      <td>3704</td>\n",
       "    </tr>\n",
       "  </tbody>\n",
       "</table>\n",
       "<p>1 rows × 75 columns</p>\n",
       "</div>"
      ],
      "text/plain": [
       "            UID Inf            Name         DoB  Nat    Division       Club  \\\n",
       "42332  92039023      Joshua Kimmich  1995-02-08  GER  Bundesliga  FC Bayern   \n",
       "\n",
       "                      Based Preferred Foot   Right Foot  ... Rushing Out  \\\n",
       "42332  Germany (Bundesliga)          Right  Very Strong  ...        16.5   \n",
       "\n",
       "      Stamina Strength Tackling  Teamwork Technique Throwing Vision Work Rate  \\\n",
       "42332   110.0     60.5     66.0      93.5      88.0      5.5   99.0     104.5   \n",
       "\n",
       "      Club_id  \n",
       "42332    3704  \n",
       "\n",
       "[1 rows x 75 columns]"
      ]
     },
     "execution_count": 31,
     "metadata": {},
     "output_type": "execute_result"
    }
   ],
   "source": [
    "fm_df.query(\"Name == 'Joshua Kimmich'\")"
   ]
  },
  {
   "cell_type": "markdown",
   "id": "040246f4-f50f-4a63-a364-85bb3b514bb1",
   "metadata": {},
   "source": [
    "<br><br><br><br>\n",
    "# Position Styling"
   ]
  },
  {
   "cell_type": "code",
   "execution_count": 32,
   "id": "ca2e89e8-20e2-4f4e-a4eb-b78b203a16fa",
   "metadata": {},
   "outputs": [],
   "source": [
    "position_mapping = {\n",
    "    'M (C)': 'MC',\n",
    "    'D (C)': 'DC',\n",
    "    'GK': 'GK',\n",
    "    'ST (C)': 'ST',\n",
    "    'AM (L)': 'AML',\n",
    "    'AM (R)': 'AMR',\n",
    "    'D (R)': 'DR',\n",
    "    'D (L)': 'DL',\n",
    "    'DM': 'DM',\n",
    "    'AM (C)': 'AMC',\n",
    "    'M (L)': 'ML',\n",
    "    'M (R)': 'MR',\n",
    "    'WB (L)': 'WBL',\n",
    "    'WB (R)': 'WBR'\n",
    "}"
   ]
  },
  {
   "cell_type": "code",
   "execution_count": 33,
   "id": "3fc5f547-604a-4b71-8993-e9083cb677b6",
   "metadata": {},
   "outputs": [],
   "source": [
    "def remove_parentheses(text):\n",
    "    return text.replace(\"(\", \"\").replace(\")\", \"\")"
   ]
  },
  {
   "cell_type": "code",
   "execution_count": 34,
   "id": "96f4ddaa-08c8-4aba-8c09-5be5b2245690",
   "metadata": {},
   "outputs": [],
   "source": [
    "def pos_map(position):\n",
    "    return position_mapping[position]"
   ]
  },
  {
   "cell_type": "code",
   "execution_count": 35,
   "id": "a41e240c-49c9-427f-b7f5-73b4ada10fb2",
   "metadata": {},
   "outputs": [
    {
     "data": {
      "text/plain": [
       "Best_Pos\n",
       "M (C)     977\n",
       "D (C)     938\n",
       "AM (L)    738\n",
       "GK        704\n",
       "ST (C)    648\n",
       "AM (R)    555\n",
       "D (R)     521\n",
       "D (L)     475\n",
       "DM        388\n",
       "AM (C)    180\n",
       "M (L)     130\n",
       "M (R)     116\n",
       "WB (R)     29\n",
       "WB (L)     23\n",
       "Name: count, dtype: int64"
      ]
     },
     "execution_count": 35,
     "metadata": {},
     "output_type": "execute_result"
    }
   ],
   "source": [
    "fm_df['Best_Pos'].value_counts()"
   ]
  },
  {
   "cell_type": "code",
   "execution_count": 36,
   "id": "f2334538-ffc9-48bf-95b7-9ae0bea5fcb6",
   "metadata": {},
   "outputs": [
    {
     "data": {
      "text/plain": [
       "Position\n",
       "D (C)                    749\n",
       "GK                       704\n",
       "DM, M (C)                600\n",
       "ST (C)                   519\n",
       "M/AM (C)                 279\n",
       "                        ... \n",
       "D (R), WB/M (RL)           1\n",
       "D (R), WB (RL), M (R)      1\n",
       "D (RLC), WB/M (R)          1\n",
       "WB/M (RL)                  1\n",
       "D/AM (R)                   1\n",
       "Name: count, Length: 224, dtype: int64"
      ]
     },
     "execution_count": 36,
     "metadata": {},
     "output_type": "execute_result"
    }
   ],
   "source": [
    "fm_df['Position'].value_counts()"
   ]
  },
  {
   "cell_type": "code",
   "execution_count": 37,
   "id": "b5f99125-4959-47f9-a7fb-26089419a929",
   "metadata": {},
   "outputs": [],
   "source": [
    "def Multiple_Position_Beautifier(position_value):\n",
    "    x = \"\"\n",
    "    positions = position_value.split(\",\")\n",
    "    for p in positions:\n",
    "        p = p.strip()\n",
    "        if p in position_mapping.keys():\n",
    "            x += f\"{position_mapping[p]},\"\n",
    "        elif \"/\" in p:\n",
    "            slashed = p.split(\" \")\n",
    "            locations = slashed[0].split(\"/\")\n",
    "            sides = list(remove_parentheses(slashed[1]))\n",
    "            for loc in locations:\n",
    "                for side in sides:\n",
    "                    splitted_pos = loc+side\n",
    "                    x += f\"{splitted_pos},\"\n",
    "        else:\n",
    "            slashed = p.split(\" \")\n",
    "            loc = slashed[0]\n",
    "            sides = list(remove_parentheses(slashed[1]))\n",
    "            for side in sides:\n",
    "                splitted_pos = loc+side\n",
    "                x += f\"{splitted_pos},\"\n",
    "    return x[:-1]"
   ]
  },
  {
   "cell_type": "code",
   "execution_count": 38,
   "id": "aca27f45-bbb1-439d-a6d6-3aa4f91c072c",
   "metadata": {},
   "outputs": [],
   "source": [
    "fm_df['Position'] = fm_df['Position'].apply(lambda row: Multiple_Position_Beautifier(row))\n",
    "fm_df['Best_Pos'] = fm_df['Best_Pos'].apply(lambda row: Multiple_Position_Beautifier(row))"
   ]
  },
  {
   "cell_type": "code",
   "execution_count": 39,
   "id": "1a422ea0-6f34-4ad9-a34f-93f73f47bc01",
   "metadata": {},
   "outputs": [],
   "source": [
    "position_order = ['GK', 'WBR', 'DR', 'DC', 'DL', 'WBL', 'DM',  \n",
    "                  'MC', 'MR', 'AMC', 'ML', 'AMR', 'ST', 'AML']\n",
    "def get_position_rank(position):\n",
    "    return position_order.index(position) if position in position_order else len(position_order)\n",
    "fm_df['Pos_Rank'] = fm_df['Best_Pos'].apply(get_position_rank)"
   ]
  },
  {
   "cell_type": "code",
   "execution_count": 40,
   "id": "1c465b7c-8695-4ce6-8d97-295f745bd1f5",
   "metadata": {},
   "outputs": [
    {
     "data": {
      "text/html": [
       "<div>\n",
       "<style scoped>\n",
       "    .dataframe tbody tr th:only-of-type {\n",
       "        vertical-align: middle;\n",
       "    }\n",
       "\n",
       "    .dataframe tbody tr th {\n",
       "        vertical-align: top;\n",
       "    }\n",
       "\n",
       "    .dataframe thead th {\n",
       "        text-align: right;\n",
       "    }\n",
       "</style>\n",
       "<table border=\"1\" class=\"dataframe\">\n",
       "  <thead>\n",
       "    <tr style=\"text-align: right;\">\n",
       "      <th></th>\n",
       "      <th>Best_Pos</th>\n",
       "    </tr>\n",
       "  </thead>\n",
       "  <tbody>\n",
       "    <tr>\n",
       "      <th>168395</th>\n",
       "      <td>DC</td>\n",
       "    </tr>\n",
       "    <tr>\n",
       "      <th>168409</th>\n",
       "      <td>DC</td>\n",
       "    </tr>\n",
       "    <tr>\n",
       "      <th>168573</th>\n",
       "      <td>AML</td>\n",
       "    </tr>\n",
       "    <tr>\n",
       "      <th>168584</th>\n",
       "      <td>ST</td>\n",
       "    </tr>\n",
       "    <tr>\n",
       "      <th>168616</th>\n",
       "      <td>AML</td>\n",
       "    </tr>\n",
       "    <tr>\n",
       "      <th>168825</th>\n",
       "      <td>AML</td>\n",
       "    </tr>\n",
       "    <tr>\n",
       "      <th>169038</th>\n",
       "      <td>AMR</td>\n",
       "    </tr>\n",
       "    <tr>\n",
       "      <th>169074</th>\n",
       "      <td>GK</td>\n",
       "    </tr>\n",
       "    <tr>\n",
       "      <th>169161</th>\n",
       "      <td>MC</td>\n",
       "    </tr>\n",
       "    <tr>\n",
       "      <th>169202</th>\n",
       "      <td>ML</td>\n",
       "    </tr>\n",
       "    <tr>\n",
       "      <th>169207</th>\n",
       "      <td>AMC</td>\n",
       "    </tr>\n",
       "    <tr>\n",
       "      <th>169215</th>\n",
       "      <td>DR</td>\n",
       "    </tr>\n",
       "    <tr>\n",
       "      <th>169352</th>\n",
       "      <td>ST</td>\n",
       "    </tr>\n",
       "    <tr>\n",
       "      <th>169530</th>\n",
       "      <td>AML</td>\n",
       "    </tr>\n",
       "    <tr>\n",
       "      <th>169540</th>\n",
       "      <td>AML</td>\n",
       "    </tr>\n",
       "    <tr>\n",
       "      <th>169732</th>\n",
       "      <td>MC</td>\n",
       "    </tr>\n",
       "    <tr>\n",
       "      <th>169971</th>\n",
       "      <td>DM</td>\n",
       "    </tr>\n",
       "    <tr>\n",
       "      <th>170215</th>\n",
       "      <td>DL</td>\n",
       "    </tr>\n",
       "    <tr>\n",
       "      <th>170250</th>\n",
       "      <td>AMR</td>\n",
       "    </tr>\n",
       "    <tr>\n",
       "      <th>170287</th>\n",
       "      <td>AMR</td>\n",
       "    </tr>\n",
       "    <tr>\n",
       "      <th>170296</th>\n",
       "      <td>WBR</td>\n",
       "    </tr>\n",
       "    <tr>\n",
       "      <th>170327</th>\n",
       "      <td>ST</td>\n",
       "    </tr>\n",
       "    <tr>\n",
       "      <th>171625</th>\n",
       "      <td>MC</td>\n",
       "    </tr>\n",
       "    <tr>\n",
       "      <th>173209</th>\n",
       "      <td>GK</td>\n",
       "    </tr>\n",
       "    <tr>\n",
       "      <th>173950</th>\n",
       "      <td>AMR</td>\n",
       "    </tr>\n",
       "    <tr>\n",
       "      <th>177476</th>\n",
       "      <td>AMR</td>\n",
       "    </tr>\n",
       "    <tr>\n",
       "      <th>178013</th>\n",
       "      <td>DC</td>\n",
       "    </tr>\n",
       "    <tr>\n",
       "      <th>183728</th>\n",
       "      <td>DC</td>\n",
       "    </tr>\n",
       "  </tbody>\n",
       "</table>\n",
       "</div>"
      ],
      "text/plain": [
       "       Best_Pos\n",
       "168395       DC\n",
       "168409       DC\n",
       "168573      AML\n",
       "168584       ST\n",
       "168616      AML\n",
       "168825      AML\n",
       "169038      AMR\n",
       "169074       GK\n",
       "169161       MC\n",
       "169202       ML\n",
       "169207      AMC\n",
       "169215       DR\n",
       "169352       ST\n",
       "169530      AML\n",
       "169540      AML\n",
       "169732       MC\n",
       "169971       DM\n",
       "170215       DL\n",
       "170250      AMR\n",
       "170287      AMR\n",
       "170296      WBR\n",
       "170327       ST\n",
       "171625       MC\n",
       "173209       GK\n",
       "173950      AMR\n",
       "177476      AMR\n",
       "178013       DC\n",
       "183728       DC"
      ]
     },
     "execution_count": 40,
     "metadata": {},
     "output_type": "execute_result"
    }
   ],
   "source": [
    "fm_df.query(\"Club == 'Chaves'\")[[\"Best_Pos\"]]"
   ]
  },
  {
   "cell_type": "code",
   "execution_count": 41,
   "id": "ccba24ff-3403-48a2-acad-58c736b89da9",
   "metadata": {},
   "outputs": [
    {
     "data": {
      "text/plain": [
       "Position\n",
       "DC                  749\n",
       "GK                  704\n",
       "DM,MC               600\n",
       "ST                  519\n",
       "MC,AMC              279\n",
       "                   ... \n",
       "DR,WBR,WBL,MR,ML      1\n",
       "DR,WBR,WBL,MR         1\n",
       "DR,DL,DC,WBR,MR       1\n",
       "WBR,WBL,MR,ML         1\n",
       "DR,AMR                1\n",
       "Name: count, Length: 224, dtype: int64"
      ]
     },
     "execution_count": 41,
     "metadata": {},
     "output_type": "execute_result"
    }
   ],
   "source": [
    "fm_df['Position'].value_counts()"
   ]
  },
  {
   "cell_type": "code",
   "execution_count": 42,
   "id": "9049057c-319b-4e38-aa0c-5175e8f0b3e9",
   "metadata": {},
   "outputs": [
    {
     "data": {
      "text/plain": [
       "Best_Pos\n",
       "MC     977\n",
       "DC     938\n",
       "AML    738\n",
       "GK     704\n",
       "ST     648\n",
       "AMR    555\n",
       "DR     521\n",
       "DL     475\n",
       "DM     388\n",
       "AMC    180\n",
       "ML     130\n",
       "MR     116\n",
       "WBR     29\n",
       "WBL     23\n",
       "Name: count, dtype: int64"
      ]
     },
     "execution_count": 42,
     "metadata": {},
     "output_type": "execute_result"
    }
   ],
   "source": [
    "fm_df['Best_Pos'].value_counts()"
   ]
  },
  {
   "cell_type": "markdown",
   "id": "d131b8b4-48a3-437b-ae14-dfa1b3f3893a",
   "metadata": {},
   "source": [
    "<br><br><br><br>\n",
    "# Players' Overall"
   ]
  },
  {
   "cell_type": "markdown",
   "id": "60dad6ed-b65b-4f4b-97f6-a904d31e143c",
   "metadata": {},
   "source": [
    "- Keeper -> gk\n",
    "- Defending -> def \n",
    "- Passing -> pas\n",
    "- Dribbling -> dri\n",
    "- Finishing -> fin\n",
    "- Stamina -> sta\n",
    "- Strength -> str\n",
    "- Heading -> hed\n",
    "- Mental -> men\n",
    "- Intelligence -> iq"
   ]
  },
  {
   "cell_type": "code",
   "execution_count": 43,
   "id": "2d85f52f-0603-41ed-afc1-9e02cd9db554",
   "metadata": {},
   "outputs": [],
   "source": [
    "rating_attrs = [\"gk\",\"def\",\"pas\",\"dri\",\"fin\",\"sta\",\"str\",\"hed\",\"men\",\"iq\"]"
   ]
  },
  {
   "cell_type": "code",
   "execution_count": 44,
   "id": "833e814b-8559-4485-8b8d-f5d6495c5ea1",
   "metadata": {},
   "outputs": [],
   "source": [
    "def Dict_Generator(attrs):\n",
    "    weights = (len(attrs)*\"0.1,\").split(\",\")[:-1]\n",
    "    return {key: float(weights[i]) for i, key in enumerate(attrs)}"
   ]
  },
  {
   "cell_type": "markdown",
   "id": "deae1ba9-ee19-4b3b-99d9-aacfee6098a7",
   "metadata": {},
   "source": [
    "<h3 style=\"color:orange;\">  Keeper</h3>"
   ]
  },
  {
   "cell_type": "code",
   "execution_count": 45,
   "id": "99457f3f-42f2-4352-8164-ef6b2b26b6f8",
   "metadata": {},
   "outputs": [
    {
     "data": {
      "text/html": [
       "<div>\n",
       "<style scoped>\n",
       "    .dataframe tbody tr th:only-of-type {\n",
       "        vertical-align: middle;\n",
       "    }\n",
       "\n",
       "    .dataframe tbody tr th {\n",
       "        vertical-align: top;\n",
       "    }\n",
       "\n",
       "    .dataframe thead th {\n",
       "        text-align: right;\n",
       "    }\n",
       "</style>\n",
       "<table border=\"1\" class=\"dataframe\">\n",
       "  <thead>\n",
       "    <tr style=\"text-align: right;\">\n",
       "      <th></th>\n",
       "      <th>Name</th>\n",
       "      <th>gk</th>\n",
       "    </tr>\n",
       "  </thead>\n",
       "  <tbody>\n",
       "    <tr>\n",
       "      <th>167966</th>\n",
       "      <td>Marc-André ter Stegen</td>\n",
       "      <td>83</td>\n",
       "    </tr>\n",
       "    <tr>\n",
       "      <th>42335</th>\n",
       "      <td>Manuel Neuer</td>\n",
       "      <td>82</td>\n",
       "    </tr>\n",
       "    <tr>\n",
       "      <th>151647</th>\n",
       "      <td>Alisson</td>\n",
       "      <td>82</td>\n",
       "    </tr>\n",
       "    <tr>\n",
       "      <th>151645</th>\n",
       "      <td>Ederson</td>\n",
       "      <td>81</td>\n",
       "    </tr>\n",
       "    <tr>\n",
       "      <th>167963</th>\n",
       "      <td>Jan Oblak</td>\n",
       "      <td>80</td>\n",
       "    </tr>\n",
       "  </tbody>\n",
       "</table>\n",
       "</div>"
      ],
      "text/plain": [
       "                         Name  gk\n",
       "167966  Marc-André ter Stegen  83\n",
       "42335            Manuel Neuer  82\n",
       "151647                Alisson  82\n",
       "151645                Ederson  81\n",
       "167963              Jan Oblak  80"
      ]
     },
     "execution_count": 45,
     "metadata": {},
     "output_type": "execute_result"
    }
   ],
   "source": [
    "current_ability = \"gk\"\n",
    "fm_df[current_ability] = fm_df[gk_attributes + gk_technical_attributes].mean(axis=1).astype(int)\n",
    "fm_df[[\"Name\", current_ability]].sort_values(current_ability, ascending=False).head()"
   ]
  },
  {
   "cell_type": "markdown",
   "id": "01fcb5ae-0876-411e-812f-902ef25af14f",
   "metadata": {},
   "source": [
    "<h3 style=\"color:orange;\">  Defending</h3>"
   ]
  },
  {
   "cell_type": "code",
   "execution_count": 46,
   "id": "efb1a2bb-c641-4470-94c2-eda50f7e002c",
   "metadata": {},
   "outputs": [],
   "source": [
    "mental_attributes = [ \"Aggression\", \"Anticipation\", \"Bravery\", \"Composure\", \"Concentration\", \"Decisions\", \"Determination\", \"Flair\", \"Leadership\", \"Off the Ball\", \"Positioning\", \"Teamwork\", \"Vision\", \"Work Rate\" ]\n",
    "physical_attributes = [ \"Acceleration\", \"Agility\", \"Balance\", \"Jumping Reach\", \"Fitness\", \"Pace\", \"Stamina\", \"Strength\" ]\n",
    "technical_attributes = [ \"Corners\", \"Crossing\", \"Dribbling\", \"Finishing\", \"First Touch\", \"Free Kick Taking\", \"Heading\", \"Long Shots\", \"Long Throws\", \"Marking\", \"Passing\", \"Penalty Taking\", \"Tackling\", \"Technique\" ]"
   ]
  },
  {
   "cell_type": "code",
   "execution_count": 47,
   "id": "fe8cda42-4f5e-41a4-947d-47febd76ef3c",
   "metadata": {},
   "outputs": [
    {
     "data": {
      "text/html": [
       "<div>\n",
       "<style scoped>\n",
       "    .dataframe tbody tr th:only-of-type {\n",
       "        vertical-align: middle;\n",
       "    }\n",
       "\n",
       "    .dataframe tbody tr th {\n",
       "        vertical-align: top;\n",
       "    }\n",
       "\n",
       "    .dataframe thead th {\n",
       "        text-align: right;\n",
       "    }\n",
       "</style>\n",
       "<table border=\"1\" class=\"dataframe\">\n",
       "  <thead>\n",
       "    <tr style=\"text-align: right;\">\n",
       "      <th></th>\n",
       "      <th>Name</th>\n",
       "      <th>def</th>\n",
       "    </tr>\n",
       "  </thead>\n",
       "  <tbody>\n",
       "    <tr>\n",
       "      <th>151644</th>\n",
       "      <td>Virgil van Dijk</td>\n",
       "      <td>92</td>\n",
       "    </tr>\n",
       "    <tr>\n",
       "      <th>73546</th>\n",
       "      <td>Milan Škriniar</td>\n",
       "      <td>90</td>\n",
       "    </tr>\n",
       "    <tr>\n",
       "      <th>151642</th>\n",
       "      <td>Rúben Dias</td>\n",
       "      <td>89</td>\n",
       "    </tr>\n",
       "    <tr>\n",
       "      <th>73611</th>\n",
       "      <td>Chris Smalling</td>\n",
       "      <td>87</td>\n",
       "    </tr>\n",
       "    <tr>\n",
       "      <th>73641</th>\n",
       "      <td>Kim Min-Jae</td>\n",
       "      <td>87</td>\n",
       "    </tr>\n",
       "  </tbody>\n",
       "</table>\n",
       "</div>"
      ],
      "text/plain": [
       "                   Name  def\n",
       "151644  Virgil van Dijk   92\n",
       "73546    Milan Škriniar   90\n",
       "151642       Rúben Dias   89\n",
       "73611    Chris Smalling   87\n",
       "73641       Kim Min-Jae   87"
      ]
     },
     "execution_count": 47,
     "metadata": {},
     "output_type": "execute_result"
    }
   ],
   "source": [
    "expert_attributes = [\"Anticipation\", \"Bravery\", \"Acceleration\", \"Concentration\", \"Decisions\", \"Positioning\", \"Jumping Reach\", \"Fitness\", \"Pace\", \"Strength\", \"Heading\", \"Marking\", \"Tackling\" ]\n",
    "\n",
    "weights =   {'Anticipation': 0.05,\n",
    "             'Bravery': 0.05,\n",
    "             \"Acceleration\": 0.05,\n",
    "             'Concentration': 0.05,\n",
    "             'Decisions': 0.05,\n",
    "             'Positioning': 0.05,\n",
    "             'Jumping Reach': 0.05,\n",
    "             'Fitness': 0.1,\n",
    "             'Pace': 0.05,\n",
    "             'Strength': 0.15,\n",
    "             'Heading': 0.15,\n",
    "             'Marking': 0.1,\n",
    "             'Tackling': 0.1}.values()\n",
    "\n",
    "current_ability = \"def\"\n",
    "fm_df[current_ability] = (fm_df[expert_attributes] * weights).sum(axis=1).astype(int)\n",
    "fm_df[[\"Name\", current_ability]].sort_values(current_ability, ascending=False).head()"
   ]
  },
  {
   "cell_type": "markdown",
   "id": "1c687947-0302-45ff-a9fc-371526bb65fc",
   "metadata": {},
   "source": [
    "<h3 style=\"color:red;\">  Passing</h3>"
   ]
  },
  {
   "cell_type": "code",
   "execution_count": 48,
   "id": "598cb029-720c-4022-9e88-8efe9422e8dd",
   "metadata": {},
   "outputs": [
    {
     "data": {
      "text/html": [
       "<div>\n",
       "<style scoped>\n",
       "    .dataframe tbody tr th:only-of-type {\n",
       "        vertical-align: middle;\n",
       "    }\n",
       "\n",
       "    .dataframe tbody tr th {\n",
       "        vertical-align: top;\n",
       "    }\n",
       "\n",
       "    .dataframe thead th {\n",
       "        text-align: right;\n",
       "    }\n",
       "</style>\n",
       "<table border=\"1\" class=\"dataframe\">\n",
       "  <thead>\n",
       "    <tr style=\"text-align: right;\">\n",
       "      <th></th>\n",
       "      <th>Name</th>\n",
       "      <th>pas</th>\n",
       "    </tr>\n",
       "  </thead>\n",
       "  <tbody>\n",
       "    <tr>\n",
       "      <th>167956</th>\n",
       "      <td>Lionel Messi</td>\n",
       "      <td>104</td>\n",
       "    </tr>\n",
       "    <tr>\n",
       "      <th>167959</th>\n",
       "      <td>Luka Modrić</td>\n",
       "      <td>102</td>\n",
       "    </tr>\n",
       "    <tr>\n",
       "      <th>151638</th>\n",
       "      <td>Kevin De Bruyne</td>\n",
       "      <td>99</td>\n",
       "    </tr>\n",
       "    <tr>\n",
       "      <th>167960</th>\n",
       "      <td>Karim Benzema</td>\n",
       "      <td>99</td>\n",
       "    </tr>\n",
       "    <tr>\n",
       "      <th>167970</th>\n",
       "      <td>Toni Kroos</td>\n",
       "      <td>98</td>\n",
       "    </tr>\n",
       "  </tbody>\n",
       "</table>\n",
       "</div>"
      ],
      "text/plain": [
       "                   Name  pas\n",
       "167956     Lionel Messi  104\n",
       "167959      Luka Modrić  102\n",
       "151638  Kevin De Bruyne   99\n",
       "167960    Karim Benzema   99\n",
       "167970       Toni Kroos   98"
      ]
     },
     "execution_count": 48,
     "metadata": {},
     "output_type": "execute_result"
    }
   ],
   "source": [
    "expert_attributes = [\"Crossing\", \"First Touch\", \"Passing\", \"Technique\", \"Decisions\", \"Determination\", \"Vision\"]\n",
    "weights =   {'Crossing': 0.10,\n",
    "             'First Touch': 0.10,\n",
    "             'Passing': 0.35,\n",
    "             'Technique': 0.20,\n",
    "             'Decisions': 0.05,\n",
    "             'Determination': 0.05,\n",
    "             'Vision': 0.15}\n",
    "\n",
    "current_ability = \"pas\"\n",
    "fm_df[current_ability] = (fm_df[expert_attributes] * weights).sum(axis=1).astype(int)\n",
    "fm_df[[\"Name\", current_ability]].sort_values(current_ability, ascending=False).head()"
   ]
  },
  {
   "cell_type": "markdown",
   "id": "d57cc8c4-2942-4f81-b1b2-eddfa3b43278",
   "metadata": {},
   "source": [
    "<h3 style=\"color:red;\">  Dribbling</h3>"
   ]
  },
  {
   "cell_type": "code",
   "execution_count": 49,
   "id": "1e752cc5-1ad3-4024-88fb-311c9209e178",
   "metadata": {},
   "outputs": [
    {
     "data": {
      "text/html": [
       "<div>\n",
       "<style scoped>\n",
       "    .dataframe tbody tr th:only-of-type {\n",
       "        vertical-align: middle;\n",
       "    }\n",
       "\n",
       "    .dataframe tbody tr th {\n",
       "        vertical-align: top;\n",
       "    }\n",
       "\n",
       "    .dataframe thead th {\n",
       "        text-align: right;\n",
       "    }\n",
       "</style>\n",
       "<table border=\"1\" class=\"dataframe\">\n",
       "  <thead>\n",
       "    <tr style=\"text-align: right;\">\n",
       "      <th></th>\n",
       "      <th>Name</th>\n",
       "      <th>dri</th>\n",
       "    </tr>\n",
       "  </thead>\n",
       "  <tbody>\n",
       "    <tr>\n",
       "      <th>167957</th>\n",
       "      <td>Kylian Mbappé</td>\n",
       "      <td>99</td>\n",
       "    </tr>\n",
       "    <tr>\n",
       "      <th>151738</th>\n",
       "      <td>Adama Traoré</td>\n",
       "      <td>96</td>\n",
       "    </tr>\n",
       "    <tr>\n",
       "      <th>151640</th>\n",
       "      <td>Mohamed Salah</td>\n",
       "      <td>95</td>\n",
       "    </tr>\n",
       "    <tr>\n",
       "      <th>167956</th>\n",
       "      <td>Lionel Messi</td>\n",
       "      <td>94</td>\n",
       "    </tr>\n",
       "    <tr>\n",
       "      <th>167973</th>\n",
       "      <td>Ousmane Dembélé</td>\n",
       "      <td>94</td>\n",
       "    </tr>\n",
       "  </tbody>\n",
       "</table>\n",
       "</div>"
      ],
      "text/plain": [
       "                   Name  dri\n",
       "167957    Kylian Mbappé   99\n",
       "151738     Adama Traoré   96\n",
       "151640    Mohamed Salah   95\n",
       "167956     Lionel Messi   94\n",
       "167973  Ousmane Dembélé   94"
      ]
     },
     "execution_count": 49,
     "metadata": {},
     "output_type": "execute_result"
    }
   ],
   "source": [
    "expert_attributes = [\"Dribbling\",\"First Touch\",\"Acceleration\",\"Agility\",\"Balance\",\"Fitness\",\"Pace\"]\n",
    "\n",
    "weights =   {'Dribbling': 0.35,\n",
    "             'First Touch': 0.05,\n",
    "             'Acceleration': 0.20,\n",
    "             'Agility': 0.10,\n",
    "             'Balance': 0.10,\n",
    "             'Fitness': 0.05,\n",
    "             'Pace': 0.15}\n",
    "\n",
    "current_ability = \"dri\"\n",
    "fm_df[current_ability] = (fm_df[expert_attributes] * weights).sum(axis=1).astype(int)\n",
    "fm_df[[\"Name\", current_ability]].sort_values(current_ability, ascending=False).head()"
   ]
  },
  {
   "cell_type": "markdown",
   "id": "e43c22c7-ea5d-49a0-ad79-b6629de99881",
   "metadata": {},
   "source": [
    "<h3 style=\"color:red;\">  Finishing</h3>"
   ]
  },
  {
   "cell_type": "code",
   "execution_count": 50,
   "id": "cdb3efe4-6359-4a3a-af42-f6d5ed811e49",
   "metadata": {},
   "outputs": [
    {
     "data": {
      "text/html": [
       "<div>\n",
       "<style scoped>\n",
       "    .dataframe tbody tr th:only-of-type {\n",
       "        vertical-align: middle;\n",
       "    }\n",
       "\n",
       "    .dataframe tbody tr th {\n",
       "        vertical-align: top;\n",
       "    }\n",
       "\n",
       "    .dataframe thead th {\n",
       "        text-align: right;\n",
       "    }\n",
       "</style>\n",
       "<table border=\"1\" class=\"dataframe\">\n",
       "  <thead>\n",
       "    <tr style=\"text-align: right;\">\n",
       "      <th></th>\n",
       "      <th>Name</th>\n",
       "      <th>fin</th>\n",
       "    </tr>\n",
       "  </thead>\n",
       "  <tbody>\n",
       "    <tr>\n",
       "      <th>151646</th>\n",
       "      <td>Cristiano Ronaldo</td>\n",
       "      <td>104</td>\n",
       "    </tr>\n",
       "    <tr>\n",
       "      <th>73550</th>\n",
       "      <td>Zlatan Ibrahimović</td>\n",
       "      <td>104</td>\n",
       "    </tr>\n",
       "    <tr>\n",
       "      <th>167958</th>\n",
       "      <td>Robert Lewandowski</td>\n",
       "      <td>104</td>\n",
       "    </tr>\n",
       "    <tr>\n",
       "      <th>151641</th>\n",
       "      <td>Harry Kane</td>\n",
       "      <td>104</td>\n",
       "    </tr>\n",
       "    <tr>\n",
       "      <th>73547</th>\n",
       "      <td>Ciro Immobile</td>\n",
       "      <td>99</td>\n",
       "    </tr>\n",
       "  </tbody>\n",
       "</table>\n",
       "</div>"
      ],
      "text/plain": [
       "                      Name  fin\n",
       "151646   Cristiano Ronaldo  104\n",
       "73550   Zlatan Ibrahimović  104\n",
       "167958  Robert Lewandowski  104\n",
       "151641          Harry Kane  104\n",
       "73547        Ciro Immobile   99"
      ]
     },
     "execution_count": 50,
     "metadata": {},
     "output_type": "execute_result"
    }
   ],
   "source": [
    "expert_attributes = [\"Finishing\"]\n",
    "weights =   {'Finishing': 1}.values()\n",
    "\n",
    "current_ability = \"fin\"\n",
    "fm_df[current_ability] = (fm_df[expert_attributes] * weights).sum(axis=1).astype(int)\n",
    "fm_df[[\"Name\", current_ability]].sort_values(current_ability, ascending=False).head()"
   ]
  },
  {
   "cell_type": "markdown",
   "id": "56710f10-dcc6-4398-8201-2d32ddd22053",
   "metadata": {},
   "source": [
    "<h3 style=\"color:green;\">  Stamina</h3>"
   ]
  },
  {
   "cell_type": "code",
   "execution_count": 51,
   "id": "a558ed95-94c0-491d-a051-1c75f29ee09e",
   "metadata": {},
   "outputs": [
    {
     "data": {
      "text/html": [
       "<div>\n",
       "<style scoped>\n",
       "    .dataframe tbody tr th:only-of-type {\n",
       "        vertical-align: middle;\n",
       "    }\n",
       "\n",
       "    .dataframe tbody tr th {\n",
       "        vertical-align: top;\n",
       "    }\n",
       "\n",
       "    .dataframe thead th {\n",
       "        text-align: right;\n",
       "    }\n",
       "</style>\n",
       "<table border=\"1\" class=\"dataframe\">\n",
       "  <thead>\n",
       "    <tr style=\"text-align: right;\">\n",
       "      <th></th>\n",
       "      <th>Name</th>\n",
       "      <th>sta</th>\n",
       "    </tr>\n",
       "  </thead>\n",
       "  <tbody>\n",
       "    <tr>\n",
       "      <th>42332</th>\n",
       "      <td>Joshua Kimmich</td>\n",
       "      <td>110</td>\n",
       "    </tr>\n",
       "    <tr>\n",
       "      <th>151729</th>\n",
       "      <td>James Ward-Prowse</td>\n",
       "      <td>110</td>\n",
       "    </tr>\n",
       "    <tr>\n",
       "      <th>73553</th>\n",
       "      <td>Marcelo Brozović</td>\n",
       "      <td>110</td>\n",
       "    </tr>\n",
       "    <tr>\n",
       "      <th>151691</th>\n",
       "      <td>Mason Mount</td>\n",
       "      <td>110</td>\n",
       "    </tr>\n",
       "    <tr>\n",
       "      <th>151758</th>\n",
       "      <td>Pierre-Emile Højbjerg</td>\n",
       "      <td>110</td>\n",
       "    </tr>\n",
       "  </tbody>\n",
       "</table>\n",
       "</div>"
      ],
      "text/plain": [
       "                         Name  sta\n",
       "42332          Joshua Kimmich  110\n",
       "151729      James Ward-Prowse  110\n",
       "73553        Marcelo Brozović  110\n",
       "151691            Mason Mount  110\n",
       "151758  Pierre-Emile Højbjerg  110"
      ]
     },
     "execution_count": 51,
     "metadata": {},
     "output_type": "execute_result"
    }
   ],
   "source": [
    "expert_attributes = [\"Stamina\"]\n",
    "weights =   {'Stamina': 1}.values()\n",
    "\n",
    "current_ability = \"sta\"\n",
    "fm_df[current_ability] = (fm_df[expert_attributes] * weights).sum(axis=1).astype(int)\n",
    "fm_df[[\"Name\", current_ability]].sort_values(current_ability, ascending=False).head()"
   ]
  },
  {
   "cell_type": "markdown",
   "id": "07ed3df6-6615-4bb1-905f-11e92fb4a08b",
   "metadata": {},
   "source": [
    "<h3 style=\"color:green;\">  Strength</h3>"
   ]
  },
  {
   "cell_type": "code",
   "execution_count": 52,
   "id": "8fa1ac41-4292-4495-8bb1-3273b7eef043",
   "metadata": {},
   "outputs": [
    {
     "data": {
      "text/html": [
       "<div>\n",
       "<style scoped>\n",
       "    .dataframe tbody tr th:only-of-type {\n",
       "        vertical-align: middle;\n",
       "    }\n",
       "\n",
       "    .dataframe tbody tr th {\n",
       "        vertical-align: top;\n",
       "    }\n",
       "\n",
       "    .dataframe thead th {\n",
       "        text-align: right;\n",
       "    }\n",
       "</style>\n",
       "<table border=\"1\" class=\"dataframe\">\n",
       "  <thead>\n",
       "    <tr style=\"text-align: right;\">\n",
       "      <th></th>\n",
       "      <th>Name</th>\n",
       "      <th>str</th>\n",
       "    </tr>\n",
       "  </thead>\n",
       "  <tbody>\n",
       "    <tr>\n",
       "      <th>151713</th>\n",
       "      <td>Kurt Zouma</td>\n",
       "      <td>110</td>\n",
       "    </tr>\n",
       "    <tr>\n",
       "      <th>73542</th>\n",
       "      <td>Romelu Lukaku</td>\n",
       "      <td>110</td>\n",
       "    </tr>\n",
       "    <tr>\n",
       "      <th>152008</th>\n",
       "      <td>Fraser Forster</td>\n",
       "      <td>104</td>\n",
       "    </tr>\n",
       "    <tr>\n",
       "      <th>151685</th>\n",
       "      <td>Reece James</td>\n",
       "      <td>104</td>\n",
       "    </tr>\n",
       "    <tr>\n",
       "      <th>151812</th>\n",
       "      <td>Aleksandar Mitrović</td>\n",
       "      <td>104</td>\n",
       "    </tr>\n",
       "  </tbody>\n",
       "</table>\n",
       "</div>"
      ],
      "text/plain": [
       "                       Name  str\n",
       "151713           Kurt Zouma  110\n",
       "73542         Romelu Lukaku  110\n",
       "152008       Fraser Forster  104\n",
       "151685          Reece James  104\n",
       "151812  Aleksandar Mitrović  104"
      ]
     },
     "execution_count": 52,
     "metadata": {},
     "output_type": "execute_result"
    }
   ],
   "source": [
    "expert_attributes = [\"Strength\"]\n",
    "weights =   {'Strength': 1}.values()\n",
    "\n",
    "current_ability = \"str\"\n",
    "fm_df[current_ability] = (fm_df[expert_attributes] * weights).sum(axis=1).astype(int)\n",
    "fm_df[[\"Name\", current_ability]].sort_values(current_ability, ascending=False).head()"
   ]
  },
  {
   "cell_type": "markdown",
   "id": "c2da837c-a9c9-4797-bc01-5dbc1f1ca0b3",
   "metadata": {},
   "source": [
    "<h3 style=\"color:green;\">  Heading</h3>"
   ]
  },
  {
   "cell_type": "code",
   "execution_count": 53,
   "id": "6f75664c-6b31-47ad-9b80-2d89f0738138",
   "metadata": {},
   "outputs": [
    {
     "data": {
      "text/html": [
       "<div>\n",
       "<style scoped>\n",
       "    .dataframe tbody tr th:only-of-type {\n",
       "        vertical-align: middle;\n",
       "    }\n",
       "\n",
       "    .dataframe tbody tr th {\n",
       "        vertical-align: top;\n",
       "    }\n",
       "\n",
       "    .dataframe thead th {\n",
       "        text-align: right;\n",
       "    }\n",
       "</style>\n",
       "<table border=\"1\" class=\"dataframe\">\n",
       "  <thead>\n",
       "    <tr style=\"text-align: right;\">\n",
       "      <th></th>\n",
       "      <th>Name</th>\n",
       "      <th>hed</th>\n",
       "    </tr>\n",
       "  </thead>\n",
       "  <tbody>\n",
       "    <tr>\n",
       "      <th>167965</th>\n",
       "      <td>Sergio Ramos</td>\n",
       "      <td>110</td>\n",
       "    </tr>\n",
       "    <tr>\n",
       "      <th>73561</th>\n",
       "      <td>Olivier Giroud</td>\n",
       "      <td>104</td>\n",
       "    </tr>\n",
       "    <tr>\n",
       "      <th>75806</th>\n",
       "      <td>Milan Đurić</td>\n",
       "      <td>104</td>\n",
       "    </tr>\n",
       "    <tr>\n",
       "      <th>151646</th>\n",
       "      <td>Cristiano Ronaldo</td>\n",
       "      <td>104</td>\n",
       "    </tr>\n",
       "    <tr>\n",
       "      <th>167994</th>\n",
       "      <td>Edinson Cavani</td>\n",
       "      <td>99</td>\n",
       "    </tr>\n",
       "  </tbody>\n",
       "</table>\n",
       "</div>"
      ],
      "text/plain": [
       "                     Name  hed\n",
       "167965       Sergio Ramos  110\n",
       "73561      Olivier Giroud  104\n",
       "75806         Milan Đurić  104\n",
       "151646  Cristiano Ronaldo  104\n",
       "167994     Edinson Cavani   99"
      ]
     },
     "execution_count": 53,
     "metadata": {},
     "output_type": "execute_result"
    }
   ],
   "source": [
    "expert_attributes = [\"Heading\"]\n",
    "weights =   {'Heading': 1}.values()\n",
    "\n",
    "current_ability = \"hed\"\n",
    "fm_df[current_ability] = (fm_df[expert_attributes] * weights).sum(axis=1).astype(int)\n",
    "fm_df[[\"Name\", current_ability]].sort_values(current_ability, ascending=False).head()"
   ]
  },
  {
   "cell_type": "markdown",
   "id": "be689a3d-f565-4e46-85da-3eae4d754d16",
   "metadata": {},
   "source": [
    "<h3 style=\"color:purple;\">  Mental</h3>"
   ]
  },
  {
   "cell_type": "code",
   "execution_count": 54,
   "id": "2b27b2cb-c74b-4904-b636-3ac2f98f88bc",
   "metadata": {},
   "outputs": [
    {
     "data": {
      "text/html": [
       "<div>\n",
       "<style scoped>\n",
       "    .dataframe tbody tr th:only-of-type {\n",
       "        vertical-align: middle;\n",
       "    }\n",
       "\n",
       "    .dataframe tbody tr th {\n",
       "        vertical-align: top;\n",
       "    }\n",
       "\n",
       "    .dataframe thead th {\n",
       "        text-align: right;\n",
       "    }\n",
       "</style>\n",
       "<table border=\"1\" class=\"dataframe\">\n",
       "  <thead>\n",
       "    <tr style=\"text-align: right;\">\n",
       "      <th></th>\n",
       "      <th>Name</th>\n",
       "      <th>men</th>\n",
       "    </tr>\n",
       "  </thead>\n",
       "  <tbody>\n",
       "    <tr>\n",
       "      <th>151660</th>\n",
       "      <td>Thiago Silva</td>\n",
       "      <td>100</td>\n",
       "    </tr>\n",
       "    <tr>\n",
       "      <th>167993</th>\n",
       "      <td>Axel Witsel</td>\n",
       "      <td>95</td>\n",
       "    </tr>\n",
       "    <tr>\n",
       "      <th>167980</th>\n",
       "      <td>Sergio Busquets</td>\n",
       "      <td>94</td>\n",
       "    </tr>\n",
       "    <tr>\n",
       "      <th>167959</th>\n",
       "      <td>Luka Modrić</td>\n",
       "      <td>94</td>\n",
       "    </tr>\n",
       "    <tr>\n",
       "      <th>151645</th>\n",
       "      <td>Ederson</td>\n",
       "      <td>93</td>\n",
       "    </tr>\n",
       "  </tbody>\n",
       "</table>\n",
       "</div>"
      ],
      "text/plain": [
       "                   Name  men\n",
       "151660     Thiago Silva  100\n",
       "167993      Axel Witsel   95\n",
       "167980  Sergio Busquets   94\n",
       "167959      Luka Modrić   94\n",
       "151645          Ederson   93"
      ]
     },
     "execution_count": 54,
     "metadata": {},
     "output_type": "execute_result"
    }
   ],
   "source": [
    "expert_attributes = [\"Aggression\", \"Composure\", \"Concentration\"]\n",
    "weights =   {'Aggression': 0.15,\n",
    "             'Composure': 0.40,\n",
    "             'Concentration': 0.45}\n",
    "\n",
    "current_ability = \"men\"\n",
    "fm_df[current_ability] = (fm_df[expert_attributes] * weights).sum(axis=1).astype(int)\n",
    "fm_df[[\"Name\", current_ability]].sort_values(current_ability, ascending=False).head()"
   ]
  },
  {
   "cell_type": "markdown",
   "id": "07c4e05d-b7a6-4865-920c-00f81edce658",
   "metadata": {},
   "source": [
    "<h3 style=\"color:purple;\">  Intelligence</h3>"
   ]
  },
  {
   "cell_type": "code",
   "execution_count": 55,
   "id": "b7bde5ef-2123-4e53-b203-c31bd462a047",
   "metadata": {},
   "outputs": [
    {
     "data": {
      "text/html": [
       "<div>\n",
       "<style scoped>\n",
       "    .dataframe tbody tr th:only-of-type {\n",
       "        vertical-align: middle;\n",
       "    }\n",
       "\n",
       "    .dataframe tbody tr th {\n",
       "        vertical-align: top;\n",
       "    }\n",
       "\n",
       "    .dataframe thead th {\n",
       "        text-align: right;\n",
       "    }\n",
       "</style>\n",
       "<table border=\"1\" class=\"dataframe\">\n",
       "  <thead>\n",
       "    <tr style=\"text-align: right;\">\n",
       "      <th></th>\n",
       "      <th>Name</th>\n",
       "      <th>iq</th>\n",
       "    </tr>\n",
       "  </thead>\n",
       "  <tbody>\n",
       "    <tr>\n",
       "      <th>167959</th>\n",
       "      <td>Luka Modrić</td>\n",
       "      <td>93</td>\n",
       "    </tr>\n",
       "    <tr>\n",
       "      <th>167956</th>\n",
       "      <td>Lionel Messi</td>\n",
       "      <td>92</td>\n",
       "    </tr>\n",
       "    <tr>\n",
       "      <th>167988</th>\n",
       "      <td>Marco Verratti</td>\n",
       "      <td>91</td>\n",
       "    </tr>\n",
       "    <tr>\n",
       "      <th>151638</th>\n",
       "      <td>Kevin De Bruyne</td>\n",
       "      <td>91</td>\n",
       "    </tr>\n",
       "    <tr>\n",
       "      <th>151656</th>\n",
       "      <td>Thiago</td>\n",
       "      <td>90</td>\n",
       "    </tr>\n",
       "  </tbody>\n",
       "</table>\n",
       "</div>"
      ],
      "text/plain": [
       "                   Name  iq\n",
       "167959      Luka Modrić  93\n",
       "167956     Lionel Messi  92\n",
       "167988   Marco Verratti  91\n",
       "151638  Kevin De Bruyne  91\n",
       "151656           Thiago  90"
      ]
     },
     "execution_count": 55,
     "metadata": {},
     "output_type": "execute_result"
    }
   ],
   "source": [
    "expert_attributes = [\"Vision\", \"Positioning\", \"Anticipation\", \"Decisions\", \"Flair\"]\n",
    "weights =   {'Vision': 0.35,\n",
    "             'Positioning': 0.15,\n",
    "             'Anticipation': 0.20,\n",
    "             'Decisions': 0.15,\n",
    "             'Flair': 0.15}\n",
    "\n",
    "current_ability = \"iq\"\n",
    "fm_df[current_ability] = (fm_df[expert_attributes] * weights).sum(axis=1).astype(int)\n",
    "fm_df[[\"Name\", current_ability]].sort_values(current_ability, ascending=False).head()"
   ]
  },
  {
   "cell_type": "markdown",
   "id": "6f086ca8-3eca-4b0f-892f-d44803f0fe7c",
   "metadata": {},
   "source": [
    "<h1 style=\"color:red;\">  🥽TPR</h1>"
   ]
  },
  {
   "cell_type": "code",
   "execution_count": 56,
   "id": "17b302a4-1178-4b3f-8aac-f4b8bf15daa5",
   "metadata": {},
   "outputs": [],
   "source": [
    "positions = fm_df['Best_Pos'].unique().tolist()"
   ]
  },
  {
   "cell_type": "code",
   "execution_count": 57,
   "id": "76f2acf6-96db-4ff7-9eb7-70fcc78791e0",
   "metadata": {},
   "outputs": [],
   "source": [
    "def TPR_by_Position(row, pos=False):\n",
    "    if not pos:\n",
    "        position = row[\"Best_Pos\"]\n",
    "    else:\n",
    "        position = pos\n",
    "        \n",
    "    rating_weights = {}\n",
    "    if position == \"GK\":\n",
    "        rating_weights = { \"gk\": 0.95, \"def\": 0, \"pas\": 0, \"dri\": 0, \"fin\": 0, \"sta\": 0, \"str\": 0, \"hed\": 0, \"men\": 0.05, \"iq\": 0 }\n",
    "    elif position == \"DC\":\n",
    "        rating_weights = { \"gk\": 0, \"def\": 0.25, \"pas\": 0.12, \"dri\": 0, \"fin\": 0, \"sta\": 0.19, \"str\": 0.15, \"hed\": 0.15, \"men\": 0.1, \"iq\": 0.05 }\n",
    "    elif position == \"DL\" or position == \"DR\":\n",
    "        rating_weights = { \"gk\": 0, \"def\": 0.22, \"pas\": 0.25, \"dri\": 0.23, \"fin\": 0, \"sta\": 0.17, \"str\": 0.04, \"hed\": 0.02, \"men\": 0.03, \"iq\": 0.04 }\n",
    "    elif position == \"WBL\" or position == \"WBR\":\n",
    "        rating_weights = { \"gk\": 0, \"def\": 0.09, \"pas\": 0.21, \"dri\": 0.32, \"fin\": 0, \"sta\": 0.22, \"str\": 0.04, \"hed\": 0.01, \"men\": 0.03, \"iq\": 0.08 }\n",
    "    elif position == \"DM\":\n",
    "        rating_weights = { \"gk\": 0, \"def\": 0.1, \"pas\": 0.23, \"dri\": 0.09, \"fin\": 0.02, \"sta\": 0.19, \"str\": 0.1, \"hed\": 0.04, \"men\": 0.08, \"iq\": 0.15 }\n",
    "    elif position == \"MC\":\n",
    "        rating_weights = { \"gk\": 0, \"def\": 0.01, \"pas\": 0.27, \"dri\": 0.15, \"fin\": 0.13, \"sta\": 0.11, \"str\": 0.07, \"hed\": 0.02, \"men\": 0.04, \"iq\": 0.2 }\n",
    "    elif position == \"ML\" or position == \"MR\":\n",
    "        rating_weights = { \"gk\": 0, \"def\": 0.07, \"pas\": 0.11, \"dri\": 0.2, \"fin\": 0.14, \"sta\": 0.17, \"str\": 0.11, \"hed\": 0.03, \"men\": 0.07, \"iq\": 0.09 }\n",
    "    elif position == \"AMC\":\n",
    "        rating_weights = { \"gk\": 0, \"def\": 0, \"pas\": 0.25, \"dri\": 0.19, \"fin\": 0.16, \"sta\": 0.06, \"str\": 0.04, \"hed\": 0, \"men\": 0.03, \"iq\": 0.27 }\n",
    "    elif position == \"AML\" or position == \"AMR\":\n",
    "        rating_weights = { \"gk\": 0, \"def\": 0, \"pas\": 0.08, \"dri\": 0.34, \"fin\": 0.22, \"sta\": 0.16, \"str\": 0.03, \"hed\": 0.01, \"men\": 0.05, \"iq\": 0.11 }\n",
    "    elif position == \"ST\":\n",
    "        rating_weights = { \"gk\": 0, \"def\": 0, \"pas\": 0.09, \"dri\": 0.14, \"fin\": 0.3, \"sta\": 0.12, \"str\": 0.1, \"hed\": 0.12, \"men\": 0.06, \"iq\": 0.07 }\n",
    "    \n",
    "    rating_attrs = list(rating_weights.keys())\n",
    "    tpr = (row[rating_attrs] * pd.Series(rating_weights)).sum()\n",
    "    return int(tpr)"
   ]
  },
  {
   "cell_type": "code",
   "execution_count": 63,
   "id": "ace64e43-db6d-4d58-a9ca-29f71b6f53f4",
   "metadata": {},
   "outputs": [],
   "source": [
    "fm_df[\"tpr\"] = fm_df.apply(TPR_by_Position, axis=1)\n",
    "\n",
    "for pos in positions:\n",
    "    fm_df[f\"tpr_{pos}\"] = 0"
   ]
  },
  {
   "cell_type": "code",
   "execution_count": 70,
   "id": "ab5eae81-39a2-40f5-97a6-828ef475fd04",
   "metadata": {},
   "outputs": [],
   "source": [
    "posdf = pd.read_csv(\"position_regression_formulas.csv\")"
   ]
  },
  {
   "cell_type": "code",
   "execution_count": 71,
   "id": "03969299-2ac1-409f-8b90-92fcdabaa728",
   "metadata": {},
   "outputs": [],
   "source": [
    "def Position_Regression(row, pos):\n",
    "    best_pos = row.Best_Pos\n",
    "    x = row.tpr\n",
    "    m = posdf[posdf.Best_Pos == best_pos][f\"{pos}_slope\"]\n",
    "    b = posdf[posdf.Best_Pos == best_pos][f\"{pos}_intercept\"]\n",
    "    y = int(m*x + b)\n",
    "    return max(y, 0) "
   ]
  },
  {
   "cell_type": "code",
   "execution_count": 73,
   "id": "eb6638c5-96bb-4c3a-8c8a-0ae92e2b9ab3",
   "metadata": {},
   "outputs": [],
   "source": [
    "for pos in positions:\n",
    "    fm_df[f\"tpr_{pos}\"] = fm_df.apply(lambda row: TPR_by_Position(row, pos) if pos == row.Best_Pos or pos in row.Position else Position_Regression(row, pos), axis=1)"
   ]
  },
  {
   "cell_type": "code",
   "execution_count": 74,
   "id": "a6b891d3-1152-45cb-a145-f757029495d4",
   "metadata": {},
   "outputs": [
    {
     "data": {
      "text/html": [
       "<div>\n",
       "<style scoped>\n",
       "    .dataframe tbody tr th:only-of-type {\n",
       "        vertical-align: middle;\n",
       "    }\n",
       "\n",
       "    .dataframe tbody tr th {\n",
       "        vertical-align: top;\n",
       "    }\n",
       "\n",
       "    .dataframe thead th {\n",
       "        text-align: right;\n",
       "    }\n",
       "</style>\n",
       "<table border=\"1\" class=\"dataframe\">\n",
       "  <thead>\n",
       "    <tr style=\"text-align: right;\">\n",
       "      <th></th>\n",
       "      <th>Name</th>\n",
       "      <th>tpr</th>\n",
       "    </tr>\n",
       "  </thead>\n",
       "  <tbody>\n",
       "    <tr>\n",
       "      <th>167958</th>\n",
       "      <td>Robert Lewandowski</td>\n",
       "      <td>92</td>\n",
       "    </tr>\n",
       "    <tr>\n",
       "      <th>167956</th>\n",
       "      <td>Lionel Messi</td>\n",
       "      <td>91</td>\n",
       "    </tr>\n",
       "    <tr>\n",
       "      <th>151644</th>\n",
       "      <td>Virgil van Dijk</td>\n",
       "      <td>89</td>\n",
       "    </tr>\n",
       "    <tr>\n",
       "      <th>151641</th>\n",
       "      <td>Harry Kane</td>\n",
       "      <td>89</td>\n",
       "    </tr>\n",
       "    <tr>\n",
       "      <th>151640</th>\n",
       "      <td>Mohamed Salah</td>\n",
       "      <td>88</td>\n",
       "    </tr>\n",
       "    <tr>\n",
       "      <th>151638</th>\n",
       "      <td>Kevin De Bruyne</td>\n",
       "      <td>88</td>\n",
       "    </tr>\n",
       "    <tr>\n",
       "      <th>151642</th>\n",
       "      <td>Rúben Dias</td>\n",
       "      <td>87</td>\n",
       "    </tr>\n",
       "    <tr>\n",
       "      <th>167957</th>\n",
       "      <td>Kylian Mbappé</td>\n",
       "      <td>87</td>\n",
       "    </tr>\n",
       "    <tr>\n",
       "      <th>151639</th>\n",
       "      <td>Erling Haaland</td>\n",
       "      <td>87</td>\n",
       "    </tr>\n",
       "    <tr>\n",
       "      <th>73542</th>\n",
       "      <td>Romelu Lukaku</td>\n",
       "      <td>86</td>\n",
       "    </tr>\n",
       "  </tbody>\n",
       "</table>\n",
       "</div>"
      ],
      "text/plain": [
       "                      Name  tpr\n",
       "167958  Robert Lewandowski   92\n",
       "167956        Lionel Messi   91\n",
       "151644     Virgil van Dijk   89\n",
       "151641          Harry Kane   89\n",
       "151640       Mohamed Salah   88\n",
       "151638     Kevin De Bruyne   88\n",
       "151642          Rúben Dias   87\n",
       "167957       Kylian Mbappé   87\n",
       "151639      Erling Haaland   87\n",
       "73542        Romelu Lukaku   86"
      ]
     },
     "execution_count": 74,
     "metadata": {},
     "output_type": "execute_result"
    }
   ],
   "source": [
    "fm_df.sort_values(\"tpr\",ascending=False)[[\"Name\",\"tpr\"]].head(n=10)"
   ]
  },
  {
   "cell_type": "code",
   "execution_count": 75,
   "id": "37313773-051e-434e-b1aa-116a7d0241b3",
   "metadata": {},
   "outputs": [
    {
     "data": {
      "text/plain": [
       "{'UID': 7458500,\n",
       " 'Inf': '',\n",
       " 'Name': 'Lionel Messi',\n",
       " 'DoB': '1987-06-24',\n",
       " 'Nat': 'ARG',\n",
       " 'Division': 'Ligue 1 Uber Eats',\n",
       " 'Club': 'Paris Saint-Germain',\n",
       " 'Based': 'France (Ligue 1 Uber Eats)',\n",
       " 'Preferred Foot': 'Left',\n",
       " 'Right Foot': 'Fairly Strong',\n",
       " 'Left Foot': 'Very Strong',\n",
       " 'Position': 'AMR,AMC,ST',\n",
       " 'Height': '169',\n",
       " 'Weight': '67 kg',\n",
       " 'Age': 35,\n",
       " 'Transfer Value': '€50M - €76M',\n",
       " 'Wage': '€3,366,000 p/m',\n",
       " 'AT Apps': '578',\n",
       " 'AT Gls': '491',\n",
       " 'Team': 'Main',\n",
       " 'Caps': 162,\n",
       " 'Yth Apps': '18',\n",
       " 'Style': 'Creative',\n",
       " 'Rc Injury': '-',\n",
       " 'Best Role': 'Attacking Midfielder',\n",
       " 'Best Duty': 'Attack',\n",
       " 'Best_Pos': 'AMC',\n",
       " 'Acceleration': 82.5,\n",
       " 'Aerial Reach': 11.0,\n",
       " 'Aggression': 38.5,\n",
       " 'Agility': 82.5,\n",
       " 'Anticipation': 93.5,\n",
       " 'Balance': 99.0,\n",
       " 'Bravery': 55.0,\n",
       " 'Command of Area': 11.0,\n",
       " 'Communication': 5.5,\n",
       " 'Composure': 88.0,\n",
       " 'Concentration': 60.5,\n",
       " 'Corners': 82.5,\n",
       " 'Crossing': 82.5,\n",
       " 'Decisions': 99.0,\n",
       " 'Determination': 110.0,\n",
       " 'Dribbling': 110.0,\n",
       " 'Eccentricity': 5.5,\n",
       " 'Finishing': 93.5,\n",
       " 'First Touch': 104.5,\n",
       " 'Flair': 110.0,\n",
       " 'Free Kick Taking': 99.0,\n",
       " 'Handling': 5.5,\n",
       " 'Heading': 55.0,\n",
       " 'Jumping Reach': 33.0,\n",
       " 'Kicking': 11.0,\n",
       " 'Leadership': 77.0,\n",
       " 'Long Shots': 88.0,\n",
       " 'Long Throws': 22.0,\n",
       " 'Marking': 22.0,\n",
       " 'Fitness': 77.0,\n",
       " 'Off the Ball': 71.5,\n",
       " 'One vs One': 16.5,\n",
       " 'Pace': 82.5,\n",
       " 'Passing': 104.5,\n",
       " 'Penalty Taking': 93.5,\n",
       " 'Positioning': 27.5,\n",
       " 'Punching': 22.0,\n",
       " 'Reflexes': 5.5,\n",
       " 'Rushing Out': 16.5,\n",
       " 'Stamina': 66.0,\n",
       " 'Strength': 49.5,\n",
       " 'Tackling': 38.5,\n",
       " 'Teamwork': 66.0,\n",
       " 'Technique': 110.0,\n",
       " 'Throwing': 11.0,\n",
       " 'Vision': 110.0,\n",
       " 'Work Rate': 38.5,\n",
       " 'Club_id': 7994,\n",
       " 'Pos_Rank': 9,\n",
       " 'gk': 29,\n",
       " 'def': 56,\n",
       " 'pas': 104,\n",
       " 'dri': 94,\n",
       " 'fin': 93,\n",
       " 'sta': 66,\n",
       " 'str': 49,\n",
       " 'hed': 55,\n",
       " 'men': 68,\n",
       " 'iq': 92,\n",
       " 'tpr': 91,\n",
       " 'tpr_DM': 6,\n",
       " 'tpr_AML': 19,\n",
       " 'tpr_AMC': 91,\n",
       " 'tpr_GK': 0,\n",
       " 'tpr_MC': 87,\n",
       " 'tpr_DC': 1,\n",
       " 'tpr_AMR': 86,\n",
       " 'tpr_DL': 2,\n",
       " 'tpr_DR': 1,\n",
       " 'tpr_ST': 80,\n",
       " 'tpr_ML': 12,\n",
       " 'tpr_MR': 78,\n",
       " 'tpr_WBR': 2,\n",
       " 'tpr_WBL': 2}"
      ]
     },
     "execution_count": 75,
     "metadata": {},
     "output_type": "execute_result"
    }
   ],
   "source": [
    "fm_df.query(\"Name in 'Lionel Messi'\").iloc[0].to_dict()"
   ]
  },
  {
   "cell_type": "markdown",
   "id": "6a4d2439-63c3-4f83-804f-6aefe4f89b6c",
   "metadata": {},
   "source": [
    "# CSV EXPORT"
   ]
  },
  {
   "cell_type": "code",
   "execution_count": 77,
   "id": "a23d6578-54c8-405b-9ea8-8de40220a239",
   "metadata": {},
   "outputs": [],
   "source": [
    "fm_df.to_csv(\"players_db/fm23/fm23db_processed.csv\")"
   ]
  },
  {
   "cell_type": "code",
   "execution_count": null,
   "id": "07b921f6-5da8-49a7-ba03-c751dc3dec4f",
   "metadata": {},
   "outputs": [],
   "source": []
  }
 ],
 "metadata": {
  "kernelspec": {
   "display_name": "Python 3 (ipykernel)",
   "language": "python",
   "name": "python3"
  },
  "language_info": {
   "codemirror_mode": {
    "name": "ipython",
    "version": 3
   },
   "file_extension": ".py",
   "mimetype": "text/x-python",
   "name": "python",
   "nbconvert_exporter": "python",
   "pygments_lexer": "ipython3",
   "version": "3.11.7"
  }
 },
 "nbformat": 4,
 "nbformat_minor": 5
}
