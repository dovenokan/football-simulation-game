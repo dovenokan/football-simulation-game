{
 "cells": [
  {
   "cell_type": "code",
   "execution_count": 1,
   "id": "a2bbe25e-f4a0-46c2-83d6-b9d7d5460388",
   "metadata": {},
   "outputs": [],
   "source": [
    "import pandas as pd\n",
    "import numpy as np\n",
    "import seaborn as sns\n",
    "import re\n",
    "from bs4 import BeautifulSoup\n",
    "import lxml\n",
    "import requests\n",
    "import unicodedata"
   ]
  },
  {
   "cell_type": "code",
   "execution_count": 2,
   "id": "c841d9dc-a322-428d-acce-3533d4bb22dc",
   "metadata": {},
   "outputs": [],
   "source": [
    "import warnings\n",
    "from pandas.errors import SettingWithCopyWarning\n",
    "warnings.simplefilter(action='ignore', category=(SettingWithCopyWarning))\n",
    "warnings.simplefilter(action='ignore', category=(FutureWarning))"
   ]
  },
  {
   "cell_type": "code",
   "execution_count": 3,
   "id": "010eea71-d9f8-43ab-8c24-c2156611ed9b",
   "metadata": {},
   "outputs": [],
   "source": [
    "fm_df = pd.read_csv(\"players_db/fm23/uluta_fm23data.csv\")"
   ]
  },
  {
   "cell_type": "code",
   "execution_count": 4,
   "id": "d66fb9db-83a4-4f2b-bd41-1b6d823a47dd",
   "metadata": {},
   "outputs": [],
   "source": [
    "fm_df.columns = [col.strip() for col in fm_df.columns]\n",
    "\n",
    "for col in fm_df.select_dtypes(\"object\").columns:\n",
    "   fm_df[col] = fm_df[col].apply(lambda x: x.strip())"
   ]
  },
  {
   "cell_type": "code",
   "execution_count": 5,
   "id": "ec0da419-dea5-4891-a392-70ee6d21fec1",
   "metadata": {},
   "outputs": [],
   "source": [
    "# Assume df is your DataFrame\n",
    "new_column_names = {\n",
    "    'Acc': 'Acceleration',\n",
    "    'Aer': 'Aerial Reach',\n",
    "    'Agg': 'Aggression',\n",
    "    'Agi': 'Agility',\n",
    "    'Ant': 'Anticipation',\n",
    "    'Bal': 'Balance',\n",
    "    'Bra': 'Bravery',\n",
    "    'Cmd': 'Command of Area',\n",
    "    'Com': 'Communication',\n",
    "    'Cmp': 'Composure',\n",
    "    'Cnt': 'Concentration',\n",
    "    'Cor': 'Corners',\n",
    "    'Cro': 'Crossing',\n",
    "    'Dec': 'Decisions',\n",
    "    'Det': 'Determination',\n",
    "    'Dri': 'Dribbling',\n",
    "    'Ecc': 'Eccentricity',\n",
    "    'Fin': 'Finishing',\n",
    "    'Fir': 'First Touch',\n",
    "    'Fla': 'Flair',\n",
    "    'Fre': 'Free Kick Taking',\n",
    "    'Han': 'Handling',\n",
    "    'Hea': 'Heading',\n",
    "    'Jum': 'Jumping Reach',\n",
    "    'Kic': 'Kicking',\n",
    "    'Ldr': 'Leadership',\n",
    "    'Lon': 'Long Shots',\n",
    "    'L Th': 'Long Throws',\n",
    "    'Mar': 'Marking',\n",
    "    'Nat .1': 'Fitness',\n",
    "    'OtB': 'Off the Ball',\n",
    "    '1v1': 'One vs One',\n",
    "    'Pac': 'Pace',\n",
    "    'Pas': 'Passing',\n",
    "    'Pen': 'Penalty Taking',\n",
    "    'Pos': 'Positioning',\n",
    "    'Pun': 'Punching',\n",
    "    'Ref': 'Reflexes',\n",
    "    'TRO': 'Rushing Out',\n",
    "    'Sta': 'Stamina',\n",
    "    'Str': 'Strength',\n",
    "    'Tck': 'Tackling',\n",
    "    'Tea': 'Teamwork',\n",
    "    'Tec': 'Technique',\n",
    "    'Thr': 'Throwing',\n",
    "    'Vis': 'Vision',\n",
    "    'Wor': 'Work Rate'\n",
    "}\n",
    "\n",
    "# new_column_names = {key: value.lower() for key, value in new_column_names.items()}\n",
    "fm_df.rename(columns=new_column_names, inplace=True)"
   ]
  },
  {
   "cell_type": "code",
   "execution_count": 10,
   "id": "779de238-617c-4108-854d-89803647aabe",
   "metadata": {},
   "outputs": [
    {
     "data": {
      "text/plain": [
       "{'UID': 92039023,\n",
       " 'Inf': '',\n",
       " 'Name': 'Joshua Kimmich',\n",
       " 'DoB': '8/2/1995 (27 years old)',\n",
       " 'Nat': 'GER',\n",
       " 'Division': 'Bundesliga',\n",
       " 'Club': 'FC Bayern',\n",
       " 'Based': 'Germany (Bundesliga)',\n",
       " 'Preferred Foot': 'Right',\n",
       " 'Right Foot': 'Very Strong',\n",
       " 'Left Foot': 'Fairly Strong',\n",
       " 'Position': 'D/WB (R), DM, M (C)',\n",
       " 'Height': '177 cm',\n",
       " 'Weight': '75 kg',\n",
       " 'Age': 27,\n",
       " 'Transfer Value': '€96M - €119M',\n",
       " 'Wage': '€1,496,000 p/m',\n",
       " 'AT Apps': '253',\n",
       " 'AT Gls': '23',\n",
       " 'Team': '',\n",
       " 'Caps': 68,\n",
       " 'Yth Apps': '14',\n",
       " 'Style': 'Leader',\n",
       " 'Rc Injury': '-',\n",
       " 'Best Role': 'Deep Lying Playmaker',\n",
       " 'Best Duty': 'Defend',\n",
       " 'Best Pos': 'DM',\n",
       " 'Acceleration': 13,\n",
       " 'Aerial Reach': 1,\n",
       " 'Aggression': 15,\n",
       " 'Agility': 12,\n",
       " 'Anticipation': 15,\n",
       " 'Balance': 13,\n",
       " 'Bravery': 15,\n",
       " 'Command of Area': 2,\n",
       " 'Communication': 2,\n",
       " 'Composure': 17,\n",
       " 'Concentration': 14,\n",
       " 'Corners': 15,\n",
       " 'Crossing': 17,\n",
       " 'Decisions': 16,\n",
       " 'Determination': 20,\n",
       " 'Dribbling': 12,\n",
       " 'Eccentricity': 3,\n",
       " 'Finishing': 11,\n",
       " 'First Touch': 15,\n",
       " 'Flair': 13,\n",
       " 'Free Kick Taking': 13,\n",
       " 'Handling': 3,\n",
       " 'Heading': 11,\n",
       " 'Jumping Reach': 10,\n",
       " 'Kicking': 1,\n",
       " 'Leadership': 16,\n",
       " 'Long Shots': 14,\n",
       " 'Long Throws': 6,\n",
       " 'Marking': 13,\n",
       " 'Fitness': 20,\n",
       " 'Off the Ball': 12,\n",
       " 'One vs One': 1,\n",
       " 'Pace': 12,\n",
       " 'Passing': 18,\n",
       " 'Penalty Taking': 10,\n",
       " 'Positioning': 13,\n",
       " 'Punching': 3,\n",
       " 'Reflexes': 2,\n",
       " 'Rushing Out': 3,\n",
       " 'Stamina': 20,\n",
       " 'Strength': 11,\n",
       " 'Tackling': 12,\n",
       " 'Teamwork': 17,\n",
       " 'Technique': 16,\n",
       " 'Throwing': 1,\n",
       " 'Vision': 18,\n",
       " 'Work Rate': 19}"
      ]
     },
     "execution_count": 10,
     "metadata": {},
     "output_type": "execute_result"
    }
   ],
   "source": [
    "fm_df.query(\"Name == 'Joshua Kimmich'\").iloc[0].to_dict()"
   ]
  },
  {
   "cell_type": "code",
   "execution_count": 236,
   "id": "1098f0d1-a4b5-459d-bfed-8ff0f0e7e1ba",
   "metadata": {},
   "outputs": [],
   "source": [
    "fm_attributes = list(new_column_names.values())\n",
    "gk_attributes = [ \"Command of Area\", \"Communication\", \"First Touch\", \"Handling\", \"Kicking\", \"One vs One\", \"Punching\", \"Reflexes\", \"Rushing Out\", \"Throwing\" ]\n",
    "gk_technical_attributes = [ \"Technique\" ] # \"Free Kick Taking\", \"Penalty Taking\", \n",
    "mental_attributes = [ \"Aggression\", \"Anticipation\", \"Bravery\", \"Composure\", \"Concentration\", \"Decisions\", \"Determination\", \"Flair\", \"Leadership\", \"Off the Ball\", \"Positioning\", \"Teamwork\", \"Vision\", \"Work Rate\" ]\n",
    "physical_attributes = [ \"Acceleration\", \"Agility\", \"Balance\", \"Jumping Reach\", \"Fitness\", \"Pace\", \"Stamina\", \"Strength\" ]\n",
    "technical_attributes = [ \"Corners\", \"Crossing\", \"Dribbling\", \"Finishing\", \"First Touch\", \"Free Kick Taking\", \"Heading\", \"Long Shots\", \"Long Throws\", \"Marking\", \"Passing\", \"Penalty Taking\", \"Tackling\", \"Technique\" ]\n",
    "\n",
    "fm_df[fm_attributes] = fm_df[fm_attributes] * 4.95"
   ]
  },
  {
   "cell_type": "code",
   "execution_count": 237,
   "id": "96d12081-37d1-4b81-a04d-09fbf2eceebf",
   "metadata": {},
   "outputs": [
    {
     "data": {
      "text/html": [
       "<div>\n",
       "<style scoped>\n",
       "    .dataframe tbody tr th:only-of-type {\n",
       "        vertical-align: middle;\n",
       "    }\n",
       "\n",
       "    .dataframe tbody tr th {\n",
       "        vertical-align: top;\n",
       "    }\n",
       "\n",
       "    .dataframe thead th {\n",
       "        text-align: right;\n",
       "    }\n",
       "</style>\n",
       "<table border=\"1\" class=\"dataframe\">\n",
       "  <thead>\n",
       "    <tr style=\"text-align: right;\">\n",
       "      <th></th>\n",
       "      <th>UID</th>\n",
       "      <th>Inf</th>\n",
       "      <th>Name</th>\n",
       "      <th>DoB</th>\n",
       "      <th>Nat</th>\n",
       "      <th>Division</th>\n",
       "      <th>Club</th>\n",
       "      <th>Based</th>\n",
       "      <th>Preferred Foot</th>\n",
       "      <th>Right Foot</th>\n",
       "      <th>...</th>\n",
       "      <th>Reflexes</th>\n",
       "      <th>Rushing Out</th>\n",
       "      <th>Stamina</th>\n",
       "      <th>Strength</th>\n",
       "      <th>Tackling</th>\n",
       "      <th>Teamwork</th>\n",
       "      <th>Technique</th>\n",
       "      <th>Throwing</th>\n",
       "      <th>Vision</th>\n",
       "      <th>Work Rate</th>\n",
       "    </tr>\n",
       "  </thead>\n",
       "  <tbody>\n",
       "    <tr>\n",
       "      <th>0</th>\n",
       "      <td>831079</td>\n",
       "      <td></td>\n",
       "      <td>Giorgio Chiellini</td>\n",
       "      <td>14/8/1984 (37 years old)</td>\n",
       "      <td>ITA</td>\n",
       "      <td>Major League Soccer</td>\n",
       "      <td>LAFC</td>\n",
       "      <td>U.S.A. (MLS)</td>\n",
       "      <td>Left Only</td>\n",
       "      <td>Weak</td>\n",
       "      <td>...</td>\n",
       "      <td>4.95</td>\n",
       "      <td>9.90</td>\n",
       "      <td>49.50</td>\n",
       "      <td>69.30</td>\n",
       "      <td>89.10</td>\n",
       "      <td>84.15</td>\n",
       "      <td>39.60</td>\n",
       "      <td>19.80</td>\n",
       "      <td>34.65</td>\n",
       "      <td>74.25</td>\n",
       "    </tr>\n",
       "    <tr>\n",
       "      <th>1</th>\n",
       "      <td>2105510</td>\n",
       "      <td></td>\n",
       "      <td>Hulk</td>\n",
       "      <td>25/7/1986 (35 years old)</td>\n",
       "      <td>BRA</td>\n",
       "      <td>Brazilian National First Division</td>\n",
       "      <td>ATM</td>\n",
       "      <td>Brazil (First Division)</td>\n",
       "      <td>Left</td>\n",
       "      <td>Reasonable</td>\n",
       "      <td>...</td>\n",
       "      <td>9.90</td>\n",
       "      <td>4.95</td>\n",
       "      <td>74.25</td>\n",
       "      <td>89.10</td>\n",
       "      <td>39.60</td>\n",
       "      <td>39.60</td>\n",
       "      <td>74.25</td>\n",
       "      <td>14.85</td>\n",
       "      <td>69.30</td>\n",
       "      <td>54.45</td>\n",
       "    </tr>\n",
       "    <tr>\n",
       "      <th>2</th>\n",
       "      <td>78000335</td>\n",
       "      <td></td>\n",
       "      <td>Luis Suárez</td>\n",
       "      <td>24/1/1987 (35 years old)</td>\n",
       "      <td>URU</td>\n",
       "      <td>Uruguayan First Division</td>\n",
       "      <td>Nacional</td>\n",
       "      <td>Uruguay (First Division)</td>\n",
       "      <td>Right</td>\n",
       "      <td>Very Strong</td>\n",
       "      <td>...</td>\n",
       "      <td>4.95</td>\n",
       "      <td>14.85</td>\n",
       "      <td>49.50</td>\n",
       "      <td>69.30</td>\n",
       "      <td>44.55</td>\n",
       "      <td>64.35</td>\n",
       "      <td>74.25</td>\n",
       "      <td>14.85</td>\n",
       "      <td>74.25</td>\n",
       "      <td>44.55</td>\n",
       "    </tr>\n",
       "    <tr>\n",
       "      <th>3</th>\n",
       "      <td>962988</td>\n",
       "      <td>Ret</td>\n",
       "      <td>Gonzalo Higuaín</td>\n",
       "      <td>10/12/1987 (34 years old)</td>\n",
       "      <td>ARG</td>\n",
       "      <td>Major League Soccer</td>\n",
       "      <td>Inter Miami</td>\n",
       "      <td>U.S.A. (MLS)</td>\n",
       "      <td>Right</td>\n",
       "      <td>Very Strong</td>\n",
       "      <td>...</td>\n",
       "      <td>4.95</td>\n",
       "      <td>14.85</td>\n",
       "      <td>49.50</td>\n",
       "      <td>79.20</td>\n",
       "      <td>39.60</td>\n",
       "      <td>49.50</td>\n",
       "      <td>79.20</td>\n",
       "      <td>4.95</td>\n",
       "      <td>69.30</td>\n",
       "      <td>49.50</td>\n",
       "    </tr>\n",
       "    <tr>\n",
       "      <th>4</th>\n",
       "      <td>19007730</td>\n",
       "      <td></td>\n",
       "      <td>Alex Teixeira</td>\n",
       "      <td>6/1/1990 (32 years old)</td>\n",
       "      <td>BRA</td>\n",
       "      <td>Brazilian National Second Division</td>\n",
       "      <td>VDG</td>\n",
       "      <td>Brazil (Second Division)</td>\n",
       "      <td>Right</td>\n",
       "      <td>Very Strong</td>\n",
       "      <td>...</td>\n",
       "      <td>4.95</td>\n",
       "      <td>14.85</td>\n",
       "      <td>54.45</td>\n",
       "      <td>34.65</td>\n",
       "      <td>24.75</td>\n",
       "      <td>49.50</td>\n",
       "      <td>79.20</td>\n",
       "      <td>9.90</td>\n",
       "      <td>54.45</td>\n",
       "      <td>49.50</td>\n",
       "    </tr>\n",
       "  </tbody>\n",
       "</table>\n",
       "<p>5 rows × 74 columns</p>\n",
       "</div>"
      ],
      "text/plain": [
       "        UID  Inf               Name                        DoB  Nat  \\\n",
       "0    831079       Giorgio Chiellini   14/8/1984 (37 years old)  ITA   \n",
       "1   2105510                    Hulk   25/7/1986 (35 years old)  BRA   \n",
       "2  78000335             Luis Suárez   24/1/1987 (35 years old)  URU   \n",
       "3    962988  Ret    Gonzalo Higuaín  10/12/1987 (34 years old)  ARG   \n",
       "4  19007730           Alex Teixeira    6/1/1990 (32 years old)  BRA   \n",
       "\n",
       "                             Division         Club                     Based  \\\n",
       "0                 Major League Soccer         LAFC              U.S.A. (MLS)   \n",
       "1   Brazilian National First Division          ATM   Brazil (First Division)   \n",
       "2            Uruguayan First Division     Nacional  Uruguay (First Division)   \n",
       "3                 Major League Soccer  Inter Miami              U.S.A. (MLS)   \n",
       "4  Brazilian National Second Division          VDG  Brazil (Second Division)   \n",
       "\n",
       "  Preferred Foot   Right Foot  ... Reflexes Rushing Out Stamina Strength  \\\n",
       "0      Left Only         Weak  ...     4.95        9.90   49.50    69.30   \n",
       "1           Left   Reasonable  ...     9.90        4.95   74.25    89.10   \n",
       "2          Right  Very Strong  ...     4.95       14.85   49.50    69.30   \n",
       "3          Right  Very Strong  ...     4.95       14.85   49.50    79.20   \n",
       "4          Right  Very Strong  ...     4.95       14.85   54.45    34.65   \n",
       "\n",
       "   Tackling Teamwork Technique Throwing Vision Work Rate  \n",
       "0     89.10    84.15     39.60    19.80  34.65     74.25  \n",
       "1     39.60    39.60     74.25    14.85  69.30     54.45  \n",
       "2     44.55    64.35     74.25    14.85  74.25     44.55  \n",
       "3     39.60    49.50     79.20     4.95  69.30     49.50  \n",
       "4     24.75    49.50     79.20     9.90  54.45     49.50  \n",
       "\n",
       "[5 rows x 74 columns]"
      ]
     },
     "execution_count": 237,
     "metadata": {},
     "output_type": "execute_result"
    }
   ],
   "source": [
    "fm_df.head(n=5)"
   ]
  },
  {
   "cell_type": "code",
   "execution_count": 238,
   "id": "d8b77fee-c210-4e5a-89c1-923f20ad003b",
   "metadata": {},
   "outputs": [
    {
     "data": {
      "text/plain": [
       "'14/8/1984 (37 years old)'"
      ]
     },
     "execution_count": 238,
     "metadata": {},
     "output_type": "execute_result"
    }
   ],
   "source": [
    "fm_df['DoB'][0]"
   ]
  },
  {
   "cell_type": "code",
   "execution_count": 239,
   "id": "17509ffb-c8e9-43c7-8f23-61339b783dd3",
   "metadata": {},
   "outputs": [],
   "source": [
    "convert_date_format = lambda x: pd.to_datetime(x, format='%d/%m/%Y').strftime('%Y-%m-%d')\n",
    "fm_df['DoB'] = fm_df['DoB'].apply(lambda x: x.split(\" \")[0])\n",
    "fm_df['DoB'] = fm_df['DoB'].apply(convert_date_format)"
   ]
  },
  {
   "cell_type": "code",
   "execution_count": 240,
   "id": "6bc7b14f-9e61-48d1-89f1-8ff4ce444edc",
   "metadata": {},
   "outputs": [
    {
     "data": {
      "text/plain": [
       "'1984-08-14'"
      ]
     },
     "execution_count": 240,
     "metadata": {},
     "output_type": "execute_result"
    }
   ],
   "source": [
    "fm_df['DoB'][0]"
   ]
  },
  {
   "cell_type": "code",
   "execution_count": 241,
   "id": "9c9e2683-1297-43ee-8e6f-711af55a32d5",
   "metadata": {},
   "outputs": [],
   "source": [
    "fm_df['Height'] = fm_df['Height'].apply(lambda x: x.split(\" \")[0])"
   ]
  },
  {
   "cell_type": "code",
   "execution_count": 242,
   "id": "7fffd576-cd53-4057-879c-81581a61893c",
   "metadata": {},
   "outputs": [
    {
     "data": {
      "text/plain": [
       "Index(['UID', 'Inf', 'Name', 'DoB', 'Nat', 'Division', 'Club', 'Based',\n",
       "       'Preferred Foot', 'Right Foot', 'Left Foot', 'Position', 'Height',\n",
       "       'Weight', 'Age', 'Transfer Value', 'Wage', 'AT Apps', 'AT Gls', 'Team',\n",
       "       'Caps', 'Yth Apps', 'Style', 'Rc Injury', 'Best Role', 'Best Duty',\n",
       "       'Best Pos', 'Acceleration', 'Aerial Reach', 'Aggression', 'Agility',\n",
       "       'Anticipation', 'Balance', 'Bravery', 'Command of Area',\n",
       "       'Communication', 'Composure', 'Concentration', 'Corners', 'Crossing',\n",
       "       'Decisions', 'Determination', 'Dribbling', 'Eccentricity', 'Finishing',\n",
       "       'First Touch', 'Flair', 'Free Kick Taking', 'Handling', 'Heading',\n",
       "       'Jumping Reach', 'Kicking', 'Leadership', 'Long Shots', 'Long Throws',\n",
       "       'Marking', 'Fitness', 'Off the Ball', 'One vs One', 'Pace', 'Passing',\n",
       "       'Penalty Taking', 'Positioning', 'Punching', 'Reflexes', 'Rushing Out',\n",
       "       'Stamina', 'Strength', 'Tackling', 'Teamwork', 'Technique', 'Throwing',\n",
       "       'Vision', 'Work Rate'],\n",
       "      dtype='object')"
      ]
     },
     "execution_count": 242,
     "metadata": {},
     "output_type": "execute_result"
    }
   ],
   "source": [
    "fm_df.columns"
   ]
  },
  {
   "cell_type": "code",
   "execution_count": 243,
   "id": "5180869a-dc3c-4d0c-b398-b50387bccbf2",
   "metadata": {},
   "outputs": [],
   "source": [
    "fm_df['Club_id'] = pd.Categorical(fm_df['Club']).codes\n",
    "fm_df['League_id'] = pd.Categorical(fm_df['Division']).codes"
   ]
  },
  {
   "cell_type": "code",
   "execution_count": 244,
   "id": "793142b7-8639-4bd8-890d-7ba2de204c77",
   "metadata": {},
   "outputs": [],
   "source": [
    "fm_df = fm_df[fm_df['Inf'] != 'Yth']"
   ]
  },
  {
   "cell_type": "code",
   "execution_count": 245,
   "id": "716a63c7-25b5-4d24-9031-562ebe055274",
   "metadata": {},
   "outputs": [],
   "source": [
    "fm_df = fm_df.rename(columns={\"Best Pos\": \"Best_Pos\"})"
   ]
  },
  {
   "cell_type": "markdown",
   "id": "90558b33-670a-4533-ae16-b333e2de0803",
   "metadata": {},
   "source": [
    "<br><br><br><br>\n",
    "# Merged_DF"
   ]
  },
  {
   "cell_type": "code",
   "execution_count": 246,
   "id": "147c272d-50a6-4336-b34a-038d3231736b",
   "metadata": {},
   "outputs": [],
   "source": [
    "selected_leagues = ['English Premier Division',\n",
    " 'Ligue 1 Uber Eats',\n",
    " 'Spanish First Division',\n",
    " 'Bundesliga',\n",
    " 'Italian Serie A',\n",
    " 'Eredivisie',\n",
    " 'Portuguese Premier League',\n",
    " 'Turkish Super League']"
   ]
  },
  {
   "cell_type": "code",
   "execution_count": 247,
   "id": "c30c88f8-7cc0-4985-be9f-82332d0148c4",
   "metadata": {
    "scrolled": true
   },
   "outputs": [],
   "source": [
    "fm_df = fm_df[fm_df.Division.isin(selected_leagues)]"
   ]
  },
  {
   "cell_type": "code",
   "execution_count": 248,
   "id": "e3936759-6c1c-473e-9562-18413ad145bc",
   "metadata": {},
   "outputs": [
    {
     "data": {
      "text/plain": [
       "Index(['UID', 'Inf', 'Name', 'DoB', 'Nat', 'Division', 'Club', 'Based',\n",
       "       'Preferred Foot', 'Right Foot', 'Left Foot', 'Position', 'Height',\n",
       "       'Weight', 'Age', 'Transfer Value', 'Wage', 'AT Apps', 'AT Gls', 'Team',\n",
       "       'Caps', 'Yth Apps', 'Style', 'Rc Injury', 'Best Role', 'Best Duty',\n",
       "       'Best_Pos', 'Acceleration', 'Aerial Reach', 'Aggression', 'Agility',\n",
       "       'Anticipation', 'Balance', 'Bravery', 'Command of Area',\n",
       "       'Communication', 'Composure', 'Concentration', 'Corners', 'Crossing',\n",
       "       'Decisions', 'Determination', 'Dribbling', 'Eccentricity', 'Finishing',\n",
       "       'First Touch', 'Flair', 'Free Kick Taking', 'Handling', 'Heading',\n",
       "       'Jumping Reach', 'Kicking', 'Leadership', 'Long Shots', 'Long Throws',\n",
       "       'Marking', 'Fitness', 'Off the Ball', 'One vs One', 'Pace', 'Passing',\n",
       "       'Penalty Taking', 'Positioning', 'Punching', 'Reflexes', 'Rushing Out',\n",
       "       'Stamina', 'Strength', 'Tackling', 'Teamwork', 'Technique', 'Throwing',\n",
       "       'Vision', 'Work Rate', 'Club_id', 'League_id'],\n",
       "      dtype='object')"
      ]
     },
     "execution_count": 248,
     "metadata": {},
     "output_type": "execute_result"
    }
   ],
   "source": [
    "fm_df.columns"
   ]
  },
  {
   "cell_type": "code",
   "execution_count": 249,
   "id": "89566db5-d2b9-47fc-a223-51b64194a834",
   "metadata": {},
   "outputs": [
    {
     "name": "stdout",
     "output_type": "stream",
     "text": [
      "English Premier Division ------ 20\n",
      "Ligue 1 Uber Eats ------ 20\n",
      "Spanish First Division ------ 20\n",
      "Bundesliga ------ 18\n",
      "Italian Serie A ------ 20\n",
      "Eredivisie ------ 18\n",
      "Portuguese Premier League ------ 18\n",
      "Turkish Super League ------ 19\n"
     ]
    }
   ],
   "source": [
    "for leg in selected_leagues:\n",
    "    q = fm_df.query(f\"Division == '{leg}'\")[\"Club\"].value_counts()\n",
    "    print(leg , \"------\", len(q.to_list()))"
   ]
  },
  {
   "cell_type": "code",
   "execution_count": 250,
   "id": "5a9f6d02-0fed-4066-b4e3-7416d6a16784",
   "metadata": {},
   "outputs": [
    {
     "data": {
      "text/plain": [
       "Club\n",
       "Kayserispor         41\n",
       "Beşiktaş            41\n",
       "Trabzonspor         40\n",
       "Adana D.S.          39\n",
       "Fenerbahçe          37\n",
       "Ankaragücü          37\n",
       "İstanbulspor        36\n",
       "Galatasaray         35\n",
       "Hatayspor           35\n",
       "Kasımpaşa           35\n",
       "Antalyaspor         34\n",
       "Alanyaspor          34\n",
       "Başakşehir FK       34\n",
       "Sivasspor           33\n",
       "Giresunspor         33\n",
       "Gaziantep FK        32\n",
       "Fatih Karagümrük    32\n",
       "Ümraniyespor        32\n",
       "Konyaspor           31\n",
       "Name: count, dtype: int64"
      ]
     },
     "execution_count": 250,
     "metadata": {},
     "output_type": "execute_result"
    }
   ],
   "source": [
    "fm_df.query(f\"Division == 'Turkish Super League'\")[\"Club\"].value_counts()"
   ]
  },
  {
   "cell_type": "code",
   "execution_count": 251,
   "id": "573fb841-51e8-410c-aecb-6468ee533441",
   "metadata": {},
   "outputs": [],
   "source": [
    "# fm_df.query(f\"Club == 'Adana D.S.'\").head()"
   ]
  },
  {
   "cell_type": "markdown",
   "id": "10227078-13b9-4654-8286-59190778b9c4",
   "metadata": {},
   "source": [
    "<br><br><br><br>\n",
    "# Team Names Converter from fminside.com"
   ]
  },
  {
   "cell_type": "code",
   "execution_count": 252,
   "id": "4868ea6d-3c28-4be0-8b7c-d2b0fc8fc7e1",
   "metadata": {},
   "outputs": [],
   "source": [
    "url_df = fm_df.drop_duplicates(subset=[\"Club\"], keep=\"first\")\n",
    "url_df.loc[:, 'UID'] = url_df['UID'].apply(lambda text: str(text))\n",
    "url_df = url_df[[\"Club\", \"UID\"]]"
   ]
  },
  {
   "cell_type": "code",
   "execution_count": 253,
   "id": "70aa000c-2b3b-4f51-8a55-92031c9f0d46",
   "metadata": {},
   "outputs": [],
   "source": [
    "def Player_to_URL(player_id):\n",
    "    slug = player_id + \"-x-x\"\n",
    "    return f\"https://fminside.net/players/3-fm-23/{slug}\""
   ]
  },
  {
   "cell_type": "code",
   "execution_count": 254,
   "id": "f238ccb6-e02f-4954-8641-612e82532ed4",
   "metadata": {},
   "outputs": [],
   "source": [
    "def Convert_Team_Name_From_URL(player_id, club):\n",
    "    url = Player_to_URL(player_id)\n",
    "    req = requests.get(url)\n",
    "    html = req.content\n",
    "    soup = BeautifulSoup(html, \"lxml\")\n",
    "    club_name_element = soup.find('div', class_='meta').find('ul').find_all('li')[0].text\n",
    "    club_name = club_name_element.strip()\n",
    "    return {\"fm\":club,\"normal\":club_name}"
   ]
  },
  {
   "cell_type": "code",
   "execution_count": 255,
   "id": "7754a241-968a-484d-b516-ab0f05dfe7f7",
   "metadata": {},
   "outputs": [],
   "source": [
    "team_mapping_array = []\n",
    "raw_names = url_df.to_dict()\n",
    "uids = url_df[\"UID\"]\n",
    "clubs = url_df[\"Club\"]\n",
    "clubs_array = clubs.to_list()"
   ]
  },
  {
   "cell_type": "code",
   "execution_count": 256,
   "id": "db05b9c5-e7b1-4da3-ba84-a3b58257a10d",
   "metadata": {
    "scrolled": true
   },
   "outputs": [],
   "source": [
    "# for uid,club in zip(uids,clubs):\n",
    "#     new_entry = Convert_Team_Name_From_URL(uid, club)\n",
    "#     print(new_entry)\n",
    "#     team_mapping_array.append(new_entry)"
   ]
  },
  {
   "cell_type": "code",
   "execution_count": 257,
   "id": "beafa194-d170-487e-b711-f0f059666007",
   "metadata": {},
   "outputs": [
    {
     "data": {
      "text/html": [
       "<div>\n",
       "<style scoped>\n",
       "    .dataframe tbody tr th:only-of-type {\n",
       "        vertical-align: middle;\n",
       "    }\n",
       "\n",
       "    .dataframe tbody tr th {\n",
       "        vertical-align: top;\n",
       "    }\n",
       "\n",
       "    .dataframe thead th {\n",
       "        text-align: right;\n",
       "    }\n",
       "</style>\n",
       "<table border=\"1\" class=\"dataframe\">\n",
       "  <thead>\n",
       "    <tr style=\"text-align: right;\">\n",
       "      <th></th>\n",
       "      <th>UID</th>\n",
       "      <th>Inf</th>\n",
       "      <th>Name</th>\n",
       "      <th>DoB</th>\n",
       "      <th>Nat</th>\n",
       "      <th>Division</th>\n",
       "      <th>Club</th>\n",
       "      <th>Based</th>\n",
       "      <th>Preferred Foot</th>\n",
       "      <th>Right Foot</th>\n",
       "      <th>...</th>\n",
       "      <th>Stamina</th>\n",
       "      <th>Strength</th>\n",
       "      <th>Tackling</th>\n",
       "      <th>Teamwork</th>\n",
       "      <th>Technique</th>\n",
       "      <th>Throwing</th>\n",
       "      <th>Vision</th>\n",
       "      <th>Work Rate</th>\n",
       "      <th>Club_id</th>\n",
       "      <th>League_id</th>\n",
       "    </tr>\n",
       "  </thead>\n",
       "  <tbody>\n",
       "    <tr>\n",
       "      <th>42332</th>\n",
       "      <td>92039023</td>\n",
       "      <td></td>\n",
       "      <td>Joshua Kimmich</td>\n",
       "      <td>1995-02-08</td>\n",
       "      <td>GER</td>\n",
       "      <td>Bundesliga</td>\n",
       "      <td>FC Bayern</td>\n",
       "      <td>Germany (Bundesliga)</td>\n",
       "      <td>Right</td>\n",
       "      <td>Very Strong</td>\n",
       "      <td>...</td>\n",
       "      <td>99.0</td>\n",
       "      <td>54.45</td>\n",
       "      <td>59.4</td>\n",
       "      <td>84.15</td>\n",
       "      <td>79.2</td>\n",
       "      <td>4.95</td>\n",
       "      <td>89.1</td>\n",
       "      <td>94.05</td>\n",
       "      <td>3704</td>\n",
       "      <td>185</td>\n",
       "    </tr>\n",
       "  </tbody>\n",
       "</table>\n",
       "<p>1 rows × 76 columns</p>\n",
       "</div>"
      ],
      "text/plain": [
       "            UID Inf            Name         DoB  Nat    Division       Club  \\\n",
       "42332  92039023      Joshua Kimmich  1995-02-08  GER  Bundesliga  FC Bayern   \n",
       "\n",
       "                      Based Preferred Foot   Right Foot  ... Stamina Strength  \\\n",
       "42332  Germany (Bundesliga)          Right  Very Strong  ...    99.0    54.45   \n",
       "\n",
       "      Tackling Teamwork  Technique Throwing Vision Work Rate Club_id League_id  \n",
       "42332     59.4    84.15       79.2     4.95   89.1     94.05    3704       185  \n",
       "\n",
       "[1 rows x 76 columns]"
      ]
     },
     "execution_count": 257,
     "metadata": {},
     "output_type": "execute_result"
    }
   ],
   "source": [
    "fm_df.query(\"Name == 'Joshua Kimmich'\")"
   ]
  },
  {
   "cell_type": "code",
   "execution_count": 258,
   "id": "aba18a00-4882-4ee8-b852-51e0b6462ac9",
   "metadata": {},
   "outputs": [],
   "source": [
    "fminside_normal_names = pd.read_csv(\"players_db/fm23/fminside_team_names.csv\")\n",
    "# merged_df = pd.merge(fm_df, fminside_normal_names, how='inner', left_on='Club', right_on='fm')\n",
    "# merged_df['Club'] = merged_df['normal'].where(merged_df['Club'] == merged_df['fm'], merged_df['Club'])\n",
    "# # merged_df.drop(['fm', 'normal'], axis=1, inplace=True)\n",
    "# merged_df = merged_df[merged_df.fm.isin(clubs_array)]"
   ]
  },
  {
   "cell_type": "code",
   "execution_count": 259,
   "id": "423c89ae-f166-4e36-8d28-33fbaa822bdf",
   "metadata": {},
   "outputs": [],
   "source": [
    "fminside_club_names = []\n",
    "for index, row in fminside_normal_names.iterrows():\n",
    "  x_fm = row[\"fm\"]\n",
    "  x_normal = row[\"normal\"]\n",
    "  club_dict = {\"fm\": x_fm, \"normal\": x_normal}\n",
    "  fminside_club_names.append(club_dict)"
   ]
  },
  {
   "cell_type": "code",
   "execution_count": 260,
   "id": "b3a523eb-f714-44df-b36d-f8db752508f0",
   "metadata": {},
   "outputs": [],
   "source": [
    "def Rename_Club(club_name):\n",
    "    matched_club = \"\"\n",
    "    for f in fminside_club_names:\n",
    "        if f[\"fm\"] == club_name:\n",
    "            return f[\"normal\"]"
   ]
  },
  {
   "cell_type": "code",
   "execution_count": 261,
   "id": "a50180cd-0010-4039-98bc-d60a433e4efb",
   "metadata": {},
   "outputs": [],
   "source": [
    "fm_df['Club'] = fm_df[\"Club\"].apply(lambda x: Rename_Club(x))"
   ]
  },
  {
   "cell_type": "code",
   "execution_count": 262,
   "id": "2388d1ab-806e-4e95-9335-61f1ee069e31",
   "metadata": {},
   "outputs": [
    {
     "data": {
      "text/html": [
       "<div>\n",
       "<style scoped>\n",
       "    .dataframe tbody tr th:only-of-type {\n",
       "        vertical-align: middle;\n",
       "    }\n",
       "\n",
       "    .dataframe tbody tr th {\n",
       "        vertical-align: top;\n",
       "    }\n",
       "\n",
       "    .dataframe thead th {\n",
       "        text-align: right;\n",
       "    }\n",
       "</style>\n",
       "<table border=\"1\" class=\"dataframe\">\n",
       "  <thead>\n",
       "    <tr style=\"text-align: right;\">\n",
       "      <th></th>\n",
       "      <th>UID</th>\n",
       "      <th>Inf</th>\n",
       "      <th>Name</th>\n",
       "      <th>DoB</th>\n",
       "      <th>Nat</th>\n",
       "      <th>Division</th>\n",
       "      <th>Club</th>\n",
       "      <th>Based</th>\n",
       "      <th>Preferred Foot</th>\n",
       "      <th>Right Foot</th>\n",
       "      <th>...</th>\n",
       "      <th>Stamina</th>\n",
       "      <th>Strength</th>\n",
       "      <th>Tackling</th>\n",
       "      <th>Teamwork</th>\n",
       "      <th>Technique</th>\n",
       "      <th>Throwing</th>\n",
       "      <th>Vision</th>\n",
       "      <th>Work Rate</th>\n",
       "      <th>Club_id</th>\n",
       "      <th>League_id</th>\n",
       "    </tr>\n",
       "  </thead>\n",
       "  <tbody>\n",
       "    <tr>\n",
       "      <th>42332</th>\n",
       "      <td>92039023</td>\n",
       "      <td></td>\n",
       "      <td>Joshua Kimmich</td>\n",
       "      <td>1995-02-08</td>\n",
       "      <td>GER</td>\n",
       "      <td>Bundesliga</td>\n",
       "      <td>FC Bayern</td>\n",
       "      <td>Germany (Bundesliga)</td>\n",
       "      <td>Right</td>\n",
       "      <td>Very Strong</td>\n",
       "      <td>...</td>\n",
       "      <td>99.0</td>\n",
       "      <td>54.45</td>\n",
       "      <td>59.4</td>\n",
       "      <td>84.15</td>\n",
       "      <td>79.2</td>\n",
       "      <td>4.95</td>\n",
       "      <td>89.1</td>\n",
       "      <td>94.05</td>\n",
       "      <td>3704</td>\n",
       "      <td>185</td>\n",
       "    </tr>\n",
       "  </tbody>\n",
       "</table>\n",
       "<p>1 rows × 76 columns</p>\n",
       "</div>"
      ],
      "text/plain": [
       "            UID Inf            Name         DoB  Nat    Division       Club  \\\n",
       "42332  92039023      Joshua Kimmich  1995-02-08  GER  Bundesliga  FC Bayern   \n",
       "\n",
       "                      Based Preferred Foot   Right Foot  ... Stamina Strength  \\\n",
       "42332  Germany (Bundesliga)          Right  Very Strong  ...    99.0    54.45   \n",
       "\n",
       "      Tackling Teamwork  Technique Throwing Vision Work Rate Club_id League_id  \n",
       "42332     59.4    84.15       79.2     4.95   89.1     94.05    3704       185  \n",
       "\n",
       "[1 rows x 76 columns]"
      ]
     },
     "execution_count": 262,
     "metadata": {},
     "output_type": "execute_result"
    }
   ],
   "source": [
    "fm_df.query(\"Name == 'Joshua Kimmich'\")"
   ]
  },
  {
   "cell_type": "markdown",
   "id": "040246f4-f50f-4a63-a364-85bb3b514bb1",
   "metadata": {},
   "source": [
    "<br><br><br><br>\n",
    "# Position Styling"
   ]
  },
  {
   "cell_type": "code",
   "execution_count": 263,
   "id": "ca2e89e8-20e2-4f4e-a4eb-b78b203a16fa",
   "metadata": {},
   "outputs": [],
   "source": [
    "position_mapping = {\n",
    "    'M (C)': 'MC',\n",
    "    'D (C)': 'DC',\n",
    "    'GK': 'GK',\n",
    "    'ST (C)': 'ST',\n",
    "    'AM (L)': 'AML',\n",
    "    'AM (R)': 'AMR',\n",
    "    'D (R)': 'DR',\n",
    "    'D (L)': 'DL',\n",
    "    'DM': 'DM',\n",
    "    'AM (C)': 'AMC',\n",
    "    'M (L)': 'ML',\n",
    "    'M (R)': 'MR',\n",
    "    'WB (L)': 'WBL',\n",
    "    'WB (R)': 'WBR'\n",
    "}"
   ]
  },
  {
   "cell_type": "code",
   "execution_count": 264,
   "id": "3fc5f547-604a-4b71-8993-e9083cb677b6",
   "metadata": {},
   "outputs": [],
   "source": [
    "def remove_parentheses(text):\n",
    "    return text.replace(\"(\", \"\").replace(\")\", \"\")"
   ]
  },
  {
   "cell_type": "code",
   "execution_count": 265,
   "id": "96f4ddaa-08c8-4aba-8c09-5be5b2245690",
   "metadata": {},
   "outputs": [],
   "source": [
    "def pos_map(position):\n",
    "    return position_mapping[position]"
   ]
  },
  {
   "cell_type": "code",
   "execution_count": 266,
   "id": "a41e240c-49c9-427f-b7f5-73b4ada10fb2",
   "metadata": {},
   "outputs": [
    {
     "data": {
      "text/plain": [
       "Best_Pos\n",
       "M (C)     977\n",
       "D (C)     938\n",
       "AM (L)    738\n",
       "GK        704\n",
       "ST (C)    648\n",
       "AM (R)    555\n",
       "D (R)     521\n",
       "D (L)     475\n",
       "DM        388\n",
       "AM (C)    180\n",
       "M (L)     130\n",
       "M (R)     116\n",
       "WB (R)     29\n",
       "WB (L)     23\n",
       "Name: count, dtype: int64"
      ]
     },
     "execution_count": 266,
     "metadata": {},
     "output_type": "execute_result"
    }
   ],
   "source": [
    "fm_df['Best_Pos'].value_counts()"
   ]
  },
  {
   "cell_type": "code",
   "execution_count": 267,
   "id": "f2334538-ffc9-48bf-95b7-9ae0bea5fcb6",
   "metadata": {},
   "outputs": [
    {
     "data": {
      "text/plain": [
       "Position\n",
       "D (C)                    749\n",
       "GK                       704\n",
       "DM, M (C)                600\n",
       "ST (C)                   519\n",
       "M/AM (C)                 279\n",
       "                        ... \n",
       "D (R), WB/M (RL)           1\n",
       "D (R), WB (RL), M (R)      1\n",
       "D (RLC), WB/M (R)          1\n",
       "WB/M (RL)                  1\n",
       "D/AM (R)                   1\n",
       "Name: count, Length: 224, dtype: int64"
      ]
     },
     "execution_count": 267,
     "metadata": {},
     "output_type": "execute_result"
    }
   ],
   "source": [
    "fm_df['Position'].value_counts()"
   ]
  },
  {
   "cell_type": "code",
   "execution_count": 268,
   "id": "b5f99125-4959-47f9-a7fb-26089419a929",
   "metadata": {},
   "outputs": [],
   "source": [
    "def Multiple_Position_Beautifier(position_value):\n",
    "    x = \"\"\n",
    "    positions = position_value.split(\",\")\n",
    "    for p in positions:\n",
    "        p = p.strip()\n",
    "        if p in position_mapping.keys():\n",
    "            x += f\"{position_mapping[p]},\"\n",
    "        elif \"/\" in p:\n",
    "            slashed = p.split(\" \")\n",
    "            locations = slashed[0].split(\"/\")\n",
    "            sides = list(remove_parentheses(slashed[1]))\n",
    "            for loc in locations:\n",
    "                for side in sides:\n",
    "                    splitted_pos = loc+side\n",
    "                    x += f\"{splitted_pos},\"\n",
    "        else:\n",
    "            slashed = p.split(\" \")\n",
    "            loc = slashed[0]\n",
    "            sides = list(remove_parentheses(slashed[1]))\n",
    "            for side in sides:\n",
    "                splitted_pos = loc+side\n",
    "                x += f\"{splitted_pos},\"\n",
    "    return x[:-1]"
   ]
  },
  {
   "cell_type": "code",
   "execution_count": 269,
   "id": "aca27f45-bbb1-439d-a6d6-3aa4f91c072c",
   "metadata": {},
   "outputs": [],
   "source": [
    "fm_df['Position'] = fm_df['Position'].apply(lambda row: Multiple_Position_Beautifier(row))\n",
    "fm_df['Best_Pos'] = fm_df['Best_Pos'].apply(lambda row: Multiple_Position_Beautifier(row))"
   ]
  },
  {
   "cell_type": "code",
   "execution_count": 270,
   "id": "1a422ea0-6f34-4ad9-a34f-93f73f47bc01",
   "metadata": {},
   "outputs": [],
   "source": [
    "position_order = ['GK', 'WBR', 'DR', 'DC', 'DL', 'WBL', 'DM',  \n",
    "                  'MC', 'MR', 'AMC', 'ML', 'AMR', 'ST', 'AML']\n",
    "def get_position_rank(position):\n",
    "    return position_order.index(position) if position in position_order else len(position_order)\n",
    "fm_df['Pos_Rank'] = fm_df['Best_Pos'].apply(get_position_rank)"
   ]
  },
  {
   "cell_type": "code",
   "execution_count": 271,
   "id": "1c465b7c-8695-4ce6-8d97-295f745bd1f5",
   "metadata": {},
   "outputs": [
    {
     "data": {
      "text/html": [
       "<div>\n",
       "<style scoped>\n",
       "    .dataframe tbody tr th:only-of-type {\n",
       "        vertical-align: middle;\n",
       "    }\n",
       "\n",
       "    .dataframe tbody tr th {\n",
       "        vertical-align: top;\n",
       "    }\n",
       "\n",
       "    .dataframe thead th {\n",
       "        text-align: right;\n",
       "    }\n",
       "</style>\n",
       "<table border=\"1\" class=\"dataframe\">\n",
       "  <thead>\n",
       "    <tr style=\"text-align: right;\">\n",
       "      <th></th>\n",
       "      <th>Best_Pos</th>\n",
       "    </tr>\n",
       "  </thead>\n",
       "  <tbody>\n",
       "    <tr>\n",
       "      <th>168395</th>\n",
       "      <td>DC</td>\n",
       "    </tr>\n",
       "    <tr>\n",
       "      <th>168409</th>\n",
       "      <td>DC</td>\n",
       "    </tr>\n",
       "    <tr>\n",
       "      <th>168573</th>\n",
       "      <td>AML</td>\n",
       "    </tr>\n",
       "    <tr>\n",
       "      <th>168584</th>\n",
       "      <td>ST</td>\n",
       "    </tr>\n",
       "    <tr>\n",
       "      <th>168616</th>\n",
       "      <td>AML</td>\n",
       "    </tr>\n",
       "    <tr>\n",
       "      <th>168825</th>\n",
       "      <td>AML</td>\n",
       "    </tr>\n",
       "    <tr>\n",
       "      <th>169038</th>\n",
       "      <td>AMR</td>\n",
       "    </tr>\n",
       "    <tr>\n",
       "      <th>169074</th>\n",
       "      <td>GK</td>\n",
       "    </tr>\n",
       "    <tr>\n",
       "      <th>169161</th>\n",
       "      <td>MC</td>\n",
       "    </tr>\n",
       "    <tr>\n",
       "      <th>169202</th>\n",
       "      <td>ML</td>\n",
       "    </tr>\n",
       "    <tr>\n",
       "      <th>169207</th>\n",
       "      <td>AMC</td>\n",
       "    </tr>\n",
       "    <tr>\n",
       "      <th>169215</th>\n",
       "      <td>DR</td>\n",
       "    </tr>\n",
       "    <tr>\n",
       "      <th>169352</th>\n",
       "      <td>ST</td>\n",
       "    </tr>\n",
       "    <tr>\n",
       "      <th>169530</th>\n",
       "      <td>AML</td>\n",
       "    </tr>\n",
       "    <tr>\n",
       "      <th>169540</th>\n",
       "      <td>AML</td>\n",
       "    </tr>\n",
       "    <tr>\n",
       "      <th>169732</th>\n",
       "      <td>MC</td>\n",
       "    </tr>\n",
       "    <tr>\n",
       "      <th>169971</th>\n",
       "      <td>DM</td>\n",
       "    </tr>\n",
       "    <tr>\n",
       "      <th>170215</th>\n",
       "      <td>DL</td>\n",
       "    </tr>\n",
       "    <tr>\n",
       "      <th>170250</th>\n",
       "      <td>AMR</td>\n",
       "    </tr>\n",
       "    <tr>\n",
       "      <th>170287</th>\n",
       "      <td>AMR</td>\n",
       "    </tr>\n",
       "    <tr>\n",
       "      <th>170296</th>\n",
       "      <td>WBR</td>\n",
       "    </tr>\n",
       "    <tr>\n",
       "      <th>170327</th>\n",
       "      <td>ST</td>\n",
       "    </tr>\n",
       "    <tr>\n",
       "      <th>171625</th>\n",
       "      <td>MC</td>\n",
       "    </tr>\n",
       "    <tr>\n",
       "      <th>173209</th>\n",
       "      <td>GK</td>\n",
       "    </tr>\n",
       "    <tr>\n",
       "      <th>173950</th>\n",
       "      <td>AMR</td>\n",
       "    </tr>\n",
       "    <tr>\n",
       "      <th>177476</th>\n",
       "      <td>AMR</td>\n",
       "    </tr>\n",
       "    <tr>\n",
       "      <th>178013</th>\n",
       "      <td>DC</td>\n",
       "    </tr>\n",
       "    <tr>\n",
       "      <th>183728</th>\n",
       "      <td>DC</td>\n",
       "    </tr>\n",
       "  </tbody>\n",
       "</table>\n",
       "</div>"
      ],
      "text/plain": [
       "       Best_Pos\n",
       "168395       DC\n",
       "168409       DC\n",
       "168573      AML\n",
       "168584       ST\n",
       "168616      AML\n",
       "168825      AML\n",
       "169038      AMR\n",
       "169074       GK\n",
       "169161       MC\n",
       "169202       ML\n",
       "169207      AMC\n",
       "169215       DR\n",
       "169352       ST\n",
       "169530      AML\n",
       "169540      AML\n",
       "169732       MC\n",
       "169971       DM\n",
       "170215       DL\n",
       "170250      AMR\n",
       "170287      AMR\n",
       "170296      WBR\n",
       "170327       ST\n",
       "171625       MC\n",
       "173209       GK\n",
       "173950      AMR\n",
       "177476      AMR\n",
       "178013       DC\n",
       "183728       DC"
      ]
     },
     "execution_count": 271,
     "metadata": {},
     "output_type": "execute_result"
    }
   ],
   "source": [
    "fm_df.query(\"Club == 'Chaves'\")[[\"Best_Pos\"]]"
   ]
  },
  {
   "cell_type": "code",
   "execution_count": 272,
   "id": "ccba24ff-3403-48a2-acad-58c736b89da9",
   "metadata": {},
   "outputs": [
    {
     "data": {
      "text/plain": [
       "Position\n",
       "DC                  749\n",
       "GK                  704\n",
       "DM,MC               600\n",
       "ST                  519\n",
       "MC,AMC              279\n",
       "                   ... \n",
       "DR,WBR,WBL,MR,ML      1\n",
       "DR,WBR,WBL,MR         1\n",
       "DR,DL,DC,WBR,MR       1\n",
       "WBR,WBL,MR,ML         1\n",
       "DR,AMR                1\n",
       "Name: count, Length: 224, dtype: int64"
      ]
     },
     "execution_count": 272,
     "metadata": {},
     "output_type": "execute_result"
    }
   ],
   "source": [
    "fm_df['Position'].value_counts()"
   ]
  },
  {
   "cell_type": "code",
   "execution_count": 273,
   "id": "9049057c-319b-4e38-aa0c-5175e8f0b3e9",
   "metadata": {},
   "outputs": [
    {
     "data": {
      "text/plain": [
       "Best_Pos\n",
       "MC     977\n",
       "DC     938\n",
       "AML    738\n",
       "GK     704\n",
       "ST     648\n",
       "AMR    555\n",
       "DR     521\n",
       "DL     475\n",
       "DM     388\n",
       "AMC    180\n",
       "ML     130\n",
       "MR     116\n",
       "WBR     29\n",
       "WBL     23\n",
       "Name: count, dtype: int64"
      ]
     },
     "execution_count": 273,
     "metadata": {},
     "output_type": "execute_result"
    }
   ],
   "source": [
    "fm_df['Best_Pos'].value_counts()"
   ]
  },
  {
   "cell_type": "markdown",
   "id": "d131b8b4-48a3-437b-ae14-dfa1b3f3893a",
   "metadata": {},
   "source": [
    "<br><br><br><br>\n",
    "# Players' Overall"
   ]
  },
  {
   "cell_type": "markdown",
   "id": "60dad6ed-b65b-4f4b-97f6-a904d31e143c",
   "metadata": {},
   "source": [
    "- Keeper -> gk\n",
    "- Defending -> def \n",
    "- Passing -> pas\n",
    "- Dribbling -> dri\n",
    "- Finishing -> fin\n",
    "- Stamina -> sta\n",
    "- Strength -> str\n",
    "- Heading -> hed\n",
    "- Mental -> men\n",
    "- Intelligence -> iq"
   ]
  },
  {
   "cell_type": "code",
   "execution_count": 274,
   "id": "2d85f52f-0603-41ed-afc1-9e02cd9db554",
   "metadata": {},
   "outputs": [],
   "source": [
    "rating_attrs = [\"gk\",\"def\",\"pas\",\"dri\",\"fin\",\"sta\",\"str\",\"hed\",\"men\",\"iq\"]"
   ]
  },
  {
   "cell_type": "code",
   "execution_count": 5,
   "id": "efb1a2bb-c641-4470-94c2-eda50f7e002c",
   "metadata": {},
   "outputs": [],
   "source": [
    "mental_attributes = [ \"Aggression\", \"Anticipation\", \"Bravery\", \"Composure\", \"Concentration\", \"Decisions\", \"Determination\", \"Flair\", \"Leadership\", \"Off the Ball\", \"Positioning\", \"Teamwork\", \"Vision\", \"Work Rate\" ]\n",
    "physical_attributes = [ \"Acceleration\", \"Agility\", \"Balance\", \"Jumping Reach\", \"Fitness\", \"Pace\", \"Stamina\", \"Strength\" ]\n",
    "technical_attributes = [ \"Corners\", \"Crossing\", \"Dribbling\", \"Finishing\", \"First Touch\", \"Free Kick Taking\", \"Heading\", \"Long Shots\", \"Long Throws\", \"Marking\", \"Passing\", \"Penalty Taking\", \"Tackling\", \"Technique\" ]"
   ]
  },
  {
   "cell_type": "code",
   "execution_count": 275,
   "id": "833e814b-8559-4485-8b8d-f5d6495c5ea1",
   "metadata": {},
   "outputs": [],
   "source": [
    "def Dict_Generator(attrs):\n",
    "    weights = (len(attrs)*\"0.1,\").split(\",\")[:-1]\n",
    "    return {key: float(weights[i]) for i, key in enumerate(attrs)}"
   ]
  },
  {
   "cell_type": "markdown",
   "id": "deae1ba9-ee19-4b3b-99d9-aacfee6098a7",
   "metadata": {},
   "source": [
    "<h3 style=\"color:orange;\">  Keeper</h3>"
   ]
  },
  {
   "cell_type": "code",
   "execution_count": 276,
   "id": "99457f3f-42f2-4352-8164-ef6b2b26b6f8",
   "metadata": {},
   "outputs": [
    {
     "data": {
      "text/html": [
       "<div>\n",
       "<style scoped>\n",
       "    .dataframe tbody tr th:only-of-type {\n",
       "        vertical-align: middle;\n",
       "    }\n",
       "\n",
       "    .dataframe tbody tr th {\n",
       "        vertical-align: top;\n",
       "    }\n",
       "\n",
       "    .dataframe thead th {\n",
       "        text-align: right;\n",
       "    }\n",
       "</style>\n",
       "<table border=\"1\" class=\"dataframe\">\n",
       "  <thead>\n",
       "    <tr style=\"text-align: right;\">\n",
       "      <th></th>\n",
       "      <th>Name</th>\n",
       "      <th>gk</th>\n",
       "    </tr>\n",
       "  </thead>\n",
       "  <tbody>\n",
       "    <tr>\n",
       "      <th>167966</th>\n",
       "      <td>Marc-André ter Stegen</td>\n",
       "      <td>75</td>\n",
       "    </tr>\n",
       "    <tr>\n",
       "      <th>151647</th>\n",
       "      <td>Alisson</td>\n",
       "      <td>74</td>\n",
       "    </tr>\n",
       "    <tr>\n",
       "      <th>42335</th>\n",
       "      <td>Manuel Neuer</td>\n",
       "      <td>73</td>\n",
       "    </tr>\n",
       "    <tr>\n",
       "      <th>151645</th>\n",
       "      <td>Ederson</td>\n",
       "      <td>73</td>\n",
       "    </tr>\n",
       "    <tr>\n",
       "      <th>167963</th>\n",
       "      <td>Jan Oblak</td>\n",
       "      <td>72</td>\n",
       "    </tr>\n",
       "  </tbody>\n",
       "</table>\n",
       "</div>"
      ],
      "text/plain": [
       "                         Name  gk\n",
       "167966  Marc-André ter Stegen  75\n",
       "151647                Alisson  74\n",
       "42335            Manuel Neuer  73\n",
       "151645                Ederson  73\n",
       "167963              Jan Oblak  72"
      ]
     },
     "execution_count": 276,
     "metadata": {},
     "output_type": "execute_result"
    }
   ],
   "source": [
    "current_ability = \"gk\"\n",
    "fm_df[current_ability] = fm_df[gk_attributes + gk_technical_attributes].mean(axis=1).astype(int)\n",
    "fm_df[[\"Name\", current_ability]].sort_values(current_ability, ascending=False).head()"
   ]
  },
  {
   "cell_type": "markdown",
   "id": "01fcb5ae-0876-411e-812f-902ef25af14f",
   "metadata": {},
   "source": [
    "<h3 style=\"color:orange;\">  Defending</h3>"
   ]
  },
  {
   "cell_type": "code",
   "execution_count": 7,
   "id": "fe8cda42-4f5e-41a4-947d-47febd76ef3c",
   "metadata": {},
   "outputs": [
    {
     "ename": "ValueError",
     "evalue": "Unable to coerce to Series, length must be 13: given 4",
     "output_type": "error",
     "traceback": [
      "\u001b[1;31m---------------------------------------------------------------------------\u001b[0m",
      "\u001b[1;31mValueError\u001b[0m                                Traceback (most recent call last)",
      "\u001b[1;32m~\\AppData\\Local\\Temp\\ipykernel_19384\\2851972492.py\u001b[0m in \u001b[0;36m?\u001b[1;34m()\u001b[0m\n\u001b[0;32m      5\u001b[0m              \u001b[1;34m'Marking'\u001b[0m\u001b[1;33m:\u001b[0m \u001b[1;36m0.30\u001b[0m\u001b[1;33m,\u001b[0m\u001b[1;33m\u001b[0m\u001b[1;33m\u001b[0m\u001b[0m\n\u001b[0;32m      6\u001b[0m              'Tackling': 0.35}.values()\n\u001b[0;32m      7\u001b[0m \u001b[1;33m\u001b[0m\u001b[0m\n\u001b[0;32m      8\u001b[0m \u001b[0mcurrent_ability\u001b[0m \u001b[1;33m=\u001b[0m \u001b[1;34m\"def\"\u001b[0m\u001b[1;33m\u001b[0m\u001b[1;33m\u001b[0m\u001b[0m\n\u001b[1;32m----> 9\u001b[1;33m \u001b[0mfm_df\u001b[0m\u001b[1;33m[\u001b[0m\u001b[0mcurrent_ability\u001b[0m\u001b[1;33m]\u001b[0m \u001b[1;33m=\u001b[0m \u001b[1;33m(\u001b[0m\u001b[0mfm_df\u001b[0m\u001b[1;33m[\u001b[0m\u001b[0mexpert_attributes\u001b[0m\u001b[1;33m]\u001b[0m \u001b[1;33m*\u001b[0m \u001b[0mweights\u001b[0m\u001b[1;33m)\u001b[0m\u001b[1;33m.\u001b[0m\u001b[0msum\u001b[0m\u001b[1;33m(\u001b[0m\u001b[0maxis\u001b[0m\u001b[1;33m=\u001b[0m\u001b[1;36m1\u001b[0m\u001b[1;33m)\u001b[0m\u001b[1;33m.\u001b[0m\u001b[0mastype\u001b[0m\u001b[1;33m(\u001b[0m\u001b[0mint\u001b[0m\u001b[1;33m)\u001b[0m\u001b[1;33m\u001b[0m\u001b[1;33m\u001b[0m\u001b[0m\n\u001b[0m\u001b[0;32m     10\u001b[0m \u001b[0mfm_df\u001b[0m\u001b[1;33m[\u001b[0m\u001b[1;33m[\u001b[0m\u001b[1;34m\"Name\"\u001b[0m\u001b[1;33m,\u001b[0m \u001b[0mcurrent_ability\u001b[0m\u001b[1;33m]\u001b[0m\u001b[1;33m]\u001b[0m\u001b[1;33m.\u001b[0m\u001b[0msort_values\u001b[0m\u001b[1;33m(\u001b[0m\u001b[0mcurrent_ability\u001b[0m\u001b[1;33m,\u001b[0m \u001b[0mascending\u001b[0m\u001b[1;33m=\u001b[0m\u001b[1;32mFalse\u001b[0m\u001b[1;33m)\u001b[0m\u001b[1;33m.\u001b[0m\u001b[0mhead\u001b[0m\u001b[1;33m(\u001b[0m\u001b[1;33m)\u001b[0m\u001b[1;33m\u001b[0m\u001b[1;33m\u001b[0m\u001b[0m\n",
      "\u001b[1;32m~\\anaconda3\\Lib\\site-packages\\pandas\\core\\ops\\common.py\u001b[0m in \u001b[0;36m?\u001b[1;34m(self, other)\u001b[0m\n\u001b[0;32m     72\u001b[0m                     \u001b[1;32mreturn\u001b[0m \u001b[0mNotImplemented\u001b[0m\u001b[1;33m\u001b[0m\u001b[1;33m\u001b[0m\u001b[0m\n\u001b[0;32m     73\u001b[0m \u001b[1;33m\u001b[0m\u001b[0m\n\u001b[0;32m     74\u001b[0m         \u001b[0mother\u001b[0m \u001b[1;33m=\u001b[0m \u001b[0mitem_from_zerodim\u001b[0m\u001b[1;33m(\u001b[0m\u001b[0mother\u001b[0m\u001b[1;33m)\u001b[0m\u001b[1;33m\u001b[0m\u001b[1;33m\u001b[0m\u001b[0m\n\u001b[0;32m     75\u001b[0m \u001b[1;33m\u001b[0m\u001b[0m\n\u001b[1;32m---> 76\u001b[1;33m         \u001b[1;32mreturn\u001b[0m \u001b[0mmethod\u001b[0m\u001b[1;33m(\u001b[0m\u001b[0mself\u001b[0m\u001b[1;33m,\u001b[0m \u001b[0mother\u001b[0m\u001b[1;33m)\u001b[0m\u001b[1;33m\u001b[0m\u001b[1;33m\u001b[0m\u001b[0m\n\u001b[0m",
      "\u001b[1;32m~\\anaconda3\\Lib\\site-packages\\pandas\\core\\arraylike.py\u001b[0m in \u001b[0;36m?\u001b[1;34m(self, other)\u001b[0m\n\u001b[0;32m    200\u001b[0m     \u001b[1;33m@\u001b[0m\u001b[0munpack_zerodim_and_defer\u001b[0m\u001b[1;33m(\u001b[0m\u001b[1;34m\"__mul__\"\u001b[0m\u001b[1;33m)\u001b[0m\u001b[1;33m\u001b[0m\u001b[1;33m\u001b[0m\u001b[0m\n\u001b[0;32m    201\u001b[0m     \u001b[1;32mdef\u001b[0m \u001b[0m__mul__\u001b[0m\u001b[1;33m(\u001b[0m\u001b[0mself\u001b[0m\u001b[1;33m,\u001b[0m \u001b[0mother\u001b[0m\u001b[1;33m)\u001b[0m\u001b[1;33m:\u001b[0m\u001b[1;33m\u001b[0m\u001b[1;33m\u001b[0m\u001b[0m\n\u001b[1;32m--> 202\u001b[1;33m         \u001b[1;32mreturn\u001b[0m \u001b[0mself\u001b[0m\u001b[1;33m.\u001b[0m\u001b[0m_arith_method\u001b[0m\u001b[1;33m(\u001b[0m\u001b[0mother\u001b[0m\u001b[1;33m,\u001b[0m \u001b[0moperator\u001b[0m\u001b[1;33m.\u001b[0m\u001b[0mmul\u001b[0m\u001b[1;33m)\u001b[0m\u001b[1;33m\u001b[0m\u001b[1;33m\u001b[0m\u001b[0m\n\u001b[0m",
      "\u001b[1;32m~\\anaconda3\\Lib\\site-packages\\pandas\\core\\frame.py\u001b[0m in \u001b[0;36m?\u001b[1;34m(self, other, op)\u001b[0m\n\u001b[0;32m   7637\u001b[0m \u001b[1;33m\u001b[0m\u001b[0m\n\u001b[0;32m   7638\u001b[0m         \u001b[0maxis\u001b[0m\u001b[1;33m:\u001b[0m \u001b[0mLiteral\u001b[0m\u001b[1;33m[\u001b[0m\u001b[1;36m1\u001b[0m\u001b[1;33m]\u001b[0m \u001b[1;33m=\u001b[0m \u001b[1;36m1\u001b[0m  \u001b[1;31m# only relevant for Series other case\u001b[0m\u001b[1;33m\u001b[0m\u001b[1;33m\u001b[0m\u001b[0m\n\u001b[0;32m   7639\u001b[0m         \u001b[0mother\u001b[0m \u001b[1;33m=\u001b[0m \u001b[0mops\u001b[0m\u001b[1;33m.\u001b[0m\u001b[0mmaybe_prepare_scalar_for_op\u001b[0m\u001b[1;33m(\u001b[0m\u001b[0mother\u001b[0m\u001b[1;33m,\u001b[0m \u001b[1;33m(\u001b[0m\u001b[0mself\u001b[0m\u001b[1;33m.\u001b[0m\u001b[0mshape\u001b[0m\u001b[1;33m[\u001b[0m\u001b[0maxis\u001b[0m\u001b[1;33m]\u001b[0m\u001b[1;33m,\u001b[0m\u001b[1;33m)\u001b[0m\u001b[1;33m)\u001b[0m\u001b[1;33m\u001b[0m\u001b[1;33m\u001b[0m\u001b[0m\n\u001b[0;32m   7640\u001b[0m \u001b[1;33m\u001b[0m\u001b[0m\n\u001b[1;32m-> 7641\u001b[1;33m         \u001b[0mself\u001b[0m\u001b[1;33m,\u001b[0m \u001b[0mother\u001b[0m \u001b[1;33m=\u001b[0m \u001b[0mself\u001b[0m\u001b[1;33m.\u001b[0m\u001b[0m_align_for_op\u001b[0m\u001b[1;33m(\u001b[0m\u001b[0mother\u001b[0m\u001b[1;33m,\u001b[0m \u001b[0maxis\u001b[0m\u001b[1;33m,\u001b[0m \u001b[0mflex\u001b[0m\u001b[1;33m=\u001b[0m\u001b[1;32mTrue\u001b[0m\u001b[1;33m,\u001b[0m \u001b[0mlevel\u001b[0m\u001b[1;33m=\u001b[0m\u001b[1;32mNone\u001b[0m\u001b[1;33m)\u001b[0m\u001b[1;33m\u001b[0m\u001b[1;33m\u001b[0m\u001b[0m\n\u001b[0m\u001b[0;32m   7642\u001b[0m \u001b[1;33m\u001b[0m\u001b[0m\n\u001b[0;32m   7643\u001b[0m         \u001b[1;32mwith\u001b[0m \u001b[0mnp\u001b[0m\u001b[1;33m.\u001b[0m\u001b[0merrstate\u001b[0m\u001b[1;33m(\u001b[0m\u001b[0mall\u001b[0m\u001b[1;33m=\u001b[0m\u001b[1;34m\"ignore\"\u001b[0m\u001b[1;33m)\u001b[0m\u001b[1;33m:\u001b[0m\u001b[1;33m\u001b[0m\u001b[1;33m\u001b[0m\u001b[0m\n\u001b[0;32m   7644\u001b[0m             \u001b[0mnew_data\u001b[0m \u001b[1;33m=\u001b[0m \u001b[0mself\u001b[0m\u001b[1;33m.\u001b[0m\u001b[0m_dispatch_frame_op\u001b[0m\u001b[1;33m(\u001b[0m\u001b[0mother\u001b[0m\u001b[1;33m,\u001b[0m \u001b[0mop\u001b[0m\u001b[1;33m,\u001b[0m \u001b[0maxis\u001b[0m\u001b[1;33m=\u001b[0m\u001b[0maxis\u001b[0m\u001b[1;33m)\u001b[0m\u001b[1;33m\u001b[0m\u001b[1;33m\u001b[0m\u001b[0m\n",
      "\u001b[1;32m~\\anaconda3\\Lib\\site-packages\\pandas\\core\\frame.py\u001b[0m in \u001b[0;36m?\u001b[1;34m(self, other, axis, flex, level)\u001b[0m\n\u001b[0;32m   7914\u001b[0m                 raise ValueError(\n\u001b[0;32m   7915\u001b[0m                     \u001b[1;34mf\"Unable to coerce list of {type(right[0])} to Series/DataFrame\"\u001b[0m\u001b[1;33m\u001b[0m\u001b[1;33m\u001b[0m\u001b[0m\n\u001b[0;32m   7916\u001b[0m                 )\n\u001b[0;32m   7917\u001b[0m             \u001b[1;31m# GH#17901\u001b[0m\u001b[1;33m\u001b[0m\u001b[1;33m\u001b[0m\u001b[0m\n\u001b[1;32m-> 7918\u001b[1;33m             \u001b[0mright\u001b[0m \u001b[1;33m=\u001b[0m \u001b[0mto_series\u001b[0m\u001b[1;33m(\u001b[0m\u001b[0mright\u001b[0m\u001b[1;33m)\u001b[0m\u001b[1;33m\u001b[0m\u001b[1;33m\u001b[0m\u001b[0m\n\u001b[0m\u001b[0;32m   7919\u001b[0m \u001b[1;33m\u001b[0m\u001b[0m\n\u001b[0;32m   7920\u001b[0m         \u001b[1;32mif\u001b[0m \u001b[0mflex\u001b[0m \u001b[1;32mis\u001b[0m \u001b[1;32mnot\u001b[0m \u001b[1;32mNone\u001b[0m \u001b[1;32mand\u001b[0m \u001b[0misinstance\u001b[0m\u001b[1;33m(\u001b[0m\u001b[0mright\u001b[0m\u001b[1;33m,\u001b[0m \u001b[0mDataFrame\u001b[0m\u001b[1;33m)\u001b[0m\u001b[1;33m:\u001b[0m\u001b[1;33m\u001b[0m\u001b[1;33m\u001b[0m\u001b[0m\n\u001b[0;32m   7921\u001b[0m             \u001b[1;32mif\u001b[0m \u001b[1;32mnot\u001b[0m \u001b[0mleft\u001b[0m\u001b[1;33m.\u001b[0m\u001b[0m_indexed_same\u001b[0m\u001b[1;33m(\u001b[0m\u001b[0mright\u001b[0m\u001b[1;33m)\u001b[0m\u001b[1;33m:\u001b[0m\u001b[1;33m\u001b[0m\u001b[1;33m\u001b[0m\u001b[0m\n",
      "\u001b[1;32m~\\anaconda3\\Lib\\site-packages\\pandas\\core\\frame.py\u001b[0m in \u001b[0;36m?\u001b[1;34m(right)\u001b[0m\n\u001b[0;32m   7860\u001b[0m                     )\n\u001b[0;32m   7861\u001b[0m                 \u001b[0mright\u001b[0m \u001b[1;33m=\u001b[0m \u001b[0mleft\u001b[0m\u001b[1;33m.\u001b[0m\u001b[0m_constructor_sliced\u001b[0m\u001b[1;33m(\u001b[0m\u001b[0mright\u001b[0m\u001b[1;33m,\u001b[0m \u001b[0mindex\u001b[0m\u001b[1;33m=\u001b[0m\u001b[0mleft\u001b[0m\u001b[1;33m.\u001b[0m\u001b[0mindex\u001b[0m\u001b[1;33m,\u001b[0m \u001b[0mdtype\u001b[0m\u001b[1;33m=\u001b[0m\u001b[0mdtype\u001b[0m\u001b[1;33m)\u001b[0m\u001b[1;33m\u001b[0m\u001b[1;33m\u001b[0m\u001b[0m\n\u001b[0;32m   7862\u001b[0m             \u001b[1;32melse\u001b[0m\u001b[1;33m:\u001b[0m\u001b[1;33m\u001b[0m\u001b[1;33m\u001b[0m\u001b[0m\n\u001b[0;32m   7863\u001b[0m                 \u001b[1;32mif\u001b[0m \u001b[0mlen\u001b[0m\u001b[1;33m(\u001b[0m\u001b[0mleft\u001b[0m\u001b[1;33m.\u001b[0m\u001b[0mcolumns\u001b[0m\u001b[1;33m)\u001b[0m \u001b[1;33m!=\u001b[0m \u001b[0mlen\u001b[0m\u001b[1;33m(\u001b[0m\u001b[0mright\u001b[0m\u001b[1;33m)\u001b[0m\u001b[1;33m:\u001b[0m\u001b[1;33m\u001b[0m\u001b[1;33m\u001b[0m\u001b[0m\n\u001b[1;32m-> 7864\u001b[1;33m                     raise ValueError(\n\u001b[0m\u001b[0;32m   7865\u001b[0m                         \u001b[0mmsg\u001b[0m\u001b[1;33m.\u001b[0m\u001b[0mformat\u001b[0m\u001b[1;33m(\u001b[0m\u001b[0mreq_len\u001b[0m\u001b[1;33m=\u001b[0m\u001b[0mlen\u001b[0m\u001b[1;33m(\u001b[0m\u001b[0mleft\u001b[0m\u001b[1;33m.\u001b[0m\u001b[0mcolumns\u001b[0m\u001b[1;33m)\u001b[0m\u001b[1;33m,\u001b[0m \u001b[0mgiven_len\u001b[0m\u001b[1;33m=\u001b[0m\u001b[0mlen\u001b[0m\u001b[1;33m(\u001b[0m\u001b[0mright\u001b[0m\u001b[1;33m)\u001b[0m\u001b[1;33m)\u001b[0m\u001b[1;33m\u001b[0m\u001b[1;33m\u001b[0m\u001b[0m\n\u001b[0;32m   7866\u001b[0m                     )\n\u001b[0;32m   7867\u001b[0m                 \u001b[0mright\u001b[0m \u001b[1;33m=\u001b[0m \u001b[0mleft\u001b[0m\u001b[1;33m.\u001b[0m\u001b[0m_constructor_sliced\u001b[0m\u001b[1;33m(\u001b[0m\u001b[0mright\u001b[0m\u001b[1;33m,\u001b[0m \u001b[0mindex\u001b[0m\u001b[1;33m=\u001b[0m\u001b[0mleft\u001b[0m\u001b[1;33m.\u001b[0m\u001b[0mcolumns\u001b[0m\u001b[1;33m,\u001b[0m \u001b[0mdtype\u001b[0m\u001b[1;33m=\u001b[0m\u001b[0mdtype\u001b[0m\u001b[1;33m)\u001b[0m\u001b[1;33m\u001b[0m\u001b[1;33m\u001b[0m\u001b[0m\n",
      "\u001b[1;31mValueError\u001b[0m: Unable to coerce to Series, length must be 13: given 4"
     ]
    }
   ],
   "source": [
    "weights =   {'Positioning': 0.35,\n",
    "             'Heading': 0.05,\n",
    "             'Marking': 0.30,\n",
    "             'Tackling': 0.35}.values()\n",
    "expert_attributes = list(weights.keys())\n",
    "\n",
    "current_ability = \"def\"\n",
    "fm_df[current_ability] = (fm_df[expert_attributes] * weights).sum(axis=1).astype(int)\n",
    "fm_df[[\"Name\", current_ability]].sort_values(current_ability, ascending=False).head()"
   ]
  },
  {
   "cell_type": "markdown",
   "id": "1c687947-0302-45ff-a9fc-371526bb65fc",
   "metadata": {},
   "source": [
    "<h3 style=\"color:red;\">  Passing</h3>"
   ]
  },
  {
   "cell_type": "code",
   "execution_count": 279,
   "id": "598cb029-720c-4022-9e88-8efe9422e8dd",
   "metadata": {},
   "outputs": [
    {
     "data": {
      "text/html": [
       "<div>\n",
       "<style scoped>\n",
       "    .dataframe tbody tr th:only-of-type {\n",
       "        vertical-align: middle;\n",
       "    }\n",
       "\n",
       "    .dataframe tbody tr th {\n",
       "        vertical-align: top;\n",
       "    }\n",
       "\n",
       "    .dataframe thead th {\n",
       "        text-align: right;\n",
       "    }\n",
       "</style>\n",
       "<table border=\"1\" class=\"dataframe\">\n",
       "  <thead>\n",
       "    <tr style=\"text-align: right;\">\n",
       "      <th></th>\n",
       "      <th>Name</th>\n",
       "      <th>pas</th>\n",
       "    </tr>\n",
       "  </thead>\n",
       "  <tbody>\n",
       "    <tr>\n",
       "      <th>167956</th>\n",
       "      <td>Lionel Messi</td>\n",
       "      <td>93</td>\n",
       "    </tr>\n",
       "    <tr>\n",
       "      <th>167959</th>\n",
       "      <td>Luka Modrić</td>\n",
       "      <td>92</td>\n",
       "    </tr>\n",
       "    <tr>\n",
       "      <th>151638</th>\n",
       "      <td>Kevin De Bruyne</td>\n",
       "      <td>89</td>\n",
       "    </tr>\n",
       "    <tr>\n",
       "      <th>167960</th>\n",
       "      <td>Karim Benzema</td>\n",
       "      <td>89</td>\n",
       "    </tr>\n",
       "    <tr>\n",
       "      <th>167970</th>\n",
       "      <td>Toni Kroos</td>\n",
       "      <td>88</td>\n",
       "    </tr>\n",
       "  </tbody>\n",
       "</table>\n",
       "</div>"
      ],
      "text/plain": [
       "                   Name  pas\n",
       "167956     Lionel Messi   93\n",
       "167959      Luka Modrić   92\n",
       "151638  Kevin De Bruyne   89\n",
       "167960    Karim Benzema   89\n",
       "167970       Toni Kroos   88"
      ]
     },
     "execution_count": 279,
     "metadata": {},
     "output_type": "execute_result"
    }
   ],
   "source": [
    "weights =   {'Crossing': 0.10,\n",
    "             'First Touch': 0.10,\n",
    "             'Passing': 0.35,\n",
    "             'Technique': 0.20,\n",
    "             'Decisions': 0.05,\n",
    "             'Determination': 0.05,\n",
    "             'Vision': 0.15}\n",
    "expert_attributes = list(weights.keys())\n",
    "\n",
    "current_ability = \"pas\"\n",
    "fm_df[current_ability] = (fm_df[expert_attributes] * weights).sum(axis=1).astype(int)\n",
    "fm_df[[\"Name\", current_ability]].sort_values(current_ability, ascending=False).head()"
   ]
  },
  {
   "cell_type": "markdown",
   "id": "d57cc8c4-2942-4f81-b1b2-eddfa3b43278",
   "metadata": {},
   "source": [
    "<h3 style=\"color:red;\">  Dribbling</h3>"
   ]
  },
  {
   "cell_type": "code",
   "execution_count": 280,
   "id": "1e752cc5-1ad3-4024-88fb-311c9209e178",
   "metadata": {},
   "outputs": [
    {
     "data": {
      "text/html": [
       "<div>\n",
       "<style scoped>\n",
       "    .dataframe tbody tr th:only-of-type {\n",
       "        vertical-align: middle;\n",
       "    }\n",
       "\n",
       "    .dataframe tbody tr th {\n",
       "        vertical-align: top;\n",
       "    }\n",
       "\n",
       "    .dataframe thead th {\n",
       "        text-align: right;\n",
       "    }\n",
       "</style>\n",
       "<table border=\"1\" class=\"dataframe\">\n",
       "  <thead>\n",
       "    <tr style=\"text-align: right;\">\n",
       "      <th></th>\n",
       "      <th>Name</th>\n",
       "      <th>dri</th>\n",
       "    </tr>\n",
       "  </thead>\n",
       "  <tbody>\n",
       "    <tr>\n",
       "      <th>167957</th>\n",
       "      <td>Kylian Mbappé</td>\n",
       "      <td>89</td>\n",
       "    </tr>\n",
       "    <tr>\n",
       "      <th>151738</th>\n",
       "      <td>Adama Traoré</td>\n",
       "      <td>86</td>\n",
       "    </tr>\n",
       "    <tr>\n",
       "      <th>167956</th>\n",
       "      <td>Lionel Messi</td>\n",
       "      <td>85</td>\n",
       "    </tr>\n",
       "    <tr>\n",
       "      <th>151640</th>\n",
       "      <td>Mohamed Salah</td>\n",
       "      <td>85</td>\n",
       "    </tr>\n",
       "    <tr>\n",
       "      <th>167964</th>\n",
       "      <td>Vinícius Júnior</td>\n",
       "      <td>84</td>\n",
       "    </tr>\n",
       "  </tbody>\n",
       "</table>\n",
       "</div>"
      ],
      "text/plain": [
       "                   Name  dri\n",
       "167957    Kylian Mbappé   89\n",
       "151738     Adama Traoré   86\n",
       "167956     Lionel Messi   85\n",
       "151640    Mohamed Salah   85\n",
       "167964  Vinícius Júnior   84"
      ]
     },
     "execution_count": 280,
     "metadata": {},
     "output_type": "execute_result"
    }
   ],
   "source": [
    "weights =   {'Dribbling': 0.35,\n",
    "             'First Touch': 0.05,\n",
    "             'Acceleration': 0.20,\n",
    "             'Agility': 0.10,\n",
    "             'Balance': 0.10,\n",
    "             'Fitness': 0.05,\n",
    "             'Pace': 0.15}\n",
    "expert_attributes = list(weights.keys())\n",
    "\n",
    "current_ability = \"dri\"\n",
    "fm_df[current_ability] = (fm_df[expert_attributes] * weights).sum(axis=1).astype(int)\n",
    "fm_df[[\"Name\", current_ability]].sort_values(current_ability, ascending=False).head()"
   ]
  },
  {
   "cell_type": "markdown",
   "id": "e43c22c7-ea5d-49a0-ad79-b6629de99881",
   "metadata": {},
   "source": [
    "<h3 style=\"color:red;\">  Finishing</h3>"
   ]
  },
  {
   "cell_type": "code",
   "execution_count": 281,
   "id": "cdb3efe4-6359-4a3a-af42-f6d5ed811e49",
   "metadata": {},
   "outputs": [
    {
     "data": {
      "text/html": [
       "<div>\n",
       "<style scoped>\n",
       "    .dataframe tbody tr th:only-of-type {\n",
       "        vertical-align: middle;\n",
       "    }\n",
       "\n",
       "    .dataframe tbody tr th {\n",
       "        vertical-align: top;\n",
       "    }\n",
       "\n",
       "    .dataframe thead th {\n",
       "        text-align: right;\n",
       "    }\n",
       "</style>\n",
       "<table border=\"1\" class=\"dataframe\">\n",
       "  <thead>\n",
       "    <tr style=\"text-align: right;\">\n",
       "      <th></th>\n",
       "      <th>Name</th>\n",
       "      <th>fin</th>\n",
       "    </tr>\n",
       "  </thead>\n",
       "  <tbody>\n",
       "    <tr>\n",
       "      <th>151646</th>\n",
       "      <td>Cristiano Ronaldo</td>\n",
       "      <td>94</td>\n",
       "    </tr>\n",
       "    <tr>\n",
       "      <th>73550</th>\n",
       "      <td>Zlatan Ibrahimović</td>\n",
       "      <td>94</td>\n",
       "    </tr>\n",
       "    <tr>\n",
       "      <th>167958</th>\n",
       "      <td>Robert Lewandowski</td>\n",
       "      <td>94</td>\n",
       "    </tr>\n",
       "    <tr>\n",
       "      <th>151641</th>\n",
       "      <td>Harry Kane</td>\n",
       "      <td>94</td>\n",
       "    </tr>\n",
       "    <tr>\n",
       "      <th>73547</th>\n",
       "      <td>Ciro Immobile</td>\n",
       "      <td>89</td>\n",
       "    </tr>\n",
       "  </tbody>\n",
       "</table>\n",
       "</div>"
      ],
      "text/plain": [
       "                      Name  fin\n",
       "151646   Cristiano Ronaldo   94\n",
       "73550   Zlatan Ibrahimović   94\n",
       "167958  Robert Lewandowski   94\n",
       "151641          Harry Kane   94\n",
       "73547        Ciro Immobile   89"
      ]
     },
     "execution_count": 281,
     "metadata": {},
     "output_type": "execute_result"
    }
   ],
   "source": [
    "weights =   {'Finishing': 1}.values()\n",
    "expert_attributes = list(weights.keys())\n",
    "\n",
    "current_ability = \"fin\"\n",
    "fm_df[current_ability] = (fm_df[expert_attributes] * weights).sum(axis=1).astype(int)\n",
    "fm_df[[\"Name\", current_ability]].sort_values(current_ability, ascending=False).head()"
   ]
  },
  {
   "cell_type": "markdown",
   "id": "56710f10-dcc6-4398-8201-2d32ddd22053",
   "metadata": {},
   "source": [
    "<h3 style=\"color:green;\">  Stamina</h3>"
   ]
  },
  {
   "cell_type": "code",
   "execution_count": 282,
   "id": "a558ed95-94c0-491d-a051-1c75f29ee09e",
   "metadata": {},
   "outputs": [
    {
     "data": {
      "text/html": [
       "<div>\n",
       "<style scoped>\n",
       "    .dataframe tbody tr th:only-of-type {\n",
       "        vertical-align: middle;\n",
       "    }\n",
       "\n",
       "    .dataframe tbody tr th {\n",
       "        vertical-align: top;\n",
       "    }\n",
       "\n",
       "    .dataframe thead th {\n",
       "        text-align: right;\n",
       "    }\n",
       "</style>\n",
       "<table border=\"1\" class=\"dataframe\">\n",
       "  <thead>\n",
       "    <tr style=\"text-align: right;\">\n",
       "      <th></th>\n",
       "      <th>Name</th>\n",
       "      <th>sta</th>\n",
       "    </tr>\n",
       "  </thead>\n",
       "  <tbody>\n",
       "    <tr>\n",
       "      <th>42332</th>\n",
       "      <td>Joshua Kimmich</td>\n",
       "      <td>99</td>\n",
       "    </tr>\n",
       "    <tr>\n",
       "      <th>151729</th>\n",
       "      <td>James Ward-Prowse</td>\n",
       "      <td>99</td>\n",
       "    </tr>\n",
       "    <tr>\n",
       "      <th>73553</th>\n",
       "      <td>Marcelo Brozović</td>\n",
       "      <td>99</td>\n",
       "    </tr>\n",
       "    <tr>\n",
       "      <th>151691</th>\n",
       "      <td>Mason Mount</td>\n",
       "      <td>99</td>\n",
       "    </tr>\n",
       "    <tr>\n",
       "      <th>151758</th>\n",
       "      <td>Pierre-Emile Højbjerg</td>\n",
       "      <td>99</td>\n",
       "    </tr>\n",
       "  </tbody>\n",
       "</table>\n",
       "</div>"
      ],
      "text/plain": [
       "                         Name  sta\n",
       "42332          Joshua Kimmich   99\n",
       "151729      James Ward-Prowse   99\n",
       "73553        Marcelo Brozović   99\n",
       "151691            Mason Mount   99\n",
       "151758  Pierre-Emile Højbjerg   99"
      ]
     },
     "execution_count": 282,
     "metadata": {},
     "output_type": "execute_result"
    }
   ],
   "source": [
    "weights =   {'Stamina': 1}.values()\n",
    "expert_attributes = list(weights.keys())\n",
    "\n",
    "current_ability = \"sta\"\n",
    "fm_df[current_ability] = (fm_df[expert_attributes] * weights).sum(axis=1).astype(int)\n",
    "fm_df[[\"Name\", current_ability]].sort_values(current_ability, ascending=False).head()"
   ]
  },
  {
   "cell_type": "markdown",
   "id": "07ed3df6-6615-4bb1-905f-11e92fb4a08b",
   "metadata": {},
   "source": [
    "<h3 style=\"color:green;\">  Strength</h3>"
   ]
  },
  {
   "cell_type": "code",
   "execution_count": 283,
   "id": "8fa1ac41-4292-4495-8bb1-3273b7eef043",
   "metadata": {},
   "outputs": [
    {
     "data": {
      "text/html": [
       "<div>\n",
       "<style scoped>\n",
       "    .dataframe tbody tr th:only-of-type {\n",
       "        vertical-align: middle;\n",
       "    }\n",
       "\n",
       "    .dataframe tbody tr th {\n",
       "        vertical-align: top;\n",
       "    }\n",
       "\n",
       "    .dataframe thead th {\n",
       "        text-align: right;\n",
       "    }\n",
       "</style>\n",
       "<table border=\"1\" class=\"dataframe\">\n",
       "  <thead>\n",
       "    <tr style=\"text-align: right;\">\n",
       "      <th></th>\n",
       "      <th>Name</th>\n",
       "      <th>str</th>\n",
       "    </tr>\n",
       "  </thead>\n",
       "  <tbody>\n",
       "    <tr>\n",
       "      <th>151713</th>\n",
       "      <td>Kurt Zouma</td>\n",
       "      <td>99</td>\n",
       "    </tr>\n",
       "    <tr>\n",
       "      <th>73542</th>\n",
       "      <td>Romelu Lukaku</td>\n",
       "      <td>99</td>\n",
       "    </tr>\n",
       "    <tr>\n",
       "      <th>152008</th>\n",
       "      <td>Fraser Forster</td>\n",
       "      <td>94</td>\n",
       "    </tr>\n",
       "    <tr>\n",
       "      <th>151685</th>\n",
       "      <td>Reece James</td>\n",
       "      <td>94</td>\n",
       "    </tr>\n",
       "    <tr>\n",
       "      <th>151812</th>\n",
       "      <td>Aleksandar Mitrović</td>\n",
       "      <td>94</td>\n",
       "    </tr>\n",
       "  </tbody>\n",
       "</table>\n",
       "</div>"
      ],
      "text/plain": [
       "                       Name  str\n",
       "151713           Kurt Zouma   99\n",
       "73542         Romelu Lukaku   99\n",
       "152008       Fraser Forster   94\n",
       "151685          Reece James   94\n",
       "151812  Aleksandar Mitrović   94"
      ]
     },
     "execution_count": 283,
     "metadata": {},
     "output_type": "execute_result"
    }
   ],
   "source": [
    "weights =   {'Strength': 1}.values()\n",
    "expert_attributes = list(weights.keys())\n",
    "\n",
    "current_ability = \"str\"\n",
    "fm_df[current_ability] = (fm_df[expert_attributes] * weights).sum(axis=1).astype(int)\n",
    "fm_df[[\"Name\", current_ability]].sort_values(current_ability, ascending=False).head()"
   ]
  },
  {
   "cell_type": "markdown",
   "id": "c2da837c-a9c9-4797-bc01-5dbc1f1ca0b3",
   "metadata": {},
   "source": [
    "<h3 style=\"color:green;\">  Heading</h3>"
   ]
  },
  {
   "cell_type": "code",
   "execution_count": 284,
   "id": "6f75664c-6b31-47ad-9b80-2d89f0738138",
   "metadata": {},
   "outputs": [
    {
     "data": {
      "text/html": [
       "<div>\n",
       "<style scoped>\n",
       "    .dataframe tbody tr th:only-of-type {\n",
       "        vertical-align: middle;\n",
       "    }\n",
       "\n",
       "    .dataframe tbody tr th {\n",
       "        vertical-align: top;\n",
       "    }\n",
       "\n",
       "    .dataframe thead th {\n",
       "        text-align: right;\n",
       "    }\n",
       "</style>\n",
       "<table border=\"1\" class=\"dataframe\">\n",
       "  <thead>\n",
       "    <tr style=\"text-align: right;\">\n",
       "      <th></th>\n",
       "      <th>Name</th>\n",
       "      <th>hed</th>\n",
       "    </tr>\n",
       "  </thead>\n",
       "  <tbody>\n",
       "    <tr>\n",
       "      <th>167965</th>\n",
       "      <td>Sergio Ramos</td>\n",
       "      <td>99</td>\n",
       "    </tr>\n",
       "    <tr>\n",
       "      <th>73561</th>\n",
       "      <td>Olivier Giroud</td>\n",
       "      <td>94</td>\n",
       "    </tr>\n",
       "    <tr>\n",
       "      <th>75806</th>\n",
       "      <td>Milan Đurić</td>\n",
       "      <td>94</td>\n",
       "    </tr>\n",
       "    <tr>\n",
       "      <th>151646</th>\n",
       "      <td>Cristiano Ronaldo</td>\n",
       "      <td>94</td>\n",
       "    </tr>\n",
       "    <tr>\n",
       "      <th>167994</th>\n",
       "      <td>Edinson Cavani</td>\n",
       "      <td>89</td>\n",
       "    </tr>\n",
       "  </tbody>\n",
       "</table>\n",
       "</div>"
      ],
      "text/plain": [
       "                     Name  hed\n",
       "167965       Sergio Ramos   99\n",
       "73561      Olivier Giroud   94\n",
       "75806         Milan Đurić   94\n",
       "151646  Cristiano Ronaldo   94\n",
       "167994     Edinson Cavani   89"
      ]
     },
     "execution_count": 284,
     "metadata": {},
     "output_type": "execute_result"
    }
   ],
   "source": [
    "weights =   {'Heading': 1}.values()\n",
    "expert_attributes = list(weights.keys())\n",
    "\n",
    "current_ability = \"hed\"\n",
    "fm_df[current_ability] = (fm_df[expert_attributes] * weights).sum(axis=1).astype(int)\n",
    "fm_df[[\"Name\", current_ability]].sort_values(current_ability, ascending=False).head()"
   ]
  },
  {
   "cell_type": "markdown",
   "id": "be689a3d-f565-4e46-85da-3eae4d754d16",
   "metadata": {},
   "source": [
    "<h3 style=\"color:purple;\">  Mental</h3>"
   ]
  },
  {
   "cell_type": "code",
   "execution_count": 285,
   "id": "2b27b2cb-c74b-4904-b636-3ac2f98f88bc",
   "metadata": {},
   "outputs": [
    {
     "data": {
      "text/html": [
       "<div>\n",
       "<style scoped>\n",
       "    .dataframe tbody tr th:only-of-type {\n",
       "        vertical-align: middle;\n",
       "    }\n",
       "\n",
       "    .dataframe tbody tr th {\n",
       "        vertical-align: top;\n",
       "    }\n",
       "\n",
       "    .dataframe thead th {\n",
       "        text-align: right;\n",
       "    }\n",
       "</style>\n",
       "<table border=\"1\" class=\"dataframe\">\n",
       "  <thead>\n",
       "    <tr style=\"text-align: right;\">\n",
       "      <th></th>\n",
       "      <th>Name</th>\n",
       "      <th>men</th>\n",
       "    </tr>\n",
       "  </thead>\n",
       "  <tbody>\n",
       "    <tr>\n",
       "      <th>151660</th>\n",
       "      <td>Thiago Silva</td>\n",
       "      <td>90</td>\n",
       "    </tr>\n",
       "    <tr>\n",
       "      <th>167993</th>\n",
       "      <td>Axel Witsel</td>\n",
       "      <td>86</td>\n",
       "    </tr>\n",
       "    <tr>\n",
       "      <th>167959</th>\n",
       "      <td>Luka Modrić</td>\n",
       "      <td>84</td>\n",
       "    </tr>\n",
       "    <tr>\n",
       "      <th>167980</th>\n",
       "      <td>Sergio Busquets</td>\n",
       "      <td>84</td>\n",
       "    </tr>\n",
       "    <tr>\n",
       "      <th>151645</th>\n",
       "      <td>Ederson</td>\n",
       "      <td>84</td>\n",
       "    </tr>\n",
       "  </tbody>\n",
       "</table>\n",
       "</div>"
      ],
      "text/plain": [
       "                   Name  men\n",
       "151660     Thiago Silva   90\n",
       "167993      Axel Witsel   86\n",
       "167959      Luka Modrić   84\n",
       "167980  Sergio Busquets   84\n",
       "151645          Ederson   84"
      ]
     },
     "execution_count": 285,
     "metadata": {},
     "output_type": "execute_result"
    }
   ],
   "source": [
    "weights =   {'Aggression': 0.15,\n",
    "             'Composure': 0.40,\n",
    "             'Concentration': 0.45}\n",
    "expert_attributes = list(weights.keys())\n",
    "\n",
    "current_ability = \"men\"\n",
    "fm_df[current_ability] = (fm_df[expert_attributes] * weights).sum(axis=1).astype(int)\n",
    "fm_df[[\"Name\", current_ability]].sort_values(current_ability, ascending=False).head()"
   ]
  },
  {
   "cell_type": "markdown",
   "id": "07c4e05d-b7a6-4865-920c-00f81edce658",
   "metadata": {},
   "source": [
    "<h3 style=\"color:purple;\">  Intelligence</h3>"
   ]
  },
  {
   "cell_type": "code",
   "execution_count": 286,
   "id": "b7bde5ef-2123-4e53-b203-c31bd462a047",
   "metadata": {},
   "outputs": [
    {
     "data": {
      "text/html": [
       "<div>\n",
       "<style scoped>\n",
       "    .dataframe tbody tr th:only-of-type {\n",
       "        vertical-align: middle;\n",
       "    }\n",
       "\n",
       "    .dataframe tbody tr th {\n",
       "        vertical-align: top;\n",
       "    }\n",
       "\n",
       "    .dataframe thead th {\n",
       "        text-align: right;\n",
       "    }\n",
       "</style>\n",
       "<table border=\"1\" class=\"dataframe\">\n",
       "  <thead>\n",
       "    <tr style=\"text-align: right;\">\n",
       "      <th></th>\n",
       "      <th>Name</th>\n",
       "      <th>iq</th>\n",
       "    </tr>\n",
       "  </thead>\n",
       "  <tbody>\n",
       "    <tr>\n",
       "      <th>167956</th>\n",
       "      <td>Lionel Messi</td>\n",
       "      <td>93</td>\n",
       "    </tr>\n",
       "    <tr>\n",
       "      <th>151638</th>\n",
       "      <td>Kevin De Bruyne</td>\n",
       "      <td>86</td>\n",
       "    </tr>\n",
       "    <tr>\n",
       "      <th>168016</th>\n",
       "      <td>Pedri</td>\n",
       "      <td>85</td>\n",
       "    </tr>\n",
       "    <tr>\n",
       "      <th>105366</th>\n",
       "      <td>Mesut Özil</td>\n",
       "      <td>85</td>\n",
       "    </tr>\n",
       "    <tr>\n",
       "      <th>167988</th>\n",
       "      <td>Marco Verratti</td>\n",
       "      <td>84</td>\n",
       "    </tr>\n",
       "  </tbody>\n",
       "</table>\n",
       "</div>"
      ],
      "text/plain": [
       "                   Name  iq\n",
       "167956     Lionel Messi  93\n",
       "151638  Kevin De Bruyne  86\n",
       "168016            Pedri  85\n",
       "105366       Mesut Özil  85\n",
       "167988   Marco Verratti  84"
      ]
     },
     "execution_count": 286,
     "metadata": {},
     "output_type": "execute_result"
    }
   ],
   "source": [
    "weights =   {'Vision': 0.35,\n",
    "             'Anticipation': 0.20,\n",
    "             'Decisions': 0.25,\n",
    "             'Flair': 0.20}\n",
    "expert_attributes = list(weights.keys())\n",
    "\n",
    "current_ability = \"iq\"\n",
    "fm_df[current_ability] = (fm_df[expert_attributes] * weights).sum(axis=1).astype(int)\n",
    "fm_df[[\"Name\", current_ability]].sort_values(current_ability, ascending=False).head()"
   ]
  },
  {
   "cell_type": "markdown",
   "id": "6f086ca8-3eca-4b0f-892f-d44803f0fe7c",
   "metadata": {},
   "source": [
    "<h1 style=\"color:red;\">  🥽TPR</h1>"
   ]
  },
  {
   "cell_type": "code",
   "execution_count": 287,
   "id": "17b302a4-1178-4b3f-8aac-f4b8bf15daa5",
   "metadata": {},
   "outputs": [],
   "source": [
    "positions = fm_df['Best_Pos'].unique().tolist()"
   ]
  },
  {
   "cell_type": "code",
   "execution_count": 288,
   "id": "76f2acf6-96db-4ff7-9eb7-70fcc78791e0",
   "metadata": {},
   "outputs": [],
   "source": [
    "def TPR_by_Position(row, pos=False):\n",
    "    if not pos:\n",
    "        position = row[\"Best_Pos\"]\n",
    "    else:\n",
    "        position = pos\n",
    "        \n",
    "    rating_weights = {}\n",
    "    if position == \"GK\":\n",
    "        rating_weights = { \"gk\": 0.95, \"def\": 0, \"pas\": 0, \"dri\": 0, \"fin\": 0, \"sta\": 0, \"str\": 0, \"hed\": 0, \"men\": 0.05, \"iq\": 0 }\n",
    "    elif position == \"DC\":\n",
    "        rating_weights = { \"gk\": 0, \"def\": 0.25, \"pas\": 0.12, \"dri\": 0, \"fin\": 0, \"sta\": 0.19, \"str\": 0.15, \"hed\": 0.15, \"men\": 0.1, \"iq\": 0.05 }\n",
    "    elif position == \"DL\" or position == \"DR\":\n",
    "        rating_weights = { \"gk\": 0, \"def\": 0.22, \"pas\": 0.25, \"dri\": 0.23, \"fin\": 0, \"sta\": 0.17, \"str\": 0.04, \"hed\": 0.02, \"men\": 0.03, \"iq\": 0.04 }\n",
    "    elif position == \"WBL\" or position == \"WBR\":\n",
    "        rating_weights = { \"gk\": 0, \"def\": 0.09, \"pas\": 0.21, \"dri\": 0.32, \"fin\": 0, \"sta\": 0.22, \"str\": 0.04, \"hed\": 0.01, \"men\": 0.03, \"iq\": 0.08 }\n",
    "    elif position == \"DM\":\n",
    "        rating_weights = { \"gk\": 0, \"def\": 0.1, \"pas\": 0.23, \"dri\": 0.09, \"fin\": 0.02, \"sta\": 0.19, \"str\": 0.1, \"hed\": 0.04, \"men\": 0.08, \"iq\": 0.15 }\n",
    "    elif position == \"MC\":\n",
    "        rating_weights = { \"gk\": 0, \"def\": 0.06, \"pas\": 0.26, \"dri\": 0.09, \"fin\": 0.07, \"sta\": 0.18, \"str\": 0.05, \"hed\": 0.03, \"men\": 0.08, \"iq\": 0.18 }\n",
    "    elif position == \"ML\" or position == \"MR\":\n",
    "        rating_weights = { \"gk\": 0, \"def\": 0.01, \"pas\": 0.11, \"dri\": 0.2, \"fin\": 0.14, \"sta\": 0.17, \"str\": 0.11, \"hed\": 0.03, \"men\": 0.07, \"iq\": 0.09 }\n",
    "    elif position == \"AMC\":\n",
    "        rating_weights = { \"gk\": 0, \"def\": 0, \"pas\": 0.25, \"dri\": 0.19, \"fin\": 0.16, \"sta\": 0.06, \"str\": 0.04, \"hed\": 0, \"men\": 0.03, \"iq\": 0.27 }\n",
    "    elif position == \"AML\" or position == \"AMR\":\n",
    "        rating_weights = { \"gk\": 0, \"def\": 0, \"pas\": 0.08, \"dri\": 0.34, \"fin\": 0.22, \"sta\": 0.16, \"str\": 0.03, \"hed\": 0.01, \"men\": 0.05, \"iq\": 0.11 }\n",
    "    elif position == \"ST\":\n",
    "        rating_weights = { \"gk\": 0, \"def\": 0, \"pas\": 0.09, \"dri\": 0.14, \"fin\": 0.3, \"sta\": 0.12, \"str\": 0.1, \"hed\": 0.12, \"men\": 0.06, \"iq\": 0.07 }\n",
    "    \n",
    "    rating_attrs = list(rating_weights.keys())\n",
    "    tpr = (row[rating_attrs] * pd.Series(rating_weights)).sum()\n",
    "    return int(tpr)"
   ]
  },
  {
   "cell_type": "code",
   "execution_count": 301,
   "id": "ace64e43-db6d-4d58-a9ca-29f71b6f53f4",
   "metadata": {},
   "outputs": [],
   "source": [
    "fm_df[\"tpr\"] = fm_df.apply(TPR_by_Position, axis=1)\n",
    "\n",
    "for pos in positions:\n",
    "    fm_df[f\"tpr_{pos}\"] = 0"
   ]
  },
  {
   "cell_type": "code",
   "execution_count": 303,
   "id": "cd6d058c-a994-4841-89b1-b5e33ecd9017",
   "metadata": {},
   "outputs": [],
   "source": [
    "# Standardize between 45-95\n",
    "min_val = 45\n",
    "max_val = 95\n",
    "def standardize(column):\n",
    "    min_col = column.min()\n",
    "    max_col = column.max()\n",
    "    col_standard = (column - min_col) / (max_col - min_col) * (max_val - min_val) + min_val\n",
    "    return col_standard.astype(int)\n",
    "\n",
    "fm_df[\"tpr\"] = standardize(fm_df[\"tpr\"])"
   ]
  },
  {
   "cell_type": "code",
   "execution_count": 304,
   "id": "ab5eae81-39a2-40f5-97a6-828ef475fd04",
   "metadata": {},
   "outputs": [],
   "source": [
    "posdf = pd.read_csv(\"players_db/fm23/position_regression_formulas.csv\")"
   ]
  },
  {
   "cell_type": "code",
   "execution_count": 305,
   "id": "03969299-2ac1-409f-8b90-92fcdabaa728",
   "metadata": {},
   "outputs": [],
   "source": [
    "def Position_Regression(row, pos):\n",
    "    best_pos = row.Best_Pos\n",
    "    x = row.tpr\n",
    "    m = posdf[posdf.Best_Pos == best_pos][f\"{pos}_slope\"]\n",
    "    b = posdf[posdf.Best_Pos == best_pos][f\"{pos}_intercept\"]\n",
    "    y = int(m*x + b)\n",
    "    return max(y, 0) "
   ]
  },
  {
   "cell_type": "code",
   "execution_count": 306,
   "id": "eb6638c5-96bb-4c3a-8c8a-0ae92e2b9ab3",
   "metadata": {},
   "outputs": [],
   "source": [
    "for pos in positions:\n",
    "    fm_df[f\"tpr_{pos}\"] = fm_df.apply(lambda row: TPR_by_Position(row, pos) if pos == row.Best_Pos or pos in row.Position else Position_Regression(row, pos), axis=1)"
   ]
  },
  {
   "cell_type": "code",
   "execution_count": 307,
   "id": "a6b891d3-1152-45cb-a145-f757029495d4",
   "metadata": {},
   "outputs": [
    {
     "data": {
      "text/html": [
       "<div>\n",
       "<style scoped>\n",
       "    .dataframe tbody tr th:only-of-type {\n",
       "        vertical-align: middle;\n",
       "    }\n",
       "\n",
       "    .dataframe tbody tr th {\n",
       "        vertical-align: top;\n",
       "    }\n",
       "\n",
       "    .dataframe thead th {\n",
       "        text-align: right;\n",
       "    }\n",
       "</style>\n",
       "<table border=\"1\" class=\"dataframe\">\n",
       "  <thead>\n",
       "    <tr style=\"text-align: right;\">\n",
       "      <th></th>\n",
       "      <th>Name</th>\n",
       "      <th>tpr</th>\n",
       "    </tr>\n",
       "  </thead>\n",
       "  <tbody>\n",
       "    <tr>\n",
       "      <th>167956</th>\n",
       "      <td>Lionel Messi</td>\n",
       "      <td>95</td>\n",
       "    </tr>\n",
       "    <tr>\n",
       "      <th>167958</th>\n",
       "      <td>Robert Lewandowski</td>\n",
       "      <td>93</td>\n",
       "    </tr>\n",
       "    <tr>\n",
       "      <th>151641</th>\n",
       "      <td>Harry Kane</td>\n",
       "      <td>91</td>\n",
       "    </tr>\n",
       "    <tr>\n",
       "      <th>151640</th>\n",
       "      <td>Mohamed Salah</td>\n",
       "      <td>90</td>\n",
       "    </tr>\n",
       "    <tr>\n",
       "      <th>151639</th>\n",
       "      <td>Erling Haaland</td>\n",
       "      <td>90</td>\n",
       "    </tr>\n",
       "    <tr>\n",
       "      <th>151638</th>\n",
       "      <td>Kevin De Bruyne</td>\n",
       "      <td>90</td>\n",
       "    </tr>\n",
       "    <tr>\n",
       "      <th>167957</th>\n",
       "      <td>Kylian Mbappé</td>\n",
       "      <td>90</td>\n",
       "    </tr>\n",
       "    <tr>\n",
       "      <th>151644</th>\n",
       "      <td>Virgil van Dijk</td>\n",
       "      <td>90</td>\n",
       "    </tr>\n",
       "    <tr>\n",
       "      <th>151642</th>\n",
       "      <td>Rúben Dias</td>\n",
       "      <td>89</td>\n",
       "    </tr>\n",
       "    <tr>\n",
       "      <th>73550</th>\n",
       "      <td>Zlatan Ibrahimović</td>\n",
       "      <td>88</td>\n",
       "    </tr>\n",
       "  </tbody>\n",
       "</table>\n",
       "</div>"
      ],
      "text/plain": [
       "                      Name  tpr\n",
       "167956        Lionel Messi   95\n",
       "167958  Robert Lewandowski   93\n",
       "151641          Harry Kane   91\n",
       "151640       Mohamed Salah   90\n",
       "151639      Erling Haaland   90\n",
       "151638     Kevin De Bruyne   90\n",
       "167957       Kylian Mbappé   90\n",
       "151644     Virgil van Dijk   90\n",
       "151642          Rúben Dias   89\n",
       "73550   Zlatan Ibrahimović   88"
      ]
     },
     "execution_count": 307,
     "metadata": {},
     "output_type": "execute_result"
    }
   ],
   "source": [
    "fm_df.sort_values(\"tpr\",ascending=False)[[\"Name\",\"tpr\"]].head(n=10)"
   ]
  },
  {
   "cell_type": "code",
   "execution_count": 308,
   "id": "37313773-051e-434e-b1aa-116a7d0241b3",
   "metadata": {
    "scrolled": true
   },
   "outputs": [
    {
     "data": {
      "text/plain": [
       "{'UID': 7458500,\n",
       " 'Inf': '',\n",
       " 'Name': 'Lionel Messi',\n",
       " 'DoB': '1987-06-24',\n",
       " 'Nat': 'ARG',\n",
       " 'Division': 'Ligue 1 Uber Eats',\n",
       " 'Club': 'Paris Saint-Germain',\n",
       " 'Based': 'France (Ligue 1 Uber Eats)',\n",
       " 'Preferred Foot': 'Left',\n",
       " 'Right Foot': 'Fairly Strong',\n",
       " 'Left Foot': 'Very Strong',\n",
       " 'Position': 'AMR,AMC,ST',\n",
       " 'Height': '169',\n",
       " 'Weight': '67 kg',\n",
       " 'Age': 35,\n",
       " 'Transfer Value': '€50M - €76M',\n",
       " 'Wage': '€3,366,000 p/m',\n",
       " 'AT Apps': '578',\n",
       " 'AT Gls': '491',\n",
       " 'Team': 'Main',\n",
       " 'Caps': 162,\n",
       " 'Yth Apps': '18',\n",
       " 'Style': 'Creative',\n",
       " 'Rc Injury': '-',\n",
       " 'Best Role': 'Attacking Midfielder',\n",
       " 'Best Duty': 'Attack',\n",
       " 'Best_Pos': 'AMC',\n",
       " 'Acceleration': 74.25,\n",
       " 'Aerial Reach': 9.9,\n",
       " 'Aggression': 34.65,\n",
       " 'Agility': 74.25,\n",
       " 'Anticipation': 84.15,\n",
       " 'Balance': 89.10000000000001,\n",
       " 'Bravery': 49.5,\n",
       " 'Command of Area': 9.9,\n",
       " 'Communication': 4.95,\n",
       " 'Composure': 79.2,\n",
       " 'Concentration': 54.45,\n",
       " 'Corners': 74.25,\n",
       " 'Crossing': 74.25,\n",
       " 'Decisions': 89.10000000000001,\n",
       " 'Determination': 99.0,\n",
       " 'Dribbling': 99.0,\n",
       " 'Eccentricity': 4.95,\n",
       " 'Finishing': 84.15,\n",
       " 'First Touch': 94.05,\n",
       " 'Flair': 99.0,\n",
       " 'Free Kick Taking': 89.10000000000001,\n",
       " 'Handling': 4.95,\n",
       " 'Heading': 49.5,\n",
       " 'Jumping Reach': 29.700000000000003,\n",
       " 'Kicking': 9.9,\n",
       " 'Leadership': 69.3,\n",
       " 'Long Shots': 79.2,\n",
       " 'Long Throws': 19.8,\n",
       " 'Marking': 19.8,\n",
       " 'Fitness': 69.3,\n",
       " 'Off the Ball': 64.35000000000001,\n",
       " 'One vs One': 14.850000000000001,\n",
       " 'Pace': 74.25,\n",
       " 'Passing': 94.05,\n",
       " 'Penalty Taking': 84.15,\n",
       " 'Positioning': 24.75,\n",
       " 'Punching': 19.8,\n",
       " 'Reflexes': 4.95,\n",
       " 'Rushing Out': 14.850000000000001,\n",
       " 'Stamina': 59.400000000000006,\n",
       " 'Strength': 44.550000000000004,\n",
       " 'Tackling': 34.65,\n",
       " 'Teamwork': 59.400000000000006,\n",
       " 'Technique': 99.0,\n",
       " 'Throwing': 9.9,\n",
       " 'Vision': 99.0,\n",
       " 'Work Rate': 34.65,\n",
       " 'Club_id': 7994,\n",
       " 'League_id': 773,\n",
       " 'Pos_Rank': 9,\n",
       " 'gk': 26,\n",
       " 'def': 50,\n",
       " 'pas': 93,\n",
       " 'dri': 85,\n",
       " 'fin': 84,\n",
       " 'sta': 59,\n",
       " 'str': 44,\n",
       " 'hed': 49,\n",
       " 'men': 61,\n",
       " 'iq': 93,\n",
       " 'tpr': 95,\n",
       " 'tpr_DM': 6,\n",
       " 'tpr_AML': 20,\n",
       " 'tpr_AMC': 85,\n",
       " 'tpr_GK': 0,\n",
       " 'tpr_MC': 76,\n",
       " 'tpr_DC': 1,\n",
       " 'tpr_AMR': 79,\n",
       " 'tpr_DL': 2,\n",
       " 'tpr_DR': 1,\n",
       " 'tpr_ST': 73,\n",
       " 'tpr_ML': 12,\n",
       " 'tpr_MR': 68,\n",
       " 'tpr_WBR': 2,\n",
       " 'tpr_WBL': 2}"
      ]
     },
     "execution_count": 308,
     "metadata": {},
     "output_type": "execute_result"
    }
   ],
   "source": [
    "fm_df.query(\"Name in 'Lionel Messi'\").iloc[0].to_dict()"
   ]
  },
  {
   "cell_type": "markdown",
   "id": "83aeb66d-e0e7-470b-a214-b607ffa20f4d",
   "metadata": {},
   "source": [
    "# Matching fbref Player Names with FM Player Names"
   ]
  },
  {
   "cell_type": "code",
   "execution_count": 309,
   "id": "9a6c181a-703e-461b-a01c-054831813730",
   "metadata": {},
   "outputs": [],
   "source": [
    "from rapidfuzz import process\n",
    "def find_best_match(name, choices):\n",
    "    return process.extractOne(name, choices)"
   ]
  },
  {
   "cell_type": "code",
   "execution_count": 310,
   "id": "3fa1574f-16ac-4256-87d0-45e91bd89b95",
   "metadata": {},
   "outputs": [],
   "source": [
    "top5_leagues = ['Ligue 1 Uber Eats', 'English Premier Division', 'Italian Serie A',\n",
    "       'Spanish First Division', 'Bundesliga'] "
   ]
  },
  {
   "cell_type": "code",
   "execution_count": 311,
   "id": "73446501-250f-4257-8f04-daca05354692",
   "metadata": {},
   "outputs": [],
   "source": [
    "url = \"https://fbref.com/en/comps/Big5/2022-2023/passing/players/2022-2023-Big-5-European-Leagues-Stats\""
   ]
  },
  {
   "cell_type": "code",
   "execution_count": 312,
   "id": "907848f5-0b48-41b1-a4fb-06d603ac60a1",
   "metadata": {},
   "outputs": [],
   "source": [
    "data = pd.read_html(url)"
   ]
  },
  {
   "cell_type": "code",
   "execution_count": 313,
   "id": "07d2bc93-30cd-40c6-9304-0f46fe7d9b66",
   "metadata": {},
   "outputs": [],
   "source": [
    "data[0].columns = data[0].columns.get_level_values(1)"
   ]
  },
  {
   "cell_type": "code",
   "execution_count": 314,
   "id": "c197f1e6-8b7b-47ff-926b-5a1fe4cb153f",
   "metadata": {},
   "outputs": [
    {
     "data": {
      "text/html": [
       "<div>\n",
       "<style scoped>\n",
       "    .dataframe tbody tr th:only-of-type {\n",
       "        vertical-align: middle;\n",
       "    }\n",
       "\n",
       "    .dataframe tbody tr th {\n",
       "        vertical-align: top;\n",
       "    }\n",
       "\n",
       "    .dataframe thead th {\n",
       "        text-align: right;\n",
       "    }\n",
       "</style>\n",
       "<table border=\"1\" class=\"dataframe\">\n",
       "  <thead>\n",
       "    <tr style=\"text-align: right;\">\n",
       "      <th></th>\n",
       "      <th>Rk</th>\n",
       "      <th>Player</th>\n",
       "      <th>Nation</th>\n",
       "      <th>Pos</th>\n",
       "      <th>Squad</th>\n",
       "      <th>Comp</th>\n",
       "      <th>Age</th>\n",
       "      <th>Born</th>\n",
       "      <th>90s</th>\n",
       "      <th>Cmp</th>\n",
       "      <th>...</th>\n",
       "      <th>Ast</th>\n",
       "      <th>xAG</th>\n",
       "      <th>xA</th>\n",
       "      <th>A-xAG</th>\n",
       "      <th>KP</th>\n",
       "      <th>1/3</th>\n",
       "      <th>PPA</th>\n",
       "      <th>CrsPA</th>\n",
       "      <th>PrgP</th>\n",
       "      <th>Matches</th>\n",
       "    </tr>\n",
       "  </thead>\n",
       "  <tbody>\n",
       "    <tr>\n",
       "      <th>0</th>\n",
       "      <td>1</td>\n",
       "      <td>Brenden Aaronson</td>\n",
       "      <td>us USA</td>\n",
       "      <td>MF,FW</td>\n",
       "      <td>Leeds United</td>\n",
       "      <td>eng Premier League</td>\n",
       "      <td>21</td>\n",
       "      <td>2000</td>\n",
       "      <td>26.4</td>\n",
       "      <td>592</td>\n",
       "      <td>...</td>\n",
       "      <td>3</td>\n",
       "      <td>4.2</td>\n",
       "      <td>2.6</td>\n",
       "      <td>-1.2</td>\n",
       "      <td>46</td>\n",
       "      <td>47</td>\n",
       "      <td>16</td>\n",
       "      <td>4</td>\n",
       "      <td>86</td>\n",
       "      <td>Matches</td>\n",
       "    </tr>\n",
       "    <tr>\n",
       "      <th>1</th>\n",
       "      <td>2</td>\n",
       "      <td>Paxten Aaronson</td>\n",
       "      <td>us USA</td>\n",
       "      <td>MF,DF</td>\n",
       "      <td>Eint Frankfurt</td>\n",
       "      <td>de Bundesliga</td>\n",
       "      <td>18</td>\n",
       "      <td>2003</td>\n",
       "      <td>1.9</td>\n",
       "      <td>51</td>\n",
       "      <td>...</td>\n",
       "      <td>0</td>\n",
       "      <td>0.0</td>\n",
       "      <td>0.1</td>\n",
       "      <td>0.0</td>\n",
       "      <td>1</td>\n",
       "      <td>3</td>\n",
       "      <td>0</td>\n",
       "      <td>0</td>\n",
       "      <td>6</td>\n",
       "      <td>Matches</td>\n",
       "    </tr>\n",
       "    <tr>\n",
       "      <th>2</th>\n",
       "      <td>3</td>\n",
       "      <td>James Abankwah</td>\n",
       "      <td>ie IRL</td>\n",
       "      <td>DF</td>\n",
       "      <td>Udinese</td>\n",
       "      <td>it Serie A</td>\n",
       "      <td>18</td>\n",
       "      <td>2004</td>\n",
       "      <td>0.7</td>\n",
       "      <td>23</td>\n",
       "      <td>...</td>\n",
       "      <td>0</td>\n",
       "      <td>0.0</td>\n",
       "      <td>0.0</td>\n",
       "      <td>0.0</td>\n",
       "      <td>0</td>\n",
       "      <td>0</td>\n",
       "      <td>0</td>\n",
       "      <td>0</td>\n",
       "      <td>0</td>\n",
       "      <td>Matches</td>\n",
       "    </tr>\n",
       "    <tr>\n",
       "      <th>3</th>\n",
       "      <td>4</td>\n",
       "      <td>George Abbott</td>\n",
       "      <td>eng ENG</td>\n",
       "      <td>MF</td>\n",
       "      <td>Tottenham</td>\n",
       "      <td>eng Premier League</td>\n",
       "      <td>16</td>\n",
       "      <td>2005</td>\n",
       "      <td>0.0</td>\n",
       "      <td>1</td>\n",
       "      <td>...</td>\n",
       "      <td>0</td>\n",
       "      <td>0.0</td>\n",
       "      <td>0.0</td>\n",
       "      <td>0.0</td>\n",
       "      <td>0</td>\n",
       "      <td>0</td>\n",
       "      <td>0</td>\n",
       "      <td>0</td>\n",
       "      <td>0</td>\n",
       "      <td>Matches</td>\n",
       "    </tr>\n",
       "    <tr>\n",
       "      <th>4</th>\n",
       "      <td>5</td>\n",
       "      <td>Yunis Abdelhamid</td>\n",
       "      <td>ma MAR</td>\n",
       "      <td>DF</td>\n",
       "      <td>Reims</td>\n",
       "      <td>fr Ligue 1</td>\n",
       "      <td>34</td>\n",
       "      <td>1987</td>\n",
       "      <td>37.0</td>\n",
       "      <td>1679</td>\n",
       "      <td>...</td>\n",
       "      <td>2</td>\n",
       "      <td>1.0</td>\n",
       "      <td>0.9</td>\n",
       "      <td>+1.0</td>\n",
       "      <td>13</td>\n",
       "      <td>155</td>\n",
       "      <td>5</td>\n",
       "      <td>0</td>\n",
       "      <td>215</td>\n",
       "      <td>Matches</td>\n",
       "    </tr>\n",
       "  </tbody>\n",
       "</table>\n",
       "<p>5 rows × 33 columns</p>\n",
       "</div>"
      ],
      "text/plain": [
       "  Rk            Player   Nation    Pos           Squad                Comp  \\\n",
       "0  1  Brenden Aaronson   us USA  MF,FW    Leeds United  eng Premier League   \n",
       "1  2   Paxten Aaronson   us USA  MF,DF  Eint Frankfurt       de Bundesliga   \n",
       "2  3    James Abankwah   ie IRL     DF         Udinese          it Serie A   \n",
       "3  4     George Abbott  eng ENG     MF       Tottenham  eng Premier League   \n",
       "4  5  Yunis Abdelhamid   ma MAR     DF           Reims          fr Ligue 1   \n",
       "\n",
       "  Age  Born   90s   Cmp  ... Ast  xAG   xA A-xAG  KP  1/3 PPA CrsPA PrgP  \\\n",
       "0  21  2000  26.4   592  ...   3  4.2  2.6  -1.2  46   47  16     4   86   \n",
       "1  18  2003   1.9    51  ...   0  0.0  0.1   0.0   1    3   0     0    6   \n",
       "2  18  2004   0.7    23  ...   0  0.0  0.0   0.0   0    0   0     0    0   \n",
       "3  16  2005   0.0     1  ...   0  0.0  0.0   0.0   0    0   0     0    0   \n",
       "4  34  1987  37.0  1679  ...   2  1.0  0.9  +1.0  13  155   5     0  215   \n",
       "\n",
       "   Matches  \n",
       "0  Matches  \n",
       "1  Matches  \n",
       "2  Matches  \n",
       "3  Matches  \n",
       "4  Matches  \n",
       "\n",
       "[5 rows x 33 columns]"
      ]
     },
     "execution_count": 314,
     "metadata": {},
     "output_type": "execute_result"
    }
   ],
   "source": [
    "data[0].head()"
   ]
  },
  {
   "cell_type": "code",
   "execution_count": 315,
   "id": "da309924-1c20-440f-878c-121c385fc174",
   "metadata": {},
   "outputs": [],
   "source": [
    "# fm_df = pd.read_csv(\"players_db/fm23/fm23db_processed.csv\")\n",
    "fbref_players = data[0][\"Player\"].tolist()\n",
    "fm_players = fm_df[fm_df.Division.isin(top5_leagues)][\"Name\"].tolist()"
   ]
  },
  {
   "cell_type": "code",
   "execution_count": 316,
   "id": "4a826542-1080-43c5-986d-bd750be29245",
   "metadata": {},
   "outputs": [],
   "source": [
    "for player_name in fm_players:\n",
    "    answer, score, other = find_best_match(player_name, fbref_players)\n",
    "    where_id = fm_df[fm_df.Name==player_name].iloc[0].name\n",
    "    fm_df.at[where_id, 'fbref_player_name'] = answer"
   ]
  },
  {
   "cell_type": "markdown",
   "id": "51f43665-a507-48be-bd70-9f93128e336a",
   "metadata": {},
   "source": [
    "# CSV EXPORT"
   ]
  },
  {
   "cell_type": "code",
   "execution_count": 317,
   "id": "a23d6578-54c8-405b-9ea8-8de40220a239",
   "metadata": {},
   "outputs": [],
   "source": [
    "fm_df.to_csv(\"players_db/fm23/fm23db_processed.csv\", index=False)"
   ]
  }
 ],
 "metadata": {
  "kernelspec": {
   "display_name": "Python 3 (ipykernel)",
   "language": "python",
   "name": "python3"
  },
  "language_info": {
   "codemirror_mode": {
    "name": "ipython",
    "version": 3
   },
   "file_extension": ".py",
   "mimetype": "text/x-python",
   "name": "python",
   "nbconvert_exporter": "python",
   "pygments_lexer": "ipython3",
   "version": "3.11.7"
  }
 },
 "nbformat": 4,
 "nbformat_minor": 5
}
